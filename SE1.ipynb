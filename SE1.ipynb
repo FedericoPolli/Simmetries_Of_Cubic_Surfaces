{
 "cells": [
  {
   "cell_type": "code",
   "execution_count": 77,
   "id": "58320e02-53d1-4aa8-9435-b12c34877bd1",
   "metadata": {},
   "outputs": [],
   "source": [
    "load('Imports/Utility.sage', 'Imports/Point.sage', 'Imports/Line.sage', 'Imports/Tritangent_plane.sage', 'Imports/Group.sage', 'Imports/Cubic.sage')\n",
    "import multiprocessing as mp\n",
    "import pickle"
   ]
  },
  {
   "cell_type": "code",
   "execution_count": 51,
   "id": "5ed78749-98c1-4b4b-93a0-936bbe48e5c3",
   "metadata": {},
   "outputs": [],
   "source": [
    "P.<x,y,z,t,b,c,d,e,f,l,m> = PolynomialRing(QQ)"
   ]
  },
  {
   "cell_type": "code",
   "execution_count": 52,
   "id": "3e2fe0b5-1ebd-4851-a5ef-2dd9d17b7dc6",
   "metadata": {},
   "outputs": [],
   "source": [
    "cubic_new = e*f*(2*x^2*y-2*x*y^2+x*z^2-x*z*t-y*t^2+y*z*t)+b*c*(x-t)*(x*z+y*t)+c*c*(z+t)*(y*t-x*z)+d*c*(y-z)*(x*z+y*t)+(e+f)*c*(x-y)*(y*t-x*z)"
   ]
  },
  {
   "cell_type": "code",
   "execution_count": 53,
   "id": "a41eb624-67cc-4e8e-a0da-c788de4b2d50",
   "metadata": {},
   "outputs": [],
   "source": [
    "sing_cubics = (-1) * (-c + f) * (-c + e) * c * (c + f) * (c + e) * (-e + f)^2 * (-c*d + c*f + e*f) * (-c*d + c*e + e*f) * (-c^2 - c*d + e*f) * (b*c - c*f + e*f) * (b*c - c*e + e*f) * (b*c - c*d + 2*e*f) * (b*c - c^2 + e*f) * (b*c^2 + c^2*d + b*c*f - 2*c^2*f - c*d*f + 2*e*f^2) * (b*c^2 + c^2*d + b*c*e - 2*c^2*e - c*d*e + 2*e^2*f) * (-b*c^3 - 2*b*c^2*d + c^3*d + b*c^2*e + c^2*d*e + b*c^2*f + c^2*d*f + 3*b*c*e*f - 4*c^2*e*f - 3*c*d*e*f + 4*e^2*f^2)"
   ]
  },
  {
   "cell_type": "code",
   "execution_count": 54,
   "id": "38181a6a-092f-4055-83a6-ed36cc76404a",
   "metadata": {},
   "outputs": [],
   "source": [
    "line = Line([y, z])"
   ]
  },
  {
   "cell_type": "code",
   "execution_count": 55,
   "id": "2fa2d420-3824-470c-ad8e-25435531538b",
   "metadata": {},
   "outputs": [],
   "source": [
    "eqn_SE1 = P(cubic_new.subs({b:-(c*c+e*f)/c }) )"
   ]
  },
  {
   "cell_type": "code",
   "execution_count": 56,
   "id": "5cc4b2fe-9082-4d18-9756-acfb572b7bbe",
   "metadata": {},
   "outputs": [],
   "source": [
    "sing_cubics_SE1 = P(sing_cubics.subs({b:-(c*c+e*f)/c }))"
   ]
  },
  {
   "cell_type": "code",
   "execution_count": 57,
   "id": "be0c1a4d-7f9c-4ded-ada9-44749d011496",
   "metadata": {},
   "outputs": [],
   "source": [
    "SE1 = Cubic(eqn_SE1, line, sing_cubics_SE1.factor())"
   ]
  },
  {
   "cell_type": "code",
   "execution_count": 58,
   "id": "d36beddd-547e-4c4a-a3bc-2e2ad5b7beac",
   "metadata": {},
   "outputs": [
    {
     "data": {
      "text/plain": [
       "[(0, 0, 0, 1)]"
      ]
     },
     "execution_count": 58,
     "metadata": {},
     "output_type": "execute_result"
    }
   ],
   "source": [
    "SE1.eckardt_points"
   ]
  },
  {
   "cell_type": "code",
   "execution_count": 59,
   "id": "6c09bf33-861e-4f08-8a01-8f1cd46f35c2",
   "metadata": {},
   "outputs": [
    {
     "name": "stdout",
     "output_type": "stream",
     "text": [
      "CPU times: user 1.56 s, sys: 181 ms, total: 1.74 s\n",
      "Wall time: 10.5 s\n"
     ]
    }
   ],
   "source": [
    "%time adm_SE1 = SE1.find_admissible_projectivities()"
   ]
  },
  {
   "cell_type": "code",
   "execution_count": 60,
   "id": "20fadd59-de6b-4d4a-9dbf-39de94506580",
   "metadata": {},
   "outputs": [
    {
     "data": {
      "text/plain": [
       "576"
      ]
     },
     "execution_count": 60,
     "metadata": {},
     "output_type": "execute_result"
    }
   ],
   "source": [
    "len(adm_SE1)"
   ]
  },
  {
   "cell_type": "code",
   "execution_count": 61,
   "id": "39c972e1-420f-4a36-b908-f5ec1b6ddec8",
   "metadata": {},
   "outputs": [
    {
     "name": "stdout",
     "output_type": "stream",
     "text": [
      "CPU times: user 1.03 s, sys: 177 ms, total: 1.21 s\n",
      "Wall time: 4.66 s\n"
     ]
    }
   ],
   "source": [
    "%time simm_SE1 = SE1.find_simmetries(adm_SE1)"
   ]
  },
  {
   "cell_type": "code",
   "execution_count": 62,
   "id": "b2ad2377-f8b4-47e5-a65f-3f8b3834ca52",
   "metadata": {},
   "outputs": [
    {
     "data": {
      "text/plain": [
       "2"
      ]
     },
     "execution_count": 62,
     "metadata": {},
     "output_type": "execute_result"
    }
   ],
   "source": [
    "len(simm_SE1)"
   ]
  },
  {
   "cell_type": "code",
   "execution_count": 63,
   "id": "e5d6e171-b5b9-4f12-b1eb-2fbe41a76fc6",
   "metadata": {},
   "outputs": [],
   "source": [
    "G_SE1 = Group(simm_SE1)"
   ]
  },
  {
   "cell_type": "code",
   "execution_count": 64,
   "id": "231001ac-f2a7-4f48-bacd-d0bf507887a2",
   "metadata": {},
   "outputs": [
    {
     "data": {
      "text/plain": [
       "True"
      ]
     },
     "execution_count": 64,
     "metadata": {},
     "output_type": "execute_result"
    }
   ],
   "source": [
    "G_SE1.is_group()"
   ]
  },
  {
   "cell_type": "code",
   "execution_count": 65,
   "id": "7a5ea253-f57e-4aa6-b674-70234f44eb0a",
   "metadata": {},
   "outputs": [
    {
     "data": {
      "text/plain": [
       "2"
      ]
     },
     "execution_count": 65,
     "metadata": {},
     "output_type": "execute_result"
    }
   ],
   "source": [
    "G_SE1.get_order()"
   ]
  },
  {
   "cell_type": "code",
   "execution_count": 66,
   "id": "7222ce1e-4347-4977-8f8d-ce57e5213d68",
   "metadata": {},
   "outputs": [
    {
     "data": {
      "text/plain": [
       "True"
      ]
     },
     "execution_count": 66,
     "metadata": {},
     "output_type": "execute_result"
    }
   ],
   "source": [
    "G_SE1.is_abelian()"
   ]
  },
  {
   "cell_type": "code",
   "execution_count": 67,
   "id": "24e5d291-319e-441d-803e-3b5868525e7a",
   "metadata": {},
   "outputs": [
    {
     "data": {
      "text/plain": [
       "[1, 2]"
      ]
     },
     "execution_count": 67,
     "metadata": {},
     "output_type": "execute_result"
    }
   ],
   "source": [
    "G_SE1.get_divisors_of_order()"
   ]
  },
  {
   "cell_type": "code",
   "execution_count": 68,
   "id": "58e78a81-5471-4152-a7ed-201f39b122b7",
   "metadata": {},
   "outputs": [
    {
     "data": {
      "text/plain": [
       "[1, 2]"
      ]
     },
     "execution_count": 68,
     "metadata": {},
     "output_type": "execute_result"
    }
   ],
   "source": [
    "G_SE1.get_order_of_elements()"
   ]
  },
  {
   "cell_type": "code",
   "execution_count": 69,
   "id": "514cf592-923c-4d6f-b549-3bd5a5fa582b",
   "metadata": {},
   "outputs": [
    {
     "data": {
      "text/plain": [
       "[(0, 0, 0, 1), (0, 0, 0, 1)]"
      ]
     },
     "execution_count": 69,
     "metadata": {},
     "output_type": "execute_result"
    }
   ],
   "source": [
    "G_SE1.apply_to(SE1.eckardt_points[0])"
   ]
  },
  {
   "cell_type": "code",
   "execution_count": 110,
   "id": "a574e720-87a3-4681-80bc-e10115f3e70b",
   "metadata": {},
   "outputs": [
    {
     "data": {
      "text/plain": [
       "95"
      ]
     },
     "execution_count": 110,
     "metadata": {},
     "output_type": "execute_result"
    }
   ],
   "source": [
    "SE1.find_admissible_permutations()[1].index(['E1', 'G4', 'E3', 'G6', 'F24'])"
   ]
  },
  {
   "cell_type": "code",
   "execution_count": 232,
   "id": "9d0f2ad3-e3d9-4f80-b58c-79af56c1ffc2",
   "metadata": {},
   "outputs": [],
   "source": [
    "def find_conditions_for_subfamilies(cubic, sing_cubics, projectivities, simmetries):\n",
    "    mon = ((x+y+z+t)^3).monomials()\n",
    "    conditions = []\n",
    "    sing_cubics_factored = sing_cubics.factor()\n",
    "    Eck = lcm([el.conditions for el in cubic.tritangent_planes if el.conditions != 0])\n",
    "    for M in [proj for proj in projectivities if proj not in simmetries]:\n",
    "        print(projectivities.index(M))\n",
    "        if projectivities.index(M) == 39:\n",
    "            continue\n",
    "        sost = change_coord(M)\n",
    "        new_cubic = remove_sing_factors(cubic.eqn.subs(sost), sing_cubics_factored)    \n",
    "        minor = matrix([[new_cubic.coefficient(mn) for mn in mon], [cubic.eqn.coefficient(mn) for mn in mon]]).minors(2)\n",
    "        minor = [remove_sing_factors(el, sing_cubics_factored) for el in minor if el !=0]\n",
    "        ideale = cubic.P.ideal(minor)\n",
    "        del_d_ideale = ideale.elimination_ideal([c])\n",
    "        prim_deco = del_d_ideale.radical().primary_decomposition()\n",
    "        for ideal in prim_deco:\n",
    "            prim_deco2 = (ideale + ideal).primary_decomposition()\n",
    "            for ideal2 in prim_deco2:\n",
    "                gener = tuple([remove_sing_factors(gen, sing_cubics_factored) for gen in ideal2.gens()])\n",
    "                if 1 not in gener:\n",
    "                    flag = True\n",
    "                    for cond in gener:\n",
    "                        if cond.divides(Eck):\n",
    "                            flag = False\n",
    "                            break\n",
    "                    if flag is True:\n",
    "                        conditions.append(gener)                        \n",
    "    return list(set(conditions))"
   ]
  },
  {
   "cell_type": "code",
   "execution_count": 233,
   "id": "1999752b-1a4a-45ec-9b57-6bf95df2adbb",
   "metadata": {},
   "outputs": [],
   "source": [
    "M = adm_SE1[39]"
   ]
  },
  {
   "cell_type": "code",
   "execution_count": 234,
   "id": "b644f9f8-9c96-4fcd-9aa5-8d602ce42008",
   "metadata": {},
   "outputs": [
    {
     "name": "stdout",
     "output_type": "stream",
     "text": [
      "0\n",
      "1\n",
      "2\n",
      "3\n",
      "5\n",
      "6\n",
      "7\n",
      "8\n",
      "9\n",
      "10\n",
      "11\n",
      "12\n",
      "13\n",
      "14\n",
      "15\n",
      "16\n",
      "17\n",
      "18\n",
      "19\n",
      "20\n",
      "21\n",
      "22\n",
      "23\n",
      "24\n",
      "25\n",
      "26\n",
      "27\n",
      "28\n",
      "29\n",
      "30\n",
      "31\n",
      "32\n",
      "33\n",
      "34\n",
      "35\n",
      "36\n",
      "37\n",
      "38\n",
      "39\n",
      "40\n",
      "41\n",
      "42\n",
      "43\n",
      "44\n"
     ]
    },
    {
     "ename": "KeyboardInterrupt",
     "evalue": "",
     "output_type": "error",
     "traceback": [
      "\u001b[0;31m---------------------------------------------------------------------------\u001b[0m",
      "\u001b[0;31mKeyError\u001b[0m                                  Traceback (most recent call last)",
      "\u001b[0;32m~/anaconda3/envs/sage/lib/python3.7/site-packages/sage/misc/cachefunc.pyx\u001b[0m in \u001b[0;36msage.misc.cachefunc.CachedMethodCaller.__call__ (build/cythonized/sage/misc/cachefunc.c:10308)\u001b[0;34m()\u001b[0m\n\u001b[1;32m   1942\u001b[0m             \u001b[0;32mtry\u001b[0m\u001b[0;34m:\u001b[0m\u001b[0;34m\u001b[0m\u001b[0;34m\u001b[0m\u001b[0m\n\u001b[0;32m-> 1943\u001b[0;31m                 \u001b[0;32mreturn\u001b[0m \u001b[0mcache\u001b[0m\u001b[0;34m[\u001b[0m\u001b[0mk\u001b[0m\u001b[0;34m]\u001b[0m\u001b[0;34m\u001b[0m\u001b[0;34m\u001b[0m\u001b[0m\n\u001b[0m\u001b[1;32m   1944\u001b[0m             \u001b[0;32mexcept\u001b[0m \u001b[0mTypeError\u001b[0m\u001b[0;34m:\u001b[0m  \u001b[0;31m# k is not hashable\u001b[0m\u001b[0;34m\u001b[0m\u001b[0;34m\u001b[0m\u001b[0m\n",
      "\u001b[0;31mKeyError\u001b[0m: (('sy',), ())",
      "\nDuring handling of the above exception, another exception occurred:\n",
      "\u001b[0;31mKeyboardInterrupt\u001b[0m                         Traceback (most recent call last)",
      "\u001b[0;32m<ipython-input-234-f26c33e390b7>\u001b[0m in \u001b[0;36m<module>\u001b[0;34m\u001b[0m\n\u001b[0;32m----> 1\u001b[0;31m \u001b[0mconds\u001b[0m \u001b[0;34m=\u001b[0m \u001b[0mfind_conditions_for_subfamilies\u001b[0m\u001b[0;34m(\u001b[0m\u001b[0mSE1\u001b[0m\u001b[0;34m,\u001b[0m \u001b[0msing_cubics_SE1\u001b[0m\u001b[0;34m,\u001b[0m \u001b[0madm_SE1\u001b[0m\u001b[0;34m,\u001b[0m \u001b[0msimm_SE1\u001b[0m\u001b[0;34m)\u001b[0m\u001b[0;34m\u001b[0m\u001b[0;34m\u001b[0m\u001b[0m\n\u001b[0m",
      "\u001b[0;32m<ipython-input-232-6d5b44594c0b>\u001b[0m in \u001b[0;36mfind_conditions_for_subfamilies\u001b[0;34m(cubic, sing_cubics, projectivities, simmetries)\u001b[0m\n\u001b[1;32m     16\u001b[0m         \u001b[0mprim_deco\u001b[0m \u001b[0;34m=\u001b[0m \u001b[0mdel_d_ideale\u001b[0m\u001b[0;34m.\u001b[0m\u001b[0mradical\u001b[0m\u001b[0;34m(\u001b[0m\u001b[0;34m)\u001b[0m\u001b[0;34m.\u001b[0m\u001b[0mprimary_decomposition\u001b[0m\u001b[0;34m(\u001b[0m\u001b[0;34m)\u001b[0m\u001b[0;34m\u001b[0m\u001b[0;34m\u001b[0m\u001b[0m\n\u001b[1;32m     17\u001b[0m         \u001b[0;32mfor\u001b[0m \u001b[0mideal\u001b[0m \u001b[0;32min\u001b[0m \u001b[0mprim_deco\u001b[0m\u001b[0;34m:\u001b[0m\u001b[0;34m\u001b[0m\u001b[0;34m\u001b[0m\u001b[0m\n\u001b[0;32m---> 18\u001b[0;31m             \u001b[0mprim_deco2\u001b[0m \u001b[0;34m=\u001b[0m \u001b[0;34m(\u001b[0m\u001b[0mideale\u001b[0m \u001b[0;34m+\u001b[0m \u001b[0mideal\u001b[0m\u001b[0;34m)\u001b[0m\u001b[0;34m.\u001b[0m\u001b[0mprimary_decomposition\u001b[0m\u001b[0;34m(\u001b[0m\u001b[0;34m)\u001b[0m\u001b[0;34m\u001b[0m\u001b[0;34m\u001b[0m\u001b[0m\n\u001b[0m\u001b[1;32m     19\u001b[0m             \u001b[0;32mfor\u001b[0m \u001b[0mideal2\u001b[0m \u001b[0;32min\u001b[0m \u001b[0mprim_deco2\u001b[0m\u001b[0;34m:\u001b[0m\u001b[0;34m\u001b[0m\u001b[0;34m\u001b[0m\u001b[0m\n\u001b[1;32m     20\u001b[0m                 \u001b[0mgener\u001b[0m \u001b[0;34m=\u001b[0m \u001b[0mtuple\u001b[0m\u001b[0;34m(\u001b[0m\u001b[0;34m[\u001b[0m\u001b[0mremove_sing_factors\u001b[0m\u001b[0;34m(\u001b[0m\u001b[0mgen\u001b[0m\u001b[0;34m,\u001b[0m \u001b[0msing_cubics_factored\u001b[0m\u001b[0;34m)\u001b[0m \u001b[0;32mfor\u001b[0m \u001b[0mgen\u001b[0m \u001b[0;32min\u001b[0m \u001b[0mideal2\u001b[0m\u001b[0;34m.\u001b[0m\u001b[0mgens\u001b[0m\u001b[0;34m(\u001b[0m\u001b[0;34m)\u001b[0m\u001b[0;34m]\u001b[0m\u001b[0;34m)\u001b[0m\u001b[0;34m\u001b[0m\u001b[0;34m\u001b[0m\u001b[0m\n",
      "\u001b[0;32m~/anaconda3/envs/sage/lib/python3.7/site-packages/sage/rings/polynomial/multi_polynomial_ideal.py\u001b[0m in \u001b[0;36m__call__\u001b[0;34m(self, *args, **kwds)\u001b[0m\n\u001b[1;32m    294\u001b[0m         \u001b[0;32mif\u001b[0m \u001b[0;32mnot\u001b[0m \u001b[0mR\u001b[0m\u001b[0;34m.\u001b[0m\u001b[0mbase_ring\u001b[0m\u001b[0;34m(\u001b[0m\u001b[0;34m)\u001b[0m\u001b[0;34m.\u001b[0m\u001b[0mis_field\u001b[0m\u001b[0;34m(\u001b[0m\u001b[0;34m)\u001b[0m\u001b[0;34m:\u001b[0m\u001b[0;34m\u001b[0m\u001b[0;34m\u001b[0m\u001b[0m\n\u001b[1;32m    295\u001b[0m             \u001b[0;32mraise\u001b[0m \u001b[0mValueError\u001b[0m\u001b[0;34m(\u001b[0m\u001b[0;34m\"Coefficient ring must be a field for function '%s'.\"\u001b[0m\u001b[0;34m%\u001b[0m\u001b[0;34m(\u001b[0m\u001b[0mself\u001b[0m\u001b[0;34m.\u001b[0m\u001b[0mf\u001b[0m\u001b[0;34m.\u001b[0m\u001b[0m__name__\u001b[0m\u001b[0;34m)\u001b[0m\u001b[0;34m)\u001b[0m\u001b[0;34m\u001b[0m\u001b[0;34m\u001b[0m\u001b[0m\n\u001b[0;32m--> 296\u001b[0;31m         \u001b[0;32mreturn\u001b[0m \u001b[0mself\u001b[0m\u001b[0;34m.\u001b[0m\u001b[0mf\u001b[0m\u001b[0;34m(\u001b[0m\u001b[0mself\u001b[0m\u001b[0;34m.\u001b[0m\u001b[0m_instance\u001b[0m\u001b[0;34m,\u001b[0m \u001b[0;34m*\u001b[0m\u001b[0margs\u001b[0m\u001b[0;34m,\u001b[0m \u001b[0;34m**\u001b[0m\u001b[0mkwds\u001b[0m\u001b[0;34m)\u001b[0m\u001b[0;34m\u001b[0m\u001b[0;34m\u001b[0m\u001b[0m\n\u001b[0m\u001b[1;32m    297\u001b[0m \u001b[0;34m\u001b[0m\u001b[0m\n\u001b[1;32m    298\u001b[0m \u001b[0mrequire_field\u001b[0m \u001b[0;34m=\u001b[0m \u001b[0mRequireField\u001b[0m\u001b[0;34m\u001b[0m\u001b[0;34m\u001b[0m\u001b[0m\n",
      "\u001b[0;32m~/anaconda3/envs/sage/lib/python3.7/site-packages/sage/rings/polynomial/multi_polynomial_ideal.py\u001b[0m in \u001b[0;36mprimary_decomposition\u001b[0;34m(self, algorithm)\u001b[0m\n\u001b[1;32m    843\u001b[0m           \u001b[0mYork\u001b[0m \u001b[0;36m1993.\u001b[0m\u001b[0;34m\u001b[0m\u001b[0;34m\u001b[0m\u001b[0m\n\u001b[1;32m    844\u001b[0m         \"\"\"\n\u001b[0;32m--> 845\u001b[0;31m         \u001b[0;32mreturn\u001b[0m \u001b[0;34m[\u001b[0m\u001b[0mI\u001b[0m \u001b[0;32mfor\u001b[0m \u001b[0mI\u001b[0m\u001b[0;34m,\u001b[0m \u001b[0m_\u001b[0m \u001b[0;32min\u001b[0m \u001b[0mself\u001b[0m\u001b[0;34m.\u001b[0m\u001b[0mcomplete_primary_decomposition\u001b[0m\u001b[0;34m(\u001b[0m\u001b[0malgorithm\u001b[0m\u001b[0;34m)\u001b[0m\u001b[0;34m]\u001b[0m\u001b[0;34m\u001b[0m\u001b[0;34m\u001b[0m\u001b[0m\n\u001b[0m\u001b[1;32m    846\u001b[0m \u001b[0;34m\u001b[0m\u001b[0m\n\u001b[1;32m    847\u001b[0m     \u001b[0;34m@\u001b[0m\u001b[0mrequire_field\u001b[0m\u001b[0;34m\u001b[0m\u001b[0;34m\u001b[0m\u001b[0m\n",
      "\u001b[0;32m~/anaconda3/envs/sage/lib/python3.7/site-packages/sage/rings/polynomial/multi_polynomial_ideal.py\u001b[0m in \u001b[0;36m__call__\u001b[0;34m(self, *args, **kwds)\u001b[0m\n\u001b[1;32m    294\u001b[0m         \u001b[0;32mif\u001b[0m \u001b[0;32mnot\u001b[0m \u001b[0mR\u001b[0m\u001b[0;34m.\u001b[0m\u001b[0mbase_ring\u001b[0m\u001b[0;34m(\u001b[0m\u001b[0;34m)\u001b[0m\u001b[0;34m.\u001b[0m\u001b[0mis_field\u001b[0m\u001b[0;34m(\u001b[0m\u001b[0;34m)\u001b[0m\u001b[0;34m:\u001b[0m\u001b[0;34m\u001b[0m\u001b[0;34m\u001b[0m\u001b[0m\n\u001b[1;32m    295\u001b[0m             \u001b[0;32mraise\u001b[0m \u001b[0mValueError\u001b[0m\u001b[0;34m(\u001b[0m\u001b[0;34m\"Coefficient ring must be a field for function '%s'.\"\u001b[0m\u001b[0;34m%\u001b[0m\u001b[0;34m(\u001b[0m\u001b[0mself\u001b[0m\u001b[0;34m.\u001b[0m\u001b[0mf\u001b[0m\u001b[0;34m.\u001b[0m\u001b[0m__name__\u001b[0m\u001b[0;34m)\u001b[0m\u001b[0;34m)\u001b[0m\u001b[0;34m\u001b[0m\u001b[0;34m\u001b[0m\u001b[0m\n\u001b[0;32m--> 296\u001b[0;31m         \u001b[0;32mreturn\u001b[0m \u001b[0mself\u001b[0m\u001b[0;34m.\u001b[0m\u001b[0mf\u001b[0m\u001b[0;34m(\u001b[0m\u001b[0mself\u001b[0m\u001b[0;34m.\u001b[0m\u001b[0m_instance\u001b[0m\u001b[0;34m,\u001b[0m \u001b[0;34m*\u001b[0m\u001b[0margs\u001b[0m\u001b[0;34m,\u001b[0m \u001b[0;34m**\u001b[0m\u001b[0mkwds\u001b[0m\u001b[0;34m)\u001b[0m\u001b[0;34m\u001b[0m\u001b[0;34m\u001b[0m\u001b[0m\n\u001b[0m\u001b[1;32m    297\u001b[0m \u001b[0;34m\u001b[0m\u001b[0m\n\u001b[1;32m    298\u001b[0m \u001b[0mrequire_field\u001b[0m \u001b[0;34m=\u001b[0m \u001b[0mRequireField\u001b[0m\u001b[0;34m\u001b[0m\u001b[0;34m\u001b[0m\u001b[0m\n",
      "\u001b[0;32m~/anaconda3/envs/sage/lib/python3.7/site-packages/sage/misc/cachefunc.pyx\u001b[0m in \u001b[0;36msage.misc.cachefunc.CachedMethod.__call__ (build/cythonized/sage/misc/cachefunc.c:14075)\u001b[0;34m()\u001b[0m\n\u001b[1;32m   2726\u001b[0m             \u001b[0;32mTrue\u001b[0m\u001b[0;34m\u001b[0m\u001b[0;34m\u001b[0m\u001b[0m\n\u001b[1;32m   2727\u001b[0m         \"\"\"\n\u001b[0;32m-> 2728\u001b[0;31m         \u001b[0;32mreturn\u001b[0m \u001b[0mself\u001b[0m\u001b[0;34m.\u001b[0m\u001b[0m__get__\u001b[0m\u001b[0;34m(\u001b[0m\u001b[0minst\u001b[0m\u001b[0;34m)\u001b[0m\u001b[0;34m(\u001b[0m\u001b[0;34m*\u001b[0m\u001b[0margs\u001b[0m\u001b[0;34m,\u001b[0m \u001b[0;34m**\u001b[0m\u001b[0mkwds\u001b[0m\u001b[0;34m)\u001b[0m\u001b[0;34m\u001b[0m\u001b[0;34m\u001b[0m\u001b[0m\n\u001b[0m\u001b[1;32m   2729\u001b[0m \u001b[0;34m\u001b[0m\u001b[0m\n\u001b[1;32m   2730\u001b[0m     \u001b[0mcpdef\u001b[0m \u001b[0m_get_instance_cache\u001b[0m\u001b[0;34m(\u001b[0m\u001b[0mself\u001b[0m\u001b[0;34m,\u001b[0m \u001b[0minst\u001b[0m\u001b[0;34m)\u001b[0m\u001b[0;34m:\u001b[0m\u001b[0;34m\u001b[0m\u001b[0;34m\u001b[0m\u001b[0m\n",
      "\u001b[0;32m~/anaconda3/envs/sage/lib/python3.7/site-packages/sage/misc/cachefunc.pyx\u001b[0m in \u001b[0;36msage.misc.cachefunc.CachedMethodCaller.__call__ (build/cythonized/sage/misc/cachefunc.c:10444)\u001b[0;34m()\u001b[0m\n\u001b[1;32m   1946\u001b[0m                 \u001b[0;32mreturn\u001b[0m \u001b[0mcache\u001b[0m\u001b[0;34m[\u001b[0m\u001b[0mk\u001b[0m\u001b[0;34m]\u001b[0m\u001b[0;34m\u001b[0m\u001b[0;34m\u001b[0m\u001b[0m\n\u001b[1;32m   1947\u001b[0m         \u001b[0;32mexcept\u001b[0m \u001b[0mKeyError\u001b[0m\u001b[0;34m:\u001b[0m\u001b[0;34m\u001b[0m\u001b[0;34m\u001b[0m\u001b[0m\n\u001b[0;32m-> 1948\u001b[0;31m             \u001b[0mw\u001b[0m \u001b[0;34m=\u001b[0m \u001b[0mself\u001b[0m\u001b[0;34m.\u001b[0m\u001b[0m_instance_call\u001b[0m\u001b[0;34m(\u001b[0m\u001b[0;34m*\u001b[0m\u001b[0margs\u001b[0m\u001b[0;34m,\u001b[0m \u001b[0;34m**\u001b[0m\u001b[0mkwds\u001b[0m\u001b[0;34m)\u001b[0m\u001b[0;34m\u001b[0m\u001b[0;34m\u001b[0m\u001b[0m\n\u001b[0m\u001b[1;32m   1949\u001b[0m             \u001b[0mcache\u001b[0m\u001b[0;34m[\u001b[0m\u001b[0mk\u001b[0m\u001b[0;34m]\u001b[0m \u001b[0;34m=\u001b[0m \u001b[0mw\u001b[0m\u001b[0;34m\u001b[0m\u001b[0;34m\u001b[0m\u001b[0m\n\u001b[1;32m   1950\u001b[0m             \u001b[0;32mreturn\u001b[0m \u001b[0mw\u001b[0m\u001b[0;34m\u001b[0m\u001b[0;34m\u001b[0m\u001b[0m\n",
      "\u001b[0;32m~/anaconda3/envs/sage/lib/python3.7/site-packages/sage/misc/cachefunc.pyx\u001b[0m in \u001b[0;36msage.misc.cachefunc.CachedMethodCaller._instance_call (build/cythonized/sage/misc/cachefunc.c:9910)\u001b[0;34m()\u001b[0m\n\u001b[1;32m   1822\u001b[0m             \u001b[0;32mTrue\u001b[0m\u001b[0;34m\u001b[0m\u001b[0;34m\u001b[0m\u001b[0m\n\u001b[1;32m   1823\u001b[0m         \"\"\"\n\u001b[0;32m-> 1824\u001b[0;31m         \u001b[0;32mreturn\u001b[0m \u001b[0mself\u001b[0m\u001b[0;34m.\u001b[0m\u001b[0mf\u001b[0m\u001b[0;34m(\u001b[0m\u001b[0mself\u001b[0m\u001b[0;34m.\u001b[0m\u001b[0m_instance\u001b[0m\u001b[0;34m,\u001b[0m \u001b[0;34m*\u001b[0m\u001b[0margs\u001b[0m\u001b[0;34m,\u001b[0m \u001b[0;34m**\u001b[0m\u001b[0mkwds\u001b[0m\u001b[0;34m)\u001b[0m\u001b[0;34m\u001b[0m\u001b[0;34m\u001b[0m\u001b[0m\n\u001b[0m\u001b[1;32m   1825\u001b[0m \u001b[0;34m\u001b[0m\u001b[0m\n\u001b[1;32m   1826\u001b[0m     \u001b[0mcdef\u001b[0m \u001b[0mfix_args_kwds\u001b[0m\u001b[0;34m(\u001b[0m\u001b[0mself\u001b[0m\u001b[0;34m,\u001b[0m \u001b[0mtuple\u001b[0m \u001b[0margs\u001b[0m\u001b[0;34m,\u001b[0m \u001b[0mdict\u001b[0m \u001b[0mkwds\u001b[0m\u001b[0;34m)\u001b[0m\u001b[0;34m:\u001b[0m\u001b[0;34m\u001b[0m\u001b[0;34m\u001b[0m\u001b[0m\n",
      "\u001b[0;32m~/anaconda3/envs/sage/lib/python3.7/site-packages/sage/libs/singular/standard_options.py\u001b[0m in \u001b[0;36mwrapper\u001b[0;34m(*args, **kwds)\u001b[0m\n\u001b[1;32m    139\u001b[0m         \"\"\"\n\u001b[1;32m    140\u001b[0m         \u001b[0;32mwith\u001b[0m \u001b[0mLibSingularGBDefaultContext\u001b[0m\u001b[0;34m(\u001b[0m\u001b[0;34m)\u001b[0m\u001b[0;34m:\u001b[0m\u001b[0;34m\u001b[0m\u001b[0;34m\u001b[0m\u001b[0m\n\u001b[0;32m--> 141\u001b[0;31m             \u001b[0;32mreturn\u001b[0m \u001b[0mfunc\u001b[0m\u001b[0;34m(\u001b[0m\u001b[0;34m*\u001b[0m\u001b[0margs\u001b[0m\u001b[0;34m,\u001b[0m \u001b[0;34m**\u001b[0m\u001b[0mkwds\u001b[0m\u001b[0;34m)\u001b[0m\u001b[0;34m\u001b[0m\u001b[0;34m\u001b[0m\u001b[0m\n\u001b[0m\u001b[1;32m    142\u001b[0m     \u001b[0;32mreturn\u001b[0m \u001b[0mwrapper\u001b[0m\u001b[0;34m\u001b[0m\u001b[0;34m\u001b[0m\u001b[0m\n",
      "\u001b[0;32m~/anaconda3/envs/sage/lib/python3.7/site-packages/sage/rings/polynomial/multi_polynomial_ideal.py\u001b[0m in \u001b[0;36mcomplete_primary_decomposition\u001b[0;34m(self, algorithm)\u001b[0m\n\u001b[1;32m    766\u001b[0m         \u001b[0;32mif\u001b[0m \u001b[0malgorithm\u001b[0m \u001b[0;34m==\u001b[0m \u001b[0;34m'sy'\u001b[0m\u001b[0;34m:\u001b[0m\u001b[0;34m\u001b[0m\u001b[0;34m\u001b[0m\u001b[0m\n\u001b[1;32m    767\u001b[0m             \u001b[0mprimdecSY\u001b[0m \u001b[0;34m=\u001b[0m  \u001b[0mff\u001b[0m\u001b[0;34m.\u001b[0m\u001b[0mprimdec__lib\u001b[0m\u001b[0;34m.\u001b[0m\u001b[0mprimdecSY\u001b[0m\u001b[0;34m\u001b[0m\u001b[0;34m\u001b[0m\u001b[0m\n\u001b[0;32m--> 768\u001b[0;31m             \u001b[0mP\u001b[0m \u001b[0;34m=\u001b[0m \u001b[0mprimdecSY\u001b[0m\u001b[0;34m(\u001b[0m\u001b[0mself\u001b[0m\u001b[0;34m)\u001b[0m\u001b[0;34m\u001b[0m\u001b[0;34m\u001b[0m\u001b[0m\n\u001b[0m\u001b[1;32m    769\u001b[0m         \u001b[0;32melif\u001b[0m \u001b[0malgorithm\u001b[0m \u001b[0;34m==\u001b[0m \u001b[0;34m'gtz'\u001b[0m\u001b[0;34m:\u001b[0m\u001b[0;34m\u001b[0m\u001b[0;34m\u001b[0m\u001b[0m\n\u001b[1;32m    770\u001b[0m             \u001b[0mprimdecGTZ\u001b[0m \u001b[0;34m=\u001b[0m  \u001b[0mff\u001b[0m\u001b[0;34m.\u001b[0m\u001b[0mprimdec__lib\u001b[0m\u001b[0;34m.\u001b[0m\u001b[0mprimdecGTZ\u001b[0m\u001b[0;34m\u001b[0m\u001b[0;34m\u001b[0m\u001b[0m\n",
      "\u001b[0;32m~/anaconda3/envs/sage/lib/python3.7/site-packages/sage/libs/singular/function.pyx\u001b[0m in \u001b[0;36msage.libs.singular.function.SingularFunction.__call__ (build/cythonized/sage/libs/singular/function.cpp:15213)\u001b[0;34m()\u001b[0m\n\u001b[1;32m   1332\u001b[0m         \u001b[0;32mif\u001b[0m \u001b[0;32mnot\u001b[0m \u001b[0;34m(\u001b[0m\u001b[0misinstance\u001b[0m\u001b[0;34m(\u001b[0m\u001b[0mring\u001b[0m\u001b[0;34m,\u001b[0m \u001b[0mMPolynomialRing_libsingular\u001b[0m\u001b[0;34m)\u001b[0m \u001b[0;32mor\u001b[0m \u001b[0misinstance\u001b[0m\u001b[0;34m(\u001b[0m\u001b[0mring\u001b[0m\u001b[0;34m,\u001b[0m \u001b[0mNCPolynomialRing_plural\u001b[0m\u001b[0;34m)\u001b[0m\u001b[0;34m)\u001b[0m\u001b[0;34m:\u001b[0m\u001b[0;34m\u001b[0m\u001b[0;34m\u001b[0m\u001b[0m\n\u001b[1;32m   1333\u001b[0m             \u001b[0;32mraise\u001b[0m \u001b[0mTypeError\u001b[0m\u001b[0;34m(\u001b[0m\u001b[0;34m\"Cannot call Singular function '%s' with ring parameter of type '%s'\"\u001b[0m\u001b[0;34m%\u001b[0m\u001b[0;34m(\u001b[0m\u001b[0mself\u001b[0m\u001b[0;34m.\u001b[0m\u001b[0m_name\u001b[0m\u001b[0;34m,\u001b[0m\u001b[0mtype\u001b[0m\u001b[0;34m(\u001b[0m\u001b[0mring\u001b[0m\u001b[0;34m)\u001b[0m\u001b[0;34m)\u001b[0m\u001b[0;34m)\u001b[0m\u001b[0;34m\u001b[0m\u001b[0;34m\u001b[0m\u001b[0m\n\u001b[0;32m-> 1334\u001b[0;31m         \u001b[0;32mreturn\u001b[0m \u001b[0mcall_function\u001b[0m\u001b[0;34m(\u001b[0m\u001b[0mself\u001b[0m\u001b[0;34m,\u001b[0m \u001b[0margs\u001b[0m\u001b[0;34m,\u001b[0m \u001b[0mring\u001b[0m\u001b[0;34m,\u001b[0m \u001b[0minterruptible\u001b[0m\u001b[0;34m,\u001b[0m \u001b[0mattributes\u001b[0m\u001b[0;34m)\u001b[0m\u001b[0;34m\u001b[0m\u001b[0;34m\u001b[0m\u001b[0m\n\u001b[0m\u001b[1;32m   1335\u001b[0m \u001b[0;34m\u001b[0m\u001b[0m\n\u001b[1;32m   1336\u001b[0m     \u001b[0;32mdef\u001b[0m \u001b[0m_instancedoc_\u001b[0m\u001b[0;34m(\u001b[0m\u001b[0mself\u001b[0m\u001b[0;34m)\u001b[0m\u001b[0;34m:\u001b[0m\u001b[0;34m\u001b[0m\u001b[0;34m\u001b[0m\u001b[0m\n",
      "\u001b[0;32m~/anaconda3/envs/sage/lib/python3.7/site-packages/sage/libs/singular/function.pyx\u001b[0m in \u001b[0;36msage.libs.singular.function.call_function (build/cythonized/sage/libs/singular/function.cpp:17063)\u001b[0;34m()\u001b[0m\n\u001b[1;32m   1514\u001b[0m         \u001b[0merror_messages\u001b[0m\u001b[0;34m.\u001b[0m\u001b[0mpop\u001b[0m\u001b[0;34m(\u001b[0m\u001b[0;34m)\u001b[0m\u001b[0;34m\u001b[0m\u001b[0;34m\u001b[0m\u001b[0m\n\u001b[1;32m   1515\u001b[0m \u001b[0;34m\u001b[0m\u001b[0m\n\u001b[0;32m-> 1516\u001b[0;31m     \u001b[0;32mwith\u001b[0m \u001b[0mopt_ctx\u001b[0m\u001b[0;34m:\u001b[0m \u001b[0;31m# we are preserving the global options state here\u001b[0m\u001b[0;34m\u001b[0m\u001b[0;34m\u001b[0m\u001b[0m\n\u001b[0m\u001b[1;32m   1517\u001b[0m         \u001b[0;32mif\u001b[0m \u001b[0msignal_handler\u001b[0m\u001b[0;34m:\u001b[0m\u001b[0;34m\u001b[0m\u001b[0;34m\u001b[0m\u001b[0m\n\u001b[1;32m   1518\u001b[0m             \u001b[0msig_on\u001b[0m\u001b[0;34m(\u001b[0m\u001b[0;34m)\u001b[0m\u001b[0;34m\u001b[0m\u001b[0;34m\u001b[0m\u001b[0m\n",
      "\u001b[0;32m~/anaconda3/envs/sage/lib/python3.7/site-packages/sage/libs/singular/function.pyx\u001b[0m in \u001b[0;36msage.libs.singular.function.call_function (build/cythonized/sage/libs/singular/function.cpp:16975)\u001b[0;34m()\u001b[0m\n\u001b[1;32m   1516\u001b[0m     \u001b[0;32mwith\u001b[0m \u001b[0mopt_ctx\u001b[0m\u001b[0;34m:\u001b[0m \u001b[0;31m# we are preserving the global options state here\u001b[0m\u001b[0;34m\u001b[0m\u001b[0;34m\u001b[0m\u001b[0m\n\u001b[1;32m   1517\u001b[0m         \u001b[0;32mif\u001b[0m \u001b[0msignal_handler\u001b[0m\u001b[0;34m:\u001b[0m\u001b[0;34m\u001b[0m\u001b[0;34m\u001b[0m\u001b[0m\n\u001b[0;32m-> 1518\u001b[0;31m             \u001b[0msig_on\u001b[0m\u001b[0;34m(\u001b[0m\u001b[0;34m)\u001b[0m\u001b[0;34m\u001b[0m\u001b[0;34m\u001b[0m\u001b[0m\n\u001b[0m\u001b[1;32m   1519\u001b[0m             \u001b[0m_res\u001b[0m \u001b[0;34m=\u001b[0m \u001b[0mself\u001b[0m\u001b[0;34m.\u001b[0m\u001b[0mcall_handler\u001b[0m\u001b[0;34m.\u001b[0m\u001b[0mhandle_call\u001b[0m\u001b[0;34m(\u001b[0m\u001b[0margument_list\u001b[0m\u001b[0;34m,\u001b[0m \u001b[0msi_ring\u001b[0m\u001b[0;34m)\u001b[0m\u001b[0;34m\u001b[0m\u001b[0;34m\u001b[0m\u001b[0m\n\u001b[1;32m   1520\u001b[0m             \u001b[0msig_off\u001b[0m\u001b[0;34m(\u001b[0m\u001b[0;34m)\u001b[0m\u001b[0;34m\u001b[0m\u001b[0;34m\u001b[0m\u001b[0m\n",
      "\u001b[0;31mKeyboardInterrupt\u001b[0m: "
     ]
    }
   ],
   "source": [
    "conds = find_conditions_for_subfamilies(SE1, sing_cubics_SE1, adm_SE1, simm_SE1)"
   ]
  },
  {
   "cell_type": "code",
   "execution_count": 170,
   "id": "e45b352b-1b9d-429a-b821-1638e1a7015c",
   "metadata": {},
   "outputs": [
    {
     "data": {
      "text/plain": [
       "(0, 0, 1, 0, 0, 0) [y, z]"
      ]
     },
     "execution_count": 170,
     "metadata": {},
     "output_type": "execute_result"
    }
   ],
   "source": [
    "SE1.cl_lines['E1']"
   ]
  },
  {
   "cell_type": "code",
   "execution_count": 169,
   "id": "8933d6da-103f-48f6-8d91-ab925a9afef9",
   "metadata": {},
   "outputs": [
    {
     "data": {
      "text/plain": [
       "(0, 0, 1, 0, 0, 0) [8*y*c^9 + 8*y*c^8*d + 8*y*c^8*e + 8*y*c^7*d*e + 16*y*c^8*f + 16*y*c^7*d*f + 8*y*c^7*e*f + 16*y*c^6*d*e*f - 8*y*c^6*e^2*f + 8*y*c^7*f^2 + 8*y*c^6*d*f^2 - 8*y*c^6*e*f^2 + 8*y*c^5*d*e*f^2 - 16*y*c^5*e^2*f^2 - 8*y*c^5*e*f^3 - 8*y*c^4*e^2*f^3, 2*y*c^9 - 2*z*c^9 - 2*y*c^8*d + 2*z*c^8*d + 4*y*c^8*e - 4*z*c^8*e - 4*y*c^7*d*e + 4*z*c^7*d*e + 2*y*c^7*e^2 - 2*z*c^7*e^2 - 2*y*c^6*d*e^2 + 2*z*c^6*d*e^2 + 14*y*c^8*f - 6*z*c^8*f + 10*y*c^7*d*f - 2*z*c^7*d*f + 22*y*c^7*e*f - 14*z*c^7*e*f + 12*y*c^6*d*e*f - 4*z*c^6*d*e*f + 10*y*c^6*e^2*f - 10*z*c^6*e^2*f + 2*y*c^5*d*e^2*f - 2*z*c^5*d*e^2*f + 2*y*c^5*e^3*f - 2*z*c^5*e^3*f + 14*y*c^7*f^2 + 2*z*c^7*f^2 + 18*y*c^6*d*f^2 - 2*z*c^6*d*f^2 + 2*y*c^6*e*f^2 + 6*z*c^6*e*f^2 + 20*y*c^5*d*e*f^2 - 4*z*c^5*d*e*f^2 - 14*y*c^5*e^2*f^2 + 6*z*c^5*e^2*f^2 + 2*y*c^4*d*e^2*f^2 - 2*z*c^4*d*e^2*f^2 - 2*y*c^4*e^3*f^2 + 2*z*c^4*e^3*f^2 + 2*y*c^6*f^3 + 6*z*c^6*f^3 + 6*y*c^5*d*f^3 + 2*z*c^5*d*f^3 - 22*y*c^5*e*f^3 + 14*z*c^5*e*f^3 + 4*y*c^4*d*e*f^3 + 4*z*c^4*d*e*f^3 - 26*y*c^4*e^2*f^3 + 10*z*c^4*e^2*f^3 - 2*y*c^3*d*e^2*f^3 + 2*z*c^3*d*e^2*f^3 - 2*y*c^3*e^3*f^3 + 2*z*c^3*e^3*f^3 - 6*y*c^4*e*f^4 - 2*z*c^4*e*f^4 - 4*y*c^3*e^2*f^4 - 4*z*c^3*e^2*f^4 + 2*y*c^2*e^3*f^4 - 2*z*c^2*e^3*f^4]"
      ]
     },
     "execution_count": 169,
     "metadata": {},
     "output_type": "execute_result"
    }
   ],
   "source": [
    "SE1.cl_lines['E1'].apply_proj(M)"
   ]
  },
  {
   "cell_type": "code",
   "execution_count": 172,
   "id": "97000534-0f39-4143-800b-c8d0cce73c3b",
   "metadata": {},
   "outputs": [
    {
     "data": {
      "text/plain": [
       "(0, 0, 0, 0, 0, 1) [y, x]"
      ]
     },
     "execution_count": 172,
     "metadata": {},
     "output_type": "execute_result"
    }
   ],
   "source": [
    "SE1.cl_lines['G4']"
   ]
  },
  {
   "cell_type": "code",
   "execution_count": 184,
   "id": "1f721200-0e3f-4d88-b479-763edf3ae0e5",
   "metadata": {},
   "outputs": [
    {
     "data": {
      "text/plain": [
       "(0, 0, -c^5 + c^4*d - c^4*e + c^3*d*e - 2*c^4*f - 2*c^3*d*f - 3*c^3*e*f - 2*c^2*d*e*f - c^2*e^2*f + 3*c^3*f^2 + c^2*d*f^2 + 5*c^2*e*f^2 + c*d*e*f^2 + 2*c*e^2*f^2 - c*e*f^3 - e^2*f^3, 0, 0, 2*c^5 + 6*c^4*d - 2*c^4*e + 2*c^3*d*e + 8*c^3*d*f - 14*c^3*e*f - 2*c^2*e^2*f - 2*c^3*f^2 + 2*c^2*d*f^2 - 14*c^2*e*f^2 - 2*c*d*e*f^2 - 2*c*e*f^3 + 2*e^2*f^3)"
      ]
     },
     "execution_count": 184,
     "metadata": {},
     "output_type": "execute_result"
    }
   ],
   "source": [
    "SE1.cl_lines['G4'].apply_proj(M).plucker"
   ]
  },
  {
   "cell_type": "code",
   "execution_count": 186,
   "id": "45fbce8c-2250-492f-a7a2-02d15b54f026",
   "metadata": {},
   "outputs": [],
   "source": [
    "pol = matrix([SE1.cl_lines['F14'].plucker, SE1.cl_lines['G4'].apply_proj(M).plucker]).minors(2)[-4]//(c+f)"
   ]
  },
  {
   "cell_type": "code",
   "execution_count": 173,
   "id": "2186d90b-78bf-466d-88b3-1f39c0c163ba",
   "metadata": {},
   "outputs": [
    {
     "data": {
      "text/plain": [
       "(0, 0, c^2 + c*d - e*f, 0, 0, -c^2 - c*e - c*f - e*f) [y, -x*c^2 - z*c^2 - z*c*d - x*c*e - x*c*f - x*e*f + z*e*f]"
      ]
     },
     "execution_count": 173,
     "metadata": {},
     "output_type": "execute_result"
    }
   ],
   "source": [
    "SE1.cl_lines['F14']"
   ]
  },
  {
   "cell_type": "code",
   "execution_count": 175,
   "id": "ef13dd21-9ecf-467d-ad83-1bae99c791f2",
   "metadata": {},
   "outputs": [
    {
     "data": {
      "text/plain": [
       "(0, 0, 0, 0, 0, 1) [8*y*c^9 + 8*y*c^8*d + 8*y*c^8*e + 8*y*c^7*d*e + 16*y*c^8*f + 16*y*c^7*d*f + 8*y*c^7*e*f + 16*y*c^6*d*e*f - 8*y*c^6*e^2*f + 8*y*c^7*f^2 + 8*y*c^6*d*f^2 - 8*y*c^6*e*f^2 + 8*y*c^5*d*e*f^2 - 16*y*c^5*e^2*f^2 - 8*y*c^5*e*f^3 - 8*y*c^4*e^2*f^3, -4*x*c^11 - 16*x*c^10*d + 8*y*c^10*d - 12*x*c^9*d^2 + 8*y*c^9*d^2 - 8*y*c^10*e - 16*x*c^9*d*e - 16*x*c^8*d^2*e + 8*y*c^8*d^2*e + 4*x*c^9*e^2 - 8*y*c^9*e^2 - 8*y*c^8*d*e^2 - 4*x*c^7*d^2*e^2 - 4*x*c^10*f - 8*y*c^10*f - 32*x*c^9*d*f + 8*y*c^9*d*f - 28*x*c^8*d^2*f + 16*y*c^8*d^2*f + 32*x*c^9*e*f - 40*y*c^9*e*f + 8*x*c^8*d*e*f - 32*y*c^8*d*e*f - 32*x*c^7*d^2*e*f + 16*y*c^7*d^2*e*f + 36*x*c^8*e^2*f - 24*y*c^8*e^2*f + 48*x*c^7*d*e^2*f - 40*y*c^7*d*e^2*f - 4*x*c^6*d^2*e^2*f + 8*y*c^7*e^3*f + 8*x*c^6*d*e^3*f + 4*x*c^9*f^2 - 16*y*c^9*f^2 - 16*x*c^8*d*f^2 - 8*y*c^8*d*f^2 - 20*x*c^7*d^2*f^2 + 8*y*c^7*d^2*f^2 + 64*x*c^8*e*f^2 - 48*y*c^8*e*f^2 + 72*x*c^7*d*e*f^2 - 64*y*c^7*d*e*f^2 - 16*x*c^6*d^2*e*f^2 + 8*y*c^6*d^2*e*f^2 + 32*x*c^7*e^2*f^2 + 96*x*c^6*d*e^2*f^2 - 56*y*c^6*d*e^2*f^2 + 4*x*c^5*d^2*e^2*f^2 - 32*x*c^6*e^3*f^2 + 32*y*c^6*e^3*f^2 + 8*x*c^5*d*e^3*f^2 - 4*x*c^5*e^4*f^2 + 4*x*c^8*f^3 - 8*y*c^8*f^3 - 8*y*c^7*d*f^3 - 4*x*c^6*d^2*f^3 + 32*x*c^7*e*f^3 - 8*y*c^7*e*f^3 + 56*x*c^6*d*e*f^3 - 32*y*c^6*d*e*f^3 - 32*x*c^6*e^2*f^3 + 40*y*c^6*e^2*f^3 + 48*x*c^5*d*e^2*f^3 - 24*y*c^5*d*e^2*f^3 + 4*x*c^4*d^2*e^2*f^3 - 64*x*c^5*e^3*f^3 + 40*y*c^5*e^3*f^3 - 8*x*c^4*d*e^3*f^3 - 4*x*c^4*e^4*f^3 + 8*y*c^6*e*f^4 + 8*x*c^5*d*e*f^4 - 36*x*c^5*e^2*f^4 + 24*y*c^5*e^2*f^4 - 32*x*c^4*e^3*f^4 + 16*y*c^4*e^3*f^4 - 8*x*c^3*d*e^3*f^4 + 4*x*c^3*e^4*f^4 - 4*x*c^4*e^2*f^5 + 4*x*c^2*e^4*f^5]"
      ]
     },
     "execution_count": 175,
     "metadata": {},
     "output_type": "execute_result"
    }
   ],
   "source": [
    "SE1.cl_lines['F14'].apply_proj(M)"
   ]
  },
  {
   "cell_type": "code",
   "execution_count": 190,
   "id": "b504b4f6-e1b3-4fd4-96fc-c23c20ad12fa",
   "metadata": {},
   "outputs": [
    {
     "data": {
      "text/plain": [
       "48*c^6 + 128*c^5*d + 16*c^4*d^2 - 16*c^5*e + 64*c^4*d*e + 16*c^3*d^2*e - 16*c^5*f + 64*c^4*d*f + 16*c^3*d^2*f - 208*c^4*e*f - 32*c^3*d*e*f + 16*c^2*d^2*e*f - 64*c^3*e^2*f - 32*c^2*d*e^2*f - 64*c^3*e*f^2 - 32*c^2*d*e*f^2 + 16*c^2*e^2*f^2 - 32*c*d*e^2*f^2 + 16*c*e^3*f^2 + 16*c*e^2*f^3 + 16*e^3*f^3"
      ]
     },
     "execution_count": 190,
     "metadata": {},
     "output_type": "execute_result"
    }
   ],
   "source": [
    "conds[-1]"
   ]
  },
  {
   "cell_type": "code",
   "execution_count": 191,
   "id": "8266e1a3-379a-4dc9-926d-031a8881e4e9",
   "metadata": {},
   "outputs": [
    {
     "data": {
      "text/plain": [
       "c^6 + 9*c^5*d + 6*c^4*d^2 - 4*c^5*e + 2*c^4*d*e + 2*c^3*d^2*e - c^4*e^2 + c^3*d*e^2 - 4*c^5*f - 2*c^4*d*f + 2*c^3*d^2*f - 19*c^4*e*f - 24*c^3*d*e*f - 2*c^2*d^2*e*f - 4*c^3*e^2*f - 6*c^2*d*e^2*f - c^2*e^3*f + 3*c^4*f^2 + c^3*d*f^2 + 8*c^3*e*f^2 - 2*c^2*d*e*f^2 + 21*c^2*e^2*f^2 + 5*c*d*e^2*f^2 + 4*c*e^3*f^2 - c^2*e*f^3 - 3*e^3*f^3"
      ]
     },
     "execution_count": 191,
     "metadata": {},
     "output_type": "execute_result"
    }
   ],
   "source": [
    "pol"
   ]
  },
  {
   "cell_type": "code",
   "execution_count": 193,
   "id": "b29c67ff-88f1-40ae-b442-233a5aba0dea",
   "metadata": {},
   "outputs": [
    {
     "data": {
      "text/plain": [
       "True"
      ]
     },
     "execution_count": 193,
     "metadata": {},
     "output_type": "execute_result"
    }
   ],
   "source": [
    "pol in P.ideal(conds)"
   ]
  },
  {
   "cell_type": "code",
   "execution_count": 194,
   "id": "27e52bf6-671a-4334-879a-dc7ae3a6e1ca",
   "metadata": {},
   "outputs": [
    {
     "name": "stdout",
     "output_type": "stream",
     "text": [
      "(0, 0, 0, 0, 0, 10, 2, 5, 5, 0, 0)\n",
      "(0, 0, 0, 0, 0, 10, 3, 5, 6, 0, 0)\n",
      "(0, 0, 0, 0, 0, 11, 3, 5, 6, 0, 0)\n",
      "(0, 0, 0, 0, 0, 10, 2, 5, 5, 0, 0)\n",
      "(0, 0, 0, 0, 0, 9, 3, 5, 6, 0, 0)\n",
      "(0, 0, 0, 0, 0, 11, 3, 5, 6, 0, 0)\n",
      "(0, 0, 0, 0, 0, 10, 2, 5, 5, 0, 0)\n",
      "(0, 0, 0, 0, 0, 10, 2, 5, 5, 0, 0)\n",
      "(0, 0, 0, 0, 0, 10, 3, 5, 6, 0, 0)\n",
      "(0, 0, 0, 0, 0, 11, 3, 5, 6, 0, 0)\n",
      "(0, 0, 0, 0, 0, 10, 2, 5, 5, 0, 0)\n",
      "(0, 0, 0, 0, 0, 9, 3, 5, 6, 0, 0)\n",
      "(0, 0, 0, 0, 0, 11, 3, 5, 6, 0, 0)\n",
      "(0, 0, 0, 0, 0, 10, 2, 5, 5, 0, 0)\n",
      "(0, 0, 0, 0, 0, 10, 3, 5, 5, 0, 0)\n",
      "(0, 0, 0, 0, 0, 6, 2, 3, 3, 0, 0)\n",
      "(0, 0, 0, 0, 0, 10, 2, 5, 5, 0, 0)\n",
      "(0, 0, 0, 0, 0, 9, 3, 4, 5, 0, 0)\n",
      "(0, 0, 0, 0, 0, 10, 3, 5, 5, 0, 0)\n",
      "(0, 0, 0, 0, 0, 10, 2, 5, 5, 0, 0)\n",
      "(0, 0, 0, 0, 0, 11, 3, 5, 6, 0, 0)\n",
      "(0, 0, 0, 0, 0, 11, 3, 5, 6, 0, 0)\n",
      "(0, 0, 0, 0, 0, 9, 3, 5, 6, 0, 0)\n",
      "(0, 0, 0, 0, 0, 10, 3, 5, 5, 0, 0)\n",
      "(0, 0, 0, 0, 0, 10, 3, 5, 6, 0, 0)\n",
      "(0, 0, 0, 0, 0, 11, 3, 5, 6, 0, 0)\n",
      "(0, 0, 0, 0, 0, 10, 3, 5, 6, 0, 0)\n",
      "(0, 0, 0, 0, 0, 6, 2, 3, 3, 0, 0)\n",
      "(0, 0, 0, 0, 0, 6, 2, 3, 3, 0, 0)\n",
      "(0, 0, 0, 0, 0, 10, 3, 5, 6, 0, 0)\n",
      "(0, 0, 0, 0, 0, 10, 3, 5, 6, 0, 0)\n",
      "(0, 0, 0, 0, 0, 8, 1, 4, 4, 0, 0)\n",
      "(0, 0, 0, 0, 0, 10, 3, 5, 6, 0, 0)\n",
      "(0, 0, 0, 0, 0, 10, 3, 5, 6, 0, 0)\n",
      "(0, 0, 0, 0, 0, 6, 2, 3, 3, 0, 0)\n"
     ]
    }
   ],
   "source": [
    "for el in conds:\n",
    "    print(el.degrees())"
   ]
  },
  {
   "cell_type": "code",
   "execution_count": 209,
   "id": "053ada05-003a-4259-960a-34633c2a3b2e",
   "metadata": {},
   "outputs": [],
   "source": [
    "ideale = P.ideal(conds)"
   ]
  },
  {
   "cell_type": "code",
   "execution_count": 201,
   "id": "4167e2ab-c379-48ea-ac8f-09fb3e4ba95f",
   "metadata": {},
   "outputs": [],
   "source": [
    "polyn = conds[-4]"
   ]
  },
  {
   "cell_type": "code",
   "execution_count": 203,
   "id": "0a6b7fb6-83af-4ee5-aad5-bf03e811a5d3",
   "metadata": {},
   "outputs": [],
   "source": [
    "polynd = polyn.polynomial(d)"
   ]
  },
  {
   "cell_type": "code",
   "execution_count": 225,
   "id": "ab1b65ce-3b1e-4f7d-bd62-a729e489b688",
   "metadata": {},
   "outputs": [
    {
     "data": {
      "text/plain": [
       "[Ideal (8*d*e + 27*e^2 + 8*d*f - 38*e*f + 19*f^2, 8*d^2 + 13*e^2 - 16*d*f + 54*e*f + 21*f^2, 119*e^3 - 259*e^2*f - 96*d*f^2 + 425*e*f^2 - 109*f^3) of Multivariate Polynomial Ring in x, y, z, t, b, c, d, e, f, l, m over Rational Field,\n",
       " Ideal (d + 5*e - 3*f, 5*e^2 - 4*e*f + f^2) of Multivariate Polynomial Ring in x, y, z, t, b, c, d, e, f, l, m over Rational Field,\n",
       " Ideal (d + e - f) of Multivariate Polynomial Ring in x, y, z, t, b, c, d, e, f, l, m over Rational Field,\n",
       " Ideal (d - e + f) of Multivariate Polynomial Ring in x, y, z, t, b, c, d, e, f, l, m over Rational Field,\n",
       " Ideal (e - f) of Multivariate Polynomial Ring in x, y, z, t, b, c, d, e, f, l, m over Rational Field,\n",
       " Ideal (e) of Multivariate Polynomial Ring in x, y, z, t, b, c, d, e, f, l, m over Rational Field,\n",
       " Ideal (f) of Multivariate Polynomial Ring in x, y, z, t, b, c, d, e, f, l, m over Rational Field]"
      ]
     },
     "execution_count": 225,
     "metadata": {},
     "output_type": "execute_result"
    }
   ],
   "source": [
    "ideale.elimination_ideal([c]).radical().primary_decomposition()"
   ]
  },
  {
   "cell_type": "code",
   "execution_count": 223,
   "id": "e4775bfe-3a69-4399-be6e-730911316c4e",
   "metadata": {},
   "outputs": [
    {
     "data": {
      "text/plain": [
       "[Ideal (f, e, c) of Multivariate Polynomial Ring in x, y, z, t, b, c, d, e, f, l, m over Rational Field,\n",
       " Ideal (7*c + d - e - 2*f, 8*d*e + 27*e^2 + 8*d*f - 38*e*f + 19*f^2, 8*d^2 + 13*e^2 - 16*d*f + 54*e*f + 21*f^2, 119*e^3 - 259*e^2*f - 96*d*f^2 + 425*e*f^2 - 109*f^3) of Multivariate Polynomial Ring in x, y, z, t, b, c, d, e, f, l, m over Rational Field]"
      ]
     },
     "execution_count": 223,
     "metadata": {},
     "output_type": "execute_result"
    }
   ],
   "source": [
    "(ideale+_[0]).radical().primary_decomposition()"
   ]
  },
  {
   "cell_type": "code",
   "execution_count": null,
   "id": "52eb6851-dd99-40bf-a61b-7f360232b063",
   "metadata": {},
   "outputs": [],
   "source": []
  },
  {
   "cell_type": "code",
   "execution_count": null,
   "id": "09b1f160-3fec-461b-b791-53a6338b8b05",
   "metadata": {},
   "outputs": [],
   "source": []
  },
  {
   "cell_type": "code",
   "execution_count": null,
   "id": "c7891168-4d9a-4e0a-ae79-da3c467ca002",
   "metadata": {},
   "outputs": [],
   "source": []
  },
  {
   "cell_type": "code",
   "execution_count": null,
   "id": "bc070a6d-67bb-4389-8902-428081880695",
   "metadata": {},
   "outputs": [],
   "source": []
  },
  {
   "cell_type": "code",
   "execution_count": null,
   "id": "d5129ae4-4021-42f9-8b17-e40f277964bd",
   "metadata": {},
   "outputs": [],
   "source": []
  },
  {
   "cell_type": "code",
   "execution_count": null,
   "id": "6608189a-df5d-4300-9242-c6e5374d2724",
   "metadata": {},
   "outputs": [],
   "source": []
  },
  {
   "cell_type": "code",
   "execution_count": null,
   "id": "2dfca0e5-596b-4d7b-85cc-a336358c26f2",
   "metadata": {},
   "outputs": [],
   "source": []
  },
  {
   "cell_type": "code",
   "execution_count": null,
   "id": "c4a1820a-11b6-44aa-8206-e47805bbc2b5",
   "metadata": {},
   "outputs": [],
   "source": []
  },
  {
   "cell_type": "code",
   "execution_count": 127,
   "id": "fc826488-f844-46cc-ae94-9ef697c6cacf",
   "metadata": {},
   "outputs": [],
   "source": [
    "Q = PolynomialRing(QQ, [c,d,e,f])"
   ]
  },
  {
   "cell_type": "code",
   "execution_count": 132,
   "id": "a8857249-a8fd-4f71-9f06-fe5033335ec3",
   "metadata": {},
   "outputs": [],
   "source": [
    "idea = Q.ideal(conds[0])"
   ]
  },
  {
   "cell_type": "code",
   "execution_count": null,
   "id": "91729ecf-9787-4b83-ba4e-edd6d5c2119d",
   "metadata": {},
   "outputs": [],
   "source": [
    "idea.triangular_decomposition()"
   ]
  },
  {
   "cell_type": "code",
   "execution_count": null,
   "id": "53bfd662-c553-4df8-a9c3-b309120f0a41",
   "metadata": {},
   "outputs": [],
   "source": []
  }
 ],
 "metadata": {
  "kernelspec": {
   "display_name": "SageMath 9.3",
   "language": "sage",
   "name": "sagemath"
  },
  "language_info": {
   "codemirror_mode": {
    "name": "ipython",
    "version": 3
   },
   "file_extension": ".py",
   "mimetype": "text/x-python",
   "name": "python",
   "nbconvert_exporter": "python",
   "pygments_lexer": "ipython3",
   "version": "3.7.10"
  }
 },
 "nbformat": 4,
 "nbformat_minor": 5
}
