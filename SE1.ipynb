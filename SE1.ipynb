{
 "cells": [
  {
   "cell_type": "code",
   "execution_count": 1,
   "id": "58320e02-53d1-4aa8-9435-b12c34877bd1",
   "metadata": {},
   "outputs": [],
   "source": [
    "load('Imports/Utility.sage', 'Imports/Point.sage', 'Imports/Line.sage', 'Imports/TritangentPlane.sage', 'Imports/Group.sage', 'Imports/Cubic.sage')\n",
    "import multiprocessing as mp\n",
    "import pickle"
   ]
  },
  {
   "cell_type": "code",
   "execution_count": 2,
   "id": "5ed78749-98c1-4b4b-93a0-936bbe48e5c3",
   "metadata": {},
   "outputs": [],
   "source": [
    "P.<x,y,z,t,b,c,d,e,f,l,m> = PolynomialRing(QQ)"
   ]
  },
  {
   "cell_type": "code",
   "execution_count": 3,
   "id": "3e2fe0b5-1ebd-4851-a5ef-2dd9d17b7dc6",
   "metadata": {},
   "outputs": [],
   "source": [
    "cubic_new = e*f*(2*x^2*y-2*x*y^2+x*z^2-x*z*t-y*t^2+y*z*t)+b*c*(x-t)*(x*z+y*t)+c*c*(z+t)*(y*t-x*z)+d*c*(y-z)*(x*z+y*t)+(e+f)*c*(x-y)*(y*t-x*z)"
   ]
  },
  {
   "cell_type": "code",
   "execution_count": 4,
   "id": "a41eb624-67cc-4e8e-a0da-c788de4b2d50",
   "metadata": {},
   "outputs": [],
   "source": [
    "sing_cubics = (-1) * (-c + f) * (-c + e) * c * (c + f) * (c + e) * (-e + f)^2 * (-c*d + c*f + e*f) * (-c*d + c*e + e*f) * (-c^2 - c*d + e*f) * (b*c - c*f + e*f) * (b*c - c*e + e*f) * (b*c - c*d + 2*e*f) * (b*c - c^2 + e*f) * (b*c^2 + c^2*d + b*c*f - 2*c^2*f - c*d*f + 2*e*f^2) * (b*c^2 + c^2*d + b*c*e - 2*c^2*e - c*d*e + 2*e^2*f) * (-b*c^3 - 2*b*c^2*d + c^3*d + b*c^2*e + c^2*d*e + b*c^2*f + c^2*d*f + 3*b*c*e*f - 4*c^2*e*f - 3*c*d*e*f + 4*e^2*f^2)"
   ]
  },
  {
   "cell_type": "code",
   "execution_count": 5,
   "id": "38181a6a-092f-4055-83a6-ed36cc76404a",
   "metadata": {},
   "outputs": [],
   "source": [
    "line = Line([y, z])"
   ]
  },
  {
   "cell_type": "code",
   "execution_count": 6,
   "id": "9c0cf997-b3ac-48b1-bab9-b590228c1acc",
   "metadata": {},
   "outputs": [],
   "source": [
    "general_cubic = Cubic(cubic_new, line, sing_cubics)"
   ]
  },
  {
   "cell_type": "code",
   "execution_count": 7,
   "id": "be0c1a4d-7f9c-4ded-ada9-44749d011496",
   "metadata": {},
   "outputs": [],
   "source": [
    "SE1 = general_cubic.subs({b:-(c*c+e*f)/c})"
   ]
  },
  {
   "cell_type": "code",
   "execution_count": 8,
   "id": "30a2139a-c63f-4a7d-a190-d20040fcb094",
   "metadata": {},
   "outputs": [
    {
     "name": "stdout",
     "output_type": "stream",
     "text": [
      "CPU times: user 1.48 s, sys: 325 ms, total: 1.8 s\n",
      "Wall time: 9.63 s\n"
     ]
    }
   ],
   "source": [
    "%time adm_SE1 = SE1.find_admissible_projectivities()"
   ]
  },
  {
   "cell_type": "code",
   "execution_count": 9,
   "id": "14a13a7f-142f-467e-a269-9c07c7c8afe8",
   "metadata": {},
   "outputs": [
    {
     "data": {
      "text/plain": [
       "576"
      ]
     },
     "execution_count": 9,
     "metadata": {},
     "output_type": "execute_result"
    }
   ],
   "source": [
    "len(adm_SE1)"
   ]
  },
  {
   "cell_type": "code",
   "execution_count": 10,
   "id": "39c972e1-420f-4a36-b908-f5ec1b6ddec8",
   "metadata": {},
   "outputs": [
    {
     "name": "stdout",
     "output_type": "stream",
     "text": [
      "CPU times: user 1.66 s, sys: 168 ms, total: 1.82 s\n",
      "Wall time: 6.27 s\n"
     ]
    }
   ],
   "source": [
    "%time simm_SE1 = SE1.find_simmetries(adm_SE1)"
   ]
  },
  {
   "cell_type": "code",
   "execution_count": 11,
   "id": "b2ad2377-f8b4-47e5-a65f-3f8b3834ca52",
   "metadata": {},
   "outputs": [
    {
     "data": {
      "text/plain": [
       "2"
      ]
     },
     "execution_count": 11,
     "metadata": {},
     "output_type": "execute_result"
    }
   ],
   "source": [
    "len(simm_SE1)"
   ]
  },
  {
   "cell_type": "code",
   "execution_count": 12,
   "id": "e5d6e171-b5b9-4f12-b1eb-2fbe41a76fc6",
   "metadata": {},
   "outputs": [],
   "source": [
    "G_SE1 = Group(simm_SE1)"
   ]
  },
  {
   "cell_type": "code",
   "execution_count": 13,
   "id": "231001ac-f2a7-4f48-bacd-d0bf507887a2",
   "metadata": {},
   "outputs": [
    {
     "data": {
      "text/plain": [
       "True"
      ]
     },
     "execution_count": 13,
     "metadata": {},
     "output_type": "execute_result"
    }
   ],
   "source": [
    "G_SE1.is_group()"
   ]
  },
  {
   "cell_type": "code",
   "execution_count": 14,
   "id": "7222ce1e-4347-4977-8f8d-ce57e5213d68",
   "metadata": {},
   "outputs": [
    {
     "data": {
      "text/plain": [
       "True"
      ]
     },
     "execution_count": 14,
     "metadata": {},
     "output_type": "execute_result"
    }
   ],
   "source": [
    "G_SE1.is_abelian()"
   ]
  },
  {
   "cell_type": "code",
   "execution_count": 15,
   "id": "58e78a81-5471-4152-a7ed-201f39b122b7",
   "metadata": {},
   "outputs": [
    {
     "data": {
      "text/plain": [
       "[1, 2]"
      ]
     },
     "execution_count": 15,
     "metadata": {},
     "output_type": "execute_result"
    }
   ],
   "source": [
    "G_SE1.get_order_of_elements()"
   ]
  },
  {
   "cell_type": "code",
   "execution_count": 16,
   "id": "a5539864-0e72-45b7-820b-b70feb9ea293",
   "metadata": {},
   "outputs": [],
   "source": [
    "adm_perm = SE1.find_admissible_permutations()\n",
    "keys = list(SE1.cl_lines.keys())"
   ]
  },
  {
   "cell_type": "code",
   "execution_count": 17,
   "id": "9ffc168a-2a50-493f-a5bd-2d77bf9361f3",
   "metadata": {},
   "outputs": [
    {
     "data": {
      "text/plain": [
       "1152"
      ]
     },
     "execution_count": 17,
     "metadata": {},
     "output_type": "execute_result"
    }
   ],
   "source": [
    "len(adm_perm)"
   ]
  },
  {
   "cell_type": "code",
   "execution_count": 18,
   "id": "fe239150-a732-43b6-9511-e352138fa4a0",
   "metadata": {},
   "outputs": [
    {
     "name": "stdout",
     "output_type": "stream",
     "text": [
      "(2,19)(3,22)(4,7)(5,25)(6,26)(8,13)(9,14)(11,16)(12,17)(18,27)(20,24)(21,23)\n"
     ]
    }
   ],
   "source": [
    "M2 = [mat for mat in simm_SE1 if mat != matrix.identity(4)][0]\n",
    "M2_perm = Permutation(apply_proj_to_lines(M2, list(SE1.cl_lines.values()))).to_permutation_group_element()\n",
    "print(M2_perm)"
   ]
  },
  {
   "cell_type": "code",
   "execution_count": 19,
   "id": "1bc8369e-c990-4bad-ab5e-82eee248988d",
   "metadata": {},
   "outputs": [],
   "source": [
    "perms_lines = []\n",
    "for perm in adm_perm:\n",
    "    perms_lines.append(Permutation([perm.index(label)+1 for label in keys]).to_cycles())"
   ]
  },
  {
   "cell_type": "code",
   "execution_count": 20,
   "id": "e7867d65-d44f-481a-a007-aed7c2423bc2",
   "metadata": {},
   "outputs": [],
   "source": [
    "Gr = PermutationGroup(perms_lines)"
   ]
  },
  {
   "cell_type": "code",
   "execution_count": 21,
   "id": "9fc2a896-232f-4245-b9df-694886a6d9f3",
   "metadata": {},
   "outputs": [
    {
     "data": {
      "text/plain": [
       "1152"
      ]
     },
     "execution_count": 21,
     "metadata": {},
     "output_type": "execute_result"
    }
   ],
   "source": [
    "Gr.order()"
   ]
  },
  {
   "cell_type": "code",
   "execution_count": 22,
   "id": "c4c1598b-da41-40f5-87dd-be61665d64c0",
   "metadata": {},
   "outputs": [
    {
     "data": {
      "text/plain": [
       "2"
      ]
     },
     "execution_count": 22,
     "metadata": {},
     "output_type": "execute_result"
    }
   ],
   "source": [
    "M2_perm.order()"
   ]
  },
  {
   "cell_type": "code",
   "execution_count": null,
   "id": "90a3936c-b318-4e02-b9ad-0bece4af3247",
   "metadata": {},
   "outputs": [],
   "source": []
  },
  {
   "cell_type": "code",
   "execution_count": null,
   "id": "82fd3262-6815-489c-b9db-eeab88d53bb9",
   "metadata": {},
   "outputs": [],
   "source": []
  },
  {
   "cell_type": "code",
   "execution_count": null,
   "id": "605bf988-8037-4d6b-add2-28601d3dec42",
   "metadata": {},
   "outputs": [],
   "source": []
  }
 ],
 "metadata": {
  "kernelspec": {
   "display_name": "SageMath 9.4",
   "language": "sage",
   "name": "sagemath"
  },
  "language_info": {
   "codemirror_mode": {
    "name": "ipython",
    "version": 3
   },
   "file_extension": ".py",
   "mimetype": "text/x-python",
   "name": "python",
   "nbconvert_exporter": "python",
   "pygments_lexer": "ipython3",
   "version": "3.7.12"
  }
 },
 "nbformat": 4,
 "nbformat_minor": 5
}
