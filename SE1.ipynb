{
 "cells": [
  {
   "cell_type": "code",
   "execution_count": 1,
   "id": "58320e02-53d1-4aa8-9435-b12c34877bd1",
   "metadata": {},
   "outputs": [],
   "source": [
    "load('Imports/Utility.sage', 'Imports/Point.sage', 'Imports/Line.sage', 'Imports/Tritangent_plane.sage', 'Imports/Group.sage', 'Imports/Cubic.sage')\n",
    "import multiprocessing as mp\n",
    "import pickle"
   ]
  },
  {
   "cell_type": "code",
   "execution_count": 2,
   "id": "5ed78749-98c1-4b4b-93a0-936bbe48e5c3",
   "metadata": {},
   "outputs": [],
   "source": [
    "P.<x,y,z,t,b,c,d,e,f,l,m> = PolynomialRing(QQ)"
   ]
  },
  {
   "cell_type": "code",
   "execution_count": 3,
   "id": "3e2fe0b5-1ebd-4851-a5ef-2dd9d17b7dc6",
   "metadata": {},
   "outputs": [],
   "source": [
    "cubic_new = e*f*(2*x^2*y-2*x*y^2+x*z^2-x*z*t-y*t^2+y*z*t)+b*c*(x-t)*(x*z+y*t)+c*c*(z+t)*(y*t-x*z)+d*c*(y-z)*(x*z+y*t)+(e+f)*c*(x-y)*(y*t-x*z)"
   ]
  },
  {
   "cell_type": "code",
   "execution_count": 4,
   "id": "a41eb624-67cc-4e8e-a0da-c788de4b2d50",
   "metadata": {},
   "outputs": [],
   "source": [
    "sing_cubics = (-1) * (-c + f) * (-c + e) * c * (c + f) * (c + e) * (-e + f)^2 * (-c*d + c*f + e*f) * (-c*d + c*e + e*f) * (-c^2 - c*d + e*f) * (b*c - c*f + e*f) * (b*c - c*e + e*f) * (b*c - c*d + 2*e*f) * (b*c - c^2 + e*f) * (b*c^2 + c^2*d + b*c*f - 2*c^2*f - c*d*f + 2*e*f^2) * (b*c^2 + c^2*d + b*c*e - 2*c^2*e - c*d*e + 2*e^2*f) * (-b*c^3 - 2*b*c^2*d + c^3*d + b*c^2*e + c^2*d*e + b*c^2*f + c^2*d*f + 3*b*c*e*f - 4*c^2*e*f - 3*c*d*e*f + 4*e^2*f^2)"
   ]
  },
  {
   "cell_type": "code",
   "execution_count": 5,
   "id": "38181a6a-092f-4055-83a6-ed36cc76404a",
   "metadata": {},
   "outputs": [],
   "source": [
    "line = Line([y, z])"
   ]
  },
  {
   "cell_type": "code",
   "execution_count": 6,
   "id": "2fa2d420-3824-470c-ad8e-25435531538b",
   "metadata": {},
   "outputs": [],
   "source": [
    "eqn_SE1 = P(cubic_new.subs({b:-(c*c+e*f)/c }) )"
   ]
  },
  {
   "cell_type": "code",
   "execution_count": 7,
   "id": "5cc4b2fe-9082-4d18-9756-acfb572b7bbe",
   "metadata": {},
   "outputs": [],
   "source": [
    "sing_cubics_SE1 = P(sing_cubics.subs({b:-(c*c+e*f)/c }))"
   ]
  },
  {
   "cell_type": "code",
   "execution_count": 8,
   "id": "be0c1a4d-7f9c-4ded-ada9-44749d011496",
   "metadata": {},
   "outputs": [],
   "source": [
    "SE1 = Cubic(eqn_SE1, line, sing_cubics_SE1.factor())"
   ]
  },
  {
   "cell_type": "code",
   "execution_count": 9,
   "id": "6c09bf33-861e-4f08-8a01-8f1cd46f35c2",
   "metadata": {},
   "outputs": [
    {
     "name": "stdout",
     "output_type": "stream",
     "text": [
      "CPU times: user 1.25 s, sys: 157 ms, total: 1.41 s\n",
      "Wall time: 10.3 s\n"
     ]
    }
   ],
   "source": [
    "%time adm_SE1 = SE1.find_admissible_projectivities()"
   ]
  },
  {
   "cell_type": "code",
   "execution_count": 10,
   "id": "20fadd59-de6b-4d4a-9dbf-39de94506580",
   "metadata": {},
   "outputs": [
    {
     "data": {
      "text/plain": [
       "576"
      ]
     },
     "execution_count": 10,
     "metadata": {},
     "output_type": "execute_result"
    }
   ],
   "source": [
    "len(adm_SE1)"
   ]
  },
  {
   "cell_type": "code",
   "execution_count": 11,
   "id": "39c972e1-420f-4a36-b908-f5ec1b6ddec8",
   "metadata": {},
   "outputs": [
    {
     "name": "stdout",
     "output_type": "stream",
     "text": [
      "CPU times: user 1.07 s, sys: 69.3 ms, total: 1.14 s\n",
      "Wall time: 4.67 s\n"
     ]
    }
   ],
   "source": [
    "%time simm_SE1 = SE1.find_simmetries(adm_SE1)"
   ]
  },
  {
   "cell_type": "code",
   "execution_count": 12,
   "id": "b2ad2377-f8b4-47e5-a65f-3f8b3834ca52",
   "metadata": {},
   "outputs": [
    {
     "data": {
      "text/plain": [
       "2"
      ]
     },
     "execution_count": 12,
     "metadata": {},
     "output_type": "execute_result"
    }
   ],
   "source": [
    "len(simm_SE1)"
   ]
  },
  {
   "cell_type": "code",
   "execution_count": 13,
   "id": "e5d6e171-b5b9-4f12-b1eb-2fbe41a76fc6",
   "metadata": {},
   "outputs": [],
   "source": [
    "G_SE1 = Group(simm_SE1)"
   ]
  },
  {
   "cell_type": "code",
   "execution_count": 14,
   "id": "231001ac-f2a7-4f48-bacd-d0bf507887a2",
   "metadata": {},
   "outputs": [
    {
     "data": {
      "text/plain": [
       "True"
      ]
     },
     "execution_count": 14,
     "metadata": {},
     "output_type": "execute_result"
    }
   ],
   "source": [
    "G_SE1.is_group()"
   ]
  },
  {
   "cell_type": "code",
   "execution_count": 15,
   "id": "7a5ea253-f57e-4aa6-b674-70234f44eb0a",
   "metadata": {},
   "outputs": [
    {
     "data": {
      "text/plain": [
       "2"
      ]
     },
     "execution_count": 15,
     "metadata": {},
     "output_type": "execute_result"
    }
   ],
   "source": [
    "G_SE1.get_order()"
   ]
  },
  {
   "cell_type": "code",
   "execution_count": 16,
   "id": "7222ce1e-4347-4977-8f8d-ce57e5213d68",
   "metadata": {},
   "outputs": [
    {
     "data": {
      "text/plain": [
       "True"
      ]
     },
     "execution_count": 16,
     "metadata": {},
     "output_type": "execute_result"
    }
   ],
   "source": [
    "G_SE1.is_abelian()"
   ]
  },
  {
   "cell_type": "code",
   "execution_count": 17,
   "id": "24e5d291-319e-441d-803e-3b5868525e7a",
   "metadata": {},
   "outputs": [
    {
     "data": {
      "text/plain": [
       "[1, 2]"
      ]
     },
     "execution_count": 17,
     "metadata": {},
     "output_type": "execute_result"
    }
   ],
   "source": [
    "G_SE1.get_divisors_of_order()"
   ]
  },
  {
   "cell_type": "code",
   "execution_count": 18,
   "id": "58e78a81-5471-4152-a7ed-201f39b122b7",
   "metadata": {},
   "outputs": [
    {
     "data": {
      "text/plain": [
       "[1, 2]"
      ]
     },
     "execution_count": 18,
     "metadata": {},
     "output_type": "execute_result"
    }
   ],
   "source": [
    "G_SE1.get_order_of_elements()"
   ]
  },
  {
   "cell_type": "code",
   "execution_count": 19,
   "id": "514cf592-923c-4d6f-b549-3bd5a5fa582b",
   "metadata": {},
   "outputs": [
    {
     "data": {
      "text/plain": [
       "[(0, 0, 0, 1), (0, 0, 0, 1)]"
      ]
     },
     "execution_count": 19,
     "metadata": {},
     "output_type": "execute_result"
    }
   ],
   "source": [
    "G_SE1.apply_to(SE1.eckardt_points[0])"
   ]
  },
  {
   "cell_type": "code",
   "execution_count": null,
   "id": "e077d9e6-d1a2-40a7-bde6-333230c1537a",
   "metadata": {},
   "outputs": [],
   "source": [
    "def find_conditions_for_subfamilies(cubic, sing_cubics, projectivities, simmetries):\n",
    "    mon = ((x+y+z+t)^3).monomials()\n",
    "    conditions = []\n",
    "    sing_cubics_factored = sing_cubics.factor()\n",
    "    for M in [proj for proj in projectivities if proj not in simmetries]:\n",
    "        sost = change_coord(M)\n",
    "        new_cubic = remove_sing_factors(cubic.eqn.subs(sost), sing_cubics_factored)    \n",
    "        minor = matrix([[new_cubic.coefficient(mn) for mn in mon], [cubic.eqn.coefficient(mn) for mn in mon]]).minors(2)\n",
    "        minor = list(set([remove_sing_factors(el, sing_cubics_factored) for el in minor if el !=0]))\n",
    "        ideale = cubic.P.ideal(minor)\n",
    "        new_ideals = get_valid_ideals(ideale, cubic, sing_cubics_factored)\n",
    "        for ideal in new_ideals:            \n",
    "            prim_deco2 = (ideale + ideal).radical().primary_decomposition()\n",
    "            for ideal2 in prim_deco2:\n",
    "                if is_ideal_valid(ideal2, cubic, sing_cubics_factored):\n",
    "                    conditions.append(ideal2.gens())                        \n",
    "    return list(set(conditions))\n",
    "\n",
    "\n",
    "def get_valid_ideals(ideale, cubic, sing_cubics_factored):\n",
    "    valid_ideals = []\n",
    "    vrs = [c,d,e,f]\n",
    "    for vr in vrs:\n",
    "        valid_ideals_var = []\n",
    "        del_ideale = ideale.elimination_ideal([vr])\n",
    "        prim_deco_del = del_ideale.radical().primary_decomposition()\n",
    "        for ideal in prim_deco_del:\n",
    "            if is_ideal_valid(ideal, cubic, sing_cubics_factored):\n",
    "                valid_ideals_var.append(ideal)\n",
    "        if valid_ideals_var == []:\n",
    "            return []\n",
    "        else:\n",
    "            valid_ideals.append(valid_ideals_var)\n",
    "    #return [id1+id2+id3 for id1 in valid_ideals[0] for id2 in valid_ideals[1] for id3 in valid_ideals[2]]   \n",
    "    return [id1+id2+id3+id4 for id1 in valid_ideals[0] for id2 in valid_ideals[1] for id3 in valid_ideals[2] for id4 in valid_ideals[3]]           "
   ]
  },
  {
   "cell_type": "raw",
   "id": "3b791dee-ea44-47c0-a47d-54cf074f5def",
   "metadata": {},
   "source": [
    "%time conds_0_217 = find_conditions_for_subfamilies(SE1, sing_cubics_SE1, adm_SE1[0:217], simm_SE1)"
   ]
  },
  {
   "cell_type": "code",
   "execution_count": null,
   "id": "b0b23232-62ca-4668-bd8f-36d6dec8d252",
   "metadata": {},
   "outputs": [],
   "source": [
    "def get_valid_ideals(ideale, cubic, sing_cubics_factored):\n",
    "    valid_ideals = []\n",
    "    vrs = [c,e,f]\n",
    "    for vr in vrs:\n",
    "        valid_ideals_var = []\n",
    "        del_ideale = ideale.elimination_ideal([vr])\n",
    "        prim_deco_del = del_ideale.radical().primary_decomposition()\n",
    "        for ideal in prim_deco_del:\n",
    "            if is_ideal_valid(ideal, cubic, sing_cubics_factored):\n",
    "                valid_ideals_var.append(ideal)\n",
    "        if valid_ideals_var == []:\n",
    "            return []\n",
    "        else:\n",
    "            valid_ideals.append(valid_ideals_var)\n",
    "    return [id1+id2+id3 for id1 in valid_ideals[0] for id2 in valid_ideals[1] for id3 in valid_ideals[2]]   "
   ]
  },
  {
   "cell_type": "raw",
   "id": "3a976455-8df7-4ea7-a790-eefffe03c19a",
   "metadata": {},
   "source": [
    "%time conds = find_conditions_for_subfamilies(SE1, sing_cubics_SE1, adm_SE1[217:], simm_SE1)"
   ]
  },
  {
   "cell_type": "raw",
   "id": "84b144ef-20ef-46a2-901d-2de1c464ba4e",
   "metadata": {},
   "source": [
    "conditions = list(set(conds_0_217+conds))"
   ]
  },
  {
   "cell_type": "raw",
   "id": "308ad662-53bc-4997-a037-563786b69f20",
   "metadata": {},
   "source": [
    "len(conditions)"
   ]
  },
  {
   "cell_type": "raw",
   "id": "2add9e7e-c59e-4a24-bebd-d562705aff5f",
   "metadata": {},
   "source": [
    "with open('conditions.pickle', 'wb') as f:\n",
    "    # Pickle the 'data' dictionary using the highest protocol available.\n",
    "    pickle.dump(conditions, f, pickle.HIGHEST_PROTOCOL)"
   ]
  },
  {
   "cell_type": "code",
   "execution_count": 20,
   "id": "15ea92c8-5cda-4446-b052-ed76d056c8b7",
   "metadata": {},
   "outputs": [],
   "source": [
    "with open('conditions.pickle', 'rb') as ff:\n",
    "    conditions = pickle.load(ff)"
   ]
  },
  {
   "cell_type": "code",
   "execution_count": 21,
   "id": "f05655ca-4181-4651-8a52-820628c34f43",
   "metadata": {},
   "outputs": [
    {
     "data": {
      "text/plain": [
       "62"
      ]
     },
     "execution_count": 21,
     "metadata": {},
     "output_type": "execute_result"
    }
   ],
   "source": [
    "len(conditions)"
   ]
  },
  {
   "cell_type": "code",
   "execution_count": 92,
   "id": "e685eeac-cf14-4e4c-816f-7ded7a4021d5",
   "metadata": {},
   "outputs": [
    {
     "data": {
      "text/plain": [
       "[16*c^2 + d^2 + 16*c*e + 2*d*e + 5*e^2 - 2*d*f - 2*e*f + f^2, 32*c*d*e + d^2*e - 64*c*e^2 + 2*d*e^2 + 5*e^3 - 48*c*d*f + 6*d^2*f + 160*c*e*f - 6*d*e*f - 36*e^2*f - 48*c*f^2 - 12*d*f^2 + 101*e*f^2 + 6*f^3, 5*d^3 - 2*d^2*e - 32*c*e^2 + d*e^2 - 60*e^3 + 32*c*d*f - 13*d^2*f - 16*c*e*f + 40*d*e*f + 153*e^2*f + 64*c*f^2 + 11*d*f^2 - 134*e*f^2 - 3*f^3, 80*c*d^2 + 11*d^2*e - 304*c*e^2 + 22*d*e^2 + 55*e^3 - 176*c*d*f + 34*d^2*f + 1088*c*e*f - 130*d*e*f - 44*e^2*f - 192*c*f^2 - 68*d*f^2 + 407*e*f^2 + 34*f^3]"
      ]
     },
     "execution_count": 92,
     "metadata": {},
     "output_type": "execute_result"
    }
   ],
   "source": [
    "cond = conditions[1]\n",
    "cond"
   ]
  },
  {
   "cell_type": "code",
   "execution_count": 93,
   "id": "bf7197d5-c181-4169-9fa2-a3f9585258c8",
   "metadata": {},
   "outputs": [
    {
     "data": {
      "text/plain": [
       "((c, d, e, f), [2, 2, 2, 2])"
      ]
     },
     "execution_count": 93,
     "metadata": {},
     "output_type": "execute_result"
    }
   ],
   "source": [
    "i=0\n",
    "cond[i].variables(), [cond[i].degree(kk) for kk in cond[i].variables()]"
   ]
  },
  {
   "cell_type": "code",
   "execution_count": 94,
   "id": "1b4376b7-0753-4d88-83a0-60178b2aa682",
   "metadata": {},
   "outputs": [
    {
     "name": "stdout",
     "output_type": "stream",
     "text": [
      "(c, d, e, f) [2, 2, 2, 2]\n",
      "(c, d, e, f) [1, 2, 3, 3]\n",
      "(c, d, e, f) [1, 3, 3, 3]\n",
      "(c, d, e, f) [1, 2, 3, 3]\n"
     ]
    }
   ],
   "source": [
    "for i in range(len(cond)):\n",
    "    print(cond[i].variables(), [cond[i].degree(kk) for kk in cond[i].variables()])"
   ]
  },
  {
   "cell_type": "code",
   "execution_count": 42,
   "id": "c1a007ff-1210-4804-9372-a9b110020034",
   "metadata": {},
   "outputs": [
    {
     "data": {
      "text/plain": [
       "(5) * f"
      ]
     },
     "execution_count": 42,
     "metadata": {},
     "output_type": "execute_result"
    }
   ],
   "source": [
    "cond[0].coefficient(d).factor()"
   ]
  },
  {
   "cell_type": "code",
   "execution_count": 47,
   "id": "c5b0471a-9347-4775-a48c-750fe38e0474",
   "metadata": {},
   "outputs": [
    {
     "data": {
      "text/plain": [
       "51*e^2 - 46*c*f - 39*e*f + 16*f^2"
      ]
     },
     "execution_count": 47,
     "metadata": {},
     "output_type": "execute_result"
    }
   ],
   "source": [
    "cond[0].subs({d:0}).factor()"
   ]
  },
  {
   "cell_type": "code",
   "execution_count": 101,
   "id": "50e9f915-d030-491c-829b-53ecce320603",
   "metadata": {},
   "outputs": [
    {
     "data": {
      "text/plain": [
       "Ideal (25*c^4 + 10*c^3*d + 5*c^2*d^2 + 32*c^3*f + 10*c^2*d*f + 2*c*d^2*f + 22*c^2*f^2 - 2*c*d*f^2 + d^2*f^2 - 2*d*f^3 + f^4) of Multivariate Polynomial Ring in x, y, z, t, b, c, d, e, f, l, m over Rational Field"
      ]
     },
     "execution_count": 101,
     "metadata": {},
     "output_type": "execute_result"
    }
   ],
   "source": [
    "P.ideal(cond).elimination_ideal([e])"
   ]
  },
  {
   "cell_type": "code",
   "execution_count": 67,
   "id": "fc43c801-c3ce-4394-9401-03946beb51e2",
   "metadata": {},
   "outputs": [],
   "source": [
    "var('nv')\n",
    "K1.<beta> = NumberField(9*nv^4-2*nv^2+1)"
   ]
  },
  {
   "cell_type": "code",
   "execution_count": 68,
   "id": "fdc18cfe-5efd-4cf9-ab84-24beac5db24d",
   "metadata": {},
   "outputs": [],
   "source": [
    "Q = PolynomialRing(K1, P.gens())"
   ]
  },
  {
   "cell_type": "code",
   "execution_count": 72,
   "id": "70fbe761-cc17-4604-a8f4-8865ada45d20",
   "metadata": {},
   "outputs": [
    {
     "data": {
      "text/plain": [
       "[Ideal (34*e + (-135*beta^3 + 9*beta^2 + 9*beta - 21)*f, 34*d + (-45*beta^3 - 99*beta^2 + 139*beta - 7)*f, 34*c + (-63*beta^3 + 45*beta^2 + 11*beta - 3)*f) of Multivariate Polynomial Ring in x, y, z, t, b, c, d, e, f, l, m over Number Field in beta with defining polynomial 9*nv^4 - 2*nv^2 + 1,\n",
       " Ideal (34*e + (-63*beta^3 - 9*beta^2 - 31*beta - 19)*f, 34*d + (387*beta^3 + 99*beta^2 - 101*beta - 29)*f, 34*c + (-9*beta^3 - 45*beta^2 - 19*beta + 7)*f) of Multivariate Polynomial Ring in x, y, z, t, b, c, d, e, f, l, m over Number Field in beta with defining polynomial 9*nv^4 - 2*nv^2 + 1,\n",
       " Ideal (34*e + (63*beta^3 - 9*beta^2 + 31*beta - 19)*f, 34*d + (-387*beta^3 + 99*beta^2 + 101*beta - 29)*f, 34*c + (9*beta^3 - 45*beta^2 + 19*beta + 7)*f) of Multivariate Polynomial Ring in x, y, z, t, b, c, d, e, f, l, m over Number Field in beta with defining polynomial 9*nv^4 - 2*nv^2 + 1,\n",
       " Ideal (34*e + (135*beta^3 + 9*beta^2 - 9*beta - 21)*f, 34*d + (45*beta^3 - 99*beta^2 - 139*beta - 7)*f, 34*c + (63*beta^3 + 45*beta^2 - 11*beta - 3)*f) of Multivariate Polynomial Ring in x, y, z, t, b, c, d, e, f, l, m over Number Field in beta with defining polynomial 9*nv^4 - 2*nv^2 + 1]"
      ]
     },
     "execution_count": 72,
     "metadata": {},
     "output_type": "execute_result"
    }
   ],
   "source": [
    "ideals = Q.ideal(cond).radical().primary_decomposition()\n",
    "ideals"
   ]
  },
  {
   "cell_type": "code",
   "execution_count": 80,
   "id": "1750fde3-f982-4cf6-982b-8233fe46485a",
   "metadata": {},
   "outputs": [
    {
     "data": {
      "text/plain": [
       "[34*e + (-135*beta^3 + 9*beta^2 + 9*beta - 21)*f, 34*d + (-45*beta^3 - 99*beta^2 + 139*beta - 7)*f, 34*c + (-63*beta^3 + 45*beta^2 + 11*beta - 3)*f]"
      ]
     },
     "execution_count": 80,
     "metadata": {},
     "output_type": "execute_result"
    }
   ],
   "source": [
    "ideals[0].gens()"
   ]
  },
  {
   "cell_type": "code",
   "execution_count": 85,
   "id": "4d958aba-ea46-4d89-9a45-042c4749094f",
   "metadata": {},
   "outputs": [],
   "source": [
    "sost = solve_linear_system(ideals[0].gens(), [Q(c),Q(d),Q(e)], [Q(f)])\n",
    "vrs = [Q(c),Q(d),Q(e),Q(f)]"
   ]
  },
  {
   "cell_type": "code",
   "execution_count": 91,
   "id": "5f3f579d-388c-4bb1-8fc8-fc5274a0180b",
   "metadata": {},
   "outputs": [
    {
     "data": {
      "text/plain": [
       "((12267564480*beta^3 - 817837632*beta^2 - 817837632*beta + 1908287808)) * f^2 * (x^2*y - x*y^2 + (-87/34*beta^3 + 33/34*beta^2 + 31/102*beta - 61/102)*x^2*z + (93/34*beta^3 - 15/17*beta^2 - 107/102*beta + 37/51)*x*y*z + (-15/34*beta^3 + 9/17*beta^2 + 37/102*beta - 4/17)*x*z^2 + (39/17*beta^3 - 6/17*beta^2 - 35/51*beta - 26/51)*x*y*t + (-36/17*beta^3 + 15/34*beta^2 - 1/17*beta + 65/102)*y^2*t + (-3/17*beta^3 - 3/34*beta^2 + 38/51*beta - 13/102)*y*z*t + (9/34*beta^3 - 21/34*beta^2 + 13/34*beta + 11/102)*y*t^2)"
      ]
     },
     "execution_count": 91,
     "metadata": {},
     "output_type": "execute_result"
    }
   ],
   "source": [
    "Q(SE1.eqn).subs({vrs[i]:sost[i] for i in range(4)}).factor()"
   ]
  },
  {
   "cell_type": "code",
   "execution_count": null,
   "id": "2fd32c77-1801-4193-b6e4-784c87e21180",
   "metadata": {},
   "outputs": [],
   "source": []
  },
  {
   "cell_type": "code",
   "execution_count": null,
   "id": "0f4199e8-8ac9-4af8-9d33-789f2b9869fa",
   "metadata": {},
   "outputs": [],
   "source": []
  },
  {
   "cell_type": "code",
   "execution_count": null,
   "id": "e9c4ecdd-c741-4224-9487-3fbab5335ce0",
   "metadata": {},
   "outputs": [],
   "source": []
  },
  {
   "cell_type": "code",
   "execution_count": null,
   "id": "e0ef531f-adfb-459f-b5f6-183506b988f7",
   "metadata": {},
   "outputs": [],
   "source": []
  },
  {
   "cell_type": "code",
   "execution_count": null,
   "id": "f9406db1-5442-438d-bb7a-c1f3d5537225",
   "metadata": {},
   "outputs": [],
   "source": []
  },
  {
   "cell_type": "code",
   "execution_count": null,
   "id": "9ac73e89-3b76-4ff8-a2bf-bdb607171908",
   "metadata": {},
   "outputs": [],
   "source": []
  },
  {
   "cell_type": "code",
   "execution_count": 43,
   "id": "e7b1e09e-705e-4d74-9532-ba94c55e0297",
   "metadata": {},
   "outputs": [
    {
     "data": {
      "text/plain": [
       "(2) * (-c + f) * (-c + e) * (-e + f)^2 * (c + f)^2 * (c + e)^2 * c^5 * (-c*d + c*f + e*f) * (-c*d + c*e + e*f) * (-c^2 - c*d + e*f)^2 * (-c^3 + c^2*d - 3*c^2*f - c*d*f - c*e*f + e*f^2) * (-c^3 + c^2*d - 3*c^2*e - c*d*e - c*e*f + e^2*f) * (c^4 + 3*c^3*d - c^3*e + c^2*d*e - c^3*f + c^2*d*f - 6*c^2*e*f - c*d*e*f - c*e^2*f - c*e*f^2 + e^2*f^2)"
      ]
     },
     "execution_count": 43,
     "metadata": {},
     "output_type": "execute_result"
    }
   ],
   "source": [
    "sing_cubics_SE1.factor()"
   ]
  },
  {
   "cell_type": "code",
   "execution_count": 45,
   "id": "b814a049-d51e-4da6-b422-8c03f916548f",
   "metadata": {},
   "outputs": [
    {
     "data": {
      "text/plain": [
       "(-3*c^2 - c*e - c*f + e*f) * (-3*c^2 - c*d + e*f) * (-c^2 - 2*c*d + c*e + c*f + 3*e*f) * (c^2 - c*e + 3*c*f + e*f) * (c^2 + 3*c*e - c*f + e*f) * (c^2 - c*d + e*f) * (c^2*d - 2*c^2*e - c*d*e + c^2*f + e^2*f) * (c^2*d + c^2*e - 2*c^2*f - c*d*f + e*f^2) * (-c^3 + c*d*e - 2*c^2*f - c*d*f - c*e*f - e^2*f + e*f^2) * (-c^3 - 2*c^2*d - c*d*e - c*d*f + 3*c*e*f + e^2*f + e*f^2) * (-c^3 + c^2*d - 2*c^2*e - c^2*f - c*d*f - c*e*f + e*f^2) * (-c^3 + c^2*d - c^2*e - c*d*e - 2*c^2*f - c*e*f + e^2*f) * (c^3 + 2*c^2*e + c*d*e - c*d*f + c*e*f - e^2*f + e*f^2) * (c^3 + 3*c^2*d - 3*c^2*f - c*d*f - 3*c*e*f + e*f^2) * (c^3 + 3*c^2*d - 3*c^2*e - c*d*e - 3*c*e*f + e^2*f) * (-2*c^3*d + c^3*e - c^2*d*e + c^3*f - c^2*d*f + 5*c^2*e*f + c*d*e*f + c*e^2*f - c^2*f^2 - c*d*f^2 + c*e*f^2 - e^2*f^2 + e*f^3) * (c^3*d - c^3*e - c^3*f - 3*c^2*e*f - c*d*e*f + e^2*f^2) * (2*c^3*d - c^3*e + c^2*d*e + c^2*e^2 + c*d*e^2 - c^3*f + c^2*d*f - 5*c^2*e*f - c*d*e*f - c*e^2*f - e^3*f - c*e*f^2 + e^2*f^2) * (-3*c^4 - c^3*d - c^3*e + c^2*d*e - c^3*f + c^2*d*f - 2*c^2*e*f - c*d*e*f - c*e^2*f - c*e*f^2 + e^2*f^2) * (-c^4 + 3*c^3*d - 3*c^3*e + c^2*d*e - 3*c^3*f + c^2*d*f - 8*c^2*e*f - c*d*e*f - c*e^2*f - c*e*f^2 + e^2*f^2) * (c^4 + c^3*d - c^3*e + c^2*d*e + c^3*f - c^2*d*f - 4*c^2*e*f - c*d*e*f - c*e^2*f + 2*c^2*f^2 + c*e*f^2 + e^2*f^2) * (c^4 + c^3*d + c^3*e - c^2*d*e + 2*c^2*e^2 - c^3*f + c^2*d*f - 4*c^2*e*f - c*d*e*f + c*e^2*f - c*e*f^2 + e^2*f^2) * (c^4 + c^3*d + 2*c^2*d^2 + c^3*e - c^2*d*e + c^3*f - c^2*d*f + 2*c^2*e*f - 3*c*d*e*f + c*e^2*f + c*e*f^2 + e^2*f^2) * (c^5 - c^4*d - c^4*e - 3*c^3*d*e + 4*c^4*f + 4*c^3*d*f + c^3*e*f + 3*c^2*e^2*f - c^3*f^2 + c^2*d*f^2 - 7*c^2*e*f^2 - c*d*e*f^2 - c*e*f^3 + e^2*f^3) * (c^5 - c^4*d + 4*c^4*e + 4*c^3*d*e - c^3*e^2 + c^2*d*e^2 - c^4*f - 3*c^3*d*f + c^3*e*f - 7*c^2*e^2*f - c*d*e^2*f - c*e^3*f + 3*c^2*e*f^2 + e^3*f^2) * (c^5*d - c^4*d^2 - 2*c^5*e - c^4*d*e - c^3*d^2*e + c^5*f + 6*c^4*d*f + c^3*d^2*f - 4*c^4*e*f + 4*c^3*d*e*f + c^2*d^2*e*f + c^3*e^2*f + 2*c^2*d*e^2*f - c^4*f^2 + c^3*d*f^2 - 9*c^3*e*f^2 - 3*c^2*d*e*f^2 - 3*c^2*e^2*f^2 - 2*c*d*e^2*f^2 - c*e^3*f^2 - c^2*e*f^3 + 2*c*e^2*f^3 + e^3*f^3) * (c^5*d - c^4*d^2 + c^5*e + 6*c^4*d*e + c^3*d^2*e - c^4*e^2 + c^3*d*e^2 - 2*c^5*f - c^4*d*f - c^3*d^2*f - 4*c^4*e*f + 4*c^3*d*e*f + c^2*d^2*e*f - 9*c^3*e^2*f - 3*c^2*d*e^2*f - c^2*e^3*f + c^3*e*f^2 + 2*c^2*d*e*f^2 - 3*c^2*e^2*f^2 - 2*c*d*e^2*f^2 + 2*c*e^3*f^2 - c*e^2*f^3 + e^3*f^3) * (-c^6 - 4*c^5*d + c^4*d^2 + c^5*e - 4*c^4*d*e - c^3*d^2*e + c^5*f - 4*c^4*d*f - c^3*d^2*f + 11*c^4*e*f + 2*c^3*d*e*f + c^2*d^2*e*f + 4*c^3*e^2*f + 2*c^2*d*e^2*f + 4*c^3*e*f^2 + 2*c^2*d*e*f^2 - 3*c^2*e^2*f^2 - 2*c*d*e^2*f^2 - c*e^3*f^2 - c*e^2*f^3 + e^3*f^3)"
      ]
     },
     "execution_count": 45,
     "metadata": {},
     "output_type": "execute_result"
    }
   ],
   "source": [
    "lcm([pl.conditions for pl in SE1.tritangent_planes if pl.conditions !=0]).factor()"
   ]
  },
  {
   "cell_type": "code",
   "execution_count": null,
   "id": "778e45d9-9f19-47b3-ae2b-75bd24bc687e",
   "metadata": {},
   "outputs": [],
   "source": []
  },
  {
   "cell_type": "code",
   "execution_count": null,
   "id": "e6f7327b-d1d3-4cad-8b9c-69359f8e749b",
   "metadata": {},
   "outputs": [],
   "source": []
  },
  {
   "cell_type": "code",
   "execution_count": 22,
   "id": "57164b4e-dcfe-45c6-8c0c-151b9adcaa9a",
   "metadata": {},
   "outputs": [
    {
     "data": {
      "text/plain": [
       "[e^3 - 512/391*e^2*f + 63/391*d*f^2 + 332/391*e*f^2 - 33/391*f^3, d^2 + 243/23*e^2 - 10/23*d*f - 152/23*e*f + 37/23*f^2, d*e - 70/23*e^2 - 24/23*d*f + 63/23*e*f - 63/23*f^2]"
      ]
     },
     "execution_count": 22,
     "metadata": {},
     "output_type": "execute_result"
    }
   ],
   "source": [
    "P.ideal(conditions[0]).elimination_ideal([c]).groebner_basis()"
   ]
  },
  {
   "cell_type": "code",
   "execution_count": 24,
   "id": "2a97fcae-8cb8-4d63-a3a5-b5f20520bdd6",
   "metadata": {},
   "outputs": [],
   "source": [
    "nc = Cubic(SE1.eqn.subs({d:e-3*f, c:2*f-e}), line, sing_cubics_SE1.subs({d:e-3*f, c:2*f-e}))"
   ]
  },
  {
   "cell_type": "code",
   "execution_count": 25,
   "id": "6b9296b9-a054-4e17-8762-893a41effd9f",
   "metadata": {},
   "outputs": [
    {
     "data": {
      "text/plain": [
       "[\n",
       "[1 0 0 0]  [-e^2 + 4*e*f - 4*f^2                    0                    0   -e^2 + 2*e*f - f^2]\n",
       "[0 1 0 0]  [                   0 -e^2 + 4*e*f - 4*f^2                    0        2*e*f - 4*f^2]\n",
       "[0 0 1 0]  [                   0                    0 -e^2 + 4*e*f - 4*f^2  e^2 - 4*e*f + 5*f^2]\n",
       "[0 0 0 1], [                   0                    0                    0  e^2 - 4*e*f + 4*f^2]\n",
       "]"
      ]
     },
     "execution_count": 25,
     "metadata": {},
     "output_type": "execute_result"
    }
   ],
   "source": [
    "nc.find_simmetries(nc.find_admissible_projectivities())"
   ]
  },
  {
   "cell_type": "code",
   "execution_count": null,
   "id": "635468e0-2677-48a5-bf91-7d1de849d275",
   "metadata": {},
   "outputs": [],
   "source": []
  }
 ],
 "metadata": {
  "kernelspec": {
   "display_name": "SageMath 9.3",
   "language": "sage",
   "name": "sagemath"
  },
  "language_info": {
   "codemirror_mode": {
    "name": "ipython",
    "version": 3
   },
   "file_extension": ".py",
   "mimetype": "text/x-python",
   "name": "python",
   "nbconvert_exporter": "python",
   "pygments_lexer": "ipython3",
   "version": "3.7.10"
  }
 },
 "nbformat": 4,
 "nbformat_minor": 5
}
