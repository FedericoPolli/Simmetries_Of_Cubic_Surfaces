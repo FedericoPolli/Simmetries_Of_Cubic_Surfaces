{
 "cells": [
  {
   "cell_type": "code",
   "execution_count": 23,
   "id": "58320e02-53d1-4aa8-9435-b12c34877bd1",
   "metadata": {},
   "outputs": [],
   "source": [
    "load('Imports/Utility.sage', 'Imports/Point.sage', 'Imports/Line.sage', 'Imports/Tritangent_plane.sage', 'Imports/Group.sage', 'Imports/Cubic.sage')\n",
    "import multiprocessing as mp\n",
    "import pickle"
   ]
  },
  {
   "cell_type": "code",
   "execution_count": 24,
   "id": "5ed78749-98c1-4b4b-93a0-936bbe48e5c3",
   "metadata": {},
   "outputs": [],
   "source": [
    "P.<x,y,z,t,b,c,d,e,f,l,m> = PolynomialRing(QQ)"
   ]
  },
  {
   "cell_type": "code",
   "execution_count": 25,
   "id": "3e2fe0b5-1ebd-4851-a5ef-2dd9d17b7dc6",
   "metadata": {},
   "outputs": [],
   "source": [
    "cubic_new = e*f*(2*x^2*y-2*x*y^2+x*z^2-x*z*t-y*t^2+y*z*t)+b*c*(x-t)*(x*z+y*t)+c*c*(z+t)*(y*t-x*z)+d*c*(y-z)*(x*z+y*t)+(e+f)*c*(x-y)*(y*t-x*z)"
   ]
  },
  {
   "cell_type": "code",
   "execution_count": 26,
   "id": "a41eb624-67cc-4e8e-a0da-c788de4b2d50",
   "metadata": {},
   "outputs": [],
   "source": [
    "sing_cubics = (-1) * (-c + f) * (-c + e) * c * (c + f) * (c + e) * (-e + f)^2 * (-c*d + c*f + e*f) * (-c*d + c*e + e*f) * (-c^2 - c*d + e*f) * (b*c - c*f + e*f) * (b*c - c*e + e*f) * (b*c - c*d + 2*e*f) * (b*c - c^2 + e*f) * (b*c^2 + c^2*d + b*c*f - 2*c^2*f - c*d*f + 2*e*f^2) * (b*c^2 + c^2*d + b*c*e - 2*c^2*e - c*d*e + 2*e^2*f) * (-b*c^3 - 2*b*c^2*d + c^3*d + b*c^2*e + c^2*d*e + b*c^2*f + c^2*d*f + 3*b*c*e*f - 4*c^2*e*f - 3*c*d*e*f + 4*e^2*f^2)"
   ]
  },
  {
   "cell_type": "code",
   "execution_count": 27,
   "id": "38181a6a-092f-4055-83a6-ed36cc76404a",
   "metadata": {},
   "outputs": [],
   "source": [
    "line = Line([y, z])"
   ]
  },
  {
   "cell_type": "code",
   "execution_count": 28,
   "id": "2fa2d420-3824-470c-ad8e-25435531538b",
   "metadata": {},
   "outputs": [],
   "source": [
    "eqn_SE1 = P(cubic_new.subs({b:-(c*c+e*f)/c }) )"
   ]
  },
  {
   "cell_type": "code",
   "execution_count": 29,
   "id": "5cc4b2fe-9082-4d18-9756-acfb572b7bbe",
   "metadata": {},
   "outputs": [],
   "source": [
    "sing_cubics_SE1 = P(sing_cubics.subs({b:-(c*c+e*f)/c }))"
   ]
  },
  {
   "cell_type": "code",
   "execution_count": 30,
   "id": "be0c1a4d-7f9c-4ded-ada9-44749d011496",
   "metadata": {},
   "outputs": [],
   "source": [
    "SE1 = Cubic(eqn_SE1, line, sing_cubics_SE1.factor())"
   ]
  },
  {
   "cell_type": "code",
   "execution_count": 31,
   "id": "d36beddd-547e-4c4a-a3bc-2e2ad5b7beac",
   "metadata": {},
   "outputs": [
    {
     "data": {
      "text/plain": [
       "[(0, 0, 0, 1)]"
      ]
     },
     "execution_count": 31,
     "metadata": {},
     "output_type": "execute_result"
    }
   ],
   "source": [
    "SE1.eckardt_points"
   ]
  },
  {
   "cell_type": "code",
   "execution_count": 32,
   "id": "6c09bf33-861e-4f08-8a01-8f1cd46f35c2",
   "metadata": {},
   "outputs": [
    {
     "name": "stdout",
     "output_type": "stream",
     "text": [
      "CPU times: user 1.35 s, sys: 210 ms, total: 1.56 s\n",
      "Wall time: 10.2 s\n"
     ]
    }
   ],
   "source": [
    "%time adm_SE1 = SE1.find_admissible_projectivities()"
   ]
  },
  {
   "cell_type": "code",
   "execution_count": 33,
   "id": "20fadd59-de6b-4d4a-9dbf-39de94506580",
   "metadata": {},
   "outputs": [
    {
     "data": {
      "text/plain": [
       "576"
      ]
     },
     "execution_count": 33,
     "metadata": {},
     "output_type": "execute_result"
    }
   ],
   "source": [
    "len(adm_SE1)"
   ]
  },
  {
   "cell_type": "code",
   "execution_count": 34,
   "id": "39c972e1-420f-4a36-b908-f5ec1b6ddec8",
   "metadata": {},
   "outputs": [
    {
     "name": "stdout",
     "output_type": "stream",
     "text": [
      "CPU times: user 1.15 s, sys: 161 ms, total: 1.31 s\n",
      "Wall time: 5.04 s\n"
     ]
    }
   ],
   "source": [
    "%time simm_SE1 = SE1.find_simmetries(adm_SE1)"
   ]
  },
  {
   "cell_type": "code",
   "execution_count": 35,
   "id": "b2ad2377-f8b4-47e5-a65f-3f8b3834ca52",
   "metadata": {},
   "outputs": [
    {
     "data": {
      "text/plain": [
       "2"
      ]
     },
     "execution_count": 35,
     "metadata": {},
     "output_type": "execute_result"
    }
   ],
   "source": [
    "len(simm_SE1)"
   ]
  },
  {
   "cell_type": "code",
   "execution_count": 36,
   "id": "e5d6e171-b5b9-4f12-b1eb-2fbe41a76fc6",
   "metadata": {},
   "outputs": [],
   "source": [
    "G_SE1 = Group(simm_SE1)"
   ]
  },
  {
   "cell_type": "code",
   "execution_count": 37,
   "id": "231001ac-f2a7-4f48-bacd-d0bf507887a2",
   "metadata": {},
   "outputs": [
    {
     "data": {
      "text/plain": [
       "True"
      ]
     },
     "execution_count": 37,
     "metadata": {},
     "output_type": "execute_result"
    }
   ],
   "source": [
    "G_SE1.is_group()"
   ]
  },
  {
   "cell_type": "code",
   "execution_count": 38,
   "id": "7a5ea253-f57e-4aa6-b674-70234f44eb0a",
   "metadata": {},
   "outputs": [
    {
     "data": {
      "text/plain": [
       "2"
      ]
     },
     "execution_count": 38,
     "metadata": {},
     "output_type": "execute_result"
    }
   ],
   "source": [
    "G_SE1.get_order()"
   ]
  },
  {
   "cell_type": "code",
   "execution_count": 39,
   "id": "7222ce1e-4347-4977-8f8d-ce57e5213d68",
   "metadata": {},
   "outputs": [
    {
     "data": {
      "text/plain": [
       "True"
      ]
     },
     "execution_count": 39,
     "metadata": {},
     "output_type": "execute_result"
    }
   ],
   "source": [
    "G_SE1.is_abelian()"
   ]
  },
  {
   "cell_type": "code",
   "execution_count": 40,
   "id": "24e5d291-319e-441d-803e-3b5868525e7a",
   "metadata": {},
   "outputs": [
    {
     "data": {
      "text/plain": [
       "[1, 2]"
      ]
     },
     "execution_count": 40,
     "metadata": {},
     "output_type": "execute_result"
    }
   ],
   "source": [
    "G_SE1.get_divisors_of_order()"
   ]
  },
  {
   "cell_type": "code",
   "execution_count": 41,
   "id": "58e78a81-5471-4152-a7ed-201f39b122b7",
   "metadata": {},
   "outputs": [
    {
     "data": {
      "text/plain": [
       "[1, 2]"
      ]
     },
     "execution_count": 41,
     "metadata": {},
     "output_type": "execute_result"
    }
   ],
   "source": [
    "G_SE1.get_order_of_elements()"
   ]
  },
  {
   "cell_type": "code",
   "execution_count": 42,
   "id": "514cf592-923c-4d6f-b549-3bd5a5fa582b",
   "metadata": {},
   "outputs": [
    {
     "data": {
      "text/plain": [
       "[(0, 0, 0, 1), (0, 0, 0, 1)]"
      ]
     },
     "execution_count": 42,
     "metadata": {},
     "output_type": "execute_result"
    }
   ],
   "source": [
    "G_SE1.apply_to(SE1.eckardt_points[0])"
   ]
  },
  {
   "cell_type": "code",
   "execution_count": 43,
   "id": "18d0f099-6e3e-41c1-b129-27d0756a3812",
   "metadata": {},
   "outputs": [],
   "source": [
    "def find_conditions_for_subfamilies(cubic, sing_cubics, projectivities, simmetries):\n",
    "    mon = ((x+y+z+t)^3).monomials()\n",
    "    conditions = []\n",
    "    sing_cubics_factored = sing_cubics.factor()\n",
    "    for M in [proj for proj in projectivities if proj not in simmetries]:\n",
    "        sost = change_coord(M)\n",
    "        new_cubic = remove_sing_factors(cubic.eqn.subs(sost), sing_cubics_factored)    \n",
    "        minor = matrix([[new_cubic.coefficient(mn) for mn in mon], [cubic.eqn.coefficient(mn) for mn in mon]]).minors(2)\n",
    "        minor = [remove_sing_factors(el, sing_cubics_factored) for el in minor if el !=0]\n",
    "        prim_deco = P.ideal(minor).radical().primary_decomposition()\n",
    "        for ideale in prim_deco:\n",
    "            gener = tuple([remove_sing_factors(gen, sing_cubics_factored) for gen in ideale.gens()])\n",
    "            if 1 not in gener:\n",
    "                conditions.append(gener)    \n",
    "    return list(set(conditions))"
   ]
  },
  {
   "cell_type": "code",
   "execution_count": 44,
   "id": "d2e2516d-7fe0-40c2-8dde-950250b1a2cd",
   "metadata": {},
   "outputs": [],
   "source": [
    "def apply_perm(perm, keys, base_keys):\n",
    "    new_keys_index = [perm.index(label) for label in base_keys]\n",
    "    new_keys_index, keys = (list(t) for t in zip(*sorted(zip(new_keys_index, keys))))\n",
    "    return keys"
   ]
  },
  {
   "cell_type": "code",
   "execution_count": null,
   "id": "e06f8f7e-5db8-4015-8bb1-7ada575f8b25",
   "metadata": {},
   "outputs": [],
   "source": []
  },
  {
   "cell_type": "code",
   "execution_count": null,
   "id": "81a7619c-a135-400d-9e51-d327853aaa83",
   "metadata": {},
   "outputs": [],
   "source": []
  },
  {
   "cell_type": "code",
   "execution_count": null,
   "id": "2ab35b86-234b-46a0-9305-774df2a0736e",
   "metadata": {},
   "outputs": [],
   "source": []
  }
 ],
 "metadata": {
  "kernelspec": {
   "display_name": "SageMath 9.3",
   "language": "sage",
   "name": "sagemath"
  },
  "language_info": {
   "codemirror_mode": {
    "name": "ipython",
    "version": 3
   },
   "file_extension": ".py",
   "mimetype": "text/x-python",
   "name": "python",
   "nbconvert_exporter": "python",
   "pygments_lexer": "ipython3",
   "version": "3.7.10"
  }
 },
 "nbformat": 4,
 "nbformat_minor": 5
}
