{
 "cells": [
  {
   "cell_type": "code",
   "execution_count": 1,
   "id": "58320e02-53d1-4aa8-9435-b12c34877bd1",
   "metadata": {},
   "outputs": [],
   "source": [
    "load('Imports/Utility.sage', 'Imports/Point.sage', 'Imports/Line.sage', 'Imports/TritangentPlane.sage', 'Imports/Group.sage', 'Imports/Cubic.sage')\n",
    "import multiprocessing as mp\n",
    "import pickle"
   ]
  },
  {
   "cell_type": "code",
   "execution_count": 2,
   "id": "5ed78749-98c1-4b4b-93a0-936bbe48e5c3",
   "metadata": {},
   "outputs": [],
   "source": [
    "P.<x,y,z,t,b,c,d,e,f,l,m> = PolynomialRing(QQ)\n",
    "cubic_new = e*f*(2*x^2*y-2*x*y^2+x*z^2-x*z*t-y*t^2+y*z*t)+b*c*(x-t)*(x*z+y*t)+c*c*(z+t)*(y*t-x*z)+d*c*(y-z)*(x*z+y*t)+(e+f)*c*(x-y)*(y*t-x*z)\n",
    "sing_cubics = (-1) * (-c + f) * (-c + e) * c * (c + f) * (c + e) * (-e + f)^2 * (-c*d + c*f + e*f) * (-c*d + c*e + e*f) * (-c^2 - c*d + e*f) * (b*c - c*f + e*f) * (b*c - c*e + e*f) * (b*c - c*d + 2*e*f) * (b*c - c^2 + e*f) * (b*c^2 + c^2*d + b*c*f - 2*c^2*f - c*d*f + 2*e*f^2) * (b*c^2 + c^2*d + b*c*e - 2*c^2*e - c*d*e + 2*e^2*f) * (-b*c^3 - 2*b*c^2*d + c^3*d + b*c^2*e + c^2*d*e + b*c^2*f + c^2*d*f + 3*b*c*e*f - 4*c^2*e*f - 3*c*d*e*f + 4*e^2*f^2)"
   ]
  },
  {
   "cell_type": "code",
   "execution_count": 3,
   "id": "def11cc9-4cef-4ce7-ae0f-1d67c49e010c",
   "metadata": {},
   "outputs": [],
   "source": [
    "# Define cubic SE1, find and classify the lines and compute the 45 tritangent planes"
   ]
  },
  {
   "cell_type": "code",
   "execution_count": 4,
   "id": "38181a6a-092f-4055-83a6-ed36cc76404a",
   "metadata": {},
   "outputs": [],
   "source": [
    "line = Line([y, z])\n",
    "general_cubic = Cubic(cubic_new, line, sing_cubics)\n",
    "SE1 = general_cubic.subs({b:-(c*c+e*f)/c})"
   ]
  },
  {
   "cell_type": "code",
   "execution_count": 5,
   "id": "b06aedad-fcfd-4872-85a9-e309cb7467ef",
   "metadata": {},
   "outputs": [],
   "source": [
    "# Find simmetries"
   ]
  },
  {
   "cell_type": "code",
   "execution_count": 6,
   "id": "30a2139a-c63f-4a7d-a190-d20040fcb094",
   "metadata": {},
   "outputs": [
    {
     "name": "stdout",
     "output_type": "stream",
     "text": [
      "CPU times: user 1.43 s, sys: 121 ms, total: 1.55 s\n",
      "Wall time: 10.5 s\n"
     ]
    },
    {
     "data": {
      "text/plain": [
       "576"
      ]
     },
     "execution_count": 6,
     "metadata": {},
     "output_type": "execute_result"
    }
   ],
   "source": [
    "%time adm_SE1 = SE1.find_admissible_projectivities()\n",
    "len(adm_SE1)"
   ]
  },
  {
   "cell_type": "code",
   "execution_count": 7,
   "id": "39c972e1-420f-4a36-b908-f5ec1b6ddec8",
   "metadata": {},
   "outputs": [
    {
     "name": "stdout",
     "output_type": "stream",
     "text": [
      "CPU times: user 1.73 s, sys: 96.8 ms, total: 1.82 s\n",
      "Wall time: 10.7 s\n"
     ]
    },
    {
     "data": {
      "text/plain": [
       "2"
      ]
     },
     "execution_count": 7,
     "metadata": {},
     "output_type": "execute_result"
    }
   ],
   "source": [
    "%time simm_SE1 = SE1.find_simmetries(adm_SE1)\n",
    "len(simm_SE1)"
   ]
  },
  {
   "cell_type": "code",
   "execution_count": 8,
   "id": "5f062967-b5f7-4322-8f54-0dc4af9e2def",
   "metadata": {},
   "outputs": [],
   "source": [
    "# Study how the simmetries permute the Eckardt points"
   ]
  },
  {
   "cell_type": "code",
   "execution_count": 9,
   "id": "0b75eec0-b652-42ce-9cdc-6323ae69f91b",
   "metadata": {},
   "outputs": [
    {
     "data": {
      "text/plain": [
       "(1, '1')"
      ]
     },
     "execution_count": 9,
     "metadata": {},
     "output_type": "execute_result"
    }
   ],
   "source": [
    "Eck_points_perms = []\n",
    "for proj in simm_SE1:\n",
    "    Eck_points_perms.append(Permutation(SE1.apply_proj_to_eck(proj)).to_permutation_group_element())\n",
    "Eck_points_perms_group = PermutationGroup(Eck_points_perms)\n",
    "Eck_points_perms_group.order(), Eck_points_perms_group.structure_description()"
   ]
  },
  {
   "cell_type": "code",
   "execution_count": 10,
   "id": "7652ab7e-e887-4017-b030-cfba18862257",
   "metadata": {},
   "outputs": [],
   "source": [
    "# Study how the simmetries permute the 27 lines"
   ]
  },
  {
   "cell_type": "code",
   "execution_count": 11,
   "id": "c2f78dc0-97ca-4374-bb0c-061c26dfbb89",
   "metadata": {},
   "outputs": [
    {
     "data": {
      "text/plain": [
       "(2, 'C2')"
      ]
     },
     "execution_count": 11,
     "metadata": {},
     "output_type": "execute_result"
    }
   ],
   "source": [
    "lines_perms = []\n",
    "for simm in simm_SE1:\n",
    "    lines_perms.append(Permutation(SE1.apply_proj_to_lines(simm)).to_permutation_group_element())\n",
    "lines_perms_group = PermutationGroup(lines_perms)\n",
    "lines_perms_group.order(), lines_perms_group.structure_description()"
   ]
  },
  {
   "cell_type": "code",
   "execution_count": 12,
   "id": "cc2643a2-1191-4a6f-be2a-dcd5cde4b064",
   "metadata": {},
   "outputs": [
    {
     "data": {
      "text/plain": [
       "[(2,19)(3,22)(4,7)(5,25)(6,26)(8,13)(9,14)(11,16)(12,17)(18,27)(20,24)(21,23)]"
      ]
     },
     "execution_count": 12,
     "metadata": {},
     "output_type": "execute_result"
    }
   ],
   "source": [
    "lines_perms_group.gens_small()"
   ]
  },
  {
   "cell_type": "code",
   "execution_count": 13,
   "id": "2710147f-31e9-4e05-bb87-cfeb8ddc1fa5",
   "metadata": {},
   "outputs": [
    {
     "data": {
      "text/plain": [
       "[('E1', 'G4', 'F24', 'F13', 'F34', 'F45')]"
      ]
     },
     "execution_count": 13,
     "metadata": {},
     "output_type": "execute_result"
    }
   ],
   "source": [
    "[get_permuted_extended_L_set(perm) for perm in lines_perms_group.gens_small()]"
   ]
  },
  {
   "cell_type": "code",
   "execution_count": 20,
   "id": "e9258f1a-7110-4537-91f2-02ff072aca3a",
   "metadata": {},
   "outputs": [],
   "source": [
    "all_perms = find_all_permutations()"
   ]
  },
  {
   "cell_type": "code",
   "execution_count": 22,
   "id": "116b7908-7d95-4165-a5f5-231b274b36fc",
   "metadata": {},
   "outputs": [],
   "source": [
    "all_permutation = [from_labels_to_perm(label) for label in all_perms]"
   ]
  },
  {
   "cell_type": "code",
   "execution_count": 23,
   "id": "f566d921-d358-4901-8449-6a8b35e6f0c2",
   "metadata": {},
   "outputs": [],
   "source": [
    "order2_perms = [perm for perm in all_permutation if perm.order() == 2]"
   ]
  },
  {
   "cell_type": "code",
   "execution_count": 24,
   "id": "e2902fc1-6e4f-4e49-8876-ca021bdbb416",
   "metadata": {},
   "outputs": [
    {
     "data": {
      "text/plain": [
       "891"
      ]
     },
     "execution_count": 24,
     "metadata": {},
     "output_type": "execute_result"
    }
   ],
   "source": [
    "len(order2_perms)"
   ]
  },
  {
   "cell_type": "code",
   "execution_count": 33,
   "id": "d1a2f1f5-482e-43fa-9e74-a1e1223bf2e9",
   "metadata": {},
   "outputs": [],
   "source": [
    "possible_L_sets = list(set([get_permuted_L_set(perm) for perm in order2_perms]))"
   ]
  },
  {
   "cell_type": "code",
   "execution_count": 34,
   "id": "9d15989e-1385-442a-b2f4-b4e78a2ac107",
   "metadata": {},
   "outputs": [],
   "source": [
    "mon = ((x+y+z+t)^3).monomials()\n",
    "L_set_base = ['E1', 'G4', 'E2', 'G3', 'E3']"
   ]
  },
  {
   "cell_type": "code",
   "execution_count": 35,
   "id": "df303c05-c25c-450e-9e85-77affb76f8a8",
   "metadata": {},
   "outputs": [
    {
     "name": "stdout",
     "output_type": "stream",
     "text": [
      "CPU times: user 2min 17s, sys: 399 ms, total: 2min 17s\n",
      "Wall time: 2min 17s\n"
     ]
    }
   ],
   "source": [
    "%time possible_projs = [find_projectivity(SE1.get_L_set_in_plucker(L_set_base), SE1.get_L_set_in_plucker(L_set)) for L_set in possible_L_sets]"
   ]
  },
  {
   "cell_type": "code",
   "execution_count": 36,
   "id": "e09c43d6-dd7c-4ef1-b3cb-18be5971f49f",
   "metadata": {},
   "outputs": [
    {
     "data": {
      "text/plain": [
       "816"
      ]
     },
     "execution_count": 36,
     "metadata": {},
     "output_type": "execute_result"
    }
   ],
   "source": [
    "len(possible_projs)"
   ]
  },
  {
   "cell_type": "code",
   "execution_count": 37,
   "id": "f9554ef7-7e36-4cfb-ba7e-04df407b8630",
   "metadata": {},
   "outputs": [
    {
     "data": {
      "text/plain": [
       "[\n",
       "[                -2*c^2                      0                      0 -c^2 + c*e + c*f - e*f]\n",
       "[                     0                 -2*c^2                      0        c*d - c*e - c*f]\n",
       "[                     0                      0                 -2*c^2        c^2 - c*d + e*f]\n",
       "[                     0                      0                      0                  2*c^2],\n",
       "\n",
       "[1 0 0 0]\n",
       "[0 1 0 0]\n",
       "[0 0 1 0]\n",
       "[0 0 0 1]\n",
       "]"
      ]
     },
     "execution_count": 37,
     "metadata": {},
     "output_type": "execute_result"
    }
   ],
   "source": [
    "SE1.find_simmetries(possible_projs)"
   ]
  },
  {
   "cell_type": "code",
   "execution_count": 19,
   "id": "eaf6a429-ac07-4194-b22f-6cb60cf69883",
   "metadata": {},
   "outputs": [
    {
     "data": {
      "text/plain": [
       "[\n",
       "[1 0 0 0]  [                -2*c^2                      0                      0 -c^2 + c*e + c*f - e*f]\n",
       "[0 1 0 0]  [                     0                 -2*c^2                      0        c*d - c*e - c*f]\n",
       "[0 0 1 0]  [                     0                      0                 -2*c^2        c^2 - c*d + e*f]\n",
       "[0 0 0 1], [                     0                      0                      0                  2*c^2]\n",
       "]"
      ]
     },
     "execution_count": 19,
     "metadata": {},
     "output_type": "execute_result"
    }
   ],
   "source": [
    "simm_SE1"
   ]
  },
  {
   "cell_type": "code",
   "execution_count": 39,
   "id": "da9661c9-de58-4700-a0c4-dd6be3bafac8",
   "metadata": {},
   "outputs": [],
   "source": [
    "possible_L_sets = [('E1', 'G4', 'E2', 'F12', 'E3'),\n",
    "                   ('E1', 'G4', 'E2', 'G5', 'F34'),\n",
    "                   ('E1', 'G4', 'E2', 'G6', 'F34'),\n",
    "                   ('E1', 'G4', 'F24', 'G2', 'F34'),\n",
    "                   ('E1', 'G4', 'F24', 'F13', 'F34'),\n",
    "                   ('F14', 'G4', 'F24', 'F35', 'F34'),\n",
    "                   ('F14', 'G4', 'F24', 'F36', 'F34'),\n",
    "                   ('E1', 'G4', 'E3', 'G2', 'E2'),\n",
    "                   ('E1', 'G4', 'E3', 'F13', 'E2'),\n",
    "                   ('F14', 'G4', 'E3', 'F35', 'E2'),\n",
    "                   ('F14', 'G4', 'E3', 'F36', 'E2')] "
   ]
  },
  {
   "cell_type": "code",
   "execution_count": 40,
   "id": "8fac5d4f-888b-4cfa-a430-cafc9a512635",
   "metadata": {},
   "outputs": [],
   "source": [
    "possible_projs = [find_projectivity(SE1.get_L_set_in_plucker(L_set_base), SE1.get_L_set_in_plucker(L_set)) for L_set in possible_L_sets]"
   ]
  },
  {
   "cell_type": "code",
   "execution_count": 41,
   "id": "0e160b8c-55a3-49ea-959d-6bfc99b23b08",
   "metadata": {},
   "outputs": [
    {
     "data": {
      "text/plain": [
       "[]"
      ]
     },
     "execution_count": 41,
     "metadata": {},
     "output_type": "execute_result"
    }
   ],
   "source": [
    "SE1.find_conditions_for_subfamilies(possible_projs, simm_SE1)"
   ]
  },
  {
   "cell_type": "code",
   "execution_count": null,
   "id": "51e9ffae-1fda-4468-99d4-3620c21b7e56",
   "metadata": {},
   "outputs": [],
   "source": []
  }
 ],
 "metadata": {
  "kernelspec": {
   "display_name": "SageMath 9.4",
   "language": "sage",
   "name": "sagemath"
  },
  "language_info": {
   "codemirror_mode": {
    "name": "ipython",
    "version": 3
   },
   "file_extension": ".py",
   "mimetype": "text/x-python",
   "name": "python",
   "nbconvert_exporter": "python",
   "pygments_lexer": "ipython3",
   "version": "3.7.12"
  }
 },
 "nbformat": 4,
 "nbformat_minor": 5
}
