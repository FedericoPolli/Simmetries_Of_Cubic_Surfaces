{
 "cells": [
  {
   "cell_type": "code",
   "execution_count": 1,
   "id": "58320e02-53d1-4aa8-9435-b12c34877bd1",
   "metadata": {},
   "outputs": [],
   "source": [
    "load('Imports/Utility.sage', 'Imports/Point.sage', 'Imports/Line.sage', 'Imports/Tritangent_plane.sage', 'Imports/Group.sage', 'Imports/Cubic.sage')\n",
    "import multiprocessing as mp\n",
    "import pickle"
   ]
  },
  {
   "cell_type": "code",
   "execution_count": 51,
   "id": "21967230-0942-4b52-a41a-b865769ef5ce",
   "metadata": {},
   "outputs": [],
   "source": [
    "var('xx')\n",
    "Q.<alpha> = NumberField(xx^2+1)"
   ]
  },
  {
   "cell_type": "code",
   "execution_count": 52,
   "id": "5ed78749-98c1-4b4b-93a0-936bbe48e5c3",
   "metadata": {},
   "outputs": [],
   "source": [
    "P.<x,y,z,t,b,c,d,e,f,l,m> = PolynomialRing(Q)"
   ]
  },
  {
   "cell_type": "code",
   "execution_count": 53,
   "id": "3e2fe0b5-1ebd-4851-a5ef-2dd9d17b7dc6",
   "metadata": {},
   "outputs": [],
   "source": [
    "cubic_new = e*f*(2*x^2*y-2*x*y^2+x*z^2-x*z*t-y*t^2+y*z*t)+b*c*(x-t)*(x*z+y*t)+c*c*(z+t)*(y*t-x*z)+d*c*(y-z)*(x*z+y*t)+(e+f)*c*(x-y)*(y*t-x*z)"
   ]
  },
  {
   "cell_type": "code",
   "execution_count": 54,
   "id": "a41eb624-67cc-4e8e-a0da-c788de4b2d50",
   "metadata": {},
   "outputs": [],
   "source": [
    "sing_cubics = (-1) * (-c + f) * (-c + e) * c * (c + f) * (c + e) * (-e + f)^2 * (-c*d + c*f + e*f) * (-c*d + c*e + e*f) * (-c^2 - c*d + e*f) * (b*c - c*f + e*f) * (b*c - c*e + e*f) * (b*c - c*d + 2*e*f) * (b*c - c^2 + e*f) * (b*c^2 + c^2*d + b*c*f - 2*c^2*f - c*d*f + 2*e*f^2) * (b*c^2 + c^2*d + b*c*e - 2*c^2*e - c*d*e + 2*e^2*f) * (-b*c^3 - 2*b*c^2*d + c^3*d + b*c^2*e + c^2*d*e + b*c^2*f + c^2*d*f + 3*b*c*e*f - 4*c^2*e*f - 3*c*d*e*f + 4*e^2*f^2)"
   ]
  },
  {
   "cell_type": "code",
   "execution_count": 55,
   "id": "38181a6a-092f-4055-83a6-ed36cc76404a",
   "metadata": {},
   "outputs": [],
   "source": [
    "line = Line([y, z])"
   ]
  },
  {
   "cell_type": "code",
   "execution_count": 56,
   "id": "9c0cf997-b3ac-48b1-bab9-b590228c1acc",
   "metadata": {},
   "outputs": [],
   "source": [
    "general_cubic = Cubic(cubic_new, line, sing_cubics)"
   ]
  },
  {
   "cell_type": "code",
   "execution_count": 57,
   "id": "be0c1a4d-7f9c-4ded-ada9-44749d011496",
   "metadata": {},
   "outputs": [],
   "source": [
    "SE1 = general_cubic.subs({b:-(c*c+e*f)/c})"
   ]
  },
  {
   "cell_type": "code",
   "execution_count": 58,
   "id": "6c09bf33-861e-4f08-8a01-8f1cd46f35c2",
   "metadata": {},
   "outputs": [
    {
     "name": "stdout",
     "output_type": "stream",
     "text": [
      "CPU times: user 12.4 s, sys: 454 ms, total: 12.9 s\n",
      "Wall time: 21.3 s\n"
     ]
    }
   ],
   "source": [
    "%time adm_SE1 = SE1.find_admissible_projectivities()"
   ]
  },
  {
   "cell_type": "code",
   "execution_count": 59,
   "id": "20fadd59-de6b-4d4a-9dbf-39de94506580",
   "metadata": {},
   "outputs": [
    {
     "data": {
      "text/plain": [
       "576"
      ]
     },
     "execution_count": 59,
     "metadata": {},
     "output_type": "execute_result"
    }
   ],
   "source": [
    "len(adm_SE1)"
   ]
  },
  {
   "cell_type": "code",
   "execution_count": 60,
   "id": "39c972e1-420f-4a36-b908-f5ec1b6ddec8",
   "metadata": {},
   "outputs": [
    {
     "name": "stdout",
     "output_type": "stream",
     "text": [
      "CPU times: user 3.17 s, sys: 301 ms, total: 3.47 s\n",
      "Wall time: 21.7 s\n"
     ]
    }
   ],
   "source": [
    "%time simm_SE1 = SE1.find_simmetries(adm_SE1)"
   ]
  },
  {
   "cell_type": "code",
   "execution_count": 61,
   "id": "b2ad2377-f8b4-47e5-a65f-3f8b3834ca52",
   "metadata": {},
   "outputs": [
    {
     "data": {
      "text/plain": [
       "2"
      ]
     },
     "execution_count": 61,
     "metadata": {},
     "output_type": "execute_result"
    }
   ],
   "source": [
    "len(simm_SE1)"
   ]
  },
  {
   "cell_type": "code",
   "execution_count": 62,
   "id": "e5d6e171-b5b9-4f12-b1eb-2fbe41a76fc6",
   "metadata": {},
   "outputs": [],
   "source": [
    "G_SE1 = Group(simm_SE1)"
   ]
  },
  {
   "cell_type": "code",
   "execution_count": 63,
   "id": "231001ac-f2a7-4f48-bacd-d0bf507887a2",
   "metadata": {},
   "outputs": [
    {
     "data": {
      "text/plain": [
       "True"
      ]
     },
     "execution_count": 63,
     "metadata": {},
     "output_type": "execute_result"
    }
   ],
   "source": [
    "G_SE1.is_group()"
   ]
  },
  {
   "cell_type": "code",
   "execution_count": 64,
   "id": "7a5ea253-f57e-4aa6-b674-70234f44eb0a",
   "metadata": {},
   "outputs": [
    {
     "data": {
      "text/plain": [
       "2"
      ]
     },
     "execution_count": 64,
     "metadata": {},
     "output_type": "execute_result"
    }
   ],
   "source": [
    "G_SE1.get_order()"
   ]
  },
  {
   "cell_type": "code",
   "execution_count": 65,
   "id": "7222ce1e-4347-4977-8f8d-ce57e5213d68",
   "metadata": {},
   "outputs": [
    {
     "data": {
      "text/plain": [
       "True"
      ]
     },
     "execution_count": 65,
     "metadata": {},
     "output_type": "execute_result"
    }
   ],
   "source": [
    "G_SE1.is_abelian()"
   ]
  },
  {
   "cell_type": "code",
   "execution_count": 66,
   "id": "24e5d291-319e-441d-803e-3b5868525e7a",
   "metadata": {},
   "outputs": [
    {
     "data": {
      "text/plain": [
       "[1, 2]"
      ]
     },
     "execution_count": 66,
     "metadata": {},
     "output_type": "execute_result"
    }
   ],
   "source": [
    "G_SE1.get_divisors_of_order()"
   ]
  },
  {
   "cell_type": "code",
   "execution_count": 67,
   "id": "58e78a81-5471-4152-a7ed-201f39b122b7",
   "metadata": {},
   "outputs": [
    {
     "data": {
      "text/plain": [
       "[1, 2]"
      ]
     },
     "execution_count": 67,
     "metadata": {},
     "output_type": "execute_result"
    }
   ],
   "source": [
    "G_SE1.get_order_of_elements()"
   ]
  },
  {
   "cell_type": "code",
   "execution_count": 68,
   "id": "514cf592-923c-4d6f-b549-3bd5a5fa582b",
   "metadata": {},
   "outputs": [
    {
     "data": {
      "text/plain": [
       "[(0, 0, 0, 1), (0, 0, 0, 1)]"
      ]
     },
     "execution_count": 68,
     "metadata": {},
     "output_type": "execute_result"
    }
   ],
   "source": [
    "G_SE1.apply_to(SE1.eckardt_points[0])"
   ]
  },
  {
   "cell_type": "code",
   "execution_count": 69,
   "id": "a5539864-0e72-45b7-820b-b70feb9ea293",
   "metadata": {},
   "outputs": [],
   "source": [
    "adm_perm = SE1.find_admissible_permutations()\n",
    "keys = list(SE1.cl_lines.keys())"
   ]
  },
  {
   "cell_type": "code",
   "execution_count": 70,
   "id": "9ffc168a-2a50-493f-a5bd-2d77bf9361f3",
   "metadata": {},
   "outputs": [
    {
     "data": {
      "text/plain": [
       "1152"
      ]
     },
     "execution_count": 70,
     "metadata": {},
     "output_type": "execute_result"
    }
   ],
   "source": [
    "len(adm_perm)"
   ]
  },
  {
   "cell_type": "code",
   "execution_count": 71,
   "id": "5419a61e-d6a0-44c3-83ca-7f3a37b234b6",
   "metadata": {},
   "outputs": [],
   "source": [
    "def apply_proj_to_lines(proj, lines):\n",
    "    new_indices = []\n",
    "    for i in range(len(lines)):\n",
    "        new_indices.append(lines.index(lines[i].apply_proj(proj))+1)\n",
    "    return new_indices"
   ]
  },
  {
   "cell_type": "code",
   "execution_count": 72,
   "id": "fe239150-a732-43b6-9511-e352138fa4a0",
   "metadata": {},
   "outputs": [
    {
     "name": "stdout",
     "output_type": "stream",
     "text": [
      "(2,19)(3,22)(4,7)(5,25)(6,26)(8,13)(9,14)(11,16)(12,17)(18,27)(20,24)(21,23)\n"
     ]
    }
   ],
   "source": [
    "M2 = [mat for mat in simm_SE1 if mat != matrix.identity(4)][0]\n",
    "M2_perm = Permutation(apply_proj_to_lines(M2, list(SE1.cl_lines.values()))).to_permutation_group_element()\n",
    "print(M2_perm)"
   ]
  },
  {
   "cell_type": "code",
   "execution_count": 73,
   "id": "1bc8369e-c990-4bad-ab5e-82eee248988d",
   "metadata": {},
   "outputs": [],
   "source": [
    "perms_lines = []\n",
    "for perm in adm_perm:\n",
    "    perms_lines.append(Permutation([perm.index(label)+1 for label in keys]).to_cycles())"
   ]
  },
  {
   "cell_type": "code",
   "execution_count": 74,
   "id": "e7867d65-d44f-481a-a007-aed7c2423bc2",
   "metadata": {},
   "outputs": [],
   "source": [
    "Gr = PermutationGroup(perms_lines)"
   ]
  },
  {
   "cell_type": "code",
   "execution_count": 75,
   "id": "9fc2a896-232f-4245-b9df-694886a6d9f3",
   "metadata": {},
   "outputs": [
    {
     "data": {
      "text/plain": [
       "1152"
      ]
     },
     "execution_count": 75,
     "metadata": {},
     "output_type": "execute_result"
    }
   ],
   "source": [
    "Gr.order()"
   ]
  },
  {
   "cell_type": "code",
   "execution_count": 76,
   "id": "c4c1598b-da41-40f5-87dd-be61665d64c0",
   "metadata": {},
   "outputs": [
    {
     "data": {
      "text/plain": [
       "2"
      ]
     },
     "execution_count": 76,
     "metadata": {},
     "output_type": "execute_result"
    }
   ],
   "source": [
    "M2_perm.order()"
   ]
  },
  {
   "cell_type": "code",
   "execution_count": 77,
   "id": "33a20c56-02b1-4fe4-9dc1-38723ce36d26",
   "metadata": {},
   "outputs": [],
   "source": [
    "el_order_4 = []\n",
    "for el in Gr.list():\n",
    "    iden = Gr.identity()\n",
    "    if el^2 == M2_perm and el^3 != iden and el^4 == iden:\n",
    "        el_order_4.append(el)"
   ]
  },
  {
   "cell_type": "code",
   "execution_count": 78,
   "id": "4d940a4b-7b5c-42be-a936-0f2ea4a7df4e",
   "metadata": {},
   "outputs": [
    {
     "data": {
      "text/plain": [
       "12"
      ]
     },
     "execution_count": 78,
     "metadata": {},
     "output_type": "execute_result"
    }
   ],
   "source": [
    "len(el_order_4)"
   ]
  },
  {
   "cell_type": "code",
   "execution_count": 79,
   "id": "2bf5cdd6-dc61-4375-a2fc-6e23b68f9e26",
   "metadata": {},
   "outputs": [],
   "source": [
    "def from_perm_to_labels(perm):\n",
    "    keys = ['E1', 'E2', 'E3', 'E4', 'E5', 'E6', 'G1', 'G2', 'G3', 'G4', 'G5', 'G6', 'F12', 'F13', 'F14', 'F15', 'F16', 'F23', 'F24', 'F25', 'F26', 'F34', 'F35', 'F36', 'F45', 'F46', 'F56']\n",
    "    return [keys[perm.dict()[key]-1] for key in perm.dict()]"
   ]
  },
  {
   "cell_type": "code",
   "execution_count": 80,
   "id": "af910142-f95d-456b-861e-f67b2a19aead",
   "metadata": {},
   "outputs": [],
   "source": [
    "labels_el_order_4 = [from_perm_to_labels(el) for el in el_order_4]"
   ]
  },
  {
   "cell_type": "code",
   "execution_count": 81,
   "id": "ca903967-197a-4b07-b388-9ac9473c2cec",
   "metadata": {},
   "outputs": [],
   "source": [
    "projs = SE1.find_admissible_projectivities(labels_el_order_4)"
   ]
  },
  {
   "cell_type": "code",
   "execution_count": 82,
   "id": "e077d9e6-d1a2-40a7-bde6-333230c1537a",
   "metadata": {},
   "outputs": [],
   "source": [
    "def find_conditions_for_subfamilies(cubic, projectivities, simmetries):\n",
    "    mon = ((x+y+z+t)^3).monomials()\n",
    "    conditions = []\n",
    "    sing_cubics_factored = cubic.sing_cubic.factor()\n",
    "    for M in [proj for proj in projectivities if proj not in simmetries]:\n",
    "        print(projectivities.index(M))\n",
    "        sost = change_coord(M)\n",
    "        new_cubic = remove_sing_factors(cubic.eqn.subs(sost), sing_cubics_factored)    \n",
    "        minor = matrix([[new_cubic.coefficient(mn) for mn in mon], [cubic.eqn.coefficient(mn) for mn in mon]]).minors(2)\n",
    "        minor = list(set([remove_sing_factors(el, sing_cubics_factored) for el in minor if el !=0]))\n",
    "        ideale = cubic.P.ideal(minor)\n",
    "        new_ideals = get_valid_ideals(ideale, cubic, sing_cubics_factored)\n",
    "        for ideal in new_ideals:            \n",
    "            prim_deco2 = (ideale + ideal).radical().primary_decomposition()\n",
    "            for ideal2 in prim_deco2:\n",
    "                if is_ideal_valid(ideal2, cubic, sing_cubics_factored):\n",
    "                    conditions.append(ideal2.gens())                        \n",
    "    return list(set(conditions))\n",
    "\n",
    "\n",
    "def get_valid_ideals(ideale, cubic, sing_cubics_factored):\n",
    "    valid_ideals = []\n",
    "    vrs = [c,d,e,f]\n",
    "    for vr in vrs:\n",
    "        valid_ideals_var = []\n",
    "        del_ideale = ideale.elimination_ideal([vr])\n",
    "        prim_deco_del = del_ideale.radical().primary_decomposition()\n",
    "        for ideal in prim_deco_del:\n",
    "            if is_ideal_valid(ideal, cubic, sing_cubics_factored):\n",
    "                valid_ideals_var.append(ideal)\n",
    "        if valid_ideals_var == []:\n",
    "            return []\n",
    "        else:\n",
    "            valid_ideals.append(valid_ideals_var)\n",
    "    return [id1+id2+id3+id4 for id1 in valid_ideals[0] for id2 in valid_ideals[1] for id3 in valid_ideals[2] for id4 in valid_ideals[3]]           "
   ]
  },
  {
   "cell_type": "code",
   "execution_count": 83,
   "id": "e36533ab-3ad7-44da-a829-db4d1639129b",
   "metadata": {},
   "outputs": [
    {
     "name": "stdout",
     "output_type": "stream",
     "text": [
      "0\n",
      "1\n",
      "2\n",
      "3\n",
      "4\n",
      "5\n",
      "6\n",
      "7\n",
      "8\n",
      "9\n",
      "10\n",
      "11\n",
      "CPU times: user 4min 34s, sys: 4.04 s, total: 4min 38s\n",
      "Wall time: 4min 41s\n"
     ]
    }
   ],
   "source": [
    "%time conds = find_conditions_for_subfamilies(SE1, projs, simm_SE1)"
   ]
  },
  {
   "cell_type": "code",
   "execution_count": 88,
   "id": "af54feba-9245-4c76-b59a-12e5a75208ac",
   "metadata": {},
   "outputs": [
    {
     "data": {
      "text/plain": [
       "[(-10*alpha - 55)*c, -125*c, 0, (50*alpha + 25)*c]"
      ]
     },
     "execution_count": 88,
     "metadata": {},
     "output_type": "execute_result"
    }
   ],
   "source": [
    "sost = solve_linear_system([f, 25*d + (-2*alpha - 11)*e, 5*c + (2*alpha + 1)*e], [d,e,f], [c])\n",
    "sost"
   ]
  },
  {
   "cell_type": "code",
   "execution_count": 89,
   "id": "6715eca0-6ef7-4faa-a67d-b696e0bdc091",
   "metadata": {},
   "outputs": [],
   "source": [
    "var = [c,d,e,f]"
   ]
  },
  {
   "cell_type": "code",
   "execution_count": 91,
   "id": "6250a6b5-9705-470e-aa79-722ccfe43beb",
   "metadata": {},
   "outputs": [],
   "source": [
    "nc = SE1.subs({var[i]:sost[i] for i in range(4)})"
   ]
  },
  {
   "cell_type": "code",
   "execution_count": 96,
   "id": "911f7e28-aa72-49a2-b3c1-a9abc9c6399a",
   "metadata": {},
   "outputs": [],
   "source": [
    "nc_simm = nc.find_simmetries(nc.find_admissible_projectivities())"
   ]
  },
  {
   "cell_type": "code",
   "execution_count": 101,
   "id": "a8eff5f0-7ee5-4b42-8421-acd84f2fd8c6",
   "metadata": {},
   "outputs": [
    {
     "data": {
      "text/plain": [
       "[(-34715000*alpha - 44370000),\n",
       " (-300*alpha - 7900),\n",
       " 0,\n",
       " (-4100*alpha - 3800),\n",
       " (7900*alpha - 300),\n",
       " (248512750000*alpha - 137211125000),\n",
       " (-6600*alpha - 17550),\n",
       " (-150*alpha - 3950),\n",
       " (36250*alpha - 347500),\n",
       " (-860000*alpha - 511250),\n",
       " (42505000*alpha + 43777500),\n",
       " (-64010000*alpha - 120492500),\n",
       " (-4550*alpha - 15650),\n",
       " (-395250*alpha - 252000),\n",
       " (-596500*alpha - 343250),\n",
       " (-83825000*alpha - 71975000),\n",
       " (248512750000*alpha - 137211125000),\n",
       " (-42505000*alpha - 43777500),\n",
       " (6908525000*alpha + 179700000),\n",
       " (3802725000*alpha - 994387500),\n",
       " (-6908525000*alpha - 179700000),\n",
       " (-603555000000*alpha + 22400625000),\n",
       " (40135000*alpha + 12617500),\n",
       " (1398500*alpha + 1410500),\n",
       " (-30550000*alpha - 10212500),\n",
       " (3802725000*alpha - 994387500),\n",
       " (226378750000*alpha - 126909062500),\n",
       " (5672500*alpha + 23073750),\n",
       " (502250*alpha + 1246750),\n",
       " (10456250*alpha + 34462500),\n",
       " (-64010000*alpha - 120492500),\n",
       " (-226378750000*alpha + 126909062500),\n",
       " (603555000000*alpha - 22400625000),\n",
       " (6600*alpha + 17550),\n",
       " (-5672500*alpha - 23073750),\n",
       " (-40135000*alpha - 12617500),\n",
       " (10250*alpha - 771750),\n",
       " (-464750*alpha - 259250),\n",
       " (-632750*alpha + 4250),\n",
       " (10456250*alpha + 34462500),\n",
       " (-36250*alpha + 347500),\n",
       " (-395250*alpha - 252000),\n",
       " (30550000*alpha + 10212500),\n",
       " (-860000*alpha - 511250),\n",
       " (-596500*alpha - 343250)]"
      ]
     },
     "execution_count": 101,
     "metadata": {},
     "output_type": "execute_result"
    }
   ],
   "source": [
    "[pl.conditions for pl in nc.tritangent_planes]"
   ]
  },
  {
   "cell_type": "code",
   "execution_count": null,
   "id": "56c21c5c-6d10-4854-a9b0-f58855280435",
   "metadata": {},
   "outputs": [],
   "source": []
  },
  {
   "cell_type": "code",
   "execution_count": null,
   "id": "1931c9d5-e21b-46d9-854a-48534e4207da",
   "metadata": {},
   "outputs": [],
   "source": []
  },
  {
   "cell_type": "code",
   "execution_count": 21,
   "id": "15ea92c8-5cda-4446-b052-ed76d056c8b7",
   "metadata": {},
   "outputs": [],
   "source": [
    "with open('conditions.pickle', 'rb') as ff:\n",
    "    conditions = pickle.load(ff)"
   ]
  }
 ],
 "metadata": {
  "kernelspec": {
   "display_name": "SageMath 9.3",
   "language": "sage",
   "name": "sagemath"
  },
  "language_info": {
   "codemirror_mode": {
    "name": "ipython",
    "version": 3
   },
   "file_extension": ".py",
   "mimetype": "text/x-python",
   "name": "python",
   "nbconvert_exporter": "python",
   "pygments_lexer": "ipython3",
   "version": "3.7.10"
  }
 },
 "nbformat": 4,
 "nbformat_minor": 5
}
