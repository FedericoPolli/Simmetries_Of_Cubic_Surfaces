{
 "cells": [
  {
   "cell_type": "code",
   "execution_count": 1,
   "id": "9eb0dd41-350d-4d2a-a0df-2260d3c839f6",
   "metadata": {},
   "outputs": [],
   "source": [
    "import pickle"
   ]
  },
  {
   "cell_type": "code",
   "execution_count": 2,
   "id": "2fbe2867-51c0-4d09-bf81-62c839c4860e",
   "metadata": {},
   "outputs": [],
   "source": [
    "load('Imports/Utility.sage')"
   ]
  },
  {
   "cell_type": "code",
   "execution_count": 3,
   "id": "afdcaab6-7b42-40cb-b78f-c91ea0d911da",
   "metadata": {},
   "outputs": [],
   "source": [
    "all_perms = find_all_permutations()"
   ]
  },
  {
   "cell_type": "code",
   "execution_count": 6,
   "id": "6ea00376-3a74-498e-ab09-dc024931a1a5",
   "metadata": {},
   "outputs": [
    {
     "name": "stdout",
     "output_type": "stream",
     "text": [
      "['E1', 'F34', 'F36', 'E2', 'E5', 'F46', 'F25', 'G6', 'G4', 'F15', 'F12', 'G3', 'F16', 'F14', 'G5', 'G2', 'F13', 'E3', 'F26', 'F56', 'E4', 'F24', 'F45', 'E6', 'G1', 'F23', 'F35']\n"
     ]
    }
   ],
   "source": [
    "print(all_perms[0])"
   ]
  },
  {
   "cell_type": "code",
   "execution_count": 7,
   "id": "3e5547c9-eb90-422b-9d3d-4b08bf05862a",
   "metadata": {},
   "outputs": [],
   "source": [
    "six_skew_lines = []\n",
    "for perm in all_perms:\n",
    "    six_skew_lines.append(perm[0:6])"
   ]
  },
  {
   "cell_type": "code",
   "execution_count": null,
   "id": "f6bd0ee4-6a0f-48ae-b491-8f96836c5c97",
   "metadata": {},
   "outputs": [],
   "source": [
    "six_skew_lines[0:10000]"
   ]
  },
  {
   "cell_type": "code",
   "execution_count": null,
   "id": "9647fee5-7503-4539-8f17-58b8220c75c1",
   "metadata": {},
   "outputs": [],
   "source": []
  }
 ],
 "metadata": {
  "kernelspec": {
   "display_name": "SageMath 9.4",
   "language": "sage",
   "name": "sagemath"
  },
  "language_info": {
   "codemirror_mode": {
    "name": "ipython",
    "version": 3
   },
   "file_extension": ".py",
   "mimetype": "text/x-python",
   "name": "python",
   "nbconvert_exporter": "python",
   "pygments_lexer": "ipython3",
   "version": "3.7.12"
  }
 },
 "nbformat": 4,
 "nbformat_minor": 5
}
