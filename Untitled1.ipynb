{
 "cells": [
  {
   "cell_type": "code",
   "execution_count": 2,
   "id": "073dfeb5-b3b9-427f-84ed-492617e4b9b2",
   "metadata": {},
   "outputs": [],
   "source": [
    "load('Imports/Utility.sage', 'Imports/Point.sage', 'Imports/Line.sage', 'Imports/Tritangent_plane.sage', 'Imports/Group.sage', 'Imports/Cubic.sage')\n",
    "import multiprocessing as mp"
   ]
  },
  {
   "cell_type": "code",
   "execution_count": 3,
   "id": "1c23afbc-6266-4fcb-a7f6-924e92804051",
   "metadata": {},
   "outputs": [],
   "source": [
    "with open('all_permutations.pickle', 'rb') as fil:\n",
    "    all_permutations = pickle.load(fil) "
   ]
  },
  {
   "cell_type": "code",
   "execution_count": 6,
   "id": "f360a01f-2c6e-4386-a460-ae2623d6ccf6",
   "metadata": {},
   "outputs": [],
   "source": [
    "def from_labels_to_perm(labels):\n",
    "    keys = ['E1', 'E2', 'E3', 'E4', 'E5', 'E6', 'G1', 'G2', 'G3', 'G4', 'G5', 'G6', 'F12', 'F13', 'F14', 'F15', 'F16', 'F23', 'F24', 'F25', 'F26', 'F34', 'F35', 'F36', 'F45', 'F46', 'F56']\n",
    "    return Permutation([labels.index(label)+1 for label in keys]).to_cycles()"
   ]
  },
  {
   "cell_type": "code",
   "execution_count": 8,
   "id": "af575412-2c5b-4466-920d-0a125f21c0ba",
   "metadata": {},
   "outputs": [],
   "source": [
    "all_perms = [from_labels_to_perm(labels) for labels in all_permutations]"
   ]
  },
  {
   "cell_type": "code",
   "execution_count": 10,
   "id": "54a8879f-c2cc-46b5-9a30-c48b9a0005a4",
   "metadata": {},
   "outputs": [],
   "source": [
    "Gr = PermutationGroup(all_perms)"
   ]
  },
  {
   "cell_type": "code",
   "execution_count": 11,
   "id": "52da5578-c3df-46d9-824e-c5b8677c2bc8",
   "metadata": {},
   "outputs": [
    {
     "data": {
      "text/plain": [
       "51840"
      ]
     },
     "execution_count": 11,
     "metadata": {},
     "output_type": "execute_result"
    }
   ],
   "source": [
    "Gr.order()"
   ]
  },
  {
   "cell_type": "code",
   "execution_count": 17,
   "id": "a847c46d-0664-430d-9003-92dd46f3d7e4",
   "metadata": {},
   "outputs": [
    {
     "data": {
      "text/plain": [
       "51840"
      ]
     },
     "execution_count": 17,
     "metadata": {},
     "output_type": "execute_result"
    }
   ],
   "source": [
    "RR = WeylGroup(['E', 6])\n",
    "RR.order()"
   ]
  },
  {
   "cell_type": "code",
   "execution_count": 49,
   "id": "0a9043a2-1606-433f-8245-512ceed1a001",
   "metadata": {},
   "outputs": [
    {
     "data": {
      "text/plain": [
       "Permutation Group with generators [(6,8)(7,9)(10,11)(12,14)(15,17)(26,27), (4,5)(6,7)(8,9)(18,20)(21,22)(23,24), (4,6)(5,7)(11,13)(14,16)(17,19)(25,26), (3,4)(7,10)(9,11)(16,18)(19,21)(24,25), (2,3)(10,12)(11,14)(13,16)(21,23)(22,24), (1,2)(12,15)(14,17)(16,19)(18,21)(20,22)]"
      ]
     },
     "execution_count": 49,
     "metadata": {},
     "output_type": "execute_result"
    }
   ],
   "source": [
    "RRp = RR.as_permutation_group()\n",
    "RRp"
   ]
  },
  {
   "cell_type": "code",
   "execution_count": null,
   "id": "2bb8b5bb-cdb4-4b76-b5a8-173de02a3151",
   "metadata": {},
   "outputs": [],
   "source": []
  }
 ],
 "metadata": {
  "kernelspec": {
   "display_name": "SageMath 9.4",
   "language": "sage",
   "name": "sagemath"
  },
  "language_info": {
   "codemirror_mode": {
    "name": "ipython",
    "version": 3
   },
   "file_extension": ".py",
   "mimetype": "text/x-python",
   "name": "python",
   "nbconvert_exporter": "python",
   "pygments_lexer": "ipython3",
   "version": "3.7.12"
  }
 },
 "nbformat": 4,
 "nbformat_minor": 5
}
