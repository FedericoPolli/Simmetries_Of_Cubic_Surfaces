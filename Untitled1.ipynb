{
 "cells": [
  {
   "cell_type": "code",
   "execution_count": 14,
   "id": "e81d75df-03bc-4c72-a61d-50415323063a",
   "metadata": {},
   "outputs": [
    {
     "name": "stdout",
     "output_type": "stream",
     "text": [
      "Calcolo la dec primaria delle condizioni\n",
      "Per accelerare i conti conviene prima saturare con c\n",
      "Tempo di calcolo:\n",
      "2.3814570000000046\n",
      "condizioni:\n",
      "[Ideal (2*d - 5*e - f, 4*c - e - f, 7*e^2 - 2*e*f + 7*f^2) of Multivariate Polynomial Ring in x, y, z, t, b, c, d, e, f, l, m over Number Field in ii with defining polynomial xx^2 + 1, Ideal (d + e - f, c + f) of Multivariate Polynomial Ring in x, y, z, t, b, c, d, e, f, l, m over Number Field in ii with defining polynomial xx^2 + 1]\n",
      "\n",
      "\n",
      "\n",
      "\n",
      "Calcolo la dec primaria delle condizioni\n",
      "Per accelerare i conti conviene prima saturare con c\n",
      "Tempo di calcolo:\n",
      "2.460911000000003\n",
      "condizioni:\n",
      "[Ideal (3*d + 10*e - 6*f, 2*c - e + f, 7*e^2 - 6*e*f + 3*f^2) of Multivariate Polynomial Ring in x, y, z, t, b, c, d, e, f, l, m over Number Field in ii with defining polynomial xx^2 + 1, Ideal (d + e - f, c + f) of Multivariate Polynomial Ring in x, y, z, t, b, c, d, e, f, l, m over Number Field in ii with defining polynomial xx^2 + 1]\n",
      "\n",
      "\n",
      "\n",
      "\n",
      "Calcolo la dec primaria delle condizioni\n",
      "Per accelerare i conti conviene prima saturare con c\n",
      "Tempo di calcolo:\n",
      "10.934481999999996\n",
      "condizioni:\n",
      "[Ideal (4*c*e + (-ii + 3)*d*e + (5*ii + 5)*e^2 + (-4*ii + 4)*c*f + (-3*ii + 1)*d*f + (-4*ii + 8)*e*f + (-5*ii - 5)*f^2, 4*c*d + (3*ii - 1)*d*e + (ii - 7)*e^2 + (4*ii - 8)*c*f + (ii + 1)*d*f + (4*ii - 4)*e*f + (-ii + 3)*f^2, 4*c^2 + (-5*ii - 5)*d*e + (-15*ii + 5)*e^2 + (-12*ii - 8)*c*f + (ii - 7)*d*f + (-12*ii - 12)*e*f + (15*ii - 5)*f^2, 5*d^2*e + (6*ii + 8)*d*e^2 + (2*ii + 11)*e^3 + (-4*ii + 3)*d^2*f + (-6*ii + 2)*d*e*f + (-28*ii + 1)*e^2*f - 10*d*f^2 + (6*ii - 27)*e*f^2 + (20*ii + 15)*f^3) of Multivariate Polynomial Ring in x, y, z, t, b, c, d, e, f, l, m over Number Field in ii with defining polynomial xx^2 + 1, Ideal (4*c*e + (ii + 3)*d*e + (-5*ii + 5)*e^2 + (4*ii + 4)*c*f + (3*ii + 1)*d*f + (4*ii + 8)*e*f + (5*ii - 5)*f^2, 4*c*d + (-3*ii - 1)*d*e + (-ii - 7)*e^2 + (-4*ii - 8)*c*f + (-ii + 1)*d*f + (-4*ii - 4)*e*f + (ii + 3)*f^2, 4*c^2 + (5*ii - 5)*d*e + (15*ii + 5)*e^2 + (12*ii - 8)*c*f + (-ii - 7)*d*f + (12*ii - 12)*e*f + (-15*ii - 5)*f^2, 5*d^2*e + (-6*ii + 8)*d*e^2 + (-2*ii + 11)*e^3 + (4*ii + 3)*d^2*f + (6*ii + 2)*d*e*f + (28*ii + 1)*e^2*f - 10*d*f^2 + (-6*ii - 27)*e*f^2 + (-20*ii + 15)*f^3) of Multivariate Polynomial Ring in x, y, z, t, b, c, d, e, f, l, m over Number Field in ii with defining polynomial xx^2 + 1]\n",
      "\n",
      "\n",
      "\n",
      "\n",
      "Calcolo la dec primaria delle condizioni\n",
      "Per accelerare i conti conviene prima saturare con c\n",
      "Tempo di calcolo:\n",
      "2.2718480000000056\n",
      "condizioni:\n",
      "[Ideal (c + d + 3*e - 2*f, d^2 + 3*d*e - 3*d*f - 2*e*f + 2*f^2) of Multivariate Polynomial Ring in x, y, z, t, b, c, d, e, f, l, m over Number Field in ii with defining polynomial xx^2 + 1]\n",
      "\n",
      "\n",
      "\n",
      "\n",
      "Calcolo la dec primaria delle condizioni\n",
      "Per accelerare i conti conviene prima saturare con c\n",
      "Tempo di calcolo:\n",
      "2.2134200000000064\n",
      "condizioni:\n",
      "[Ideal (2*d - e - 5*f, 4*c - e - f, 7*e^2 - 2*e*f + 7*f^2) of Multivariate Polynomial Ring in x, y, z, t, b, c, d, e, f, l, m over Number Field in ii with defining polynomial xx^2 + 1, Ideal (d - e + f, c + e) of Multivariate Polynomial Ring in x, y, z, t, b, c, d, e, f, l, m over Number Field in ii with defining polynomial xx^2 + 1]\n",
      "\n",
      "\n",
      "\n",
      "\n",
      "Calcolo la dec primaria delle condizioni\n",
      "Per accelerare i conti conviene prima saturare con c\n",
      "Tempo di calcolo:\n",
      "2.572688999999997\n",
      "condizioni:\n",
      "[Ideal (3*d - 6*e + 10*f, 2*c + e - f, 3*e^2 - 6*e*f + 7*f^2) of Multivariate Polynomial Ring in x, y, z, t, b, c, d, e, f, l, m over Number Field in ii with defining polynomial xx^2 + 1, Ideal (d - e + f, c + e) of Multivariate Polynomial Ring in x, y, z, t, b, c, d, e, f, l, m over Number Field in ii with defining polynomial xx^2 + 1]\n",
      "\n",
      "\n",
      "\n",
      "\n",
      "Calcolo la dec primaria delle condizioni\n",
      "Per accelerare i conti conviene prima saturare con c\n",
      "Tempo di calcolo:\n",
      "12.336573000000001\n",
      "condizioni:\n",
      "[Ideal (4*c*e + (-ii + 2)*d*e + (-5*ii)*e^2 + (2*ii + 2)*c*f + (ii + 2)*d*f + (2*ii + 6)*e*f + (5*ii)*f^2, 4*c*d + (-3*ii + 4)*d*e + (-11*ii - 2)*e^2 + (2*ii + 6)*c*f + (3*ii + 4)*d*f + (2*ii + 10)*e*f + (11*ii - 2)*f^2, 4*c^2 + (5*ii)*d*e + (5*ii + 10)*e^2 + (10*ii - 2)*c*f + (3*ii - 4)*d*f + (10*ii - 6)*e*f + (-5*ii - 10)*f^2, 5*d^2*e + (-8*ii - 6)*d*e^2 + (24*ii - 7)*e^3 + (4*ii + 3)*d^2*f + (-2*ii + 6)*d*e*f + (-18*ii - 21)*e^2*f + (10*ii)*d*f^2 + (-16*ii + 23)*e*f^2 + (10*ii + 5)*f^3) of Multivariate Polynomial Ring in x, y, z, t, b, c, d, e, f, l, m over Number Field in ii with defining polynomial xx^2 + 1, Ideal (4*c*e + (ii + 2)*d*e + (5*ii)*e^2 + (-2*ii + 2)*c*f + (-ii + 2)*d*f + (-2*ii + 6)*e*f + (-5*ii)*f^2, 4*c*d + (3*ii + 4)*d*e + (11*ii - 2)*e^2 + (-2*ii + 6)*c*f + (-3*ii + 4)*d*f + (-2*ii + 10)*e*f + (-11*ii - 2)*f^2, 4*c^2 + (-5*ii)*d*e + (-5*ii + 10)*e^2 + (-10*ii - 2)*c*f + (-3*ii - 4)*d*f + (-10*ii - 6)*e*f + (5*ii - 10)*f^2, 5*d^2*e + (8*ii - 6)*d*e^2 + (-24*ii - 7)*e^3 + (-4*ii + 3)*d^2*f + (2*ii + 6)*d*e*f + (18*ii - 21)*e^2*f + (-10*ii)*d*f^2 + (16*ii + 23)*e*f^2 + (-10*ii + 5)*f^3) of Multivariate Polynomial Ring in x, y, z, t, b, c, d, e, f, l, m over Number Field in ii with defining polynomial xx^2 + 1]\n",
      "\n",
      "\n",
      "\n",
      "\n",
      "Calcolo la dec primaria delle condizioni\n",
      "Per accelerare i conti conviene prima saturare con c\n",
      "Tempo di calcolo:\n",
      "2.634590000000003\n",
      "condizioni:\n",
      "[Ideal (c + d - 2*e + 3*f, d^2 - 3*d*e + 2*e^2 + 3*d*f - 2*e*f) of Multivariate Polynomial Ring in x, y, z, t, b, c, d, e, f, l, m over Number Field in ii with defining polynomial xx^2 + 1]\n",
      "\n",
      "\n",
      "\n",
      "\n",
      "Calcolo la dec primaria delle condizioni\n",
      "Per accelerare i conti conviene prima saturare con c\n",
      "Tempo di calcolo:\n",
      "1.4338949999999784\n",
      "condizioni:\n",
      "[]\n",
      "\n",
      "\n",
      "\n",
      "\n",
      "Calcolo la dec primaria delle condizioni\n",
      "Per accelerare i conti conviene prima saturare con c\n",
      "Tempo di calcolo:\n",
      "1.8144089999999977\n",
      "condizioni:\n",
      "[]\n",
      "\n",
      "\n",
      "\n",
      "\n",
      "Calcolo la dec primaria delle condizioni\n",
      "Per accelerare i conti conviene prima saturare con c\n",
      "Tempo di calcolo:\n",
      "3.1447290000000123\n",
      "condizioni:\n",
      "[Ideal (2*d - 5*e - f, 4*c - e - f, 7*e^2 - 2*e*f + 7*f^2) of Multivariate Polynomial Ring in x, y, z, t, b, c, d, e, f, l, m over Number Field in ii with defining polynomial xx^2 + 1, Ideal (d + e - f, c + f) of Multivariate Polynomial Ring in x, y, z, t, b, c, d, e, f, l, m over Number Field in ii with defining polynomial xx^2 + 1]\n",
      "\n",
      "\n",
      "\n",
      "\n",
      "Calcolo la dec primaria delle condizioni\n",
      "Per accelerare i conti conviene prima saturare con c\n",
      "Tempo di calcolo:\n",
      "2.4223759999999857\n",
      "condizioni:\n",
      "[Ideal (e - 3*f, 2*c + d - 2*f, d^2 - 4*d*f + 16*f^2) of Multivariate Polynomial Ring in x, y, z, t, b, c, d, e, f, l, m over Number Field in ii with defining polynomial xx^2 + 1, Ideal (d + e - f, c + f) of Multivariate Polynomial Ring in x, y, z, t, b, c, d, e, f, l, m over Number Field in ii with defining polynomial xx^2 + 1]\n",
      "\n",
      "\n",
      "\n",
      "\n",
      "Calcolo la dec primaria delle condizioni\n",
      "Per accelerare i conti conviene prima saturare con c\n",
      "Tempo di calcolo:\n",
      "2.714497999999992\n",
      "condizioni:\n",
      "[Ideal (2*d - e - 5*f, 4*c - e - f, 7*e^2 - 2*e*f + 7*f^2) of Multivariate Polynomial Ring in x, y, z, t, b, c, d, e, f, l, m over Number Field in ii with defining polynomial xx^2 + 1, Ideal (d - e + f, c + e) of Multivariate Polynomial Ring in x, y, z, t, b, c, d, e, f, l, m over Number Field in ii with defining polynomial xx^2 + 1]\n",
      "\n",
      "\n",
      "\n",
      "\n",
      "Calcolo la dec primaria delle condizioni\n",
      "Per accelerare i conti conviene prima saturare con c\n",
      "Tempo di calcolo:\n",
      "2.2550720000000126\n",
      "condizioni:\n",
      "[Ideal (3*e - f, 6*c + 3*d - 2*f, 9*d^2 - 12*d*f + 16*f^2) of Multivariate Polynomial Ring in x, y, z, t, b, c, d, e, f, l, m over Number Field in ii with defining polynomial xx^2 + 1, Ideal (d - e + f, c + e) of Multivariate Polynomial Ring in x, y, z, t, b, c, d, e, f, l, m over Number Field in ii with defining polynomial xx^2 + 1]\n",
      "\n",
      "\n",
      "\n",
      "\n"
     ]
    }
   ],
   "source": [
    "load('contoMatriceOrdine4Con1Eck.sage')"
   ]
  },
  {
   "cell_type": "code",
   "execution_count": 15,
   "id": "3c87e6a0-04a9-4393-a96c-072a5e155062",
   "metadata": {},
   "outputs": [
    {
     "data": {
      "text/plain": [
       "[[('E1', 'G4', 'E5', 'G3', 'F24'),\n",
       "  [Ideal (2*d - 5*e - f, 4*c - e - f, 7*e^2 - 2*e*f + 7*f^2) of Multivariate Polynomial Ring in x, y, z, t, b, c, d, e, f, l, m over Number Field in ii with defining polynomial xx^2 + 1,\n",
       "   Ideal (d + e - f, c + f) of Multivariate Polynomial Ring in x, y, z, t, b, c, d, e, f, l, m over Number Field in ii with defining polynomial xx^2 + 1]],\n",
       " [('E1', 'G4', 'E5', 'G6', 'F24'),\n",
       "  [Ideal (3*d + 10*e - 6*f, 2*c - e + f, 7*e^2 - 6*e*f + 3*f^2) of Multivariate Polynomial Ring in x, y, z, t, b, c, d, e, f, l, m over Number Field in ii with defining polynomial xx^2 + 1,\n",
       "   Ideal (d + e - f, c + f) of Multivariate Polynomial Ring in x, y, z, t, b, c, d, e, f, l, m over Number Field in ii with defining polynomial xx^2 + 1]],\n",
       " [('E1', 'G4', 'E5', 'G2', 'F46'),\n",
       "  [Ideal (4*c*e + (-ii + 3)*d*e + (5*ii + 5)*e^2 + (-4*ii + 4)*c*f + (-3*ii + 1)*d*f + (-4*ii + 8)*e*f + (-5*ii - 5)*f^2, 4*c*d + (3*ii - 1)*d*e + (ii - 7)*e^2 + (4*ii - 8)*c*f + (ii + 1)*d*f + (4*ii - 4)*e*f + (-ii + 3)*f^2, 4*c^2 + (-5*ii - 5)*d*e + (-15*ii + 5)*e^2 + (-12*ii - 8)*c*f + (ii - 7)*d*f + (-12*ii - 12)*e*f + (15*ii - 5)*f^2, 5*d^2*e + (6*ii + 8)*d*e^2 + (2*ii + 11)*e^3 + (-4*ii + 3)*d^2*f + (-6*ii + 2)*d*e*f + (-28*ii + 1)*e^2*f - 10*d*f^2 + (6*ii - 27)*e*f^2 + (20*ii + 15)*f^3) of Multivariate Polynomial Ring in x, y, z, t, b, c, d, e, f, l, m over Number Field in ii with defining polynomial xx^2 + 1,\n",
       "   Ideal (4*c*e + (ii + 3)*d*e + (-5*ii + 5)*e^2 + (4*ii + 4)*c*f + (3*ii + 1)*d*f + (4*ii + 8)*e*f + (5*ii - 5)*f^2, 4*c*d + (-3*ii - 1)*d*e + (-ii - 7)*e^2 + (-4*ii - 8)*c*f + (-ii + 1)*d*f + (-4*ii - 4)*e*f + (ii + 3)*f^2, 4*c^2 + (5*ii - 5)*d*e + (15*ii + 5)*e^2 + (12*ii - 8)*c*f + (-ii - 7)*d*f + (12*ii - 12)*e*f + (-15*ii - 5)*f^2, 5*d^2*e + (-6*ii + 8)*d*e^2 + (-2*ii + 11)*e^3 + (4*ii + 3)*d^2*f + (6*ii + 2)*d*e*f + (28*ii + 1)*e^2*f - 10*d*f^2 + (-6*ii - 27)*e*f^2 + (-20*ii + 15)*f^3) of Multivariate Polynomial Ring in x, y, z, t, b, c, d, e, f, l, m over Number Field in ii with defining polynomial xx^2 + 1]],\n",
       " [('E1', 'G4', 'E5', 'G3', 'F46'),\n",
       "  [Ideal (c + d + 3*e - 2*f, d^2 + 3*d*e - 3*d*f - 2*e*f + 2*f^2) of Multivariate Polynomial Ring in x, y, z, t, b, c, d, e, f, l, m over Number Field in ii with defining polynomial xx^2 + 1]],\n",
       " [('E1', 'G4', 'E6', 'G3', 'F24'),\n",
       "  [Ideal (2*d - e - 5*f, 4*c - e - f, 7*e^2 - 2*e*f + 7*f^2) of Multivariate Polynomial Ring in x, y, z, t, b, c, d, e, f, l, m over Number Field in ii with defining polynomial xx^2 + 1,\n",
       "   Ideal (d - e + f, c + e) of Multivariate Polynomial Ring in x, y, z, t, b, c, d, e, f, l, m over Number Field in ii with defining polynomial xx^2 + 1]],\n",
       " [('E1', 'G4', 'E6', 'G5', 'F24'),\n",
       "  [Ideal (3*d - 6*e + 10*f, 2*c + e - f, 3*e^2 - 6*e*f + 7*f^2) of Multivariate Polynomial Ring in x, y, z, t, b, c, d, e, f, l, m over Number Field in ii with defining polynomial xx^2 + 1,\n",
       "   Ideal (d - e + f, c + e) of Multivariate Polynomial Ring in x, y, z, t, b, c, d, e, f, l, m over Number Field in ii with defining polynomial xx^2 + 1]],\n",
       " [('E1', 'G4', 'E6', 'G2', 'F45'),\n",
       "  [Ideal (4*c*e + (-ii + 2)*d*e + (-5*ii)*e^2 + (2*ii + 2)*c*f + (ii + 2)*d*f + (2*ii + 6)*e*f + (5*ii)*f^2, 4*c*d + (-3*ii + 4)*d*e + (-11*ii - 2)*e^2 + (2*ii + 6)*c*f + (3*ii + 4)*d*f + (2*ii + 10)*e*f + (11*ii - 2)*f^2, 4*c^2 + (5*ii)*d*e + (5*ii + 10)*e^2 + (10*ii - 2)*c*f + (3*ii - 4)*d*f + (10*ii - 6)*e*f + (-5*ii - 10)*f^2, 5*d^2*e + (-8*ii - 6)*d*e^2 + (24*ii - 7)*e^3 + (4*ii + 3)*d^2*f + (-2*ii + 6)*d*e*f + (-18*ii - 21)*e^2*f + (10*ii)*d*f^2 + (-16*ii + 23)*e*f^2 + (10*ii + 5)*f^3) of Multivariate Polynomial Ring in x, y, z, t, b, c, d, e, f, l, m over Number Field in ii with defining polynomial xx^2 + 1,\n",
       "   Ideal (4*c*e + (ii + 2)*d*e + (5*ii)*e^2 + (-2*ii + 2)*c*f + (-ii + 2)*d*f + (-2*ii + 6)*e*f + (-5*ii)*f^2, 4*c*d + (3*ii + 4)*d*e + (11*ii - 2)*e^2 + (-2*ii + 6)*c*f + (-3*ii + 4)*d*f + (-2*ii + 10)*e*f + (-11*ii - 2)*f^2, 4*c^2 + (-5*ii)*d*e + (-5*ii + 10)*e^2 + (-10*ii - 2)*c*f + (-3*ii - 4)*d*f + (-10*ii - 6)*e*f + (5*ii - 10)*f^2, 5*d^2*e + (8*ii - 6)*d*e^2 + (-24*ii - 7)*e^3 + (-4*ii + 3)*d^2*f + (2*ii + 6)*d*e*f + (18*ii - 21)*e^2*f + (-10*ii)*d*f^2 + (16*ii + 23)*e*f^2 + (-10*ii + 5)*f^3) of Multivariate Polynomial Ring in x, y, z, t, b, c, d, e, f, l, m over Number Field in ii with defining polynomial xx^2 + 1]],\n",
       " [('E1', 'G4', 'E6', 'G3', 'F45'),\n",
       "  [Ideal (c + d - 2*e + 3*f, d^2 - 3*d*e + 2*e^2 + 3*d*f - 2*e*f) of Multivariate Polynomial Ring in x, y, z, t, b, c, d, e, f, l, m over Number Field in ii with defining polynomial xx^2 + 1]],\n",
       " [('E1', 'G4', 'F34', 'G3', 'F24'), []],\n",
       " [('E1', 'G4', 'F34', 'F12', 'F24'), []],\n",
       " [('E1', 'G4', 'F34', 'G3', 'F45'),\n",
       "  [Ideal (2*d - 5*e - f, 4*c - e - f, 7*e^2 - 2*e*f + 7*f^2) of Multivariate Polynomial Ring in x, y, z, t, b, c, d, e, f, l, m over Number Field in ii with defining polynomial xx^2 + 1,\n",
       "   Ideal (d + e - f, c + f) of Multivariate Polynomial Ring in x, y, z, t, b, c, d, e, f, l, m over Number Field in ii with defining polynomial xx^2 + 1]],\n",
       " [('E1', 'G4', 'F34', 'F15', 'F45'),\n",
       "  [Ideal (e - 3*f, 2*c + d - 2*f, d^2 - 4*d*f + 16*f^2) of Multivariate Polynomial Ring in x, y, z, t, b, c, d, e, f, l, m over Number Field in ii with defining polynomial xx^2 + 1,\n",
       "   Ideal (d + e - f, c + f) of Multivariate Polynomial Ring in x, y, z, t, b, c, d, e, f, l, m over Number Field in ii with defining polynomial xx^2 + 1]],\n",
       " [('E1', 'G4', 'F34', 'G3', 'F46'),\n",
       "  [Ideal (2*d - e - 5*f, 4*c - e - f, 7*e^2 - 2*e*f + 7*f^2) of Multivariate Polynomial Ring in x, y, z, t, b, c, d, e, f, l, m over Number Field in ii with defining polynomial xx^2 + 1,\n",
       "   Ideal (d - e + f, c + e) of Multivariate Polynomial Ring in x, y, z, t, b, c, d, e, f, l, m over Number Field in ii with defining polynomial xx^2 + 1]],\n",
       " [('E1', 'G4', 'F34', 'F16', 'F46'),\n",
       "  [Ideal (3*e - f, 6*c + 3*d - 2*f, 9*d^2 - 12*d*f + 16*f^2) of Multivariate Polynomial Ring in x, y, z, t, b, c, d, e, f, l, m over Number Field in ii with defining polynomial xx^2 + 1,\n",
       "   Ideal (d - e + f, c + e) of Multivariate Polynomial Ring in x, y, z, t, b, c, d, e, f, l, m over Number Field in ii with defining polynomial xx^2 + 1]]]"
      ]
     },
     "execution_count": 15,
     "metadata": {},
     "output_type": "execute_result"
    }
   ],
   "source": [
    "tutteCondizioni"
   ]
  },
  {
   "cell_type": "code",
   "execution_count": 16,
   "id": "8ad6c2de-b3ae-4348-ac29-458f1af722f3",
   "metadata": {},
   "outputs": [
    {
     "data": {
      "text/plain": [
       "True"
      ]
     },
     "execution_count": 16,
     "metadata": {},
     "output_type": "execute_result"
    }
   ],
   "source": [
    "SE1.is_ideal_singular(ideal(c))"
   ]
  },
  {
   "cell_type": "code",
   "execution_count": 17,
   "id": "a09ca9b9-4d1f-4a09-9c7c-01a7bc125e61",
   "metadata": {},
   "outputs": [
    {
     "data": {
      "text/plain": [
       "False"
      ]
     },
     "execution_count": 17,
     "metadata": {},
     "output_type": "execute_result"
    }
   ],
   "source": [
    "SE1.is_ideal_valid(ideal(c))"
   ]
  },
  {
   "cell_type": "code",
   "execution_count": 18,
   "id": "a8adad94-ecab-4a9e-a5a0-ef09a4247608",
   "metadata": {},
   "outputs": [],
   "source": [
    "ideals = [el[1] for el in tutteCondizioni]\n",
    "final_ideals = []\n",
    "for pd in ideals:\n",
    "    final_ideals+=[ideal for ideal in pd if SE1.is_ideal_valid(ideal)]"
   ]
  },
  {
   "cell_type": "code",
   "execution_count": 23,
   "id": "5231dd8b-a923-48fd-9420-da7d47cc316b",
   "metadata": {},
   "outputs": [
    {
     "name": "stdout",
     "output_type": "stream",
     "text": [
      "(0, 0, 0, 0, 0, 1, 1, 2, 2, 0, 0)\n",
      "(0, 0, 0, 0, 0, 1, 1, 2, 2, 0, 0)\n",
      "(0, 0, 0, 0, 0, 2, 1, 2, 2, 0, 0)\n",
      "(0, 0, 0, 0, 0, 0, 2, 3, 3, 0, 0)\n"
     ]
    }
   ],
   "source": [
    "for gen in final_ideals[0].gens():\n",
    "    print(gen.degrees())"
   ]
  },
  {
   "cell_type": "code",
   "execution_count": null,
   "id": "24b638b0-206b-43ad-ac3c-764d8b609ef6",
   "metadata": {},
   "outputs": [],
   "source": []
  }
 ],
 "metadata": {
  "kernelspec": {
   "display_name": "SageMath 9.4",
   "language": "sage",
   "name": "sagemath"
  },
  "language_info": {
   "codemirror_mode": {
    "name": "ipython",
    "version": 3
   },
   "file_extension": ".py",
   "mimetype": "text/x-python",
   "name": "python",
   "nbconvert_exporter": "python",
   "pygments_lexer": "ipython3",
   "version": "3.7.12"
  }
 },
 "nbformat": 4,
 "nbformat_minor": 5
}
