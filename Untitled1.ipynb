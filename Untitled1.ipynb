{
 "cells": [
  {
   "cell_type": "code",
   "execution_count": 1,
   "id": "073dfeb5-b3b9-427f-84ed-492617e4b9b2",
   "metadata": {},
   "outputs": [],
   "source": [
    "load('Imports/Utility.sage', 'Imports/Point.sage', 'Imports/Line.sage', 'Imports/TritangentPlane.sage', 'Imports/Group.sage', 'Imports/Cubic.sage')\n",
    "import multiprocessing as mp"
   ]
  },
  {
   "cell_type": "code",
   "execution_count": 2,
   "id": "1c23afbc-6266-4fcb-a7f6-924e92804051",
   "metadata": {},
   "outputs": [],
   "source": [
    "with open('all_permutations.pickle', 'rb') as fil:\n",
    "    all_permutations = pickle.load(fil) "
   ]
  },
  {
   "cell_type": "code",
   "execution_count": 3,
   "id": "f360a01f-2c6e-4386-a460-ae2623d6ccf6",
   "metadata": {},
   "outputs": [],
   "source": [
    "def from_labels_to_perm(labels):\n",
    "    keys = ['E1', 'E2', 'E3', 'E4', 'E5', 'E6', 'G1', 'G2', 'G3', 'G4', 'G5', 'G6', 'F12', 'F13', 'F14', 'F15', 'F16', 'F23', 'F24', 'F25', 'F26', 'F34', 'F35', 'F36', 'F45', 'F46', 'F56']\n",
    "    return Permutation([labels.index(label)+1 for label in keys]).to_permutation_group_element()"
   ]
  },
  {
   "cell_type": "code",
   "execution_count": 4,
   "id": "af575412-2c5b-4466-920d-0a125f21c0ba",
   "metadata": {},
   "outputs": [],
   "source": [
    "all_perms = [from_labels_to_perm(labels) for labels in all_permutations]"
   ]
  },
  {
   "cell_type": "code",
   "execution_count": 35,
   "id": "17d6941e-cb50-48b1-9b79-6f64cedc5aa8",
   "metadata": {},
   "outputs": [],
   "source": [
    "Gr = PermutationGroup(all_perms)"
   ]
  },
  {
   "cell_type": "code",
   "execution_count": 5,
   "id": "d85aa026-00dc-4bf4-80a1-479d314bead9",
   "metadata": {},
   "outputs": [],
   "source": [
    "order3_perm = []\n",
    "for perm in all_perms:\n",
    "    if perm.order() == 3:\n",
    "        order3_perm.append(perm)"
   ]
  },
  {
   "cell_type": "code",
   "execution_count": 6,
   "id": "69bae8ab-6e6d-4388-a609-860c4bd1aa56",
   "metadata": {},
   "outputs": [
    {
     "data": {
      "text/plain": [
       "800"
      ]
     },
     "execution_count": 6,
     "metadata": {},
     "output_type": "execute_result"
    }
   ],
   "source": [
    "len(order3_perm)"
   ]
  },
  {
   "cell_type": "code",
   "execution_count": 16,
   "id": "3db85ae7-410f-4a9f-9142-f28b8a3c3bf4",
   "metadata": {},
   "outputs": [],
   "source": [
    "all_fixed_lines3 = []\n",
    "for perm in order3_perm:\n",
    "    fixed_lines = []\n",
    "    for tup in perm.cycle_tuples(singletons=True):\n",
    "        if len(tup) ==1:\n",
    "            fixed_lines.append(tup[0])\n",
    "    if fixed_lines !=[]:\n",
    "        all_fixed_lines3.append(fixed_lines)"
   ]
  },
  {
   "cell_type": "code",
   "execution_count": 19,
   "id": "f5ee359e-f313-4aec-8923-bf575bde0c7f",
   "metadata": {},
   "outputs": [
    {
     "data": {
      "text/plain": [
       "240"
      ]
     },
     "execution_count": 19,
     "metadata": {},
     "output_type": "execute_result"
    }
   ],
   "source": [
    "len(all_fixed_lines)"
   ]
  },
  {
   "cell_type": "code",
   "execution_count": 22,
   "id": "f2f8e66e-22db-4f43-b7c2-59d6ea3abf25",
   "metadata": {},
   "outputs": [],
   "source": [
    "order5_perm = []\n",
    "for perm in all_perms:\n",
    "    if perm.order() == 5:\n",
    "        order5_perm.append(perm)"
   ]
  },
  {
   "cell_type": "code",
   "execution_count": 23,
   "id": "659582a0-0e1b-4908-92a1-b01d78a1bf81",
   "metadata": {},
   "outputs": [
    {
     "data": {
      "text/plain": [
       "5184"
      ]
     },
     "execution_count": 23,
     "metadata": {},
     "output_type": "execute_result"
    }
   ],
   "source": [
    "len(order5_perm)"
   ]
  },
  {
   "cell_type": "code",
   "execution_count": 24,
   "id": "c640b445-239c-4973-aab5-1e7d6aacfdf9",
   "metadata": {},
   "outputs": [],
   "source": [
    "all_fixed_lines5 = []\n",
    "for perm in order5_perm:\n",
    "    fixed_lines = []\n",
    "    for tup in perm.cycle_tuples(singletons=True):\n",
    "        if len(tup) ==1:\n",
    "            fixed_lines.append(tup[0])\n",
    "    if fixed_lines !=[]:\n",
    "        all_fixed_lines5.append(fixed_lines)"
   ]
  },
  {
   "cell_type": "code",
   "execution_count": 28,
   "id": "9abeb124-77ba-469d-8f79-35ee4b989a43",
   "metadata": {},
   "outputs": [],
   "source": [
    "for lines in all_fixed_lines5:\n",
    "    if len(lines) !=2:\n",
    "        print(lines)"
   ]
  },
  {
   "cell_type": "code",
   "execution_count": null,
   "id": "bf7b8336-46ee-4fc4-b13f-703a6a4154be",
   "metadata": {},
   "outputs": [],
   "source": []
  },
  {
   "cell_type": "code",
   "execution_count": 30,
   "id": "3a15ce31-0e57-4926-b3ac-63efe8fa56b2",
   "metadata": {},
   "outputs": [
    {
     "data": {
      "text/plain": [
       "[(1,12,14,5,24,9,7,16)(2,26,8,10,23,11,15,27)(3,20)(4,25,17,22,19,13,6,18),\n",
       " (1,19,12,21,14,13,3,26,4,27)(2,24,10,17,20)(5,22)(6,23,18,8,16)(7,15,25,11,9)]"
      ]
     },
     "execution_count": 30,
     "metadata": {},
     "output_type": "execute_result"
    }
   ],
   "source": [
    "E6 = WeylGroup(['E', 6]).as_permutation_group()\n",
    "E6.gens_small()"
   ]
  },
  {
   "cell_type": "code",
   "execution_count": 31,
   "id": "641e9d79-9fe4-4901-99ce-be57e4d92ab7",
   "metadata": {},
   "outputs": [],
   "source": [
    "ord3 = []\n",
    "for el in E6:\n",
    "    if el.order() == 3:\n",
    "        ord3.append(el)"
   ]
  },
  {
   "cell_type": "code",
   "execution_count": 32,
   "id": "42653d1a-f987-4745-a4db-f92dcd45cd48",
   "metadata": {},
   "outputs": [
    {
     "data": {
      "text/plain": [
       "800"
      ]
     },
     "execution_count": 32,
     "metadata": {},
     "output_type": "execute_result"
    }
   ],
   "source": [
    "len(ord3)"
   ]
  },
  {
   "cell_type": "code",
   "execution_count": 33,
   "id": "126233e3-8c48-405a-9d80-ef08959537c3",
   "metadata": {},
   "outputs": [],
   "source": [
    "ord5 = []\n",
    "for el in E6:\n",
    "    if el.order() == 5:\n",
    "        ord5.append(el)"
   ]
  },
  {
   "cell_type": "code",
   "execution_count": 34,
   "id": "9cf58604-71cf-4e0e-a074-7cc106dc75aa",
   "metadata": {},
   "outputs": [
    {
     "data": {
      "text/plain": [
       "5184"
      ]
     },
     "execution_count": 34,
     "metadata": {},
     "output_type": "execute_result"
    }
   ],
   "source": [
    "len(ord5)"
   ]
  },
  {
   "cell_type": "code",
   "execution_count": null,
   "id": "b72a4466-0f6d-4a47-9f74-a6b11962d14b",
   "metadata": {},
   "outputs": [],
   "source": []
  }
 ],
 "metadata": {
  "kernelspec": {
   "display_name": "SageMath 9.4",
   "language": "sage",
   "name": "sagemath"
  },
  "language_info": {
   "codemirror_mode": {
    "name": "ipython",
    "version": 3
   },
   "file_extension": ".py",
   "mimetype": "text/x-python",
   "name": "python",
   "nbconvert_exporter": "python",
   "pygments_lexer": "ipython3",
   "version": "3.7.12"
  }
 },
 "nbformat": 4,
 "nbformat_minor": 5
}
