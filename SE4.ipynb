{
 "cells": [
  {
   "cell_type": "code",
   "execution_count": 1,
   "id": "66b4ac7e-ddf7-4b8c-9866-fdf6b4d301e9",
   "metadata": {},
   "outputs": [],
   "source": [
    "load('Imports/Utility.sage', 'Imports/Point.sage', 'Imports/Line.sage', 'Imports/Tritangent_plane.sage', 'Imports/Group.sage', 'Imports/Cubic.sage')\n",
    "import multiprocessing as mp\n",
    "import pickle"
   ]
  },
  {
   "cell_type": "code",
   "execution_count": 2,
   "id": "c1d4b39b-64b9-4693-a923-d5e4977777c1",
   "metadata": {},
   "outputs": [],
   "source": [
    "P.<x,y,z,t,b,c,d,e,f,l,m> = PolynomialRing(QQ)"
   ]
  },
  {
   "cell_type": "code",
   "execution_count": 3,
   "id": "f9064683-d720-4d4f-a9dc-c43295b44f8f",
   "metadata": {},
   "outputs": [],
   "source": [
    "cubic_new = e*f*(2*x^2*y-2*x*y^2+x*z^2-x*z*t-y*t^2+y*z*t)+b*c*(x-t)*(x*z+y*t)+c*c*(z+t)*(y*t-x*z)+d*c*(y-z)*(x*z+y*t)+(e+f)*c*(x-y)*(y*t-x*z)"
   ]
  },
  {
   "cell_type": "code",
   "execution_count": 4,
   "id": "25c9b25f-17d3-4ee4-bfc2-e1291275d692",
   "metadata": {},
   "outputs": [],
   "source": [
    "sing_cubics = (-1) * (-c + f) * (-c + e) * c * (c + f) * (c + e) * (-e + f)^2 * (-c*d + c*f + e*f) * (-c*d + c*e + e*f) * (-c^2 - c*d + e*f) * (b*c - c*f + e*f) * (b*c - c*e + e*f) * (b*c - c*d + 2*e*f) * (b*c - c^2 + e*f) * (b*c^2 + c^2*d + b*c*f - 2*c^2*f - c*d*f + 2*e*f^2) * (b*c^2 + c^2*d + b*c*e - 2*c^2*e - c*d*e + 2*e^2*f) * (-b*c^3 - 2*b*c^2*d + c^3*d + b*c^2*e + c^2*d*e + b*c^2*f + c^2*d*f + 3*b*c*e*f - 4*c^2*e*f - 3*c*d*e*f + 4*e^2*f^2)"
   ]
  },
  {
   "cell_type": "code",
   "execution_count": 5,
   "id": "a570c4a4-dd5a-4360-9f51-50804a8e2c70",
   "metadata": {},
   "outputs": [],
   "source": [
    "line = Line([y, z])"
   ]
  },
  {
   "cell_type": "code",
   "execution_count": 6,
   "id": "eb47cda9-635d-403e-9f11-45f9df637676",
   "metadata": {},
   "outputs": [],
   "source": [
    "general_cubic = Cubic(cubic_new, line, sing_cubics)"
   ]
  },
  {
   "cell_type": "code",
   "execution_count": 7,
   "id": "756a5a1e-e121-4de4-866e-7c0f44baf9dc",
   "metadata": {},
   "outputs": [],
   "source": [
    "SE4 = general_cubic.subs({b:-(c*c+e*f)/c, d:(3*e*f - c^2 + c*f + c*e)/(2*c)}).subs({f:c*(3*c-e)/(c+e)})"
   ]
  },
  {
   "cell_type": "code",
   "execution_count": 8,
   "id": "23fac0b7-5076-465d-92a8-799db1ad94fd",
   "metadata": {},
   "outputs": [
    {
     "name": "stdout",
     "output_type": "stream",
     "text": [
      "CPU times: user 349 ms, sys: 89.5 ms, total: 438 ms\n",
      "Wall time: 884 ms\n"
     ]
    }
   ],
   "source": [
    "%time adm_SE4 = SE4.find_admissible_projectivities()"
   ]
  },
  {
   "cell_type": "code",
   "execution_count": 9,
   "id": "3f9b6ca8-cd49-4a85-beb3-87e8765a4e1e",
   "metadata": {},
   "outputs": [
    {
     "data": {
      "text/plain": [
       "36"
      ]
     },
     "execution_count": 9,
     "metadata": {},
     "output_type": "execute_result"
    }
   ],
   "source": [
    "len(adm_SE4)"
   ]
  },
  {
   "cell_type": "code",
   "execution_count": 10,
   "id": "2ebe64dd-6189-4a85-b455-6ae7624e563c",
   "metadata": {},
   "outputs": [
    {
     "name": "stdout",
     "output_type": "stream",
     "text": [
      "CPU times: user 19.1 ms, sys: 52.3 ms, total: 71.4 ms\n",
      "Wall time: 97.7 ms\n"
     ]
    }
   ],
   "source": [
    "%time simm_SE4 = SE4.find_simmetries(adm_SE4)"
   ]
  },
  {
   "cell_type": "code",
   "execution_count": 11,
   "id": "ea8e9c69-7c7b-4cb6-b4be-6e2421bb2e92",
   "metadata": {},
   "outputs": [
    {
     "data": {
      "text/plain": [
       "12"
      ]
     },
     "execution_count": 11,
     "metadata": {},
     "output_type": "execute_result"
    }
   ],
   "source": [
    "len(simm_SE4)"
   ]
  },
  {
   "cell_type": "code",
   "execution_count": 12,
   "id": "d4696c11-8cf5-4c22-a9e1-4282e314ad7c",
   "metadata": {},
   "outputs": [],
   "source": [
    "G_SE4 = Group(simm_SE4)"
   ]
  },
  {
   "cell_type": "code",
   "execution_count": 13,
   "id": "f221b7ec-afc5-46eb-8caa-b55aedbdcb92",
   "metadata": {},
   "outputs": [
    {
     "data": {
      "text/plain": [
       "True"
      ]
     },
     "execution_count": 13,
     "metadata": {},
     "output_type": "execute_result"
    }
   ],
   "source": [
    "G_SE4.is_group()"
   ]
  },
  {
   "cell_type": "code",
   "execution_count": 14,
   "id": "7d2ce135-a575-4928-91e7-4b4631c27086",
   "metadata": {},
   "outputs": [
    {
     "data": {
      "text/plain": [
       "12"
      ]
     },
     "execution_count": 14,
     "metadata": {},
     "output_type": "execute_result"
    }
   ],
   "source": [
    "G_SE4.get_order()"
   ]
  },
  {
   "cell_type": "code",
   "execution_count": 15,
   "id": "986ee108-532c-4c3e-9aa6-d68221783b45",
   "metadata": {},
   "outputs": [
    {
     "data": {
      "text/plain": [
       "False"
      ]
     },
     "execution_count": 15,
     "metadata": {},
     "output_type": "execute_result"
    }
   ],
   "source": [
    "G_SE4.is_abelian()"
   ]
  },
  {
   "cell_type": "code",
   "execution_count": 16,
   "id": "3dfe214b-0de9-4bd9-9bef-98e4264a588f",
   "metadata": {},
   "outputs": [
    {
     "data": {
      "text/plain": [
       "[1, 2, 3, 4, 6, 12]"
      ]
     },
     "execution_count": 16,
     "metadata": {},
     "output_type": "execute_result"
    }
   ],
   "source": [
    "G_SE4.get_divisors_of_order()"
   ]
  },
  {
   "cell_type": "code",
   "execution_count": 17,
   "id": "c64a2a2e-0718-451c-994c-e06fed2fe7d9",
   "metadata": {},
   "outputs": [
    {
     "data": {
      "text/plain": [
       "[1, 2, 2, 3, 2, 3, 2, 2, 2, 6, 2, 6]"
      ]
     },
     "execution_count": 17,
     "metadata": {},
     "output_type": "execute_result"
    }
   ],
   "source": [
    "G_SE4.get_order_of_elements()"
   ]
  },
  {
   "cell_type": "code",
   "execution_count": 18,
   "id": "b8a2632f-207c-4573-b8fd-8140347fea25",
   "metadata": {},
   "outputs": [
    {
     "data": {
      "text/plain": [
       "[]"
      ]
     },
     "execution_count": 18,
     "metadata": {},
     "output_type": "execute_result"
    }
   ],
   "source": [
    "find_conditions_for_subfamilies(SE4, adm_SE4, simm_SE4)"
   ]
  },
  {
   "cell_type": "code",
   "execution_count": 19,
   "id": "4d3bb32d-9ef0-46b4-9aa1-447986aae558",
   "metadata": {},
   "outputs": [],
   "source": [
    "perms = []\n",
    "for el in G_SE4:\n",
    "    perms.append(Permutation(apply_proj_to_eck(el, SE4.eckardt_points)).to_cycles())"
   ]
  },
  {
   "cell_type": "code",
   "execution_count": 22,
   "id": "58761f4c-959f-4ad5-b84e-34a8763e5e5c",
   "metadata": {},
   "outputs": [
    {
     "data": {
      "text/plain": [
       "6"
      ]
     },
     "execution_count": 22,
     "metadata": {},
     "output_type": "execute_result"
    }
   ],
   "source": [
    "PermutationGroup(perms).order()"
   ]
  },
  {
   "cell_type": "code",
   "execution_count": 20,
   "id": "a9befaeb-8a46-4987-9104-96873a00c795",
   "metadata": {},
   "outputs": [
    {
     "data": {
      "text/plain": [
       "'S3'"
      ]
     },
     "execution_count": 20,
     "metadata": {},
     "output_type": "execute_result"
    }
   ],
   "source": [
    "PermutationGroup(perms).structure_description()"
   ]
  },
  {
   "cell_type": "code",
   "execution_count": null,
   "id": "0149e376-2d1a-4ab0-9165-7584ffd69595",
   "metadata": {},
   "outputs": [],
   "source": []
  }
 ],
 "metadata": {
  "kernelspec": {
   "display_name": "SageMath 9.3",
   "language": "sage",
   "name": "sagemath"
  },
  "language_info": {
   "codemirror_mode": {
    "name": "ipython",
    "version": 3
   },
   "file_extension": ".py",
   "mimetype": "text/x-python",
   "name": "python",
   "nbconvert_exporter": "python",
   "pygments_lexer": "ipython3",
   "version": "3.7.10"
  }
 },
 "nbformat": 4,
 "nbformat_minor": 5
}
