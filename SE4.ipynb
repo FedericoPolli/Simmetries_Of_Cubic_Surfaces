{
 "cells": [
  {
   "cell_type": "code",
   "execution_count": 1,
   "id": "66b4ac7e-ddf7-4b8c-9866-fdf6b4d301e9",
   "metadata": {},
   "outputs": [],
   "source": [
    "load('Imports/Utility.sage', 'Imports/Point.sage', 'Imports/Line.sage', 'Imports/TritangentPlane.sage', 'Imports/Group.sage', 'Imports/Cubic.sage')\n",
    "import multiprocessing as mp\n",
    "import pickle"
   ]
  },
  {
   "cell_type": "code",
   "execution_count": 2,
   "id": "aef05a7f-c11c-4521-9948-4cd6ef9baaf3",
   "metadata": {},
   "outputs": [],
   "source": [
    "P.<x,y,z,t,b,c,d,e,f,l,m> = PolynomialRing(QQ)\n",
    "cubic_new = e*f*(2*x^2*y-2*x*y^2+x*z^2-x*z*t-y*t^2+y*z*t)+b*c*(x-t)*(x*z+y*t)+c*c*(z+t)*(y*t-x*z)+d*c*(y-z)*(x*z+y*t)+(e+f)*c*(x-y)*(y*t-x*z)\n",
    "sing_cubics = (-1) * (-c + f) * (-c + e) * c * (c + f) * (c + e) * (-e + f)^2 * (-c*d + c*f + e*f) * (-c*d + c*e + e*f) * (-c^2 - c*d + e*f) * (b*c - c*f + e*f) * (b*c - c*e + e*f) * (b*c - c*d + 2*e*f) * (b*c - c^2 + e*f) * (b*c^2 + c^2*d + b*c*f - 2*c^2*f - c*d*f + 2*e*f^2) * (b*c^2 + c^2*d + b*c*e - 2*c^2*e - c*d*e + 2*e^2*f) * (-b*c^3 - 2*b*c^2*d + c^3*d + b*c^2*e + c^2*d*e + b*c^2*f + c^2*d*f + 3*b*c*e*f - 4*c^2*e*f - 3*c*d*e*f + 4*e^2*f^2)"
   ]
  },
  {
   "cell_type": "code",
   "execution_count": null,
   "id": "678508fd-19c3-4b1f-b5b1-fb38e76525f1",
   "metadata": {},
   "outputs": [],
   "source": [
    "# Define cubic SE4, find and classify the lines and compute the 45 tritangent planes"
   ]
  },
  {
   "cell_type": "code",
   "execution_count": 3,
   "id": "d404737d-b36b-434e-a6a5-a4ded6af30d5",
   "metadata": {},
   "outputs": [],
   "source": [
    "line = Line([y, z])\n",
    "general_cubic = Cubic(cubic_new, line, sing_cubics)\n",
    "SE4 = general_cubic.subs({b:-(c*c+e*f)/c, d:(3*e*f - c^2 + c*f + c*e)/(2*c)}).subs({f:c*(3*c-e)/(c+e)})"
   ]
  },
  {
   "cell_type": "code",
   "execution_count": null,
   "id": "083e5cae-dee1-4e2d-a902-5c809dceee6b",
   "metadata": {},
   "outputs": [],
   "source": [
    "# Find simmetries"
   ]
  },
  {
   "cell_type": "code",
   "execution_count": 4,
   "id": "386aa746-8b93-4c5c-86a5-60ed6e459685",
   "metadata": {},
   "outputs": [
    {
     "name": "stdout",
     "output_type": "stream",
     "text": [
      "CPU times: user 360 ms, sys: 104 ms, total: 464 ms\n",
      "Wall time: 866 ms\n"
     ]
    },
    {
     "data": {
      "text/plain": [
       "36"
      ]
     },
     "execution_count": 4,
     "metadata": {},
     "output_type": "execute_result"
    }
   ],
   "source": [
    "%time adm_SE4 = SE4.find_admissible_projectivities()\n",
    "len(adm_SE4)"
   ]
  },
  {
   "cell_type": "code",
   "execution_count": 5,
   "id": "c71ca6bc-b797-4908-a88c-39b536e80b9c",
   "metadata": {},
   "outputs": [
    {
     "name": "stdout",
     "output_type": "stream",
     "text": [
      "CPU times: user 167 ms, sys: 72.2 ms, total: 239 ms\n",
      "Wall time: 269 ms\n"
     ]
    },
    {
     "data": {
      "text/plain": [
       "12"
      ]
     },
     "execution_count": 5,
     "metadata": {},
     "output_type": "execute_result"
    }
   ],
   "source": [
    "%time simm_SE4 = SE4.find_simmetries(adm_SE4)\n",
    "len(simm_SE4)"
   ]
  },
  {
   "cell_type": "code",
   "execution_count": null,
   "id": "7b7aa9f1-bb8a-4b4c-b141-4b275d06abc9",
   "metadata": {},
   "outputs": [],
   "source": [
    "# Study how the simmetries permute the Eckardt points"
   ]
  },
  {
   "cell_type": "code",
   "execution_count": 6,
   "id": "ff2f24b9-b013-47d2-be27-ee97b6383952",
   "metadata": {},
   "outputs": [
    {
     "data": {
      "text/plain": [
       "(6, 'S3')"
      ]
     },
     "execution_count": 6,
     "metadata": {},
     "output_type": "execute_result"
    }
   ],
   "source": [
    "Eck_points_perms = []\n",
    "for proj in simm_SE4:\n",
    "    Eck_points_perms.append(Permutation(SE4.apply_proj_to_eck(proj)).to_permutation_group_element())\n",
    "Eck_points_perms_group = PermutationGroup(Eck_points_perms)\n",
    "Eck_points_perms_group.order(), Eck_points_perms_group.structure_description()"
   ]
  },
  {
   "cell_type": "code",
   "execution_count": null,
   "id": "63a9c442-2f33-4d01-b587-47060b1381c4",
   "metadata": {},
   "outputs": [],
   "source": [
    "# Study how the simmetries permute the 27 lines"
   ]
  },
  {
   "cell_type": "code",
   "execution_count": 7,
   "id": "10c88cfd-8744-442f-b9c2-98919bb6f6fb",
   "metadata": {},
   "outputs": [
    {
     "data": {
      "text/plain": [
       "(12, 'D6')"
      ]
     },
     "execution_count": 7,
     "metadata": {},
     "output_type": "execute_result"
    }
   ],
   "source": [
    "lines_perms = []\n",
    "for simm in simm_SE4:\n",
    "    lines_perms.append(Permutation(SE4.apply_proj_to_lines(simm)).to_permutation_group_element())\n",
    "lines_perms_group = PermutationGroup(lines_perms)\n",
    "lines_perms_group.order(), lines_perms_group.structure_description()"
   ]
  },
  {
   "cell_type": "code",
   "execution_count": null,
   "id": "757f36e6-df8f-4e2d-ab80-4bd82161cd98",
   "metadata": {},
   "outputs": [],
   "source": [
    "# D6 is isomorphic to C2 x S3"
   ]
  },
  {
   "cell_type": "code",
   "execution_count": 14,
   "id": "0eebce5f-77a7-4d97-8b42-648090db920c",
   "metadata": {},
   "outputs": [
    {
     "data": {
      "text/plain": [
       "[False, True, True, False, False, False, False]"
      ]
     },
     "execution_count": 14,
     "metadata": {},
     "output_type": "execute_result"
    }
   ],
   "source": [
    "[el.is_isomorphic(SymmetricGroup(3)) for el in lines_perms_group.normal_subgroups()]"
   ]
  },
  {
   "cell_type": "code",
   "execution_count": 15,
   "id": "01e91d82-e8c0-4f77-8eec-84e0efa9b972",
   "metadata": {},
   "outputs": [],
   "source": [
    "nor_sub = lines_perms_group.normal_subgroups()[2]"
   ]
  },
  {
   "cell_type": "code",
   "execution_count": 16,
   "id": "4ef04859-47ae-4a23-8f96-bfaa6bf80927",
   "metadata": {},
   "outputs": [
    {
     "data": {
      "text/plain": [
       "2"
      ]
     },
     "execution_count": 16,
     "metadata": {},
     "output_type": "execute_result"
    }
   ],
   "source": [
    "lines_perms_group.quotient(nor_sub).order()"
   ]
  },
  {
   "cell_type": "code",
   "execution_count": null,
   "id": "670be6ed-a127-4f58-b5ab-bb7f8172b9f6",
   "metadata": {},
   "outputs": [],
   "source": [
    "# Find possible conditions to obtain a subfamily with a larger simmetry group"
   ]
  },
  {
   "cell_type": "code",
   "execution_count": 17,
   "id": "b8a2632f-207c-4573-b8fd-8140347fea25",
   "metadata": {},
   "outputs": [
    {
     "name": "stdout",
     "output_type": "stream",
     "text": [
      "CPU times: user 1.07 s, sys: 15.2 ms, total: 1.09 s\n",
      "Wall time: 1.12 s\n"
     ]
    },
    {
     "data": {
      "text/plain": [
       "[]"
      ]
     },
     "execution_count": 17,
     "metadata": {},
     "output_type": "execute_result"
    }
   ],
   "source": [
    "%time SE4.find_conditions_for_subfamilies(adm_SE4, simm_SE4)"
   ]
  },
  {
   "cell_type": "code",
   "execution_count": null,
   "id": "40c5197c-6a16-43a6-b755-1ea6d7ecce12",
   "metadata": {},
   "outputs": [],
   "source": []
  },
  {
   "cell_type": "code",
   "execution_count": null,
   "id": "e1b2809e-7e77-4d31-9630-6a19ad68a76a",
   "metadata": {},
   "outputs": [],
   "source": []
  },
  {
   "cell_type": "code",
   "execution_count": null,
   "id": "38ff5994-9518-465f-a5a2-7479310b5a16",
   "metadata": {},
   "outputs": [],
   "source": []
  },
  {
   "cell_type": "code",
   "execution_count": null,
   "id": "376c8a6d-87d3-4465-b1ff-f5d236066624",
   "metadata": {},
   "outputs": [],
   "source": []
  },
  {
   "cell_type": "code",
   "execution_count": null,
   "id": "6a2edb65-906d-463a-8a35-6c9cea6b4d71",
   "metadata": {},
   "outputs": [],
   "source": []
  },
  {
   "cell_type": "code",
   "execution_count": null,
   "id": "e867f11a-564f-4c37-873a-1b861ed93dcf",
   "metadata": {},
   "outputs": [],
   "source": []
  },
  {
   "cell_type": "code",
   "execution_count": null,
   "id": "c85a3e0b-fbbd-4649-a33a-ab8288cd8862",
   "metadata": {},
   "outputs": [],
   "source": []
  }
 ],
 "metadata": {
  "kernelspec": {
   "display_name": "SageMath 9.4",
   "language": "sage",
   "name": "sagemath"
  },
  "language_info": {
   "codemirror_mode": {
    "name": "ipython",
    "version": 3
   },
   "file_extension": ".py",
   "mimetype": "text/x-python",
   "name": "python",
   "nbconvert_exporter": "python",
   "pygments_lexer": "ipython3",
   "version": "3.7.12"
  }
 },
 "nbformat": 4,
 "nbformat_minor": 5
}
