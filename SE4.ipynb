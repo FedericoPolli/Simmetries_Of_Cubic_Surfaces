{
 "cells": [
  {
   "cell_type": "code",
   "execution_count": 1,
   "id": "66b4ac7e-ddf7-4b8c-9866-fdf6b4d301e9",
   "metadata": {},
   "outputs": [],
   "source": [
    "load('Imports/Utility.sage', 'Imports/Point.sage', 'Imports/Line.sage', 'Imports/Tritangent_plane.sage', 'Imports/Group.sage', 'Imports/Cubic.sage')\n",
    "import multiprocessing as mp\n",
    "import pickle"
   ]
  },
  {
   "cell_type": "code",
   "execution_count": 2,
   "id": "c1d4b39b-64b9-4693-a923-d5e4977777c1",
   "metadata": {},
   "outputs": [],
   "source": [
    "P.<x,y,z,t,b,c,d,e,f,l,m> = PolynomialRing(QQ)"
   ]
  },
  {
   "cell_type": "code",
   "execution_count": 3,
   "id": "f9064683-d720-4d4f-a9dc-c43295b44f8f",
   "metadata": {},
   "outputs": [],
   "source": [
    "cubic_new = e*f*(2*x^2*y-2*x*y^2+x*z^2-x*z*t-y*t^2+y*z*t)+b*c*(x-t)*(x*z+y*t)+c*c*(z+t)*(y*t-x*z)+d*c*(y-z)*(x*z+y*t)+(e+f)*c*(x-y)*(y*t-x*z)"
   ]
  },
  {
   "cell_type": "code",
   "execution_count": 4,
   "id": "25c9b25f-17d3-4ee4-bfc2-e1291275d692",
   "metadata": {},
   "outputs": [],
   "source": [
    "sing_cubics = (-1) * (-c + f) * (-c + e) * c * (c + f) * (c + e) * (-e + f)^2 * (-c*d + c*f + e*f) * (-c*d + c*e + e*f) * (-c^2 - c*d + e*f) * (b*c - c*f + e*f) * (b*c - c*e + e*f) * (b*c - c*d + 2*e*f) * (b*c - c^2 + e*f) * (b*c^2 + c^2*d + b*c*f - 2*c^2*f - c*d*f + 2*e*f^2) * (b*c^2 + c^2*d + b*c*e - 2*c^2*e - c*d*e + 2*e^2*f) * (-b*c^3 - 2*b*c^2*d + c^3*d + b*c^2*e + c^2*d*e + b*c^2*f + c^2*d*f + 3*b*c*e*f - 4*c^2*e*f - 3*c*d*e*f + 4*e^2*f^2)"
   ]
  },
  {
   "cell_type": "code",
   "execution_count": 5,
   "id": "a570c4a4-dd5a-4360-9f51-50804a8e2c70",
   "metadata": {},
   "outputs": [],
   "source": [
    "line = Line([y, z])"
   ]
  },
  {
   "cell_type": "code",
   "execution_count": 6,
   "id": "eb47cda9-635d-403e-9f11-45f9df637676",
   "metadata": {},
   "outputs": [],
   "source": [
    "general_cubic = Cubic(cubic_new, line, sing_cubics)"
   ]
  },
  {
   "cell_type": "code",
   "execution_count": 7,
   "id": "756a5a1e-e121-4de4-866e-7c0f44baf9dc",
   "metadata": {},
   "outputs": [],
   "source": [
    "SE4 = general_cubic.subs({b:-(c*c+e*f)/c, d:(3*e*f - c^2 + c*f + c*e)/(2*c)}).subs({f:c*(3*c-e)/(c+e)})"
   ]
  },
  {
   "cell_type": "code",
   "execution_count": 8,
   "id": "bc4b2f2e-893d-4be3-afd3-ea8ec7e6a90b",
   "metadata": {},
   "outputs": [
    {
     "data": {
      "text/plain": [
       "72"
      ]
     },
     "execution_count": 8,
     "metadata": {},
     "output_type": "execute_result"
    }
   ],
   "source": [
    "adm_perm = SE4.find_admissible_permutations()\n",
    "len(adm_perm)"
   ]
  },
  {
   "cell_type": "code",
   "execution_count": 9,
   "id": "23fac0b7-5076-465d-92a8-799db1ad94fd",
   "metadata": {},
   "outputs": [
    {
     "name": "stdout",
     "output_type": "stream",
     "text": [
      "CPU times: user 378 ms, sys: 64.4 ms, total: 443 ms\n",
      "Wall time: 797 ms\n"
     ]
    }
   ],
   "source": [
    "%time adm_SE4 = SE4.find_admissible_projectivities()"
   ]
  },
  {
   "cell_type": "code",
   "execution_count": 10,
   "id": "3f9b6ca8-cd49-4a85-beb3-87e8765a4e1e",
   "metadata": {},
   "outputs": [
    {
     "data": {
      "text/plain": [
       "36"
      ]
     },
     "execution_count": 10,
     "metadata": {},
     "output_type": "execute_result"
    }
   ],
   "source": [
    "len(adm_SE4)"
   ]
  },
  {
   "cell_type": "code",
   "execution_count": 11,
   "id": "2ebe64dd-6189-4a85-b455-6ae7624e563c",
   "metadata": {},
   "outputs": [
    {
     "name": "stdout",
     "output_type": "stream",
     "text": [
      "CPU times: user 29.6 ms, sys: 40.7 ms, total: 70.3 ms\n",
      "Wall time: 76.6 ms\n"
     ]
    }
   ],
   "source": [
    "%time simm_SE4 = SE4.find_simmetries(adm_SE4)"
   ]
  },
  {
   "cell_type": "code",
   "execution_count": 12,
   "id": "ea8e9c69-7c7b-4cb6-b4be-6e2421bb2e92",
   "metadata": {},
   "outputs": [
    {
     "data": {
      "text/plain": [
       "12"
      ]
     },
     "execution_count": 12,
     "metadata": {},
     "output_type": "execute_result"
    }
   ],
   "source": [
    "len(simm_SE4)"
   ]
  },
  {
   "cell_type": "code",
   "execution_count": 13,
   "id": "d4696c11-8cf5-4c22-a9e1-4282e314ad7c",
   "metadata": {},
   "outputs": [],
   "source": [
    "G_SE4 = Group(simm_SE4)"
   ]
  },
  {
   "cell_type": "code",
   "execution_count": 14,
   "id": "f221b7ec-afc5-46eb-8caa-b55aedbdcb92",
   "metadata": {},
   "outputs": [
    {
     "data": {
      "text/plain": [
       "True"
      ]
     },
     "execution_count": 14,
     "metadata": {},
     "output_type": "execute_result"
    }
   ],
   "source": [
    "G_SE4.is_group()"
   ]
  },
  {
   "cell_type": "code",
   "execution_count": 15,
   "id": "7d2ce135-a575-4928-91e7-4b4631c27086",
   "metadata": {},
   "outputs": [
    {
     "data": {
      "text/plain": [
       "12"
      ]
     },
     "execution_count": 15,
     "metadata": {},
     "output_type": "execute_result"
    }
   ],
   "source": [
    "G_SE4.get_order()"
   ]
  },
  {
   "cell_type": "code",
   "execution_count": 16,
   "id": "986ee108-532c-4c3e-9aa6-d68221783b45",
   "metadata": {},
   "outputs": [
    {
     "data": {
      "text/plain": [
       "False"
      ]
     },
     "execution_count": 16,
     "metadata": {},
     "output_type": "execute_result"
    }
   ],
   "source": [
    "G_SE4.is_abelian()"
   ]
  },
  {
   "cell_type": "code",
   "execution_count": 17,
   "id": "3dfe214b-0de9-4bd9-9bef-98e4264a588f",
   "metadata": {},
   "outputs": [
    {
     "data": {
      "text/plain": [
       "[1, 2, 3, 4, 6, 12]"
      ]
     },
     "execution_count": 17,
     "metadata": {},
     "output_type": "execute_result"
    }
   ],
   "source": [
    "G_SE4.get_divisors_of_order()"
   ]
  },
  {
   "cell_type": "code",
   "execution_count": 18,
   "id": "c64a2a2e-0718-451c-994c-e06fed2fe7d9",
   "metadata": {},
   "outputs": [
    {
     "data": {
      "text/plain": [
       "[1, 2, 2, 3, 2, 3, 2, 2, 2, 6, 2, 6]"
      ]
     },
     "execution_count": 18,
     "metadata": {},
     "output_type": "execute_result"
    }
   ],
   "source": [
    "G_SE4.get_order_of_elements()"
   ]
  },
  {
   "cell_type": "code",
   "execution_count": 19,
   "id": "b8a2632f-207c-4573-b8fd-8140347fea25",
   "metadata": {},
   "outputs": [
    {
     "data": {
      "text/plain": [
       "[]"
      ]
     },
     "execution_count": 19,
     "metadata": {},
     "output_type": "execute_result"
    }
   ],
   "source": [
    "find_conditions_for_subfamilies(SE4, adm_SE4, simm_SE4)"
   ]
  },
  {
   "cell_type": "code",
   "execution_count": 20,
   "id": "4d3bb32d-9ef0-46b4-9aa1-447986aae558",
   "metadata": {},
   "outputs": [],
   "source": [
    "perms = []\n",
    "for el in G_SE4:\n",
    "    perms.append(Permutation(apply_proj_to_eck(el, SE4.eckardt_points)).to_cycles())"
   ]
  },
  {
   "cell_type": "code",
   "execution_count": 21,
   "id": "58761f4c-959f-4ad5-b84e-34a8763e5e5c",
   "metadata": {},
   "outputs": [
    {
     "data": {
      "text/plain": [
       "6"
      ]
     },
     "execution_count": 21,
     "metadata": {},
     "output_type": "execute_result"
    }
   ],
   "source": [
    "gp = PermutationGroup(perms)\n",
    "gp.order()"
   ]
  },
  {
   "cell_type": "code",
   "execution_count": 22,
   "id": "a9befaeb-8a46-4987-9104-96873a00c795",
   "metadata": {},
   "outputs": [
    {
     "data": {
      "text/plain": [
       "'S3'"
      ]
     },
     "execution_count": 22,
     "metadata": {},
     "output_type": "execute_result"
    }
   ],
   "source": [
    "gp.structure_description()"
   ]
  },
  {
   "cell_type": "code",
   "execution_count": 23,
   "id": "d70b4d9b-38d2-45d0-818e-ca2aba7c4814",
   "metadata": {},
   "outputs": [],
   "source": [
    "adm_perm = SE4.find_admissible_permutations()\n",
    "keys = list(SE4.cl_lines.keys())"
   ]
  },
  {
   "cell_type": "code",
   "execution_count": 44,
   "id": "c2f499c2-fa59-4b03-b0c3-053506ee332a",
   "metadata": {},
   "outputs": [],
   "source": [
    "perms_lines = []\n",
    "for simm in simm_SE4:\n",
    "    perms_lines.append(Permutation(apply_proj_to_lines(simm, list(SE4.cl_lines.values()))).to_cycles())"
   ]
  },
  {
   "cell_type": "code",
   "execution_count": 26,
   "id": "0c607a40-fb76-4bbe-9b52-e55b91190e5e",
   "metadata": {},
   "outputs": [],
   "source": [
    "Gr = PermutationGroup(perms_lines)"
   ]
  },
  {
   "cell_type": "code",
   "execution_count": 27,
   "id": "aa52595f-b7d8-4492-ac8a-fa531e0060e6",
   "metadata": {},
   "outputs": [
    {
     "data": {
      "text/plain": [
       "12"
      ]
     },
     "execution_count": 27,
     "metadata": {},
     "output_type": "execute_result"
    }
   ],
   "source": [
    "Gr.order()"
   ]
  },
  {
   "cell_type": "code",
   "execution_count": 28,
   "id": "bc9676c8-be8c-4679-8f03-23ee790a156a",
   "metadata": {},
   "outputs": [
    {
     "data": {
      "text/plain": [
       "'D6'"
      ]
     },
     "execution_count": 28,
     "metadata": {},
     "output_type": "execute_result"
    }
   ],
   "source": [
    "Gr.structure_description()"
   ]
  },
  {
   "cell_type": "code",
   "execution_count": 29,
   "id": "250de457-d8e7-406b-8501-27a3cc534d7c",
   "metadata": {},
   "outputs": [
    {
     "data": {
      "text/plain": [
       "[(2,19)(3,22)(4,7)(5,25)(6,26)(8,13)(9,14)(11,16)(12,17)(18,27)(20,24)(21,23),\n",
       " (1,18,14,15,9,27)(2,19,10)(3,7,4,22,13,8)(5,12,17,25,21,23)(6,11,16,26,20,24)]"
      ]
     },
     "execution_count": 29,
     "metadata": {},
     "output_type": "execute_result"
    }
   ],
   "source": [
    "Gr.minimal_generating_set()"
   ]
  },
  {
   "cell_type": "code",
   "execution_count": 32,
   "id": "0eebce5f-77a7-4d97-8b42-648090db920c",
   "metadata": {},
   "outputs": [
    {
     "data": {
      "text/plain": [
       "[False, True, True, False, False, False, False]"
      ]
     },
     "execution_count": 32,
     "metadata": {},
     "output_type": "execute_result"
    }
   ],
   "source": [
    "[el.is_isomorphic(SymmetricGroup(3)) for el in Gr.normal_subgroups()]"
   ]
  },
  {
   "cell_type": "code",
   "execution_count": 39,
   "id": "01e91d82-e8c0-4f77-8eec-84e0efa9b972",
   "metadata": {},
   "outputs": [
    {
     "data": {
      "text/plain": [
       "[(1,15)(2,19)(4,13)(7,8)(9,27)(11,24)(12,23)(14,18)(16,20)(17,21),\n",
       " (1,9,14)(2,19,10)(3,13,4)(5,21,17)(6,20,16)(7,8,22)(11,24,26)(12,23,25)(15,18,27)]"
      ]
     },
     "execution_count": 39,
     "metadata": {},
     "output_type": "execute_result"
    }
   ],
   "source": [
    "nor_sub = Gr.normal_subgroups()[2]\n",
    "nor_sub.minimal_generating_set()"
   ]
  },
  {
   "cell_type": "code",
   "execution_count": 37,
   "id": "4ef04859-47ae-4a23-8f96-bfaa6bf80927",
   "metadata": {},
   "outputs": [
    {
     "data": {
      "text/plain": [
       "[(), (1,2)]"
      ]
     },
     "execution_count": 37,
     "metadata": {},
     "output_type": "execute_result"
    }
   ],
   "source": [
    "Gr.quotient(nor_sub).list()"
   ]
  },
  {
   "cell_type": "code",
   "execution_count": null,
   "id": "40c5197c-6a16-43a6-b755-1ea6d7ecce12",
   "metadata": {},
   "outputs": [],
   "source": []
  }
 ],
 "metadata": {
  "kernelspec": {
   "display_name": "SageMath 9.3",
   "language": "sage",
   "name": "sagemath"
  },
  "language_info": {
   "codemirror_mode": {
    "name": "ipython",
    "version": 3
   },
   "file_extension": ".py",
   "mimetype": "text/x-python",
   "name": "python",
   "nbconvert_exporter": "python",
   "pygments_lexer": "ipython3",
   "version": "3.7.10"
  }
 },
 "nbformat": 4,
 "nbformat_minor": 5
}
