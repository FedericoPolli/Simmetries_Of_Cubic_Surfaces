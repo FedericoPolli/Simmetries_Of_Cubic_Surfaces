{
 "cells": [
  {
   "cell_type": "code",
   "execution_count": 2,
   "id": "66b4ac7e-ddf7-4b8c-9866-fdf6b4d301e9",
   "metadata": {},
   "outputs": [],
   "source": [
    "load('Imports/Utility.sage', 'Imports/Point.sage', 'Imports/Line.sage', 'Imports/Tritangent_plane.sage', 'Imports/Group.sage', 'Imports/Cubic.sage')\n",
    "import multiprocessing as mp\n",
    "import pickle"
   ]
  },
  {
   "cell_type": "code",
   "execution_count": 3,
   "id": "c1d4b39b-64b9-4693-a923-d5e4977777c1",
   "metadata": {},
   "outputs": [],
   "source": [
    "P.<x,y,z,t,b,c,d,e,f,l,m> = PolynomialRing(QQ)"
   ]
  },
  {
   "cell_type": "code",
   "execution_count": 4,
   "id": "f9064683-d720-4d4f-a9dc-c43295b44f8f",
   "metadata": {},
   "outputs": [],
   "source": [
    "cubic_new = e*f*(2*x^2*y-2*x*y^2+x*z^2-x*z*t-y*t^2+y*z*t)+b*c*(x-t)*(x*z+y*t)+c*c*(z+t)*(y*t-x*z)+d*c*(y-z)*(x*z+y*t)+(e+f)*c*(x-y)*(y*t-x*z)"
   ]
  },
  {
   "cell_type": "code",
   "execution_count": 5,
   "id": "25c9b25f-17d3-4ee4-bfc2-e1291275d692",
   "metadata": {},
   "outputs": [],
   "source": [
    "sing_cubics = (-1) * (-c + f) * (-c + e) * c * (c + f) * (c + e) * (-e + f)^2 * (-c*d + c*f + e*f) * (-c*d + c*e + e*f) * (-c^2 - c*d + e*f) * (b*c - c*f + e*f) * (b*c - c*e + e*f) * (b*c - c*d + 2*e*f) * (b*c - c^2 + e*f) * (b*c^2 + c^2*d + b*c*f - 2*c^2*f - c*d*f + 2*e*f^2) * (b*c^2 + c^2*d + b*c*e - 2*c^2*e - c*d*e + 2*e^2*f) * (-b*c^3 - 2*b*c^2*d + c^3*d + b*c^2*e + c^2*d*e + b*c^2*f + c^2*d*f + 3*b*c*e*f - 4*c^2*e*f - 3*c*d*e*f + 4*e^2*f^2)"
   ]
  },
  {
   "cell_type": "code",
   "execution_count": 6,
   "id": "a570c4a4-dd5a-4360-9f51-50804a8e2c70",
   "metadata": {},
   "outputs": [],
   "source": [
    "line = Line([y, z])"
   ]
  },
  {
   "cell_type": "code",
   "execution_count": 7,
   "id": "00f701da-8ace-4c99-a26a-3ffe0280feb2",
   "metadata": {},
   "outputs": [],
   "source": [
    "eqn_SE1 = P(cubic_new.subs({b:-(c*c+e*f)/c }) )\n",
    "sing_cubics_SE1 = P(sing_cubics.subs({b:-(c*c+e*f)/c }))"
   ]
  },
  {
   "cell_type": "code",
   "execution_count": 8,
   "id": "1f695658-418c-46a1-a98d-5424794a7b85",
   "metadata": {},
   "outputs": [],
   "source": [
    "eqn_SE3 = P(2*eqn_SE1.subs({d:(3*e*f - c^2 + c*f + c*e)/(2*c)}) )\n",
    "sing_cubics_SE3 = P(sing_cubics_SE1.subs({d:(3*e*f - c^2 + c*f + c*e)/(2*c)}))"
   ]
  },
  {
   "cell_type": "code",
   "execution_count": 9,
   "id": "2b236408-5d17-4965-96a7-1aca61ee9cb7",
   "metadata": {},
   "outputs": [],
   "source": [
    "eqn_SE4 = -P((c+e) * eqn_SE3.subs({f:c*(3*c-e)/(c+e)}) / (4*c))\n",
    "sing_cubics_SE4 = P((c+e)^7*sing_cubics_SE3.subs({f:c*(3*c-e)/(c+e)}))"
   ]
  },
  {
   "cell_type": "code",
   "execution_count": 10,
   "id": "ad79e708-3bee-4747-901e-0fb9f9f1bc4a",
   "metadata": {},
   "outputs": [],
   "source": [
    "SE4 = Cubic(eqn_SE4, line, sing_cubics_SE4.factor())"
   ]
  },
  {
   "cell_type": "code",
   "execution_count": 11,
   "id": "34460bd1-3990-4f9e-aa38-feb906f2b7d9",
   "metadata": {},
   "outputs": [
    {
     "data": {
      "text/plain": [
       "[(0, 0, 0, 1),\n",
       " (0, 1, 1, 0),\n",
       " (0, 0, 1, 0),\n",
       " (0, c^2 + c*e, c^2 + c*e, c^2 - 2*c*e + e^2)]"
      ]
     },
     "execution_count": 11,
     "metadata": {},
     "output_type": "execute_result"
    }
   ],
   "source": [
    "SE4.eckardt_points"
   ]
  },
  {
   "cell_type": "code",
   "execution_count": 12,
   "id": "23fac0b7-5076-465d-92a8-799db1ad94fd",
   "metadata": {},
   "outputs": [
    {
     "name": "stdout",
     "output_type": "stream",
     "text": [
      "CPU times: user 393 ms, sys: 107 ms, total: 499 ms\n",
      "Wall time: 889 ms\n"
     ]
    }
   ],
   "source": [
    "%time adm_SE4 = SE4.find_admissible_projectivities()"
   ]
  },
  {
   "cell_type": "code",
   "execution_count": 13,
   "id": "3f9b6ca8-cd49-4a85-beb3-87e8765a4e1e",
   "metadata": {},
   "outputs": [
    {
     "data": {
      "text/plain": [
       "36"
      ]
     },
     "execution_count": 13,
     "metadata": {},
     "output_type": "execute_result"
    }
   ],
   "source": [
    "len(adm_SE4)"
   ]
  },
  {
   "cell_type": "code",
   "execution_count": 14,
   "id": "2ebe64dd-6189-4a85-b455-6ae7624e563c",
   "metadata": {},
   "outputs": [
    {
     "name": "stdout",
     "output_type": "stream",
     "text": [
      "CPU times: user 24.2 ms, sys: 53.4 ms, total: 77.6 ms\n",
      "Wall time: 112 ms\n"
     ]
    }
   ],
   "source": [
    "%time simm_SE4 = SE4.find_simmetries(adm_SE4)"
   ]
  },
  {
   "cell_type": "code",
   "execution_count": 15,
   "id": "ea8e9c69-7c7b-4cb6-b4be-6e2421bb2e92",
   "metadata": {},
   "outputs": [
    {
     "data": {
      "text/plain": [
       "12"
      ]
     },
     "execution_count": 15,
     "metadata": {},
     "output_type": "execute_result"
    }
   ],
   "source": [
    "len(simm_SE4)"
   ]
  },
  {
   "cell_type": "code",
   "execution_count": 16,
   "id": "d4696c11-8cf5-4c22-a9e1-4282e314ad7c",
   "metadata": {},
   "outputs": [],
   "source": [
    "G_SE4 = Group(simm_SE4)"
   ]
  },
  {
   "cell_type": "code",
   "execution_count": 17,
   "id": "f221b7ec-afc5-46eb-8caa-b55aedbdcb92",
   "metadata": {},
   "outputs": [
    {
     "data": {
      "text/plain": [
       "True"
      ]
     },
     "execution_count": 17,
     "metadata": {},
     "output_type": "execute_result"
    }
   ],
   "source": [
    "G_SE4.is_group()"
   ]
  },
  {
   "cell_type": "code",
   "execution_count": 18,
   "id": "7d2ce135-a575-4928-91e7-4b4631c27086",
   "metadata": {},
   "outputs": [
    {
     "data": {
      "text/plain": [
       "12"
      ]
     },
     "execution_count": 18,
     "metadata": {},
     "output_type": "execute_result"
    }
   ],
   "source": [
    "G_SE4.get_order()"
   ]
  },
  {
   "cell_type": "code",
   "execution_count": 19,
   "id": "986ee108-532c-4c3e-9aa6-d68221783b45",
   "metadata": {},
   "outputs": [
    {
     "data": {
      "text/plain": [
       "False"
      ]
     },
     "execution_count": 19,
     "metadata": {},
     "output_type": "execute_result"
    }
   ],
   "source": [
    "G_SE4.is_abelian()"
   ]
  },
  {
   "cell_type": "code",
   "execution_count": 20,
   "id": "3dfe214b-0de9-4bd9-9bef-98e4264a588f",
   "metadata": {},
   "outputs": [
    {
     "data": {
      "text/plain": [
       "[1, 2, 3, 4, 6, 12]"
      ]
     },
     "execution_count": 20,
     "metadata": {},
     "output_type": "execute_result"
    }
   ],
   "source": [
    "G_SE4.get_divisors_of_order()"
   ]
  },
  {
   "cell_type": "code",
   "execution_count": 21,
   "id": "c64a2a2e-0718-451c-994c-e06fed2fe7d9",
   "metadata": {},
   "outputs": [
    {
     "data": {
      "text/plain": [
       "[1, 2, 2, 3, 2, 3, 2, 2, 2, 6, 2, 6]"
      ]
     },
     "execution_count": 21,
     "metadata": {},
     "output_type": "execute_result"
    }
   ],
   "source": [
    "G_SE4.get_order_of_elements()"
   ]
  },
  {
   "cell_type": "code",
   "execution_count": 24,
   "id": "2e839bb8-febc-47b5-8130-aee2bbad9192",
   "metadata": {},
   "outputs": [],
   "source": [
    "#[G_SE4.apply_to(p) for p in SE4.eckardt_points]"
   ]
  },
  {
   "cell_type": "code",
   "execution_count": 25,
   "id": "e6f2d466-5810-495b-ae5d-31a699ebde98",
   "metadata": {},
   "outputs": [
    {
     "data": {
      "text/plain": [
       "(-32768) * e * (-3*c + e) * (c + e) * (3*c + e)^2 * (-c + e)^8 * c^25"
      ]
     },
     "execution_count": 25,
     "metadata": {},
     "output_type": "execute_result"
    }
   ],
   "source": [
    "sing_cubics_SE4.factor()"
   ]
  },
  {
   "cell_type": "code",
   "execution_count": 26,
   "id": "b8a2632f-207c-4573-b8fd-8140347fea25",
   "metadata": {},
   "outputs": [
    {
     "data": {
      "text/plain": [
       "[(3*c^2 + e^2,)]"
      ]
     },
     "execution_count": 26,
     "metadata": {},
     "output_type": "execute_result"
    }
   ],
   "source": [
    "find_conditions_for_subfamilies(SE4, sing_cubics_SE4, adm_SE4, simm_SE4)"
   ]
  },
  {
   "cell_type": "code",
   "execution_count": null,
   "id": "41c5a5ae-9b11-4811-86cf-339fcd4121aa",
   "metadata": {},
   "outputs": [],
   "source": []
  },
  {
   "cell_type": "code",
   "execution_count": null,
   "id": "060b992b-5454-405b-88fd-46f5a50a6e16",
   "metadata": {},
   "outputs": [],
   "source": []
  }
 ],
 "metadata": {
  "kernelspec": {
   "display_name": "SageMath 9.3",
   "language": "sage",
   "name": "sagemath"
  },
  "language_info": {
   "codemirror_mode": {
    "name": "ipython",
    "version": 3
   },
   "file_extension": ".py",
   "mimetype": "text/x-python",
   "name": "python",
   "nbconvert_exporter": "python",
   "pygments_lexer": "ipython3",
   "version": "3.7.10"
  }
 },
 "nbformat": 4,
 "nbformat_minor": 5
}
