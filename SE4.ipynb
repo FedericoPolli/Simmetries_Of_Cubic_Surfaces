{
 "cells": [
  {
   "cell_type": "code",
   "execution_count": 182,
   "id": "66b4ac7e-ddf7-4b8c-9866-fdf6b4d301e9",
   "metadata": {},
   "outputs": [],
   "source": [
    "load('Imports/Utility.sage', 'Imports/Point.sage', 'Imports/Line.sage', 'Imports/TritangentPlane.sage', 'Imports/Group.sage', 'Imports/Cubic.sage')\n",
    "import multiprocessing as mp\n",
    "import pickle"
   ]
  },
  {
   "cell_type": "code",
   "execution_count": 183,
   "id": "aef05a7f-c11c-4521-9948-4cd6ef9baaf3",
   "metadata": {},
   "outputs": [],
   "source": [
    "P.<x,y,z,t,b,c,d,e,f,l,m> = PolynomialRing(QQ)\n",
    "cubic_new = e*f*(2*x^2*y-2*x*y^2+x*z^2-x*z*t-y*t^2+y*z*t)+b*c*(x-t)*(x*z+y*t)+c*c*(z+t)*(y*t-x*z)+d*c*(y-z)*(x*z+y*t)+(e+f)*c*(x-y)*(y*t-x*z)\n",
    "sing_cubics = (-1) * (-c + f) * (-c + e) * c * (c + f) * (c + e) * (-e + f)^2 * (-c*d + c*f + e*f) * (-c*d + c*e + e*f) * (-c^2 - c*d + e*f) * (b*c - c*f + e*f) * (b*c - c*e + e*f) * (b*c - c*d + 2*e*f) * (b*c - c^2 + e*f) * (b*c^2 + c^2*d + b*c*f - 2*c^2*f - c*d*f + 2*e*f^2) * (b*c^2 + c^2*d + b*c*e - 2*c^2*e - c*d*e + 2*e^2*f) * (-b*c^3 - 2*b*c^2*d + c^3*d + b*c^2*e + c^2*d*e + b*c^2*f + c^2*d*f + 3*b*c*e*f - 4*c^2*e*f - 3*c*d*e*f + 4*e^2*f^2)"
   ]
  },
  {
   "cell_type": "code",
   "execution_count": 184,
   "id": "678508fd-19c3-4b1f-b5b1-fb38e76525f1",
   "metadata": {},
   "outputs": [],
   "source": [
    "# Define cubic SE4, find and classify the lines and compute the 45 tritangent planes"
   ]
  },
  {
   "cell_type": "code",
   "execution_count": 185,
   "id": "d404737d-b36b-434e-a6a5-a4ded6af30d5",
   "metadata": {},
   "outputs": [],
   "source": [
    "line = Line([y, z])\n",
    "general_cubic = Cubic(cubic_new, line, sing_cubics)\n",
    "SE4 = general_cubic.subs({b:-(c*c+e*f)/c, d:(3*e*f - c^2 + c*f + c*e)/(2*c)}).subs({f:c*(3*c-e)/(c+e)})"
   ]
  },
  {
   "cell_type": "code",
   "execution_count": 186,
   "id": "083e5cae-dee1-4e2d-a902-5c809dceee6b",
   "metadata": {},
   "outputs": [],
   "source": [
    "# Find simmetries"
   ]
  },
  {
   "cell_type": "code",
   "execution_count": 187,
   "id": "386aa746-8b93-4c5c-86a5-60ed6e459685",
   "metadata": {},
   "outputs": [
    {
     "name": "stdout",
     "output_type": "stream",
     "text": [
      "CPU times: user 579 ms, sys: 112 ms, total: 691 ms\n",
      "Wall time: 1.18 s\n"
     ]
    },
    {
     "data": {
      "text/plain": [
       "36"
      ]
     },
     "execution_count": 187,
     "metadata": {},
     "output_type": "execute_result"
    }
   ],
   "source": [
    "%time adm_SE4 = SE4.find_admissible_projectivities()\n",
    "len(adm_SE4)"
   ]
  },
  {
   "cell_type": "code",
   "execution_count": 188,
   "id": "c71ca6bc-b797-4908-a88c-39b536e80b9c",
   "metadata": {},
   "outputs": [
    {
     "name": "stdout",
     "output_type": "stream",
     "text": [
      "CPU times: user 217 ms, sys: 98.7 ms, total: 315 ms\n",
      "Wall time: 365 ms\n"
     ]
    },
    {
     "data": {
      "text/plain": [
       "12"
      ]
     },
     "execution_count": 188,
     "metadata": {},
     "output_type": "execute_result"
    }
   ],
   "source": [
    "%time simm_SE4 = SE4.find_simmetries(adm_SE4)\n",
    "len(simm_SE4)"
   ]
  },
  {
   "cell_type": "code",
   "execution_count": 189,
   "id": "7b7aa9f1-bb8a-4b4c-b141-4b275d06abc9",
   "metadata": {},
   "outputs": [],
   "source": [
    "# Study how the simmetries permute the Eckardt points"
   ]
  },
  {
   "cell_type": "code",
   "execution_count": 190,
   "id": "ff2f24b9-b013-47d2-be27-ee97b6383952",
   "metadata": {},
   "outputs": [
    {
     "data": {
      "text/plain": [
       "(6, 'S3')"
      ]
     },
     "execution_count": 190,
     "metadata": {},
     "output_type": "execute_result"
    }
   ],
   "source": [
    "Eck_points_perms = []\n",
    "for proj in simm_SE4:\n",
    "    Eck_points_perms.append(Permutation(SE4.apply_proj_to_eck(proj)).to_permutation_group_element())\n",
    "Eck_points_perms_group = PermutationGroup(Eck_points_perms)\n",
    "Eck_points_perms_group.order(), Eck_points_perms_group.structure_description()"
   ]
  },
  {
   "cell_type": "code",
   "execution_count": 191,
   "id": "63a9c442-2f33-4d01-b587-47060b1381c4",
   "metadata": {},
   "outputs": [],
   "source": [
    "# Study how the simmetries permute the 27 lines"
   ]
  },
  {
   "cell_type": "code",
   "execution_count": 192,
   "id": "10c88cfd-8744-442f-b9c2-98919bb6f6fb",
   "metadata": {},
   "outputs": [
    {
     "data": {
      "text/plain": [
       "(12, 'D6')"
      ]
     },
     "execution_count": 192,
     "metadata": {},
     "output_type": "execute_result"
    }
   ],
   "source": [
    "lines_perms = []\n",
    "for simm in simm_SE4:\n",
    "    lines_perms.append(Permutation(SE4.apply_proj_to_lines(simm)).to_permutation_group_element())\n",
    "lines_perms_group = PermutationGroup(lines_perms)\n",
    "lines_perms_group.order(), lines_perms_group.structure_description()"
   ]
  },
  {
   "cell_type": "code",
   "execution_count": 193,
   "id": "757f36e6-df8f-4e2d-ab80-4bd82161cd98",
   "metadata": {},
   "outputs": [],
   "source": [
    "# D6 is isomorphic to C2 x S3"
   ]
  },
  {
   "cell_type": "code",
   "execution_count": 194,
   "id": "690aa53d-73ac-4b10-aaff-96f1af4ab0af",
   "metadata": {},
   "outputs": [],
   "source": [
    "nor_subs = lines_perms_group.normal_subgroups()\n",
    "index_S3 = [el.is_isomorphic(SymmetricGroup(3)) for el in nor_subs].index(True)\n",
    "S3 = nor_subs[index_S3]\n",
    "index_C2 = [el.is_isomorphic(lines_perms_group.quotient(S3)) for el in nor_subs].index(True)\n",
    "C2 = nor_subs[index_C2]"
   ]
  },
  {
   "cell_type": "code",
   "execution_count": 195,
   "id": "34082ba4-1733-4f96-a10d-337bffa68cd5",
   "metadata": {},
   "outputs": [
    {
     "data": {
      "text/plain": [
       "([('G3', 'E2', 'F24', 'F13', 'F12', 'F26'),\n",
       "  ('E1', 'G4', 'F24', 'F13', 'F34', 'F45'),\n",
       "  ('F14', 'G4', 'E2', 'F23', 'F34', 'F45')],)"
      ]
     },
     "execution_count": 195,
     "metadata": {},
     "output_type": "execute_result"
    }
   ],
   "source": [
    "[get_permuted_extended_L_set(perm) for perm in S3.gens_small()+C2.gens_small()],"
   ]
  },
  {
   "cell_type": "code",
   "execution_count": 196,
   "id": "02cbfddc-82cc-4872-8292-c0a3b980ee00",
   "metadata": {},
   "outputs": [
    {
     "data": {
      "text/plain": [
       "True"
      ]
     },
     "execution_count": 196,
     "metadata": {},
     "output_type": "execute_result"
    }
   ],
   "source": [
    "lines_perms_group.is_isomorphic(direct_product_permgroups([S3,C2]))"
   ]
  },
  {
   "cell_type": "code",
   "execution_count": 197,
   "id": "e39c545a-3731-49d2-8a00-eb0cd6fa4106",
   "metadata": {},
   "outputs": [
    {
     "name": "stdout",
     "output_type": "stream",
     "text": [
      "[['F13', 'F24', 'F56'], ['G4', 'E1', 'F14'], ['G4', 'F24', 'E2'], ['G3', 'E2', 'F23']]\n",
      "[['E1', 'G4', 'F14'], ['F24', 'F13', 'F56'], ['F24', 'G4', 'E2'], ['G3', 'E2', 'F23']]\n",
      "[['F14', 'G4', 'E1'], ['E2', 'F23', 'G3'], ['E2', 'G4', 'F24'], ['F56', 'F24', 'F13']]\n"
     ]
    }
   ],
   "source": [
    "# S3 acts as the symmetric group on A, C, F, while fixing D.\n",
    "# C2 fixes the four Eckardt points, permutes lines not passing through D\n",
    "keys = list(general_cubic.cl_lines.keys())\n",
    "for gen in S3.gens_small()+C2.gens_small():\n",
    "    labels = from_perm_to_labels(gen)\n",
    "    print([[keys[labels.index(label)] for label in point_label] for point_label in SE4.eckardt_points_labels])"
   ]
  },
  {
   "cell_type": "code",
   "execution_count": 198,
   "id": "670be6ed-a127-4f58-b5ab-bb7f8172b9f6",
   "metadata": {},
   "outputs": [],
   "source": [
    "# Find possible conditions to obtain a subfamily with a larger simmetry group"
   ]
  },
  {
   "cell_type": "code",
   "execution_count": 199,
   "id": "98d3de70-4c66-4ab1-823b-d91f46b5b4fd",
   "metadata": {},
   "outputs": [
    {
     "data": {
      "text/plain": [
       "[]"
      ]
     },
     "execution_count": 199,
     "metadata": {},
     "output_type": "execute_result"
    }
   ],
   "source": [
    "SE4.find_conditions_for_subfamilies(adm_SE4, simm_SE4)"
   ]
  },
  {
   "cell_type": "code",
   "execution_count": null,
   "id": "9a103bf7-2171-4154-8eb0-6ea88a6259d7",
   "metadata": {},
   "outputs": [],
   "source": []
  }
 ],
 "metadata": {
  "kernelspec": {
   "display_name": "SageMath 9.4",
   "language": "sage",
   "name": "sagemath"
  },
  "language_info": {
   "codemirror_mode": {
    "name": "ipython",
    "version": 3
   },
   "file_extension": ".py",
   "mimetype": "text/x-python",
   "name": "python",
   "nbconvert_exporter": "python",
   "pygments_lexer": "ipython3",
   "version": "3.7.12"
  }
 },
 "nbformat": 4,
 "nbformat_minor": 5
}
