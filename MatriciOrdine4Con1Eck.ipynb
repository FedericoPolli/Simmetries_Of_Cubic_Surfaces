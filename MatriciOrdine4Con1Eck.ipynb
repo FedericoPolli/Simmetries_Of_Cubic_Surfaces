{
 "cells": [
  {
   "cell_type": "code",
   "execution_count": 1,
   "id": "be4bf08a-2cb2-4983-bbd1-f5fd3a47a31d",
   "metadata": {},
   "outputs": [],
   "source": [
    "load('Imports/Utility.sage', 'Imports/Point.sage', 'Imports/Line.sage', 'Imports/TritangentPlane.sage', 'Imports/Group.sage', 'Imports/Cubic.sage')"
   ]
  },
  {
   "cell_type": "code",
   "execution_count": 2,
   "id": "5f86d3c3-fd45-4f02-8bbf-ee43b37fcc98",
   "metadata": {},
   "outputs": [],
   "source": [
    "P.<x,y,z,t,b,c,d,e,f,l,m> = PolynomialRing(QQ)\n",
    "cubic_new = e*f*(2*x^2*y-2*x*y^2+x*z^2-x*z*t-y*t^2+y*z*t)+b*c*(x-t)*(x*z+y*t)+c*c*(z+t)*(y*t-x*z)+d*c*(y-z)*(x*z+y*t)+(e+f)*c*(x-y)*(y*t-x*z)\n",
    "sing_cubics = (-1) * (-c + f) * (-c + e) * c * (c + f) * (c + e) * (-e + f) * (-c*d + c*f + e*f) * (-c*d + c*e + e*f) * (-c^2 - c*d + e*f) * (b*c - c*f + e*f) * (b*c - c*e + e*f) * (b*c - c*d + 2*e*f) * (b*c - c^2 + e*f) * (b*c^2 + c^2*d + b*c*f - 2*c^2*f - c*d*f + 2*e*f^2) * (b*c^2 + c^2*d + b*c*e - 2*c^2*e - c*d*e + 2*e^2*f) * (-b*c^3 - 2*b*c^2*d + c^3*d + b*c^2*e + c^2*d*e + b*c^2*f + c^2*d*f + 3*b*c*e*f - 4*c^2*e*f - 3*c*d*e*f + 4*e^2*f^2)\n",
    "line = Line([y, z])\n",
    "general_cubic = Cubic(cubic_new, line, sing_cubics)\n",
    "SE1 = general_cubic.subs({b:-(c*c+e*f)/c})"
   ]
  },
  {
   "cell_type": "code",
   "execution_count": 3,
   "id": "19cc7aa7-32b3-492e-95d2-1d4f94c7b43f",
   "metadata": {},
   "outputs": [],
   "source": [
    "L_set_base = ('E1', 'G4', 'E2', 'G3', 'E3')"
   ]
  },
  {
   "cell_type": "code",
   "execution_count": 4,
   "id": "1c4712da-f016-4936-b46e-fb1590f6d276",
   "metadata": {},
   "outputs": [],
   "source": [
    "possible_L_sets = [(\"E1\", \"G4\", \"E5\", \"G3\", \"F24\"), (\"E1\", \"G4\", \"E5\", \"G6\", \"F24\"), \\\n",
    "           (\"E1\", \"G4\", \"E5\", \"G2\", \"F46\"), (\"E1\", \"G4\", \"E5\", \"G3\", \"F46\"), \\\n",
    "\t   (\"E1\", \"G4\", \"E6\", \"G3\", \"F24\"), (\"E1\", \"G4\", \"E6\", \"G5\", \"F24\"), \\\n",
    "           (\"E1\", \"G4\", \"E6\", \"G2\", \"F45\"), (\"E1\", \"G4\", \"E6\", \"G3\", \"F45\"), \\\n",
    "\t   (\"E1\", \"G4\", \"F34\", \"G3\", \"F24\"),(\"E1\", \"G4\", \"F34\", \"F12\", \"F24\"),\\\n",
    "\t   (\"E1\", \"G4\", \"F34\", \"G3\", \"F45\"),(\"E1\", \"G4\", \"F34\", \"F15\", \"F45\"),\\\n",
    "           (\"E1\", \"G4\", \"F34\", \"G3\", \"F46\"), (\"E1\", \"G4\", \"F34\", \"F16\", \"F46\")]"
   ]
  },
  {
   "cell_type": "code",
   "execution_count": 9,
   "id": "9bc380a8-3ae4-4814-a168-2bd2fd426385",
   "metadata": {},
   "outputs": [
    {
     "name": "stdout",
     "output_type": "stream",
     "text": [
      "CPU times: user 8.14 s, sys: 43.6 ms, total: 8.18 s\n",
      "Wall time: 8.23 s\n"
     ]
    }
   ],
   "source": [
    "%time L_set_ideals, all_ideals = SE1.find_conditions_on_L_sets(possible_L_sets, \"eck\", c*(c-e)*(c-f)*(e-f))"
   ]
  },
  {
   "cell_type": "code",
   "execution_count": null,
   "id": "8fc761c8-3307-496f-a713-03f5a4ea4d85",
   "metadata": {},
   "outputs": [],
   "source": [
    "L_set_ideals"
   ]
  },
  {
   "cell_type": "code",
   "execution_count": 11,
   "id": "32e197df-d2e1-4448-9daf-42b5f32be70f",
   "metadata": {},
   "outputs": [
    {
     "data": {
      "text/plain": [
       "['E1',\n",
       " 'E2',\n",
       " 'E3',\n",
       " 'E4',\n",
       " 'E5',\n",
       " 'E6',\n",
       " 'G1',\n",
       " 'G2',\n",
       " 'G3',\n",
       " 'G4',\n",
       " 'G5',\n",
       " 'G6',\n",
       " 'F12',\n",
       " 'F13',\n",
       " 'F14',\n",
       " 'F15',\n",
       " 'F16',\n",
       " 'F23',\n",
       " 'F24',\n",
       " 'F25',\n",
       " 'F26',\n",
       " 'F34',\n",
       " 'F35',\n",
       " 'F36',\n",
       " 'F45',\n",
       " 'F46',\n",
       " 'F56']"
      ]
     },
     "execution_count": 11,
     "metadata": {},
     "output_type": "execute_result"
    }
   ],
   "source": [
    "list(general_cubic.cl_lines.keys())"
   ]
  },
  {
   "cell_type": "code",
   "execution_count": null,
   "id": "6b782563-c30b-4143-9489-e1cd961aabd9",
   "metadata": {},
   "outputs": [],
   "source": []
  }
 ],
 "metadata": {
  "kernelspec": {
   "display_name": "SageMath 9.4",
   "language": "sage",
   "name": "sagemath"
  },
  "language_info": {
   "codemirror_mode": {
    "name": "ipython",
    "version": 3
   },
   "file_extension": ".py",
   "mimetype": "text/x-python",
   "name": "python",
   "nbconvert_exporter": "python",
   "pygments_lexer": "ipython3",
   "version": "3.7.12"
  }
 },
 "nbformat": 4,
 "nbformat_minor": 5
}
