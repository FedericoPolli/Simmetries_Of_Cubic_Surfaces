{
 "cells": [
  {
   "cell_type": "code",
   "execution_count": 1,
   "id": "3a994404",
   "metadata": {},
   "outputs": [],
   "source": [
    "load('Imports/Utility.sage', 'Imports/Point.sage', 'Imports/Line.sage', 'Imports/TritangentPlane.sage', 'Imports/Group.sage', 'Imports/Cubic.sage')\n",
    "import multiprocessing as mp\n",
    "import pickle"
   ]
  },
  {
   "cell_type": "code",
   "execution_count": 2,
   "id": "a48399cb",
   "metadata": {},
   "outputs": [
    {
     "data": {
      "text/plain": [
       "x^4 - 4*x^2 + 64"
      ]
     },
     "execution_count": 2,
     "metadata": {},
     "output_type": "execute_result"
    }
   ],
   "source": [
    "(sqrt(3)*I - sqrt(5)).minpoly()"
   ]
  },
  {
   "cell_type": "code",
   "execution_count": 3,
   "id": "60fefe4a",
   "metadata": {},
   "outputs": [],
   "source": [
    "alg_5 = 1/16*(sqrt(3)*I - sqrt(5))^3 - 3/4*(sqrt(3)*I - sqrt(5))"
   ]
  },
  {
   "cell_type": "code",
   "execution_count": 4,
   "id": "041a9227",
   "metadata": {},
   "outputs": [
    {
     "data": {
      "text/plain": [
       "sqrt(5)"
      ]
     },
     "execution_count": 4,
     "metadata": {},
     "output_type": "execute_result"
    }
   ],
   "source": [
    "alg_5.expand()"
   ]
  },
  {
   "cell_type": "code",
   "execution_count": 5,
   "id": "f127c044",
   "metadata": {},
   "outputs": [],
   "source": [
    "# sqrt(5) = 1/16*i_rad3_minus_rad5^3 - 3/4*i_rad3_minus_rad5"
   ]
  },
  {
   "cell_type": "code",
   "execution_count": 6,
   "id": "ddaf6e82",
   "metadata": {},
   "outputs": [],
   "source": [
    "alg_i = 1/16*(sqrt(3)*I - sqrt(5))^3 + 1/4*(sqrt(3)*I - sqrt(5))"
   ]
  },
  {
   "cell_type": "code",
   "execution_count": 7,
   "id": "1879dbc5",
   "metadata": {},
   "outputs": [
    {
     "data": {
      "text/plain": [
       "I*sqrt(3)"
      ]
     },
     "execution_count": 7,
     "metadata": {},
     "output_type": "execute_result"
    }
   ],
   "source": [
    "alg_i.expand()"
   ]
  },
  {
   "cell_type": "code",
   "execution_count": 8,
   "id": "c6cc4f96",
   "metadata": {},
   "outputs": [],
   "source": [
    "# i sqrt(3) =  1/16*i_rad3_minus_rad5^3 + 1/4*i_rad3_minus_rad5"
   ]
  },
  {
   "cell_type": "code",
   "execution_count": 9,
   "id": "d4b72956",
   "metadata": {},
   "outputs": [],
   "source": [
    "xx = QQ['xx'].0"
   ]
  },
  {
   "cell_type": "code",
   "execution_count": 10,
   "id": "21c640ac",
   "metadata": {},
   "outputs": [],
   "source": [
    "Q.<i_rad3_minus_rad5> = NumberField(xx^4 - 4*xx^2 + 64)"
   ]
  },
  {
   "cell_type": "code",
   "execution_count": 11,
   "id": "aa1e412a",
   "metadata": {},
   "outputs": [],
   "source": [
    "i_rad3 = 1/16*i_rad3_minus_rad5^3 + 1/4*i_rad3_minus_rad5\n",
    "rad5 = 1/16*i_rad3_minus_rad5^3 - 3/4*i_rad3_minus_rad5"
   ]
  },
  {
   "cell_type": "code",
   "execution_count": 12,
   "id": "dfbfdc10",
   "metadata": {},
   "outputs": [],
   "source": [
    "P.<x,y,z,t,b,c,d,e,f,l,m> = PolynomialRing(Q)\n",
    "cubic_new = e*f*(2*x^2*y-2*x*y^2+x*z^2-x*z*t-y*t^2+y*z*t)+b*c*(x-t)*(x*z+y*t)+c*c*(z+t)*(y*t-x*z)+d*c*(y-z)*(x*z+y*t)+(e+f)*c*(x-y)*(y*t-x*z)\n",
    "sing_cubics = (-1) * (-c + f) * (-c + e) * c * (c + f) * (c + e) * (-e + f)^2 * (-c*d + c*f + e*f) * (-c*d + c*e + e*f) * (-c^2 - c*d + e*f) * (b*c - c*f + e*f) * (b*c - c*e + e*f) * (b*c - c*d + 2*e*f) * (b*c - c^2 + e*f) * (b*c^2 + c^2*d + b*c*f - 2*c^2*f - c*d*f + 2*e*f^2) * (b*c^2 + c^2*d + b*c*e - 2*c^2*e - c*d*e + 2*e^2*f) * (-b*c^3 - 2*b*c^2*d + c^3*d + b*c^2*e + c^2*d*e + b*c^2*f + c^2*d*f + 3*b*c*e*f - 4*c^2*e*f - 3*c*d*e*f + 4*e^2*f^2)"
   ]
  },
  {
   "cell_type": "code",
   "execution_count": 13,
   "id": "8cbf5d69",
   "metadata": {},
   "outputs": [],
   "source": [
    "line = Line([y, z])\n",
    "general_cubic = Cubic(cubic_new, line, sing_cubics)\n",
    "SE1 = general_cubic.subs({b:-(c*c+e*f)/c})\n",
    "SE2 = SE1.subs({d:(c*c+e*f)/c})\n",
    "SE3 = SE1.subs({d:(3*e*f - c^2 + c*f + c*e)/(2*c)})\n",
    "SE4 = SE3.subs({f:c*(3*c-e)/(c+e)})\n",
    "SE6 = SE3.subs({f: -c*(5*c+e)/(c+e)})\n",
    "SE9 = SE3.subs({e : i_rad3*c})\n",
    "SE10 = SE4.subs({e : (2-rad5)*c})\n",
    "SE18 = SE4.subs({e : i_rad3*c})"
   ]
  },
  {
   "cell_type": "code",
   "execution_count": 14,
   "id": "8e67465c",
   "metadata": {},
   "outputs": [],
   "source": [
    "# STUDY SUBFAMILIES"
   ]
  },
  {
   "cell_type": "code",
   "execution_count": 15,
   "id": "65d9f9eb",
   "metadata": {},
   "outputs": [],
   "source": [
    "def get_unique_conditions(cubic):\n",
    "    ideals = []\n",
    "    gb = []\n",
    "    table = []\n",
    "    for pl in cubic.tritangent_planes:\n",
    "        if pl.labels in [plane.labels for plane in cubic.tritangent_planes if plane.conditions==0]:\n",
    "            continue\n",
    "        poly = pl.conditions\n",
    "        flag = True\n",
    "        for ideal in ideals:\n",
    "            if poly in ideal:\n",
    "                table.append([pl.labels, gb.index(ideal.groebner_basis()[0])+1])\n",
    "                flag = False\n",
    "                break\n",
    "        if flag == True:\n",
    "            ideals.append(P.ideal(poly))\n",
    "            gb.append(P.ideal(poly).groebner_basis()[0])\n",
    "            table.append([pl.labels, gb.index(P.ideal(poly).groebner_basis()[0])+1])\n",
    "    return [poly*poly.denominator() for poly in gb], table"
   ]
  },
  {
   "cell_type": "code",
   "execution_count": 16,
   "id": "65968370",
   "metadata": {},
   "outputs": [],
   "source": [
    "# CONDITIONS FOR SE3"
   ]
  },
  {
   "cell_type": "code",
   "execution_count": 17,
   "id": "b5e0f5f8",
   "metadata": {},
   "outputs": [],
   "source": [
    "Q3, table3 = get_unique_conditions(SE3)"
   ]
  },
  {
   "cell_type": "code",
   "execution_count": 18,
   "id": "62655ba5",
   "metadata": {},
   "outputs": [
    {
     "name": "stdout",
     "output_type": "stream",
     "text": [
      "5*c^2 - c*e - c*f + e*f [['E1', 'G2', 'F12'], ['E3', 'G1', 'F13'], ['E4', 'G3', 'F34']]\n",
      "3*c^2 + c*e + c*f - e*f [['E1', 'G3', 'F13']]\n",
      "c^2 + 3*c*e - c*f + e*f [['E1', 'G5', 'F15'], ['E6', 'G3', 'F36'], ['F13', 'F25', 'F46']]\n",
      "c^2 - c*e + 3*c*f + e*f [['E1', 'G6', 'F16'], ['E5', 'G3', 'F35'], ['F13', 'F26', 'F45']]\n",
      "5*c^2 + c*e + c*f + e*f [['E2', 'G1', 'F12'], ['E3', 'G4', 'F34'], ['E4', 'G2', 'F24']]\n",
      "3*c^2 - c*e - c*f - e*f [['E2', 'G4', 'F24']]\n",
      "c^2 + c*e - 3*c*f + e*f [['E2', 'G5', 'F25'], ['E6', 'G4', 'F46'], ['F15', 'F24', 'F36']]\n",
      "c^2 - 3*c*e + c*f + e*f [['E2', 'G6', 'F26'], ['E5', 'G4', 'F45'], ['F16', 'F24', 'F35']]\n",
      "c^2 + e*f [['E3', 'G2', 'F23'], ['E4', 'G1', 'F14'], ['F12', 'F34', 'F56']]\n",
      "3*c^2 + e^2 [['E3', 'G5', 'F35'], ['E4', 'G6', 'F46'], ['E5', 'G2', 'F25'], ['E6', 'G1', 'F16'], ['F12', 'F36', 'F45'], ['F15', 'F26', 'F34']]\n",
      "3*c^2 + f^2 [['E3', 'G6', 'F36'], ['E4', 'G5', 'F45'], ['E5', 'G1', 'F15'], ['E6', 'G2', 'F26'], ['F12', 'F35', 'F46'], ['F16', 'F25', 'F34']]\n",
      "2*c - e + f [['E5', 'G6', 'F56'], ['F14', 'F26', 'F35'], ['F16', 'F23', 'F45']]\n",
      "2*c + e - f [['E6', 'G5', 'F56'], ['F14', 'F25', 'F36'], ['F15', 'F23', 'F46']]\n",
      "e + f [['F14', 'F23', 'F56']]\n"
     ]
    }
   ],
   "source": [
    "for i in range(1,len(Q3)+1):\n",
    "    print(Q3[i-1], [el[0] for el in table3 if el[1]==i])"
   ]
  },
  {
   "cell_type": "code",
   "execution_count": 19,
   "id": "0beafee1",
   "metadata": {},
   "outputs": [
    {
     "data": {
      "text/plain": [
       "[3*c^2 + c*e + c*f - e*f, 3*c^2 - c*e - c*f - e*f, e + f]"
      ]
     },
     "execution_count": 19,
     "metadata": {},
     "output_type": "execute_result"
    }
   ],
   "source": [
    "[Q3[1], Q3[5], Q3[13]]"
   ]
  },
  {
   "cell_type": "code",
   "execution_count": 20,
   "id": "8176cad8",
   "metadata": {},
   "outputs": [],
   "source": [
    "# SUBFAMILIES OF SE3 WITH 4 ECKARDT POINTS"
   ]
  },
  {
   "cell_type": "code",
   "execution_count": 21,
   "id": "490a71d7",
   "metadata": {},
   "outputs": [
    {
     "data": {
      "text/plain": [
       "[['E1', 'G4', 'F14'],\n",
       " ['E2', 'G3', 'F23'],\n",
       " ['F13', 'F24', 'F56'],\n",
       " ['F14', 'F23', 'F56']]"
      ]
     },
     "execution_count": 21,
     "metadata": {},
     "output_type": "execute_result"
    }
   ],
   "source": [
    "k3 = SE3.subs({f:-e})\n",
    "k3.eckardt_points_labels"
   ]
  },
  {
   "cell_type": "code",
   "execution_count": 22,
   "id": "b5b318cf",
   "metadata": {},
   "outputs": [
    {
     "data": {
      "text/plain": [
       "[['E1', 'G3', 'F13'],\n",
       " ['E1', 'G4', 'F14'],\n",
       " ['E2', 'G3', 'F23'],\n",
       " ['F13', 'F24', 'F56']]"
      ]
     },
     "execution_count": 22,
     "metadata": {},
     "output_type": "execute_result"
    }
   ],
   "source": [
    "k1 = SE3.subs({f:c*(3*c+e)/(e-c)})\n",
    "k1.eckardt_points_labels"
   ]
  },
  {
   "cell_type": "code",
   "execution_count": 23,
   "id": "6bf2db07",
   "metadata": {
    "scrolled": true
   },
   "outputs": [
    {
     "data": {
      "text/plain": [
       "[['E1', 'G4', 'F14'],\n",
       " ['E2', 'G3', 'F23'],\n",
       " ['E2', 'G4', 'F24'],\n",
       " ['F13', 'F24', 'F56']]"
      ]
     },
     "execution_count": 23,
     "metadata": {},
     "output_type": "execute_result"
    }
   ],
   "source": [
    "SE4.eckardt_points_labels"
   ]
  },
  {
   "cell_type": "code",
   "execution_count": 24,
   "id": "1f566843",
   "metadata": {},
   "outputs": [],
   "source": [
    "L_set_k3 = ('E1', 'F14', 'F23', 'G3', 'G1')\n",
    "L_set_k1 = ('G4', 'E1', 'G3', 'E2', 'G2')\n",
    "L_set_SE4 = ('G3', 'E2', 'G4', 'E1', 'G1')"
   ]
  },
  {
   "cell_type": "code",
   "execution_count": 25,
   "id": "1b338ed0",
   "metadata": {},
   "outputs": [],
   "source": [
    "proj_k3_SE4 = find_projectivity(SE4.get_L_set_in_plucker(L_set_SE4), k3.get_L_set_in_plucker(L_set_k3))\n",
    "proj_k1_SE4 = find_projectivity(SE4.get_L_set_in_plucker(L_set_SE4), k1.get_L_set_in_plucker(L_set_k1))"
   ]
  },
  {
   "cell_type": "code",
   "execution_count": 26,
   "id": "07508bf5-697d-48c9-9145-ac63a38949a5",
   "metadata": {},
   "outputs": [],
   "source": [
    "proj_k3_SE4_inv = proj_k3_SE4.inverse()\n",
    "proj_k3_SE4_inv = (proj_k3_SE4_inv*proj_k3_SE4_inv.denominator()).change_ring(P)\n",
    "change_coordinates_proj_k3_SE4_inv = change_coord(proj_k3_SE4_inv)\n",
    "proj_k1_SE4_inv = proj_k1_SE4.inverse()\n",
    "proj_k1_SE4_inv = (proj_k1_SE4_inv*proj_k1_SE4_inv.denominator()).change_ring(P)\n",
    "change_coordinates_proj_k1_SE4_inv = change_coord(proj_k1_SE4_inv)"
   ]
  },
  {
   "cell_type": "code",
   "execution_count": 27,
   "id": "d6aea03b-77fb-40c9-b8a0-04f0206f1f99",
   "metadata": {},
   "outputs": [],
   "source": [
    "k3_inverse_SE4 = SE4.subs(change_coordinates_proj_k3_SE4_inv)\n",
    "k1_inverse_SE4 = SE4.subs(change_coordinates_proj_k1_SE4_inv)"
   ]
  },
  {
   "cell_type": "code",
   "execution_count": 28,
   "id": "3237eea2-8056-4ac8-8ee1-0c9d53d48694",
   "metadata": {},
   "outputs": [],
   "source": [
    "mon=((x+y+z+t)^3).monomials()"
   ]
  },
  {
   "cell_type": "code",
   "execution_count": 29,
   "id": "8c068977-a6b5-487e-951f-9317bef42634",
   "metadata": {},
   "outputs": [
    {
     "name": "stdout",
     "output_type": "stream",
     "text": [
      "[0, c^5 - 1/3*c^4*e - 1/9*c^3*e^2 - 1/9*c^2*e^3, -1/4*c^5 + 1/12*c^4*e + 1/9*c^3*e^2 + 1/9*c^2*e^3 - 1/12*c*e^4 + 1/36*e^5, 0, -2/9*c^5 + 2/9*c^3*e^2, 7/18*c^5 - 1/6*c^4*e - 1/6*c^3*e^2 - 1/18*c^2*e^3, 0, -1/9*c^5 + 1/9*c^3*e^2, 0, 0, 0, -11/9*c^5 + 1/3*c^4*e - 1/9*c^3*e^2 + 1/9*c^2*e^3, 5/36*c^5 - 1/12*c^4*e - 1/9*c^2*e^3 + 1/12*c*e^4 - 1/36*e^5, 0, -1/6*c^5 + 1/6*c^4*e - 1/18*c^3*e^2 + 1/18*c^2*e^3, 0, 0, 4/9*c^5, 0, 0]\n"
     ]
    }
   ],
   "source": [
    "print([k3_inverse_SE4.coefficient(mn) for mn in mon])"
   ]
  },
  {
   "cell_type": "code",
   "execution_count": 30,
   "id": "18fe39c5-072b-4d44-893d-cd85183843d7",
   "metadata": {},
   "outputs": [
    {
     "name": "stdout",
     "output_type": "stream",
     "text": [
      "[0, 2*e^2, -2*e^2, 0, c^2 - e^2, 1/2*c^2 + 3/2*e^2, 0, 1/2*c^2 - 1/2*e^2, 0, 0, 0, c^2 - e^2, 1/2*c^2 + 3/2*e^2, 0, -3/2*c^2 - 1/2*e^2, 0, 0, -2*c^2, 0, 0]\n"
     ]
    }
   ],
   "source": [
    "print([k3.eqn.coefficient(mn) for mn in mon])"
   ]
  },
  {
   "cell_type": "code",
   "execution_count": 31,
   "id": "5c5d2e0c",
   "metadata": {},
   "outputs": [],
   "source": [
    "# SUBFAMILIES OF SE3 WITH 6 ECKARDT POINTS"
   ]
  },
  {
   "cell_type": "code",
   "execution_count": null,
   "id": "2a36b9c5",
   "metadata": {},
   "outputs": [],
   "source": []
  },
  {
   "cell_type": "code",
   "execution_count": 32,
   "id": "742e8204",
   "metadata": {},
   "outputs": [],
   "source": [
    "# SUBFAMILIES OF SE3 WITH 9 ECKARDT POINTS"
   ]
  },
  {
   "cell_type": "code",
   "execution_count": 33,
   "id": "f6c4193f",
   "metadata": {},
   "outputs": [],
   "source": [
    "SE9_1 = SE3.subs({e : -i_rad3*c})"
   ]
  },
  {
   "cell_type": "code",
   "execution_count": 34,
   "id": "7df68c00",
   "metadata": {},
   "outputs": [],
   "source": [
    "L_set_SE9 = ['F46', 'G6', 'F26', 'F15', 'E3']\n",
    "L_set_base = ['E1', 'G4', 'E2', 'G3', 'E3']"
   ]
  },
  {
   "cell_type": "code",
   "execution_count": 35,
   "id": "cfc8e12f",
   "metadata": {},
   "outputs": [],
   "source": [
    "proj_SE9 = find_projectivity(SE9.get_L_set_in_plucker(L_set_SE9), SE9.get_L_set_in_plucker(L_set_base))\n",
    "proj_SE9 = proj_SE9/(proj_SE9.list()[0].coefficients()[0])\n",
    "proj_SE9 = proj_SE9*proj_SE9.denominator()"
   ]
  },
  {
   "cell_type": "code",
   "execution_count": 36,
   "id": "5dad73af",
   "metadata": {},
   "outputs": [],
   "source": [
    "proj_SE9_inv = proj_SE9.inverse()\n",
    "proj_SE9_inv = (proj_SE9_inv*proj_SE9_inv.denominator()).change_ring(P)\n",
    "change_coordinates_SE9_inv = change_coord(proj_SE9_inv)"
   ]
  },
  {
   "cell_type": "code",
   "execution_count": 37,
   "id": "e03a3ce0-1a64-472b-9939-8d8c4c92ab9a",
   "metadata": {},
   "outputs": [],
   "source": [
    "new_eqn_SE9_1 = SE9_1.subs({c:f-c, f: -c+2*i_rad3*c-f})\n",
    "inverse_SE9 = SE9.subs(change_coordinates_SE9_inv)"
   ]
  },
  {
   "cell_type": "code",
   "execution_count": 38,
   "id": "704f89f6-7f38-4733-9f90-44c42151a7eb",
   "metadata": {},
   "outputs": [
    {
     "data": {
      "text/plain": [
       "True"
      ]
     },
     "execution_count": 38,
     "metadata": {},
     "output_type": "execute_result"
    }
   ],
   "source": [
    "are_cubic_same(new_eqn_SE9_1, inverse_SE9)"
   ]
  },
  {
   "cell_type": "code",
   "execution_count": 39,
   "id": "2cf15a7f",
   "metadata": {},
   "outputs": [],
   "source": [
    "# CONDITIONS FOR SE4"
   ]
  },
  {
   "cell_type": "code",
   "execution_count": 40,
   "id": "7808d474",
   "metadata": {},
   "outputs": [],
   "source": [
    "Q4, table4 = get_unique_conditions(SE4)"
   ]
  },
  {
   "cell_type": "code",
   "execution_count": 41,
   "id": "4a5c5cc4",
   "metadata": {},
   "outputs": [
    {
     "name": "stdout",
     "output_type": "stream",
     "text": [
      "(c + (1/16*i_rad3_minus_rad5^3 - 3/4*i_rad3_minus_rad5 + 2)*e) * (c + (-1/16*i_rad3_minus_rad5^3 + 3/4*i_rad3_minus_rad5 + 2)*e) [['E1', 'G2', 'F12'], ['E3', 'G1', 'F13'], ['E3', 'G2', 'F23'], ['E4', 'G1', 'F14'], ['E4', 'G3', 'F34'], ['F12', 'F34', 'F56']]\n",
      "\n",
      "(3) * (c + (1/48*i_rad3_minus_rad5^3 + 1/12*i_rad3_minus_rad5)*e) * (c + (-1/48*i_rad3_minus_rad5^3 - 1/12*i_rad3_minus_rad5)*e) [['E1', 'G3', 'F13'], ['E3', 'G5', 'F35'], ['E3', 'G6', 'F36'], ['E4', 'G5', 'F45'], ['E4', 'G6', 'F46'], ['E5', 'G1', 'F15'], ['E5', 'G2', 'F25'], ['E6', 'G1', 'F16'], ['E6', 'G2', 'F26'], ['F12', 'F35', 'F46'], ['F12', 'F36', 'F45'], ['F14', 'F23', 'F56'], ['F15', 'F26', 'F34'], ['F16', 'F25', 'F34']]\n",
      "\n",
      "(c + (1/16*i_rad3_minus_rad5^3 - 3/4*i_rad3_minus_rad5 - 2)*e) * (c + (-1/16*i_rad3_minus_rad5^3 + 3/4*i_rad3_minus_rad5 - 2)*e) [['E1', 'G5', 'F15'], ['E6', 'G3', 'F36'], ['E6', 'G5', 'F56'], ['F13', 'F25', 'F46'], ['F14', 'F25', 'F36'], ['F15', 'F23', 'F46']]\n",
      "\n",
      "(5) * (c + (1/80*i_rad3_minus_rad5^3 - 3/20*i_rad3_minus_rad5)*e) * (c + (-1/80*i_rad3_minus_rad5^3 + 3/20*i_rad3_minus_rad5)*e) [['E1', 'G6', 'F16'], ['E5', 'G3', 'F35'], ['E5', 'G6', 'F56'], ['F13', 'F26', 'F45'], ['F14', 'F26', 'F35'], ['F16', 'F23', 'F45']]\n",
      "\n",
      "1 [['E2', 'G1', 'F12'], ['E2', 'G5', 'F25'], ['E2', 'G6', 'F26'], ['E3', 'G4', 'F34'], ['E4', 'G2', 'F24'], ['E5', 'G4', 'F45'], ['E6', 'G4', 'F46'], ['F15', 'F24', 'F36'], ['F16', 'F24', 'F35']]\n",
      "\n"
     ]
    }
   ],
   "source": [
    "for i in range(1,len(Q4)+1):\n",
    "    print(Q4[i-1].factor(), [el[0] for el in table4 if el[1]==i])\n",
    "    print()"
   ]
  },
  {
   "cell_type": "code",
   "execution_count": 42,
   "id": "86fe28df",
   "metadata": {},
   "outputs": [],
   "source": [
    "# SUBFAMILIES OF SE4 WITH 10 ECKARDT POINTS"
   ]
  },
  {
   "cell_type": "code",
   "execution_count": null,
   "id": "cd77f152",
   "metadata": {},
   "outputs": [],
   "source": []
  },
  {
   "cell_type": "code",
   "execution_count": 43,
   "id": "7b4c7dae",
   "metadata": {},
   "outputs": [],
   "source": [
    "# CONDITIONS FOR SE6"
   ]
  },
  {
   "cell_type": "code",
   "execution_count": 44,
   "id": "0c0e5029",
   "metadata": {},
   "outputs": [],
   "source": [
    "Q6, table6 = get_unique_conditions(SE6)"
   ]
  },
  {
   "cell_type": "code",
   "execution_count": 45,
   "id": "e286d0c2",
   "metadata": {},
   "outputs": [
    {
     "name": "stdout",
     "output_type": "stream",
     "text": [
      "(5) * (c + (1/80*i_rad3_minus_rad5^3 - 3/20*i_rad3_minus_rad5)*e) * (c + (-1/80*i_rad3_minus_rad5^3 + 3/20*i_rad3_minus_rad5)*e) [['E1', 'G2', 'F12'], ['E3', 'G1', 'F13'], ['E4', 'G3', 'F34'], ['F14', 'F23', 'F56']]\n",
      "(c + (1/16*i_rad3_minus_rad5^3 - 3/4*i_rad3_minus_rad5 - 2)*e) * (c + (-1/16*i_rad3_minus_rad5^3 + 3/4*i_rad3_minus_rad5 - 2)*e) [['E1', 'G3', 'F13'], ['E3', 'G2', 'F23'], ['E4', 'G1', 'F14'], ['F12', 'F34', 'F56']]\n",
      "(3) * (c + (1/48*i_rad3_minus_rad5^3 + 1/12*i_rad3_minus_rad5)*e) * (c + (-1/48*i_rad3_minus_rad5^3 - 1/12*i_rad3_minus_rad5)*e) [['E1', 'G5', 'F15'], ['E3', 'G5', 'F35'], ['E4', 'G6', 'F46'], ['E5', 'G2', 'F25'], ['E5', 'G6', 'F56'], ['E6', 'G1', 'F16'], ['E6', 'G3', 'F36'], ['F12', 'F36', 'F45'], ['F13', 'F25', 'F46'], ['F14', 'F26', 'F35'], ['F15', 'F26', 'F34'], ['F16', 'F23', 'F45']]\n",
      "(7) * (c + (1/112*i_rad3_minus_rad5^3 + 1/28*i_rad3_minus_rad5 + 2/7)*e) * (c + (-1/112*i_rad3_minus_rad5^3 - 1/28*i_rad3_minus_rad5 + 2/7)*e) [['E1', 'G6', 'F16'], ['E3', 'G6', 'F36'], ['E4', 'G5', 'F45'], ['E5', 'G1', 'F15'], ['E5', 'G3', 'F35'], ['E6', 'G2', 'F26'], ['E6', 'G5', 'F56'], ['F12', 'F35', 'F46'], ['F13', 'F26', 'F45'], ['F14', 'F25', 'F36'], ['F15', 'F23', 'F46'], ['F16', 'F25', 'F34']]\n",
      "1 [['E2', 'G4', 'F24'], ['E2', 'G5', 'F25'], ['E2', 'G6', 'F26'], ['E5', 'G4', 'F45'], ['E6', 'G4', 'F46'], ['F15', 'F24', 'F36'], ['F16', 'F24', 'F35']]\n"
     ]
    }
   ],
   "source": [
    "for i in range(1,len(Q6)+1):\n",
    "    print(Q6[i-1].factor(), [el[0] for el in table6 if el[1]==i])"
   ]
  },
  {
   "cell_type": "code",
   "execution_count": 46,
   "id": "2d0f174d",
   "metadata": {},
   "outputs": [],
   "source": [
    "# SUBFAMILIES OF SE6 WITH 10 ECKARDT POINTS"
   ]
  },
  {
   "cell_type": "code",
   "execution_count": null,
   "id": "1bf435ca",
   "metadata": {},
   "outputs": [],
   "source": []
  },
  {
   "cell_type": "code",
   "execution_count": 47,
   "id": "872e7fdc",
   "metadata": {},
   "outputs": [],
   "source": [
    "# SUBFAMILIES OF SE6 WITH 18 ECKARDT POINTS"
   ]
  },
  {
   "cell_type": "code",
   "execution_count": null,
   "id": "f4bf5e19",
   "metadata": {},
   "outputs": [],
   "source": []
  },
  {
   "cell_type": "code",
   "execution_count": 48,
   "id": "136b603c",
   "metadata": {},
   "outputs": [],
   "source": [
    "# CONDITIONS FOR SE9"
   ]
  },
  {
   "cell_type": "code",
   "execution_count": 49,
   "id": "2d2b6863",
   "metadata": {},
   "outputs": [],
   "source": [
    "Q9, table9 = get_unique_conditions(SE9)"
   ]
  },
  {
   "cell_type": "code",
   "execution_count": 50,
   "id": "2489edf0",
   "metadata": {},
   "outputs": [
    {
     "name": "stdout",
     "output_type": "stream",
     "text": [
      "(112) * (c + (1/112*i_rad3_minus_rad5^3 + 1/28*i_rad3_minus_rad5 - 2/7)*f) [['E1', 'G2', 'F12'], ['E2', 'G6', 'F26'], ['E3', 'G1', 'F13'], ['E4', 'G3', 'F34'], ['E5', 'G4', 'F45'], ['E6', 'G5', 'F56'], ['F14', 'F25', 'F36'], ['F15', 'F23', 'F46'], ['F16', 'F24', 'F35']]\n",
      "(48) * (c + (-1/48*i_rad3_minus_rad5^3 - 1/12*i_rad3_minus_rad5)*f) [['E1', 'G3', 'F13'], ['E2', 'G4', 'F24'], ['E3', 'G6', 'F36'], ['E4', 'G5', 'F45'], ['E5', 'G1', 'F15'], ['E6', 'G2', 'F26'], ['F12', 'F35', 'F46'], ['F14', 'F23', 'F56'], ['F16', 'F25', 'F34']]\n",
      "(112) * (c + (1/112*i_rad3_minus_rad5^3 + 1/28*i_rad3_minus_rad5 + 2/7)*f) [['E1', 'G5', 'F15'], ['E2', 'G1', 'F12'], ['E3', 'G4', 'F34'], ['E4', 'G2', 'F24'], ['E5', 'G6', 'F56'], ['E6', 'G3', 'F36'], ['F13', 'F25', 'F46'], ['F14', 'F26', 'F35'], ['F16', 'F23', 'F45']]\n",
      "(16) * (c + (1/16*i_rad3_minus_rad5^3 + 1/4*i_rad3_minus_rad5)*f) [['E1', 'G6', 'F16'], ['E2', 'G5', 'F25'], ['E3', 'G2', 'F23'], ['E4', 'G1', 'F14'], ['E5', 'G3', 'F35'], ['E6', 'G4', 'F46'], ['F12', 'F34', 'F56'], ['F13', 'F26', 'F45'], ['F15', 'F24', 'F36']]\n"
     ]
    }
   ],
   "source": [
    "for i in range(1,len(Q9)+1):\n",
    "    print(Q9[i-1].factor(), [el[0] for el in table9 if el[1]==i])"
   ]
  },
  {
   "cell_type": "code",
   "execution_count": 51,
   "id": "7e1a5895",
   "metadata": {},
   "outputs": [
    {
     "data": {
      "text/plain": [
       "[[(1/16*i_rad3_minus_rad5^3 + 1/4*i_rad3_minus_rad5 + 2)*c],\n",
       " [(-1/16*i_rad3_minus_rad5^3 - 1/4*i_rad3_minus_rad5)*c],\n",
       " [(1/16*i_rad3_minus_rad5^3 + 1/4*i_rad3_minus_rad5 - 2)*c],\n",
       " [(1/48*i_rad3_minus_rad5^3 + 1/12*i_rad3_minus_rad5)*c]]"
      ]
     },
     "execution_count": 51,
     "metadata": {},
     "output_type": "execute_result"
    }
   ],
   "source": [
    "[solve_linear_system_in_fraction_field([poly], [f], [c]) for poly in Q9]"
   ]
  },
  {
   "cell_type": "code",
   "execution_count": 52,
   "id": "56a947ac",
   "metadata": {},
   "outputs": [],
   "source": [
    "# SUBFAMILIES OF SE9 WITH 18 ECKARDT POINTS"
   ]
  },
  {
   "cell_type": "code",
   "execution_count": 53,
   "id": "c24c8a00",
   "metadata": {},
   "outputs": [
    {
     "data": {
      "text/plain": [
       "1/16*i_rad3_minus_rad5^3 + 1/4*i_rad3_minus_rad5"
      ]
     },
     "execution_count": 53,
     "metadata": {},
     "output_type": "execute_result"
    }
   ],
   "source": [
    "i_rad3"
   ]
  },
  {
   "cell_type": "code",
   "execution_count": 54,
   "id": "e0f17af4",
   "metadata": {},
   "outputs": [
    {
     "data": {
      "text/plain": [
       "1/16*i_rad3_minus_rad5^3 - 3/4*i_rad3_minus_rad5"
      ]
     },
     "execution_count": 54,
     "metadata": {},
     "output_type": "execute_result"
    }
   ],
   "source": [
    "rad5"
   ]
  },
  {
   "cell_type": "code",
   "execution_count": null,
   "id": "c6a10501",
   "metadata": {},
   "outputs": [],
   "source": []
  },
  {
   "cell_type": "code",
   "execution_count": 55,
   "id": "098ccce9",
   "metadata": {},
   "outputs": [],
   "source": [
    "# Lemma 2.2.5"
   ]
  },
  {
   "cell_type": "code",
   "execution_count": 56,
   "id": "da2d5bcd",
   "metadata": {},
   "outputs": [],
   "source": [
    "eqn = SE10.eqn"
   ]
  },
  {
   "cell_type": "code",
   "execution_count": null,
   "id": "2f6d9374",
   "metadata": {},
   "outputs": [],
   "source": []
  },
  {
   "cell_type": "code",
   "execution_count": null,
   "id": "0e2a92b2",
   "metadata": {},
   "outputs": [],
   "source": []
  },
  {
   "cell_type": "code",
   "execution_count": null,
   "id": "7dc6cbb0",
   "metadata": {},
   "outputs": [],
   "source": []
  }
 ],
 "metadata": {
  "kernelspec": {
   "display_name": "SageMath 9.4",
   "language": "sage",
   "name": "sagemath"
  },
  "language_info": {
   "codemirror_mode": {
    "name": "ipython",
    "version": 3
   },
   "file_extension": ".py",
   "mimetype": "text/x-python",
   "name": "python",
   "nbconvert_exporter": "python",
   "pygments_lexer": "ipython3",
   "version": "3.7.12"
  }
 },
 "nbformat": 4,
 "nbformat_minor": 5
}
