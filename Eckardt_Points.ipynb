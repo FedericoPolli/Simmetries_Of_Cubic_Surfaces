{
 "cells": [
  {
   "cell_type": "code",
   "execution_count": 16,
   "id": "3a994404",
   "metadata": {},
   "outputs": [],
   "source": [
    "load('Imports/Utility.sage', 'Imports/Point.sage', 'Imports/Line.sage', 'Imports/TritangentPlane.sage', 'Imports/Group.sage', 'Imports/Cubic.sage')\n",
    "import multiprocessing as mp\n",
    "import pickle"
   ]
  },
  {
   "cell_type": "code",
   "execution_count": 17,
   "id": "a48399cb",
   "metadata": {},
   "outputs": [
    {
     "data": {
      "text/plain": [
       "x^4 - 4*x^2 + 64"
      ]
     },
     "execution_count": 17,
     "metadata": {},
     "output_type": "execute_result"
    }
   ],
   "source": [
    "(sqrt(3)*I - sqrt(5)).minpoly()"
   ]
  },
  {
   "cell_type": "code",
   "execution_count": 18,
   "id": "60fefe4a",
   "metadata": {},
   "outputs": [],
   "source": [
    "alg_5 = 1/16*(sqrt(3)*I - sqrt(5))^3 - 3/4*(sqrt(3)*I - sqrt(5))"
   ]
  },
  {
   "cell_type": "code",
   "execution_count": 19,
   "id": "041a9227",
   "metadata": {},
   "outputs": [
    {
     "data": {
      "text/plain": [
       "sqrt(5)"
      ]
     },
     "execution_count": 19,
     "metadata": {},
     "output_type": "execute_result"
    }
   ],
   "source": [
    "alg_5.expand()"
   ]
  },
  {
   "cell_type": "code",
   "execution_count": 20,
   "id": "f127c044",
   "metadata": {},
   "outputs": [],
   "source": [
    "# sqrt(5) = 1/16*i_rad3_minus_rad5^3 - 3/4*i_rad3_minus_rad5"
   ]
  },
  {
   "cell_type": "code",
   "execution_count": 21,
   "id": "ddaf6e82",
   "metadata": {},
   "outputs": [],
   "source": [
    "alg_i = 1/16*(sqrt(3)*I - sqrt(5))^3 + 1/4*(sqrt(3)*I - sqrt(5))"
   ]
  },
  {
   "cell_type": "code",
   "execution_count": 22,
   "id": "1879dbc5",
   "metadata": {},
   "outputs": [
    {
     "data": {
      "text/plain": [
       "I*sqrt(3)"
      ]
     },
     "execution_count": 22,
     "metadata": {},
     "output_type": "execute_result"
    }
   ],
   "source": [
    "alg_i.expand()"
   ]
  },
  {
   "cell_type": "code",
   "execution_count": 23,
   "id": "c6cc4f96",
   "metadata": {},
   "outputs": [],
   "source": [
    "# i sqrt(3) =  1/16*i_rad3_minus_rad5^3 + 1/4*i_rad3_minus_rad5"
   ]
  },
  {
   "cell_type": "code",
   "execution_count": 24,
   "id": "d4b72956",
   "metadata": {},
   "outputs": [],
   "source": [
    "xx = QQ['xx'].0"
   ]
  },
  {
   "cell_type": "code",
   "execution_count": 25,
   "id": "21c640ac",
   "metadata": {},
   "outputs": [],
   "source": [
    "Q.<i_rad3_minus_rad5> = NumberField(xx^4 - 4*xx^2 + 64)"
   ]
  },
  {
   "cell_type": "code",
   "execution_count": 26,
   "id": "aa1e412a",
   "metadata": {},
   "outputs": [],
   "source": [
    "i_rad3 = 1/16*i_rad3_minus_rad5^3 + 1/4*i_rad3_minus_rad5\n",
    "rad5 = 1/16*i_rad3_minus_rad5^3 - 3/4*i_rad3_minus_rad5"
   ]
  },
  {
   "cell_type": "code",
   "execution_count": 27,
   "id": "8c7ac8e7-d7c1-4345-ae28-b5d5baa206d3",
   "metadata": {},
   "outputs": [],
   "source": [
    "L_set_base = ['E1', 'G4', 'E2', 'G3', 'E3']"
   ]
  },
  {
   "cell_type": "code",
   "execution_count": 28,
   "id": "dfbfdc10",
   "metadata": {},
   "outputs": [],
   "source": [
    "P.<x,y,z,t,b,c,d,e,f,l,m> = PolynomialRing(Q)\n",
    "cubic_new = e*f*(2*x^2*y-2*x*y^2+x*z^2-x*z*t-y*t^2+y*z*t)+b*c*(x-t)*(x*z+y*t)+c*c*(z+t)*(y*t-x*z)+d*c*(y-z)*(x*z+y*t)+(e+f)*c*(x-y)*(y*t-x*z)\n",
    "sing_cubics = (-1) * (-c + f) * (-c + e) * c * (c + f) * (c + e) * (-e + f)^2 * (-c*d + c*f + e*f) * (-c*d + c*e + e*f) * (-c^2 - c*d + e*f) * (b*c - c*f + e*f) * (b*c - c*e + e*f) * (b*c - c*d + 2*e*f) * (b*c - c^2 + e*f) * (b*c^2 + c^2*d + b*c*f - 2*c^2*f - c*d*f + 2*e*f^2) * (b*c^2 + c^2*d + b*c*e - 2*c^2*e - c*d*e + 2*e^2*f) * (-b*c^3 - 2*b*c^2*d + c^3*d + b*c^2*e + c^2*d*e + b*c^2*f + c^2*d*f + 3*b*c*e*f - 4*c^2*e*f - 3*c*d*e*f + 4*e^2*f^2)"
   ]
  },
  {
   "cell_type": "code",
   "execution_count": 29,
   "id": "3237eea2-8056-4ac8-8ee1-0c9d53d48694",
   "metadata": {},
   "outputs": [],
   "source": [
    "mon=((x+y+z+t)^3).monomials()"
   ]
  },
  {
   "cell_type": "code",
   "execution_count": 30,
   "id": "8cbf5d69",
   "metadata": {},
   "outputs": [],
   "source": [
    "line = Line([y, z])\n",
    "general_cubic = Cubic(cubic_new, line, sing_cubics)\n",
    "SE1 = general_cubic.subs({b:-(c*c+e*f)/c})\n",
    "SE2 = SE1.subs({d:(c*c+e*f)/c})\n",
    "SE3 = SE1.subs({d:(3*e*f - c^2 + c*f + c*e)/(2*c)})\n",
    "SE4 = SE3.subs({f:c*(3*c-e)/(c+e)})\n",
    "SE6 = SE3.subs({f: -c*(5*c+e)/(c+e)})\n",
    "SE9 = SE3.subs({e : i_rad3*c})\n",
    "SE10 = SE4.subs({e : (2-rad5)*c})\n",
    "SE18 = SE4.subs({e : i_rad3*c})"
   ]
  },
  {
   "cell_type": "code",
   "execution_count": 31,
   "id": "22a1e062-1041-43a4-bbaa-2734e6a6fb47",
   "metadata": {},
   "outputs": [
    {
     "data": {
      "text/plain": [
       "2"
      ]
     },
     "execution_count": 31,
     "metadata": {},
     "output_type": "execute_result"
    }
   ],
   "source": [
    "# Check that the three Eckardt points of SE3 are collinear\n",
    "matrix([point for point in SE3.eckardt_points]).rank()"
   ]
  },
  {
   "cell_type": "code",
   "execution_count": 36,
   "id": "8dee35fa-afbc-4d10-b6cc-d0dcfe7166e2",
   "metadata": {},
   "outputs": [
    {
     "data": {
      "text/plain": [
       "[['E1', 'G4', 'F14'], ['E2', 'G3', 'F23'], ['F13', 'F24', 'F56']]"
      ]
     },
     "execution_count": 36,
     "metadata": {},
     "output_type": "execute_result"
    }
   ],
   "source": [
    "SE3.eckardt_points_labels"
   ]
  },
  {
   "cell_type": "code",
   "execution_count": 37,
   "id": "8e67465c",
   "metadata": {},
   "outputs": [],
   "source": [
    "# STUDY SUBFAMILIES"
   ]
  },
  {
   "cell_type": "code",
   "execution_count": 38,
   "id": "65d9f9eb",
   "metadata": {},
   "outputs": [],
   "source": [
    "def get_unique_conditions(cubic):\n",
    "    ideals = []\n",
    "    gb = []\n",
    "    table = []\n",
    "    for pl in cubic.tritangent_planes:\n",
    "        if pl.labels in [plane.labels for plane in cubic.tritangent_planes if plane.conditions==0]:\n",
    "            continue\n",
    "        poly = pl.conditions\n",
    "        flag = True\n",
    "        for ideal in ideals:\n",
    "            if poly in ideal:\n",
    "                table.append([pl.labels, gb.index(ideal.groebner_basis()[0])+1])\n",
    "                flag = False\n",
    "                break\n",
    "        if flag == True:\n",
    "            ideals.append(P.ideal(poly))\n",
    "            gb.append(P.ideal(poly).groebner_basis()[0])\n",
    "            table.append([pl.labels, gb.index(P.ideal(poly).groebner_basis()[0])+1])\n",
    "    return [poly*poly.denominator() for poly in gb], table"
   ]
  },
  {
   "cell_type": "code",
   "execution_count": 39,
   "id": "65968370",
   "metadata": {},
   "outputs": [],
   "source": [
    "# CONDITIONS FOR SE3"
   ]
  },
  {
   "cell_type": "code",
   "execution_count": 40,
   "id": "b5e0f5f8",
   "metadata": {},
   "outputs": [],
   "source": [
    "Q3, table3 = get_unique_conditions(SE3)"
   ]
  },
  {
   "cell_type": "code",
   "execution_count": 41,
   "id": "62655ba5",
   "metadata": {},
   "outputs": [
    {
     "name": "stdout",
     "output_type": "stream",
     "text": [
      "5*c^2 - c*e - c*f + e*f   6\n",
      "3*c^2 + c*e + c*f - e*f   4\n",
      "c^2 + 3*c*e - c*f + e*f   6\n",
      "c^2 - c*e + 3*c*f + e*f   6\n",
      "5*c^2 + c*e + c*f + e*f   6\n",
      "3*c^2 - c*e - c*f - e*f   4\n",
      "c^2 + c*e - 3*c*f + e*f   6\n",
      "c^2 - 3*c*e + c*f + e*f   6\n",
      "c^2 + e*f   6\n",
      "3*c^2 + e^2   9\n",
      "3*c^2 + f^2   9\n",
      "2*c - e + f   6\n",
      "2*c + e - f   6\n",
      "e + f   4\n"
     ]
    }
   ],
   "source": [
    "for i in range(1,len(Q3)+1):\n",
    "    print(Q3[i-1], \" \", len([el[0] for el in table3 if el[1]==i])+3)"
   ]
  },
  {
   "cell_type": "code",
   "execution_count": 42,
   "id": "8176cad8",
   "metadata": {},
   "outputs": [],
   "source": [
    "# SUBFAMILIES OF SE3 WITH 4 ECKARDT POINTS"
   ]
  },
  {
   "cell_type": "code",
   "execution_count": 43,
   "id": "9f6fdb86-8903-4aca-a747-cfdc7a58a880",
   "metadata": {},
   "outputs": [
    {
     "data": {
      "text/plain": [
       "[['E1', 'G4', 'F14'], ['E2', 'G3', 'F23'], ['F13', 'F24', 'F56']]"
      ]
     },
     "execution_count": 43,
     "metadata": {},
     "output_type": "execute_result"
    }
   ],
   "source": [
    "SE3.eckardt_points_labels"
   ]
  },
  {
   "cell_type": "code",
   "execution_count": 44,
   "id": "490a71d7",
   "metadata": {},
   "outputs": [
    {
     "data": {
      "text/plain": [
       "[['E1', 'G4', 'F14'],\n",
       " ['E2', 'G3', 'F23'],\n",
       " ['F13', 'F24', 'F56'],\n",
       " ['F14', 'F23', 'F56']]"
      ]
     },
     "execution_count": 44,
     "metadata": {},
     "output_type": "execute_result"
    }
   ],
   "source": [
    "k3 = SE3.subs({f:-e})\n",
    "k3.eckardt_points_labels"
   ]
  },
  {
   "cell_type": "code",
   "execution_count": 45,
   "id": "b5b318cf",
   "metadata": {},
   "outputs": [
    {
     "data": {
      "text/plain": [
       "[['E1', 'G3', 'F13'],\n",
       " ['E1', 'G4', 'F14'],\n",
       " ['E2', 'G3', 'F23'],\n",
       " ['F13', 'F24', 'F56']]"
      ]
     },
     "execution_count": 45,
     "metadata": {},
     "output_type": "execute_result"
    }
   ],
   "source": [
    "k1 = SE3.subs({f:c*(3*c+e)/(e-c)})\n",
    "k1.eckardt_points_labels"
   ]
  },
  {
   "cell_type": "code",
   "execution_count": 46,
   "id": "6bf2db07",
   "metadata": {
    "scrolled": true
   },
   "outputs": [
    {
     "data": {
      "text/plain": [
       "[['E1', 'G4', 'F14'],\n",
       " ['E2', 'G3', 'F23'],\n",
       " ['E2', 'G4', 'F24'],\n",
       " ['F13', 'F24', 'F56']]"
      ]
     },
     "execution_count": 46,
     "metadata": {},
     "output_type": "execute_result"
    }
   ],
   "source": [
    "SE4.eckardt_points_labels"
   ]
  },
  {
   "cell_type": "code",
   "execution_count": 47,
   "id": "1f566843",
   "metadata": {},
   "outputs": [],
   "source": [
    "L_set_k3 = ('E1', 'F14', 'F23', 'G3', 'G1')\n",
    "L_set_k1 = ('G4', 'E1', 'G3', 'E2', 'G2')"
   ]
  },
  {
   "cell_type": "code",
   "execution_count": 48,
   "id": "80f26909-2cd8-4a23-b58b-b3160955547e",
   "metadata": {},
   "outputs": [],
   "source": [
    "# Want to prove that the three families are projectively equivalent\n",
    "# i.e. for any cubic S1 in k1, S2 in k2, S3 in k3\n",
    "# there exist c1, e1, c3, e3 such that M^-1(S2) = S1(c1, e1) = S3(c3, e3)"
   ]
  },
  {
   "cell_type": "code",
   "execution_count": 49,
   "id": "1b338ed0",
   "metadata": {},
   "outputs": [],
   "source": [
    "proj_k3_SE4 = find_projectivity(k3.get_L_set_in_plucker(L_set_k3), SE4.get_L_set_in_plucker(L_set_base))\n",
    "proj_k1_SE4 = find_projectivity(k1.get_L_set_in_plucker(L_set_k1), SE4.get_L_set_in_plucker(L_set_base))"
   ]
  },
  {
   "cell_type": "code",
   "execution_count": 50,
   "id": "5c5d2e0c",
   "metadata": {},
   "outputs": [],
   "source": [
    "# SUBFAMILIES OF SE3 WITH 6 ECKARDT POINTS"
   ]
  },
  {
   "cell_type": "code",
   "execution_count": null,
   "id": "37d5a0cd-7a80-4fad-8288-68aa7f4551fe",
   "metadata": {},
   "outputs": [],
   "source": []
  },
  {
   "cell_type": "code",
   "execution_count": 51,
   "id": "742e8204",
   "metadata": {},
   "outputs": [],
   "source": [
    "# SUBFAMILIES OF SE3 WITH 9 ECKARDT POINTS"
   ]
  },
  {
   "cell_type": "code",
   "execution_count": 52,
   "id": "f6c4193f",
   "metadata": {},
   "outputs": [],
   "source": [
    "u_2 = SE3.subs({e : -i_rad3*c})\n",
    "L_set_SE9 = ['F46', 'G6', 'F26', 'F15', 'E3']"
   ]
  },
  {
   "cell_type": "code",
   "execution_count": 53,
   "id": "3cede442-d7cb-447c-ab5a-32043c13d8a8",
   "metadata": {},
   "outputs": [],
   "source": [
    "proj_SE9 = find_projectivity(SE9.get_L_set_in_plucker(L_set_SE9), SE9.get_L_set_in_plucker(L_set_base))\n",
    "proj_SE9 = proj_SE9/(proj_SE9.list()[0].coefficients()[0])\n",
    "proj_SE9 = proj_SE9*proj_SE9.denominator()\n",
    "proj_SE9_inv = proj_SE9.inverse()\n",
    "proj_SE9_inv = (proj_SE9_inv*proj_SE9_inv.denominator()).change_ring(P)"
   ]
  },
  {
   "cell_type": "code",
   "execution_count": 54,
   "id": "e03a3ce0-1a64-472b-9939-8d8c4c92ab9a",
   "metadata": {},
   "outputs": [],
   "source": [
    "new_u_2 = u_2.subs({c:f-c, f: -c+2*i_rad3*c-f})\n",
    "inverse_SE9 = SE9.subs(change_coord(proj_SE9_inv))"
   ]
  },
  {
   "cell_type": "code",
   "execution_count": 55,
   "id": "ca400b59-62fe-44fe-b10b-300e4cffca5a",
   "metadata": {},
   "outputs": [
    {
     "data": {
      "text/plain": [
       "True"
      ]
     },
     "execution_count": 55,
     "metadata": {},
     "output_type": "execute_result"
    }
   ],
   "source": [
    "are_cubics_same(new_u_2, inverse_SE9)"
   ]
  },
  {
   "cell_type": "code",
   "execution_count": 56,
   "id": "704f89f6-7f38-4733-9f90-44c42151a7eb",
   "metadata": {},
   "outputs": [
    {
     "data": {
      "text/plain": [
       "True"
      ]
     },
     "execution_count": 56,
     "metadata": {},
     "output_type": "execute_result"
    }
   ],
   "source": [
    "are_cubics_same(new_u_2.subs(change_coord(proj_SE9)), SE9)"
   ]
  },
  {
   "cell_type": "code",
   "execution_count": 57,
   "id": "2cf15a7f",
   "metadata": {},
   "outputs": [],
   "source": [
    "# CONDITIONS FOR SE4"
   ]
  },
  {
   "cell_type": "code",
   "execution_count": 58,
   "id": "7808d474",
   "metadata": {},
   "outputs": [],
   "source": [
    "Q4, table4 = get_unique_conditions(SE4)"
   ]
  },
  {
   "cell_type": "code",
   "execution_count": 59,
   "id": "4a5c5cc4",
   "metadata": {},
   "outputs": [
    {
     "name": "stdout",
     "output_type": "stream",
     "text": [
      "(c + (1/16*i_rad3_minus_rad5^3 - 3/4*i_rad3_minus_rad5 + 2)*e) * (c + (-1/16*i_rad3_minus_rad5^3 + 3/4*i_rad3_minus_rad5 + 2)*e)   10\n",
      "\n",
      "(3) * (c + (1/48*i_rad3_minus_rad5^3 + 1/12*i_rad3_minus_rad5)*e) * (c + (-1/48*i_rad3_minus_rad5^3 - 1/12*i_rad3_minus_rad5)*e)   18\n",
      "\n",
      "(c + (1/16*i_rad3_minus_rad5^3 - 3/4*i_rad3_minus_rad5 - 2)*e) * (c + (-1/16*i_rad3_minus_rad5^3 + 3/4*i_rad3_minus_rad5 - 2)*e)   10\n",
      "\n",
      "(5) * (c + (1/80*i_rad3_minus_rad5^3 - 3/20*i_rad3_minus_rad5)*e) * (c + (-1/80*i_rad3_minus_rad5^3 + 3/20*i_rad3_minus_rad5)*e)   10\n",
      "\n",
      "1   13\n",
      "\n"
     ]
    }
   ],
   "source": [
    "for i in range(1,len(Q4)+1):\n",
    "    print(Q4[i-1].factor(), \" \", len([el[0] for el in table4 if el[1]==i])+4)\n",
    "    print()"
   ]
  },
  {
   "cell_type": "code",
   "execution_count": 60,
   "id": "266909cc-5e1d-4c12-a78c-697aa9897f08",
   "metadata": {},
   "outputs": [
    {
     "data": {
      "text/plain": [
       "[[[(-1/16*i_rad3_minus_rad5^3 + 3/4*i_rad3_minus_rad5 + 2)*c],\n",
       "  [(1/16*i_rad3_minus_rad5^3 - 3/4*i_rad3_minus_rad5 + 2)*c]],\n",
       " [[(1/16*i_rad3_minus_rad5^3 + 1/4*i_rad3_minus_rad5)*c],\n",
       "  [(-1/16*i_rad3_minus_rad5^3 - 1/4*i_rad3_minus_rad5)*c]],\n",
       " [[(-1/16*i_rad3_minus_rad5^3 + 3/4*i_rad3_minus_rad5 - 2)*c],\n",
       "  [(1/16*i_rad3_minus_rad5^3 - 3/4*i_rad3_minus_rad5 - 2)*c]],\n",
       " [[(-1/16*i_rad3_minus_rad5^3 + 3/4*i_rad3_minus_rad5)*c],\n",
       "  [(1/16*i_rad3_minus_rad5^3 - 3/4*i_rad3_minus_rad5)*c]]]"
      ]
     },
     "execution_count": 60,
     "metadata": {},
     "output_type": "execute_result"
    }
   ],
   "source": [
    "[[solve_linear_system_in_fraction_field([q[0]], [e], [c]) for q in Q4[i].factor()] for i in range(4)]"
   ]
  },
  {
   "cell_type": "code",
   "execution_count": 61,
   "id": "431e204e-8e72-4e3f-9511-7589d28f9566",
   "metadata": {},
   "outputs": [
    {
     "data": {
      "text/plain": [
       "(1/16*i_rad3_minus_rad5^3 + 1/4*i_rad3_minus_rad5,\n",
       " 1/16*i_rad3_minus_rad5^3 - 3/4*i_rad3_minus_rad5)"
      ]
     },
     "execution_count": 61,
     "metadata": {},
     "output_type": "execute_result"
    }
   ],
   "source": [
    "i_rad3, rad5"
   ]
  },
  {
   "cell_type": "code",
   "execution_count": 62,
   "id": "86fe28df",
   "metadata": {},
   "outputs": [],
   "source": [
    "# SUBFAMILIES OF SE4 WITH 10 ECKARDT POINTS"
   ]
  },
  {
   "cell_type": "code",
   "execution_count": null,
   "id": "a80bc2c5-cef8-4832-95c1-4a6cb3018b31",
   "metadata": {},
   "outputs": [],
   "source": []
  },
  {
   "cell_type": "code",
   "execution_count": 63,
   "id": "7b4c7dae",
   "metadata": {},
   "outputs": [],
   "source": [
    "# CONDITIONS FOR SE6"
   ]
  },
  {
   "cell_type": "code",
   "execution_count": 64,
   "id": "0c0e5029",
   "metadata": {},
   "outputs": [],
   "source": [
    "Q6, table6 = get_unique_conditions(SE6)"
   ]
  },
  {
   "cell_type": "code",
   "execution_count": 65,
   "id": "e286d0c2",
   "metadata": {},
   "outputs": [
    {
     "name": "stdout",
     "output_type": "stream",
     "text": [
      "(5) * (c + (1/80*i_rad3_minus_rad5^3 - 3/20*i_rad3_minus_rad5)*e) * (c + (-1/80*i_rad3_minus_rad5^3 + 3/20*i_rad3_minus_rad5)*e)   10\n",
      "(c + (1/16*i_rad3_minus_rad5^3 - 3/4*i_rad3_minus_rad5 - 2)*e) * (c + (-1/16*i_rad3_minus_rad5^3 + 3/4*i_rad3_minus_rad5 - 2)*e)   10\n",
      "(3) * (c + (1/48*i_rad3_minus_rad5^3 + 1/12*i_rad3_minus_rad5)*e) * (c + (-1/48*i_rad3_minus_rad5^3 - 1/12*i_rad3_minus_rad5)*e)   18\n",
      "(7) * (c + (1/112*i_rad3_minus_rad5^3 + 1/28*i_rad3_minus_rad5 + 2/7)*e) * (c + (-1/112*i_rad3_minus_rad5^3 - 1/28*i_rad3_minus_rad5 + 2/7)*e)   18\n",
      "1   13\n"
     ]
    }
   ],
   "source": [
    "for i in range(1,len(Q6)+1):\n",
    "    print(Q6[i-1].factor(), \" \", len([el[0] for el in table6 if el[1]==i])+6)"
   ]
  },
  {
   "cell_type": "code",
   "execution_count": 66,
   "id": "dd12c3a7-cbf8-4990-af08-df12219b678f",
   "metadata": {},
   "outputs": [
    {
     "data": {
      "text/plain": [
       "[[[(-1/16*i_rad3_minus_rad5^3 + 3/4*i_rad3_minus_rad5)*c],\n",
       "  [(1/16*i_rad3_minus_rad5^3 - 3/4*i_rad3_minus_rad5)*c]],\n",
       " [[(-1/16*i_rad3_minus_rad5^3 + 3/4*i_rad3_minus_rad5 - 2)*c],\n",
       "  [(1/16*i_rad3_minus_rad5^3 - 3/4*i_rad3_minus_rad5 - 2)*c]],\n",
       " [[(1/16*i_rad3_minus_rad5^3 + 1/4*i_rad3_minus_rad5)*c],\n",
       "  [(-1/16*i_rad3_minus_rad5^3 - 1/4*i_rad3_minus_rad5)*c]],\n",
       " [[(1/16*i_rad3_minus_rad5^3 + 1/4*i_rad3_minus_rad5 - 2)*c],\n",
       "  [(-1/16*i_rad3_minus_rad5^3 - 1/4*i_rad3_minus_rad5 - 2)*c]]]"
      ]
     },
     "execution_count": 66,
     "metadata": {},
     "output_type": "execute_result"
    }
   ],
   "source": [
    "[[solve_linear_system_in_fraction_field([q[0]], [e], [c]) for q in Q6[i].factor()] for i in range(4)]"
   ]
  },
  {
   "cell_type": "code",
   "execution_count": 67,
   "id": "8193aa21-adfc-468a-8878-b513d588d69a",
   "metadata": {},
   "outputs": [
    {
     "data": {
      "text/plain": [
       "(1/16*i_rad3_minus_rad5^3 + 1/4*i_rad3_minus_rad5,\n",
       " 1/16*i_rad3_minus_rad5^3 - 3/4*i_rad3_minus_rad5)"
      ]
     },
     "execution_count": 67,
     "metadata": {},
     "output_type": "execute_result"
    }
   ],
   "source": [
    "i_rad3, rad5"
   ]
  },
  {
   "cell_type": "code",
   "execution_count": 68,
   "id": "2d0f174d",
   "metadata": {},
   "outputs": [],
   "source": [
    "# SUBFAMILIES OF SE6 WITH 10 ECKARDT POINTS"
   ]
  },
  {
   "cell_type": "code",
   "execution_count": null,
   "id": "1bf435ca",
   "metadata": {},
   "outputs": [],
   "source": []
  },
  {
   "cell_type": "code",
   "execution_count": 69,
   "id": "872e7fdc",
   "metadata": {},
   "outputs": [],
   "source": [
    "# SUBFAMILIES OF SE6 WITH 18 ECKARDT POINTS"
   ]
  },
  {
   "cell_type": "code",
   "execution_count": null,
   "id": "f4bf5e19",
   "metadata": {},
   "outputs": [],
   "source": []
  },
  {
   "cell_type": "code",
   "execution_count": 70,
   "id": "136b603c",
   "metadata": {},
   "outputs": [],
   "source": [
    "# CONDITIONS FOR SE9"
   ]
  },
  {
   "cell_type": "code",
   "execution_count": 71,
   "id": "2d2b6863",
   "metadata": {},
   "outputs": [],
   "source": [
    "Q9, table9 = get_unique_conditions(SE9)"
   ]
  },
  {
   "cell_type": "code",
   "execution_count": 72,
   "id": "2489edf0",
   "metadata": {},
   "outputs": [
    {
     "name": "stdout",
     "output_type": "stream",
     "text": [
      "(112) * (c + (1/112*i_rad3_minus_rad5^3 + 1/28*i_rad3_minus_rad5 - 2/7)*f)   18\n",
      "(48) * (c + (-1/48*i_rad3_minus_rad5^3 - 1/12*i_rad3_minus_rad5)*f)   18\n",
      "(112) * (c + (1/112*i_rad3_minus_rad5^3 + 1/28*i_rad3_minus_rad5 + 2/7)*f)   18\n",
      "(16) * (c + (1/16*i_rad3_minus_rad5^3 + 1/4*i_rad3_minus_rad5)*f)   18\n"
     ]
    }
   ],
   "source": [
    "for i in range(1,len(Q9)+1):\n",
    "    print(Q9[i-1].factor(), \" \", len([el[0] for el in table9 if el[1]==i])+9)"
   ]
  },
  {
   "cell_type": "code",
   "execution_count": 73,
   "id": "7e1a5895",
   "metadata": {},
   "outputs": [
    {
     "data": {
      "text/plain": [
       "[[(1/16*i_rad3_minus_rad5^3 + 1/4*i_rad3_minus_rad5 + 2)*c],\n",
       " [(-1/16*i_rad3_minus_rad5^3 - 1/4*i_rad3_minus_rad5)*c],\n",
       " [(1/16*i_rad3_minus_rad5^3 + 1/4*i_rad3_minus_rad5 - 2)*c],\n",
       " [(1/48*i_rad3_minus_rad5^3 + 1/12*i_rad3_minus_rad5)*c]]"
      ]
     },
     "execution_count": 73,
     "metadata": {},
     "output_type": "execute_result"
    }
   ],
   "source": [
    "[solve_linear_system_in_fraction_field([poly], [f], [c]) for poly in Q9]"
   ]
  },
  {
   "cell_type": "code",
   "execution_count": 74,
   "id": "56a947ac",
   "metadata": {},
   "outputs": [],
   "source": [
    "# SUBFAMILIES OF SE9 WITH 18 ECKARDT POINTS"
   ]
  },
  {
   "cell_type": "code",
   "execution_count": 75,
   "id": "c24c8a00",
   "metadata": {},
   "outputs": [
    {
     "data": {
      "text/plain": [
       "1/16*i_rad3_minus_rad5^3 + 1/4*i_rad3_minus_rad5"
      ]
     },
     "execution_count": 75,
     "metadata": {},
     "output_type": "execute_result"
    }
   ],
   "source": [
    "i_rad3"
   ]
  },
  {
   "cell_type": "code",
   "execution_count": 76,
   "id": "e0f17af4",
   "metadata": {},
   "outputs": [
    {
     "data": {
      "text/plain": [
       "1/16*i_rad3_minus_rad5^3 - 3/4*i_rad3_minus_rad5"
      ]
     },
     "execution_count": 76,
     "metadata": {},
     "output_type": "execute_result"
    }
   ],
   "source": [
    "rad5"
   ]
  },
  {
   "cell_type": "code",
   "execution_count": null,
   "id": "81995456-a3f1-471a-bc7d-5c2fa2fc1482",
   "metadata": {},
   "outputs": [],
   "source": []
  }
 ],
 "metadata": {
  "kernelspec": {
   "display_name": "SageMath 9.4",
   "language": "sage",
   "name": "sagemath"
  },
  "language_info": {
   "codemirror_mode": {
    "name": "ipython",
    "version": 3
   },
   "file_extension": ".py",
   "mimetype": "text/x-python",
   "name": "python",
   "nbconvert_exporter": "python",
   "pygments_lexer": "ipython3",
   "version": "3.7.12"
  }
 },
 "nbformat": 4,
 "nbformat_minor": 5
}
