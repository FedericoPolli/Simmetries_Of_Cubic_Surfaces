{
 "cells": [
  {
   "cell_type": "code",
   "execution_count": 12,
   "id": "911e1110-1134-40e4-a24e-6be802f90792",
   "metadata": {},
   "outputs": [],
   "source": [
    "load('Imports/Utility.sage', 'Imports/Point.sage', 'Imports/Line.sage', 'Imports/Tritangent_plane.sage', 'Imports/Group.sage', 'Imports/Cubic.sage')\n",
    "import multiprocessing as mp\n",
    "import pickle"
   ]
  },
  {
   "cell_type": "code",
   "execution_count": 2,
   "id": "16c4d7fc-aa85-4417-930b-154e3c10eec1",
   "metadata": {},
   "outputs": [],
   "source": [
    "P.<x,y,z,t,b,c,d,e,f,l,m> = PolynomialRing(QQ)"
   ]
  },
  {
   "cell_type": "code",
   "execution_count": 3,
   "id": "e7273fdf-7e43-4213-9074-b664bf11f6ac",
   "metadata": {},
   "outputs": [],
   "source": [
    "cubic_new = e*f*(2*x^2*y-2*x*y^2+x*z^2-x*z*t-y*t^2+y*z*t)+b*c*(x-t)*(x*z+y*t)+c*c*(z+t)*(y*t-x*z)+d*c*(y-z)*(x*z+y*t)+(e+f)*c*(x-y)*(y*t-x*z)"
   ]
  },
  {
   "cell_type": "code",
   "execution_count": 4,
   "id": "a9a4c88e-e638-4eed-9c9f-b28088c65de6",
   "metadata": {},
   "outputs": [],
   "source": [
    "sing_cubics_new = (-1) * (-c + f) * (-c + e) * c * (c + f) * (c + e) * (-e + f)^2 * (-c*d + c*f + e*f) * (-c*d + c*e + e*f) * (-c^2 - c*d + e*f) * (b*c - c*f + e*f) * (b*c - c*e + e*f) * (b*c - c*d + 2*e*f) * (b*c - c^2 + e*f) * (b*c^2 + c^2*d + b*c*f - 2*c^2*f - c*d*f + 2*e*f^2) * (b*c^2 + c^2*d + b*c*e - 2*c^2*e - c*d*e + 2*e^2*f) * (-b*c^3 - 2*b*c^2*d + c^3*d + b*c^2*e + c^2*d*e + b*c^2*f + c^2*d*f + 3*b*c*e*f - 4*c^2*e*f - 3*c*d*e*f + 4*e^2*f^2)"
   ]
  },
  {
   "cell_type": "code",
   "execution_count": 5,
   "id": "ceb58a1a-d105-4edd-8b20-e58f1e2c401b",
   "metadata": {},
   "outputs": [
    {
     "data": {
      "text/plain": [
       "(-1) * (-c + f) * (-c + e) * c * (c + f) * (c + e) * (-e + f)^2 * (-c*d + c*f + e*f) * (-c*d + c*e + e*f) * (-c^2 - c*d + e*f) * (b*c - c*f + e*f) * (b*c - c*e + e*f) * (b*c - c*d + 2*e*f) * (b*c - c^2 + e*f) * (b*c^2 + c^2*d + b*c*f - 2*c^2*f - c*d*f + 2*e*f^2) * (b*c^2 + c^2*d + b*c*e - 2*c^2*e - c*d*e + 2*e^2*f) * (-b*c^3 - 2*b*c^2*d + c^3*d + b*c^2*e + c^2*d*e + b*c^2*f + c^2*d*f + 3*b*c*e*f - 4*c^2*e*f - 3*c*d*e*f + 4*e^2*f^2)"
      ]
     },
     "execution_count": 5,
     "metadata": {},
     "output_type": "execute_result"
    }
   ],
   "source": [
    "sing_cubics_new_factored = sing_cubics_new.factor()\n",
    "sing_cubics_new_factored"
   ]
  },
  {
   "cell_type": "code",
   "execution_count": 6,
   "id": "4eef6c67-3860-444b-8836-35afa2622a62",
   "metadata": {},
   "outputs": [],
   "source": [
    "line = Line([y, z])"
   ]
  },
  {
   "cell_type": "code",
   "execution_count": 7,
   "id": "9af6a0d5-fa98-496a-8288-30fcce0f7df2",
   "metadata": {},
   "outputs": [],
   "source": [
    "lines = find_all_lines_on_cubic_surface(line, cubic_new)"
   ]
  },
  {
   "cell_type": "code",
   "execution_count": 8,
   "id": "3db90339-568e-4727-bdd0-f6d2643c6288",
   "metadata": {},
   "outputs": [],
   "source": [
    "cl_lines = classify_lines_on_cubic_surface(lines)"
   ]
  },
  {
   "cell_type": "code",
   "execution_count": 9,
   "id": "89bf08a0-a824-4a56-b89b-726edf8b226d",
   "metadata": {},
   "outputs": [],
   "source": [
    "all_L_sets = find_all_L_sets(cl_lines)"
   ]
  },
  {
   "cell_type": "code",
   "execution_count": 10,
   "id": "54cf982f-47e9-476c-8a64-60b342da0b27",
   "metadata": {},
   "outputs": [],
   "source": [
    "tritangent_planes = find_all_tritangent_planes(cl_lines)"
   ]
  },
  {
   "cell_type": "code",
   "execution_count": 11,
   "id": "66841e14-1d1e-4f00-9dc0-d3d25c35502f",
   "metadata": {},
   "outputs": [
    {
     "data": {
      "text/plain": [
       "False"
      ]
     },
     "execution_count": 11,
     "metadata": {},
     "output_type": "execute_result"
    }
   ],
   "source": [
    "0 in [pl.conditions.subs({b:-(c*c+e*f)/c }) for pl in tritangent_planes if pl.labels != ['E1', 'G4', 'F14']]"
   ]
  },
  {
   "cell_type": "code",
   "execution_count": 12,
   "id": "e95846e8-3ec9-4f8d-a761-b31e40a4126b",
   "metadata": {},
   "outputs": [
    {
     "data": {
      "text/plain": [
       "-x^2*z*c^2 - x*z^2*c^2 - x*y*t*c^2 + y*z*t*c^2 + 2*y*t^2*c^2 + x*y*z*c*d - x*z^2*c*d + y^2*t*c*d - y*z*t*c*d - x^2*z*c*e + x*y*z*c*e + x*y*t*c*e - y^2*t*c*e - x^2*z*c*f + x*y*z*c*f + x*y*t*c*f - y^2*t*c*f + 2*x^2*y*e*f - 2*x*y^2*e*f - x^2*z*e*f + x*z^2*e*f - x*y*t*e*f + y*z*t*e*f"
      ]
     },
     "execution_count": 12,
     "metadata": {},
     "output_type": "execute_result"
    }
   ],
   "source": [
    "SE1 = P(cubic_new.subs({b:-(c*c+e*f)/c }) )\n",
    "SE1"
   ]
  },
  {
   "cell_type": "code",
   "execution_count": 13,
   "id": "f35dfffb-be5b-49b6-8fc1-c37ec5999cad",
   "metadata": {},
   "outputs": [
    {
     "data": {
      "text/plain": [
       "False"
      ]
     },
     "execution_count": 13,
     "metadata": {},
     "output_type": "execute_result"
    }
   ],
   "source": [
    "0 in [pl.conditions.subs({b:-(c*c+e*f)/c, d:(c*c+e*f)/c }) for pl in tritangent_planes if pl.labels not in [ ['E1', 'G4', 'F14'], ['E2', 'G4', 'F24']]]"
   ]
  },
  {
   "cell_type": "code",
   "execution_count": 14,
   "id": "4350aa52-8e1f-4d8f-a744-ffdfe1533617",
   "metadata": {},
   "outputs": [
    {
     "data": {
      "text/plain": [
       "-x^2*z*c^2 + x*y*z*c^2 - 2*x*z^2*c^2 - x*y*t*c^2 + y^2*t*c^2 + 2*y*t^2*c^2 - x^2*z*c*e + x*y*z*c*e + x*y*t*c*e - y^2*t*c*e - x^2*z*c*f + x*y*z*c*f + x*y*t*c*f - y^2*t*c*f + 2*x^2*y*e*f - 2*x*y^2*e*f - x^2*z*e*f + x*y*z*e*f - x*y*t*e*f + y^2*t*e*f"
      ]
     },
     "execution_count": 14,
     "metadata": {},
     "output_type": "execute_result"
    }
   ],
   "source": [
    "SE2 = P(SE1.subs({d:(c*c+e*f)/c}) )\n",
    "SE2"
   ]
  },
  {
   "cell_type": "code",
   "execution_count": 15,
   "id": "8e3c0e82-8d31-4c63-9984-f435edef4ddb",
   "metadata": {},
   "outputs": [],
   "source": [
    "lab = []\n",
    "for pl in tritangent_planes:\n",
    "    if pl.conditions.subs({b:-(c*c+e*f)/c, d:(3*e*f - c^2 + c*f + c*e)/(2*c)  }) == 0:\n",
    "        lab.append(pl.labels)"
   ]
  },
  {
   "cell_type": "code",
   "execution_count": 16,
   "id": "83f0fd80-3022-49da-adff-9aa20d1eca2c",
   "metadata": {},
   "outputs": [
    {
     "data": {
      "text/plain": [
       "[['E1', 'G4', 'F14'], ['E2', 'G3', 'F23'], ['F13', 'F24', 'F56']]"
      ]
     },
     "execution_count": 16,
     "metadata": {},
     "output_type": "execute_result"
    }
   ],
   "source": [
    "lab"
   ]
  },
  {
   "cell_type": "code",
   "execution_count": 17,
   "id": "dd6e40ae-bd1c-4664-b959-c64aa41da074",
   "metadata": {},
   "outputs": [
    {
     "data": {
      "text/plain": [
       "-2*x^2*z*c^2 - x*y*z*c^2 - x*z^2*c^2 - 2*x*y*t*c^2 - y^2*t*c^2 + 3*y*z*t*c^2 + 4*y*t^2*c^2 - 2*x^2*z*c*e + 3*x*y*z*c*e - x*z^2*c*e + 2*x*y*t*c*e - y^2*t*c*e - y*z*t*c*e - 2*x^2*z*c*f + 3*x*y*z*c*f - x*z^2*c*f + 2*x*y*t*c*f - y^2*t*c*f - y*z*t*c*f + 4*x^2*y*e*f - 4*x*y^2*e*f - 2*x^2*z*e*f + 3*x*y*z*e*f - x*z^2*e*f - 2*x*y*t*e*f + 3*y^2*t*e*f - y*z*t*e*f"
      ]
     },
     "execution_count": 17,
     "metadata": {},
     "output_type": "execute_result"
    }
   ],
   "source": [
    "SE3 = P(2*SE1.subs({d:(3*e*f - c^2 + c*f + c*e)/(2*c)}) )\n",
    "SE3"
   ]
  },
  {
   "cell_type": "code",
   "execution_count": 18,
   "id": "33d6e314-a80a-490a-b2d4-0d946f49b262",
   "metadata": {},
   "outputs": [
    {
     "data": {
      "text/plain": [
       "[(1/4) * (c + f)^2 * (c + e)^2 * (5*c^2 - c*e - c*f + e*f),\n",
       " -3*c^2 - c*e - c*f + e*f,\n",
       " (-1) * c * (c^2 + 3*c*e - c*f + e*f),\n",
       " (-1) * c * (c^2 - c*e + 3*c*f + e*f),\n",
       " (1/4) * (-c + f) * (-c + e) * (c + f) * (c + e) * (5*c^2 + c*e + c*f + e*f),\n",
       " (-1/2) * (-3*c^2 + c*e + c*f + e*f),\n",
       " (-1/2) * (c + e) * (c^2 + c*e - 3*c*f + e*f),\n",
       " (-1/2) * (c + f) * (c^2 - 3*c*e + c*f + e*f),\n",
       " (c + f) * (c + e) * (5*c^2 - c*e - c*f + e*f),\n",
       " (-8) * (c + f) * (c + e) * (c^2 + e*f),\n",
       " (-1/2) * (5*c^2 + c*e + c*f + e*f),\n",
       " (1/2) * (c + f) * (3*c^2 + e^2),\n",
       " (1/2) * (c + e) * (3*c^2 + f^2),\n",
       " (2) * (c + f) * (c + e) * c^2 * (c^2 + e*f),\n",
       " (1/4) * (-c + f) * (-c + e) * (c + f) * (c + e) * (5*c^2 + c*e + c*f + e*f),\n",
       " (-1/2) * (c + f) * (c + e) * (5*c^2 - c*e - c*f + e*f),\n",
       " (-1/2) * (-c + e) * (c + f) * (c + e) * (3*c^2 + f^2),\n",
       " (1/2) * (-c + f) * (c + f) * (c + e) * (3*c^2 + e^2),\n",
       " (1/2) * (-c + e) * c * (c + f) * (c + e) * (3*c^2 + f^2),\n",
       " (1/4) * (-c + f) * (c + e) * (c + f)^2 * (3*c^2 + e^2),\n",
       " (-1/2) * (-c + e) * (c + f) * (c^2 - c*e + 3*c*f + e*f),\n",
       " (-1/2) * (c + f)^2 * (c^2 - 3*c*e + c*f + e*f),\n",
       " (1/2) * (-c + f) * (c + f) * (c + e) * (2*c - e + f),\n",
       " (1/2) * (-c + f) * c * (c + f) * (c + e) * (3*c^2 + e^2),\n",
       " (1/4) * (-c + e) * (c + f) * (c + e)^2 * (3*c^2 + f^2),\n",
       " (-1/2) * (-c + f) * (c + e) * (c^2 + 3*c*e - c*f + e*f),\n",
       " (-1/2) * (c + e)^2 * (c^2 + c*e - 3*c*f + e*f),\n",
       " (-1/2) * (-2*c - e + f) * (-c + e) * (c + f) * (c + e),\n",
       " (-1) * (c + f) * (c + e) * c^2 * (c^2 + e*f),\n",
       " (-1/4) * (-c + e) * c * (c + f) * (c + e)^2 * (3*c^2 + f^2),\n",
       " (-1/4) * (-c + f) * c * (c + e) * (c + f)^2 * (3*c^2 + e^2),\n",
       " (1/2) * (-c + f) * c * (c + e) * (c^2 + 3*c*e - c*f + e*f),\n",
       " (1/2) * (-c + e) * c * (c + f) * (c^2 - c*e + 3*c*f + e*f),\n",
       " (1/2) * (e + f) * c * (c + f) * (c + e),\n",
       " (-1/2) * (-2*c - e + f) * (c + f) * (c + e),\n",
       " (-1/2) * (c + f) * (c + e) * (2*c - e + f),\n",
       " (-1/2) * (-2*c - e + f) * (-c + e) * c * (c + f) * (c + e),\n",
       " (1/2) * (c + e) * (c^2 + c*e - 3*c*f + e*f),\n",
       " (-1/2) * (c + f) * (3*c^2 + e^2),\n",
       " (1/2) * (-c + f) * c * (c + f) * (c + e) * (2*c - e + f),\n",
       " (-1/2) * (c + f) * (c^2 - 3*c*e + c*f + e*f),\n",
       " (-1/2) * (c + e) * (3*c^2 + f^2)]"
      ]
     },
     "execution_count": 18,
     "metadata": {},
     "output_type": "execute_result"
    }
   ],
   "source": [
    "sost = {b:-(c*c+e*f)/c, d:(3*e*f - c^2 + c*f + c*e)/(2*c)}\n",
    "[P(pl.conditions.subs(sost)*pl.conditions.subs(sost).denominator()).factor() for pl in tritangent_planes if pl.conditions.subs(sost) !=0]"
   ]
  },
  {
   "cell_type": "code",
   "execution_count": 19,
   "id": "b92776ab-6b66-4448-b72b-c03c2ead787a",
   "metadata": {},
   "outputs": [
    {
     "data": {
      "text/plain": [
       "2*x^2*z*c^2 - 2*x*y*z*c^2 + x*z^2*c^2 - x*y*t*c^2 + y^2*t*c^2 - y*t^2*c^2 - 3*x^2*y*c*e + 3*x*y^2*c*e + 2*x^2*z*c*e - 2*x*y*z*c*e + x*z^2*c*e + 2*x*y*t*c*e - 2*y^2*t*c*e - y*t^2*c*e + x^2*y*e^2 - x*y^2*e^2 - x*y*t*e^2 + y^2*t*e^2"
      ]
     },
     "execution_count": 19,
     "metadata": {},
     "output_type": "execute_result"
    }
   ],
   "source": [
    "SE4 = -P((c+e) * SE3.subs({f:c*(3*c-e)/(c+e)}) / (4*c))\n",
    "SE4"
   ]
  },
  {
   "cell_type": "code",
   "execution_count": 20,
   "id": "4090f72d-e82b-4e12-944a-676cad055790",
   "metadata": {},
   "outputs": [
    {
     "data": {
      "text/plain": [
       "2*x^2*z*c^2 - 4*x*y*z*c^2 + x*z^2*c^2 - 3*x*y*t*c^2 + y^2*t*c^2 + 2*y*z*t*c^2 + y*t^2*c^2 - 5*x^2*y*c*e + 5*x*y^2*c*e + 2*x^2*z*c*e - 4*x*y*z*c*e + x*z^2*c*e + 2*x*y*t*c*e - 4*y^2*t*c*e + 2*y*z*t*c*e + y*t^2*c*e - x^2*y*e^2 + x*y^2*e^2 + x*y*t*e^2 - y^2*t*e^2"
      ]
     },
     "execution_count": 20,
     "metadata": {},
     "output_type": "execute_result"
    }
   ],
   "source": [
    "SE6 = P((c+e)*SE3.subs({f: -c*(5*c+e)/(c+e)})/(4*c))\n",
    "SE6"
   ]
  },
  {
   "cell_type": "code",
   "execution_count": 21,
   "id": "8d0d67bc-1893-4203-8e9e-e949e1934538",
   "metadata": {},
   "outputs": [],
   "source": [
    "#SE9 = (SE3.subs({e : alpha*c})/c).factor().expand()\n",
    "#SE9"
   ]
  },
  {
   "cell_type": "code",
   "execution_count": 22,
   "id": "f7ffb209-a16c-401b-8d4a-6a0b1b17a85b",
   "metadata": {},
   "outputs": [],
   "source": [
    "#SE10 = (SE4.subs({e : (2-sqrt(5))*c})).factor()\n",
    "#SE10"
   ]
  },
  {
   "cell_type": "code",
   "execution_count": 23,
   "id": "80b462c6-adf6-42e8-8065-fcb61de36723",
   "metadata": {},
   "outputs": [],
   "source": [
    "#SE18 = (SE4.subs({e : alpha*c})/(c^2 * (alpha+1)))\n",
    "#SE18"
   ]
  },
  {
   "cell_type": "code",
   "execution_count": null,
   "id": "6af8d93e-76b1-46a3-a0cc-46e51be3470c",
   "metadata": {},
   "outputs": [],
   "source": []
  },
  {
   "cell_type": "code",
   "execution_count": null,
   "id": "3cdceb25-dc2d-426d-abab-6dfd6eaaabf1",
   "metadata": {},
   "outputs": [],
   "source": []
  },
  {
   "cell_type": "code",
   "execution_count": null,
   "id": "8137c10b-cd1a-4cc3-8def-dc2d79bf1635",
   "metadata": {},
   "outputs": [],
   "source": []
  },
  {
   "cell_type": "code",
   "execution_count": null,
   "id": "1065f954-8842-4f9b-b7ea-387544256f56",
   "metadata": {},
   "outputs": [],
   "source": []
  },
  {
   "cell_type": "code",
   "execution_count": null,
   "id": "ad7406ee-34db-4f37-9938-f1753bdb9754",
   "metadata": {},
   "outputs": [],
   "source": []
  },
  {
   "cell_type": "code",
   "execution_count": null,
   "id": "a523f1a6-7c30-40b5-8ac8-e78720dc1240",
   "metadata": {},
   "outputs": [],
   "source": []
  },
  {
   "cell_type": "code",
   "execution_count": null,
   "id": "18c19819-7ab3-4fa2-8d0b-0248f52dc5e6",
   "metadata": {},
   "outputs": [],
   "source": []
  },
  {
   "cell_type": "code",
   "execution_count": null,
   "id": "75957a55-9604-4106-a376-7ce83b08c1a7",
   "metadata": {},
   "outputs": [],
   "source": []
  },
  {
   "cell_type": "code",
   "execution_count": null,
   "id": "8f7b6bc9-6156-41fa-a419-f8068dae37cb",
   "metadata": {},
   "outputs": [],
   "source": []
  },
  {
   "cell_type": "code",
   "execution_count": null,
   "id": "16997e31-870b-4960-84d4-cade274a996d",
   "metadata": {},
   "outputs": [],
   "source": []
  },
  {
   "cell_type": "code",
   "execution_count": null,
   "id": "de88049b-a7b8-4559-ba84-82f54c93b385",
   "metadata": {},
   "outputs": [],
   "source": []
  },
  {
   "cell_type": "code",
   "execution_count": null,
   "id": "5de2c200-fcf2-45b2-a32a-28e28282a30b",
   "metadata": {},
   "outputs": [],
   "source": []
  },
  {
   "cell_type": "code",
   "execution_count": null,
   "id": "077aac3a-5cd0-4af0-96ab-0fbf3d0fc2a4",
   "metadata": {},
   "outputs": [],
   "source": []
  },
  {
   "cell_type": "code",
   "execution_count": 24,
   "id": "b578562b-66ec-43b4-ae5f-e9b1e9fe3204",
   "metadata": {},
   "outputs": [
    {
     "ename": "TypeError",
     "evalue": "'int' object is not iterable",
     "output_type": "error",
     "traceback": [
      "\u001b[0;31m---------------------------------------------------------------------------\u001b[0m",
      "\u001b[0;31mTypeError\u001b[0m                                 Traceback (most recent call last)",
      "\u001b[0;32m<ipython-input-24-c92b17fed2a1>\u001b[0m in \u001b[0;36m<module>\u001b[0;34m\u001b[0m\n\u001b[1;32m      1\u001b[0m \u001b[0mpl\u001b[0m \u001b[0;34m=\u001b[0m \u001b[0mtritangent_planes\u001b[0m\u001b[0;34m[\u001b[0m\u001b[0mInteger\u001b[0m\u001b[0;34m(\u001b[0m\u001b[0;36m26\u001b[0m\u001b[0;34m)\u001b[0m\u001b[0;34m]\u001b[0m\u001b[0;34m\u001b[0m\u001b[0;34m\u001b[0m\u001b[0m\n\u001b[0;32m----> 2\u001b[0;31m \u001b[0mmcd\u001b[0m \u001b[0;34m=\u001b[0m \u001b[0mgcd\u001b[0m\u001b[0;34m(\u001b[0m\u001b[0mpl\u001b[0m\u001b[0;34m.\u001b[0m\u001b[0mconditions\u001b[0m\u001b[0;34m)\u001b[0m\u001b[0;34m\u001b[0m\u001b[0;34m\u001b[0m\u001b[0m\n\u001b[0m\u001b[1;32m      3\u001b[0m \u001b[0mother_cond\u001b[0m \u001b[0;34m=\u001b[0m \u001b[0;34m[\u001b[0m\u001b[0mP\u001b[0m\u001b[0;34m(\u001b[0m\u001b[0mel\u001b[0m\u001b[0;34m/\u001b[0m\u001b[0mmcd\u001b[0m\u001b[0;34m)\u001b[0m \u001b[0;32mfor\u001b[0m \u001b[0mel\u001b[0m \u001b[0;32min\u001b[0m \u001b[0mpl\u001b[0m\u001b[0;34m.\u001b[0m\u001b[0mconditions\u001b[0m\u001b[0;34m]\u001b[0m\u001b[0;34m\u001b[0m\u001b[0;34m\u001b[0m\u001b[0m\n",
      "\u001b[0;32m~/anaconda3/envs/sage/lib/python3.7/site-packages/sage/arith/misc.py\u001b[0m in \u001b[0;36mgcd\u001b[0;34m(a, b, **kwargs)\u001b[0m\n\u001b[1;32m   1779\u001b[0m         \u001b[0;32mreturn\u001b[0m \u001b[0mGCD_list\u001b[0m\u001b[0;34m(\u001b[0m\u001b[0ma\u001b[0m\u001b[0;34m)\u001b[0m\u001b[0;34m\u001b[0m\u001b[0;34m\u001b[0m\u001b[0m\n\u001b[1;32m   1780\u001b[0m     \u001b[0;32melse\u001b[0m\u001b[0;34m:\u001b[0m\u001b[0;34m\u001b[0m\u001b[0;34m\u001b[0m\u001b[0m\n\u001b[0;32m-> 1781\u001b[0;31m         \u001b[0;32mreturn\u001b[0m \u001b[0m__GCD_sequence\u001b[0m\u001b[0;34m(\u001b[0m\u001b[0mseq\u001b[0m\u001b[0;34m,\u001b[0m \u001b[0;34m**\u001b[0m\u001b[0mkwargs\u001b[0m\u001b[0;34m)\u001b[0m\u001b[0;34m\u001b[0m\u001b[0;34m\u001b[0m\u001b[0m\n\u001b[0m\u001b[1;32m   1782\u001b[0m \u001b[0;34m\u001b[0m\u001b[0m\n\u001b[1;32m   1783\u001b[0m \u001b[0;34m\u001b[0m\u001b[0m\n",
      "\u001b[0;32m~/anaconda3/envs/sage/lib/python3.7/site-packages/sage/arith/misc.py\u001b[0m in \u001b[0;36m__GCD_sequence\u001b[0;34m(v, **kwargs)\u001b[0m\n\u001b[1;32m   1825\u001b[0m         \u001b[0;32mreturn\u001b[0m \u001b[0mZZ\u001b[0m\u001b[0;34m(\u001b[0m\u001b[0;36m0\u001b[0m\u001b[0;34m)\u001b[0m\u001b[0;34m\u001b[0m\u001b[0;34m\u001b[0m\u001b[0m\n\u001b[1;32m   1826\u001b[0m     \u001b[0;32mif\u001b[0m \u001b[0mhasattr\u001b[0m\u001b[0;34m(\u001b[0m\u001b[0mv\u001b[0m\u001b[0;34m,\u001b[0m\u001b[0;34m'universe'\u001b[0m\u001b[0;34m)\u001b[0m\u001b[0;34m:\u001b[0m\u001b[0;34m\u001b[0m\u001b[0;34m\u001b[0m\u001b[0m\n\u001b[0;32m-> 1827\u001b[0;31m         \u001b[0mg\u001b[0m \u001b[0;34m=\u001b[0m \u001b[0mv\u001b[0m\u001b[0;34m.\u001b[0m\u001b[0muniverse\u001b[0m\u001b[0;34m(\u001b[0m\u001b[0;34m)\u001b[0m\u001b[0;34m(\u001b[0m\u001b[0;36m0\u001b[0m\u001b[0;34m)\u001b[0m\u001b[0;34m\u001b[0m\u001b[0;34m\u001b[0m\u001b[0m\n\u001b[0m\u001b[1;32m   1828\u001b[0m     \u001b[0;32melse\u001b[0m\u001b[0;34m:\u001b[0m\u001b[0;34m\u001b[0m\u001b[0;34m\u001b[0m\u001b[0m\n\u001b[1;32m   1829\u001b[0m         \u001b[0mg\u001b[0m \u001b[0;34m=\u001b[0m \u001b[0mZZ\u001b[0m\u001b[0;34m(\u001b[0m\u001b[0;36m0\u001b[0m\u001b[0;34m)\u001b[0m\u001b[0;34m\u001b[0m\u001b[0;34m\u001b[0m\u001b[0m\n",
      "\u001b[0;31mTypeError\u001b[0m: 'int' object is not iterable"
     ]
    }
   ],
   "source": [
    "pl = tritangent_planes[26]\n",
    "mcd = gcd(pl.conditions)\n",
    "other_cond = [P(el/mcd) for el in pl.conditions]"
   ]
  },
  {
   "cell_type": "code",
   "execution_count": null,
   "id": "902172f8-653c-4347-8f29-fab105c0a239",
   "metadata": {},
   "outputs": [],
   "source": [
    "P.ideal(other_cond).saturation(c)[0].radical().primary_decomposition()"
   ]
  },
  {
   "cell_type": "code",
   "execution_count": null,
   "id": "88dc2200-97ff-4b71-97e9-fb000788159b",
   "metadata": {},
   "outputs": [],
   "source": [
    "#10, 11, 18, 19,23,24,28,29,37,38,40,41,43,44"
   ]
  },
  {
   "cell_type": "code",
   "execution_count": null,
   "id": "8eaf6c1f-2404-4600-91de-9b5e9eceb167",
   "metadata": {},
   "outputs": [],
   "source": [
    "for i in range(45):\n",
    "    print(i)\n",
    "    if i == 26 or i == 21:\n",
    "        continue\n",
    "    prim_dec = P.ideal(tritangent_planes[i].conditions).radical().primary_decomposition()\n",
    "    if len(prim_dec) > 1:\n",
    "        prim_dec = P.ideal(tritangent_planes[i].conditions).saturation(c)[0].radical().primary_decomposition()\n",
    "    #10, 11, 18, 19,23,24,28,29,37,38,40,41,43,44\n",
    "    if i in [10, 11, 18, 19,24,29,37,38,40,41,43,44]:\n",
    "        print(c*prim_dec[0].gens()[0] == gcd(tritangent_planes[i].conditions))\n",
    "    elif i in [23,28]:\n",
    "        print(-c*prim_dec[0].gens()[0] == gcd(tritangent_planes[i].conditions))        \n",
    "    else:\n",
    "        print(prim_dec[0].gens()[0] == gcd(tritangent_planes[i].conditions))        \n",
    "    print()\n",
    "    sleep(1)"
   ]
  },
  {
   "cell_type": "code",
   "execution_count": null,
   "id": "a13ad428-1e5f-4912-ab66-89409a5cbf62",
   "metadata": {},
   "outputs": [],
   "source": [
    "#10, 11, 15, 18, 19,22,23,27,28,37,38,40,41,43,44"
   ]
  },
  {
   "cell_type": "code",
   "execution_count": null,
   "id": "814b8742-46a5-4870-a6f7-a5af3b58b83a",
   "metadata": {},
   "outputs": [],
   "source": []
  }
 ],
 "metadata": {
  "kernelspec": {
   "display_name": "SageMath 9.3",
   "language": "sage",
   "name": "sagemath"
  },
  "language_info": {
   "codemirror_mode": {
    "name": "ipython",
    "version": 3
   },
   "file_extension": ".py",
   "mimetype": "text/x-python",
   "name": "python",
   "nbconvert_exporter": "python",
   "pygments_lexer": "ipython3",
   "version": "3.7.10"
  }
 },
 "nbformat": 4,
 "nbformat_minor": 5
}
