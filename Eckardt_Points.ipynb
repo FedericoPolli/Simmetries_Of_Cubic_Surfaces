{
 "cells": [
  {
   "cell_type": "code",
   "execution_count": 1,
   "id": "cbbff731",
   "metadata": {},
   "outputs": [],
   "source": [
    "load('Imports/Utility.sage', 'Imports/Point.sage', 'Imports/Line.sage', 'Imports/TritangentPlane.sage', 'Imports/Group.sage', 'Imports/Cubic.sage')\n",
    "import multiprocessing as mp\n",
    "import pickle"
   ]
  },
  {
   "cell_type": "code",
   "execution_count": 2,
   "id": "870a478a",
   "metadata": {},
   "outputs": [
    {
     "data": {
      "text/plain": [
       "x^4 - 4*x^2 + 64"
      ]
     },
     "execution_count": 2,
     "metadata": {},
     "output_type": "execute_result"
    }
   ],
   "source": [
    "(sqrt(3)*I - sqrt(5)).minpoly()"
   ]
  },
  {
   "cell_type": "code",
   "execution_count": 3,
   "id": "dd547e57",
   "metadata": {},
   "outputs": [],
   "source": [
    "alg_5 = 1/16*(sqrt(3)*I - sqrt(5))^3 - 3/4*(sqrt(3)*I - sqrt(5))"
   ]
  },
  {
   "cell_type": "code",
   "execution_count": 4,
   "id": "ffa3c2bf",
   "metadata": {},
   "outputs": [
    {
     "data": {
      "text/plain": [
       "sqrt(5)"
      ]
     },
     "execution_count": 4,
     "metadata": {},
     "output_type": "execute_result"
    }
   ],
   "source": [
    "alg_5.expand()"
   ]
  },
  {
   "cell_type": "code",
   "execution_count": 5,
   "id": "93e2a194",
   "metadata": {},
   "outputs": [],
   "source": [
    "# sqrt(5) = 1/16*alpha^3 - 3/4*alpha"
   ]
  },
  {
   "cell_type": "code",
   "execution_count": 6,
   "id": "15e988a4",
   "metadata": {},
   "outputs": [],
   "source": [
    "alg_i = 1/16*(sqrt(3)*I - sqrt(5))^3 + 1/4*(sqrt(3)*I - sqrt(5))"
   ]
  },
  {
   "cell_type": "code",
   "execution_count": 7,
   "id": "33b5b0cc",
   "metadata": {},
   "outputs": [
    {
     "data": {
      "text/plain": [
       "I*sqrt(3)"
      ]
     },
     "execution_count": 7,
     "metadata": {},
     "output_type": "execute_result"
    }
   ],
   "source": [
    "alg_i.expand()"
   ]
  },
  {
   "cell_type": "code",
   "execution_count": 8,
   "id": "99c46da8",
   "metadata": {},
   "outputs": [],
   "source": [
    "# i sqrt(3) =  1/16*alpha^3 + 1/4*alpha"
   ]
  },
  {
   "cell_type": "code",
   "execution_count": 9,
   "id": "51655789",
   "metadata": {},
   "outputs": [],
   "source": [
    "xx = QQ['xx'].0"
   ]
  },
  {
   "cell_type": "code",
   "execution_count": 10,
   "id": "c107443a",
   "metadata": {},
   "outputs": [],
   "source": [
    "Q.<alpha> = NumberField(xx^4 - 4*xx^2 + 64)"
   ]
  },
  {
   "cell_type": "code",
   "execution_count": 11,
   "id": "da341a6f-739f-43c8-bb39-0488a34e9c58",
   "metadata": {},
   "outputs": [],
   "source": [
    "i_rad3 = 1/16*alpha^3 + 1/4*alpha\n",
    "rad5 = 1/16*alpha^3 - 3/4*alpha"
   ]
  },
  {
   "cell_type": "code",
   "execution_count": 12,
   "id": "0c1e017f",
   "metadata": {},
   "outputs": [],
   "source": [
    "P.<x,y,z,t,b,c,d,e,f,l,m> = PolynomialRing(Q)"
   ]
  },
  {
   "cell_type": "code",
   "execution_count": 13,
   "id": "ab5f0afe",
   "metadata": {},
   "outputs": [],
   "source": [
    "cubic_new = e*f*(2*x^2*y-2*x*y^2+x*z^2-x*z*t-y*t^2+y*z*t)+b*c*(x-t)*(x*z+y*t)+c*c*(z+t)*(y*t-x*z)+d*c*(y-z)*(x*z+y*t)+(e+f)*c*(x-y)*(y*t-x*z)"
   ]
  },
  {
   "cell_type": "code",
   "execution_count": 14,
   "id": "4257004f",
   "metadata": {},
   "outputs": [],
   "source": [
    "sing_cubics = (-1) * (-c + f) * (-c + e) * c * (c + f) * (c + e) * (-e + f)^2 * (-c*d + c*f + e*f) * (-c*d + c*e + e*f) * (-c^2 - c*d + e*f) * (b*c - c*f + e*f) * (b*c - c*e + e*f) * (b*c - c*d + 2*e*f) * (b*c - c^2 + e*f) * (b*c^2 + c^2*d + b*c*f - 2*c^2*f - c*d*f + 2*e*f^2) * (b*c^2 + c^2*d + b*c*e - 2*c^2*e - c*d*e + 2*e^2*f) * (-b*c^3 - 2*b*c^2*d + c^3*d + b*c^2*e + c^2*d*e + b*c^2*f + c^2*d*f + 3*b*c*e*f - 4*c^2*e*f - 3*c*d*e*f + 4*e^2*f^2)"
   ]
  },
  {
   "cell_type": "code",
   "execution_count": 15,
   "id": "a428f615",
   "metadata": {},
   "outputs": [],
   "source": [
    "line = Line([y, z])"
   ]
  },
  {
   "cell_type": "code",
   "execution_count": 16,
   "id": "f736416e",
   "metadata": {},
   "outputs": [],
   "source": [
    "general_cubic = Cubic(cubic_new, line, sing_cubics)"
   ]
  },
  {
   "cell_type": "code",
   "execution_count": 17,
   "id": "e26ca575",
   "metadata": {},
   "outputs": [],
   "source": [
    "SE1 = general_cubic.subs({b:-(c*c+e*f)/c})\n",
    "SE2 = SE1.subs({d:(c*c+e*f)/c})\n",
    "SE3 = SE1.subs({d:(3*e*f - c^2 + c*f + c*e)/(2*c)})\n",
    "SE4 = SE3.subs({f:c*(3*c-e)/(c+e)})\n",
    "SE6 = SE3.subs({f: -c*(5*c+e)/(c+e)})\n",
    "SE9 = SE3.subs({e : i_rad3*c})\n",
    "SE10 = SE4.subs({e : (2-rad5)*c})\n",
    "SE18 = SE4.subs({e : i_rad3*c})"
   ]
  },
  {
   "cell_type": "code",
   "execution_count": 64,
   "id": "f0e52338-2f12-4e2d-b64d-5bf046bfea4a",
   "metadata": {},
   "outputs": [
    {
     "data": {
      "text/plain": [
       "2*x^2*z*c^2 + x*y*z*c^2 + x*z^2*c^2 + 2*x*y*t*c^2 + y^2*t*c^2 - 3*y*z*t*c^2 - 4*y*t^2*c^2 + 2*x^2*z*c*e - 3*x*y*z*c*e + x*z^2*c*e - 2*x*y*t*c*e + y^2*t*c*e + y*z*t*c*e + 2*x^2*z*c*f - 3*x*y*z*c*f + x*z^2*c*f - 2*x*y*t*c*f + y^2*t*c*f + y*z*t*c*f - 4*x^2*y*e*f + 4*x*y^2*e*f + 2*x^2*z*e*f - 3*x*y*z*e*f + x*z^2*e*f + 2*x*y*t*e*f - 3*y^2*t*e*f + y*z*t*e*f"
      ]
     },
     "execution_count": 64,
     "metadata": {},
     "output_type": "execute_result"
    }
   ],
   "source": [
    "-2*SE3.eqn"
   ]
  },
  {
   "cell_type": "code",
   "execution_count": 18,
   "id": "7db45231",
   "metadata": {},
   "outputs": [],
   "source": [
    "# STUDY SUBFAMILIES"
   ]
  },
  {
   "cell_type": "code",
   "execution_count": 19,
   "id": "2f246b2f",
   "metadata": {},
   "outputs": [],
   "source": [
    "def get_unique_conditions(cubic):\n",
    "    ideals = []\n",
    "    gb = []\n",
    "    table = []\n",
    "    for pl in cubic.tritangent_planes:\n",
    "        if pl.labels in [plane.labels for plane in cubic.tritangent_planes if plane.conditions==0]:\n",
    "            continue\n",
    "        poly = pl.conditions\n",
    "        flag = True\n",
    "        for ideal in ideals:\n",
    "            if poly in ideal:\n",
    "                table.append([pl.labels, gb.index(ideal.groebner_basis()[0])+1])\n",
    "                flag = False\n",
    "                break\n",
    "        if flag == True:\n",
    "            ideals.append(P.ideal(poly))\n",
    "            gb.append(P.ideal(poly).groebner_basis()[0])\n",
    "            table.append([pl.labels, gb.index(P.ideal(poly).groebner_basis()[0])+1])\n",
    "    return [poly*poly.denominator() for poly in gb], table"
   ]
  },
  {
   "cell_type": "code",
   "execution_count": 20,
   "id": "93202ae3",
   "metadata": {},
   "outputs": [],
   "source": [
    "# CONDITIONS FOR SE3"
   ]
  },
  {
   "cell_type": "code",
   "execution_count": 21,
   "id": "51ee7060",
   "metadata": {},
   "outputs": [],
   "source": [
    "Q3, table3 = get_unique_conditions(SE3)"
   ]
  },
  {
   "cell_type": "code",
   "execution_count": 22,
   "id": "ec34d671",
   "metadata": {},
   "outputs": [
    {
     "name": "stdout",
     "output_type": "stream",
     "text": [
      "5*c^2 - c*e - c*f + e*f [['E1', 'G2', 'F12'], ['E3', 'G1', 'F13'], ['E4', 'G3', 'F34']]\n",
      "3*c^2 + c*e + c*f - e*f [['E1', 'G3', 'F13']]\n",
      "c^2 + 3*c*e - c*f + e*f [['E1', 'G5', 'F15'], ['E6', 'G3', 'F36'], ['F13', 'F25', 'F46']]\n",
      "c^2 - c*e + 3*c*f + e*f [['E1', 'G6', 'F16'], ['E5', 'G3', 'F35'], ['F13', 'F26', 'F45']]\n",
      "5*c^2 + c*e + c*f + e*f [['E2', 'G1', 'F12'], ['E3', 'G4', 'F34'], ['E4', 'G2', 'F24']]\n",
      "3*c^2 - c*e - c*f - e*f [['E2', 'G4', 'F24']]\n",
      "c^2 + c*e - 3*c*f + e*f [['E2', 'G5', 'F25'], ['E6', 'G4', 'F46'], ['F15', 'F24', 'F36']]\n",
      "c^2 - 3*c*e + c*f + e*f [['E2', 'G6', 'F26'], ['E5', 'G4', 'F45'], ['F16', 'F24', 'F35']]\n",
      "c^2 + e*f [['E3', 'G2', 'F23'], ['E4', 'G1', 'F14'], ['F12', 'F34', 'F56']]\n",
      "3*c^2 + e^2 [['E3', 'G5', 'F35'], ['E4', 'G6', 'F46'], ['E5', 'G2', 'F25'], ['E6', 'G1', 'F16'], ['F12', 'F36', 'F45'], ['F15', 'F26', 'F34']]\n",
      "3*c^2 + f^2 [['E3', 'G6', 'F36'], ['E4', 'G5', 'F45'], ['E5', 'G1', 'F15'], ['E6', 'G2', 'F26'], ['F12', 'F35', 'F46'], ['F16', 'F25', 'F34']]\n",
      "2*c - e + f [['E5', 'G6', 'F56'], ['F14', 'F26', 'F35'], ['F16', 'F23', 'F45']]\n",
      "2*c + e - f [['E6', 'G5', 'F56'], ['F14', 'F25', 'F36'], ['F15', 'F23', 'F46']]\n",
      "e + f [['F14', 'F23', 'F56']]\n"
     ]
    }
   ],
   "source": [
    "for i in range(1,len(Q3)+1):\n",
    "    print(Q3[i-1], [el[0] for el in table3 if el[1]==i])"
   ]
  },
  {
   "cell_type": "code",
   "execution_count": 23,
   "id": "7309e607",
   "metadata": {},
   "outputs": [
    {
     "data": {
      "text/plain": [
       "[3*c^2 + c*e + c*f - e*f, 3*c^2 - c*e - c*f - e*f, e + f]"
      ]
     },
     "execution_count": 23,
     "metadata": {},
     "output_type": "execute_result"
    }
   ],
   "source": [
    "[Q3[1], Q3[5], Q3[13]]"
   ]
  },
  {
   "cell_type": "code",
   "execution_count": 24,
   "id": "f82b3371",
   "metadata": {},
   "outputs": [],
   "source": [
    "# SUBFAMILIES OF SE3 WITH 4 ECKARDT POINTS"
   ]
  },
  {
   "cell_type": "code",
   "execution_count": 25,
   "id": "483e37ce",
   "metadata": {},
   "outputs": [
    {
     "data": {
      "text/plain": [
       "[['E1', 'G4', 'F14'],\n",
       " ['E2', 'G3', 'F23'],\n",
       " ['F13', 'F24', 'F56'],\n",
       " ['F14', 'F23', 'F56']]"
      ]
     },
     "execution_count": 25,
     "metadata": {},
     "output_type": "execute_result"
    }
   ],
   "source": [
    "k3 = SE3.subs({f:-e})\n",
    "k3.eckardt_points_labels"
   ]
  },
  {
   "cell_type": "code",
   "execution_count": 26,
   "id": "761b879a",
   "metadata": {},
   "outputs": [
    {
     "data": {
      "text/plain": [
       "[['E1', 'G3', 'F13'],\n",
       " ['E1', 'G4', 'F14'],\n",
       " ['E2', 'G3', 'F23'],\n",
       " ['F13', 'F24', 'F56']]"
      ]
     },
     "execution_count": 26,
     "metadata": {},
     "output_type": "execute_result"
    }
   ],
   "source": [
    "k1 = SE3.subs({f:c*(3*c+e)/(e-c)})\n",
    "k1.eckardt_points_labels"
   ]
  },
  {
   "cell_type": "code",
   "execution_count": 27,
   "id": "06d48c62",
   "metadata": {
    "scrolled": true
   },
   "outputs": [
    {
     "data": {
      "text/plain": [
       "[['E1', 'G4', 'F14'],\n",
       " ['E2', 'G3', 'F23'],\n",
       " ['E2', 'G4', 'F24'],\n",
       " ['F13', 'F24', 'F56']]"
      ]
     },
     "execution_count": 27,
     "metadata": {},
     "output_type": "execute_result"
    }
   ],
   "source": [
    "SE4.eckardt_points_labels"
   ]
  },
  {
   "cell_type": "code",
   "execution_count": 28,
   "id": "8f8bd0bd-9ec0-4470-a15a-7d77f5c9a5e9",
   "metadata": {},
   "outputs": [],
   "source": [
    "L_set_k3 = ('E1', 'F14', 'F23', 'G3', 'G1')\n",
    "L_set_k1 = ('G4', 'E1', 'G3', 'E2', 'G2')\n",
    "L_set_SE4 = ('G3', 'E2', 'G4', 'E1', 'G1')"
   ]
  },
  {
   "cell_type": "code",
   "execution_count": 29,
   "id": "672831ea-e6d5-48e6-b37a-a2bf3e48edcb",
   "metadata": {},
   "outputs": [],
   "source": [
    "proj_k3_SE4 = find_projectivity(k3.get_L_set_in_plucker(L_set_k3), SE4.get_L_set_in_plucker(L_set_SE4))\n",
    "proj_k1_SE4 = find_projectivity(k1.get_L_set_in_plucker(L_set_k1), SE4.get_L_set_in_plucker(L_set_SE4))"
   ]
  },
  {
   "cell_type": "code",
   "execution_count": 30,
   "id": "c695835c",
   "metadata": {},
   "outputs": [],
   "source": [
    "# SUBFAMILIES OF SE3 WITH 6 ECKARDT POINTS"
   ]
  },
  {
   "cell_type": "code",
   "execution_count": null,
   "id": "57dda133",
   "metadata": {},
   "outputs": [],
   "source": []
  },
  {
   "cell_type": "code",
   "execution_count": 31,
   "id": "17221bbb-759d-4c83-8431-e41e0c08493c",
   "metadata": {},
   "outputs": [],
   "source": [
    "# SUBFAMILIES OF SE3 WITH 9 ECKARDT POINTS"
   ]
  },
  {
   "cell_type": "code",
   "execution_count": 32,
   "id": "94f9fe6d-7c73-408f-9b71-4c38933760fa",
   "metadata": {},
   "outputs": [],
   "source": [
    "SE9_1 = SE3.subs({e : -i_rad3*c})"
   ]
  },
  {
   "cell_type": "code",
   "execution_count": 33,
   "id": "b057e505-b8f7-43d4-b2b9-842387afcff3",
   "metadata": {},
   "outputs": [],
   "source": [
    "L_set_SE9 = ['F46', 'G6', 'F26', 'F15', 'E3']\n",
    "L_set_base = ['E1', 'G4', 'E2', 'G3', 'E3']"
   ]
  },
  {
   "cell_type": "code",
   "execution_count": 34,
   "id": "ba16859e-351b-480a-a77c-d5a86526ae09",
   "metadata": {},
   "outputs": [],
   "source": [
    "proj_SE9 = find_projectivity(SE9.get_L_set_in_plucker(L_set_SE9), SE9.get_L_set_in_plucker(L_set_base))\n",
    "proj_SE9 = proj_SE9/(proj_SE9.list()[0].coefficients()[0])\n",
    "proj_SE9 = proj_SE9*proj_SE9.denominator()"
   ]
  },
  {
   "cell_type": "code",
   "execution_count": 35,
   "id": "2b0a53de-1291-484e-99a4-65c01e77bd90",
   "metadata": {},
   "outputs": [],
   "source": [
    "change_coordinates = change_coord(proj_SE9)"
   ]
  },
  {
   "cell_type": "code",
   "execution_count": 36,
   "id": "af5f34ba-d10e-4bfe-bf09-8b6c8a28e7fa",
   "metadata": {},
   "outputs": [],
   "source": [
    "new_eqn_SE9_1 = SE9_1.subs({c:f-c, f: -c+2*i_rad3*c-f}).subs(change_coordinates).eqn"
   ]
  },
  {
   "cell_type": "code",
   "execution_count": 37,
   "id": "dc457662-a529-48e1-bbbc-3997dedb5050",
   "metadata": {},
   "outputs": [
    {
     "data": {
      "text/plain": [
       "True"
      ]
     },
     "execution_count": 37,
     "metadata": {},
     "output_type": "execute_result"
    }
   ],
   "source": [
    "mon = (sum(P.gens()[0:4]) ^ 3).monomials()\n",
    "coeffs = matrix([[new_eqn_SE9_1.coefficient(mn) for mn in mon], [SE9.eqn.coefficient(mn) for mn in mon]]).minors(2)\n",
    "list(set(coeffs)) == [0]"
   ]
  },
  {
   "cell_type": "code",
   "execution_count": 38,
   "id": "e72399b0",
   "metadata": {},
   "outputs": [],
   "source": [
    "# CONDITIONS FOR SE4"
   ]
  },
  {
   "cell_type": "code",
   "execution_count": 39,
   "id": "9620a880",
   "metadata": {},
   "outputs": [],
   "source": [
    "Q4, table4 = get_unique_conditions(SE4)"
   ]
  },
  {
   "cell_type": "code",
   "execution_count": 40,
   "id": "b077c55f",
   "metadata": {},
   "outputs": [
    {
     "name": "stdout",
     "output_type": "stream",
     "text": [
      "(c + (1/16*alpha^3 - 3/4*alpha + 2)*e) * (c + (-1/16*alpha^3 + 3/4*alpha + 2)*e) [['E1', 'G2', 'F12'], ['E3', 'G1', 'F13'], ['E3', 'G2', 'F23'], ['E4', 'G1', 'F14'], ['E4', 'G3', 'F34'], ['F12', 'F34', 'F56']]\n",
      "\n",
      "(3) * (c + (1/48*alpha^3 + 1/12*alpha)*e) * (c + (-1/48*alpha^3 - 1/12*alpha)*e) [['E1', 'G3', 'F13'], ['E3', 'G5', 'F35'], ['E3', 'G6', 'F36'], ['E4', 'G5', 'F45'], ['E4', 'G6', 'F46'], ['E5', 'G1', 'F15'], ['E5', 'G2', 'F25'], ['E6', 'G1', 'F16'], ['E6', 'G2', 'F26'], ['F12', 'F35', 'F46'], ['F12', 'F36', 'F45'], ['F14', 'F23', 'F56'], ['F15', 'F26', 'F34'], ['F16', 'F25', 'F34']]\n",
      "\n",
      "(c + (1/16*alpha^3 - 3/4*alpha - 2)*e) * (c + (-1/16*alpha^3 + 3/4*alpha - 2)*e) [['E1', 'G5', 'F15'], ['E6', 'G3', 'F36'], ['E6', 'G5', 'F56'], ['F13', 'F25', 'F46'], ['F14', 'F25', 'F36'], ['F15', 'F23', 'F46']]\n",
      "\n",
      "(5) * (c + (1/80*alpha^3 - 3/20*alpha)*e) * (c + (-1/80*alpha^3 + 3/20*alpha)*e) [['E1', 'G6', 'F16'], ['E5', 'G3', 'F35'], ['E5', 'G6', 'F56'], ['F13', 'F26', 'F45'], ['F14', 'F26', 'F35'], ['F16', 'F23', 'F45']]\n",
      "\n",
      "1 [['E2', 'G1', 'F12'], ['E2', 'G5', 'F25'], ['E2', 'G6', 'F26'], ['E3', 'G4', 'F34'], ['E4', 'G2', 'F24'], ['E5', 'G4', 'F45'], ['E6', 'G4', 'F46'], ['F15', 'F24', 'F36'], ['F16', 'F24', 'F35']]\n",
      "\n"
     ]
    }
   ],
   "source": [
    "for i in range(1,len(Q4)+1):\n",
    "    print(Q4[i-1].factor(), [el[0] for el in table4 if el[1]==i])\n",
    "    print()"
   ]
  },
  {
   "cell_type": "code",
   "execution_count": 41,
   "id": "95ca2956",
   "metadata": {},
   "outputs": [],
   "source": [
    "# SUBFAMILIES OF SE4 WITH 10 ECKARDT POINTS"
   ]
  },
  {
   "cell_type": "code",
   "execution_count": null,
   "id": "671f71e5",
   "metadata": {},
   "outputs": [],
   "source": []
  },
  {
   "cell_type": "code",
   "execution_count": 42,
   "id": "c20248db",
   "metadata": {},
   "outputs": [],
   "source": [
    "# CONDITIONS FOR SE6"
   ]
  },
  {
   "cell_type": "code",
   "execution_count": 43,
   "id": "663c2a1d",
   "metadata": {},
   "outputs": [],
   "source": [
    "Q6, table6 = get_unique_conditions(SE6)"
   ]
  },
  {
   "cell_type": "code",
   "execution_count": 44,
   "id": "7b528c03",
   "metadata": {},
   "outputs": [
    {
     "name": "stdout",
     "output_type": "stream",
     "text": [
      "(5) * (c + (1/80*alpha^3 - 3/20*alpha)*e) * (c + (-1/80*alpha^3 + 3/20*alpha)*e) [['E1', 'G2', 'F12'], ['E3', 'G1', 'F13'], ['E4', 'G3', 'F34'], ['F14', 'F23', 'F56']]\n",
      "(c + (1/16*alpha^3 - 3/4*alpha - 2)*e) * (c + (-1/16*alpha^3 + 3/4*alpha - 2)*e) [['E1', 'G3', 'F13'], ['E3', 'G2', 'F23'], ['E4', 'G1', 'F14'], ['F12', 'F34', 'F56']]\n",
      "(3) * (c + (1/48*alpha^3 + 1/12*alpha)*e) * (c + (-1/48*alpha^3 - 1/12*alpha)*e) [['E1', 'G5', 'F15'], ['E3', 'G5', 'F35'], ['E4', 'G6', 'F46'], ['E5', 'G2', 'F25'], ['E5', 'G6', 'F56'], ['E6', 'G1', 'F16'], ['E6', 'G3', 'F36'], ['F12', 'F36', 'F45'], ['F13', 'F25', 'F46'], ['F14', 'F26', 'F35'], ['F15', 'F26', 'F34'], ['F16', 'F23', 'F45']]\n",
      "(7) * (c + (1/112*alpha^3 + 1/28*alpha + 2/7)*e) * (c + (-1/112*alpha^3 - 1/28*alpha + 2/7)*e) [['E1', 'G6', 'F16'], ['E3', 'G6', 'F36'], ['E4', 'G5', 'F45'], ['E5', 'G1', 'F15'], ['E5', 'G3', 'F35'], ['E6', 'G2', 'F26'], ['E6', 'G5', 'F56'], ['F12', 'F35', 'F46'], ['F13', 'F26', 'F45'], ['F14', 'F25', 'F36'], ['F15', 'F23', 'F46'], ['F16', 'F25', 'F34']]\n",
      "1 [['E2', 'G4', 'F24'], ['E2', 'G5', 'F25'], ['E2', 'G6', 'F26'], ['E5', 'G4', 'F45'], ['E6', 'G4', 'F46'], ['F15', 'F24', 'F36'], ['F16', 'F24', 'F35']]\n"
     ]
    }
   ],
   "source": [
    "for i in range(1,len(Q6)+1):\n",
    "    print(Q6[i-1].factor(), [el[0] for el in table6 if el[1]==i])"
   ]
  },
  {
   "cell_type": "code",
   "execution_count": 45,
   "id": "d7056d5d",
   "metadata": {},
   "outputs": [],
   "source": [
    "# SUBFAMILIES OF SE6 WITH 10 ECKARDT POINTS"
   ]
  },
  {
   "cell_type": "code",
   "execution_count": null,
   "id": "c49a57ee",
   "metadata": {},
   "outputs": [],
   "source": []
  },
  {
   "cell_type": "code",
   "execution_count": 46,
   "id": "7c281dfd",
   "metadata": {},
   "outputs": [],
   "source": [
    "# SUBFAMILIES OF SE6 WITH 18 ECKARDT POINTS"
   ]
  },
  {
   "cell_type": "code",
   "execution_count": null,
   "id": "0b8beeb9",
   "metadata": {},
   "outputs": [],
   "source": []
  },
  {
   "cell_type": "code",
   "execution_count": 47,
   "id": "ca537c7e",
   "metadata": {},
   "outputs": [],
   "source": [
    "# CONDITIONS FOR SE9"
   ]
  },
  {
   "cell_type": "code",
   "execution_count": 48,
   "id": "3e8c44dd",
   "metadata": {},
   "outputs": [],
   "source": [
    "Q9, table9 = get_unique_conditions(SE9)"
   ]
  },
  {
   "cell_type": "code",
   "execution_count": 49,
   "id": "e8cfb579",
   "metadata": {},
   "outputs": [
    {
     "name": "stdout",
     "output_type": "stream",
     "text": [
      "(112) * (c + (1/112*alpha^3 + 1/28*alpha - 2/7)*f) [['E1', 'G2', 'F12'], ['E2', 'G6', 'F26'], ['E3', 'G1', 'F13'], ['E4', 'G3', 'F34'], ['E5', 'G4', 'F45'], ['E6', 'G5', 'F56'], ['F14', 'F25', 'F36'], ['F15', 'F23', 'F46'], ['F16', 'F24', 'F35']]\n",
      "(48) * (c + (-1/48*alpha^3 - 1/12*alpha)*f) [['E1', 'G3', 'F13'], ['E2', 'G4', 'F24'], ['E3', 'G6', 'F36'], ['E4', 'G5', 'F45'], ['E5', 'G1', 'F15'], ['E6', 'G2', 'F26'], ['F12', 'F35', 'F46'], ['F14', 'F23', 'F56'], ['F16', 'F25', 'F34']]\n",
      "(112) * (c + (1/112*alpha^3 + 1/28*alpha + 2/7)*f) [['E1', 'G5', 'F15'], ['E2', 'G1', 'F12'], ['E3', 'G4', 'F34'], ['E4', 'G2', 'F24'], ['E5', 'G6', 'F56'], ['E6', 'G3', 'F36'], ['F13', 'F25', 'F46'], ['F14', 'F26', 'F35'], ['F16', 'F23', 'F45']]\n",
      "(16) * (c + (1/16*alpha^3 + 1/4*alpha)*f) [['E1', 'G6', 'F16'], ['E2', 'G5', 'F25'], ['E3', 'G2', 'F23'], ['E4', 'G1', 'F14'], ['E5', 'G3', 'F35'], ['E6', 'G4', 'F46'], ['F12', 'F34', 'F56'], ['F13', 'F26', 'F45'], ['F15', 'F24', 'F36']]\n"
     ]
    }
   ],
   "source": [
    "for i in range(1,len(Q9)+1):\n",
    "    print(Q9[i-1].factor(), [el[0] for el in table9 if el[1]==i])"
   ]
  },
  {
   "cell_type": "code",
   "execution_count": 50,
   "id": "9649c9ae-a07c-435b-a31f-5ef4d84be7a1",
   "metadata": {},
   "outputs": [
    {
     "data": {
      "text/plain": [
       "[(1/48*alpha^3 + 1/12*alpha)*c]"
      ]
     },
     "execution_count": 50,
     "metadata": {},
     "output_type": "execute_result"
    }
   ],
   "source": [
    "solve_linear_system_in_fraction_field([Q9[3]], [f], [c])"
   ]
  },
  {
   "cell_type": "code",
   "execution_count": 51,
   "id": "b4e6d93c",
   "metadata": {},
   "outputs": [],
   "source": [
    "# SUBFAMILIES OF SE9 WITH 18 ECKARDT POINTS"
   ]
  },
  {
   "cell_type": "code",
   "execution_count": null,
   "id": "e499c415",
   "metadata": {},
   "outputs": [],
   "source": []
  },
  {
   "cell_type": "code",
   "execution_count": null,
   "id": "85a5a81f",
   "metadata": {},
   "outputs": [],
   "source": []
  },
  {
   "cell_type": "code",
   "execution_count": null,
   "id": "b6672704",
   "metadata": {},
   "outputs": [],
   "source": []
  },
  {
   "cell_type": "code",
   "execution_count": 52,
   "id": "3b66ae5f",
   "metadata": {},
   "outputs": [],
   "source": [
    "# Lemma 2.2.5"
   ]
  },
  {
   "cell_type": "code",
   "execution_count": 53,
   "id": "bd257d4f",
   "metadata": {},
   "outputs": [],
   "source": [
    "eqn = SE10.eqn/(alpha^3 - 12*alpha - 48)"
   ]
  },
  {
   "cell_type": "code",
   "execution_count": 54,
   "id": "d0c394c6",
   "metadata": {},
   "outputs": [
    {
     "data": {
      "text/plain": [
       "x^2*y - x*y^2 + 2*x^2*z - 2*x*y*z + x*z^2 - 2*x*y*t + 2*y^2*t - y*t^2"
      ]
     },
     "execution_count": 54,
     "metadata": {},
     "output_type": "execute_result"
    }
   ],
   "source": [
    "eqn"
   ]
  },
  {
   "cell_type": "code",
   "execution_count": null,
   "id": "c0911df1",
   "metadata": {},
   "outputs": [],
   "source": []
  },
  {
   "cell_type": "code",
   "execution_count": null,
   "id": "806fac7c",
   "metadata": {},
   "outputs": [],
   "source": []
  },
  {
   "cell_type": "code",
   "execution_count": null,
   "id": "a586f99c-be5a-4c04-bd2f-56ae74339f28",
   "metadata": {},
   "outputs": [],
   "source": []
  }
 ],
 "metadata": {
  "kernelspec": {
   "display_name": "SageMath 9.4",
   "language": "sage",
   "name": "sagemath"
  },
  "language_info": {
   "codemirror_mode": {
    "name": "ipython",
    "version": 3
   },
   "file_extension": ".py",
   "mimetype": "text/x-python",
   "name": "python",
   "nbconvert_exporter": "python",
   "pygments_lexer": "ipython3",
   "version": "3.7.12"
  }
 },
 "nbformat": 4,
 "nbformat_minor": 5
}
