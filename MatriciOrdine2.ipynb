{
 "cells": [
  {
   "cell_type": "code",
   "execution_count": 1,
   "id": "be4bf08a-2cb2-4983-bbd1-f5fd3a47a31d",
   "metadata": {},
   "outputs": [],
   "source": [
    "load('Imports/Utility.sage', 'Imports/Point.sage', 'Imports/Line.sage', 'Imports/TritangentPlane.sage', 'Imports/Group.sage', 'Imports/Cubic.sage')"
   ]
  },
  {
   "cell_type": "code",
   "execution_count": 2,
   "id": "5f86d3c3-fd45-4f02-8bbf-ee43b37fcc98",
   "metadata": {},
   "outputs": [],
   "source": [
    "P.<x,y,z,t,b,c,d,e,f,l,m> = PolynomialRing(QQ)\n",
    "cubic_new = e*f*(2*x^2*y-2*x*y^2+x*z^2-x*z*t-y*t^2+y*z*t)+b*c*(x-t)*(x*z+y*t)+c*c*(z+t)*(y*t-x*z)+d*c*(y-z)*(x*z+y*t)+(e+f)*c*(x-y)*(y*t-x*z)\n",
    "sing_cubics = (-1) * (-c + f) * (-c + e) * c * (c + f) * (c + e) * (-e + f)^2 * (-c*d + c*f + e*f) * (-c*d + c*e + e*f) * (-c^2 - c*d + e*f) * (b*c - c*f + e*f) * (b*c - c*e + e*f) * (b*c - c*d + 2*e*f) * (b*c - c^2 + e*f) * (b*c^2 + c^2*d + b*c*f - 2*c^2*f - c*d*f + 2*e*f^2) * (b*c^2 + c^2*d + b*c*e - 2*c^2*e - c*d*e + 2*e^2*f) * (-b*c^3 - 2*b*c^2*d + c^3*d + b*c^2*e + c^2*d*e + b*c^2*f + c^2*d*f + 3*b*c*e*f - 4*c^2*e*f - 3*c*d*e*f + 4*e^2*f^2)\n",
    "line = Line([y, z])\n",
    "general_cubic = Cubic(cubic_new, line, sing_cubics)"
   ]
  },
  {
   "cell_type": "code",
   "execution_count": 3,
   "id": "19cc7aa7-32b3-492e-95d2-1d4f94c7b43f",
   "metadata": {},
   "outputs": [],
   "source": [
    "L_set_base = general_cubic.get_L_set_in_plucker(['E1', 'G4', 'E2', 'G3', 'E3'])"
   ]
  },
  {
   "cell_type": "code",
   "execution_count": 12,
   "id": "1c4712da-f016-4936-b46e-fb1590f6d276",
   "metadata": {},
   "outputs": [],
   "source": [
    "possible_L_sets = [('E1', 'G4', 'E2', 'F12', 'E3'),\n",
    "                   ('E1', 'G4', 'E2', 'G5', 'F34'),\n",
    "                   ('E1', 'G4', 'E2', 'G6', 'F34'),\n",
    "                   ('E1', 'G4', 'F24', 'G2', 'F34'),\n",
    "                   ('E1', 'G4', 'F24', 'F13', 'F34'),\n",
    "                   ('F14', 'G4', 'F24', 'F35', 'F34'),\n",
    "                   ('F14', 'G4', 'F24', 'F36', 'F34'),\n",
    "                   ('E1', 'G4', 'E3', 'G2', 'E2'),\n",
    "                   ('E1', 'G4', 'E3', 'F13', 'E2'),\n",
    "                   ('F14', 'G4', 'E3', 'F35', 'E2'),\n",
    "                   ('F14', 'G4', 'E3', 'F36', 'E2')]                   "
   ]
  },
  {
   "cell_type": "code",
   "execution_count": 13,
   "id": "9bc380a8-3ae4-4814-a168-2bd2fd426385",
   "metadata": {},
   "outputs": [
    {
     "name": "stdout",
     "output_type": "stream",
     "text": [
      "CPU times: user 5.71 s, sys: 47.2 ms, total: 5.76 s\n",
      "Wall time: 5.81 s\n"
     ]
    }
   ],
   "source": [
    "%%time \n",
    "# this takes approximately 20 seconds \n",
    "projs = [find_projectivity(L_set_base, general_cubic.get_L_set_in_plucker(L_set_2)) for L_set_2 in possible_L_sets]\n",
    "projs_ideals = []\n",
    "coeffs = []\n",
    "sing_cubics_factored = sing_cubics.factor()\n",
    "for proj in projs:\n",
    "    #change coordinates, obtain new cubic and find conditions on the parameters\n",
    "    sost = change_coord(proj)\n",
    "    new_cubic = general_cubic.eqn.subs(sost)\n",
    "    mon = (sum(P.gens()[0:4]) ^ 3).monomials()\n",
    "    current_conds = list(set(matrix([[general_cubic.eqn.coefficient(mn) for mn in mon], [new_cubic.coefficient(mn) for mn in mon]]).minors(2)))\n",
    "    no_sing_conds = [remove_sing_factors(el, sing_cubics_factored) for el in current_conds if el !=0]\n",
    "    \n",
    "    #two branches: assume e*f is zero and add to groebner basis, otherwise saturate with respect to e*f\n",
    "    ideals = []\n",
    "    gb = [remove_sing_factors(el, sing_cubics_factored) for el in P.ideal(no_sing_conds).groebner_basis()] \n",
    "    ideals += P.ideal(gb+[e*f]).radical().primary_decomposition('gtz')\n",
    "    \n",
    "    idealb = P.ideal(gb).saturation(P.ideal(f*e))[0]\n",
    "    ideals += idealb.radical().primary_decomposition('gtz')\n",
    "    \n",
    "    #remove duplicates and singular ideals\n",
    "    ideals = list(set(ideals))\n",
    "    ideals = [ideal for ideal in ideals if sing_cubics not in ideal]\n",
    "    \n",
    "    # we obtain a list where, for each projectivity, there are the possible associated nonsingular ideals\n",
    "    projs_ideals.append([proj, ideals])"
   ]
  },
  {
   "cell_type": "code",
   "execution_count": 14,
   "id": "24cfe804-dcd2-4cd0-a03e-59b113ff19af",
   "metadata": {},
   "outputs": [
    {
     "data": {
      "text/plain": [
       "[3, 2, 2, 3, 3, 3, 3, 3, 3, 3, 3]"
      ]
     },
     "execution_count": 14,
     "metadata": {},
     "output_type": "execute_result"
    }
   ],
   "source": [
    "#number of ideals for each projectivity\n",
    "[len(el[1]) for el in projs_ideals]"
   ]
  },
  {
   "cell_type": "code",
   "execution_count": 15,
   "id": "0c76bea8-1883-4e7b-8550-2426dcbfc14d",
   "metadata": {},
   "outputs": [],
   "source": [
    "# here we obtain the matrices with the sostitutions obtained from the various ideals\n",
    "matrices_from_ideals = []\n",
    "all_matrices = []\n",
    "for matrix_ideals in projs_ideals:\n",
    "    proj = matrix_ideals[0]\n",
    "    ideals = matrix_ideals[1]\n",
    "    \n",
    "    # matrices_from_ideals remembers from which ideals the matrices where generated\n",
    "    matrices_from_ideals += [[matrix(4,4, [ideal.reduce(el) for el in proj.list()]), ideal] for ideal in ideals]"
   ]
  },
  {
   "cell_type": "code",
   "execution_count": 46,
   "id": "85653533-9dcb-4653-8aba-88e7ad7c2906",
   "metadata": {},
   "outputs": [
    {
     "data": {
      "text/plain": [
       "31"
      ]
     },
     "execution_count": 46,
     "metadata": {},
     "output_type": "execute_result"
    }
   ],
   "source": [
    "matrices_from_ideals_squared = [[el[0]^2, el[1]] for el in matrices_from_ideals]\n",
    "identity_list = [0 for _ in range(16)]\n",
    "for i in {0,5,10,15}:\n",
    "    identity_list[i]=1\n",
    "id_mat = matrix(4,4,identity_list)\n",
    "len(matrices_from_ideals_squared)"
   ]
  },
  {
   "cell_type": "code",
   "execution_count": 58,
   "id": "75913ba3-5eb6-4268-8648-6af9c984c11f",
   "metadata": {},
   "outputs": [
    {
     "name": "stdout",
     "output_type": "stream",
     "text": [
      "True\n",
      "True\n",
      "True\n",
      "True\n",
      "True\n",
      "True\n",
      "True\n",
      "True\n",
      "True\n",
      "True\n",
      "True\n",
      "True\n",
      "True\n",
      "True\n",
      "True\n",
      "True\n",
      "True\n",
      "True\n",
      "True\n",
      "True\n",
      "True\n",
      "True\n",
      "True\n",
      "True\n",
      "True\n",
      "False\n",
      "False\n",
      "False\n",
      "False\n",
      "False\n",
      "False\n"
     ]
    }
   ],
   "source": [
    "for mat_id in matrices_from_ideals_squared:\n",
    "    print(are_matrices_equal(matrix(4,4,[mat_id[1].reduce(el) for el in mat_id[0].list()]), id_mat))"
   ]
  },
  {
   "cell_type": "code",
   "execution_count": 59,
   "id": "05be2c20-be3d-4fc5-ba4c-6b6af045f900",
   "metadata": {},
   "outputs": [],
   "source": [
    "final_matrices = []\n",
    "final_ideals = []\n",
    "for mat_id in matrices_from_ideals_squared[0:25]:\n",
    "    final_matrices.append(matrix(4,4, [mat_id[1].reduce(el) for el in mat_id[0].list()]))\n",
    "    final_ideals.append(mat_id[1])"
   ]
  },
  {
   "cell_type": "code",
   "execution_count": 52,
   "id": "9fb566b2-6597-4c53-b059-e09ba584bd11",
   "metadata": {},
   "outputs": [
    {
     "name": "stdout",
     "output_type": "stream",
     "text": [
      "0\n",
      "1\n",
      "2\n",
      "3\n",
      "4\n",
      "5\n",
      "6\n",
      "7\n",
      "8\n",
      "9\n",
      "10\n",
      "11\n",
      "12\n",
      "13\n",
      "18\n",
      "19\n",
      "20\n",
      "21\n",
      "22\n",
      "23\n",
      "24\n",
      "25\n",
      "26\n",
      "27\n",
      "26\n",
      "25\n",
      "30\n"
     ]
    }
   ],
   "source": [
    "final_mats_ideals = []\n",
    "for el in matrices_from_ideals_squared[0:14]+matrices_from_ideals_squared[18:31]:\n",
    "    print(matrices_from_ideals_squared.index(el))\n",
    "    conds = list(set(matrix([el[0].list(), identity_list]).minors(2)))\n",
    "    no_sing_conds = [remove_sing_factors(el, sing_cubics_factored) for el in conds if el !=0]\n",
    "    mcd = gcd(no_sing_conds)\n",
    "    if mcd == 0:\n",
    "        continue\n",
    "    gcd_dec = (el[1]+P.ideal(mcd)).radical().primary_decomposition('gtz')\n",
    "    for ideal in gcd_dec:\n",
    "        if sing_cubics not in ideal:\n",
    "            final_mats_ideals.append([el[0], ideal])\n",
    "    other_dec = (el[1]+P.ideal([el/mcd for el in conds])).radical().primary_decomposition('gtz')\n",
    "    for ideal in other_dec:\n",
    "        if sing_cubics not in ideal:\n",
    "            final_mats_ideals.append([el[0], ideal])"
   ]
  },
  {
   "cell_type": "code",
   "execution_count": 61,
   "id": "92ca1933-05c4-447d-9eb9-6f509702a22a",
   "metadata": {},
   "outputs": [],
   "source": [
    "cubics = [general_cubic.reduce(ideal) for ideal in final_ideals]"
   ]
  },
  {
   "cell_type": "code",
   "execution_count": 62,
   "id": "2c87534a-9f2c-49ec-844e-b01563dfebab",
   "metadata": {},
   "outputs": [
    {
     "data": {
      "text/plain": [
       "[2, 2, 2, 2, 2, 2, 2, 2, 2, 2, 1, 1, 1, 1, 1, 1, 1, 1, 1, 2, 2, 2, 2, 2, 2]"
      ]
     },
     "execution_count": 62,
     "metadata": {},
     "output_type": "execute_result"
    }
   ],
   "source": [
    "[len(cubic.eckardt_points_labels) for cubic in cubics]"
   ]
  },
  {
   "cell_type": "code",
   "execution_count": null,
   "id": "7cfaf06e-2551-48fe-9a9a-2d5209f72654",
   "metadata": {},
   "outputs": [],
   "source": []
  }
 ],
 "metadata": {
  "kernelspec": {
   "display_name": "SageMath 9.4",
   "language": "sage",
   "name": "sagemath"
  },
  "language_info": {
   "codemirror_mode": {
    "name": "ipython",
    "version": 3
   },
   "file_extension": ".py",
   "mimetype": "text/x-python",
   "name": "python",
   "nbconvert_exporter": "python",
   "pygments_lexer": "ipython3",
   "version": "3.7.12"
  }
 },
 "nbformat": 4,
 "nbformat_minor": 5
}
