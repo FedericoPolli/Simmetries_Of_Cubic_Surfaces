{
 "cells": [
  {
   "cell_type": "code",
   "execution_count": 26,
   "id": "be4bf08a-2cb2-4983-bbd1-f5fd3a47a31d",
   "metadata": {},
   "outputs": [],
   "source": [
    "load('Imports/Utility.sage', 'Imports/Point.sage', 'Imports/Line.sage', 'Imports/TritangentPlane.sage', 'Imports/Group.sage', 'Imports/Cubic.sage')"
   ]
  },
  {
   "cell_type": "code",
   "execution_count": 27,
   "id": "5f86d3c3-fd45-4f02-8bbf-ee43b37fcc98",
   "metadata": {},
   "outputs": [],
   "source": [
    "P.<x,y,z,t,b,c,d,e,f,l,m> = PolynomialRing(QQ)\n",
    "cubic_new = e*f*(2*x^2*y-2*x*y^2+x*z^2-x*z*t-y*t^2+y*z*t)+b*c*(x-t)*(x*z+y*t)+c*c*(z+t)*(y*t-x*z)+d*c*(y-z)*(x*z+y*t)+(e+f)*c*(x-y)*(y*t-x*z)\n",
    "sing_cubics = (-1) * (-c + f) * (-c + e) * c * (c + f) * (c + e) * (-e + f)^2 * (-c*d + c*f + e*f) * (-c*d + c*e + e*f) * (-c^2 - c*d + e*f) * (b*c - c*f + e*f) * (b*c - c*e + e*f) * (b*c - c*d + 2*e*f) * (b*c - c^2 + e*f) * (b*c^2 + c^2*d + b*c*f - 2*c^2*f - c*d*f + 2*e*f^2) * (b*c^2 + c^2*d + b*c*e - 2*c^2*e - c*d*e + 2*e^2*f) * (-b*c^3 - 2*b*c^2*d + c^3*d + b*c^2*e + c^2*d*e + b*c^2*f + c^2*d*f + 3*b*c*e*f - 4*c^2*e*f - 3*c*d*e*f + 4*e^2*f^2)\n",
    "line = Line([y, z])\n",
    "general_cubic = Cubic(cubic_new, line, sing_cubics)"
   ]
  },
  {
   "cell_type": "code",
   "execution_count": 28,
   "id": "19cc7aa7-32b3-492e-95d2-1d4f94c7b43f",
   "metadata": {},
   "outputs": [],
   "source": [
    "L_set_base = ('E1', 'G4', 'E2', 'G3', 'E3')"
   ]
  },
  {
   "cell_type": "code",
   "execution_count": 29,
   "id": "1c4712da-f016-4936-b46e-fb1590f6d276",
   "metadata": {},
   "outputs": [],
   "source": [
    "possible_L_sets = [(\"E1\", \"G4\", \"E2\", \"F12\", \"E3\"), \\\n",
    "(\"E1\", \"G4\", \"E2\", \"G5\", \"F34\"), (\"E1\", \"G4\", \"E2\", \"G6\", \"F34\"), \\\n",
    "(\"E1\", \"G4\", \"F24\", \"G2\", \"F34\"), (\"E1\", \"G4\", \"F24\", \"F13\", \"F34\"), \\\n",
    "(\"F14\", \"G4\", \"F24\", \"F35\", \"F34\"), (\"F14\", \"G4\", \"F24\", \"F36\", \"F34\"), \\\n",
    "(\"E1\", \"G4\", \"E3\", \"G2\", \"E2\"), (\"E1\", \"G4\", \"E3\", \"F13\", \"E2\"), \\\n",
    "(\"F14\", \"G4\", \"E3\", \"F35\", \"E2\"), (\"F14\", \"G4\", \"E3\", \"F36\", \"E2\")]                 "
   ]
  },
  {
   "cell_type": "code",
   "execution_count": 30,
   "id": "fa1f6a62-13cb-483a-8ac0-afe2506d9602",
   "metadata": {},
   "outputs": [
    {
     "name": "stdout",
     "output_type": "stream",
     "text": [
      "CPU times: user 8.49 s, sys: 23.7 ms, total: 8.51 s\n",
      "Wall time: 8.55 s\n"
     ]
    }
   ],
   "source": [
    "%time L_set_ideals, all_ideals = general_cubic.find_conditions_on_L_sets(possible_L_sets)"
   ]
  },
  {
   "cell_type": "code",
   "execution_count": 31,
   "id": "41740d64-8596-4f83-9031-25259c1e30e9",
   "metadata": {},
   "outputs": [
    {
     "data": {
      "text/plain": [
       "[2, 2, 2, 2, 1, 1, 1, 2, 2, 6, 6]"
      ]
     },
     "execution_count": 31,
     "metadata": {},
     "output_type": "execute_result"
    }
   ],
   "source": [
    "cubics = [general_cubic.reduce(ideal) for ideal in all_ideals]\n",
    "[len(cubic.eckardt_points_labels) for cubic in cubics]"
   ]
  },
  {
   "cell_type": "code",
   "execution_count": null,
   "id": "7cfaf06e-2551-48fe-9a9a-2d5209f72654",
   "metadata": {},
   "outputs": [],
   "source": []
  },
  {
   "cell_type": "code",
   "execution_count": null,
   "id": "602f89a3-7819-495c-9436-90d24e09be66",
   "metadata": {},
   "outputs": [],
   "source": []
  },
  {
   "cell_type": "code",
   "execution_count": null,
   "id": "161a49e9-9ce5-49a1-9846-a64fe6989b61",
   "metadata": {},
   "outputs": [],
   "source": []
  },
  {
   "cell_type": "code",
   "execution_count": null,
   "id": "7881229e-96c8-46ef-b2e4-caa8a0f786b9",
   "metadata": {},
   "outputs": [],
   "source": []
  }
 ],
 "metadata": {
  "kernelspec": {
   "display_name": "SageMath 9.4",
   "language": "sage",
   "name": "sagemath"
  },
  "language_info": {
   "codemirror_mode": {
    "name": "ipython",
    "version": 3
   },
   "file_extension": ".py",
   "mimetype": "text/x-python",
   "name": "python",
   "nbconvert_exporter": "python",
   "pygments_lexer": "ipython3",
   "version": "3.7.12"
  }
 },
 "nbformat": 4,
 "nbformat_minor": 5
}
