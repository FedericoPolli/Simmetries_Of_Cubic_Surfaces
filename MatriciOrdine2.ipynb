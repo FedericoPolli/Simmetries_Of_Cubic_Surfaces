{
 "cells": [
  {
   "cell_type": "code",
   "execution_count": 1,
   "id": "be4bf08a-2cb2-4983-bbd1-f5fd3a47a31d",
   "metadata": {},
   "outputs": [],
   "source": [
    "load('Imports/Utility.sage', 'Imports/Point.sage', 'Imports/Line.sage', 'Imports/TritangentPlane.sage', 'Imports/Group.sage', 'Imports/Cubic.sage')"
   ]
  },
  {
   "cell_type": "code",
   "execution_count": 2,
   "id": "5f86d3c3-fd45-4f02-8bbf-ee43b37fcc98",
   "metadata": {},
   "outputs": [],
   "source": [
    "P.<x,y,z,t,b,c,d,e,f,l,m> = PolynomialRing(QQ)\n",
    "cubic_new = e*f*(2*x^2*y-2*x*y^2+x*z^2-x*z*t-y*t^2+y*z*t)+b*c*(x-t)*(x*z+y*t)+c*c*(z+t)*(y*t-x*z)+d*c*(y-z)*(x*z+y*t)+(e+f)*c*(x-y)*(y*t-x*z)\n",
    "sing_cubics = (-1) * (-c + f) * (-c + e) * c * (c + f) * (c + e) * (-e + f)^2 * (-c*d + c*f + e*f) * (-c*d + c*e + e*f) * (-c^2 - c*d + e*f) * (b*c - c*f + e*f) * (b*c - c*e + e*f) * (b*c - c*d + 2*e*f) * (b*c - c^2 + e*f) * (b*c^2 + c^2*d + b*c*f - 2*c^2*f - c*d*f + 2*e*f^2) * (b*c^2 + c^2*d + b*c*e - 2*c^2*e - c*d*e + 2*e^2*f) * (-b*c^3 - 2*b*c^2*d + c^3*d + b*c^2*e + c^2*d*e + b*c^2*f + c^2*d*f + 3*b*c*e*f - 4*c^2*e*f - 3*c*d*e*f + 4*e^2*f^2)\n",
    "line = Line([y, z])\n",
    "general_cubic = Cubic(cubic_new, line, sing_cubics)"
   ]
  },
  {
   "cell_type": "code",
   "execution_count": 3,
   "id": "19cc7aa7-32b3-492e-95d2-1d4f94c7b43f",
   "metadata": {},
   "outputs": [],
   "source": [
    "L_set_base = ('E1', 'G4', 'E2', 'G3', 'E3')"
   ]
  },
  {
   "cell_type": "code",
   "execution_count": 4,
   "id": "1c4712da-f016-4936-b46e-fb1590f6d276",
   "metadata": {},
   "outputs": [],
   "source": [
    "possible_L_sets = [(\"E1\", \"G4\", \"E2\", \"F12\", \"E3\"), \\\n",
    "(\"E1\", \"G4\", \"E2\", \"G5\", \"F34\"), (\"E1\", \"G4\", \"E2\", \"G6\", \"F34\"), \\\n",
    "(\"E1\", \"G4\", \"F24\", \"G2\", \"F34\"), (\"E1\", \"G4\", \"F24\", \"F13\", \"F34\"), \\\n",
    "(\"F14\", \"G4\", \"F24\", \"F35\", \"F34\"), (\"F14\", \"G4\", \"F24\", \"F36\", \"F34\"), \\\n",
    "(\"E1\", \"G4\", \"E3\", \"G2\", \"E2\"), (\"E1\", \"G4\", \"E3\", \"F13\", \"E2\"), \\\n",
    "(\"F14\", \"G4\", \"E3\", \"F35\", \"E2\"), (\"F14\", \"G4\", \"E3\", \"F36\", \"E2\")]                 "
   ]
  },
  {
   "cell_type": "code",
   "execution_count": 5,
   "id": "9bc380a8-3ae4-4814-a168-2bd2fd426385",
   "metadata": {},
   "outputs": [
    {
     "name": "stdout",
     "output_type": "stream",
     "text": [
      "CPU times: user 8.7 s, sys: 27.8 ms, total: 8.73 s\n",
      "Wall time: 8.8 s\n"
     ]
    }
   ],
   "source": [
    "%%time \n",
    "L_set_ideals = []\n",
    "all_ideals = []\n",
    "for L_set in possible_L_sets:\n",
    "    proj = general_cubic.find_projectivity(L_set_base, L_set)\n",
    "    ideals = general_cubic.find_decomposed_conditions_on_cubic(proj)\n",
    "    ideals = [ide for ide in ideals if not general_cubic.is_ideal_singular(ide)]\n",
    "    all_ideals += ideals\n",
    "    L_set_ideals.append([L_set, ideals])"
   ]
  },
  {
   "cell_type": "code",
   "execution_count": 6,
   "id": "8fc761c8-3307-496f-a713-03f5a4ea4d85",
   "metadata": {},
   "outputs": [
    {
     "data": {
      "text/plain": [
       "[[('E1', 'G4', 'E2', 'F12', 'E3'),\n",
       "  [Ideal (2*c^2*d - c^2*e - c*d*e - c^2*f - c*d*f + e^2*f + e*f^2, -8*c*d^2 + 4*b*d*e + 4*c*d*e + 4*d^2*e - b*e^2 - d*e^2 + 4*b*d*f + 4*c*d*f + 4*d^2*f + 2*b*e*f - 6*d*e*f - b*f^2 - d*f^2, 2*b*c - 2*c*d + b*e + d*e + b*f + d*f) of Multivariate Polynomial Ring in x, y, z, t, b, c, d, e, f, l, m over Rational Field]],\n",
       " [('E1', 'G4', 'E2', 'G5', 'F34'),\n",
       "  [Ideal (c^2 + c*d - 2*c*f - e*f, b + d - 4*f) of Multivariate Polynomial Ring in x, y, z, t, b, c, d, e, f, l, m over Rational Field]],\n",
       " [('E1', 'G4', 'E2', 'G6', 'F34'),\n",
       "  [Ideal (c^2 + c*d - 2*c*e - e*f, b + d - 4*e) of Multivariate Polynomial Ring in x, y, z, t, b, c, d, e, f, l, m over Rational Field]],\n",
       " [('E1', 'G4', 'F24', 'G2', 'F34'),\n",
       "  [Ideal (c^2 - c*d + e*f, b - 4*c + d) of Multivariate Polynomial Ring in x, y, z, t, b, c, d, e, f, l, m over Rational Field]],\n",
       " [('E1', 'G4', 'F24', 'F13', 'F34'),\n",
       "  [Ideal (b*c + c^2 + e*f) of Multivariate Polynomial Ring in x, y, z, t, b, c, d, e, f, l, m over Rational Field]],\n",
       " [('F14', 'G4', 'F24', 'F35', 'F34'),\n",
       "  [Ideal (b*c^3 + 2*b*c^2*d - c^3*d - 2*b*c^2*f - 2*c^2*d*f - 2*b*c*e*f + 2*c^2*e*f + 2*c*d*e*f - b*c*f^2 + 2*c^2*f^2 + c*d*f^2 - 2*e^2*f^2 - 2*e*f^3) of Multivariate Polynomial Ring in x, y, z, t, b, c, d, e, f, l, m over Rational Field]],\n",
       " [('F14', 'G4', 'F24', 'F36', 'F34'),\n",
       "  [Ideal (b*c^3 + 2*b*c^2*d - c^3*d - 2*b*c^2*e - 2*c^2*d*e - b*c*e^2 + 2*c^2*e^2 + c*d*e^2 - 2*b*c*e*f + 2*c^2*e*f + 2*c*d*e*f - 2*e^3*f - 2*e^2*f^2) of Multivariate Polynomial Ring in x, y, z, t, b, c, d, e, f, l, m over Rational Field]],\n",
       " [('E1', 'G4', 'E3', 'G2', 'E2'),\n",
       "  [Ideal (c^3 + 2*c^2*d + c*d*e + c*d*f - 3*c*e*f - e^2*f - e*f^2, 3*c^2 + 6*c*d + b*e - c*e + d*e + b*f - c*f + d*f - 9*e*f, b*c - c^2 - 2*c*d + 3*e*f) of Multivariate Polynomial Ring in x, y, z, t, b, c, d, e, f, l, m over Rational Field]],\n",
       " [('E1', 'G4', 'E3', 'F13', 'E2'),\n",
       "  [Ideal (c^2 + 4*c*d - c*e - c*f - 3*e*f, b + 2*d - e - f) of Multivariate Polynomial Ring in x, y, z, t, b, c, d, e, f, l, m over Rational Field]],\n",
       " [('F14', 'G4', 'E3', 'F35', 'E2'),\n",
       "  [Ideal (5*d^2*e^2 - 6*d*e^3 + e^4 + 6*d^2*e*f - 26*d*e^2*f + 5*d^2*f^2 - 26*d*e*f^2 - 2*e^2*f^2 - 6*d*f^3 + f^4, 12*c*e^2 - 5*d*e^2 + 5*e^3 + 24*c*e*f - 6*d*e*f + 19*e^2*f + 12*c*f^2 - 5*d*f^2 + 19*e*f^2 + 5*f^3, 2*c*d + 2*c*e - d*e + e^2 + 2*c*f - d*f + 2*e*f + f^2, 3*c^2 + c*e + c*f - e*f, b + e + f) of Multivariate Polynomial Ring in x, y, z, t, b, c, d, e, f, l, m over Rational Field]],\n",
       " [('F14', 'G4', 'E3', 'F36', 'E2'),\n",
       "  [Ideal (5*d^2*e^2 - 6*d*e^3 + e^4 + 6*d^2*e*f - 26*d*e^2*f + 5*d^2*f^2 - 26*d*e*f^2 - 2*e^2*f^2 - 6*d*f^3 + f^4, 12*c*e^2 - 5*d*e^2 + 5*e^3 + 24*c*e*f - 6*d*e*f + 19*e^2*f + 12*c*f^2 - 5*d*f^2 + 19*e*f^2 + 5*f^3, 2*c*d + 2*c*e - d*e + e^2 + 2*c*f - d*f + 2*e*f + f^2, 3*c^2 + c*e + c*f - e*f, b + e + f) of Multivariate Polynomial Ring in x, y, z, t, b, c, d, e, f, l, m over Rational Field]]]"
      ]
     },
     "execution_count": 6,
     "metadata": {},
     "output_type": "execute_result"
    }
   ],
   "source": [
    "L_set_ideals"
   ]
  },
  {
   "cell_type": "code",
   "execution_count": 7,
   "id": "92ca1933-05c4-447d-9eb9-6f509702a22a",
   "metadata": {},
   "outputs": [],
   "source": [
    "cubics = [general_cubic.reduce(ideal) for ideal in all_ideals]"
   ]
  },
  {
   "cell_type": "code",
   "execution_count": 8,
   "id": "2c87534a-9f2c-49ec-844e-b01563dfebab",
   "metadata": {},
   "outputs": [
    {
     "data": {
      "text/plain": [
       "[2, 2, 2, 2, 1, 1, 1, 2, 2, 6, 6]"
      ]
     },
     "execution_count": 8,
     "metadata": {},
     "output_type": "execute_result"
    }
   ],
   "source": [
    "[len(cubic.eckardt_points_labels) for cubic in cubics]"
   ]
  },
  {
   "cell_type": "code",
   "execution_count": null,
   "id": "7cfaf06e-2551-48fe-9a9a-2d5209f72654",
   "metadata": {},
   "outputs": [],
   "source": []
  },
  {
   "cell_type": "code",
   "execution_count": null,
   "id": "602f89a3-7819-495c-9436-90d24e09be66",
   "metadata": {},
   "outputs": [],
   "source": []
  },
  {
   "cell_type": "code",
   "execution_count": null,
   "id": "161a49e9-9ce5-49a1-9846-a64fe6989b61",
   "metadata": {},
   "outputs": [],
   "source": []
  },
  {
   "cell_type": "code",
   "execution_count": null,
   "id": "7881229e-96c8-46ef-b2e4-caa8a0f786b9",
   "metadata": {},
   "outputs": [],
   "source": []
  }
 ],
 "metadata": {
  "kernelspec": {
   "display_name": "SageMath 9.4",
   "language": "sage",
   "name": "sagemath"
  },
  "language_info": {
   "codemirror_mode": {
    "name": "ipython",
    "version": 3
   },
   "file_extension": ".py",
   "mimetype": "text/x-python",
   "name": "python",
   "nbconvert_exporter": "python",
   "pygments_lexer": "ipython3",
   "version": "3.7.12"
  }
 },
 "nbformat": 4,
 "nbformat_minor": 5
}
