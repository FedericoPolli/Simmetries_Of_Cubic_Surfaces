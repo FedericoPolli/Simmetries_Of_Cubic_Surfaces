{
 "cells": [
  {
   "cell_type": "code",
   "execution_count": 23,
   "id": "1b975162-099b-43a8-b367-2421d8667456",
   "metadata": {},
   "outputs": [],
   "source": [
    "load('Imports/Utility.sage', 'Imports/Point.sage', 'Imports/Line.sage', 'Imports/Tritangent_plane.sage', 'Imports/Group.sage', 'Imports/Cubic.sage')\n",
    "import multiprocessing as mp\n",
    "import pickle"
   ]
  },
  {
   "cell_type": "code",
   "execution_count": 2,
   "id": "567b090a-4f48-4a67-ad71-aef463f64fb2",
   "metadata": {},
   "outputs": [],
   "source": [
    "xx = QQ['xx'].0"
   ]
  },
  {
   "cell_type": "code",
   "execution_count": 3,
   "id": "cf44bedd-8766-4203-ac91-fe605aaf97ca",
   "metadata": {},
   "outputs": [],
   "source": [
    "Q.<alpha> = NumberField(xx^2+3)"
   ]
  },
  {
   "cell_type": "code",
   "execution_count": 25,
   "id": "59f4d2f8-2229-4422-9e0a-265e7431bb1d",
   "metadata": {},
   "outputs": [],
   "source": [
    "P.<x,y,z,t,b,c,d,e,f,l,m> = PolynomialRing(QQ)"
   ]
  },
  {
   "cell_type": "code",
   "execution_count": 26,
   "id": "14572132-ba25-4770-9235-753a5677e5c5",
   "metadata": {},
   "outputs": [],
   "source": [
    "cubic_new = e*f*(2*x^2*y-2*x*y^2+x*z^2-x*z*t-y*t^2+y*z*t)+b*c*(x-t)*(x*z+y*t)+c*c*(z+t)*(y*t-x*z)+d*c*(y-z)*(x*z+y*t)+(e+f)*c*(x-y)*(y*t-x*z)"
   ]
  },
  {
   "cell_type": "code",
   "execution_count": 27,
   "id": "5d72184f-70cc-43ec-8576-b990cdf03988",
   "metadata": {},
   "outputs": [],
   "source": [
    "sing_cubics = (-1) * (-c + f) * (-c + e) * c * (c + f) * (c + e) * (-e + f)^2 * (-c*d + c*f + e*f) * (-c*d + c*e + e*f) * (-c^2 - c*d + e*f) * (b*c - c*f + e*f) * (b*c - c*e + e*f) * (b*c - c*d + 2*e*f) * (b*c - c^2 + e*f) * (b*c^2 + c^2*d + b*c*f - 2*c^2*f - c*d*f + 2*e*f^2) * (b*c^2 + c^2*d + b*c*e - 2*c^2*e - c*d*e + 2*e^2*f) * (-b*c^3 - 2*b*c^2*d + c^3*d + b*c^2*e + c^2*d*e + b*c^2*f + c^2*d*f + 3*b*c*e*f - 4*c^2*e*f - 3*c*d*e*f + 4*e^2*f^2)"
   ]
  },
  {
   "cell_type": "code",
   "execution_count": 28,
   "id": "550cd181-a2d5-4732-a880-ecc0f285f561",
   "metadata": {},
   "outputs": [],
   "source": [
    "line = Line([y, z])"
   ]
  },
  {
   "cell_type": "code",
   "execution_count": 29,
   "id": "62f9e19f-8d43-4a04-b913-99c33065af53",
   "metadata": {},
   "outputs": [],
   "source": [
    "eqn_SE1 = P(cubic_new.subs({b:-(c*c+e*f)/c }) )\n",
    "sing_cubics_SE1 = P(sing_cubics.subs({b:-(c*c+e*f)/c }))"
   ]
  },
  {
   "cell_type": "code",
   "execution_count": 30,
   "id": "e7e007ae-437f-4113-a22f-ce2dd9b0cb0c",
   "metadata": {},
   "outputs": [],
   "source": [
    "eqn_SE2 = P(eqn_SE1.subs({d:(c*c+e*f)/c}) )\n",
    "sing_cubics_SE2 = P(sing_cubics_SE1.subs({d:(c*c+e*f)/c}))"
   ]
  },
  {
   "cell_type": "code",
   "execution_count": 31,
   "id": "bd7d3396-a78f-4166-bec7-59fee547a1c1",
   "metadata": {},
   "outputs": [],
   "source": [
    "SE2 = Cubic(eqn_SE2, line, sing_cubics_SE2.factor())"
   ]
  },
  {
   "cell_type": "code",
   "execution_count": 32,
   "id": "ee97271d-fc37-4bee-aede-237899c00d0b",
   "metadata": {},
   "outputs": [
    {
     "data": {
      "text/plain": [
       "[(0, 0, 0, 1), (0, 0, 1, 0)]"
      ]
     },
     "execution_count": 32,
     "metadata": {},
     "output_type": "execute_result"
    }
   ],
   "source": [
    "SE2.eckardt_points"
   ]
  },
  {
   "cell_type": "code",
   "execution_count": 33,
   "id": "6d820704-e4bb-4409-a4ec-d0aea2fe536c",
   "metadata": {},
   "outputs": [
    {
     "name": "stdout",
     "output_type": "stream",
     "text": [
      "CPU times: user 374 ms, sys: 95 ms, total: 469 ms\n",
      "Wall time: 1.71 s\n"
     ]
    }
   ],
   "source": [
    "%time adm_SE2 = SE2.find_admissible_projectivities()"
   ]
  },
  {
   "cell_type": "code",
   "execution_count": 34,
   "id": "0f5443c1-4687-4a3a-b337-ff463dcf9ea3",
   "metadata": {},
   "outputs": [
    {
     "data": {
      "text/plain": [
       "96"
      ]
     },
     "execution_count": 34,
     "metadata": {},
     "output_type": "execute_result"
    }
   ],
   "source": [
    "len(adm_SE2)"
   ]
  },
  {
   "cell_type": "code",
   "execution_count": 35,
   "id": "c28d0426-30f1-43e2-af54-eadb80017d71",
   "metadata": {},
   "outputs": [],
   "source": [
    "simm_SE2 = SE2.find_simmetries(adm_SE2)"
   ]
  },
  {
   "cell_type": "code",
   "execution_count": 36,
   "id": "35f0ddbe-7464-4856-bab4-cc08ad43f005",
   "metadata": {},
   "outputs": [
    {
     "data": {
      "text/plain": [
       "4"
      ]
     },
     "execution_count": 36,
     "metadata": {},
     "output_type": "execute_result"
    }
   ],
   "source": [
    "len(simm_SE2)"
   ]
  },
  {
   "cell_type": "code",
   "execution_count": 37,
   "id": "5b62d9e8-7b33-48de-8819-f08560e69824",
   "metadata": {},
   "outputs": [
    {
     "data": {
      "text/plain": [
       "(-512) * f * e * (-e + f)^2 * (-c + f)^2 * (-c + e)^2 * (c + f)^2 * (c + e)^2 * c^17 * (-c^2 + e*f)"
      ]
     },
     "execution_count": 37,
     "metadata": {},
     "output_type": "execute_result"
    }
   ],
   "source": [
    "sing_cubics_SE2.factor()"
   ]
  },
  {
   "cell_type": "code",
   "execution_count": 38,
   "id": "c455cd97-d82c-4555-ace0-ea1666d8a597",
   "metadata": {},
   "outputs": [
    {
     "data": {
      "text/plain": [
       "[]"
      ]
     },
     "execution_count": 38,
     "metadata": {},
     "output_type": "execute_result"
    }
   ],
   "source": [
    "conditions = find_conditions_for_subfamilies(SE2, sing_cubics_SE2, adm_SE2, simm_SE2)\n",
    "conditions"
   ]
  },
  {
   "cell_type": "code",
   "execution_count": null,
   "id": "28220caf-8772-46a3-be89-0c45b17c4573",
   "metadata": {},
   "outputs": [],
   "source": []
  }
 ],
 "metadata": {
  "kernelspec": {
   "display_name": "SageMath 9.3",
   "language": "sage",
   "name": "sagemath"
  },
  "language_info": {
   "codemirror_mode": {
    "name": "ipython",
    "version": 3
   },
   "file_extension": ".py",
   "mimetype": "text/x-python",
   "name": "python",
   "nbconvert_exporter": "python",
   "pygments_lexer": "ipython3",
   "version": "3.7.10"
  }
 },
 "nbformat": 4,
 "nbformat_minor": 5
}
