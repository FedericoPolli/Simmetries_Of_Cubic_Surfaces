{
 "cells": [
  {
   "cell_type": "code",
   "execution_count": 1,
   "id": "1b975162-099b-43a8-b367-2421d8667456",
   "metadata": {},
   "outputs": [],
   "source": [
    "load('Imports/Utility.sage', 'Imports/Point.sage', 'Imports/Line.sage', 'Imports/Tritangent_plane.sage', 'Imports/Group.sage', 'Imports/Cubic.sage')\n",
    "import multiprocessing as mp\n",
    "import pickle"
   ]
  },
  {
   "cell_type": "code",
   "execution_count": 2,
   "id": "567b090a-4f48-4a67-ad71-aef463f64fb2",
   "metadata": {},
   "outputs": [],
   "source": [
    "xx = QQ['xx'].0"
   ]
  },
  {
   "cell_type": "code",
   "execution_count": 3,
   "id": "cf44bedd-8766-4203-ac91-fe605aaf97ca",
   "metadata": {},
   "outputs": [],
   "source": [
    "Q.<alpha> = NumberField(xx^2+3)"
   ]
  },
  {
   "cell_type": "code",
   "execution_count": 4,
   "id": "59f4d2f8-2229-4422-9e0a-265e7431bb1d",
   "metadata": {},
   "outputs": [],
   "source": [
    "P.<x,y,z,t,b,c,d,e,f,l,m> = PolynomialRing(Q)"
   ]
  },
  {
   "cell_type": "code",
   "execution_count": 5,
   "id": "14572132-ba25-4770-9235-753a5677e5c5",
   "metadata": {},
   "outputs": [],
   "source": [
    "cubic_new = e*f*(2*x^2*y-2*x*y^2+x*z^2-x*z*t-y*t^2+y*z*t)+b*c*(x-t)*(x*z+y*t)+c*c*(z+t)*(y*t-x*z)+d*c*(y-z)*(x*z+y*t)+(e+f)*c*(x-y)*(y*t-x*z)"
   ]
  },
  {
   "cell_type": "code",
   "execution_count": 6,
   "id": "5d72184f-70cc-43ec-8576-b990cdf03988",
   "metadata": {},
   "outputs": [],
   "source": [
    "sing_cubics = (-1) * (-c + f) * (-c + e) * c * (c + f) * (c + e) * (-e + f)^2 * (-c*d + c*f + e*f) * (-c*d + c*e + e*f) * (-c^2 - c*d + e*f) * (b*c - c*f + e*f) * (b*c - c*e + e*f) * (b*c - c*d + 2*e*f) * (b*c - c^2 + e*f) * (b*c^2 + c^2*d + b*c*f - 2*c^2*f - c*d*f + 2*e*f^2) * (b*c^2 + c^2*d + b*c*e - 2*c^2*e - c*d*e + 2*e^2*f) * (-b*c^3 - 2*b*c^2*d + c^3*d + b*c^2*e + c^2*d*e + b*c^2*f + c^2*d*f + 3*b*c*e*f - 4*c^2*e*f - 3*c*d*e*f + 4*e^2*f^2)"
   ]
  },
  {
   "cell_type": "code",
   "execution_count": 7,
   "id": "550cd181-a2d5-4732-a880-ecc0f285f561",
   "metadata": {},
   "outputs": [],
   "source": [
    "line = Line([y, z])"
   ]
  },
  {
   "cell_type": "code",
   "execution_count": 8,
   "id": "62f9e19f-8d43-4a04-b913-99c33065af53",
   "metadata": {},
   "outputs": [],
   "source": [
    "eqn_SE1 = P(cubic_new.subs({b:-(c*c+e*f)/c }) )\n",
    "sing_cubics_SE1 = P(sing_cubics.subs({b:-(c*c+e*f)/c }))"
   ]
  },
  {
   "cell_type": "code",
   "execution_count": 9,
   "id": "e7e007ae-437f-4113-a22f-ce2dd9b0cb0c",
   "metadata": {},
   "outputs": [],
   "source": [
    "eqn_SE2 = P(eqn_SE1.subs({d:(c*c+e*f)/c}) )\n",
    "sing_cubics_SE2 = P(sing_cubics_SE1.subs({d:(c*c+e*f)/c}))"
   ]
  },
  {
   "cell_type": "code",
   "execution_count": 10,
   "id": "bd7d3396-a78f-4166-bec7-59fee547a1c1",
   "metadata": {},
   "outputs": [],
   "source": [
    "SE2 = Cubic(eqn_SE2, line, sing_cubics_SE2.factor())"
   ]
  },
  {
   "cell_type": "code",
   "execution_count": 11,
   "id": "ee97271d-fc37-4bee-aede-237899c00d0b",
   "metadata": {},
   "outputs": [
    {
     "data": {
      "text/plain": [
       "[(0, 0, 0, 1), (0, 0, 1, 0)]"
      ]
     },
     "execution_count": 11,
     "metadata": {},
     "output_type": "execute_result"
    }
   ],
   "source": [
    "SE2.eckardt_points"
   ]
  },
  {
   "cell_type": "code",
   "execution_count": 12,
   "id": "6d820704-e4bb-4409-a4ec-d0aea2fe536c",
   "metadata": {},
   "outputs": [
    {
     "name": "stdout",
     "output_type": "stream",
     "text": [
      "CPU times: user 1.1 s, sys: 121 ms, total: 1.22 s\n",
      "Wall time: 3.29 s\n"
     ]
    }
   ],
   "source": [
    "%time adm_SE2 = SE2.find_admissible_projectivities()"
   ]
  },
  {
   "cell_type": "code",
   "execution_count": 13,
   "id": "0f5443c1-4687-4a3a-b337-ff463dcf9ea3",
   "metadata": {},
   "outputs": [
    {
     "data": {
      "text/plain": [
       "96"
      ]
     },
     "execution_count": 13,
     "metadata": {},
     "output_type": "execute_result"
    }
   ],
   "source": [
    "len(adm_SE2)"
   ]
  },
  {
   "cell_type": "code",
   "execution_count": 14,
   "id": "c28d0426-30f1-43e2-af54-eadb80017d71",
   "metadata": {},
   "outputs": [],
   "source": [
    "simm_SE2 = SE2.find_simmetries(adm_SE2)"
   ]
  },
  {
   "cell_type": "code",
   "execution_count": 15,
   "id": "35f0ddbe-7464-4856-bab4-cc08ad43f005",
   "metadata": {},
   "outputs": [
    {
     "data": {
      "text/plain": [
       "4"
      ]
     },
     "execution_count": 15,
     "metadata": {},
     "output_type": "execute_result"
    }
   ],
   "source": [
    "len(simm_SE2)"
   ]
  },
  {
   "cell_type": "code",
   "execution_count": 21,
   "id": "b58cf548-f6a3-4d15-804f-a1e2a6bd1dff",
   "metadata": {},
   "outputs": [],
   "source": [
    "def find_conditions_for_subfamilies(cubic, sing_cubics, projectivities, simmetries):\n",
    "    mon = ((x+y+z+t)^3).monomials()\n",
    "    conditions = []\n",
    "    sing_cubics_factored = sing_cubics.factor()\n",
    "    Eck = lcm([el.conditions for el in cubic.tritangent_planes if el.conditions != 0])\n",
    "    g_proj = []\n",
    "    for M in [proj for proj in projectivities if proj not in simmetries]:\n",
    "        sost = change_coord(M)\n",
    "        new_cubic = remove_sing_factors(cubic.eqn.subs(sost), sing_cubics_factored)    \n",
    "        minor = matrix([[new_cubic.coefficient(mn) for mn in mon], [cubic.eqn.coefficient(mn) for mn in mon]]).minors(2)\n",
    "        minor = [remove_sing_factors(el, sing_cubics_factored) for el in minor if el !=0]\n",
    "        prim_deco = cubic.P.ideal(minor).radical().primary_decomposition()\n",
    "        for ideale in prim_deco:\n",
    "            gener = tuple([remove_sing_factors(gen, sing_cubics_factored) for gen in ideale.gens()])\n",
    "            if 1 not in gener:\n",
    "                flag = True\n",
    "                for cond in gener:\n",
    "                    if cond.divides(Eck):\n",
    "                        flag = False\n",
    "                        break\n",
    "                if flag is True:\n",
    "                    conditions.append(gener) \n",
    "    return list(set(conditions))\n",
    "\n",
    "def remove_conditions_for_eckardt_points_and_sing(cubic, sing_cubics, conditions):\n",
    "    vrs = cubic.eqn.variables()[4:]  \n",
    "    Eck = lcm([el.conditions for el in cubic.tritangent_planes if el.conditions != 0])\n",
    "    true_cond = []\n",
    "    for cond in conditions:\n",
    "        sol = solve_linear_system(cond, vrs[0:-1], [vrs[-1]])\n",
    "        sost = {vrs[i]:sol[i] for i in range(len(vrs))}\n",
    "        if sing_cubics.subs(sost) == 0:\n",
    "            continue\n",
    "        if Eck.subs({vrs[i]:sol[i] for i in range(len(vrs))}) != 0:\n",
    "            true_cond.append(cond)\n",
    "    return true_cond"
   ]
  },
  {
   "cell_type": "code",
   "execution_count": 22,
   "id": "c455cd97-d82c-4555-ace0-ea1666d8a597",
   "metadata": {},
   "outputs": [
    {
     "name": "stdout",
     "output_type": "stream",
     "text": [
      "[(e - 3*f, c + (-alpha)*f), (3*e - f, 3*c + (alpha)*f), (e - 3*f, c + (alpha)*f), (3*e - f, 3*c + (-alpha)*f)]\n"
     ]
    },
    {
     "data": {
      "text/plain": [
       "[]"
      ]
     },
     "execution_count": 22,
     "metadata": {},
     "output_type": "execute_result"
    }
   ],
   "source": [
    "conditions = find_conditions_for_subfamilies(SE2, sing_cubics_SE2, adm_SE2, simm_SE2)\n",
    "conditions = remove_conditions_for_eckardt_points_and_sing(SE2, sing_cubics_SE2, conditions)\n",
    "conditions"
   ]
  },
  {
   "cell_type": "code",
   "execution_count": null,
   "id": "c1ac895c-4216-4479-aeff-5eb5d5189aa3",
   "metadata": {},
   "outputs": [],
   "source": []
  }
 ],
 "metadata": {
  "kernelspec": {
   "display_name": "SageMath 9.3",
   "language": "sage",
   "name": "sagemath"
  },
  "language_info": {
   "codemirror_mode": {
    "name": "ipython",
    "version": 3
   },
   "file_extension": ".py",
   "mimetype": "text/x-python",
   "name": "python",
   "nbconvert_exporter": "python",
   "pygments_lexer": "ipython3",
   "version": "3.7.10"
  }
 },
 "nbformat": 4,
 "nbformat_minor": 5
}
