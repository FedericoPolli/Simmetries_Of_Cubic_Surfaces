{
 "cells": [
  {
   "cell_type": "code",
   "execution_count": 104,
   "id": "1b975162-099b-43a8-b367-2421d8667456",
   "metadata": {},
   "outputs": [],
   "source": [
    "load('Imports/Utility.sage', 'Imports/Point.sage', 'Imports/Line.sage', 'Imports/Tritangent_plane.sage', 'Imports/Group.sage', 'Imports/Cubic.sage')\n",
    "import multiprocessing as mp\n",
    "import pickle"
   ]
  },
  {
   "cell_type": "code",
   "execution_count": 105,
   "id": "85474d92-b59b-4aec-84cc-36288b14ffd1",
   "metadata": {},
   "outputs": [],
   "source": [
    "P.<x,y,z,t,b,c,d,e,f,l,m> = PolynomialRing(QQ)"
   ]
  },
  {
   "cell_type": "code",
   "execution_count": 106,
   "id": "14572132-ba25-4770-9235-753a5677e5c5",
   "metadata": {},
   "outputs": [],
   "source": [
    "cubic_new = e*f*(2*x^2*y-2*x*y^2+x*z^2-x*z*t-y*t^2+y*z*t)+b*c*(x-t)*(x*z+y*t)+c*c*(z+t)*(y*t-x*z)+d*c*(y-z)*(x*z+y*t)+(e+f)*c*(x-y)*(y*t-x*z)"
   ]
  },
  {
   "cell_type": "code",
   "execution_count": 107,
   "id": "5d72184f-70cc-43ec-8576-b990cdf03988",
   "metadata": {},
   "outputs": [],
   "source": [
    "sing_cubics = (-1) * (-c + f) * (-c + e) * c * (c + f) * (c + e) * (-e + f)^2 * (-c*d + c*f + e*f) * (-c*d + c*e + e*f) * (-c^2 - c*d + e*f) * (b*c - c*f + e*f) * (b*c - c*e + e*f) * (b*c - c*d + 2*e*f) * (b*c - c^2 + e*f) * (b*c^2 + c^2*d + b*c*f - 2*c^2*f - c*d*f + 2*e*f^2) * (b*c^2 + c^2*d + b*c*e - 2*c^2*e - c*d*e + 2*e^2*f) * (-b*c^3 - 2*b*c^2*d + c^3*d + b*c^2*e + c^2*d*e + b*c^2*f + c^2*d*f + 3*b*c*e*f - 4*c^2*e*f - 3*c*d*e*f + 4*e^2*f^2)"
   ]
  },
  {
   "cell_type": "code",
   "execution_count": 108,
   "id": "550cd181-a2d5-4732-a880-ecc0f285f561",
   "metadata": {},
   "outputs": [],
   "source": [
    "line = Line([y, z])"
   ]
  },
  {
   "cell_type": "code",
   "execution_count": 109,
   "id": "62f9e19f-8d43-4a04-b913-99c33065af53",
   "metadata": {},
   "outputs": [],
   "source": [
    "eqn_SE1 = P(cubic_new.subs({b:-(c*c+e*f)/c }) )\n",
    "sing_cubics_SE1 = P(sing_cubics.subs({b:-(c*c+e*f)/c }))"
   ]
  },
  {
   "cell_type": "code",
   "execution_count": 110,
   "id": "e7e007ae-437f-4113-a22f-ce2dd9b0cb0c",
   "metadata": {},
   "outputs": [],
   "source": [
    "eqn_SE2 = P(eqn_SE1.subs({d:(c*c+e*f)/c}) )\n",
    "sing_cubics_SE2 = P(sing_cubics_SE1.subs({d:(c*c+e*f)/c}))"
   ]
  },
  {
   "cell_type": "code",
   "execution_count": 111,
   "id": "bd7d3396-a78f-4166-bec7-59fee547a1c1",
   "metadata": {},
   "outputs": [],
   "source": [
    "SE2 = Cubic(eqn_SE2, line, sing_cubics_SE2.factor())"
   ]
  },
  {
   "cell_type": "code",
   "execution_count": 112,
   "id": "ee97271d-fc37-4bee-aede-237899c00d0b",
   "metadata": {},
   "outputs": [
    {
     "data": {
      "text/plain": [
       "[(0, 0, 0, 1), (0, 0, 1, 0)]"
      ]
     },
     "execution_count": 112,
     "metadata": {},
     "output_type": "execute_result"
    }
   ],
   "source": [
    "SE2.eckardt_points"
   ]
  },
  {
   "cell_type": "code",
   "execution_count": 113,
   "id": "6d820704-e4bb-4409-a4ec-d0aea2fe536c",
   "metadata": {},
   "outputs": [
    {
     "name": "stdout",
     "output_type": "stream",
     "text": [
      "CPU times: user 491 ms, sys: 107 ms, total: 598 ms\n",
      "Wall time: 1.69 s\n"
     ]
    }
   ],
   "source": [
    "%time adm_SE2 = SE2.find_admissible_projectivities()"
   ]
  },
  {
   "cell_type": "code",
   "execution_count": 114,
   "id": "0f5443c1-4687-4a3a-b337-ff463dcf9ea3",
   "metadata": {},
   "outputs": [
    {
     "data": {
      "text/plain": [
       "96"
      ]
     },
     "execution_count": 114,
     "metadata": {},
     "output_type": "execute_result"
    }
   ],
   "source": [
    "len(adm_SE2)"
   ]
  },
  {
   "cell_type": "code",
   "execution_count": 115,
   "id": "c28d0426-30f1-43e2-af54-eadb80017d71",
   "metadata": {},
   "outputs": [],
   "source": [
    "simm_SE2 = SE2.find_simmetries(adm_SE2)"
   ]
  },
  {
   "cell_type": "code",
   "execution_count": 116,
   "id": "35f0ddbe-7464-4856-bab4-cc08ad43f005",
   "metadata": {},
   "outputs": [
    {
     "data": {
      "text/plain": [
       "4"
      ]
     },
     "execution_count": 116,
     "metadata": {},
     "output_type": "execute_result"
    }
   ],
   "source": [
    "len(simm_SE2)"
   ]
  },
  {
   "cell_type": "code",
   "execution_count": 117,
   "id": "cbe41a8e-b167-47ca-8785-7f80e72c860e",
   "metadata": {},
   "outputs": [],
   "source": [
    "G_SE2 = Group(simm_SE2)"
   ]
  },
  {
   "cell_type": "code",
   "execution_count": 118,
   "id": "8659b1b6-eee0-4e54-bda4-c38dcd497e18",
   "metadata": {},
   "outputs": [
    {
     "data": {
      "text/plain": [
       "True"
      ]
     },
     "execution_count": 118,
     "metadata": {},
     "output_type": "execute_result"
    }
   ],
   "source": [
    "G_SE2.is_group()"
   ]
  },
  {
   "cell_type": "code",
   "execution_count": 119,
   "id": "fbe364e2-276c-4354-bb12-0d4928280e34",
   "metadata": {},
   "outputs": [
    {
     "data": {
      "text/plain": [
       "4"
      ]
     },
     "execution_count": 119,
     "metadata": {},
     "output_type": "execute_result"
    }
   ],
   "source": [
    "G_SE2.get_order()"
   ]
  },
  {
   "cell_type": "code",
   "execution_count": 120,
   "id": "a8485a40-942b-49dc-a7af-8de7b9b35085",
   "metadata": {},
   "outputs": [
    {
     "data": {
      "text/plain": [
       "True"
      ]
     },
     "execution_count": 120,
     "metadata": {},
     "output_type": "execute_result"
    }
   ],
   "source": [
    "G_SE2.is_abelian()"
   ]
  },
  {
   "cell_type": "code",
   "execution_count": 121,
   "id": "c57d13b2-2947-4c0e-aad2-b1596278eb6e",
   "metadata": {},
   "outputs": [
    {
     "data": {
      "text/plain": [
       "[1, 2, 4]"
      ]
     },
     "execution_count": 121,
     "metadata": {},
     "output_type": "execute_result"
    }
   ],
   "source": [
    "G_SE2.get_divisors_of_order()"
   ]
  },
  {
   "cell_type": "code",
   "execution_count": 122,
   "id": "864116af-3ea3-482f-9815-a8e3811f29a4",
   "metadata": {},
   "outputs": [
    {
     "data": {
      "text/plain": [
       "[1, 2, 2, 2]"
      ]
     },
     "execution_count": 122,
     "metadata": {},
     "output_type": "execute_result"
    }
   ],
   "source": [
    "G_SE2.get_order_of_elements()"
   ]
  },
  {
   "cell_type": "code",
   "execution_count": 123,
   "id": "92a78340-bd65-4d5c-a2fd-8ad060569cff",
   "metadata": {},
   "outputs": [
    {
     "data": {
      "text/plain": [
       "[[(0, 0, 0, 1), (0, 0, 0, 1), (0, 0, 0, 1), (0, 0, 0, 1)],\n",
       " [(0, 0, 1, 0), (0, 0, 1, 0), (0, 0, 1, 0), (0, 0, 1, 0)]]"
      ]
     },
     "execution_count": 123,
     "metadata": {},
     "output_type": "execute_result"
    }
   ],
   "source": [
    "[G_SE2.apply_to(p) for p in SE2.eckardt_points]"
   ]
  },
  {
   "cell_type": "code",
   "execution_count": 124,
   "id": "0f3a24b4-e0ad-4243-97f7-b3b66fbcc392",
   "metadata": {},
   "outputs": [
    {
     "data": {
      "text/plain": [
       "(-512) * f * e * (-e + f)^2 * (-c + f)^2 * (-c + e)^2 * (c + f)^2 * (c + e)^2 * c^17 * (-c^2 + e*f)"
      ]
     },
     "execution_count": 124,
     "metadata": {},
     "output_type": "execute_result"
    }
   ],
   "source": [
    "sing_cubics_SE2.factor()"
   ]
  },
  {
   "cell_type": "code",
   "execution_count": 125,
   "id": "f9c44319-f67b-4d43-8e45-656160c7c327",
   "metadata": {},
   "outputs": [
    {
     "data": {
      "text/plain": [
       "[(e - 3*f, c^2 + 3*f^2), (3*e - f, 3*c^2 + f^2)]"
      ]
     },
     "execution_count": 125,
     "metadata": {},
     "output_type": "execute_result"
    }
   ],
   "source": [
    "find_conditions_for_subfamilies(SE2, sing_cubics_SE2, adm_SE2, simm_SE2)"
   ]
  },
  {
   "cell_type": "code",
   "execution_count": 196,
   "id": "a807b31e-3690-49cc-bbab-cba82dc2bec9",
   "metadata": {},
   "outputs": [],
   "source": [
    "eqn = (c^2*SE2.eqn.subs({e:1/3*f})).subs({c^2 : -1/3*f^2})"
   ]
  },
  {
   "cell_type": "code",
   "execution_count": 197,
   "id": "0afb248d-a644-4188-80f2-9a87ca9fcf8c",
   "metadata": {},
   "outputs": [],
   "source": [
    "nc = Cubic(remove_sing_factors(eqn, sing_cubics_SE2.factor()), line, sing_cubics_SE2.factor())"
   ]
  },
  {
   "cell_type": "code",
   "execution_count": 198,
   "id": "60e23aa6-9bfa-48ed-8f2c-02838bea861f",
   "metadata": {},
   "outputs": [
    {
     "data": {
      "text/plain": [
       "[\n",
       "[1 0 0 0]\n",
       "[0 1 0 0]\n",
       "[0 0 1 0]\n",
       "[0 0 0 1],\n",
       "\n",
       "[        -2*f^2              0              0 -f^2 - 4*f - 3]\n",
       "[             0         -2*f^2              0  f^2 + 4*f + 3]\n",
       "[             0              0         -2*f^2              0]\n",
       "[             0              0              0          2*f^2],\n",
       "\n",
       "[         2*f^2              0 -f^2 + 4*f - 3              0]\n",
       "[             0          2*f^2  f^2 - 4*f + 3              0]\n",
       "[             0              0         -2*f^2              0]\n",
       "[             0              0              0          2*f^2],\n",
       "\n",
       "[         2*f^2              0 -f^2 + 4*f - 3  f^2 + 4*f + 3]\n",
       "[             0          2*f^2  f^2 - 4*f + 3 -f^2 - 4*f - 3]\n",
       "[             0              0         -2*f^2              0]\n",
       "[             0              0              0         -2*f^2]\n",
       "]"
      ]
     },
     "execution_count": 198,
     "metadata": {},
     "output_type": "execute_result"
    }
   ],
   "source": [
    "nc.find_simmetries(nc.find_admissible_projectivities())"
   ]
  },
  {
   "cell_type": "code",
   "execution_count": 202,
   "id": "12b65191-24fd-423a-9bde-b45c1cd30ae7",
   "metadata": {},
   "outputs": [
    {
     "data": {
      "text/html": [
       "<html><script type=\"math/tex; mode=display\">\\newcommand{\\Bold}[1]{\\mathbf{#1}}\\left[\\left(\\begin{array}{rrrr}\n",
       "1 & 0 & 0 & 0 \\\\\n",
       "0 & 1 & 0 & 0 \\\\\n",
       "0 & 0 & 1 & 0 \\\\\n",
       "0 & 0 & 0 & 1\n",
       "\\end{array}\\right), \\left(\\begin{array}{rrrr}\n",
       "-2 c^{2} & 0 & 0 & -c^{2} + c e + c f - e f \\\\\n",
       "0 & -2 c^{2} & 0 & c^{2} - c e - c f + e f \\\\\n",
       "0 & 0 & -2 c^{2} & 0 \\\\\n",
       "0 & 0 & 0 & 2 c^{2}\n",
       "\\end{array}\\right), \\left(\\begin{array}{rrrr}\n",
       "2 c^{2} & 0 & -c^{2} - c e - c f - e f & 0 \\\\\n",
       "0 & 2 c^{2} & c^{2} + c e + c f + e f & 0 \\\\\n",
       "0 & 0 & -2 c^{2} & 0 \\\\\n",
       "0 & 0 & 0 & 2 c^{2}\n",
       "\\end{array}\\right), \\left(\\begin{array}{rrrr}\n",
       "-2 c^{2} & 0 & c^{2} + c e + c f + e f & -c^{2} + c e + c f - e f \\\\\n",
       "0 & -2 c^{2} & -c^{2} - c e - c f - e f & c^{2} - c e - c f + e f \\\\\n",
       "0 & 0 & 2 c^{2} & 0 \\\\\n",
       "0 & 0 & 0 & 2 c^{2}\n",
       "\\end{array}\\right)\\right]</script></html>"
      ],
      "text/latex": [
       "$$\\newcommand{\\Bold}[1]{\\mathbf{#1}}\\left[\\left(\\begin{array}{rrrr}\n",
       "1 & 0 & 0 & 0 \\\\\n",
       "0 & 1 & 0 & 0 \\\\\n",
       "0 & 0 & 1 & 0 \\\\\n",
       "0 & 0 & 0 & 1\n",
       "\\end{array}\\right), \\left(\\begin{array}{rrrr}\n",
       "-2 c^{2} & 0 & 0 & -c^{2} + c e + c f - e f \\\\\n",
       "0 & -2 c^{2} & 0 & c^{2} - c e - c f + e f \\\\\n",
       "0 & 0 & -2 c^{2} & 0 \\\\\n",
       "0 & 0 & 0 & 2 c^{2}\n",
       "\\end{array}\\right), \\left(\\begin{array}{rrrr}\n",
       "2 c^{2} & 0 & -c^{2} - c e - c f - e f & 0 \\\\\n",
       "0 & 2 c^{2} & c^{2} + c e + c f + e f & 0 \\\\\n",
       "0 & 0 & -2 c^{2} & 0 \\\\\n",
       "0 & 0 & 0 & 2 c^{2}\n",
       "\\end{array}\\right), \\left(\\begin{array}{rrrr}\n",
       "-2 c^{2} & 0 & c^{2} + c e + c f + e f & -c^{2} + c e + c f - e f \\\\\n",
       "0 & -2 c^{2} & -c^{2} - c e - c f - e f & c^{2} - c e - c f + e f \\\\\n",
       "0 & 0 & 2 c^{2} & 0 \\\\\n",
       "0 & 0 & 0 & 2 c^{2}\n",
       "\\end{array}\\right)\\right]$$"
      ],
      "text/plain": [
       "[\n",
       "[1 0 0 0]  [                -2*c^2                      0                      0 -c^2 + c*e + c*f - e*f]  [                 2*c^2                      0 -c^2 - c*e - c*f - e*f                      0]  [                -2*c^2                      0  c^2 + c*e + c*f + e*f -c^2 + c*e + c*f - e*f]\n",
       "[0 1 0 0]  [                     0                 -2*c^2                      0  c^2 - c*e - c*f + e*f]  [                     0                  2*c^2  c^2 + c*e + c*f + e*f                      0]  [                     0                 -2*c^2 -c^2 - c*e - c*f - e*f  c^2 - c*e - c*f + e*f]\n",
       "[0 0 1 0]  [                     0                      0                 -2*c^2                      0]  [                     0                      0                 -2*c^2                      0]  [                     0                      0                  2*c^2                      0]\n",
       "[0 0 0 1], [                     0                      0                      0                  2*c^2], [                     0                      0                      0                  2*c^2], [                     0                      0                      0                  2*c^2]\n",
       "]"
      ]
     },
     "metadata": {},
     "output_type": "display_data"
    }
   ],
   "source": [
    "show(simm_SE2)"
   ]
  },
  {
   "cell_type": "code",
   "execution_count": null,
   "id": "92374848-c7d0-40b1-a616-f0e7cd275e6a",
   "metadata": {},
   "outputs": [],
   "source": []
  }
 ],
 "metadata": {
  "kernelspec": {
   "display_name": "SageMath 9.3",
   "language": "sage",
   "name": "sagemath"
  },
  "language_info": {
   "codemirror_mode": {
    "name": "ipython",
    "version": 3
   },
   "file_extension": ".py",
   "mimetype": "text/x-python",
   "name": "python",
   "nbconvert_exporter": "python",
   "pygments_lexer": "ipython3",
   "version": "3.7.10"
  }
 },
 "nbformat": 4,
 "nbformat_minor": 5
}
