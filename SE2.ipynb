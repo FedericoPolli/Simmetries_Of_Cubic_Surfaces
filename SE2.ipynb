{
 "cells": [
  {
   "cell_type": "code",
   "execution_count": 1,
   "id": "1b975162-099b-43a8-b367-2421d8667456",
   "metadata": {},
   "outputs": [],
   "source": [
    "load('Imports/Utility.sage', 'Imports/Point.sage', 'Imports/Line.sage', 'Imports/TritangentPlane.sage', 'Imports/Group.sage', 'Imports/Cubic.sage')\n",
    "import multiprocessing as mp\n",
    "import pickle"
   ]
  },
  {
   "cell_type": "code",
   "execution_count": 2,
   "id": "5580758b-8364-48d6-8714-e4f535edae13",
   "metadata": {},
   "outputs": [],
   "source": [
    "P.<x,y,z,t,b,c,d,e,f,l,m> = PolynomialRing(QQ)\n",
    "cubic_new = e*f*(2*x^2*y-2*x*y^2+x*z^2-x*z*t-y*t^2+y*z*t)+b*c*(x-t)*(x*z+y*t)+c*c*(z+t)*(y*t-x*z)+d*c*(y-z)*(x*z+y*t)+(e+f)*c*(x-y)*(y*t-x*z)\n",
    "sing_cubics = (-1) * (-c + f) * (-c + e) * c * (c + f) * (c + e) * (-e + f)^2 * (-c*d + c*f + e*f) * (-c*d + c*e + e*f) * (-c^2 - c*d + e*f) * (b*c - c*f + e*f) * (b*c - c*e + e*f) * (b*c - c*d + 2*e*f) * (b*c - c^2 + e*f) * (b*c^2 + c^2*d + b*c*f - 2*c^2*f - c*d*f + 2*e*f^2) * (b*c^2 + c^2*d + b*c*e - 2*c^2*e - c*d*e + 2*e^2*f) * (-b*c^3 - 2*b*c^2*d + c^3*d + b*c^2*e + c^2*d*e + b*c^2*f + c^2*d*f + 3*b*c*e*f - 4*c^2*e*f - 3*c*d*e*f + 4*e^2*f^2)"
   ]
  },
  {
   "cell_type": "code",
   "execution_count": null,
   "id": "45d1ff1e-5160-4967-b58f-5e4905de9eb5",
   "metadata": {},
   "outputs": [],
   "source": [
    "# Define cubic SE2, find and classify the lines and compute the 45 tritangent planes"
   ]
  },
  {
   "cell_type": "code",
   "execution_count": 3,
   "id": "4ded332e-df65-4afc-984d-c3519d8ade49",
   "metadata": {},
   "outputs": [],
   "source": [
    "line = Line([y, z])\n",
    "general_cubic = Cubic(cubic_new, line, sing_cubics)\n",
    "SE2 = general_cubic.subs({b:-(c*c+e*f)/c, d:(c*c+e*f)/c})"
   ]
  },
  {
   "cell_type": "code",
   "execution_count": null,
   "id": "647d038a-568a-4efb-b20a-ded25aa2d446",
   "metadata": {},
   "outputs": [],
   "source": [
    "# Find simmetries"
   ]
  },
  {
   "cell_type": "code",
   "execution_count": 4,
   "id": "2f1f68ce-2256-4c21-aa9f-e45cd44f5a8b",
   "metadata": {},
   "outputs": [
    {
     "name": "stdout",
     "output_type": "stream",
     "text": [
      "CPU times: user 412 ms, sys: 126 ms, total: 538 ms\n",
      "Wall time: 1.73 s\n"
     ]
    },
    {
     "data": {
      "text/plain": [
       "96"
      ]
     },
     "execution_count": 4,
     "metadata": {},
     "output_type": "execute_result"
    }
   ],
   "source": [
    "%time adm_SE2 = SE2.find_admissible_projectivities()\n",
    "len(adm_SE2)"
   ]
  },
  {
   "cell_type": "code",
   "execution_count": 5,
   "id": "611df7ea-e7a6-4983-9b5e-bba9922d9c61",
   "metadata": {},
   "outputs": [
    {
     "name": "stdout",
     "output_type": "stream",
     "text": [
      "CPU times: user 228 ms, sys: 60.3 ms, total: 289 ms\n",
      "Wall time: 349 ms\n"
     ]
    },
    {
     "data": {
      "text/plain": [
       "4"
      ]
     },
     "execution_count": 5,
     "metadata": {},
     "output_type": "execute_result"
    }
   ],
   "source": [
    "%time simm_SE2 = SE2.find_simmetries(adm_SE2)\n",
    "len(simm_SE2)"
   ]
  },
  {
   "cell_type": "code",
   "execution_count": null,
   "id": "d416a7b2-be93-4b4d-9c64-170e5bd59291",
   "metadata": {},
   "outputs": [],
   "source": [
    "# Study how the simmetries permute the Eckardt points"
   ]
  },
  {
   "cell_type": "code",
   "execution_count": 6,
   "id": "fa805a95-c30e-4bf3-ab1e-834a51a8dded",
   "metadata": {},
   "outputs": [
    {
     "data": {
      "text/plain": [
       "(1, '1')"
      ]
     },
     "execution_count": 6,
     "metadata": {},
     "output_type": "execute_result"
    }
   ],
   "source": [
    "Eck_points_perms = []\n",
    "for proj in simm_SE2:\n",
    "    Eck_points_perms.append(Permutation(SE2.apply_proj_to_eck(proj)).to_permutation_group_element())\n",
    "Eck_points_perms_group = PermutationGroup(Eck_points_perms)\n",
    "Eck_points_perms_group.order(), Eck_points_perms_group.structure_description()"
   ]
  },
  {
   "cell_type": "code",
   "execution_count": null,
   "id": "c87a2231-a697-4596-8378-25abe1eb57d4",
   "metadata": {},
   "outputs": [],
   "source": [
    "# Study how the simmetries permute the 27 lines"
   ]
  },
  {
   "cell_type": "code",
   "execution_count": 7,
   "id": "5e8e06b8-5f43-4c7b-b089-2ab809a56c40",
   "metadata": {},
   "outputs": [
    {
     "data": {
      "text/plain": [
       "(4, 'C2 x C2')"
      ]
     },
     "execution_count": 7,
     "metadata": {},
     "output_type": "execute_result"
    }
   ],
   "source": [
    "lines_perms = []\n",
    "for simm in simm_SE2:\n",
    "    lines_perms.append(Permutation(SE2.apply_proj_to_lines(simm)).to_permutation_group_element())\n",
    "lines_perms_group = PermutationGroup(lines_perms)\n",
    "lines_perms_group.order(), lines_perms_group.structure_description()"
   ]
  },
  {
   "cell_type": "code",
   "execution_count": null,
   "id": "284a66fe-8f49-41e9-a685-f89ef7014d2b",
   "metadata": {},
   "outputs": [],
   "source": [
    "# Find possible conditions to obtain a subfamily with a larger simmetry group"
   ]
  },
  {
   "cell_type": "code",
   "execution_count": 9,
   "id": "9e9c6342-61ac-4eb0-9957-bd314386277e",
   "metadata": {},
   "outputs": [
    {
     "name": "stdout",
     "output_type": "stream",
     "text": [
      "CPU times: user 4.8 s, sys: 54.6 ms, total: 4.85 s\n",
      "Wall time: 5.01 s\n"
     ]
    },
    {
     "data": {
      "text/plain": [
       "[]"
      ]
     },
     "execution_count": 9,
     "metadata": {},
     "output_type": "execute_result"
    }
   ],
   "source": [
    "%time SE2.find_conditions_for_subfamilies(adm_SE2, simm_SE2)"
   ]
  },
  {
   "cell_type": "code",
   "execution_count": null,
   "id": "b53395d5-dbc2-4e2a-91ac-0f3daa702fbf",
   "metadata": {},
   "outputs": [],
   "source": []
  }
 ],
 "metadata": {
  "kernelspec": {
   "display_name": "SageMath 9.4",
   "language": "sage",
   "name": "sagemath"
  },
  "language_info": {
   "codemirror_mode": {
    "name": "ipython",
    "version": 3
   },
   "file_extension": ".py",
   "mimetype": "text/x-python",
   "name": "python",
   "nbconvert_exporter": "python",
   "pygments_lexer": "ipython3",
   "version": "3.7.12"
  }
 },
 "nbformat": 4,
 "nbformat_minor": 5
}
