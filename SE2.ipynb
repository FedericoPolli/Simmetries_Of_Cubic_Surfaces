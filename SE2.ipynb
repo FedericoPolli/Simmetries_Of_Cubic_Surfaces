{
 "cells": [
  {
   "cell_type": "code",
   "execution_count": 17,
   "id": "1b975162-099b-43a8-b367-2421d8667456",
   "metadata": {},
   "outputs": [],
   "source": [
    "load('Imports/Utility.sage', 'Imports/Point.sage', 'Imports/Line.sage', 'Imports/TritangentPlane.sage', 'Imports/Group.sage', 'Imports/Cubic.sage')\n",
    "import multiprocessing as mp\n",
    "import pickle"
   ]
  },
  {
   "cell_type": "code",
   "execution_count": 18,
   "id": "85474d92-b59b-4aec-84cc-36288b14ffd1",
   "metadata": {},
   "outputs": [],
   "source": [
    "P.<x,y,z,t,b,c,d,e,f,l,m> = PolynomialRing(QQ)"
   ]
  },
  {
   "cell_type": "code",
   "execution_count": 19,
   "id": "14572132-ba25-4770-9235-753a5677e5c5",
   "metadata": {},
   "outputs": [],
   "source": [
    "cubic_new = e*f*(2*x^2*y-2*x*y^2+x*z^2-x*z*t-y*t^2+y*z*t)+b*c*(x-t)*(x*z+y*t)+c*c*(z+t)*(y*t-x*z)+d*c*(y-z)*(x*z+y*t)+(e+f)*c*(x-y)*(y*t-x*z)"
   ]
  },
  {
   "cell_type": "code",
   "execution_count": 20,
   "id": "5d72184f-70cc-43ec-8576-b990cdf03988",
   "metadata": {},
   "outputs": [],
   "source": [
    "sing_cubics = (-1) * (-c + f) * (-c + e) * c * (c + f) * (c + e) * (-e + f)^2 * (-c*d + c*f + e*f) * (-c*d + c*e + e*f) * (-c^2 - c*d + e*f) * (b*c - c*f + e*f) * (b*c - c*e + e*f) * (b*c - c*d + 2*e*f) * (b*c - c^2 + e*f) * (b*c^2 + c^2*d + b*c*f - 2*c^2*f - c*d*f + 2*e*f^2) * (b*c^2 + c^2*d + b*c*e - 2*c^2*e - c*d*e + 2*e^2*f) * (-b*c^3 - 2*b*c^2*d + c^3*d + b*c^2*e + c^2*d*e + b*c^2*f + c^2*d*f + 3*b*c*e*f - 4*c^2*e*f - 3*c*d*e*f + 4*e^2*f^2)"
   ]
  },
  {
   "cell_type": "code",
   "execution_count": 21,
   "id": "550cd181-a2d5-4732-a880-ecc0f285f561",
   "metadata": {},
   "outputs": [],
   "source": [
    "line = Line([y, z])"
   ]
  },
  {
   "cell_type": "code",
   "execution_count": 22,
   "id": "fdcd90e7-7420-4e73-bbf2-d4ce6ae0e2a0",
   "metadata": {},
   "outputs": [],
   "source": [
    "general_cubic = Cubic(cubic_new, line, sing_cubics)"
   ]
  },
  {
   "cell_type": "code",
   "execution_count": 23,
   "id": "a33813e4-1614-446a-b0a3-9f5126e66bcc",
   "metadata": {},
   "outputs": [],
   "source": [
    "SE2 = general_cubic.subs({b:-(c*c+e*f)/c, d:(c*c+e*f)/c})"
   ]
  },
  {
   "cell_type": "code",
   "execution_count": 24,
   "id": "6d820704-e4bb-4409-a4ec-d0aea2fe536c",
   "metadata": {},
   "outputs": [
    {
     "name": "stdout",
     "output_type": "stream",
     "text": [
      "CPU times: user 1.57 s, sys: 241 ms, total: 1.81 s\n",
      "Wall time: 2.06 s\n"
     ]
    }
   ],
   "source": [
    "%time adm_SE2 = SE2.find_admissible_projectivities()"
   ]
  },
  {
   "cell_type": "code",
   "execution_count": 25,
   "id": "0f5443c1-4687-4a3a-b337-ff463dcf9ea3",
   "metadata": {},
   "outputs": [
    {
     "data": {
      "text/plain": [
       "96"
      ]
     },
     "execution_count": 25,
     "metadata": {},
     "output_type": "execute_result"
    }
   ],
   "source": [
    "len(adm_SE2)"
   ]
  },
  {
   "cell_type": "code",
   "execution_count": 26,
   "id": "c28d0426-30f1-43e2-af54-eadb80017d71",
   "metadata": {},
   "outputs": [
    {
     "name": "stdout",
     "output_type": "stream",
     "text": [
      "CPU times: user 1.46 s, sys: 141 ms, total: 1.6 s\n",
      "Wall time: 1.78 s\n"
     ]
    }
   ],
   "source": [
    "%time simm_SE2 = SE2.find_simmetries(adm_SE2)"
   ]
  },
  {
   "cell_type": "code",
   "execution_count": 27,
   "id": "35f0ddbe-7464-4856-bab4-cc08ad43f005",
   "metadata": {},
   "outputs": [
    {
     "data": {
      "text/plain": [
       "4"
      ]
     },
     "execution_count": 27,
     "metadata": {},
     "output_type": "execute_result"
    }
   ],
   "source": [
    "len(simm_SE2)"
   ]
  },
  {
   "cell_type": "code",
   "execution_count": 28,
   "id": "cbe41a8e-b167-47ca-8785-7f80e72c860e",
   "metadata": {},
   "outputs": [],
   "source": [
    "G_SE2 = Group(simm_SE2)"
   ]
  },
  {
   "cell_type": "code",
   "execution_count": 29,
   "id": "8659b1b6-eee0-4e54-bda4-c38dcd497e18",
   "metadata": {},
   "outputs": [
    {
     "data": {
      "text/plain": [
       "True"
      ]
     },
     "execution_count": 29,
     "metadata": {},
     "output_type": "execute_result"
    }
   ],
   "source": [
    "G_SE2.is_group()"
   ]
  },
  {
   "cell_type": "code",
   "execution_count": 31,
   "id": "a8485a40-942b-49dc-a7af-8de7b9b35085",
   "metadata": {},
   "outputs": [
    {
     "data": {
      "text/plain": [
       "True"
      ]
     },
     "execution_count": 31,
     "metadata": {},
     "output_type": "execute_result"
    }
   ],
   "source": [
    "G_SE2.is_abelian()"
   ]
  },
  {
   "cell_type": "code",
   "execution_count": 33,
   "id": "864116af-3ea3-482f-9815-a8e3811f29a4",
   "metadata": {},
   "outputs": [
    {
     "data": {
      "text/plain": [
       "[1, 2, 2, 2]"
      ]
     },
     "execution_count": 33,
     "metadata": {},
     "output_type": "execute_result"
    }
   ],
   "source": [
    "G_SE2.get_order_of_elements()"
   ]
  },
  {
   "cell_type": "code",
   "execution_count": 35,
   "id": "9e9c6342-61ac-4eb0-9957-bd314386277e",
   "metadata": {},
   "outputs": [
    {
     "data": {
      "text/plain": [
       "[]"
      ]
     },
     "execution_count": 35,
     "metadata": {},
     "output_type": "execute_result"
    }
   ],
   "source": [
    "SE2.find_conditions_for_subfamilies(adm_SE2, simm_SE2)"
   ]
  },
  {
   "cell_type": "code",
   "execution_count": null,
   "id": "2197c21e-94e2-469c-91da-ff9c6cfb001d",
   "metadata": {},
   "outputs": [],
   "source": []
  }
 ],
 "metadata": {
  "kernelspec": {
   "display_name": "SageMath 9.4",
   "language": "sage",
   "name": "sagemath"
  },
  "language_info": {
   "codemirror_mode": {
    "name": "ipython",
    "version": 3
   },
   "file_extension": ".py",
   "mimetype": "text/x-python",
   "name": "python",
   "nbconvert_exporter": "python",
   "pygments_lexer": "ipython3",
   "version": "3.7.12"
  }
 },
 "nbformat": 4,
 "nbformat_minor": 5
}
