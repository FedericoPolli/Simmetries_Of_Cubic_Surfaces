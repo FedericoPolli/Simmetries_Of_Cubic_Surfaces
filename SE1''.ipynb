{
 "cells": [
  {
   "cell_type": "code",
   "execution_count": 1,
   "id": "989d0818-17f5-4597-a595-c4a9a0a00c6f",
   "metadata": {},
   "outputs": [],
   "source": [
    "load('Imports/Utility.sage', 'Imports/Point.sage', 'Imports/Line.sage', 'Imports/TritangentPlane.sage', 'Imports/Group.sage', 'Imports/Cubic.sage')\n",
    "import multiprocessing as mp\n",
    "import pickle"
   ]
  },
  {
   "cell_type": "code",
   "execution_count": 13,
   "id": "8ae52a4a-3c52-4d7c-9603-6df9863710c0",
   "metadata": {},
   "outputs": [
    {
     "data": {
      "text/plain": [
       "-6*I"
      ]
     },
     "execution_count": 13,
     "metadata": {},
     "output_type": "execute_result"
    }
   ],
   "source": [
    "((sqrt(2)-I)^3+(sqrt(2)-I)).expand()"
   ]
  },
  {
   "cell_type": "code",
   "execution_count": 2,
   "id": "cdf83895-9bd2-4aa3-95df-6bde8290a4b5",
   "metadata": {},
   "outputs": [
    {
     "data": {
      "text/plain": [
       "xx^4 - 2*xx^2 + 9"
      ]
     },
     "execution_count": 2,
     "metadata": {},
     "output_type": "execute_result"
    }
   ],
   "source": [
    "(sqrt(2)-I).minpoly('xx')"
   ]
  },
  {
   "cell_type": "code",
   "execution_count": 3,
   "id": "02c70183-3c3c-46a2-916e-03ae2281404a",
   "metadata": {},
   "outputs": [],
   "source": [
    "var('xx')\n",
    "Q.<rad2_minus_i> = NumberField(xx^4 - 2*xx^2 + 9)"
   ]
  },
  {
   "cell_type": "code",
   "execution_count": 14,
   "id": "e22f0746-a7e9-4f45-8862-2559287f90ed",
   "metadata": {},
   "outputs": [],
   "source": [
    "i = ((rad2_minus_i)^3+rad2_minus_i)/(-6)"
   ]
  },
  {
   "cell_type": "code",
   "execution_count": 15,
   "id": "b2735c1e-1e6e-408a-b87f-655f26dd2149",
   "metadata": {},
   "outputs": [],
   "source": [
    "P.<x,y,z,t,b,c,d,e,f,l,m> = PolynomialRing(Q)\n",
    "cubic_new = e*f*(2*x^2*y-2*x*y^2+x*z^2-x*z*t-y*t^2+y*z*t)+b*c*(x-t)*(x*z+y*t)+c*c*(z+t)*(y*t-x*z)+d*c*(y-z)*(x*z+y*t)+(e+f)*c*(x-y)*(y*t-x*z)\n",
    "sing_cubics = (-1) * (-c + f) * (-c + e) * c * (c + f) * (c + e) * (-e + f)^2 * (-c*d + c*f + e*f) * (-c*d + c*e + e*f) * (-c^2 - c*d + e*f) * (b*c - c*f + e*f) * (b*c - c*e + e*f) * (b*c - c*d + 2*e*f) * (b*c - c^2 + e*f) * (b*c^2 + c^2*d + b*c*f - 2*c^2*f - c*d*f + 2*e*f^2) * (b*c^2 + c^2*d + b*c*e - 2*c^2*e - c*d*e + 2*e^2*f) * (-b*c^3 - 2*b*c^2*d + c^3*d + b*c^2*e + c^2*d*e + b*c^2*f + c^2*d*f + 3*b*c*e*f - 4*c^2*e*f - 3*c*d*e*f + 4*e^2*f^2)\n",
    "line = Line([y, z])\n",
    "general_cubic = Cubic(cubic_new, line, sing_cubics)\n",
    "SE1 = general_cubic.subs({b:-(c*c+e*f)/c})"
   ]
  },
  {
   "cell_type": "code",
   "execution_count": 16,
   "id": "29d92210-a76d-4b24-aa39-64ba7e9e8169",
   "metadata": {},
   "outputs": [],
   "source": [
    "e_sost = {e:c*((1 - 2*i)*c + f)/((1 + 2*i)*c + f)}\n",
    "d_sost = {d:((1 + 2*i)*c^2 - (2 - 2*i)*c*f + f^2)*(c + f)/(((1 + 2*i)*c + f)*((-1 + 2*i)*c + f))}"
   ]
  },
  {
   "cell_type": "code",
   "execution_count": 17,
   "id": "f235f99e-3742-4720-be59-96b2aae5434b",
   "metadata": {},
   "outputs": [],
   "source": [
    "SE1_1 = SE1.subs(e_sost).subs(d_sost)"
   ]
  },
  {
   "cell_type": "code",
   "execution_count": 18,
   "id": "e21109c2-0efd-4789-b0e4-472507e4ac70",
   "metadata": {},
   "outputs": [
    {
     "name": "stdout",
     "output_type": "stream",
     "text": [
      "CPU times: user 6.73 s, sys: 283 ms, total: 7.02 s\n",
      "Wall time: 43.4 s\n"
     ]
    },
    {
     "data": {
      "text/plain": [
       "576"
      ]
     },
     "execution_count": 18,
     "metadata": {},
     "output_type": "execute_result"
    }
   ],
   "source": [
    "%time adm_SE1_1 = SE1_1.find_admissible_projectivities()\n",
    "len(adm_SE1_1)"
   ]
  },
  {
   "cell_type": "code",
   "execution_count": 19,
   "id": "efbad98f-b429-4d75-beef-a61680b1f47b",
   "metadata": {},
   "outputs": [
    {
     "name": "stdout",
     "output_type": "stream",
     "text": [
      "CPU times: user 7.41 s, sys: 168 ms, total: 7.58 s\n",
      "Wall time: 10.1 s\n"
     ]
    },
    {
     "data": {
      "text/plain": [
       "4"
      ]
     },
     "execution_count": 19,
     "metadata": {},
     "output_type": "execute_result"
    }
   ],
   "source": [
    "%time simm_SE1_1 = SE1_1.find_simmetries(adm_SE1_1)\n",
    "len(simm_SE1_1)"
   ]
  },
  {
   "cell_type": "code",
   "execution_count": 20,
   "id": "913ef6d3-962d-479b-841e-cd5f0637977e",
   "metadata": {},
   "outputs": [
    {
     "name": "stdout",
     "output_type": "stream",
     "text": [
      "CPU times: user 3min 9s, sys: 400 ms, total: 3min 10s\n",
      "Wall time: 3min 10s\n"
     ]
    },
    {
     "data": {
      "text/plain": [
       "[[102*c + (7*rad2_i^3 + 15*rad2_i^2 - 11*rad2_i - 9)*f],\n",
       " [102*c + (rad2_i^3 + 15*rad2_i^2 + 19*rad2_i - 21)*f],\n",
       " [9*c + (rad2_i^3 - 2*rad2_i)*f],\n",
       " [102*c + (rad2_i^3 - 15*rad2_i^2 + 19*rad2_i + 21)*f],\n",
       " [18*c + (rad2_i^3 + 3*rad2_i^2 + 7*rad2_i + 3)*f],\n",
       " [3*c + (rad2_i)*f],\n",
       " [6*c + (-rad2_i^3 - 3*rad2_i^2 - rad2_i + 3)*f],\n",
       " [6*c + (-rad2_i^3 + 3*rad2_i^2 - rad2_i - 3)*f],\n",
       " [102*c + (7*rad2_i^3 - 15*rad2_i^2 - 11*rad2_i + 9)*f],\n",
       " [6*c + (rad2_i^3 - rad2_i^2 - rad2_i + 3)*f],\n",
       " [6*c + (rad2_i^3 + rad2_i^2 - rad2_i - 3)*f],\n",
       " [18*c + (rad2_i^3 - 3*rad2_i^2 + 7*rad2_i - 3)*f]]"
      ]
     },
     "execution_count": 20,
     "metadata": {},
     "output_type": "execute_result"
    }
   ],
   "source": [
    "%time SE1_1.find_conditions_for_subfamilies(adm_SE1_1, simm_SE1_1)"
   ]
  },
  {
   "cell_type": "code",
   "execution_count": 22,
   "id": "21319b3c-630d-437d-9cea-164fd292e505",
   "metadata": {},
   "outputs": [],
   "source": [
    "SE1_2 = SE1_1.subs({c: -rad2_minus_i*f/3})"
   ]
  },
  {
   "cell_type": "code",
   "execution_count": 23,
   "id": "6b764443-4c04-463e-ab9b-48d9f247a4ee",
   "metadata": {},
   "outputs": [
    {
     "name": "stdout",
     "output_type": "stream",
     "text": [
      "CPU times: user 2.63 s, sys: 156 ms, total: 2.78 s\n",
      "Wall time: 16.3 s\n"
     ]
    },
    {
     "data": {
      "text/plain": [
       "576"
      ]
     },
     "execution_count": 23,
     "metadata": {},
     "output_type": "execute_result"
    }
   ],
   "source": [
    "%time adm_SE1_2 = SE1_2.find_admissible_projectivities()\n",
    "len(adm_SE1_2)"
   ]
  },
  {
   "cell_type": "code",
   "execution_count": 24,
   "id": "b55ef962-dfef-4db7-92f9-d8f1f431b528",
   "metadata": {},
   "outputs": [
    {
     "name": "stdout",
     "output_type": "stream",
     "text": [
      "CPU times: user 2.75 s, sys: 128 ms, total: 2.88 s\n",
      "Wall time: 3.27 s\n"
     ]
    },
    {
     "data": {
      "text/plain": [
       "8"
      ]
     },
     "execution_count": 24,
     "metadata": {},
     "output_type": "execute_result"
    }
   ],
   "source": [
    "%time simm_SE1_2 = SE1_2.find_simmetries(adm_SE1_2)\n",
    "len(simm_SE1_2)"
   ]
  },
  {
   "cell_type": "code",
   "execution_count": null,
   "id": "25b00d4c-922e-4eed-9a6e-cf6c84fe4502",
   "metadata": {},
   "outputs": [],
   "source": []
  },
  {
   "cell_type": "code",
   "execution_count": null,
   "id": "2b0f0f41-a89d-40bd-9910-a20435d9f596",
   "metadata": {},
   "outputs": [],
   "source": []
  }
 ],
 "metadata": {
  "kernelspec": {
   "display_name": "SageMath 9.4",
   "language": "sage",
   "name": "sagemath"
  },
  "language_info": {
   "codemirror_mode": {
    "name": "ipython",
    "version": 3
   },
   "file_extension": ".py",
   "mimetype": "text/x-python",
   "name": "python",
   "nbconvert_exporter": "python",
   "pygments_lexer": "ipython3",
   "version": "3.7.12"
  }
 },
 "nbformat": 4,
 "nbformat_minor": 5
}
