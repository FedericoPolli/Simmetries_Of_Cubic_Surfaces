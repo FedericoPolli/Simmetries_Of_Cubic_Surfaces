{
 "cells": [
  {
   "cell_type": "code",
   "execution_count": 1,
   "id": "989d0818-17f5-4597-a595-c4a9a0a00c6f",
   "metadata": {},
   "outputs": [],
   "source": [
    "load('Imports/Utility.sage', 'Imports/Point.sage', 'Imports/Line.sage', 'Imports/TritangentPlane.sage', 'Imports/Group.sage', 'Imports/Cubic.sage')\n",
    "import multiprocessing as mp\n",
    "import pickle"
   ]
  },
  {
   "cell_type": "code",
   "execution_count": 2,
   "id": "8ae52a4a-3c52-4d7c-9603-6df9863710c0",
   "metadata": {},
   "outputs": [
    {
     "data": {
      "text/plain": [
       "-6*I"
      ]
     },
     "execution_count": 2,
     "metadata": {},
     "output_type": "execute_result"
    }
   ],
   "source": [
    "((sqrt(2)-I)^3+(sqrt(2)-I)).expand()"
   ]
  },
  {
   "cell_type": "code",
   "execution_count": 3,
   "id": "cdf83895-9bd2-4aa3-95df-6bde8290a4b5",
   "metadata": {},
   "outputs": [
    {
     "data": {
      "text/plain": [
       "xx^4 - 2*xx^2 + 9"
      ]
     },
     "execution_count": 3,
     "metadata": {},
     "output_type": "execute_result"
    }
   ],
   "source": [
    "(sqrt(2)-I).minpoly('xx')"
   ]
  },
  {
   "cell_type": "code",
   "execution_count": 4,
   "id": "02c70183-3c3c-46a2-916e-03ae2281404a",
   "metadata": {},
   "outputs": [],
   "source": [
    "var('xx')\n",
    "Q.<rad2_minus_i> = NumberField(xx^4 - 2*xx^2 + 9)"
   ]
  },
  {
   "cell_type": "code",
   "execution_count": 5,
   "id": "e22f0746-a7e9-4f45-8862-2559287f90ed",
   "metadata": {},
   "outputs": [],
   "source": [
    "ii = ((rad2_minus_i)^3+rad2_minus_i)/(-6)"
   ]
  },
  {
   "cell_type": "code",
   "execution_count": 6,
   "id": "b2735c1e-1e6e-408a-b87f-655f26dd2149",
   "metadata": {},
   "outputs": [],
   "source": [
    "P.<x,y,z,t,b,c,d,e,f,l,m> = PolynomialRing(Q)\n",
    "cubic_new = e*f*(2*x^2*y-2*x*y^2+x*z^2-x*z*t-y*t^2+y*z*t)+b*c*(x-t)*(x*z+y*t)+c*c*(z+t)*(y*t-x*z)+d*c*(y-z)*(x*z+y*t)+(e+f)*c*(x-y)*(y*t-x*z)\n",
    "sing_cubics = (-1) * (-c + f) * (-c + e) * c * (c + f) * (c + e) * (-e + f) * (-c*d + c*f + e*f) * (-c*d + c*e + e*f) * (-c^2 - c*d + e*f) * (b*c - c*f + e*f) * (b*c - c*e + e*f) * (b*c - c*d + 2*e*f) * (b*c - c^2 + e*f) * (b*c^2 + c^2*d + b*c*f - 2*c^2*f - c*d*f + 2*e*f^2) * (b*c^2 + c^2*d + b*c*e - 2*c^2*e - c*d*e + 2*e^2*f) * (-b*c^3 - 2*b*c^2*d + c^3*d + b*c^2*e + c^2*d*e + b*c^2*f + c^2*d*f + 3*b*c*e*f - 4*c^2*e*f - 3*c*d*e*f + 4*e^2*f^2)\n",
    "line = Line([y, z])\n",
    "general_cubic = Cubic(cubic_new, line, sing_cubics)\n",
    "SE1 = general_cubic.subs({b:-(c*c+e*f)/c})"
   ]
  },
  {
   "cell_type": "code",
   "execution_count": 7,
   "id": "29d92210-a76d-4b24-aa39-64ba7e9e8169",
   "metadata": {},
   "outputs": [],
   "source": [
    "e_sost = {e: (-4*ii)*c + d + (-2*ii + 1)*f}\n",
    "d_sost = {d: ((-64*ii - 48)*c^2 + (64*ii + 128)*c*f + (64*ii + 48)*f^2)/((32*ii - 16)*c + (-32*ii + 16)*f)}"
   ]
  },
  {
   "cell_type": "code",
   "execution_count": 8,
   "id": "f235f99e-3742-4720-be59-96b2aae5434b",
   "metadata": {},
   "outputs": [],
   "source": [
    "SE1_1 = SE1.subs(e_sost).subs(d_sost)"
   ]
  },
  {
   "cell_type": "code",
   "execution_count": 36,
   "id": "e21109c2-0efd-4789-b0e4-472507e4ac70",
   "metadata": {},
   "outputs": [
    {
     "name": "stdout",
     "output_type": "stream",
     "text": [
      "CPU times: user 6.73 s, sys: 447 ms, total: 7.18 s\n",
      "Wall time: 36 s\n"
     ]
    },
    {
     "data": {
      "text/plain": [
       "576"
      ]
     },
     "execution_count": 36,
     "metadata": {},
     "output_type": "execute_result"
    }
   ],
   "source": [
    "%time adm_SE1_1 = SE1_1.find_admissible_projectivities()\n",
    "len(adm_SE1_1)"
   ]
  },
  {
   "cell_type": "code",
   "execution_count": 37,
   "id": "efbad98f-b429-4d75-beef-a61680b1f47b",
   "metadata": {},
   "outputs": [
    {
     "name": "stdout",
     "output_type": "stream",
     "text": [
      "CPU times: user 6.66 s, sys: 285 ms, total: 6.95 s\n",
      "Wall time: 17.7 s\n"
     ]
    },
    {
     "data": {
      "text/plain": [
       "4"
      ]
     },
     "execution_count": 37,
     "metadata": {},
     "output_type": "execute_result"
    }
   ],
   "source": [
    "%time simm_SE1_1 = SE1_1.find_simmetries(adm_SE1_1)\n",
    "len(simm_SE1_1)"
   ]
  },
  {
   "cell_type": "code",
   "execution_count": 38,
   "id": "913ef6d3-962d-479b-841e-cd5f0637977e",
   "metadata": {},
   "outputs": [
    {
     "name": "stdout",
     "output_type": "stream",
     "text": [
      "CPU times: user 7.24 s, sys: 387 ms, total: 7.63 s\n",
      "Wall time: 2min 47s\n"
     ]
    }
   ],
   "source": [
    "%time conds = SE1_1.find_conditions_for_subfamilies(adm_SE1_1, simm_SE1_1)"
   ]
  },
  {
   "cell_type": "code",
   "execution_count": 39,
   "id": "d4e5b632-a129-40ce-9087-d8b272084568",
   "metadata": {},
   "outputs": [],
   "source": [
    "sosts = [solve_linear_system(cond.gens(), [c], [f]) for cond in conds]\n",
    "cubics = [SE1_1.subs({c:sost[0], f:sost[1]}) for sost in sosts]"
   ]
  },
  {
   "cell_type": "code",
   "execution_count": 40,
   "id": "b4bf53d0-f203-4508-9bf4-391aa09f252d",
   "metadata": {},
   "outputs": [],
   "source": [
    "main_cubic_index = sosts.index([(rad2_minus_i)*f, 3*f])"
   ]
  },
  {
   "cell_type": "code",
   "execution_count": 41,
   "id": "bcb6c500-9dd4-4a61-824d-18005d359153",
   "metadata": {},
   "outputs": [],
   "source": [
    "L_sets = []\n",
    "for L_set in [get_permuted_L_set(perm) for perm in SE1_1.find_admissible_permutations()]:\n",
    "    if L_set not in L_sets:\n",
    "        L_sets.append(L_set)"
   ]
  },
  {
   "cell_type": "code",
   "execution_count": 42,
   "id": "2f42bbf4-d399-45d3-a331-12e62b84f35f",
   "metadata": {},
   "outputs": [
    {
     "name": "stdout",
     "output_type": "stream",
     "text": [
      "CPU times: user 3min 34s, sys: 719 ms, total: 3min 35s\n",
      "Wall time: 3min 35s\n"
     ]
    }
   ],
   "source": [
    "%%time\n",
    "main_cubic = cubics[main_cubic_index]\n",
    "equi = [_ for i in range(len(cubics))]\n",
    "equi[main_cubic_index] = main_cubic.L_set_base\n",
    "for cubic in cubics[0:main_cubic_index]+cubics[main_cubic_index+1:]:\n",
    "    for L_set in L_sets:\n",
    "        proj = cubic.find_projectivity(cubic.L_set_base, L_set)\n",
    "        eqn = cubic.eqn.subs(change_coordinates(proj))\n",
    "        if main_cubic.are_cubics_same(eqn):\n",
    "            equi[cubics.index(cubic)] = L_set\n",
    "            break"
   ]
  },
  {
   "cell_type": "code",
   "execution_count": 43,
   "id": "068abc87-ae45-453d-8d57-ed56ed3caf5e",
   "metadata": {},
   "outputs": [
    {
     "data": {
      "text/plain": [
       "[('F14', 'G4', 'E2', 'F25', 'E3'),\n",
       " ('F14', 'G4', 'E5', 'G1', 'F46'),\n",
       " ('E1', 'F14', 'F35', 'F12', 'E4'),\n",
       " ('E1', 'F14', 'F36', 'F15', 'F56'),\n",
       " ('E1', 'F14', 'F35', 'F16', 'E4'),\n",
       " ('E1', 'F14', 'F36', 'G3', 'F56'),\n",
       " ('E1', 'G4', 'E2', 'F12', 'E3'),\n",
       " ('E1', 'G4', 'F46', 'G6', 'F45'),\n",
       " ('F14', 'G4', 'E2', 'F26', 'E3'),\n",
       " ('F14', 'G4', 'F45', 'F23', 'E6'),\n",
       " ('E1', 'G4', 'E2', 'G3', 'E3'),\n",
       " ('E1', 'G4', 'E6', 'G5', 'E5')]"
      ]
     },
     "execution_count": 43,
     "metadata": {},
     "output_type": "execute_result"
    }
   ],
   "source": [
    "equi"
   ]
  },
  {
   "cell_type": "code",
   "execution_count": 27,
   "id": "ae51f00f-69cd-44ed-8586-d2ba8baf002d",
   "metadata": {},
   "outputs": [
    {
     "data": {
      "text/plain": [
       "[('F14', 'G4', 'E2', 'F25', 'E3'),\n",
       " ('F14', 'G4', 'E5', 'G1', 'F46'),\n",
       " ('E1', 'F14', 'F35', 'F12', 'E4'),\n",
       " ('E1', 'F14', 'F36', 'F15', 'F56'),\n",
       " ('E1', 'F14', 'F35', 'F16', 'E4'),\n",
       " ('E1', 'F14', 'F36', 'G3', 'F56'),\n",
       " ('E1', 'G4', 'E2', 'F12', 'E3'),\n",
       " ('E1', 'G4', 'F46', 'G6', 'F45'),\n",
       " ('F14', 'G4', 'E2', 'F26', 'E3'),\n",
       " ('F14', 'G4', 'F45', 'F23', 'E6'),\n",
       " ('E1', 'G4', 'E2', 'G3', 'E3'),\n",
       " ('E1', 'G4', 'E6', 'G5', 'E5')]"
      ]
     },
     "execution_count": 27,
     "metadata": {},
     "output_type": "execute_result"
    }
   ],
   "source": [
    "equi"
   ]
  },
  {
   "cell_type": "code",
   "execution_count": 22,
   "id": "21319b3c-630d-437d-9cea-164fd292e505",
   "metadata": {},
   "outputs": [
    {
     "data": {
      "text/plain": [
       "x^2*y - x*y^2 + (-1/3*rad2_minus_i - 1/3)*x^2*z + (-1/6*rad2_minus_i^2 + 2/3*rad2_minus_i + 1/6)*x*y*z + (1/18*rad2_minus_i^3 - 5/18*rad2_minus_i + 1/3)*x*z^2 + (1/18*rad2_minus_i^3 - 1/6*rad2_minus_i^2 + 7/18*rad2_minus_i - 1/2)*x*y*t + (-1/18*rad2_minus_i^3 - 1/18*rad2_minus_i + 1/3)*y^2*t + (1/6*rad2_minus_i^2 - 1/3*rad2_minus_i + 1/6)*y*z*t + (-1/18*rad2_minus_i^3 + 1/6*rad2_minus_i^2 - 1/18*rad2_minus_i - 1/6)*y*t^2"
      ]
     },
     "execution_count": 22,
     "metadata": {},
     "output_type": "execute_result"
    }
   ],
   "source": [
    "SE1_2 = main_cubic\n",
    "SE1_2"
   ]
  },
  {
   "cell_type": "code",
   "execution_count": 30,
   "id": "6b764443-4c04-463e-ab9b-48d9f247a4ee",
   "metadata": {},
   "outputs": [
    {
     "name": "stdout",
     "output_type": "stream",
     "text": [
      "CPU times: user 3.22 s, sys: 219 ms, total: 3.44 s\n",
      "Wall time: 17.5 s\n"
     ]
    },
    {
     "data": {
      "text/plain": [
       "576"
      ]
     },
     "execution_count": 30,
     "metadata": {},
     "output_type": "execute_result"
    }
   ],
   "source": [
    "%time adm_SE1_2 = SE1_2.find_admissible_projectivities()\n",
    "len(adm_SE1_2)"
   ]
  },
  {
   "cell_type": "code",
   "execution_count": 31,
   "id": "b55ef962-dfef-4db7-92f9-d8f1f431b528",
   "metadata": {},
   "outputs": [
    {
     "name": "stdout",
     "output_type": "stream",
     "text": [
      "CPU times: user 2.83 s, sys: 156 ms, total: 2.99 s\n",
      "Wall time: 3.37 s\n"
     ]
    },
    {
     "data": {
      "text/plain": [
       "8"
      ]
     },
     "execution_count": 31,
     "metadata": {},
     "output_type": "execute_result"
    }
   ],
   "source": [
    "%time simm_SE1_2 = SE1_2.find_simmetries(adm_SE1_2)\n",
    "len(simm_SE1_2)"
   ]
  },
  {
   "cell_type": "code",
   "execution_count": 32,
   "id": "25b00d4c-922e-4eed-9a6e-cf6c84fe4502",
   "metadata": {},
   "outputs": [
    {
     "data": {
      "text/plain": [
       "(8, 'C8')"
      ]
     },
     "execution_count": 32,
     "metadata": {},
     "output_type": "execute_result"
    }
   ],
   "source": [
    "lines_perms = [Permutation(SE1_2.apply_proj_to_lines(simm)).to_permutation_group_element() for simm in simm_SE1_2]\n",
    "lines_perms_group = PermutationGroup(lines_perms)\n",
    "lines_perms_group.order(), lines_perms_group.structure_description()"
   ]
  },
  {
   "cell_type": "code",
   "execution_count": 33,
   "id": "2b0f0f41-a89d-40bd-9910-a20435d9f596",
   "metadata": {},
   "outputs": [
    {
     "data": {
      "text/plain": [
       "[('E1', 'F14', 'F23', 'G2', 'F36', 'F26')]"
      ]
     },
     "execution_count": 33,
     "metadata": {},
     "output_type": "execute_result"
    }
   ],
   "source": [
    "[get_permuted_extended_L_set(perm) for perm in lines_perms_group.gens_small()]"
   ]
  },
  {
   "cell_type": "code",
   "execution_count": null,
   "id": "68b17264-5ae6-4580-9df2-f5c1d928b821",
   "metadata": {},
   "outputs": [],
   "source": []
  }
 ],
 "metadata": {
  "kernelspec": {
   "display_name": "SageMath 9.4",
   "language": "sage",
   "name": "sagemath"
  },
  "language_info": {
   "codemirror_mode": {
    "name": "ipython",
    "version": 3
   },
   "file_extension": ".py",
   "mimetype": "text/x-python",
   "name": "python",
   "nbconvert_exporter": "python",
   "pygments_lexer": "ipython3",
   "version": "3.7.12"
  }
 },
 "nbformat": 4,
 "nbformat_minor": 5
}
