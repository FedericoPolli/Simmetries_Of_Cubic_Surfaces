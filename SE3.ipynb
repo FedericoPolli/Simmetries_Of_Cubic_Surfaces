{
 "cells": [
  {
   "cell_type": "code",
   "execution_count": 55,
   "id": "0f4174c6-3ebe-4f9f-861c-1c5a5962dc9f",
   "metadata": {},
   "outputs": [],
   "source": [
    "load('Imports/Utility.sage', 'Imports/Point.sage', 'Imports/Line.sage', 'Imports/TritangentPlane.sage', 'Imports/Group.sage', 'Imports/Cubic.sage')\n",
    "import multiprocessing as mp\n",
    "import pickle"
   ]
  },
  {
   "cell_type": "code",
   "execution_count": 56,
   "id": "ed00f8ff-f7be-48f4-9e54-08cc6feb40aa",
   "metadata": {},
   "outputs": [],
   "source": [
    "P.<x,y,z,t,b,c,d,e,f,l,m> = PolynomialRing(QQ)"
   ]
  },
  {
   "cell_type": "code",
   "execution_count": 57,
   "id": "176bffc4-9789-4451-a3ca-6118b9f74c04",
   "metadata": {},
   "outputs": [],
   "source": [
    "cubic_new = e*f*(2*x^2*y-2*x*y^2+x*z^2-x*z*t-y*t^2+y*z*t)+b*c*(x-t)*(x*z+y*t)+c*c*(z+t)*(y*t-x*z)+d*c*(y-z)*(x*z+y*t)+(e+f)*c*(x-y)*(y*t-x*z)"
   ]
  },
  {
   "cell_type": "code",
   "execution_count": 58,
   "id": "f94b14f8-d1e5-4520-898e-753eede1f64f",
   "metadata": {},
   "outputs": [],
   "source": [
    "sing_cubics = (-1) * (-c + f) * (-c + e) * c * (c + f) * (c + e) * (-e + f)^2 * (-c*d + c*f + e*f) * (-c*d + c*e + e*f) * (-c^2 - c*d + e*f) * (b*c - c*f + e*f) * (b*c - c*e + e*f) * (b*c - c*d + 2*e*f) * (b*c - c^2 + e*f) * (b*c^2 + c^2*d + b*c*f - 2*c^2*f - c*d*f + 2*e*f^2) * (b*c^2 + c^2*d + b*c*e - 2*c^2*e - c*d*e + 2*e^2*f) * (-b*c^3 - 2*b*c^2*d + c^3*d + b*c^2*e + c^2*d*e + b*c^2*f + c^2*d*f + 3*b*c*e*f - 4*c^2*e*f - 3*c*d*e*f + 4*e^2*f^2)"
   ]
  },
  {
   "cell_type": "code",
   "execution_count": 59,
   "id": "a344f913-32e9-469c-9270-a6dc605c13ea",
   "metadata": {},
   "outputs": [],
   "source": [
    "line = Line([y, z])"
   ]
  },
  {
   "cell_type": "code",
   "execution_count": 60,
   "id": "2e7c8e75-5a8d-41b3-a6f1-e30dfa5c9bb7",
   "metadata": {},
   "outputs": [],
   "source": [
    "general_cubic = Cubic(cubic_new, line, sing_cubics)"
   ]
  },
  {
   "cell_type": "code",
   "execution_count": 61,
   "id": "f05d4364-4970-4ca2-afa1-43c3769b60a4",
   "metadata": {},
   "outputs": [],
   "source": [
    "SE3 = general_cubic.subs({b:-(c*c+e*f)/c, d:(3*e*f - c^2 + c*f + c*e)/(2*c)})"
   ]
  },
  {
   "cell_type": "code",
   "execution_count": 62,
   "id": "3580d8c1-21c4-4c0f-999b-3e1371388faf",
   "metadata": {},
   "outputs": [
    {
     "name": "stdout",
     "output_type": "stream",
     "text": [
      "CPU times: user 601 ms, sys: 155 ms, total: 756 ms\n",
      "Wall time: 2.06 s\n"
     ]
    }
   ],
   "source": [
    "%time adm_SE3 = SE3.find_admissible_projectivities()"
   ]
  },
  {
   "cell_type": "code",
   "execution_count": 63,
   "id": "8f27aab6-2d16-4051-a78e-d3b9660d3419",
   "metadata": {},
   "outputs": [
    {
     "data": {
      "text/plain": [
       "108"
      ]
     },
     "execution_count": 63,
     "metadata": {},
     "output_type": "execute_result"
    }
   ],
   "source": [
    "len(adm_SE3)"
   ]
  },
  {
   "cell_type": "code",
   "execution_count": 64,
   "id": "a595f8d8-5a1a-498d-b494-6d3b9ae280a9",
   "metadata": {},
   "outputs": [
    {
     "name": "stdout",
     "output_type": "stream",
     "text": [
      "CPU times: user 309 ms, sys: 55.9 ms, total: 365 ms\n",
      "Wall time: 543 ms\n"
     ]
    }
   ],
   "source": [
    "%time simm_SE3 = SE3.find_simmetries(adm_SE3)"
   ]
  },
  {
   "cell_type": "code",
   "execution_count": 65,
   "id": "4f7c2a3f-9f4d-43b4-94a3-d679ba3a0b5e",
   "metadata": {},
   "outputs": [
    {
     "data": {
      "text/plain": [
       "6"
      ]
     },
     "execution_count": 65,
     "metadata": {},
     "output_type": "execute_result"
    }
   ],
   "source": [
    "len(simm_SE3)"
   ]
  },
  {
   "cell_type": "code",
   "execution_count": 66,
   "id": "4a6b66c6-b14d-413a-b90d-efdb724de88a",
   "metadata": {},
   "outputs": [],
   "source": [
    "G_SE3 = Group(simm_SE3)"
   ]
  },
  {
   "cell_type": "code",
   "execution_count": 67,
   "id": "b73d5afd-7e65-4eb2-94f2-0b467e07703e",
   "metadata": {},
   "outputs": [
    {
     "data": {
      "text/plain": [
       "True"
      ]
     },
     "execution_count": 67,
     "metadata": {},
     "output_type": "execute_result"
    }
   ],
   "source": [
    "G_SE3.is_group()"
   ]
  },
  {
   "cell_type": "code",
   "execution_count": 68,
   "id": "17751c72-a9e8-48e5-87d0-76e68c0b4316",
   "metadata": {},
   "outputs": [
    {
     "data": {
      "text/plain": [
       "False"
      ]
     },
     "execution_count": 68,
     "metadata": {},
     "output_type": "execute_result"
    }
   ],
   "source": [
    "G_SE3.is_abelian()"
   ]
  },
  {
   "cell_type": "code",
   "execution_count": 69,
   "id": "87aad568-392c-4bff-be3e-d3c5dd824082",
   "metadata": {},
   "outputs": [
    {
     "data": {
      "text/plain": [
       "[1, 2, 2, 3, 2, 3]"
      ]
     },
     "execution_count": 69,
     "metadata": {},
     "output_type": "execute_result"
    }
   ],
   "source": [
    "G_SE3.get_order_of_elements()"
   ]
  },
  {
   "cell_type": "code",
   "execution_count": 70,
   "id": "ef3b33d2-266b-4d8a-a09e-493b552c8c99",
   "metadata": {},
   "outputs": [
    {
     "data": {
      "text/plain": [
       "[]"
      ]
     },
     "execution_count": 70,
     "metadata": {},
     "output_type": "execute_result"
    }
   ],
   "source": [
    "SE3.find_conditions_for_subfamilies(adm_SE3, simm_SE3)"
   ]
  },
  {
   "cell_type": "code",
   "execution_count": 71,
   "id": "0e28bc9f-7f74-49e1-846e-b25db1de4f3e",
   "metadata": {},
   "outputs": [
    {
     "ename": "NameError",
     "evalue": "name 'apply_proj_to_eck' is not defined",
     "output_type": "error",
     "traceback": [
      "\u001b[0;31m---------------------------------------------------------------------------\u001b[0m",
      "\u001b[0;31mNameError\u001b[0m                                 Traceback (most recent call last)",
      "\u001b[0;32m<ipython-input-71-81e28b4d015b>\u001b[0m in \u001b[0;36m<module>\u001b[0;34m\u001b[0m\n\u001b[1;32m      1\u001b[0m \u001b[0mperms\u001b[0m \u001b[0;34m=\u001b[0m \u001b[0;34m[\u001b[0m\u001b[0;34m]\u001b[0m\u001b[0;34m\u001b[0m\u001b[0;34m\u001b[0m\u001b[0m\n\u001b[1;32m      2\u001b[0m \u001b[0;32mfor\u001b[0m \u001b[0mel\u001b[0m \u001b[0;32min\u001b[0m \u001b[0mG_SE3\u001b[0m\u001b[0;34m:\u001b[0m\u001b[0;34m\u001b[0m\u001b[0;34m\u001b[0m\u001b[0m\n\u001b[0;32m----> 3\u001b[0;31m     \u001b[0mperms\u001b[0m\u001b[0;34m.\u001b[0m\u001b[0mappend\u001b[0m\u001b[0;34m(\u001b[0m\u001b[0mPermutation\u001b[0m\u001b[0;34m(\u001b[0m\u001b[0mapply_proj_to_eck\u001b[0m\u001b[0;34m(\u001b[0m\u001b[0mel\u001b[0m\u001b[0;34m,\u001b[0m \u001b[0mSE3\u001b[0m\u001b[0;34m.\u001b[0m\u001b[0meckardt_points\u001b[0m\u001b[0;34m)\u001b[0m\u001b[0;34m)\u001b[0m\u001b[0;34m.\u001b[0m\u001b[0mto_cycles\u001b[0m\u001b[0;34m(\u001b[0m\u001b[0;34m)\u001b[0m\u001b[0;34m)\u001b[0m\u001b[0;34m\u001b[0m\u001b[0;34m\u001b[0m\u001b[0m\n\u001b[0m",
      "\u001b[0;31mNameError\u001b[0m: name 'apply_proj_to_eck' is not defined"
     ]
    }
   ],
   "source": [
    "perms = []\n",
    "for el in G_SE3:\n",
    "    perms.append(Permutation(apply_proj_to_eck(el, SE3.eckardt_points)).to_cycles())"
   ]
  },
  {
   "cell_type": "code",
   "execution_count": null,
   "id": "c6cfae88-8d03-484e-ab42-c4b5049bc8ef",
   "metadata": {},
   "outputs": [],
   "source": [
    "PermutationGroup(perms).order()"
   ]
  },
  {
   "cell_type": "code",
   "execution_count": null,
   "id": "3addef86-20e0-479f-adfa-513f319d225c",
   "metadata": {},
   "outputs": [],
   "source": [
    "PermutationGroup(perms).structure_description()"
   ]
  },
  {
   "cell_type": "code",
   "execution_count": 20,
   "id": "c9f84409-0372-4e95-aef0-12ccccfb329f",
   "metadata": {},
   "outputs": [],
   "source": [
    "keys = list(SE3.cl_lines.keys())"
   ]
  },
  {
   "cell_type": "code",
   "execution_count": 21,
   "id": "99e87fa8-7f19-44d9-8e66-0d75ba1e8275",
   "metadata": {},
   "outputs": [],
   "source": [
    "perms_lines = []\n",
    "for simm in simm_SE3:\n",
    "    perms_lines.append(Permutation(apply_proj_to_lines(simm, list(SE3.cl_lines.values()))).to_cycles())"
   ]
  },
  {
   "cell_type": "code",
   "execution_count": 22,
   "id": "c40f70d6-307d-49cf-88ec-7e2aa962843c",
   "metadata": {},
   "outputs": [],
   "source": [
    "Gr = PermutationGroup(perms_lines)"
   ]
  },
  {
   "cell_type": "code",
   "execution_count": 23,
   "id": "7dd314c6-0c12-4388-b153-2eee95e17207",
   "metadata": {},
   "outputs": [
    {
     "data": {
      "text/plain": [
       "6"
      ]
     },
     "execution_count": 23,
     "metadata": {},
     "output_type": "execute_result"
    }
   ],
   "source": [
    "Gr.order()"
   ]
  },
  {
   "cell_type": "code",
   "execution_count": 24,
   "id": "ec16cd1f-9846-45c0-bb9b-3fcf5e00bf52",
   "metadata": {},
   "outputs": [
    {
     "data": {
      "text/plain": [
       "'S3'"
      ]
     },
     "execution_count": 24,
     "metadata": {},
     "output_type": "execute_result"
    }
   ],
   "source": [
    "Gr.structure_description()"
   ]
  },
  {
   "cell_type": "code",
   "execution_count": null,
   "id": "3c92d746-253d-4f94-a37f-8aa0af1c0c4a",
   "metadata": {},
   "outputs": [],
   "source": []
  }
 ],
 "metadata": {
  "kernelspec": {
   "display_name": "SageMath 9.4",
   "language": "sage",
   "name": "sagemath"
  },
  "language_info": {
   "codemirror_mode": {
    "name": "ipython",
    "version": 3
   },
   "file_extension": ".py",
   "mimetype": "text/x-python",
   "name": "python",
   "nbconvert_exporter": "python",
   "pygments_lexer": "ipython3",
   "version": "3.7.12"
  }
 },
 "nbformat": 4,
 "nbformat_minor": 5
}
