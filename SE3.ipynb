{
 "cells": [
  {
   "cell_type": "code",
   "execution_count": 34,
   "id": "0f4174c6-3ebe-4f9f-861c-1c5a5962dc9f",
   "metadata": {},
   "outputs": [],
   "source": [
    "load('Imports/Utility.sage', 'Imports/Point.sage', 'Imports/Line.sage', 'Imports/Tritangent_plane.sage', 'Imports/Group.sage', 'Imports/Cubic.sage')\n",
    "import multiprocessing as mp\n",
    "import pickle"
   ]
  },
  {
   "cell_type": "code",
   "execution_count": 35,
   "id": "ed00f8ff-f7be-48f4-9e54-08cc6feb40aa",
   "metadata": {},
   "outputs": [],
   "source": [
    "P.<x,y,z,t,b,c,d,e,f,l,m> = PolynomialRing(QQ)"
   ]
  },
  {
   "cell_type": "code",
   "execution_count": 36,
   "id": "176bffc4-9789-4451-a3ca-6118b9f74c04",
   "metadata": {},
   "outputs": [],
   "source": [
    "cubic_new = e*f*(2*x^2*y-2*x*y^2+x*z^2-x*z*t-y*t^2+y*z*t)+b*c*(x-t)*(x*z+y*t)+c*c*(z+t)*(y*t-x*z)+d*c*(y-z)*(x*z+y*t)+(e+f)*c*(x-y)*(y*t-x*z)"
   ]
  },
  {
   "cell_type": "code",
   "execution_count": 37,
   "id": "f94b14f8-d1e5-4520-898e-753eede1f64f",
   "metadata": {},
   "outputs": [],
   "source": [
    "sing_cubics = (-1) * (-c + f) * (-c + e) * c * (c + f) * (c + e) * (-e + f)^2 * (-c*d + c*f + e*f) * (-c*d + c*e + e*f) * (-c^2 - c*d + e*f) * (b*c - c*f + e*f) * (b*c - c*e + e*f) * (b*c - c*d + 2*e*f) * (b*c - c^2 + e*f) * (b*c^2 + c^2*d + b*c*f - 2*c^2*f - c*d*f + 2*e*f^2) * (b*c^2 + c^2*d + b*c*e - 2*c^2*e - c*d*e + 2*e^2*f) * (-b*c^3 - 2*b*c^2*d + c^3*d + b*c^2*e + c^2*d*e + b*c^2*f + c^2*d*f + 3*b*c*e*f - 4*c^2*e*f - 3*c*d*e*f + 4*e^2*f^2)"
   ]
  },
  {
   "cell_type": "code",
   "execution_count": 38,
   "id": "a344f913-32e9-469c-9270-a6dc605c13ea",
   "metadata": {},
   "outputs": [],
   "source": [
    "line = Line([y, z])"
   ]
  },
  {
   "cell_type": "code",
   "execution_count": 39,
   "id": "cbd34f40-d669-4baa-975a-8006d97357d1",
   "metadata": {},
   "outputs": [],
   "source": [
    "eqn_SE1 = P(cubic_new.subs({b:-(c*c+e*f)/c }) )\n",
    "sing_cubics_SE1 = P(sing_cubics.subs({b:-(c*c+e*f)/c }))"
   ]
  },
  {
   "cell_type": "code",
   "execution_count": 40,
   "id": "df78135f-74b7-423a-af2c-d98f42dbc18b",
   "metadata": {},
   "outputs": [],
   "source": [
    "eqn_SE3 = P(2*eqn_SE1.subs({d:(3*e*f - c^2 + c*f + c*e)/(2*c)}) )\n",
    "sing_cubics_SE3 = P(sing_cubics_SE1.subs({d:(3*e*f - c^2 + c*f + c*e)/(2*c)}))"
   ]
  },
  {
   "cell_type": "code",
   "execution_count": 41,
   "id": "ce83db13-be9d-408c-adae-34a90593fd8c",
   "metadata": {},
   "outputs": [],
   "source": [
    "SE3 = Cubic(eqn_SE3, line, sing_cubics_SE3.factor())"
   ]
  },
  {
   "cell_type": "code",
   "execution_count": 42,
   "id": "9aca9f4a-5318-49d5-bc4c-3f722ab3ed0f",
   "metadata": {},
   "outputs": [
    {
     "data": {
      "text/plain": [
       "[(0, 0, 0, 1), (0, 1, 1, 0), (0, -2*c^2, -2*c^2, c^2 - c*e - c*f + e*f)]"
      ]
     },
     "execution_count": 42,
     "metadata": {},
     "output_type": "execute_result"
    }
   ],
   "source": [
    "SE3.eckardt_points"
   ]
  },
  {
   "cell_type": "code",
   "execution_count": 43,
   "id": "3580d8c1-21c4-4c0f-999b-3e1371388faf",
   "metadata": {},
   "outputs": [
    {
     "name": "stdout",
     "output_type": "stream",
     "text": [
      "CPU times: user 441 ms, sys: 87.8 ms, total: 529 ms\n",
      "Wall time: 1.66 s\n"
     ]
    }
   ],
   "source": [
    "%time adm_SE3 = SE3.find_admissible_projectivities()"
   ]
  },
  {
   "cell_type": "code",
   "execution_count": 44,
   "id": "8f27aab6-2d16-4051-a78e-d3b9660d3419",
   "metadata": {},
   "outputs": [
    {
     "data": {
      "text/plain": [
       "108"
      ]
     },
     "execution_count": 44,
     "metadata": {},
     "output_type": "execute_result"
    }
   ],
   "source": [
    "len(adm_SE3)"
   ]
  },
  {
   "cell_type": "code",
   "execution_count": 45,
   "id": "a595f8d8-5a1a-498d-b494-6d3b9ae280a9",
   "metadata": {},
   "outputs": [
    {
     "name": "stdout",
     "output_type": "stream",
     "text": [
      "CPU times: user 33.2 ms, sys: 74.6 ms, total: 108 ms\n",
      "Wall time: 139 ms\n"
     ]
    }
   ],
   "source": [
    "%time simm_SE3 = SE3.find_simmetries(adm_SE3)"
   ]
  },
  {
   "cell_type": "code",
   "execution_count": 46,
   "id": "4f7c2a3f-9f4d-43b4-94a3-d679ba3a0b5e",
   "metadata": {},
   "outputs": [
    {
     "data": {
      "text/plain": [
       "6"
      ]
     },
     "execution_count": 46,
     "metadata": {},
     "output_type": "execute_result"
    }
   ],
   "source": [
    "len(simm_SE3)"
   ]
  },
  {
   "cell_type": "code",
   "execution_count": 47,
   "id": "4a6b66c6-b14d-413a-b90d-efdb724de88a",
   "metadata": {},
   "outputs": [],
   "source": [
    "G_SE3 = Group(simm_SE3)"
   ]
  },
  {
   "cell_type": "code",
   "execution_count": 48,
   "id": "b73d5afd-7e65-4eb2-94f2-0b467e07703e",
   "metadata": {},
   "outputs": [
    {
     "data": {
      "text/plain": [
       "True"
      ]
     },
     "execution_count": 48,
     "metadata": {},
     "output_type": "execute_result"
    }
   ],
   "source": [
    "G_SE3.is_group()"
   ]
  },
  {
   "cell_type": "code",
   "execution_count": 49,
   "id": "97fdb521-6722-4a5b-a025-81848017752f",
   "metadata": {},
   "outputs": [
    {
     "data": {
      "text/plain": [
       "6"
      ]
     },
     "execution_count": 49,
     "metadata": {},
     "output_type": "execute_result"
    }
   ],
   "source": [
    "G_SE3.get_order()"
   ]
  },
  {
   "cell_type": "code",
   "execution_count": 50,
   "id": "17751c72-a9e8-48e5-87d0-76e68c0b4316",
   "metadata": {},
   "outputs": [
    {
     "data": {
      "text/plain": [
       "False"
      ]
     },
     "execution_count": 50,
     "metadata": {},
     "output_type": "execute_result"
    }
   ],
   "source": [
    "G_SE3.is_abelian()"
   ]
  },
  {
   "cell_type": "code",
   "execution_count": 51,
   "id": "696a8438-6119-48a7-be26-aeb90c233a7f",
   "metadata": {},
   "outputs": [
    {
     "data": {
      "text/plain": [
       "[1, 2, 3, 6]"
      ]
     },
     "execution_count": 51,
     "metadata": {},
     "output_type": "execute_result"
    }
   ],
   "source": [
    "G_SE3.get_divisors_of_order()"
   ]
  },
  {
   "cell_type": "code",
   "execution_count": 52,
   "id": "87aad568-392c-4bff-be3e-d3c5dd824082",
   "metadata": {},
   "outputs": [
    {
     "data": {
      "text/plain": [
       "[1, 2, 2, 3, 2, 3]"
      ]
     },
     "execution_count": 52,
     "metadata": {},
     "output_type": "execute_result"
    }
   ],
   "source": [
    "G_SE3.get_order_of_elements()"
   ]
  },
  {
   "cell_type": "code",
   "execution_count": 53,
   "id": "c06b1cb6-b54f-4f81-bf5d-a1c82bee96ea",
   "metadata": {},
   "outputs": [],
   "source": [
    "#[G_SE3.apply_to(p) for p in SE3.eckardt_points]"
   ]
  },
  {
   "cell_type": "code",
   "execution_count": 54,
   "id": "0ec0d5bb-9649-4ecd-844b-7ed794e4ca0c",
   "metadata": {},
   "outputs": [
    {
     "data": {
      "text/plain": [
       "(-1/64) * (-e + f)^2 * (-c + f)^3 * (-c + e)^3 * c^5 * (c + f)^7 * (c + e)^7 * (3*c^2 - c*e + c*f + e*f) * (3*c^2 + c*e - c*f + e*f)"
      ]
     },
     "execution_count": 54,
     "metadata": {},
     "output_type": "execute_result"
    }
   ],
   "source": [
    "sing_cubics_SE3.factor()"
   ]
  },
  {
   "cell_type": "code",
   "execution_count": 55,
   "id": "ef3b33d2-266b-4d8a-a09e-493b552c8c99",
   "metadata": {},
   "outputs": [
    {
     "data": {
      "text/plain": [
       "[(e, 3*c - f), (e, 3*c + f), (f, 3*c - e), (f, 3*c + e)]"
      ]
     },
     "execution_count": 55,
     "metadata": {},
     "output_type": "execute_result"
    }
   ],
   "source": [
    "find_conditions_for_subfamilies(SE3, sing_cubics_SE3, adm_SE3, simm_SE3)"
   ]
  },
  {
   "cell_type": "code",
   "execution_count": 59,
   "id": "fc731de4-2c2d-4192-ae5a-82982511aee7",
   "metadata": {},
   "outputs": [
    {
     "data": {
      "text/plain": [
       "-8*x^2*z*c^2 + 8*x*y*z*c^2 - 4*x*z^2*c^2 + 4*x*y*t*c^2 - 4*y^2*t*c^2 + 4*y*t^2*c^2"
      ]
     },
     "execution_count": 59,
     "metadata": {},
     "output_type": "execute_result"
    }
   ],
   "source": [
    "SE3.eqn.subs({e:0, f:3*c})"
   ]
  },
  {
   "cell_type": "code",
   "execution_count": 60,
   "id": "71b0ccf3-a82c-4055-98ff-ee21dde4896a",
   "metadata": {},
   "outputs": [
    {
     "name": "stdout",
     "output_type": "stream",
     "text": [
      "Cubic is singular\n"
     ]
    }
   ],
   "source": [
    "nc = Cubic(SE3.eqn.subs({e:0, f:3*c}), line, sing_cubics_SE3.factor())"
   ]
  },
  {
   "cell_type": "code",
   "execution_count": null,
   "id": "982b9d6e-d186-4092-af8c-44d5e5f8e087",
   "metadata": {},
   "outputs": [],
   "source": []
  },
  {
   "cell_type": "code",
   "execution_count": null,
   "id": "982d62fa-35c2-4c7c-8404-a2be9c2f3a82",
   "metadata": {},
   "outputs": [],
   "source": []
  },
  {
   "cell_type": "code",
   "execution_count": null,
   "id": "aa3bc6c9-19fa-4842-a09f-a990aeadcc80",
   "metadata": {},
   "outputs": [],
   "source": []
  },
  {
   "cell_type": "code",
   "execution_count": null,
   "id": "3c92d746-253d-4f94-a37f-8aa0af1c0c4a",
   "metadata": {},
   "outputs": [],
   "source": []
  }
 ],
 "metadata": {
  "kernelspec": {
   "display_name": "SageMath 9.3",
   "language": "sage",
   "name": "sagemath"
  },
  "language_info": {
   "codemirror_mode": {
    "name": "ipython",
    "version": 3
   },
   "file_extension": ".py",
   "mimetype": "text/x-python",
   "name": "python",
   "nbconvert_exporter": "python",
   "pygments_lexer": "ipython3",
   "version": "3.7.10"
  }
 },
 "nbformat": 4,
 "nbformat_minor": 5
}
