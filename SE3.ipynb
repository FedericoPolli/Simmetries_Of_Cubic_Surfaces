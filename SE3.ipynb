{
 "cells": [
  {
   "cell_type": "code",
   "execution_count": 17,
   "id": "0f4174c6-3ebe-4f9f-861c-1c5a5962dc9f",
   "metadata": {},
   "outputs": [],
   "source": [
    "load('Imports/Utility.sage', 'Imports/Point.sage', 'Imports/Line.sage', 'Imports/TritangentPlane.sage', 'Imports/Group.sage', 'Imports/Cubic.sage')\n",
    "import multiprocessing as mp\n",
    "import pickle"
   ]
  },
  {
   "cell_type": "code",
   "execution_count": 18,
   "id": "c1bdea6b-3670-429a-88ee-76b17d4e397f",
   "metadata": {},
   "outputs": [],
   "source": [
    "P.<x,y,z,t,b,c,d,e,f,l,m> = PolynomialRing(QQ)\n",
    "cubic_new = e*f*(2*x^2*y-2*x*y^2+x*z^2-x*z*t-y*t^2+y*z*t)+b*c*(x-t)*(x*z+y*t)+c*c*(z+t)*(y*t-x*z)+d*c*(y-z)*(x*z+y*t)+(e+f)*c*(x-y)*(y*t-x*z)\n",
    "sing_cubics = (-1) * (-c + f) * (-c + e) * c * (c + f) * (c + e) * (-e + f)^2 * (-c*d + c*f + e*f) * (-c*d + c*e + e*f) * (-c^2 - c*d + e*f) * (b*c - c*f + e*f) * (b*c - c*e + e*f) * (b*c - c*d + 2*e*f) * (b*c - c^2 + e*f) * (b*c^2 + c^2*d + b*c*f - 2*c^2*f - c*d*f + 2*e*f^2) * (b*c^2 + c^2*d + b*c*e - 2*c^2*e - c*d*e + 2*e^2*f) * (-b*c^3 - 2*b*c^2*d + c^3*d + b*c^2*e + c^2*d*e + b*c^2*f + c^2*d*f + 3*b*c*e*f - 4*c^2*e*f - 3*c*d*e*f + 4*e^2*f^2)"
   ]
  },
  {
   "cell_type": "code",
   "execution_count": 19,
   "id": "d96b2921-106b-4968-97b8-346f4fd8c2f3",
   "metadata": {},
   "outputs": [],
   "source": [
    "# Define cubic SE3, find and classify the lines and compute the 45 tritangent planes"
   ]
  },
  {
   "cell_type": "code",
   "execution_count": 20,
   "id": "650856be-73dc-4eff-8d24-d45891659f60",
   "metadata": {},
   "outputs": [],
   "source": [
    "line = Line([y, z])\n",
    "general_cubic = Cubic(cubic_new, line, sing_cubics)\n",
    "SE3 = general_cubic.subs({b:-(c*c+e*f)/c, d:(3*e*f - c^2 + c*f + c*e)/(2*c)})"
   ]
  },
  {
   "cell_type": "code",
   "execution_count": 21,
   "id": "609e571f-a9db-44ab-beb1-d5be593d8c08",
   "metadata": {},
   "outputs": [],
   "source": [
    "# Find simmetries"
   ]
  },
  {
   "cell_type": "code",
   "execution_count": 22,
   "id": "cc2a51a9-f771-4e77-b3d9-807865297e23",
   "metadata": {},
   "outputs": [
    {
     "name": "stdout",
     "output_type": "stream",
     "text": [
      "CPU times: user 504 ms, sys: 92.4 ms, total: 596 ms\n",
      "Wall time: 2.03 s\n"
     ]
    },
    {
     "data": {
      "text/plain": [
       "108"
      ]
     },
     "execution_count": 22,
     "metadata": {},
     "output_type": "execute_result"
    }
   ],
   "source": [
    "%time adm_SE3 = SE3.find_admissible_projectivities()\n",
    "len(adm_SE3)"
   ]
  },
  {
   "cell_type": "code",
   "execution_count": 23,
   "id": "fe4ff3d0-0e30-43fc-9f9d-783499348b0b",
   "metadata": {},
   "outputs": [
    {
     "name": "stdout",
     "output_type": "stream",
     "text": [
      "CPU times: user 348 ms, sys: 129 ms, total: 477 ms\n",
      "Wall time: 603 ms\n"
     ]
    },
    {
     "data": {
      "text/plain": [
       "6"
      ]
     },
     "execution_count": 23,
     "metadata": {},
     "output_type": "execute_result"
    }
   ],
   "source": [
    "%time simm_SE3 = SE3.find_simmetries(adm_SE3)\n",
    "len(simm_SE3)"
   ]
  },
  {
   "cell_type": "code",
   "execution_count": 24,
   "id": "ccb71fbd-7c7f-44c5-92ba-342aaa0564fe",
   "metadata": {},
   "outputs": [],
   "source": [
    "# Study how the simmetries permute the Eckardt points"
   ]
  },
  {
   "cell_type": "code",
   "execution_count": 25,
   "id": "34a563b5-ccb0-43e7-b3cc-89787a2aacba",
   "metadata": {},
   "outputs": [
    {
     "data": {
      "text/plain": [
       "(6, 'S3')"
      ]
     },
     "execution_count": 25,
     "metadata": {},
     "output_type": "execute_result"
    }
   ],
   "source": [
    "Eck_points_perms = []\n",
    "for proj in simm_SE3:\n",
    "    Eck_points_perms.append(Permutation(SE3.apply_proj_to_eck(proj)).to_permutation_group_element())\n",
    "Eck_points_perms_group = PermutationGroup(Eck_points_perms)\n",
    "Eck_points_perms_group.order(), Eck_points_perms_group.structure_description()"
   ]
  },
  {
   "cell_type": "code",
   "execution_count": 26,
   "id": "10792d7c-85ce-41bc-835a-6e8a50546868",
   "metadata": {},
   "outputs": [],
   "source": [
    "# First generator fixes A, permutes C, F. Second permutes A -> C -> F -> A\n",
    "gens = Eck_points_perms_group.gens_small()\n",
    "indices = [Eck_points_perms.index(gen) for gen in gens]"
   ]
  },
  {
   "cell_type": "code",
   "execution_count": 27,
   "id": "f64c6ef6-4a34-4337-b31e-f1374a78b82c",
   "metadata": {},
   "outputs": [],
   "source": [
    "# Study how the simmetries permute the 27 lines"
   ]
  },
  {
   "cell_type": "code",
   "execution_count": 28,
   "id": "923020ce-48ef-4d8a-83c5-d9893cb0860d",
   "metadata": {},
   "outputs": [
    {
     "data": {
      "text/plain": [
       "(6, 'S3')"
      ]
     },
     "execution_count": 28,
     "metadata": {},
     "output_type": "execute_result"
    }
   ],
   "source": [
    "lines_perms = []\n",
    "for simm in simm_SE3:\n",
    "    lines_perms.append(Permutation(SE3.apply_proj_to_lines(simm)).to_permutation_group_element())\n",
    "lines_perms_group = PermutationGroup(lines_perms)\n",
    "lines_perms_group.order(), lines_perms_group.structure_description()"
   ]
  },
  {
   "cell_type": "code",
   "execution_count": 29,
   "id": "f36c1c10-8866-43ca-b6eb-0d24716b3ae7",
   "metadata": {},
   "outputs": [
    {
     "data": {
      "text/plain": [
       "([('E1', 'G4', 'F24', 'F13', 'F34', 'F45'),\n",
       "  ('F13', 'F24', 'G4', 'E1', 'E4', 'F16')],\n",
       " [(2,19)(3,22)(4,7)(5,25)(6,26)(8,13)(9,14)(11,16)(12,17)(18,27)(20,24)(21,23),\n",
       "  (1,14,9)(2,10,19)(3,4,13)(5,17,21)(6,16,20)(7,22,8)(11,26,24)(12,25,23)(15,27,18)])"
      ]
     },
     "execution_count": 29,
     "metadata": {},
     "output_type": "execute_result"
    }
   ],
   "source": [
    "gens_lines = [lines_perms[index] for index in indices]\n",
    "[get_permuted_extended_L_set(perm) for perm in gens_lines], gens_lines"
   ]
  },
  {
   "cell_type": "code",
   "execution_count": 30,
   "id": "5a2ed5b9-2ac3-4cb3-8715-35a62c32beb5",
   "metadata": {},
   "outputs": [
    {
     "data": {
      "text/plain": [
       "True"
      ]
     },
     "execution_count": 30,
     "metadata": {},
     "output_type": "execute_result"
    }
   ],
   "source": [
    "PermutationGroup(gens_lines).is_isomorphic(Eck_points_perms_group)"
   ]
  },
  {
   "cell_type": "code",
   "execution_count": 31,
   "id": "2cd3568b-2b2e-4020-af50-ff59e548f3ab",
   "metadata": {},
   "outputs": [],
   "source": [
    "# Find possible conditions to obtain a subfamily with a larger simmetry group"
   ]
  },
  {
   "cell_type": "code",
   "execution_count": 32,
   "id": "ef3b33d2-266b-4d8a-a09e-493b552c8c99",
   "metadata": {},
   "outputs": [
    {
     "name": "stdout",
     "output_type": "stream",
     "text": [
      "CPU times: user 7.67 s, sys: 65.5 ms, total: 7.74 s\n",
      "Wall time: 7.91 s\n"
     ]
    },
    {
     "data": {
      "text/plain": [
       "[]"
      ]
     },
     "execution_count": 32,
     "metadata": {},
     "output_type": "execute_result"
    }
   ],
   "source": [
    "%time SE3.find_conditions_for_subfamilies(adm_SE3, simm_SE3)"
   ]
  },
  {
   "cell_type": "code",
   "execution_count": null,
   "id": "3c92d746-253d-4f94-a37f-8aa0af1c0c4a",
   "metadata": {},
   "outputs": [],
   "source": []
  },
  {
   "cell_type": "code",
   "execution_count": null,
   "id": "fc9c8445-866b-4ff4-be2c-98be947d015a",
   "metadata": {},
   "outputs": [],
   "source": []
  }
 ],
 "metadata": {
  "kernelspec": {
   "display_name": "SageMath 9.4",
   "language": "sage",
   "name": "sagemath"
  },
  "language_info": {
   "codemirror_mode": {
    "name": "ipython",
    "version": 3
   },
   "file_extension": ".py",
   "mimetype": "text/x-python",
   "name": "python",
   "nbconvert_exporter": "python",
   "pygments_lexer": "ipython3",
   "version": "3.7.12"
  }
 },
 "nbformat": 4,
 "nbformat_minor": 5
}
