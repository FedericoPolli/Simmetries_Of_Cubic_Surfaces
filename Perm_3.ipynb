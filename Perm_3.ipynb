{
 "cells": [
  {
   "cell_type": "code",
   "execution_count": 1,
   "id": "073dfeb5-b3b9-427f-84ed-492617e4b9b2",
   "metadata": {},
   "outputs": [],
   "source": [
    "load('Imports/Utility.sage', 'Imports/Point.sage', 'Imports/Line.sage', 'Imports/TritangentPlane.sage', 'Imports/Group.sage', 'Imports/Cubic.sage')\n",
    "import multiprocessing as mp"
   ]
  },
  {
   "cell_type": "code",
   "execution_count": 2,
   "id": "1c23afbc-6266-4fcb-a7f6-924e92804051",
   "metadata": {},
   "outputs": [],
   "source": [
    "with open('all_permutations.pickle', 'rb') as fil:\n",
    "    all_permutations = pickle.load(fil) "
   ]
  },
  {
   "cell_type": "code",
   "execution_count": 3,
   "id": "6f7d9621-5e38-4a18-8ef3-be7fae97b689",
   "metadata": {},
   "outputs": [],
   "source": [
    "keys = ['E1', 'E2', 'E3', 'E4', 'E5', 'E6', 'G1', 'G2', 'G3', 'G4', 'G5', 'G6', 'F12', 'F13', 'F14', 'F15', 'F16','F23', 'F24', 'F25', 'F26', 'F34', 'F35', 'F36', 'F45', 'F46', 'F56']"
   ]
  },
  {
   "cell_type": "code",
   "execution_count": 4,
   "id": "af575412-2c5b-4466-920d-0a125f21c0ba",
   "metadata": {},
   "outputs": [],
   "source": [
    "all_perms = [from_labels_to_perm(labels) for labels in all_permutations]"
   ]
  },
  {
   "cell_type": "code",
   "execution_count": 5,
   "id": "17d6941e-cb50-48b1-9b79-6f64cedc5aa8",
   "metadata": {},
   "outputs": [],
   "source": [
    "Gr = PermutationGroup(all_perms)"
   ]
  },
  {
   "cell_type": "code",
   "execution_count": 6,
   "id": "d85aa026-00dc-4bf4-80a1-479d314bead9",
   "metadata": {},
   "outputs": [],
   "source": [
    "order3_perm = []\n",
    "for perm in all_perms:\n",
    "    if perm.order() == 3:\n",
    "        order3_perm.append(perm)"
   ]
  },
  {
   "cell_type": "code",
   "execution_count": 7,
   "id": "69bae8ab-6e6d-4388-a609-860c4bd1aa56",
   "metadata": {},
   "outputs": [
    {
     "data": {
      "text/plain": [
       "800"
      ]
     },
     "execution_count": 7,
     "metadata": {},
     "output_type": "execute_result"
    }
   ],
   "source": [
    "len(order3_perm)"
   ]
  },
  {
   "cell_type": "code",
   "execution_count": 11,
   "id": "9bbeb028-2c8f-402b-8d61-e15e2c216218",
   "metadata": {},
   "outputs": [],
   "source": [
    "labels_order3 = [from_perm_to_labels(perm) for perm in order3_perm]"
   ]
  },
  {
   "cell_type": "code",
   "execution_count": 76,
   "id": "f94885fd-2188-4d73-9954-ece5ecdf8f4b",
   "metadata": {},
   "outputs": [],
   "source": [
    "index = 0"
   ]
  },
  {
   "cell_type": "code",
   "execution_count": 77,
   "id": "830ba041-1032-488d-b5cc-add5bc54d7c1",
   "metadata": {},
   "outputs": [
    {
     "data": {
      "text/plain": [
       "(3,27,4)(5,26,24)(6,25,23)(7,18,19)(8,14,15)(9,10,13)"
      ]
     },
     "execution_count": 77,
     "metadata": {},
     "output_type": "execute_result"
    }
   ],
   "source": [
    "order3_perm[index]"
   ]
  },
  {
   "cell_type": "code",
   "execution_count": 73,
   "id": "07cec6f6-dd0c-4402-b3de-df6adaee6176",
   "metadata": {},
   "outputs": [
    {
     "name": "stdout",
     "output_type": "stream",
     "text": [
      "['E1', 'E2', 'E5', 'E3', 'E4', 'E6', 'G1', 'G2', 'G5', 'G3', 'G4', 'G6', 'F12', 'F15', 'F13', 'F14', 'F16', 'F25', 'F23', 'F24', 'F26', 'F35', 'F45', 'F56', 'F34', 'F36', 'F46']\n"
     ]
    }
   ],
   "source": [
    "print(labels_order3[index])"
   ]
  },
  {
   "cell_type": "code",
   "execution_count": 15,
   "id": "7730fd6d-baf5-4891-9b28-5c99642e3fc2",
   "metadata": {},
   "outputs": [],
   "source": [
    "L_set_base = ['E1', 'G4', 'E2', 'G3', 'E3', 'E5']"
   ]
  },
  {
   "cell_type": "code",
   "execution_count": 16,
   "id": "3255fa19-4338-486c-a9d4-227151ce24a0",
   "metadata": {},
   "outputs": [
    {
     "data": {
      "text/plain": [
       "['E1', 'F12', 'E2', 'G4', 'F56', 'F46']"
      ]
     },
     "execution_count": 16,
     "metadata": {},
     "output_type": "execute_result"
    }
   ],
   "source": [
    "L_set_permuted = [labels_order3[index][keys.index(label)] for label in L_set_base]\n",
    "L_set_permuted"
   ]
  },
  {
   "cell_type": "code",
   "execution_count": 43,
   "id": "21967230-0942-4b52-a41a-b865769ef5ce",
   "metadata": {},
   "outputs": [],
   "source": [
    "var('xx')\n",
    "Q.<i> = NumberField(xx^2+3)"
   ]
  },
  {
   "cell_type": "code",
   "execution_count": 44,
   "id": "44bd2305-5c86-4461-bc99-a1c5e9e92868",
   "metadata": {},
   "outputs": [],
   "source": [
    "P.<x,y,z,t,b,c,d,e,f,l,m> = PolynomialRing(Q)"
   ]
  },
  {
   "cell_type": "code",
   "execution_count": 45,
   "id": "be1b7f6a-77cf-4676-9bc9-d75efae4e45c",
   "metadata": {},
   "outputs": [],
   "source": [
    "cubic_new = e*f*(2*x^2*y-2*x*y^2+x*z^2-x*z*t-y*t^2+y*z*t)+b*c*(x-t)*(x*z+y*t)+c*c*(z+t)*(y*t-x*z)+d*c*(y-z)*(x*z+y*t)+(e+f)*c*(x-y)*(y*t-x*z)"
   ]
  },
  {
   "cell_type": "code",
   "execution_count": 46,
   "id": "74a08b9b-f842-4d6f-a947-c928d02e7f19",
   "metadata": {},
   "outputs": [],
   "source": [
    "sing_cubics = (-1) * (-c + f) * (-c + e) * c * (c + f) * (c + e) * (-e + f)^2 * (-c*d + c*f + e*f) * (-c*d + c*e + e*f) * (-c^2 - c*d + e*f) * (b*c - c*f + e*f) * (b*c - c*e + e*f) * (b*c - c*d + 2*e*f) * (b*c - c^2 + e*f) * (b*c^2 + c^2*d + b*c*f - 2*c^2*f - c*d*f + 2*e*f^2) * (b*c^2 + c^2*d + b*c*e - 2*c^2*e - c*d*e + 2*e^2*f) * (-b*c^3 - 2*b*c^2*d + c^3*d + b*c^2*e + c^2*d*e + b*c^2*f + c^2*d*f + 3*b*c*e*f - 4*c^2*e*f - 3*c*d*e*f + 4*e^2*f^2)"
   ]
  },
  {
   "cell_type": "code",
   "execution_count": 47,
   "id": "aa0bea2d-c443-4e11-b764-bf5e6b17ee4e",
   "metadata": {},
   "outputs": [],
   "source": [
    "line = Line([y, z])"
   ]
  },
  {
   "cell_type": "code",
   "execution_count": 48,
   "id": "0a332c47-a2d3-4e42-8670-af705a219baf",
   "metadata": {},
   "outputs": [],
   "source": [
    "general_cubic = Cubic(cubic_new, line, sing_cubics)"
   ]
  },
  {
   "cell_type": "code",
   "execution_count": 49,
   "id": "baa50737-5396-4260-981b-85a898e844e7",
   "metadata": {},
   "outputs": [],
   "source": [
    "base_five_points = get_five_points_in_general_position(general_cubic.get_L_set_in_plucker(L_set_base[0:5]))"
   ]
  },
  {
   "cell_type": "code",
   "execution_count": 50,
   "id": "6f60704d-cf2b-4953-9267-4b93982189c2",
   "metadata": {},
   "outputs": [],
   "source": [
    "mat = find_projectivity(base_five_points, general_cubic.get_L_set_in_plucker(L_set_permuted[0:5]))"
   ]
  },
  {
   "cell_type": "code",
   "execution_count": 55,
   "id": "782506dd-0c8b-4f2e-af7c-0669306cac0c",
   "metadata": {},
   "outputs": [],
   "source": [
    "cl = general_cubic.cl_lines"
   ]
  },
  {
   "cell_type": "code",
   "execution_count": 57,
   "id": "e9520e63-ab40-4438-a906-690ef7692777",
   "metadata": {},
   "outputs": [],
   "source": [
    "#cl['E1'] == cl['E1'].apply_proj(mat)"
   ]
  },
  {
   "cell_type": "code",
   "execution_count": 58,
   "id": "837ad95f-fbdb-444e-b389-e9753314f3eb",
   "metadata": {},
   "outputs": [],
   "source": [
    "#cl['G4'] == cl['F12'].apply_proj(mat)"
   ]
  },
  {
   "cell_type": "code",
   "execution_count": 59,
   "id": "610ebb3d-7033-44b2-9d62-d4c7aa00547c",
   "metadata": {},
   "outputs": [],
   "source": [
    "#cl['E2'] == cl['E2'].apply_proj(mat)"
   ]
  },
  {
   "cell_type": "code",
   "execution_count": 60,
   "id": "f0df073e-079e-4ebe-8ea7-8493fdcd4f0c",
   "metadata": {},
   "outputs": [],
   "source": [
    "#cl['G3'] == cl['G4'].apply_proj(mat)"
   ]
  },
  {
   "cell_type": "code",
   "execution_count": 61,
   "id": "6dfa2b51-0533-44d1-9f5e-0e136593103d",
   "metadata": {},
   "outputs": [],
   "source": [
    "#cl['E3'] == cl['F56'].apply_proj(mat)"
   ]
  },
  {
   "cell_type": "code",
   "execution_count": 31,
   "id": "f8e98b56-a3ae-474d-a9cd-394c76c2a71f",
   "metadata": {},
   "outputs": [],
   "source": [
    "conds1 = list(set(matrix([cl['F12'].plucker, cl['G3'].apply_proj(mat).plucker]).minors(2)))"
   ]
  },
  {
   "cell_type": "code",
   "execution_count": 32,
   "id": "0852648f-06e9-4f9f-9b11-fbf860ddb869",
   "metadata": {},
   "outputs": [],
   "source": [
    "conds2 = list(set(matrix([cl['F56'].plucker, cl['E4'].apply_proj(mat).plucker]).minors(2)))"
   ]
  },
  {
   "cell_type": "code",
   "execution_count": 33,
   "id": "111d978d-09e9-4be3-b0b3-2b2a9ad543e2",
   "metadata": {},
   "outputs": [],
   "source": [
    "conds3 = list(set(matrix([cl['F46'].plucker, cl['F36'].apply_proj(mat).plucker]).minors(2)))"
   ]
  },
  {
   "cell_type": "code",
   "execution_count": 34,
   "id": "f8fc5c32-757a-456a-94d7-7237a5c9d3a9",
   "metadata": {},
   "outputs": [],
   "source": [
    "conds4 = list(set(matrix([cl['E5'].plucker, cl['F46'].apply_proj(mat).plucker]).minors(2)))"
   ]
  },
  {
   "cell_type": "code",
   "execution_count": 36,
   "id": "677dd073-f32e-4e0d-b293-5085ed781b54",
   "metadata": {},
   "outputs": [],
   "source": [
    "#gb = P.ideal(list(set(conds1+conds2+conds3+conds4))).groebner_basis() "
   ]
  },
  {
   "cell_type": "code",
   "execution_count": 62,
   "id": "0960ca22-45a2-42a9-a6ef-5af4559c9669",
   "metadata": {},
   "outputs": [],
   "source": [
    "vrs = P.gens()[0:4]\n",
    "mon = (sum(vrs) ^ 3).monomials()\n",
    "change_coord = vector(vrs) * mat\n",
    "sost = {vrs[i]: change_coord[i] for i in range(4)}\n",
    "new_cubic = general_cubic.eqn.subs(sost)"
   ]
  },
  {
   "cell_type": "code",
   "execution_count": 63,
   "id": "37a249ea-cacd-46f6-915c-1b2794a2b989",
   "metadata": {},
   "outputs": [],
   "source": [
    "coeffs = list(set(matrix([[general_cubic.eqn.coefficient(mn) for mn in mon], [new_cubic.coefficient(mn) for mn in mon]]).minors(2)))"
   ]
  },
  {
   "cell_type": "code",
   "execution_count": 64,
   "id": "cfbfb22f-c0c9-465d-8391-1fb6927df28d",
   "metadata": {},
   "outputs": [],
   "source": [
    "conds = [remove_sing_factors(el, general_cubic.sing_cubic) for el in coeffs if el != 0]"
   ]
  },
  {
   "cell_type": "code",
   "execution_count": 70,
   "id": "b3c37c31-7bd7-496d-9ec7-b7044c284b9e",
   "metadata": {},
   "outputs": [
    {
     "data": {
      "text/plain": [
       "[Ideal (d - e + f, c + e, b - 2*f) of Multivariate Polynomial Ring in x, y, z, t, b, c, d, e, f, l, m over Number Field in i with defining polynomial xx^2 + 3,\n",
       " Ideal (d + e - f, c + f, b - 2*e) of Multivariate Polynomial Ring in x, y, z, t, b, c, d, e, f, l, m over Number Field in i with defining polynomial xx^2 + 3,\n",
       " Ideal (e - f, b + d - 2*f, c*d - c*f - f^2) of Multivariate Polynomial Ring in x, y, z, t, b, c, d, e, f, l, m over Number Field in i with defining polynomial xx^2 + 3,\n",
       " Ideal (e + f, d, 3*c + (-i)*f, b) of Multivariate Polynomial Ring in x, y, z, t, b, c, d, e, f, l, m over Number Field in i with defining polynomial xx^2 + 3,\n",
       " Ideal (e + f, d, 3*c + (i)*f, b) of Multivariate Polynomial Ring in x, y, z, t, b, c, d, e, f, l, m over Number Field in i with defining polynomial xx^2 + 3,\n",
       " Ideal (d - 2*e, c - f, b + e - f) of Multivariate Polynomial Ring in x, y, z, t, b, c, d, e, f, l, m over Number Field in i with defining polynomial xx^2 + 3,\n",
       " Ideal (d - 2*f, c - e, b - e + f) of Multivariate Polynomial Ring in x, y, z, t, b, c, d, e, f, l, m over Number Field in i with defining polynomial xx^2 + 3,\n",
       " Ideal (e, c, b + d - f) of Multivariate Polynomial Ring in x, y, z, t, b, c, d, e, f, l, m over Number Field in i with defining polynomial xx^2 + 3,\n",
       " Ideal (f, c, b + d - e) of Multivariate Polynomial Ring in x, y, z, t, b, c, d, e, f, l, m over Number Field in i with defining polynomial xx^2 + 3]"
      ]
     },
     "execution_count": 70,
     "metadata": {},
     "output_type": "execute_result"
    }
   ],
   "source": [
    "gb1 = P.ideal(conds).radical().primary_decomposition()\n",
    "gb1"
   ]
  },
  {
   "cell_type": "code",
   "execution_count": 66,
   "id": "552fbe3b-1451-4a00-9f3e-44adc09a5b9f",
   "metadata": {},
   "outputs": [
    {
     "data": {
      "text/plain": [
       "Ideal (e + f, d, 3*c + (-i)*f, b) of Multivariate Polynomial Ring in x, y, z, t, b, c, d, e, f, l, m over Number Field in i with defining polynomial xx^2 + 3"
      ]
     },
     "execution_count": 66,
     "metadata": {},
     "output_type": "execute_result"
    }
   ],
   "source": [
    "gb1[3]"
   ]
  },
  {
   "cell_type": "code",
   "execution_count": 67,
   "id": "a291c175-057f-4249-9966-ae64a6e8a972",
   "metadata": {},
   "outputs": [
    {
     "data": {
      "text/plain": [
       "-6*x^2*y + 6*x*y^2 - 2*x*z^2 + 4*x*z*t - 4*y*z*t + 2*y*t^2"
      ]
     },
     "execution_count": 67,
     "metadata": {},
     "output_type": "execute_result"
    }
   ],
   "source": [
    "nc = general_cubic.subs({e:-f, d:0, b:0}).subs({c:1/3 *i* f})\n",
    "nc"
   ]
  },
  {
   "cell_type": "code",
   "execution_count": 69,
   "id": "954bd9a6-3104-4694-8c9a-5f394342c09d",
   "metadata": {},
   "outputs": [
    {
     "data": {
      "text/plain": [
       "18"
      ]
     },
     "execution_count": 69,
     "metadata": {},
     "output_type": "execute_result"
    }
   ],
   "source": []
  },
  {
   "cell_type": "code",
   "execution_count": null,
   "id": "c3a51147-188c-4ba9-8e57-8337a269561a",
   "metadata": {},
   "outputs": [],
   "source": []
  },
  {
   "cell_type": "code",
   "execution_count": null,
   "id": "416da93d-d775-4bcb-8001-471b9ce5a5ca",
   "metadata": {},
   "outputs": [],
   "source": []
  },
  {
   "cell_type": "code",
   "execution_count": 58,
   "id": "a312c2d2-f0d3-44e9-a201-93ab6cbee130",
   "metadata": {},
   "outputs": [
    {
     "data": {
      "text/plain": [
       "False"
      ]
     },
     "execution_count": 58,
     "metadata": {},
     "output_type": "execute_result"
    }
   ],
   "source": [
    "cl['F56'] == cl['E4'].apply_proj(mat)"
   ]
  },
  {
   "cell_type": "code",
   "execution_count": 59,
   "id": "a4ef3163-5b25-4be1-ae9a-141a96ef75ca",
   "metadata": {},
   "outputs": [
    {
     "data": {
      "text/plain": [
       "False"
      ]
     },
     "execution_count": 59,
     "metadata": {},
     "output_type": "execute_result"
    }
   ],
   "source": [
    "cl['F46'] == cl['F36'].apply_proj(mat)"
   ]
  },
  {
   "cell_type": "code",
   "execution_count": 60,
   "id": "e91838e3-e9f9-4354-8739-fb04fb9bf6cb",
   "metadata": {},
   "outputs": [
    {
     "data": {
      "text/plain": [
       "False"
      ]
     },
     "execution_count": 60,
     "metadata": {},
     "output_type": "execute_result"
    }
   ],
   "source": [
    "cl['E5'] == cl['F46'].apply_proj(mat)"
   ]
  },
  {
   "cell_type": "code",
   "execution_count": null,
   "id": "79fe174d-6c06-47c6-98cd-79cd49d404bb",
   "metadata": {},
   "outputs": [],
   "source": []
  },
  {
   "cell_type": "code",
   "execution_count": null,
   "id": "9629cb0a-3ae9-48ca-924e-f65534c410c2",
   "metadata": {},
   "outputs": [],
   "source": []
  },
  {
   "cell_type": "code",
   "execution_count": null,
   "id": "6db050cb-862f-42c8-9b19-6506bc395215",
   "metadata": {},
   "outputs": [],
   "source": []
  },
  {
   "cell_type": "code",
   "execution_count": null,
   "id": "5b8cf79c-0090-485e-b2ce-1297ce8b8289",
   "metadata": {},
   "outputs": [],
   "source": []
  },
  {
   "cell_type": "code",
   "execution_count": null,
   "id": "bcde4242-276b-42f0-8320-a6a1c2825162",
   "metadata": {},
   "outputs": [],
   "source": []
  },
  {
   "cell_type": "code",
   "execution_count": null,
   "id": "1bcb59df-5779-4b83-a02b-7222291f6a48",
   "metadata": {},
   "outputs": [],
   "source": []
  },
  {
   "cell_type": "code",
   "execution_count": null,
   "id": "8ed79ffb-d690-4ca6-beaf-7159be7ec5e1",
   "metadata": {},
   "outputs": [],
   "source": []
  },
  {
   "cell_type": "code",
   "execution_count": 9,
   "id": "3db85ae7-410f-4a9f-9142-f28b8a3c3bf4",
   "metadata": {},
   "outputs": [],
   "source": [
    "all_fixed_lines3 = []\n",
    "for perm in order3_perm:\n",
    "    fixed_lines = []\n",
    "    for tup in perm.cycle_tuples(singletons=True):\n",
    "        if len(tup) ==1:\n",
    "            fixed_lines.append(tup[0])\n",
    "    if fixed_lines !=[]:\n",
    "        all_fixed_lines3.append(fixed_lines)"
   ]
  },
  {
   "cell_type": "code",
   "execution_count": 10,
   "id": "1db602b8-d714-4a56-9eef-c987d49c846e",
   "metadata": {},
   "outputs": [
    {
     "data": {
      "text/plain": [
       "[1, 2, 11, 12, 16, 17, 20, 21, 22]"
      ]
     },
     "execution_count": 10,
     "metadata": {},
     "output_type": "execute_result"
    }
   ],
   "source": [
    "all_fixed_lines3[0]"
   ]
  },
  {
   "cell_type": "code",
   "execution_count": 11,
   "id": "e94fd1e7-4d0a-488c-8591-d3f938b80809",
   "metadata": {},
   "outputs": [
    {
     "data": {
      "text/plain": [
       "['E1', 'E2', 'G5', 'G6', 'F15', 'F16', 'F25', 'F26', 'F34']"
      ]
     },
     "execution_count": 11,
     "metadata": {},
     "output_type": "execute_result"
    }
   ],
   "source": [
    "[keys[el-1] for el in all_fixed_lines3[0]]"
   ]
  },
  {
   "cell_type": "code",
   "execution_count": 12,
   "id": "f5ee359e-f313-4aec-8923-bf575bde0c7f",
   "metadata": {},
   "outputs": [
    {
     "data": {
      "text/plain": [
       "240"
      ]
     },
     "execution_count": 12,
     "metadata": {},
     "output_type": "execute_result"
    }
   ],
   "source": [
    "len(all_fixed_lines3)"
   ]
  },
  {
   "cell_type": "code",
   "execution_count": 13,
   "id": "f2f8e66e-22db-4f43-b7c2-59d6ea3abf25",
   "metadata": {},
   "outputs": [],
   "source": [
    "order5_perm = []\n",
    "for perm in all_perms:\n",
    "    if perm.order() == 5:\n",
    "        order5_perm.append(perm)"
   ]
  },
  {
   "cell_type": "code",
   "execution_count": 14,
   "id": "659582a0-0e1b-4908-92a1-b01d78a1bf81",
   "metadata": {},
   "outputs": [
    {
     "data": {
      "text/plain": [
       "5184"
      ]
     },
     "execution_count": 14,
     "metadata": {},
     "output_type": "execute_result"
    }
   ],
   "source": [
    "len(order5_perm)"
   ]
  },
  {
   "cell_type": "code",
   "execution_count": 15,
   "id": "c640b445-239c-4973-aab5-1e7d6aacfdf9",
   "metadata": {},
   "outputs": [],
   "source": [
    "all_fixed_lines5 = []\n",
    "for perm in order5_perm:\n",
    "    fixed_lines = []\n",
    "    for tup in perm.cycle_tuples(singletons=True):\n",
    "        if len(tup) ==1:\n",
    "            fixed_lines.append(tup[0])\n",
    "    if fixed_lines !=[]:\n",
    "        all_fixed_lines5.append(fixed_lines)"
   ]
  },
  {
   "cell_type": "code",
   "execution_count": 16,
   "id": "9abeb124-77ba-469d-8f79-35ee4b989a43",
   "metadata": {},
   "outputs": [],
   "source": [
    "for lines in all_fixed_lines5:\n",
    "    if len(lines) !=2:\n",
    "        print(lines)"
   ]
  },
  {
   "cell_type": "code",
   "execution_count": null,
   "id": "bf7b8336-46ee-4fc4-b13f-703a6a4154be",
   "metadata": {},
   "outputs": [],
   "source": []
  },
  {
   "cell_type": "code",
   "execution_count": 17,
   "id": "3a15ce31-0e57-4926-b3ac-63efe8fa56b2",
   "metadata": {},
   "outputs": [
    {
     "data": {
      "text/plain": [
       "[(1,12,14,5,24,9,7,16)(2,26,8,10,23,11,15,27)(3,20)(4,25,17,22,19,13,6,18),\n",
       " (1,19,12,21,14,13,3,26,4,27)(2,24,10,17,20)(5,22)(6,23,18,8,16)(7,15,25,11,9)]"
      ]
     },
     "execution_count": 17,
     "metadata": {},
     "output_type": "execute_result"
    }
   ],
   "source": [
    "E6 = WeylGroup(['E', 6]).as_permutation_group()\n",
    "E6.gens_small()"
   ]
  },
  {
   "cell_type": "code",
   "execution_count": 31,
   "id": "641e9d79-9fe4-4901-99ce-be57e4d92ab7",
   "metadata": {},
   "outputs": [],
   "source": [
    "ord3 = []\n",
    "for el in E6:\n",
    "    if el.order() == 3:\n",
    "        ord3.append(el)"
   ]
  },
  {
   "cell_type": "code",
   "execution_count": 32,
   "id": "42653d1a-f987-4745-a4db-f92dcd45cd48",
   "metadata": {},
   "outputs": [
    {
     "data": {
      "text/plain": [
       "800"
      ]
     },
     "execution_count": 32,
     "metadata": {},
     "output_type": "execute_result"
    }
   ],
   "source": [
    "len(ord3)"
   ]
  },
  {
   "cell_type": "code",
   "execution_count": 33,
   "id": "126233e3-8c48-405a-9d80-ef08959537c3",
   "metadata": {},
   "outputs": [],
   "source": [
    "ord5 = []\n",
    "for el in E6:\n",
    "    if el.order() == 5:\n",
    "        ord5.append(el)"
   ]
  },
  {
   "cell_type": "code",
   "execution_count": 34,
   "id": "9cf58604-71cf-4e0e-a074-7cc106dc75aa",
   "metadata": {},
   "outputs": [
    {
     "data": {
      "text/plain": [
       "5184"
      ]
     },
     "execution_count": 34,
     "metadata": {},
     "output_type": "execute_result"
    }
   ],
   "source": [
    "len(ord5)"
   ]
  },
  {
   "cell_type": "code",
   "execution_count": null,
   "id": "b72a4466-0f6d-4a47-9f74-a6b11962d14b",
   "metadata": {},
   "outputs": [],
   "source": []
  }
 ],
 "metadata": {
  "kernelspec": {
   "display_name": "SageMath 9.4",
   "language": "sage",
   "name": "sagemath"
  },
  "language_info": {
   "codemirror_mode": {
    "name": "ipython",
    "version": 3
   },
   "file_extension": ".py",
   "mimetype": "text/x-python",
   "name": "python",
   "nbconvert_exporter": "python",
   "pygments_lexer": "ipython3",
   "version": "3.7.12"
  }
 },
 "nbformat": 4,
 "nbformat_minor": 5
}
