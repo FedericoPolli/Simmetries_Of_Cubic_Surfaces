{
 "cells": [
  {
   "cell_type": "code",
   "execution_count": 1,
   "id": "95b5619b-8efd-4f4a-b0c2-132dcdde5215",
   "metadata": {},
   "outputs": [],
   "source": [
    "load('../Imports/Utility.sage', '../Imports/Point.sage', '../Imports/Line.sage', '../Imports/TritangentPlane.sage', '../Imports/Group.sage', '../Imports/Cubic.sage')"
   ]
  },
  {
   "cell_type": "code",
   "execution_count": 15,
   "id": "bae94698-1bee-49ad-a385-212a979a6b4d",
   "metadata": {},
   "outputs": [],
   "source": [
    "P.<x,y,z,t,b,c,d,e,f,l,m> = PolynomialRing(QQ)\n",
    "cubic_new = e*f*(2*x^2*y-2*x*y^2+x*z^2-x*z*t-y*t^2+y*z*t)+b*c*(x-t)*(x*z+y*t)+c*c*(z+t)*(y*t-x*z)+d*c*(y-z)*(x*z+y*t)+(e+f)*c*(x-y)*(y*t-x*z)\n",
    "sing_cubics = (-1) * (-c + f) * (-c + e) * c * (c + f) * (c + e) * (-e + f)^2 * (-c*d + c*f + e*f) * (-c*d + c*e + e*f) * (-c^2 - c*d + e*f) * (b*c - c*f + e*f) * (b*c - c*e + e*f) * (b*c - c*d + 2*e*f) * (b*c - c^2 + e*f) * (b*c^2 + c^2*d + b*c*f - 2*c^2*f - c*d*f + 2*e*f^2) * (b*c^2 + c^2*d + b*c*e - 2*c^2*e - c*d*e + 2*e^2*f) * (-b*c^3 - 2*b*c^2*d + c^3*d + b*c^2*e + c^2*d*e + b*c^2*f + c^2*d*f + 3*b*c*e*f - 4*c^2*e*f - 3*c*d*e*f + 4*e^2*f^2)\n",
    "line = Line([y, z])\n",
    "general_cubic = Cubic(cubic_new, line, sing_cubics)"
   ]
  },
  {
   "cell_type": "code",
   "execution_count": 16,
   "id": "cdbda662-c122-44b0-bf83-3197c8b638dc",
   "metadata": {},
   "outputs": [],
   "source": [
    "L_set_base = ('E1', 'G4', 'E2', 'G3', 'E3')"
   ]
  },
  {
   "cell_type": "code",
   "execution_count": 17,
   "id": "39e79ea0-f32a-43cb-ba4f-9e6e90f695c4",
   "metadata": {},
   "outputs": [],
   "source": [
    "# First two are from when a line is fixed, other three when no line fixed. Excluded identity\n",
    "possible_L_sets = [ ('E1', 'G4', 'E2', 'G3', 'F45'),\\\n",
    " ('E1', 'G4', 'E2', 'G3', 'F46'),\\\n",
    " ('F14', 'E1', 'G3', 'F23', 'G5'),\\\n",
    " ('F14', 'E1', 'G3', 'F23', 'G6'),\\\n",
    " ('F14', 'E1', 'G3', 'F23', 'F12')]"
   ]
  },
  {
   "cell_type": "code",
   "execution_count": 18,
   "id": "f09617a3-a5a9-41f5-acb0-b4a7bc285b49",
   "metadata": {},
   "outputs": [
    {
     "name": "stdout",
     "output_type": "stream",
     "text": [
      "CPU times: user 13 s, sys: 15.4 ms, total: 13 s\n",
      "Wall time: 13.1 s\n"
     ]
    }
   ],
   "source": [
    "%time L_set_ideals, all_ideals = general_cubic.find_conditions_on_L_sets(possible_L_sets, \"\", c*(c-f)*(e-f)*(c-e))"
   ]
  },
  {
   "cell_type": "code",
   "execution_count": 19,
   "id": "d8088698-3e3b-42a4-91e2-3e3f14e63e83",
   "metadata": {},
   "outputs": [
    {
     "data": {
      "text/plain": [
       "[18, 18, 9, 9, 3]"
      ]
     },
     "execution_count": 19,
     "metadata": {},
     "output_type": "execute_result"
    }
   ],
   "source": [
    "cubics = [general_cubic.reduce(ideal) for ideal in all_ideals]\n",
    "[len(cubic.eckardt_points_labels) for cubic in cubics]"
   ]
  },
  {
   "cell_type": "code",
   "execution_count": null,
   "id": "8dad78df-8881-450b-af71-fff82a45b2e3",
   "metadata": {},
   "outputs": [],
   "source": []
  }
 ],
 "metadata": {
  "kernelspec": {
   "display_name": "SageMath 9.4",
   "language": "sage",
   "name": "sagemath"
  },
  "language_info": {
   "codemirror_mode": {
    "name": "ipython",
    "version": 3
   },
   "file_extension": ".py",
   "mimetype": "text/x-python",
   "name": "python",
   "nbconvert_exporter": "python",
   "pygments_lexer": "ipython3",
   "version": "3.7.12"
  }
 },
 "nbformat": 4,
 "nbformat_minor": 5
}
