{
 "cells": [
  {
   "cell_type": "code",
   "execution_count": 1,
   "id": "ee309c7b",
   "metadata": {},
   "outputs": [],
   "source": [
    "load('../Imports/Utility.sage', '../Imports/Point.sage', '../Imports/Line.sage', '../Imports/TritangentPlane.sage', '../Imports/Group.sage', '../Imports/Cubic.sage')\n",
    "import multiprocessing as mp\n",
    "import pickle"
   ]
  },
  {
   "cell_type": "code",
   "execution_count": 2,
   "id": "ddaa1f4d-9357-4397-8d9e-23774786999b",
   "metadata": {},
   "outputs": [],
   "source": [
    "xx = QQ['xx'].0\n",
    "Q.<i_rad3> = NumberField(xx^2+3)"
   ]
  },
  {
   "cell_type": "code",
   "execution_count": 3,
   "id": "6bc7eb63-f964-49eb-a2a2-4f76bd0e26b5",
   "metadata": {},
   "outputs": [],
   "source": [
    "P.<x,y,z,t,b,c,d,e,f,l,m> = PolynomialRing(Q)\n",
    "cubic_new = e*f*(2*x^2*y-2*x*y^2+x*z^2-x*z*t-y*t^2+y*z*t)+b*c*(x-t)*(x*z+y*t)+c*c*(z+t)*(y*t-x*z)+d*c*(y-z)*(x*z+y*t)+(e+f)*c*(x-y)*(y*t-x*z)\n",
    "sing_cubics = (-1) * (-c + f) * (-c + e) * c * (c + f) * (c + e) * (-e + f) * (-c*d + c*f + e*f) * (-c*d + c*e + e*f) * (-c^2 - c*d + e*f) * (b*c - c*f + e*f) * (b*c - c*e + e*f) * (b*c - c*d + 2*e*f) * (b*c - c^2 + e*f) * (b*c^2 + c^2*d + b*c*f - 2*c^2*f - c*d*f + 2*e*f^2) * (b*c^2 + c^2*d + b*c*e - 2*c^2*e - c*d*e + 2*e^2*f) * (-b*c^3 - 2*b*c^2*d + c^3*d + b*c^2*e + c^2*d*e + b*c^2*f + c^2*d*f + 3*b*c*e*f - 4*c^2*e*f - 3*c*d*e*f + 4*e^2*f^2)"
   ]
  },
  {
   "cell_type": "code",
   "execution_count": 4,
   "id": "b790f050-9ce7-4d1e-8b60-f50e8b1ac06b",
   "metadata": {},
   "outputs": [],
   "source": [
    "# Define cubic SE18, find and classify the lines and compute the 45 tritangent planes"
   ]
  },
  {
   "cell_type": "code",
   "execution_count": 5,
   "id": "cc700c3b-886c-4379-9032-3c0e04975c46",
   "metadata": {},
   "outputs": [
    {
     "name": "stdout",
     "output_type": "stream",
     "text": [
      "CPU times: user 4.8 s, sys: 39.2 ms, total: 4.84 s\n",
      "Wall time: 4.85 s\n"
     ]
    }
   ],
   "source": [
    "line = Line([y, z])\n",
    "general_cubic = Cubic(cubic_new, line, sing_cubics)\n",
    "%time SE18 = general_cubic.subs({b:-(c*c+e*f)/c, d:(3*e*f - c^2 + c*f + c*e)/(2*c)}).subs({f:c*(3*c-e)/(c+e)}).subs({e : i_rad3*c})"
   ]
  },
  {
   "cell_type": "code",
   "execution_count": 6,
   "id": "a5ec7cab-8b2f-485f-b5dd-1d1fee987912",
   "metadata": {},
   "outputs": [],
   "source": [
    "# Find simmetries"
   ]
  },
  {
   "cell_type": "code",
   "execution_count": 7,
   "id": "a77edc3d-1f77-49df-9795-acd4c5930b85",
   "metadata": {},
   "outputs": [
    {
     "name": "stdout",
     "output_type": "stream",
     "text": [
      "CPU times: user 1.76 s, sys: 88.1 ms, total: 1.85 s\n",
      "Wall time: 17 s\n"
     ]
    },
    {
     "data": {
      "text/plain": [
       "648"
      ]
     },
     "execution_count": 7,
     "metadata": {},
     "output_type": "execute_result"
    }
   ],
   "source": [
    "%time adm_SE18 = SE18.find_admissible_projectivities()\n",
    "len(adm_SE18)"
   ]
  },
  {
   "cell_type": "code",
   "execution_count": 8,
   "id": "8f3162fe-3b2f-4b0d-ba5d-52026be9f3d0",
   "metadata": {},
   "outputs": [
    {
     "name": "stdout",
     "output_type": "stream",
     "text": [
      "CPU times: user 1.6 s, sys: 204 ms, total: 1.8 s\n",
      "Wall time: 2.52 s\n"
     ]
    },
    {
     "data": {
      "text/plain": [
       "648"
      ]
     },
     "execution_count": 8,
     "metadata": {},
     "output_type": "execute_result"
    }
   ],
   "source": [
    "%time simm_SE18 = SE18.find_simmetries(adm_SE18)\n",
    "len(simm_SE18)"
   ]
  },
  {
   "cell_type": "code",
   "execution_count": 9,
   "id": "12755a70-bf01-4ab6-8e48-2c146ecf0ea2",
   "metadata": {},
   "outputs": [],
   "source": [
    "# Study how the simmetries permute the Eckardt points"
   ]
  },
  {
   "cell_type": "code",
   "execution_count": 9,
   "id": "b8a24ace-332f-40ba-9654-ad18d5504cc7",
   "metadata": {},
   "outputs": [
    {
     "data": {
      "text/plain": [
       "(648, '(((C3 x C3 x C3) : (C2 x C2)) : C3) : C2')"
      ]
     },
     "execution_count": 9,
     "metadata": {},
     "output_type": "execute_result"
    }
   ],
   "source": [
    "Eck_perms = [Permutation(SE18.apply_proj_to_eck(proj[0])).to_permutation_group_element() for proj in simm_SE18]\n",
    "Eck_perms_group = PermutationGroup(Eck_perms)\n",
    "Eck_perms_group.order(), Eck_perms_group.structure_description()"
   ]
  },
  {
   "cell_type": "code",
   "execution_count": 10,
   "id": "ecaf28f2-58fd-47ea-bf6d-0f058f6ce053",
   "metadata": {},
   "outputs": [],
   "source": [
    "# Sage's description is not too helpful, but we actually know that the group \n",
    "# is isomorphic to (C3 X C3 X C3) : S4\n",
    "# What is this S4? It is the group of permutations of the four planes containing a C9 configuration\n",
    "# i.e. 12 coplanar lines passing through 9 Eckardt points"
   ]
  },
  {
   "cell_type": "code",
   "execution_count": 11,
   "id": "154911a1",
   "metadata": {},
   "outputs": [
    {
     "data": {
      "text/plain": [
       "42"
      ]
     },
     "execution_count": 11,
     "metadata": {},
     "output_type": "execute_result"
    }
   ],
   "source": [
    "# Build all the lines through three Eckardt points that are not contained is SE18\n",
    "lines_three_eck = []\n",
    "all_planes = []\n",
    "for i in range(16):\n",
    "    for j in range(i+1, 17):\n",
    "        for k in range(j+1, 18):\n",
    "            point1 = SE18.eckardt_points[i]\n",
    "            point2 = SE18.eckardt_points[j]\n",
    "            point3 = SE18.eckardt_points[k]   \n",
    "            line12_pl = Point(matrix([point1, point2]).minors(2))\n",
    "            line23_pl = Point(matrix([point2, point3]).minors(2))\n",
    "            if line12_pl == line23_pl and line12_pl not in [line.plucker for line in lines_three_eck]:\n",
    "                planes = get_two_planes_containing_line([point1, point2])\n",
    "                for plane in planes:\n",
    "                    if plane not in all_planes:\n",
    "                        all_planes.append(plane)\n",
    "                lines_three_eck.append(Line(planes, [point1, point2], line12_pl))\n",
    "len(lines_three_eck)"
   ]
  },
  {
   "cell_type": "code",
   "execution_count": 12,
   "id": "6e2e1c62",
   "metadata": {},
   "outputs": [
    {
     "data": {
      "text/plain": [
       "31"
      ]
     },
     "execution_count": 12,
     "metadata": {},
     "output_type": "execute_result"
    }
   ],
   "source": [
    "# Find all planes containing the lines through three Eckardt points\n",
    "planes = []\n",
    "for line in lines_three_eck:\n",
    "    for line2 in line.get_all_lines_incident_to_self(lines_three_eck):\n",
    "        planes.append(line.get_plane_containing_another_incident_line(line2))\n",
    "planes = list(set(planes))\n",
    "len(planes)"
   ]
  },
  {
   "cell_type": "code",
   "execution_count": 13,
   "id": "3e8bfa80",
   "metadata": {},
   "outputs": [
    {
     "data": {
      "text/plain": [
       "[x + (-i_rad3 - 1)*y - t,\n",
       " x + (-1/4*i_rad3 - 1/4)*y + (1/4*i_rad3 + 1/4)*z,\n",
       " x + (i_rad3 - 1)*y - t,\n",
       " x + (1/4*i_rad3 - 1/4)*y + (-1/4*i_rad3 + 1/4)*z]"
      ]
     },
     "execution_count": 13,
     "metadata": {},
     "output_type": "execute_result"
    }
   ],
   "source": [
    "# The four planes we are looking for are those containing exactly 12 lines on them\n",
    "c9_planes = [plane for plane in planes if [line.is_on_plane(plane) for line in lines_three_eck].count(True) == 12]\n",
    "c9_planes"
   ]
  },
  {
   "cell_type": "code",
   "execution_count": 14,
   "id": "e9d2d1bc",
   "metadata": {},
   "outputs": [],
   "source": [
    "nor_subs = Eck_perms_group.normal_subgroups()"
   ]
  },
  {
   "cell_type": "code",
   "execution_count": 15,
   "id": "3e27e0c1",
   "metadata": {},
   "outputs": [
    {
     "name": "stdout",
     "output_type": "stream",
     "text": [
      "CPU times: user 1min 24s, sys: 138 ms, total: 1min 24s\n",
      "Wall time: 1min 24s\n"
     ]
    }
   ],
   "source": [
    "%time all_subgroups = Eck_perms_group.subgroups()"
   ]
  },
  {
   "cell_type": "code",
   "execution_count": 16,
   "id": "b610ddae",
   "metadata": {},
   "outputs": [
    {
     "data": {
      "text/plain": [
       "('C3 x C3 x C3', True)"
      ]
     },
     "execution_count": 16,
     "metadata": {},
     "output_type": "execute_result"
    }
   ],
   "source": [
    "# all elements of H have order 3\n",
    "H = [el for el in nor_subs if el.order()==27][0]\n",
    "H_gens_indices = [Eck_perms.index(gen) for gen in H.gens_small()]\n",
    "H_gens = H.gens_small()\n",
    "H.structure_description(), list(set([el.order() for el in H if el.cycle_tuples() != []])) == [3]"
   ]
  },
  {
   "cell_type": "code",
   "execution_count": 17,
   "id": "e16831f7",
   "metadata": {},
   "outputs": [
    {
     "data": {
      "text/plain": [
       "True"
      ]
     },
     "execution_count": 17,
     "metadata": {},
     "output_type": "execute_result"
    }
   ],
   "source": [
    "S4 = Eck_perms_group.quotient(H)\n",
    "S4.is_isomorphic(SymmetricGroup(4))"
   ]
  },
  {
   "cell_type": "code",
   "execution_count": 18,
   "id": "bd644125-1281-4f19-ba72-d6c201abcb36",
   "metadata": {},
   "outputs": [],
   "source": [
    "# We now want explicitly a subgroup isomorphic to S4"
   ]
  },
  {
   "cell_type": "code",
   "execution_count": 19,
   "id": "bc8035f2",
   "metadata": {},
   "outputs": [],
   "source": [
    "subS4 = [el for el in all_subgroups if el.is_isomorphic(S4)][0]\n",
    "f = SymmetricGroup(4).isomorphism_to(subS4)\n",
    "S4_gens = [f(gen) for gen in SymmetricGroup(4).gens_small()]\n",
    "S4_gens_indices = [Eck_perms.index(gen) for gen in S4_gens]"
   ]
  },
  {
   "cell_type": "code",
   "execution_count": 20,
   "id": "2e0c8c0c-bdc5-4f07-9933-ca323f5df9fb",
   "metadata": {},
   "outputs": [],
   "source": [
    "gens = H_gens+S4_gens\n",
    "gens_indices = H_gens_indices+S4_gens_indices\n",
    "simms = [simm_SE18[index][0] for index in gens_indices]"
   ]
  },
  {
   "cell_type": "code",
   "execution_count": 21,
   "id": "2655eac4",
   "metadata": {},
   "outputs": [
    {
     "data": {
      "text/plain": [
       "[(), (), (), (1,3,2,4), (1,3)]"
      ]
     },
     "execution_count": 21,
     "metadata": {},
     "output_type": "execute_result"
    }
   ],
   "source": [
    "# H fixes the planes, S4 acts as S4 on the planes\n",
    "perms = []\n",
    "for simm in simms:\n",
    "    coord_change = change_coordinates(simm)\n",
    "    new_planes = [plane.subs(coord_change) for plane in c9_planes]\n",
    "    perm_gen = []\n",
    "    for new_plane in new_planes:\n",
    "        for old_plane in c9_planes:\n",
    "            if matrix([plane_coefficients(old_plane), plane_coefficients(new_plane)]).minors(2) == [0,0,0,0,0,0]:\n",
    "                perm_gen.append(c9_planes.index(old_plane)+1)\n",
    "    perms.append(Permutation(perm_gen).to_permutation_group_element())   \n",
    "perms"
   ]
  },
  {
   "cell_type": "code",
   "execution_count": 22,
   "id": "f01bbb31-f4df-42f1-8eb3-3e441159a3d5",
   "metadata": {},
   "outputs": [
    {
     "data": {
      "text/plain": [
       "[(2,3,15)(6,7,13)(10,11,17),\n",
       " (1,4,16)(2,3,15)(9,18,12)(10,11,17),\n",
       " (5,8,14)(6,13,7)(9,18,12)(10,17,11),\n",
       " (1,9,2,17)(3,11,4,12)(5,7)(6,14,13,8)(10,16,18,15),\n",
       " (3,15)(5,17)(6,18)(7,9)(8,11)(10,14)(12,13)]"
      ]
     },
     "execution_count": 22,
     "metadata": {},
     "output_type": "execute_result"
    }
   ],
   "source": [
    "gens"
   ]
  },
  {
   "cell_type": "code",
   "execution_count": 23,
   "id": "afc984e4",
   "metadata": {},
   "outputs": [],
   "source": [
    "# Study how the simmetries permute the 27 lines"
   ]
  },
  {
   "cell_type": "code",
   "execution_count": 24,
   "id": "e7101e1d-de7d-4cd8-8ba1-31e0fc504f87",
   "metadata": {},
   "outputs": [
    {
     "data": {
      "text/plain": [
       "(648, '(((C3 x C3 x C3) : (C2 x C2)) : C3) : C2')"
      ]
     },
     "execution_count": 24,
     "metadata": {},
     "output_type": "execute_result"
    }
   ],
   "source": [
    "%%time\n",
    "lines_perms = [Permutation(SE18.apply_proj_to_lines(simm[0])).to_permutation_group_element() for simm in simm_SE18]\n",
    "lines_perms_group = PermutationGroup(lines_perms)\n",
    "lines_perms_group.order(), lines_perms_group.structure_description()"
   ]
  },
  {
   "cell_type": "code",
   "execution_count": 25,
   "id": "72862248-5d6d-46d2-b7e8-89444d2816e4",
   "metadata": {},
   "outputs": [
    {
     "data": {
      "text/plain": [
       "([('F13', 'F24', 'G4', 'E1', 'F35', 'F15'),\n",
       "  ('F56', 'F13', 'E1', 'F14', 'E3', 'F26'),\n",
       "  ('E1', 'G4', 'E2', 'G3', 'F45', 'E6'),\n",
       "  ('F15', 'G1', 'E6', 'F26', 'E4', 'F13'),\n",
       "  ('E1', 'G4', 'F24', 'F13', 'F34', 'F45')],\n",
       " [(1,14,9)(2,10,19)(3,23,11)(4,12,26)(5,16,7)(6,8,21)(13,25,24)(15,27,18)(17,20,22),\n",
       "  (1,27,2)(5,21,17)(6,20,16)(7,8,22)(9,15,19)(10,14,18),\n",
       "  (3,25,26)(4,23,24)(5,6,22)(7,21,20)(8,17,16)(11,13,12),\n",
       "  (1,16)(2,6)(3,4,23,25)(5,14,22,15)(7,9,21,10)(8,19,17,18)(12,26,13,24)(20,27),\n",
       "  (2,19)(3,22)(4,7)(5,25)(6,26)(8,13)(9,14)(11,16)(12,17)(18,27)(20,24)(21,23)])"
      ]
     },
     "execution_count": 25,
     "metadata": {},
     "output_type": "execute_result"
    }
   ],
   "source": [
    "gens_lines = [lines_perms[index] for index in gens_indices]\n",
    "[get_permuted_extended_L_set(perm) for perm in gens_lines], gens_lines"
   ]
  },
  {
   "cell_type": "code",
   "execution_count": null,
   "id": "a8c9d4f2-e9bb-4fd9-af21-fce76b261dfe",
   "metadata": {},
   "outputs": [],
   "source": []
  }
 ],
 "metadata": {
  "kernelspec": {
   "display_name": "SageMath 9.4",
   "language": "sage",
   "name": "sagemath"
  },
  "language_info": {
   "codemirror_mode": {
    "name": "ipython",
    "version": 3
   },
   "file_extension": ".py",
   "mimetype": "text/x-python",
   "name": "python",
   "nbconvert_exporter": "python",
   "pygments_lexer": "ipython3",
   "version": "3.7.12"
  }
 },
 "nbformat": 4,
 "nbformat_minor": 5
}
