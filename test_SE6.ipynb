{
 "cells": [
  {
   "cell_type": "code",
   "execution_count": 30,
   "id": "31c016d2-0e06-4a09-bd14-c7d1bd2f3162",
   "metadata": {},
   "outputs": [],
   "source": [
    "load('Imports/Utility.sage', 'Imports/Point.sage', 'Imports/Line.sage', 'Imports/Tritangent_plane.sage', 'Imports/Group.sage', 'Imports/Cubic.sage')\n",
    "import multiprocessing as mp\n",
    "import pickle"
   ]
  },
  {
   "cell_type": "code",
   "execution_count": 31,
   "id": "8c4dea73-b567-474b-b6e7-54a834c32c57",
   "metadata": {},
   "outputs": [],
   "source": [
    "P.<x,y,z,t,b,c,d,e,f,l,m> = PolynomialRing(QQ)"
   ]
  },
  {
   "cell_type": "code",
   "execution_count": 32,
   "id": "5bd87531-e2d2-41c9-82d8-b2730917cd22",
   "metadata": {},
   "outputs": [],
   "source": [
    "cubic_new = e*f*(2*x^2*y-2*x*y^2+x*z^2-x*z*t-y*t^2+y*z*t)+b*c*(x-t)*(x*z+y*t)+c*c*(z+t)*(y*t-x*z)+d*c*(y-z)*(x*z+y*t)+(e+f)*c*(x-y)*(y*t-x*z)"
   ]
  },
  {
   "cell_type": "code",
   "execution_count": 33,
   "id": "514cd3c6-6d3b-4ac5-b287-591e1be56250",
   "metadata": {},
   "outputs": [],
   "source": [
    "sing_cubics = (-1) * (-c + f) * (-c + e) * c * (c + f) * (c + e) * (-e + f)^2 * (-c*d + c*f + e*f) * (-c*d + c*e + e*f) * (-c^2 - c*d + e*f) * (b*c - c*f + e*f) * (b*c - c*e + e*f) * (b*c - c*d + 2*e*f) * (b*c - c^2 + e*f) * (b*c^2 + c^2*d + b*c*f - 2*c^2*f - c*d*f + 2*e*f^2) * (b*c^2 + c^2*d + b*c*e - 2*c^2*e - c*d*e + 2*e^2*f) * (-b*c^3 - 2*b*c^2*d + c^3*d + b*c^2*e + c^2*d*e + b*c^2*f + c^2*d*f + 3*b*c*e*f - 4*c^2*e*f - 3*c*d*e*f + 4*e^2*f^2)"
   ]
  },
  {
   "cell_type": "code",
   "execution_count": 34,
   "id": "26440112-de8f-4187-806a-fc480dcc8099",
   "metadata": {},
   "outputs": [],
   "source": [
    "line = Line([y, z])"
   ]
  },
  {
   "cell_type": "code",
   "execution_count": 35,
   "id": "5f3c0f10-d8cf-46cd-a79d-e29f4c4d4007",
   "metadata": {},
   "outputs": [],
   "source": [
    "eqn_SE1 = P(cubic_new.subs({b:-(c*c+e*f)/c }) )\n",
    "sing_cubics_SE1 = P(sing_cubics.subs({b:-(c*c+e*f)/c }))"
   ]
  },
  {
   "cell_type": "code",
   "execution_count": 36,
   "id": "347166a3-424a-43a5-b6e1-f706aaaae8b3",
   "metadata": {},
   "outputs": [],
   "source": [
    "eqn_SE3 = P(2*eqn_SE1.subs({d:(3*e*f - c^2 + c*f + c*e)/(2*c)}) )\n",
    "sing_cubics_SE3 = P(sing_cubics_SE1.subs({d:(3*e*f - c^2 + c*f + c*e)/(2*c)}))"
   ]
  },
  {
   "cell_type": "code",
   "execution_count": 37,
   "id": "614e1380-b917-4707-b7db-9e103b70aaeb",
   "metadata": {},
   "outputs": [],
   "source": [
    "eqn_SE6 = P((c+e)*eqn_SE3.subs({f: -c*(5*c+e)/(c+e)})/(4*c))\n",
    "sing_cubics_SE6 = P((c+e)^6*sing_cubics_SE3.subs({f: -c*(5*c+e)/(c+e)}))"
   ]
  },
  {
   "cell_type": "code",
   "execution_count": 38,
   "id": "5811f927-6ba4-4499-bbce-742d7fdc5b5a",
   "metadata": {},
   "outputs": [],
   "source": [
    "SE6 = Cubic(eqn_SE6, line, sing_cubics_SE6.factor())"
   ]
  },
  {
   "cell_type": "code",
   "execution_count": 39,
   "id": "f7565c82-ef72-4172-831d-64b30e081a5b",
   "metadata": {},
   "outputs": [
    {
     "data": {
      "text/plain": [
       "[(0, 0, 0, 1),\n",
       " (0, -c^2 - c*e, 2*c^2 - 3*c*e - e^2, 0),\n",
       " (0, 1, 1, 0),\n",
       " (0, 0, 1, -1),\n",
       " (0, c^2 + c*e, -2*c^2 + 3*c*e + e^2, 3*c^2 - 2*c*e - e^2),\n",
       " (0, c^2 + c*e, c^2 + c*e, -3*c^2 + 2*c*e + e^2)]"
      ]
     },
     "execution_count": 39,
     "metadata": {},
     "output_type": "execute_result"
    }
   ],
   "source": [
    "SE6.eckardt_points"
   ]
  },
  {
   "cell_type": "code",
   "execution_count": 40,
   "id": "32a916da-d0d1-4d16-964b-632285ef0d6b",
   "metadata": {},
   "outputs": [],
   "source": [
    "def apply_proj_to_eck(proj, eck):\n",
    "    new_indices = []\n",
    "    for i in range(len(eck)):\n",
    "        new_indices.append(eck.index(eck[i]*proj)+1)\n",
    "    return new_indices"
   ]
  },
  {
   "cell_type": "code",
   "execution_count": 42,
   "id": "96f6e833-5d4b-43cf-a499-182e78f4b27f",
   "metadata": {},
   "outputs": [
    {
     "data": {
      "text/plain": [
       "[['E1', 'G4', 'F14'],\n",
       " ['E2', 'G1', 'F12'],\n",
       " ['E2', 'G3', 'F23'],\n",
       " ['E3', 'G4', 'F34'],\n",
       " ['E4', 'G2', 'F24'],\n",
       " ['F13', 'F24', 'F56']]"
      ]
     },
     "execution_count": 42,
     "metadata": {},
     "output_type": "execute_result"
    }
   ],
   "source": [
    "labels = [pl.labels for pl in SE6.tritangent_planes if pl.conditions == 0]\n",
    "keys = list(SE6.cl_lines.keys())\n",
    "labels"
   ]
  },
  {
   "cell_type": "code",
   "execution_count": 43,
   "id": "c52257b0-13c4-47c7-ba94-c978401e4e3e",
   "metadata": {},
   "outputs": [],
   "source": [
    "adm_perm = SE6.find_admissible_permutations()"
   ]
  },
  {
   "cell_type": "code",
   "execution_count": 44,
   "id": "d9fe818d-6ab7-4392-913a-f54efb270509",
   "metadata": {},
   "outputs": [
    {
     "data": {
      "text/plain": [
       "['E3', 'G4', 'F34']"
      ]
     },
     "execution_count": 44,
     "metadata": {},
     "output_type": "execute_result"
    }
   ],
   "source": [
    "[adm_perm[0][keys.index(label)] for label in labels[3]]"
   ]
  },
  {
   "cell_type": "code",
   "execution_count": 45,
   "id": "e614c87d-1eb0-4a3b-aa9f-b6ce9b52ee46",
   "metadata": {},
   "outputs": [
    {
     "name": "stdout",
     "output_type": "stream",
     "text": [
      "['E1', 'E2', 'E3', 'E4', 'E6', 'E5', 'G1', 'G2', 'G3', 'G4', 'G6', 'G5', 'F12', 'F13', 'F14', 'F16', 'F15', 'F23', 'F24', 'F26', 'F25', 'F34', 'F36', 'F35', 'F46', 'F45', 'F56']\n"
     ]
    }
   ],
   "source": [
    "print(adm_perm[0])"
   ]
  },
  {
   "cell_type": "code",
   "execution_count": 47,
   "id": "ad4d5356-2b73-4112-ab45-5983aae0df90",
   "metadata": {},
   "outputs": [],
   "source": [
    "resulting_L_sets = []\n",
    "conjugate_perm = []\n",
    "for perm in adm_perm:\n",
    "    perm_L_set = [perm[list(SE6.cl_lines.keys()).index(label)] for label in ['E1', 'G4', 'E2', 'G3', 'E3']]\n",
    "    if perm_L_set not in resulting_L_sets:\n",
    "        resulting_L_sets.append(perm_L_set)\n",
    "    else:\n",
    "        conjugate_perm.append(perm)"
   ]
  },
  {
   "cell_type": "code",
   "execution_count": 48,
   "id": "1584a1c3-9397-4c8d-9967-3ce3b71381b5",
   "metadata": {},
   "outputs": [
    {
     "data": {
      "text/plain": [
       "48"
      ]
     },
     "execution_count": 48,
     "metadata": {},
     "output_type": "execute_result"
    }
   ],
   "source": [
    "len(conjugate_perm)"
   ]
  },
  {
   "cell_type": "code",
   "execution_count": 49,
   "id": "d65f3fe2-4fd4-4713-b07a-16f4ab800f8c",
   "metadata": {},
   "outputs": [],
   "source": [
    "adm_proj = SE6.find_admissible_projectivities()"
   ]
  },
  {
   "cell_type": "code",
   "execution_count": 50,
   "id": "1ae82e2f-96fa-4315-8df6-74e6a8a0f682",
   "metadata": {},
   "outputs": [],
   "source": [
    "simm_SE6 = SE6.find_simmetries(adm_proj)"
   ]
  },
  {
   "cell_type": "code",
   "execution_count": 52,
   "id": "f32b1343-3f72-46c5-8981-05efca175d6d",
   "metadata": {},
   "outputs": [
    {
     "data": {
      "text/plain": [
       "48"
      ]
     },
     "execution_count": 52,
     "metadata": {},
     "output_type": "execute_result"
    }
   ],
   "source": [
    "len(adm_proj)"
   ]
  },
  {
   "cell_type": "code",
   "execution_count": 69,
   "id": "fd40b066-c1d0-4ffd-b40b-13a048e9334a",
   "metadata": {},
   "outputs": [
    {
     "name": "stdout",
     "output_type": "stream",
     "text": [
      "48\n"
     ]
    }
   ],
   "source": [
    "perms = []\n",
    "normal_perm = [perm for perm in adm_perm if perm not in conjugate_perm]\n",
    "print(len(normal_perm))\n",
    "for simm in simm_SE6:\n",
    "    perm = normal_perm[adm_proj.index(simm)]\n",
    "    perms.append(Permutation([perm.index(label)+1 for label in keys]).to_cycles())\n",
    "    #perm = conjugate_perm[adm_proj.index(simm)]\n",
    "    #perms.append(Permutation([perm.index(label)+1 for label in keys]).to_cycles())"
   ]
  },
  {
   "cell_type": "code",
   "execution_count": 70,
   "id": "b6316c01-c513-4e3a-abe7-936c58e7f26f",
   "metadata": {},
   "outputs": [
    {
     "data": {
      "text/plain": [
       "24"
      ]
     },
     "execution_count": 70,
     "metadata": {},
     "output_type": "execute_result"
    }
   ],
   "source": [
    "len(perms)"
   ]
  },
  {
   "cell_type": "code",
   "execution_count": 62,
   "id": "c12b567f-f1ef-4f4d-91e7-56582687d918",
   "metadata": {},
   "outputs": [],
   "source": [
    "Gr = PermutationGroup(perms)"
   ]
  },
  {
   "cell_type": "code",
   "execution_count": 74,
   "id": "f2582555-4fb3-4944-bcc1-52ae01e9671e",
   "metadata": {},
   "outputs": [],
   "source": [
    "subgr = []\n",
    "for subg in Gr.subgroups():\n",
    "    if subg.order() == 24:\n",
    "        subgr.append(subg)"
   ]
  },
  {
   "cell_type": "code",
   "execution_count": 129,
   "id": "489e5bbe-d5f9-490c-9e64-cd57f2cb453e",
   "metadata": {},
   "outputs": [
    {
     "data": {
      "text/plain": [
       "{1: 1,\n",
       " 2: 19,\n",
       " 3: 22,\n",
       " 4: 7,\n",
       " 5: 25,\n",
       " 6: 26,\n",
       " 7: 4,\n",
       " 8: 13,\n",
       " 9: 14,\n",
       " 10: 10,\n",
       " 11: 16,\n",
       " 12: 17,\n",
       " 13: 8,\n",
       " 14: 9,\n",
       " 15: 15,\n",
       " 16: 11,\n",
       " 17: 12,\n",
       " 18: 27,\n",
       " 19: 2,\n",
       " 20: 24,\n",
       " 21: 23,\n",
       " 22: 3,\n",
       " 23: 21,\n",
       " 24: 20,\n",
       " 25: 5,\n",
       " 26: 6,\n",
       " 27: 18}"
      ]
     },
     "execution_count": 129,
     "metadata": {},
     "output_type": "execute_result"
    }
   ],
   "source": [
    "subgr[0].gens()[0].dict()"
   ]
  },
  {
   "cell_type": "code",
   "execution_count": 145,
   "id": "dfd08807-c125-4f3b-bec9-0e7f30d6b9b4",
   "metadata": {},
   "outputs": [],
   "source": [
    "L_set = []\n",
    "for key in [1, 10, 2,9,3]:\n",
    "    L_set.append(keys[subgr[0].gens()[1].dict()[key]])"
   ]
  },
  {
   "cell_type": "code",
   "execution_count": 146,
   "id": "2534f043-a1a2-4bef-9a13-e5cec995a0cb",
   "metadata": {},
   "outputs": [
    {
     "data": {
      "text/plain": [
       "['E4', 'G5', 'E3', 'F24', 'E2']"
      ]
     },
     "execution_count": 146,
     "metadata": {},
     "output_type": "execute_result"
    }
   ],
   "source": [
    "L_set"
   ]
  },
  {
   "cell_type": "code",
   "execution_count": 147,
   "id": "edb361ad-3002-4c3f-94f1-5f338e0dcff2",
   "metadata": {},
   "outputs": [
    {
     "data": {
      "text/plain": [
       "False"
      ]
     },
     "execution_count": 147,
     "metadata": {},
     "output_type": "execute_result"
    }
   ],
   "source": [
    "find_all_proj_parallel(SE6.cl_lines, [L_set]) in simm_SE6"
   ]
  },
  {
   "cell_type": "code",
   "execution_count": null,
   "id": "806a6674-af55-45df-a116-bcbc341207f9",
   "metadata": {},
   "outputs": [],
   "source": []
  }
 ],
 "metadata": {
  "kernelspec": {
   "display_name": "SageMath 9.3",
   "language": "sage",
   "name": "sagemath"
  },
  "language_info": {
   "codemirror_mode": {
    "name": "ipython",
    "version": 3
   },
   "file_extension": ".py",
   "mimetype": "text/x-python",
   "name": "python",
   "nbconvert_exporter": "python",
   "pygments_lexer": "ipython3",
   "version": "3.7.10"
  }
 },
 "nbformat": 4,
 "nbformat_minor": 5
}
