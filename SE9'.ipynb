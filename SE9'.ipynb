{
 "cells": [
  {
   "cell_type": "code",
   "execution_count": 1,
   "id": "068e4a42-507f-47ab-aceb-fd63ff79c088",
   "metadata": {},
   "outputs": [],
   "source": [
    "load('Imports/Utility.sage', 'Imports/Point.sage', 'Imports/Line.sage', 'Imports/Tritangent_plane.sage', 'Imports/Group.sage', 'Imports/Cubic.sage')\n",
    "import multiprocessing as mp\n",
    "import pickle"
   ]
  },
  {
   "cell_type": "code",
   "execution_count": 2,
   "id": "be48477e-2796-409b-aa58-86796681a7fd",
   "metadata": {},
   "outputs": [],
   "source": [
    "var('nv')\n",
    "K1.<gamma> = NumberField(nv^4-4*nv^2+16)"
   ]
  },
  {
   "cell_type": "code",
   "execution_count": 3,
   "id": "d4d65f29-b909-43d4-ad8c-a8ce4de08594",
   "metadata": {},
   "outputs": [],
   "source": [
    "P.<x,y,z,t,b,c,d,e,f,l,m> = PolynomialRing(K1)"
   ]
  },
  {
   "cell_type": "code",
   "execution_count": 4,
   "id": "101299c7-c15d-4264-a9ea-e1edf1400baa",
   "metadata": {},
   "outputs": [],
   "source": [
    "cubic_new = e*f*(2*x^2*y-2*x*y^2+x*z^2-x*z*t-y*t^2+y*z*t)+b*c*(x-t)*(x*z+y*t)+c*c*(z+t)*(y*t-x*z)+d*c*(y-z)*(x*z+y*t)+(e+f)*c*(x-y)*(y*t-x*z)"
   ]
  },
  {
   "cell_type": "code",
   "execution_count": 5,
   "id": "470c848c-fc42-45f9-99fd-2d46a44d6a6f",
   "metadata": {},
   "outputs": [],
   "source": [
    "sing_cubics = (-1) * (-c + f) * (-c + e) * c * (c + f) * (c + e) * (-e + f)^2 * (-c*d + c*f + e*f) * (-c*d + c*e + e*f) * (-c^2 - c*d + e*f) * (b*c - c*f + e*f) * (b*c - c*e + e*f) * (b*c - c*d + 2*e*f) * (b*c - c^2 + e*f) * (b*c^2 + c^2*d + b*c*f - 2*c^2*f - c*d*f + 2*e*f^2) * (b*c^2 + c^2*d + b*c*e - 2*c^2*e - c*d*e + 2*e^2*f) * (-b*c^3 - 2*b*c^2*d + c^3*d + b*c^2*e + c^2*d*e + b*c^2*f + c^2*d*f + 3*b*c*e*f - 4*c^2*e*f - 3*c*d*e*f + 4*e^2*f^2)"
   ]
  },
  {
   "cell_type": "code",
   "execution_count": 6,
   "id": "4ef0439d-b569-4e52-aeef-4bae83befcff",
   "metadata": {},
   "outputs": [],
   "source": [
    "line = Line([y, z])"
   ]
  },
  {
   "cell_type": "code",
   "execution_count": 7,
   "id": "364399ac-86fe-4867-baa4-cdb044c33b8f",
   "metadata": {},
   "outputs": [],
   "source": [
    "general_cubic = Cubic(cubic_new, line, sing_cubics)"
   ]
  },
  {
   "cell_type": "code",
   "execution_count": 8,
   "id": "b9007c6b-9130-4528-b283-b3e76ea8ff57",
   "metadata": {},
   "outputs": [],
   "source": [
    "SE9 = general_cubic.subs({b:-(c*c+e*f)/c, d:(3*e*f - c^2 + c*f + c*e)/(2*c)}).subs({e : (-1/2*gamma^2 + 1)*c})"
   ]
  },
  {
   "cell_type": "code",
   "execution_count": 9,
   "id": "7cff43b5-2baa-4ead-84bf-12b88cfd754c",
   "metadata": {},
   "outputs": [
    {
     "name": "stdout",
     "output_type": "stream",
     "text": [
      "CPU times: user 9.44 s, sys: 275 ms, total: 9.72 s\n",
      "Wall time: 1min 7s\n"
     ]
    }
   ],
   "source": [
    "%time adm_SE9 = SE9.find_admissible_projectivities()"
   ]
  },
  {
   "cell_type": "code",
   "execution_count": 10,
   "id": "bd34f644-2e56-4f7d-9435-03227e52e50b",
   "metadata": {},
   "outputs": [
    {
     "data": {
      "text/plain": [
       "1296"
      ]
     },
     "execution_count": 10,
     "metadata": {},
     "output_type": "execute_result"
    }
   ],
   "source": [
    "len(adm_SE9)"
   ]
  },
  {
   "cell_type": "code",
   "execution_count": 11,
   "id": "11744345-ddb4-4a10-a9da-360cd43b24f1",
   "metadata": {},
   "outputs": [
    {
     "name": "stdout",
     "output_type": "stream",
     "text": [
      "CPU times: user 5.79 s, sys: 210 ms, total: 6 s\n",
      "Wall time: 7.72 s\n"
     ]
    }
   ],
   "source": [
    "%time simm_SE9 = SE9.find_simmetries(adm_SE9)"
   ]
  },
  {
   "cell_type": "code",
   "execution_count": 12,
   "id": "01e12a1c-5a8d-4831-833b-d4ca05d8b325",
   "metadata": {},
   "outputs": [
    {
     "data": {
      "text/plain": [
       "54"
      ]
     },
     "execution_count": 12,
     "metadata": {},
     "output_type": "execute_result"
    }
   ],
   "source": [
    "len(simm_SE9)"
   ]
  },
  {
   "cell_type": "code",
   "execution_count": 13,
   "id": "9c8ba105-1303-4c1b-ab2e-2c2f635062b3",
   "metadata": {},
   "outputs": [
    {
     "name": "stdout",
     "output_type": "stream",
     "text": [
      "CPU times: user 4min 4s, sys: 5.21 s, total: 4min 9s\n",
      "Wall time: 4min 15s\n"
     ]
    }
   ],
   "source": [
    "%time conds = find_conditions_for_subfamilies(SE9, adm_SE9, simm_SE9)"
   ]
  },
  {
   "cell_type": "code",
   "execution_count": 14,
   "id": "c404ad30-f39e-4b66-aab9-900d18f5e31e",
   "metadata": {},
   "outputs": [
    {
     "data": {
      "text/plain": [
       "[[13*c + (-gamma^3 - gamma^2 + 3*gamma + 3)*f],\n",
       " [4*c + (-gamma^3 + 2*gamma^2 - 4)*f],\n",
       " [4*c + (gamma^3 + 2*gamma^2 - 4)*f],\n",
       " [52*c + (gamma^3 - 4*gamma^2 + 12*gamma + 4)*f],\n",
       " [52*c + (-gamma^3 - 4*gamma^2 - 12*gamma + 4)*f],\n",
       " [13*c + (gamma^3 - gamma^2 - 3*gamma + 3)*f]]"
      ]
     },
     "execution_count": 14,
     "metadata": {},
     "output_type": "execute_result"
    }
   ],
   "source": [
    "conds"
   ]
  },
  {
   "cell_type": "code",
   "execution_count": 15,
   "id": "917c6098-81f9-4935-93ea-d1d14296e2ed",
   "metadata": {},
   "outputs": [],
   "source": [
    "sol = solve_linear_system(conds[1], [c], [f])"
   ]
  },
  {
   "cell_type": "code",
   "execution_count": 16,
   "id": "c94221cc-665e-40e3-bb65-fa67203fd8eb",
   "metadata": {},
   "outputs": [],
   "source": [
    "SE9_1 = SE9.subs({c:sol[0], f:sol[1]})"
   ]
  },
  {
   "cell_type": "code",
   "execution_count": 17,
   "id": "279ca41a-4b77-441f-8b00-5ecf2966ac53",
   "metadata": {},
   "outputs": [
    {
     "data": {
      "text/plain": [
       "(-16*gamma^2 + 32)*x^2*y + (16*gamma^2 - 32)*x*y^2 + (16*gamma^2 - 32*gamma)*x^2*z + (-8*gamma^3 - 8*gamma^2 + 48*gamma - 32)*x*y*z + (8*gamma^2 - 16*gamma)*x*z^2 + (-8*gamma^3 + 16*gamma^2 + 32*gamma - 64)*x*y*t + (-8*gamma^2 - 16*gamma + 32)*y^2*t + (8*gamma^3 - 8*gamma^2 - 16*gamma + 32)*y*z*t + (8*gamma^3 - 16*gamma^2 + 32)*y*t^2"
      ]
     },
     "execution_count": 17,
     "metadata": {},
     "output_type": "execute_result"
    }
   ],
   "source": [
    "SE9_1"
   ]
  },
  {
   "cell_type": "code",
   "execution_count": 18,
   "id": "84989a66-007a-4031-ae42-e73d32ba9926",
   "metadata": {},
   "outputs": [
    {
     "data": {
      "text/plain": [
       "9"
      ]
     },
     "execution_count": 18,
     "metadata": {},
     "output_type": "execute_result"
    }
   ],
   "source": [
    "len(SE9_1.eckardt_points)"
   ]
  },
  {
   "cell_type": "code",
   "execution_count": 19,
   "id": "67a3723b-9feb-4768-8a6c-0d909a9b0828",
   "metadata": {},
   "outputs": [
    {
     "name": "stdout",
     "output_type": "stream",
     "text": [
      "CPU times: user 4.98 s, sys: 246 ms, total: 5.22 s\n",
      "Wall time: 40.1 s\n"
     ]
    }
   ],
   "source": [
    "%time adm_SE9_1 = SE9_1.find_admissible_projectivities()"
   ]
  },
  {
   "cell_type": "code",
   "execution_count": 20,
   "id": "e402f818-8afa-42ce-9a22-04a9260f63ef",
   "metadata": {},
   "outputs": [
    {
     "data": {
      "text/plain": [
       "1296"
      ]
     },
     "execution_count": 20,
     "metadata": {},
     "output_type": "execute_result"
    }
   ],
   "source": [
    "len(adm_SE9_1)"
   ]
  },
  {
   "cell_type": "code",
   "execution_count": 21,
   "id": "8a7ed496-19a1-4a0a-a39f-9f9646b80e7f",
   "metadata": {},
   "outputs": [],
   "source": [
    "simm_SE9_1 = SE9_1.find_simmetries(adm_SE9_1)"
   ]
  },
  {
   "cell_type": "code",
   "execution_count": 22,
   "id": "3f491268-9ae7-4745-9e3f-d1a531a39b32",
   "metadata": {},
   "outputs": [
    {
     "data": {
      "text/plain": [
       "108"
      ]
     },
     "execution_count": 22,
     "metadata": {},
     "output_type": "execute_result"
    }
   ],
   "source": [
    "len(simm_SE9_1)"
   ]
  },
  {
   "cell_type": "code",
   "execution_count": 24,
   "id": "1ccee33c-182d-48a2-86f7-08a7333de25b",
   "metadata": {},
   "outputs": [],
   "source": [
    "perms = []\n",
    "for el in simm_SE9_1:\n",
    "    perms.append(Permutation(apply_proj_to_eck(el, SE9_1.eckardt_points)).to_cycles())"
   ]
  },
  {
   "cell_type": "code",
   "execution_count": 25,
   "id": "6e9d49d9-ce97-487f-b55d-c5598df7d7b0",
   "metadata": {},
   "outputs": [
    {
     "data": {
      "text/plain": [
       "36"
      ]
     },
     "execution_count": 25,
     "metadata": {},
     "output_type": "execute_result"
    }
   ],
   "source": [
    "PermutationGroup(perms).order()"
   ]
  },
  {
   "cell_type": "code",
   "execution_count": 26,
   "id": "d10f9a5f-cb03-4c83-ab12-7137b302d8c8",
   "metadata": {},
   "outputs": [
    {
     "data": {
      "text/plain": [
       "'(C3 x C3) : C4'"
      ]
     },
     "execution_count": 26,
     "metadata": {},
     "output_type": "execute_result"
    }
   ],
   "source": [
    "PermutationGroup(perms).structure_description()"
   ]
  },
  {
   "cell_type": "code",
   "execution_count": null,
   "id": "ba0f3e5f-3986-49d9-a918-8d68060382e5",
   "metadata": {},
   "outputs": [],
   "source": []
  },
  {
   "cell_type": "code",
   "execution_count": 28,
   "id": "008146e1-12ef-4246-a496-d18be1dfdc1e",
   "metadata": {},
   "outputs": [],
   "source": [
    "adm_perm = SE9_1.find_admissible_permutations()\n",
    "keys = list(SE9_1.cl_lines.keys())"
   ]
  },
  {
   "cell_type": "code",
   "execution_count": 29,
   "id": "ba3e8c1f-03b1-4770-933d-4d6e078de042",
   "metadata": {},
   "outputs": [],
   "source": [
    "perms_lines = []\n",
    "for simm in simm_SE9_1:\n",
    "    perm = adm_perm[adm_SE9_1.index(simm)]\n",
    "    perms_lines.append(Permutation([perm.index(label)+1 for label in keys]).to_cycles())"
   ]
  },
  {
   "cell_type": "code",
   "execution_count": 30,
   "id": "20e4f282-bd5c-45e0-91ac-8eeabec5ed18",
   "metadata": {},
   "outputs": [],
   "source": [
    "Gr = PermutationGroup(perms_lines)"
   ]
  },
  {
   "cell_type": "code",
   "execution_count": 31,
   "id": "2d2f1662-02fd-49aa-8c9b-f92228499ba8",
   "metadata": {},
   "outputs": [
    {
     "data": {
      "text/plain": [
       "108"
      ]
     },
     "execution_count": 31,
     "metadata": {},
     "output_type": "execute_result"
    }
   ],
   "source": [
    "Gr.order()"
   ]
  },
  {
   "cell_type": "code",
   "execution_count": 32,
   "id": "0fd62050-3ca5-41fa-81e6-40c4068c94bf",
   "metadata": {},
   "outputs": [
    {
     "data": {
      "text/plain": [
       "'((C3 x C3) : C3) : C4'"
      ]
     },
     "execution_count": 32,
     "metadata": {},
     "output_type": "execute_result"
    }
   ],
   "source": [
    "Gr.structure_description()"
   ]
  },
  {
   "cell_type": "code",
   "execution_count": null,
   "id": "2edda32b-7ec0-4a3b-a5fa-499337d0fbce",
   "metadata": {},
   "outputs": [],
   "source": []
  }
 ],
 "metadata": {
  "kernelspec": {
   "display_name": "SageMath 9.3",
   "language": "sage",
   "name": "sagemath"
  },
  "language_info": {
   "codemirror_mode": {
    "name": "ipython",
    "version": 3
   },
   "file_extension": ".py",
   "mimetype": "text/x-python",
   "name": "python",
   "nbconvert_exporter": "python",
   "pygments_lexer": "ipython3",
   "version": "3.7.10"
  }
 },
 "nbformat": 4,
 "nbformat_minor": 5
}
