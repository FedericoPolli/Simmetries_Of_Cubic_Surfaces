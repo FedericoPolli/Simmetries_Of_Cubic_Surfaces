{
 "cells": [
  {
   "cell_type": "code",
   "execution_count": 115,
   "id": "068e4a42-507f-47ab-aceb-fd63ff79c088",
   "metadata": {},
   "outputs": [],
   "source": [
    "load('Imports/Utility.sage', 'Imports/Point.sage', 'Imports/Line.sage', 'Imports/Tritangent_plane.sage', 'Imports/Group.sage', 'Imports/Cubic.sage')\n",
    "import multiprocessing as mp\n",
    "import pickle"
   ]
  },
  {
   "cell_type": "code",
   "execution_count": 83,
   "id": "be48477e-2796-409b-aa58-86796681a7fd",
   "metadata": {},
   "outputs": [],
   "source": [
    "var('nv')\n",
    "K1.<gamma> = NumberField(nv^4-4*nv^2+16)"
   ]
  },
  {
   "cell_type": "code",
   "execution_count": 84,
   "id": "d4d65f29-b909-43d4-ad8c-a8ce4de08594",
   "metadata": {},
   "outputs": [],
   "source": [
    "P.<x,y,z,t,b,c,d,e,f,l,m> = PolynomialRing(K1)"
   ]
  },
  {
   "cell_type": "code",
   "execution_count": 85,
   "id": "101299c7-c15d-4264-a9ea-e1edf1400baa",
   "metadata": {},
   "outputs": [],
   "source": [
    "cubic_new = e*f*(2*x^2*y-2*x*y^2+x*z^2-x*z*t-y*t^2+y*z*t)+b*c*(x-t)*(x*z+y*t)+c*c*(z+t)*(y*t-x*z)+d*c*(y-z)*(x*z+y*t)+(e+f)*c*(x-y)*(y*t-x*z)"
   ]
  },
  {
   "cell_type": "code",
   "execution_count": 86,
   "id": "470c848c-fc42-45f9-99fd-2d46a44d6a6f",
   "metadata": {},
   "outputs": [],
   "source": [
    "sing_cubics = (-1) * (-c + f) * (-c + e) * c * (c + f) * (c + e) * (-e + f)^2 * (-c*d + c*f + e*f) * (-c*d + c*e + e*f) * (-c^2 - c*d + e*f) * (b*c - c*f + e*f) * (b*c - c*e + e*f) * (b*c - c*d + 2*e*f) * (b*c - c^2 + e*f) * (b*c^2 + c^2*d + b*c*f - 2*c^2*f - c*d*f + 2*e*f^2) * (b*c^2 + c^2*d + b*c*e - 2*c^2*e - c*d*e + 2*e^2*f) * (-b*c^3 - 2*b*c^2*d + c^3*d + b*c^2*e + c^2*d*e + b*c^2*f + c^2*d*f + 3*b*c*e*f - 4*c^2*e*f - 3*c*d*e*f + 4*e^2*f^2)"
   ]
  },
  {
   "cell_type": "code",
   "execution_count": 87,
   "id": "4ef0439d-b569-4e52-aeef-4bae83befcff",
   "metadata": {},
   "outputs": [],
   "source": [
    "line = Line([y, z])"
   ]
  },
  {
   "cell_type": "code",
   "execution_count": 88,
   "id": "e406e0ed-2668-46dd-b861-513fcf59192b",
   "metadata": {},
   "outputs": [],
   "source": [
    "eqn_SE1 = P(cubic_new.subs({b:-(c*c+e*f)/c }) )\n",
    "sing_cubics_SE1 = P(sing_cubics.subs({b:-(c*c+e*f)/c }))"
   ]
  },
  {
   "cell_type": "code",
   "execution_count": 89,
   "id": "88acf200-a6a7-4ff4-b730-2d1eaa051563",
   "metadata": {},
   "outputs": [],
   "source": [
    "eqn_SE3 = P(2*eqn_SE1.subs({d:(3*e*f - c^2 + c*f + c*e)/(2*c)}) )\n",
    "sing_cubics_SE3 = P(sing_cubics_SE1.subs({d:(3*e*f - c^2 + c*f + c*e)/(2*c)}))"
   ]
  },
  {
   "cell_type": "code",
   "execution_count": 90,
   "id": "d8fe141c-a42c-4aa8-ae6a-9e2baa1796c3",
   "metadata": {},
   "outputs": [],
   "source": [
    "eqn_SE9 = P(eqn_SE3.subs({e : (-1/2*gamma^2 + 1)*c}) /c)\n",
    "sing_cubics_SE9 = P(sing_cubics_SE3.subs({e : (-1/2*gamma^2 + 1)*c}))"
   ]
  },
  {
   "cell_type": "code",
   "execution_count": 91,
   "id": "7257ec2c-5db7-4202-8902-fd34107cc958",
   "metadata": {},
   "outputs": [],
   "source": [
    "SE9 = Cubic(eqn_SE9, line, sing_cubics_SE9.factor())"
   ]
  },
  {
   "cell_type": "code",
   "execution_count": 92,
   "id": "40165d89-e9a0-4e1f-ab47-f9fa3fa2941d",
   "metadata": {},
   "outputs": [
    {
     "data": {
      "text/plain": [
       "[(0, 0, 0, 1),\n",
       " (0, 1, 1, 0),\n",
       " ((1/6*gamma^2 - 1/3), (1/6*gamma^2 - 1/3), 1, -1),\n",
       " ((-1/8*gamma^2 + 1/2)*c^2 + (1/8*gamma^2 - 1/2)*c*f, c^2, c*f, (1/8*gamma^2 - 1/2)*c*f + (-1/8*gamma^2 + 1/2)*f^2),\n",
       " ((-1/12*gamma^2 + 1/6)*c^2 + (1/12*gamma^2 - 1/6)*c*f, (-1/12*gamma^2 + 2/3)*c^2, (-1/12*gamma^2 + 2/3)*c*f, (-1/8*gamma^2 + 1/2)*c^2 + (1/6*gamma^2 - 5/6)*c*f + (-1/24*gamma^2 + 1/3)*f^2),\n",
       " ((5/84*gamma^2 - 4/21)*c + (-5/84*gamma^2 + 4/21)*f, (-1/21*gamma^2 - 1/21)*c + (-1/21*gamma^2 - 1/21)*f, (-1/14*gamma^2 + 3/7)*c + (-1/42*gamma^2 - 11/21)*f, (-1/28*gamma^2 - 2/7)*c + (1/28*gamma^2 + 2/7)*f),\n",
       " ((1/8*gamma^2)*c^2 + (-1/8*gamma^2)*c*f, -1/2*c^2 - 1/2*c*f, (-1/4*gamma^2 + 1/2)*c^2 + (1/4*gamma^2 - 3/2)*c*f, (1/4*gamma^2 - 1/2)*c^2 + (-3/8*gamma^2 + 1)*c*f + (1/8*gamma^2 - 1/2)*f^2),\n",
       " (0, (-1/4*gamma^2)*c, (-1/4*gamma^2)*c, (1/4*gamma^2 - 1)*c + (-1/4*gamma^2 + 1)*f),\n",
       " (1/2*c, 1/2*c, (-1/4*gamma^2 + 1/2)*c, -1/2*f)]"
      ]
     },
     "execution_count": 92,
     "metadata": {},
     "output_type": "execute_result"
    }
   ],
   "source": [
    "SE9.eckardt_points"
   ]
  },
  {
   "cell_type": "code",
   "execution_count": 14,
   "id": "7cff43b5-2baa-4ead-84bf-12b88cfd754c",
   "metadata": {},
   "outputs": [
    {
     "name": "stdout",
     "output_type": "stream",
     "text": [
      "CPU times: user 7.71 s, sys: 302 ms, total: 8.01 s\n",
      "Wall time: 1min\n"
     ]
    }
   ],
   "source": [
    "%time adm_SE9 = SE9.find_admissible_projectivities()"
   ]
  },
  {
   "cell_type": "code",
   "execution_count": 15,
   "id": "bd34f644-2e56-4f7d-9435-03227e52e50b",
   "metadata": {},
   "outputs": [
    {
     "data": {
      "text/plain": [
       "1296"
      ]
     },
     "execution_count": 15,
     "metadata": {},
     "output_type": "execute_result"
    }
   ],
   "source": [
    "len(adm_SE9)"
   ]
  },
  {
   "cell_type": "code",
   "execution_count": 16,
   "id": "11744345-ddb4-4a10-a9da-360cd43b24f1",
   "metadata": {},
   "outputs": [
    {
     "name": "stdout",
     "output_type": "stream",
     "text": [
      "CPU times: user 4.72 s, sys: 166 ms, total: 4.89 s\n",
      "Wall time: 5.47 s\n"
     ]
    }
   ],
   "source": [
    "%time simm_SE9 = SE9.find_simmetries(adm_SE9)"
   ]
  },
  {
   "cell_type": "code",
   "execution_count": 17,
   "id": "01e12a1c-5a8d-4831-833b-d4ca05d8b325",
   "metadata": {},
   "outputs": [
    {
     "data": {
      "text/plain": [
       "54"
      ]
     },
     "execution_count": 17,
     "metadata": {},
     "output_type": "execute_result"
    }
   ],
   "source": [
    "len(simm_SE9)"
   ]
  },
  {
   "cell_type": "code",
   "execution_count": 116,
   "id": "9c8ba105-1303-4c1b-ab2e-2c2f635062b3",
   "metadata": {},
   "outputs": [
    {
     "name": "stdout",
     "output_type": "stream",
     "text": [
      "CPU times: user 3min 54s, sys: 3.02 s, total: 3min 57s\n",
      "Wall time: 4min 3s\n"
     ]
    }
   ],
   "source": [
    "%time conds = find_conditions_for_subfamilies(SE9, sing_cubics_SE9, adm_SE9, simm_SE9)"
   ]
  },
  {
   "cell_type": "code",
   "execution_count": 117,
   "id": "c404ad30-f39e-4b66-aab9-900d18f5e31e",
   "metadata": {},
   "outputs": [
    {
     "data": {
      "text/plain": [
       "[[13*c + (-gamma^3 - gamma^2 + 3*gamma + 3)*f],\n",
       " [4*c + (-gamma^3 + 2*gamma^2 - 4)*f],\n",
       " [13*c + (gamma^3 - gamma^2 - 3*gamma + 3)*f],\n",
       " [52*c + (gamma^3 - 4*gamma^2 + 12*gamma + 4)*f],\n",
       " [52*c + (-gamma^3 - 4*gamma^2 - 12*gamma + 4)*f],\n",
       " [4*c + (gamma^3 + 2*gamma^2 - 4)*f]]"
      ]
     },
     "execution_count": 117,
     "metadata": {},
     "output_type": "execute_result"
    }
   ],
   "source": [
    "conds"
   ]
  },
  {
   "cell_type": "code",
   "execution_count": 101,
   "id": "917c6098-81f9-4935-93ea-d1d14296e2ed",
   "metadata": {},
   "outputs": [],
   "source": [
    "sol = solve_linear_system(conds[1], [c], [f])"
   ]
  },
  {
   "cell_type": "code",
   "execution_count": 113,
   "id": "fd802b07-6676-45f3-8e76-6db9db2eaef8",
   "metadata": {},
   "outputs": [
    {
     "data": {
      "text/plain": [
       "((224375739696661926087313346737718951936*gamma^3 - 518173574853956650423415033802562469888*gamma^2 + 1036347149707913300846830067605124939776)) * f^31"
      ]
     },
     "execution_count": 113,
     "metadata": {},
     "output_type": "execute_result"
    }
   ],
   "source": [
    "sing_cubics_SE9.subs({c:sol[0], f:sol[1]}).factor()"
   ]
  },
  {
   "cell_type": "code",
   "execution_count": 102,
   "id": "f0d9cac3-b64e-456a-8fe0-6061ab6ed69d",
   "metadata": {},
   "outputs": [],
   "source": [
    "sing_cubics_SE9_1 = f\n",
    "SE9_1 = Cubic(remove_sing_factors(SE9.eqn.subs({c:sol[0], f:sol[1]}), sing_cubics_SE9_1.factor()), line, sing_cubics_SE9_1.factor())"
   ]
  },
  {
   "cell_type": "code",
   "execution_count": 114,
   "id": "279ca41a-4b77-441f-8b00-5ecf2966ac53",
   "metadata": {},
   "outputs": [
    {
     "data": {
      "text/plain": [
       "(-8*gamma^2 + 16)*x^2*y + (8*gamma^2 - 16)*x*y^2 + (8*gamma^2 - 16*gamma)*x^2*z + (-4*gamma^3 - 4*gamma^2 + 24*gamma - 16)*x*y*z + (4*gamma^2 - 8*gamma)*x*z^2 + (-4*gamma^3 + 8*gamma^2 + 16*gamma - 32)*x*y*t + (-4*gamma^2 - 8*gamma + 16)*y^2*t + (4*gamma^3 - 4*gamma^2 - 8*gamma + 16)*y*z*t + (4*gamma^3 - 8*gamma^2 + 16)*y*t^2"
      ]
     },
     "execution_count": 114,
     "metadata": {},
     "output_type": "execute_result"
    }
   ],
   "source": [
    "SE9_1"
   ]
  },
  {
   "cell_type": "code",
   "execution_count": 111,
   "id": "84989a66-007a-4031-ae42-e73d32ba9926",
   "metadata": {},
   "outputs": [
    {
     "data": {
      "text/plain": [
       "9"
      ]
     },
     "execution_count": 111,
     "metadata": {},
     "output_type": "execute_result"
    }
   ],
   "source": [
    "len(SE9_1.eckardt_points)"
   ]
  },
  {
   "cell_type": "code",
   "execution_count": 103,
   "id": "67a3723b-9feb-4768-8a6c-0d909a9b0828",
   "metadata": {},
   "outputs": [
    {
     "name": "stdout",
     "output_type": "stream",
     "text": [
      "CPU times: user 4.3 s, sys: 393 ms, total: 4.69 s\n",
      "Wall time: 36.2 s\n"
     ]
    }
   ],
   "source": [
    "%time adm_SE9_1 = SE9_1.find_admissible_projectivities()"
   ]
  },
  {
   "cell_type": "code",
   "execution_count": 104,
   "id": "e402f818-8afa-42ce-9a22-04a9260f63ef",
   "metadata": {},
   "outputs": [
    {
     "data": {
      "text/plain": [
       "1296"
      ]
     },
     "execution_count": 104,
     "metadata": {},
     "output_type": "execute_result"
    }
   ],
   "source": [
    "len(adm_SE9_1)"
   ]
  },
  {
   "cell_type": "code",
   "execution_count": 105,
   "id": "8a7ed496-19a1-4a0a-a39f-9f9646b80e7f",
   "metadata": {},
   "outputs": [],
   "source": [
    "simm_SE9_1 = SE9_1.find_simmetries(adm_SE9_1)"
   ]
  },
  {
   "cell_type": "code",
   "execution_count": 106,
   "id": "3f491268-9ae7-4745-9e3f-d1a531a39b32",
   "metadata": {},
   "outputs": [
    {
     "data": {
      "text/plain": [
       "108"
      ]
     },
     "execution_count": 106,
     "metadata": {},
     "output_type": "execute_result"
    }
   ],
   "source": [
    "len(simm_SE9_1)"
   ]
  },
  {
   "cell_type": "code",
   "execution_count": 107,
   "id": "eb98a61d-05eb-4131-be6a-48daba6bb10c",
   "metadata": {},
   "outputs": [
    {
     "name": "stdout",
     "output_type": "stream",
     "text": [
      "CPU times: user 4min 38s, sys: 1.78 s, total: 4min 40s\n",
      "Wall time: 4min 48s\n"
     ]
    }
   ],
   "source": [
    "%time conds_1 = find_conditions_for_subfamilies(SE9_1, sing_cubics_SE9_1, adm_SE9_1, simm_SE9_1)"
   ]
  },
  {
   "cell_type": "code",
   "execution_count": 108,
   "id": "08052cc3-0bea-4782-a029-74df1a9040b9",
   "metadata": {},
   "outputs": [
    {
     "data": {
      "text/plain": [
       "[]"
      ]
     },
     "execution_count": 108,
     "metadata": {},
     "output_type": "execute_result"
    }
   ],
   "source": [
    "conds_1"
   ]
  },
  {
   "cell_type": "code",
   "execution_count": null,
   "id": "ba0f3e5f-3986-49d9-a918-8d68060382e5",
   "metadata": {},
   "outputs": [],
   "source": []
  }
 ],
 "metadata": {
  "kernelspec": {
   "display_name": "SageMath 9.3",
   "language": "sage",
   "name": "sagemath"
  },
  "language_info": {
   "codemirror_mode": {
    "name": "ipython",
    "version": 3
   },
   "file_extension": ".py",
   "mimetype": "text/x-python",
   "name": "python",
   "nbconvert_exporter": "python",
   "pygments_lexer": "ipython3",
   "version": "3.7.10"
  }
 },
 "nbformat": 4,
 "nbformat_minor": 5
}
