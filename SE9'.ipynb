{
 "cells": [
  {
   "cell_type": "code",
   "execution_count": 1,
   "id": "068e4a42-507f-47ab-aceb-fd63ff79c088",
   "metadata": {},
   "outputs": [],
   "source": [
    "load('Imports/Utility.sage', 'Imports/Point.sage', 'Imports/Line.sage', 'Imports/TritangentPlane.sage', 'Imports/Group.sage', 'Imports/Cubic.sage')\n",
    "import multiprocessing as mp\n",
    "import pickle"
   ]
  },
  {
   "cell_type": "code",
   "execution_count": 2,
   "id": "90c8d813-7272-45d7-b369-82866154cc87",
   "metadata": {},
   "outputs": [
    {
     "data": {
      "text/plain": [
       "x^4 - 4*x^2 + 16"
      ]
     },
     "execution_count": 2,
     "metadata": {},
     "output_type": "execute_result"
    }
   ],
   "source": [
    "(I-sqrt(3)).minpoly()"
   ]
  },
  {
   "cell_type": "code",
   "execution_count": 3,
   "id": "be48477e-2796-409b-aa58-86796681a7fd",
   "metadata": {},
   "outputs": [],
   "source": [
    "var('nv')\n",
    "K1.<i_minus_rad3> = NumberField(nv^4-4*nv^2+16)"
   ]
  },
  {
   "cell_type": "code",
   "execution_count": 4,
   "id": "d28375ea-512b-465d-bda1-28a97ea1d35f",
   "metadata": {},
   "outputs": [],
   "source": [
    "i = i_minus_rad3^3/8\n",
    "rad3 = (i_minus_rad3^3 - 8*i_minus_rad3)/8"
   ]
  },
  {
   "cell_type": "code",
   "execution_count": 5,
   "id": "d0b67f6d-23bd-44a7-a404-2d699cccd503",
   "metadata": {},
   "outputs": [],
   "source": [
    "P.<x,y,z,t,b,c,d,e,f,l,m> = PolynomialRing(K1)\n",
    "cubic_new = e*f*(2*x^2*y-2*x*y^2+x*z^2-x*z*t-y*t^2+y*z*t)+b*c*(x-t)*(x*z+y*t)+c*c*(z+t)*(y*t-x*z)+d*c*(y-z)*(x*z+y*t)+(e+f)*c*(x-y)*(y*t-x*z)\n",
    "sing_cubics = (-1) * (-c + f) * (-c + e) * c * (c + f) * (c + e) * (-e + f)^2 * (-c*d + c*f + e*f) * (-c*d + c*e + e*f) * (-c^2 - c*d + e*f) * (b*c - c*f + e*f) * (b*c - c*e + e*f) * (b*c - c*d + 2*e*f) * (b*c - c^2 + e*f) * (b*c^2 + c^2*d + b*c*f - 2*c^2*f - c*d*f + 2*e*f^2) * (b*c^2 + c^2*d + b*c*e - 2*c^2*e - c*d*e + 2*e^2*f) * (-b*c^3 - 2*b*c^2*d + c^3*d + b*c^2*e + c^2*d*e + b*c^2*f + c^2*d*f + 3*b*c*e*f - 4*c^2*e*f - 3*c*d*e*f + 4*e^2*f^2)"
   ]
  },
  {
   "cell_type": "code",
   "execution_count": 6,
   "id": "dca8d398-931f-4def-8dd2-23eca7814fb3",
   "metadata": {},
   "outputs": [],
   "source": [
    "# Define cubic SE9, find and classify the lines and compute the 45 tritangent planes"
   ]
  },
  {
   "cell_type": "code",
   "execution_count": 7,
   "id": "2b22c6e8-4ae4-429d-ace8-4e4e1a8c8e59",
   "metadata": {},
   "outputs": [],
   "source": [
    "line = Line([y, z])\n",
    "general_cubic = Cubic(cubic_new, line, sing_cubics)\n",
    "SE9 = general_cubic.subs({b:-(c*c+e*f)/c, d:(3*e*f - c^2 + c*f + c*e)/(2*c)}).subs({e : i*rad3*c})"
   ]
  },
  {
   "cell_type": "code",
   "execution_count": 8,
   "id": "ec285823-b440-4496-86f9-09749d76bdab",
   "metadata": {},
   "outputs": [],
   "source": [
    "# Find simmetries and study possible subfamilies"
   ]
  },
  {
   "cell_type": "code",
   "execution_count": 9,
   "id": "7cff43b5-2baa-4ead-84bf-12b88cfd754c",
   "metadata": {},
   "outputs": [
    {
     "name": "stdout",
     "output_type": "stream",
     "text": [
      "CPU times: user 6.37 s, sys: 225 ms, total: 6.59 s\n",
      "Wall time: 1min 1s\n"
     ]
    }
   ],
   "source": [
    "%time adm_SE9 = SE9.find_admissible_projectivities()"
   ]
  },
  {
   "cell_type": "code",
   "execution_count": 10,
   "id": "11744345-ddb4-4a10-a9da-360cd43b24f1",
   "metadata": {},
   "outputs": [
    {
     "name": "stdout",
     "output_type": "stream",
     "text": [
      "CPU times: user 6.8 s, sys: 171 ms, total: 6.97 s\n",
      "Wall time: 10.2 s\n"
     ]
    }
   ],
   "source": [
    "%time simm_SE9 = SE9.find_simmetries(adm_SE9)"
   ]
  },
  {
   "cell_type": "code",
   "execution_count": 11,
   "id": "9c8ba105-1303-4c1b-ab2e-2c2f635062b3",
   "metadata": {},
   "outputs": [
    {
     "name": "stdout",
     "output_type": "stream",
     "text": [
      "CPU times: user 3min 32s, sys: 1.34 s, total: 3min 33s\n",
      "Wall time: 3min 36s\n"
     ]
    },
    {
     "data": {
      "text/plain": [
       "[[52*c + (-i_minus_rad3^3 - 4*i_minus_rad3^2 - 12*i_minus_rad3 + 4)*f],\n",
       " [4*c + (i_minus_rad3^3 + 2*i_minus_rad3^2 - 4)*f],\n",
       " [13*c + (i_minus_rad3^3 - i_minus_rad3^2 - 3*i_minus_rad3 + 3)*f],\n",
       " [4*c + (-i_minus_rad3^3 + 2*i_minus_rad3^2 - 4)*f],\n",
       " [13*c + (-i_minus_rad3^3 - i_minus_rad3^2 + 3*i_minus_rad3 + 3)*f],\n",
       " [52*c + (i_minus_rad3^3 - 4*i_minus_rad3^2 + 12*i_minus_rad3 + 4)*f]]"
      ]
     },
     "execution_count": 11,
     "metadata": {},
     "output_type": "execute_result"
    }
   ],
   "source": [
    "%time conds = SE9.find_conditions_for_subfamilies(adm_SE9, simm_SE9)\n",
    "conds"
   ]
  },
  {
   "cell_type": "code",
   "execution_count": 25,
   "id": "b20efadf-6acf-4bb2-b54d-c12ccae78280",
   "metadata": {},
   "outputs": [
    {
     "data": {
      "text/plain": [
       "[[(-1/4*i_minus_rad3^3 + i_minus_rad3 - 1)*c],\n",
       " [(1/4*i_minus_rad3^3 - 1/2*i_minus_rad3^2 + 1)*c],\n",
       " [(i_minus_rad3 + 1)*c],\n",
       " [(-1/4*i_minus_rad3^3 - 1/2*i_minus_rad3^2 + 1)*c],\n",
       " [(-i_minus_rad3 + 1)*c],\n",
       " [(1/4*i_minus_rad3^3 - i_minus_rad3 - 1)*c]]"
      ]
     },
     "execution_count": 25,
     "metadata": {},
     "output_type": "execute_result"
    }
   ],
   "source": [
    "[solve_linear_system_in_fraction_field([q[0]], [f], [c]) for q in conds] "
   ]
  },
  {
   "cell_type": "code",
   "execution_count": 23,
   "id": "d2dcb016-c466-45e2-98fe-cd5ecbbbdd52",
   "metadata": {},
   "outputs": [
    {
     "data": {
      "text/plain": [
       "(1/8*i_minus_rad3^3, 1/8*i_minus_rad3^3 - i_minus_rad3)"
      ]
     },
     "execution_count": 23,
     "metadata": {},
     "output_type": "execute_result"
    }
   ],
   "source": [
    "i, rad3"
   ]
  },
  {
   "cell_type": "code",
   "execution_count": 12,
   "id": "da53197d-cb5e-4ce8-97db-1d9617da779a",
   "metadata": {},
   "outputs": [],
   "source": [
    "# Choose one subfamily (say SE9') and study it"
   ]
  },
  {
   "cell_type": "code",
   "execution_count": 31,
   "id": "917c6098-81f9-4935-93ea-d1d14296e2ed",
   "metadata": {},
   "outputs": [
    {
     "data": {
      "text/plain": [
       "[-4*c, (i_minus_rad3^3 + 2*i_minus_rad3^2 - 4)*c]"
      ]
     },
     "execution_count": 31,
     "metadata": {},
     "output_type": "execute_result"
    }
   ],
   "source": [
    "sol = solve_linear_system(conds[1], [f], [c])\n",
    "sol"
   ]
  },
  {
   "cell_type": "code",
   "execution_count": 32,
   "id": "c94221cc-665e-40e3-bb65-fa67203fd8eb",
   "metadata": {},
   "outputs": [
    {
     "name": "stdout",
     "output_type": "stream",
     "text": [
      "x^2*y - x*y^2 + (-1/6*i_minus_rad3^3 + 1/6*i_minus_rad3^2 + 1/3*i_minus_rad3 - 4/3)*x^2*z + (1/6*i_minus_rad3^3 - 1/4*i_minus_rad3^2 + 1/6*i_minus_rad3 + 1)*x*y*z + (-1/12*i_minus_rad3^3 + 1/12*i_minus_rad3^2 + 1/6*i_minus_rad3 - 2/3)*x*z^2 + (1/12*i_minus_rad3^3 - 1/6*i_minus_rad3^2 + 1/3*i_minus_rad3 - 2/3)*x*y*t + (-1/12*i_minus_rad3^3 + 1/12*i_minus_rad3^2 + 1/6*i_minus_rad3 + 1/3)*y^2*t + (1/12*i_minus_rad3^2 - 1/2*i_minus_rad3 + 1/3)*y*z*t + (1/12*i_minus_rad3^3 - 2/3*i_minus_rad3 + 1)*y*t^2\n",
      "9\n"
     ]
    }
   ],
   "source": [
    "SE9_1 = SE9.subs({c:sol[0], f:sol[1]})\n",
    "print(SE9_1)"
   ]
  },
  {
   "cell_type": "code",
   "execution_count": 33,
   "id": "67a3723b-9feb-4768-8a6c-0d909a9b0828",
   "metadata": {},
   "outputs": [
    {
     "name": "stdout",
     "output_type": "stream",
     "text": [
      "CPU times: user 4.01 s, sys: 253 ms, total: 4.26 s\n",
      "Wall time: 37.9 s\n"
     ]
    },
    {
     "data": {
      "text/plain": [
       "1296"
      ]
     },
     "execution_count": 33,
     "metadata": {},
     "output_type": "execute_result"
    }
   ],
   "source": [
    "%time adm_SE9_1 = SE9_1.find_admissible_projectivities()\n",
    "len(adm_SE9_1)"
   ]
  },
  {
   "cell_type": "code",
   "execution_count": 34,
   "id": "8a7ed496-19a1-4a0a-a39f-9f9646b80e7f",
   "metadata": {},
   "outputs": [
    {
     "data": {
      "text/plain": [
       "108"
      ]
     },
     "execution_count": 34,
     "metadata": {},
     "output_type": "execute_result"
    }
   ],
   "source": [
    "simm_SE9_1 = SE9_1.find_simmetries(adm_SE9_1)\n",
    "len(simm_SE9_1)"
   ]
  },
  {
   "cell_type": "code",
   "execution_count": 35,
   "id": "56f012cf-c0f2-4bfc-a504-6385a40d52b9",
   "metadata": {},
   "outputs": [],
   "source": [
    "# Study how the simmetries permute the Eckardt points"
   ]
  },
  {
   "cell_type": "code",
   "execution_count": 36,
   "id": "4228680a-c0fd-41fa-a54d-c836bcf7de81",
   "metadata": {},
   "outputs": [
    {
     "data": {
      "text/plain": [
       "(36, '(C3 x C3) : C4')"
      ]
     },
     "execution_count": 36,
     "metadata": {},
     "output_type": "execute_result"
    }
   ],
   "source": [
    "Eck_points_perms = []\n",
    "for proj in simm_SE9_1:\n",
    "    Eck_points_perms.append(Permutation(SE9_1.apply_proj_to_eck(proj)).to_permutation_group_element())\n",
    "Eck_points_perms_group = PermutationGroup(Eck_points_perms)\n",
    "Eck_points_perms_group.order(), Eck_points_perms_group.structure_description()"
   ]
  },
  {
   "cell_type": "code",
   "execution_count": 37,
   "id": "afc984e4",
   "metadata": {},
   "outputs": [],
   "source": [
    "# Study how the simmetries permute the 27 lines"
   ]
  },
  {
   "cell_type": "code",
   "execution_count": 38,
   "id": "10c88cfd-8744-442f-b9c2-98919bb6f6fb",
   "metadata": {},
   "outputs": [
    {
     "data": {
      "text/plain": [
       "(108, '((C3 x C3) : C3) : C4')"
      ]
     },
     "execution_count": 38,
     "metadata": {},
     "output_type": "execute_result"
    }
   ],
   "source": [
    "lines_perms = []\n",
    "for simm in simm_SE9_1:\n",
    "    lines_perms.append(Permutation(SE9_1.apply_proj_to_lines(simm)).to_permutation_group_element())\n",
    "lines_perms_group = PermutationGroup(lines_perms)\n",
    "lines_perms_group.order(), lines_perms_group.structure_description()"
   ]
  },
  {
   "cell_type": "code",
   "execution_count": null,
   "id": "8d849372-f8f3-4ad0-bf7a-2d510d1b3812",
   "metadata": {},
   "outputs": [],
   "source": []
  }
 ],
 "metadata": {
  "kernelspec": {
   "display_name": "SageMath 9.4",
   "language": "sage",
   "name": "sagemath"
  },
  "language_info": {
   "codemirror_mode": {
    "name": "ipython",
    "version": 3
   },
   "file_extension": ".py",
   "mimetype": "text/x-python",
   "name": "python",
   "nbconvert_exporter": "python",
   "pygments_lexer": "ipython3",
   "version": "3.7.12"
  }
 },
 "nbformat": 4,
 "nbformat_minor": 5
}
