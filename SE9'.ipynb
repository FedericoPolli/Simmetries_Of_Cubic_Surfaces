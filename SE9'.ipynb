{
 "cells": [
  {
   "cell_type": "code",
   "execution_count": 1,
   "id": "068e4a42-507f-47ab-aceb-fd63ff79c088",
   "metadata": {},
   "outputs": [],
   "source": [
    "load('Imports/Utility.sage', 'Imports/Point.sage', 'Imports/Line.sage', 'Imports/TritangentPlane.sage', 'Imports/Group.sage', 'Imports/Cubic.sage')\n",
    "import multiprocessing as mp\n",
    "import pickle"
   ]
  },
  {
   "cell_type": "code",
   "execution_count": 2,
   "id": "90c8d813-7272-45d7-b369-82866154cc87",
   "metadata": {},
   "outputs": [
    {
     "data": {
      "text/plain": [
       "x^4 - 4*x^2 + 16"
      ]
     },
     "execution_count": 2,
     "metadata": {},
     "output_type": "execute_result"
    }
   ],
   "source": [
    "(I-sqrt(3)).minpoly()"
   ]
  },
  {
   "cell_type": "code",
   "execution_count": 3,
   "id": "be48477e-2796-409b-aa58-86796681a7fd",
   "metadata": {},
   "outputs": [],
   "source": [
    "var('nv')\n",
    "K1.<i_minus_rad3> = NumberField(nv^4-4*nv^2+16)"
   ]
  },
  {
   "cell_type": "code",
   "execution_count": 4,
   "id": "d28375ea-512b-465d-bda1-28a97ea1d35f",
   "metadata": {},
   "outputs": [],
   "source": [
    "i = i_minus_rad3^3/8\n",
    "rad3 = (i_minus_rad3^3 - 8*i_minus_rad3)/8"
   ]
  },
  {
   "cell_type": "code",
   "execution_count": 5,
   "id": "d0b67f6d-23bd-44a7-a404-2d699cccd503",
   "metadata": {},
   "outputs": [],
   "source": [
    "P.<x,y,z,t,b,c,d,e,f,l,m> = PolynomialRing(K1)\n",
    "cubic_new = e*f*(2*x^2*y-2*x*y^2+x*z^2-x*z*t-y*t^2+y*z*t)+b*c*(x-t)*(x*z+y*t)+c*c*(z+t)*(y*t-x*z)+d*c*(y-z)*(x*z+y*t)+(e+f)*c*(x-y)*(y*t-x*z)\n",
    "sing_cubics = (-1) * (-c + f) * (-c + e) * c * (c + f) * (c + e) * (-e + f) * (-c*d + c*f + e*f) * (-c*d + c*e + e*f) * (-c^2 - c*d + e*f) * (b*c - c*f + e*f) * (b*c - c*e + e*f) * (b*c - c*d + 2*e*f) * (b*c - c^2 + e*f) * (b*c^2 + c^2*d + b*c*f - 2*c^2*f - c*d*f + 2*e*f^2) * (b*c^2 + c^2*d + b*c*e - 2*c^2*e - c*d*e + 2*e^2*f) * (-b*c^3 - 2*b*c^2*d + c^3*d + b*c^2*e + c^2*d*e + b*c^2*f + c^2*d*f + 3*b*c*e*f - 4*c^2*e*f - 3*c*d*e*f + 4*e^2*f^2)"
   ]
  },
  {
   "cell_type": "code",
   "execution_count": 6,
   "id": "dca8d398-931f-4def-8dd2-23eca7814fb3",
   "metadata": {},
   "outputs": [],
   "source": [
    "# Define cubic SE9, find and classify the lines and compute the 45 tritangent planes"
   ]
  },
  {
   "cell_type": "code",
   "execution_count": 7,
   "id": "2b22c6e8-4ae4-429d-ace8-4e4e1a8c8e59",
   "metadata": {},
   "outputs": [],
   "source": [
    "line = Line([y, z])\n",
    "general_cubic = Cubic(cubic_new, line, sing_cubics)\n",
    "SE9 = general_cubic.subs({b:-(c*c+e*f)/c, d:(3*e*f - c^2 + c*f + c*e)/(2*c)}).subs({e : i*rad3*c})"
   ]
  },
  {
   "cell_type": "code",
   "execution_count": 8,
   "id": "ec285823-b440-4496-86f9-09749d76bdab",
   "metadata": {},
   "outputs": [],
   "source": [
    "# Find simmetries and study possible subfamilies"
   ]
  },
  {
   "cell_type": "code",
   "execution_count": 9,
   "id": "7cff43b5-2baa-4ead-84bf-12b88cfd754c",
   "metadata": {},
   "outputs": [
    {
     "name": "stdout",
     "output_type": "stream",
     "text": [
      "CPU times: user 7.67 s, sys: 384 ms, total: 8.05 s\n",
      "Wall time: 1min 9s\n"
     ]
    }
   ],
   "source": [
    "%time adm_SE9 = SE9.find_admissible_projectivities()"
   ]
  },
  {
   "cell_type": "code",
   "execution_count": 10,
   "id": "11744345-ddb4-4a10-a9da-360cd43b24f1",
   "metadata": {},
   "outputs": [
    {
     "name": "stdout",
     "output_type": "stream",
     "text": [
      "CPU times: user 7.08 s, sys: 212 ms, total: 7.29 s\n",
      "Wall time: 9.89 s\n"
     ]
    }
   ],
   "source": [
    "%time simm_SE9 = SE9.find_simmetries(adm_SE9)"
   ]
  },
  {
   "cell_type": "code",
   "execution_count": 11,
   "id": "9c8ba105-1303-4c1b-ab2e-2c2f635062b3",
   "metadata": {},
   "outputs": [
    {
     "name": "stdout",
     "output_type": "stream",
     "text": [
      "CPU times: user 7.06 s, sys: 206 ms, total: 7.27 s\n",
      "Wall time: 41.6 s\n"
     ]
    }
   ],
   "source": [
    "%time conds = SE9.find_conditions_for_subfamilies(adm_SE9, simm_SE9)"
   ]
  },
  {
   "cell_type": "code",
   "execution_count": 12,
   "id": "61e5234e-9d7d-49d9-84a6-507ade522ee9",
   "metadata": {},
   "outputs": [
    {
     "data": {
      "text/plain": [
       "162"
      ]
     },
     "execution_count": 12,
     "metadata": {},
     "output_type": "execute_result"
    }
   ],
   "source": [
    "len(conds)"
   ]
  },
  {
   "cell_type": "code",
   "execution_count": 13,
   "id": "14ee060a-e045-4d17-9808-423ef5fe1a34",
   "metadata": {},
   "outputs": [],
   "source": [
    "prim_decs = [el[0] for el in conds]\n",
    "ideals = list(set([ideal for prim_dec in prim_decs for ideal in prim_dec]))"
   ]
  },
  {
   "cell_type": "code",
   "execution_count": 15,
   "id": "b20efadf-6acf-4bb2-b54d-c12ccae78280",
   "metadata": {},
   "outputs": [
    {
     "data": {
      "text/plain": [
       "[((i_minus_rad3^3 - 2*i_minus_rad3^2 + 4)*f, 4*f),\n",
       " ((-i_minus_rad3^3 - 2*i_minus_rad3^2 + 4)*f, 4*f),\n",
       " ((i_minus_rad3^3 + 4*i_minus_rad3^2 + 12*i_minus_rad3 - 4)*f, 52*f),\n",
       " ((-i_minus_rad3^3 + i_minus_rad3^2 + 3*i_minus_rad3 - 3)*f, 13*f),\n",
       " ((i_minus_rad3^3 + i_minus_rad3^2 - 3*i_minus_rad3 - 3)*f, 13*f),\n",
       " ((-i_minus_rad3^3 + 4*i_minus_rad3^2 - 12*i_minus_rad3 - 4)*f, 52*f)]"
      ]
     },
     "execution_count": 15,
     "metadata": {},
     "output_type": "execute_result"
    }
   ],
   "source": [
    "sosts = [solve_linear_system(ideal.gens(), [c], [f]) for ideal in ideals] \n",
    "sosts"
   ]
  },
  {
   "cell_type": "code",
   "execution_count": 16,
   "id": "3fbd4f39-68c8-46a6-b7b0-9ab3e2a769c2",
   "metadata": {},
   "outputs": [],
   "source": [
    "cubics = [SE9.subs({c:sost[0], f:sost[1]}) for sost in sosts]\n",
    "main_cubic_index = sosts.index(((i_minus_rad3^3 - 2*i_minus_rad3^2 + 4)*f, 4*f)) #we can choose any cubic\n",
    "main_cubic = cubics[main_cubic_index]"
   ]
  },
  {
   "cell_type": "code",
   "execution_count": 17,
   "id": "f9344ed5-f6a1-4ce0-b7e6-0b8eb2c4e62b",
   "metadata": {},
   "outputs": [],
   "source": [
    "L_sets = [main_cubic.L_set_base]\n",
    "for L_set in [get_permuted_L_set(perm) for perm in main_cubic.find_admissible_permutations()]:\n",
    "    if L_set not in L_sets:\n",
    "        L_sets.append(L_set)"
   ]
  },
  {
   "cell_type": "code",
   "execution_count": 18,
   "id": "07cacd21-dc20-44f2-b1ae-2cc8f07ba020",
   "metadata": {},
   "outputs": [
    {
     "name": "stdout",
     "output_type": "stream",
     "text": [
      "('E1', 'G4', 'F45', 'F12', 'E6')\n",
      "True\n",
      "('E1', 'G4', 'E2', 'G3', 'F45')\n",
      "True\n",
      "('E1', 'G4', 'E3', 'G5', 'E5')\n",
      "True\n",
      "('E1', 'G4', 'E2', 'G3', 'F46')\n",
      "True\n",
      "('E1', 'G4', 'F46', 'G6', 'F34')\n",
      "True\n",
      "CPU times: user 9.56 s, sys: 67.2 ms, total: 9.62 s\n",
      "Wall time: 9.71 s\n"
     ]
    }
   ],
   "source": [
    "%%time\n",
    "for cubic in cubics[0:main_cubic_index]+cubics[main_cubic_index+1:]:\n",
    "    L_set = main_cubic.find_projective_equivalence(cubic, L_sets)\n",
    "    print(L_set)\n",
    "    proj = cubic.find_projectivity(cubic.L_set_base, L_set)[0]\n",
    "    print(main_cubic == cubic.subs(change_coordinates(proj)))"
   ]
  },
  {
   "cell_type": "code",
   "execution_count": 18,
   "id": "da53197d-cb5e-4ce8-97db-1d9617da779a",
   "metadata": {},
   "outputs": [],
   "source": [
    "# Choose one subfamily (say SE9') and study it"
   ]
  },
  {
   "cell_type": "code",
   "execution_count": 19,
   "id": "c94221cc-665e-40e3-bb65-fa67203fd8eb",
   "metadata": {},
   "outputs": [
    {
     "data": {
      "text/plain": [
       "x^2*y - x*y^2 + (5/156*i_minus_rad3^3 - 5/39*i_minus_rad3^2 + 2/39*i_minus_rad3 - 8/39)*x^2*z + (-1/312*i_minus_rad3^3 + 7/39*i_minus_rad3^2 - 8/39*i_minus_rad3 + 19/39)*x*y*z + (5/312*i_minus_rad3^3 - 5/78*i_minus_rad3^2 + 1/39*i_minus_rad3 - 4/39)*x*z^2 + (1/78*i_minus_rad3^3 + 3/26*i_minus_rad3^2 - 7/39*i_minus_rad3 - 8/13)*x*y*t + (5/312*i_minus_rad3^3 - 5/78*i_minus_rad3^2 + 1/39*i_minus_rad3 + 35/39)*y^2*t + (-3/104*i_minus_rad3^3 - 2/39*i_minus_rad3^2 + 2/13*i_minus_rad3 - 11/39)*y*z*t + (-7/156*i_minus_rad3^3 + 1/78*i_minus_rad3^2 + 5/39*i_minus_rad3 - 7/39)*y*t^2"
      ]
     },
     "execution_count": 19,
     "metadata": {},
     "output_type": "execute_result"
    }
   ],
   "source": [
    "SE9_1 = SE9.subs({f:(1/4*i_minus_rad3^3 - i_minus_rad3 - 1)*c})\n",
    "SE9_1"
   ]
  },
  {
   "cell_type": "code",
   "execution_count": 20,
   "id": "67a3723b-9feb-4768-8a6c-0d909a9b0828",
   "metadata": {},
   "outputs": [
    {
     "name": "stdout",
     "output_type": "stream",
     "text": [
      "CPU times: user 4.61 s, sys: 241 ms, total: 4.86 s\n",
      "Wall time: 40.9 s\n"
     ]
    },
    {
     "data": {
      "text/plain": [
       "1296"
      ]
     },
     "execution_count": 20,
     "metadata": {},
     "output_type": "execute_result"
    }
   ],
   "source": [
    "%time adm_SE9_1 = SE9_1.find_admissible_projectivities()\n",
    "len(adm_SE9_1)"
   ]
  },
  {
   "cell_type": "code",
   "execution_count": 21,
   "id": "8a7ed496-19a1-4a0a-a39f-9f9646b80e7f",
   "metadata": {},
   "outputs": [
    {
     "data": {
      "text/plain": [
       "108"
      ]
     },
     "execution_count": 21,
     "metadata": {},
     "output_type": "execute_result"
    }
   ],
   "source": [
    "simm_SE9_1 = SE9_1.find_simmetries(adm_SE9_1)\n",
    "len(simm_SE9_1)"
   ]
  },
  {
   "cell_type": "code",
   "execution_count": 22,
   "id": "56f012cf-c0f2-4bfc-a504-6385a40d52b9",
   "metadata": {},
   "outputs": [],
   "source": [
    "# Study how the simmetries permute the Eckardt points"
   ]
  },
  {
   "cell_type": "code",
   "execution_count": 23,
   "id": "4228680a-c0fd-41fa-a54d-c836bcf7de81",
   "metadata": {},
   "outputs": [
    {
     "data": {
      "text/plain": [
       "(36, '(C3 x C3) : C4')"
      ]
     },
     "execution_count": 23,
     "metadata": {},
     "output_type": "execute_result"
    }
   ],
   "source": [
    "Eck_perms = [Permutation(SE9_1.apply_proj_to_eck(proj[0])).to_permutation_group_element() for proj in simm_SE9_1]\n",
    "Eck_perms_group = PermutationGroup(Eck_perms)\n",
    "Eck_perms_group.order(), Eck_perms_group.structure_description()"
   ]
  },
  {
   "cell_type": "code",
   "execution_count": 24,
   "id": "afc984e4",
   "metadata": {},
   "outputs": [],
   "source": [
    "# Study how the simmetries permute the 27 lines"
   ]
  },
  {
   "cell_type": "code",
   "execution_count": 25,
   "id": "10c88cfd-8744-442f-b9c2-98919bb6f6fb",
   "metadata": {},
   "outputs": [
    {
     "data": {
      "text/plain": [
       "(108, '((C3 x C3) : C3) : C4')"
      ]
     },
     "execution_count": 25,
     "metadata": {},
     "output_type": "execute_result"
    }
   ],
   "source": [
    "lines_perms = [Permutation(SE9_1.apply_proj_to_lines(simm[0])).to_permutation_group_element() for simm in simm_SE9_1]\n",
    "lines_perms_group = PermutationGroup(lines_perms)\n",
    "lines_perms_group.order(), lines_perms_group.structure_description()"
   ]
  },
  {
   "cell_type": "code",
   "execution_count": 26,
   "id": "a06e906e-69e9-457c-a138-49fafcb6a116",
   "metadata": {},
   "outputs": [],
   "source": [
    "all_subgroups = lines_perms_group.subgroups()"
   ]
  },
  {
   "cell_type": "code",
   "execution_count": 27,
   "id": "ffc26059-4268-44a9-813e-cd1bf35c1e4f",
   "metadata": {},
   "outputs": [
    {
     "data": {
      "text/plain": [
       "(True, '(C3 x C3) : C3')"
      ]
     },
     "execution_count": 27,
     "metadata": {},
     "output_type": "execute_result"
    }
   ],
   "source": [
    "# H is the subgroup of elements of order 3\n",
    "H = [el for el in lines_perms_group.normal_subgroups() if el.order()==27][0]\n",
    "list(set([el.order() for el in H if el.cycle_tuples() != []])) == [3], H.structure_description()"
   ]
  },
  {
   "cell_type": "code",
   "execution_count": 28,
   "id": "b2b1047c-b070-4f2b-9b51-296e9062dfbb",
   "metadata": {},
   "outputs": [
    {
     "data": {
      "text/plain": [
       "('C3',\n",
       " (1,10,15)(2,18,9)(3,23,11)(4,12,26)(5,20,8)(6,7,17)(13,25,24)(14,19,27)(16,22,21))"
      ]
     },
     "execution_count": 28,
     "metadata": {},
     "output_type": "execute_result"
    }
   ],
   "source": [
    "# The center is C3\n",
    "Z_H = H.center()\n",
    "M = Z_H.gens_small()[0]\n",
    "Z_H.structure_description(), M"
   ]
  },
  {
   "cell_type": "code",
   "execution_count": 29,
   "id": "a23b7490-f472-43ff-8659-721050e3246e",
   "metadata": {},
   "outputs": [
    {
     "data": {
      "text/plain": [
       "[(1,4,6)(2,3,5)(7,10,12)(8,9,11)(13,22,27)(14,25,21)(15,26,17)(16,19,24)(18,23,20),\n",
       " (1,8,13)(2,16,4)(3,27,17)(5,25,10)(6,23,14)(7,11,19)(9,21,26)(12,18,22)(15,20,24),\n",
       " (1,10,15)(2,18,9)(3,23,11)(4,12,26)(5,20,8)(6,7,17)(13,25,24)(14,19,27)(16,22,21)]"
      ]
     },
     "execution_count": 29,
     "metadata": {},
     "output_type": "execute_result"
    }
   ],
   "source": [
    "H.gens()"
   ]
  },
  {
   "cell_type": "code",
   "execution_count": 30,
   "id": "53d7d5da-7812-4cf9-9bb0-a1f5e6581a30",
   "metadata": {},
   "outputs": [
    {
     "data": {
      "text/plain": [
       "('C3 x C3',\n",
       " (1,10,15)(2,18,9)(3,23,11)(4,12,26)(5,20,8)(6,7,17)(13,25,24)(14,19,27)(16,22,21),\n",
       " (1,17,12)(2,8,23)(3,9,20)(4,15,7)(5,11,18)(6,26,10)(13,19,21)(14,22,24)(16,25,27))"
      ]
     },
     "execution_count": 30,
     "metadata": {},
     "output_type": "execute_result"
    }
   ],
   "source": [
    "H_over_Z_H = [el for el in all_subgroups if el.is_isomorphic(H.quotient(Z_H))][0]\n",
    "[N, P] = H_over_Z_H.gens_small()\n",
    "H_over_Z_H.structure_description(), N, P"
   ]
  },
  {
   "cell_type": "code",
   "execution_count": 31,
   "id": "ace786fa-131d-4e02-a515-d56ba31e9f83",
   "metadata": {},
   "outputs": [
    {
     "data": {
      "text/plain": [
       "False"
      ]
     },
     "execution_count": 31,
     "metadata": {},
     "output_type": "execute_result"
    }
   ],
   "source": [
    "H.quotient(PermutationGroup([M, N])).is_isomorphic(PermutationGroup([P]))"
   ]
  },
  {
   "cell_type": "code",
   "execution_count": 32,
   "id": "ce989fd0-7843-4df5-9e85-179533f824c4",
   "metadata": {},
   "outputs": [
    {
     "data": {
      "text/plain": [
       "(2,3,19,22)(4,20,7,24)(5,6,25,26)(8,17,13,12)(9,11,14,16)(18,23,27,21)"
      ]
     },
     "execution_count": 32,
     "metadata": {},
     "output_type": "execute_result"
    }
   ],
   "source": [
    "C4 = [el for el in all_subgroups if el.is_isomorphic(lines_perms_group.quotient(H))][0]\n",
    "B = C4.gens_small()[0]\n",
    "B"
   ]
  },
  {
   "cell_type": "code",
   "execution_count": 40,
   "id": "42bc9f6e-61f6-4b9f-859c-7e13bb9f0797",
   "metadata": {},
   "outputs": [],
   "source": [
    "gens = H.gens()+[B]\n",
    "gens_indices = [lines_perms.index(gen) for gen in gens]\n",
    "matrix_gens = [simm_SE9_1[index][0] for index in gens_indices]"
   ]
  },
  {
   "cell_type": "code",
   "execution_count": 41,
   "id": "85ef30c0-77bc-4f24-a3b9-735eefeeccad",
   "metadata": {},
   "outputs": [],
   "source": [
    "# There are twelve lines through 3 Eckardt points, and they are all coplanar"
   ]
  },
  {
   "cell_type": "code",
   "execution_count": 42,
   "id": "21b9d219",
   "metadata": {},
   "outputs": [
    {
     "name": "stdout",
     "output_type": "stream",
     "text": [
      "[[1, 2, 8], [1, 3, 9], [1, 4, 6], [1, 5, 7], [2, 3, 5], [2, 4, 9], [2, 6, 7], [3, 4, 7], [3, 6, 8], [4, 5, 8], [5, 6, 9], [7, 8, 9]]\n"
     ]
    }
   ],
   "source": [
    "lines_three_eck = []\n",
    "lines_labels = []\n",
    "for i in range(7):\n",
    "    for j in range(i+1, 8):\n",
    "        for k in range(j+1, 9):\n",
    "            point1 = SE9_1.eckardt_points[i]\n",
    "            point2 = SE9_1.eckardt_points[j]\n",
    "            point3 = SE9_1.eckardt_points[k]   \n",
    "            line12_pl = Point(matrix([point1, point2]).minors(2))\n",
    "            line23_pl = Point(matrix([point2, point3]).minors(2))\n",
    "            if line12_pl == line23_pl and line12_pl not in [line.plucker for line in lines_three_eck]:\n",
    "                lines_labels.append([i+1,j+1,k+1])\n",
    "                planes = get_two_planes_containing_line([point1, point2])\n",
    "                lines_three_eck.append(Line(planes, [point1, point2], line12_pl))\n",
    "print(lines_labels)"
   ]
  },
  {
   "cell_type": "code",
   "execution_count": 43,
   "id": "057aab7c",
   "metadata": {},
   "outputs": [
    {
     "data": {
      "text/plain": [
       "False"
      ]
     },
     "execution_count": 43,
     "metadata": {},
     "output_type": "execute_result"
    }
   ],
   "source": [
    "False in [[line1.are_incident(line2) for line2 in lines_three_eck] for line1 in lines_three_eck]"
   ]
  },
  {
   "cell_type": "code",
   "execution_count": 44,
   "id": "a3f0ee56",
   "metadata": {},
   "outputs": [
    {
     "data": {
      "text/plain": [
       "x + (1/8*i_minus_rad3^2 - 1/2)*y + (-1/8*i_minus_rad3^2 + 1/2)*z"
      ]
     },
     "execution_count": 44,
     "metadata": {},
     "output_type": "execute_result"
    }
   ],
   "source": [
    "lines_three_eck[0].get_plane_containing_another_incident_line(lines_three_eck[1])"
   ]
  },
  {
   "cell_type": "code",
   "execution_count": 45,
   "id": "5bfb2ca9-18ec-4002-b79b-b73f7d4d9465",
   "metadata": {},
   "outputs": [],
   "source": [
    "# To do, study how the 12 lines are permuted"
   ]
  },
  {
   "cell_type": "code",
   "execution_count": 46,
   "id": "e427b2aa-da33-43d8-a46b-d7cc3da2b73a",
   "metadata": {},
   "outputs": [
    {
     "name": "stdout",
     "output_type": "stream",
     "text": [
      "(1,8,11)(2,10,7)(4,6,9)\n",
      "(1,11,8)(2,10,7)(3,5,12)\n",
      "()\n",
      "(1,2)(3,4)(5,9,12,6)(7,8,10,11)\n"
     ]
    }
   ],
   "source": [
    "for gen in matrix_gens:\n",
    "    print(Permutation([lines_three_eck.index(line.apply_proj(gen))+1 for line in lines_three_eck]).to_permutation_group_element())"
   ]
  },
  {
   "cell_type": "code",
   "execution_count": 47,
   "id": "318aaaa4-a767-4b10-8c0f-aec377877720",
   "metadata": {},
   "outputs": [
    {
     "data": {
      "text/plain": [
       "[(1,6,4)(2,5,3)(7,8,9), (1,7,5)(2,4,9)(3,6,8), (), (2,9,8,3)(4,7,6,5)]"
      ]
     },
     "execution_count": 47,
     "metadata": {},
     "output_type": "execute_result"
    }
   ],
   "source": [
    "[Eck_perms[gen_index] for gen_index in gens_indices]"
   ]
  },
  {
   "cell_type": "code",
   "execution_count": 48,
   "id": "122dd086-173c-409e-a839-37349206a52a",
   "metadata": {},
   "outputs": [
    {
     "name": "stdout",
     "output_type": "stream",
     "text": [
      "[['E1', 'G4', 'F14'], ['E2', 'G3', 'F23'], ['E3', 'G5', 'F35'], ['E4', 'G6', 'F46'], ['E5', 'G2', 'F25'], ['E6', 'G1', 'F16'], ['F12', 'F36', 'F45'], ['F13', 'F24', 'F56'], ['F15', 'F26', 'F34']]\n",
      "\n",
      "[['E6', 'G1', 'F16'], ['E5', 'G2', 'F25'], ['E2', 'G3', 'F23'], ['E1', 'G4', 'F14'], ['E3', 'G5', 'F35'], ['E4', 'G6', 'F46'], ['F56', 'F24', 'F13'], ['F26', 'F15', 'F34'], ['F36', 'F45', 'F12']]\n",
      "\n",
      "[['F12', 'F45', 'F36'], ['E4', 'F46', 'G6'], ['F16', 'G1', 'E6'], ['F15', 'F34', 'F26'], ['G4', 'E1', 'F14'], ['F13', 'F24', 'F56'], ['G2', 'F25', 'E5'], ['F35', 'G5', 'E3'], ['E2', 'G3', 'F23']]\n",
      "\n",
      "[['F14', 'E1', 'G4'], ['G3', 'F23', 'E2'], ['G5', 'F35', 'E3'], ['F46', 'E4', 'G6'], ['G2', 'F25', 'E5'], ['F16', 'E6', 'G1'], ['F36', 'F45', 'F12'], ['F56', 'F13', 'F24'], ['F26', 'F34', 'F15']]\n",
      "\n",
      "[['E1', 'G4', 'F14'], ['F34', 'F15', 'F26'], ['E2', 'G3', 'F23'], ['F36', 'F12', 'F45'], ['F46', 'G6', 'E4'], ['E5', 'F25', 'G2'], ['F16', 'G1', 'E6'], ['G5', 'E3', 'F35'], ['F13', 'F56', 'F24']]\n",
      "\n"
     ]
    }
   ],
   "source": [
    "keys = list(SE9.cl_lines.keys())\n",
    "print(SE9.eckardt_points_labels)\n",
    "print()\n",
    "for gen in gens:\n",
    "    labels = from_perm_to_labels(gen)\n",
    "    print([[keys[labels.index(label)] for label in Eck_label] for Eck_label in SE9.eckardt_points_labels])\n",
    "    print()"
   ]
  },
  {
   "cell_type": "code",
   "execution_count": 49,
   "id": "4933632c-292f-49e0-b470-e7764467fa2c",
   "metadata": {},
   "outputs": [
    {
     "data": {
      "text/plain": [
       "([('E4', 'G6', 'E3', 'G5', 'E5', 'E2'),\n",
       "  ('G2', 'E5', 'F15', 'F26', 'F56', 'F45'),\n",
       "  ('G4', 'F14', 'F23', 'E2', 'F35', 'F25'),\n",
       "  ('E1', 'G4', 'E3', 'G5', 'F24', 'E6')],\n",
       " [(1,4,6)(2,3,5)(7,10,12)(8,9,11)(13,22,27)(14,25,21)(15,26,17)(16,19,24)(18,23,20),\n",
       "  (1,8,13)(2,16,4)(3,27,17)(5,25,10)(6,23,14)(7,11,19)(9,21,26)(12,18,22)(15,20,24),\n",
       "  (1,10,15)(2,18,9)(3,23,11)(4,12,26)(5,20,8)(6,7,17)(13,25,24)(14,19,27)(16,22,21),\n",
       "  (2,3,19,22)(4,20,7,24)(5,6,25,26)(8,17,13,12)(9,11,14,16)(18,23,27,21)])"
      ]
     },
     "execution_count": 49,
     "metadata": {},
     "output_type": "execute_result"
    }
   ],
   "source": [
    "gens_lines = [lines_perms[index] for index in gens_indices]\n",
    "[get_permuted_extended_L_set(perm) for perm in gens_lines], gens_lines"
   ]
  },
  {
   "cell_type": "code",
   "execution_count": null,
   "id": "655a57fc-3201-4292-9a63-0d894e361728",
   "metadata": {},
   "outputs": [],
   "source": []
  }
 ],
 "metadata": {
  "kernelspec": {
   "display_name": "SageMath 9.4",
   "language": "sage",
   "name": "sagemath"
  },
  "language_info": {
   "codemirror_mode": {
    "name": "ipython",
    "version": 3
   },
   "file_extension": ".py",
   "mimetype": "text/x-python",
   "name": "python",
   "nbconvert_exporter": "python",
   "pygments_lexer": "ipython3",
   "version": "3.7.12"
  }
 },
 "nbformat": 4,
 "nbformat_minor": 5
}
