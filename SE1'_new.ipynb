{
 "cells": [
  {
   "cell_type": "code",
   "execution_count": 1,
   "id": "ddab45aa-12c6-4e9a-8858-2cd49d5f8af2",
   "metadata": {},
   "outputs": [],
   "source": [
    "load('Imports/Utility.sage', 'Imports/Point.sage', 'Imports/Line.sage', 'Imports/TritangentPlane.sage', 'Imports/Group.sage', 'Imports/Cubic.sage')\n",
    "import multiprocessing as mp\n",
    "import pickle"
   ]
  },
  {
   "cell_type": "code",
   "execution_count": 2,
   "id": "afa3d20f-6c6c-4d10-a078-2d8b8db5f4a7",
   "metadata": {},
   "outputs": [
    {
     "data": {
      "text/plain": [
       "xx^4 - 4*xx^2 + 16"
      ]
     },
     "execution_count": 2,
     "metadata": {},
     "output_type": "execute_result"
    }
   ],
   "source": [
    "xx=QQ['xx'].0\n",
    "(I-sqrt(3)).minpoly(xx)"
   ]
  },
  {
   "cell_type": "code",
   "execution_count": 3,
   "id": "13d5cd86-a817-47f2-a59d-50763663899b",
   "metadata": {},
   "outputs": [],
   "source": [
    "Q.<i> = NumberField(xx^2 + 1)"
   ]
  },
  {
   "cell_type": "code",
   "execution_count": 4,
   "id": "8b88325a-e914-4994-b001-2de44ca85a96",
   "metadata": {},
   "outputs": [],
   "source": [
    "#i = ((rad2_i)^3+rad2_i)/(-6)"
   ]
  },
  {
   "cell_type": "code",
   "execution_count": 5,
   "id": "1ddd4268-92ca-45c3-89c4-da2d7e7d950e",
   "metadata": {},
   "outputs": [],
   "source": [
    "P.<x,y,z,t,b,c,d,e,f,l,m> = PolynomialRing(Q)\n",
    "cubic_new = e*f*(2*x^2*y-2*x*y^2+x*z^2-x*z*t-y*t^2+y*z*t)+b*c*(x-t)*(x*z+y*t)+c*c*(z+t)*(y*t-x*z)+d*c*(y-z)*(x*z+y*t)+(e+f)*c*(x-y)*(y*t-x*z)\n",
    "sing_cubics = (-1) * (-c + f) * (-c + e) * c * (c + f) * (c + e) * (-e + f)^2 * (-c*d + c*f + e*f) * (-c*d + c*e + e*f) * (-c^2 - c*d + e*f) * (b*c - c*f + e*f) * (b*c - c*e + e*f) * (b*c - c*d + 2*e*f) * (b*c - c^2 + e*f) * (b*c^2 + c^2*d + b*c*f - 2*c^2*f - c*d*f + 2*e*f^2) * (b*c^2 + c^2*d + b*c*e - 2*c^2*e - c*d*e + 2*e^2*f) * (-b*c^3 - 2*b*c^2*d + c^3*d + b*c^2*e + c^2*d*e + b*c^2*f + c^2*d*f + 3*b*c*e*f - 4*c^2*e*f - 3*c*d*e*f + 4*e^2*f^2)\n",
    "line = Line([y, z])\n",
    "general_cubic = Cubic(cubic_new, line, sing_cubics)\n",
    "SE1 = general_cubic.subs({b:-(c*c+e*f)/c})"
   ]
  },
  {
   "cell_type": "code",
   "execution_count": 6,
   "id": "e5636fb7-5ade-4f3e-894d-8c85c647f054",
   "metadata": {},
   "outputs": [],
   "source": [
    "mon = ((x+y+z+t)^3).monomials()\n",
    "L_set_base = ['E1', 'G4', 'E2', 'G3', 'E3']"
   ]
  },
  {
   "cell_type": "code",
   "execution_count": 7,
   "id": "c494c133-5fe9-41a4-ad7a-259ce1a35e8d",
   "metadata": {},
   "outputs": [
    {
     "name": "stdout",
     "output_type": "stream",
     "text": [
      "CPU times: user 8.24 s, sys: 301 ms, total: 8.54 s\n",
      "Wall time: 21 s\n"
     ]
    },
    {
     "data": {
      "text/plain": [
       "576"
      ]
     },
     "execution_count": 7,
     "metadata": {},
     "output_type": "execute_result"
    }
   ],
   "source": [
    "%time adm_SE1 = SE1.find_admissible_projectivities()\n",
    "len(adm_SE1)"
   ]
  },
  {
   "cell_type": "code",
   "execution_count": 8,
   "id": "176981c4-4b2c-480e-8a59-430a12995746",
   "metadata": {},
   "outputs": [
    {
     "name": "stdout",
     "output_type": "stream",
     "text": [
      "CPU times: user 4.55 s, sys: 223 ms, total: 4.77 s\n",
      "Wall time: 24.1 s\n"
     ]
    },
    {
     "data": {
      "text/plain": [
       "2"
      ]
     },
     "execution_count": 8,
     "metadata": {},
     "output_type": "execute_result"
    }
   ],
   "source": [
    "%time simm_SE1 = SE1.find_simmetries(adm_SE1)\n",
    "len(simm_SE1)"
   ]
  },
  {
   "cell_type": "code",
   "execution_count": 9,
   "id": "aacf6e7d-1955-41bc-a813-8e29ef603259",
   "metadata": {},
   "outputs": [
    {
     "data": {
      "text/plain": [
       "(2, 'C2')"
      ]
     },
     "execution_count": 9,
     "metadata": {},
     "output_type": "execute_result"
    }
   ],
   "source": [
    "lines_perms = []\n",
    "for simm in simm_SE1:\n",
    "    lines_perms.append(Permutation(SE1.apply_proj_to_lines(simm)).to_permutation_group_element())\n",
    "lines_perms_group = PermutationGroup(lines_perms)\n",
    "lines_perms_group.order(), lines_perms_group.structure_description()"
   ]
  },
  {
   "cell_type": "code",
   "execution_count": 10,
   "id": "065ad855-7a4c-4e51-b8fa-459b3ce310ae",
   "metadata": {},
   "outputs": [],
   "source": [
    "adm_perms = [from_labels_to_perm(label) for label in SE1.find_admissible_permutations()]\n",
    "M2_perm = lines_perms_group.gens_small()[0]\n",
    "adm_perms_group = PermutationGroup(adm_perms)"
   ]
  },
  {
   "cell_type": "code",
   "execution_count": 11,
   "id": "033c13e5-fa35-454c-a7aa-3cfe1af17ecf",
   "metadata": {},
   "outputs": [
    {
     "data": {
      "text/plain": [
       "(2,19)(3,22)(4,7)(5,25)(6,26)(8,13)(9,14)(11,16)(12,17)(18,27)(20,24)(21,23)"
      ]
     },
     "execution_count": 11,
     "metadata": {},
     "output_type": "execute_result"
    }
   ],
   "source": [
    "M2_perm"
   ]
  },
  {
   "cell_type": "code",
   "execution_count": 12,
   "id": "f976dc58-c431-4369-a8da-bfcf8f63ce0c",
   "metadata": {},
   "outputs": [
    {
     "data": {
      "text/plain": [
       "12"
      ]
     },
     "execution_count": 12,
     "metadata": {},
     "output_type": "execute_result"
    }
   ],
   "source": [
    "# find permutation of order 4 whose square is M2_perm\n",
    "possible_perms = []\n",
    "for perm in adm_perms_group:\n",
    "    if perm^2 == M2_perm and perm.order() == 4:\n",
    "        possible_perms.append(perm)\n",
    "len(possible_perms)"
   ]
  },
  {
   "cell_type": "code",
   "execution_count": 13,
   "id": "1fd0256d-47a0-4768-8760-3853f024926c",
   "metadata": {},
   "outputs": [
    {
     "data": {
      "text/plain": [
       "[('E1', 'G4', 'E5', 'F15', 'E6'),\n",
       " ('E1', 'G4', 'F45', 'G5', 'F46'),\n",
       " ('E1', 'G4', 'E6', 'F16', 'E5'),\n",
       " ('E1', 'G4', 'F46', 'G6', 'F45'),\n",
       " ('E1', 'G4', 'E3', 'G6', 'F24'),\n",
       " ('E1', 'G4', 'F34', 'F16', 'E2'),\n",
       " ('E1', 'G4', 'E5', 'G2', 'F46'),\n",
       " ('E1', 'G4', 'F45', 'F12', 'E6'),\n",
       " ('E1', 'G4', 'E3', 'G5', 'F24'),\n",
       " ('E1', 'G4', 'F34', 'F15', 'E2'),\n",
       " ('E1', 'G4', 'E6', 'G2', 'F45'),\n",
       " ('E1', 'G4', 'F46', 'F12', 'E5')]"
      ]
     },
     "execution_count": 13,
     "metadata": {},
     "output_type": "execute_result"
    }
   ],
   "source": [
    "possible_L_sets = [get_permuted_L_set(perm) for perm in possible_perms]\n",
    "possible_L_sets"
   ]
  },
  {
   "cell_type": "code",
   "execution_count": 34,
   "id": "3d842551-6222-43f9-aad6-1cacde3aed48",
   "metadata": {},
   "outputs": [],
   "source": [
    "proj = find_projectivity(SE1.get_L_set_in_plucker(L_set_base), SE1.get_L_set_in_plucker(('E1', 'G4', 'F45', 'G5', 'F46')))\n",
    "nc = SE1.subs(change_coord(proj))\n",
    "conds = list(set(matrix([[SE1.coefficient(mn) for mn in mon], [nc.coefficient(mn) for mn in mon]]).minors(2)))\n",
    "red_conds = [remove_sing_factors(cond, SE1.sing_locus) for cond in conds if cond !=0]\n",
    "gb = P.ideal(red_conds).groebner_basis()"
   ]
  },
  {
   "cell_type": "code",
   "execution_count": 36,
   "id": "5824851f-3781-4816-9a86-6d3b3e1737b5",
   "metadata": {},
   "outputs": [
    {
     "data": {
      "text/plain": [
       "[Ideal (f, 25*d + (2*i - 11)*e, 5*c + (4*i + 3)*e) of Multivariate Polynomial Ring in x, y, z, t, b, c, d, e, f, l, m over Number Field in i with defining polynomial xx^2 + 1,\n",
       " Ideal (f, 25*d + (-2*i - 11)*e, 5*c + (-4*i + 3)*e) of Multivariate Polynomial Ring in x, y, z, t, b, c, d, e, f, l, m over Number Field in i with defining polynomial xx^2 + 1,\n",
       " Ideal (f, d - e, c + e) of Multivariate Polynomial Ring in x, y, z, t, b, c, d, e, f, l, m over Number Field in i with defining polynomial xx^2 + 1,\n",
       " Ideal (f, c) of Multivariate Polynomial Ring in x, y, z, t, b, c, d, e, f, l, m over Number Field in i with defining polynomial xx^2 + 1]"
      ]
     },
     "execution_count": 36,
     "metadata": {},
     "output_type": "execute_result"
    }
   ],
   "source": [
    "gbf = gb+[f]\n",
    "prim_dec1 = P.ideal(gbf).radical().primary_decomposition()"
   ]
  },
  {
   "cell_type": "code",
   "execution_count": 41,
   "id": "bf3907ea-7820-4a8c-be36-c9db80eb7c75",
   "metadata": {},
   "outputs": [
    {
     "name": "stdout",
     "output_type": "stream",
     "text": [
      "CPU times: user 28.5 s, sys: 11.2 ms, total: 28.5 s\n",
      "Wall time: 28.4 s\n"
     ]
    }
   ],
   "source": [
    "%time prim_dec2 = P.ideal(gb).saturation(P.ideal(f))[0].radical().primary_decomposition()"
   ]
  },
  {
   "cell_type": "code",
   "execution_count": 44,
   "id": "685412e4-1d11-48bb-a7db-b596186cd879",
   "metadata": {},
   "outputs": [],
   "source": [
    "ideals = [ideal for ideal in prim_dec1+prim_dec2 if SE1.is_ideal_valid(ideal)]"
   ]
  },
  {
   "cell_type": "code",
   "execution_count": 82,
   "id": "38b72b97-1b70-407f-80b9-945a1e27af4e",
   "metadata": {},
   "outputs": [
    {
     "data": {
      "text/plain": [
       "[8*c*e + (3*i - 1)*d*e + (5*i + 5)*e^2 - 4*c*f + (-3*i + 1)*d*f + (-8*i)*e*f + (3*i - 1)*f^2, 40*c*d + (7*i - 1)*d*e + (9*i + 13)*e^2 + (8*i - 4)*c*f + (9*i - 7)*d*f + (8*i - 24)*e*f + (-9*i + 7)*f^2, 8*c^2 + (-i + 3)*d*e + (-7*i + 1)*e^2 + 4*c*f + (i - 3)*d*f + (8*i - 8)*e*f + (-i + 3)*f^2, 25*d^2*e + (-48*i + 14)*d*e^2 + (24*i - 7)*e^3 - 25*d^2*f + (18*i - 74)*d*e*f + (-34*i - 13)*e^2*f + (-2*i + 36)*d*f^2 + (8*i + 31)*e*f^2 + (2*i - 11)*f^3]"
      ]
     },
     "execution_count": 82,
     "metadata": {},
     "output_type": "execute_result"
    }
   ],
   "source": [
    "gens = ideals[-1].gens()\n",
    "gens"
   ]
  },
  {
   "cell_type": "code",
   "execution_count": 72,
   "id": "cd44878f-d434-43c7-af49-91635bd10ba1",
   "metadata": {},
   "outputs": [
    {
     "data": {
      "text/plain": [
       "(-8*c*e + (-5*i - 5)*e^2 + 4*c*f + (8*i)*e*f + (-3*i + 1)*f^2)/((3*i - 1)*e + (-3*i + 1)*f)"
      ]
     },
     "execution_count": 72,
     "metadata": {},
     "output_type": "execute_result"
    }
   ],
   "source": [
    "-(gens[0] -d*gens[0].coefficient(d))/gens[0].coefficient(d)"
   ]
  },
  {
   "cell_type": "code",
   "execution_count": 74,
   "id": "eea9180c-b92c-4eb5-a58b-5a6769247ab1",
   "metadata": {},
   "outputs": [
    {
     "data": {
      "text/plain": [
       "[0,\n",
       " ((1920*i + 2560)*c^2*e + (3200*i)*c*e^2 + (-960*i - 1280)*c^2*f + (-2240*i + 1280)*c*e*f + (640*i - 1280)*e^2*f + (320*i - 640)*c*f^2 + (-320*i + 640)*e*f^2)/((-18*i + 26)*e + (18*i - 26)*f),\n",
       " 8*c^2 + (32/5*i + 24/5)*c*e + (-16/5*i + 8/5)*c*f + (16/5*i - 8/5)*e*f,\n",
       " ((19200*i + 505600)*c^2*e^2 + (416000*i + 288000)*c*e^3 + (-19200*i - 505600)*c^2*e*f + (-614400*i - 179200)*c*e^2*f + (198400*i - 108800)*e^3*f + (4800*i + 126400)*c^2*f^2 + (302400*i - 36800)*c*e*f^2 + (-198400*i + 108800)*e^2*f^2 + (-49600*i + 27200)*c*f^3 + (49600*i - 27200)*e*f^3)/((-1992*i - 2456)*e + (1992*i + 2456)*f)]"
      ]
     },
     "execution_count": 74,
     "metadata": {},
     "output_type": "execute_result"
    }
   ],
   "source": [
    "gens_d = [el.subs({d: -(gens[0] -d*gens[0].coefficient(d))/gens[0].coefficient(d)}) for el in gens]\n",
    "gens_d"
   ]
  },
  {
   "cell_type": "code",
   "execution_count": 83,
   "id": "f75111f3-ce29-4112-ab57-1ce76b3fa64f",
   "metadata": {},
   "outputs": [
    {
     "data": {
      "text/plain": [
       "[0, 0, 0, 0]"
      ]
     },
     "execution_count": 83,
     "metadata": {},
     "output_type": "execute_result"
    }
   ],
   "source": [
    "[el.subs({e: -(P(gens_d[2]) -e*P(gens_d[2]).coefficient(e))/P(gens_d[2]).coefficient(e)}) for el in gens_d]"
   ]
  },
  {
   "cell_type": "code",
   "execution_count": null,
   "id": "095fad3a-b500-4113-a1a0-1b5b738d417b",
   "metadata": {},
   "outputs": [],
   "source": []
  }
 ],
 "metadata": {
  "kernelspec": {
   "display_name": "SageMath 9.4",
   "language": "sage",
   "name": "sagemath"
  },
  "language_info": {
   "codemirror_mode": {
    "name": "ipython",
    "version": 3
   },
   "file_extension": ".py",
   "mimetype": "text/x-python",
   "name": "python",
   "nbconvert_exporter": "python",
   "pygments_lexer": "ipython3",
   "version": "3.7.12"
  }
 },
 "nbformat": 4,
 "nbformat_minor": 5
}
