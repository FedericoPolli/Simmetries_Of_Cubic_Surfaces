{
 "cells": [
  {
   "cell_type": "code",
   "execution_count": 1,
   "id": "e327596d",
   "metadata": {},
   "outputs": [],
   "source": [
    "load('Imports/Utility.sage', 'Imports/Point.sage', 'Imports/Line.sage', 'Imports/TritangentPlane.sage', 'Imports/Group.sage', 'Imports/Cubic.sage')"
   ]
  },
  {
   "cell_type": "code",
   "execution_count": 2,
   "id": "1a763f4c",
   "metadata": {},
   "outputs": [],
   "source": [
    "with open('all_permutations.pickle', 'rb') as fil:\n",
    "    all_permutations = pickle.load(fil) "
   ]
  },
  {
   "cell_type": "code",
   "execution_count": 165,
   "id": "6687a93f",
   "metadata": {},
   "outputs": [],
   "source": [
    "keys = ['E1', 'E2', 'E3', 'E4', 'E5', 'E6', 'G1', 'G2', 'G3', 'G4', 'G5', 'G6', 'F12', 'F13', 'F14', 'F15', 'F16','F23', 'F24', 'F25', 'F26', 'F34', 'F35', 'F36', 'F45', 'F46', 'F56']"
   ]
  },
  {
   "cell_type": "code",
   "execution_count": 4,
   "id": "3bc15b90",
   "metadata": {},
   "outputs": [
    {
     "name": "stdout",
     "output_type": "stream",
     "text": [
      "['E1', 'E2', 'E4', 'F56', 'F35', 'F36', 'F24', 'F14', 'F12', 'G3', 'G6', 'G5', 'G4', 'G2', 'F13', 'F16', 'F15', 'G1', 'F23', 'F26', 'F25', 'F34', 'F46', 'F45', 'E5', 'E6', 'E3']\n"
     ]
    }
   ],
   "source": [
    "print(all_permutations[0])"
   ]
  },
  {
   "cell_type": "code",
   "execution_count": 5,
   "id": "729dc794",
   "metadata": {},
   "outputs": [],
   "source": [
    "all_perms = [from_labels_to_perm(labels) for labels in all_permutations]"
   ]
  },
  {
   "cell_type": "code",
   "execution_count": 6,
   "id": "a445adf2",
   "metadata": {},
   "outputs": [
    {
     "data": {
      "text/plain": [
       "(3,27,4)(5,25,24,6,26,23)(7,18,19)(8,14,15)(9,10,13)(11,12)(16,17)(20,21)"
      ]
     },
     "execution_count": 6,
     "metadata": {},
     "output_type": "execute_result"
    }
   ],
   "source": [
    "all_perms[0]"
   ]
  },
  {
   "cell_type": "code",
   "execution_count": 7,
   "id": "0fba1def",
   "metadata": {},
   "outputs": [],
   "source": [
    "Gr = PermutationGroup(all_perms)"
   ]
  },
  {
   "cell_type": "code",
   "execution_count": 8,
   "id": "c1156b6e",
   "metadata": {},
   "outputs": [
    {
     "data": {
      "text/plain": [
       "51840"
      ]
     },
     "execution_count": 8,
     "metadata": {},
     "output_type": "execute_result"
    }
   ],
   "source": [
    "Gr.order()"
   ]
  },
  {
   "cell_type": "code",
   "execution_count": 35,
   "id": "591b1292",
   "metadata": {},
   "outputs": [],
   "source": [
    "order3_perm = []\n",
    "for perm in all_perms:\n",
    "    if perm.order() == 3:\n",
    "        order3_perm.append(perm)\n",
    "order3_labels = [from_perm_to_labels(perm) for perm in order3_perm]"
   ]
  },
  {
   "cell_type": "code",
   "execution_count": 171,
   "id": "8271c43c-8846-4962-a7a5-3930fd218984",
   "metadata": {},
   "outputs": [
    {
     "data": {
      "text/plain": [
       "[]"
      ]
     },
     "execution_count": 171,
     "metadata": {},
     "output_type": "execute_result"
    }
   ],
   "source": [
    "[perm for perm in order3_perm if (1, 10, 14) in perm.cycle_tuples() and (2, 9, 17) in perm.cycle_tuples()]"
   ]
  },
  {
   "cell_type": "code",
   "execution_count": 170,
   "id": "6eab7f40-e0e6-4863-a4cf-3dcc995310ce",
   "metadata": {},
   "outputs": [
    {
     "data": {
      "text/plain": [
       "(13, 14, 17, 18)"
      ]
     },
     "execution_count": 170,
     "metadata": {},
     "output_type": "execute_result"
    }
   ],
   "source": [
    "keys.index('F13'), keys.index('F14'), keys.index('F23'), keys.index('F24'), "
   ]
  },
  {
   "cell_type": "code",
   "execution_count": 10,
   "id": "d88e37b6",
   "metadata": {},
   "outputs": [],
   "source": [
    "Gr_2 = PermutationGroup(order3_perm)"
   ]
  },
  {
   "cell_type": "code",
   "execution_count": 11,
   "id": "ccc1204e",
   "metadata": {},
   "outputs": [
    {
     "data": {
      "text/plain": [
       "25920"
      ]
     },
     "execution_count": 11,
     "metadata": {},
     "output_type": "execute_result"
    }
   ],
   "source": [
    "Gr_2.order()"
   ]
  },
  {
   "cell_type": "code",
   "execution_count": 12,
   "id": "bae94698-1bee-49ad-a385-212a979a6b4d",
   "metadata": {},
   "outputs": [],
   "source": [
    "P.<x,y,z,t,b,c,d,e,f,l,m> = PolynomialRing(QQ)\n",
    "cubic_new = e*f*(2*x^2*y-2*x*y^2+x*z^2-x*z*t-y*t^2+y*z*t)+b*c*(x-t)*(x*z+y*t)+c*c*(z+t)*(y*t-x*z)+d*c*(y-z)*(x*z+y*t)+(e+f)*c*(x-y)*(y*t-x*z)\n",
    "sing_cubics = (-1) * (-c + f) * (-c + e) * c * (c + f) * (c + e) * (-e + f)^2 * (-c*d + c*f + e*f) * (-c*d + c*e + e*f) * (-c^2 - c*d + e*f) * (b*c - c*f + e*f) * (b*c - c*e + e*f) * (b*c - c*d + 2*e*f) * (b*c - c^2 + e*f) * (b*c^2 + c^2*d + b*c*f - 2*c^2*f - c*d*f + 2*e*f^2) * (b*c^2 + c^2*d + b*c*e - 2*c^2*e - c*d*e + 2*e^2*f) * (-b*c^3 - 2*b*c^2*d + c^3*d + b*c^2*e + c^2*d*e + b*c^2*f + c^2*d*f + 3*b*c*e*f - 4*c^2*e*f - 3*c*d*e*f + 4*e^2*f^2)\n",
    "line = Line([y, z])\n",
    "general_cubic = Cubic(cubic_new, line, sing_cubics)"
   ]
  },
  {
   "cell_type": "code",
   "execution_count": 17,
   "id": "a89a41b2-b9bb-44c9-bf4d-e9294ede7481",
   "metadata": {},
   "outputs": [],
   "source": [
    "L_set_base = general_cubic.get_L_set_in_plucker(['E1', 'G4', 'E2', 'G3', 'E3'])"
   ]
  },
  {
   "cell_type": "code",
   "execution_count": 107,
   "id": "39e79ea0-f32a-43cb-ba4f-9e6e90f695c4",
   "metadata": {},
   "outputs": [],
   "source": [
    "possible_L_sets = [('E1', 'G4', 'E2', 'G3', 'E3'),\\\n",
    " ('E1', 'G4', 'E2', 'G3', 'F45'),\\\n",
    " ('E1', 'G4', 'E2', 'G3', 'F46')]"
   ]
  },
  {
   "cell_type": "code",
   "execution_count": null,
   "id": "7370b177-ddd9-4e24-acdc-078cd1720bbc",
   "metadata": {},
   "outputs": [],
   "source": [
    "# Finding order 3 matrices that fix a line"
   ]
  },
  {
   "cell_type": "code",
   "execution_count": 109,
   "id": "45b4f3dd",
   "metadata": {},
   "outputs": [],
   "source": [
    "projs = [find_projectivity(L_set_base, general_cubic.get_L_set_in_plucker(L_set_2)) for L_set_2 in possible_L_sets]"
   ]
  },
  {
   "cell_type": "code",
   "execution_count": 125,
   "id": "5559f868",
   "metadata": {},
   "outputs": [],
   "source": [
    "coeffs = []\n",
    "for proj in projs:\n",
    "    sost = change_coord(proj)\n",
    "    new_cubic = general_cubic.eqn.subs(sost)\n",
    "    mon = (sum(P.gens()[0:4]) ^ 3).monomials()\n",
    "    current_conds = list(set(matrix([[general_cubic.eqn.coefficient(mn) for mn in mon], [new_cubic.coefficient(mn) for mn in mon]]).minors(2)))\n",
    "    no_sing_conds = [remove_sing_factors(el, sing_cubics.factor()) for el in current_conds if el !=0]\n",
    "    coeffs.append(no_sing_conds)"
   ]
  },
  {
   "cell_type": "code",
   "execution_count": 135,
   "id": "ce4b6e23-968b-4f2c-8ee6-f83eb3cbb69c",
   "metadata": {},
   "outputs": [],
   "source": [
    "proj1 = projs[1]\n",
    "coeff1 = coeffs[1]\n",
    "proj2 = projs[2]\n",
    "coeff2 = coeffs[2]"
   ]
  },
  {
   "cell_type": "code",
   "execution_count": 132,
   "id": "3f8baecc-c98b-489b-b1b6-6e297759403d",
   "metadata": {},
   "outputs": [
    {
     "data": {
      "text/plain": [
       "(-1) * (-c + f) * (-c + e) * c * (c + f) * (c + e) * (-e + f)^2 * (-c*d + c*f + e*f) * (-c*d + c*e + e*f) * (-c^2 - c*d + e*f) * (b*c - c*f + e*f) * (b*c - c*e + e*f) * (b*c - c*d + 2*e*f) * (b*c - c^2 + e*f) * (b*c^2 + c^2*d + b*c*f - 2*c^2*f - c*d*f + 2*e*f^2) * (b*c^2 + c^2*d + b*c*e - 2*c^2*e - c*d*e + 2*e^2*f) * (-b*c^3 - 2*b*c^2*d + c^3*d + b*c^2*e + c^2*d*e + b*c^2*f + c^2*d*f + 3*b*c*e*f - 4*c^2*e*f - 3*c*d*e*f + 4*e^2*f^2)"
      ]
     },
     "execution_count": 132,
     "metadata": {},
     "output_type": "execute_result"
    }
   ],
   "source": [
    "sing_cubics.factor()"
   ]
  },
  {
   "cell_type": "code",
   "execution_count": 134,
   "id": "0ee29ac7-cc27-478f-a193-5f2becdb06dd",
   "metadata": {},
   "outputs": [
    {
     "data": {
      "text/plain": [
       "Ideal (e + f, 4*c - d, b + d, 3*d^2 + 16*f^2) of Multivariate Polynomial Ring in x, y, z, t, b, c, d, e, f, l, m over Rational Field"
      ]
     },
     "execution_count": 134,
     "metadata": {},
     "output_type": "execute_result"
    }
   ],
   "source": [
    "ideal1 = P.ideal(coeff1).radical().primary_decomposition()[0]\n",
    "ideal1"
   ]
  },
  {
   "cell_type": "code",
   "execution_count": 153,
   "id": "8ee6f15b-be62-45d7-af36-2251d550e543",
   "metadata": {},
   "outputs": [],
   "source": [
    "mat1 = matrix(4,4,[ideal1.reduce(el) for el in proj1.list()])"
   ]
  },
  {
   "cell_type": "code",
   "execution_count": 154,
   "id": "6832f2a5-0b7f-432d-a536-5a740a17fcd0",
   "metadata": {},
   "outputs": [],
   "source": [
    "mat1alla3 = mat1^3"
   ]
  },
  {
   "cell_type": "code",
   "execution_count": 158,
   "id": "b5957d51-82ea-4252-8906-44a55025d379",
   "metadata": {},
   "outputs": [
    {
     "data": {
      "text/plain": [
       "512/6561*d^2*f^19 + 8192/19683*f^21"
      ]
     },
     "execution_count": 158,
     "metadata": {},
     "output_type": "execute_result"
    }
   ],
   "source": [
    "P.ideal(mat1alla3[3,3]).reduce(mat1alla3[2,2])"
   ]
  },
  {
   "cell_type": "code",
   "execution_count": 159,
   "id": "04c7e7e6-14c5-49a9-9458-3775f285cf23",
   "metadata": {},
   "outputs": [
    {
     "data": {
      "text/plain": [
       "[Ideal (e + f, 4*c - d, b + d, 3*d^2 + 16*f^2) of Multivariate Polynomial Ring in x, y, z, t, b, c, d, e, f, l, m over Rational Field,\n",
       " Ideal (f, c) of Multivariate Polynomial Ring in x, y, z, t, b, c, d, e, f, l, m over Rational Field,\n",
       " Ideal (e, c) of Multivariate Polynomial Ring in x, y, z, t, b, c, d, e, f, l, m over Rational Field]"
      ]
     },
     "execution_count": 159,
     "metadata": {},
     "output_type": "execute_result"
    }
   ],
   "source": [
    "P.ideal(coeff2).radical().primary_decomposition()"
   ]
  },
  {
   "cell_type": "code",
   "execution_count": null,
   "id": "b113e8b7-a586-4123-bf91-952351732a1e",
   "metadata": {},
   "outputs": [],
   "source": [
    "# There are none!!"
   ]
  },
  {
   "cell_type": "code",
   "execution_count": null,
   "id": "d1a762bd-e910-49b5-82e5-8aa542b28984",
   "metadata": {},
   "outputs": [],
   "source": []
  },
  {
   "cell_type": "code",
   "execution_count": null,
   "id": "e352c70d-518d-4a58-bf9f-0eab7438217a",
   "metadata": {},
   "outputs": [],
   "source": []
  },
  {
   "cell_type": "code",
   "execution_count": 172,
   "id": "0926b198-2cb8-4e7e-8093-58aabf9e313c",
   "metadata": {},
   "outputs": [],
   "source": [
    "possible_L_sets = [('F14', 'E1', 'G3', 'F23', 'G5'),\\\n",
    " ('F14', 'E1', 'G3', 'F23', 'G6'),\\\n",
    " ('F14', 'E1', 'G3', 'F23', 'F12')]"
   ]
  },
  {
   "cell_type": "code",
   "execution_count": null,
   "id": "12c73a6b-d476-4696-8939-0848ad9462ae",
   "metadata": {},
   "outputs": [],
   "source": [
    "# Finding order 3 matrices that fix a line"
   ]
  },
  {
   "cell_type": "code",
   "execution_count": 173,
   "id": "a618a1ba-55f4-4508-b8aa-d57958c38f1c",
   "metadata": {},
   "outputs": [],
   "source": [
    "projs = [find_projectivity(L_set_base, general_cubic.get_L_set_in_plucker(L_set_2)) for L_set_2 in possible_L_sets]"
   ]
  },
  {
   "cell_type": "code",
   "execution_count": 174,
   "id": "a64bb85f-b4f5-43ab-95cd-68be75e4b0c6",
   "metadata": {},
   "outputs": [],
   "source": [
    "coeffs = []\n",
    "for proj in projs:\n",
    "    sost = change_coord(proj)\n",
    "    new_cubic = general_cubic.eqn.subs(sost)\n",
    "    mon = (sum(P.gens()[0:4]) ^ 3).monomials()\n",
    "    current_conds = list(set(matrix([[general_cubic.eqn.coefficient(mn) for mn in mon], [new_cubic.coefficient(mn) for mn in mon]]).minors(2)))\n",
    "    no_sing_conds = [remove_sing_factors(el, sing_cubics.factor()) for el in current_conds if el !=0]\n",
    "    coeffs.append(no_sing_conds)"
   ]
  },
  {
   "cell_type": "code",
   "execution_count": 176,
   "id": "05be3c3d-0218-4160-8b02-dbd570e4105f",
   "metadata": {},
   "outputs": [],
   "source": [
    "proj0 = projs[0]\n",
    "coeff0 = coeffs[0]\n",
    "proj1 = projs[1]\n",
    "coeff1 = coeffs[1]\n",
    "proj2 = projs[2]\n",
    "coeff2 = coeffs[2]"
   ]
  },
  {
   "cell_type": "code",
   "execution_count": 191,
   "id": "6cad4115-b204-4f7f-9fed-d78066d90888",
   "metadata": {},
   "outputs": [],
   "source": [
    "gb0 = [remove_sing_factors(el, sing_cubics.factor()) for el in P.ideal(coeff0).groebner_basis()]"
   ]
  },
  {
   "cell_type": "code",
   "execution_count": 259,
   "id": "d40faad3-3bc4-41b1-a7af-dd8ec3fbe144",
   "metadata": {},
   "outputs": [],
   "source": [
    "gb0a = gb0+[e*f]"
   ]
  },
  {
   "cell_type": "code",
   "execution_count": 260,
   "id": "3bd5c092-4743-4daf-93dd-fbb5121bbb81",
   "metadata": {},
   "outputs": [
    {
     "data": {
      "text/plain": [
       "[Ideal (e, 3*d + f, 3*c + f, 3*b - f) of Multivariate Polynomial Ring in x, y, z, t, b, c, d, e, f, l, m over Rational Field,\n",
       " Ideal (e, d - f, c + f, b - f) of Multivariate Polynomial Ring in x, y, z, t, b, c, d, e, f, l, m over Rational Field,\n",
       " Ideal (f, c + 2*d - e, b - 2*d + e, 3*d^2 - 3*d*e + e^2) of Multivariate Polynomial Ring in x, y, z, t, b, c, d, e, f, l, m over Rational Field,\n",
       " Ideal (f, 3*d - e, 3*c - e, 3*b - 2*e) of Multivariate Polynomial Ring in x, y, z, t, b, c, d, e, f, l, m over Rational Field,\n",
       " Ideal (f, d, c - e, b - e) of Multivariate Polynomial Ring in x, y, z, t, b, c, d, e, f, l, m over Rational Field,\n",
       " Ideal (f, c) of Multivariate Polynomial Ring in x, y, z, t, b, c, d, e, f, l, m over Rational Field,\n",
       " Ideal (e, c) of Multivariate Polynomial Ring in x, y, z, t, b, c, d, e, f, l, m over Rational Field]"
      ]
     },
     "execution_count": 260,
     "metadata": {},
     "output_type": "execute_result"
    }
   ],
   "source": [
    "ideal0 = P.ideal(gb0a).radical().primary_decomposition()\n",
    "ideal0"
   ]
  },
  {
   "cell_type": "code",
   "execution_count": 280,
   "id": "3559a8af-25ec-4964-9236-6340fa8de082",
   "metadata": {},
   "outputs": [],
   "source": [
    "idealb = P.ideal(gb0).saturation(P.ideal(f*e))[0]"
   ]
  },
  {
   "cell_type": "code",
   "execution_count": 281,
   "id": "d4e565a0-72f0-4ad9-945a-9c24c3b7e3a0",
   "metadata": {},
   "outputs": [],
   "source": [
    "gbb = P.ideal(idealb.radical()).groebner_basis()"
   ]
  },
  {
   "cell_type": "code",
   "execution_count": 287,
   "id": "7a011557-3b08-478f-aa39-167a0dc9b8df",
   "metadata": {},
   "outputs": [
    {
     "name": "stdout",
     "output_type": "stream",
     "text": [
      "CPU times: user 2.15 s, sys: 4.03 ms, total: 2.15 s\n",
      "Wall time: 2.16 s\n"
     ]
    },
    {
     "data": {
      "text/plain": [
       "[Ideal (3*d^2 - 4*d*e + e^2 + 4*d*f + 2*e*f + f^2, 2*c + d - e + f, 2*b + 5*d - 3*e + f) of Multivariate Polynomial Ring in x, y, z, t, b, c, d, e, f, l, m over Rational Field,\n",
       " Ideal (3*d^2 - 3*d*e + e^2 - 3*d*f + 6*e*f + 21*f^2, c*e + 2*d*e - e^2 + 9*c*f - e*f, 3*c*d + 3*d*e - 2*e^2 + 12*c*f - 6*e*f, 3*c^2 + e^2, 3*b + 4*c + 2*d - e - f) of Multivariate Polynomial Ring in x, y, z, t, b, c, d, e, f, l, m over Rational Field,\n",
       " Ideal (d + e - f, c + f, b - e - f) of Multivariate Polynomial Ring in x, y, z, t, b, c, d, e, f, l, m over Rational Field,\n",
       " Ideal (e - f, c + f, b - 2*f) of Multivariate Polynomial Ring in x, y, z, t, b, c, d, e, f, l, m over Rational Field,\n",
       " Ideal (e^2 + 3*f^2, d - 2*e, c - f, b - 2*f) of Multivariate Polynomial Ring in x, y, z, t, b, c, d, e, f, l, m over Rational Field]"
      ]
     },
     "execution_count": 287,
     "metadata": {},
     "output_type": "execute_result"
    }
   ],
   "source": [
    "%time idealb.radical().primary_decomposition('gtz')"
   ]
  },
  {
   "cell_type": "code",
   "execution_count": 264,
   "id": "5098328f-6151-4151-9243-b98bcc4cf9b0",
   "metadata": {},
   "outputs": [
    {
     "data": {
      "text/plain": [
       "(-1) * (-c + f) * (-c + e) * c * (c + f) * (c + e) * (-e + f)^2 * (-c*d + c*f + e*f) * (-c*d + c*e + e*f) * (-c^2 - c*d + e*f) * (b*c - c*f + e*f) * (b*c - c*e + e*f) * (b*c - c*d + 2*e*f) * (b*c - c^2 + e*f) * (b*c^2 + c^2*d + b*c*f - 2*c^2*f - c*d*f + 2*e*f^2) * (b*c^2 + c^2*d + b*c*e - 2*c^2*e - c*d*e + 2*e^2*f) * (-b*c^3 - 2*b*c^2*d + c^3*d + b*c^2*e + c^2*d*e + b*c^2*f + c^2*d*f + 3*b*c*e*f - 4*c^2*e*f - 3*c*d*e*f + 4*e^2*f^2)"
      ]
     },
     "execution_count": 264,
     "metadata": {},
     "output_type": "execute_result"
    }
   ],
   "source": [
    "sing_cubics.factor()"
   ]
  },
  {
   "cell_type": "code",
   "execution_count": 269,
   "id": "e10bfbce-db6b-4885-b3d0-3685f5278980",
   "metadata": {},
   "outputs": [],
   "source": [
    "gb2 = [remove_sing_factors(el, sing_cubics.factor()) for el in P.ideal(coeff2).groebner_basis()]"
   ]
  },
  {
   "cell_type": "code",
   "execution_count": 272,
   "id": "b1566421-b022-4694-9160-c68ad7fd8277",
   "metadata": {},
   "outputs": [],
   "source": [
    "gb2a = gb2+[e*f]"
   ]
  },
  {
   "cell_type": "code",
   "execution_count": 274,
   "id": "c0b0914a-68e4-4713-99c3-a3ba402bd5f5",
   "metadata": {},
   "outputs": [
    {
     "data": {
      "text/plain": [
       "[Ideal (f, c) of Multivariate Polynomial Ring in x, y, z, t, b, c, d, e, f, l, m over Rational Field,\n",
       " Ideal (e, c) of Multivariate Polynomial Ring in x, y, z, t, b, c, d, e, f, l, m over Rational Field,\n",
       " Ideal (e, c - d, 2*b - d - f) of Multivariate Polynomial Ring in x, y, z, t, b, c, d, e, f, l, m over Rational Field,\n",
       " Ideal (f, c - d, 2*b - d - e) of Multivariate Polynomial Ring in x, y, z, t, b, c, d, e, f, l, m over Rational Field,\n",
       " Ideal (e, d - f, c + f, b - f) of Multivariate Polynomial Ring in x, y, z, t, b, c, d, e, f, l, m over Rational Field,\n",
       " Ideal (f, d - e, c + e, b - e) of Multivariate Polynomial Ring in x, y, z, t, b, c, d, e, f, l, m over Rational Field]"
      ]
     },
     "execution_count": 274,
     "metadata": {},
     "output_type": "execute_result"
    }
   ],
   "source": [
    "ideal2 = P.ideal(gb2a).radical().primary_decomposition('gtz')\n",
    "ideal2"
   ]
  },
  {
   "cell_type": "code",
   "execution_count": 276,
   "id": "3aea63f8-bcb8-47f0-884c-ec272ff2e856",
   "metadata": {},
   "outputs": [],
   "source": [
    "ideal2b = P.ideal(gb2).saturation(P.ideal(f*e))[0]"
   ]
  },
  {
   "cell_type": "code",
   "execution_count": 286,
   "id": "15ee4539-c408-4385-a7c4-454bd24d5875",
   "metadata": {},
   "outputs": [
    {
     "data": {
      "text/plain": [
       "[Ideal (d + e - f, c + f, b - e - f) of Multivariate Polynomial Ring in x, y, z, t, b, c, d, e, f, l, m over Rational Field,\n",
       " Ideal (d - e + f, c + e, b - e - f) of Multivariate Polynomial Ring in x, y, z, t, b, c, d, e, f, l, m over Rational Field,\n",
       " Ideal (e - f, 5*c + d - f, 5*b + 2*d - 2*f, 3*d^2 - 6*d*f + 28*f^2) of Multivariate Polynomial Ring in x, y, z, t, b, c, d, e, f, l, m over Rational Field,\n",
       " Ideal (e - f, c + f, b - 2*f) of Multivariate Polynomial Ring in x, y, z, t, b, c, d, e, f, l, m over Rational Field,\n",
       " Ideal (2*b - 4*c + 3*d - e - f, c^2 - c*d + e*f) of Multivariate Polynomial Ring in x, y, z, t, b, c, d, e, f, l, m over Rational Field]"
      ]
     },
     "execution_count": 286,
     "metadata": {},
     "output_type": "execute_result"
    }
   ],
   "source": [
    "ideal2b.radical().primary_decomposition()"
   ]
  },
  {
   "cell_type": "code",
   "execution_count": null,
   "id": "88601eae-a26d-4005-93a7-7f585cac28bc",
   "metadata": {},
   "outputs": [],
   "source": []
  },
  {
   "cell_type": "code",
   "execution_count": 153,
   "id": "544fc994-6dda-4718-b8d2-831beafe0402",
   "metadata": {},
   "outputs": [],
   "source": [
    "mat1 = matrix(4,4,[ideal1.reduce(el) for el in proj1.list()])"
   ]
  },
  {
   "cell_type": "code",
   "execution_count": 154,
   "id": "be87f0b7-f8d1-4fb5-9a6f-501ea9319bdd",
   "metadata": {},
   "outputs": [],
   "source": [
    "mat1alla3 = mat1^3"
   ]
  },
  {
   "cell_type": "code",
   "execution_count": 158,
   "id": "e25e8182-fc10-414b-92d3-e3c73b80023a",
   "metadata": {},
   "outputs": [
    {
     "data": {
      "text/plain": [
       "512/6561*d^2*f^19 + 8192/19683*f^21"
      ]
     },
     "execution_count": 158,
     "metadata": {},
     "output_type": "execute_result"
    }
   ],
   "source": [
    "P.ideal(mat1alla3[3,3]).reduce(mat1alla3[2,2])"
   ]
  },
  {
   "cell_type": "code",
   "execution_count": 159,
   "id": "0cd49311-610f-40bc-9cb4-69cc41872863",
   "metadata": {},
   "outputs": [
    {
     "data": {
      "text/plain": [
       "[Ideal (e + f, 4*c - d, b + d, 3*d^2 + 16*f^2) of Multivariate Polynomial Ring in x, y, z, t, b, c, d, e, f, l, m over Rational Field,\n",
       " Ideal (f, c) of Multivariate Polynomial Ring in x, y, z, t, b, c, d, e, f, l, m over Rational Field,\n",
       " Ideal (e, c) of Multivariate Polynomial Ring in x, y, z, t, b, c, d, e, f, l, m over Rational Field]"
      ]
     },
     "execution_count": 159,
     "metadata": {},
     "output_type": "execute_result"
    }
   ],
   "source": [
    "P.ideal(coeff2).radical().primary_decomposition()"
   ]
  },
  {
   "cell_type": "code",
   "execution_count": null,
   "id": "ee3fd9ae-8e1b-4791-9d56-8152739de2ab",
   "metadata": {},
   "outputs": [],
   "source": [
    "# There are none!!"
   ]
  },
  {
   "cell_type": "code",
   "execution_count": null,
   "id": "1c18cf1c-abb0-4337-b23c-d468eef16ad8",
   "metadata": {},
   "outputs": [],
   "source": []
  },
  {
   "cell_type": "code",
   "execution_count": null,
   "id": "a153aee7-2211-437f-b780-dae3bdf48c90",
   "metadata": {},
   "outputs": [],
   "source": []
  },
  {
   "cell_type": "code",
   "execution_count": null,
   "id": "66e3a9c4-3bd7-4069-b0bf-0ef0cd7fa8a8",
   "metadata": {},
   "outputs": [],
   "source": []
  },
  {
   "cell_type": "code",
   "execution_count": null,
   "id": "84e1eb5a-b016-4b34-9c5b-76f6d7152729",
   "metadata": {},
   "outputs": [],
   "source": []
  },
  {
   "cell_type": "code",
   "execution_count": null,
   "id": "6d1633c6-ac45-4597-b740-c1c6588b95da",
   "metadata": {},
   "outputs": [],
   "source": []
  },
  {
   "cell_type": "code",
   "execution_count": null,
   "id": "d604b12c-484a-4bc2-bede-c0ddbb9979bd",
   "metadata": {},
   "outputs": [],
   "source": []
  },
  {
   "cell_type": "code",
   "execution_count": null,
   "id": "379600f8-558e-42e8-b576-7fccad896c6e",
   "metadata": {},
   "outputs": [],
   "source": []
  },
  {
   "cell_type": "code",
   "execution_count": null,
   "id": "2c164f18-0f71-47d3-adb8-818462d8fb27",
   "metadata": {},
   "outputs": [],
   "source": []
  },
  {
   "cell_type": "code",
   "execution_count": 21,
   "id": "008f5333",
   "metadata": {},
   "outputs": [],
   "source": [
    "no_sing_cond = vector([remove_sing_factors(el, sing_cubics.factor()) for el in coeffs if el != 0])"
   ]
  },
  {
   "cell_type": "code",
   "execution_count": 22,
   "id": "e45aeb2b",
   "metadata": {},
   "outputs": [
    {
     "data": {
      "text/plain": [
       "1"
      ]
     },
     "execution_count": 22,
     "metadata": {},
     "output_type": "execute_result"
    }
   ],
   "source": [
    "poly = gcd([el for el in no_sing_cond])\n",
    "poly"
   ]
  },
  {
   "cell_type": "code",
   "execution_count": 23,
   "id": "f4552475",
   "metadata": {},
   "outputs": [],
   "source": [
    "cond_no_gcd = no_sing_cond/poly"
   ]
  },
  {
   "cell_type": "code",
   "execution_count": 24,
   "id": "aad8d9d1",
   "metadata": {},
   "outputs": [],
   "source": [
    "gb = P.ideal(cond_no_gcd.list()).groebner_basis()"
   ]
  },
  {
   "cell_type": "code",
   "execution_count": 25,
   "id": "42a8182f",
   "metadata": {},
   "outputs": [],
   "source": [
    "prim_dec = P.ideal(gb).radical().primary_decomposition()"
   ]
  },
  {
   "cell_type": "code",
   "execution_count": 27,
   "id": "3e872c2a",
   "metadata": {},
   "outputs": [
    {
     "data": {
      "text/plain": [
       "[Ideal (e + f, 4*c - 3*d, b + d, 3*d^2 + 16*f^2) of Multivariate Polynomial Ring in x, y, z, t, b, c, d, e, f, l, m over Rational Field,\n",
       " Ideal (e - f, d + 2*f, c + f, b - 2*f) of Multivariate Polynomial Ring in x, y, z, t, b, c, d, e, f, l, m over Rational Field,\n",
       " Ideal (e - f, d - 2*f, c - f, b + 2*f) of Multivariate Polynomial Ring in x, y, z, t, b, c, d, e, f, l, m over Rational Field,\n",
       " Ideal (f, c) of Multivariate Polynomial Ring in x, y, z, t, b, c, d, e, f, l, m over Rational Field,\n",
       " Ideal (e, d - f, c - f, b + f) of Multivariate Polynomial Ring in x, y, z, t, b, c, d, e, f, l, m over Rational Field,\n",
       " Ideal (e, d + f, c + f, b - f) of Multivariate Polynomial Ring in x, y, z, t, b, c, d, e, f, l, m over Rational Field,\n",
       " Ideal (e, c) of Multivariate Polynomial Ring in x, y, z, t, b, c, d, e, f, l, m over Rational Field]"
      ]
     },
     "execution_count": 27,
     "metadata": {},
     "output_type": "execute_result"
    }
   ],
   "source": [
    "prim_dec"
   ]
  },
  {
   "cell_type": "code",
   "execution_count": 28,
   "id": "906c4584",
   "metadata": {},
   "outputs": [],
   "source": [
    "ideale = prim_dec[0]"
   ]
  },
  {
   "cell_type": "code",
   "execution_count": 29,
   "id": "be9f5bff",
   "metadata": {},
   "outputs": [],
   "source": [
    "proj_sost = matrix(4,4,[ideale.reduce(el) for el in proj.list()])"
   ]
  },
  {
   "cell_type": "code",
   "execution_count": 30,
   "id": "231f36ca",
   "metadata": {},
   "outputs": [
    {
     "data": {
      "text/plain": [
       "[-54*d + 72*f            0  36*d - 48*f         48*f]\n",
       "[           0  54*d + 72*f         48*f -36*d - 48*f]\n",
       "[           0            0  54*d - 72*f            0]\n",
       "[           0            0            0 -54*d - 72*f]"
      ]
     },
     "execution_count": 30,
     "metadata": {},
     "output_type": "execute_result"
    }
   ],
   "source": [
    "proj_sost/f^5 "
   ]
  },
  {
   "cell_type": "code",
   "execution_count": null,
   "id": "c04af045",
   "metadata": {},
   "outputs": [],
   "source": []
  },
  {
   "cell_type": "code",
   "execution_count": null,
   "id": "398d445f",
   "metadata": {},
   "outputs": [],
   "source": []
  },
  {
   "cell_type": "code",
   "execution_count": null,
   "id": "01dbad1b",
   "metadata": {},
   "outputs": [],
   "source": []
  },
  {
   "cell_type": "code",
   "execution_count": 74,
   "id": "1bf9d71d",
   "metadata": {},
   "outputs": [],
   "source": [
    "ideals = P.ideal(P.ideal(list(cond_no_gcd)).groebner_basis()).radical().primary_decomposition()"
   ]
  },
  {
   "cell_type": "code",
   "execution_count": 82,
   "id": "7997eae6",
   "metadata": {},
   "outputs": [
    {
     "data": {
      "text/plain": [
       "Ideal (2*c - d, b + d, d^2 - 4*e*f) of Multivariate Polynomial Ring in x, y, z, t, b, c, d, e, f, l, m over Rational Field"
      ]
     },
     "execution_count": 82,
     "metadata": {},
     "output_type": "execute_result"
    }
   ],
   "source": [
    "ideale = ideals[-1]\n",
    "ideale"
   ]
  },
  {
   "cell_type": "code",
   "execution_count": 98,
   "id": "f1c54fa5",
   "metadata": {},
   "outputs": [],
   "source": [
    "proj_sost = matrix(4,4,[ideale.reduce(el) for el in proj.list()])"
   ]
  },
  {
   "cell_type": "code",
   "execution_count": null,
   "id": "4a80ff13",
   "metadata": {},
   "outputs": [],
   "source": []
  },
  {
   "cell_type": "code",
   "execution_count": null,
   "id": "2f3cb96d",
   "metadata": {},
   "outputs": [],
   "source": []
  },
  {
   "cell_type": "code",
   "execution_count": null,
   "id": "8155be62",
   "metadata": {},
   "outputs": [],
   "source": []
  },
  {
   "cell_type": "code",
   "execution_count": null,
   "id": "05d11d6e",
   "metadata": {},
   "outputs": [],
   "source": []
  },
  {
   "cell_type": "code",
   "execution_count": null,
   "id": "dbc98b43",
   "metadata": {},
   "outputs": [],
   "source": []
  },
  {
   "cell_type": "code",
   "execution_count": 62,
   "id": "8ef9d7f9",
   "metadata": {},
   "outputs": [
    {
     "data": {
      "text/plain": [
       "-c^3 - 2*c^2*e - c*d*e - c*e*f + 2*e^2*f"
      ]
     },
     "execution_count": 62,
     "metadata": {},
     "output_type": "execute_result"
    }
   ],
   "source": [
    "poly.subs({b:-(c^2+e*f)/e}).numerator()"
   ]
  },
  {
   "cell_type": "code",
   "execution_count": 63,
   "id": "bf88aeb9",
   "metadata": {},
   "outputs": [
    {
     "data": {
      "text/plain": [
       "True"
      ]
     },
     "execution_count": 63,
     "metadata": {},
     "output_type": "execute_result"
    }
   ],
   "source": [
    "poly in [pl.conditions for pl in general_cubic.tritangent_planes]"
   ]
  },
  {
   "cell_type": "code",
   "execution_count": 64,
   "id": "3ca142ce",
   "metadata": {},
   "outputs": [],
   "source": [
    "i=0\n",
    "for pl in general_cubic.tritangent_planes:\n",
    "    if pl.conditions == poly or pl.conditions == -poly:\n",
    "        i+=1"
   ]
  },
  {
   "cell_type": "code",
   "execution_count": 94,
   "id": "02e55cc6",
   "metadata": {},
   "outputs": [],
   "source": [
    "proj_sost_poly = matrix(4,4,[P.ideal(poly).reduce(el) for el in proj.list()])"
   ]
  },
  {
   "cell_type": "code",
   "execution_count": null,
   "id": "6c53ce89",
   "metadata": {},
   "outputs": [],
   "source": []
  },
  {
   "cell_type": "code",
   "execution_count": null,
   "id": "c82c6acc",
   "metadata": {},
   "outputs": [],
   "source": []
  },
  {
   "cell_type": "code",
   "execution_count": null,
   "id": "5a479009",
   "metadata": {},
   "outputs": [],
   "source": []
  },
  {
   "cell_type": "code",
   "execution_count": null,
   "id": "6c1b82e8",
   "metadata": {},
   "outputs": [],
   "source": []
  },
  {
   "cell_type": "code",
   "execution_count": null,
   "id": "57e19117",
   "metadata": {},
   "outputs": [],
   "source": []
  },
  {
   "cell_type": "code",
   "execution_count": null,
   "id": "5ae6fe2c",
   "metadata": {},
   "outputs": [],
   "source": []
  }
 ],
 "metadata": {
  "kernelspec": {
   "display_name": "SageMath 9.4",
   "language": "sage",
   "name": "sagemath"
  },
  "language_info": {
   "codemirror_mode": {
    "name": "ipython",
    "version": 3
   },
   "file_extension": ".py",
   "mimetype": "text/x-python",
   "name": "python",
   "nbconvert_exporter": "python",
   "pygments_lexer": "ipython3",
   "version": "3.7.12"
  }
 },
 "nbformat": 4,
 "nbformat_minor": 5
}
