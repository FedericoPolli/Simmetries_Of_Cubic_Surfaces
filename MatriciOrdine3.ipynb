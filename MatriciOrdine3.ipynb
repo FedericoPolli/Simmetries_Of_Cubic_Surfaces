{
 "cells": [
  {
   "cell_type": "code",
   "execution_count": 1,
   "id": "95b5619b-8efd-4f4a-b0c2-132dcdde5215",
   "metadata": {},
   "outputs": [],
   "source": [
    "load('Imports/Utility.sage', 'Imports/Point.sage', 'Imports/Line.sage', 'Imports/TritangentPlane.sage', 'Imports/Group.sage', 'Imports/Cubic.sage')"
   ]
  },
  {
   "cell_type": "code",
   "execution_count": 2,
   "id": "bae94698-1bee-49ad-a385-212a979a6b4d",
   "metadata": {},
   "outputs": [],
   "source": [
    "P.<x,y,z,t,b,c,d,e,f,l,m> = PolynomialRing(QQ)\n",
    "cubic_new = e*f*(2*x^2*y-2*x*y^2+x*z^2-x*z*t-y*t^2+y*z*t)+b*c*(x-t)*(x*z+y*t)+c*c*(z+t)*(y*t-x*z)+d*c*(y-z)*(x*z+y*t)+(e+f)*c*(x-y)*(y*t-x*z)\n",
    "sing_cubics = (-1) * (-c + f) * (-c + e) * c * (c + f) * (c + e) * (-e + f)^2 * (-c*d + c*f + e*f) * (-c*d + c*e + e*f) * (-c^2 - c*d + e*f) * (b*c - c*f + e*f) * (b*c - c*e + e*f) * (b*c - c*d + 2*e*f) * (b*c - c^2 + e*f) * (b*c^2 + c^2*d + b*c*f - 2*c^2*f - c*d*f + 2*e*f^2) * (b*c^2 + c^2*d + b*c*e - 2*c^2*e - c*d*e + 2*e^2*f) * (-b*c^3 - 2*b*c^2*d + c^3*d + b*c^2*e + c^2*d*e + b*c^2*f + c^2*d*f + 3*b*c*e*f - 4*c^2*e*f - 3*c*d*e*f + 4*e^2*f^2)\n",
    "line = Line([y, z])\n",
    "general_cubic = Cubic(cubic_new, line, sing_cubics)"
   ]
  },
  {
   "cell_type": "code",
   "execution_count": 3,
   "id": "cdbda662-c122-44b0-bf83-3197c8b638dc",
   "metadata": {},
   "outputs": [],
   "source": [
    "L_set_base = ('E1', 'G4', 'E2', 'G3', 'E3')"
   ]
  },
  {
   "cell_type": "code",
   "execution_count": 4,
   "id": "39e79ea0-f32a-43cb-ba4f-9e6e90f695c4",
   "metadata": {},
   "outputs": [],
   "source": [
    "# First two are from when a line is fixed, other three when no line fixed. Excluded identity\n",
    "possible_L_sets = [ ('E1', 'G4', 'E2', 'G3', 'F45'),\\\n",
    " ('E1', 'G4', 'E2', 'G3', 'F46'),\\\n",
    " ('F14', 'E1', 'G3', 'F23', 'G5'),\\\n",
    " ('F14', 'E1', 'G3', 'F23', 'G6'),\\\n",
    " ('F14', 'E1', 'G3', 'F23', 'F12')]"
   ]
  },
  {
   "cell_type": "code",
   "execution_count": 5,
   "id": "e6562731-7084-4af9-b0fc-715575055c55",
   "metadata": {},
   "outputs": [
    {
     "name": "stdout",
     "output_type": "stream",
     "text": [
      "CPU times: user 13 s, sys: 58.5 ms, total: 13.1 s\n",
      "Wall time: 13.1 s\n"
     ]
    }
   ],
   "source": [
    "%%time \n",
    "L_set_ideals = []\n",
    "all_ideals = []\n",
    "for L_set in possible_L_sets:\n",
    "    proj = general_cubic.find_projectivity(L_set_base, L_set)\n",
    "    ideal = general_cubic.find_conditions_on_cubic(proj)\n",
    "    ideals = ideal.saturation(c*(c-f)*(e-f)*(c-e))[0].radical().primary_decomposition('gtz')\n",
    "    ideals = [ide for ide in ideals if not general_cubic.is_ideal_singular(ide)]\n",
    "    all_ideals += ideals\n",
    "    L_set_ideals.append([L_set, ideals])"
   ]
  },
  {
   "cell_type": "code",
   "execution_count": 6,
   "id": "50adbbed-4472-40a0-9488-15301bfd2a0d",
   "metadata": {},
   "outputs": [
    {
     "data": {
      "text/plain": [
       "[[('E1', 'G4', 'E2', 'G3', 'F45'),\n",
       "  [Ideal (3*d^2 + 16*f^2, e + f, c - 1/4*d, b + d) of Multivariate Polynomial Ring in x, y, z, t, b, c, d, e, f, l, m over Rational Field]],\n",
       " [('E1', 'G4', 'E2', 'G3', 'F46'),\n",
       "  [Ideal (3*d^2 + 16*f^2, e + f, c - 1/4*d, b + d) of Multivariate Polynomial Ring in x, y, z, t, b, c, d, e, f, l, m over Rational Field]],\n",
       " [('F14', 'E1', 'G3', 'F23', 'G5'),\n",
       "  [Ideal (3*d^2 - 3*d*e + e^2 - 3*d*f + 6*e*f + 21*f^2, c*e + 2*d*e - e^2 + 9*c*f - e*f, 3*c*d + 3*d*e - 2*e^2 + 12*c*f - 6*e*f, 3*c^2 + e^2, 3*b + 4*c + 2*d - e - f) of Multivariate Polynomial Ring in x, y, z, t, b, c, d, e, f, l, m over Rational Field]],\n",
       " [('F14', 'E1', 'G3', 'F23', 'G6'),\n",
       "  [Ideal (3*d^2 - 3*d*e + 21*e^2 - 3*d*f + 6*e*f + f^2, 9*c*e + c*f + 2*d*f - e*f - f^2, 9*c*d - 4*c*f + d*f - 14*e*f - 2*f^2, 3*c^2 + f^2, 3*b + 4*c + 2*d - e - f) of Multivariate Polynomial Ring in x, y, z, t, b, c, d, e, f, l, m over Rational Field]],\n",
       " [('F14', 'E1', 'G3', 'F23', 'F12'),\n",
       "  [Ideal (c^2 - c*d + e*f, 2*b - 4*c + 3*d - e - f) of Multivariate Polynomial Ring in x, y, z, t, b, c, d, e, f, l, m over Rational Field]]]"
      ]
     },
     "execution_count": 6,
     "metadata": {},
     "output_type": "execute_result"
    }
   ],
   "source": [
    "L_set_ideals"
   ]
  },
  {
   "cell_type": "code",
   "execution_count": 7,
   "id": "d8088698-3e3b-42a4-91e2-3e3f14e63e83",
   "metadata": {},
   "outputs": [
    {
     "data": {
      "text/plain": [
       "[18, 18, 9, 9, 3]"
      ]
     },
     "execution_count": 7,
     "metadata": {},
     "output_type": "execute_result"
    }
   ],
   "source": [
    "cubics = [general_cubic.reduce(ideal) for ideal in all_ideals]\n",
    "[len(cubic.eckardt_points_labels) for cubic in cubics]"
   ]
  },
  {
   "cell_type": "code",
   "execution_count": null,
   "id": "639b66b6-f7c2-46fa-903b-ad0f88af932b",
   "metadata": {},
   "outputs": [],
   "source": []
  },
  {
   "cell_type": "code",
   "execution_count": null,
   "id": "8dad78df-8881-450b-af71-fff82a45b2e3",
   "metadata": {},
   "outputs": [],
   "source": []
  }
 ],
 "metadata": {
  "kernelspec": {
   "display_name": "SageMath 9.4",
   "language": "sage",
   "name": "sagemath"
  },
  "language_info": {
   "codemirror_mode": {
    "name": "ipython",
    "version": 3
   },
   "file_extension": ".py",
   "mimetype": "text/x-python",
   "name": "python",
   "nbconvert_exporter": "python",
   "pygments_lexer": "ipython3",
   "version": "3.7.12"
  }
 },
 "nbformat": 4,
 "nbformat_minor": 5
}
