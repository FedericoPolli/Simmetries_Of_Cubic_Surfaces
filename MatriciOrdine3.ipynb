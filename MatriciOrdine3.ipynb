{
 "cells": [
  {
   "cell_type": "code",
   "execution_count": 3,
   "id": "95b5619b-8efd-4f4a-b0c2-132dcdde5215",
   "metadata": {},
   "outputs": [],
   "source": [
    "load('Imports/Utility.sage', 'Imports/Point.sage', 'Imports/Line.sage', 'Imports/TritangentPlane.sage', 'Imports/Group.sage', 'Imports/Cubic.sage')"
   ]
  },
  {
   "cell_type": "code",
   "execution_count": 4,
   "id": "bae94698-1bee-49ad-a385-212a979a6b4d",
   "metadata": {},
   "outputs": [],
   "source": [
    "P.<x,y,z,t,b,c,d,e,f,l,m> = PolynomialRing(QQ)\n",
    "cubic_new = e*f*(2*x^2*y-2*x*y^2+x*z^2-x*z*t-y*t^2+y*z*t)+b*c*(x-t)*(x*z+y*t)+c*c*(z+t)*(y*t-x*z)+d*c*(y-z)*(x*z+y*t)+(e+f)*c*(x-y)*(y*t-x*z)\n",
    "sing_cubics = (-1) * (-c + f) * (-c + e) * c * (c + f) * (c + e) * (-e + f)^2 * (-c*d + c*f + e*f) * (-c*d + c*e + e*f) * (-c^2 - c*d + e*f) * (b*c - c*f + e*f) * (b*c - c*e + e*f) * (b*c - c*d + 2*e*f) * (b*c - c^2 + e*f) * (b*c^2 + c^2*d + b*c*f - 2*c^2*f - c*d*f + 2*e*f^2) * (b*c^2 + c^2*d + b*c*e - 2*c^2*e - c*d*e + 2*e^2*f) * (-b*c^3 - 2*b*c^2*d + c^3*d + b*c^2*e + c^2*d*e + b*c^2*f + c^2*d*f + 3*b*c*e*f - 4*c^2*e*f - 3*c*d*e*f + 4*e^2*f^2)\n",
    "line = Line([y, z])\n",
    "general_cubic = Cubic(cubic_new, line, sing_cubics)"
   ]
  },
  {
   "cell_type": "code",
   "execution_count": 5,
   "id": "cdbda662-c122-44b0-bf83-3197c8b638dc",
   "metadata": {},
   "outputs": [],
   "source": [
    "L_set_base = general_cubic.get_L_set_in_plucker(['E1', 'G4', 'E2', 'G3', 'E3'])"
   ]
  },
  {
   "cell_type": "code",
   "execution_count": 6,
   "id": "39e79ea0-f32a-43cb-ba4f-9e6e90f695c4",
   "metadata": {},
   "outputs": [],
   "source": [
    "# First two are from when a line is fixed, other three when no line fixed. Excluded identity\n",
    "possible_L_sets = [ ('E1', 'G4', 'E2', 'G3', 'F45'),\\\n",
    " ('E1', 'G4', 'E2', 'G3', 'F46'),\\\n",
    " ('F14', 'E1', 'G3', 'F23', 'G5'),\\\n",
    " ('F14', 'E1', 'G3', 'F23', 'G6'),\\\n",
    " ('F14', 'E1', 'G3', 'F23', 'F12')]"
   ]
  },
  {
   "cell_type": "code",
   "execution_count": 7,
   "id": "e6562731-7084-4af9-b0fc-715575055c55",
   "metadata": {},
   "outputs": [
    {
     "name": "stdout",
     "output_type": "stream",
     "text": [
      "CPU times: user 35.7 s, sys: 173 ms, total: 35.8 s\n",
      "Wall time: 36.1 s\n"
     ]
    }
   ],
   "source": [
    "%%time \n",
    "# this takes approximately 20 seconds \n",
    "projs = general_cubic.find_all_proj_parallel(possible_L_sets)\n",
    "projs_ideals = []\n",
    "coeffs = []\n",
    "sing_cubics_factored = sing_cubics.factor()\n",
    "for proj in projs:\n",
    "    #change coordinates, obtain new cubic and find conditions on the parameters\n",
    "    sost = change_coord(proj)\n",
    "    new_cubic = general_cubic.subs(sost)\n",
    "    mon = (sum(P.gens()[0:4]) ^ 3).monomials()\n",
    "    current_conds = list(set(matrix([[general_cubic.coefficient(mn) for mn in mon], [new_cubic.coefficient(mn) for mn in mon]]).minors(2)))\n",
    "    no_sing_conds = [remove_sing_factors(el, sing_cubics_factored) for el in current_conds if el !=0]\n",
    "    \n",
    "    #two branches: assume e*f is zero and add to groebner basis, otherwise saturate with respect to e*f\n",
    "    ideals = []\n",
    "    gb = [remove_sing_factors(el, sing_cubics_factored) for el in P.ideal(no_sing_conds).groebner_basis()] \n",
    "    ideals += P.ideal(gb+[e*f]).radical().primary_decomposition('gtz')\n",
    "    \n",
    "    idealb = P.ideal(gb).saturation(P.ideal(f*e))[0]\n",
    "    ideals += idealb.radical().primary_decomposition('gtz')\n",
    "    \n",
    "    #remove duplicates and singular ideals\n",
    "    ideals = list(set(ideals))\n",
    "    ideals = [ideal for ideal in ideals if sing_cubics not in ideal]\n",
    "    \n",
    "    # we obtain a list where, for each projectivity, there are the possible associated nonsingular ideals\n",
    "    projs_ideals.append([proj, ideals])"
   ]
  },
  {
   "cell_type": "code",
   "execution_count": 8,
   "id": "32f9c84d-0884-4f1e-be9f-76f175782175",
   "metadata": {},
   "outputs": [
    {
     "data": {
      "text/plain": [
       "[1, 1, 2, 2, 3]"
      ]
     },
     "execution_count": 8,
     "metadata": {},
     "output_type": "execute_result"
    }
   ],
   "source": [
    "#number of ideals for each projectivity\n",
    "[len(el[1]) for el in projs_ideals]"
   ]
  },
  {
   "cell_type": "code",
   "execution_count": 9,
   "id": "9813ea64-118d-4304-ac5e-f7a54fd13a45",
   "metadata": {},
   "outputs": [],
   "source": [
    "# here we obtain the matrices with the sostitutions obtained from the various ideals\n",
    "matrices_from_ideals = []\n",
    "all_matrices = []\n",
    "for matrix_ideals in projs_ideals:\n",
    "    proj = matrix_ideals[0]\n",
    "    ideals = matrix_ideals[1]\n",
    "    \n",
    "    # matrices_from_ideals remembers from which ideals the matrices where generated\n",
    "    matrices_from_ideals += [[matrix(4,4, [ideal.reduce(el) for el in proj.list()]), ideal] for ideal in ideals]"
   ]
  },
  {
   "cell_type": "code",
   "execution_count": 10,
   "id": "22191f44-f14d-45e1-9db0-742f340c8ba3",
   "metadata": {},
   "outputs": [],
   "source": [
    "matrices_from_ideals_cubed = [[el[0]^3, el[1]] for el in matrices_from_ideals]\n",
    "identity_list = [0 for _ in range(16)]\n",
    "for i in {0,5,10,15}:\n",
    "    identity_list[i]=1\n",
    "id_mat = matrix(4,4,identity_list)"
   ]
  },
  {
   "cell_type": "code",
   "execution_count": 11,
   "id": "ebab4783-531e-484f-b689-1c8782dc7834",
   "metadata": {},
   "outputs": [],
   "source": [
    "final_matrices = []\n",
    "final_ideals = []\n",
    "for mat_id in matrices_from_ideals_cubed:\n",
    "    final_matrices.append(matrix(4,4, [mat_id[1].reduce(el) for el in mat_id[0].list()]))\n",
    "    final_ideals.append(mat_id[1])"
   ]
  },
  {
   "cell_type": "code",
   "execution_count": 12,
   "id": "a0fc0b66-5f07-4adc-9ae9-887a15b94f86",
   "metadata": {},
   "outputs": [
    {
     "data": {
      "text/plain": [
       "[Ideal (3*d^2 + 16*f^2, e + f, c - 1/4*d, b + d) of Multivariate Polynomial Ring in x, y, z, t, b, c, d, e, f, l, m over Rational Field,\n",
       " Ideal (3*d^2 + 16*f^2, e + f, c - 1/4*d, b + d) of Multivariate Polynomial Ring in x, y, z, t, b, c, d, e, f, l, m over Rational Field,\n",
       " Ideal (f, 3*d^2 - 3*d*e + e^2, c + 2*d - e, b - 2*d + e) of Multivariate Polynomial Ring in x, y, z, t, b, c, d, e, f, l, m over Rational Field,\n",
       " Ideal (3*d^2 - 3*d*e + e^2 - 3*d*f + 6*e*f + 21*f^2, c*e + 2*d*e - e^2 + 9*c*f - e*f, 3*c*d + 3*d*e - 2*e^2 + 12*c*f - 6*e*f, 3*c^2 + e^2, 3*b + 4*c + 2*d - e - f) of Multivariate Polynomial Ring in x, y, z, t, b, c, d, e, f, l, m over Rational Field,\n",
       " Ideal (e, 3*d^2 - 3*d*f + f^2, c + 2*d - f, b - 2*d + f) of Multivariate Polynomial Ring in x, y, z, t, b, c, d, e, f, l, m over Rational Field,\n",
       " Ideal (3*d^2 - 3*d*e + 21*e^2 - 3*d*f + 6*e*f + f^2, 9*c*e + c*f + 2*d*f - e*f - f^2, 9*c*d - 4*c*f + d*f - 14*e*f - 2*f^2, 3*c^2 + f^2, 3*b + 4*c + 2*d - e - f) of Multivariate Polynomial Ring in x, y, z, t, b, c, d, e, f, l, m over Rational Field,\n",
       " Ideal (e, c - d, 2*b - d - f) of Multivariate Polynomial Ring in x, y, z, t, b, c, d, e, f, l, m over Rational Field,\n",
       " Ideal (f, c - d, 2*b - d - e) of Multivariate Polynomial Ring in x, y, z, t, b, c, d, e, f, l, m over Rational Field,\n",
       " Ideal (c^2 - c*d + e*f, 2*b - 4*c + 3*d - e - f) of Multivariate Polynomial Ring in x, y, z, t, b, c, d, e, f, l, m over Rational Field]"
      ]
     },
     "execution_count": 12,
     "metadata": {},
     "output_type": "execute_result"
    }
   ],
   "source": [
    "final_ideals"
   ]
  },
  {
   "cell_type": "code",
   "execution_count": 13,
   "id": "75913ba3-5eb6-4268-8648-6af9c984c11f",
   "metadata": {},
   "outputs": [
    {
     "name": "stdout",
     "output_type": "stream",
     "text": [
      "True\n",
      "True\n",
      "True\n",
      "True\n",
      "True\n",
      "True\n",
      "True\n",
      "True\n",
      "True\n"
     ]
    }
   ],
   "source": [
    "for mat_id in matrices_from_ideals_cubed:\n",
    "    print(are_matrices_equal(matrix(4,4,[mat_id[1].reduce(el) for el in mat_id[0].list()]), id_mat))"
   ]
  },
  {
   "cell_type": "code",
   "execution_count": 14,
   "id": "d8088698-3e3b-42a4-91e2-3e3f14e63e83",
   "metadata": {},
   "outputs": [
    {
     "data": {
      "text/plain": [
       "[18, 18, 9, 9, 9, 9, 3, 3, 3]"
      ]
     },
     "execution_count": 14,
     "metadata": {},
     "output_type": "execute_result"
    }
   ],
   "source": [
    "cubics = [general_cubic.reduce(ideal) for ideal in final_ideals]\n",
    "[len(cubic.eckardt_points_labels) for cubic in cubics]"
   ]
  },
  {
   "cell_type": "code",
   "execution_count": null,
   "id": "8dad78df-8881-450b-af71-fff82a45b2e3",
   "metadata": {},
   "outputs": [],
   "source": []
  }
 ],
 "metadata": {
  "kernelspec": {
   "display_name": "SageMath 9.4",
   "language": "sage",
   "name": "sagemath"
  },
  "language_info": {
   "codemirror_mode": {
    "name": "ipython",
    "version": 3
   },
   "file_extension": ".py",
   "mimetype": "text/x-python",
   "name": "python",
   "nbconvert_exporter": "python",
   "pygments_lexer": "ipython3",
   "version": "3.7.12"
  }
 },
 "nbformat": 4,
 "nbformat_minor": 5
}
