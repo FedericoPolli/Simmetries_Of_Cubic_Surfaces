{
 "cells": [
  {
   "cell_type": "code",
   "execution_count": 1,
   "metadata": {},
   "outputs": [],
   "source": [
    "load('Imports/Utility.sage', 'Imports/Point.sage', 'Imports/Line.sage', 'Imports/TritangentPlane.sage', 'Imports/Group.sage', 'Imports/Cubic.sage')"
   ]
  },
  {
   "cell_type": "code",
   "execution_count": 2,
   "metadata": {},
   "outputs": [],
   "source": [
    "with open('all_permutations.pickle', 'rb') as fil:\n",
    "    all_permutations = pickle.load(fil) "
   ]
  },
  {
   "cell_type": "code",
   "execution_count": 5,
   "metadata": {},
   "outputs": [
    {
     "name": "stdout",
     "output_type": "stream",
     "text": [
      "CPU times: user 38.4 s, sys: 47 ms, total: 38.5 s\n",
      "Wall time: 38.5 s\n"
     ]
    }
   ],
   "source": [
    "%time all_permutations2 = find_all_permutations()"
   ]
  },
  {
   "cell_type": "code",
   "execution_count": null,
   "metadata": {},
   "outputs": [],
   "source": [
    "all_permutations == all_permutations2"
   ]
  },
  {
   "cell_type": "code",
   "execution_count": 18,
   "metadata": {},
   "outputs": [],
   "source": [
    "keys = ['E1', 'E2', 'E3', 'E4', 'E5', 'E6', 'G1', 'G2', 'G3', 'G4', 'G5', 'G6', 'F12', 'F13', 'F14', 'F15', 'F16','F23', 'F24', 'F25', 'F26', 'F34', 'F35', 'F36', 'F45', 'F46', 'F56']"
   ]
  },
  {
   "cell_type": "code",
   "execution_count": 4,
   "metadata": {},
   "outputs": [
    {
     "name": "stdout",
     "output_type": "stream",
     "text": [
      "['E1', 'E2', 'E4', 'F56', 'F35', 'F36', 'F24', 'F14', 'F12', 'G3', 'G6', 'G5', 'G4', 'G2', 'F13', 'F16', 'F15', 'G1', 'F23', 'F26', 'F25', 'F34', 'F46', 'F45', 'E5', 'E6', 'E3']\n"
     ]
    }
   ],
   "source": [
    "print(all_permutations[0])"
   ]
  },
  {
   "cell_type": "code",
   "execution_count": 5,
   "metadata": {},
   "outputs": [],
   "source": [
    "all_perms = [from_labels_to_perm(labels) for labels in all_permutations]"
   ]
  },
  {
   "cell_type": "code",
   "execution_count": 6,
   "metadata": {},
   "outputs": [
    {
     "data": {
      "text/plain": [
       "(3,27,4)(5,25,24,6,26,23)(7,18,19)(8,14,15)(9,10,13)(11,12)(16,17)(20,21)"
      ]
     },
     "execution_count": 6,
     "metadata": {},
     "output_type": "execute_result"
    }
   ],
   "source": [
    "all_perms[0]"
   ]
  },
  {
   "cell_type": "code",
   "execution_count": 7,
   "metadata": {},
   "outputs": [],
   "source": [
    "Gr = PermutationGroup(all_perms)"
   ]
  },
  {
   "cell_type": "code",
   "execution_count": 8,
   "metadata": {},
   "outputs": [
    {
     "data": {
      "text/plain": [
       "51840"
      ]
     },
     "execution_count": 8,
     "metadata": {},
     "output_type": "execute_result"
    }
   ],
   "source": [
    "Gr.order()"
   ]
  },
  {
   "cell_type": "code",
   "execution_count": 19,
   "metadata": {},
   "outputs": [],
   "source": [
    "order3_perm = []\n",
    "for perm in all_perms:\n",
    "    if perm.order() == 3:\n",
    "        order3_perm.append(perm)"
   ]
  },
  {
   "cell_type": "code",
   "execution_count": 23,
   "metadata": {},
   "outputs": [],
   "source": [
    "Gr_2 = PermutationGroup(order3_perm)"
   ]
  },
  {
   "cell_type": "code",
   "execution_count": 24,
   "metadata": {},
   "outputs": [
    {
     "data": {
      "text/plain": [
       "25920"
      ]
     },
     "execution_count": 24,
     "metadata": {},
     "output_type": "execute_result"
    }
   ],
   "source": [
    "Gr_2.order()"
   ]
  },
  {
   "cell_type": "code",
   "execution_count": 25,
   "metadata": {},
   "outputs": [],
   "source": [
    "P.<x,y,z,t,b,c,d,e,f,l,m> = PolynomialRing(QQ)"
   ]
  },
  {
   "cell_type": "code",
   "execution_count": 26,
   "metadata": {},
   "outputs": [],
   "source": [
    "cubic_new = e*f*(2*x^2*y-2*x*y^2+x*z^2-x*z*t-y*t^2+y*z*t)+b*c*(x-t)*(x*z+y*t)+c*c*(z+t)*(y*t-x*z)+d*c*(y-z)*(x*z+y*t)+(e+f)*c*(x-y)*(y*t-x*z)"
   ]
  },
  {
   "cell_type": "code",
   "execution_count": 27,
   "metadata": {},
   "outputs": [],
   "source": [
    "sing_cubics = (-1) * (-c + f) * (-c + e) * c * (c + f) * (c + e) * (-e + f)^2 * (-c*d + c*f + e*f) * (-c*d + c*e + e*f) * (-c^2 - c*d + e*f) * (b*c - c*f + e*f) * (b*c - c*e + e*f) * (b*c - c*d + 2*e*f) * (b*c - c^2 + e*f) * (b*c^2 + c^2*d + b*c*f - 2*c^2*f - c*d*f + 2*e*f^2) * (b*c^2 + c^2*d + b*c*e - 2*c^2*e - c*d*e + 2*e^2*f) * (-b*c^3 - 2*b*c^2*d + c^3*d + b*c^2*e + c^2*d*e + b*c^2*f + c^2*d*f + 3*b*c*e*f - 4*c^2*e*f - 3*c*d*e*f + 4*e^2*f^2)"
   ]
  },
  {
   "cell_type": "code",
   "execution_count": 28,
   "metadata": {},
   "outputs": [],
   "source": [
    "line = Line([y, z])"
   ]
  },
  {
   "cell_type": "code",
   "execution_count": 29,
   "metadata": {},
   "outputs": [],
   "source": [
    "general_cubic = Cubic(cubic_new, line, sing_cubics)"
   ]
  },
  {
   "cell_type": "code",
   "execution_count": 30,
   "metadata": {},
   "outputs": [],
   "source": [
    "L_set_base = ['E1', 'G4', 'E2', 'G3', 'E3']"
   ]
  },
  {
   "cell_type": "code",
   "execution_count": 31,
   "metadata": {},
   "outputs": [],
   "source": [
    "base_five_points = get_five_points_in_general_position(general_cubic.get_L_set_in_plucker(L_set_base[0:5]))"
   ]
  },
  {
   "cell_type": "code",
   "execution_count": 144,
   "metadata": {},
   "outputs": [],
   "source": [
    "L_set_2 = general_cubic.get_L_set_in_plucker(['F14', 'G4', 'F24', 'F35', 'E6'])"
   ]
  },
  {
   "cell_type": "code",
   "execution_count": 145,
   "metadata": {},
   "outputs": [],
   "source": [
    "proj = find_projectivity(base_five_points, L_set_2)"
   ]
  },
  {
   "cell_type": "code",
   "execution_count": 146,
   "metadata": {},
   "outputs": [],
   "source": [
    "sost = change_coord(proj)\n",
    "new_cubic = general_cubic.eqn.subs(sost)\n",
    "mon = (sum(P.gens()[0:4]) ^ 3).monomials()\n",
    "coeffs = list(set(matrix([[general_cubic.eqn.coefficient(mn) for mn in mon], [new_cubic.coefficient(mn) for mn in mon]]).minors(2)))"
   ]
  },
  {
   "cell_type": "code",
   "execution_count": 147,
   "metadata": {},
   "outputs": [],
   "source": [
    "no_sing_cond = vector([remove_sing_factors(el, sing_cubics.factor()) for el in coeffs if el != 0])"
   ]
  },
  {
   "cell_type": "code",
   "execution_count": 149,
   "metadata": {},
   "outputs": [
    {
     "data": {
      "text/plain": [
       "1"
      ]
     },
     "execution_count": 149,
     "metadata": {},
     "output_type": "execute_result"
    }
   ],
   "source": [
    "poly = gcd([el for el in no_sing_cond])\n",
    "poly"
   ]
  },
  {
   "cell_type": "code",
   "execution_count": 152,
   "metadata": {},
   "outputs": [],
   "source": [
    "cond_no_gcd = no_sing_cond/poly"
   ]
  },
  {
   "cell_type": "code",
   "execution_count": 155,
   "metadata": {},
   "outputs": [],
   "source": [
    "gb = P.ideal(cond_no_gcd.list()).groebner_basis()"
   ]
  },
  {
   "cell_type": "code",
   "execution_count": 156,
   "metadata": {},
   "outputs": [],
   "source": [
    "prim_dec = P.ideal(gb).radical().primary_decomposition()"
   ]
  },
  {
   "cell_type": "code",
   "execution_count": 158,
   "metadata": {},
   "outputs": [
    {
     "data": {
      "text/plain": [
       "(-1) * (-c + f) * (-c + e) * c * (c + f) * (c + e) * (-e + f)^2 * (-c*d + c*f + e*f) * (-c*d + c*e + e*f) * (-c^2 - c*d + e*f) * (b*c - c*f + e*f) * (b*c - c*e + e*f) * (b*c - c*d + 2*e*f) * (b*c - c^2 + e*f) * (b*c^2 + c^2*d + b*c*f - 2*c^2*f - c*d*f + 2*e*f^2) * (b*c^2 + c^2*d + b*c*e - 2*c^2*e - c*d*e + 2*e^2*f) * (-b*c^3 - 2*b*c^2*d + c^3*d + b*c^2*e + c^2*d*e + b*c^2*f + c^2*d*f + 3*b*c*e*f - 4*c^2*e*f - 3*c*d*e*f + 4*e^2*f^2)"
      ]
     },
     "execution_count": 158,
     "metadata": {},
     "output_type": "execute_result"
    }
   ],
   "source": [
    "sing_cubics.factor()"
   ]
  },
  {
   "cell_type": "code",
   "execution_count": 157,
   "metadata": {},
   "outputs": [
    {
     "data": {
      "text/plain": [
       "[Ideal (e + f, 4*c - 3*d, b + d, 3*d^2 + 16*f^2) of Multivariate Polynomial Ring in x, y, z, t, b, c, d, e, f, l, m over Rational Field,\n",
       " Ideal (e - f, d + 2*f, c + f, b - 2*f) of Multivariate Polynomial Ring in x, y, z, t, b, c, d, e, f, l, m over Rational Field,\n",
       " Ideal (e - f, d - 2*f, c - f, b + 2*f) of Multivariate Polynomial Ring in x, y, z, t, b, c, d, e, f, l, m over Rational Field,\n",
       " Ideal (f, c) of Multivariate Polynomial Ring in x, y, z, t, b, c, d, e, f, l, m over Rational Field,\n",
       " Ideal (e, d - f, c - f, b + f) of Multivariate Polynomial Ring in x, y, z, t, b, c, d, e, f, l, m over Rational Field,\n",
       " Ideal (e, d + f, c + f, b - f) of Multivariate Polynomial Ring in x, y, z, t, b, c, d, e, f, l, m over Rational Field,\n",
       " Ideal (e, c) of Multivariate Polynomial Ring in x, y, z, t, b, c, d, e, f, l, m over Rational Field]"
      ]
     },
     "execution_count": 157,
     "metadata": {},
     "output_type": "execute_result"
    }
   ],
   "source": [
    "prim_dec"
   ]
  },
  {
   "cell_type": "code",
   "execution_count": 159,
   "metadata": {},
   "outputs": [],
   "source": [
    "ideale = prim_dec[0]"
   ]
  },
  {
   "cell_type": "code",
   "execution_count": 160,
   "metadata": {},
   "outputs": [],
   "source": [
    "proj_sost = matrix(4,4,[ideale.reduce(el) for el in proj.list()])"
   ]
  },
  {
   "cell_type": "code",
   "execution_count": 163,
   "metadata": {},
   "outputs": [
    {
     "data": {
      "text/plain": [
       "[-54*d + 72*f            0  36*d - 48*f         48*f]\n",
       "[           0  54*d + 72*f         48*f -36*d - 48*f]\n",
       "[           0            0  54*d - 72*f            0]\n",
       "[           0            0            0 -54*d - 72*f]"
      ]
     },
     "execution_count": 163,
     "metadata": {},
     "output_type": "execute_result"
    }
   ],
   "source": [
    "proj_sost/f^5 "
   ]
  },
  {
   "cell_type": "code",
   "execution_count": null,
   "metadata": {},
   "outputs": [],
   "source": []
  },
  {
   "cell_type": "code",
   "execution_count": null,
   "metadata": {},
   "outputs": [],
   "source": []
  },
  {
   "cell_type": "code",
   "execution_count": null,
   "metadata": {},
   "outputs": [],
   "source": []
  },
  {
   "cell_type": "code",
   "execution_count": 74,
   "metadata": {},
   "outputs": [],
   "source": [
    "ideals = P.ideal(P.ideal(list(cond_no_gcd)).groebner_basis()).radical().primary_decomposition()"
   ]
  },
  {
   "cell_type": "code",
   "execution_count": 82,
   "metadata": {},
   "outputs": [
    {
     "data": {
      "text/plain": [
       "Ideal (2*c - d, b + d, d^2 - 4*e*f) of Multivariate Polynomial Ring in x, y, z, t, b, c, d, e, f, l, m over Rational Field"
      ]
     },
     "execution_count": 82,
     "metadata": {},
     "output_type": "execute_result"
    }
   ],
   "source": [
    "ideale = ideals[-1]\n",
    "ideale"
   ]
  },
  {
   "cell_type": "code",
   "execution_count": 98,
   "metadata": {},
   "outputs": [],
   "source": [
    "proj_sost = matrix(4,4,[ideale.reduce(el) for el in proj.list()])"
   ]
  },
  {
   "cell_type": "code",
   "execution_count": 104,
   "metadata": {},
   "outputs": [
    {
     "data": {
      "text/html": [
       "<html>\\[\\newcommand{\\Bold}[1]{\\mathbf{#1}}\\left(\\begin{array}{rrrr}\n",
       "4 e f & 0 & -d e - d f - 4 e f & -d e - d f + 4 e f \\\\\n",
       "0 & 4 e f & d e + d f + 4 e f & d e + d f - 4 e f \\\\\n",
       "0 & 0 & -4 e f & 0 \\\\\n",
       "0 & 0 & 0 & -4 e f\n",
       "\\end{array}\\right)\\]</html>"
      ],
      "text/latex": [
       "$$\\newcommand{\\Bold}[1]{\\mathbf{#1}}\\left(\\begin{array}{rrrr}\n",
       "4 e f & 0 & -d e - d f - 4 e f & -d e - d f + 4 e f \\\\\n",
       "0 & 4 e f & d e + d f + 4 e f & d e + d f - 4 e f \\\\\n",
       "0 & 0 & -4 e f & 0 \\\\\n",
       "0 & 0 & 0 & -4 e f\n",
       "\\end{array}\\right)$$"
      ],
      "text/plain": [
       "[             4*e*f                  0 -d*e - d*f - 4*e*f -d*e - d*f + 4*e*f]\n",
       "[                 0              4*e*f  d*e + d*f + 4*e*f  d*e + d*f - 4*e*f]\n",
       "[                 0                  0             -4*e*f                  0]\n",
       "[                 0                  0                  0             -4*e*f]"
      ]
     },
     "metadata": {},
     "output_type": "display_data"
    }
   ],
   "source": [
    "show((proj_sost^3)/(8192*e^11*f^11))"
   ]
  },
  {
   "cell_type": "code",
   "execution_count": null,
   "metadata": {},
   "outputs": [],
   "source": []
  },
  {
   "cell_type": "code",
   "execution_count": null,
   "metadata": {},
   "outputs": [],
   "source": []
  },
  {
   "cell_type": "code",
   "execution_count": null,
   "metadata": {},
   "outputs": [],
   "source": []
  },
  {
   "cell_type": "code",
   "execution_count": null,
   "metadata": {},
   "outputs": [],
   "source": []
  },
  {
   "cell_type": "code",
   "execution_count": null,
   "metadata": {},
   "outputs": [],
   "source": []
  },
  {
   "cell_type": "code",
   "execution_count": 62,
   "metadata": {},
   "outputs": [
    {
     "data": {
      "text/plain": [
       "-c^3 - 2*c^2*e - c*d*e - c*e*f + 2*e^2*f"
      ]
     },
     "execution_count": 62,
     "metadata": {},
     "output_type": "execute_result"
    }
   ],
   "source": [
    "poly.subs({b:-(c^2+e*f)/e}).numerator()"
   ]
  },
  {
   "cell_type": "code",
   "execution_count": 63,
   "metadata": {},
   "outputs": [
    {
     "data": {
      "text/plain": [
       "True"
      ]
     },
     "execution_count": 63,
     "metadata": {},
     "output_type": "execute_result"
    }
   ],
   "source": [
    "poly in [pl.conditions for pl in general_cubic.tritangent_planes]"
   ]
  },
  {
   "cell_type": "code",
   "execution_count": 64,
   "metadata": {},
   "outputs": [],
   "source": [
    "i=0\n",
    "for pl in general_cubic.tritangent_planes:\n",
    "    if pl.conditions == poly or pl.conditions == -poly:\n",
    "        i+=1"
   ]
  },
  {
   "cell_type": "code",
   "execution_count": 94,
   "metadata": {},
   "outputs": [],
   "source": [
    "proj_sost_poly = matrix(4,4,[P.ideal(poly).reduce(el) for el in proj.list()])"
   ]
  },
  {
   "cell_type": "code",
   "execution_count": 106,
   "metadata": {},
   "outputs": [
    {
     "data": {
      "text/html": [
       "<html>\\[\\newcommand{\\Bold}[1]{\\mathbf{#1}}\\left(\\begin{array}{rrrr}\n",
       "8 c^{2} & 0 & -8 c^{2} - 4 c d + 4 c e + 4 c f + 8 e f & 8 c^{2} + 4 c d - 4 c e - 4 c f - 8 e f \\\\\n",
       "0 & 8 c^{2} & -4 c d + 4 c e + 4 c f & 4 c d - 4 c e - 4 c f \\\\\n",
       "0 & 0 & 4 c^{2} + 4 c d - 4 e f & 4 c^{2} - 4 c d + 4 e f \\\\\n",
       "0 & 0 & 12 c^{2} + 4 c d - 4 e f & -4 c^{2} - 4 c d + 4 e f\n",
       "\\end{array}\\right)\\]</html>"
      ],
      "text/latex": [
       "$$\\newcommand{\\Bold}[1]{\\mathbf{#1}}\\left(\\begin{array}{rrrr}\n",
       "8 c^{2} & 0 & -8 c^{2} - 4 c d + 4 c e + 4 c f + 8 e f & 8 c^{2} + 4 c d - 4 c e - 4 c f - 8 e f \\\\\n",
       "0 & 8 c^{2} & -4 c d + 4 c e + 4 c f & 4 c d - 4 c e - 4 c f \\\\\n",
       "0 & 0 & 4 c^{2} + 4 c d - 4 e f & 4 c^{2} - 4 c d + 4 e f \\\\\n",
       "0 & 0 & 12 c^{2} + 4 c d - 4 e f & -4 c^{2} - 4 c d + 4 e f\n",
       "\\end{array}\\right)$$"
      ],
      "text/plain": [
       "[                                 8*c^2                                      0 -8*c^2 - 4*c*d + 4*c*e + 4*c*f + 8*e*f  8*c^2 + 4*c*d - 4*c*e - 4*c*f - 8*e*f]\n",
       "[                                     0                                  8*c^2                 -4*c*d + 4*c*e + 4*c*f                  4*c*d - 4*c*e - 4*c*f]\n",
       "[                                     0                                      0                  4*c^2 + 4*c*d - 4*e*f                  4*c^2 - 4*c*d + 4*e*f]\n",
       "[                                     0                                      0                 12*c^2 + 4*c*d - 4*e*f                 -4*c^2 - 4*c*d + 4*e*f]"
      ]
     },
     "metadata": {},
     "output_type": "display_data"
    }
   ],
   "source": [
    "show(proj_sost_poly/gcd(proj_sost_poly.list()))"
   ]
  },
  {
   "cell_type": "code",
   "execution_count": null,
   "metadata": {},
   "outputs": [],
   "source": []
  },
  {
   "cell_type": "code",
   "execution_count": null,
   "metadata": {},
   "outputs": [],
   "source": []
  },
  {
   "cell_type": "code",
   "execution_count": null,
   "metadata": {},
   "outputs": [],
   "source": []
  },
  {
   "cell_type": "code",
   "execution_count": null,
   "metadata": {},
   "outputs": [],
   "source": []
  },
  {
   "cell_type": "code",
   "execution_count": null,
   "metadata": {},
   "outputs": [],
   "source": []
  },
  {
   "cell_type": "code",
   "execution_count": null,
   "metadata": {},
   "outputs": [],
   "source": []
  }
 ],
 "metadata": {
  "kernelspec": {
   "display_name": "SageMath 9.3",
   "language": "sage",
   "name": "sagemath"
  },
  "language_info": {
   "codemirror_mode": {
    "name": "ipython",
    "version": 3
   },
   "file_extension": ".py",
   "mimetype": "text/x-python",
   "name": "python",
   "nbconvert_exporter": "python",
   "pygments_lexer": "ipython3",
   "version": "3.7.10"
  }
 },
 "nbformat": 4,
 "nbformat_minor": 5
}
