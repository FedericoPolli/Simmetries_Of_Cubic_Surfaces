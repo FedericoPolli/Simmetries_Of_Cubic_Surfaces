{
 "cells": [
  {
   "cell_type": "code",
   "execution_count": 1,
   "id": "4292b717",
   "metadata": {},
   "outputs": [],
   "source": [
    "load('Imports/Utility.sage', 'Imports/Point.sage', 'Imports/Line.sage', 'Imports/TritangentPlane.sage', 'Imports/Group.sage', 'Imports/Cubic.sage')\n",
    "import multiprocessing as mp\n",
    "import pickle"
   ]
  },
  {
   "cell_type": "code",
   "execution_count": 2,
   "id": "9a8e4865-6895-41fb-ac35-b6cfd611ff3d",
   "metadata": {},
   "outputs": [],
   "source": [
    "xx = QQ['xx'].0\n",
    "Q.<alpha> = NumberField(xx^2-5)"
   ]
  },
  {
   "cell_type": "code",
   "execution_count": 3,
   "id": "9fadc9b3-ead4-4221-90d5-5bcf0821056c",
   "metadata": {},
   "outputs": [],
   "source": [
    "P.<x,y,z,t,b,c,d,e,f,l,m> = PolynomialRing(Q)\n",
    "cubic_new = e*f*(2*x^2*y-2*x*y^2+x*z^2-x*z*t-y*t^2+y*z*t)+b*c*(x-t)*(x*z+y*t)+c*c*(z+t)*(y*t-x*z)+d*c*(y-z)*(x*z+y*t)+(e+f)*c*(x-y)*(y*t-x*z)\n",
    "sing_cubics = (-1) * (-c + f) * (-c + e) * c * (c + f) * (c + e) * (-e + f)^2 * (-c*d + c*f + e*f) * (-c*d + c*e + e*f) * (-c^2 - c*d + e*f) * (b*c - c*f + e*f) * (b*c - c*e + e*f) * (b*c - c*d + 2*e*f) * (b*c - c^2 + e*f) * (b*c^2 + c^2*d + b*c*f - 2*c^2*f - c*d*f + 2*e*f^2) * (b*c^2 + c^2*d + b*c*e - 2*c^2*e - c*d*e + 2*e^2*f) * (-b*c^3 - 2*b*c^2*d + c^3*d + b*c^2*e + c^2*d*e + b*c^2*f + c^2*d*f + 3*b*c*e*f - 4*c^2*e*f - 3*c*d*e*f + 4*e^2*f^2)"
   ]
  },
  {
   "cell_type": "code",
   "execution_count": null,
   "id": "fdb6c31a-f53d-41c5-be3b-6fc7547adb9a",
   "metadata": {},
   "outputs": [],
   "source": [
    "# Define cubic SE10, find and classify the lines and compute the 45 tritangent planes"
   ]
  },
  {
   "cell_type": "code",
   "execution_count": 4,
   "id": "f3c2675f-1f8c-4298-bb61-a1f2470af040",
   "metadata": {},
   "outputs": [],
   "source": [
    "line = Line([y, z])\n",
    "general_cubic = Cubic(cubic_new, line, sing_cubics)\n",
    "SE10 = general_cubic.subs({b:-(c*c+e*f)/c, d:(3*e*f - c^2 + c*f + c*e)/(2*c)}).subs({f:c*(3*c-e)/(c+e)}).subs({e : (2-alpha)*c})"
   ]
  },
  {
   "cell_type": "code",
   "execution_count": null,
   "id": "8de3fbe7-6182-40f5-84ee-9379f20743e8",
   "metadata": {},
   "outputs": [],
   "source": [
    "# Find simmetries"
   ]
  },
  {
   "cell_type": "code",
   "execution_count": 5,
   "id": "5d4b4d44-b514-4087-9ec4-b11c304b659f",
   "metadata": {},
   "outputs": [
    {
     "name": "stdout",
     "output_type": "stream",
     "text": [
      "CPU times: user 593 ms, sys: 87.8 ms, total: 681 ms\n",
      "Wall time: 2.65 s\n"
     ]
    },
    {
     "data": {
      "text/plain": [
       "120"
      ]
     },
     "execution_count": 5,
     "metadata": {},
     "output_type": "execute_result"
    }
   ],
   "source": [
    "%time adm_SE10 = SE10.find_admissible_projectivities()\n",
    "len(adm_SE10)"
   ]
  },
  {
   "cell_type": "code",
   "execution_count": 6,
   "id": "3b1db2cb-94df-48a3-8173-33573370ea3f",
   "metadata": {},
   "outputs": [
    {
     "name": "stdout",
     "output_type": "stream",
     "text": [
      "CPU times: user 430 ms, sys: 56.4 ms, total: 486 ms\n",
      "Wall time: 636 ms\n"
     ]
    },
    {
     "data": {
      "text/plain": [
       "120"
      ]
     },
     "execution_count": 6,
     "metadata": {},
     "output_type": "execute_result"
    }
   ],
   "source": [
    "%time simm_SE10 = SE10.find_simmetries(adm_SE10)\n",
    "len(simm_SE10)"
   ]
  },
  {
   "cell_type": "code",
   "execution_count": null,
   "id": "5aab222f-b5f8-4941-add6-3373d43b6695",
   "metadata": {},
   "outputs": [],
   "source": [
    "# Study how the simmetries permute the Eckardt points"
   ]
  },
  {
   "cell_type": "code",
   "execution_count": 7,
   "id": "b8a24ace-332f-40ba-9654-ad18d5504cc7",
   "metadata": {},
   "outputs": [
    {
     "data": {
      "text/plain": [
       "(120, 'S5')"
      ]
     },
     "execution_count": 7,
     "metadata": {},
     "output_type": "execute_result"
    }
   ],
   "source": [
    "Eck_points_perms = []\n",
    "for proj in simm_SE10:\n",
    "    Eck_points_perms.append(Permutation(SE10.apply_proj_to_eck(proj)).to_permutation_group_element())\n",
    "Eck_points_perms_group = PermutationGroup(Eck_points_perms)\n",
    "Eck_points_perms_group.order(), Eck_points_perms_group.structure_description()"
   ]
  },
  {
   "cell_type": "code",
   "execution_count": null,
   "id": "001b5bfd-877e-40b7-8d38-a4799781042d",
   "metadata": {},
   "outputs": [],
   "source": [
    "# We want to find what elements are permuted by the group S5\n",
    "# These are the so called Sylvester planes"
   ]
  },
  {
   "cell_type": "code",
   "execution_count": 13,
   "id": "4f4994d6-22de-4ad2-8e78-bd7fc66758c6",
   "metadata": {},
   "outputs": [],
   "source": [
    "indices = []\n",
    "for gen in Eck_points_perms_group.gens_small():\n",
    "    indices.append(Eck_points_perms.index(gen))\n",
    "gen1 = simm_SE10[indices[0]]\n",
    "gen2 = simm_SE10[indices[1]]"
   ]
  },
  {
   "cell_type": "code",
   "execution_count": 14,
   "id": "f0d8677f",
   "metadata": {},
   "outputs": [],
   "source": [
    "Sylvester_planes_labels = [['E1', 'G3', 'F13'], ['E3', 'G4', 'F34'], ['E2', 'G1', 'F12'], ['E4', 'G2', 'F24'], ['F14', 'F23', 'F56']]"
   ]
  },
  {
   "cell_type": "code",
   "execution_count": 15,
   "id": "2e61f087",
   "metadata": {},
   "outputs": [
    {
     "data": {
      "text/plain": [
       "True"
      ]
     },
     "execution_count": 15,
     "metadata": {},
     "output_type": "execute_result"
    }
   ],
   "source": [
    "bool([label in SE10.eckardt_points_labels for label in Sylvester_planes_labels])"
   ]
  },
  {
   "cell_type": "code",
   "execution_count": 28,
   "id": "327f2903",
   "metadata": {},
   "outputs": [],
   "source": [
    "#Readjust the coefficients of the planes to match those of the cubic\n",
    "Sylvester_planes = [pl.plane/min(pl.plane.coefficients()) for pl in SE10.tritangent_planes if pl.labels in Sylvester_planes_labels]\n",
    "for i in range(len(Sylvester_planes)):\n",
    "    if i in [0,1]:\n",
    "        Sylvester_planes[i]*=-1\n",
    "    if i in [2, 4]:\n",
    "        Sylvester_planes[i]*=2"
   ]
  },
  {
   "cell_type": "code",
   "execution_count": 29,
   "id": "8ce74c2e-7fa0-4bfa-a4a9-25999b04a121",
   "metadata": {},
   "outputs": [
    {
     "data": {
      "text/plain": [
       "[]"
      ]
     },
     "execution_count": 29,
     "metadata": {},
     "output_type": "execute_result"
    }
   ],
   "source": [
    "# Check that the sum of the planes cubed is actually SE10\n",
    "mon = ((x+y+z+t)^3).monomials()\n",
    "nc = sum([pl^3 for pl in Sylvester_planes])\n",
    "[el for el in matrix([[nc.coefficient(mn) for mn in mon], [SE10.eqn.coefficient(mn) for mn in mon]]).minors(2) if el!=0]"
   ]
  },
  {
   "cell_type": "code",
   "execution_count": 30,
   "id": "c4974f80",
   "metadata": {},
   "outputs": [],
   "source": [
    "sost1 = change_coord(gen1)\n",
    "sost2 = change_coord(gen2)"
   ]
  },
  {
   "cell_type": "code",
   "execution_count": 31,
   "id": "8590d6cc",
   "metadata": {},
   "outputs": [
    {
     "data": {
      "text/plain": [
       "[True, True, True, True, True]"
      ]
     },
     "execution_count": 31,
     "metadata": {},
     "output_type": "execute_result"
    }
   ],
   "source": [
    "[True in [pl.subs(sost1).divides(pl1) for pl in Sylvester_planes] for pl1 in Sylvester_planes]"
   ]
  },
  {
   "cell_type": "code",
   "execution_count": 32,
   "id": "e4725526",
   "metadata": {},
   "outputs": [
    {
     "data": {
      "text/plain": [
       "[True, True, True, True, True]"
      ]
     },
     "execution_count": 32,
     "metadata": {},
     "output_type": "execute_result"
    }
   ],
   "source": [
    "[True in [pl.subs(sost2).divides(pl1) for pl in Sylvester_planes] for pl1 in Sylvester_planes]"
   ]
  },
  {
   "cell_type": "code",
   "execution_count": null,
   "id": "88bdf454",
   "metadata": {},
   "outputs": [],
   "source": [
    "# Study how the simmetries permute the 27 lines"
   ]
  },
  {
   "cell_type": "code",
   "execution_count": 23,
   "id": "10c88cfd-8744-442f-b9c2-98919bb6f6fb",
   "metadata": {},
   "outputs": [
    {
     "name": "stdout",
     "output_type": "stream",
     "text": [
      "CPU times: user 16.7 s, sys: 112 ms, total: 16.8 s\n",
      "Wall time: 16.8 s\n"
     ]
    },
    {
     "data": {
      "text/plain": [
       "(120, 'S5')"
      ]
     },
     "execution_count": 23,
     "metadata": {},
     "output_type": "execute_result"
    }
   ],
   "source": [
    "%%time\n",
    "lines_perms = []\n",
    "for simm in simm_SE10:\n",
    "    lines_perms.append(Permutation(SE10.apply_proj_to_lines(simm)).to_permutation_group_element())\n",
    "lines_perms_group = PermutationGroup(lines_perms)\n",
    "lines_perms_group.order(), lines_perms_group.structure_description()"
   ]
  },
  {
   "cell_type": "code",
   "execution_count": null,
   "id": "8a2781c5-20f8-40a5-9815-1cdce622ca37",
   "metadata": {},
   "outputs": [],
   "source": []
  }
 ],
 "metadata": {
  "kernelspec": {
   "display_name": "SageMath 9.4",
   "language": "sage",
   "name": "sagemath"
  },
  "language_info": {
   "codemirror_mode": {
    "name": "ipython",
    "version": 3
   },
   "file_extension": ".py",
   "mimetype": "text/x-python",
   "name": "python",
   "nbconvert_exporter": "python",
   "pygments_lexer": "ipython3",
   "version": "3.7.12"
  }
 },
 "nbformat": 4,
 "nbformat_minor": 5
}
