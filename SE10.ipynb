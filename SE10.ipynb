{
 "cells": [
  {
   "cell_type": "code",
   "execution_count": 93,
   "id": "4519ec9c-19c4-4209-ab89-6e34afd62c87",
   "metadata": {},
   "outputs": [],
   "source": [
    "load('Imports/Utility.sage', 'Imports/Point.sage', 'Imports/Line.sage', 'Imports/Tritangent_plane.sage', 'Imports/Group.sage', 'Imports/Cubic.sage')\n",
    "import multiprocessing as mp\n",
    "import pickle"
   ]
  },
  {
   "cell_type": "code",
   "execution_count": 94,
   "id": "3c6edad0",
   "metadata": {},
   "outputs": [],
   "source": [
    "xx = QQ['xx'].0"
   ]
  },
  {
   "cell_type": "code",
   "execution_count": 95,
   "id": "237d649c",
   "metadata": {},
   "outputs": [],
   "source": [
    "Q.<alpha> = NumberField(xx^2-5)"
   ]
  },
  {
   "cell_type": "code",
   "execution_count": 96,
   "id": "c6ba5baf",
   "metadata": {},
   "outputs": [
    {
     "data": {
      "text/plain": [
       "Multivariate Polynomial Ring in x, y, z, t, b, c, d, e, f, l, m over Number Field in alpha with defining polynomial xx^2 - 5"
      ]
     },
     "execution_count": 96,
     "metadata": {},
     "output_type": "execute_result"
    }
   ],
   "source": [
    "P.<x,y,z,t,b,c,d,e,f,l,m> = PolynomialRing(Q)\n",
    "P"
   ]
  },
  {
   "cell_type": "code",
   "execution_count": 97,
   "id": "3d4b826e",
   "metadata": {},
   "outputs": [],
   "source": [
    "cubic_new = e*f*(2*x^2*y-2*x*y^2+x*z^2-x*z*t-y*t^2+y*z*t)+b*c*(x-t)*(x*z+y*t)+c*c*(z+t)*(y*t-x*z)+d*c*(y-z)*(x*z+y*t)+(e+f)*c*(x-y)*(y*t-x*z)"
   ]
  },
  {
   "cell_type": "code",
   "execution_count": 98,
   "id": "b2862881-4d12-4f37-9fcd-5645633287b9",
   "metadata": {},
   "outputs": [],
   "source": [
    "sing_cubics = (-1) * (-c + f) * (-c + e) * c * (c + f) * (c + e) * (-e + f)^2 * (-c*d + c*f + e*f) * (-c*d + c*e + e*f) * (-c^2 - c*d + e*f) * (b*c - c*f + e*f) * (b*c - c*e + e*f) * (b*c - c*d + 2*e*f) * (b*c - c^2 + e*f) * (b*c^2 + c^2*d + b*c*f - 2*c^2*f - c*d*f + 2*e*f^2) * (b*c^2 + c^2*d + b*c*e - 2*c^2*e - c*d*e + 2*e^2*f) * (-b*c^3 - 2*b*c^2*d + c^3*d + b*c^2*e + c^2*d*e + b*c^2*f + c^2*d*f + 3*b*c*e*f - 4*c^2*e*f - 3*c*d*e*f + 4*e^2*f^2)"
   ]
  },
  {
   "cell_type": "code",
   "execution_count": 99,
   "id": "886ed7d6",
   "metadata": {},
   "outputs": [],
   "source": [
    "line = Line([y, z])"
   ]
  },
  {
   "cell_type": "code",
   "execution_count": 100,
   "id": "83ee2e2c-b393-4191-9b0f-e489b4963d00",
   "metadata": {},
   "outputs": [],
   "source": [
    "general_cubic = Cubic(cubic_new, line, sing_cubics)"
   ]
  },
  {
   "cell_type": "code",
   "execution_count": 101,
   "id": "91e0d997-2dc3-4294-be8e-11cc24cf5d88",
   "metadata": {},
   "outputs": [],
   "source": [
    "SE10 = general_cubic.subs({b:-(c*c+e*f)/c, d:(3*e*f - c^2 + c*f + c*e)/(2*c)}).subs({f:c*(3*c-e)/(c+e)}).subs({e : (2-alpha)*c})"
   ]
  },
  {
   "cell_type": "code",
   "execution_count": 122,
   "id": "63a99e25-972b-4631-a18e-e9e213f02f95",
   "metadata": {},
   "outputs": [
    {
     "data": {
      "text/plain": [
       "240"
      ]
     },
     "execution_count": 122,
     "metadata": {},
     "output_type": "execute_result"
    }
   ],
   "source": [
    "len(SE10.find_admissible_permutations())"
   ]
  },
  {
   "cell_type": "code",
   "execution_count": 112,
   "id": "ce1dbf77-d9ed-4757-b748-df41511f6a49",
   "metadata": {},
   "outputs": [
    {
     "name": "stdout",
     "output_type": "stream",
     "text": [
      "CPU times: user 562 ms, sys: 132 ms, total: 694 ms\n",
      "Wall time: 2.82 s\n"
     ]
    }
   ],
   "source": [
    "%time adm_SE10 = SE10.find_admissible_projectivities()"
   ]
  },
  {
   "cell_type": "code",
   "execution_count": 113,
   "id": "13972670-7992-456a-afa7-29d6afd572c1",
   "metadata": {},
   "outputs": [
    {
     "data": {
      "text/plain": [
       "120"
      ]
     },
     "execution_count": 113,
     "metadata": {},
     "output_type": "execute_result"
    }
   ],
   "source": [
    "len(adm_SE10)"
   ]
  },
  {
   "cell_type": "code",
   "execution_count": 114,
   "id": "6d79df69-1863-4c90-a25e-9b752608fa61",
   "metadata": {},
   "outputs": [
    {
     "name": "stdout",
     "output_type": "stream",
     "text": [
      "CPU times: user 286 ms, sys: 158 ms, total: 444 ms\n",
      "Wall time: 475 ms\n"
     ]
    }
   ],
   "source": [
    "%time simm_SE10 = SE10.find_simmetries(adm_SE10)"
   ]
  },
  {
   "cell_type": "code",
   "execution_count": 115,
   "id": "b15fc419-b3c8-4a65-8b27-2a27df171306",
   "metadata": {},
   "outputs": [
    {
     "data": {
      "text/plain": [
       "120"
      ]
     },
     "execution_count": 115,
     "metadata": {},
     "output_type": "execute_result"
    }
   ],
   "source": [
    "len(simm_SE10)"
   ]
  },
  {
   "cell_type": "code",
   "execution_count": 117,
   "id": "0f999431-8471-47e9-8408-e3af72241d89",
   "metadata": {},
   "outputs": [],
   "source": [
    "G_SE10 = Group(simm_SE10)"
   ]
  },
  {
   "cell_type": "raw",
   "id": "56d8fd2a-06a4-43bd-9f41-2e23bb3ede57",
   "metadata": {},
   "source": [
    "%time G_SE10.is_group()"
   ]
  },
  {
   "cell_type": "code",
   "execution_count": 118,
   "id": "505f3fff-a214-4aa7-8e73-d7cc39e12886",
   "metadata": {},
   "outputs": [
    {
     "data": {
      "text/plain": [
       "120"
      ]
     },
     "execution_count": 118,
     "metadata": {},
     "output_type": "execute_result"
    }
   ],
   "source": [
    "G_SE10.get_order()"
   ]
  },
  {
   "cell_type": "code",
   "execution_count": 119,
   "id": "f72192a4-d8af-4a2c-b023-8f943c85a3df",
   "metadata": {},
   "outputs": [
    {
     "data": {
      "text/plain": [
       "False"
      ]
     },
     "execution_count": 119,
     "metadata": {},
     "output_type": "execute_result"
    }
   ],
   "source": [
    "G_SE10.is_abelian()"
   ]
  },
  {
   "cell_type": "code",
   "execution_count": 120,
   "id": "59ef09f1-49ad-4e74-81b4-facd0247dd7e",
   "metadata": {},
   "outputs": [
    {
     "data": {
      "text/plain": [
       "[1, 2, 3, 4, 5, 6, 8, 10, 12, 15, 20, 24, 30, 40, 60, 120]"
      ]
     },
     "execution_count": 120,
     "metadata": {},
     "output_type": "execute_result"
    }
   ],
   "source": [
    "G_SE10.get_divisors_of_order()"
   ]
  },
  {
   "cell_type": "code",
   "execution_count": 121,
   "id": "ec179595-23aa-4d72-b2a2-4e43bd6af4df",
   "metadata": {},
   "outputs": [],
   "source": [
    "#G_SE10.get_order_of_elements()"
   ]
  },
  {
   "cell_type": "code",
   "execution_count": null,
   "id": "13ed5fc7-1e97-41df-9761-caa5e55a1f96",
   "metadata": {},
   "outputs": [],
   "source": []
  }
 ],
 "metadata": {
  "kernelspec": {
   "display_name": "SageMath 9.3",
   "language": "sage",
   "name": "sagemath"
  },
  "language_info": {
   "codemirror_mode": {
    "name": "ipython",
    "version": 3
   },
   "file_extension": ".py",
   "mimetype": "text/x-python",
   "name": "python",
   "nbconvert_exporter": "python",
   "pygments_lexer": "ipython3",
   "version": "3.7.10"
  }
 },
 "nbformat": 4,
 "nbformat_minor": 5
}
