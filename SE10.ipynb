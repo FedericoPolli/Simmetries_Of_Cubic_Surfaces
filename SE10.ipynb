{
 "cells": [
  {
   "cell_type": "code",
   "execution_count": 1,
   "id": "4519ec9c-19c4-4209-ab89-6e34afd62c87",
   "metadata": {},
   "outputs": [],
   "source": [
    "load('Imports/Utility.sage', 'Imports/Point.sage', 'Imports/Line.sage', 'Imports/TritangentPlane.sage', 'Imports/Group.sage', 'Imports/Cubic.sage')\n",
    "import multiprocessing as mp\n",
    "import pickle"
   ]
  },
  {
   "cell_type": "code",
   "execution_count": 2,
   "id": "3c6edad0",
   "metadata": {},
   "outputs": [],
   "source": [
    "xx = QQ['xx'].0"
   ]
  },
  {
   "cell_type": "code",
   "execution_count": 3,
   "id": "237d649c",
   "metadata": {},
   "outputs": [],
   "source": [
    "Q.<alpha> = NumberField(xx^2-5)"
   ]
  },
  {
   "cell_type": "code",
   "execution_count": 4,
   "id": "c6ba5baf",
   "metadata": {},
   "outputs": [
    {
     "data": {
      "text/plain": [
       "Multivariate Polynomial Ring in x, y, z, t, b, c, d, e, f, l, m over Number Field in alpha with defining polynomial xx^2 - 5"
      ]
     },
     "execution_count": 4,
     "metadata": {},
     "output_type": "execute_result"
    }
   ],
   "source": [
    "P.<x,y,z,t,b,c,d,e,f,l,m> = PolynomialRing(Q)\n",
    "P"
   ]
  },
  {
   "cell_type": "code",
   "execution_count": 5,
   "id": "3d4b826e",
   "metadata": {},
   "outputs": [],
   "source": [
    "cubic_new = e*f*(2*x^2*y-2*x*y^2+x*z^2-x*z*t-y*t^2+y*z*t)+b*c*(x-t)*(x*z+y*t)+c*c*(z+t)*(y*t-x*z)+d*c*(y-z)*(x*z+y*t)+(e+f)*c*(x-y)*(y*t-x*z)"
   ]
  },
  {
   "cell_type": "code",
   "execution_count": 6,
   "id": "b2862881-4d12-4f37-9fcd-5645633287b9",
   "metadata": {},
   "outputs": [],
   "source": [
    "sing_cubics = (-1) * (-c + f) * (-c + e) * c * (c + f) * (c + e) * (-e + f)^2 * (-c*d + c*f + e*f) * (-c*d + c*e + e*f) * (-c^2 - c*d + e*f) * (b*c - c*f + e*f) * (b*c - c*e + e*f) * (b*c - c*d + 2*e*f) * (b*c - c^2 + e*f) * (b*c^2 + c^2*d + b*c*f - 2*c^2*f - c*d*f + 2*e*f^2) * (b*c^2 + c^2*d + b*c*e - 2*c^2*e - c*d*e + 2*e^2*f) * (-b*c^3 - 2*b*c^2*d + c^3*d + b*c^2*e + c^2*d*e + b*c^2*f + c^2*d*f + 3*b*c*e*f - 4*c^2*e*f - 3*c*d*e*f + 4*e^2*f^2)"
   ]
  },
  {
   "cell_type": "code",
   "execution_count": 7,
   "id": "886ed7d6",
   "metadata": {},
   "outputs": [],
   "source": [
    "line = Line([y, z])"
   ]
  },
  {
   "cell_type": "code",
   "execution_count": 8,
   "id": "83ee2e2c-b393-4191-9b0f-e489b4963d00",
   "metadata": {},
   "outputs": [],
   "source": [
    "general_cubic = Cubic(cubic_new, line, sing_cubics)"
   ]
  },
  {
   "cell_type": "code",
   "execution_count": 9,
   "id": "91e0d997-2dc3-4294-be8e-11cc24cf5d88",
   "metadata": {},
   "outputs": [],
   "source": [
    "SE10 = general_cubic.subs({b:-(c*c+e*f)/c, d:(3*e*f - c^2 + c*f + c*e)/(2*c)}).subs({f:c*(3*c-e)/(c+e)}).subs({e : (2-alpha)*c})"
   ]
  },
  {
   "cell_type": "code",
   "execution_count": 10,
   "id": "ce1dbf77-d9ed-4757-b748-df41511f6a49",
   "metadata": {},
   "outputs": [
    {
     "name": "stdout",
     "output_type": "stream",
     "text": [
      "CPU times: user 840 ms, sys: 311 ms, total: 1.15 s\n",
      "Wall time: 3.1 s\n"
     ]
    }
   ],
   "source": [
    "%time adm_SE10 = SE10.find_admissible_projectivities()"
   ]
  },
  {
   "cell_type": "code",
   "execution_count": 11,
   "id": "13972670-7992-456a-afa7-29d6afd572c1",
   "metadata": {},
   "outputs": [
    {
     "data": {
      "text/plain": [
       "120"
      ]
     },
     "execution_count": 11,
     "metadata": {},
     "output_type": "execute_result"
    }
   ],
   "source": [
    "len(adm_SE10)"
   ]
  },
  {
   "cell_type": "code",
   "execution_count": 12,
   "id": "6d79df69-1863-4c90-a25e-9b752608fa61",
   "metadata": {},
   "outputs": [
    {
     "name": "stdout",
     "output_type": "stream",
     "text": [
      "CPU times: user 439 ms, sys: 69.5 ms, total: 509 ms\n",
      "Wall time: 645 ms\n"
     ]
    }
   ],
   "source": [
    "%time simm_SE10 = SE10.find_simmetries(adm_SE10)"
   ]
  },
  {
   "cell_type": "code",
   "execution_count": 13,
   "id": "b15fc419-b3c8-4a65-8b27-2a27df171306",
   "metadata": {},
   "outputs": [
    {
     "data": {
      "text/plain": [
       "120"
      ]
     },
     "execution_count": 13,
     "metadata": {},
     "output_type": "execute_result"
    }
   ],
   "source": [
    "len(simm_SE10)"
   ]
  },
  {
   "cell_type": "code",
   "execution_count": 14,
   "id": "d35f02c2-8c19-4800-ab92-40ae7ffd7431",
   "metadata": {},
   "outputs": [],
   "source": [
    "perms = []\n",
    "for el in simm_SE10:\n",
    "    perms.append(Permutation(apply_proj_to_eck(el, SE10.eckardt_points)).to_cycles())"
   ]
  },
  {
   "cell_type": "code",
   "execution_count": 15,
   "id": "67dd8ed3-62f4-45a6-b334-c7fbbd0e904f",
   "metadata": {},
   "outputs": [],
   "source": [
    "gp = PermutationGroup(perms)"
   ]
  },
  {
   "cell_type": "code",
   "execution_count": 16,
   "id": "c0b92d39-a819-4878-a976-20de55b3054d",
   "metadata": {},
   "outputs": [
    {
     "data": {
      "text/plain": [
       "120"
      ]
     },
     "execution_count": 16,
     "metadata": {},
     "output_type": "execute_result"
    }
   ],
   "source": [
    "gp.order()"
   ]
  },
  {
   "cell_type": "code",
   "execution_count": 17,
   "id": "54c8d316-cc7c-4299-b3a3-83c7c4864c5b",
   "metadata": {},
   "outputs": [
    {
     "data": {
      "text/plain": [
       "'S5'"
      ]
     },
     "execution_count": 17,
     "metadata": {},
     "output_type": "execute_result"
    }
   ],
   "source": [
    "gp.structure_description()"
   ]
  },
  {
   "cell_type": "code",
   "execution_count": 18,
   "id": "7a552e26-017b-4d07-8f3d-17185b56cb1e",
   "metadata": {},
   "outputs": [],
   "source": [
    "nperms = [[cycle for cycle in perm if len(cycle)>1] for perm in perms]"
   ]
  },
  {
   "cell_type": "code",
   "execution_count": 19,
   "id": "110a8bee-fc42-48b4-b800-0380071b49b4",
   "metadata": {},
   "outputs": [
    {
     "data": {
      "text/plain": [
       "[(1,4,7)(3,5,9)(6,10,8), (1,10,8)(2,4,3,6,5,7)]"
      ]
     },
     "execution_count": 19,
     "metadata": {},
     "output_type": "execute_result"
    }
   ],
   "source": [
    "gp.gens_small()"
   ]
  },
  {
   "cell_type": "code",
   "execution_count": 20,
   "id": "b79542f8-08d8-4e16-8214-eb31f496b7e9",
   "metadata": {},
   "outputs": [
    {
     "name": "stdout",
     "output_type": "stream",
     "text": [
      "36\n",
      "(1,7,10,3)(2,5,4,6)(8,9)\n",
      "108\n",
      "(1,8,2,9,7)(3,4,10,5,6)\n"
     ]
    }
   ],
   "source": [
    "for gen in gp.gens_small():\n",
    "    print(nperms.index(gen.cycle_tuples()))\n",
    "    print(gen)"
   ]
  },
  {
   "cell_type": "code",
   "execution_count": 23,
   "id": "4c25b0b0-ca49-4b54-bae9-54c75f447f75",
   "metadata": {},
   "outputs": [],
   "source": [
    "gen1 = simm_SE10[36]\n",
    "gen2 = simm_SE10[108]"
   ]
  },
  {
   "cell_type": "code",
   "execution_count": 24,
   "id": "d98e1b8f-f6ff-410d-8b34-37180f210972",
   "metadata": {},
   "outputs": [
    {
     "data": {
      "text/plain": [
       "(\n",
       "[-3 -1  3  3]  [-1 -1 -3 -3]\n",
       "[ 3  1 -1 -1]  [ 0  1  5  2]\n",
       "[-1 -1  1 -1]  [ 0 -1 -1 -2]\n",
       "[-1 -1 -1  1], [ 1  1 -1 -1]\n",
       ")"
      ]
     },
     "execution_count": 24,
     "metadata": {},
     "output_type": "execute_result"
    }
   ],
   "source": [
    "gen1, gen2"
   ]
  },
  {
   "cell_type": "code",
   "execution_count": 25,
   "id": "613ade68-fbab-41ea-84da-36a755bcb4e4",
   "metadata": {},
   "outputs": [],
   "source": [
    "Sylvester_planes_labels = [['E1', 'G3', 'F13'], ['E3', 'G4', 'F34'], ['E2', 'G1', 'F12'], ['E4', 'G2', 'F24'], ['F14', 'F23', 'F56']]"
   ]
  },
  {
   "cell_type": "code",
   "execution_count": 26,
   "id": "2fc28e7e-9520-4899-b7de-bc101b386d51",
   "metadata": {},
   "outputs": [
    {
     "name": "stdout",
     "output_type": "stream",
     "text": [
      "False\n",
      "False\n",
      "False\n",
      "False\n",
      "False\n"
     ]
    }
   ],
   "source": [
    "for label in Sylvester_planes_labels:\n",
    "    print(label in SE10.eckardt_points_labels)"
   ]
  },
  {
   "cell_type": "code",
   "execution_count": 27,
   "id": "98186790-09e3-4d57-b18b-41665ab3adba",
   "metadata": {},
   "outputs": [
    {
     "data": {
      "text/plain": [
       "[-y + z, x + t, -x + y, x - 2*y + t, x - 1/2*y + 1/2*z]"
      ]
     },
     "execution_count": 27,
     "metadata": {},
     "output_type": "execute_result"
    }
   ],
   "source": [
    "Sylvester_planes = [pl.plane/min(pl.plane.coefficients()) for pl in SE10.tritangent_planes if pl.labels in Sylvester_planes_labels]\n",
    "Sylvester_planes"
   ]
  },
  {
   "cell_type": "code",
   "execution_count": 28,
   "id": "129f1287-bcc1-4008-9f20-f2f0e3d92e3f",
   "metadata": {},
   "outputs": [
    {
     "data": {
      "text/plain": [
       "[y^3 - 3*y^2*z + 3*y*z^2 - z^3,\n",
       " -x^3 - 3*x^2*t - 3*x*t^2 - t^3,\n",
       " -8*x^3 + 24*x^2*y - 24*x*y^2 + 8*y^3,\n",
       " x^3 - 6*x^2*y + 12*x*y^2 - 8*y^3 + 3*x^2*t - 12*x*y*t + 12*y^2*t + 3*x*t^2 - 6*y*t^2 + t^3,\n",
       " 8*x^3 - 12*x^2*y + 6*x*y^2 - y^3 + 12*x^2*z - 12*x*y*z + 3*y^2*z + 6*x*z^2 - 3*y*z^2 + z^3]"
      ]
     },
     "execution_count": 28,
     "metadata": {},
     "output_type": "execute_result"
    }
   ],
   "source": [
    "plane_cubes = [pl^3 for pl in Sylvester_planes]\n",
    "plane_cubes[2]*=8\n",
    "plane_cubes[-1]*=8\n",
    "plane_cubes[1]*=-1\n",
    "plane_cubes[0]*=-1\n",
    "plane_cubes"
   ]
  },
  {
   "cell_type": "code",
   "execution_count": 29,
   "id": "e9efe3ae-93b4-43c0-b9c9-3bec123a7527",
   "metadata": {},
   "outputs": [],
   "source": [
    "mon = ((x+y+z+t)^3).monomials()"
   ]
  },
  {
   "cell_type": "code",
   "execution_count": 30,
   "id": "72c141bf-20f4-4091-b024-7be50713f2c8",
   "metadata": {},
   "outputs": [
    {
     "data": {
      "text/plain": [
       "[]"
      ]
     },
     "execution_count": 30,
     "metadata": {},
     "output_type": "execute_result"
    }
   ],
   "source": [
    "nc = sum(plane_cubes)\n",
    "[el for el in matrix([[nc.coefficient(mn) for mn in mon], [SE10.eqn.coefficient(mn) for mn in mon]]).minors(2) if el!=0]"
   ]
  },
  {
   "cell_type": "code",
   "execution_count": 31,
   "id": "7314f3a8-090d-4376-8870-80da6c1e5f71",
   "metadata": {},
   "outputs": [],
   "source": [
    "sost1 = change_coord(gen1)\n",
    "sost2 = change_coord(gen2)"
   ]
  },
  {
   "cell_type": "code",
   "execution_count": 32,
   "id": "cb033f67-0ef9-4a51-acfb-39db0ba1a067",
   "metadata": {},
   "outputs": [
    {
     "data": {
      "text/plain": [
       "[-y + z, x + t, -x + y, x - 2*y + t, x - 1/2*y + 1/2*z]"
      ]
     },
     "execution_count": 32,
     "metadata": {},
     "output_type": "execute_result"
    }
   ],
   "source": [
    "Sylvester_planes"
   ]
  },
  {
   "cell_type": "code",
   "execution_count": 33,
   "id": "660a5ded-5803-474b-ade3-c158ab835509",
   "metadata": {},
   "outputs": [
    {
     "data": {
      "text/plain": [
       "[True, True, True, True, True]"
      ]
     },
     "execution_count": 33,
     "metadata": {},
     "output_type": "execute_result"
    }
   ],
   "source": [
    "[True in [pl.subs(sost1).divides(pl1) for pl in Sylvester_planes] for pl1 in Sylvester_planes]"
   ]
  },
  {
   "cell_type": "code",
   "execution_count": 34,
   "id": "c99bfa3a-87c4-472b-918f-1e78166e8059",
   "metadata": {},
   "outputs": [
    {
     "data": {
      "text/plain": [
       "[True, True, True, True, True]"
      ]
     },
     "execution_count": 34,
     "metadata": {},
     "output_type": "execute_result"
    }
   ],
   "source": [
    "[True in [pl.subs(sost2).divides(pl1) for pl in Sylvester_planes] for pl1 in Sylvester_planes]"
   ]
  },
  {
   "cell_type": "code",
   "execution_count": null,
   "id": "cb41d747-ea5a-44cc-963c-70fbc3e63cff",
   "metadata": {},
   "outputs": [],
   "source": []
  }
 ],
 "metadata": {
  "kernelspec": {
   "display_name": "SageMath 9.4",
   "language": "sage",
   "name": "sagemath"
  },
  "language_info": {
   "codemirror_mode": {
    "name": "ipython",
    "version": 3
   },
   "file_extension": ".py",
   "mimetype": "text/x-python",
   "name": "python",
   "nbconvert_exporter": "python",
   "pygments_lexer": "ipython3",
   "version": "3.7.12"
  }
 },
 "nbformat": 4,
 "nbformat_minor": 5
}
