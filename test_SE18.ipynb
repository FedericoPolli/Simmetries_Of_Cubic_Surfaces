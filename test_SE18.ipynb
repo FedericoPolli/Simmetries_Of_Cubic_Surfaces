{
 "cells": [
  {
   "cell_type": "code",
   "execution_count": 1,
   "id": "5954d86c-ecf2-4f58-a388-c1046cf4bbdc",
   "metadata": {},
   "outputs": [],
   "source": [
    "load('Imports/Utility.sage', 'Imports/Point.sage', 'Imports/Line.sage', 'Imports/Tritangent_plane.sage', 'Imports/Group.sage', 'Imports/Cubic.sage')\n",
    "import multiprocessing as mp\n",
    "import pickle"
   ]
  },
  {
   "cell_type": "code",
   "execution_count": 2,
   "id": "81752c9f-28a1-4767-8e0a-44104d3157e8",
   "metadata": {},
   "outputs": [],
   "source": [
    "xx = QQ['xx'].0"
   ]
  },
  {
   "cell_type": "code",
   "execution_count": 3,
   "id": "a966c1ac-adf7-47d9-a24a-bbb9e97b6a83",
   "metadata": {},
   "outputs": [],
   "source": [
    "Q.<alpha> = NumberField(xx^2+3)"
   ]
  },
  {
   "cell_type": "code",
   "execution_count": 4,
   "id": "3e6a9afa-b3dc-4f94-90fa-b73e952afa71",
   "metadata": {},
   "outputs": [],
   "source": [
    "P.<x,y,z,t,b,c,d,e,f,l,m> = PolynomialRing(Q)"
   ]
  },
  {
   "cell_type": "code",
   "execution_count": 5,
   "id": "bbd45dc6-0ea4-4673-aa0c-e00fe909784d",
   "metadata": {},
   "outputs": [],
   "source": [
    "cubic_new = e*f*(2*x^2*y-2*x*y^2+x*z^2-x*z*t-y*t^2+y*z*t)+b*c*(x-t)*(x*z+y*t)+c*c*(z+t)*(y*t-x*z)+d*c*(y-z)*(x*z+y*t)+(e+f)*c*(x-y)*(y*t-x*z)"
   ]
  },
  {
   "cell_type": "code",
   "execution_count": 6,
   "id": "eae30876-0a77-4fc3-80c2-cb39dfae51e0",
   "metadata": {},
   "outputs": [],
   "source": [
    "sing_cubics = (-1) * (-c + f) * (-c + e) * c * (c + f) * (c + e) * (-e + f)^2 * (-c*d + c*f + e*f) * (-c*d + c*e + e*f) * (-c^2 - c*d + e*f) * (b*c - c*f + e*f) * (b*c - c*e + e*f) * (b*c - c*d + 2*e*f) * (b*c - c^2 + e*f) * (b*c^2 + c^2*d + b*c*f - 2*c^2*f - c*d*f + 2*e*f^2) * (b*c^2 + c^2*d + b*c*e - 2*c^2*e - c*d*e + 2*e^2*f) * (-b*c^3 - 2*b*c^2*d + c^3*d + b*c^2*e + c^2*d*e + b*c^2*f + c^2*d*f + 3*b*c*e*f - 4*c^2*e*f - 3*c*d*e*f + 4*e^2*f^2)"
   ]
  },
  {
   "cell_type": "code",
   "execution_count": 7,
   "id": "0e8fcbb7-3ea0-4c77-9237-74d1e49f4281",
   "metadata": {},
   "outputs": [],
   "source": [
    "line = Line([y, z])"
   ]
  },
  {
   "cell_type": "code",
   "execution_count": 8,
   "id": "8758970a-a77f-4d03-aca1-0c59367c2fd4",
   "metadata": {},
   "outputs": [],
   "source": [
    "eqn_SE1 = P(cubic_new.subs({b:-(c*c+e*f)/c }) )\n",
    "sing_cubics_SE1 = P(sing_cubics.subs({b:-(c*c+e*f)/c }))"
   ]
  },
  {
   "cell_type": "code",
   "execution_count": 9,
   "id": "e5abd64f-f434-407e-8738-f66f9c8c6090",
   "metadata": {},
   "outputs": [],
   "source": [
    "eqn_SE3 = P(2*eqn_SE1.subs({d:(3*e*f - c^2 + c*f + c*e)/(2*c)}) )\n",
    "sing_cubics_SE3 = P(sing_cubics_SE1.subs({d:(3*e*f - c^2 + c*f + c*e)/(2*c)}))"
   ]
  },
  {
   "cell_type": "code",
   "execution_count": 10,
   "id": "a48686d2-5f44-4eb7-8b71-e797bf400e96",
   "metadata": {},
   "outputs": [],
   "source": [
    "eqn_SE4 = -P((c+e) * eqn_SE3.subs({f:c*(3*c-e)/(c+e)}) / (4*c))\n",
    "sing_cubics_SE4 = P((c+e)^7*sing_cubics_SE3.subs({f:c*(3*c-e)/(c+e)}))"
   ]
  },
  {
   "cell_type": "code",
   "execution_count": 11,
   "id": "c22557ca-de5a-428f-a7be-fbe3fbd62cb5",
   "metadata": {},
   "outputs": [],
   "source": [
    "eqn_SE18 = P(eqn_SE4.subs({e : alpha*c})/(c^2 * (alpha+1)))\n",
    "sing_cubics_SE18 = P(sing_cubics_SE4.subs({e : alpha*c}))"
   ]
  },
  {
   "cell_type": "code",
   "execution_count": 12,
   "id": "d22031a0-1022-4c81-b9a9-c84d442285bd",
   "metadata": {},
   "outputs": [],
   "source": [
    "SE18 = Cubic(eqn_SE18, line, sing_cubics_SE18.factor())"
   ]
  },
  {
   "cell_type": "code",
   "execution_count": 13,
   "id": "354ac879-0da0-4ba9-9354-5fb44031cf2c",
   "metadata": {},
   "outputs": [],
   "source": [
    "def apply_proj_to_eck(proj, eck):\n",
    "    new_indices = []\n",
    "    for i in range(len(eck)):\n",
    "        new_indices.append(eck.index(eck[i]*proj)+1)\n",
    "    return new_indices"
   ]
  },
  {
   "cell_type": "code",
   "execution_count": 14,
   "id": "713bb7aa-6751-4d7a-a12c-170187933f4f",
   "metadata": {},
   "outputs": [],
   "source": [
    "    def find_admissible_permutations(self):\n",
    "        with open('all_permutations.pickle', 'rb') as ff:\n",
    "            all_permutations = pickle.load(ff) \n",
    "        adm_perm = []\n",
    "        keys = list(self.cl_lines.keys())\n",
    "        labels = [sorted(el.labels) for el in self.tritangent_planes if el.conditions == 0]\n",
    "        for perm in all_permutations:\n",
    "            flag = True\n",
    "            for triple in labels:\n",
    "                new_triple = []\n",
    "                for label in triple:\n",
    "                    new_triple.append(perm[keys.index(label)])\n",
    "                if sorted(new_triple) not in labels:\n",
    "                    flag = False\n",
    "                    break\n",
    "            if flag is True:\n",
    "                adm_perm.append(perm)\n",
    "        return adm_perm"
   ]
  },
  {
   "cell_type": "code",
   "execution_count": 15,
   "id": "110f46b2-00ce-43bb-99ce-bd4ba62a46ed",
   "metadata": {},
   "outputs": [
    {
     "data": {
      "text/plain": [
       "[['E1', 'F13', 'G3'],\n",
       " ['E1', 'F14', 'G4'],\n",
       " ['E2', 'F23', 'G3'],\n",
       " ['E2', 'F24', 'G4'],\n",
       " ['E3', 'F35', 'G5'],\n",
       " ['E3', 'F36', 'G6'],\n",
       " ['E4', 'F45', 'G5'],\n",
       " ['E4', 'F46', 'G6'],\n",
       " ['E5', 'F15', 'G1'],\n",
       " ['E5', 'F25', 'G2'],\n",
       " ['E6', 'F16', 'G1'],\n",
       " ['E6', 'F26', 'G2'],\n",
       " ['F12', 'F35', 'F46'],\n",
       " ['F12', 'F36', 'F45'],\n",
       " ['F13', 'F24', 'F56'],\n",
       " ['F14', 'F23', 'F56'],\n",
       " ['F15', 'F26', 'F34'],\n",
       " ['F16', 'F25', 'F34']]"
      ]
     },
     "execution_count": 15,
     "metadata": {},
     "output_type": "execute_result"
    }
   ],
   "source": [
    "labels = [sorted(pl.labels) for pl in SE18.tritangent_planes if pl.conditions == 0]\n",
    "keys = list(SE18.cl_lines.keys())\n",
    "labels"
   ]
  },
  {
   "cell_type": "code",
   "execution_count": 16,
   "id": "b4679bf1-f257-4865-8974-9db2e18050ea",
   "metadata": {},
   "outputs": [],
   "source": [
    "adm_perm = SE18.find_admissible_permutations()"
   ]
  },
  {
   "cell_type": "code",
   "execution_count": 17,
   "id": "5cfe0980-7680-486b-b9fe-b71840a862c2",
   "metadata": {},
   "outputs": [
    {
     "data": {
      "text/plain": [
       "1296"
      ]
     },
     "execution_count": 17,
     "metadata": {},
     "output_type": "execute_result"
    }
   ],
   "source": [
    "len(adm_perm)"
   ]
  },
  {
   "cell_type": "code",
   "execution_count": 18,
   "id": "26c4298c-6da4-4781-9a5d-37c781a1dcc3",
   "metadata": {},
   "outputs": [
    {
     "data": {
      "text/plain": [
       "4"
      ]
     },
     "execution_count": 18,
     "metadata": {},
     "output_type": "execute_result"
    }
   ],
   "source": [
    "adm_perm.index(['E1', 'E2', 'E3', 'E4', 'E6', 'E5', 'G1', 'G2', 'G3', 'G4', 'G6', 'G5', 'F12', 'F13', 'F14', 'F16', 'F15', 'F23', 'F24', 'F26', 'F25', 'F34', 'F36', 'F35', 'F46', 'F45', 'F56'])"
   ]
  },
  {
   "cell_type": "code",
   "execution_count": 38,
   "id": "c3447f51-0b2a-4a03-a06f-c8563abb7e2f",
   "metadata": {},
   "outputs": [],
   "source": [
    "resulting_L_sets = []\n",
    "conjugate_perm = []\n",
    "for perm in adm_perm:\n",
    "    perm_L_set = [perm[list(SE18.cl_lines.keys()).index(label)] for label in ['E1', 'G4', 'E2', 'G3', 'E3']]\n",
    "    if perm_L_set not in resulting_L_sets:\n",
    "        resulting_L_sets.append(perm_L_set)\n",
    "    else:\n",
    "        conjugate_perm.append(perm)"
   ]
  },
  {
   "cell_type": "code",
   "execution_count": 39,
   "id": "35275146-5349-4e3c-91c3-45d790b2b43b",
   "metadata": {},
   "outputs": [
    {
     "data": {
      "text/plain": [
       "648"
      ]
     },
     "execution_count": 39,
     "metadata": {},
     "output_type": "execute_result"
    }
   ],
   "source": [
    "len(conjugate_perm)"
   ]
  },
  {
   "cell_type": "code",
   "execution_count": 40,
   "id": "76f14dba-b147-4202-9fc0-848621c2c2cf",
   "metadata": {},
   "outputs": [],
   "source": [
    "adm_proj = SE18.find_admissible_projectivities()"
   ]
  },
  {
   "cell_type": "code",
   "execution_count": 43,
   "id": "60933890-6a71-4efe-9e71-24a230613995",
   "metadata": {},
   "outputs": [],
   "source": [
    "simm_SE18 = SE18.find_simmetries(adm_proj)"
   ]
  },
  {
   "cell_type": "code",
   "execution_count": 44,
   "id": "178378ae-bce2-4594-b550-8110458ca2fc",
   "metadata": {},
   "outputs": [
    {
     "data": {
      "text/plain": [
       "648"
      ]
     },
     "execution_count": 44,
     "metadata": {},
     "output_type": "execute_result"
    }
   ],
   "source": [
    "len(adm_proj)"
   ]
  },
  {
   "cell_type": "code",
   "execution_count": 45,
   "id": "b9b74b05-beaf-4b31-9c69-38d5fc92c74f",
   "metadata": {},
   "outputs": [
    {
     "name": "stdout",
     "output_type": "stream",
     "text": [
      "648\n"
     ]
    }
   ],
   "source": [
    "perms = []\n",
    "normal_perm = [perm for perm in adm_perm if perm not in conjugate_perm]\n",
    "print(len(normal_perm))\n",
    "for simm in simm_SE18:\n",
    "    perm = normal_perm[adm_proj.index(simm)]\n",
    "    perms.append(Permutation([perm.index(label)+1 for label in keys]).to_cycles())\n",
    "    #perm = conjugate_perm[adm_proj.index(simm)]\n",
    "    #perms.append(Permutation([perm.index(label)+1 for label in keys]).to_cycles())"
   ]
  },
  {
   "cell_type": "code",
   "execution_count": 46,
   "id": "4b8dae7e-058e-4979-af04-afc3eb6f2c65",
   "metadata": {},
   "outputs": [
    {
     "data": {
      "text/plain": [
       "648"
      ]
     },
     "execution_count": 46,
     "metadata": {},
     "output_type": "execute_result"
    }
   ],
   "source": [
    "len(perms)"
   ]
  },
  {
   "cell_type": "code",
   "execution_count": 47,
   "id": "8412c121-0742-45cb-8925-c8df8970478c",
   "metadata": {},
   "outputs": [],
   "source": [
    "Gr = PermutationGroup(perms)"
   ]
  },
  {
   "cell_type": "code",
   "execution_count": 49,
   "id": "bfbad432-7ee5-435f-818c-1345e6b1488a",
   "metadata": {},
   "outputs": [
    {
     "data": {
      "text/plain": [
       "1296"
      ]
     },
     "execution_count": 49,
     "metadata": {},
     "output_type": "execute_result"
    }
   ],
   "source": [
    "Gr.order()"
   ]
  },
  {
   "cell_type": "code",
   "execution_count": 58,
   "id": "02487138-c0fa-402d-b766-c96736c7ce4b",
   "metadata": {},
   "outputs": [
    {
     "data": {
      "text/plain": [
       "[1296, 3490]"
      ]
     },
     "execution_count": 58,
     "metadata": {},
     "output_type": "execute_result"
    }
   ],
   "source": [
    "Gr.group_id()"
   ]
  },
  {
   "cell_type": "code",
   "execution_count": 48,
   "id": "d0d57f04-6619-43f6-967c-38beafa1f282",
   "metadata": {},
   "outputs": [
    {
     "data": {
      "text/plain": [
       "'((((C3 x C3 x C3) : (C2 x C2)) : C3) : C2) : C2'"
      ]
     },
     "execution_count": 48,
     "metadata": {},
     "output_type": "execute_result"
    }
   ],
   "source": [
    "Gr.structure_description()"
   ]
  },
  {
   "cell_type": "code",
   "execution_count": 64,
   "id": "d29e3d57-3a1e-462c-82fb-f8c8f5695a0f",
   "metadata": {},
   "outputs": [
    {
     "ename": "GAPError",
     "evalue": "Error, <N> must be a normal subgroup of <G>",
     "output_type": "error",
     "traceback": [
      "\u001b[0;31m---------------------------------------------------------------------------\u001b[0m",
      "\u001b[0;31mGAPError\u001b[0m                                  Traceback (most recent call last)",
      "\u001b[0;32m<ipython-input-64-f547ebf135cd>\u001b[0m in \u001b[0;36m<module>\u001b[0;34m\u001b[0m\n\u001b[0;32m----> 1\u001b[0;31m \u001b[0mGr\u001b[0m\u001b[0;34m.\u001b[0m\u001b[0mquotient\u001b[0m\u001b[0;34m(\u001b[0m\u001b[0mPermutationGroup\u001b[0m\u001b[0;34m(\u001b[0m\u001b[0;34m[\u001b[0m\u001b[0;34m(\u001b[0m\u001b[0mInteger\u001b[0m\u001b[0;34m(\u001b[0m\u001b[0;36m18\u001b[0m\u001b[0;34m)\u001b[0m\u001b[0;34m,\u001b[0m\u001b[0mInteger\u001b[0m\u001b[0;34m(\u001b[0m\u001b[0;36m22\u001b[0m\u001b[0;34m)\u001b[0m\u001b[0;34m)\u001b[0m\u001b[0;34m]\u001b[0m\u001b[0;34m)\u001b[0m\u001b[0;34m)\u001b[0m\u001b[0;34m\u001b[0m\u001b[0;34m\u001b[0m\u001b[0m\n\u001b[0m",
      "\u001b[0;32m~/anaconda3/envs/sage/lib/python3.7/site-packages/sage/groups/perm_gps/permgroup.py\u001b[0m in \u001b[0;36mquotient\u001b[0;34m(self, N, **kwds)\u001b[0m\n\u001b[1;32m   2962\u001b[0m             \u001b[0mPermutation\u001b[0m \u001b[0mGroup\u001b[0m \u001b[0;32mwith\u001b[0m \u001b[0mgenerators\u001b[0m \u001b[0;34m[\u001b[0m\u001b[0;34m(\u001b[0m\u001b[0;34m)\u001b[0m\u001b[0;34m]\u001b[0m\u001b[0;34m\u001b[0m\u001b[0;34m\u001b[0m\u001b[0m\n\u001b[1;32m   2963\u001b[0m         \"\"\"\n\u001b[0;32m-> 2964\u001b[0;31m         \u001b[0mQ\u001b[0m \u001b[0;34m=\u001b[0m \u001b[0mself\u001b[0m\u001b[0;34m.\u001b[0m\u001b[0m_libgap_\u001b[0m\u001b[0;34m(\u001b[0m\u001b[0;34m)\u001b[0m \u001b[0;34m/\u001b[0m \u001b[0mN\u001b[0m\u001b[0;34m.\u001b[0m\u001b[0m_libgap_\u001b[0m\u001b[0;34m(\u001b[0m\u001b[0;34m)\u001b[0m\u001b[0;34m\u001b[0m\u001b[0;34m\u001b[0m\u001b[0m\n\u001b[0m\u001b[1;32m   2965\u001b[0m         \u001b[0;31m# Return Q as a permutation group\u001b[0m\u001b[0;34m\u001b[0m\u001b[0;34m\u001b[0m\u001b[0;34m\u001b[0m\u001b[0m\n\u001b[1;32m   2966\u001b[0m         \u001b[0;31m# This is currently done using the right regular representation\u001b[0m\u001b[0;34m\u001b[0m\u001b[0;34m\u001b[0m\u001b[0;34m\u001b[0m\u001b[0m\n",
      "\u001b[0;32m~/anaconda3/envs/sage/lib/python3.7/site-packages/sage/structure/element.pyx\u001b[0m in \u001b[0;36msage.structure.element.Element.__truediv__ (build/cythonized/sage/structure/element.c:13161)\u001b[0;34m()\u001b[0m\n\u001b[1;32m   1733\u001b[0m         \u001b[0mcdef\u001b[0m \u001b[0mint\u001b[0m \u001b[0mcl\u001b[0m \u001b[0;34m=\u001b[0m \u001b[0mclassify_elements\u001b[0m\u001b[0;34m(\u001b[0m\u001b[0mleft\u001b[0m\u001b[0;34m,\u001b[0m \u001b[0mright\u001b[0m\u001b[0;34m)\u001b[0m\u001b[0;34m\u001b[0m\u001b[0;34m\u001b[0m\u001b[0m\n\u001b[1;32m   1734\u001b[0m         \u001b[0;32mif\u001b[0m \u001b[0mHAVE_SAME_PARENT\u001b[0m\u001b[0;34m(\u001b[0m\u001b[0mcl\u001b[0m\u001b[0;34m)\u001b[0m\u001b[0;34m:\u001b[0m\u001b[0;34m\u001b[0m\u001b[0;34m\u001b[0m\u001b[0m\n\u001b[0;32m-> 1735\u001b[0;31m             \u001b[0;32mreturn\u001b[0m \u001b[0;34m(\u001b[0m\u001b[0;34m<\u001b[0m\u001b[0mElement\u001b[0m\u001b[0;34m>\u001b[0m\u001b[0mleft\u001b[0m\u001b[0;34m)\u001b[0m\u001b[0;34m.\u001b[0m\u001b[0m_div_\u001b[0m\u001b[0;34m(\u001b[0m\u001b[0mright\u001b[0m\u001b[0;34m)\u001b[0m\u001b[0;34m\u001b[0m\u001b[0;34m\u001b[0m\u001b[0m\n\u001b[0m\u001b[1;32m   1736\u001b[0m         \u001b[0;32mif\u001b[0m \u001b[0mBOTH_ARE_ELEMENT\u001b[0m\u001b[0;34m(\u001b[0m\u001b[0mcl\u001b[0m\u001b[0;34m)\u001b[0m\u001b[0;34m:\u001b[0m\u001b[0;34m\u001b[0m\u001b[0;34m\u001b[0m\u001b[0m\n\u001b[1;32m   1737\u001b[0m             \u001b[0;32mreturn\u001b[0m \u001b[0mcoercion_model\u001b[0m\u001b[0;34m.\u001b[0m\u001b[0mbin_op\u001b[0m\u001b[0;34m(\u001b[0m\u001b[0mleft\u001b[0m\u001b[0;34m,\u001b[0m \u001b[0mright\u001b[0m\u001b[0;34m,\u001b[0m \u001b[0mtruediv\u001b[0m\u001b[0;34m)\u001b[0m\u001b[0;34m\u001b[0m\u001b[0;34m\u001b[0m\u001b[0m\n",
      "\u001b[0;32m~/anaconda3/envs/sage/lib/python3.7/site-packages/sage/libs/gap/element.pyx\u001b[0m in \u001b[0;36msage.libs.gap.element.GapElement._div_ (build/cythonized/sage/libs/gap/element.c:11024)\u001b[0;34m()\u001b[0m\n\u001b[1;32m   1097\u001b[0m         \u001b[0;32mtry\u001b[0m\u001b[0;34m:\u001b[0m\u001b[0;34m\u001b[0m\u001b[0;34m\u001b[0m\u001b[0m\n\u001b[1;32m   1098\u001b[0m             \u001b[0msig_GAP_Enter\u001b[0m\u001b[0;34m(\u001b[0m\u001b[0;34m)\u001b[0m\u001b[0;34m\u001b[0m\u001b[0;34m\u001b[0m\u001b[0m\n\u001b[0;32m-> 1099\u001b[0;31m             \u001b[0msig_on\u001b[0m\u001b[0;34m(\u001b[0m\u001b[0;34m)\u001b[0m\u001b[0;34m\u001b[0m\u001b[0;34m\u001b[0m\u001b[0m\n\u001b[0m\u001b[1;32m   1100\u001b[0m             \u001b[0mresult\u001b[0m \u001b[0;34m=\u001b[0m \u001b[0mQUO\u001b[0m\u001b[0;34m(\u001b[0m\u001b[0mself\u001b[0m\u001b[0;34m.\u001b[0m\u001b[0mvalue\u001b[0m\u001b[0;34m,\u001b[0m \u001b[0;34m(\u001b[0m\u001b[0;34m<\u001b[0m\u001b[0mGapElement\u001b[0m\u001b[0;34m>\u001b[0m\u001b[0mright\u001b[0m\u001b[0;34m)\u001b[0m\u001b[0;34m.\u001b[0m\u001b[0mvalue\u001b[0m\u001b[0;34m)\u001b[0m\u001b[0;34m\u001b[0m\u001b[0;34m\u001b[0m\u001b[0m\n\u001b[1;32m   1101\u001b[0m             \u001b[0msig_off\u001b[0m\u001b[0;34m(\u001b[0m\u001b[0;34m)\u001b[0m\u001b[0;34m\u001b[0m\u001b[0;34m\u001b[0m\u001b[0m\n",
      "\u001b[0;31mGAPError\u001b[0m: Error, <N> must be a normal subgroup of <G>"
     ]
    }
   ],
   "source": [
    "Gr."
   ]
  },
  {
   "cell_type": "code",
   "execution_count": null,
   "id": "c083378a-b1ea-4e9d-b481-4bb0ac9c898a",
   "metadata": {},
   "outputs": [],
   "source": []
  }
 ],
 "metadata": {
  "kernelspec": {
   "display_name": "SageMath 9.3",
   "language": "sage",
   "name": "sagemath"
  },
  "language_info": {
   "codemirror_mode": {
    "name": "ipython",
    "version": 3
   },
   "file_extension": ".py",
   "mimetype": "text/x-python",
   "name": "python",
   "nbconvert_exporter": "python",
   "pygments_lexer": "ipython3",
   "version": "3.7.10"
  }
 },
 "nbformat": 4,
 "nbformat_minor": 5
}
