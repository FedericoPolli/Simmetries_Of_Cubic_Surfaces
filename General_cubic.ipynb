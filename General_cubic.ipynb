{
 "cells": [
  {
   "cell_type": "code",
   "execution_count": 1,
   "metadata": {},
   "outputs": [],
   "source": [
    "load('Imports/Utility.sage', 'Imports/Point.sage', 'Imports/Line.sage', 'Imports/TritangentPlane.sage', 'Imports/Group.sage', 'Imports/Cubic.sage')\n",
    "import multiprocessing as mp\n",
    "import pickle"
   ]
  },
  {
   "cell_type": "code",
   "execution_count": 2,
   "metadata": {},
   "outputs": [],
   "source": [
    "def find_simmetries_and_projectivities_parallel(self, all_L_sets):\n",
    "    if os.name == \"nt\":\n",
    "        mp.freeze_support()\n",
    "    pool = mp.Pool(mp.cpu_count() - 1)\n",
    "    all_param = ((L_set,) for L_set in all_L_sets)\n",
    "    result = [el for el in pool.map(self.find_simmetries_and_projectivities_parallel_wrapper, all_param) if el is not None]\n",
    "    pool.close()\n",
    "    return result\n",
    "\n",
    "def find_simmetries_and_projectivities_parallel_wrapper(self, args):\n",
    "    return self.find_simmetry_and_projectivity(*args)\n",
    "\n",
    "def find_simmetry_and_projectivity(self, L_set):\n",
    "    L_set_base = self.get_L_set_in_plucker(['E1', 'G4', 'E2', 'G3', 'E3'])\n",
    "    L2 = self.get_L_set_in_plucker(L_set)\n",
    "    M = find_projectivity(L_set_base, L2) \n",
    "    return self.find_simmetry(M)\n",
    "\n",
    "Cubic.find_simmetries_and_projectivities_parallel = find_simmetries_and_projectivities_parallel\n",
    "Cubic.find_simmetries_and_projectivities_parallel_wrapper = find_simmetries_and_projectivities_parallel_wrapper\n",
    "Cubic.find_simmetry_and_projectivity = find_simmetry_and_projectivity"
   ]
  },
  {
   "cell_type": "code",
   "execution_count": 3,
   "metadata": {},
   "outputs": [],
   "source": [
    "P.<x,y,z,t,b,c,d,e,f,l,m> = PolynomialRing(QQ)\n",
    "cubic_new = e*f*(2*x^2*y-2*x*y^2+x*z^2-x*z*t-y*t^2+y*z*t)+b*c*(x-t)*(x*z+y*t)+c*c*(z+t)*(y*t-x*z)+d*c*(y-z)*(x*z+y*t)+(e+f)*c*(x-y)*(y*t-x*z)\n",
    "sing_cubics = (-1) * (-c + f) * (-c + e) * c * (c + f) * (c + e) * (-e + f)^2 * (-c*d + c*f + e*f) * (-c*d + c*e + e*f) * (-c^2 - c*d + e*f) * (b*c - c*f + e*f) * (b*c - c*e + e*f) * (b*c - c*d + 2*e*f) * (b*c - c^2 + e*f) * (b*c^2 + c^2*d + b*c*f - 2*c^2*f - c*d*f + 2*e*f^2) * (b*c^2 + c^2*d + b*c*e - 2*c^2*e - c*d*e + 2*e^2*f) * (-b*c^3 - 2*b*c^2*d + c^3*d + b*c^2*e + c^2*d*e + b*c^2*f + c^2*d*f + 3*b*c*e*f - 4*c^2*e*f - 3*c*d*e*f + 4*e^2*f^2)"
   ]
  },
  {
   "cell_type": "code",
   "execution_count": 4,
   "metadata": {},
   "outputs": [],
   "source": [
    "line = Line([y, z])\n",
    "general_cubic = Cubic(cubic_new, line, sing_cubics)\n",
    "SE1 = general_cubic.subs({b:-(c*c+e*f)/c})\n",
    "SE2 = SE1.subs({d:(c*c+e*f)/c})\n",
    "SE3 = SE1.subs({d:(3*e*f - c^2 + c*f + c*e)/(2*c)})\n",
    "SE4 = SE3.subs({f:c*(3*c-e)/(c+e)})\n",
    "SE6 = SE3.subs({f: -c*(5*c+e)/(c+e)})"
   ]
  },
  {
   "cell_type": "code",
   "execution_count": 5,
   "metadata": {},
   "outputs": [],
   "source": [
    "with open('all_L_sets.pickle', 'rb') as fil:\n",
    "    all_L_sets = pickle.load(fil)"
   ]
  },
  {
   "cell_type": "code",
   "execution_count": 6,
   "metadata": {},
   "outputs": [
    {
     "name": "stdout",
     "output_type": "stream",
     "text": [
      "CPU times: user 3.01 s, sys: 390 ms, total: 3.4 s\n",
      "Wall time: 1min 36s\n"
     ]
    },
    {
     "data": {
      "text/plain": [
       "[\n",
       "[1 0 0 0]\n",
       "[0 1 0 0]\n",
       "[0 0 1 0]\n",
       "[0 0 0 1]\n",
       "]"
      ]
     },
     "execution_count": 6,
     "metadata": {},
     "output_type": "execute_result"
    }
   ],
   "source": [
    "%time general_cubic.find_simmetries_and_projectivities_parallel(all_L_sets[0:260])"
   ]
  },
  {
   "cell_type": "code",
   "execution_count": 7,
   "metadata": {},
   "outputs": [
    {
     "name": "stdout",
     "output_type": "stream",
     "text": [
      "CPU times: user 2.22 s, sys: 297 ms, total: 2.52 s\n",
      "Wall time: 19.1 s\n"
     ]
    },
    {
     "data": {
      "text/plain": [
       "[\n",
       "[1 0 0 0]\n",
       "[0 1 0 0]\n",
       "[0 0 1 0]\n",
       "[0 0 0 1]\n",
       "]"
      ]
     },
     "execution_count": 7,
     "metadata": {},
     "output_type": "execute_result"
    }
   ],
   "source": [
    "%time SE1.find_simmetries_and_projectivities_parallel(all_L_sets[0:260])"
   ]
  },
  {
   "cell_type": "code",
   "execution_count": 8,
   "metadata": {},
   "outputs": [
    {
     "name": "stdout",
     "output_type": "stream",
     "text": [
      "CPU times: user 1.23 s, sys: 297 ms, total: 1.53 s\n",
      "Wall time: 11.4 s\n"
     ]
    },
    {
     "data": {
      "text/plain": [
       "[\n",
       "[1 0 0 0]\n",
       "[0 1 0 0]\n",
       "[0 0 1 0]\n",
       "[0 0 0 1]\n",
       "]"
      ]
     },
     "execution_count": 8,
     "metadata": {},
     "output_type": "execute_result"
    }
   ],
   "source": [
    "%time SE2.find_simmetries_and_projectivities_parallel(all_L_sets[0:260])"
   ]
  },
  {
   "cell_type": "code",
   "execution_count": 9,
   "metadata": {},
   "outputs": [
    {
     "name": "stdout",
     "output_type": "stream",
     "text": [
      "CPU times: user 1.39 s, sys: 250 ms, total: 1.64 s\n",
      "Wall time: 11.8 s\n"
     ]
    },
    {
     "data": {
      "text/plain": [
       "[\n",
       "[1 0 0 0]\n",
       "[0 1 0 0]\n",
       "[0 0 1 0]\n",
       "[0 0 0 1]\n",
       "]"
      ]
     },
     "execution_count": 9,
     "metadata": {},
     "output_type": "execute_result"
    }
   ],
   "source": [
    "%time SE3.find_simmetries_and_projectivities_parallel(all_L_sets[0:260])"
   ]
  },
  {
   "cell_type": "code",
   "execution_count": 10,
   "metadata": {},
   "outputs": [
    {
     "name": "stdout",
     "output_type": "stream",
     "text": [
      "CPU times: user 1.08 s, sys: 219 ms, total: 1.3 s\n",
      "Wall time: 10.8 s\n"
     ]
    },
    {
     "data": {
      "text/plain": [
       "[\n",
       "[1 0 0 0]\n",
       "[0 1 0 0]\n",
       "[0 0 1 0]\n",
       "[0 0 0 1]\n",
       "]"
      ]
     },
     "execution_count": 10,
     "metadata": {},
     "output_type": "execute_result"
    }
   ],
   "source": [
    "%time SE4.find_simmetries_and_projectivities_parallel(all_L_sets[0:260])"
   ]
  },
  {
   "cell_type": "code",
   "execution_count": 11,
   "metadata": {},
   "outputs": [
    {
     "name": "stdout",
     "output_type": "stream",
     "text": [
      "CPU times: user 1.16 s, sys: 296 ms, total: 1.45 s\n",
      "Wall time: 11 s\n"
     ]
    },
    {
     "data": {
      "text/plain": [
       "[\n",
       "[1 0 0 0]\n",
       "[0 1 0 0]\n",
       "[0 0 1 0]\n",
       "[0 0 0 1]\n",
       "]"
      ]
     },
     "execution_count": 11,
     "metadata": {},
     "output_type": "execute_result"
    }
   ],
   "source": [
    "%time SE6.find_simmetries_and_projectivities_parallel(all_L_sets[0:260])"
   ]
  },
  {
   "cell_type": "code",
   "execution_count": null,
   "metadata": {},
   "outputs": [],
   "source": []
  },
  {
   "cell_type": "code",
   "execution_count": null,
   "metadata": {},
   "outputs": [],
   "source": []
  },
  {
   "cell_type": "code",
   "execution_count": 12,
   "metadata": {},
   "outputs": [
    {
     "data": {
      "text/plain": [
       "x^4 - 4*x^2 + 64"
      ]
     },
     "execution_count": 12,
     "metadata": {},
     "output_type": "execute_result"
    }
   ],
   "source": [
    "(sqrt(3)*I - sqrt(5)).minpoly()"
   ]
  },
  {
   "cell_type": "code",
   "execution_count": 13,
   "metadata": {},
   "outputs": [],
   "source": [
    "alg_5 = 1/16*(sqrt(3)*I - sqrt(5))^3 - 3/4*(sqrt(3)*I - sqrt(5))"
   ]
  },
  {
   "cell_type": "code",
   "execution_count": 14,
   "metadata": {},
   "outputs": [
    {
     "data": {
      "text/plain": [
       "sqrt(5)"
      ]
     },
     "execution_count": 14,
     "metadata": {},
     "output_type": "execute_result"
    }
   ],
   "source": [
    "alg_5.expand()"
   ]
  },
  {
   "cell_type": "code",
   "execution_count": 15,
   "metadata": {},
   "outputs": [],
   "source": [
    "# sqrt(5) = 1/16*i_rad3_minus_rad5^3 - 3/4*i_rad3_minus_rad5"
   ]
  },
  {
   "cell_type": "code",
   "execution_count": 16,
   "metadata": {},
   "outputs": [],
   "source": [
    "alg_i = 1/16*(sqrt(3)*I - sqrt(5))^3 + 1/4*(sqrt(3)*I - sqrt(5))"
   ]
  },
  {
   "cell_type": "code",
   "execution_count": 17,
   "metadata": {},
   "outputs": [
    {
     "data": {
      "text/plain": [
       "I*sqrt(3)"
      ]
     },
     "execution_count": 17,
     "metadata": {},
     "output_type": "execute_result"
    }
   ],
   "source": [
    "alg_i.expand()"
   ]
  },
  {
   "cell_type": "code",
   "execution_count": 18,
   "metadata": {},
   "outputs": [],
   "source": [
    "# i sqrt(3) =  1/16*i_rad3_minus_rad5^3 + 1/4*i_rad3_minus_rad5"
   ]
  },
  {
   "cell_type": "code",
   "execution_count": 19,
   "metadata": {},
   "outputs": [],
   "source": [
    "xx = QQ['xx'].0"
   ]
  },
  {
   "cell_type": "code",
   "execution_count": 20,
   "metadata": {},
   "outputs": [],
   "source": [
    "Q.<i_rad3_minus_rad5> = NumberField(xx^4 - 4*xx^2 + 64)"
   ]
  },
  {
   "cell_type": "code",
   "execution_count": 21,
   "metadata": {},
   "outputs": [],
   "source": [
    "i_rad3 = 1/16*i_rad3_minus_rad5^3 + 1/4*i_rad3_minus_rad5\n",
    "rad5 = 1/16*i_rad3_minus_rad5^3 - 3/4*i_rad3_minus_rad5"
   ]
  },
  {
   "cell_type": "code",
   "execution_count": 22,
   "metadata": {},
   "outputs": [],
   "source": [
    "P.<x,y,z,t,b,c,d,e,f,l,m> = PolynomialRing(Q)\n",
    "cubic_new = e*f*(2*x^2*y-2*x*y^2+x*z^2-x*z*t-y*t^2+y*z*t)+b*c*(x-t)*(x*z+y*t)+c*c*(z+t)*(y*t-x*z)+d*c*(y-z)*(x*z+y*t)+(e+f)*c*(x-y)*(y*t-x*z)\n",
    "sing_cubics = (-1) * (-c + f) * (-c + e) * c * (c + f) * (c + e) * (-e + f)^2 * (-c*d + c*f + e*f) * (-c*d + c*e + e*f) * (-c^2 - c*d + e*f) * (b*c - c*f + e*f) * (b*c - c*e + e*f) * (b*c - c*d + 2*e*f) * (b*c - c^2 + e*f) * (b*c^2 + c^2*d + b*c*f - 2*c^2*f - c*d*f + 2*e*f^2) * (b*c^2 + c^2*d + b*c*e - 2*c^2*e - c*d*e + 2*e^2*f) * (-b*c^3 - 2*b*c^2*d + c^3*d + b*c^2*e + c^2*d*e + b*c^2*f + c^2*d*f + 3*b*c*e*f - 4*c^2*e*f - 3*c*d*e*f + 4*e^2*f^2)"
   ]
  },
  {
   "cell_type": "code",
   "execution_count": 24,
   "metadata": {},
   "outputs": [],
   "source": [
    "line = Line([y, z])\n",
    "general_cubic = Cubic(cubic_new, line, sing_cubics)\n",
    "SE9 = general_cubic.subs({b:-(c*c+e*f)/c, d:(3*e*f - c^2 + c*f + c*e)/(2*c)}).subs({e : i_rad3*c})\n",
    "SE10 = general_cubic.subs({b:-(c*c+e*f)/c, d:(3*e*f - c^2 + c*f + c*e)/(2*c)}).subs({f:c*(3*c-e)/(c+e)}).subs({e : (2-rad5)*c})\n",
    "SE18 = SE18 = general_cubic.subs({b:-(c*c+e*f)/c, d:(3*e*f - c^2 + c*f + c*e)/(2*c)}).subs({f:c*(3*c-e)/(c+e)}).subs({e : i_rad3*c})"
   ]
  },
  {
   "cell_type": "code",
   "execution_count": 28,
   "metadata": {},
   "outputs": [
    {
     "name": "stdout",
     "output_type": "stream",
     "text": [
      "CPU times: user 8.42 s, sys: 265 ms, total: 8.69 s\n",
      "Wall time: 21.5 s\n"
     ]
    },
    {
     "data": {
      "text/plain": [
       "[\n",
       "[1 0 0 0]\n",
       "[0 1 0 0]\n",
       "[0 0 1 0]\n",
       "[0 0 0 1]\n",
       "]"
      ]
     },
     "execution_count": 28,
     "metadata": {},
     "output_type": "execute_result"
    }
   ],
   "source": [
    "%time SE9.find_simmetries_and_projectivities_parallel(all_L_sets[0:260])"
   ]
  },
  {
   "cell_type": "code",
   "execution_count": 29,
   "metadata": {},
   "outputs": [
    {
     "name": "stdout",
     "output_type": "stream",
     "text": [
      "CPU times: user 5.88 s, sys: 281 ms, total: 6.16 s\n",
      "Wall time: 16.7 s\n"
     ]
    },
    {
     "data": {
      "text/plain": [
       "[\n",
       "[ 1  0  0  3]  [    (i_rad3_minus_rad5^3 - 12*i_rad3_minus_rad5 - 48)                                                     0                                                     0 (-5*i_rad3_minus_rad5^3 + 60*i_rad3_minus_rad5 + 240)]\n",
       "[-1  1  3 -1]  [   (-i_rad3_minus_rad5^3 + 12*i_rad3_minus_rad5 + 48)    (-i_rad3_minus_rad5^3 + 12*i_rad3_minus_rad5 + 48) (-3*i_rad3_minus_rad5^3 + 36*i_rad3_minus_rad5 + 144)  (3*i_rad3_minus_rad5^3 - 36*i_rad3_minus_rad5 - 144)]\n",
       "[ 1  1 -1  1]  [   (-i_rad3_minus_rad5^3 + 12*i_rad3_minus_rad5 + 48)    (-i_rad3_minus_rad5^3 + 12*i_rad3_minus_rad5 + 48)     (i_rad3_minus_rad5^3 - 12*i_rad3_minus_rad5 - 48)    (-i_rad3_minus_rad5^3 + 12*i_rad3_minus_rad5 + 48)]\n",
       "[ 1  0  0 -1], [    (i_rad3_minus_rad5^3 - 12*i_rad3_minus_rad5 - 48)                                                     0                                                     0    (-i_rad3_minus_rad5^3 + 12*i_rad3_minus_rad5 + 48)],\n",
       "\n",
       "[1 0 0 0]\n",
       "[0 1 0 0]\n",
       "[0 0 1 0]\n",
       "[0 0 0 1]\n",
       "]"
      ]
     },
     "execution_count": 29,
     "metadata": {},
     "output_type": "execute_result"
    }
   ],
   "source": [
    "%time SE10.find_simmetries_and_projectivities_parallel(all_L_sets[0:260])"
   ]
  },
  {
   "cell_type": "code",
   "execution_count": 30,
   "metadata": {},
   "outputs": [
    {
     "name": "stdout",
     "output_type": "stream",
     "text": [
      "CPU times: user 6.16 s, sys: 266 ms, total: 6.42 s\n",
      "Wall time: 16.8 s\n"
     ]
    },
    {
     "data": {
      "text/plain": [
       "[\n",
       "[-1  0  0 -5]  [   (i_rad3_minus_rad5^3 + 4*i_rad3_minus_rad5 + 16)                                                   0                                                   0   (i_rad3_minus_rad5^3 + 4*i_rad3_minus_rad5 - 112)]  [    (i_rad3_minus_rad5^3 + 4*i_rad3_minus_rad5 + 16)                                                    0                                                    0 (-3*i_rad3_minus_rad5^3 - 12*i_rad3_minus_rad5 + 80)]  [   (-i_rad3_minus_rad5^3 - 4*i_rad3_minus_rad5 + 16)                                                    0                                                    0 (-5*i_rad3_minus_rad5^3 - 20*i_rad3_minus_rad5 - 48)]  [    (i_rad3_minus_rad5^3 + 4*i_rad3_minus_rad5 - 16)                                                    0                                                    0    (i_rad3_minus_rad5^3 + 4*i_rad3_minus_rad5 - 144)]  [  (-i_rad3_minus_rad5^3 - 4*i_rad3_minus_rad5 - 16)                                                   0                                                   0 (3*i_rad3_minus_rad5^3 + 12*i_rad3_minus_rad5 + 48)]  [                                               32                                                 0                                                 0  (i_rad3_minus_rad5^3 + 4*i_rad3_minus_rad5 + 48)]  [(-i_rad3_minus_rad5^3 - 4*i_rad3_minus_rad5 + 16)                                                 0                                                 0    (-2*i_rad3_minus_rad5^3 - 8*i_rad3_minus_rad5)]\n",
       "[ 2  1 -3  2]  [(-2*i_rad3_minus_rad5^3 - 8*i_rad3_minus_rad5 - 32)                                                  32 (4*i_rad3_minus_rad5^3 + 16*i_rad3_minus_rad5 + 96) (-2*i_rad3_minus_rad5^3 - 8*i_rad3_minus_rad5 - 32)]  [ (-2*i_rad3_minus_rad5^3 - 8*i_rad3_minus_rad5 - 32)     (i_rad3_minus_rad5^3 + 4*i_rad3_minus_rad5 - 16)  (5*i_rad3_minus_rad5^3 + 20*i_rad3_minus_rad5 + 48)  (-2*i_rad3_minus_rad5^3 - 8*i_rad3_minus_rad5 - 32)]  [                                                   0     (i_rad3_minus_rad5^3 + 4*i_rad3_minus_rad5 + 16)  (5*i_rad3_minus_rad5^3 + 20*i_rad3_minus_rad5 - 48)                                                    0]  [                                                   0                                                   32 (-4*i_rad3_minus_rad5^3 - 16*i_rad3_minus_rad5 + 96)                                                    0]  [                                                  0   (-i_rad3_minus_rad5^3 - 4*i_rad3_minus_rad5 - 16) (3*i_rad3_minus_rad5^3 + 12*i_rad3_minus_rad5 + 48)                                                   0]  [                                                0 (-i_rad3_minus_rad5^3 - 4*i_rad3_minus_rad5 - 16) (-i_rad3_minus_rad5^3 - 4*i_rad3_minus_rad5 - 48)                                                 0]  [                                                0  (i_rad3_minus_rad5^3 + 4*i_rad3_minus_rad5 + 16)     (2*i_rad3_minus_rad5^3 + 8*i_rad3_minus_rad5)                                                 0]\n",
       "[ 0 -1 -1  0]  [                                                  0                                                 -32                                                 -32                                                   0]  [                                                   0    (-i_rad3_minus_rad5^3 - 4*i_rad3_minus_rad5 + 16)    (-i_rad3_minus_rad5^3 - 4*i_rad3_minus_rad5 + 16)                                                    0]  [                                                   0    (-i_rad3_minus_rad5^3 - 4*i_rad3_minus_rad5 - 16)    (-i_rad3_minus_rad5^3 - 4*i_rad3_minus_rad5 - 16)                                                    0]  [                                                   0                                                  -32                                                  -32                                                    0]  [                                                  0    (i_rad3_minus_rad5^3 + 4*i_rad3_minus_rad5 + 16)    (i_rad3_minus_rad5^3 + 4*i_rad3_minus_rad5 + 16)                                                   0]  [                                                0                                                 0                                                32                                                 0]  [                                                0                                                 0 (-i_rad3_minus_rad5^3 - 4*i_rad3_minus_rad5 + 16)                                                 0]\n",
       "[ 1  0  0  1], [  (-i_rad3_minus_rad5^3 - 4*i_rad3_minus_rad5 - 16)                                                   0                                                   0   (-i_rad3_minus_rad5^3 - 4*i_rad3_minus_rad5 - 16)], [   (-i_rad3_minus_rad5^3 - 4*i_rad3_minus_rad5 - 16)                                                    0                                                    0    (-i_rad3_minus_rad5^3 - 4*i_rad3_minus_rad5 - 16)], [    (i_rad3_minus_rad5^3 + 4*i_rad3_minus_rad5 - 16)                                                    0                                                    0     (i_rad3_minus_rad5^3 + 4*i_rad3_minus_rad5 - 16)], [   (-i_rad3_minus_rad5^3 - 4*i_rad3_minus_rad5 + 16)                                                    0                                                    0    (-i_rad3_minus_rad5^3 - 4*i_rad3_minus_rad5 + 16)], [   (i_rad3_minus_rad5^3 + 4*i_rad3_minus_rad5 + 16)                                                   0                                                   0    (i_rad3_minus_rad5^3 + 4*i_rad3_minus_rad5 + 16)], [                                                0                                                 0                                                 0 (-i_rad3_minus_rad5^3 - 4*i_rad3_minus_rad5 - 16)], [                                                0                                                 0                                                 0  (i_rad3_minus_rad5^3 + 4*i_rad3_minus_rad5 + 16)],\n",
       "\n",
       "[1 0 0 0]\n",
       "[0 1 0 0]\n",
       "[0 0 1 0]\n",
       "[0 0 0 1]\n",
       "]"
      ]
     },
     "execution_count": 30,
     "metadata": {},
     "output_type": "execute_result"
    }
   ],
   "source": [
    "%time SE18.find_simmetries_and_projectivities_parallel(all_L_sets[0:260])"
   ]
  },
  {
   "cell_type": "code",
   "execution_count": null,
   "metadata": {
    "scrolled": false
   },
   "outputs": [],
   "source": [
    "#[[pl.labels, pl.conditions] for pl in general_cubic.tritangent_planes]"
   ]
  },
  {
   "cell_type": "code",
   "execution_count": null,
   "metadata": {},
   "outputs": [],
   "source": [
    "#[pl.conditions for pl in general_cubic.tritangent_planes if pl.labels == ['E1', 'G4', 'F14']]"
   ]
  }
 ],
 "metadata": {
  "kernelspec": {
   "display_name": "SageMath 9.3",
   "language": "sage",
   "name": "sagemath"
  },
  "language_info": {
   "codemirror_mode": {
    "name": "ipython",
    "version": 3
   },
   "file_extension": ".py",
   "mimetype": "text/x-python",
   "name": "python",
   "nbconvert_exporter": "python",
   "pygments_lexer": "ipython3",
   "version": "3.7.10"
  }
 },
 "nbformat": 4,
 "nbformat_minor": 5
}
