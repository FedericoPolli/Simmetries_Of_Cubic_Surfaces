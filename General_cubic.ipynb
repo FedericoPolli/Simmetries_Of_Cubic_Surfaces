{
 "cells": [
  {
   "cell_type": "code",
   "execution_count": 1,
   "id": "22714bf4-d6b0-482c-a96f-1be66c8d9cd0",
   "metadata": {},
   "outputs": [],
   "source": [
    "load('Imports/Utility.sage', 'Imports/Point.sage', 'Imports/Line.sage', 'Imports/Tritangent_plane.sage', 'Imports/Group.sage', 'Imports/Cubic.sage')\n",
    "import multiprocessing as mp\n",
    "import pickle"
   ]
  },
  {
   "cell_type": "code",
   "execution_count": 2,
   "id": "c716bfe3",
   "metadata": {},
   "outputs": [],
   "source": [
    "P.<x,y,z,t,b,c,d,e,f,l,m> = PolynomialRing(QQ)"
   ]
  },
  {
   "cell_type": "code",
   "execution_count": 3,
   "id": "297a6fbf",
   "metadata": {},
   "outputs": [],
   "source": [
    "cubic_new = e*f*(2*x^2*y-2*x*y^2+x*z^2-x*z*t-y*t^2+y*z*t)+b*c*(x-t)*(x*z+y*t)+c*c*(z+t)*(y*t-x*z)+d*c*(y-z)*(x*z+y*t)+(e+f)*c*(x-y)*(y*t-x*z)"
   ]
  },
  {
   "cell_type": "code",
   "execution_count": 4,
   "id": "3ba0c3ee",
   "metadata": {},
   "outputs": [],
   "source": [
    "sing_cubics = (-1) * (-c + f) * (-c + e) * c * (c + f) * (c + e) * (-e + f)^2 * (-c*d + c*f + e*f) * (-c*d + c*e + e*f) * (-c^2 - c*d + e*f) * (b*c - c*f + e*f) * (b*c - c*e + e*f) * (b*c - c*d + 2*e*f) * (b*c - c^2 + e*f) * (b*c^2 + c^2*d + b*c*f - 2*c^2*f - c*d*f + 2*e*f^2) * (b*c^2 + c^2*d + b*c*e - 2*c^2*e - c*d*e + 2*e^2*f) * (-b*c^3 - 2*b*c^2*d + c^3*d + b*c^2*e + c^2*d*e + b*c^2*f + c^2*d*f + 3*b*c*e*f - 4*c^2*e*f - 3*c*d*e*f + 4*e^2*f^2)"
   ]
  },
  {
   "cell_type": "code",
   "execution_count": 5,
   "id": "ebd4af0d",
   "metadata": {},
   "outputs": [],
   "source": [
    "line = Line([y, z])"
   ]
  },
  {
   "cell_type": "code",
   "execution_count": 6,
   "id": "5b7c57c7-426c-4dba-ba46-dbdbe2d10535",
   "metadata": {},
   "outputs": [],
   "source": [
    "general_cubic = Cubic(cubic_new, line, sing_cubics)"
   ]
  },
  {
   "cell_type": "code",
   "execution_count": 7,
   "id": "797864b0-38b8-4d02-9b7b-921da0f681af",
   "metadata": {},
   "outputs": [],
   "source": [
    "SE1 = general_cubic.subs({b:-(c*c+e*f)/c})"
   ]
  },
  {
   "cell_type": "code",
   "execution_count": 8,
   "id": "173e714c-b8b4-48d7-a4e8-39ab9befd042",
   "metadata": {},
   "outputs": [],
   "source": [
    "SE2 = SE1.subs({d:(c*c+e*f)/c})"
   ]
  },
  {
   "cell_type": "code",
   "execution_count": 9,
   "id": "b5aa177e-6b22-459a-9fce-f6a8e85bc737",
   "metadata": {},
   "outputs": [],
   "source": [
    "SE3 = SE1.subs({d:(3*e*f - c^2 + c*f + c*e)/(2*c)})"
   ]
  },
  {
   "cell_type": "code",
   "execution_count": 10,
   "id": "b1553129-87f0-465d-ac1a-08f034a6cb47",
   "metadata": {},
   "outputs": [],
   "source": [
    "SE4 = SE3.subs({f:c*(3*c-e)/(c+e)})"
   ]
  },
  {
   "cell_type": "code",
   "execution_count": 11,
   "id": "76873854-dee3-4140-9b2e-44ff1ee1eb10",
   "metadata": {},
   "outputs": [],
   "source": [
    "SE6 = SE3.subs({f: -c*(5*c+e)/(c+e)})"
   ]
  },
  {
   "cell_type": "code",
   "execution_count": null,
   "id": "ed021d49-8e52-4fc4-9339-821eaf1e1dcd",
   "metadata": {},
   "outputs": [],
   "source": []
  }
 ],
 "metadata": {
  "kernelspec": {
   "display_name": "SageMath 9.3",
   "language": "sage",
   "name": "sagemath"
  },
  "language_info": {
   "codemirror_mode": {
    "name": "ipython",
    "version": 3
   },
   "file_extension": ".py",
   "mimetype": "text/x-python",
   "name": "python",
   "nbconvert_exporter": "python",
   "pygments_lexer": "ipython3",
   "version": "3.7.10"
  }
 },
 "nbformat": 4,
 "nbformat_minor": 5
}
