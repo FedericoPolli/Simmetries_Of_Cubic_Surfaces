{
 "cells": [
  {
   "cell_type": "code",
   "execution_count": 1,
   "id": "18b3f753",
   "metadata": {},
   "outputs": [],
   "source": [
    "load('Imports/Utility.sage', 'Imports/Point.sage', 'Imports/Line.sage', 'Imports/TritangentPlane.sage', 'Imports/Group.sage', 'Imports/Cubic.sage')\n",
    "import multiprocessing as mp\n",
    "import pickle"
   ]
  },
  {
   "cell_type": "code",
   "execution_count": 2,
   "id": "664c8e06",
   "metadata": {},
   "outputs": [],
   "source": [
    "P.<x,y,z,t,b,c,d,e,f,l,m> = PolynomialRing(QQ)"
   ]
  },
  {
   "cell_type": "code",
   "execution_count": 3,
   "id": "3e3cbef6",
   "metadata": {},
   "outputs": [],
   "source": [
    "cubic_new = e*f*(2*x^2*y-2*x*y^2+x*z^2-x*z*t-y*t^2+y*z*t)+b*c*(x-t)*(x*z+y*t)+c*c*(z+t)*(y*t-x*z)+d*c*(y-z)*(x*z+y*t)+(e+f)*c*(x-y)*(y*t-x*z)"
   ]
  },
  {
   "cell_type": "code",
   "execution_count": 4,
   "id": "28c876d1",
   "metadata": {},
   "outputs": [],
   "source": [
    "sing_cubics = (-1) * (-c + f) * (-c + e) * c * (c + f) * (c + e) * (-e + f)^2 * (-c*d + c*f + e*f) * (-c*d + c*e + e*f) * (-c^2 - c*d + e*f) * (b*c - c*f + e*f) * (b*c - c*e + e*f) * (b*c - c*d + 2*e*f) * (b*c - c^2 + e*f) * (b*c^2 + c^2*d + b*c*f - 2*c^2*f - c*d*f + 2*e*f^2) * (b*c^2 + c^2*d + b*c*e - 2*c^2*e - c*d*e + 2*e^2*f) * (-b*c^3 - 2*b*c^2*d + c^3*d + b*c^2*e + c^2*d*e + b*c^2*f + c^2*d*f + 3*b*c*e*f - 4*c^2*e*f - 3*c*d*e*f + 4*e^2*f^2)"
   ]
  },
  {
   "cell_type": "code",
   "execution_count": 5,
   "id": "a710f011",
   "metadata": {},
   "outputs": [],
   "source": [
    "line = Line([y, z])"
   ]
  },
  {
   "cell_type": "code",
   "execution_count": 6,
   "id": "6191ebf8",
   "metadata": {},
   "outputs": [],
   "source": [
    "general_cubic = Cubic(cubic_new, line, sing_cubics)"
   ]
  },
  {
   "cell_type": "code",
   "execution_count": 7,
   "id": "c2d4aadb",
   "metadata": {},
   "outputs": [
    {
     "data": {
      "text/plain": [
       "[[['E1', 'G2', 'F12'],\n",
       "  b^2*c^4 + 2*b*c^4*d + 2*b*c^3*d^2 - c^4*d^2 + b^2*c^3*e - 2*b*c^4*e - 2*b*c^3*d*e - c^3*d^2*e + b^2*c^3*f - 2*b*c^4*f - 2*b*c^3*d*f - c^3*d^2*f + b^2*c^2*e*f - 2*b*c^3*e*f + 2*c^4*e*f - 6*b*c^2*d*e*f + 8*c^3*d*e*f + 3*c^2*d^2*e*f + 4*b*c^2*e^2*f - 2*c^3*e^2*f + 4*b*c^2*e*f^2 - 2*c^3*e*f^2 + 6*b*c*e^2*f^2 - 8*c^2*e^2*f^2 - 8*c*d*e^2*f^2 + 2*c*e^3*f^2 + 2*c*e^2*f^3 + 6*e^3*f^3],\n",
       " [['E1', 'G3', 'F13'], 2*b*c - c^2 - c*e - c*f + 3*e*f],\n",
       " [['E1', 'G4', 'F14'], b*c + c^2 + e*f],\n",
       " [['E1', 'G5', 'F15'], b*c^2 + b*c*e - 2*c^2*e + c^2*f + e^2*f],\n",
       " [['E1', 'G6', 'F16'], b*c^2 + c^2*e + b*c*f - 2*c^2*f + e*f^2],\n",
       " [['E2', 'G1', 'F12'],\n",
       "  b^2*c^4 + 2*b^2*c^3*d - 2*b*c^4*d - c^4*d^2 - b^2*c^3*e - 2*b*c^3*d*e + 2*c^4*d*e + c^3*d^2*e - b^2*c^3*f - 2*b*c^3*d*f + 2*c^4*d*f + c^3*d^2*f - 3*b^2*c^2*e*f + 8*b*c^3*e*f - 2*c^4*e*f + 6*b*c^2*d*e*f - 2*c^3*d*e*f - c^2*d^2*e*f - 2*c^3*e^2*f - 4*c^2*d*e^2*f - 2*c^3*e*f^2 - 4*c^2*d*e*f^2 - 8*b*c*e^2*f^2 + 8*c^2*e^2*f^2 + 6*c*d*e^2*f^2 + 2*c*e^3*f^2 + 2*c*e^2*f^3 - 6*e^3*f^3],\n",
       " [['E2', 'G3', 'F23'], c^2 + 2*c*d - c*e - c*f - 3*e*f],\n",
       " [['E2', 'G4', 'F24'], c^2 - c*d + e*f],\n",
       " [['E2', 'G5', 'F25'], c^2*d - 2*c^2*e - c*d*e + c^2*f + e^2*f],\n",
       " [['E2', 'G6', 'F26'], c^2*d + c^2*e - 2*c^2*f - c*d*f + e*f^2],\n",
       " [['E3', 'G1', 'F13'],\n",
       "  2*b^2*c - b*c^2 + c^2*d - b*c*e - c*d*e - b*c*f - c*d*f + 3*b*e*f + d*e*f],\n",
       " [['E3', 'G2', 'F23'],\n",
       "  b*c^2 - c^2*d - 2*c*d^2 + b*c*e + c*d*e + b*c*f + c*d*f + b*e*f + 3*d*e*f],\n",
       " [['E3', 'G4', 'F34'], b*c - 2*c^2 - c*d + 2*e*f],\n",
       " [['E3', 'G5', 'F35'], b*c^2 + c^2*d + b*c*e - c*d*e - 2*c^2*f + 2*e^2*f],\n",
       " [['E3', 'G6', 'F36'], b*c^2 + c^2*d - 2*c^2*e + b*c*f - c*d*f + 2*e*f^2],\n",
       " [['E4', 'G1', 'F14'],\n",
       "  b^2*c^4 + b*c^5 + 3*b*c^4*d - c^5*d + b^2*c^3*e - 3*b*c^4*e - b*c^3*d*e - c^4*d*e + b^2*c^3*f - 3*b*c^4*f - b*c^3*d*f - c^4*d*f + b^2*c^2*e*f - 4*b*c^3*e*f + 6*c^4*e*f - b*c^2*d*e*f + 6*c^3*d*e*f + 3*b*c^2*e^2*f - 2*c^3*e^2*f - c^2*d*e^2*f + 3*b*c^2*e*f^2 - 2*c^3*e*f^2 - c^2*d*e*f^2 + 3*b*c*e^2*f^2 - 8*c^2*e^2*f^2 - c*d*e^2*f^2 + 2*c*e^3*f^2 + 2*c*e^2*f^3 + 2*e^3*f^3],\n",
       " [['E4', 'G2', 'F24'],\n",
       "  b*c^5 + 3*b*c^4*d - c^5*d + c^4*d^2 - b*c^4*e + b*c^3*d*e - 3*c^4*d*e - c^3*d^2*e - b*c^4*f + b*c^3*d*f - 3*c^4*d*f - c^3*d^2*f - 6*b*c^3*e*f + 6*c^4*e*f - b*c^2*d*e*f + 4*c^3*d*e*f + c^2*d^2*e*f - b*c^2*e^2*f + 2*c^3*e^2*f + 3*c^2*d*e^2*f - b*c^2*e*f^2 + 2*c^3*e*f^2 + 3*c^2*d*e*f^2 + b*c*e^2*f^2 - 8*c^2*e^2*f^2 - 3*c*d*e^2*f^2 - 2*c*e^3*f^2 - 2*c*e^2*f^3 + 2*e^3*f^3],\n",
       " [['E4', 'G3', 'F34'],\n",
       "  b*c^3 - 2*c^4 - c^3*d + b*c^2*e + c^2*d*e + b*c^2*f + c^2*d*f + b*c*e*f - c*d*e*f + 2*e^2*f^2],\n",
       " [['E4', 'G5', 'F45'],\n",
       "  b*c^4 + c^4*d - b*c^3*e - 2*b*c^2*d*e + c^3*d*e + 2*b*c^3*f - 2*c^4*f + 2*b*c^2*d*f - 2*c^3*d*f + 2*b*c*e^2*f - 2*c^2*e^2*f - 2*c*d*e^2*f - b*c^2*f^2 - c^2*d*f^2 - 3*b*c*e*f^2 + 6*c^2*e*f^2 + 3*c*d*e*f^2 + 2*e^3*f^2 - 4*e^2*f^3],\n",
       " [['E4', 'G6', 'F46'],\n",
       "  b*c^4 + c^4*d + 2*b*c^3*e - 2*c^4*e + 2*b*c^2*d*e - 2*c^3*d*e - b*c^2*e^2 - c^2*d*e^2 - b*c^3*f - 2*b*c^2*d*f + c^3*d*f - 3*b*c*e^2*f + 6*c^2*e^2*f + 3*c*d*e^2*f + 2*b*c*e*f^2 - 2*c^2*e*f^2 - 2*c*d*e*f^2 - 4*e^3*f^2 + 2*e^2*f^3],\n",
       " [['E5', 'G1', 'F15'],\n",
       "  b^2*c^4 + b*c^4*d - b^2*c^3*e + b*c^3*d*e - 2*c^4*d*e + b^2*c^3*f - 3*b*c^4*f - 3*b*c^3*d*f + c^4*d*f - b^2*c^2*e*f + 2*b*c^3*e*f + 2*c^4*e*f + b*c^2*d*e*f + 2*c^3*d*e*f - 3*b*c^2*e^2*f + 2*c^3*e^2*f + c^2*d*e^2*f + b*c^3*f^2 + c^3*d*f^2 + 6*b*c^2*e*f^2 - 6*c^3*e*f^2 - 4*c^2*d*e*f^2 - 3*b*c*e^2*f^2 + c*d*e^2*f^2 - 2*c*e^3*f^2 + 6*c*e^2*f^3 - 2*e^3*f^3],\n",
       " [['E5', 'G2', 'F25'],\n",
       "  b*c^4*d + c^4*d^2 - 2*b*c^4*e - b*c^3*d*e + c^3*d^2*e + b*c^4*f + 3*b*c^3*d*f - 3*c^4*d*f - c^3*d^2*f - 2*b*c^3*e*f + 2*c^4*e*f + b*c^2*d*e*f - 2*c^3*d*e*f - c^2*d^2*e*f + b*c^2*e^2*f - 2*c^3*e^2*f - 3*c^2*d*e^2*f - b*c^3*f^2 - c^3*d*f^2 - 4*b*c^2*e*f^2 + 6*c^3*e*f^2 + 6*c^2*d*e*f^2 - b*c*e^2*f^2 + 3*c*d*e^2*f^2 + 2*c*e^3*f^2 - 6*c*e^2*f^3 - 2*e^3*f^3],\n",
       " [['E5', 'G3', 'F35'],\n",
       "  b*c^3 - c^3*d - b*c^2*e - c^2*d*e + b*c^2*f + c^2*d*f - b*c*e*f + 4*c^2*e*f + c*d*e*f - 2*c^2*f^2 - 2*e^2*f^2],\n",
       " [['E5', 'G4', 'F45'],\n",
       "  -b*c^3 - 2*b*c^2*d + c^3*d + 2*b*c^2*f + 2*c^2*d*f + 2*b*c*e*f - 2*c^2*e*f - 2*c*d*e*f + b*c*f^2 - 2*c^2*f^2 - c*d*f^2 + 2*e^2*f^2 + 2*e*f^3],\n",
       " [['E5', 'G6', 'F56'],\n",
       "  2*b*c^2*d - b*c^2*e - c^2*d*e - b*c^2*f - c^2*d*f - 3*b*c*e*f + 2*c^2*e*f + 3*c*d*e*f + b*c*f^2 - c*d*f^2 - 4*e^2*f^2 + 2*e*f^3],\n",
       " [['E6', 'G1', 'F16'],\n",
       "  b^2*c^4 + b*c^4*d + b^2*c^3*e - 3*b*c^4*e - 3*b*c^3*d*e + c^4*d*e + b*c^3*e^2 + c^3*d*e^2 - b^2*c^3*f + b*c^3*d*f - 2*c^4*d*f - b^2*c^2*e*f + 2*b*c^3*e*f + 2*c^4*e*f + b*c^2*d*e*f + 2*c^3*d*e*f + 6*b*c^2*e^2*f - 6*c^3*e^2*f - 4*c^2*d*e^2*f - 3*b*c^2*e*f^2 + 2*c^3*e*f^2 + c^2*d*e*f^2 - 3*b*c*e^2*f^2 + c*d*e^2*f^2 + 6*c*e^3*f^2 - 2*c*e^2*f^3 - 2*e^3*f^3],\n",
       " [['E6', 'G2', 'F26'],\n",
       "  b*c^4*d + c^4*d^2 + b*c^4*e + 3*b*c^3*d*e - 3*c^4*d*e - c^3*d^2*e - b*c^3*e^2 - c^3*d*e^2 - 2*b*c^4*f - b*c^3*d*f + c^3*d^2*f - 2*b*c^3*e*f + 2*c^4*e*f + b*c^2*d*e*f - 2*c^3*d*e*f - c^2*d^2*e*f - 4*b*c^2*e^2*f + 6*c^3*e^2*f + 6*c^2*d*e^2*f + b*c^2*e*f^2 - 2*c^3*e*f^2 - 3*c^2*d*e*f^2 - b*c*e^2*f^2 + 3*c*d*e^2*f^2 - 6*c*e^3*f^2 + 2*c*e^2*f^3 - 2*e^3*f^3],\n",
       " [['E6', 'G3', 'F36'],\n",
       "  b*c^3 - c^3*d + b*c^2*e + c^2*d*e - 2*c^2*e^2 - b*c^2*f - c^2*d*f - b*c*e*f + 4*c^2*e*f + c*d*e*f - 2*e^2*f^2],\n",
       " [['E6', 'G4', 'F46'],\n",
       "  -b*c^3 - 2*b*c^2*d + c^3*d + 2*b*c^2*e + 2*c^2*d*e + b*c*e^2 - 2*c^2*e^2 - c*d*e^2 + 2*b*c*e*f - 2*c^2*e*f - 2*c*d*e*f + 2*e^3*f + 2*e^2*f^2],\n",
       " [['E6', 'G5', 'F56'],\n",
       "  2*b*c^2*d - b*c^2*e - c^2*d*e + b*c*e^2 - c*d*e^2 - b*c^2*f - c^2*d*f - 3*b*c*e*f + 2*c^2*e*f + 3*c*d*e*f + 2*e^3*f - 4*e^2*f^2],\n",
       " [['F12', 'F34', 'F56'],\n",
       "  b^2*c^4 + b^2*c^3*d - b*c^3*d^2 + c^4*d^2 - b*c^4*e - c^4*d*e - b*c^4*f - c^4*d*f - b^2*c^2*e*f + b*c^3*e*f + 2*c^4*e*f + 4*b*c^2*d*e*f - c^3*d*e*f - c^2*d^2*e*f - 3*b*c*e^2*f^2 + 3*c*d*e^2*f^2 - 2*e^3*f^3],\n",
       " [['F12', 'F35', 'F46'],\n",
       "  b^2*c^4*d + b*c^4*d^2 - b*c^5*e + b^2*c^3*d*e - 4*b*c^4*d*e + c^5*d*e - b*c^3*d^2*e + b*c^4*e^2 + c^4*d*e^2 - b^2*c^4*f + b*c^5*f - c^5*d*f - c^4*d^2*f - 2*b^2*c^3*e*f + 2*b*c^4*e*f + 2*c^4*d*e*f + 2*c^3*d^2*e*f - b^2*c^2*e^2*f + 5*b*c^3*e^2*f - 4*c^4*e^2*f + 4*b*c^2*d*e^2*f - 5*c^3*d*e^2*f - c^2*d^2*e^2*f - 2*b*c^3*e*f^2 + 2*c^4*e*f^2 + 2*c^3*d*e*f^2 - 3*b*c^2*e^2*f^2 - 3*c^2*d*e^2*f^2 - 3*b*c*e^3*f^2 + 6*c^2*e^3*f^2 + 3*c*d*e^3*f^2 - 2*c^2*e^2*f^3 - 2*e^4*f^3],\n",
       " [['F12', 'F36', 'F45'],\n",
       "  b^2*c^4*d + b*c^4*d^2 - b^2*c^4*e + b*c^5*e - c^5*d*e - c^4*d^2*e - b*c^5*f + b^2*c^3*d*f - 4*b*c^4*d*f + c^5*d*f - b*c^3*d^2*f - 2*b^2*c^3*e*f + 2*b*c^4*e*f + 2*c^4*d*e*f + 2*c^3*d^2*e*f - 2*b*c^3*e^2*f + 2*c^4*e^2*f + 2*c^3*d*e^2*f + b*c^4*f^2 + c^4*d*f^2 - b^2*c^2*e*f^2 + 5*b*c^3*e*f^2 - 4*c^4*e*f^2 + 4*b*c^2*d*e*f^2 - 5*c^3*d*e*f^2 - c^2*d^2*e*f^2 - 3*b*c^2*e^2*f^2 - 3*c^2*d*e^2*f^2 - 2*c^2*e^3*f^2 - 3*b*c*e^2*f^3 + 6*c^2*e^2*f^3 + 3*c*d*e^2*f^3 - 2*e^3*f^4],\n",
       " [['F13', 'F24', 'F56'],\n",
       "  b*c^3 + b*c^2*d - c^3*d - b*c^2*e - b*c^2*f - b*c*e*f + 3*c^2*e*f + c*d*e*f - c*e^2*f - c*e*f^2 - e^2*f^2],\n",
       " [['F13', 'F25', 'F46'],\n",
       "  b*c^4 + b*c^3*d - c^4*e - b*c^2*d*e + b*c^2*e^2 - c^3*e^2 - b*c^3*f - c^3*d*f - 2*b*c^2*e*f + 3*c^3*e*f + 2*c^2*d*e*f + b*c*e^2*f - c*d*e^2*f + c*e^3*f - 3*c*e^2*f^2 + e^3*f^2],\n",
       " [['F13', 'F26', 'F45'],\n",
       "  b*c^4 + b*c^3*d - b*c^3*e - c^3*d*e - c^4*f - b*c^2*d*f - 2*b*c^2*e*f + 3*c^3*e*f + 2*c^2*d*e*f + b*c^2*f^2 - c^3*f^2 + b*c*e*f^2 - c*d*e*f^2 - 3*c*e^2*f^2 + c*e*f^3 + e^2*f^3],\n",
       " [['F14', 'F23', 'F56'],\n",
       "  b*c^3 + b*c^2*d - c^3*d - c^2*d*e - c^2*d*f - b*c*e*f + 3*c^2*e*f + c*d*e*f + c*e^2*f + c*e*f^2 - e^2*f^2],\n",
       " [['F14', 'F25', 'F36'],\n",
       "  b*c^2 + b*c*e - c^2*e - c*d*e + c*d*f + 2*e^2*f - e*f^2],\n",
       " [['F14', 'F26', 'F35'],\n",
       "  b*c^2 + c*d*e + b*c*f - c^2*f - c*d*f - e^2*f + 2*e*f^2],\n",
       " [['F15', 'F23', 'F46'],\n",
       "  b*c^3*d - c^4*d + c^4*e + b*c^2*d*e - c^3*e^2 - c^2*d*e^2 - b*c^3*f - c^3*d*f - 2*b*c^2*e*f + 3*c^3*e*f + 2*c^2*d*e*f - b*c*e^2*f + c*d*e^2*f + c*e^3*f - 3*c*e^2*f^2 - e^3*f^2],\n",
       " [['F15', 'F24', 'F36'],\n",
       "  c^2*d + b*c*e - c^2*e - c*d*e - b*c*f + 2*e^2*f - e*f^2],\n",
       " [['F15', 'F26', 'F34'],\n",
       "  b*c^2 + c^2*d - c^2*e - c*d*e + b*c*f - c^2*f + e^2*f + e*f^2],\n",
       " [['F16', 'F23', 'F45'],\n",
       "  b*c^3*d - c^4*d - b*c^3*e - c^3*d*e + c^4*f + b*c^2*d*f - 2*b*c^2*e*f + 3*c^3*e*f + 2*c^2*d*e*f - c^3*f^2 - c^2*d*f^2 - b*c*e*f^2 + c*d*e*f^2 - 3*c*e^2*f^2 + c*e*f^3 - e^2*f^3],\n",
       " [['F16', 'F24', 'F35'],\n",
       "  c^2*d - b*c*e + b*c*f - c^2*f - c*d*f - e^2*f + 2*e*f^2],\n",
       " [['F16', 'F25', 'F34'],\n",
       "  b*c^2 + c^2*d + b*c*e - c^2*e - c^2*f - c*d*f + e^2*f + e*f^2]]"
      ]
     },
     "execution_count": 7,
     "metadata": {},
     "output_type": "execute_result"
    }
   ],
   "source": [
    "[[pl.labels, pl.conditions] for pl in general_cubic.tritangent_planes]"
   ]
  },
  {
   "cell_type": "code",
   "execution_count": 9,
   "id": "a5170f8d",
   "metadata": {},
   "outputs": [
    {
     "data": {
      "text/plain": [
       "[b*c + c^2 + e*f]"
      ]
     },
     "execution_count": 9,
     "metadata": {},
     "output_type": "execute_result"
    }
   ],
   "source": [
    "[pl.conditions for pl in general_cubic.tritangent_planes if pl.labels == ['E1', 'G4', 'F14']]"
   ]
  },
  {
   "cell_type": "code",
   "execution_count": null,
   "id": "16b73efc",
   "metadata": {},
   "outputs": [],
   "source": []
  },
  {
   "cell_type": "code",
   "execution_count": 7,
   "id": "508cb543",
   "metadata": {},
   "outputs": [],
   "source": [
    "SE1 = general_cubic.subs({b:-(c*c+e*f)/c})"
   ]
  },
  {
   "cell_type": "code",
   "execution_count": 8,
   "id": "db29029e",
   "metadata": {},
   "outputs": [],
   "source": [
    "SE2 = SE1.subs({d:(c*c+e*f)/c})"
   ]
  },
  {
   "cell_type": "code",
   "execution_count": 9,
   "id": "2ef79669",
   "metadata": {},
   "outputs": [],
   "source": [
    "SE3 = SE1.subs({d:(3*e*f - c^2 + c*f + c*e)/(2*c)})"
   ]
  },
  {
   "cell_type": "code",
   "execution_count": 10,
   "id": "34a4de49",
   "metadata": {},
   "outputs": [],
   "source": [
    "SE4 = SE3.subs({f:c*(3*c-e)/(c+e)})"
   ]
  },
  {
   "cell_type": "code",
   "execution_count": 11,
   "id": "47e543de",
   "metadata": {},
   "outputs": [],
   "source": [
    "SE6 = SE3.subs({f: -c*(5*c+e)/(c+e)})"
   ]
  },
  {
   "cell_type": "code",
   "execution_count": null,
   "id": "9e47659f",
   "metadata": {},
   "outputs": [],
   "source": []
  }
 ],
 "metadata": {
  "kernelspec": {
   "display_name": "SageMath 9.4",
   "language": "sage",
   "name": "sagemath"
  },
  "language_info": {
   "codemirror_mode": {
    "name": "ipython",
    "version": 3
   },
   "file_extension": ".py",
   "mimetype": "text/x-python",
   "name": "python",
   "nbconvert_exporter": "python",
   "pygments_lexer": "ipython3",
   "version": "3.7.12"
  }
 },
 "nbformat": 4,
 "nbformat_minor": 5
}
