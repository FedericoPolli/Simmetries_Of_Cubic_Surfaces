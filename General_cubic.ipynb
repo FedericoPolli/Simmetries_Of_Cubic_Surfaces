{
 "cells": [
  {
   "cell_type": "code",
   "execution_count": 1,
   "id": "22714bf4-d6b0-482c-a96f-1be66c8d9cd0",
   "metadata": {},
   "outputs": [],
   "source": [
    "load('Imports/Utility.sage', 'Imports/Point.sage', 'Imports/Line.sage', 'Imports/TritangentPlane.sage', 'Imports/Group.sage', 'Imports/Cubic.sage')\n",
    "import multiprocessing as mp\n",
    "import pickle"
   ]
  },
  {
   "cell_type": "code",
   "execution_count": 2,
   "id": "c716bfe3",
   "metadata": {},
   "outputs": [],
   "source": [
    "P.<x,y,z,t,b,c,d,e,f,l,m> = PolynomialRing(QQ)"
   ]
  },
  {
   "cell_type": "code",
   "execution_count": 3,
   "id": "297a6fbf",
   "metadata": {},
   "outputs": [],
   "source": [
    "cubic_new = e*f*(2*x^2*y-2*x*y^2+x*z^2-x*z*t-y*t^2+y*z*t)+b*c*(x-t)*(x*z+y*t)+c*c*(z+t)*(y*t-x*z)+d*c*(y-z)*(x*z+y*t)+(e+f)*c*(x-y)*(y*t-x*z)"
   ]
  },
  {
   "cell_type": "code",
   "execution_count": 4,
   "id": "3ba0c3ee",
   "metadata": {},
   "outputs": [],
   "source": [
    "sing_cubics = (-1) * (-c + f) * (-c + e) * c * (c + f) * (c + e) * (-e + f)^2 * (-c*d + c*f + e*f) * (-c*d + c*e + e*f) * (-c^2 - c*d + e*f) * (b*c - c*f + e*f) * (b*c - c*e + e*f) * (b*c - c*d + 2*e*f) * (b*c - c^2 + e*f) * (b*c^2 + c^2*d + b*c*f - 2*c^2*f - c*d*f + 2*e*f^2) * (b*c^2 + c^2*d + b*c*e - 2*c^2*e - c*d*e + 2*e^2*f) * (-b*c^3 - 2*b*c^2*d + c^3*d + b*c^2*e + c^2*d*e + b*c^2*f + c^2*d*f + 3*b*c*e*f - 4*c^2*e*f - 3*c*d*e*f + 4*e^2*f^2)"
   ]
  },
  {
   "cell_type": "code",
   "execution_count": 6,
   "id": "b1310aab-4c55-43ba-beb9-68c3edde096a",
   "metadata": {},
   "outputs": [
    {
     "data": {
      "text/plain": [
       "\\left(-1\\right) \\cdot (-c + f) \\cdot (-c + e) \\cdot c \\cdot (c + f) \\cdot (c + e) \\cdot (-e + f)^{2} \\cdot (-c d + c f + e f) \\cdot (-c d + c e + e f) \\cdot (-c^{2} - c d + e f) \\cdot (b c - c f + e f) \\cdot (b c - c e + e f) \\cdot (b c - c d + 2 e f) \\cdot (b c - c^{2} + e f) \\cdot (b c^{2} + c^{2} d + b c f - 2 c^{2} f - c d f + 2 e f^{2}) \\cdot (b c^{2} + c^{2} d + b c e - 2 c^{2} e - c d e + 2 e^{2} f) \\cdot (-b c^{3} - 2 b c^{2} d + c^{3} d + b c^{2} e + c^{2} d e + b c^{2} f + c^{2} d f + 3 b c e f - 4 c^{2} e f - 3 c d e f + 4 e^{2} f^{2})"
      ]
     },
     "execution_count": 6,
     "metadata": {},
     "output_type": "execute_result"
    }
   ],
   "source": [
    "latex(sing_cubics.factor())"
   ]
  },
  {
   "cell_type": "code",
   "execution_count": 5,
   "id": "ebd4af0d",
   "metadata": {},
   "outputs": [],
   "source": [
    "line = Line([y, z])"
   ]
  },
  {
   "cell_type": "code",
   "execution_count": 6,
   "id": "5b7c57c7-426c-4dba-ba46-dbdbe2d10535",
   "metadata": {},
   "outputs": [],
   "source": [
    "general_cubic = Cubic(cubic_new, line, sing_cubics)"
   ]
  },
  {
   "cell_type": "code",
   "execution_count": 7,
   "id": "20a937b1-552b-435d-9ed0-f1b483c0f81a",
   "metadata": {},
   "outputs": [
    {
     "data": {
      "text/plain": [
       "{'E1': (0, 0, 1, 0, 0, 0) [y, z],\n",
       " 'E2': (0, 0, 0, 1, 0, 0) [x, t],\n",
       " 'E3': (0, 1, -1, 1, -1, 0) [x - y, z + t],\n",
       " 'E4': (-2*b*c^5 + 2*c^6 - 2*b*c^4*d + 2*c^5*d + 2*b*c^3*e*f - 4*c^4*e*f - 2*c^3*d*e*f + 2*c^2*e^2*f^2, -b*c^5 + c^6 - b*c^4*d + c^5*d - b*c^4*e + c^5*e - b*c^3*d*e + c^4*d*e - b*c^4*f + c^5*f - b*c^3*d*f + c^4*d*f + 2*b*c^3*e*f - 3*c^4*e*f + b*c^2*d*e*f - 2*c^3*d*e*f + b*c^2*e^2*f - 2*c^3*e^2*f - c^2*d*e^2*f + b*c^2*e*f^2 - 2*c^3*e*f^2 - c^2*d*e*f^2 - b*c*e^2*f^2 + 3*c^2*e^2*f^2 + c*d*e^2*f^2 + c*e^3*f^2 + c*e^2*f^3 - e^3*f^3, -c^6 - 2*c^5*d - c^4*d^2 + c^5*e + 2*c^4*d*e + c^3*d^2*e + c^5*f + 2*c^4*d*f + c^3*d^2*f + c^4*e*f - c^2*d^2*e*f - 2*c^3*e^2*f - 2*c^2*d*e^2*f - 2*c^3*e*f^2 - 2*c^2*d*e*f^2 + c^2*e^2*f^2 + 2*c*d*e^2*f^2 + c*e^3*f^2 + c*e^2*f^3 - e^3*f^3, b^2*c^4 - 2*b*c^5 + c^6 + b^2*c^3*e - 2*b*c^4*e + c^5*e + b^2*c^3*f - 2*b*c^4*f + c^5*f + b^2*c^2*e*f - c^4*e*f + 2*b*c^2*e^2*f - 2*c^3*e^2*f + 2*b*c^2*e*f^2 - 2*c^3*e*f^2 + 2*b*c*e^2*f^2 - c^2*e^2*f^2 + c*e^3*f^2 + c*e^2*f^3 + e^3*f^3, b*c^5 - c^6 + b*c^4*d - c^5*d - b*c^4*e + c^5*e - b*c^3*d*e + c^4*d*e - b*c^4*f + c^5*f - b*c^3*d*f + c^4*d*f - 2*b*c^3*e*f + 3*c^4*e*f - b*c^2*d*e*f + 2*c^3*d*e*f + b*c^2*e^2*f - 2*c^3*e^2*f - c^2*d*e^2*f + b*c^2*e*f^2 - 2*c^3*e*f^2 - c^2*d*e*f^2 + b*c*e^2*f^2 - 3*c^2*e^2*f^2 - c*d*e^2*f^2 + c*e^3*f^2 + c*e^2*f^3 + e^3*f^3, -2*b*c^3*e*f + 2*c^4*e*f - 2*b*c^2*d*e*f + 2*c^3*d*e*f + 2*b*c*e^2*f^2 - 4*c^2*e^2*f^2 - 2*c*d*e^2*f^2 + 2*e^3*f^3) [-x*b^2*c^2 + t*b^2*c^2 + x*b*c^3 - y*b*c^3 + z*b*c^3 - z*c^4 - t*c^4 - y*b*c^2*d + z*b*c^2*d - z*c^3*d + x*b*c^2*e - x*c^3*e + y*c^3*e + y*c^2*d*e + x*b*c^2*f - x*c^3*f + y*c^3*f + y*c^2*d*f - x*b*c*e*f + y*b*c*e*f - z*b*c*e*f + 2*t*b*c*e*f - 2*y*c^2*e*f + 2*z*c^2*e*f - 2*y*c*d*e*f + z*c*d*e*f + x*c*e^2*f - y*c*e^2*f + x*c*e*f^2 - y*c*e*f^2 + 2*y*e^2*f^2 - z*e^2*f^2 + t*e^2*f^2, -t*b*c^3 + z*c^4 + t*c^4 + z*c^3*d - t*b*c^2*e - z*c^3*e + t*c^3*e - z*c^2*d*e - t*b*c^2*f - z*c^3*f + t*c^3*f - z*c^2*d*f - 2*x*b*c*e*f + t*b*c*e*f + 2*x*c^2*e*f - 2*t*c^2*e*f + z*c*d*e*f + z*c*e^2*f - t*c*e^2*f + z*c*e*f^2 - t*c*e*f^2 - 2*x*e^2*f^2 - z*e^2*f^2 + t*e^2*f^2],\n",
       " 'E5': (0, -b*c^3*d + b*c^3*f + b*c^2*d*f + c^3*d*f + b*c^2*e*f - c^2*d*e*f - b*c^2*f^2 - c^3*f^2 - c^2*d*f^2 - b*c*e*f^2 + c*d*e*f^2 + c*e^2*f^2 + c^2*f^3 - e^2*f^3, c^3*d^2 - 2*c^3*d*f - c^2*d^2*f - 2*c^2*d*e*f + c^3*f^2 + 2*c^2*d*f^2 + 2*c^2*e*f^2 + 2*c*d*e*f^2 + c*e^2*f^2 - c^2*f^3 - 2*c*e*f^3 - e^2*f^3, b^2*c^3 + b^2*c^2*f - 2*b*c^3*f + 2*b*c^2*e*f - 2*b*c^2*f^2 + c^3*f^2 + 2*b*c*e*f^2 - 2*c^2*e*f^2 + c*e^2*f^2 + c^2*f^3 - 2*c*e*f^3 + e^2*f^3, -b*c^3*d + b*c^3*f - b*c^2*d*f + c^3*d*f + b*c^2*e*f - c^2*d*e*f + b*c^2*f^2 - c^3*f^2 + c^2*d*f^2 + b*c*e*f^2 - c*d*e*f^2 + c*e^2*f^2 - c^2*f^3 + e^2*f^3, -2*b*c^2*d*f + 2*b*c^2*f^2 + 2*c^2*d*f^2 + 2*b*c*e*f^2 - 2*c*d*e*f^2 - 2*c^2*f^3 + 2*e^2*f^3) [x*b*c^2 + y*c^2*d + x*b*c*f - x*c^2*f - y*c^2*f - y*c*d*f + x*c*e*f - y*c*e*f - x*c*f^2 + y*c*f^2 + x*e*f^2 + y*e*f^2, -t*b*c^2 - z*c^2*d - 2*x*b*c*f + t*b*c*f + z*c^2*f + t*c^2*f + z*c*d*f + z*c*e*f - t*c*e*f + 2*x*c*f^2 - z*c*f^2 - t*c*f^2 - 2*x*e*f^2 - z*e*f^2 + t*e*f^2],\n",
       " 'E6': (0, -b*c^3*d + b*c^3*e + b*c^2*d*e + c^3*d*e - b*c^2*e^2 - c^3*e^2 - c^2*d*e^2 + c^2*e^3 + b*c^2*e*f - c^2*d*e*f - b*c*e^2*f + c*d*e^2*f + c*e^2*f^2 - e^3*f^2, c^3*d^2 - 2*c^3*d*e - c^2*d^2*e + c^3*e^2 + 2*c^2*d*e^2 - c^2*e^3 - 2*c^2*d*e*f + 2*c^2*e^2*f + 2*c*d*e^2*f - 2*c*e^3*f + c*e^2*f^2 - e^3*f^2, b^2*c^3 + b^2*c^2*e - 2*b*c^3*e - 2*b*c^2*e^2 + c^3*e^2 + c^2*e^3 + 2*b*c^2*e*f + 2*b*c*e^2*f - 2*c^2*e^2*f - 2*c*e^3*f + c*e^2*f^2 + e^3*f^2, -b*c^3*d + b*c^3*e - b*c^2*d*e + c^3*d*e + b*c^2*e^2 - c^3*e^2 + c^2*d*e^2 - c^2*e^3 + b*c^2*e*f - c^2*d*e*f + b*c*e^2*f - c*d*e^2*f + c*e^2*f^2 + e^3*f^2, -2*b*c^2*d*e + 2*b*c^2*e^2 + 2*c^2*d*e^2 - 2*c^2*e^3 + 2*b*c*e^2*f - 2*c*d*e^2*f + 2*e^3*f^2) [x*b*c^2 + y*c^2*d + x*b*c*e - x*c^2*e - y*c^2*e - y*c*d*e - x*c*e^2 + y*c*e^2 + x*c*e*f - y*c*e*f + x*e^2*f + y*e^2*f, -t*b*c^2 - z*c^2*d - 2*x*b*c*e + t*b*c*e + z*c^2*e + t*c^2*e + z*c*d*e + 2*x*c*e^2 - z*c*e^2 - t*c*e^2 + z*c*e*f - t*c*e*f - 2*x*e^2*f - z*e^2*f + t*e^2*f],\n",
       " 'G1': (b^3*c^3 - 2*b^2*c^4 + b*c^5 - b^2*c^3*d + 2*b*c^4*d - c^5*d + 4*b^2*c^2*e*f - 6*b*c^3*e*f + 2*c^4*e*f - 2*b*c^2*d*e*f + 2*c^3*d*e*f + 5*b*c*e^2*f^2 - 4*c^2*e^2*f^2 - c*d*e^2*f^2 + 2*e^3*f^3, b^3*c^3 - b^2*c^4 - b^2*c^3*d + b*c^4*d - b^2*c^3*e + b*c^4*e + b*c^3*d*e - c^4*d*e - b^2*c^3*f + b*c^4*f + b*c^3*d*f - c^4*d*f + 5*b^2*c^2*e*f - 4*b*c^3*e*f - 3*b*c^2*d*e*f + 2*c^3*d*e*f - 3*b*c^2*e^2*f + 2*c^3*e^2*f + c^2*d*e^2*f - 3*b*c^2*e*f^2 + 2*c^3*e*f^2 + c^2*d*e*f^2 + 8*b*c*e^2*f^2 - 4*c^2*e^2*f^2 - 2*c*d*e^2*f^2 - 2*c*e^3*f^2 - 2*c*e^2*f^3 + 4*e^3*f^3, 0, 2*b^3*c^3 - 2*b^2*c^4 - 2*b^2*c^3*e + 2*b*c^4*e - 2*b^2*c^3*f + 2*b*c^4*f + 6*b^2*c^2*e*f - 2*b*c^3*e*f - 2*c^4*e*f - 4*b*c^2*e^2*f + 2*c^3*e^2*f - 4*b*c^2*e*f^2 + 2*c^3*e*f^2 + 6*b*c*e^2*f^2 - 2*c*e^3*f^2 - 2*c*e^2*f^3 + 2*e^3*f^3, -b^3*c^3 + b^2*c^4 - b^2*c^3*d + b*c^4*d + b^2*c^3*e - b*c^4*e + b*c^3*d*e - c^4*d*e + b^2*c^3*f - b*c^4*f + b*c^3*d*f - c^4*d*f - b^2*c^2*e*f - 2*b*c^3*e*f + 2*c^4*e*f - 3*b*c^2*d*e*f + 2*c^3*d*e*f + b*c^2*e^2*f + c^2*d*e^2*f + b*c^2*e*f^2 + c^2*d*e*f^2 + 2*b*c*e^2*f^2 - 4*c^2*e^2*f^2 - 2*c*d*e^2*f^2 + 2*e^3*f^3, -b^3*c^3 - b^2*c^3*d + 2*b^2*c^3*e + 2*b*c^3*d*e - b*c^3*e^2 - c^3*d*e^2 + 2*b^2*c^3*f + 2*b*c^3*d*f - 2*b^2*c^2*e*f - 4*b*c^3*e*f - 4*b*c^2*d*e*f - 2*c^3*d*e*f + 2*b*c^2*e^2*f + 2*c^3*e^2*f + 4*c^2*d*e^2*f - b*c^3*f^2 - c^3*d*f^2 + 2*b*c^2*e*f^2 + 2*c^3*e*f^2 + 4*c^2*d*e*f^2 + 2*b*c*e^2*f^2 - 4*c^2*e^2*f^2 - 4*c*d*e^2*f^2 - 2*c*e^3*f^2 - 2*c*e^2*f^3 + 4*e^3*f^3) [-x*b^2*c^2 + t*b^2*c^2 + x*b*c^3 - y*b*c^3 + z*b*c^3 - z*c^4 - t*c^4 - y*b*c^2*d + z*b*c^2*d - z*c^3*d + x*b*c^2*e - x*c^3*e + y*c^3*e + y*c^2*d*e + x*b*c^2*f - x*c^3*f + y*c^3*f + y*c^2*d*f - x*b*c*e*f + y*b*c*e*f - z*b*c*e*f + 2*t*b*c*e*f - 2*y*c^2*e*f + 2*z*c^2*e*f - 2*y*c*d*e*f + z*c*d*e*f + x*c*e^2*f - y*c*e^2*f + x*c*e*f^2 - y*c*e*f^2 + 2*y*e^2*f^2 - z*e^2*f^2 + t*e^2*f^2, -x*b^2*c^2 + t*b^2*c^2 - t*b*c^3 - x*b*c^2*d - t*b*c^2*d + t*c^3*d + x*b*c^2*e + x*c^2*d*e + x*b*c^2*f + x*c^2*d*f + 3*t*b*c*e*f - 2*x*c^2*e*f - 2*t*c^2*e*f - 2*x*c*d*e*f - t*c*d*e*f + 2*x*e^2*f^2 + 2*t*e^2*f^2],\n",
       " 'G2': (-b*c^5 - 2*b*c^4*d + c^5*d - b*c^3*d^2 + 2*c^4*d^2 + c^3*d^3 + 2*b*c^3*e*f - 2*c^4*e*f + 2*b*c^2*d*e*f - 6*c^3*d*e*f - 4*c^2*d^2*e*f - b*c*e^2*f^2 + 4*c^2*e^2*f^2 + 5*c*d*e^2*f^2 - 2*e^3*f^3, b*c^4*d + b*c^3*d^2 + c^4*d^2 + c^3*d^3 - b*c^4*e - b*c^3*d*e - c^4*d*e - c^3*d^2*e - b*c^4*f - b*c^3*d*f - c^4*d*f - c^3*d^2*f - 2*b*c^3*e*f + 2*c^4*e*f - 3*b*c^2*d*e*f + 2*c^3*d*e*f - c^2*d^2*e*f + b*c^2*e^2*f + c^2*d*e^2*f + b*c^2*e*f^2 + c^2*d*e*f^2 + 2*b*c*e^2*f^2 - 4*c^2*e^2*f^2 - 2*c*d*e^2*f^2 + 2*e^3*f^3, -2*c^4*d^2 - 2*c^3*d^3 + 2*c^4*d*e + 2*c^3*d^2*e + 2*c^4*d*f + 2*c^3*d^2*f - 2*c^4*e*f + 2*c^3*d*e*f + 6*c^2*d^2*e*f - 2*c^3*e^2*f - 4*c^2*d*e^2*f - 2*c^3*e*f^2 - 4*c^2*d*e*f^2 - 6*c*d*e^2*f^2 + 2*c*e^3*f^2 + 2*c*e^2*f^3 + 2*e^3*f^3, 0, b*c^4*d + b*c^3*d^2 - c^4*d^2 - c^3*d^3 - b*c^4*e - b*c^3*d*e + c^4*d*e + c^3*d^2*e - b*c^4*f - b*c^3*d*f + c^4*d*f + c^3*d^2*f - 2*b*c^3*e*f - 3*b*c^2*d*e*f + 4*c^3*d*e*f + 5*c^2*d^2*e*f + b*c^2*e^2*f - 2*c^3*e^2*f - 3*c^2*d*e^2*f + b*c^2*e*f^2 - 2*c^3*e*f^2 - 3*c^2*d*e*f^2 + 2*b*c*e^2*f^2 - 4*c^2*e^2*f^2 - 8*c*d*e^2*f^2 + 2*c*e^3*f^2 + 2*c*e^2*f^3 + 4*e^3*f^3, -b*c^3*d^2 - c^3*d^3 + 2*b*c^3*d*e + 2*c^3*d^2*e - b*c^3*e^2 - c^3*d*e^2 + 2*b*c^3*d*f + 2*c^3*d^2*f - 2*b*c^3*e*f + 4*b*c^2*d*e*f - 4*c^3*d*e*f + 2*c^2*d^2*e*f - 4*b*c^2*e^2*f + 2*c^3*e^2*f - 2*c^2*d*e^2*f - b*c^3*f^2 - c^3*d*f^2 - 4*b*c^2*e*f^2 + 2*c^3*e*f^2 - 2*c^2*d*e*f^2 - 4*b*c*e^2*f^2 + 4*c^2*e^2*f^2 + 2*c*d*e^2*f^2 - 2*c*e^3*f^2 - 2*c*e^2*f^3 - 4*e^3*f^3) [z*b*c^3 + y*b*c^2*d + z*b*c^2*d - z*c^3*d + y*c^2*d^2 - z*c^2*d^2 - y*b*c^2*e - y*c^2*d*e - y*b*c^2*f - y*c^2*d*f - 2*y*b*c*e*f - z*b*c*e*f + 2*y*c^2*e*f + 2*z*c^2*e*f + 3*z*c*d*e*f - 2*y*e^2*f^2 - 2*z*e^2*f^2, t*b*c^4*d - x*b*c^3*d^2 + t*b*c^3*d^2 + 2*z*c^4*d^2 + t*c^4*d^2 - x*c^3*d^3 + 2*z*c^3*d^3 + t*c^3*d^3 - t*b*c^4*e + 2*x*b*c^3*d*e - t*b*c^3*d*e - 2*z*c^4*d*e - t*c^4*d*e + 2*x*c^3*d^2*e - 2*z*c^3*d^2*e - t*c^3*d^2*e - x*b*c^3*e^2 - x*c^3*d*e^2 - t*b*c^4*f + 2*x*b*c^3*d*f - t*b*c^3*d*f - 2*z*c^4*d*f - t*c^4*d*f + 2*x*c^3*d^2*f - 2*z*c^3*d^2*f - t*c^3*d^2*f - 2*x*b*c^3*e*f - 2*t*b*c^3*e*f + 2*z*c^4*e*f + 2*t*c^4*e*f + 4*x*b*c^2*d*e*f - 3*t*b*c^2*d*e*f - 4*x*c^3*d*e*f - 2*z*c^3*d*e*f + 2*t*c^3*d*e*f + 2*x*c^2*d^2*e*f - 6*z*c^2*d^2*e*f - t*c^2*d^2*e*f - 4*x*b*c^2*e^2*f + t*b*c^2*e^2*f + 2*x*c^3*e^2*f + 2*z*c^3*e^2*f - 2*x*c^2*d*e^2*f + 4*z*c^2*d*e^2*f + t*c^2*d*e^2*f - x*b*c^3*f^2 - x*c^3*d*f^2 - 4*x*b*c^2*e*f^2 + t*b*c^2*e*f^2 + 2*x*c^3*e*f^2 + 2*z*c^3*e*f^2 - 2*x*c^2*d*e*f^2 + 4*z*c^2*d*e*f^2 + t*c^2*d*e*f^2 - 4*x*b*c*e^2*f^2 + 2*t*b*c*e^2*f^2 + 4*x*c^2*e^2*f^2 - 4*t*c^2*e^2*f^2 + 2*x*c*d*e^2*f^2 + 6*z*c*d*e^2*f^2 - 2*t*c*d*e^2*f^2 - 2*x*c*e^3*f^2 - 2*z*c*e^3*f^2 - 2*x*c*e^2*f^3 - 2*z*c*e^2*f^3 - 4*x*e^3*f^3 - 2*z*e^3*f^3 + 2*t*e^3*f^3],\n",
       " 'G3': (1, 1, 0, 0, -1, -1) [y - z, -x + t],\n",
       " 'G4': (0, 0, 0, 0, 0, 1) [y, x],\n",
       " 'G5': (-c^2, -c*e, 0, 0, -c*e, -e^2) [-z*c + y*e, t*c + x*e],\n",
       " 'G6': (-c^2, -c*f, 0, 0, -c*f, -f^2) [-z*c + y*f, t*c + x*f],\n",
       " 'F12': (-b^3*c^5 + b^2*c^6 - b^3*c^4*d + 3*b^2*c^5*d - 2*b*c^6*d + 2*b^2*c^4*d^2 - 3*b*c^5*d^2 + c^6*d^2 - b*c^4*d^3 + c^5*d^3 + b^3*c^3*e*f - 6*b^2*c^4*e*f + 4*b*c^5*e*f - 7*b^2*c^3*d*e*f + 12*b*c^4*d*e*f - 4*c^5*d*e*f + 7*b*c^3*d^2*e*f - 6*c^4*d^2*e*f - c^3*d^3*e*f + 5*b^2*c^2*e^2*f^2 - 12*b*c^3*e^2*f^2 + 4*c^4*e^2*f^2 - 14*b*c^2*d*e^2*f^2 + 12*c^3*d*e^2*f^2 + 5*c^2*d^2*e^2*f^2 + 8*b*c*e^3*f^3 - 8*c^2*e^3*f^3 - 8*c*d*e^3*f^3 + 4*e^4*f^4, b^3*c^4*d - b^2*c^5*d - b*c^4*d^3 + c^5*d^3 - b^3*c^4*e + b^2*c^5*e + b*c^4*d^2*e - c^5*d^2*e - b^3*c^4*f + b^2*c^5*f + b*c^4*d^2*f - c^5*d^2*f - 2*b^3*c^3*e*f + 4*b^2*c^4*e*f - 2*b*c^5*e*f + 5*b^2*c^3*d*e*f - 6*b*c^4*d*e*f + 2*c^5*d*e*f + 2*b*c^3*d^2*e*f - 2*c^4*d^2*e*f - c^3*d^3*e*f - 3*b^2*c^3*e^2*f + 2*b*c^4*e^2*f - 2*b*c^3*d*e^2*f + 2*c^4*d*e^2*f + c^3*d^2*e^2*f - 3*b^2*c^3*e*f^2 + 2*b*c^4*e*f^2 - 2*b*c^3*d*e*f^2 + 2*c^4*d*e*f^2 + c^3*d^2*e*f^2 - 8*b^2*c^2*e^2*f^2 + 12*b*c^3*e^2*f^2 - 4*c^4*e^2*f^2 + 6*b*c^2*d*e^2*f^2 - 4*c^3*d*e^2*f^2 + 2*c^2*d^2*e^2*f^2 - 2*b*c^2*e^3*f^2 - 2*c^2*d*e^3*f^2 - 2*b*c^2*e^2*f^3 - 2*c^2*d*e^2*f^3 - 10*b*c*e^3*f^3 + 8*c^2*e^3*f^3 + 2*c*d*e^3*f^3 - 4*e^4*f^4, 0, 0, b^3*c^5 + b^3*c^4*d - b*c^5*d^2 - b*c^4*d^3 - b^2*c^5*e - b^2*c^4*d*e + c^5*d^2*e + c^4*d^3*e - b^2*c^5*f - b^2*c^4*d*f + c^5*d^2*f + c^4*d^3*f - b^3*c^3*e*f + 2*b^2*c^4*e*f + 2*b*c^5*e*f + 2*b^2*c^3*d*e*f + 6*b*c^4*d*e*f - 2*c^5*d*e*f + 5*b*c^3*d^2*e*f - 4*c^4*d^2*e*f - 2*c^3*d^3*e*f + b^2*c^3*e^2*f - 2*b*c^4*e^2*f - 2*b*c^3*d*e^2*f - 2*c^4*d*e^2*f - 3*c^3*d^2*e^2*f + b^2*c^3*e*f^2 - 2*b*c^4*e*f^2 - 2*b*c^3*d*e*f^2 - 2*c^4*d*e*f^2 - 3*c^3*d^2*e*f^2 - 2*b^2*c^2*e^2*f^2 - 4*b*c^3*e^2*f^2 + 4*c^4*e^2*f^2 - 6*b*c^2*d*e^2*f^2 + 12*c^3*d*e^2*f^2 + 8*c^2*d^2*e^2*f^2 + 2*b*c^2*e^3*f^2 + 2*c^2*d*e^3*f^2 + 2*b*c^2*e^2*f^3 + 2*c^2*d*e^2*f^3 + 2*b*c*e^3*f^3 - 8*c^2*e^3*f^3 - 10*c*d*e^3*f^3 + 4*e^4*f^4, -b^3*c^4*d - 2*b^2*c^4*d^2 - b*c^4*d^3 + b^3*c^4*e + 3*b^2*c^4*d*e + 3*b*c^4*d^2*e + c^4*d^3*e - b^2*c^4*e^2 - 2*b*c^4*d*e^2 - c^4*d^2*e^2 + b^3*c^4*f + 3*b^2*c^4*d*f + 3*b*c^4*d^2*f + c^4*d^3*f + 2*b^3*c^3*e*f - 4*b^2*c^4*e*f + 2*b^2*c^3*d*e*f - 8*b*c^4*d*e*f - 2*b*c^3*d^2*e*f - 4*c^4*d^2*e*f - 2*c^3*d^3*e*f - 2*b^2*c^3*e^2*f + 4*b*c^4*e^2*f + 4*c^4*d*e^2*f + 2*c^3*d^2*e^2*f - b^2*c^4*f^2 - 2*b*c^4*d*f^2 - c^4*d^2*f^2 - 2*b^2*c^3*e*f^2 + 4*b*c^4*e*f^2 + 4*c^4*d*e*f^2 + 2*c^3*d^2*e*f^2 + 2*b^2*c^2*e^2*f^2 + 4*b*c^3*e^2*f^2 - 4*c^4*e^2*f^2 + 8*b*c^2*d*e^2*f^2 - 4*c^3*d*e^2*f^2 + 2*c^2*d^2*e^2*f^2 - 4*b*c^2*e^3*f^2 - 4*c^2*d*e^3*f^2 - 4*b*c^2*e^2*f^3 - 4*c^2*d*e^2*f^3 - 4*b*c*e^3*f^3 + 8*c^2*e^3*f^3 + 4*c*d*e^3*f^3 - 4*e^4*f^4) [z*b*c^3 + y*b*c^2*d + z*b*c^2*d - z*c^3*d + y*c^2*d^2 - z*c^2*d^2 - y*b*c^2*e - y*c^2*d*e - y*b*c^2*f - y*c^2*d*f - 2*y*b*c*e*f - z*b*c*e*f + 2*y*c^2*e*f + 2*z*c^2*e*f + 3*z*c*d*e*f - 2*y*e^2*f^2 - 2*z*e^2*f^2, -x*b^2*c^2 + t*b^2*c^2 - t*b*c^3 - x*b*c^2*d - t*b*c^2*d + t*c^3*d + x*b*c^2*e + x*c^2*d*e + x*b*c^2*f + x*c^2*d*f + 3*t*b*c*e*f - 2*x*c^2*e*f - 2*t*c^2*e*f - 2*x*c*d*e*f - t*c*d*e*f + 2*x*e^2*f^2 + 2*t*e^2*f^2],\n",
       " 'F13': (-b*c + c^2 - e*f, -b*c + c^2 - e*f, -c^2 + c*e + c*f - e*f, 0, -b*c + c*e + c*f - 2*e*f, -b*c + c*e + c*f - 2*e*f) [y - z, x*b*c + t*b*c - z*c^2 - t*c^2 - x*c*e + z*c*e - x*c*f + z*c*f + 2*x*e*f - z*e*f + t*e*f],\n",
       " 'F14': (0, b*c + c^2 + e*f, -c^2 - c*d + e*f, 0, 0, -b*c + c*e + c*f) [y, -x*b*c + t*b*c + z*c^2 + t*c^2 + z*c*d + x*c*e + x*c*f - z*e*f + t*e*f],\n",
       " 'F15': (b*c^2 - c^3 + c*e*f, b*c*e - c^2*e + e^2*f, c^2*d - c*d*e - c^2*f + e^2*f, 0, -b*c^2 + c^2*e - c^2*f, -b*c*e + c*e^2 - c*e*f) [-z*c + y*e, -z*c^2*d - x*b*c*e + t*b*c*e - t*c^2*e + z*c*d*e + x*c*e^2 + z*c^2*f - x*c*e*f - z*e^2*f + t*e^2*f],\n",
       " 'F16': (b*c^2 - c^3 + c*e*f, b*c*f - c^2*f + e*f^2, c^2*d - c^2*e - c*d*f + e*f^2, 0, -b*c^2 - c^2*e + c^2*f, -b*c*f - c*e*f + c*f^2) [-z*c + y*f, -z*c^2*d + z*c^2*e - x*b*c*f + t*b*c*f - t*c^2*f + z*c*d*f - x*c*e*f + x*c*f^2 - z*e*f^2 + t*e*f^2],\n",
       " 'F23': (-c^2 - c*d + e*f, c*d - c*e - c*f - 2*e*f, 0, -c^2 - c*e - c*f - e*f, c^2 + c*d - e*f, -c*d + c*e + c*f + 2*e*f) [x*b*c - t*b*c - z*c^2 - t*c^2 - y*c*d - z*c*d - x*c*e + y*c*e - x*c*f + y*c*f + 2*y*e*f + z*e*f - t*e*f, -x + t],\n",
       " 'F24': (0, 0, 0, b*c - c^2 + e*f, c^2 - c*d + e*f, -c*d + c*e + c*f) [x, t*b*c - z*c^2 - t*c^2 - y*c*d + z*c*d + y*c*e + y*c*f - z*e*f + t*e*f],\n",
       " 'F25': (-c^3 - c^2*d + c*e*f, -c^2*d + c^2*e - c^2*f, 0, b*c^2 + b*c*e - c^2*f + e^2*f, -c^2*e - c*d*e + e^2*f, -c*d*e + c*e^2 - c*e*f) [x*b*c - t*b*c - z*c^2 - t*c^2 + y*c*d - z*c*d - x*c*e - y*c*e - x*c*f + y*c*f + z*e*f - t*e*f, t*c + x*e],\n",
       " 'F26': (-c^3 - c^2*d + c*e*f, -c^2*d - c^2*e + c^2*f, 0, b*c^2 - c^2*e + b*c*f + e*f^2, -c^2*f - c*d*f + e*f^2, -c*d*f - c*e*f + c*f^2) [-x*b*c + t*b*c + z*c^2 + t*c^2 - y*c*d + z*c*d + x*c*e - y*c*e + x*c*f + y*c*f - z*e*f + t*e*f, t*c + x*f],\n",
       " 'F34': (0, b*c - c^2 + e*f, -c^2 - c*d + e*f, b*c - c^2 + e*f, -c^2 - c*d + e*f, -b*c - c*d) [-x + y, -x*b*c + t*b*c + z*c^2 - t*c^2 - x*c*d + z*c*d - z*e*f + t*e*f],\n",
       " 'F35': (b*c^2 - c^2*d + 2*c*e*f, -c^2*d + b*c*e + c^2*f + e^2*f, c^2*d - c*d*e - c^2*f + e^2*f, b*c^2 + b*c*e - c^2*f + e^2*f, -b*c^2 - c*d*e + c^2*f + e^2*f, -b*c*e - c*d*e + 2*c*e*f) [-x*b*c + t*b*c + z*c^2 + t*c^2 - y*c*d + z*c*d + x*c*e - y*c*e + x*c*f + y*c*f - z*e*f + t*e*f, -z*c^2*d - t*c^2*d - x*b*c*e + t*b*c*e - x*c*d*e + z*c*d*e + z*c^2*f + t*c^2*f + 2*x*c*e*f - z*e^2*f + t*e^2*f],\n",
       " 'F36': (b*c^2 - c^2*d + 2*c*e*f, -c^2*d + c^2*e + b*c*f + e*f^2, c^2*d - c^2*e - c*d*f + e*f^2, b*c^2 - c^2*e + b*c*f + e*f^2, -b*c^2 + c^2*e - c*d*f + e*f^2, -b*c*f - c*d*f + 2*c*e*f) [x*b*c - t*b*c - z*c^2 - t*c^2 + y*c*d - z*c*d - x*c*e - y*c*e - x*c*f + y*c*f + z*e*f - t*e*f, -z*c^2*d - t*c^2*d + z*c^2*e + t*c^2*e - x*b*c*f + t*b*c*f - x*c*d*f + z*c*d*f + 2*x*c*e*f - z*e*f^2 + t*e*f^2],\n",
       " 'F45': (0, b*c^4*d - c^5*d - b*c^4*f + c^5*f - b*c^3*e*f + c^4*e*f + c^3*d*e*f - b*c^2*d*f^2 + c^3*d*f^2 - c^3*e*f^2 - c^2*e^2*f^2 + b*c^2*f^3 - c^3*f^3 + b*c*e*f^3 - c^2*e*f^3 - c*d*e*f^3 + c*e*f^4 + e^2*f^4, c^5*d + c^4*d^2 - c^5*f - 3*c^4*d*f - 2*c^3*d^2*f - c^4*e*f - 2*c^3*d*e*f + 2*c^4*f^2 + 3*c^3*d*f^2 + c^2*d^2*f^2 + 3*c^3*e*f^2 + 4*c^2*d*e*f^2 + c^2*e^2*f^2 - c^3*f^3 - c^2*d*f^3 - 3*c^2*e*f^3 - 2*c*d*e*f^3 - 2*c*e^2*f^3 + c*e*f^4 + e^2*f^4, -b^2*c^4 + b*c^5 - 2*b^2*c^3*f + 3*b*c^4*f - c^5*f - 2*b*c^3*e*f + c^4*e*f - b^2*c^2*f^2 + 3*b*c^3*f^2 - 2*c^4*f^2 - 4*b*c^2*e*f^2 + 3*c^3*e*f^2 - c^2*e^2*f^2 + b*c^2*f^3 - c^3*f^3 - 2*b*c*e*f^3 + 3*c^2*e*f^3 - 2*c*e^2*f^3 + c*e*f^4 - e^2*f^4, -b*c^5 - b*c^4*d + c^5*f + c^4*d*f + b*c^3*e*f - c^4*e*f - c^3*d*e*f + b*c^3*f^2 + b*c^2*d*f^2 - c^3*e*f^2 + c^2*e^2*f^2 - c^3*f^3 - c^2*d*f^3 - b*c*e*f^3 + c^2*e*f^3 + c*d*e*f^3 + c*e*f^4 - e^2*f^4, -b*c^4*e - c^4*d*e - b*c^3*e*f + 2*c^4*e*f + c^3*d*e*f + b*c^2*e*f^2 + c^2*d*e*f^2 - 2*c^2*e^2*f^2 + b*c*e*f^3 - 2*c^2*e*f^3 - c*d*e*f^3 + 2*e^2*f^4) [x*b*c^2 + y*c^2*d + x*b*c*f - x*c^2*f - y*c^2*f - y*c*d*f + x*c*e*f - y*c*e*f - x*c*f^2 + y*c*f^2 + x*e*f^2 + y*e*f^2, -t*b*c^3*d + z*c^4*d + t*c^4*d + z*c^3*d^2 + x*b*c^3*e + x*c^3*d*e + t*b*c^3*f - z*c^4*f - t*c^4*f - t*b*c^2*d*f - 2*z*c^3*d*f + t*c^3*d*f - z*c^2*d^2*f + 2*x*b*c^2*e*f + t*b*c^2*e*f - 2*x*c^3*e*f - z*c^3*e*f - t*c^3*e*f - 2*z*c^2*d*e*f - t*c^2*d*e*f + t*b*c^2*f^2 + z*c^3*f^2 - t*c^3*f^2 + z*c^2*d*f^2 + x*b*c*e*f^2 + t*b*c*e*f^2 - 2*x*c^2*e*f^2 + 2*z*c^2*e*f^2 - x*c*d*e*f^2 + 2*z*c*d*e*f^2 - t*c*d*e*f^2 + 2*x*c*e^2*f^2 + z*c*e^2*f^2 + t*c*e^2*f^2 - z*c*e*f^3 + t*c*e*f^3 + 2*x*e^2*f^3 - z*e^2*f^3 + t*e^2*f^3],\n",
       " 'F46': (0, b*c^4*d - c^5*d - b*c^4*e + c^5*e - b*c^2*d*e^2 + c^3*d*e^2 + b*c^2*e^3 - c^3*e^3 - b*c^3*e*f + c^4*e*f + c^3*d*e*f - c^3*e^2*f + b*c*e^3*f - c^2*e^3*f - c*d*e^3*f + c*e^4*f - c^2*e^2*f^2 + e^4*f^2, c^5*d + c^4*d^2 - c^5*e - 3*c^4*d*e - 2*c^3*d^2*e + 2*c^4*e^2 + 3*c^3*d*e^2 + c^2*d^2*e^2 - c^3*e^3 - c^2*d*e^3 - c^4*e*f - 2*c^3*d*e*f + 3*c^3*e^2*f + 4*c^2*d*e^2*f - 3*c^2*e^3*f - 2*c*d*e^3*f + c*e^4*f + c^2*e^2*f^2 - 2*c*e^3*f^2 + e^4*f^2, -b^2*c^4 + b*c^5 - 2*b^2*c^3*e + 3*b*c^4*e - c^5*e - b^2*c^2*e^2 + 3*b*c^3*e^2 - 2*c^4*e^2 + b*c^2*e^3 - c^3*e^3 - 2*b*c^3*e*f + c^4*e*f - 4*b*c^2*e^2*f + 3*c^3*e^2*f - 2*b*c*e^3*f + 3*c^2*e^3*f + c*e^4*f - c^2*e^2*f^2 - 2*c*e^3*f^2 - e^4*f^2, -b*c^5 - b*c^4*d + c^5*e + c^4*d*e + b*c^3*e^2 + b*c^2*d*e^2 - c^3*e^3 - c^2*d*e^3 + b*c^3*e*f - c^4*e*f - c^3*d*e*f - c^3*e^2*f - b*c*e^3*f + c^2*e^3*f + c*d*e^3*f + c*e^4*f + c^2*e^2*f^2 - e^4*f^2, -b*c^4*f - c^4*d*f - b*c^3*e*f + 2*c^4*e*f + c^3*d*e*f + b*c^2*e^2*f + c^2*d*e^2*f + b*c*e^3*f - 2*c^2*e^3*f - c*d*e^3*f - 2*c^2*e^2*f^2 + 2*e^4*f^2) [x*b*c^2 + y*c^2*d + x*b*c*e - x*c^2*e - y*c^2*e - y*c*d*e - x*c*e^2 + y*c*e^2 + x*c*e*f - y*c*e*f + x*e^2*f + y*e^2*f, -t*b*c^3*d + z*c^4*d + t*c^4*d + z*c^3*d^2 + t*b*c^3*e - z*c^4*e - t*c^4*e - t*b*c^2*d*e - 2*z*c^3*d*e + t*c^3*d*e - z*c^2*d^2*e + t*b*c^2*e^2 + z*c^3*e^2 - t*c^3*e^2 + z*c^2*d*e^2 + x*b*c^3*f + x*c^3*d*f + 2*x*b*c^2*e*f + t*b*c^2*e*f - 2*x*c^3*e*f - z*c^3*e*f - t*c^3*e*f - 2*z*c^2*d*e*f - t*c^2*d*e*f + x*b*c*e^2*f + t*b*c*e^2*f - 2*x*c^2*e^2*f + 2*z*c^2*e^2*f - x*c*d*e^2*f + 2*z*c*d*e^2*f - t*c*d*e^2*f - z*c*e^3*f + t*c*e^3*f + 2*x*c*e^2*f^2 + z*c*e^2*f^2 + t*c*e^2*f^2 + 2*x*e^3*f^2 - z*e^3*f^2 + t*e^3*f^2],\n",
       " 'F56': (-b*c^3 + c^3*d - 2*c^2*e*f, b*c^2*d - b*c^2*e - b*c^2*f - b*c*e*f + c^2*e*f + c*d*e*f - c*e^2*f - c*e*f^2 - e^2*f^2, -c^2*d^2 + c^2*d*e + c^2*d*f - c^2*e*f + 2*c*d*e*f - c*e^2*f - c*e*f^2 - e^2*f^2, b^2*c^2 - b*c^2*e - b*c^2*f + 2*b*c*e*f + c^2*e*f - c*e^2*f - c*e*f^2 + e^2*f^2, -b*c^2*d + c^2*d*e + c^2*d*f + b*c*e*f - c^2*e*f - c*d*e*f - c*e^2*f - c*e*f^2 + e^2*f^2, -b*c*e*f + c*d*e*f - 2*e^2*f^2) [x*b*c - t*b*c - z*c^2 - t*c^2 - y*c*d - z*c*d - x*c*e + y*c*e - x*c*f + y*c*f + 2*y*e*f + z*e*f - t*e*f, -t*b*c^2*d - z*c^2*d^2 + t*b*c^2*e + z*c^2*d*e + t*b*c^2*f + z*c^2*d*f + x*b*c*e*f + t*b*c*e*f - z*c^2*e*f - t*c^2*e*f - x*c*d*e*f + 2*z*c*d*e*f - t*c*d*e*f - z*c*e^2*f + t*c*e^2*f - z*c*e*f^2 + t*c*e*f^2 + 2*x*e^2*f^2 - z*e^2*f^2 + t*e^2*f^2]}"
      ]
     },
     "execution_count": 7,
     "metadata": {},
     "output_type": "execute_result"
    },
    {
     "name": "stdout",
     "output_type": "stream",
     "text": [
      "The history saving thread hit an unexpected error (OperationalError('database is locked')).History will not be written to the database.\n"
     ]
    }
   ],
   "source": [
    "general_cubic.cl_lines"
   ]
  },
  {
   "cell_type": "code",
   "execution_count": 7,
   "id": "797864b0-38b8-4d02-9b7b-921da0f681af",
   "metadata": {},
   "outputs": [],
   "source": [
    "SE1 = general_cubic.subs({b:-(c*c+e*f)/c})"
   ]
  },
  {
   "cell_type": "code",
   "execution_count": 8,
   "id": "173e714c-b8b4-48d7-a4e8-39ab9befd042",
   "metadata": {},
   "outputs": [],
   "source": [
    "SE2 = SE1.subs({d:(c*c+e*f)/c})"
   ]
  },
  {
   "cell_type": "code",
   "execution_count": 9,
   "id": "b5aa177e-6b22-459a-9fce-f6a8e85bc737",
   "metadata": {},
   "outputs": [],
   "source": [
    "SE3 = SE1.subs({d:(3*e*f - c^2 + c*f + c*e)/(2*c)})"
   ]
  },
  {
   "cell_type": "code",
   "execution_count": 10,
   "id": "b1553129-87f0-465d-ac1a-08f034a6cb47",
   "metadata": {},
   "outputs": [],
   "source": [
    "SE4 = SE3.subs({f:c*(3*c-e)/(c+e)})"
   ]
  },
  {
   "cell_type": "code",
   "execution_count": 11,
   "id": "76873854-dee3-4140-9b2e-44ff1ee1eb10",
   "metadata": {},
   "outputs": [],
   "source": [
    "SE6 = SE3.subs({f: -c*(5*c+e)/(c+e)})"
   ]
  },
  {
   "cell_type": "code",
   "execution_count": null,
   "id": "ed021d49-8e52-4fc4-9339-821eaf1e1dcd",
   "metadata": {},
   "outputs": [],
   "source": []
  }
 ],
 "metadata": {
  "kernelspec": {
   "display_name": "SageMath 9.4",
   "language": "sage",
   "name": "sagemath"
  },
  "language_info": {
   "codemirror_mode": {
    "name": "ipython",
    "version": 3
   },
   "file_extension": ".py",
   "mimetype": "text/x-python",
   "name": "python",
   "nbconvert_exporter": "python",
   "pygments_lexer": "ipython3",
   "version": "3.7.12"
  }
 },
 "nbformat": 4,
 "nbformat_minor": 5
}
