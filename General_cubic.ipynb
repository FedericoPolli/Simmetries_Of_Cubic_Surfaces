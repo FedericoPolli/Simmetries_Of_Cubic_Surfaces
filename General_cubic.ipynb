{
 "cells": [
  {
   "cell_type": "code",
   "execution_count": 9,
   "id": "22714bf4-d6b0-482c-a96f-1be66c8d9cd0",
   "metadata": {},
   "outputs": [],
   "source": [
    "load('Imports/Utility.sage', 'Imports/Point.sage', 'Imports/Line.sage', 'Imports/TritangentPlane.sage', 'Imports/Group.sage', 'Imports/Cubic.sage')\n",
    "import multiprocessing as mp\n",
    "import pickle"
   ]
  },
  {
   "cell_type": "code",
   "execution_count": 61,
   "id": "c716bfe3",
   "metadata": {},
   "outputs": [],
   "source": [
    "P.<x,y,z,t,b,c,d,e,f,l,m> = PolynomialRing(QQ)"
   ]
  },
  {
   "cell_type": "code",
   "execution_count": 62,
   "id": "297a6fbf",
   "metadata": {},
   "outputs": [],
   "source": [
    "cubic_new = e*f*(2*x^2*y-2*x*y^2+x*z^2-x*z*t-y*t^2+y*z*t)+b*c*(x-t)*(x*z+y*t)+c*c*(z+t)*(y*t-x*z)+d*c*(y-z)*(x*z+y*t)+(e+f)*c*(x-y)*(y*t-x*z)"
   ]
  },
  {
   "cell_type": "code",
   "execution_count": 63,
   "id": "3ba0c3ee",
   "metadata": {},
   "outputs": [],
   "source": [
    "sing_cubics = (-1) * (-c + f) * (-c + e) * c * (c + f) * (c + e) * (-e + f)^2 * (-c*d + c*f + e*f) * (-c*d + c*e + e*f) * (-c^2 - c*d + e*f) * (b*c - c*f + e*f) * (b*c - c*e + e*f) * (b*c - c*d + 2*e*f) * (b*c - c^2 + e*f) * (b*c^2 + c^2*d + b*c*f - 2*c^2*f - c*d*f + 2*e*f^2) * (b*c^2 + c^2*d + b*c*e - 2*c^2*e - c*d*e + 2*e^2*f) * (-b*c^3 - 2*b*c^2*d + c^3*d + b*c^2*e + c^2*d*e + b*c^2*f + c^2*d*f + 3*b*c*e*f - 4*c^2*e*f - 3*c*d*e*f + 4*e^2*f^2)"
   ]
  },
  {
   "cell_type": "code",
   "execution_count": 64,
   "id": "ebd4af0d",
   "metadata": {},
   "outputs": [],
   "source": [
    "line = Line([y, z])"
   ]
  },
  {
   "cell_type": "code",
   "execution_count": 65,
   "id": "5b7c57c7-426c-4dba-ba46-dbdbe2d10535",
   "metadata": {},
   "outputs": [
    {
     "name": "stdout",
     "output_type": "stream",
     "text": [
      "b^2*c^4 + 2*b*c^4*d + 2*b*c^3*d^2 - c^4*d^2 + b^2*c^3*e - 2*b*c^4*e - 2*b*c^3*d*e - c^3*d^2*e + b^2*c^3*f - 2*b*c^4*f - 2*b*c^3*d*f - c^3*d^2*f + b^2*c^2*e*f - 2*b*c^3*e*f + 2*c^4*e*f - 6*b*c^2*d*e*f + 8*c^3*d*e*f + 3*c^2*d^2*e*f + 4*b*c^2*e^2*f - 2*c^3*e^2*f + 4*b*c^2*e*f^2 - 2*c^3*e*f^2 + 6*b*c*e^2*f^2 - 8*c^2*e^2*f^2 - 8*c*d*e^2*f^2 + 2*c*e^3*f^2 + 2*c*e^2*f^3 + 6*e^3*f^3\n",
      "[Ideal (b^2*c^4 + 2*b*c^4*d + 2*b*c^3*d^2 - c^4*d^2 + b^2*c^3*e - 2*b*c^4*e - 2*b*c^3*d*e - c^3*d^2*e + b^2*c^3*f - 2*b*c^4*f - 2*b*c^3*d*f - c^3*d^2*f + b^2*c^2*e*f - 2*b*c^3*e*f + 2*c^4*e*f - 6*b*c^2*d*e*f + 8*c^3*d*e*f + 3*c^2*d^2*e*f + 4*b*c^2*e^2*f - 2*c^3*e^2*f + 4*b*c^2*e*f^2 - 2*c^3*e*f^2 + 6*b*c*e^2*f^2 - 8*c^2*e^2*f^2 - 8*c*d*e^2*f^2 + 2*c*e^3*f^2 + 2*c*e^2*f^3 + 6*e^3*f^3) of Multivariate Polynomial Ring in x, y, z, t, b, c, d, e, f, l, m over Rational Field]\n",
      "2*b*c - c^2 - c*e - c*f + 3*e*f\n",
      "[Ideal (2*b*c - c^2 - c*e - c*f + 3*e*f) of Multivariate Polynomial Ring in x, y, z, t, b, c, d, e, f, l, m over Rational Field]\n",
      "b*c + c^2 + e*f\n",
      "[Ideal (b*c + c^2 + e*f) of Multivariate Polynomial Ring in x, y, z, t, b, c, d, e, f, l, m over Rational Field]\n",
      "b*c^2 + b*c*e - 2*c^2*e + c^2*f + e^2*f\n",
      "[Ideal (b*c^2 + b*c*e - 2*c^2*e + c^2*f + e^2*f) of Multivariate Polynomial Ring in x, y, z, t, b, c, d, e, f, l, m over Rational Field]\n",
      "b*c^2 + c^2*e + b*c*f - 2*c^2*f + e*f^2\n",
      "[Ideal (b*c^2 + c^2*e + b*c*f - 2*c^2*f + e*f^2) of Multivariate Polynomial Ring in x, y, z, t, b, c, d, e, f, l, m over Rational Field]\n",
      "b^2*c^4 + 2*b^2*c^3*d - 2*b*c^4*d - c^4*d^2 - b^2*c^3*e - 2*b*c^3*d*e + 2*c^4*d*e + c^3*d^2*e - b^2*c^3*f - 2*b*c^3*d*f + 2*c^4*d*f + c^3*d^2*f - 3*b^2*c^2*e*f + 8*b*c^3*e*f - 2*c^4*e*f + 6*b*c^2*d*e*f - 2*c^3*d*e*f - c^2*d^2*e*f - 2*c^3*e^2*f - 4*c^2*d*e^2*f - 2*c^3*e*f^2 - 4*c^2*d*e*f^2 - 8*b*c*e^2*f^2 + 8*c^2*e^2*f^2 + 6*c*d*e^2*f^2 + 2*c*e^3*f^2 + 2*c*e^2*f^3 - 6*e^3*f^3\n",
      "[Ideal (b^2*c^4 + 2*b^2*c^3*d - 2*b*c^4*d - c^4*d^2 - b^2*c^3*e - 2*b*c^3*d*e + 2*c^4*d*e + c^3*d^2*e - b^2*c^3*f - 2*b*c^3*d*f + 2*c^4*d*f + c^3*d^2*f - 3*b^2*c^2*e*f + 8*b*c^3*e*f - 2*c^4*e*f + 6*b*c^2*d*e*f - 2*c^3*d*e*f - c^2*d^2*e*f - 2*c^3*e^2*f - 4*c^2*d*e^2*f - 2*c^3*e*f^2 - 4*c^2*d*e*f^2 - 8*b*c*e^2*f^2 + 8*c^2*e^2*f^2 + 6*c*d*e^2*f^2 + 2*c*e^3*f^2 + 2*c*e^2*f^3 - 6*e^3*f^3) of Multivariate Polynomial Ring in x, y, z, t, b, c, d, e, f, l, m over Rational Field]\n",
      "c^2 + 2*c*d - c*e - c*f - 3*e*f\n",
      "[Ideal (c^2 + 2*c*d - c*e - c*f - 3*e*f) of Multivariate Polynomial Ring in x, y, z, t, b, c, d, e, f, l, m over Rational Field]\n",
      "c^2 - c*d + e*f\n",
      "[Ideal (c^2 - c*d + e*f) of Multivariate Polynomial Ring in x, y, z, t, b, c, d, e, f, l, m over Rational Field]\n",
      "c^2*d - 2*c^2*e - c*d*e + c^2*f + e^2*f\n",
      "[Ideal (c^2*d - 2*c^2*e - c*d*e + c^2*f + e^2*f) of Multivariate Polynomial Ring in x, y, z, t, b, c, d, e, f, l, m over Rational Field]\n",
      "c^2*d + c^2*e - 2*c^2*f - c*d*f + e*f^2\n",
      "[Ideal (c^2*d + c^2*e - 2*c^2*f - c*d*f + e*f^2) of Multivariate Polynomial Ring in x, y, z, t, b, c, d, e, f, l, m over Rational Field]\n",
      "2*b^2*c - b*c^2 + c^2*d - b*c*e - c*d*e - b*c*f - c*d*f + 3*b*e*f + d*e*f\n",
      "[Ideal (2*b^2*c - b*c^2 + c^2*d - b*c*e - c*d*e - b*c*f - c*d*f + 3*b*e*f + d*e*f) of Multivariate Polynomial Ring in x, y, z, t, b, c, d, e, f, l, m over Rational Field]\n",
      "b*c^2 - c^2*d - 2*c*d^2 + b*c*e + c*d*e + b*c*f + c*d*f + b*e*f + 3*d*e*f\n",
      "[Ideal (b*c^2 - c^2*d - 2*c*d^2 + b*c*e + c*d*e + b*c*f + c*d*f + b*e*f + 3*d*e*f) of Multivariate Polynomial Ring in x, y, z, t, b, c, d, e, f, l, m over Rational Field]\n",
      "b*c - 2*c^2 - c*d + 2*e*f\n",
      "[Ideal (b*c - 2*c^2 - c*d + 2*e*f) of Multivariate Polynomial Ring in x, y, z, t, b, c, d, e, f, l, m over Rational Field]\n",
      "b*c^2 + c^2*d + b*c*e - c*d*e - 2*c^2*f + 2*e^2*f\n",
      "[Ideal (b*c^2 + c^2*d + b*c*e - c*d*e - 2*c^2*f + 2*e^2*f) of Multivariate Polynomial Ring in x, y, z, t, b, c, d, e, f, l, m over Rational Field]\n",
      "b*c^2 + c^2*d - 2*c^2*e + b*c*f - c*d*f + 2*e*f^2\n",
      "[Ideal (b*c^2 + c^2*d - 2*c^2*e + b*c*f - c*d*f + 2*e*f^2) of Multivariate Polynomial Ring in x, y, z, t, b, c, d, e, f, l, m over Rational Field]\n",
      "b^2*c^4 + b*c^5 + 3*b*c^4*d - c^5*d + b^2*c^3*e - 3*b*c^4*e - b*c^3*d*e - c^4*d*e + b^2*c^3*f - 3*b*c^4*f - b*c^3*d*f - c^4*d*f + b^2*c^2*e*f - 4*b*c^3*e*f + 6*c^4*e*f - b*c^2*d*e*f + 6*c^3*d*e*f + 3*b*c^2*e^2*f - 2*c^3*e^2*f - c^2*d*e^2*f + 3*b*c^2*e*f^2 - 2*c^3*e*f^2 - c^2*d*e*f^2 + 3*b*c*e^2*f^2 - 8*c^2*e^2*f^2 - c*d*e^2*f^2 + 2*c*e^3*f^2 + 2*c*e^2*f^3 + 2*e^3*f^3\n",
      "[Ideal (b^2*c^4 + b*c^5 + 3*b*c^4*d - c^5*d + b^2*c^3*e - 3*b*c^4*e - b*c^3*d*e - c^4*d*e + b^2*c^3*f - 3*b*c^4*f - b*c^3*d*f - c^4*d*f + b^2*c^2*e*f - 4*b*c^3*e*f + 6*c^4*e*f - b*c^2*d*e*f + 6*c^3*d*e*f + 3*b*c^2*e^2*f - 2*c^3*e^2*f - c^2*d*e^2*f + 3*b*c^2*e*f^2 - 2*c^3*e*f^2 - c^2*d*e*f^2 + 3*b*c*e^2*f^2 - 8*c^2*e^2*f^2 - c*d*e^2*f^2 + 2*c*e^3*f^2 + 2*c*e^2*f^3 + 2*e^3*f^3) of Multivariate Polynomial Ring in x, y, z, t, b, c, d, e, f, l, m over Rational Field]\n",
      "b*c^5 + 3*b*c^4*d - c^5*d + c^4*d^2 - b*c^4*e + b*c^3*d*e - 3*c^4*d*e - c^3*d^2*e - b*c^4*f + b*c^3*d*f - 3*c^4*d*f - c^3*d^2*f - 6*b*c^3*e*f + 6*c^4*e*f - b*c^2*d*e*f + 4*c^3*d*e*f + c^2*d^2*e*f - b*c^2*e^2*f + 2*c^3*e^2*f + 3*c^2*d*e^2*f - b*c^2*e*f^2 + 2*c^3*e*f^2 + 3*c^2*d*e*f^2 + b*c*e^2*f^2 - 8*c^2*e^2*f^2 - 3*c*d*e^2*f^2 - 2*c*e^3*f^2 - 2*c*e^2*f^3 + 2*e^3*f^3\n",
      "[Ideal (b*c^5 + 3*b*c^4*d - c^5*d + c^4*d^2 - b*c^4*e + b*c^3*d*e - 3*c^4*d*e - c^3*d^2*e - b*c^4*f + b*c^3*d*f - 3*c^4*d*f - c^3*d^2*f - 6*b*c^3*e*f + 6*c^4*e*f - b*c^2*d*e*f + 4*c^3*d*e*f + c^2*d^2*e*f - b*c^2*e^2*f + 2*c^3*e^2*f + 3*c^2*d*e^2*f - b*c^2*e*f^2 + 2*c^3*e*f^2 + 3*c^2*d*e*f^2 + b*c*e^2*f^2 - 8*c^2*e^2*f^2 - 3*c*d*e^2*f^2 - 2*c*e^3*f^2 - 2*c*e^2*f^3 + 2*e^3*f^3) of Multivariate Polynomial Ring in x, y, z, t, b, c, d, e, f, l, m over Rational Field]\n",
      "b*c^3 - 2*c^4 - c^3*d + b*c^2*e + c^2*d*e + b*c^2*f + c^2*d*f + b*c*e*f - c*d*e*f + 2*e^2*f^2\n",
      "[Ideal (b*c^3 - 2*c^4 - c^3*d + b*c^2*e + c^2*d*e + b*c^2*f + c^2*d*f + b*c*e*f - c*d*e*f + 2*e^2*f^2) of Multivariate Polynomial Ring in x, y, z, t, b, c, d, e, f, l, m over Rational Field]\n",
      "b*c^4 + c^4*d - b*c^3*e - 2*b*c^2*d*e + c^3*d*e + 2*b*c^3*f - 2*c^4*f + 2*b*c^2*d*f - 2*c^3*d*f + 2*b*c*e^2*f - 2*c^2*e^2*f - 2*c*d*e^2*f - b*c^2*f^2 - c^2*d*f^2 - 3*b*c*e*f^2 + 6*c^2*e*f^2 + 3*c*d*e*f^2 + 2*e^3*f^2 - 4*e^2*f^3\n",
      "[Ideal (b*c^4 + c^4*d - b*c^3*e - 2*b*c^2*d*e + c^3*d*e + 2*b*c^3*f - 2*c^4*f + 2*b*c^2*d*f - 2*c^3*d*f + 2*b*c*e^2*f - 2*c^2*e^2*f - 2*c*d*e^2*f - b*c^2*f^2 - c^2*d*f^2 - 3*b*c*e*f^2 + 6*c^2*e*f^2 + 3*c*d*e*f^2 + 2*e^3*f^2 - 4*e^2*f^3) of Multivariate Polynomial Ring in x, y, z, t, b, c, d, e, f, l, m over Rational Field]\n",
      "b*c^4 + c^4*d + 2*b*c^3*e - 2*c^4*e + 2*b*c^2*d*e - 2*c^3*d*e - b*c^2*e^2 - c^2*d*e^2 - b*c^3*f - 2*b*c^2*d*f + c^3*d*f - 3*b*c*e^2*f + 6*c^2*e^2*f + 3*c*d*e^2*f + 2*b*c*e*f^2 - 2*c^2*e*f^2 - 2*c*d*e*f^2 - 4*e^3*f^2 + 2*e^2*f^3\n",
      "[Ideal (b*c^4 + c^4*d + 2*b*c^3*e - 2*c^4*e + 2*b*c^2*d*e - 2*c^3*d*e - b*c^2*e^2 - c^2*d*e^2 - b*c^3*f - 2*b*c^2*d*f + c^3*d*f - 3*b*c*e^2*f + 6*c^2*e^2*f + 3*c*d*e^2*f + 2*b*c*e*f^2 - 2*c^2*e*f^2 - 2*c*d*e*f^2 - 4*e^3*f^2 + 2*e^2*f^3) of Multivariate Polynomial Ring in x, y, z, t, b, c, d, e, f, l, m over Rational Field]\n",
      "b^2*c^4 + b*c^4*d - b^2*c^3*e + b*c^3*d*e - 2*c^4*d*e + b^2*c^3*f - 3*b*c^4*f - 3*b*c^3*d*f + c^4*d*f - b^2*c^2*e*f + 2*b*c^3*e*f + 2*c^4*e*f + b*c^2*d*e*f + 2*c^3*d*e*f - 3*b*c^2*e^2*f + 2*c^3*e^2*f + c^2*d*e^2*f + b*c^3*f^2 + c^3*d*f^2 + 6*b*c^2*e*f^2 - 6*c^3*e*f^2 - 4*c^2*d*e*f^2 - 3*b*c*e^2*f^2 + c*d*e^2*f^2 - 2*c*e^3*f^2 + 6*c*e^2*f^3 - 2*e^3*f^3\n",
      "[Ideal (b^2*c^4 + b*c^4*d - b^2*c^3*e + b*c^3*d*e - 2*c^4*d*e + b^2*c^3*f - 3*b*c^4*f - 3*b*c^3*d*f + c^4*d*f - b^2*c^2*e*f + 2*b*c^3*e*f + 2*c^4*e*f + b*c^2*d*e*f + 2*c^3*d*e*f - 3*b*c^2*e^2*f + 2*c^3*e^2*f + c^2*d*e^2*f + b*c^3*f^2 + c^3*d*f^2 + 6*b*c^2*e*f^2 - 6*c^3*e*f^2 - 4*c^2*d*e*f^2 - 3*b*c*e^2*f^2 + c*d*e^2*f^2 - 2*c*e^3*f^2 + 6*c*e^2*f^3 - 2*e^3*f^3) of Multivariate Polynomial Ring in x, y, z, t, b, c, d, e, f, l, m over Rational Field]\n",
      "b*c^4*d + c^4*d^2 - 2*b*c^4*e - b*c^3*d*e + c^3*d^2*e + b*c^4*f + 3*b*c^3*d*f - 3*c^4*d*f - c^3*d^2*f - 2*b*c^3*e*f + 2*c^4*e*f + b*c^2*d*e*f - 2*c^3*d*e*f - c^2*d^2*e*f + b*c^2*e^2*f - 2*c^3*e^2*f - 3*c^2*d*e^2*f - b*c^3*f^2 - c^3*d*f^2 - 4*b*c^2*e*f^2 + 6*c^3*e*f^2 + 6*c^2*d*e*f^2 - b*c*e^2*f^2 + 3*c*d*e^2*f^2 + 2*c*e^3*f^2 - 6*c*e^2*f^3 - 2*e^3*f^3\n",
      "[Ideal (b*c^4*d + c^4*d^2 - 2*b*c^4*e - b*c^3*d*e + c^3*d^2*e + b*c^4*f + 3*b*c^3*d*f - 3*c^4*d*f - c^3*d^2*f - 2*b*c^3*e*f + 2*c^4*e*f + b*c^2*d*e*f - 2*c^3*d*e*f - c^2*d^2*e*f + b*c^2*e^2*f - 2*c^3*e^2*f - 3*c^2*d*e^2*f - b*c^3*f^2 - c^3*d*f^2 - 4*b*c^2*e*f^2 + 6*c^3*e*f^2 + 6*c^2*d*e*f^2 - b*c*e^2*f^2 + 3*c*d*e^2*f^2 + 2*c*e^3*f^2 - 6*c*e^2*f^3 - 2*e^3*f^3) of Multivariate Polynomial Ring in x, y, z, t, b, c, d, e, f, l, m over Rational Field]\n",
      "b*c^3 - c^3*d - b*c^2*e - c^2*d*e + b*c^2*f + c^2*d*f - b*c*e*f + 4*c^2*e*f + c*d*e*f - 2*c^2*f^2 - 2*e^2*f^2\n",
      "[Ideal (b*c^3 - c^3*d - b*c^2*e - c^2*d*e + b*c^2*f + c^2*d*f - b*c*e*f + 4*c^2*e*f + c*d*e*f - 2*c^2*f^2 - 2*e^2*f^2) of Multivariate Polynomial Ring in x, y, z, t, b, c, d, e, f, l, m over Rational Field]\n",
      "-b*c^3 - 2*b*c^2*d + c^3*d + 2*b*c^2*f + 2*c^2*d*f + 2*b*c*e*f - 2*c^2*e*f - 2*c*d*e*f + b*c*f^2 - 2*c^2*f^2 - c*d*f^2 + 2*e^2*f^2 + 2*e*f^3\n",
      "[Ideal (b*c^3 + 2*b*c^2*d - c^3*d - 2*b*c^2*f - 2*c^2*d*f - 2*b*c*e*f + 2*c^2*e*f + 2*c*d*e*f - b*c*f^2 + 2*c^2*f^2 + c*d*f^2 - 2*e^2*f^2 - 2*e*f^3) of Multivariate Polynomial Ring in x, y, z, t, b, c, d, e, f, l, m over Rational Field]\n",
      "2*b*c^2*d - b*c^2*e - c^2*d*e - b*c^2*f - c^2*d*f - 3*b*c*e*f + 2*c^2*e*f + 3*c*d*e*f + b*c*f^2 - c*d*f^2 - 4*e^2*f^2 + 2*e*f^3\n",
      "[Ideal (2*b*c^2*d - b*c^2*e - c^2*d*e - b*c^2*f - c^2*d*f - 3*b*c*e*f + 2*c^2*e*f + 3*c*d*e*f + b*c*f^2 - c*d*f^2 - 4*e^2*f^2 + 2*e*f^3) of Multivariate Polynomial Ring in x, y, z, t, b, c, d, e, f, l, m over Rational Field]\n",
      "b^2*c^4 + b*c^4*d + b^2*c^3*e - 3*b*c^4*e - 3*b*c^3*d*e + c^4*d*e + b*c^3*e^2 + c^3*d*e^2 - b^2*c^3*f + b*c^3*d*f - 2*c^4*d*f - b^2*c^2*e*f + 2*b*c^3*e*f + 2*c^4*e*f + b*c^2*d*e*f + 2*c^3*d*e*f + 6*b*c^2*e^2*f - 6*c^3*e^2*f - 4*c^2*d*e^2*f - 3*b*c^2*e*f^2 + 2*c^3*e*f^2 + c^2*d*e*f^2 - 3*b*c*e^2*f^2 + c*d*e^2*f^2 + 6*c*e^3*f^2 - 2*c*e^2*f^3 - 2*e^3*f^3\n",
      "[Ideal (b^2*c^4 + b*c^4*d + b^2*c^3*e - 3*b*c^4*e - 3*b*c^3*d*e + c^4*d*e + b*c^3*e^2 + c^3*d*e^2 - b^2*c^3*f + b*c^3*d*f - 2*c^4*d*f - b^2*c^2*e*f + 2*b*c^3*e*f + 2*c^4*e*f + b*c^2*d*e*f + 2*c^3*d*e*f + 6*b*c^2*e^2*f - 6*c^3*e^2*f - 4*c^2*d*e^2*f - 3*b*c^2*e*f^2 + 2*c^3*e*f^2 + c^2*d*e*f^2 - 3*b*c*e^2*f^2 + c*d*e^2*f^2 + 6*c*e^3*f^2 - 2*c*e^2*f^3 - 2*e^3*f^3) of Multivariate Polynomial Ring in x, y, z, t, b, c, d, e, f, l, m over Rational Field]\n",
      "b*c^4*d + c^4*d^2 + b*c^4*e + 3*b*c^3*d*e - 3*c^4*d*e - c^3*d^2*e - b*c^3*e^2 - c^3*d*e^2 - 2*b*c^4*f - b*c^3*d*f + c^3*d^2*f - 2*b*c^3*e*f + 2*c^4*e*f + b*c^2*d*e*f - 2*c^3*d*e*f - c^2*d^2*e*f - 4*b*c^2*e^2*f + 6*c^3*e^2*f + 6*c^2*d*e^2*f + b*c^2*e*f^2 - 2*c^3*e*f^2 - 3*c^2*d*e*f^2 - b*c*e^2*f^2 + 3*c*d*e^2*f^2 - 6*c*e^3*f^2 + 2*c*e^2*f^3 - 2*e^3*f^3\n",
      "[Ideal (b*c^4*d + c^4*d^2 + b*c^4*e + 3*b*c^3*d*e - 3*c^4*d*e - c^3*d^2*e - b*c^3*e^2 - c^3*d*e^2 - 2*b*c^4*f - b*c^3*d*f + c^3*d^2*f - 2*b*c^3*e*f + 2*c^4*e*f + b*c^2*d*e*f - 2*c^3*d*e*f - c^2*d^2*e*f - 4*b*c^2*e^2*f + 6*c^3*e^2*f + 6*c^2*d*e^2*f + b*c^2*e*f^2 - 2*c^3*e*f^2 - 3*c^2*d*e*f^2 - b*c*e^2*f^2 + 3*c*d*e^2*f^2 - 6*c*e^3*f^2 + 2*c*e^2*f^3 - 2*e^3*f^3) of Multivariate Polynomial Ring in x, y, z, t, b, c, d, e, f, l, m over Rational Field]\n",
      "b*c^3 - c^3*d + b*c^2*e + c^2*d*e - 2*c^2*e^2 - b*c^2*f - c^2*d*f - b*c*e*f + 4*c^2*e*f + c*d*e*f - 2*e^2*f^2\n",
      "[Ideal (b*c^3 - c^3*d + b*c^2*e + c^2*d*e - 2*c^2*e^2 - b*c^2*f - c^2*d*f - b*c*e*f + 4*c^2*e*f + c*d*e*f - 2*e^2*f^2) of Multivariate Polynomial Ring in x, y, z, t, b, c, d, e, f, l, m over Rational Field]\n",
      "-b*c^3 - 2*b*c^2*d + c^3*d + 2*b*c^2*e + 2*c^2*d*e + b*c*e^2 - 2*c^2*e^2 - c*d*e^2 + 2*b*c*e*f - 2*c^2*e*f - 2*c*d*e*f + 2*e^3*f + 2*e^2*f^2\n",
      "[Ideal (b*c^3 + 2*b*c^2*d - c^3*d - 2*b*c^2*e - 2*c^2*d*e - b*c*e^2 + 2*c^2*e^2 + c*d*e^2 - 2*b*c*e*f + 2*c^2*e*f + 2*c*d*e*f - 2*e^3*f - 2*e^2*f^2) of Multivariate Polynomial Ring in x, y, z, t, b, c, d, e, f, l, m over Rational Field]\n",
      "2*b*c^2*d - b*c^2*e - c^2*d*e + b*c*e^2 - c*d*e^2 - b*c^2*f - c^2*d*f - 3*b*c*e*f + 2*c^2*e*f + 3*c*d*e*f + 2*e^3*f - 4*e^2*f^2\n",
      "[Ideal (2*b*c^2*d - b*c^2*e - c^2*d*e + b*c*e^2 - c*d*e^2 - b*c^2*f - c^2*d*f - 3*b*c*e*f + 2*c^2*e*f + 3*c*d*e*f + 2*e^3*f - 4*e^2*f^2) of Multivariate Polynomial Ring in x, y, z, t, b, c, d, e, f, l, m over Rational Field]\n",
      "b^2*c^4 + b^2*c^3*d - b*c^3*d^2 + c^4*d^2 - b*c^4*e - c^4*d*e - b*c^4*f - c^4*d*f - b^2*c^2*e*f + b*c^3*e*f + 2*c^4*e*f + 4*b*c^2*d*e*f - c^3*d*e*f - c^2*d^2*e*f - 3*b*c*e^2*f^2 + 3*c*d*e^2*f^2 - 2*e^3*f^3\n",
      "[Ideal (b^2*c^4 + b^2*c^3*d - b*c^3*d^2 + c^4*d^2 - b*c^4*e - c^4*d*e - b*c^4*f - c^4*d*f - b^2*c^2*e*f + b*c^3*e*f + 2*c^4*e*f + 4*b*c^2*d*e*f - c^3*d*e*f - c^2*d^2*e*f - 3*b*c*e^2*f^2 + 3*c*d*e^2*f^2 - 2*e^3*f^3) of Multivariate Polynomial Ring in x, y, z, t, b, c, d, e, f, l, m over Rational Field]\n",
      "b^2*c^4*d + b*c^4*d^2 - b*c^5*e + b^2*c^3*d*e - 4*b*c^4*d*e + c^5*d*e - b*c^3*d^2*e + b*c^4*e^2 + c^4*d*e^2 - b^2*c^4*f + b*c^5*f - c^5*d*f - c^4*d^2*f - 2*b^2*c^3*e*f + 2*b*c^4*e*f + 2*c^4*d*e*f + 2*c^3*d^2*e*f - b^2*c^2*e^2*f + 5*b*c^3*e^2*f - 4*c^4*e^2*f + 4*b*c^2*d*e^2*f - 5*c^3*d*e^2*f - c^2*d^2*e^2*f - 2*b*c^3*e*f^2 + 2*c^4*e*f^2 + 2*c^3*d*e*f^2 - 3*b*c^2*e^2*f^2 - 3*c^2*d*e^2*f^2 - 3*b*c*e^3*f^2 + 6*c^2*e^3*f^2 + 3*c*d*e^3*f^2 - 2*c^2*e^2*f^3 - 2*e^4*f^3\n",
      "[Ideal (b^2*c^4*d + b*c^4*d^2 - b*c^5*e + b^2*c^3*d*e - 4*b*c^4*d*e + c^5*d*e - b*c^3*d^2*e + b*c^4*e^2 + c^4*d*e^2 - b^2*c^4*f + b*c^5*f - c^5*d*f - c^4*d^2*f - 2*b^2*c^3*e*f + 2*b*c^4*e*f + 2*c^4*d*e*f + 2*c^3*d^2*e*f - b^2*c^2*e^2*f + 5*b*c^3*e^2*f - 4*c^4*e^2*f + 4*b*c^2*d*e^2*f - 5*c^3*d*e^2*f - c^2*d^2*e^2*f - 2*b*c^3*e*f^2 + 2*c^4*e*f^2 + 2*c^3*d*e*f^2 - 3*b*c^2*e^2*f^2 - 3*c^2*d*e^2*f^2 - 3*b*c*e^3*f^2 + 6*c^2*e^3*f^2 + 3*c*d*e^3*f^2 - 2*c^2*e^2*f^3 - 2*e^4*f^3) of Multivariate Polynomial Ring in x, y, z, t, b, c, d, e, f, l, m over Rational Field]\n",
      "b^2*c^4*d + b*c^4*d^2 - b^2*c^4*e + b*c^5*e - c^5*d*e - c^4*d^2*e - b*c^5*f + b^2*c^3*d*f - 4*b*c^4*d*f + c^5*d*f - b*c^3*d^2*f - 2*b^2*c^3*e*f + 2*b*c^4*e*f + 2*c^4*d*e*f + 2*c^3*d^2*e*f - 2*b*c^3*e^2*f + 2*c^4*e^2*f + 2*c^3*d*e^2*f + b*c^4*f^2 + c^4*d*f^2 - b^2*c^2*e*f^2 + 5*b*c^3*e*f^2 - 4*c^4*e*f^2 + 4*b*c^2*d*e*f^2 - 5*c^3*d*e*f^2 - c^2*d^2*e*f^2 - 3*b*c^2*e^2*f^2 - 3*c^2*d*e^2*f^2 - 2*c^2*e^3*f^2 - 3*b*c*e^2*f^3 + 6*c^2*e^2*f^3 + 3*c*d*e^2*f^3 - 2*e^3*f^4\n",
      "[Ideal (b^2*c^4*d + b*c^4*d^2 - b^2*c^4*e + b*c^5*e - c^5*d*e - c^4*d^2*e - b*c^5*f + b^2*c^3*d*f - 4*b*c^4*d*f + c^5*d*f - b*c^3*d^2*f - 2*b^2*c^3*e*f + 2*b*c^4*e*f + 2*c^4*d*e*f + 2*c^3*d^2*e*f - 2*b*c^3*e^2*f + 2*c^4*e^2*f + 2*c^3*d*e^2*f + b*c^4*f^2 + c^4*d*f^2 - b^2*c^2*e*f^2 + 5*b*c^3*e*f^2 - 4*c^4*e*f^2 + 4*b*c^2*d*e*f^2 - 5*c^3*d*e*f^2 - c^2*d^2*e*f^2 - 3*b*c^2*e^2*f^2 - 3*c^2*d*e^2*f^2 - 2*c^2*e^3*f^2 - 3*b*c*e^2*f^3 + 6*c^2*e^2*f^3 + 3*c*d*e^2*f^3 - 2*e^3*f^4) of Multivariate Polynomial Ring in x, y, z, t, b, c, d, e, f, l, m over Rational Field]\n",
      "b*c^3 + b*c^2*d - c^3*d - b*c^2*e - b*c^2*f - b*c*e*f + 3*c^2*e*f + c*d*e*f - c*e^2*f - c*e*f^2 - e^2*f^2\n",
      "[Ideal (b*c^3 + b*c^2*d - c^3*d - b*c^2*e - b*c^2*f - b*c*e*f + 3*c^2*e*f + c*d*e*f - c*e^2*f - c*e*f^2 - e^2*f^2) of Multivariate Polynomial Ring in x, y, z, t, b, c, d, e, f, l, m over Rational Field]\n",
      "b*c^4 + b*c^3*d - c^4*e - b*c^2*d*e + b*c^2*e^2 - c^3*e^2 - b*c^3*f - c^3*d*f - 2*b*c^2*e*f + 3*c^3*e*f + 2*c^2*d*e*f + b*c*e^2*f - c*d*e^2*f + c*e^3*f - 3*c*e^2*f^2 + e^3*f^2\n",
      "[Ideal (b*c^4 + b*c^3*d - c^4*e - b*c^2*d*e + b*c^2*e^2 - c^3*e^2 - b*c^3*f - c^3*d*f - 2*b*c^2*e*f + 3*c^3*e*f + 2*c^2*d*e*f + b*c*e^2*f - c*d*e^2*f + c*e^3*f - 3*c*e^2*f^2 + e^3*f^2) of Multivariate Polynomial Ring in x, y, z, t, b, c, d, e, f, l, m over Rational Field]\n",
      "b*c^4 + b*c^3*d - b*c^3*e - c^3*d*e - c^4*f - b*c^2*d*f - 2*b*c^2*e*f + 3*c^3*e*f + 2*c^2*d*e*f + b*c^2*f^2 - c^3*f^2 + b*c*e*f^2 - c*d*e*f^2 - 3*c*e^2*f^2 + c*e*f^3 + e^2*f^3\n",
      "[Ideal (b*c^4 + b*c^3*d - b*c^3*e - c^3*d*e - c^4*f - b*c^2*d*f - 2*b*c^2*e*f + 3*c^3*e*f + 2*c^2*d*e*f + b*c^2*f^2 - c^3*f^2 + b*c*e*f^2 - c*d*e*f^2 - 3*c*e^2*f^2 + c*e*f^3 + e^2*f^3) of Multivariate Polynomial Ring in x, y, z, t, b, c, d, e, f, l, m over Rational Field]\n",
      "b*c^3 + b*c^2*d - c^3*d - c^2*d*e - c^2*d*f - b*c*e*f + 3*c^2*e*f + c*d*e*f + c*e^2*f + c*e*f^2 - e^2*f^2\n",
      "[Ideal (b*c^3 + b*c^2*d - c^3*d - c^2*d*e - c^2*d*f - b*c*e*f + 3*c^2*e*f + c*d*e*f + c*e^2*f + c*e*f^2 - e^2*f^2) of Multivariate Polynomial Ring in x, y, z, t, b, c, d, e, f, l, m over Rational Field]\n",
      "b*c^2 + b*c*e - c^2*e - c*d*e + c*d*f + 2*e^2*f - e*f^2\n",
      "[Ideal (b*c^2 + b*c*e - c^2*e - c*d*e + c*d*f + 2*e^2*f - e*f^2) of Multivariate Polynomial Ring in x, y, z, t, b, c, d, e, f, l, m over Rational Field]\n",
      "b*c^2 + c*d*e + b*c*f - c^2*f - c*d*f - e^2*f + 2*e*f^2\n",
      "[Ideal (b*c^2 + c*d*e + b*c*f - c^2*f - c*d*f - e^2*f + 2*e*f^2) of Multivariate Polynomial Ring in x, y, z, t, b, c, d, e, f, l, m over Rational Field]\n",
      "b*c^3*d - c^4*d + c^4*e + b*c^2*d*e - c^3*e^2 - c^2*d*e^2 - b*c^3*f - c^3*d*f - 2*b*c^2*e*f + 3*c^3*e*f + 2*c^2*d*e*f - b*c*e^2*f + c*d*e^2*f + c*e^3*f - 3*c*e^2*f^2 - e^3*f^2\n",
      "[Ideal (b*c^3*d - c^4*d + c^4*e + b*c^2*d*e - c^3*e^2 - c^2*d*e^2 - b*c^3*f - c^3*d*f - 2*b*c^2*e*f + 3*c^3*e*f + 2*c^2*d*e*f - b*c*e^2*f + c*d*e^2*f + c*e^3*f - 3*c*e^2*f^2 - e^3*f^2) of Multivariate Polynomial Ring in x, y, z, t, b, c, d, e, f, l, m over Rational Field]\n",
      "c^2*d + b*c*e - c^2*e - c*d*e - b*c*f + 2*e^2*f - e*f^2\n",
      "[Ideal (c^2*d + b*c*e - c^2*e - c*d*e - b*c*f + 2*e^2*f - e*f^2) of Multivariate Polynomial Ring in x, y, z, t, b, c, d, e, f, l, m over Rational Field]\n",
      "b*c^2 + c^2*d - c^2*e - c*d*e + b*c*f - c^2*f + e^2*f + e*f^2\n",
      "[Ideal (b*c^2 + c^2*d - c^2*e - c*d*e + b*c*f - c^2*f + e^2*f + e*f^2) of Multivariate Polynomial Ring in x, y, z, t, b, c, d, e, f, l, m over Rational Field]\n",
      "b*c^3*d - c^4*d - b*c^3*e - c^3*d*e + c^4*f + b*c^2*d*f - 2*b*c^2*e*f + 3*c^3*e*f + 2*c^2*d*e*f - c^3*f^2 - c^2*d*f^2 - b*c*e*f^2 + c*d*e*f^2 - 3*c*e^2*f^2 + c*e*f^3 - e^2*f^3\n",
      "[Ideal (b*c^3*d - c^4*d - b*c^3*e - c^3*d*e + c^4*f + b*c^2*d*f - 2*b*c^2*e*f + 3*c^3*e*f + 2*c^2*d*e*f - c^3*f^2 - c^2*d*f^2 - b*c*e*f^2 + c*d*e*f^2 - 3*c*e^2*f^2 + c*e*f^3 - e^2*f^3) of Multivariate Polynomial Ring in x, y, z, t, b, c, d, e, f, l, m over Rational Field]\n",
      "c^2*d - b*c*e + b*c*f - c^2*f - c*d*f - e^2*f + 2*e*f^2\n",
      "[Ideal (c^2*d - b*c*e + b*c*f - c^2*f - c*d*f - e^2*f + 2*e*f^2) of Multivariate Polynomial Ring in x, y, z, t, b, c, d, e, f, l, m over Rational Field]\n",
      "b*c^2 + c^2*d + b*c*e - c^2*e - c^2*f - c*d*f + e^2*f + e*f^2\n",
      "[Ideal (b*c^2 + c^2*d + b*c*e - c^2*e - c^2*f - c*d*f + e^2*f + e*f^2) of Multivariate Polynomial Ring in x, y, z, t, b, c, d, e, f, l, m over Rational Field]\n"
     ]
    }
   ],
   "source": [
    "general_cubic = Cubic(cubic_new, line, sing_cubics)"
   ]
  },
  {
   "cell_type": "code",
   "execution_count": 29,
   "id": "1c302b0d-c266-49f5-ba06-2519cf329c21",
   "metadata": {},
   "outputs": [
    {
     "data": {
      "text/plain": [
       "[['E1', 'G2', 'F12'], -z*b*c^3 - y*b*c^2*d - z*b*c^2*d + z*c^3*d - y*c^2*d^2 + z*c^2*d^2 + y*b*c^2*e + y*c^2*d*e + y*b*c^2*f + y*c^2*d*f + 2*y*b*c*e*f + z*b*c*e*f - 2*y*c^2*e*f - 2*z*c^2*e*f - 3*z*c*d*e*f + 2*y*e^2*f^2 + 2*z*e^2*f^2,\n",
       " ['E1', 'G3', 'F13'], y - z,\n",
       " ['E1', 'G4', 'F14'], y,\n",
       " ['E1', 'G5', 'F15'], z*c - y*e,\n",
       " ['E1', 'G6', 'F16'], z*c - y*f,\n",
       " ['E2', 'G1', 'F12'], -x*b^2*c^2 + t*b^2*c^2 - t*b*c^3 - x*b*c^2*d - t*b*c^2*d + t*c^3*d + x*b*c^2*e + x*c^2*d*e + x*b*c^2*f + x*c^2*d*f + 3*t*b*c*e*f - 2*x*c^2*e*f - 2*t*c^2*e*f - 2*x*c*d*e*f - t*c*d*e*f + 2*x*e^2*f^2 + 2*t*e^2*f^2,\n",
       " ['E2', 'G3', 'F23'], x - t,\n",
       " ['E2', 'G4', 'F24'], x,\n",
       " ['E2', 'G5', 'F25'], t*c + x*e,\n",
       " ['E2', 'G6', 'F26'], t*c + x*f,\n",
       " ['E3', 'G1', 'F13'], x*b*c - y*b*c + z*b*c + t*b*c - z*c^2 - t*c^2 - x*c*e + y*c*e - x*c*f + y*c*f + 2*x*e*f - 2*y*e*f + z*e*f + t*e*f,\n",
       " ['E3', 'G2', 'F23'], -z*c^2 - t*c^2 + x*c*d - y*c*d - z*c*d - t*c*d - x*c*e + y*c*e - x*c*f + y*c*f - 2*x*e*f + 2*y*e*f + z*e*f + t*e*f,\n",
       " ['E3', 'G4', 'F34'], x - y,\n",
       " ['E3', 'G5', 'F35'], z*c + t*c + x*e - y*e,\n",
       " ['E3', 'G6', 'F36'], z*c + t*c + x*f - y*f,\n",
       " ['E4', 'G1', 'F14'], -x*b^2*c^2 + t*b^2*c^2 + x*b*c^3 - y*b*c^3 + z*b*c^3 - z*c^4 - t*c^4 - y*b*c^2*d + z*b*c^2*d - z*c^3*d + x*b*c^2*e - x*c^3*e + y*c^3*e + y*c^2*d*e + x*b*c^2*f - x*c^3*f + y*c^3*f + y*c^2*d*f - x*b*c*e*f + y*b*c*e*f - z*b*c*e*f + 2*t*b*c*e*f - 2*y*c^2*e*f + 2*z*c^2*e*f - 2*y*c*d*e*f + z*c*d*e*f + x*c*e^2*f - y*c*e^2*f + x*c*e*f^2 - y*c*e*f^2 + 2*y*e^2*f^2 - z*e^2*f^2 + t*e^2*f^2,\n",
       " ['E4', 'G2', 'F24'], -t*b*c^3 + z*c^4 + t*c^4 + x*b*c^2*d - t*b*c^2*d - x*c^3*d + y*c^3*d + t*c^3*d + y*c^2*d^2 - z*c^2*d^2 - x*b*c^2*e + x*c^3*e - y*c^3*e - y*c^2*d*e - x*b*c^2*f + x*c^3*f - y*c^3*f - y*c^2*d*f - 2*x*b*c*e*f + t*b*c*e*f + 2*x*c^2*e*f - 2*t*c^2*e*f + x*c*d*e*f - y*c*d*e*f + 2*z*c*d*e*f - t*c*d*e*f - x*c*e^2*f + y*c*e^2*f - x*c*e*f^2 + y*c*e*f^2 - 2*x*e^2*f^2 - z*e^2*f^2 + t*e^2*f^2,\n",
       " ['E4', 'G3', 'F34'], -x*b*c + t*b*c + x*c^2 - y*c^2 + z*c^2 - t*c^2 - y*c*d + z*c*d - x*e*f + y*e*f - z*e*f + t*e*f,\n",
       " ['E4', 'G5', 'F45'], t*b*c^3 - z*c^4 - t*c^4 - z*c^3*d + x*b*c^2*e - x*c^3*e + y*c^3*e + y*c^2*d*e + t*b*c^2*f + z*c^3*f - t*c^3*f + z*c^2*d*f + x*b*c*e*f - x*c^2*e*f - y*c^2*e*f + z*c^2*e*f + t*c^2*e*f - y*c*d*e*f + x*c*e^2*f - y*c*e^2*f - z*c*e*f^2 + t*c*e*f^2 + x*e^2*f^2 + y*e^2*f^2,\n",
       " ['E4', 'G6', 'F46'], t*b*c^3 - z*c^4 - t*c^4 - z*c^3*d + t*b*c^2*e + z*c^3*e - t*c^3*e + z*c^2*d*e + x*b*c^2*f - x*c^3*f + y*c^3*f + y*c^2*d*f + x*b*c*e*f - x*c^2*e*f - y*c^2*e*f + z*c^2*e*f + t*c^2*e*f - y*c*d*e*f - z*c*e^2*f + t*c*e^2*f + x*c*e*f^2 - y*c*e*f^2 + x*e^2*f^2 + y*e^2*f^2,\n",
       " ['E5', 'G1', 'F15'], x*b^2*c^2 - t*b^2*c^2 + t*b*c^3 + y*b*c^2*d - z*b*c^2*d + z*c^3*d - x*b*c^2*e - y*c^2*d*e - y*b*c^2*f + z*b*c^2*f + t*b*c^2*f - z*c^3*f - t*c^3*f - y*c^2*d*f + x*b*c*e*f - y*b*c*e*f + z*b*c*e*f - 2*t*b*c*e*f + x*c^2*e*f + y*c^2*e*f - z*c^2*e*f + t*c^2*e*f + 2*y*c*d*e*f - z*c*d*e*f - x*c*e^2*f + y*c*e^2*f - x*c^2*f^2 + y*c^2*f^2 + x*c*e*f^2 - y*c*e*f^2 + z*c*e*f^2 + t*c*e*f^2 - 2*y*e^2*f^2 + z*e^2*f^2 - t*e^2*f^2,\n",
       " ['E5', 'G2', 'F25'], -t*b*c^3 + x*b*c^2*d - t*b*c^2*d - z*c^3*d + y*c^2*d^2 - z*c^2*d^2 - x*b*c^2*e - y*c^2*d*e - x*b*c^2*f + z*c^3*f + t*c^3*f - x*c^2*d*f + z*c^2*d*f + t*c^2*d*f - 2*x*b*c*e*f + t*b*c*e*f + x*c^2*e*f + y*c^2*e*f + z*c^2*e*f - t*c^2*e*f + x*c*d*e*f - y*c*d*e*f + 2*z*c*d*e*f - t*c*d*e*f - x*c*e^2*f + y*c*e^2*f + x*c^2*f^2 - y*c^2*f^2 + x*c*e*f^2 - y*c*e*f^2 - z*c*e*f^2 - t*c*e*f^2 - 2*x*e^2*f^2 - z*e^2*f^2 + t*e^2*f^2,\n",
       " ['E5', 'G3', 'F35'], -x*b*c + t*b*c - y*c*d + z*c*d + x*c*f + y*c*f - z*c*f - t*c*f - x*e*f + y*e*f - z*e*f + t*e*f,\n",
       " ['E5', 'G4', 'F45'], -x*b*c^2 - y*c^2*d - x*b*c*f + x*c^2*f + y*c^2*f + y*c*d*f - x*c*e*f + y*c*e*f + x*c*f^2 - y*c*f^2 - x*e*f^2 - y*e*f^2,\n",
       " ['E5', 'G6', 'F56'], t*b*c^2 + z*c^2*d + x*b*c*f - z*c^2*f - t*c^2*f - y*c*d*f - z*c*e*f + t*c*e*f - x*c*f^2 + y*c*f^2 + x*e*f^2 + y*e*f^2,\n",
       " ['E6', 'G1', 'F16'], x*b^2*c^2 - t*b^2*c^2 + t*b*c^3 + y*b*c^2*d - z*b*c^2*d + z*c^3*d - y*b*c^2*e + z*b*c^2*e + t*b*c^2*e - z*c^3*e - t*c^3*e - y*c^2*d*e - x*c^2*e^2 + y*c^2*e^2 - x*b*c^2*f - y*c^2*d*f + x*b*c*e*f - y*b*c*e*f + z*b*c*e*f - 2*t*b*c*e*f + x*c^2*e*f + y*c^2*e*f - z*c^2*e*f + t*c^2*e*f + 2*y*c*d*e*f - z*c*d*e*f + x*c*e^2*f - y*c*e^2*f + z*c*e^2*f + t*c*e^2*f - x*c*e*f^2 + y*c*e*f^2 - 2*y*e^2*f^2 + z*e^2*f^2 - t*e^2*f^2,\n",
       " ['E6', 'G2', 'F26'], -t*b*c^3 + x*b*c^2*d - t*b*c^2*d - z*c^3*d + y*c^2*d^2 - z*c^2*d^2 - x*b*c^2*e + z*c^3*e + t*c^3*e - x*c^2*d*e + z*c^2*d*e + t*c^2*d*e + x*c^2*e^2 - y*c^2*e^2 - x*b*c^2*f - y*c^2*d*f - 2*x*b*c*e*f + t*b*c*e*f + x*c^2*e*f + y*c^2*e*f + z*c^2*e*f - t*c^2*e*f + x*c*d*e*f - y*c*d*e*f + 2*z*c*d*e*f - t*c*d*e*f + x*c*e^2*f - y*c*e^2*f - z*c*e^2*f - t*c*e^2*f - x*c*e*f^2 + y*c*e*f^2 - 2*x*e^2*f^2 - z*e^2*f^2 + t*e^2*f^2,\n",
       " ['E6', 'G3', 'F36'], -x*b*c + t*b*c - y*c*d + z*c*d + x*c*e + y*c*e - z*c*e - t*c*e - x*e*f + y*e*f - z*e*f + t*e*f,\n",
       " ['E6', 'G4', 'F46'], -x*b*c^2 - y*c^2*d - x*b*c*e + x*c^2*e + y*c^2*e + y*c*d*e + x*c*e^2 - y*c*e^2 - x*c*e*f + y*c*e*f - x*e^2*f - y*e^2*f,\n",
       " ['E6', 'G5', 'F56'], t*b*c^2 + z*c^2*d + x*b*c*e - z*c^2*e - t*c^2*e - y*c*d*e - x*c*e^2 + y*c*e^2 - z*c*e*f + t*c*e*f + x*e^2*f + y*e^2*f,\n",
       " ['F12', 'F34', 'F56'], -x*b^2*c^2 + t*b^2*c^2 + z*b*c^3 - t*b*c^3 - x*b*c^2*d + y*b*c^2*d + z*b*c^2*d - t*b*c^2*d - z*c^3*d + t*c^3*d + y*c^2*d^2 - z*c^2*d^2 + x*b*c^2*e - y*b*c^2*e + x*c^2*d*e - y*c^2*d*e + x*b*c^2*f - y*b*c^2*f + x*c^2*d*f - y*c^2*d*f - 2*y*b*c*e*f - z*b*c*e*f + 3*t*b*c*e*f - 2*x*c^2*e*f + 2*y*c^2*e*f + 2*z*c^2*e*f - 2*t*c^2*e*f - 2*x*c*d*e*f + 3*z*c*d*e*f - t*c*d*e*f + 2*x*e^2*f^2 - 2*y*e^2*f^2 - 2*z*e^2*f^2 + 2*t*e^2*f^2,\n",
       " ['F12', 'F35', 'F46'], -x*b^2*c^3 + t*b^2*c^3 - z*b*c^4 - t*b*c^4 - x*b*c^3*d - y*b*c^3*d - z*b*c^3*d - t*b*c^3*d + z*c^4*d + t*c^4*d - y*c^3*d^2 + z*c^3*d^2 - x*b^2*c^2*e + t*b^2*c^2*e + x*b*c^3*e + y*b*c^3*e + z*b*c^3*e - t*b*c^3*e - x*b*c^2*d*e + y*b*c^2*d*e + z*b*c^2*d*e - t*b*c^2*d*e + x*c^3*d*e + y*c^3*d*e - z*c^3*d*e + t*c^3*d*e + y*c^2*d^2*e - z*c^2*d^2*e + x*b*c^2*e^2 - y*b*c^2*e^2 + x*c^2*d*e^2 - y*c^2*d*e^2 + x*b*c^3*f + y*b*c^3*f + x*c^3*d*f + y*c^3*d*f + x*b*c^2*e*f + y*b*c^2*e*f + z*b*c^2*e*f + 3*t*b*c^2*e*f - 2*x*c^3*e*f - 2*y*c^3*e*f - 2*z*c^3*e*f - 2*t*c^3*e*f - x*c^2*d*e*f - y*c^2*d*e*f - 3*z*c^2*d*e*f - t*c^2*d*e*f - 2*y*b*c*e^2*f - z*b*c*e^2*f + 3*t*b*c*e^2*f - 2*x*c^2*e^2*f + 2*y*c^2*e^2*f + 2*z*c^2*e^2*f - 2*t*c^2*e^2*f - 2*x*c*d*e^2*f + 3*z*c*d*e^2*f - t*c*d*e^2*f + 2*x*c*e^2*f^2 + 2*y*c*e^2*f^2 + 2*z*c*e^2*f^2 + 2*t*c*e^2*f^2 + 2*x*e^3*f^2 - 2*y*e^3*f^2 - 2*z*e^3*f^2 + 2*t*e^3*f^2,\n",
       " ['F12', 'F36', 'F45'], -x*b^2*c^3 + t*b^2*c^3 - z*b*c^4 - t*b*c^4 - x*b*c^3*d - y*b*c^3*d - z*b*c^3*d - t*b*c^3*d + z*c^4*d + t*c^4*d - y*c^3*d^2 + z*c^3*d^2 + x*b*c^3*e + y*b*c^3*e + x*c^3*d*e + y*c^3*d*e - x*b^2*c^2*f + t*b^2*c^2*f + x*b*c^3*f + y*b*c^3*f + z*b*c^3*f - t*b*c^3*f - x*b*c^2*d*f + y*b*c^2*d*f + z*b*c^2*d*f - t*b*c^2*d*f + x*c^3*d*f + y*c^3*d*f - z*c^3*d*f + t*c^3*d*f + y*c^2*d^2*f - z*c^2*d^2*f + x*b*c^2*e*f + y*b*c^2*e*f + z*b*c^2*e*f + 3*t*b*c^2*e*f - 2*x*c^3*e*f - 2*y*c^3*e*f - 2*z*c^3*e*f - 2*t*c^3*e*f - x*c^2*d*e*f - y*c^2*d*e*f - 3*z*c^2*d*e*f - t*c^2*d*e*f + x*b*c^2*f^2 - y*b*c^2*f^2 + x*c^2*d*f^2 - y*c^2*d*f^2 - 2*y*b*c*e*f^2 - z*b*c*e*f^2 + 3*t*b*c*e*f^2 - 2*x*c^2*e*f^2 + 2*y*c^2*e*f^2 + 2*z*c^2*e*f^2 - 2*t*c^2*e*f^2 - 2*x*c*d*e*f^2 + 3*z*c*d*e*f^2 - t*c*d*e*f^2 + 2*x*c*e^2*f^2 + 2*y*c*e^2*f^2 + 2*z*c*e^2*f^2 + 2*t*c*e^2*f^2 + 2*x*e^2*f^3 - 2*y*e^2*f^3 - 2*z*e^2*f^3 + 2*t*e^2*f^3,\n",
       " ['F13', 'F24', 'F56'], x*b*c + t*b*c - z*c^2 - t*c^2 - y*c*d + z*c*d - x*c*e + y*c*e - x*c*f + y*c*f + 2*x*e*f - z*e*f + t*e*f,\n",
       " ['F13', 'F25', 'F46'], x*b*c^2 + t*b*c^2 - z*c^3 - t*c^3 + y*c^2*d - z*c^2*d + x*b*c*e + t*b*c*e - x*c^2*e - y*c^2*e + z*c^2*e - t*c^2*e - y*c*d*e + z*c*d*e - x*c*e^2 + y*c*e^2 - x*c^2*f + y*c^2*f + x*c*e*f - y*c*e*f + z*c*e*f + t*c*e*f + 2*x*e^2*f - z*e^2*f + t*e^2*f,\n",
       " ['F13', 'F26', 'F45'], x*b*c^2 + t*b*c^2 - z*c^3 - t*c^3 + y*c^2*d - z*c^2*d - x*c^2*e + y*c^2*e + x*b*c*f + t*b*c*f - x*c^2*f - y*c^2*f + z*c^2*f - t*c^2*f - y*c*d*f + z*c*d*f + x*c*e*f - y*c*e*f + z*c*e*f + t*c*e*f - x*c*f^2 + y*c*f^2 + 2*x*e*f^2 - z*e*f^2 + t*e*f^2,\n",
       " ['F14', 'F23', 'F56'], -x*b*c + t*b*c + z*c^2 + t*c^2 + y*c*d + z*c*d + x*c*e - y*c*e + x*c*f - y*c*f - 2*y*e*f - z*e*f + t*e*f,\n",
       " ['F14', 'F25', 'F36'], -x*b*c + t*b*c + z*c^2 + t*c^2 - y*c*d + z*c*d + x*c*e + y*c*e + x*c*f - y*c*f - z*e*f + t*e*f,\n",
       " ['F14', 'F26', 'F35'], -x*b*c + t*b*c + z*c^2 + t*c^2 - y*c*d + z*c*d + x*c*e - y*c*e + x*c*f + y*c*f - z*e*f + t*e*f,\n",
       " ['F15', 'F23', 'F46'], -x*b*c^2 + t*b*c^2 - z*c^3 - t*c^3 - y*c^2*d - z*c^2*d - x*b*c*e + t*b*c*e + x*c^2*e + y*c^2*e + z*c^2*e - t*c^2*e + y*c*d*e + z*c*d*e + x*c*e^2 - y*c*e^2 - x*c^2*f + y*c^2*f - x*c*e*f + y*c*e*f + z*c*e*f + t*c*e*f - 2*y*e^2*f - z*e^2*f + t*e^2*f,\n",
       " ['F15', 'F24', 'F36'], -x*b*c + t*b*c - z*c^2 - t*c^2 - y*c*d + z*c*d + x*c*e + y*c*e - x*c*f + y*c*f - z*e*f + t*e*f,\n",
       " ['F15', 'F26', 'F34'], -x*b*c + t*b*c + z*c^2 - t*c^2 - y*c*d + z*c*d + x*c*e - y*c*e - x*c*f + y*c*f - z*e*f + t*e*f,\n",
       " ['F16', 'F23', 'F45'], -x*b*c^2 + t*b*c^2 - z*c^3 - t*c^3 - y*c^2*d - z*c^2*d - x*c^2*e + y*c^2*e - x*b*c*f + t*b*c*f + x*c^2*f + y*c^2*f + z*c^2*f - t*c^2*f + y*c*d*f + z*c*d*f - x*c*e*f + y*c*e*f + z*c*e*f + t*c*e*f + x*c*f^2 - y*c*f^2 - 2*y*e*f^2 - z*e*f^2 + t*e*f^2,\n",
       " ['F16', 'F24', 'F35'], -x*b*c + t*b*c - z*c^2 - t*c^2 - y*c*d + z*c*d - x*c*e + y*c*e + x*c*f + y*c*f - z*e*f + t*e*f,\n",
       " ['F16', 'F25', 'F34'], -x*b*c + t*b*c + z*c^2 - t*c^2 - y*c*d + z*c*d - x*c*e + y*c*e + x*c*f - y*c*f - z*e*f + t*e*f]"
      ]
     },
     "execution_count": 29,
     "metadata": {},
     "output_type": "execute_result"
    }
   ],
   "source": [
    "general_cubic.find_tritangent_planes()"
   ]
  },
  {
   "cell_type": "code",
   "execution_count": 7,
   "id": "797864b0-38b8-4d02-9b7b-921da0f681af",
   "metadata": {},
   "outputs": [],
   "source": [
    "SE1 = general_cubic.subs({b:-(c*c+e*f)/c})"
   ]
  },
  {
   "cell_type": "code",
   "execution_count": 8,
   "id": "173e714c-b8b4-48d7-a4e8-39ab9befd042",
   "metadata": {},
   "outputs": [],
   "source": [
    "SE2 = SE1.subs({d:(c*c+e*f)/c})"
   ]
  },
  {
   "cell_type": "code",
   "execution_count": 9,
   "id": "b5aa177e-6b22-459a-9fce-f6a8e85bc737",
   "metadata": {},
   "outputs": [],
   "source": [
    "SE3 = SE1.subs({d:(3*e*f - c^2 + c*f + c*e)/(2*c)})"
   ]
  },
  {
   "cell_type": "code",
   "execution_count": 10,
   "id": "b1553129-87f0-465d-ac1a-08f034a6cb47",
   "metadata": {},
   "outputs": [],
   "source": [
    "SE4 = SE3.subs({f:c*(3*c-e)/(c+e)})"
   ]
  },
  {
   "cell_type": "code",
   "execution_count": 11,
   "id": "76873854-dee3-4140-9b2e-44ff1ee1eb10",
   "metadata": {},
   "outputs": [],
   "source": [
    "SE6 = SE3.subs({f: -c*(5*c+e)/(c+e)})"
   ]
  },
  {
   "cell_type": "code",
   "execution_count": null,
   "id": "ed021d49-8e52-4fc4-9339-821eaf1e1dcd",
   "metadata": {},
   "outputs": [],
   "source": []
  }
 ],
 "metadata": {
  "kernelspec": {
   "display_name": "SageMath 9.4",
   "language": "sage",
   "name": "sagemath"
  },
  "language_info": {
   "codemirror_mode": {
    "name": "ipython",
    "version": 3
   },
   "file_extension": ".py",
   "mimetype": "text/x-python",
   "name": "python",
   "nbconvert_exporter": "python",
   "pygments_lexer": "ipython3",
   "version": "3.7.12"
  }
 },
 "nbformat": 4,
 "nbformat_minor": 5
}
