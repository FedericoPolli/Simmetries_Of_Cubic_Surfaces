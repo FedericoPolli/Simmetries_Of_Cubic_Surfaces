{
 "cells": [
  {
   "cell_type": "code",
   "execution_count": 7,
   "id": "22714bf4-d6b0-482c-a96f-1be66c8d9cd0",
   "metadata": {},
   "outputs": [],
   "source": [
    "load('Imports/Utility.sage', 'Imports/Point.sage', 'Imports/Line.sage', 'Imports/TritangentPlane.sage', 'Imports/Group.sage', 'Imports/Cubic.sage')\n",
    "import multiprocessing as mp\n",
    "import pickle"
   ]
  },
  {
   "cell_type": "code",
   "execution_count": 8,
   "id": "c716bfe3",
   "metadata": {},
   "outputs": [],
   "source": [
    "P.<x,y,z,t,b,c,d,e,f,l,m> = PolynomialRing(QQ)"
   ]
  },
  {
   "cell_type": "code",
   "execution_count": 9,
   "id": "297a6fbf",
   "metadata": {},
   "outputs": [],
   "source": [
    "cubic_new = e*f*(2*x^2*y-2*x*y^2+x*z^2-x*z*t-y*t^2+y*z*t)+b*c*(x-t)*(x*z+y*t)+c*c*(z+t)*(y*t-x*z)+d*c*(y-z)*(x*z+y*t)+(e+f)*c*(x-y)*(y*t-x*z)"
   ]
  },
  {
   "cell_type": "code",
   "execution_count": 10,
   "id": "3ba0c3ee",
   "metadata": {},
   "outputs": [],
   "source": [
    "sing_cubics = (-1) * (-c + f) * (-c + e) * c * (c + f) * (c + e) * (-e + f)^2 * (-c*d + c*f + e*f) * (-c*d + c*e + e*f) * (-c^2 - c*d + e*f) * (b*c - c*f + e*f) * (b*c - c*e + e*f) * (b*c - c*d + 2*e*f) * (b*c - c^2 + e*f) * (b*c^2 + c^2*d + b*c*f - 2*c^2*f - c*d*f + 2*e*f^2) * (b*c^2 + c^2*d + b*c*e - 2*c^2*e - c*d*e + 2*e^2*f) * (-b*c^3 - 2*b*c^2*d + c^3*d + b*c^2*e + c^2*d*e + b*c^2*f + c^2*d*f + 3*b*c*e*f - 4*c^2*e*f - 3*c*d*e*f + 4*e^2*f^2)"
   ]
  },
  {
   "cell_type": "code",
   "execution_count": 11,
   "id": "ebd4af0d",
   "metadata": {},
   "outputs": [],
   "source": [
    "line = Line([y, z])"
   ]
  },
  {
   "cell_type": "code",
   "execution_count": 12,
   "id": "5b7c57c7-426c-4dba-ba46-dbdbe2d10535",
   "metadata": {},
   "outputs": [
    {
     "name": "stdout",
     "output_type": "stream",
     "text": [
      "CPU times: user 1.49 s, sys: 4.16 ms, total: 1.49 s\n",
      "Wall time: 1.5 s\n"
     ]
    }
   ],
   "source": [
    "%time general_cubic = Cubic(cubic_new, line, sing_cubics)"
   ]
  },
  {
   "cell_type": "code",
   "execution_count": 13,
   "id": "be0c1a4d-7f9c-4ded-ada9-44749d011496",
   "metadata": {},
   "outputs": [
    {
     "name": "stdout",
     "output_type": "stream",
     "text": [
      "CPU times: user 1.51 s, sys: 0 ns, total: 1.51 s\n",
      "Wall time: 1.51 s\n"
     ]
    }
   ],
   "source": [
    "%time SE1 = general_cubic.subs({b:-(c*c+e*f)/c})"
   ]
  },
  {
   "cell_type": "code",
   "execution_count": 14,
   "id": "173e714c-b8b4-48d7-a4e8-39ab9befd042",
   "metadata": {},
   "outputs": [
    {
     "name": "stdout",
     "output_type": "stream",
     "text": [
      "CPU times: user 433 ms, sys: 4.34 ms, total: 437 ms\n",
      "Wall time: 450 ms\n"
     ]
    }
   ],
   "source": [
    "%time SE2 = SE1.subs({d:(c*c+e*f)/c})"
   ]
  },
  {
   "cell_type": "code",
   "execution_count": 15,
   "id": "b5aa177e-6b22-459a-9fce-f6a8e85bc737",
   "metadata": {},
   "outputs": [
    {
     "name": "stdout",
     "output_type": "stream",
     "text": [
      "CPU times: user 641 ms, sys: 4.21 ms, total: 645 ms\n",
      "Wall time: 656 ms\n"
     ]
    }
   ],
   "source": [
    "%time SE3 = SE1.subs({d:(3*e*f - c^2 + c*f + c*e)/(2*c)})"
   ]
  },
  {
   "cell_type": "code",
   "execution_count": 16,
   "id": "b1553129-87f0-465d-ac1a-08f034a6cb47",
   "metadata": {},
   "outputs": [
    {
     "name": "stdout",
     "output_type": "stream",
     "text": [
      "CPU times: user 353 ms, sys: 3.84 ms, total: 357 ms\n",
      "Wall time: 356 ms\n"
     ]
    }
   ],
   "source": [
    "%time SE4 = SE3.subs({f:c*(3*c-e)/(c+e)})"
   ]
  },
  {
   "cell_type": "code",
   "execution_count": 17,
   "id": "76873854-dee3-4140-9b2e-44ff1ee1eb10",
   "metadata": {},
   "outputs": [
    {
     "name": "stdout",
     "output_type": "stream",
     "text": [
      "CPU times: user 339 ms, sys: 4.24 ms, total: 344 ms\n",
      "Wall time: 347 ms\n"
     ]
    }
   ],
   "source": [
    "%time SE6 = SE3.subs({f: -c*(5*c+e)/(c+e)})"
   ]
  },
  {
   "cell_type": "code",
   "execution_count": null,
   "id": "b90620f3-6985-421d-a094-c880bf50b473",
   "metadata": {},
   "outputs": [],
   "source": []
  },
  {
   "cell_type": "code",
   "execution_count": 9,
   "id": "51d55c46-9b81-48ef-8a04-62677cbceb00",
   "metadata": {},
   "outputs": [
    {
     "data": {
      "text/plain": [
       "\\left[(-c^{2} - c d + e f) \\cdot (b c - c^{2} + e f) \\cdot (b c - c d + 2 e f)^{2}, \\left(-1\\right) \\cdot (b c - c d + 2 e f) \\cdot (b c - c^{2} + e f) \\cdot (-b c^{2} d - c^{2} d^{2} + b c^{2} e + c^{2} d e + b c^{2} f + c^{2} d f + 2 b c e f - 2 c^{2} e f + 2 e^{2} f^{2}), 0, 0, (-c^{2} - c d + e f) \\cdot (b c - c d + 2 e f) \\cdot (-b^{2} c^{2} - b c^{2} d + b c^{2} e + c^{2} d e + b c^{2} f + c^{2} d f - 2 c^{2} e f - 2 c d e f + 2 e^{2} f^{2}), \\left(-1\\right) \\cdot (-b c^{2} d - c^{2} d^{2} + b c^{2} e + c^{2} d e + b c^{2} f + c^{2} d f + 2 b c e f - 2 c^{2} e f + 2 e^{2} f^{2}) \\cdot (-b^{2} c^{2} - b c^{2} d + b c^{2} e + c^{2} d e + b c^{2} f + c^{2} d f - 2 c^{2} e f - 2 c d e f + 2 e^{2} f^{2})\\right]"
      ]
     },
     "execution_count": 9,
     "metadata": {},
     "output_type": "execute_result"
    }
   ],
   "source": [
    "latex([el.factor() if el!=0 else el for el in general_cubic.cl_lines['F12'].plucker])"
   ]
  },
  {
   "cell_type": "code",
   "execution_count": 11,
   "id": "9de38e48-e231-46ab-a2d6-21526890facd",
   "metadata": {},
   "outputs": [],
   "source": [
    "coeff = [e*f, b*c, c*c, d*c, e*c, f*c]"
   ]
  },
  {
   "cell_type": "code",
   "execution_count": 12,
   "id": "3db2019d-5c80-444b-9999-115bbde85738",
   "metadata": {},
   "outputs": [
    {
     "name": "stdout",
     "output_type": "stream",
     "text": [
      "(2 x^{2} y - 2 x y^{2} + x z^{2} - x z t + y z t - y t^{2})\n",
      "(x - t) \\cdot (x z + y t)\n",
      "\\left(-1\\right) \\cdot (z + t) \\cdot (x z - y t)\n",
      "(y - z) \\cdot (x z + y t)\n",
      "(x - y) \\cdot (-x z + y t)\n",
      "(x - y) \\cdot (-x z + y t)\n"
     ]
    }
   ],
   "source": [
    "for var in coeff:\n",
    "    print(latex(cubic_new.coefficient(var).factor()))"
   ]
  },
  {
   "cell_type": "code",
   "execution_count": 13,
   "id": "41d3b8f3-5e2f-4f81-8e65-a0b53d64bf50",
   "metadata": {},
   "outputs": [
    {
     "data": {
      "text/plain": [
       "\\left(-1\\right) \\cdot (-c + f) \\cdot (-c + e) \\cdot c \\cdot (c + f) \\cdot (c + e) \\cdot (-e + f)^{2} \\cdot (-c d + c f + e f) \\cdot (-c d + c e + e f) \\cdot (-c^{2} - c d + e f) \\cdot (b c - c f + e f) \\cdot (b c - c e + e f) \\cdot (b c - c d + 2 e f) \\cdot (b c - c^{2} + e f) \\cdot (b c^{2} + c^{2} d + b c f - 2 c^{2} f - c d f + 2 e f^{2}) \\cdot (b c^{2} + c^{2} d + b c e - 2 c^{2} e - c d e + 2 e^{2} f) \\cdot (-b c^{3} - 2 b c^{2} d + c^{3} d + b c^{2} e + c^{2} d e + b c^{2} f + c^{2} d f + 3 b c e f - 4 c^{2} e f - 3 c d e f + 4 e^{2} f^{2})"
      ]
     },
     "execution_count": 13,
     "metadata": {},
     "output_type": "execute_result"
    }
   ],
   "source": [
    "latex(sing_cubics.factor())"
   ]
  },
  {
   "cell_type": "code",
   "execution_count": 14,
   "id": "2a12dff0-83f1-4e34-b3c1-5f7441afe1b0",
   "metadata": {},
   "outputs": [
    {
     "name": "stdout",
     "output_type": "stream",
     "text": [
      "E_{1} = \\left[0, 0, 1, 0, 0, 0\\right]\n",
      "E_{2} = \\left[0, 0, 0, 1, 0, 0\\right]\n",
      "E_{3} = \\left[0, 1, -1, 1, -1, 0\\right]\n",
      "E_{4} = \\left[\\left(2\\right) \\cdot c^{2} \\cdot (-c^{2} - c d + e f) \\cdot (b c - c^{2} + e f), \\left(-1\\right) \\cdot (-c^{2} - c e - c f + e f) \\cdot (-c^{2} - c d + e f) \\cdot (b c - c^{2} + e f), \\left(-1\\right) \\cdot (-c + f) \\cdot (-c + e) \\cdot (-c^{2} - c d + e f)^{2}, (c + f) \\cdot (c + e) \\cdot (b c - c^{2} + e f)^{2}, (-c^{2} + c e + c f + e f) \\cdot (-c^{2} - c d + e f) \\cdot (b c - c^{2} + e f), \\left(2\\right) \\cdot f \\cdot e \\cdot (-c^{2} - c d + e f) \\cdot (b c - c^{2} + e f)\\right]\n",
      "E_{5} = \\left[0, (c - f) \\cdot (-c d + c f + e f) \\cdot (b c - c f + e f), (c - f) \\cdot (-c d + c f + e f)^{2}, (c + f) \\cdot (b c - c f + e f)^{2}, (c + f) \\cdot (-c d + c f + e f) \\cdot (b c - c f + e f), \\left(2\\right) \\cdot f \\cdot (-c d + c f + e f) \\cdot (b c - c f + e f)\\right]\n",
      "E_{6} = \\left[0, (c - e) \\cdot (-c d + c e + e f) \\cdot (b c - c e + e f), (c - e) \\cdot (-c d + c e + e f)^{2}, (c + e) \\cdot (b c - c e + e f)^{2}, (c + e) \\cdot (-c d + c e + e f) \\cdot (b c - c e + e f), \\left(2\\right) \\cdot e \\cdot (-c d + c e + e f) \\cdot (b c - c e + e f)\\right]\n",
      "G_{1} = \\left[(b c - c d + 2 e f) \\cdot (b c - c^{2} + e f)^{2}, (b c - c e - c f + 2 e f) \\cdot (b c - c d + 2 e f) \\cdot (b c - c^{2} + e f), 0, \\left(2\\right) \\cdot (b c - c f + e f) \\cdot (b c - c e + e f) \\cdot (b c - c^{2} + e f), (b c - c^{2} + e f) \\cdot (-b^{2} c^{2} - b c^{2} d + b c^{2} e + c^{2} d e + b c^{2} f + c^{2} d f - 2 c^{2} e f - 2 c d e f + 2 e^{2} f^{2}), \\left(-1\\right) \\cdot (-b c + c e + c f - 2 e f) \\cdot (-b^{2} c^{2} - b c^{2} d + b c^{2} e + c^{2} d e + b c^{2} f + c^{2} d f - 2 c^{2} e f - 2 c d e f + 2 e^{2} f^{2})\\right]\n",
      "G_{2} = \\left[\\left(-1\\right) \\cdot (b c - c d + 2 e f) \\cdot (-c^{2} - c d + e f)^{2}, (-c^{2} - c d + e f) \\cdot (-b c^{2} d - c^{2} d^{2} + b c^{2} e + c^{2} d e + b c^{2} f + c^{2} d f + 2 b c e f - 2 c^{2} e f + 2 e^{2} f^{2}), \\left(2\\right) \\cdot (-c d + c f + e f) \\cdot (-c d + c e + e f) \\cdot (-c^{2} - c d + e f), 0, (-c d + c e + c f + 2 e f) \\cdot (-c^{2} - c d + e f) \\cdot (b c - c d + 2 e f), \\left(-1\\right) \\cdot (-c d + c e + c f + 2 e f) \\cdot (-b c^{2} d - c^{2} d^{2} + b c^{2} e + c^{2} d e + b c^{2} f + c^{2} d f + 2 b c e f - 2 c^{2} e f + 2 e^{2} f^{2})\\right]\n",
      "G_{3} = \\left[1, 1, 0, 0, -1, -1\\right]\n",
      "G_{4} = \\left[0, 0, 0, 0, 0, 1\\right]\n",
      "G_{5} = \\left[\\left(-1\\right) \\cdot c^{2}, \\left(-1\\right) \\cdot e \\cdot c, 0, 0, \\left(-1\\right) \\cdot e \\cdot c, \\left(-1\\right) \\cdot e^{2}\\right]\n",
      "G_{6} = \\left[\\left(-1\\right) \\cdot c^{2}, \\left(-1\\right) \\cdot f \\cdot c, 0, 0, \\left(-1\\right) \\cdot f \\cdot c, \\left(-1\\right) \\cdot f^{2}\\right]\n",
      "F_{12} = \\left[(-c^{2} - c d + e f) \\cdot (b c - c^{2} + e f) \\cdot (b c - c d + 2 e f)^{2}, \\left(-1\\right) \\cdot (b c - c d + 2 e f) \\cdot (b c - c^{2} + e f) \\cdot (-b c^{2} d - c^{2} d^{2} + b c^{2} e + c^{2} d e + b c^{2} f + c^{2} d f + 2 b c e f - 2 c^{2} e f + 2 e^{2} f^{2}), 0, 0, (-c^{2} - c d + e f) \\cdot (b c - c d + 2 e f) \\cdot (-b^{2} c^{2} - b c^{2} d + b c^{2} e + c^{2} d e + b c^{2} f + c^{2} d f - 2 c^{2} e f - 2 c d e f + 2 e^{2} f^{2}), \\left(-1\\right) \\cdot (-b c^{2} d - c^{2} d^{2} + b c^{2} e + c^{2} d e + b c^{2} f + c^{2} d f + 2 b c e f - 2 c^{2} e f + 2 e^{2} f^{2}) \\cdot (-b^{2} c^{2} - b c^{2} d + b c^{2} e + c^{2} d e + b c^{2} f + c^{2} d f - 2 c^{2} e f - 2 c d e f + 2 e^{2} f^{2})\\right]\n",
      "F_{13} = \\left[\\left(-1\\right) \\cdot (b c - c^{2} + e f), \\left(-1\\right) \\cdot (b c - c^{2} + e f), \\left(-1\\right) \\cdot (-c + f) \\cdot (-c + e), 0, (-b c + c e + c f - 2 e f), (-b c + c e + c f - 2 e f)\\right]\n",
      "F_{14} = \\left[0, (b c + c^{2} + e f), (-c^{2} - c d + e f), 0, 0, c \\cdot (-b + e + f)\\right]\n",
      "F_{15} = \\left[c \\cdot (b c - c^{2} + e f), e \\cdot (b c - c^{2} + e f), \\left(-1\\right) \\cdot (c - e) \\cdot (-c d + c f + e f), 0, (-b + e - f) \\cdot c^{2}, \\left(-1\\right) \\cdot e \\cdot c \\cdot (b - e + f)\\right]\n",
      "F_{16} = \\left[c \\cdot (b c - c^{2} + e f), f \\cdot (b c - c^{2} + e f), \\left(-1\\right) \\cdot (c - f) \\cdot (-c d + c e + e f), 0, \\left(-1\\right) \\cdot (b + e - f) \\cdot c^{2}, \\left(-1\\right) \\cdot f \\cdot c \\cdot (b + e - f)\\right]\n",
      "F_{23} = \\left[(-c^{2} - c d + e f), \\left(-1\\right) \\cdot (-c d + c e + c f + 2 e f), 0, \\left(-1\\right) \\cdot (c + f) \\cdot (c + e), \\left(-1\\right) \\cdot (-c^{2} - c d + e f), (-c d + c e + c f + 2 e f)\\right]\n",
      "F_{24} = \\left[0, 0, 0, (b c - c^{2} + e f), (c^{2} - c d + e f), (-d + e + f) \\cdot c\\right]\n",
      "F_{25} = \\left[c \\cdot (-c^{2} - c d + e f), (-d + e - f) \\cdot c^{2}, 0, \\left(-1\\right) \\cdot (c + e) \\cdot (-b c + c f - e f), e \\cdot (-c^{2} - c d + e f), \\left(-1\\right) \\cdot e \\cdot (d - e + f) \\cdot c\\right]\n",
      "F_{26} = \\left[c \\cdot (-c^{2} - c d + e f), \\left(-1\\right) \\cdot (d + e - f) \\cdot c^{2}, 0, \\left(-1\\right) \\cdot (c + f) \\cdot (-b c + c e - e f), f \\cdot (-c^{2} - c d + e f), \\left(-1\\right) \\cdot f \\cdot (d + e - f) \\cdot c\\right]\n",
      "F_{34} = \\left[0, (b c - c^{2} + e f), (-c^{2} - c d + e f), (b c - c^{2} + e f), (-c^{2} - c d + e f), \\left(-1\\right) \\cdot c \\cdot (b + d)\\right]\n",
      "F_{35} = \\left[c \\cdot (b c - c d + 2 e f), (-c^{2} d + b c e + c^{2} f + e^{2} f), \\left(-1\\right) \\cdot (c - e) \\cdot (-c d + c f + e f), \\left(-1\\right) \\cdot (c + e) \\cdot (-b c + c f - e f), (-b c^{2} - c d e + c^{2} f + e^{2} f), \\left(-1\\right) \\cdot e \\cdot c \\cdot (b + d - 2 f)\\right]\n",
      "F_{36} = \\left[c \\cdot (b c - c d + 2 e f), (-c^{2} d + c^{2} e + b c f + e f^{2}), \\left(-1\\right) \\cdot (c - f) \\cdot (-c d + c e + e f), \\left(-1\\right) \\cdot (c + f) \\cdot (-b c + c e - e f), (-b c^{2} + c^{2} e - c d f + e f^{2}), \\left(-1\\right) \\cdot f \\cdot c \\cdot (b + d - 2 e)\\right]\n",
      "F_{45} = \\left[0, (-c + f) \\cdot (c + f) \\cdot (-c d + c f + e f) \\cdot (b c - c^{2} + e f), (-c + f)^{2} \\cdot (-c d + c f + e f) \\cdot (-c^{2} - c d + e f), \\left(-1\\right) \\cdot (c + f)^{2} \\cdot (b c - c f + e f) \\cdot (b c - c^{2} + e f), \\left(-1\\right) \\cdot (-c + f) \\cdot (c + f) \\cdot (-c^{2} - c d + e f) \\cdot (b c - c f + e f), \\left(-1\\right) \\cdot e \\cdot (c - f) \\cdot (c + f) \\cdot (b c^{2} + c^{2} d + b c f - 2 c^{2} f - c d f + 2 e f^{2})\\right]\n",
      "F_{46} = \\left[0, (-c + e) \\cdot (c + e) \\cdot (-c d + c e + e f) \\cdot (b c - c^{2} + e f), (-c + e)^{2} \\cdot (-c d + c e + e f) \\cdot (-c^{2} - c d + e f), \\left(-1\\right) \\cdot (c + e)^{2} \\cdot (b c - c e + e f) \\cdot (b c - c^{2} + e f), \\left(-1\\right) \\cdot (-c + e) \\cdot (c + e) \\cdot (-c^{2} - c d + e f) \\cdot (b c - c e + e f), \\left(-1\\right) \\cdot f \\cdot (c - e) \\cdot (c + e) \\cdot (b c^{2} + c^{2} d + b c e - 2 c^{2} e - c d e + 2 e^{2} f)\\right]\n",
      "F_{56} = \\left[\\left(-1\\right) \\cdot c^{2} \\cdot (b c - c d + 2 e f), \\left(-1\\right) \\cdot (-b c^{2} d + b c^{2} e + b c^{2} f + b c e f - c^{2} e f - c d e f + c e^{2} f + c e f^{2} + e^{2} f^{2}), \\left(-1\\right) \\cdot (-c d + c f + e f) \\cdot (-c d + c e + e f), \\left(-1\\right) \\cdot (-b c + c e - e f) \\cdot (b c - c f + e f), \\left(-1\\right) \\cdot (b c^{2} d - c^{2} d e - c^{2} d f - b c e f + c^{2} e f + c d e f + c e^{2} f + c e f^{2} - e^{2} f^{2}), \\left(-1\\right) \\cdot f \\cdot e \\cdot (b c - c d + 2 e f)\\right]\n"
     ]
    }
   ],
   "source": [
    "for key in general_cubic.cl_lines:\n",
    "    pl = general_cubic.cl_lines[key].plucker\n",
    "    latex_key = key[0]+'_{'+key[1:]+'}'\n",
    "    print(latex_key, '=', latex([coord.factor() if coord!=0 else coord  for coord in pl ]))"
   ]
  },
  {
   "cell_type": "code",
   "execution_count": null,
   "id": "feab3c9e-8834-40e8-ac23-5765f7d07087",
   "metadata": {},
   "outputs": [],
   "source": []
  },
  {
   "cell_type": "code",
   "execution_count": null,
   "id": "22fe5412-a467-4d45-836e-e26d8ccda0e1",
   "metadata": {},
   "outputs": [],
   "source": []
  },
  {
   "cell_type": "code",
   "execution_count": null,
   "id": "c75ac48b-d960-4474-a7f6-90899e97ebee",
   "metadata": {},
   "outputs": [],
   "source": []
  }
 ],
 "metadata": {
  "kernelspec": {
   "display_name": "SageMath 9.4",
   "language": "sage",
   "name": "sagemath"
  },
  "language_info": {
   "codemirror_mode": {
    "name": "ipython",
    "version": 3
   },
   "file_extension": ".py",
   "mimetype": "text/x-python",
   "name": "python",
   "nbconvert_exporter": "python",
   "pygments_lexer": "ipython3",
   "version": "3.7.12"
  }
 },
 "nbformat": 4,
 "nbformat_minor": 5
}
