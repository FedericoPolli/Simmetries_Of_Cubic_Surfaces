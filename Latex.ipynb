{
 "cells": [
  {
   "cell_type": "code",
   "execution_count": 1,
   "id": "22714bf4-d6b0-482c-a96f-1be66c8d9cd0",
   "metadata": {},
   "outputs": [],
   "source": [
    "load('Imports/Utility.sage', 'Imports/Point.sage', 'Imports/Line.sage', 'Imports/TritangentPlane.sage', 'Imports/Group.sage', 'Imports/Cubic.sage')\n",
    "import multiprocessing as mp\n",
    "import pickle"
   ]
  },
  {
   "cell_type": "code",
   "execution_count": 2,
   "id": "04b1f5e7-758f-4909-9b32-fa60fa50ca80",
   "metadata": {},
   "outputs": [],
   "source": [
    "L_sets = find_all_L_sets()"
   ]
  },
  {
   "cell_type": "code",
   "execution_count": 3,
   "id": "b127b819-a0d9-47e9-8923-c4327b2ac440",
   "metadata": {},
   "outputs": [
    {
     "data": {
      "text/plain": [
       "[]"
      ]
     },
     "execution_count": 3,
     "metadata": {},
     "output_type": "execute_result"
    }
   ],
   "source": [
    "[L_set for L_set in L_sets if ('G4', 'F14', 'F23', 'G3') == L_set[0:4]]"
   ]
  },
  {
   "cell_type": "code",
   "execution_count": 4,
   "id": "5cb1ad42-49b9-4890-9e11-380cff24828e",
   "metadata": {},
   "outputs": [
    {
     "data": {
      "text/plain": [
       "[('G4', 'E1', 'G3', 'E2', 'F16'),\n",
       " ('G4', 'E1', 'G3', 'E2', 'G2'),\n",
       " ('G4', 'E1', 'G3', 'E2', 'F15')]"
      ]
     },
     "execution_count": 4,
     "metadata": {},
     "output_type": "execute_result"
    }
   ],
   "source": [
    "[L_set for L_set in L_sets if ('G4', 'E1', 'G3', 'E2') == L_set[0:4]]"
   ]
  },
  {
   "cell_type": "code",
   "execution_count": 5,
   "id": "07810e69-9514-45f5-b680-d94b2278bb92",
   "metadata": {},
   "outputs": [
    {
     "data": {
      "text/plain": [
       "[('G3', 'E2', 'G4', 'E1', 'F25'),\n",
       " ('G3', 'E2', 'G4', 'E1', 'G1'),\n",
       " ('G3', 'E2', 'G4', 'E1', 'F26')]"
      ]
     },
     "execution_count": 5,
     "metadata": {},
     "output_type": "execute_result"
    }
   ],
   "source": [
    "[L_set for L_set in L_sets if ('G3', 'E2', 'G4', 'E1') == L_set[0:4]]"
   ]
  },
  {
   "cell_type": "code",
   "execution_count": 6,
   "id": "d4b72956",
   "metadata": {},
   "outputs": [],
   "source": [
    "xx = QQ['xx'].0"
   ]
  },
  {
   "cell_type": "code",
   "execution_count": 7,
   "id": "21c640ac",
   "metadata": {},
   "outputs": [],
   "source": [
    "Q.<i_rad3_minus_rad5> = NumberField(xx^4 - 4*xx^2 + 64)"
   ]
  },
  {
   "cell_type": "code",
   "execution_count": 8,
   "id": "aa1e412a",
   "metadata": {},
   "outputs": [],
   "source": [
    "i_rad3 = 1/16*i_rad3_minus_rad5^3 + 1/4*i_rad3_minus_rad5\n",
    "rad5 = 1/16*i_rad3_minus_rad5^3 - 3/4*i_rad3_minus_rad5"
   ]
  },
  {
   "cell_type": "code",
   "execution_count": 9,
   "id": "dfbfdc10",
   "metadata": {},
   "outputs": [],
   "source": [
    "P.<x,y,z,t,b,c,d,e,f,l,m> = PolynomialRing(Q)\n",
    "cubic_new = e*f*(2*x^2*y-2*x*y^2+x*z^2-x*z*t-y*t^2+y*z*t)+b*c*(x-t)*(x*z+y*t)+c*c*(z+t)*(y*t-x*z)+d*c*(y-z)*(x*z+y*t)+(e+f)*c*(x-y)*(y*t-x*z)\n",
    "sing_cubics = (-1) * (-c + f) * (-c + e) * c * (c + f) * (c + e) * (-e + f)^2 * (-c*d + c*f + e*f) * (-c*d + c*e + e*f) * (-c^2 - c*d + e*f) * (b*c - c*f + e*f) * (b*c - c*e + e*f) * (b*c - c*d + 2*e*f) * (b*c - c^2 + e*f) * (b*c^2 + c^2*d + b*c*f - 2*c^2*f - c*d*f + 2*e*f^2) * (b*c^2 + c^2*d + b*c*e - 2*c^2*e - c*d*e + 2*e^2*f) * (-b*c^3 - 2*b*c^2*d + c^3*d + b*c^2*e + c^2*d*e + b*c^2*f + c^2*d*f + 3*b*c*e*f - 4*c^2*e*f - 3*c*d*e*f + 4*e^2*f^2)"
   ]
  },
  {
   "cell_type": "code",
   "execution_count": 10,
   "id": "8cbf5d69",
   "metadata": {},
   "outputs": [],
   "source": [
    "line = Line([y, z])\n",
    "general_cubic = Cubic(cubic_new, line, sing_cubics)\n",
    "SE1 = general_cubic.subs({b:-(c*c+e*f)/c})\n",
    "SE2 = SE1.subs({d:(c*c+e*f)/c})\n",
    "SE3 = SE1.subs({d:(3*e*f - c^2 + c*f + c*e)/(2*c)})\n",
    "SE4 = SE3.subs({f:c*(3*c-e)/(c+e)})\n",
    "SE6 = SE3.subs({f: -c*(5*c+e)/(c+e)})\n",
    "SE9 = SE3.subs({e : i_rad3*c})\n",
    "SE10 = SE4.subs({e : (2-rad5)*c})\n",
    "SE18 = SE4.subs({e : i_rad3*c})"
   ]
  },
  {
   "cell_type": "code",
   "execution_count": 40,
   "id": "39083fd7-268e-4f43-a186-62d24a065768",
   "metadata": {},
   "outputs": [
    {
     "data": {
      "text/plain": [
       "Ideal (c^2 + 2*c*d - c*e - c*f - 3*e*f) of Multivariate Polynomial Ring in x, y, z, t, b, c, d, e, f, l, m over Number Field in i_rad3_minus_rad5 with defining polynomial xx^4 - 4*xx^2 + 64"
      ]
     },
     "execution_count": 40,
     "metadata": {},
     "output_type": "execute_result"
    }
   ],
   "source": [
    "ide = P.ideal(2*c*d-(3*e*f - c^2 + c*f + c*e))\n",
    "ide"
   ]
  },
  {
   "cell_type": "code",
   "execution_count": 43,
   "id": "d219444e-6e6f-42f5-9d72-776264cd1d27",
   "metadata": {},
   "outputs": [],
   "source": [
    "r1 = SE1.cl_lines['E4'].subs({d:(3*e*f - c^2 + c*f + c*e)/(2*c)})\n",
    "r2 = SE1.cl_lines['E4'].reduce(ide)"
   ]
  },
  {
   "cell_type": "code",
   "execution_count": 47,
   "id": "faa910c7-070d-48f4-b0be-f02849d8e1b4",
   "metadata": {},
   "outputs": [
    {
     "data": {
      "text/plain": [
       "[0, 0, 0, 0, 0, 0, 0, 0, 0, 0, 0, 0, 0, 0, 0]"
      ]
     },
     "execution_count": 47,
     "metadata": {},
     "output_type": "execute_result"
    }
   ],
   "source": [
    "[ide.reduce(el) for el in matrix([r1.plucker, r2.plucker]).minors(2)]"
   ]
  },
  {
   "cell_type": "code",
   "execution_count": null,
   "id": "a0f5c5ed-8b1d-49b9-9fa0-a14d1049e45a",
   "metadata": {},
   "outputs": [],
   "source": []
  }
 ],
 "metadata": {
  "kernelspec": {
   "display_name": "SageMath 9.4",
   "language": "sage",
   "name": "sagemath"
  },
  "language_info": {
   "codemirror_mode": {
    "name": "ipython",
    "version": 3
   },
   "file_extension": ".py",
   "mimetype": "text/x-python",
   "name": "python",
   "nbconvert_exporter": "python",
   "pygments_lexer": "ipython3",
   "version": "3.7.12"
  }
 },
 "nbformat": 4,
 "nbformat_minor": 5
}
