{
 "cells": [
  {
   "cell_type": "code",
   "execution_count": 1,
   "id": "1b975162-099b-43a8-b367-2421d8667456",
   "metadata": {},
   "outputs": [],
   "source": [
    "load(\"../Imports/GeneralMethods.sage\", '../Imports/Utility.sage', '../Imports/Point.sage', '../Imports/Line.sage', '../Imports/TritangentPlane.sage', '../Imports/Group.sage', '../Imports/Cubic.sage')\n",
    "import multiprocessing as mp\n",
    "import pickle"
   ]
  },
  {
   "cell_type": "code",
   "execution_count": 2,
   "id": "5580758b-8364-48d6-8714-e4f535edae13",
   "metadata": {},
   "outputs": [],
   "source": [
    "P.<x,y,z,t,b,c,d,e,f,l,m> = PolynomialRing(QQ)\n",
    "cubic_new = e*f*(2*x^2*y-2*x*y^2+x*z^2-x*z*t-y*t^2+y*z*t)+b*c*(x-t)*(x*z+y*t)+c*c*(z+t)*(y*t-x*z)+d*c*(y-z)*(x*z+y*t)+(e+f)*c*(x-y)*(y*t-x*z)\n",
    "sing_cubics = (-1) * (-c + f) * (-c + e) * c * (c + f) * (c + e) * (-e + f) * (-c*d + c*f + e*f) * (-c*d + c*e + e*f) * (-c^2 - c*d + e*f) * (b*c - c*f + e*f) * (b*c - c*e + e*f) * (b*c - c*d + 2*e*f) * (b*c - c^2 + e*f) * (b*c^2 + c^2*d + b*c*f - 2*c^2*f - c*d*f + 2*e*f^2) * (b*c^2 + c^2*d + b*c*e - 2*c^2*e - c*d*e + 2*e^2*f) * (-b*c^3 - 2*b*c^2*d + c^3*d + b*c^2*e + c^2*d*e + b*c^2*f + c^2*d*f + 3*b*c*e*f - 4*c^2*e*f - 3*c*d*e*f + 4*e^2*f^2)"
   ]
  },
  {
   "cell_type": "code",
   "execution_count": 3,
   "id": "45d1ff1e-5160-4967-b58f-5e4905de9eb5",
   "metadata": {},
   "outputs": [],
   "source": [
    "# Define cubic SE2, find and classify the lines and compute the 45 tritangent planes"
   ]
  },
  {
   "cell_type": "code",
   "execution_count": 4,
   "id": "4ded332e-df65-4afc-984d-c3519d8ade49",
   "metadata": {},
   "outputs": [],
   "source": [
    "line = Line([y, z])\n",
    "general_cubic = Cubic(cubic_new, line, sing_cubics)\n",
    "SE2 = general_cubic.subs({b:-(c*c+e*f)/c, d:(c*c+e*f)/c})"
   ]
  },
  {
   "cell_type": "code",
   "execution_count": 5,
   "id": "647d038a-568a-4efb-b20a-ded25aa2d446",
   "metadata": {},
   "outputs": [],
   "source": [
    "# Find simmetries"
   ]
  },
  {
   "cell_type": "code",
   "execution_count": 6,
   "id": "2f1f68ce-2256-4c21-aa9f-e45cd44f5a8b",
   "metadata": {},
   "outputs": [
    {
     "name": "stdout",
     "output_type": "stream",
     "text": [
      "CPU times: user 567 ms, sys: 92.1 ms, total: 659 ms\n",
      "Wall time: 2.19 s\n"
     ]
    },
    {
     "data": {
      "text/plain": [
       "96"
      ]
     },
     "execution_count": 6,
     "metadata": {},
     "output_type": "execute_result"
    }
   ],
   "source": [
    "%time adm_SE2 = SE2.find_admissible_projectivities()\n",
    "len(adm_SE2)"
   ]
  },
  {
   "cell_type": "code",
   "execution_count": 7,
   "id": "611df7ea-e7a6-4983-9b5e-bba9922d9c61",
   "metadata": {},
   "outputs": [
    {
     "name": "stdout",
     "output_type": "stream",
     "text": [
      "CPU times: user 260 ms, sys: 63.7 ms, total: 324 ms\n",
      "Wall time: 471 ms\n"
     ]
    },
    {
     "data": {
      "text/plain": [
       "4"
      ]
     },
     "execution_count": 7,
     "metadata": {},
     "output_type": "execute_result"
    }
   ],
   "source": [
    "%time simm_SE2 = SE2.find_simmetries(adm_SE2)\n",
    "len(simm_SE2)"
   ]
  },
  {
   "cell_type": "code",
   "execution_count": 8,
   "id": "d416a7b2-be93-4b4d-9c64-170e5bd59291",
   "metadata": {},
   "outputs": [],
   "source": [
    "# Study how the simmetries permute the Eckardt points"
   ]
  },
  {
   "cell_type": "code",
   "execution_count": 9,
   "id": "fa805a95-c30e-4bf3-ab1e-834a51a8dded",
   "metadata": {},
   "outputs": [
    {
     "data": {
      "text/plain": [
       "(1, '1')"
      ]
     },
     "execution_count": 9,
     "metadata": {},
     "output_type": "execute_result"
    }
   ],
   "source": [
    "Eck_perms = [Permutation(SE2.apply_proj_to_eck(proj[0])).to_permutation_group_element() for proj in simm_SE2]\n",
    "Eck_perms_group = PermutationGroup(Eck_perms)\n",
    "Eck_perms_group.order(), Eck_perms_group.structure_description()"
   ]
  },
  {
   "cell_type": "code",
   "execution_count": 10,
   "id": "96b382c2-ddcd-486b-9ab0-1c2302331003",
   "metadata": {},
   "outputs": [],
   "source": [
    "### geometric interpretation of the group of symmetries"
   ]
  },
  {
   "cell_type": "code",
   "execution_count": 12,
   "id": "b4dd6473-9926-439f-abf0-dcdf70cfa898",
   "metadata": {},
   "outputs": [
    {
     "name": "stdout",
     "output_type": "stream",
     "text": [
      "Structure of the group Ga:\n",
      "C2 x C2\n",
      "\n",
      "Structure of the group Gb:\n",
      "C2 x C2\n"
     ]
    }
   ],
   "source": [
    "## Action of the stabilizer of SE2 on the 27 lines:\n",
    "Ga = perm_group_lines(SE2, simm_SE2)\n",
    "\n",
    "## Action of the stabilizer of SE2 on the 45 tritangent planes:\n",
    "Gb = perm_group_planes(SE2, simm_SE2)\n",
    "\n",
    "print(\"Structure of the group Ga:\")\n",
    "print(PermutationGroup(Ga).structure_description())\n",
    "\n",
    "print(\"\")\n",
    "\n",
    "print(\"Structure of the group Gb:\")\n",
    "print(PermutationGroup(Gb).structure_description())"
   ]
  },
  {
   "cell_type": "code",
   "execution_count": 13,
   "id": "3d1044bb-dc76-428f-96a5-8d3b57bcf64d",
   "metadata": {},
   "outputs": [],
   "source": [
    "## Action of the group Ga on the lines: computation of the orbits:\n",
    "OGa = PermutationGroup(Ga).orbits()\n",
    "\n",
    "## Action of the group on Gb the planes: computation of the orbits:\n",
    "OGb = PermutationGroup(Gb).orbits()"
   ]
  },
  {
   "cell_type": "code",
   "execution_count": null,
   "id": "67a7cc6f-d1a3-4cd6-b444-b2e8dbd0e108",
   "metadata": {},
   "outputs": [],
   "source": []
  },
  {
   "cell_type": "code",
   "execution_count": null,
   "id": "e37bd76e-c245-4149-875d-0ae01a73b086",
   "metadata": {},
   "outputs": [],
   "source": []
  },
  {
   "cell_type": "code",
   "execution_count": null,
   "id": "e7c66758-f469-4974-a100-c09b774aa5f8",
   "metadata": {},
   "outputs": [],
   "source": []
  },
  {
   "cell_type": "code",
   "execution_count": null,
   "id": "1d234f81-93eb-4a4a-a1c8-9dec9e3f65cb",
   "metadata": {},
   "outputs": [],
   "source": []
  },
  {
   "cell_type": "code",
   "execution_count": null,
   "id": "3aea07d3-0460-4030-9efb-eace3eba2836",
   "metadata": {},
   "outputs": [],
   "source": []
  },
  {
   "cell_type": "code",
   "execution_count": null,
   "id": "6f0c8b59-7546-4e97-bb10-4012fe410e1a",
   "metadata": {},
   "outputs": [],
   "source": []
  },
  {
   "cell_type": "code",
   "execution_count": null,
   "id": "c64725cb-f5d1-425e-b87e-c2c0bc12932a",
   "metadata": {},
   "outputs": [],
   "source": []
  },
  {
   "cell_type": "code",
   "execution_count": 9,
   "id": "c87a2231-a697-4596-8378-25abe1eb57d4",
   "metadata": {},
   "outputs": [],
   "source": [
    "# Study how the simmetries permute the 27 lines"
   ]
  },
  {
   "cell_type": "code",
   "execution_count": 10,
   "id": "5e8e06b8-5f43-4c7b-b089-2ab809a56c40",
   "metadata": {},
   "outputs": [
    {
     "data": {
      "text/plain": [
       "(4, 'C2 x C2')"
      ]
     },
     "execution_count": 10,
     "metadata": {},
     "output_type": "execute_result"
    }
   ],
   "source": [
    "lines_perms = [Permutation(SE2.apply_proj_to_lines(simm[0])).to_permutation_group_element() for simm in simm_SE2]\n",
    "lines_perms_group = PermutationGroup(lines_perms)\n",
    "lines_perms_group.order(), lines_perms_group.structure_description()"
   ]
  },
  {
   "cell_type": "code",
   "execution_count": 12,
   "id": "af1ed5e8-eca8-4ee5-b912-387edd8769bb",
   "metadata": {},
   "outputs": [
    {
     "name": "stdout",
     "output_type": "stream",
     "text": [
      "[['F14', 'G4', 'E1'], ['E2', 'G4', 'F24']]\n",
      "[['E1', 'G4', 'F14'], ['F24', 'G4', 'E2']]\n"
     ]
    }
   ],
   "source": [
    "# gens are N2 and M2 respectively\n",
    "keys = list(general_cubic.cl_lines.keys())\n",
    "for gen in lines_perms_group.gens_small():\n",
    "    labels = from_perm_to_labels(gen)\n",
    "    print([[keys[labels.index(label)] for label in point_label] for point_label in SE2.eckardt_points_labels])"
   ]
  },
  {
   "cell_type": "code",
   "execution_count": 13,
   "id": "0f479856-313d-4c17-a9e4-55e5e8ba8cc0",
   "metadata": {},
   "outputs": [
    {
     "data": {
      "text/plain": [
       "([('F14', 'G4', 'E2', 'F23', 'F34', 'F45'),\n",
       "  ('E1', 'G4', 'F24', 'F13', 'F34', 'F45')],\n",
       " [(1,15)(3,22)(4,8)(5,25)(6,26)(7,13)(9,18)(11,20)(12,21)(14,27)(16,24)(17,23),\n",
       "  (2,19)(3,22)(4,7)(5,25)(6,26)(8,13)(9,14)(11,16)(12,17)(18,27)(20,24)(21,23)])"
      ]
     },
     "execution_count": 13,
     "metadata": {},
     "output_type": "execute_result"
    }
   ],
   "source": [
    "[get_permuted_extended_L_set(perm) for perm in lines_perms_group.gens_small()], lines_perms_group.gens_small()"
   ]
  },
  {
   "cell_type": "code",
   "execution_count": 14,
   "id": "284a66fe-8f49-41e9-a685-f89ef7014d2b",
   "metadata": {},
   "outputs": [],
   "source": [
    "# Find possible conditions to obtain a subfamily with a larger simmetry group"
   ]
  },
  {
   "cell_type": "code",
   "execution_count": 15,
   "id": "9e9c6342-61ac-4eb0-9957-bd314386277e",
   "metadata": {},
   "outputs": [
    {
     "name": "stdout",
     "output_type": "stream",
     "text": [
      "CPU times: user 360 ms, sys: 113 ms, total: 474 ms\n",
      "Wall time: 1.37 s\n"
     ]
    },
    {
     "data": {
      "text/plain": [
       "[]"
      ]
     },
     "execution_count": 15,
     "metadata": {},
     "output_type": "execute_result"
    }
   ],
   "source": [
    "%time SE2.find_conditions_for_subfamilies(adm_SE2, simm_SE2)"
   ]
  },
  {
   "cell_type": "code",
   "execution_count": null,
   "id": "b53395d5-dbc2-4e2a-91ac-0f3daa702fbf",
   "metadata": {},
   "outputs": [],
   "source": []
  }
 ],
 "metadata": {
  "kernelspec": {
   "display_name": "SageMath 9.4",
   "language": "sage",
   "name": "sagemath"
  },
  "language_info": {
   "codemirror_mode": {
    "name": "ipython",
    "version": 3
   },
   "file_extension": ".py",
   "mimetype": "text/x-python",
   "name": "python",
   "nbconvert_exporter": "python",
   "pygments_lexer": "ipython3",
   "version": "3.7.12"
  }
 },
 "nbformat": 4,
 "nbformat_minor": 5
}
