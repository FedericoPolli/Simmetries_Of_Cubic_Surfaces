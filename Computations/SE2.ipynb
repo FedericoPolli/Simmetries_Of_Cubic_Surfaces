{
 "cells": [
  {
   "cell_type": "code",
   "execution_count": 1,
   "id": "1b975162-099b-43a8-b367-2421d8667456",
   "metadata": {},
   "outputs": [],
   "source": [
    "load(\"../Imports/GeneralMethods.sage\", '../Imports/Utility.sage', '../Imports/Point.sage', '../Imports/Line.sage', '../Imports/TritangentPlane.sage', '../Imports/Group.sage', '../Imports/Cubic.sage')\n",
    "import multiprocessing as mp\n",
    "import pickle"
   ]
  },
  {
   "cell_type": "code",
   "execution_count": 2,
   "id": "5580758b-8364-48d6-8714-e4f535edae13",
   "metadata": {},
   "outputs": [],
   "source": [
    "P.<x,y,z,t,b,c,d,e,f,l,m> = PolynomialRing(QQ)\n",
    "cubic_new = e*f*(2*x^2*y-2*x*y^2+x*z^2-x*z*t-y*t^2+y*z*t)+b*c*(x-t)*(x*z+y*t)+c*c*(z+t)*(y*t-x*z)+d*c*(y-z)*(x*z+y*t)+(e+f)*c*(x-y)*(y*t-x*z)\n",
    "sing_cubics = (-1) * (-c + f) * (-c + e) * c * (c + f) * (c + e) * (-e + f) * (-c*d + c*f + e*f) * (-c*d + c*e + e*f) * (-c^2 - c*d + e*f) * (b*c - c*f + e*f) * (b*c - c*e + e*f) * (b*c - c*d + 2*e*f) * (b*c - c^2 + e*f) * (b*c^2 + c^2*d + b*c*f - 2*c^2*f - c*d*f + 2*e*f^2) * (b*c^2 + c^2*d + b*c*e - 2*c^2*e - c*d*e + 2*e^2*f) * (-b*c^3 - 2*b*c^2*d + c^3*d + b*c^2*e + c^2*d*e + b*c^2*f + c^2*d*f + 3*b*c*e*f - 4*c^2*e*f - 3*c*d*e*f + 4*e^2*f^2)"
   ]
  },
  {
   "cell_type": "code",
   "execution_count": 3,
   "id": "45d1ff1e-5160-4967-b58f-5e4905de9eb5",
   "metadata": {},
   "outputs": [],
   "source": [
    "# Define cubic SE2, find and classify the lines and compute the 45 tritangent planes"
   ]
  },
  {
   "cell_type": "code",
   "execution_count": 4,
   "id": "4ded332e-df65-4afc-984d-c3519d8ade49",
   "metadata": {},
   "outputs": [],
   "source": [
    "line = Line([y, z])\n",
    "general_cubic = Cubic(cubic_new, line, sing_cubics)\n",
    "SE2 = general_cubic.subs({b:-(c*c+e*f)/c, d:(c*c+e*f)/c})"
   ]
  },
  {
   "cell_type": "code",
   "execution_count": 5,
   "id": "647d038a-568a-4efb-b20a-ded25aa2d446",
   "metadata": {},
   "outputs": [],
   "source": [
    "# Find simmetries"
   ]
  },
  {
   "cell_type": "code",
   "execution_count": 6,
   "id": "2f1f68ce-2256-4c21-aa9f-e45cd44f5a8b",
   "metadata": {},
   "outputs": [
    {
     "name": "stdout",
     "output_type": "stream",
     "text": [
      "CPU times: user 522 ms, sys: 60.8 ms, total: 583 ms\n",
      "Wall time: 1.85 s\n"
     ]
    },
    {
     "data": {
      "text/plain": [
       "96"
      ]
     },
     "execution_count": 6,
     "metadata": {},
     "output_type": "execute_result"
    }
   ],
   "source": [
    "%time adm_SE2 = SE2.find_admissible_projectivities()\n",
    "len(adm_SE2)"
   ]
  },
  {
   "cell_type": "code",
   "execution_count": 7,
   "id": "611df7ea-e7a6-4983-9b5e-bba9922d9c61",
   "metadata": {},
   "outputs": [
    {
     "name": "stdout",
     "output_type": "stream",
     "text": [
      "CPU times: user 257 ms, sys: 53.7 ms, total: 310 ms\n",
      "Wall time: 422 ms\n"
     ]
    },
    {
     "data": {
      "text/plain": [
       "4"
      ]
     },
     "execution_count": 7,
     "metadata": {},
     "output_type": "execute_result"
    }
   ],
   "source": [
    "%time simm_SE2 = SE2.find_simmetries(adm_SE2)\n",
    "len(simm_SE2)"
   ]
  },
  {
   "cell_type": "code",
   "execution_count": 8,
   "id": "d416a7b2-be93-4b4d-9c64-170e5bd59291",
   "metadata": {},
   "outputs": [],
   "source": [
    "# Study how the simmetries permute the Eckardt points"
   ]
  },
  {
   "cell_type": "code",
   "execution_count": 9,
   "id": "fa805a95-c30e-4bf3-ab1e-834a51a8dded",
   "metadata": {},
   "outputs": [
    {
     "data": {
      "text/plain": [
       "(1, '1')"
      ]
     },
     "execution_count": 9,
     "metadata": {},
     "output_type": "execute_result"
    }
   ],
   "source": [
    "Eck_perms = [Permutation(SE2.apply_proj_to_eck(proj[0])).to_permutation_group_element() for proj in simm_SE2]\n",
    "Eck_perms_group = PermutationGroup(Eck_perms)\n",
    "Eck_perms_group.order(), Eck_perms_group.structure_description()"
   ]
  },
  {
   "cell_type": "code",
   "execution_count": 10,
   "id": "96b382c2-ddcd-486b-9ab0-1c2302331003",
   "metadata": {},
   "outputs": [],
   "source": [
    "### geometric interpretation of the group of symmetries"
   ]
  },
  {
   "cell_type": "code",
   "execution_count": 11,
   "id": "b4dd6473-9926-439f-abf0-dcdf70cfa898",
   "metadata": {},
   "outputs": [
    {
     "name": "stdout",
     "output_type": "stream",
     "text": [
      "Structure of the group Ga:\n",
      "C2 x C2\n",
      "\n",
      "Structure of the group Gb:\n",
      "C2 x C2\n"
     ]
    }
   ],
   "source": [
    "## Action of the stabilizer of SE2 on the 27 lines:\n",
    "Ga = perm_group_lines(SE2, simm_SE2)\n",
    "\n",
    "## Action of the stabilizer of SE2 on the 45 tritangent planes:\n",
    "Gb = perm_group_planes(SE2, simm_SE2)\n",
    "\n",
    "print(\"Structure of the group Ga:\")\n",
    "print(PermutationGroup(Ga).structure_description())\n",
    "\n",
    "print(\"\")\n",
    "\n",
    "print(\"Structure of the group Gb:\")\n",
    "print(PermutationGroup(Gb).structure_description())"
   ]
  },
  {
   "cell_type": "code",
   "execution_count": 12,
   "id": "3d1044bb-dc76-428f-96a5-8d3b57bcf64d",
   "metadata": {},
   "outputs": [],
   "source": [
    "## Action of the group Ga on the lines: computation of the orbits:\n",
    "OGa = PermutationGroup(Ga).orbits()\n",
    "\n",
    "## Action of the group on Gb the planes: computation of the orbits:\n",
    "OGb = PermutationGroup(Gb).orbits()"
   ]
  },
  {
   "cell_type": "code",
   "execution_count": 13,
   "id": "680f2b11-7663-4c9f-83f4-552d7052519b",
   "metadata": {},
   "outputs": [
    {
     "name": "stdout",
     "output_type": "stream",
     "text": [
      "G4\n"
     ]
    }
   ],
   "source": [
    "# The only fixed line is G4\n",
    "for orb in OGa:\n",
    "    if len(orb) == 1:\n",
    "        print(simbolic_line_from_index(orb[0]))"
   ]
  },
  {
   "cell_type": "code",
   "execution_count": 16,
   "id": "e2817c59-42e0-4a3a-ae93-7d31ec417dd2",
   "metadata": {},
   "outputs": [
    {
     "name": "stdout",
     "output_type": "stream",
     "text": [
      "t3 ['E1', 'G4', 'F14']\n",
      "t8 ['E2', 'G4', 'F24']\n",
      "t13 ['E3', 'G4', 'F34']\n",
      "t24 ['E5', 'G4', 'F45']\n",
      "t29 ['E6', 'G4', 'F46']\n"
     ]
    }
   ],
   "source": [
    "# The tritangent planes fixed are those through G4\n",
    "for orb in OGb:\n",
    "    if len(orb) == 1:\n",
    "        fixed_plane = simbolic_plane_from_index(orb[0])\n",
    "        print(fixed_plane, tritangent_plane_from_name(fixed_plane))"
   ]
  },
  {
   "cell_type": "code",
   "execution_count": 19,
   "id": "67a7cc6f-d1a3-4cd6-b444-b2e8dbd0e108",
   "metadata": {},
   "outputs": [],
   "source": [
    "# The two Eckardt points are fixed\n",
    "for generator in PermutationGroup(Ga):\n",
    "    assert image_simbolic_line(generator, 'E1') in [\"E1\", \"F14\"]  \n",
    "    assert image_simbolic_line(generator, 'E2') in [\"E2\", \"F24\"]"
   ]
  },
  {
   "cell_type": "code",
   "execution_count": null,
   "id": "e37bd76e-c245-4149-875d-0ae01a73b086",
   "metadata": {},
   "outputs": [],
   "source": []
  },
  {
   "cell_type": "code",
   "execution_count": null,
   "id": "e7c66758-f469-4974-a100-c09b774aa5f8",
   "metadata": {},
   "outputs": [],
   "source": []
  }
 ],
 "metadata": {
  "kernelspec": {
   "display_name": "SageMath 9.4",
   "language": "sage",
   "name": "sagemath"
  },
  "language_info": {
   "codemirror_mode": {
    "name": "ipython",
    "version": 3
   },
   "file_extension": ".py",
   "mimetype": "text/x-python",
   "name": "python",
   "nbconvert_exporter": "python",
   "pygments_lexer": "ipython3",
   "version": "3.7.12"
  }
 },
 "nbformat": 4,
 "nbformat_minor": 5
}
