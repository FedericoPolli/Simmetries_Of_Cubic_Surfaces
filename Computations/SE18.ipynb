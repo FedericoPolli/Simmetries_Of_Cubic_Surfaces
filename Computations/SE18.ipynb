{
 "cells": [
  {
   "cell_type": "code",
   "execution_count": 73,
   "id": "ee309c7b",
   "metadata": {},
   "outputs": [],
   "source": [
    "load(\"../Imports/GeneralMethods.sage\", '../Imports/Utility.sage', '../Imports/Point.sage', '../Imports/Line.sage', '../Imports/TritangentPlane.sage', '../Imports/Group.sage', '../Imports/Cubic.sage')\n",
    "import multiprocessing as mp\n",
    "import pickle"
   ]
  },
  {
   "cell_type": "code",
   "execution_count": 2,
   "id": "ddaa1f4d-9357-4397-8d9e-23774786999b",
   "metadata": {},
   "outputs": [],
   "source": [
    "xx = QQ['xx'].0\n",
    "Q.<i_rad3> = NumberField(xx^2+3)"
   ]
  },
  {
   "cell_type": "code",
   "execution_count": 3,
   "id": "6bc7eb63-f964-49eb-a2a2-4f76bd0e26b5",
   "metadata": {},
   "outputs": [],
   "source": [
    "P.<x,y,z,t,b,c,d,e,f,l,m> = PolynomialRing(Q)\n",
    "cubic_new = e*f*(2*x^2*y-2*x*y^2+x*z^2-x*z*t-y*t^2+y*z*t)+b*c*(x-t)*(x*z+y*t)+c*c*(z+t)*(y*t-x*z)+d*c*(y-z)*(x*z+y*t)+(e+f)*c*(x-y)*(y*t-x*z)\n",
    "sing_cubics = (-1) * (-c + f) * (-c + e) * c * (c + f) * (c + e) * (-e + f) * (-c*d + c*f + e*f) * (-c*d + c*e + e*f) * (-c^2 - c*d + e*f) * (b*c - c*f + e*f) * (b*c - c*e + e*f) * (b*c - c*d + 2*e*f) * (b*c - c^2 + e*f) * (b*c^2 + c^2*d + b*c*f - 2*c^2*f - c*d*f + 2*e*f^2) * (b*c^2 + c^2*d + b*c*e - 2*c^2*e - c*d*e + 2*e^2*f) * (-b*c^3 - 2*b*c^2*d + c^3*d + b*c^2*e + c^2*d*e + b*c^2*f + c^2*d*f + 3*b*c*e*f - 4*c^2*e*f - 3*c*d*e*f + 4*e^2*f^2)"
   ]
  },
  {
   "cell_type": "code",
   "execution_count": 4,
   "id": "b790f050-9ce7-4d1e-8b60-f50e8b1ac06b",
   "metadata": {},
   "outputs": [],
   "source": [
    "# Define cubic SE18, find and classify the lines and compute the 45 tritangent planes"
   ]
  },
  {
   "cell_type": "code",
   "execution_count": 5,
   "id": "cc700c3b-886c-4379-9032-3c0e04975c46",
   "metadata": {},
   "outputs": [
    {
     "name": "stdout",
     "output_type": "stream",
     "text": [
      "CPU times: user 4.39 s, sys: 40.1 ms, total: 4.43 s\n",
      "Wall time: 4.47 s\n"
     ]
    }
   ],
   "source": [
    "line = Line([y, z])\n",
    "general_cubic = Cubic(cubic_new, line, sing_cubics)\n",
    "%time SE18 = general_cubic.subs({b:-(c*c+e*f)/c, d:(3*e*f - c^2 + c*f + c*e)/(2*c)}).subs({f:c*(3*c-e)/(c+e)}).subs({e : i_rad3*c})"
   ]
  },
  {
   "cell_type": "code",
   "execution_count": 6,
   "id": "a5ec7cab-8b2f-485f-b5dd-1d1fee987912",
   "metadata": {},
   "outputs": [],
   "source": [
    "# Find simmetries"
   ]
  },
  {
   "cell_type": "code",
   "execution_count": 7,
   "id": "a77edc3d-1f77-49df-9795-acd4c5930b85",
   "metadata": {},
   "outputs": [
    {
     "name": "stdout",
     "output_type": "stream",
     "text": [
      "CPU times: user 1.9 s, sys: 116 ms, total: 2.02 s\n",
      "Wall time: 16.2 s\n"
     ]
    },
    {
     "data": {
      "text/plain": [
       "648"
      ]
     },
     "execution_count": 7,
     "metadata": {},
     "output_type": "execute_result"
    }
   ],
   "source": [
    "%time adm_SE18 = SE18.find_admissible_projectivities()\n",
    "len(adm_SE18)"
   ]
  },
  {
   "cell_type": "code",
   "execution_count": 8,
   "id": "8f3162fe-3b2f-4b0d-ba5d-52026be9f3d0",
   "metadata": {},
   "outputs": [
    {
     "name": "stdout",
     "output_type": "stream",
     "text": [
      "CPU times: user 1.59 s, sys: 161 ms, total: 1.75 s\n",
      "Wall time: 2.38 s\n"
     ]
    },
    {
     "data": {
      "text/plain": [
       "648"
      ]
     },
     "execution_count": 8,
     "metadata": {},
     "output_type": "execute_result"
    }
   ],
   "source": [
    "%time simm_SE18 = SE18.find_simmetries(adm_SE18)\n",
    "len(simm_SE18)"
   ]
  },
  {
   "cell_type": "code",
   "execution_count": 9,
   "id": "12755a70-bf01-4ab6-8e48-2c146ecf0ea2",
   "metadata": {},
   "outputs": [],
   "source": [
    "# Study how the simmetries permute the Eckardt points"
   ]
  },
  {
   "cell_type": "code",
   "execution_count": 10,
   "id": "b8a24ace-332f-40ba-9654-ad18d5504cc7",
   "metadata": {},
   "outputs": [
    {
     "data": {
      "text/plain": [
       "(648, '(((C3 x C3 x C3) : (C2 x C2)) : C3) : C2')"
      ]
     },
     "execution_count": 10,
     "metadata": {},
     "output_type": "execute_result"
    }
   ],
   "source": [
    "Eck_perms = [Permutation(SE18.apply_proj_to_eck(proj[0])).to_permutation_group_element() for proj in simm_SE18]\n",
    "Eck_perms_group = PermutationGroup(Eck_perms)\n",
    "Eck_perms_group.order(), Eck_perms_group.structure_description()"
   ]
  },
  {
   "cell_type": "code",
   "execution_count": 11,
   "id": "3688c4f4-bcd5-4d0f-88fb-7347d0f8bf43",
   "metadata": {},
   "outputs": [],
   "source": [
    "### geometric interpretation of the group of symmetries"
   ]
  },
  {
   "cell_type": "code",
   "execution_count": 12,
   "id": "bf79bc70-b2cf-4387-b281-fd330fcccc4f",
   "metadata": {},
   "outputs": [
    {
     "name": "stdout",
     "output_type": "stream",
     "text": [
      "CPU times: user 4min 7s, sys: 2.29 s, total: 4min 9s\n",
      "Wall time: 4min 9s\n"
     ]
    }
   ],
   "source": [
    "%%time\n",
    "## Action of the stabilizer of SE18 on the 27 lines:\n",
    "Ga = perm_group_lines(SE18, simm_SE18)\n",
    "\n",
    "## Action of the stabilizer of SE18 on the 45 tritangent planes:\n",
    "Gb = perm_group_planes(SE18, simm_SE18)"
   ]
  },
  {
   "cell_type": "code",
   "execution_count": 13,
   "id": "6dd409f1-79a5-40fb-a0f4-ef2cc9883936",
   "metadata": {},
   "outputs": [
    {
     "name": "stdout",
     "output_type": "stream",
     "text": [
      "Structure of the group Ga:\n",
      "(((C3 x C3 x C3) : (C2 x C2)) : C3) : C2\n",
      "\n",
      "Structure of the group Gb:\n",
      "(((C3 x C3 x C3) : (C2 x C2)) : C3) : C2\n"
     ]
    }
   ],
   "source": [
    "print(\"Structure of the group Ga:\")\n",
    "print(PermutationGroup(Ga).structure_description())\n",
    "\n",
    "print(\"\")\n",
    "\n",
    "print(\"Structure of the group Gb:\")\n",
    "print(PermutationGroup(Gb).structure_description())"
   ]
  },
  {
   "cell_type": "code",
   "execution_count": 14,
   "id": "3a642be2-2c96-44a0-bd59-735d2ccc0056",
   "metadata": {},
   "outputs": [],
   "source": [
    "## Action of the group Ga on the lines: computation of the orbits:\n",
    "OGa = PermutationGroup(Ga).orbits()\n",
    "\n",
    "## Action of the group on Gb the planes: computation of the orbits:\n",
    "OGb = PermutationGroup(Gb).orbits()"
   ]
  },
  {
   "cell_type": "code",
   "execution_count": 121,
   "id": "18e98fc3-9601-4f21-9410-b0f7b503307e",
   "metadata": {},
   "outputs": [],
   "source": [
    "def a(c):\n",
    "    return sorted(OGb[1]).index(c)+1"
   ]
  },
  {
   "cell_type": "code",
   "execution_count": 136,
   "id": "4ed7b349-f31b-4e69-b4c1-43555d05c808",
   "metadata": {},
   "outputs": [
    {
     "data": {
      "text/plain": [
       "'C3 x C3 x C3'"
      ]
     },
     "execution_count": 136,
     "metadata": {},
     "output_type": "execute_result"
    }
   ],
   "source": [
    "# Define special permutations\n",
    "g1 = [(a(3),a(34),a(7)),(a(15),a(32),a(19)),(a(22),a(42),a(26))]\n",
    "g2 = [(a(3),a(34),a(7)),(a(14),a(33),a(20)),(a(21),a(27),a(45))]\n",
    "g3 = [(a(2),a(8),a(37)),(a(15),a(32),a(19)),(a(21),a(45),a(27))]\n",
    "g4 = [(a(2), a(21)), (a(3), a(42)), (a(7), a(22)), (a(8), a(45)), (a(20), a(33)), (a(26), a(34)), (a(27), a(37))]\n",
    "g5 = [(a(2), a(7)), (a(3), a(37), a(34), a(8)), (a(14), a(22), a(32), a(21)), (a(15), a(45), a(33), a(42)), (a(19), a(27), a(20), a(26))]\n",
    "N = PermutationGroup([g1, g2, g3])\n",
    "N.structure_description()"
   ]
  },
  {
   "cell_type": "code",
   "execution_count": 137,
   "id": "91d91902-4ff1-4a1e-9846-3375b374a04f",
   "metadata": {},
   "outputs": [
    {
     "data": {
      "text/plain": [
       "True"
      ]
     },
     "execution_count": 137,
     "metadata": {},
     "output_type": "execute_result"
    }
   ],
   "source": [
    "N.is_normal(Eck_perms_group)"
   ]
  },
  {
   "cell_type": "code",
   "execution_count": 179,
   "id": "cd29747c-ffa7-4c9f-88e8-8f2093d3e951",
   "metadata": {},
   "outputs": [
    {
     "data": {
      "text/plain": [
       "'S4'"
      ]
     },
     "execution_count": 179,
     "metadata": {},
     "output_type": "execute_result"
    }
   ],
   "source": [
    "Eck_perms_group.quotient(N).structure_description()"
   ]
  },
  {
   "cell_type": "code",
   "execution_count": null,
   "id": "30cbd803-8234-4c42-9cd4-36a4a2d8e814",
   "metadata": {},
   "outputs": [],
   "source": []
  }
 ],
 "metadata": {
  "kernelspec": {
   "display_name": "SageMath 9.4",
   "language": "sage",
   "name": "sagemath"
  },
  "language_info": {
   "codemirror_mode": {
    "name": "ipython",
    "version": 3
   },
   "file_extension": ".py",
   "mimetype": "text/x-python",
   "name": "python",
   "nbconvert_exporter": "python",
   "pygments_lexer": "ipython3",
   "version": "3.7.12"
  }
 },
 "nbformat": 4,
 "nbformat_minor": 5
}
