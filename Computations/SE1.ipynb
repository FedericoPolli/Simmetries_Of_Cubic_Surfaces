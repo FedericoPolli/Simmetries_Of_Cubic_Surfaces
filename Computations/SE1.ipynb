{
 "cells": [
  {
   "cell_type": "code",
   "execution_count": 1,
   "id": "58320e02-53d1-4aa8-9435-b12c34877bd1",
   "metadata": {},
   "outputs": [],
   "source": [
    "load(\"../Imports/GeneralMethods.sage\", '../Imports/Utility.sage', '../Imports/Point.sage', '../Imports/Line.sage', '../Imports/TritangentPlane.sage', '../Imports/Group.sage', '../Imports/Cubic.sage')\n",
    "import multiprocessing as mp\n",
    "import pickle"
   ]
  },
  {
   "cell_type": "code",
   "execution_count": 3,
   "id": "5ed78749-98c1-4b4b-93a0-936bbe48e5c3",
   "metadata": {},
   "outputs": [],
   "source": [
    "P.<x,y,z,t,b,c,d,e,f,l,m> = PolynomialRing(QQ)\n",
    "cubic_new = e*f*(2*x^2*y-2*x*y^2+x*z^2-x*z*t-y*t^2+y*z*t)+b*c*(x-t)*(x*z+y*t)+c*c*(z+t)*(y*t-x*z)+d*c*(y-z)*(x*z+y*t)+(e+f)*c*(x-y)*(y*t-x*z)\n",
    "sing_cubics = (-1) * (-c + f) * (-c + e) * c * (c + f) * (c + e) * (-e + f) * (-c*d + c*f + e*f) * (-c*d + c*e + e*f) * (-c^2 - c*d + e*f) * (b*c - c*f + e*f) * (b*c - c*e + e*f) * (b*c - c*d + 2*e*f) * (b*c - c^2 + e*f) * (b*c^2 + c^2*d + b*c*f - 2*c^2*f - c*d*f + 2*e*f^2) * (b*c^2 + c^2*d + b*c*e - 2*c^2*e - c*d*e + 2*e^2*f) * (-b*c^3 - 2*b*c^2*d + c^3*d + b*c^2*e + c^2*d*e + b*c^2*f + c^2*d*f + 3*b*c*e*f - 4*c^2*e*f - 3*c*d*e*f + 4*e^2*f^2)"
   ]
  },
  {
   "cell_type": "code",
   "execution_count": 4,
   "id": "def11cc9-4cef-4ce7-ae0f-1d67c49e010c",
   "metadata": {},
   "outputs": [],
   "source": [
    "# Define cubic SE1, find and classify the lines and compute the 45 tritangent planes"
   ]
  },
  {
   "cell_type": "code",
   "execution_count": 5,
   "id": "38181a6a-092f-4055-83a6-ed36cc76404a",
   "metadata": {},
   "outputs": [],
   "source": [
    "line = Line([y, z])\n",
    "general_cubic = Cubic(cubic_new, line, sing_cubics)\n",
    "SE1 = general_cubic.subs({b:-(c*c+e*f)/c})"
   ]
  },
  {
   "cell_type": "code",
   "execution_count": 6,
   "id": "b06aedad-fcfd-4872-85a9-e309cb7467ef",
   "metadata": {},
   "outputs": [],
   "source": [
    "# Find simmetries"
   ]
  },
  {
   "cell_type": "code",
   "execution_count": 7,
   "id": "30a2139a-c63f-4a7d-a190-d20040fcb094",
   "metadata": {},
   "outputs": [
    {
     "name": "stdout",
     "output_type": "stream",
     "text": [
      "CPU times: user 2.05 s, sys: 172 ms, total: 2.22 s\n",
      "Wall time: 12.4 s\n"
     ]
    },
    {
     "data": {
      "text/plain": [
       "576"
      ]
     },
     "execution_count": 7,
     "metadata": {},
     "output_type": "execute_result"
    }
   ],
   "source": [
    "%time adm_SE1 = SE1.find_admissible_projectivities()\n",
    "len(adm_SE1)"
   ]
  },
  {
   "cell_type": "code",
   "execution_count": 8,
   "id": "39c972e1-420f-4a36-b908-f5ec1b6ddec8",
   "metadata": {},
   "outputs": [
    {
     "name": "stdout",
     "output_type": "stream",
     "text": [
      "CPU times: user 1.83 s, sys: 91.2 ms, total: 1.92 s\n",
      "Wall time: 6.48 s\n"
     ]
    },
    {
     "data": {
      "text/plain": [
       "2"
      ]
     },
     "execution_count": 8,
     "metadata": {},
     "output_type": "execute_result"
    }
   ],
   "source": [
    "%time simm_SE1 = SE1.find_simmetries(adm_SE1)\n",
    "len(simm_SE1)"
   ]
  },
  {
   "cell_type": "code",
   "execution_count": 9,
   "id": "5f062967-b5f7-4322-8f54-0dc4af9e2def",
   "metadata": {},
   "outputs": [],
   "source": [
    "# Study how the simmetries permute the Eckardt points"
   ]
  },
  {
   "cell_type": "code",
   "execution_count": 10,
   "id": "0b75eec0-b652-42ce-9cdc-6323ae69f91b",
   "metadata": {},
   "outputs": [
    {
     "data": {
      "text/plain": [
       "(1, '1')"
      ]
     },
     "execution_count": 10,
     "metadata": {},
     "output_type": "execute_result"
    }
   ],
   "source": [
    "Eck_perms = [Permutation(SE1.apply_proj_to_eck(proj[0])).to_permutation_group_element() for proj in simm_SE1]\n",
    "Eck_perms_group = PermutationGroup(Eck_perms)\n",
    "Eck_perms_group.order(), Eck_perms_group.structure_description()"
   ]
  },
  {
   "cell_type": "code",
   "execution_count": 11,
   "id": "18085cdf-48ff-4317-9b4f-1c6dd379e8ee",
   "metadata": {},
   "outputs": [],
   "source": [
    "### geometric interpretation of the group of symmetries"
   ]
  },
  {
   "cell_type": "code",
   "execution_count": 12,
   "id": "bbd56a95-48e1-4385-bcd5-d3efd3293d75",
   "metadata": {},
   "outputs": [
    {
     "name": "stdout",
     "output_type": "stream",
     "text": [
      "Structure of the group Ga:\n",
      "C2\n",
      "\n",
      "Structure of the group Gb:\n",
      "C2\n"
     ]
    }
   ],
   "source": [
    "## Action of the stabilizer of SE1 on the 27 lines:\n",
    "Ga = perm_group_lines(SE1, simm_SE1)\n",
    "\n",
    "## Action of the stabilizer of SE1 on the 45 tritangent planes:\n",
    "Gb = perm_group_planes(SE1, simm_SE1)\n",
    "\n",
    "print(\"Structure of the group Ga:\")\n",
    "print(PermutationGroup(Ga).structure_description())\n",
    "\n",
    "print(\"\")\n",
    "\n",
    "print(\"Structure of the group Gb:\")\n",
    "print(PermutationGroup(Gb).structure_description())"
   ]
  },
  {
   "cell_type": "code",
   "execution_count": 13,
   "id": "4afb3a16-fbfd-4014-ae94-9b662d626d92",
   "metadata": {},
   "outputs": [],
   "source": [
    "## Action of the group Ga on the lines: computation of the orbits:\n",
    "OGa = PermutationGroup(Ga).orbits()\n",
    "\n",
    "## Action of the group on Gb the planes: computation of the orbits:\n",
    "OGb = PermutationGroup(Gb).orbits()"
   ]
  },
  {
   "cell_type": "code",
   "execution_count": null,
   "id": "05760bc5-9dcf-479b-b440-f3bed9655211",
   "metadata": {},
   "outputs": [],
   "source": []
  },
  {
   "cell_type": "code",
   "execution_count": null,
   "id": "d3b2e00d-fa91-4fd9-b807-e0111c133b31",
   "metadata": {},
   "outputs": [],
   "source": []
  },
  {
   "cell_type": "code",
   "execution_count": null,
   "id": "298701f6-d860-4cd2-aae2-74a9d9156626",
   "metadata": {},
   "outputs": [],
   "source": []
  },
  {
   "cell_type": "code",
   "execution_count": null,
   "id": "e91d09bf-20e4-4f0c-a62f-fca6863df6ab",
   "metadata": {},
   "outputs": [],
   "source": []
  },
  {
   "cell_type": "code",
   "execution_count": null,
   "id": "e46d052e-b14a-4fbd-a528-2b7641ea03d8",
   "metadata": {},
   "outputs": [],
   "source": []
  },
  {
   "cell_type": "code",
   "execution_count": null,
   "id": "ba5f4fb4-78ec-46be-8071-46e13ea1a97c",
   "metadata": {},
   "outputs": [],
   "source": []
  },
  {
   "cell_type": "code",
   "execution_count": 16,
   "id": "7652ab7e-e887-4017-b030-cfba18862257",
   "metadata": {},
   "outputs": [],
   "source": [
    "# Study how the simmetries permute the 27 lines"
   ]
  },
  {
   "cell_type": "code",
   "execution_count": 17,
   "id": "c2f78dc0-97ca-4374-bb0c-061c26dfbb89",
   "metadata": {},
   "outputs": [
    {
     "data": {
      "text/plain": [
       "(2, 'C2')"
      ]
     },
     "execution_count": 17,
     "metadata": {},
     "output_type": "execute_result"
    }
   ],
   "source": [
    "lines_perms = [Permutation(SE1.apply_proj_to_lines(simm[0])).to_permutation_group_element() for simm in simm_SE1]\n",
    "lines_perms_group = PermutationGroup(lines_perms)\n",
    "lines_perms_group.order(), lines_perms_group.structure_description()"
   ]
  },
  {
   "cell_type": "code",
   "execution_count": 18,
   "id": "cc2643a2-1191-4a6f-be2a-dcd5cde4b064",
   "metadata": {},
   "outputs": [
    {
     "data": {
      "text/plain": [
       "[(2,19)(3,22)(4,7)(5,25)(6,26)(8,13)(9,14)(11,16)(12,17)(18,27)(20,24)(21,23)]"
      ]
     },
     "execution_count": 18,
     "metadata": {},
     "output_type": "execute_result"
    }
   ],
   "source": [
    "lines_perms_group.gens_small()"
   ]
  },
  {
   "cell_type": "code",
   "execution_count": 19,
   "id": "2710147f-31e9-4e05-bb87-cfeb8ddc1fa5",
   "metadata": {},
   "outputs": [
    {
     "data": {
      "text/plain": [
       "[('E1', 'G4', 'F24', 'F13', 'F34', 'F45')]"
      ]
     },
     "execution_count": 19,
     "metadata": {},
     "output_type": "execute_result"
    }
   ],
   "source": [
    "[get_permuted_extended_L_set(perm) for perm in lines_perms_group.gens_small()]"
   ]
  },
  {
   "cell_type": "code",
   "execution_count": null,
   "id": "51e9ffae-1fda-4468-99d4-3620c21b7e56",
   "metadata": {},
   "outputs": [],
   "source": []
  }
 ],
 "metadata": {
  "kernelspec": {
   "display_name": "SageMath 9.4",
   "language": "sage",
   "name": "sagemath"
  },
  "language_info": {
   "codemirror_mode": {
    "name": "ipython",
    "version": 3
   },
   "file_extension": ".py",
   "mimetype": "text/x-python",
   "name": "python",
   "nbconvert_exporter": "python",
   "pygments_lexer": "ipython3",
   "version": "3.7.12"
  }
 },
 "nbformat": 4,
 "nbformat_minor": 5
}
