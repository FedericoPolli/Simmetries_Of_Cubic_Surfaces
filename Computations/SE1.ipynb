{
 "cells": [
  {
   "cell_type": "code",
   "execution_count": 1,
   "id": "58320e02-53d1-4aa8-9435-b12c34877bd1",
   "metadata": {},
   "outputs": [],
   "source": [
    "load(\"../Imports/GeneralMethods.sage\", '../Imports/Utility.sage', '../Imports/Point.sage', '../Imports/Line.sage', '../Imports/TritangentPlane.sage', '../Imports/Group.sage', '../Imports/Cubic.sage')\n",
    "import multiprocessing as mp\n",
    "import pickle"
   ]
  },
  {
   "cell_type": "code",
   "execution_count": 2,
   "id": "5ed78749-98c1-4b4b-93a0-936bbe48e5c3",
   "metadata": {},
   "outputs": [],
   "source": [
    "P.<x,y,z,t,b,c,d,e,f,l,m> = PolynomialRing(QQ)\n",
    "cubic_new = e*f*(2*x^2*y-2*x*y^2+x*z^2-x*z*t-y*t^2+y*z*t)+b*c*(x-t)*(x*z+y*t)+c*c*(z+t)*(y*t-x*z)+d*c*(y-z)*(x*z+y*t)+(e+f)*c*(x-y)*(y*t-x*z)\n",
    "sing_cubics = (-1) * (-c + f) * (-c + e) * c * (c + f) * (c + e) * (-e + f) * (-c*d + c*f + e*f) * (-c*d + c*e + e*f) * (-c^2 - c*d + e*f) * (b*c - c*f + e*f) * (b*c - c*e + e*f) * (b*c - c*d + 2*e*f) * (b*c - c^2 + e*f) * (b*c^2 + c^2*d + b*c*f - 2*c^2*f - c*d*f + 2*e*f^2) * (b*c^2 + c^2*d + b*c*e - 2*c^2*e - c*d*e + 2*e^2*f) * (-b*c^3 - 2*b*c^2*d + c^3*d + b*c^2*e + c^2*d*e + b*c^2*f + c^2*d*f + 3*b*c*e*f - 4*c^2*e*f - 3*c*d*e*f + 4*e^2*f^2)"
   ]
  },
  {
   "cell_type": "code",
   "execution_count": 3,
   "id": "def11cc9-4cef-4ce7-ae0f-1d67c49e010c",
   "metadata": {},
   "outputs": [],
   "source": [
    "# Define cubic SE1, find and classify the lines and compute the 45 tritangent planes"
   ]
  },
  {
   "cell_type": "code",
   "execution_count": 4,
   "id": "38181a6a-092f-4055-83a6-ed36cc76404a",
   "metadata": {},
   "outputs": [],
   "source": [
    "line = Line([y, z])\n",
    "general_cubic = Cubic(cubic_new, line, sing_cubics)\n",
    "SE1 = general_cubic.subs({b:-(c*c+e*f)/c})"
   ]
  },
  {
   "cell_type": "code",
   "execution_count": 5,
   "id": "b06aedad-fcfd-4872-85a9-e309cb7467ef",
   "metadata": {},
   "outputs": [],
   "source": [
    "# Find simmetries"
   ]
  },
  {
   "cell_type": "code",
   "execution_count": 6,
   "id": "30a2139a-c63f-4a7d-a190-d20040fcb094",
   "metadata": {},
   "outputs": [
    {
     "name": "stdout",
     "output_type": "stream",
     "text": [
      "CPU times: user 1.92 s, sys: 136 ms, total: 2.06 s\n",
      "Wall time: 13 s\n"
     ]
    },
    {
     "data": {
      "text/plain": [
       "576"
      ]
     },
     "execution_count": 6,
     "metadata": {},
     "output_type": "execute_result"
    }
   ],
   "source": [
    "%time adm_SE1 = SE1.find_admissible_projectivities()\n",
    "len(adm_SE1)"
   ]
  },
  {
   "cell_type": "code",
   "execution_count": 7,
   "id": "39c972e1-420f-4a36-b908-f5ec1b6ddec8",
   "metadata": {},
   "outputs": [
    {
     "name": "stdout",
     "output_type": "stream",
     "text": [
      "CPU times: user 1.89 s, sys: 148 ms, total: 2.03 s\n",
      "Wall time: 7.67 s\n"
     ]
    },
    {
     "data": {
      "text/plain": [
       "2"
      ]
     },
     "execution_count": 7,
     "metadata": {},
     "output_type": "execute_result"
    }
   ],
   "source": [
    "%time simm_SE1 = SE1.find_simmetries(adm_SE1)\n",
    "len(simm_SE1)"
   ]
  },
  {
   "cell_type": "code",
   "execution_count": 8,
   "id": "5f062967-b5f7-4322-8f54-0dc4af9e2def",
   "metadata": {},
   "outputs": [],
   "source": [
    "# Study how the simmetries permute the Eckardt points"
   ]
  },
  {
   "cell_type": "code",
   "execution_count": 9,
   "id": "0b75eec0-b652-42ce-9cdc-6323ae69f91b",
   "metadata": {},
   "outputs": [
    {
     "data": {
      "text/plain": [
       "(1, '1')"
      ]
     },
     "execution_count": 9,
     "metadata": {},
     "output_type": "execute_result"
    }
   ],
   "source": [
    "Eck_perms = [Permutation(SE1.apply_proj_to_eck(proj[0])).to_permutation_group_element() for proj in simm_SE1]\n",
    "Eck_perms_group = PermutationGroup(Eck_perms)\n",
    "Eck_perms_group.order(), Eck_perms_group.structure_description()"
   ]
  },
  {
   "cell_type": "code",
   "execution_count": 10,
   "id": "18085cdf-48ff-4317-9b4f-1c6dd379e8ee",
   "metadata": {},
   "outputs": [],
   "source": [
    "### geometric interpretation of the group of symmetries"
   ]
  },
  {
   "cell_type": "code",
   "execution_count": 11,
   "id": "bbd56a95-48e1-4385-bcd5-d3efd3293d75",
   "metadata": {},
   "outputs": [
    {
     "name": "stdout",
     "output_type": "stream",
     "text": [
      "Structure of the group Ga:\n",
      "C2\n",
      "\n",
      "Structure of the group Gb:\n",
      "C2\n"
     ]
    }
   ],
   "source": [
    "## Action of the stabilizer of SE1 on the 27 lines:\n",
    "Ga = perm_group_lines(SE1, simm_SE1)\n",
    "\n",
    "## Action of the stabilizer of SE1 on the 45 tritangent planes:\n",
    "Gb = perm_group_planes(SE1, simm_SE1)\n",
    "\n",
    "print(\"Structure of the group Ga:\")\n",
    "print(PermutationGroup(Ga).structure_description())\n",
    "\n",
    "print(\"\")\n",
    "\n",
    "print(\"Structure of the group Gb:\")\n",
    "print(PermutationGroup(Gb).structure_description())"
   ]
  },
  {
   "cell_type": "code",
   "execution_count": 12,
   "id": "4afb3a16-fbfd-4014-ae94-9b662d626d92",
   "metadata": {},
   "outputs": [],
   "source": [
    "## Action of the group Ga on the lines: computation of the orbits:\n",
    "OGa = PermutationGroup(Ga).orbits()\n",
    "\n",
    "## Action of the group on Gb the planes: computation of the orbits:\n",
    "OGb = PermutationGroup(Gb).orbits()"
   ]
  },
  {
   "cell_type": "code",
   "execution_count": 13,
   "id": "05760bc5-9dcf-479b-b440-f3bed9655211",
   "metadata": {},
   "outputs": [
    {
     "name": "stdout",
     "output_type": "stream",
     "text": [
      "E1\n",
      "G4\n",
      "F14\n"
     ]
    }
   ],
   "source": [
    "# The only lines fixed are those meeting in the Eckardt point\n",
    "for orb in OGa:\n",
    "    if len(orb) == 1:\n",
    "        print(simbolic_line_from_index(orb[0]))"
   ]
  },
  {
   "cell_type": "code",
   "execution_count": 15,
   "id": "d3b2e00d-fa91-4fd9-b807-e0111c133b31",
   "metadata": {},
   "outputs": [
    {
     "name": "stdout",
     "output_type": "stream",
     "text": [
      "t1 ['E1', 'G2', 'F12']\n",
      "t2 ['E1', 'G3', 'F13']\n",
      "t3 ['E1', 'G4', 'F14']\n",
      "t4 ['E1', 'G5', 'F15']\n",
      "t5 ['E1', 'G6', 'F16']\n",
      "t8 ['E2', 'G4', 'F24']\n",
      "t13 ['E3', 'G4', 'F34']\n",
      "t16 ['E4', 'G1', 'F14']\n",
      "t24 ['E5', 'G4', 'F45']\n",
      "t29 ['E6', 'G4', 'F46']\n",
      "t37 ['F14', 'F23', 'F56']\n",
      "t38 ['F14', 'F25', 'F36']\n",
      "t39 ['F14', 'F26', 'F35']\n"
     ]
    }
   ],
   "source": [
    "# The tritangent planes fixed are those through E1 or G4 or F14\n",
    "for orb in OGb:\n",
    "    if len(orb) == 1:\n",
    "        fixed_plane = simbolic_plane_from_index(orb[0])\n",
    "        print(fixed_plane, tritangent_plane_from_name(fixed_plane))"
   ]
  },
  {
   "cell_type": "code",
   "execution_count": null,
   "id": "76ef28ae-57f0-4246-b02b-53e8b7a9d87b",
   "metadata": {},
   "outputs": [],
   "source": []
  }
 ],
 "metadata": {
  "kernelspec": {
   "display_name": "SageMath 9.4",
   "language": "sage",
   "name": "sagemath"
  },
  "language_info": {
   "codemirror_mode": {
    "name": "ipython",
    "version": 3
   },
   "file_extension": ".py",
   "mimetype": "text/x-python",
   "name": "python",
   "nbconvert_exporter": "python",
   "pygments_lexer": "ipython3",
   "version": "3.7.12"
  }
 },
 "nbformat": 4,
 "nbformat_minor": 5
}
