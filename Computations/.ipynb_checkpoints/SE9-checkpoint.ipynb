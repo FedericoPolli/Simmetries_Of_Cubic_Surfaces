{
 "cells": [
  {
   "cell_type": "code",
   "execution_count": 1,
   "id": "3dd89ab3",
   "metadata": {},
   "outputs": [],
   "source": [
    "load('../Imports/Utility.sage', '../Imports/Point.sage', '../Imports/Line.sage', '../Imports/TritangentPlane.sage', '../Imports/Group.sage', '../Imports/Cubic.sage')\n",
    "import multiprocessing as mp\n",
    "import pickle"
   ]
  },
  {
   "cell_type": "code",
   "execution_count": 2,
   "id": "76685b5b",
   "metadata": {},
   "outputs": [],
   "source": [
    "xx = QQ['xx'].0\n",
    "Q.<i_rad3> = NumberField(xx^2+3)"
   ]
  },
  {
   "cell_type": "code",
   "execution_count": 3,
   "id": "f33464e7",
   "metadata": {},
   "outputs": [],
   "source": [
    "# Define cubic SE9, find and classify the lines and compute the 45 tritangent planes"
   ]
  },
  {
   "cell_type": "code",
   "execution_count": 4,
   "id": "a1b076d6",
   "metadata": {},
   "outputs": [],
   "source": [
    "Poly_Ring.<x,y,z,t,b,c,d,e,f,l,m> = PolynomialRing(Q)\n",
    "cubic_new = e*f*(2*x^2*y-2*x*y^2+x*z^2-x*z*t-y*t^2+y*z*t)+b*c*(x-t)*(x*z+y*t)+c*c*(z+t)*(y*t-x*z)+d*c*(y-z)*(x*z+y*t)+(e+f)*c*(x-y)*(y*t-x*z)\n",
    "sing_cubics = (-1) * (-c + f) * (-c + e) * c * (c + f) * (c + e) * (-e + f) * (-c*d + c*f + e*f) * (-c*d + c*e + e*f) * (-c^2 - c*d + e*f) * (b*c - c*f + e*f) * (b*c - c*e + e*f) * (b*c - c*d + 2*e*f) * (b*c - c^2 + e*f) * (b*c^2 + c^2*d + b*c*f - 2*c^2*f - c*d*f + 2*e*f^2) * (b*c^2 + c^2*d + b*c*e - 2*c^2*e - c*d*e + 2*e^2*f) * (-b*c^3 - 2*b*c^2*d + c^3*d + b*c^2*e + c^2*d*e + b*c^2*f + c^2*d*f + 3*b*c*e*f - 4*c^2*e*f - 3*c*d*e*f + 4*e^2*f^2)"
   ]
  },
  {
   "cell_type": "code",
   "execution_count": 5,
   "id": "bff3131d",
   "metadata": {},
   "outputs": [
    {
     "name": "stdout",
     "output_type": "stream",
     "text": [
      "CPU times: user 3.93 s, sys: 3.89 ms, total: 3.93 s\n",
      "Wall time: 3.93 s\n"
     ]
    }
   ],
   "source": [
    "line = Line([y, z])\n",
    "general_cubic = Cubic(cubic_new, line, sing_cubics)\n",
    "%time SE9 = general_cubic.subs({b:-(c*c+e*f)/c, d:(3*e*f - c^2 + c*f + c*e)/(2*c)}).subs({e : i_rad3*c})"
   ]
  },
  {
   "cell_type": "code",
   "execution_count": 6,
   "id": "688e279f",
   "metadata": {},
   "outputs": [],
   "source": [
    "# Find simmetries"
   ]
  },
  {
   "cell_type": "code",
   "execution_count": 7,
   "id": "e21349ac",
   "metadata": {},
   "outputs": [
    {
     "name": "stdout",
     "output_type": "stream",
     "text": [
      "CPU times: user 4.81 s, sys: 169 ms, total: 4.98 s\n",
      "Wall time: 54.3 s\n"
     ]
    },
    {
     "data": {
      "text/plain": [
       "1296"
      ]
     },
     "execution_count": 7,
     "metadata": {},
     "output_type": "execute_result"
    }
   ],
   "source": [
    "%time adm_SE9 = SE9.find_admissible_projectivities()\n",
    "len(adm_SE9)"
   ]
  },
  {
   "cell_type": "code",
   "execution_count": 8,
   "id": "602d8eb1",
   "metadata": {},
   "outputs": [
    {
     "name": "stdout",
     "output_type": "stream",
     "text": [
      "CPU times: user 2.59 s, sys: 137 ms, total: 2.72 s\n",
      "Wall time: 7.44 s\n"
     ]
    },
    {
     "data": {
      "text/plain": [
       "54"
      ]
     },
     "execution_count": 8,
     "metadata": {},
     "output_type": "execute_result"
    }
   ],
   "source": [
    "%time simm_SE9 = SE9.find_simmetries(adm_SE9)\n",
    "len(simm_SE9)"
   ]
  },
  {
   "cell_type": "code",
   "execution_count": 9,
   "id": "59c5cb19",
   "metadata": {},
   "outputs": [],
   "source": [
    "# Study how the simmetries permute the Eckardt points"
   ]
  },
  {
   "cell_type": "code",
   "execution_count": 10,
   "id": "d3c23c77",
   "metadata": {},
   "outputs": [
    {
     "data": {
      "text/plain": [
       "(18, '(C3 x C3) : C2')"
      ]
     },
     "execution_count": 10,
     "metadata": {},
     "output_type": "execute_result"
    }
   ],
   "source": [
    "Eck_perms = [Permutation(SE9.apply_proj_to_eck(proj[0])).to_permutation_group_element() for proj in simm_SE9]\n",
    "Eck_perms_group = PermutationGroup(Eck_perms)\n",
    "Eck_perms_group.order(), Eck_perms_group.structure_description()"
   ]
  },
  {
   "cell_type": "code",
   "execution_count": 11,
   "id": "deb6f27d",
   "metadata": {},
   "outputs": [],
   "source": [
    "### geometric interpretation of the group of symmetries"
   ]
  },
  {
   "cell_type": "code",
   "execution_count": 12,
   "id": "bd012f2d",
   "metadata": {},
   "outputs": [
    {
     "name": "stdout",
     "output_type": "stream",
     "text": [
      "Structure of the group Ga:\n",
      "((C3 x C3) : C3) : C2\n",
      "\n",
      "Structure of the group Gb:\n",
      "((C3 x C3) : C3) : C2\n"
     ]
    }
   ],
   "source": [
    "load(\"../Imports/GeneralMethods.sage\")\n",
    "## Action of the stabilizer of SE4 on the 27 lines:\n",
    "Ga = perm_group_lines(SE9, simm_SE9)\n",
    "\n",
    "## Action of the stabilizer of SE4 on the 45 tritangent planes:\n",
    "Gb = perm_group_planes(SE9, simm_SE9)\n",
    "\n",
    "print(\"Structure of the group Ga:\")\n",
    "print(PermutationGroup(Ga).structure_description())\n",
    "\n",
    "print(\"\")\n",
    "\n",
    "print(\"Structure of the group Gb:\")\n",
    "print(PermutationGroup(Gb).structure_description())"
   ]
  },
  {
   "cell_type": "code",
   "execution_count": 13,
   "id": "cc5c1f77",
   "metadata": {},
   "outputs": [],
   "source": [
    "## The nine points are coplanar:"
   ]
  },
  {
   "cell_type": "code",
   "execution_count": 14,
   "id": "3a0822df",
   "metadata": {},
   "outputs": [
    {
     "data": {
      "text/plain": [
       "3"
      ]
     },
     "execution_count": 14,
     "metadata": {},
     "output_type": "execute_result"
    }
   ],
   "source": [
    "matrix(SE9.eckardt_points).rank()"
   ]
  },
  {
   "cell_type": "code",
   "execution_count": 15,
   "id": "2d2538d4",
   "metadata": {},
   "outputs": [
    {
     "data": {
      "text/plain": [
       "3"
      ]
     },
     "execution_count": 15,
     "metadata": {},
     "output_type": "execute_result"
    }
   ],
   "source": [
    "matrix(SE9.eckardt_points[:3]).rank()"
   ]
  },
  {
   "cell_type": "code",
   "execution_count": 16,
   "id": "f5a26524",
   "metadata": {},
   "outputs": [
    {
     "data": {
      "text/plain": [
       "(i_rad3 - 1)*x + y - z"
      ]
     },
     "execution_count": 16,
     "metadata": {},
     "output_type": "execute_result"
    }
   ],
   "source": [
    "## plane which contains all the Eckardt points:\n",
    "det(matrix([[x, y, z, t]]+SE9.eckardt_points[:3]))"
   ]
  },
  {
   "cell_type": "code",
   "execution_count": 17,
   "id": "be9fc16c",
   "metadata": {},
   "outputs": [
    {
     "name": "stdout",
     "output_type": "stream",
     "text": [
      "Allignments of the nine Eckardt points:\n",
      "(0, 1, 7)\n",
      "(0, 2, 8)\n",
      "(0, 3, 5)\n",
      "(0, 4, 6)\n",
      "(1, 2, 4)\n",
      "(1, 3, 8)\n",
      "(1, 5, 6)\n",
      "(2, 3, 6)\n",
      "(2, 5, 7)\n",
      "(3, 4, 7)\n",
      "(4, 5, 8)\n",
      "(6, 7, 8)\n"
     ]
    }
   ],
   "source": [
    "print(\"Allignments of the nine Eckardt points:\")\n",
    "for i in range(7):\n",
    "    for j in range(i+1, 8):\n",
    "        for k in range(j+1, 9):\n",
    "            M = matrix([SE9.eckardt_points[i],SE9.eckardt_points[j],SE9.eckardt_points[k]])\n",
    "            if M.rank() < 3:\n",
    "                print((i, j, k))"
   ]
  },
  {
   "cell_type": "code",
   "execution_count": 18,
   "id": "3dfa81ea",
   "metadata": {},
   "outputs": [],
   "source": [
    "## Action of the group Ga on the lines: computation of the orbits:\n",
    "OGa = PermutationGroup(Ga).orbits()\n",
    "\n",
    "## Action of the group on Gb the planes: computation of the orbits:\n",
    "OGb = PermutationGroup(Gb).orbits()"
   ]
  },
  {
   "cell_type": "code",
   "execution_count": 19,
   "id": "ab9662b5",
   "metadata": {},
   "outputs": [
    {
     "data": {
      "text/plain": [
       "[[1, 10, 11, 18, 24, 30, 38, 40, 44],\n",
       " [2, 27, 32, 8, 15, 21, 19, 45, 37],\n",
       " [3, 22, 33, 7, 20, 42, 34, 14, 26],\n",
       " [4, 17, 6, 25, 39, 35, 13, 28, 43],\n",
       " [5, 12, 31, 9, 36, 16, 23, 29, 41]]"
      ]
     },
     "execution_count": 19,
     "metadata": {},
     "output_type": "execute_result"
    }
   ],
   "source": [
    "OGb"
   ]
  },
  {
   "cell_type": "code",
   "execution_count": 20,
   "id": "48ca4ced",
   "metadata": {},
   "outputs": [],
   "source": [
    "## Decomposition of each element of Ga into disjoint cycles\n",
    "## (expressed as simbolic names of lines)"
   ]
  },
  {
   "cell_type": "code",
   "execution_count": 21,
   "id": "24ed6f29",
   "metadata": {
    "scrolled": true
   },
   "outputs": [
    {
     "name": "stdout",
     "output_type": "stream",
     "text": [
      "0:\n",
      "[(1,6,15,17,10,7), (2,16,9,21,18,22), (3,13,11,24,23,25), (4,12,26), (5,14,8,27,20,19)]\n",
      "1:\n",
      "[(1,15,10), (2,9,18), (3,11,23), (4,26,12), (5,8,20), (6,17,7), (13,24,25), (14,27,19), (16,21,22)]\n",
      "2:\n",
      "[(1,10,15), (2,18,9), (3,23,11), (4,12,26), (5,20,8), (6,7,17), (13,25,24), (14,19,27), (16,22,21)]\n",
      "3:\n",
      "[(1,5,15,8,10,20), (2,17,9,7,18,6), (3,26,11,12,23,4), (13,25,24), (14,16,27,21,19,22)]\n",
      "4:\n",
      "[(1,22,23), (2,6,25), (3,15,16), (4,19,8), (5,12,27), (7,24,18), (9,17,13), (10,21,11), (14,20,26)]\n",
      "5:\n",
      "[(1,20,10,8,15,5), (2,6,18,7,9,17), (3,4,23,12,11,26), (13,24,25), (14,22,19,21,27,16)]\n",
      "6:\n",
      "[(1,7,10,17,15,6), (2,22,18,21,9,16), (3,25,23,24,11,13), (4,26,12), (5,19,20,27,8,14)]\n",
      "7:\n",
      "[]\n",
      "8:\n",
      "[(1,5,24), (2,22,26), (3,14,7), (4,18,21), (6,11,27), (8,25,15), (9,16,12), (10,20,13), (17,23,19)]\n",
      "9:\n",
      "[(1,2,27), (3,25,26), (4,23,24), (5,16,7), (6,8,21), (9,19,15), (10,18,14), (11,13,12), (17,20,22)]\n",
      "10:\n",
      "[(1,8,13), (2,16,4), (3,27,17), (5,25,10), (6,23,14), (7,11,19), (9,21,26), (12,18,22), (15,20,24)]\n",
      "11:\n",
      "[(1,8), (2,7), (3,12), (4,11), (5,10), (6,9), (14,21), (15,20), (16,19), (17,18), (22,27), (23,26)]\n",
      "12:\n",
      "[(1,27,10,14,15,19), (2,9,18), (3,20,23,8,11,5), (4,16,12,22,26,21), (6,25,7,24,17,13)]\n",
      "13:\n",
      "[(1,4,10,12,15,26), (2,24,18,13,9,25), (3,27,23,14,11,19), (5,21,20,16,8,22), (6,17,7)]\n",
      "14:\n",
      "[(1,4,6), (2,3,5), (7,10,12), (8,9,11), (13,22,27), (14,25,21), (15,26,17), (16,19,24), (18,23,20)]\n",
      "15:\n",
      "[(1,6,4), (2,5,3), (7,12,10), (8,11,9), (13,27,22), (14,21,25), (15,17,26), (16,24,19), (18,20,23)]\n",
      "16:\n",
      "[(1,13), (2,11), (3,18), (4,19), (6,21), (7,16), (9,23), (10,25), (12,27), (14,26), (15,24), (17,22)]\n",
      "17:\n",
      "[(1,27,2), (3,26,25), (4,24,23), (5,7,16), (6,21,8), (9,15,19), (10,14,18), (11,12,13), (17,22,20)]\n",
      "18:\n",
      "[(1,23,22), (2,25,6), (3,16,15), (4,8,19), (5,27,12), (7,18,24), (9,13,17), (10,11,21), (14,26,20)]\n",
      "19:\n",
      "[(1,11), (2,12), (3,10), (4,9), (5,7), (6,8), (13,27), (14,25), (15,23), (17,20), (18,26), (19,24)]\n",
      "20:\n",
      "[(1,19,18), (2,15,14), (3,12,24), (4,25,11), (5,6,22), (7,21,20), (8,17,16), (9,10,27), (13,23,26)]\n",
      "21:\n",
      "[(1,2,15,9,10,18), (3,17,11,7,23,6), (4,5,26,8,12,20), (13,21,24,22,25,16), (14,19,27)]\n",
      "22:\n",
      "[(1,25,15,13,10,24), (2,3,9,11,18,23), (4,27,26,19,12,14), (5,20,8), (6,16,17,21,7,22)]\n",
      "23:\n",
      "[(2,19), (3,22), (4,7), (5,25), (6,26), (8,13), (9,14), (11,16), (12,17), (18,27), (20,24), (21,23)]\n",
      "24:\n",
      "[(1,17,12), (2,8,23), (3,9,20), (4,15,7), (5,11,18), (6,26,10), (13,19,21), (14,22,24), (16,25,27)]\n",
      "25:\n",
      "[(1,21,3), (2,7,13), (4,27,20), (5,26,19), (6,24,9), (8,12,14), (10,16,23), (11,15,22), (17,25,18)]\n",
      "26:\n",
      "[(1,12,17), (2,23,8), (3,20,9), (4,7,15), (5,18,11), (6,10,26), (13,21,19), (14,24,22), (16,27,25)]\n",
      "27:\n",
      "[(1,3,21), (2,13,7), (4,20,27), (5,19,26), (6,9,24), (8,14,12), (10,23,16), (11,22,15), (17,18,25)]\n",
      "28:\n",
      "[(1,14), (3,8), (4,22), (5,23), (6,24), (7,13), (10,19), (11,20), (12,21), (15,27), (16,26), (17,25)]\n",
      "29:\n",
      "[(1,16), (2,20), (4,25), (5,9), (6,27), (7,14), (8,18), (10,22), (12,24), (13,26), (15,21), (17,19)]\n",
      "30:\n",
      "[(1,19,15,14,10,27), (2,18,9), (3,5,11,8,23,20), (4,21,26,22,12,16), (6,13,17,24,7,25)]\n",
      "31:\n",
      "[(1,9), (2,10), (3,7), (4,8), (5,12), (6,11), (13,22), (15,18), (16,24), (17,23), (20,26), (21,25)]\n",
      "32:\n",
      "[(1,12), (2,13), (3,14), (4,15), (5,16), (8,21), (9,24), (10,26), (11,27), (18,25), (19,23), (20,22)]\n",
      "33:\n",
      "[(1,26,7), (2,11,20), (3,8,18), (4,17,10), (5,9,23), (6,15,12), (13,16,14), (19,25,22), (21,27,24)]\n",
      "34:\n",
      "[(1,20,25), (2,21,12), (3,19,6), (4,9,22), (5,13,15), (7,23,27), (8,24,10), (11,14,17), (16,26,18)]\n",
      "35:\n",
      "[(1,25,20), (2,12,21), (3,6,19), (4,22,9), (5,15,13), (7,27,23), (8,10,24), (11,17,14), (16,18,26)]\n",
      "36:\n",
      "[(1,24,10,13,15,25), (2,23,18,11,9,3), (4,14,12,19,26,27), (5,8,20), (6,22,7,21,17,16)]\n",
      "37:\n",
      "[(1,18,19), (2,14,15), (3,24,12), (4,11,25), (5,22,6), (7,20,21), (8,16,17), (9,27,10), (13,26,23)]\n",
      "38:\n",
      "[(1,3,15,11,10,23), (2,26,9,12,18,4), (5,17,8,7,20,6), (13,14,24,27,25,19), (16,22,21)]\n",
      "39:\n",
      "[(1,17), (2,21), (3,24), (5,27), (6,10), (7,15), (8,19), (9,22), (11,25), (13,23), (14,20), (16,18)]\n",
      "40:\n",
      "[(1,18,10,9,15,2), (3,6,23,7,11,17), (4,20,12,8,26,5), (13,16,25,22,24,21), (14,27,19)]\n",
      "41:\n",
      "[(1,15,10), (2,14,18,19,9,27), (3,16,23,22,11,21), (4,6,12,7,26,17), (5,13,20,25,8,24)]\n",
      "42:\n",
      "[(1,10,15), (2,27,9,19,18,14), (3,21,11,22,23,16), (4,17,26,7,12,6), (5,24,8,25,20,13)]\n",
      "43:\n",
      "[(1,24,5), (2,26,22), (3,7,14), (4,21,18), (6,27,11), (8,15,25), (9,12,16), (10,13,20), (17,19,23)]\n",
      "44:\n",
      "[(1,11,16), (2,24,17), (3,22,10), (4,5,14), (6,18,13), (7,9,25), (8,27,26), (12,20,19), (15,23,21)]\n",
      "45:\n",
      "[(1,7,26), (2,20,11), (3,18,8), (4,10,17), (5,23,9), (6,12,15), (13,14,16), (19,22,25), (21,24,27)]\n",
      "46:\n",
      "[(1,22,15,16,10,21), (2,8,9,20,18,5), (3,23,11), (4,24,26,25,12,13), (6,14,17,27,7,19)]\n",
      "47:\n",
      "[(1,26,15,12,10,4), (2,25,9,13,18,24), (3,19,11,14,23,27), (5,22,8,16,20,21), (6,7,17)]\n",
      "48:\n",
      "[(1,21,10,16,15,22), (2,5,18,20,9,8), (3,11,23), (4,13,12,25,26,24), (6,19,7,27,17,14)]\n",
      "49:\n",
      "[(1,9,14), (2,19,10), (3,13,4), (5,21,17), (6,20,16), (7,8,22), (11,24,26), (12,23,25), (15,18,27)]\n",
      "50:\n",
      "[(1,14,9), (2,10,19), (3,4,13), (5,17,21), (6,16,20), (7,22,8), (11,26,24), (12,25,23), (15,27,18)]\n",
      "51:\n",
      "[(1,16,11), (2,17,24), (3,10,22), (4,14,5), (6,13,18), (7,25,9), (8,26,27), (12,19,20), (15,21,23)]\n",
      "52:\n",
      "[(1,23,10,11,15,3), (2,4,18,12,9,26), (5,6,20,7,8,17), (13,19,25,27,24,14), (16,21,22)]\n",
      "53:\n",
      "[(1,13,8), (2,4,16), (3,17,27), (5,10,25), (6,14,23), (7,19,11), (9,26,21), (12,22,18), (15,24,20)]\n"
     ]
    }
   ],
   "source": [
    "for ii in range(54):\n",
    "    gg = Ga[ii]\n",
    "    print(str(ii)+':')\n",
    "    cycles_gg = gg.cycles()\n",
    "    print(cycles_gg)\n",
    "    ## for cc in cycles_gg:\n",
    "    ##    print([simbolic_line_from_index(i) for i in cc.cycle_tuples()[0]])\n",
    "    ## print('')"
   ]
  },
  {
   "cell_type": "code",
   "execution_count": 22,
   "id": "b6f053a1",
   "metadata": {},
   "outputs": [
    {
     "data": {
      "text/plain": [
       "True"
      ]
     },
     "execution_count": 22,
     "metadata": {},
     "output_type": "execute_result"
    }
   ],
   "source": [
    "## definition of 4 good elements  chosen in a suitable way:\n",
    "GG = PermutationGroup(Ga)\n",
    "g1 = '(1,15,10)(2,9,18)(3,11,23)(4,26,12)(5,8,20)(6,17,7)(13,24,25)(14,27,19)(16,21,22)'\n",
    "g2 = '(1,9,14)(2,19,10)(3,13,4)(5,21,17)(6,20,16)(7,8,22)(11,24,26)(12,23,25)(15,18,27)'\n",
    "g3 = '(1,8,13)(2,16,4)(3,27,17)(5,25,10)(6,23,14)(7,11,19)(9,21,26)(12,18,22)(15,20,24)'\n",
    "g4 = '(1,9)(2,10)(3,7)(4,8)(5,12)(6,11)(13,22)(15,18)(16,24)(17,23)(20,26)(21,25)'\n",
    "\n",
    "##The elements g1, g2, g3, g4 generate the whole group of 54 elements of the symmetries of SE9:\n",
    "GG == PermutationGroup([g1, g2, g3, g4])"
   ]
  },
  {
   "cell_type": "code",
   "execution_count": 23,
   "id": "f0a32e3c",
   "metadata": {},
   "outputs": [
    {
     "data": {
      "text/plain": [
       "True"
      ]
     },
     "execution_count": 23,
     "metadata": {},
     "output_type": "execute_result"
    }
   ],
   "source": [
    "## Construction of a normal subgroup of GG:\n",
    "H = PermutationGroup([g1, g2, g3])\n",
    "H.is_normal(GG)"
   ]
  },
  {
   "cell_type": "code",
   "execution_count": 24,
   "id": "f175ed07",
   "metadata": {},
   "outputs": [
    {
     "data": {
      "text/plain": [
       "'(C3 x C3) : C3'"
      ]
     },
     "execution_count": 24,
     "metadata": {},
     "output_type": "execute_result"
    }
   ],
   "source": [
    "### structure of H:\n",
    "H.structure_description()"
   ]
  },
  {
   "cell_type": "code",
   "execution_count": 25,
   "id": "b7c4c206",
   "metadata": {},
   "outputs": [
    {
     "data": {
      "text/plain": [
       "True"
      ]
     },
     "execution_count": 25,
     "metadata": {},
     "output_type": "execute_result"
    }
   ],
   "source": [
    "## Construction of a normal subgroup of H\n",
    "K = PermutationGroup([g1, g2])\n",
    "K.is_normal(H)"
   ]
  },
  {
   "cell_type": "code",
   "execution_count": 26,
   "id": "62d598c2",
   "metadata": {},
   "outputs": [
    {
     "data": {
      "text/plain": [
       "'C3 x C3'"
      ]
     },
     "execution_count": 26,
     "metadata": {},
     "output_type": "execute_result"
    }
   ],
   "source": [
    "## structure of K\n",
    "K.structure_description()"
   ]
  },
  {
   "cell_type": "code",
   "execution_count": 27,
   "id": "401859c7",
   "metadata": {},
   "outputs": [
    {
     "name": "stdout",
     "output_type": "stream",
     "text": [
      "[('E1', 'F14', 'G4'), ('E2', 'G3', 'F23'), ('E3', 'G5', 'F35'), ('E4', 'F46', 'G6'), ('E5', 'G2', 'F25'), ('E6', 'F16', 'G1'), ('F12', 'F36', 'F45'), ('F13', 'F56', 'F24'), ('F15', 'F26', 'F34')]\n",
      "\n",
      "[('E1', 'G3', 'F13'), ('E2', 'F24', 'G4'), ('E3', 'F12', 'E4'), ('E5', 'F26', 'F16'), ('E6', 'F25', 'F15'), ('G1', 'G2', 'F34'), ('G5', 'F36', 'F46'), ('G6', 'F35', 'F45'), ('F14', 'F23', 'F56')]\n",
      "\n",
      "[('E1', 'G2', 'F12'), ('E2', 'F15', 'E4'), ('E3', 'F56', 'F16'), ('E5', 'F45', 'G4'), ('E6', 'F35', 'F13'), ('G1', 'G5', 'F24'), ('G3', 'F26', 'F46'), ('G6', 'F23', 'F34'), ('F14', 'F25', 'F36')]\n",
      "\n",
      "[('E1', 'G3'), ('E2', 'G4'), ('E3', 'G1'), ('E4', 'G2'), ('E5', 'G6'), ('E6', 'G5'), ('F12', 'F34'), ('F14', 'F23'), ('F15', 'F36'), ('F16', 'F35'), ('F25', 'F46'), ('F26', 'F45')]\n",
      "\n"
     ]
    }
   ],
   "source": [
    "for h in [g1, g2, g3, g4]:\n",
    "    print(perm_to_labels_lines(GG(h)))\n",
    "    print()"
   ]
  },
  {
   "cell_type": "code",
   "execution_count": null,
   "id": "f4f37588",
   "metadata": {},
   "outputs": [],
   "source": []
  }
 ],
 "metadata": {
  "kernelspec": {
   "display_name": "SageMath 9.4",
   "language": "sage",
   "name": "sagemath"
  },
  "language_info": {
   "codemirror_mode": {
    "name": "ipython",
    "version": 3
   },
   "file_extension": ".py",
   "mimetype": "text/x-python",
   "name": "python",
   "nbconvert_exporter": "python",
   "pygments_lexer": "ipython3",
   "version": "3.7.12"
  }
 },
 "nbformat": 4,
 "nbformat_minor": 5
}
