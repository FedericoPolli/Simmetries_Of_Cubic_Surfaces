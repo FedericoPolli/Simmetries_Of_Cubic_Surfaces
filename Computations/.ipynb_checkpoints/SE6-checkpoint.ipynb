{
 "cells": [
  {
   "cell_type": "code",
   "execution_count": 1,
   "id": "055d1ce4",
   "metadata": {},
   "outputs": [],
   "source": [
    "load(\"../Imports/GeneralMethods.sage\", '../Imports/Utility.sage', '../Imports/Point.sage', '../Imports/Line.sage', '../Imports/TritangentPlane.sage', '../Imports/Group.sage', '../Imports/Cubic.sage')\n",
    "import multiprocessing as mp\n",
    "import pickle"
   ]
  },
  {
   "cell_type": "code",
   "execution_count": 2,
   "id": "b22a1c45",
   "metadata": {},
   "outputs": [],
   "source": [
    "P.<x,y,z,t,b,c,d,e,f,l,m> = PolynomialRing(QQ)\n",
    "cubic_new = e*f*(2*x^2*y-2*x*y^2+x*z^2-x*z*t-y*t^2+y*z*t)+b*c*(x-t)*(x*z+y*t)+c*c*(z+t)*(y*t-x*z)+d*c*(y-z)*(x*z+y*t)+(e+f)*c*(x-y)*(y*t-x*z)\n",
    "sing_cubics = (-1) * (-c + f) * (-c + e) * c * (c + f) * (c + e) * (-e + f) * (-c*d + c*f + e*f) * (-c*d + c*e + e*f) * (-c^2 - c*d + e*f) * (b*c - c*f + e*f) * (b*c - c*e + e*f) * (b*c - c*d + 2*e*f) * (b*c - c^2 + e*f) * (b*c^2 + c^2*d + b*c*f - 2*c^2*f - c*d*f + 2*e*f^2) * (b*c^2 + c^2*d + b*c*e - 2*c^2*e - c*d*e + 2*e^2*f) * (-b*c^3 - 2*b*c^2*d + c^3*d + b*c^2*e + c^2*d*e + b*c^2*f + c^2*d*f + 3*b*c*e*f - 4*c^2*e*f - 3*c*d*e*f + 4*e^2*f^2)"
   ]
  },
  {
   "cell_type": "code",
   "execution_count": 3,
   "id": "111dc4ae",
   "metadata": {},
   "outputs": [],
   "source": [
    "# Define cubic SE6, find and classify the lines and compute the 45 tritangent planes"
   ]
  },
  {
   "cell_type": "code",
   "execution_count": 4,
   "id": "a0af2008",
   "metadata": {},
   "outputs": [],
   "source": [
    "line = Line([y, z])\n",
    "general_cubic = Cubic(cubic_new, line, sing_cubics)\n",
    "Lambda3 = {b:-(c*c+e*f)/c, d:(3*e*f - c^2 + c*f + c*e)/(2*c)}\n",
    "sost_SE6 = {f: -c*(5*c+e)/(c+e)}\n",
    "SE6 = general_cubic.subs(Lambda3).subs(sost_SE6)"
   ]
  },
  {
   "cell_type": "code",
   "execution_count": 5,
   "id": "35853d53",
   "metadata": {},
   "outputs": [],
   "source": [
    "# Find simmetries"
   ]
  },
  {
   "cell_type": "code",
   "execution_count": 6,
   "id": "f60c0182",
   "metadata": {},
   "outputs": [
    {
     "name": "stdout",
     "output_type": "stream",
     "text": [
      "CPU times: user 466 ms, sys: 56.3 ms, total: 522 ms\n",
      "Wall time: 1.26 s\n"
     ]
    },
    {
     "data": {
      "text/plain": [
       "48"
      ]
     },
     "execution_count": 6,
     "metadata": {},
     "output_type": "execute_result"
    }
   ],
   "source": [
    "%time adm_SE6 = SE6.find_admissible_projectivities()\n",
    "len(adm_SE6)"
   ]
  },
  {
   "cell_type": "code",
   "execution_count": 7,
   "id": "3c4513e4",
   "metadata": {},
   "outputs": [
    {
     "name": "stdout",
     "output_type": "stream",
     "text": [
      "CPU times: user 219 ms, sys: 53.1 ms, total: 272 ms\n",
      "Wall time: 385 ms\n"
     ]
    },
    {
     "data": {
      "text/plain": [
       "24"
      ]
     },
     "execution_count": 7,
     "metadata": {},
     "output_type": "execute_result"
    }
   ],
   "source": [
    "%time simm_SE6 = SE6.find_simmetries(adm_SE6)\n",
    "len(simm_SE6)"
   ]
  },
  {
   "cell_type": "code",
   "execution_count": 8,
   "id": "14ffcf26",
   "metadata": {},
   "outputs": [],
   "source": [
    "### geometric interpretation of the group of symmetries"
   ]
  },
  {
   "cell_type": "code",
   "execution_count": 9,
   "id": "e33fd1aa",
   "metadata": {},
   "outputs": [
    {
     "name": "stdout",
     "output_type": "stream",
     "text": [
      "Structure of the group Ga:\n",
      "S4\n",
      "\n",
      "Structure of the group Gb:\n",
      "S4\n"
     ]
    }
   ],
   "source": [
    "## Action of the stabilizer of SE6 on the 27 lines:\n",
    "Ga = perm_group_lines(SE6, simm_SE6)\n",
    "\n",
    "## Action of the stabilizer of SE6 on the 45 tritangent planes:\n",
    "Gb = perm_group_planes(SE6, simm_SE6)\n",
    "\n",
    "print(\"Structure of the group Ga:\")\n",
    "print(PermutationGroup(Ga).structure_description())\n",
    "\n",
    "print(\"\")\n",
    "\n",
    "print(\"Structure of the group Gb:\")\n",
    "print(PermutationGroup(Gb).structure_description())"
   ]
  },
  {
   "cell_type": "code",
   "execution_count": 10,
   "id": "191a20c9",
   "metadata": {},
   "outputs": [],
   "source": [
    "## Action of the group Ga on the lines: computation of the orbits:\n",
    "OGa = PermutationGroup(Ga).orbits()\n",
    "\n",
    "## Action of the group on Gb the planes: computation of the orbits:\n",
    "OGb = PermutationGroup(Gb).orbits()"
   ]
  },
  {
   "cell_type": "code",
   "execution_count": 11,
   "id": "395adfdf",
   "metadata": {},
   "outputs": [
    {
     "data": {
      "text/plain": [
       "(3, 7)"
      ]
     },
     "execution_count": 11,
     "metadata": {},
     "output_type": "execute_result"
    }
   ],
   "source": [
    "len(OGa), len(OGb)"
   ]
  },
  {
   "cell_type": "code",
   "execution_count": 12,
   "id": "7a81d05a",
   "metadata": {},
   "outputs": [
    {
     "data": {
      "text/plain": [
       "[[1, 3, 4, 7, 8, 9, 13, 14, 15, 18, 22, 27],\n",
       " [2, 19, 10],\n",
       " [5, 25, 26, 6, 16, 24, 20, 11, 12, 21, 23, 17]]"
      ]
     },
     "execution_count": 12,
     "metadata": {},
     "output_type": "execute_result"
    }
   ],
   "source": [
    "## The orbits OGa are a partition of the set {1, 2, ..., 27}:\n",
    "OGa"
   ]
  },
  {
   "cell_type": "code",
   "execution_count": 13,
   "id": "da3b743f",
   "metadata": {},
   "outputs": [
    {
     "name": "stdout",
     "output_type": "stream",
     "text": [
      "['E1', 'E3', 'E4', 'G1', 'G2', 'G3', 'F12', 'F13', 'F14', 'F23', 'F34', 'F56']\n",
      "['E2', 'F24', 'G4']\n",
      "['E5', 'F45', 'F46', 'E6', 'F15', 'F36', 'F25', 'G5', 'G6', 'F26', 'F35', 'F16']\n"
     ]
    }
   ],
   "source": [
    "## We convert the elements of the orbits of OGa (which are numbers from 1 to 27) \n",
    "## into the corresponding lines expressed with the labels:\n",
    "for orb in OGa:\n",
    "    print([simbolic_line_from_index(i) for i in orb])"
   ]
  },
  {
   "cell_type": "code",
   "execution_count": 14,
   "id": "2418f2d7",
   "metadata": {},
   "outputs": [
    {
     "data": {
      "text/plain": [
       "[[1, 11, 18, 37],\n",
       " [2, 12, 31, 16],\n",
       " [3, 17, 6, 34, 13, 7],\n",
       " [4, 22, 33, 35, 14, 26, 28, 20, 42, 43, 39, 25],\n",
       " [5, 27, 32, 36, 15, 21, 23, 19, 45, 40, 38, 30],\n",
       " [8],\n",
       " [9, 41, 24, 29, 44, 10]]"
      ]
     },
     "execution_count": 14,
     "metadata": {},
     "output_type": "execute_result"
    }
   ],
   "source": [
    "## The orbits OGb are a partition of the set {1, 2, ..., 45}:\n",
    "OGb"
   ]
  },
  {
   "cell_type": "code",
   "execution_count": 15,
   "id": "af38a20e",
   "metadata": {},
   "outputs": [
    {
     "name": "stdout",
     "output_type": "stream",
     "text": [
      "['t1', 't11', 't18', 't37']\n",
      "['t2', 't12', 't31', 't16']\n",
      "['t3', 't17', 't6', 't34', 't13', 't7']\n",
      "['t4', 't22', 't33', 't35', 't14', 't26', 't28', 't20', 't42', 't43', 't39', 't25']\n",
      "['t5', 't27', 't32', 't36', 't15', 't21', 't23', 't19', 't45', 't40', 't38', 't30']\n",
      "['t8']\n",
      "['t9', 't41', 't24', 't29', 't44', 't10']\n"
     ]
    }
   ],
   "source": [
    "for orb in OGb:\n",
    "    print([simbolic_plane_from_index(i) for i in orb])"
   ]
  },
  {
   "cell_type": "code",
   "execution_count": 16,
   "id": "d5d8c642",
   "metadata": {},
   "outputs": [],
   "source": [
    "## The group Gb permutes the elements of the first orbit of OGb (which has 4 elements)\n",
    "## in all the 4! possibilities:\n",
    "O1 = OGb[0]\n",
    "totPerm = []\n",
    "for gg in Gb:\n",
    "    totPerm.append(tuple([gg(i) for i in O1]))"
   ]
  },
  {
   "cell_type": "code",
   "execution_count": 17,
   "id": "dbea4782",
   "metadata": {},
   "outputs": [
    {
     "data": {
      "text/plain": [
       "24"
      ]
     },
     "execution_count": 17,
     "metadata": {},
     "output_type": "execute_result"
    }
   ],
   "source": [
    "len(Set(totPerm))"
   ]
  },
  {
   "cell_type": "code",
   "execution_count": 18,
   "id": "6fff6c9e",
   "metadata": {},
   "outputs": [
    {
     "name": "stdout",
     "output_type": "stream",
     "text": [
      "[(11, 37, 1, 18), (37, 18, 1, 11), (11, 1, 37, 18), (18, 1, 11, 37), (37, 11, 1, 18), (37, 1, 18, 11), (1, 37, 18, 11), (1, 37, 11, 18), (1, 18, 11, 37), (37, 11, 18, 1), (11, 1, 18, 37), (18, 37, 1, 11), (18, 1, 37, 11), (11, 18, 37, 1), (11, 37, 18, 1), (18, 11, 1, 37), (18, 37, 11, 1), (37, 1, 11, 18), (37, 18, 11, 1), (1, 11, 37, 18), (1, 11, 18, 37), (1, 18, 37, 11), (11, 18, 1, 37), (18, 11, 37, 1)]\n"
     ]
    }
   ],
   "source": [
    "print(totPerm)"
   ]
  },
  {
   "cell_type": "code",
   "execution_count": 19,
   "id": "08fed0c0",
   "metadata": {},
   "outputs": [],
   "source": [
    "### hence OGb is S_4."
   ]
  },
  {
   "cell_type": "code",
   "execution_count": null,
   "id": "f0d77902",
   "metadata": {},
   "outputs": [],
   "source": []
  },
  {
   "cell_type": "code",
   "execution_count": 20,
   "id": "b4b38812",
   "metadata": {},
   "outputs": [],
   "source": [
    "### the same is true for the second orbit:\n",
    "O2 = OGb[1]\n",
    "totPerm = []\n",
    "for gg in Gb:\n",
    "    totPerm.append(tuple([gg(i) for i in O2]))"
   ]
  },
  {
   "cell_type": "code",
   "execution_count": 21,
   "id": "2978bbe3",
   "metadata": {},
   "outputs": [
    {
     "data": {
      "text/plain": [
       "24"
      ]
     },
     "execution_count": 21,
     "metadata": {},
     "output_type": "execute_result"
    }
   ],
   "source": [
    "len(Set(totPerm))"
   ]
  },
  {
   "cell_type": "code",
   "execution_count": 22,
   "id": "2719e22d",
   "metadata": {},
   "outputs": [
    {
     "name": "stdout",
     "output_type": "stream",
     "text": [
      "[(12, 16, 2, 31), (31, 16, 12, 2), (12, 2, 16, 31), (2, 31, 16, 12), (12, 16, 31, 2), (31, 12, 16, 2), (31, 12, 2, 16), (12, 31, 2, 16), (2, 31, 12, 16), (16, 12, 31, 2), (2, 12, 16, 31), (31, 16, 2, 12), (31, 2, 16, 12), (16, 2, 12, 31), (16, 12, 2, 31), (2, 16, 31, 12), (16, 31, 2, 12), (12, 31, 16, 2), (16, 31, 12, 2), (12, 2, 31, 16), (2, 12, 31, 16), (31, 2, 12, 16), (2, 16, 12, 31), (16, 2, 31, 12)]\n"
     ]
    }
   ],
   "source": [
    "print(totPerm)"
   ]
  },
  {
   "cell_type": "code",
   "execution_count": null,
   "id": "97c11b26",
   "metadata": {},
   "outputs": [],
   "source": []
  },
  {
   "cell_type": "code",
   "execution_count": 23,
   "id": "85c76ca9",
   "metadata": {},
   "outputs": [
    {
     "data": {
      "text/plain": [
       "[['E1', 'G4', 'F14'],\n",
       " ['E2', 'G1', 'F12'],\n",
       " ['E2', 'G3', 'F23'],\n",
       " ['E3', 'G4', 'F34'],\n",
       " ['E4', 'G2', 'F24'],\n",
       " ['F13', 'F24', 'F56']]"
      ]
     },
     "execution_count": 23,
     "metadata": {},
     "output_type": "execute_result"
    }
   ],
   "source": [
    "SE6.eckardt_points_labels"
   ]
  },
  {
   "cell_type": "code",
   "execution_count": 24,
   "id": "15ea88cf",
   "metadata": {},
   "outputs": [],
   "source": [
    "P1, P2, P3, P4, P5, P6 = SE6.eckardt_points"
   ]
  },
  {
   "cell_type": "code",
   "execution_count": 25,
   "id": "64a23efe",
   "metadata": {},
   "outputs": [
    {
     "data": {
      "text/plain": [
       "(2, 2, 2, 2)"
      ]
     },
     "execution_count": 25,
     "metadata": {},
     "output_type": "execute_result"
    }
   ],
   "source": [
    "## study of the allignments of the Eckardt points\n",
    "matrix([P1, P2, P5]).rank(), matrix([P1, P3, P6]).rank(), \\\n",
    "matrix([P2, P4, P6]).rank(), matrix([P3, P4, P5]).rank()"
   ]
  },
  {
   "cell_type": "code",
   "execution_count": null,
   "id": "179e76b9",
   "metadata": {},
   "outputs": [],
   "source": []
  }
 ],
 "metadata": {
  "kernelspec": {
   "display_name": "SageMath 9.4",
   "language": "sage",
   "name": "sagemath"
  },
  "language_info": {
   "codemirror_mode": {
    "name": "ipython",
    "version": 3
   },
   "file_extension": ".py",
   "mimetype": "text/x-python",
   "name": "python",
   "nbconvert_exporter": "python",
   "pygments_lexer": "ipython3",
   "version": "3.7.12"
  }
 },
 "nbformat": 4,
 "nbformat_minor": 5
}
