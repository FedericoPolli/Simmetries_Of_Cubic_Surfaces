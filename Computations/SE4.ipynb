{
 "cells": [
  {
   "cell_type": "code",
   "execution_count": 10,
   "id": "61212398",
   "metadata": {},
   "outputs": [],
   "source": [
    "load(\"../Imports/GeneralMethods.sage\", '../Imports/Utility.sage', '../Imports/Point.sage', '../Imports/Line.sage', '../Imports/TritangentPlane.sage', '../Imports/Group.sage', '../Imports/Cubic.sage')\n",
    "import multiprocessing as mp\n",
    "import pickle"
   ]
  },
  {
   "cell_type": "code",
   "execution_count": 11,
   "id": "3b999dd9",
   "metadata": {},
   "outputs": [],
   "source": [
    "P.<x,y,z,t,b,c,d,e,f,l,m> = PolynomialRing(QQ)\n",
    "cubic_new = e*f*(2*x^2*y-2*x*y^2+x*z^2-x*z*t-y*t^2+y*z*t)+b*c*(x-t)*(x*z+y*t)+c*c*(z+t)*(y*t-x*z)+d*c*(y-z)*(x*z+y*t)+(e+f)*c*(x-y)*(y*t-x*z)\n",
    "sing_cubics = (-1) * (-c + f) * (-c + e) * c * (c + f) * (c + e) * (-e + f) * (-c*d + c*f + e*f) * (-c*d + c*e + e*f) * (-c^2 - c*d + e*f) * (b*c - c*f + e*f) * (b*c - c*e + e*f) * (b*c - c*d + 2*e*f) * (b*c - c^2 + e*f) * (b*c^2 + c^2*d + b*c*f - 2*c^2*f - c*d*f + 2*e*f^2) * (b*c^2 + c^2*d + b*c*e - 2*c^2*e - c*d*e + 2*e^2*f) * (-b*c^3 - 2*b*c^2*d + c^3*d + b*c^2*e + c^2*d*e + b*c^2*f + c^2*d*f + 3*b*c*e*f - 4*c^2*e*f - 3*c*d*e*f + 4*e^2*f^2)"
   ]
  },
  {
   "cell_type": "code",
   "execution_count": 12,
   "id": "4ace84d4",
   "metadata": {},
   "outputs": [],
   "source": [
    "# Define cubic SE4, find and classify the lines and compute the 45 tritangent planes"
   ]
  },
  {
   "cell_type": "code",
   "execution_count": 13,
   "id": "a9cfeb83",
   "metadata": {},
   "outputs": [],
   "source": [
    "line = Line([y, z])\n",
    "general_cubic = Cubic(cubic_new, line, sing_cubics)\n",
    "SE4 = general_cubic.subs({b:-(c*c+e*f)/c, d:(3*e*f - c^2 + c*f + c*e)/(2*c)}).subs({f:c*(3*c-e)/(c+e)})"
   ]
  },
  {
   "cell_type": "code",
   "execution_count": 14,
   "id": "ec96f558",
   "metadata": {},
   "outputs": [],
   "source": [
    "# Find simmetries"
   ]
  },
  {
   "cell_type": "code",
   "execution_count": 15,
   "id": "9e87533c",
   "metadata": {},
   "outputs": [
    {
     "name": "stdout",
     "output_type": "stream",
     "text": [
      "CPU times: user 480 ms, sys: 56.4 ms, total: 536 ms\n",
      "Wall time: 981 ms\n"
     ]
    },
    {
     "data": {
      "text/plain": [
       "36"
      ]
     },
     "execution_count": 15,
     "metadata": {},
     "output_type": "execute_result"
    }
   ],
   "source": [
    "%time adm_SE4 = SE4.find_admissible_projectivities()\n",
    "len(adm_SE4)"
   ]
  },
  {
   "cell_type": "code",
   "execution_count": 16,
   "id": "46f75dea",
   "metadata": {},
   "outputs": [
    {
     "name": "stdout",
     "output_type": "stream",
     "text": [
      "CPU times: user 240 ms, sys: 120 ms, total: 360 ms\n",
      "Wall time: 425 ms\n"
     ]
    },
    {
     "data": {
      "text/plain": [
       "12"
      ]
     },
     "execution_count": 16,
     "metadata": {},
     "output_type": "execute_result"
    }
   ],
   "source": [
    "%time simm_SE4 = SE4.find_simmetries(adm_SE4)\n",
    "len(simm_SE4)"
   ]
  },
  {
   "cell_type": "code",
   "execution_count": 17,
   "id": "cf224099",
   "metadata": {},
   "outputs": [],
   "source": [
    "### geometric interpretation of the group of symmetries"
   ]
  },
  {
   "cell_type": "code",
   "execution_count": 18,
   "id": "4fe33dc5",
   "metadata": {},
   "outputs": [
    {
     "name": "stdout",
     "output_type": "stream",
     "text": [
      "Structure of the group Ga:\n",
      "D6\n",
      "\n",
      "Structure of the group Gb:\n",
      "D6\n"
     ]
    }
   ],
   "source": [
    "## Action of the stabilizer of SE4 on the 27 lines:\n",
    "Ga = perm_group_lines(SE4, simm_SE4)\n",
    "\n",
    "## Action of the stabilizer of SE4 on the 45 tritangent planes:\n",
    "Gb = perm_group_planes(SE4, simm_SE4)\n",
    "\n",
    "print(\"Structure of the group Ga:\")\n",
    "print(PermutationGroup(Ga).structure_description())\n",
    "\n",
    "print(\"\")\n",
    "\n",
    "print(\"Structure of the group Gb:\")\n",
    "print(PermutationGroup(Gb).structure_description())"
   ]
  },
  {
   "cell_type": "code",
   "execution_count": 19,
   "id": "90914909",
   "metadata": {},
   "outputs": [
    {
     "data": {
      "text/plain": [
       "[['E1', 'G4', 'F14'],\n",
       " ['E2', 'G3', 'F23'],\n",
       " ['E2', 'G4', 'F24'],\n",
       " ['F13', 'F24', 'F56']]"
      ]
     },
     "execution_count": 19,
     "metadata": {},
     "output_type": "execute_result"
    }
   ],
   "source": [
    "SE4.eckardt_points_labels"
   ]
  },
  {
   "cell_type": "code",
   "execution_count": 20,
   "id": "548a75b1",
   "metadata": {},
   "outputs": [],
   "source": [
    "## Action of the group Ga on the lines: computation of the orbits:\n",
    "OGa = PermutationGroup(Ga).orbits()\n",
    "\n",
    "## Action of the group on Gb the planes: computation of the orbits:\n",
    "OGb = PermutationGroup(Gb).orbits()"
   ]
  },
  {
   "cell_type": "code",
   "execution_count": 21,
   "id": "7ac7ee16",
   "metadata": {},
   "outputs": [
    {
     "data": {
      "text/plain": [
       "[[1, 9, 14, 15, 18, 27],\n",
       " [2, 19, 10],\n",
       " [3, 22, 7, 13, 8, 4],\n",
       " [5, 25, 12, 21, 23, 17],\n",
       " [6, 26, 11, 20, 24, 16]]"
      ]
     },
     "execution_count": 21,
     "metadata": {},
     "output_type": "execute_result"
    }
   ],
   "source": [
    "## The orbits OGa are a partition of the set {1, 2, ..., 27}:\n",
    "OGa"
   ]
  },
  {
   "cell_type": "code",
   "execution_count": 22,
   "id": "2ff271a7",
   "metadata": {},
   "outputs": [
    {
     "name": "stdout",
     "output_type": "stream",
     "text": [
      "['E1', 'G3', 'F13', 'F14', 'F23', 'F56']\n",
      "['E2', 'F24', 'G4']\n",
      "['E3', 'F34', 'G1', 'F12', 'G2', 'E4']\n",
      "['E5', 'F45', 'G6', 'F26', 'F35', 'F16']\n",
      "['E6', 'F46', 'G5', 'F25', 'F36', 'F15']\n"
     ]
    }
   ],
   "source": [
    "## We convert the elements of the orbits of OGa (which are numbers from 1 to 27) \n",
    "## into the corresponding lines expressed with the labels:\n",
    "for orb in OGa:\n",
    "    print([simbolic_line_from_index(i) for i in orb])"
   ]
  },
  {
   "cell_type": "code",
   "execution_count": 23,
   "id": "bdfa9e55",
   "metadata": {},
   "outputs": [
    {
     "data": {
      "text/plain": [
       "[[1, 11, 12, 16, 18, 31],\n",
       " [2, 37],\n",
       " [3, 34, 7],\n",
       " [4, 35, 40, 38, 28, 30],\n",
       " [5, 36, 43, 39, 23, 25],\n",
       " [6, 17, 13],\n",
       " [8],\n",
       " [9, 41, 29],\n",
       " [10, 44, 24],\n",
       " [14, 42, 22, 20, 32, 21, 45, 15, 26, 33, 19, 27]]"
      ]
     },
     "execution_count": 23,
     "metadata": {},
     "output_type": "execute_result"
    }
   ],
   "source": [
    "## The orbits OGb are a partition of the set {1, 2, ..., 45}:\n",
    "OGb"
   ]
  },
  {
   "cell_type": "code",
   "execution_count": 24,
   "id": "da26668b",
   "metadata": {},
   "outputs": [
    {
     "data": {
      "text/plain": [
       "['t3', 't7', 't8', 't34']"
      ]
     },
     "execution_count": 24,
     "metadata": {},
     "output_type": "execute_result"
    }
   ],
   "source": [
    "[name_tritangent_plane(pl) for pl in SE4.eckardt_points_labels]"
   ]
  },
  {
   "cell_type": "code",
   "execution_count": 25,
   "id": "19254a83",
   "metadata": {},
   "outputs": [
    {
     "data": {
      "text/plain": [
       "['E2', 'G4', 'F24']"
      ]
     },
     "execution_count": 25,
     "metadata": {},
     "output_type": "execute_result"
    }
   ],
   "source": [
    "## from OGb we see that the Eckard point t8, which is ['E2', 'G4', 'F24']\n",
    "## is fixed, while the three Eckard points 't3', 't7', 't34' form an orbit.\n",
    "tritangent_plane_from_name('t8')"
   ]
  },
  {
   "cell_type": "code",
   "execution_count": 26,
   "id": "8b1e12b8",
   "metadata": {},
   "outputs": [],
   "source": [
    "## Action of Gb on the orbit [3, 34, 7]:\n",
    "totPerm = []\n",
    "for gg in Gb:\n",
    "    totPerm.append(tuple([gg(i) for i in OGb[2]]))"
   ]
  },
  {
   "cell_type": "code",
   "execution_count": 27,
   "id": "d8f48083",
   "metadata": {},
   "outputs": [
    {
     "name": "stdout",
     "output_type": "stream",
     "text": [
      "{(3, 7, 34), (34, 3, 7), (3, 34, 7), (7, 3, 34), (7, 34, 3), (34, 7, 3)}\n"
     ]
    }
   ],
   "source": [
    "print(Set(totPerm))"
   ]
  },
  {
   "cell_type": "code",
   "execution_count": 28,
   "id": "3e08706e",
   "metadata": {},
   "outputs": [],
   "source": [
    "## Gb acts on the orbit OGb[2] permuting the three elements in all possible ways."
   ]
  },
  {
   "cell_type": "code",
   "execution_count": 29,
   "id": "4d4f0b6f",
   "metadata": {},
   "outputs": [],
   "source": [
    "## Action of Gb on the two orbits: OGb[1] and OGb[2]:\n",
    "totPerm = []\n",
    "for gg in Gb:\n",
    "    totPerm.append([tuple([gg(i) for i in OGb[2]]), tuple([gg(i) for i in OGb[1]])])"
   ]
  },
  {
   "cell_type": "code",
   "execution_count": 30,
   "id": "232cf27a",
   "metadata": {},
   "outputs": [
    {
     "data": {
      "text/plain": [
       "[[(3, 7, 34), (37, 2)],\n",
       " [(34, 3, 7), (2, 37)],\n",
       " [(3, 7, 34), (2, 37)],\n",
       " [(7, 34, 3), (2, 37)],\n",
       " [(3, 34, 7), (2, 37)],\n",
       " [(34, 7, 3), (2, 37)],\n",
       " [(7, 3, 34), (2, 37)],\n",
       " [(34, 7, 3), (37, 2)],\n",
       " [(3, 34, 7), (37, 2)],\n",
       " [(7, 3, 34), (37, 2)],\n",
       " [(34, 3, 7), (37, 2)],\n",
       " [(7, 34, 3), (37, 2)]]"
      ]
     },
     "execution_count": 30,
     "metadata": {},
     "output_type": "execute_result"
    }
   ],
   "source": [
    "totPerm"
   ]
  },
  {
   "cell_type": "code",
   "execution_count": 31,
   "id": "496783d1",
   "metadata": {},
   "outputs": [],
   "source": [
    "### We consider the following elements of Gb:\n",
    "## g1 = Gb[1], g2 = Gb[4], g3 = Gb[7]\n",
    "g1, g2, g3 = Gb[1], Gb[4], Gb[7]"
   ]
  },
  {
   "cell_type": "code",
   "execution_count": 32,
   "id": "34981724",
   "metadata": {},
   "outputs": [],
   "source": [
    "## and we see their action at the same time on the the two orbits: (2, 37) and (3, 34, 7):"
   ]
  },
  {
   "cell_type": "code",
   "execution_count": 33,
   "id": "9fadd05d",
   "metadata": {},
   "outputs": [
    {
     "name": "stdout",
     "output_type": "stream",
     "text": [
      "[(2, 37), (34, 3, 7)]\n",
      "[(2, 37), (3, 34, 7)]\n",
      "[(37, 2), (34, 7, 3)]\n"
     ]
    }
   ],
   "source": [
    "for gg in [g1, g2, g3]:\n",
    "    print([(gg(2), gg(37)), (gg(3), gg(34), gg(7))])"
   ]
  },
  {
   "cell_type": "code",
   "execution_count": 34,
   "id": "bb3a3a62",
   "metadata": {},
   "outputs": [],
   "source": [
    "## We see in this way that the group Gb is C2 x S3\n",
    "## It exchanges twoi elements leaving fixed 3 and it permutes in all the \n",
    "## possible ways three elements leaving fixed the first two."
   ]
  },
  {
   "cell_type": "code",
   "execution_count": 35,
   "id": "53026812",
   "metadata": {},
   "outputs": [],
   "source": [
    "## We can see the group Stab(SE4) in another way, considering the \n",
    "## action of Ga on the first orbit of OGa:"
   ]
  },
  {
   "cell_type": "code",
   "execution_count": 36,
   "id": "8b18db03",
   "metadata": {},
   "outputs": [],
   "source": [
    "Orb1 = OGa[0]"
   ]
  },
  {
   "cell_type": "code",
   "execution_count": 37,
   "id": "a074fcdb",
   "metadata": {},
   "outputs": [
    {
     "data": {
      "text/plain": [
       "[1, 9, 14, 15, 18, 27]"
      ]
     },
     "execution_count": 37,
     "metadata": {},
     "output_type": "execute_result"
    }
   ],
   "source": [
    "Orb1"
   ]
  },
  {
   "cell_type": "code",
   "execution_count": 38,
   "id": "7002300e",
   "metadata": {},
   "outputs": [
    {
     "name": "stdout",
     "output_type": "stream",
     "text": [
      "[ 1  9 14 15 18 27]\n",
      "[15 27 18  1 14  9]\n",
      "\n",
      "[ 1  9 14 15 18 27]\n",
      "[14  9  1 27 18 15]\n",
      "\n",
      "[ 1  9 14 15 18 27]\n",
      "[ 1 14  9 15 27 18]\n",
      "\n",
      "[ 1  9 14 15 18 27]\n",
      "[ 9  1 14 18 15 27]\n",
      "\n",
      "[ 1  9 14 15 18 27]\n",
      "[ 1  9 14 15 18 27]\n",
      "\n",
      "[ 1  9 14 15 18 27]\n",
      "[14  1  9 27 15 18]\n",
      "\n",
      "[ 1  9 14 15 18 27]\n",
      "[ 9 14  1 18 27 15]\n",
      "\n",
      "[ 1  9 14 15 18 27]\n",
      "[27 15 18 14  1  9]\n",
      "\n",
      "[ 1  9 14 15 18 27]\n",
      "[15 18 27  1  9 14]\n",
      "\n",
      "[ 1  9 14 15 18 27]\n",
      "[18 27 15  9 14  1]\n",
      "\n",
      "[ 1  9 14 15 18 27]\n",
      "[27 18 15 14  9  1]\n",
      "\n",
      "[ 1  9 14 15 18 27]\n",
      "[18 15 27  9  1 14]\n",
      "\n"
     ]
    }
   ],
   "source": [
    "for g in Ga:\n",
    "    print(matrix([Orb1, [g(i) for i in Orb1]]))\n",
    "    print(\"\")"
   ]
  },
  {
   "cell_type": "code",
   "execution_count": 39,
   "id": "bfe539e4",
   "metadata": {},
   "outputs": [
    {
     "name": "stdout",
     "output_type": "stream",
     "text": [
      "[ 1 18 14 15  9 27]\n",
      "[ 1 27  9 15 14 18]\n"
     ]
    }
   ],
   "source": [
    "g1 = Ga[2]\n",
    "hexagon = [1, 18, 14, 15, 9, 27]\n",
    "print(matrix([hexagon, [g1(i) for i in hexagon]]))"
   ]
  },
  {
   "cell_type": "code",
   "execution_count": 40,
   "id": "39f634a9",
   "metadata": {},
   "outputs": [
    {
     "name": "stdout",
     "output_type": "stream",
     "text": [
      "[ 1 18 14 15  9 27]\n",
      "[ 9 27  1 18 14 15]\n"
     ]
    }
   ],
   "source": [
    "g2 = Ga[6]\n",
    "print(matrix([hexagon, [g2(i) for i in hexagon]]))"
   ]
  },
  {
   "cell_type": "code",
   "execution_count": 41,
   "id": "aabe51e3",
   "metadata": {},
   "outputs": [],
   "source": [
    "## g1 rotates of 60° the regular hexagon of consecutive vertices 1, 18, 14, 15, 9, 27 \n",
    "## g2 reflects the hexagon along the axis of the edge 1, 18.\n",
    "## Hence Stab(SE4) is the diedral group D6."
   ]
  },
  {
   "cell_type": "code",
   "execution_count": null,
   "id": "b718fc2f",
   "metadata": {},
   "outputs": [],
   "source": []
  }
 ],
 "metadata": {
  "kernelspec": {
   "display_name": "SageMath 9.4",
   "language": "sage",
   "name": "sagemath"
  },
  "language_info": {
   "codemirror_mode": {
    "name": "ipython",
    "version": 3
   },
   "file_extension": ".py",
   "mimetype": "text/x-python",
   "name": "python",
   "nbconvert_exporter": "python",
   "pygments_lexer": "ipython3",
   "version": "3.7.12"
  }
 },
 "nbformat": 4,
 "nbformat_minor": 5
}
