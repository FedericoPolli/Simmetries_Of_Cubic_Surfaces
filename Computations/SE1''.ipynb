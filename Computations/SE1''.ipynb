{
 "cells": [
  {
   "cell_type": "code",
   "execution_count": 4,
   "id": "2ba0fc1f-0111-49ce-b29e-05a60815b2b2",
   "metadata": {},
   "outputs": [],
   "source": [
    "load(\"../Imports/GeneralMethods.sage\", '../Imports/Utility.sage', '../Imports/Point.sage', '../Imports/Line.sage', '../Imports/TritangentPlane.sage', '../Imports/Group.sage', '../Imports/Cubic.sage')\n",
    "import multiprocessing as mp\n",
    "import pickle"
   ]
  },
  {
   "cell_type": "code",
   "execution_count": 5,
   "id": "98083571-18ea-4422-9fb0-b88707edf0a1",
   "metadata": {},
   "outputs": [],
   "source": [
    "Q.<rad2_minus_i> = NumberField((sqrt(2)-I).minpoly('xx'))"
   ]
  },
  {
   "cell_type": "code",
   "execution_count": 6,
   "id": "0e4d7956-5df0-48eb-99bf-d754265111be",
   "metadata": {},
   "outputs": [],
   "source": [
    "ii = ((rad2_minus_i)^3+rad2_minus_i)/(-6)"
   ]
  },
  {
   "cell_type": "code",
   "execution_count": 8,
   "id": "cc09d8eb-bca5-4155-8c34-1de959495dca",
   "metadata": {},
   "outputs": [],
   "source": [
    "P.<x,y,z,t,b,c,d,e,f,l,m> = PolynomialRing(Q)\n",
    "cubic_new = e*f*(2*x^2*y-2*x*y^2+x*z^2-x*z*t-y*t^2+y*z*t)+b*c*(x-t)*(x*z+y*t)+c*c*(z+t)*(y*t-x*z)+d*c*(y-z)*(x*z+y*t)+(e+f)*c*(x-y)*(y*t-x*z)\n",
    "sing_cubics = (-1) * (-c + f) * (-c + e) * c * (c + f) * (c + e) * (-e + f) * (-c*d + c*f + e*f) * (-c*d + c*e + e*f) * (-c^2 - c*d + e*f) * (b*c - c*f + e*f) * (b*c - c*e + e*f) * (b*c - c*d + 2*e*f) * (b*c - c^2 + e*f) * (b*c^2 + c^2*d + b*c*f - 2*c^2*f - c*d*f + 2*e*f^2) * (b*c^2 + c^2*d + b*c*e - 2*c^2*e - c*d*e + 2*e^2*f) * (-b*c^3 - 2*b*c^2*d + c^3*d + b*c^2*e + c^2*d*e + b*c^2*f + c^2*d*f + 3*b*c*e*f - 4*c^2*e*f - 3*c*d*e*f + 4*e^2*f^2)"
   ]
  },
  {
   "cell_type": "code",
   "execution_count": 9,
   "id": "bcf08517-71cd-4716-9adc-888a3b1a52ed",
   "metadata": {},
   "outputs": [],
   "source": [
    "# Define cubic SE1'', find and classify the lines and compute the 45 tritangent planes"
   ]
  },
  {
   "cell_type": "code",
   "execution_count": 62,
   "id": "687f480b-b9be-484d-8248-aeb7e9e3eb49",
   "metadata": {},
   "outputs": [],
   "source": [
    "line = Line([y, z])\n",
    "general_cubic = Cubic(cubic_new, line, sing_cubics)\n",
    "SE1_2 = general_cubic.subs({b:-(c*c+e*f)/c}).subs({e:(c*(2*ii-1)*(5*c-(4*ii-3)*f))/(5*(c-f)), d:((2*ii+1)*(5*c^2-5*f^2-(4*ii+8)*c*f))/(5*(f-c))}).subs({c:-rad2_minus_i, f:3})"
   ]
  },
  {
   "cell_type": "code",
   "execution_count": 64,
   "id": "02c696b1-04ea-4c82-9479-401187fe87c5",
   "metadata": {},
   "outputs": [],
   "source": [
    "# Find simmetries"
   ]
  },
  {
   "cell_type": "code",
   "execution_count": 65,
   "id": "8ff61242-28c7-4bdd-a4c9-94162ec4f66e",
   "metadata": {},
   "outputs": [
    {
     "name": "stdout",
     "output_type": "stream",
     "text": [
      "CPU times: user 3.02 s, sys: 229 ms, total: 3.25 s\n",
      "Wall time: 16.5 s\n"
     ]
    },
    {
     "data": {
      "text/plain": [
       "576"
      ]
     },
     "execution_count": 65,
     "metadata": {},
     "output_type": "execute_result"
    }
   ],
   "source": [
    "%time adm_SE1_2 = SE1_2.find_admissible_projectivities()\n",
    "len(adm_SE1_2)"
   ]
  },
  {
   "cell_type": "code",
   "execution_count": 66,
   "id": "e78072a6-4aed-466b-9da7-557d9a3d8c18",
   "metadata": {},
   "outputs": [
    {
     "name": "stdout",
     "output_type": "stream",
     "text": [
      "CPU times: user 2.85 s, sys: 221 ms, total: 3.07 s\n",
      "Wall time: 3.47 s\n"
     ]
    },
    {
     "data": {
      "text/plain": [
       "8"
      ]
     },
     "execution_count": 66,
     "metadata": {},
     "output_type": "execute_result"
    }
   ],
   "source": [
    "%time simm_SE1_2 = SE1_2.find_simmetries(adm_SE1_2)\n",
    "len(simm_SE1_2)"
   ]
  },
  {
   "cell_type": "code",
   "execution_count": 67,
   "id": "8d7f8f7d-40d3-421a-a366-02af617e6859",
   "metadata": {},
   "outputs": [],
   "source": [
    "# Study how the simmetries permute the Eckardt points"
   ]
  },
  {
   "cell_type": "code",
   "execution_count": 68,
   "id": "4a2e10f7-b95e-4db4-9b34-715e0141a0ad",
   "metadata": {},
   "outputs": [
    {
     "data": {
      "text/plain": [
       "(1, '1')"
      ]
     },
     "execution_count": 68,
     "metadata": {},
     "output_type": "execute_result"
    }
   ],
   "source": [
    "Eck_perms = [Permutation(SE1_2.apply_proj_to_eck(proj[0])).to_permutation_group_element() for proj in simm_SE1_2]\n",
    "Eck_perms_group = PermutationGroup(Eck_perms)\n",
    "Eck_perms_group.order(), Eck_perms_group.structure_description()"
   ]
  },
  {
   "cell_type": "code",
   "execution_count": 69,
   "id": "10d30263-29ad-4f06-bf6e-fa02582cab89",
   "metadata": {},
   "outputs": [],
   "source": [
    "### geometric interpretation of the group of symmetries"
   ]
  },
  {
   "cell_type": "code",
   "execution_count": 70,
   "id": "7ff2df43-1d89-4853-8863-5a8b7bf81061",
   "metadata": {},
   "outputs": [
    {
     "name": "stdout",
     "output_type": "stream",
     "text": [
      "CPU times: user 5.02 s, sys: 24 ms, total: 5.04 s\n",
      "Wall time: 5.05 s\n"
     ]
    }
   ],
   "source": [
    "%%time\n",
    "## Action of the stabilizer of SE1'' on the 27 lines:\n",
    "Ga = perm_group_lines(SE1_2, simm_SE1_2)\n",
    "\n",
    "## Action of the stabilizer of SE1'' on the 45 tritangent planes:\n",
    "Gb = perm_group_planes(SE1_2, simm_SE1_2)"
   ]
  },
  {
   "cell_type": "code",
   "execution_count": 71,
   "id": "08d1a949-42df-42a9-b8e4-4b446fb40efa",
   "metadata": {},
   "outputs": [
    {
     "name": "stdout",
     "output_type": "stream",
     "text": [
      "Structure of the group Ga:\n",
      "C8\n",
      "\n",
      "Structure of the group Gb:\n",
      "C8\n"
     ]
    }
   ],
   "source": [
    "print(\"Structure of the group Ga:\")\n",
    "print(PermutationGroup(Ga).structure_description())\n",
    "\n",
    "print(\"\")\n",
    "\n",
    "print(\"Structure of the group Gb:\")\n",
    "print(PermutationGroup(Gb).structure_description())"
   ]
  },
  {
   "cell_type": "code",
   "execution_count": 72,
   "id": "484ff50e-c679-45ed-aaab-671ab8321756",
   "metadata": {},
   "outputs": [],
   "source": [
    "## Action of the group Ga on the lines: computation of the orbits:\n",
    "OGa = PermutationGroup(Ga).orbits()\n",
    "\n",
    "## Action of the group on Gb the planes: computation of the orbits:\n",
    "OGb = PermutationGroup(Gb).orbits()"
   ]
  },
  {
   "cell_type": "code",
   "execution_count": null,
   "id": "220ddc3d-9abb-4cad-a2cc-3bffd4794747",
   "metadata": {},
   "outputs": [],
   "source": []
  },
  {
   "cell_type": "code",
   "execution_count": null,
   "id": "d3f9eaa2-e5e0-4354-82b0-6c91fd969f23",
   "metadata": {},
   "outputs": [],
   "source": []
  },
  {
   "cell_type": "code",
   "execution_count": null,
   "id": "2038e075-88ba-43e1-af7f-05797a81d570",
   "metadata": {},
   "outputs": [],
   "source": []
  },
  {
   "cell_type": "code",
   "execution_count": null,
   "id": "d2935bca-b13e-4387-a9d5-ce2bc4ad0bc4",
   "metadata": {},
   "outputs": [],
   "source": []
  },
  {
   "cell_type": "code",
   "execution_count": null,
   "id": "69401a1c-04b9-42fd-a63f-861083298b26",
   "metadata": {},
   "outputs": [],
   "source": []
  },
  {
   "cell_type": "code",
   "execution_count": null,
   "id": "9d192d22-08f7-4c20-afb8-4e21160099f0",
   "metadata": {},
   "outputs": [],
   "source": []
  },
  {
   "cell_type": "code",
   "execution_count": null,
   "id": "e0632393-d132-424c-aa67-1ecec315da9b",
   "metadata": {},
   "outputs": [],
   "source": []
  },
  {
   "cell_type": "code",
   "execution_count": null,
   "id": "36cd602f-0cd5-451f-8fb2-98e389fe6440",
   "metadata": {},
   "outputs": [],
   "source": []
  },
  {
   "cell_type": "code",
   "execution_count": null,
   "id": "88407088-a3a6-43bb-97b8-1e7387666cae",
   "metadata": {},
   "outputs": [],
   "source": []
  },
  {
   "cell_type": "code",
   "execution_count": 48,
   "id": "f235f99e-3742-4720-be59-96b2aae5434b",
   "metadata": {},
   "outputs": [],
   "source": [
    "SE1_1 = general_cubic.subs({b:-(c*c+e*f)/c}).subs({e:(c*(2*ii-1)*(5*c-(4*ii-3)*f))/(5*(c-f)), d:((2*ii+1)*(5*c^2-5*f^2-(4*ii+8)*c*f))/(5*(f-c))})"
   ]
  },
  {
   "cell_type": "code",
   "execution_count": 52,
   "id": "e21109c2-0efd-4789-b0e4-472507e4ac70",
   "metadata": {},
   "outputs": [
    {
     "name": "stdout",
     "output_type": "stream",
     "text": [
      "CPU times: user 6.35 s, sys: 250 ms, total: 6.6 s\n",
      "Wall time: 31.3 s\n"
     ]
    },
    {
     "data": {
      "text/plain": [
       "576"
      ]
     },
     "execution_count": 52,
     "metadata": {},
     "output_type": "execute_result"
    }
   ],
   "source": [
    "%time adm_SE1_1 = SE1_1.find_admissible_projectivities()\n",
    "len(adm_SE1_1)"
   ]
  },
  {
   "cell_type": "code",
   "execution_count": 53,
   "id": "efbad98f-b429-4d75-beef-a61680b1f47b",
   "metadata": {},
   "outputs": [
    {
     "name": "stdout",
     "output_type": "stream",
     "text": [
      "CPU times: user 7.12 s, sys: 253 ms, total: 7.37 s\n",
      "Wall time: 11.4 s\n"
     ]
    },
    {
     "data": {
      "text/plain": [
       "4"
      ]
     },
     "execution_count": 53,
     "metadata": {},
     "output_type": "execute_result"
    }
   ],
   "source": [
    "%time simm_SE1_1 = SE1_1.find_simmetries(adm_SE1_1)\n",
    "len(simm_SE1_1)"
   ]
  },
  {
   "cell_type": "code",
   "execution_count": 54,
   "id": "913ef6d3-962d-479b-841e-cd5f0637977e",
   "metadata": {},
   "outputs": [
    {
     "name": "stdout",
     "output_type": "stream",
     "text": [
      "CPU times: user 6.38 s, sys: 261 ms, total: 6.64 s\n",
      "Wall time: 40.9 s\n"
     ]
    }
   ],
   "source": [
    "%time conds = SE1_1.find_conditions_for_subfamilies(adm_SE1_1, simm_SE1_1)"
   ]
  },
  {
   "cell_type": "code",
   "execution_count": 55,
   "id": "425e006d-fcb8-45a5-a794-1aad36495f28",
   "metadata": {},
   "outputs": [
    {
     "data": {
      "text/plain": [
       "24"
      ]
     },
     "execution_count": 55,
     "metadata": {},
     "output_type": "execute_result"
    }
   ],
   "source": [
    "len(conds)"
   ]
  },
  {
   "cell_type": "code",
   "execution_count": 56,
   "id": "8eac944e-9a65-4e76-8a08-8e15d67eed16",
   "metadata": {},
   "outputs": [],
   "source": [
    "prim_decs = [el[0] for el in conds]\n",
    "ideals = list(set([ideal for prim_dec in prim_decs for ideal in prim_dec]))\n",
    "sosts = [solve_linear_system(ideal.gens(), [c], [f]) for ideal in ideals]"
   ]
  },
  {
   "cell_type": "code",
   "execution_count": 57,
   "id": "835ec069-353b-46c2-ae13-b33c30286319",
   "metadata": {},
   "outputs": [
    {
     "data": {
      "text/plain": [
       "[((-7*rad2_minus_i^3 + 15*rad2_minus_i^2 + 11*rad2_minus_i - 9)*f, 102*f),\n",
       " ((-rad2_minus_i^3 - 15*rad2_minus_i^2 - 19*rad2_minus_i + 21)*f, 102*f),\n",
       " ((-rad2_minus_i^3 - rad2_minus_i^2 + rad2_minus_i + 3)*f, 6*f),\n",
       " ((-rad2_minus_i)*f, 3*f),\n",
       " ((-rad2_minus_i^3 + 2*rad2_minus_i)*f, 9*f),\n",
       " ((-rad2_minus_i^3 + 3*rad2_minus_i^2 - 7*rad2_minus_i + 3)*f, 18*f),\n",
       " ((-rad2_minus_i^3 + 15*rad2_minus_i^2 - 19*rad2_minus_i - 21)*f, 102*f),\n",
       " ((-7*rad2_minus_i^3 - 15*rad2_minus_i^2 + 11*rad2_minus_i + 9)*f, 102*f),\n",
       " ((rad2_minus_i^3 + 3*rad2_minus_i^2 + rad2_minus_i - 3)*f, 6*f),\n",
       " ((rad2_minus_i^3 - 3*rad2_minus_i^2 + rad2_minus_i + 3)*f, 6*f),\n",
       " ((-rad2_minus_i^3 + rad2_minus_i^2 + rad2_minus_i - 3)*f, 6*f),\n",
       " ((-rad2_minus_i^3 - 3*rad2_minus_i^2 - 7*rad2_minus_i - 3)*f, 18*f)]"
      ]
     },
     "execution_count": 57,
     "metadata": {},
     "output_type": "execute_result"
    }
   ],
   "source": [
    "sosts"
   ]
  },
  {
   "cell_type": "code",
   "execution_count": 59,
   "id": "f15f21dc-3e1d-4a5c-bb40-2a2202f39e3f",
   "metadata": {},
   "outputs": [],
   "source": [
    "cubics = [SE1_1.subs({c:sost[0], f:sost[1]}) for sost in sosts]\n",
    "main_cubic_index = sosts.index(((-rad2_minus_i)*f, 3*f)) #we can choose any cubic\n",
    "main_cubic = cubics[main_cubic_index]"
   ]
  },
  {
   "cell_type": "code",
   "execution_count": 73,
   "id": "98e73d59-8799-4d3b-90cd-b54a2bcff83c",
   "metadata": {},
   "outputs": [],
   "source": [
    "L_sets = [main_cubic.L_set_base]\n",
    "for L_set in [get_permuted_L_set(perm) for perm in main_cubic.find_admissible_permutations()]:\n",
    "    if L_set not in L_sets:\n",
    "        L_sets.append(L_set)"
   ]
  },
  {
   "cell_type": "code",
   "execution_count": 74,
   "id": "ecfec00c-4410-4f31-84ca-6b9247d1df49",
   "metadata": {},
   "outputs": [
    {
     "name": "stdout",
     "output_type": "stream",
     "text": [
      "('E1', 'F14', 'F36', 'F15', 'F56')\n",
      "True\n",
      "('E1', 'F14', 'F35', 'F16', 'E4')\n",
      "True\n",
      "('E1', 'F14', 'F35', 'F12', 'E4')\n",
      "True\n",
      "('E1', 'G4', 'E6', 'G5', 'E5')\n",
      "True\n",
      "('E1', 'F14', 'F36', 'G3', 'F56')\n",
      "True\n",
      "('F14', 'G4', 'E2', 'F26', 'E3')\n",
      "True\n",
      "('F14', 'G4', 'F45', 'F23', 'E6')\n",
      "True\n",
      "('E1', 'G4', 'E2', 'F12', 'E3')\n",
      "True\n",
      "('E1', 'G4', 'F46', 'G6', 'F45')\n",
      "True\n",
      "('F14', 'G4', 'E5', 'G1', 'F46')\n",
      "True\n",
      "('F14', 'G4', 'E2', 'F25', 'E3')\n",
      "True\n",
      "CPU times: user 3min 50s, sys: 480 ms, total: 3min 51s\n",
      "Wall time: 3min 51s\n"
     ]
    }
   ],
   "source": [
    "%%time\n",
    "for cubic in cubics[0:main_cubic_index]+cubics[main_cubic_index+1:]:\n",
    "    L_set = main_cubic.find_projective_equivalence(cubic, L_sets)\n",
    "    print(L_set)\n",
    "    proj = cubic.find_projectivity(cubic.L_set_base, L_set)[0]\n",
    "    print(main_cubic == cubic.subs(change_coordinates(proj)))"
   ]
  },
  {
   "cell_type": "code",
   "execution_count": 75,
   "id": "21319b3c-630d-437d-9cea-164fd292e505",
   "metadata": {},
   "outputs": [],
   "source": [
    "SE1_2 = main_cubic"
   ]
  },
  {
   "cell_type": "code",
   "execution_count": 41,
   "id": "6b764443-4c04-463e-ab9b-48d9f247a4ee",
   "metadata": {},
   "outputs": [
    {
     "name": "stdout",
     "output_type": "stream",
     "text": [
      "CPU times: user 2.76 s, sys: 193 ms, total: 2.95 s\n",
      "Wall time: 15.8 s\n"
     ]
    },
    {
     "data": {
      "text/plain": [
       "576"
      ]
     },
     "execution_count": 41,
     "metadata": {},
     "output_type": "execute_result"
    }
   ],
   "source": [
    "%time adm_SE1_2 = SE1_2.find_admissible_projectivities()\n",
    "len(adm_SE1_2)"
   ]
  },
  {
   "cell_type": "code",
   "execution_count": 42,
   "id": "b55ef962-dfef-4db7-92f9-d8f1f431b528",
   "metadata": {},
   "outputs": [
    {
     "name": "stdout",
     "output_type": "stream",
     "text": [
      "CPU times: user 2.6 s, sys: 204 ms, total: 2.81 s\n",
      "Wall time: 3.13 s\n"
     ]
    },
    {
     "data": {
      "text/plain": [
       "8"
      ]
     },
     "execution_count": 42,
     "metadata": {},
     "output_type": "execute_result"
    }
   ],
   "source": [
    "%time simm_SE1_2 = SE1_2.find_simmetries(adm_SE1_2)\n",
    "len(simm_SE1_2)"
   ]
  },
  {
   "cell_type": "code",
   "execution_count": 43,
   "id": "25b00d4c-922e-4eed-9a6e-cf6c84fe4502",
   "metadata": {},
   "outputs": [
    {
     "data": {
      "text/plain": [
       "(8, 'C8')"
      ]
     },
     "execution_count": 43,
     "metadata": {},
     "output_type": "execute_result"
    }
   ],
   "source": [
    "lines_perms = [Permutation(SE1_2.apply_proj_to_lines(simm[0])).to_permutation_group_element() for simm in simm_SE1_2]\n",
    "lines_perms_group = PermutationGroup(lines_perms)\n",
    "lines_perms_group.order(), lines_perms_group.structure_description()"
   ]
  },
  {
   "cell_type": "code",
   "execution_count": 44,
   "id": "2b0f0f41-a89d-40bd-9910-a20435d9f596",
   "metadata": {},
   "outputs": [
    {
     "data": {
      "text/plain": [
       "[('G4', 'E1', 'G2', 'E6', 'F15', 'G3')]"
      ]
     },
     "execution_count": 44,
     "metadata": {},
     "output_type": "execute_result"
    }
   ],
   "source": [
    "[get_permuted_extended_L_set(perm) for perm in lines_perms_group.gens_small()]"
   ]
  },
  {
   "cell_type": "code",
   "execution_count": null,
   "id": "d17280c6-6221-4680-8b84-ad57d17a0831",
   "metadata": {},
   "outputs": [],
   "source": []
  },
  {
   "cell_type": "code",
   "execution_count": null,
   "id": "1b60f8cf-1d37-400e-ac94-63affd49d470",
   "metadata": {},
   "outputs": [],
   "source": []
  }
 ],
 "metadata": {
  "kernelspec": {
   "display_name": "SageMath 9.4",
   "language": "sage",
   "name": "sagemath"
  },
  "language_info": {
   "codemirror_mode": {
    "name": "ipython",
    "version": 3
   },
   "file_extension": ".py",
   "mimetype": "text/x-python",
   "name": "python",
   "nbconvert_exporter": "python",
   "pygments_lexer": "ipython3",
   "version": "3.7.12"
  }
 },
 "nbformat": 4,
 "nbformat_minor": 5
}
