{
 "cells": [
  {
   "cell_type": "code",
   "execution_count": 1,
   "id": "2ba0fc1f-0111-49ce-b29e-05a60815b2b2",
   "metadata": {},
   "outputs": [],
   "source": [
    "load(\"../Imports/GeneralMethods.sage\", '../Imports/Utility.sage', '../Imports/Point.sage', '../Imports/Line.sage', '../Imports/TritangentPlane.sage', '../Imports/Group.sage', '../Imports/Cubic.sage')\n",
    "import multiprocessing as mp\n",
    "import pickle"
   ]
  },
  {
   "cell_type": "code",
   "execution_count": 2,
   "id": "98083571-18ea-4422-9fb0-b88707edf0a1",
   "metadata": {},
   "outputs": [],
   "source": [
    "Q.<rad2_minus_i> = NumberField((sqrt(2)-I).minpoly('xx'))"
   ]
  },
  {
   "cell_type": "code",
   "execution_count": 3,
   "id": "0e4d7956-5df0-48eb-99bf-d754265111be",
   "metadata": {},
   "outputs": [],
   "source": [
    "ii = ((rad2_minus_i)^3+rad2_minus_i)/(-6)"
   ]
  },
  {
   "cell_type": "code",
   "execution_count": 4,
   "id": "cc09d8eb-bca5-4155-8c34-1de959495dca",
   "metadata": {},
   "outputs": [],
   "source": [
    "P.<x,y,z,t,b,c,d,e,f,l,m> = PolynomialRing(Q)\n",
    "cubic_new = e*f*(2*x^2*y-2*x*y^2+x*z^2-x*z*t-y*t^2+y*z*t)+b*c*(x-t)*(x*z+y*t)+c*c*(z+t)*(y*t-x*z)+d*c*(y-z)*(x*z+y*t)+(e+f)*c*(x-y)*(y*t-x*z)\n",
    "sing_cubics = (-1) * (-c + f) * (-c + e) * c * (c + f) * (c + e) * (-e + f) * (-c*d + c*f + e*f) * (-c*d + c*e + e*f) * (-c^2 - c*d + e*f) * (b*c - c*f + e*f) * (b*c - c*e + e*f) * (b*c - c*d + 2*e*f) * (b*c - c^2 + e*f) * (b*c^2 + c^2*d + b*c*f - 2*c^2*f - c*d*f + 2*e*f^2) * (b*c^2 + c^2*d + b*c*e - 2*c^2*e - c*d*e + 2*e^2*f) * (-b*c^3 - 2*b*c^2*d + c^3*d + b*c^2*e + c^2*d*e + b*c^2*f + c^2*d*f + 3*b*c*e*f - 4*c^2*e*f - 3*c*d*e*f + 4*e^2*f^2)\n",
    "line = Line([y, z])\n",
    "general_cubic = Cubic(cubic_new, line, sing_cubics)"
   ]
  },
  {
   "cell_type": "code",
   "execution_count": 5,
   "id": "3d00da64-501d-4f7f-b591-fadaf69e705c",
   "metadata": {},
   "outputs": [],
   "source": [
    "# Define cubic SE1' and calculate the admissible projectivities."
   ]
  },
  {
   "cell_type": "code",
   "execution_count": 6,
   "id": "dfdb174f-b732-43cf-96a9-01923588d32a",
   "metadata": {},
   "outputs": [],
   "source": [
    "SE1_1 = general_cubic.subs({b:-(c*c+e*f)/c}).subs({e:(c*(2*ii-1)*(5*c-(4*ii-3)*f))/(5*(c-f)), d:((2*ii+1)*(5*c^2-5*f^2-(4*ii+8)*c*f))/(5*(f-c))})\n",
    "adm_SE1_1 = SE1_1.find_admissible_projectivities()"
   ]
  },
  {
   "cell_type": "code",
   "execution_count": 7,
   "id": "f1064122-42f2-4a11-ad7c-4f9900466281",
   "metadata": {},
   "outputs": [],
   "source": [
    "# Find condition associated to L-set ('G4', 'E1', 'F15', 'E5', 'F12')."
   ]
  },
  {
   "cell_type": "code",
   "execution_count": 8,
   "id": "0caa4baa-89b6-4591-9668-7b70739025dc",
   "metadata": {},
   "outputs": [
    {
     "data": {
      "text/plain": [
       "[([Ideal (3*c + (rad2_minus_i)*f) of Multivariate Polynomial Ring in x, y, z, t, b, c, d, e, f, l, m over Number Field in rad2_minus_i with defining polynomial xx^4 - 2*xx^2 + 9,\n",
       "   Ideal (9*c + (rad2_minus_i^3 - 2*rad2_minus_i)*f) of Multivariate Polynomial Ring in x, y, z, t, b, c, d, e, f, l, m over Number Field in rad2_minus_i with defining polynomial xx^4 - 2*xx^2 + 9],\n",
       "  ('G4', 'E1', 'F15', 'E5', 'F12'))]"
      ]
     },
     "execution_count": 8,
     "metadata": {},
     "output_type": "execute_result"
    }
   ],
   "source": [
    "projectivity = [proj for proj in adm_SE1_1 if proj[1] == ('G4', 'E1', 'F15', 'E5', 'F12')]\n",
    "conds = SE1_1.find_conditions_for_subfamilies(projectivity)\n",
    "conds"
   ]
  },
  {
   "cell_type": "code",
   "execution_count": 9,
   "id": "963669f0-ff7d-4e7a-ac6a-097d158c35e0",
   "metadata": {},
   "outputs": [],
   "source": [
    "# Extract substitution to obtain cubic surfaces with bigger simmetry group."
   ]
  },
  {
   "cell_type": "code",
   "execution_count": 10,
   "id": "21fabcf1-6d8a-4d48-b07c-4d182ecbf95e",
   "metadata": {},
   "outputs": [
    {
     "data": {
      "text/plain": [
       "['Substitution: (c, f) = [(-rad2_minus_i), 3]',\n",
       " 'Substitution: (c, f) = [(-rad2_minus_i^3 + 2*rad2_minus_i), 9]']"
      ]
     },
     "execution_count": 10,
     "metadata": {},
     "output_type": "execute_result"
    }
   ],
   "source": [
    "prim_decs = [el[0] for el in conds]\n",
    "ideals = list(set([ideal for prim_dec in prim_decs for ideal in prim_dec]))\n",
    "sosts = [solve_linear_system(ideal.gens(), [c], [f]) for ideal in ideals]\n",
    "[\"Substitution: (c, f) = \" + str([el/f for el in sost]) for sost in sosts]"
   ]
  },
  {
   "cell_type": "code",
   "execution_count": 11,
   "id": "bcf08517-71cd-4716-9adc-888a3b1a52ed",
   "metadata": {},
   "outputs": [],
   "source": [
    "# Define cubic SE1'', find and classify the lines and compute the 45 tritangent planes"
   ]
  },
  {
   "cell_type": "code",
   "execution_count": 12,
   "id": "687f480b-b9be-484d-8248-aeb7e9e3eb49",
   "metadata": {},
   "outputs": [],
   "source": [
    "SE1_2 = SE1_1.subs({c:-rad2_minus_i, f:3})"
   ]
  },
  {
   "cell_type": "code",
   "execution_count": 13,
   "id": "02c696b1-04ea-4c82-9479-401187fe87c5",
   "metadata": {},
   "outputs": [],
   "source": [
    "# Find simmetries"
   ]
  },
  {
   "cell_type": "code",
   "execution_count": 14,
   "id": "8ff61242-28c7-4bdd-a4c9-94162ec4f66e",
   "metadata": {},
   "outputs": [
    {
     "name": "stdout",
     "output_type": "stream",
     "text": [
      "CPU times: user 4 s, sys: 191 ms, total: 4.19 s\n",
      "Wall time: 23.5 s\n"
     ]
    },
    {
     "data": {
      "text/plain": [
       "576"
      ]
     },
     "execution_count": 14,
     "metadata": {},
     "output_type": "execute_result"
    }
   ],
   "source": [
    "%time adm_SE1_2 = SE1_2.find_admissible_projectivities()\n",
    "len(adm_SE1_2)"
   ]
  },
  {
   "cell_type": "code",
   "execution_count": 15,
   "id": "e78072a6-4aed-466b-9da7-557d9a3d8c18",
   "metadata": {},
   "outputs": [
    {
     "name": "stdout",
     "output_type": "stream",
     "text": [
      "CPU times: user 2.6 s, sys: 158 ms, total: 2.76 s\n",
      "Wall time: 3.1 s\n"
     ]
    },
    {
     "data": {
      "text/plain": [
       "8"
      ]
     },
     "execution_count": 15,
     "metadata": {},
     "output_type": "execute_result"
    }
   ],
   "source": [
    "%time simm_SE1_2 = SE1_2.find_simmetries(adm_SE1_2)\n",
    "len(simm_SE1_2)"
   ]
  },
  {
   "cell_type": "code",
   "execution_count": 16,
   "id": "8d7f8f7d-40d3-421a-a366-02af617e6859",
   "metadata": {},
   "outputs": [],
   "source": [
    "# Study how the simmetries permute the Eckardt points"
   ]
  },
  {
   "cell_type": "code",
   "execution_count": 17,
   "id": "4a2e10f7-b95e-4db4-9b34-715e0141a0ad",
   "metadata": {},
   "outputs": [
    {
     "data": {
      "text/plain": [
       "(1, '1')"
      ]
     },
     "execution_count": 17,
     "metadata": {},
     "output_type": "execute_result"
    }
   ],
   "source": [
    "Eck_perms = [Permutation(SE1_2.apply_proj_to_eck(proj[0])).to_permutation_group_element() for proj in simm_SE1_2]\n",
    "Eck_perms_group = PermutationGroup(Eck_perms)\n",
    "Eck_perms_group.order(), Eck_perms_group.structure_description()"
   ]
  },
  {
   "cell_type": "code",
   "execution_count": 18,
   "id": "10d30263-29ad-4f06-bf6e-fa02582cab89",
   "metadata": {},
   "outputs": [],
   "source": [
    "### geometric interpretation of the group of symmetries"
   ]
  },
  {
   "cell_type": "code",
   "execution_count": 19,
   "id": "7ff2df43-1d89-4853-8863-5a8b7bf81061",
   "metadata": {},
   "outputs": [
    {
     "name": "stdout",
     "output_type": "stream",
     "text": [
      "CPU times: user 4.78 s, sys: 23 ms, total: 4.81 s\n",
      "Wall time: 4.81 s\n"
     ]
    }
   ],
   "source": [
    "%%time\n",
    "## Action of the stabilizer of SE1'' on the 27 lines:\n",
    "Ga = perm_group_lines(SE1_2, simm_SE1_2)\n",
    "\n",
    "## Action of the stabilizer of SE1'' on the 45 tritangent planes:\n",
    "Gb = perm_group_planes(SE1_2, simm_SE1_2)"
   ]
  },
  {
   "cell_type": "code",
   "execution_count": 20,
   "id": "08d1a949-42df-42a9-b8e4-4b446fb40efa",
   "metadata": {},
   "outputs": [
    {
     "name": "stdout",
     "output_type": "stream",
     "text": [
      "Structure of the group Ga:\n",
      "C8\n",
      "\n",
      "Structure of the group Gb:\n",
      "C8\n"
     ]
    }
   ],
   "source": [
    "print(\"Structure of the group Ga:\")\n",
    "print(PermutationGroup(Ga).structure_description())\n",
    "\n",
    "print(\"\")\n",
    "\n",
    "print(\"Structure of the group Gb:\")\n",
    "print(PermutationGroup(Gb).structure_description())"
   ]
  },
  {
   "cell_type": "code",
   "execution_count": 21,
   "id": "484ff50e-c679-45ed-aaab-671ab8321756",
   "metadata": {},
   "outputs": [],
   "source": [
    "## Action of the group Ga on the lines: computation of the orbits:\n",
    "OGa = PermutationGroup(Ga).orbits()\n",
    "\n",
    "## Action of the group on Gb the planes: computation of the orbits:\n",
    "OGb = PermutationGroup(Gb).orbits()"
   ]
  },
  {
   "cell_type": "code",
   "execution_count": 22,
   "id": "5f95aa5a-6f19-4f44-865a-b9de3ae42056",
   "metadata": {},
   "outputs": [
    {
     "name": "stdout",
     "output_type": "stream",
     "text": [
      "F14\n"
     ]
    }
   ],
   "source": [
    "# The only lines fixed is F14\n",
    "for orb in OGa:\n",
    "    if len(orb) == 1:\n",
    "        print(simbolic_line_from_index(orb[0]))"
   ]
  },
  {
   "cell_type": "code",
   "execution_count": 24,
   "id": "7ebc12a0-3a05-44bf-87d8-9cf65aabdc76",
   "metadata": {},
   "outputs": [
    {
     "name": "stdout",
     "output_type": "stream",
     "text": [
      "t3 ['E1', 'G4', 'F14']\n"
     ]
    }
   ],
   "source": [
    "# The only tritangent plane fixed is tau_3\n",
    "for orb in OGb:\n",
    "    if len(orb) == 1:\n",
    "        fixed_plane = simbolic_plane_from_index(orb[0])\n",
    "        print(fixed_plane, tritangent_plane_from_name(fixed_plane))"
   ]
  },
  {
   "cell_type": "code",
   "execution_count": null,
   "id": "220ddc3d-9abb-4cad-a2cc-3bffd4794747",
   "metadata": {},
   "outputs": [],
   "source": []
  }
 ],
 "metadata": {
  "kernelspec": {
   "display_name": "SageMath 9.4",
   "language": "sage",
   "name": "sagemath"
  },
  "language_info": {
   "codemirror_mode": {
    "name": "ipython",
    "version": 3
   },
   "file_extension": ".py",
   "mimetype": "text/x-python",
   "name": "python",
   "nbconvert_exporter": "python",
   "pygments_lexer": "ipython3",
   "version": "3.7.12"
  }
 },
 "nbformat": 4,
 "nbformat_minor": 5
}
