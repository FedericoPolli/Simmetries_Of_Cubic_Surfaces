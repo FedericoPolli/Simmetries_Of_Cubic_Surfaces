{
 "cells": [
  {
   "cell_type": "code",
   "execution_count": 1,
   "id": "ee309c7b",
   "metadata": {},
   "outputs": [],
   "source": [
    "load(\"../Imports/GeneralMethods.sage\", '../Imports/Utility.sage', '../Imports/Point.sage', '../Imports/Line.sage', '../Imports/TritangentPlane.sage', '../Imports/Group.sage', '../Imports/Cubic.sage')\n",
    "import multiprocessing as mp\n",
    "import pickle"
   ]
  },
  {
   "cell_type": "code",
   "execution_count": 2,
   "id": "ddaa1f4d-9357-4397-8d9e-23774786999b",
   "metadata": {},
   "outputs": [],
   "source": [
    "var('xx')\n",
    "Q.<ii> = NumberField(xx^2 + 1)"
   ]
  },
  {
   "cell_type": "code",
   "execution_count": 3,
   "id": "e0577043-79fb-4ad5-b8d6-9110e86a1dd6",
   "metadata": {},
   "outputs": [],
   "source": [
    "P.<x,y,z,t,b,c,d,e,f,l,m> = PolynomialRing(Q)\n",
    "cubic_new = e*f*(2*x^2*y-2*x*y^2+x*z^2-x*z*t-y*t^2+y*z*t)+b*c*(x-t)*(x*z+y*t)+c*c*(z+t)*(y*t-x*z)+d*c*(y-z)*(x*z+y*t)+(e+f)*c*(x-y)*(y*t-x*z)\n",
    "sing_cubics = (-1) * (-c + f) * (-c + e) * c * (c + f) * (c + e) * (-e + f) * (-c*d + c*f + e*f) * (-c*d + c*e + e*f) * (-c^2 - c*d + e*f) * (b*c - c*f + e*f) * (b*c - c*e + e*f) * (b*c - c*d + 2*e*f) * (b*c - c^2 + e*f) * (b*c^2 + c^2*d + b*c*f - 2*c^2*f - c*d*f + 2*e*f^2) * (b*c^2 + c^2*d + b*c*e - 2*c^2*e - c*d*e + 2*e^2*f) * (-b*c^3 - 2*b*c^2*d + c^3*d + b*c^2*e + c^2*d*e + b*c^2*f + c^2*d*f + 3*b*c*e*f - 4*c^2*e*f - 3*c*d*e*f + 4*e^2*f^2)\n",
    "line = Line([y, z])\n",
    "general_cubic = Cubic(cubic_new, line, sing_cubics)"
   ]
  },
  {
   "cell_type": "code",
   "execution_count": 4,
   "id": "3c9e07bc-513c-446c-bcd0-6b80f338d502",
   "metadata": {},
   "outputs": [],
   "source": [
    "# Define cubic SE1"
   ]
  },
  {
   "cell_type": "code",
   "execution_count": 5,
   "id": "99f9c36c-b009-4fc6-903c-091fe0499d54",
   "metadata": {},
   "outputs": [],
   "source": [
    "SE1 = general_cubic.subs({b:-(c*c+e*f)/c})"
   ]
  },
  {
   "cell_type": "code",
   "execution_count": 6,
   "id": "e0a789be-c68d-42f4-a126-0c23e393c295",
   "metadata": {},
   "outputs": [],
   "source": [
    "# Find conditions associated to L-set ('E1', 'G4', 'E3', 'G6', 'F24')."
   ]
  },
  {
   "cell_type": "code",
   "execution_count": 7,
   "id": "9256ab90-9db0-4baf-b69f-6192b3f84214",
   "metadata": {},
   "outputs": [
    {
     "name": "stdout",
     "output_type": "stream",
     "text": [
      "CPU times: user 3.92 s, sys: 8.05 ms, total: 3.93 s\n",
      "Wall time: 3.92 s\n"
     ]
    },
    {
     "data": {
      "text/plain": [
       "Ideal (4*c + (-ii)*d + (ii)*e + (-ii + 2)*f, 5*d^2 + (-4*ii - 2)*d*e + (4*ii - 3)*e^2 + (8*ii - 6)*d*f + (36*ii + 38)*e*f + (-24*ii - 7)*f^2) of Multivariate Polynomial Ring in x, y, z, t, b, c, d, e, f, l, m over Number Field in ii with defining polynomial xx^2 + 1"
      ]
     },
     "execution_count": 7,
     "metadata": {},
     "output_type": "execute_result"
    }
   ],
   "source": [
    "%time _, all_ideals = SE1.find_conditions_on_L_sets([('E1', 'G4', 'E3', 'G6', 'F24')], \"eck\")\n",
    "current_ideal = all_ideals[0] if all_ideals[0].gens()[0].coefficient(d) == -ii else all_ideals[1]\n",
    "current_ideal"
   ]
  },
  {
   "cell_type": "code",
   "execution_count": 8,
   "id": "f5325cce-bfb8-4ed9-b720-c0d421ffe2d6",
   "metadata": {},
   "outputs": [],
   "source": [
    "# Find substitution for d and e parameters"
   ]
  },
  {
   "cell_type": "code",
   "execution_count": 9,
   "id": "e260ae3d-2d04-4a0a-bfc2-d2449d8d06c2",
   "metadata": {},
   "outputs": [
    {
     "name": "stdout",
     "output_type": "stream",
     "text": [
      "d substitution: d = ((-2*ii - 1)) * (c - f)^-1 * (c^2 + (-4/5*ii - 8/5)*c*f - f^2) \n",
      "e substitution: e = ((2*ii - 1)) * (c - f)^-1 * c * (c + (-4/5*ii + 3/5)*f)\n"
     ]
    }
   ],
   "source": [
    "poly_e = current_ideal.gens()[0]\n",
    "assert poly_e.degree(e) == 1\n",
    "e_sost = {e: find_linear_solution(poly_e, e)}\n",
    "poly_d = [gen for gen in current_ideal.subs(e_sost).gens() if gen !=0][0]\n",
    "assert poly_d.degree(d) == 1\n",
    "d_sost = {d: find_linear_solution(poly_d, d)}  \n",
    "# Substitute d sostitution into e to obtain sostitution with only c and f as parameters\n",
    "e_sost = {e: e_sost.get(e).subs(d_sost)}\n",
    "print(\"d substitution: d =\", d_sost.get(d).factor(), \"\\ne substitution: e =\", e_sost.get(e).factor())"
   ]
  },
  {
   "cell_type": "code",
   "execution_count": 10,
   "id": "75b2bd65-d654-4efe-84e8-473f4dff2999",
   "metadata": {},
   "outputs": [],
   "source": [
    "# Extract substitution to obtain cubic surfaces with bigger simmetry group."
   ]
  },
  {
   "cell_type": "code",
   "execution_count": 11,
   "id": "cc700c3b-886c-4379-9032-3c0e04975c46",
   "metadata": {},
   "outputs": [
    {
     "name": "stdout",
     "output_type": "stream",
     "text": [
      "CPU times: user 34.1 s, sys: 11.8 ms, total: 34.1 s\n",
      "Wall time: 34.1 s\n"
     ]
    }
   ],
   "source": [
    "%time SE1_1 = SE1.subs(e_sost).subs(d_sost)"
   ]
  },
  {
   "cell_type": "code",
   "execution_count": 12,
   "id": "a5ec7cab-8b2f-485f-b5dd-1d1fee987912",
   "metadata": {},
   "outputs": [],
   "source": [
    "# Find simmetries"
   ]
  },
  {
   "cell_type": "code",
   "execution_count": 13,
   "id": "a77edc3d-1f77-49df-9795-acd4c5930b85",
   "metadata": {},
   "outputs": [
    {
     "name": "stdout",
     "output_type": "stream",
     "text": [
      "CPU times: user 3.42 s, sys: 186 ms, total: 3.6 s\n",
      "Wall time: 41.8 s\n"
     ]
    },
    {
     "data": {
      "text/plain": [
       "576"
      ]
     },
     "execution_count": 13,
     "metadata": {},
     "output_type": "execute_result"
    }
   ],
   "source": [
    "%time adm_SE1_1 = SE1_1.find_admissible_projectivities()\n",
    "len(adm_SE1_1)"
   ]
  },
  {
   "cell_type": "code",
   "execution_count": 14,
   "id": "8f3162fe-3b2f-4b0d-ba5d-52026be9f3d0",
   "metadata": {},
   "outputs": [
    {
     "name": "stdout",
     "output_type": "stream",
     "text": [
      "CPU times: user 2.13 s, sys: 186 ms, total: 2.31 s\n",
      "Wall time: 13.1 s\n"
     ]
    },
    {
     "data": {
      "text/plain": [
       "4"
      ]
     },
     "execution_count": 14,
     "metadata": {},
     "output_type": "execute_result"
    }
   ],
   "source": [
    "%time simm_SE1_1 = SE1_1.find_simmetries(adm_SE1_1)\n",
    "len(simm_SE1_1)"
   ]
  },
  {
   "cell_type": "code",
   "execution_count": 15,
   "id": "12755a70-bf01-4ab6-8e48-2c146ecf0ea2",
   "metadata": {},
   "outputs": [],
   "source": [
    "# Study how the simmetries permute the Eckardt points"
   ]
  },
  {
   "cell_type": "code",
   "execution_count": 16,
   "id": "b8a24ace-332f-40ba-9654-ad18d5504cc7",
   "metadata": {},
   "outputs": [
    {
     "data": {
      "text/plain": [
       "(1, '1')"
      ]
     },
     "execution_count": 16,
     "metadata": {},
     "output_type": "execute_result"
    }
   ],
   "source": [
    "Eck_perms = [Permutation(SE1_1.apply_proj_to_eck(proj[0])).to_permutation_group_element() for proj in simm_SE1_1]\n",
    "Eck_perms_group = PermutationGroup(Eck_perms)\n",
    "Eck_perms_group.order(), Eck_perms_group.structure_description()"
   ]
  },
  {
   "cell_type": "code",
   "execution_count": 17,
   "id": "3688c4f4-bcd5-4d0f-88fb-7347d0f8bf43",
   "metadata": {},
   "outputs": [],
   "source": [
    "### geometric interpretation of the group of symmetries"
   ]
  },
  {
   "cell_type": "code",
   "execution_count": 18,
   "id": "bf79bc70-b2cf-4387-b281-fd330fcccc4f",
   "metadata": {},
   "outputs": [
    {
     "name": "stdout",
     "output_type": "stream",
     "text": [
      "CPU times: user 3.54 s, sys: 52.4 ms, total: 3.59 s\n",
      "Wall time: 3.61 s\n"
     ]
    }
   ],
   "source": [
    "%%time\n",
    "## Action of the stabilizer of SE1' on the 27 lines:\n",
    "Ga = perm_group_lines(SE1_1, simm_SE1_1)\n",
    "\n",
    "## Action of the stabilizer of SE1' on the 45 tritangent planes:\n",
    "Gb = perm_group_planes(SE1_1, simm_SE1_1)"
   ]
  },
  {
   "cell_type": "code",
   "execution_count": 19,
   "id": "6dd409f1-79a5-40fb-a0f4-ef2cc9883936",
   "metadata": {},
   "outputs": [
    {
     "name": "stdout",
     "output_type": "stream",
     "text": [
      "Structure of the group Ga:\n",
      "C4\n",
      "\n",
      "Structure of the group Gb:\n",
      "C4\n"
     ]
    }
   ],
   "source": [
    "print(\"Structure of the group Ga:\")\n",
    "print(PermutationGroup(Ga).structure_description())\n",
    "\n",
    "print(\"\")\n",
    "\n",
    "print(\"Structure of the group Gb:\")\n",
    "print(PermutationGroup(Gb).structure_description())"
   ]
  },
  {
   "cell_type": "code",
   "execution_count": 20,
   "id": "3a642be2-2c96-44a0-bd59-735d2ccc0056",
   "metadata": {},
   "outputs": [],
   "source": [
    "## Action of the group Ga on the lines: computation of the orbits:\n",
    "OGa = PermutationGroup(Ga).orbits()\n",
    "\n",
    "## Action of the group on Gb the planes: computation of the orbits:\n",
    "OGb = PermutationGroup(Gb).orbits()"
   ]
  },
  {
   "cell_type": "code",
   "execution_count": 21,
   "id": "5f95aa5a-6f19-4f44-865a-b9de3ae42056",
   "metadata": {},
   "outputs": [
    {
     "name": "stdout",
     "output_type": "stream",
     "text": [
      "E1\n",
      "G4\n",
      "F14\n"
     ]
    }
   ],
   "source": [
    "# The only lines fixed are those meeting in the Eckardt point\n",
    "for orb in OGa:\n",
    "    if len(orb) == 1:\n",
    "        print(simbolic_line_from_index(orb[0]))"
   ]
  },
  {
   "cell_type": "code",
   "execution_count": 23,
   "id": "7ebc12a0-3a05-44bf-87d8-9cf65aabdc76",
   "metadata": {},
   "outputs": [
    {
     "name": "stdout",
     "output_type": "stream",
     "text": [
      "t3 ['E1', 'G4', 'F14']\n"
     ]
    }
   ],
   "source": [
    "# The only tritangent plane fixed is tau_3\n",
    "for orb in OGb:\n",
    "    if len(orb) == 1:\n",
    "        fixed_plane = simbolic_plane_from_index(orb[0])\n",
    "        print(fixed_plane, tritangent_plane_from_name(fixed_plane))"
   ]
  },
  {
   "cell_type": "code",
   "execution_count": null,
   "id": "7e291e23-84d1-4df0-9531-107ade4b73af",
   "metadata": {},
   "outputs": [],
   "source": []
  }
 ],
 "metadata": {
  "kernelspec": {
   "display_name": "SageMath 9.4",
   "language": "sage",
   "name": "sagemath"
  },
  "language_info": {
   "codemirror_mode": {
    "name": "ipython",
    "version": 3
   },
   "file_extension": ".py",
   "mimetype": "text/x-python",
   "name": "python",
   "nbconvert_exporter": "python",
   "pygments_lexer": "ipython3",
   "version": "3.7.12"
  }
 },
 "nbformat": 4,
 "nbformat_minor": 5
}
