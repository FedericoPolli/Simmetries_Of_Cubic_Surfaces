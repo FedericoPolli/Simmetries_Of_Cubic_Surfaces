{
 "cells": [
  {
   "cell_type": "code",
   "execution_count": 1,
   "id": "068e4a42-507f-47ab-aceb-fd63ff79c088",
   "metadata": {},
   "outputs": [],
   "source": [
    "load(\"../Imports/GeneralMethods.sage\", '../Imports/Utility.sage', '../Imports/Point.sage', '../Imports/Line.sage', '../Imports/TritangentPlane.sage', '../Imports/Group.sage', '../Imports/Cubic.sage')\n",
    "import multiprocessing as mp\n",
    "import pickle"
   ]
  },
  {
   "cell_type": "code",
   "execution_count": 2,
   "id": "be48477e-2796-409b-aa58-86796681a7fd",
   "metadata": {},
   "outputs": [],
   "source": [
    "K1.<i_minus_rad3> = NumberField((I-sqrt(3)).minpoly(\"xx\"))"
   ]
  },
  {
   "cell_type": "code",
   "execution_count": 3,
   "id": "d28375ea-512b-465d-bda1-28a97ea1d35f",
   "metadata": {},
   "outputs": [],
   "source": [
    "i = i_minus_rad3^3/8\n",
    "rad3 = (i_minus_rad3^3 - 8*i_minus_rad3)/8"
   ]
  },
  {
   "cell_type": "code",
   "execution_count": 4,
   "id": "d0b67f6d-23bd-44a7-a404-2d699cccd503",
   "metadata": {},
   "outputs": [],
   "source": [
    "P.<x,y,z,t,b,c,d,e,f,l,m> = PolynomialRing(K1)\n",
    "cubic_new = e*f*(2*x^2*y-2*x*y^2+x*z^2-x*z*t-y*t^2+y*z*t)+b*c*(x-t)*(x*z+y*t)+c*c*(z+t)*(y*t-x*z)+d*c*(y-z)*(x*z+y*t)+(e+f)*c*(x-y)*(y*t-x*z)\n",
    "sing_cubics = (-1) * (-c + f) * (-c + e) * c * (c + f) * (c + e) * (-e + f) * (-c*d + c*f + e*f) * (-c*d + c*e + e*f) * (-c^2 - c*d + e*f) * (b*c - c*f + e*f) * (b*c - c*e + e*f) * (b*c - c*d + 2*e*f) * (b*c - c^2 + e*f) * (b*c^2 + c^2*d + b*c*f - 2*c^2*f - c*d*f + 2*e*f^2) * (b*c^2 + c^2*d + b*c*e - 2*c^2*e - c*d*e + 2*e^2*f) * (-b*c^3 - 2*b*c^2*d + c^3*d + b*c^2*e + c^2*d*e + b*c^2*f + c^2*d*f + 3*b*c*e*f - 4*c^2*e*f - 3*c*d*e*f + 4*e^2*f^2)\n",
    "line = Line([y, z])\n",
    "general_cubic = Cubic(cubic_new, line, sing_cubics)"
   ]
  },
  {
   "cell_type": "code",
   "execution_count": 5,
   "id": "0b5086ff-a4f9-4093-87bd-a5aa1f0a34c2",
   "metadata": {},
   "outputs": [],
   "source": [
    "# Define cubic SE9"
   ]
  },
  {
   "cell_type": "code",
   "execution_count": 6,
   "id": "bf7886a4-3125-4fb5-b05e-f03baf2a6112",
   "metadata": {},
   "outputs": [],
   "source": [
    "SE9 = general_cubic.subs({b:-(c*c+e*f)/c, d:(3*e*f - c^2 + c*f + c*e)/(2*c)}).subs({e : i*rad3*c})"
   ]
  },
  {
   "cell_type": "code",
   "execution_count": 7,
   "id": "78ef6491-e6a5-41f8-8206-eefa911c9f7d",
   "metadata": {},
   "outputs": [],
   "source": [
    "# Find simmetries and find possible subfamilies"
   ]
  },
  {
   "cell_type": "code",
   "execution_count": 8,
   "id": "d753b317-ca89-4e80-9dce-12dbe2eba881",
   "metadata": {},
   "outputs": [],
   "source": [
    "adm_SE9 = SE9.find_admissible_projectivities()\n",
    "simm_SE9 = SE9.find_simmetries(adm_SE9)\n",
    "conds = SE9.find_conditions_for_subfamilies(adm_SE9, simm_SE9)\n",
    "prim_decs = [el[0] for el in conds]\n",
    "ideals = list(set([ideal for prim_dec in prim_decs for ideal in prim_dec]))"
   ]
  },
  {
   "cell_type": "code",
   "execution_count": 9,
   "id": "d344cba6-943c-451c-aea5-62941995ec3b",
   "metadata": {},
   "outputs": [],
   "source": [
    "# Get possible substitutions and choose one"
   ]
  },
  {
   "cell_type": "code",
   "execution_count": 10,
   "id": "c4b345b5-9210-4dbe-8550-065dabab86ae",
   "metadata": {},
   "outputs": [],
   "source": [
    "f_sosts = [find_linear_solution(ideal.gens()[0], f).subs({c:1}) for ideal in ideals]\n",
    "f_sost = (1/4*i_minus_rad3^3 - i_minus_rad3 - 1)\n",
    "assert f_sost in f_sosts"
   ]
  },
  {
   "cell_type": "code",
   "execution_count": 11,
   "id": "dca8d398-931f-4def-8dd2-23eca7814fb3",
   "metadata": {},
   "outputs": [],
   "source": [
    "# Define cubic SE9', find and classify the lines and compute the 45 tritangent planes"
   ]
  },
  {
   "cell_type": "code",
   "execution_count": 12,
   "id": "2b22c6e8-4ae4-429d-ace8-4e4e1a8c8e59",
   "metadata": {},
   "outputs": [],
   "source": [
    "SE9_1 = SE9.subs({c:1, f:f_sost})"
   ]
  },
  {
   "cell_type": "code",
   "execution_count": 13,
   "id": "ec285823-b440-4496-86f9-09749d76bdab",
   "metadata": {},
   "outputs": [],
   "source": [
    "# Find simmetries and study possible subfamilies"
   ]
  },
  {
   "cell_type": "code",
   "execution_count": 14,
   "id": "7cff43b5-2baa-4ead-84bf-12b88cfd754c",
   "metadata": {},
   "outputs": [
    {
     "name": "stdout",
     "output_type": "stream",
     "text": [
      "CPU times: user 5.06 s, sys: 179 ms, total: 5.24 s\n",
      "Wall time: 47.8 s\n"
     ]
    },
    {
     "data": {
      "text/plain": [
       "1296"
      ]
     },
     "execution_count": 14,
     "metadata": {},
     "output_type": "execute_result"
    }
   ],
   "source": [
    "%time adm_SE9_1 = SE9_1.find_admissible_projectivities()\n",
    "len(adm_SE9_1)"
   ]
  },
  {
   "cell_type": "code",
   "execution_count": 15,
   "id": "11744345-ddb4-4a10-a9da-360cd43b24f1",
   "metadata": {},
   "outputs": [
    {
     "name": "stdout",
     "output_type": "stream",
     "text": [
      "CPU times: user 4.62 s, sys: 168 ms, total: 4.79 s\n",
      "Wall time: 5.75 s\n"
     ]
    },
    {
     "data": {
      "text/plain": [
       "108"
      ]
     },
     "execution_count": 15,
     "metadata": {},
     "output_type": "execute_result"
    }
   ],
   "source": [
    "%time simm_SE9_1 = SE9_1.find_simmetries(adm_SE9_1)\n",
    "len(simm_SE9_1)"
   ]
  },
  {
   "cell_type": "code",
   "execution_count": 16,
   "id": "8d7f8f7d-40d3-421a-a366-02af617e6859",
   "metadata": {},
   "outputs": [],
   "source": [
    "# Study how the simmetries permute the Eckardt points"
   ]
  },
  {
   "cell_type": "code",
   "execution_count": 17,
   "id": "4a2e10f7-b95e-4db4-9b34-715e0141a0ad",
   "metadata": {},
   "outputs": [
    {
     "data": {
      "text/plain": [
       "(36, '(C3 x C3) : C4')"
      ]
     },
     "execution_count": 17,
     "metadata": {},
     "output_type": "execute_result"
    }
   ],
   "source": [
    "Eck_perms = [Permutation(SE9_1.apply_proj_to_eck(proj[0])).to_permutation_group_element() for proj in simm_SE9_1]\n",
    "Eck_perms_group = PermutationGroup(Eck_perms)\n",
    "Eck_perms_group.order(), Eck_perms_group.structure_description()"
   ]
  },
  {
   "cell_type": "code",
   "execution_count": 18,
   "id": "10d30263-29ad-4f06-bf6e-fa02582cab89",
   "metadata": {},
   "outputs": [],
   "source": [
    "### geometric interpretation of the group of symmetries"
   ]
  },
  {
   "cell_type": "code",
   "execution_count": 19,
   "id": "7ff2df43-1d89-4853-8863-5a8b7bf81061",
   "metadata": {},
   "outputs": [
    {
     "name": "stdout",
     "output_type": "stream",
     "text": [
      "CPU times: user 1min 2s, sys: 297 ms, total: 1min 2s\n",
      "Wall time: 1min 2s\n"
     ]
    }
   ],
   "source": [
    "%%time\n",
    "## Action of the stabilizer of SE9' on the 27 lines:\n",
    "Ga = perm_group_lines(SE9_1, simm_SE9_1)\n",
    "\n",
    "## Action of the stabilizer of SE9' on the 45 tritangent planes:\n",
    "Gb = perm_group_planes(SE9_1, simm_SE9_1)"
   ]
  },
  {
   "cell_type": "code",
   "execution_count": 20,
   "id": "08d1a949-42df-42a9-b8e4-4b446fb40efa",
   "metadata": {},
   "outputs": [
    {
     "name": "stdout",
     "output_type": "stream",
     "text": [
      "Structure of the group Ga:\n",
      "((C3 x C3) : C3) : C4\n",
      "\n",
      "Structure of the group Gb:\n",
      "((C3 x C3) : C3) : C4\n"
     ]
    }
   ],
   "source": [
    "print(\"Structure of the group Ga:\")\n",
    "print(PermutationGroup(Ga).structure_description())\n",
    "\n",
    "print(\"\")\n",
    "\n",
    "print(\"Structure of the group Gb:\")\n",
    "print(PermutationGroup(Gb).structure_description())"
   ]
  },
  {
   "cell_type": "code",
   "execution_count": 21,
   "id": "484ff50e-c679-45ed-aaab-671ab8321756",
   "metadata": {},
   "outputs": [],
   "source": [
    "## Action of the group Ga on the lines: computation of the orbits:\n",
    "OGa = PermutationGroup(Ga).orbits()\n",
    "\n",
    "## Action of the group on Gb the planes: computation of the orbits:\n",
    "OGb = PermutationGroup(Gb).orbits()"
   ]
  },
  {
   "cell_type": "code",
   "execution_count": 26,
   "id": "49e3c5b0-ed44-46f2-b94b-6a180183cc3e",
   "metadata": {},
   "outputs": [
    {
     "data": {
      "text/plain": [
       "True"
      ]
     },
     "execution_count": 26,
     "metadata": {},
     "output_type": "execute_result"
    }
   ],
   "source": [
    "## definition of 4 good elements chosen in a suitable way:\n",
    "GG = PermutationGroup(Ga)\n",
    "g1 = '(1,15,10)(2,9,18)(3,11,23)(4,26,12)(5,8,20)(6,17,7)(13,24,25)(14,27,19)(16,21,22)'\n",
    "g2 = '(1,9,14)(2,19,10)(3,13,4)(5,21,17)(6,20,16)(7,8,22)(11,24,26)(12,23,25)(15,18,27)'\n",
    "g3 = '(1,8,13)(2,16,4)(3,27,17)(5,25,10)(6,23,14)(7,11,19)(9,21,26)(12,18,22)(15,20,24)'\n",
    "g4 = '(1,9)(2,10)(3,7)(4,8)(5,12)(6,11)(13,22)(15,18)(16,24)(17,23)(20,26)(21,25)'\n",
    "g5 = '(1,20,9,26)(2,4,10,8)(3,21,7,25)(5,18,12,15)(6,13,11,22)(16,17,24,23)'\n",
    "\n",
    "##The elements g1, g2, g3, g4 generate the whole group of 54 elements of the symmetries of SE9:\n",
    "GG == PermutationGroup([g1, g2, g3, g5])"
   ]
  },
  {
   "cell_type": "code",
   "execution_count": 34,
   "id": "f8778e76-8229-4595-985b-abc7fabde6eb",
   "metadata": {},
   "outputs": [
    {
     "data": {
      "text/plain": [
       "True"
      ]
     },
     "execution_count": 34,
     "metadata": {},
     "output_type": "execute_result"
    }
   ],
   "source": [
    "Permutation(g5)^2 == Permutation(g4)"
   ]
  },
  {
   "cell_type": "code",
   "execution_count": 38,
   "id": "dcac84ae-a4e6-4e94-80ba-ad93b53a1424",
   "metadata": {},
   "outputs": [
    {
     "name": "stdout",
     "output_type": "stream",
     "text": [
      "[('E1', 'F25', 'G3', 'F46'), ('E2', 'E4', 'G4', 'G2'), ('E3', 'F26', 'G1', 'F45'), ('E5', 'F23', 'G6', 'F14'), ('E6', 'F12', 'G5', 'F34'), ('F15', 'F16', 'F36', 'F35')]\n"
     ]
    }
   ],
   "source": [
    "print(perm_to_labels_lines(GG(g5)))"
   ]
  },
  {
   "cell_type": "code",
   "execution_count": null,
   "id": "11cd2a22-a1f6-4fa4-9eb1-4324f9331730",
   "metadata": {},
   "outputs": [],
   "source": []
  }
 ],
 "metadata": {
  "kernelspec": {
   "display_name": "SageMath 9.4",
   "language": "sage",
   "name": "sagemath"
  },
  "language_info": {
   "codemirror_mode": {
    "name": "ipython",
    "version": 3
   },
   "file_extension": ".py",
   "mimetype": "text/x-python",
   "name": "python",
   "nbconvert_exporter": "python",
   "pygments_lexer": "ipython3",
   "version": "3.7.12"
  }
 },
 "nbformat": 4,
 "nbformat_minor": 5
}
