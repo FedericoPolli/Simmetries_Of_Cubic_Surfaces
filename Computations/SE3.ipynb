{
 "cells": [
  {
   "cell_type": "code",
   "execution_count": 1,
   "id": "0f4174c6-3ebe-4f9f-861c-1c5a5962dc9f",
   "metadata": {},
   "outputs": [],
   "source": [
    "load(\"../Imports/GeneralMethods.sage\", '../Imports/Utility.sage', '../Imports/Point.sage', '../Imports/Line.sage', '../Imports/TritangentPlane.sage', '../Imports/Group.sage', '../Imports/Cubic.sage')\n",
    "import multiprocessing as mp\n",
    "import pickle"
   ]
  },
  {
   "cell_type": "code",
   "execution_count": 2,
   "id": "c1bdea6b-3670-429a-88ee-76b17d4e397f",
   "metadata": {},
   "outputs": [],
   "source": [
    "P.<x,y,z,t,b,c,d,e,f,l,m> = PolynomialRing(QQ)\n",
    "cubic_new = e*f*(2*x^2*y-2*x*y^2+x*z^2-x*z*t-y*t^2+y*z*t)+b*c*(x-t)*(x*z+y*t)+c*c*(z+t)*(y*t-x*z)+d*c*(y-z)*(x*z+y*t)+(e+f)*c*(x-y)*(y*t-x*z)\n",
    "sing_cubics = (-1) * (-c + f) * (-c + e) * c * (c + f) * (c + e) * (-e + f) * (-c*d + c*f + e*f) * (-c*d + c*e + e*f) * (-c^2 - c*d + e*f) * (b*c - c*f + e*f) * (b*c - c*e + e*f) * (b*c - c*d + 2*e*f) * (b*c - c^2 + e*f) * (b*c^2 + c^2*d + b*c*f - 2*c^2*f - c*d*f + 2*e*f^2) * (b*c^2 + c^2*d + b*c*e - 2*c^2*e - c*d*e + 2*e^2*f) * (-b*c^3 - 2*b*c^2*d + c^3*d + b*c^2*e + c^2*d*e + b*c^2*f + c^2*d*f + 3*b*c*e*f - 4*c^2*e*f - 3*c*d*e*f + 4*e^2*f^2)"
   ]
  },
  {
   "cell_type": "code",
   "execution_count": 3,
   "id": "d96b2921-106b-4968-97b8-346f4fd8c2f3",
   "metadata": {},
   "outputs": [],
   "source": [
    "# Define cubic SE3, find and classify the lines and compute the 45 tritangent planes"
   ]
  },
  {
   "cell_type": "code",
   "execution_count": 4,
   "id": "650856be-73dc-4eff-8d24-d45891659f60",
   "metadata": {},
   "outputs": [],
   "source": [
    "line = Line([y, z])\n",
    "general_cubic = Cubic(cubic_new, line, sing_cubics)\n",
    "SE3 = general_cubic.subs({b:-(c*c+e*f)/c, d:(3*e*f - c^2 + c*f + c*e)/(2*c)})"
   ]
  },
  {
   "cell_type": "code",
   "execution_count": 5,
   "id": "609e571f-a9db-44ab-beb1-d5be593d8c08",
   "metadata": {},
   "outputs": [],
   "source": [
    "# Find simmetries"
   ]
  },
  {
   "cell_type": "code",
   "execution_count": 6,
   "id": "cc2a51a9-f771-4e77-b3d9-807865297e23",
   "metadata": {},
   "outputs": [
    {
     "name": "stdout",
     "output_type": "stream",
     "text": [
      "CPU times: user 580 ms, sys: 79 ms, total: 659 ms\n",
      "Wall time: 2.17 s\n"
     ]
    },
    {
     "data": {
      "text/plain": [
       "108"
      ]
     },
     "execution_count": 6,
     "metadata": {},
     "output_type": "execute_result"
    }
   ],
   "source": [
    "%time adm_SE3 = SE3.find_admissible_projectivities()\n",
    "len(adm_SE3)"
   ]
  },
  {
   "cell_type": "code",
   "execution_count": 7,
   "id": "fe4ff3d0-0e30-43fc-9f9d-783499348b0b",
   "metadata": {},
   "outputs": [
    {
     "name": "stdout",
     "output_type": "stream",
     "text": [
      "CPU times: user 299 ms, sys: 160 ms, total: 459 ms\n",
      "Wall time: 534 ms\n"
     ]
    },
    {
     "data": {
      "text/plain": [
       "6"
      ]
     },
     "execution_count": 7,
     "metadata": {},
     "output_type": "execute_result"
    }
   ],
   "source": [
    "%time simm_SE3 = SE3.find_simmetries(adm_SE3)\n",
    "len(simm_SE3)"
   ]
  },
  {
   "cell_type": "code",
   "execution_count": 8,
   "id": "ccb71fbd-7c7f-44c5-92ba-342aaa0564fe",
   "metadata": {},
   "outputs": [],
   "source": [
    "# Study how the simmetries permute the Eckardt points"
   ]
  },
  {
   "cell_type": "code",
   "execution_count": 9,
   "id": "34a563b5-ccb0-43e7-b3cc-89787a2aacba",
   "metadata": {},
   "outputs": [
    {
     "data": {
      "text/plain": [
       "(6, 'S3')"
      ]
     },
     "execution_count": 9,
     "metadata": {},
     "output_type": "execute_result"
    }
   ],
   "source": [
    "Eck_perms = [Permutation(SE3.apply_proj_to_eck(proj[0])).to_permutation_group_element() for proj in simm_SE3]\n",
    "Eck_perms_group = PermutationGroup(Eck_perms)\n",
    "Eck_perms_group.order(), Eck_perms_group.structure_description()"
   ]
  },
  {
   "cell_type": "code",
   "execution_count": 10,
   "id": "d23c048c-fc42-4dea-971a-e18deb2e8932",
   "metadata": {},
   "outputs": [],
   "source": [
    "### geometric interpretation of the group of symmetries"
   ]
  },
  {
   "cell_type": "code",
   "execution_count": 11,
   "id": "18b487a9-6f07-49c3-8910-6220dc630429",
   "metadata": {},
   "outputs": [
    {
     "name": "stdout",
     "output_type": "stream",
     "text": [
      "Structure of the group Ga:\n",
      "S3\n",
      "\n",
      "Structure of the group Gb:\n",
      "S3\n"
     ]
    }
   ],
   "source": [
    "## Action of the stabilizer of SE3 on the 27 lines:\n",
    "Ga = perm_group_lines(SE3, simm_SE3)\n",
    "\n",
    "## Action of the stabilizer of SE3 on the 45 tritangent planes:\n",
    "Gb = perm_group_planes(SE3, simm_SE3)\n",
    "\n",
    "print(\"Structure of the group Ga:\")\n",
    "print(PermutationGroup(Ga).structure_description())\n",
    "\n",
    "print(\"\")\n",
    "\n",
    "print(\"Structure of the group Gb:\")\n",
    "print(PermutationGroup(Gb).structure_description())"
   ]
  },
  {
   "cell_type": "code",
   "execution_count": 12,
   "id": "501c9afc-29c1-4249-9fcc-1851c42c87f1",
   "metadata": {},
   "outputs": [],
   "source": [
    "## Action of the group Ga on the lines: computation of the orbits:\n",
    "OGa = PermutationGroup(Ga).orbits()\n",
    "\n",
    "## Action of the group on Gb the planes: computation of the orbits:\n",
    "OGb = PermutationGroup(Gb).orbits()"
   ]
  },
  {
   "cell_type": "code",
   "execution_count": null,
   "id": "551bb23e-22fb-40ec-98ab-62c8ef1fc169",
   "metadata": {},
   "outputs": [],
   "source": []
  },
  {
   "cell_type": "code",
   "execution_count": null,
   "id": "7e95c9a1-a97a-4942-b8bc-155bed722474",
   "metadata": {},
   "outputs": [],
   "source": []
  },
  {
   "cell_type": "code",
   "execution_count": null,
   "id": "7b743dc3-1755-4490-b7cd-a42ce615088a",
   "metadata": {},
   "outputs": [],
   "source": []
  },
  {
   "cell_type": "code",
   "execution_count": null,
   "id": "31fcc0e8-9913-4d4c-9afe-7f3d7424743d",
   "metadata": {},
   "outputs": [],
   "source": []
  },
  {
   "cell_type": "code",
   "execution_count": 10,
   "id": "10792d7c-85ce-41bc-835a-6e8a50546868",
   "metadata": {},
   "outputs": [],
   "source": [
    "# First generator fixes A, permutes C, F. Second permutes A -> C -> F -> A\n",
    "gens = Eck_perms_group.gens_small()\n",
    "indices = [Eck_perms.index(gen) for gen in gens]"
   ]
  },
  {
   "cell_type": "code",
   "execution_count": 11,
   "id": "f64c6ef6-4a34-4337-b31e-f1374a78b82c",
   "metadata": {},
   "outputs": [],
   "source": [
    "# Study how the simmetries permute the 27 lines"
   ]
  },
  {
   "cell_type": "code",
   "execution_count": 12,
   "id": "923020ce-48ef-4d8a-83c5-d9893cb0860d",
   "metadata": {},
   "outputs": [
    {
     "data": {
      "text/plain": [
       "(6, 'S3')"
      ]
     },
     "execution_count": 12,
     "metadata": {},
     "output_type": "execute_result"
    }
   ],
   "source": [
    "lines_perms = [Permutation(SE3.apply_proj_to_lines(simm[0])).to_permutation_group_element() for simm in simm_SE3]\n",
    "lines_perms_group = PermutationGroup(lines_perms)\n",
    "lines_perms_group.order(), lines_perms_group.structure_description()"
   ]
  },
  {
   "cell_type": "code",
   "execution_count": 13,
   "id": "f36c1c10-8866-43ca-b6eb-0d24716b3ae7",
   "metadata": {},
   "outputs": [
    {
     "data": {
      "text/plain": [
       "([('E1', 'G4', 'F24', 'F13', 'F34', 'F45'),\n",
       "  ('F13', 'F24', 'G4', 'E1', 'E4', 'F16')],\n",
       " [(2,19)(3,22)(4,7)(5,25)(6,26)(8,13)(9,14)(11,16)(12,17)(18,27)(20,24)(21,23),\n",
       "  (1,14,9)(2,10,19)(3,4,13)(5,17,21)(6,16,20)(7,22,8)(11,26,24)(12,25,23)(15,27,18)])"
      ]
     },
     "execution_count": 13,
     "metadata": {},
     "output_type": "execute_result"
    }
   ],
   "source": [
    "gens_lines = [lines_perms[index] for index in indices]\n",
    "[get_permuted_extended_L_set(perm) for perm in gens_lines], gens_lines"
   ]
  },
  {
   "cell_type": "code",
   "execution_count": 14,
   "id": "5a2ed5b9-2ac3-4cb3-8715-35a62c32beb5",
   "metadata": {},
   "outputs": [
    {
     "data": {
      "text/plain": [
       "True"
      ]
     },
     "execution_count": 14,
     "metadata": {},
     "output_type": "execute_result"
    }
   ],
   "source": [
    "PermutationGroup(gens_lines).is_isomorphic(Eck_perms_group)"
   ]
  },
  {
   "cell_type": "code",
   "execution_count": 15,
   "id": "2cd3568b-2b2e-4020-af50-ff59e548f3ab",
   "metadata": {},
   "outputs": [],
   "source": [
    "# Find possible conditions to obtain a subfamily with a larger simmetry group"
   ]
  },
  {
   "cell_type": "code",
   "execution_count": 16,
   "id": "ef3b33d2-266b-4d8a-a09e-493b552c8c99",
   "metadata": {},
   "outputs": [
    {
     "name": "stdout",
     "output_type": "stream",
     "text": [
      "CPU times: user 279 ms, sys: 56.9 ms, total: 336 ms\n",
      "Wall time: 1.96 s\n"
     ]
    },
    {
     "data": {
      "text/plain": [
       "[]"
      ]
     },
     "execution_count": 16,
     "metadata": {},
     "output_type": "execute_result"
    }
   ],
   "source": [
    "%time SE3.find_conditions_for_subfamilies(adm_SE3, simm_SE3)"
   ]
  },
  {
   "cell_type": "code",
   "execution_count": null,
   "id": "7264a44a-917a-4ab8-ab14-82f95d76f018",
   "metadata": {},
   "outputs": [],
   "source": []
  }
 ],
 "metadata": {
  "kernelspec": {
   "display_name": "SageMath 9.4",
   "language": "sage",
   "name": "sagemath"
  },
  "language_info": {
   "codemirror_mode": {
    "name": "ipython",
    "version": 3
   },
   "file_extension": ".py",
   "mimetype": "text/x-python",
   "name": "python",
   "nbconvert_exporter": "python",
   "pygments_lexer": "ipython3",
   "version": "3.7.12"
  }
 },
 "nbformat": 4,
 "nbformat_minor": 5
}
