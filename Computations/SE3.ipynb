{
 "cells": [
  {
   "cell_type": "code",
   "execution_count": 2,
   "id": "0f4174c6-3ebe-4f9f-861c-1c5a5962dc9f",
   "metadata": {},
   "outputs": [],
   "source": [
    "load(\"../Imports/GeneralMethods.sage\", '../Imports/Utility.sage', '../Imports/Point.sage', '../Imports/Line.sage', '../Imports/TritangentPlane.sage', '../Imports/Group.sage', '../Imports/Cubic.sage')\n",
    "import multiprocessing as mp\n",
    "import pickle"
   ]
  },
  {
   "cell_type": "code",
   "execution_count": 3,
   "id": "c1bdea6b-3670-429a-88ee-76b17d4e397f",
   "metadata": {},
   "outputs": [],
   "source": [
    "P.<x,y,z,t,b,c,d,e,f,l,m> = PolynomialRing(QQ)\n",
    "cubic_new = e*f*(2*x^2*y-2*x*y^2+x*z^2-x*z*t-y*t^2+y*z*t)+b*c*(x-t)*(x*z+y*t)+c*c*(z+t)*(y*t-x*z)+d*c*(y-z)*(x*z+y*t)+(e+f)*c*(x-y)*(y*t-x*z)\n",
    "sing_cubics = (-1) * (-c + f) * (-c + e) * c * (c + f) * (c + e) * (-e + f) * (-c*d + c*f + e*f) * (-c*d + c*e + e*f) * (-c^2 - c*d + e*f) * (b*c - c*f + e*f) * (b*c - c*e + e*f) * (b*c - c*d + 2*e*f) * (b*c - c^2 + e*f) * (b*c^2 + c^2*d + b*c*f - 2*c^2*f - c*d*f + 2*e*f^2) * (b*c^2 + c^2*d + b*c*e - 2*c^2*e - c*d*e + 2*e^2*f) * (-b*c^3 - 2*b*c^2*d + c^3*d + b*c^2*e + c^2*d*e + b*c^2*f + c^2*d*f + 3*b*c*e*f - 4*c^2*e*f - 3*c*d*e*f + 4*e^2*f^2)"
   ]
  },
  {
   "cell_type": "code",
   "execution_count": 4,
   "id": "d96b2921-106b-4968-97b8-346f4fd8c2f3",
   "metadata": {},
   "outputs": [],
   "source": [
    "# Define cubic SE3, find and classify the lines and compute the 45 tritangent planes"
   ]
  },
  {
   "cell_type": "code",
   "execution_count": 5,
   "id": "650856be-73dc-4eff-8d24-d45891659f60",
   "metadata": {},
   "outputs": [],
   "source": [
    "line = Line([y, z])\n",
    "general_cubic = Cubic(cubic_new, line, sing_cubics)\n",
    "SE3 = general_cubic.subs({b:-(c*c+e*f)/c, d:(3*e*f - c^2 + c*f + c*e)/(2*c)})"
   ]
  },
  {
   "cell_type": "code",
   "execution_count": 6,
   "id": "609e571f-a9db-44ab-beb1-d5be593d8c08",
   "metadata": {},
   "outputs": [],
   "source": [
    "# Find simmetries"
   ]
  },
  {
   "cell_type": "code",
   "execution_count": 7,
   "id": "cc2a51a9-f771-4e77-b3d9-807865297e23",
   "metadata": {},
   "outputs": [
    {
     "name": "stdout",
     "output_type": "stream",
     "text": [
      "CPU times: user 680 ms, sys: 112 ms, total: 792 ms\n",
      "Wall time: 2.63 s\n"
     ]
    },
    {
     "data": {
      "text/plain": [
       "108"
      ]
     },
     "execution_count": 7,
     "metadata": {},
     "output_type": "execute_result"
    }
   ],
   "source": [
    "%time adm_SE3 = SE3.find_admissible_projectivities()\n",
    "len(adm_SE3)"
   ]
  },
  {
   "cell_type": "code",
   "execution_count": 8,
   "id": "fe4ff3d0-0e30-43fc-9f9d-783499348b0b",
   "metadata": {},
   "outputs": [
    {
     "name": "stdout",
     "output_type": "stream",
     "text": [
      "CPU times: user 395 ms, sys: 173 ms, total: 568 ms\n",
      "Wall time: 735 ms\n"
     ]
    },
    {
     "data": {
      "text/plain": [
       "6"
      ]
     },
     "execution_count": 8,
     "metadata": {},
     "output_type": "execute_result"
    }
   ],
   "source": [
    "%time simm_SE3 = SE3.find_simmetries(adm_SE3)\n",
    "len(simm_SE3)"
   ]
  },
  {
   "cell_type": "code",
   "execution_count": 9,
   "id": "ccb71fbd-7c7f-44c5-92ba-342aaa0564fe",
   "metadata": {},
   "outputs": [],
   "source": [
    "# Study how the simmetries permute the Eckardt points"
   ]
  },
  {
   "cell_type": "code",
   "execution_count": 10,
   "id": "34a563b5-ccb0-43e7-b3cc-89787a2aacba",
   "metadata": {},
   "outputs": [
    {
     "data": {
      "text/plain": [
       "(6, 'S3')"
      ]
     },
     "execution_count": 10,
     "metadata": {},
     "output_type": "execute_result"
    }
   ],
   "source": [
    "Eck_perms = [Permutation(SE3.apply_proj_to_eck(proj[0])).to_permutation_group_element() for proj in simm_SE3]\n",
    "Eck_perms_group = PermutationGroup(Eck_perms)\n",
    "Eck_perms_group.order(), Eck_perms_group.structure_description()"
   ]
  },
  {
   "cell_type": "code",
   "execution_count": 11,
   "id": "d23c048c-fc42-4dea-971a-e18deb2e8932",
   "metadata": {},
   "outputs": [],
   "source": [
    "### geometric interpretation of the group of symmetries"
   ]
  },
  {
   "cell_type": "code",
   "execution_count": 12,
   "id": "18b487a9-6f07-49c3-8910-6220dc630429",
   "metadata": {},
   "outputs": [
    {
     "name": "stdout",
     "output_type": "stream",
     "text": [
      "Structure of the group Ga:\n",
      "S3\n",
      "\n",
      "Structure of the group Gb:\n",
      "S3\n"
     ]
    }
   ],
   "source": [
    "## Action of the stabilizer of SE3 on the 27 lines:\n",
    "Ga = perm_group_lines(SE3, simm_SE3)\n",
    "\n",
    "## Action of the stabilizer of SE3 on the 45 tritangent planes:\n",
    "Gb = perm_group_planes(SE3, simm_SE3)\n",
    "\n",
    "print(\"Structure of the group Ga:\")\n",
    "print(PermutationGroup(Ga).structure_description())\n",
    "\n",
    "print(\"\")\n",
    "\n",
    "print(\"Structure of the group Gb:\")\n",
    "print(PermutationGroup(Gb).structure_description())"
   ]
  },
  {
   "cell_type": "code",
   "execution_count": 13,
   "id": "501c9afc-29c1-4249-9fcc-1851c42c87f1",
   "metadata": {},
   "outputs": [],
   "source": [
    "## Action of the group Ga on the lines: computation of the orbits:\n",
    "OGa = PermutationGroup(Ga).orbits()\n",
    "\n",
    "## Action of the group on Gb the planes: computation of the orbits:\n",
    "OGb = PermutationGroup(Gb).orbits()"
   ]
  },
  {
   "cell_type": "code",
   "execution_count": 14,
   "id": "5abf9b37-c692-49c4-b9ae-08a0fbd7edc9",
   "metadata": {},
   "outputs": [
    {
     "data": {
      "text/plain": [
       "[]"
      ]
     },
     "execution_count": 14,
     "metadata": {},
     "output_type": "execute_result"
    }
   ],
   "source": [
    "# There are no fixed lines\n",
    "[orb for orb in OGa if len(orb) == 1]"
   ]
  },
  {
   "cell_type": "code",
   "execution_count": 16,
   "id": "1d20c8e0-8ee5-4e78-aa8b-7d7a15e34976",
   "metadata": {},
   "outputs": [
    {
     "data": {
      "text/plain": [
       "[[1, 9, 14],\n",
       " [2, 19, 10],\n",
       " [3, 22, 7, 13, 8, 4],\n",
       " [5, 25, 12, 21, 23, 17],\n",
       " [6, 26, 11, 20, 24, 16],\n",
       " [15, 18, 27]]"
      ]
     },
     "execution_count": 16,
     "metadata": {},
     "output_type": "execute_result"
    }
   ],
   "source": [
    "## The orbits OGa are a partition of the set {1, 2, ..., 27}:\n",
    "OGa"
   ]
  },
  {
   "cell_type": "code",
   "execution_count": 17,
   "id": "6e321c42-0ff7-4a22-90c2-6c9c0476c293",
   "metadata": {},
   "outputs": [
    {
     "name": "stdout",
     "output_type": "stream",
     "text": [
      "['E1', 'G3', 'F13']\n",
      "['E2', 'F24', 'G4']\n",
      "['E3', 'F34', 'G1', 'F12', 'G2', 'E4']\n",
      "['E5', 'F45', 'G6', 'F26', 'F35', 'F16']\n",
      "['E6', 'F46', 'G5', 'F25', 'F36', 'F15']\n",
      "['F14', 'F23', 'F56']\n"
     ]
    }
   ],
   "source": [
    "## We convert the elements of the orbits of OGa (which are numbers from 1 to 27) \n",
    "## into the corresponding lines expressed with the labels:\n",
    "for orb in OGa:\n",
    "    print([simbolic_line_from_index(i) for i in orb])"
   ]
  },
  {
   "cell_type": "code",
   "execution_count": 33,
   "id": "7e6b4891-7dab-4ec7-9c52-112f0fc541a9",
   "metadata": {},
   "outputs": [],
   "source": [
    "## The group Ga permutes the elements of the first orbit of OGa (which has 3 elements)\n",
    "## in all the 3! possibilities:\n",
    "O1 = OGa[0]\n",
    "totPerm = []\n",
    "for gg in Ga:\n",
    "    totPerm.append(tuple([gg(i) for i in O1]))"
   ]
  },
  {
   "cell_type": "code",
   "execution_count": 34,
   "id": "32dfa1e3-3bab-4bd7-8f6d-2dc5f164d981",
   "metadata": {},
   "outputs": [
    {
     "data": {
      "text/plain": [
       "6"
      ]
     },
     "execution_count": 34,
     "metadata": {},
     "output_type": "execute_result"
    }
   ],
   "source": [
    "len(Set(totPerm))"
   ]
  },
  {
   "cell_type": "code",
   "execution_count": 35,
   "id": "996eea78-6ca1-428f-9294-f37163a1a55b",
   "metadata": {},
   "outputs": [
    {
     "name": "stdout",
     "output_type": "stream",
     "text": [
      "[(1, 9, 14), (1, 14, 9), (14, 1, 9), (9, 14, 1), (14, 9, 1), (9, 1, 14)]\n"
     ]
    }
   ],
   "source": [
    "print(totPerm)"
   ]
  },
  {
   "cell_type": "code",
   "execution_count": 23,
   "id": "955599f3-8d0b-45e7-af99-248a3068fb34",
   "metadata": {},
   "outputs": [],
   "source": [
    "### hence OGa is S_3."
   ]
  },
  {
   "cell_type": "code",
   "execution_count": null,
   "id": "c8d7ec06-27ee-4d71-b3af-5217a4b47829",
   "metadata": {},
   "outputs": [],
   "source": []
  }
 ],
 "metadata": {
  "kernelspec": {
   "display_name": "SageMath 9.4",
   "language": "sage",
   "name": "sagemath"
  },
  "language_info": {
   "codemirror_mode": {
    "name": "ipython",
    "version": 3
   },
   "file_extension": ".py",
   "mimetype": "text/x-python",
   "name": "python",
   "nbconvert_exporter": "python",
   "pygments_lexer": "ipython3",
   "version": "3.7.12"
  }
 },
 "nbformat": 4,
 "nbformat_minor": 5
}
