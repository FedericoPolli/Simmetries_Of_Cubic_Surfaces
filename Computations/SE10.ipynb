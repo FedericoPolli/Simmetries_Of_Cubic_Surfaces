{
 "cells": [
  {
   "cell_type": "code",
   "execution_count": 1,
   "id": "923557e5",
   "metadata": {},
   "outputs": [],
   "source": [
    "load(\"../Imports/GeneralMethods.sage\", '../Imports/Utility.sage', '../Imports/Point.sage', '../Imports/Line.sage', '../Imports/TritangentPlane.sage', '../Imports/Group.sage', '../Imports/Cubic.sage')\n",
    "import multiprocessing as mp\n",
    "import pickle"
   ]
  },
  {
   "cell_type": "code",
   "execution_count": 2,
   "id": "697e14db",
   "metadata": {},
   "outputs": [],
   "source": [
    "xx = QQ['xx'].0\n",
    "Q.<rad5> = NumberField(xx^2-5)"
   ]
  },
  {
   "cell_type": "code",
   "execution_count": 3,
   "id": "55e08eff",
   "metadata": {},
   "outputs": [],
   "source": [
    "P.<x,y,z,t,b,c,d,e,f,l,m> = PolynomialRing(Q)\n",
    "cubic_new = e*f*(2*x^2*y-2*x*y^2+x*z^2-x*z*t-y*t^2+y*z*t)+b*c*(x-t)*(x*z+y*t)+c*c*(z+t)*(y*t-x*z)+d*c*(y-z)*(x*z+y*t)+(e+f)*c*(x-y)*(y*t-x*z)\n",
    "sing_cubics = (-1) * (-c + f) * (-c + e) * c * (c + f) * (c + e) * (-e + f) * (-c*d + c*f + e*f) * (-c*d + c*e + e*f) * (-c^2 - c*d + e*f) * (b*c - c*f + e*f) * (b*c - c*e + e*f) * (b*c - c*d + 2*e*f) * (b*c - c^2 + e*f) * (b*c^2 + c^2*d + b*c*f - 2*c^2*f - c*d*f + 2*e*f^2) * (b*c^2 + c^2*d + b*c*e - 2*c^2*e - c*d*e + 2*e^2*f) * (-b*c^3 - 2*b*c^2*d + c^3*d + b*c^2*e + c^2*d*e + b*c^2*f + c^2*d*f + 3*b*c*e*f - 4*c^2*e*f - 3*c*d*e*f + 4*e^2*f^2)"
   ]
  },
  {
   "cell_type": "code",
   "execution_count": 4,
   "id": "75c4b75c",
   "metadata": {},
   "outputs": [],
   "source": [
    "# Define cubic SE10, find and classify the lines and compute the 45 tritangent planes"
   ]
  },
  {
   "cell_type": "code",
   "execution_count": 5,
   "id": "a57ae1df",
   "metadata": {},
   "outputs": [],
   "source": [
    "line = Line([y, z])\n",
    "general_cubic = Cubic(cubic_new, line, sing_cubics)\n",
    "SE10 = general_cubic.subs({b:-(c*c+e*f)/c, d:(3*e*f - c^2 + c*f + c*e)/(2*c)}).subs({f:c*(3*c-e)/(c+e)}).subs({e : (2-rad5)*c})"
   ]
  },
  {
   "cell_type": "code",
   "execution_count": 6,
   "id": "3a1342eb",
   "metadata": {},
   "outputs": [],
   "source": [
    "# Find simmetries"
   ]
  },
  {
   "cell_type": "code",
   "execution_count": 7,
   "id": "cd8a79b1",
   "metadata": {},
   "outputs": [
    {
     "name": "stdout",
     "output_type": "stream",
     "text": [
      "CPU times: user 796 ms, sys: 76.2 ms, total: 872 ms\n",
      "Wall time: 3.17 s\n"
     ]
    },
    {
     "data": {
      "text/plain": [
       "120"
      ]
     },
     "execution_count": 7,
     "metadata": {},
     "output_type": "execute_result"
    }
   ],
   "source": [
    "%time adm_SE10 = SE10.find_admissible_projectivities()\n",
    "len(adm_SE10)"
   ]
  },
  {
   "cell_type": "code",
   "execution_count": 8,
   "id": "8e950b1a",
   "metadata": {},
   "outputs": [
    {
     "name": "stdout",
     "output_type": "stream",
     "text": [
      "CPU times: user 538 ms, sys: 84.5 ms, total: 622 ms\n",
      "Wall time: 823 ms\n"
     ]
    },
    {
     "data": {
      "text/plain": [
       "120"
      ]
     },
     "execution_count": 8,
     "metadata": {},
     "output_type": "execute_result"
    }
   ],
   "source": [
    "%time simm_SE10 = SE10.find_simmetries(adm_SE10)\n",
    "len(simm_SE10)"
   ]
  },
  {
   "cell_type": "code",
   "execution_count": 9,
   "id": "d2873063",
   "metadata": {},
   "outputs": [],
   "source": [
    "# Study how the simmetries permute the Eckardt points"
   ]
  },
  {
   "cell_type": "code",
   "execution_count": 10,
   "id": "96572a72",
   "metadata": {},
   "outputs": [
    {
     "data": {
      "text/plain": [
       "(120, 'S5')"
      ]
     },
     "execution_count": 10,
     "metadata": {},
     "output_type": "execute_result"
    }
   ],
   "source": [
    "Eck_perms = [Permutation(SE10.apply_proj_to_eck(proj[0])).to_permutation_group_element() for proj in simm_SE10]\n",
    "Eck_perms_group = PermutationGroup(Eck_perms)\n",
    "Eck_perms_group.order(), Eck_perms_group.structure_description()"
   ]
  },
  {
   "cell_type": "code",
   "execution_count": 11,
   "id": "f6beafdc-45aa-4add-9784-f3d6af94ede2",
   "metadata": {},
   "outputs": [],
   "source": [
    "### geometric interpretation of the group of symmetries"
   ]
  },
  {
   "cell_type": "code",
   "execution_count": 12,
   "id": "e75b7c42-ec40-4267-8915-89ba8a9423cc",
   "metadata": {},
   "outputs": [
    {
     "name": "stdout",
     "output_type": "stream",
     "text": [
      "Structure of the group Ga:\n",
      "S5\n",
      "\n",
      "Structure of the group Gb:\n",
      "S5\n"
     ]
    }
   ],
   "source": [
    "## Action of the stabilizer of SE10 on the 27 lines:\n",
    "Ga = perm_group_lines(SE10, simm_SE10)\n",
    "\n",
    "## Action of the stabilizer of SE10 on the 45 tritangent planes:\n",
    "Gb = perm_group_planes(SE10, simm_SE10)\n",
    "\n",
    "print(\"Structure of the group Ga:\")\n",
    "print(PermutationGroup(Ga).structure_description())\n",
    "\n",
    "print(\"\")\n",
    "\n",
    "print(\"Structure of the group Gb:\")\n",
    "print(PermutationGroup(Gb).structure_description())"
   ]
  },
  {
   "cell_type": "code",
   "execution_count": 13,
   "id": "351951fe-a295-46cb-931b-edb0feba9a8a",
   "metadata": {},
   "outputs": [],
   "source": [
    "## Action of the group Ga on the lines: computation of the orbits:\n",
    "OGa = PermutationGroup(Ga).orbits()\n",
    "\n",
    "## Action of the group on Gb the planes: computation of the orbits:\n",
    "OGb = PermutationGroup(Gb).orbits()"
   ]
  },
  {
   "cell_type": "code",
   "execution_count": 14,
   "id": "b00f2559-4acf-4eef-9291-61ea76f5512b",
   "metadata": {},
   "outputs": [
    {
     "name": "stdout",
     "output_type": "stream",
     "text": [
      "[[1, 3, 7, 8, 11, 12, 16, 18, 31, 34], [2, 6, 17, 13, 37], [4, 32, 27, 5, 29, 39, 23, 9, 43, 10, 24, 44, 35, 21, 15, 14, 22, 40, 26, 20, 38, 28, 45, 19, 33, 42, 30, 36, 41, 25]]\n"
     ]
    }
   ],
   "source": [
    "## The orbits OGb are a partition of the set {1, 2, ..., 45}:\n",
    "print(OGb)"
   ]
  },
  {
   "cell_type": "code",
   "execution_count": 15,
   "id": "62bd8204-6ab4-4873-8f31-a3b3b4feda42",
   "metadata": {},
   "outputs": [
    {
     "name": "stdout",
     "output_type": "stream",
     "text": [
      "['t1', 't3', 't7', 't8', 't11', 't12', 't16', 't18', 't31', 't34']\n",
      "['t2', 't6', 't17', 't13', 't37']\n",
      "['t4', 't32', 't27', 't5', 't29', 't39', 't23', 't9', 't43', 't10', 't24', 't44', 't35', 't21', 't15', 't14', 't22', 't40', 't26', 't20', 't38', 't28', 't45', 't19', 't33', 't42', 't30', 't36', 't41', 't25']\n"
     ]
    }
   ],
   "source": [
    "for orb in OGb:\n",
    "    print([simbolic_plane_from_index(i) for i in orb])"
   ]
  },
  {
   "cell_type": "code",
   "execution_count": 16,
   "id": "4ffcf55c-4ac3-4139-b31a-3a231ab5ed48",
   "metadata": {},
   "outputs": [],
   "source": [
    "## The group Gb permutes the elements of the second orbit of OGb (which has 5 elements)\n",
    "## in all the 5! possibilities:\n",
    "O1 = OGb[1]\n",
    "totPerm = []\n",
    "for gg in Gb:\n",
    "    totPerm.append(tuple([gg(i) for i in O1]))"
   ]
  },
  {
   "cell_type": "code",
   "execution_count": 17,
   "id": "0c5bc87e-34d5-4f4e-9a71-fa99e6cff0cf",
   "metadata": {},
   "outputs": [
    {
     "data": {
      "text/plain": [
       "120"
      ]
     },
     "execution_count": 17,
     "metadata": {},
     "output_type": "execute_result"
    }
   ],
   "source": [
    "len(Set(totPerm))"
   ]
  },
  {
   "cell_type": "code",
   "execution_count": 18,
   "id": "bbfcc0cf-6af6-4bcd-aafd-434b91758968",
   "metadata": {},
   "outputs": [],
   "source": [
    "### hence OGb is S_4."
   ]
  },
  {
   "cell_type": "code",
   "execution_count": null,
   "id": "176f8223-130d-4659-ba43-2a4f19cf7018",
   "metadata": {},
   "outputs": [],
   "source": [
    "# SE10 is the sum of the cubes of the following planes"
   ]
  },
  {
   "cell_type": "code",
   "execution_count": 36,
   "id": "45ad74a6-eac6-4297-9264-9cbfefc647a5",
   "metadata": {},
   "outputs": [
    {
     "data": {
      "text/plain": [
       "[y - z,\n",
       " (rad5 - 3)*x + (rad5 - 3)*t,\n",
       " (rad5 - 3)*x + (-2*rad5 + 6)*y + (rad5 - 3)*t,\n",
       " x - y,\n",
       " -2*x + y - z]"
      ]
     },
     "execution_count": 36,
     "metadata": {},
     "output_type": "execute_result"
    }
   ],
   "source": [
    "planes = [SE10.tritangent_planes[i-1].plane for i in OGb[1]]\n",
    "planes"
   ]
  },
  {
   "cell_type": "code",
   "execution_count": 57,
   "id": "ad41f665-e8b1-4234-acd6-80af86608151",
   "metadata": {},
   "outputs": [
    {
     "data": {
      "text/plain": [
       "[y - z, -x - t, x - 2*y + t, -2*x + 2*y, 2*x - y + z]"
      ]
     },
     "execution_count": 57,
     "metadata": {},
     "output_type": "execute_result"
    }
   ],
   "source": [
    "Sylvester_planes = [planes[0], -planes[1]/(rad5 - 3), planes[2]/(rad5 - 3), -2*planes[3], -planes[4]]\n",
    "Sylvester_planes"
   ]
  },
  {
   "cell_type": "code",
   "execution_count": 58,
   "id": "45e4e913-14c3-4145-b907-dfc26fdfbcf9",
   "metadata": {},
   "outputs": [
    {
     "data": {
      "text/plain": [
       "True"
      ]
     },
     "execution_count": 58,
     "metadata": {},
     "output_type": "execute_result"
    }
   ],
   "source": [
    "nc = sum([plane^3 for plane in Sylvester_planes])\n",
    "nc/6 == SE10.eqn"
   ]
  },
  {
   "cell_type": "code",
   "execution_count": null,
   "id": "47c6082d-80ce-425b-b739-cd61681a862c",
   "metadata": {},
   "outputs": [],
   "source": []
  }
 ],
 "metadata": {
  "kernelspec": {
   "display_name": "SageMath 9.4",
   "language": "sage",
   "name": "sagemath"
  },
  "language_info": {
   "codemirror_mode": {
    "name": "ipython",
    "version": 3
   },
   "file_extension": ".py",
   "mimetype": "text/x-python",
   "name": "python",
   "nbconvert_exporter": "python",
   "pygments_lexer": "ipython3",
   "version": "3.7.12"
  }
 },
 "nbformat": 4,
 "nbformat_minor": 5
}
