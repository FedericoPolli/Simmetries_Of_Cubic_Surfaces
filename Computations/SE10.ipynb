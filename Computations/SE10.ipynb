{
 "cells": [
  {
   "cell_type": "code",
   "execution_count": 1,
   "id": "923557e5",
   "metadata": {},
   "outputs": [],
   "source": [
    "load(\"../Imports/GeneralMethods.sage\", '../Imports/Utility.sage', '../Imports/Point.sage', '../Imports/Line.sage', '../Imports/TritangentPlane.sage', '../Imports/Group.sage', '../Imports/Cubic.sage')\n",
    "import multiprocessing as mp\n",
    "import pickle"
   ]
  },
  {
   "cell_type": "code",
   "execution_count": 2,
   "id": "697e14db",
   "metadata": {},
   "outputs": [],
   "source": [
    "xx = QQ['xx'].0\n",
    "Q.<rad5> = NumberField(xx^2-5)"
   ]
  },
  {
   "cell_type": "code",
   "execution_count": 3,
   "id": "55e08eff",
   "metadata": {},
   "outputs": [],
   "source": [
    "P.<x,y,z,t,b,c,d,e,f,l,m> = PolynomialRing(Q)\n",
    "cubic_new = e*f*(2*x^2*y-2*x*y^2+x*z^2-x*z*t-y*t^2+y*z*t)+b*c*(x-t)*(x*z+y*t)+c*c*(z+t)*(y*t-x*z)+d*c*(y-z)*(x*z+y*t)+(e+f)*c*(x-y)*(y*t-x*z)\n",
    "sing_cubics = (-1) * (-c + f) * (-c + e) * c * (c + f) * (c + e) * (-e + f) * (-c*d + c*f + e*f) * (-c*d + c*e + e*f) * (-c^2 - c*d + e*f) * (b*c - c*f + e*f) * (b*c - c*e + e*f) * (b*c - c*d + 2*e*f) * (b*c - c^2 + e*f) * (b*c^2 + c^2*d + b*c*f - 2*c^2*f - c*d*f + 2*e*f^2) * (b*c^2 + c^2*d + b*c*e - 2*c^2*e - c*d*e + 2*e^2*f) * (-b*c^3 - 2*b*c^2*d + c^3*d + b*c^2*e + c^2*d*e + b*c^2*f + c^2*d*f + 3*b*c*e*f - 4*c^2*e*f - 3*c*d*e*f + 4*e^2*f^2)"
   ]
  },
  {
   "cell_type": "code",
   "execution_count": 4,
   "id": "75c4b75c",
   "metadata": {},
   "outputs": [],
   "source": [
    "# Define cubic SE10, find and classify the lines and compute the 45 tritangent planes"
   ]
  },
  {
   "cell_type": "code",
   "execution_count": 5,
   "id": "a57ae1df",
   "metadata": {},
   "outputs": [],
   "source": [
    "line = Line([y, z])\n",
    "general_cubic = Cubic(cubic_new, line, sing_cubics)\n",
    "SE10 = general_cubic.subs({b:-(c*c+e*f)/c, d:(3*e*f - c^2 + c*f + c*e)/(2*c)}).subs({f:c*(3*c-e)/(c+e)}).subs({e : (2-rad5)*c})"
   ]
  },
  {
   "cell_type": "code",
   "execution_count": 6,
   "id": "3a1342eb",
   "metadata": {},
   "outputs": [],
   "source": [
    "# Find simmetries"
   ]
  },
  {
   "cell_type": "code",
   "execution_count": 7,
   "id": "cd8a79b1",
   "metadata": {},
   "outputs": [
    {
     "name": "stdout",
     "output_type": "stream",
     "text": [
      "CPU times: user 954 ms, sys: 60.7 ms, total: 1.01 s\n",
      "Wall time: 7.67 s\n"
     ]
    },
    {
     "data": {
      "text/plain": [
       "120"
      ]
     },
     "execution_count": 7,
     "metadata": {},
     "output_type": "execute_result"
    }
   ],
   "source": [
    "%time adm_SE10 = SE10.find_admissible_projectivities()\n",
    "len(adm_SE10)"
   ]
  },
  {
   "cell_type": "code",
   "execution_count": 8,
   "id": "8e950b1a",
   "metadata": {},
   "outputs": [
    {
     "name": "stdout",
     "output_type": "stream",
     "text": [
      "CPU times: user 627 ms, sys: 104 ms, total: 731 ms\n",
      "Wall time: 1.65 s\n"
     ]
    },
    {
     "data": {
      "text/plain": [
       "120"
      ]
     },
     "execution_count": 8,
     "metadata": {},
     "output_type": "execute_result"
    }
   ],
   "source": [
    "%time simm_SE10 = SE10.find_simmetries(adm_SE10)\n",
    "len(simm_SE10)"
   ]
  },
  {
   "cell_type": "code",
   "execution_count": 9,
   "id": "d2873063",
   "metadata": {},
   "outputs": [],
   "source": [
    "# Study how the simmetries permute the Eckardt points"
   ]
  },
  {
   "cell_type": "code",
   "execution_count": 10,
   "id": "96572a72",
   "metadata": {},
   "outputs": [
    {
     "data": {
      "text/plain": [
       "(120, 'S5')"
      ]
     },
     "execution_count": 10,
     "metadata": {},
     "output_type": "execute_result"
    }
   ],
   "source": [
    "Eck_perms = [Permutation(SE10.apply_proj_to_eck(proj[0])).to_permutation_group_element() for proj in simm_SE10]\n",
    "Eck_perms_group = PermutationGroup(Eck_perms)\n",
    "Eck_perms_group.order(), Eck_perms_group.structure_description()"
   ]
  },
  {
   "cell_type": "code",
   "execution_count": 11,
   "id": "f6beafdc-45aa-4add-9784-f3d6af94ede2",
   "metadata": {},
   "outputs": [],
   "source": [
    "### geometric interpretation of the group of symmetries"
   ]
  },
  {
   "cell_type": "code",
   "execution_count": 13,
   "id": "e75b7c42-ec40-4267-8915-89ba8a9423cc",
   "metadata": {},
   "outputs": [
    {
     "name": "stdout",
     "output_type": "stream",
     "text": [
      "Structure of the group Ga:\n",
      "S5\n",
      "\n",
      "Structure of the group Gb:\n",
      "S5\n"
     ]
    }
   ],
   "source": [
    "## Action of the stabilizer of SE10 on the 27 lines:\n",
    "Ga = perm_group_lines(SE10, simm_SE10)\n",
    "\n",
    "## Action of the stabilizer of SE10 on the 45 tritangent planes:\n",
    "Gb = perm_group_planes(SE10, simm_SE10)\n",
    "\n",
    "print(\"Structure of the group Ga:\")\n",
    "print(PermutationGroup(Ga).structure_description())\n",
    "\n",
    "print(\"\")\n",
    "\n",
    "print(\"Structure of the group Gb:\")\n",
    "print(PermutationGroup(Gb).structure_description())"
   ]
  },
  {
   "cell_type": "code",
   "execution_count": 14,
   "id": "351951fe-a295-46cb-931b-edb0feba9a8a",
   "metadata": {},
   "outputs": [],
   "source": [
    "## Action of the group Ga on the lines: computation of the orbits:\n",
    "OGa = PermutationGroup(Ga).orbits()\n",
    "\n",
    "## Action of the group on Gb the planes: computation of the orbits:\n",
    "OGb = PermutationGroup(Gb).orbits()"
   ]
  },
  {
   "cell_type": "code",
   "execution_count": null,
   "id": "45ad74a6-eac6-4297-9264-9cbfefc647a5",
   "metadata": {},
   "outputs": [],
   "source": []
  },
  {
   "cell_type": "code",
   "execution_count": null,
   "id": "ea7c794c-b697-421b-aa96-4739ba52f890",
   "metadata": {},
   "outputs": [],
   "source": []
  },
  {
   "cell_type": "code",
   "execution_count": null,
   "id": "8dbbdbf9-499f-430c-b9f2-052488607998",
   "metadata": {},
   "outputs": [],
   "source": []
  },
  {
   "cell_type": "code",
   "execution_count": null,
   "id": "02aa839b-ad0d-48b6-886a-b873b622a3a1",
   "metadata": {},
   "outputs": [],
   "source": []
  },
  {
   "cell_type": "code",
   "execution_count": null,
   "id": "6a4cea8b-beec-4410-be31-cc61f4961b3f",
   "metadata": {},
   "outputs": [],
   "source": []
  },
  {
   "cell_type": "code",
   "execution_count": null,
   "id": "d5bd3940-126c-4b1a-9147-6cbc6eeff144",
   "metadata": {},
   "outputs": [],
   "source": []
  },
  {
   "cell_type": "code",
   "execution_count": 12,
   "id": "c3efb226",
   "metadata": {},
   "outputs": [],
   "source": [
    "# We want to find what elements are permuted by the group S5\n",
    "# These are the so called Sylvester planes"
   ]
  },
  {
   "cell_type": "code",
   "execution_count": 19,
   "id": "42a31c0c",
   "metadata": {},
   "outputs": [],
   "source": [
    "f = SymmetricGroup(5).isomorphism_to(Eck_perms_group)\n",
    "gens = [f(gen) for gen in SymmetricGroup(5).gens_small()]\n",
    "indices = [Eck_perms.index(gen) for gen in gens]\n",
    "gen1 = simm_SE10[indices[0]][0]\n",
    "gen2 = simm_SE10[indices[1]][0]"
   ]
  },
  {
   "cell_type": "code",
   "execution_count": 20,
   "id": "a86390ee",
   "metadata": {},
   "outputs": [],
   "source": [
    "Sylvester_planes_labels = [['E1', 'G3', 'F13'], ['E3', 'G4', 'F34'], ['E2', 'G1', 'F12'], ['E4', 'G2', 'F24'], ['F14', 'F23', 'F56']]"
   ]
  },
  {
   "cell_type": "code",
   "execution_count": 21,
   "id": "29c7dfa0",
   "metadata": {},
   "outputs": [
    {
     "data": {
      "text/plain": [
       "True"
      ]
     },
     "execution_count": 21,
     "metadata": {},
     "output_type": "execute_result"
    }
   ],
   "source": [
    "bool([label in SE10.eckardt_points_labels for label in Sylvester_planes_labels])"
   ]
  },
  {
   "cell_type": "code",
   "execution_count": 22,
   "id": "c028d4c0",
   "metadata": {},
   "outputs": [],
   "source": [
    "#Readjust the coefficients of the planes to match those of the cubic\n",
    "Sylvester_planes = [pl.plane/min(pl.plane.coefficients()) for pl in SE10.tritangent_planes if pl.labels in Sylvester_planes_labels]\n",
    "for i in range(len(Sylvester_planes)):\n",
    "    if i in [0,1]:\n",
    "        Sylvester_planes[i]*=-1\n",
    "    if i in [2, 4]:\n",
    "        Sylvester_planes[i]*=2"
   ]
  },
  {
   "cell_type": "code",
   "execution_count": 23,
   "id": "3dd1dd15",
   "metadata": {},
   "outputs": [
    {
     "data": {
      "text/plain": [
       "[]"
      ]
     },
     "execution_count": 23,
     "metadata": {},
     "output_type": "execute_result"
    }
   ],
   "source": [
    "# Check that the sum of the planes cubed is actually SE10\n",
    "mon = ((x+y+z+t)^3).monomials()\n",
    "nc = sum([pl^3 for pl in Sylvester_planes])\n",
    "[el for el in matrix([[nc.coefficient(mn) for mn in mon], [SE10.eqn.coefficient(mn) for mn in mon]]).minors(2) if el!=0]"
   ]
  },
  {
   "cell_type": "code",
   "execution_count": 24,
   "id": "aaa014db",
   "metadata": {},
   "outputs": [],
   "source": [
    "sost1 = change_coordinates(gen1)\n",
    "sost2 = change_coordinates(gen2)"
   ]
  },
  {
   "cell_type": "code",
   "execution_count": 25,
   "id": "f52f156c",
   "metadata": {},
   "outputs": [
    {
     "data": {
      "text/plain": [
       "[True, True, True, True, True]"
      ]
     },
     "execution_count": 25,
     "metadata": {},
     "output_type": "execute_result"
    }
   ],
   "source": [
    "[True in [pl.subs(sost1).divides(pl1) for pl in Sylvester_planes] for pl1 in Sylvester_planes]"
   ]
  },
  {
   "cell_type": "code",
   "execution_count": 26,
   "id": "7dc84925",
   "metadata": {},
   "outputs": [
    {
     "data": {
      "text/plain": [
       "[True, True, True, True, True]"
      ]
     },
     "execution_count": 26,
     "metadata": {},
     "output_type": "execute_result"
    }
   ],
   "source": [
    "[True in [pl.subs(sost2).divides(pl1) for pl in Sylvester_planes] for pl1 in Sylvester_planes]"
   ]
  },
  {
   "cell_type": "code",
   "execution_count": 27,
   "id": "225ebe63",
   "metadata": {},
   "outputs": [],
   "source": [
    "# Study how the simmetries permute the 27 lines"
   ]
  },
  {
   "cell_type": "code",
   "execution_count": 28,
   "id": "7336ca3f",
   "metadata": {},
   "outputs": [
    {
     "data": {
      "text/plain": [
       "(120, 'S5')"
      ]
     },
     "execution_count": 28,
     "metadata": {},
     "output_type": "execute_result"
    }
   ],
   "source": [
    "lines_perms = [Permutation(SE10.apply_proj_to_lines(simm[0])).to_permutation_group_element() for simm in simm_SE10]\n",
    "lines_perms_group = PermutationGroup(lines_perms)\n",
    "lines_perms_group.order(), lines_perms_group.structure_description()"
   ]
  },
  {
   "cell_type": "code",
   "execution_count": 29,
   "id": "72862248-5d6d-46d2-b7e8-89444d2816e4",
   "metadata": {},
   "outputs": [
    {
     "data": {
      "text/plain": [
       "([('G1', 'F14', 'G4', 'E2', 'F56', 'F26'),\n",
       "  ('F12', 'F34', 'G3', 'E2', 'E3', 'F25')],\n",
       " [(1,7,22,18,19)(2,10,15,4,9)(3,27,8,14,13)(5,21,26,24,11)(6,20,25,23,12),\n",
       "  (1,13)(2,9)(4,19)(5,20)(6,21)(7,14)(10,22)(11,23)(12,24)(15,27)(16,26)(17,25)])"
      ]
     },
     "execution_count": 29,
     "metadata": {},
     "output_type": "execute_result"
    }
   ],
   "source": [
    "gens_lines = [lines_perms[index] for index in indices]\n",
    "[get_permuted_extended_L_set(perm) for perm in gens_lines], gens_lines"
   ]
  },
  {
   "cell_type": "code",
   "execution_count": null,
   "id": "83928f3e-d8d4-42c2-b679-1ca0ae0a06b6",
   "metadata": {},
   "outputs": [],
   "source": []
  }
 ],
 "metadata": {
  "kernelspec": {
   "display_name": "SageMath 9.4",
   "language": "sage",
   "name": "sagemath"
  },
  "language_info": {
   "codemirror_mode": {
    "name": "ipython",
    "version": 3
   },
   "file_extension": ".py",
   "mimetype": "text/x-python",
   "name": "python",
   "nbconvert_exporter": "python",
   "pygments_lexer": "ipython3",
   "version": "3.7.12"
  }
 },
 "nbformat": 4,
 "nbformat_minor": 5
}
