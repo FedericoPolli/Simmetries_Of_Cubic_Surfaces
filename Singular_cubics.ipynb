{
 "cells": [
  {
   "cell_type": "code",
   "execution_count": 1,
   "id": "dd431f7a-a98f-4ede-b51c-d5c5159657f0",
   "metadata": {},
   "outputs": [],
   "source": [
    "load('Utility.sage')\n",
    "load('Point.sage')\n",
    "load('Line.sage')\n",
    "import multiprocessing as mp\n",
    "import pickle"
   ]
  },
  {
   "cell_type": "code",
   "execution_count": 2,
   "id": "1c722750-86ea-41fb-afc4-bfb2aa697ecc",
   "metadata": {},
   "outputs": [],
   "source": [
    "P.<x,y,z,t,a,b,c,d,e,f,g,l,m> = PolynomialRing(QQ)"
   ]
  },
  {
   "cell_type": "code",
   "execution_count": 3,
   "id": "b5f36305-a4b5-4ed4-afde-624f9f1ac132",
   "metadata": {},
   "outputs": [],
   "source": [
    "sing_cubics = c*(a + b - c)*(2*a + b - d)*(a - c - d)*(a + c + g)*(a + c - g)*(4*a*c - g^2)*(a^2 + a*c - 2*a*d + a*g + d^2 - d*g)*(a^2 + 2*a*b + a*c - a*g + b^2 - b*g)*(4*a^2 + 3*a*b - 4*a*c - 3*a*d - b*c - 2*b*d + b*g + c*d + d*g)*(4*a^3 + 4*a^2*b - 8*a^2*c - 4*a^2*d + a*b^2 - 4*a*b*c - 2*a*b*d + 2*a*b*g + 4*a*c^2 + 4*a*c*d + a*d^2+2*a*d*g + b^2*c + b^2*g + 2*b*c*d - 2*b*c*g + c*d^2 - 2*c*d*g - d^2*g)"
   ]
  },
  {
   "cell_type": "code",
   "execution_count": 4,
   "id": "9c9c4df2-63f5-4d40-8a6e-8ed168b3f879",
   "metadata": {},
   "outputs": [
    {
     "data": {
      "text/plain": [
       "(-1) * (-c + f) * (-c + e) * c * (c + f) * (c + e) * (-e + f)^2 * (-c*d + c*f + e*f) * (-c*d + c*e + e*f) * (-c^2 - c*d + e*f) * (b*c - c*f + e*f) * (b*c - c*e + e*f) * (b*c - c*d + 2*e*f) * (b*c - c^2 + e*f) * (b*c^2 + c^2*d + b*c*f - 2*c^2*f - c*d*f + 2*e*f^2) * (b*c^2 + c^2*d + b*c*e - 2*c^2*e - c*d*e + 2*e^2*f) * (-b*c^3 - 2*b*c^2*d + c^3*d + b*c^2*e + c^2*d*e + b*c^2*f + c^2*d*f + 3*b*c*e*f - 4*c^2*e*f - 3*c*d*e*f + 4*e^2*f^2)"
      ]
     },
     "execution_count": 4,
     "metadata": {},
     "output_type": "execute_result"
    }
   ],
   "source": [
    "P(c^14*sing_cubics.subs({g:e+f, a:e*f/c})).factor()"
   ]
  },
  {
   "cell_type": "code",
   "execution_count": 5,
   "id": "df8f0240-4c3c-4973-900c-5c1e86f279f7",
   "metadata": {},
   "outputs": [],
   "source": [
    "sing_cubics_new = (-1) * (-c + f) * (-c + e) * c * (c + f) * (c + e) * (-e + f)^2 * (-c*d + c*f + e*f) * (-c*d + c*e + e*f) * (-c^2 - c*d + e*f) * (b*c - c*f + e*f) * (b*c - c*e + e*f) * (b*c - c*d + 2*e*f) * (b*c - c^2 + e*f) * (b*c^2 + c^2*d + b*c*f - 2*c^2*f - c*d*f + 2*e*f^2) * (b*c^2 + c^2*d + b*c*e - 2*c^2*e - c*d*e + 2*e^2*f) * (-b*c^3 - 2*b*c^2*d + c^3*d + b*c^2*e + c^2*d*e + b*c^2*f + c^2*d*f + 3*b*c*e*f - 4*c^2*e*f - 3*c*d*e*f + 4*e^2*f^2)"
   ]
  },
  {
   "cell_type": "code",
   "execution_count": 6,
   "id": "e7016dce-ae90-4e42-a101-2ad681068df1",
   "metadata": {},
   "outputs": [],
   "source": [
    "cubic = a*(2*x^2*y-2*x*y^2+x*z^2-x*z*t-y*t^2+y*z*t)+b*(x-t)*(x*z+y*t)+c*(z+t)*(y*t-x*z)+d*(y-z)*(x*z+y*t)+(-e-f)*(x-y)*(y*t-x*z)"
   ]
  },
  {
   "cell_type": "code",
   "execution_count": 7,
   "id": "d3fa207b-03ae-455e-9a49-b2ee266e6e89",
   "metadata": {},
   "outputs": [],
   "source": [
    "cubic_new = e*f*(2*x^2*y-2*x*y^2+x*z^2-x*z*t-y*t^2+y*z*t)+b*c*(x-t)*(x*z+y*t)+c*c*(z+t)*(y*t-x*z)+d*c*(y-z)*(x*z+y*t)+(e+f)*c*(x-y)*(y*t-x*z)"
   ]
  },
  {
   "cell_type": "code",
   "execution_count": 8,
   "id": "a6bdf3ae-971e-4b48-a4cd-fad9e02adf62",
   "metadata": {},
   "outputs": [],
   "source": [
    "J = jacobian(cubic_new.subs({d:e+f}), P.gens()[0:4])"
   ]
  },
  {
   "cell_type": "code",
   "execution_count": 9,
   "id": "03e47b86-9d5c-46e9-9ecd-066fdb80369e",
   "metadata": {},
   "outputs": [
    {
     "data": {
      "text/plain": [
       "11"
      ]
     },
     "execution_count": 9,
     "metadata": {},
     "output_type": "execute_result"
    }
   ],
   "source": [
    "P.ideal(J.list()).dimension()"
   ]
  },
  {
   "cell_type": "code",
   "execution_count": null,
   "id": "d7e7a5ea-f87c-4546-93f6-4b5eceba5aac",
   "metadata": {},
   "outputs": [],
   "source": []
  }
 ],
 "metadata": {
  "kernelspec": {
   "display_name": "SageMath 9.3",
   "language": "sage",
   "name": "sagemath"
  },
  "language_info": {
   "codemirror_mode": {
    "name": "ipython",
    "version": 3
   },
   "file_extension": ".py",
   "mimetype": "text/x-python",
   "name": "python",
   "nbconvert_exporter": "python",
   "pygments_lexer": "ipython3",
   "version": "3.7.10"
  }
 },
 "nbformat": 4,
 "nbformat_minor": 5
}
