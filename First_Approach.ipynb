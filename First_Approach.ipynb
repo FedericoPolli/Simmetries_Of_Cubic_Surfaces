{
 "cells": [
  {
   "cell_type": "code",
   "execution_count": 1,
   "id": "f9d19be4",
   "metadata": {},
   "outputs": [],
   "source": [
    "load('Imports/Utility.sage', 'Imports/Point.sage', 'Imports/Line.sage', 'Imports/TritangentPlane.sage', 'Imports/Group.sage', 'Imports/Cubic.sage')\n",
    "import multiprocessing as mp\n",
    "import pickle"
   ]
  },
  {
   "cell_type": "code",
   "execution_count": 2,
   "id": "16126ec7",
   "metadata": {},
   "outputs": [],
   "source": [
    "with open('all_L_sets.pickle', 'rb') as fil:\n",
    "    all_L_sets = pickle.load(fil)"
   ]
  },
  {
   "cell_type": "code",
   "execution_count": 3,
   "id": "b39cf526",
   "metadata": {},
   "outputs": [],
   "source": [
    "def find_simmetries_and_projectivities_parallel(self, all_L_sets):\n",
    "    if os.name == \"nt\":\n",
    "        mp.freeze_support()\n",
    "    pool = mp.Pool(mp.cpu_count() - 1)\n",
    "    all_param = ((L_set,) for L_set in all_L_sets)\n",
    "    result = [el for el in pool.map(self.find_simmetries_and_projectivities_parallel_wrapper, all_param) if el is not None]\n",
    "    pool.close()\n",
    "    return result\n",
    "\n",
    "def find_simmetries_and_projectivities_parallel_wrapper(self, args):\n",
    "    return self.find_simmetry_and_projectivity(*args)\n",
    "\n",
    "def find_simmetry_and_projectivity(self, L_set):\n",
    "    L_set_base = self.get_L_set_in_plucker(['E1', 'G4', 'E2', 'G3', 'E3'])\n",
    "    L2 = self.get_L_set_in_plucker(L_set)\n",
    "    M = find_projectivity(L_set_base, L2) \n",
    "    return self.find_simmetry(M)\n",
    "\n",
    "Cubic.find_simmetries_and_projectivities_parallel = find_simmetries_and_projectivities_parallel\n",
    "Cubic.find_simmetries_and_projectivities_parallel_wrapper = find_simmetries_and_projectivities_parallel_wrapper\n",
    "Cubic.find_simmetry_and_projectivity = find_simmetry_and_projectivity"
   ]
  },
  {
   "cell_type": "code",
   "execution_count": 4,
   "id": "59b68be6",
   "metadata": {},
   "outputs": [],
   "source": [
    "P.<x,y,z,t,b,c,d,e,f,l,m> = PolynomialRing(QQ)\n",
    "cubic_new = e*f*(2*x^2*y-2*x*y^2+x*z^2-x*z*t-y*t^2+y*z*t)+b*c*(x-t)*(x*z+y*t)+c*c*(z+t)*(y*t-x*z)+d*c*(y-z)*(x*z+y*t)+(e+f)*c*(x-y)*(y*t-x*z)\n",
    "sing_cubics = (-1) * (-c + f) * (-c + e) * c * (c + f) * (c + e) * (-e + f)^2 * (-c*d + c*f + e*f) * (-c*d + c*e + e*f) * (-c^2 - c*d + e*f) * (b*c - c*f + e*f) * (b*c - c*e + e*f) * (b*c - c*d + 2*e*f) * (b*c - c^2 + e*f) * (b*c^2 + c^2*d + b*c*f - 2*c^2*f - c*d*f + 2*e*f^2) * (b*c^2 + c^2*d + b*c*e - 2*c^2*e - c*d*e + 2*e^2*f) * (-b*c^3 - 2*b*c^2*d + c^3*d + b*c^2*e + c^2*d*e + b*c^2*f + c^2*d*f + 3*b*c*e*f - 4*c^2*e*f - 3*c*d*e*f + 4*e^2*f^2)"
   ]
  },
  {
   "cell_type": "code",
   "execution_count": 5,
   "id": "baa4ffc4",
   "metadata": {},
   "outputs": [],
   "source": [
    "line = Line([y, z])\n",
    "general_cubic = Cubic(cubic_new, line, sing_cubics)\n",
    "SE1 = general_cubic.subs({b:-(c*c+e*f)/c})\n",
    "SE2 = SE1.subs({d:(c*c+e*f)/c})\n",
    "SE3 = SE1.subs({d:(3*e*f - c^2 + c*f + c*e)/(2*c)})\n",
    "SE4 = SE3.subs({f:c*(3*c-e)/(c+e)})\n",
    "SE6 = SE3.subs({f: -c*(5*c+e)/(c+e)})"
   ]
  },
  {
   "cell_type": "code",
   "execution_count": 6,
   "id": "8e121fa1-b576-406c-8e5d-60c3c75a5725",
   "metadata": {},
   "outputs": [
    {
     "data": {
      "text/plain": [
       "25920"
      ]
     },
     "execution_count": 6,
     "metadata": {},
     "output_type": "execute_result"
    }
   ],
   "source": [
    "len(all_L_sets)"
   ]
  },
  {
   "cell_type": "code",
   "execution_count": 7,
   "id": "496b405c",
   "metadata": {},
   "outputs": [
    {
     "name": "stdout",
     "output_type": "stream",
     "text": [
      "CPU times: user 2.5 s, sys: 513 ms, total: 3.01 s\n",
      "Wall time: 41min 13s\n"
     ]
    }
   ],
   "source": [
    "%time gen_simm = general_cubic.find_simmetries_and_projectivities_parallel(all_L_sets[0:2592])"
   ]
  },
  {
   "cell_type": "code",
   "execution_count": 8,
   "id": "71b51239",
   "metadata": {},
   "outputs": [
    {
     "name": "stdout",
     "output_type": "stream",
     "text": [
      "CPU times: user 673 ms, sys: 124 ms, total: 797 ms\n",
      "Wall time: 4min 4s\n"
     ]
    }
   ],
   "source": [
    "%time simm_SE1 = SE1.find_simmetries_and_projectivities_parallel(all_L_sets[0:2592])"
   ]
  },
  {
   "cell_type": "code",
   "execution_count": 9,
   "id": "bf51da11",
   "metadata": {},
   "outputs": [
    {
     "name": "stdout",
     "output_type": "stream",
     "text": [
      "CPU times: user 242 ms, sys: 76.3 ms, total: 318 ms\n",
      "Wall time: 41.8 s\n"
     ]
    }
   ],
   "source": [
    "%time simm_SE2 = SE2.find_simmetries_and_projectivities_parallel(all_L_sets[0:2592])"
   ]
  },
  {
   "cell_type": "code",
   "execution_count": 10,
   "id": "9bff43a8",
   "metadata": {},
   "outputs": [
    {
     "name": "stdout",
     "output_type": "stream",
     "text": [
      "CPU times: user 324 ms, sys: 107 ms, total: 430 ms\n",
      "Wall time: 49.5 s\n"
     ]
    }
   ],
   "source": [
    "%time simm_SE3 = SE3.find_simmetries_and_projectivities_parallel(all_L_sets[0:2592])"
   ]
  },
  {
   "cell_type": "code",
   "execution_count": 11,
   "id": "e3e5b3d0",
   "metadata": {},
   "outputs": [
    {
     "name": "stdout",
     "output_type": "stream",
     "text": [
      "CPU times: user 209 ms, sys: 74.7 ms, total: 284 ms\n",
      "Wall time: 38.9 s\n"
     ]
    }
   ],
   "source": [
    "%time simm_SE4 = SE4.find_simmetries_and_projectivities_parallel(all_L_sets[0:2592])"
   ]
  },
  {
   "cell_type": "code",
   "execution_count": 12,
   "id": "614437f1",
   "metadata": {},
   "outputs": [
    {
     "name": "stdout",
     "output_type": "stream",
     "text": [
      "CPU times: user 243 ms, sys: 48.9 ms, total: 292 ms\n",
      "Wall time: 39.4 s\n"
     ]
    }
   ],
   "source": [
    "%time simm_SE6 = SE6.find_simmetries_and_projectivities_parallel(all_L_sets[0:2592])"
   ]
  },
  {
   "cell_type": "code",
   "execution_count": null,
   "id": "ee253003-eab1-46b7-be94-b3a53575669a",
   "metadata": {},
   "outputs": [],
   "source": []
  },
  {
   "cell_type": "code",
   "execution_count": 13,
   "id": "f2fddb60",
   "metadata": {},
   "outputs": [],
   "source": [
    "xx = QQ['xx'].0"
   ]
  },
  {
   "cell_type": "code",
   "execution_count": 14,
   "id": "667928f9",
   "metadata": {},
   "outputs": [],
   "source": [
    "Q.<i_rad3_minus_rad5> = NumberField(xx^4 - 4*xx^2 + 64)"
   ]
  },
  {
   "cell_type": "code",
   "execution_count": 15,
   "id": "13d4dbd8",
   "metadata": {},
   "outputs": [],
   "source": [
    "i_rad3 = 1/16*i_rad3_minus_rad5^3 + 1/4*i_rad3_minus_rad5\n",
    "rad5 = 1/16*i_rad3_minus_rad5^3 - 3/4*i_rad3_minus_rad5"
   ]
  },
  {
   "cell_type": "code",
   "execution_count": 16,
   "id": "786d5f1e",
   "metadata": {},
   "outputs": [],
   "source": [
    "P.<x,y,z,t,b,c,d,e,f,l,m> = PolynomialRing(Q)\n",
    "cubic_new = e*f*(2*x^2*y-2*x*y^2+x*z^2-x*z*t-y*t^2+y*z*t)+b*c*(x-t)*(x*z+y*t)+c*c*(z+t)*(y*t-x*z)+d*c*(y-z)*(x*z+y*t)+(e+f)*c*(x-y)*(y*t-x*z)\n",
    "sing_cubics = (-1) * (-c + f) * (-c + e) * c * (c + f) * (c + e) * (-e + f)^2 * (-c*d + c*f + e*f) * (-c*d + c*e + e*f) * (-c^2 - c*d + e*f) * (b*c - c*f + e*f) * (b*c - c*e + e*f) * (b*c - c*d + 2*e*f) * (b*c - c^2 + e*f) * (b*c^2 + c^2*d + b*c*f - 2*c^2*f - c*d*f + 2*e*f^2) * (b*c^2 + c^2*d + b*c*e - 2*c^2*e - c*d*e + 2*e^2*f) * (-b*c^3 - 2*b*c^2*d + c^3*d + b*c^2*e + c^2*d*e + b*c^2*f + c^2*d*f + 3*b*c*e*f - 4*c^2*e*f - 3*c*d*e*f + 4*e^2*f^2)"
   ]
  },
  {
   "cell_type": "code",
   "execution_count": 17,
   "id": "ea1dac27",
   "metadata": {},
   "outputs": [],
   "source": [
    "line = Line([y, z])\n",
    "general_cubic = Cubic(cubic_new, line, sing_cubics)\n",
    "SE9 = general_cubic.subs({b:-(c*c+e*f)/c, d:(3*e*f - c^2 + c*f + c*e)/(2*c)}).subs({e : i_rad3*c})\n",
    "SE10 = general_cubic.subs({b:-(c*c+e*f)/c, d:(3*e*f - c^2 + c*f + c*e)/(2*c)}).subs({f:c*(3*c-e)/(c+e)}).subs({e : (2-rad5)*c})\n",
    "SE18 = general_cubic.subs({b:-(c*c+e*f)/c, d:(3*e*f - c^2 + c*f + c*e)/(2*c)}).subs({f:c*(3*c-e)/(c+e)}).subs({e : i_rad3*c})"
   ]
  },
  {
   "cell_type": "code",
   "execution_count": 18,
   "id": "069c9ac5",
   "metadata": {},
   "outputs": [
    {
     "name": "stdout",
     "output_type": "stream",
     "text": [
      "CPU times: user 2.06 s, sys: 135 ms, total: 2.2 s\n",
      "Wall time: 2min 4s\n"
     ]
    }
   ],
   "source": [
    "%time simm_SE9 = SE9.find_simmetries_and_projectivities_parallel(all_L_sets[0:2592])"
   ]
  },
  {
   "cell_type": "code",
   "execution_count": 19,
   "id": "2b25d59d",
   "metadata": {},
   "outputs": [
    {
     "name": "stdout",
     "output_type": "stream",
     "text": [
      "CPU times: user 1.42 s, sys: 132 ms, total: 1.55 s\n",
      "Wall time: 1min 6s\n"
     ]
    }
   ],
   "source": [
    "%time simm_SE10 = SE10.find_simmetries_and_projectivities_parallel(all_L_sets[0:2592])"
   ]
  },
  {
   "cell_type": "code",
   "execution_count": 20,
   "id": "d02d90d7",
   "metadata": {},
   "outputs": [
    {
     "name": "stdout",
     "output_type": "stream",
     "text": [
      "CPU times: user 1.47 s, sys: 130 ms, total: 1.6 s\n",
      "Wall time: 1min 4s\n"
     ]
    }
   ],
   "source": [
    "%time simm_SE18 = SE18.find_simmetries_and_projectivities_parallel(all_L_sets[0:2592])"
   ]
  },
  {
   "cell_type": "code",
   "execution_count": null,
   "id": "b3d4a6a3-936b-48e5-a961-7801449d6a59",
   "metadata": {},
   "outputs": [],
   "source": []
  }
 ],
 "metadata": {
  "kernelspec": {
   "display_name": "SageMath 9.4",
   "language": "sage",
   "name": "sagemath"
  },
  "language_info": {
   "codemirror_mode": {
    "name": "ipython",
    "version": 3
   },
   "file_extension": ".py",
   "mimetype": "text/x-python",
   "name": "python",
   "nbconvert_exporter": "python",
   "pygments_lexer": "ipython3",
   "version": "3.7.12"
  }
 },
 "nbformat": 4,
 "nbformat_minor": 5
}
