{
 "cells": [
  {
   "cell_type": "code",
   "execution_count": 6,
   "id": "be4bf08a-2cb2-4983-bbd1-f5fd3a47a31d",
   "metadata": {},
   "outputs": [],
   "source": [
    "load('Imports/Utility.sage', 'Imports/Point.sage', 'Imports/Line.sage', 'Imports/TritangentPlane.sage', 'Imports/Group.sage', 'Imports/Cubic.sage')"
   ]
  },
  {
   "cell_type": "code",
   "execution_count": 7,
   "id": "5f86d3c3-fd45-4f02-8bbf-ee43b37fcc98",
   "metadata": {},
   "outputs": [],
   "source": [
    "P.<x,y,z,t,b,c,d,e,f,l,m> = PolynomialRing(QQ)\n",
    "cubic_new = e*f*(2*x^2*y-2*x*y^2+x*z^2-x*z*t-y*t^2+y*z*t)+b*c*(x-t)*(x*z+y*t)+c*c*(z+t)*(y*t-x*z)+d*c*(y-z)*(x*z+y*t)+(e+f)*c*(x-y)*(y*t-x*z)\n",
    "sing_cubics = (-1) * (-c + f) * (-c + e) * c * (c + f) * (c + e) * (-e + f)^2 * (-c*d + c*f + e*f) * (-c*d + c*e + e*f) * (-c^2 - c*d + e*f) * (b*c - c*f + e*f) * (b*c - c*e + e*f) * (b*c - c*d + 2*e*f) * (b*c - c^2 + e*f) * (b*c^2 + c^2*d + b*c*f - 2*c^2*f - c*d*f + 2*e*f^2) * (b*c^2 + c^2*d + b*c*e - 2*c^2*e - c*d*e + 2*e^2*f) * (-b*c^3 - 2*b*c^2*d + c^3*d + b*c^2*e + c^2*d*e + b*c^2*f + c^2*d*f + 3*b*c*e*f - 4*c^2*e*f - 3*c*d*e*f + 4*e^2*f^2)\n",
    "line = Line([y, z])\n",
    "general_cubic = Cubic(cubic_new, line, sing_cubics)"
   ]
  },
  {
   "cell_type": "code",
   "execution_count": 8,
   "id": "19cc7aa7-32b3-492e-95d2-1d4f94c7b43f",
   "metadata": {},
   "outputs": [],
   "source": [
    "L_set_base = ('E1', 'G4', 'E2', 'G3', 'E3')"
   ]
  },
  {
   "cell_type": "code",
   "execution_count": 9,
   "id": "1c4712da-f016-4936-b46e-fb1590f6d276",
   "metadata": {},
   "outputs": [],
   "source": [
    "possible_L_sets = [(\"E2\", \"G4\", \"E5\", \"G3\", \"E3\"), (\"E2\", \"G4\", \"E5\", \"G3\", \"F14\"),\\\n",
    "           (\"E2\", \"G4\", \"E5\", \"G3\", \"F46\"),(\"E2\", \"G4\", \"E6\", \"G3\", \"E3\"), \\\n",
    "\t   (\"E2\", \"G4\", \"E6\", \"G3\", \"F14\"), (\"E2\", \"G4\", \"E6\", \"G3\", \"F45\"),\\\n",
    "           (\"E2\", \"G4\", \"F34\", \"G3\", \"F14\"), (\"E2\", \"G4\", \"F34\", \"G3\", \"F45\"),\\\n",
    "\t   (\"E2\", \"G4\", \"F34\", \"G3\", \"F46\")]             "
   ]
  },
  {
   "cell_type": "code",
   "execution_count": 10,
   "id": "9bc380a8-3ae4-4814-a168-2bd2fd426385",
   "metadata": {},
   "outputs": [
    {
     "name": "stdout",
     "output_type": "stream",
     "text": [
      "CPU times: user 49.1 s, sys: 10.5 ms, total: 49.1 s\n",
      "Wall time: 49.1 s\n"
     ]
    }
   ],
   "source": [
    "%%time \n",
    "L_set_ideals = []\n",
    "all_ideals = []\n",
    "for L_set in possible_L_sets:\n",
    "    proj = general_cubic.find_projectivity(L_set_base, L_set)\n",
    "    ideal = general_cubic.find_conditions_on_cubic(proj)\n",
    "    ideals = ideal.saturation(c)[0].saturation(c-f)[0].radical().primary_decomposition('gtz')\n",
    "    ideals = [ide for ide in ideals if not general_cubic.is_ideal_singular(ide)]\n",
    "    all_ideals += ideals\n",
    "    L_set_ideals.append([L_set, ideals])"
   ]
  },
  {
   "cell_type": "code",
   "execution_count": 12,
   "id": "24cfe804-dcd2-4cd0-a03e-59b113ff19af",
   "metadata": {},
   "outputs": [
    {
     "data": {
      "text/plain": [
       "[[('E2', 'G4', 'E5', 'G3', 'E3'),\n",
       "  [Ideal (e + f, 3*d^2 + 12*d*f + 16*f^2, 2*c + 3*d + 6*f, b + d + 4*f) of Multivariate Polynomial Ring in x, y, z, t, b, c, d, e, f, l, m over Rational Field]],\n",
       " [('E2', 'G4', 'E5', 'G3', 'F14'),\n",
       "  [Ideal (e^2 + 18*e*f + f^2, 2*d - e + 3*f, 4*c + e + f, b + e + f) of Multivariate Polynomial Ring in x, y, z, t, b, c, d, e, f, l, m over Rational Field]],\n",
       " [('E2', 'G4', 'E5', 'G3', 'F46'),\n",
       "  [Ideal (e + f, d^2 - 4*d*f - 16*f^2, 10*c + d - 2*f, b + d) of Multivariate Polynomial Ring in x, y, z, t, b, c, d, e, f, l, m over Rational Field]],\n",
       " [('E2', 'G4', 'E6', 'G3', 'E3'),\n",
       "  [Ideal (e + f, 3*d^2 - 12*d*f + 16*f^2, 2*c + 3*d - 6*f, b + d - 4*f) of Multivariate Polynomial Ring in x, y, z, t, b, c, d, e, f, l, m over Rational Field]],\n",
       " [('E2', 'G4', 'E6', 'G3', 'F14'),\n",
       "  [Ideal (e^2 + 18*e*f + f^2, 2*d + 3*e - f, 4*c + e + f, b + e + f) of Multivariate Polynomial Ring in x, y, z, t, b, c, d, e, f, l, m over Rational Field]],\n",
       " [('E2', 'G4', 'E6', 'G3', 'F45'),\n",
       "  [Ideal (e + f, d^2 + 4*d*f - 16*f^2, 10*c + d + 2*f, b + d) of Multivariate Polynomial Ring in x, y, z, t, b, c, d, e, f, l, m over Rational Field]],\n",
       " [('E2', 'G4', 'F34', 'G3', 'F14'),\n",
       "  [Ideal (e + f, d, 3*c^2 + f^2, b + d) of Multivariate Polynomial Ring in x, y, z, t, b, c, d, e, f, l, m over Rational Field]],\n",
       " [('E2', 'G4', 'F34', 'G3', 'F45'),\n",
       "  [Ideal (e^2 + 18*e*f + f^2, d + e + f, 4*c - e - f, 2*b + 3*e - f) of Multivariate Polynomial Ring in x, y, z, t, b, c, d, e, f, l, m over Rational Field]],\n",
       " [('E2', 'G4', 'F34', 'G3', 'F46'),\n",
       "  [Ideal (e^2 + 18*e*f + f^2, d + e + f, 4*c - e - f, 2*b - e + 3*f) of Multivariate Polynomial Ring in x, y, z, t, b, c, d, e, f, l, m over Rational Field]]]"
      ]
     },
     "execution_count": 12,
     "metadata": {},
     "output_type": "execute_result"
    }
   ],
   "source": [
    "L_set_ideals"
   ]
  },
  {
   "cell_type": "code",
   "execution_count": 14,
   "id": "92ca1933-05c4-447d-9eb9-6f509702a22a",
   "metadata": {},
   "outputs": [],
   "source": [
    "cubics = [general_cubic.reduce(ideal) for ideal in all_ideals]"
   ]
  },
  {
   "cell_type": "code",
   "execution_count": 15,
   "id": "2c87534a-9f2c-49ec-844e-b01563dfebab",
   "metadata": {},
   "outputs": [
    {
     "data": {
      "text/plain": [
       "[18, 10, 10, 18, 10, 10, 18, 10, 10]"
      ]
     },
     "execution_count": 15,
     "metadata": {},
     "output_type": "execute_result"
    }
   ],
   "source": [
    "[len(cubic.eckardt_points_labels) for cubic in cubics]"
   ]
  },
  {
   "cell_type": "code",
   "execution_count": null,
   "id": "7cfaf06e-2551-48fe-9a9a-2d5209f72654",
   "metadata": {},
   "outputs": [],
   "source": []
  }
 ],
 "metadata": {
  "kernelspec": {
   "display_name": "SageMath 9.4",
   "language": "sage",
   "name": "sagemath"
  },
  "language_info": {
   "codemirror_mode": {
    "name": "ipython",
    "version": 3
   },
   "file_extension": ".py",
   "mimetype": "text/x-python",
   "name": "python",
   "nbconvert_exporter": "python",
   "pygments_lexer": "ipython3",
   "version": "3.7.12"
  }
 },
 "nbformat": 4,
 "nbformat_minor": 5
}
