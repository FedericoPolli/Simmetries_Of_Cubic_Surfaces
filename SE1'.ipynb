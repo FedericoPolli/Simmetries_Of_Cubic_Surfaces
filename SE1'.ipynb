{
 "cells": [
  {
   "cell_type": "code",
   "execution_count": 1,
   "id": "13dd6b6a-bc7d-4edd-af6c-99d471bc540e",
   "metadata": {},
   "outputs": [],
   "source": [
    "load('Imports/Utility.sage', 'Imports/Point.sage', 'Imports/Line.sage', 'Imports/TritangentPlane.sage', 'Imports/Group.sage', 'Imports/Cubic.sage')\n",
    "import multiprocessing as mp\n",
    "import pickle"
   ]
  },
  {
   "cell_type": "code",
   "execution_count": 6,
   "id": "a63d0122-d2f3-4361-84c1-0e6aa92f1ab7",
   "metadata": {},
   "outputs": [
    {
     "data": {
      "text/plain": [
       "xx^4 - 2*xx^2 + 9"
      ]
     },
     "execution_count": 6,
     "metadata": {},
     "output_type": "execute_result"
    }
   ],
   "source": [
    "(sqrt(2)-I).minpoly('xx')"
   ]
  },
  {
   "cell_type": "code",
   "execution_count": 7,
   "id": "21967230-0942-4b52-a41a-b865769ef5ce",
   "metadata": {},
   "outputs": [],
   "source": [
    "var('xx')\n",
    "Q.<rad2_minus_i> = NumberField(xx^4 - 2*xx^2 + 9)"
   ]
  },
  {
   "cell_type": "code",
   "execution_count": 27,
   "id": "0f2f5331-66e4-4296-a421-160427d90c45",
   "metadata": {},
   "outputs": [],
   "source": [
    "P.<x,y,z,t,b,c,d,e,f,l,m> = PolynomialRing(QQ)\n",
    "cubic_new = e*f*(2*x^2*y-2*x*y^2+x*z^2-x*z*t-y*t^2+y*z*t)+b*c*(x-t)*(x*z+y*t)+c*c*(z+t)*(y*t-x*z)+d*c*(y-z)*(x*z+y*t)+(e+f)*c*(x-y)*(y*t-x*z)\n",
    "sing_cubics = (-1) * (-c + f) * (-c + e) * c * (c + f) * (c + e) * (-e + f)^2 * (-c*d + c*f + e*f) * (-c*d + c*e + e*f) * (-c^2 - c*d + e*f) * (b*c - c*f + e*f) * (b*c - c*e + e*f) * (b*c - c*d + 2*e*f) * (b*c - c^2 + e*f) * (b*c^2 + c^2*d + b*c*f - 2*c^2*f - c*d*f + 2*e*f^2) * (b*c^2 + c^2*d + b*c*e - 2*c^2*e - c*d*e + 2*e^2*f) * (-b*c^3 - 2*b*c^2*d + c^3*d + b*c^2*e + c^2*d*e + b*c^2*f + c^2*d*f + 3*b*c*e*f - 4*c^2*e*f - 3*c*d*e*f + 4*e^2*f^2)\n",
    "line = Line([y, z])\n",
    "general_cubic = Cubic(cubic_new, line, sing_cubics)\n",
    "SE1 = general_cubic.subs({b:-(c*c+e*f)/c})"
   ]
  },
  {
   "cell_type": "code",
   "execution_count": 28,
   "id": "043445dd-c397-4b60-acb6-97d53450aec8",
   "metadata": {},
   "outputs": [
    {
     "name": "stdout",
     "output_type": "stream",
     "text": [
      "CPU times: user 1.69 s, sys: 225 ms, total: 1.92 s\n",
      "Wall time: 11.8 s\n"
     ]
    },
    {
     "data": {
      "text/plain": [
       "576"
      ]
     },
     "execution_count": 28,
     "metadata": {},
     "output_type": "execute_result"
    }
   ],
   "source": [
    "%time adm_SE1 = SE1.find_admissible_projectivities()\n",
    "len(adm_SE1)"
   ]
  },
  {
   "cell_type": "code",
   "execution_count": 29,
   "id": "04df03fc-9a95-4ce6-9b1d-554da74dfc99",
   "metadata": {},
   "outputs": [
    {
     "name": "stdout",
     "output_type": "stream",
     "text": [
      "CPU times: user 1.9 s, sys: 165 ms, total: 2.07 s\n",
      "Wall time: 6.3 s\n"
     ]
    },
    {
     "data": {
      "text/plain": [
       "2"
      ]
     },
     "execution_count": 29,
     "metadata": {},
     "output_type": "execute_result"
    }
   ],
   "source": [
    "%time simm_SE1 = SE1.find_simmetries(adm_SE1)\n",
    "len(simm_SE1)"
   ]
  },
  {
   "cell_type": "code",
   "execution_count": 30,
   "id": "e8157c21-d101-43bb-ae94-b1b129cb9485",
   "metadata": {},
   "outputs": [
    {
     "data": {
      "text/plain": [
       "(2, 'C2')"
      ]
     },
     "execution_count": 30,
     "metadata": {},
     "output_type": "execute_result"
    }
   ],
   "source": [
    "lines_perms = []\n",
    "for simm in simm_SE1:\n",
    "    lines_perms.append(Permutation(SE1.apply_proj_to_lines(simm)).to_permutation_group_element())\n",
    "lines_perms_group = PermutationGroup(lines_perms)\n",
    "lines_perms_group.order(), lines_perms_group.structure_description()"
   ]
  },
  {
   "cell_type": "code",
   "execution_count": 31,
   "id": "a8f44793-5f1f-443e-84d8-bdaae18a9e36",
   "metadata": {},
   "outputs": [],
   "source": [
    "adm_perms = [from_labels_to_perm(label) for label in SE1.find_admissible_permutations()]\n",
    "M2_perm = lines_perms_group.gens_small()[0]"
   ]
  },
  {
   "cell_type": "code",
   "execution_count": 32,
   "id": "edffe6a8-f0e0-4bde-8b04-c8b7d311506e",
   "metadata": {},
   "outputs": [],
   "source": [
    "adm_perms_group = PermutationGroup(adm_perms)"
   ]
  },
  {
   "cell_type": "code",
   "execution_count": 33,
   "id": "2a4eb42f-c84b-4544-b11b-e9eac485b2a5",
   "metadata": {},
   "outputs": [
    {
     "data": {
      "text/plain": [
       "12"
      ]
     },
     "execution_count": 33,
     "metadata": {},
     "output_type": "execute_result"
    }
   ],
   "source": [
    "# find permutation of order 4 whose square is M2_perm\n",
    "possible_perms = []\n",
    "for perm in adm_perms_group:\n",
    "    if perm^2 == M2_perm and perm.order() == 4:\n",
    "        possible_perms.append(perm)\n",
    "len(possible_perms)"
   ]
  },
  {
   "cell_type": "code",
   "execution_count": 34,
   "id": "dfa2e2a4-3775-452c-a331-2f427497aad2",
   "metadata": {},
   "outputs": [],
   "source": [
    "possible_L_sets = [get_permuted_L_set(perm) for perm in possible_perms]\n",
    "L_set_base = ['E1', 'G4', 'E2', 'G3', 'E3']"
   ]
  },
  {
   "cell_type": "code",
   "execution_count": 35,
   "id": "9798b513-fab6-40f6-b9e4-390020fc9d3c",
   "metadata": {},
   "outputs": [],
   "source": [
    "possible_projs = [find_projectivity(SE1.get_L_set_in_plucker(L_set_base), SE1.get_L_set_in_plucker(L_set)) for L_set in possible_L_sets]\n",
    "M2 = [mat for mat in simm_SE1 if mat[0][0]!=1][0]\n",
    "identity_list = [0 for _ in range(16)]\n",
    "for i in {0,5,10,15}:\n",
    "    identity_list[i]=1\n",
    "possible_projs_squared = [proj^2 for proj in possible_projs]    "
   ]
  },
  {
   "cell_type": "code",
   "execution_count": 46,
   "id": "db4a7dc3-b4cd-4a5c-82f8-898573aaa49f",
   "metadata": {},
   "outputs": [],
   "source": [
    "proj = possible_projs_squared[-1]"
   ]
  },
  {
   "cell_type": "code",
   "execution_count": 47,
   "id": "7b42f5ad-0f8c-44c6-bce3-e0e611d9585b",
   "metadata": {},
   "outputs": [],
   "source": [
    "conds = list(set(matrix([proj.list(), M2.list()]).minors(2)))\n",
    "conds = [remove_sing_factors(el, SE1.sing_locus) for el in conds if el !=0]"
   ]
  },
  {
   "cell_type": "code",
   "execution_count": 48,
   "id": "7e988f26-fc70-4e98-be75-67136a628146",
   "metadata": {},
   "outputs": [],
   "source": [
    "mon = ((x+y+z+t)^3).monomials()\n",
    "sost = change_coord(proj)\n",
    "new_cubic = remove_sing_factors(SE1.eqn.subs(sost), SE1.sing_locus)    \n",
    "minor = list(set(matrix([[new_cubic.coefficient(mn) for mn in mon], [SE1.eqn.coefficient(mn) for mn in mon]]).minors(2)))\n",
    "minor = [remove_sing_factors(el, SE1.sing_locus) for el in minor if el !=0]"
   ]
  },
  {
   "cell_type": "code",
   "execution_count": 49,
   "id": "61a93842-b622-46d1-b690-96b4277c3bb1",
   "metadata": {},
   "outputs": [],
   "source": [
    "final_conds = list(set(conds+minor))"
   ]
  },
  {
   "cell_type": "code",
   "execution_count": 85,
   "id": "5d9f6ce3-709d-465e-980e-0a50348f8b5e",
   "metadata": {},
   "outputs": [],
   "source": [
    "gb = [remove_sing_factors(el, SE1.sing_locus) for el in P.ideal(final_conds).groebner_basis()]\n",
    "gbf = gb+[f]"
   ]
  },
  {
   "cell_type": "code",
   "execution_count": 86,
   "id": "47526561-11f7-4cc2-a358-4c8a2069a1da",
   "metadata": {},
   "outputs": [
    {
     "data": {
      "text/plain": [
       "[Ideal (f, c) of Multivariate Polynomial Ring in x, y, z, t, b, c, d, e, f, l, m over Rational Field,\n",
       " Ideal (f, c + 5*d - 10*e, 5*d^2 - 22*d*e + 25*e^2) of Multivariate Polynomial Ring in x, y, z, t, b, c, d, e, f, l, m over Rational Field]"
      ]
     },
     "execution_count": 86,
     "metadata": {},
     "output_type": "execute_result"
    }
   ],
   "source": [
    "ideals = P.ideal(gbf).radical().primary_decomposition()\n",
    "ideals"
   ]
  },
  {
   "cell_type": "code",
   "execution_count": 87,
   "id": "008cd2f2-9592-4788-a362-d1621d42f05b",
   "metadata": {},
   "outputs": [
    {
     "name": "stdout",
     "output_type": "stream",
     "text": [
      "CPU times: user 782 ms, sys: 4.07 ms, total: 786 ms\n",
      "Wall time: 789 ms\n"
     ]
    }
   ],
   "source": [
    "%%time\n",
    "sat_ideal = P.ideal(gb).saturation(P.ideal(f))[0]\n",
    "ideals += sat_ideal.radical().primary_decomposition()"
   ]
  },
  {
   "cell_type": "code",
   "execution_count": 88,
   "id": "3b568192-d3da-4bc6-a40f-7a3666f7c33d",
   "metadata": {},
   "outputs": [],
   "source": [
    "ideals = list(set(ideals))\n",
    "ideals = [ideal for ideal in ideals if SE1.sing_locus.value() not in ideal]"
   ]
  },
  {
   "cell_type": "code",
   "execution_count": 89,
   "id": "e4cbedad-4bc4-429e-ae4c-88bae8f41f39",
   "metadata": {},
   "outputs": [
    {
     "data": {
      "text/plain": [
       "[Ideal (f, c + 5*d - 10*e, 5*d^2 - 22*d*e + 25*e^2) of Multivariate Polynomial Ring in x, y, z, t, b, c, d, e, f, l, m over Rational Field,\n",
       " Ideal (3*c^2*d - 7*c^2*e + c*d*e - 5*c*e^2 + c^2*f + c*d*f - 2*c*e*f - d*e*f - 3*e^2*f - 5*c*f^2 - 3*e*f^2, 12*c^3 + 6*c*d^2 + 20*c^2*e - 8*c*d*e - 3*d^2*e + 34*c*e^2 - 6*d*e^2 - 15*e^3 + 16*c^2*f - 8*c*d*f - 3*d^2*f - 44*c*e*f - 4*d*e*f + 27*e^2*f + 46*c*f^2 - 6*d*f^2 + 15*e*f^2 - 15*f^3, 64*c*d*e^2 - 5*d^2*e^2 - 160*c*e^3 - 10*d*e^3 - 25*e^4 - 24*c*d^2*f - 32*c^2*e*f + 12*c*d*e*f + 6*d^2*e*f + 76*c*e^2*f - 18*d*e^2*f - 64*e^3*f - 8*c^2*f^2 - 60*c*d*f^2 + 7*d^2*f^2 + 48*c*e*f^2 + 30*d*e*f^2 - 50*e^2*f^2 - 44*c*f^3 + 14*d*f^3 + 64*e*f^3 + 35*f^4, 64*c^2*e^2 + 25*d^2*e^2 + 160*c*e^3 + 50*d*e^3 + 125*e^4 + 24*c*d^2*f + 96*c^2*e*f + 68*c*d*e*f + 18*d^2*e*f + 36*c*e^2*f + 58*d*e^2*f - 16*e^3*f + 40*c^2*f^2 + 108*c*d*f^2 + 13*d^2*f^2 + 80*c*e*f^2 + 42*d*e*f^2 + 10*e^2*f^2 + 124*c*f^3 + 26*d*f^3 + 16*e*f^3 + 65*f^4, 96*c*d^2*e - 33*d^2*e^2 - 576*c*e^3 - 66*d*e^3 - 165*e^4 - 24*c*d^2*f - 160*c^2*e*f + 28*c*d*e*f - 18*d^2*e*f - 68*c*e^2*f - 234*d*e^2*f - 96*e^3*f - 104*c^2*f^2 - 332*c*d*f^2 + 27*d^2*f^2 + 400*c*e*f^2 - 58*d*e*f^2 - 234*e^2*f^2 - 284*c*f^3 + 54*d*f^3 + 96*e*f^3 + 135*f^4, 192*c*d^3 - 96*d^3*e - 225*d^2*e^2 - 2976*c*e^3 - 546*d*e^3 - 165*e^4 + 72*c*d^2*f - 96*d^3*f - 928*c^2*e*f - 1508*c*d*e*f - 306*d^2*e*f + 2524*c*e^2*f - 330*d*e^2*f - 768*e^3*f - 104*c^2*f^2 - 332*c*d*f^2 - 261*d^2*f^2 - 1040*c*e*f^2 - 346*d*e*f^2 - 522*e^2*f^2 - 572*c*f^3 - 618*d*f^3 + 768*e*f^3 - 345*f^4, 160*d^3*e^2 + 16*d^2*e^3 + 512*c*e^4 + 192*d*e^4 - 1520*e^5 + 192*d^3*e*f + 119*d^2*e^2*f + 544*c*e^3*f - 306*d*e^3*f + 1267*e^4*f + 136*c*d^2*f^2 + 160*d^3*f^2 + 224*c^2*e*f^2 + 444*c*d*e*f^2 + 334*d^2*e*f^2 - 708*c*e^2*f^2 - 154*d*e^2*f^2 + 1376*e^3*f^2 + 88*c^2*f^3 + 660*c*d*f^3 + 339*d^2*f^3 - 336*c*e*f^3 + 534*d*e*f^3 + 102*e^2*f^3 + 612*c*f^4 + 838*d*f^4 - 1008*e*f^4 + 95*f^5) of Multivariate Polynomial Ring in x, y, z, t, b, c, d, e, f, l, m over Rational Field]"
      ]
     },
     "execution_count": 89,
     "metadata": {},
     "output_type": "execute_result"
    }
   ],
   "source": [
    "ideals"
   ]
  },
  {
   "cell_type": "code",
   "execution_count": 63,
   "id": "30c55bb1-4004-4148-aec2-32650479c889",
   "metadata": {},
   "outputs": [],
   "source": [
    "mat = matrix(4,4,[ideals[1].reduce(el) for el in proj.list()])"
   ]
  },
  {
   "cell_type": "code",
   "execution_count": 68,
   "id": "e8439a94-17ed-4f52-8b2e-ec9c9822ea9c",
   "metadata": {},
   "outputs": [
    {
     "data": {
      "text/plain": [
       "[0]"
      ]
     },
     "execution_count": 68,
     "metadata": {},
     "output_type": "execute_result"
    }
   ],
   "source": [
    "list(set([ideals[1].reduce(el) for el in matrix([mat.list(), M2.list()]).minors(2)]))"
   ]
  },
  {
   "cell_type": "code",
   "execution_count": 69,
   "id": "872d684a-fd99-432c-831d-e45aef28b92e",
   "metadata": {},
   "outputs": [
    {
     "data": {
      "text/plain": [
       "-x^2*z*c^2 - x*z^2*c^2 - x*y*t*c^2 + y*z*t*c^2 + 2*y*t^2*c^2 + x*y*z*c*d - x*z^2*c*d + y^2*t*c*d - y*z*t*c*d - x^2*z*c*e + x*y*z*c*e + x*y*t*c*e - y^2*t*c*e - x^2*z*c*f + x*y*z*c*f + x*y*t*c*f - y^2*t*c*f + 2*x^2*y*e*f - 2*x*y^2*e*f - x^2*z*e*f + x*z^2*e*f - x*y*t*e*f + y*z*t*e*f"
      ]
     },
     "execution_count": 69,
     "metadata": {},
     "output_type": "execute_result"
    }
   ],
   "source": [
    "SE1.reduce(ideals[1])"
   ]
  },
  {
   "cell_type": "code",
   "execution_count": 59,
   "id": "0da1792f-ddff-4483-b280-d4f59cdc067b",
   "metadata": {},
   "outputs": [
    {
     "data": {
      "text/plain": [
       "-x^2*z*c^2 - x*z^2*c^2 - x*y*t*c^2 + y*z*t*c^2 + 2*y*t^2*c^2 + x*y*z*c*d - x*z^2*c*d + y^2*t*c*d - y*z*t*c*d - x^2*z*c*e + x*y*z*c*e + x*y*t*c*e - y^2*t*c*e - x^2*z*c*f + x*y*z*c*f + x*y*t*c*f - y^2*t*c*f + 2*x^2*y*e*f - 2*x*y^2*e*f - x^2*z*e*f + x*z^2*e*f - x*y*t*e*f + y*z*t*e*f"
      ]
     },
     "execution_count": 59,
     "metadata": {},
     "output_type": "execute_result"
    }
   ],
   "source": [
    "SE1"
   ]
  },
  {
   "cell_type": "code",
   "execution_count": 72,
   "id": "9613128e-4e80-4e2d-a557-c5fb20b83de8",
   "metadata": {},
   "outputs": [
    {
     "name": "stdout",
     "output_type": "stream",
     "text": [
      "3*c^2*d - 7*c^2*e + c*d*e - 5*c*e^2 + c^2*f + c*d*f - 2*c*e*f - d*e*f - 3*e^2*f - 5*c*f^2 - 3*e*f^2\n",
      "\n",
      "12*c^3 + 6*c*d^2 + 20*c^2*e - 8*c*d*e - 3*d^2*e + 34*c*e^2 - 6*d*e^2 - 15*e^3 + 16*c^2*f - 8*c*d*f - 3*d^2*f - 44*c*e*f - 4*d*e*f + 27*e^2*f + 46*c*f^2 - 6*d*f^2 + 15*e*f^2 - 15*f^3\n",
      "\n",
      "64*c*d*e^2 - 5*d^2*e^2 - 160*c*e^3 - 10*d*e^3 - 25*e^4 - 24*c*d^2*f - 32*c^2*e*f + 12*c*d*e*f + 6*d^2*e*f + 76*c*e^2*f - 18*d*e^2*f - 64*e^3*f - 8*c^2*f^2 - 60*c*d*f^2 + 7*d^2*f^2 + 48*c*e*f^2 + 30*d*e*f^2 - 50*e^2*f^2 - 44*c*f^3 + 14*d*f^3 + 64*e*f^3 + 35*f^4\n",
      "\n",
      "64*c^2*e^2 + 25*d^2*e^2 + 160*c*e^3 + 50*d*e^3 + 125*e^4 + 24*c*d^2*f + 96*c^2*e*f + 68*c*d*e*f + 18*d^2*e*f + 36*c*e^2*f + 58*d*e^2*f - 16*e^3*f + 40*c^2*f^2 + 108*c*d*f^2 + 13*d^2*f^2 + 80*c*e*f^2 + 42*d*e*f^2 + 10*e^2*f^2 + 124*c*f^3 + 26*d*f^3 + 16*e*f^3 + 65*f^4\n",
      "\n",
      "96*c*d^2*e - 33*d^2*e^2 - 576*c*e^3 - 66*d*e^3 - 165*e^4 - 24*c*d^2*f - 160*c^2*e*f + 28*c*d*e*f - 18*d^2*e*f - 68*c*e^2*f - 234*d*e^2*f - 96*e^3*f - 104*c^2*f^2 - 332*c*d*f^2 + 27*d^2*f^2 + 400*c*e*f^2 - 58*d*e*f^2 - 234*e^2*f^2 - 284*c*f^3 + 54*d*f^3 + 96*e*f^3 + 135*f^4\n",
      "\n",
      "192*c*d^3 - 96*d^3*e - 225*d^2*e^2 - 2976*c*e^3 - 546*d*e^3 - 165*e^4 + 72*c*d^2*f - 96*d^3*f - 928*c^2*e*f - 1508*c*d*e*f - 306*d^2*e*f + 2524*c*e^2*f - 330*d*e^2*f - 768*e^3*f - 104*c^2*f^2 - 332*c*d*f^2 - 261*d^2*f^2 - 1040*c*e*f^2 - 346*d*e*f^2 - 522*e^2*f^2 - 572*c*f^3 - 618*d*f^3 + 768*e*f^3 - 345*f^4\n",
      "\n",
      "160*d^3*e^2 + 16*d^2*e^3 + 512*c*e^4 + 192*d*e^4 - 1520*e^5 + 192*d^3*e*f + 119*d^2*e^2*f + 544*c*e^3*f - 306*d*e^3*f + 1267*e^4*f + 136*c*d^2*f^2 + 160*d^3*f^2 + 224*c^2*e*f^2 + 444*c*d*e*f^2 + 334*d^2*e*f^2 - 708*c*e^2*f^2 - 154*d*e^2*f^2 + 1376*e^3*f^2 + 88*c^2*f^3 + 660*c*d*f^3 + 339*d^2*f^3 - 336*c*e*f^3 + 534*d*e*f^3 + 102*e^2*f^3 + 612*c*f^4 + 838*d*f^4 - 1008*e*f^4 + 95*f^5\n",
      "\n"
     ]
    }
   ],
   "source": [
    "for gen in ideals[1].gens():\n",
    "    print(gen)\n",
    "    print()"
   ]
  },
  {
   "cell_type": "code",
   "execution_count": 73,
   "id": "a5480510-1e88-4081-854c-bb26b24db954",
   "metadata": {},
   "outputs": [],
   "source": [
    "gen = ideals[1].gens()[0]"
   ]
  },
  {
   "cell_type": "code",
   "execution_count": null,
   "id": "7b618953-aed9-4b11-a553-3f3a35ee5d83",
   "metadata": {},
   "outputs": [],
   "source": []
  }
 ],
 "metadata": {
  "kernelspec": {
   "display_name": "SageMath 9.4",
   "language": "sage",
   "name": "sagemath"
  },
  "language_info": {
   "codemirror_mode": {
    "name": "ipython",
    "version": 3
   },
   "file_extension": ".py",
   "mimetype": "text/x-python",
   "name": "python",
   "nbconvert_exporter": "python",
   "pygments_lexer": "ipython3",
   "version": "3.7.12"
  }
 },
 "nbformat": 4,
 "nbformat_minor": 5
}
