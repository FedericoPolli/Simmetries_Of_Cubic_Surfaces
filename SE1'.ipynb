{
 "cells": [
  {
   "cell_type": "code",
   "execution_count": 1,
   "id": "13dd6b6a-bc7d-4edd-af6c-99d471bc540e",
   "metadata": {},
   "outputs": [],
   "source": [
    "load('Imports/Utility.sage', 'Imports/Point.sage', 'Imports/Line.sage', 'Imports/TritangentPlane.sage', 'Imports/Group.sage', 'Imports/Cubic.sage')\n",
    "import multiprocessing as mp\n",
    "import pickle"
   ]
  },
  {
   "cell_type": "code",
   "execution_count": 2,
   "id": "21967230-0942-4b52-a41a-b865769ef5ce",
   "metadata": {},
   "outputs": [],
   "source": [
    "var('xx')\n",
    "Q.<ii> = NumberField(xx^2 + 1)"
   ]
  },
  {
   "cell_type": "code",
   "execution_count": 3,
   "id": "0f2f5331-66e4-4296-a421-160427d90c45",
   "metadata": {},
   "outputs": [],
   "source": [
    "P.<x,y,z,t,b,c,d,e,f,l,m> = PolynomialRing(Q)\n",
    "cubic_new = e*f*(2*x^2*y-2*x*y^2+x*z^2-x*z*t-y*t^2+y*z*t)+b*c*(x-t)*(x*z+y*t)+c*c*(z+t)*(y*t-x*z)+d*c*(y-z)*(x*z+y*t)+(e+f)*c*(x-y)*(y*t-x*z)\n",
    "sing_cubics = (-1) * (-c + f) * (-c + e) * c * (c + f) * (c + e) * (-e + f) * (-c*d + c*f + e*f) * (-c*d + c*e + e*f) * (-c^2 - c*d + e*f) * (b*c - c*f + e*f) * (b*c - c*e + e*f) * (b*c - c*d + 2*e*f) * (b*c - c^2 + e*f) * (b*c^2 + c^2*d + b*c*f - 2*c^2*f - c*d*f + 2*e*f^2) * (b*c^2 + c^2*d + b*c*e - 2*c^2*e - c*d*e + 2*e^2*f) * (-b*c^3 - 2*b*c^2*d + c^3*d + b*c^2*e + c^2*d*e + b*c^2*f + c^2*d*f + 3*b*c*e*f - 4*c^2*e*f - 3*c*d*e*f + 4*e^2*f^2)\n",
    "line = Line([y, z])\n",
    "general_cubic = Cubic(cubic_new, line, sing_cubics)\n",
    "SE1 = general_cubic.subs({b:-(c*c+e*f)/c})"
   ]
  },
  {
   "cell_type": "code",
   "execution_count": 4,
   "id": "d0a536ee-9abe-4ed5-abec-b2a70f56a8e4",
   "metadata": {},
   "outputs": [
    {
     "name": "stdout",
     "output_type": "stream",
     "text": [
      "CPU times: user 8.83 s, sys: 243 ms, total: 9.07 s\n",
      "Wall time: 19.8 s\n"
     ]
    },
    {
     "data": {
      "text/plain": [
       "576"
      ]
     },
     "execution_count": 4,
     "metadata": {},
     "output_type": "execute_result"
    }
   ],
   "source": [
    "%time adm_SE1 = SE1.find_admissible_projectivities()\n",
    "len(adm_SE1)"
   ]
  },
  {
   "cell_type": "code",
   "execution_count": 5,
   "id": "d6b986ae-92c6-4023-98f7-cee825d2df8b",
   "metadata": {},
   "outputs": [
    {
     "name": "stdout",
     "output_type": "stream",
     "text": [
      "CPU times: user 4.51 s, sys: 181 ms, total: 4.69 s\n",
      "Wall time: 22.9 s\n"
     ]
    },
    {
     "data": {
      "text/plain": [
       "2"
      ]
     },
     "execution_count": 5,
     "metadata": {},
     "output_type": "execute_result"
    }
   ],
   "source": [
    "%time simm_SE1 = SE1.find_simmetries(adm_SE1)\n",
    "len(simm_SE1)"
   ]
  },
  {
   "cell_type": "code",
   "execution_count": 6,
   "id": "8125990d-b6dd-45c8-a546-ae47d4fc33fd",
   "metadata": {},
   "outputs": [],
   "source": [
    "with open('all_L_sets.pickle', 'rb') as fil:\n",
    "    all_L_sets = pickle.load(fil)"
   ]
  },
  {
   "cell_type": "code",
   "execution_count": 7,
   "id": "775e4ab6-748d-490e-bebb-c0d1e62ec0bc",
   "metadata": {},
   "outputs": [],
   "source": [
    "L_set_base = ('E1', 'G4', 'E2', 'G3', 'E3')\n",
    "possible_L_sets = [L_set for L_set in all_L_sets if L_set[0:3] == ('E1', 'G4', 'E3')]"
   ]
  },
  {
   "cell_type": "code",
   "execution_count": 8,
   "id": "d6a0772b-996a-4d2d-a800-bb589fdabd77",
   "metadata": {},
   "outputs": [
    {
     "name": "stdout",
     "output_type": "stream",
     "text": [
      "CPU times: user 41.7 s, sys: 42.2 ms, total: 41.8 s\n",
      "Wall time: 41.8 s\n"
     ]
    }
   ],
   "source": [
    "%time L_set_ideals, all_ideals = SE1.find_conditions_on_L_sets(possible_L_sets, \"eck\")"
   ]
  },
  {
   "cell_type": "code",
   "execution_count": 9,
   "id": "02cf4b1e-7483-424e-9ae9-3a2cdbd48744",
   "metadata": {},
   "outputs": [
    {
     "data": {
      "text/plain": [
       "[[('E1', 'G4', 'E3', 'G6', 'E6'), []],\n",
       " [('E1', 'G4', 'E3', 'G6', 'F45'), []],\n",
       " [('E1', 'G4', 'E3', 'G6', 'F24'),\n",
       "  [Ideal (4*c + (-ii)*d + (ii)*e + (-ii + 2)*f, 5*d^2 + (-4*ii - 2)*d*e + (4*ii - 3)*e^2 + (8*ii - 6)*d*f + (36*ii + 38)*e*f + (-24*ii - 7)*f^2) of Multivariate Polynomial Ring in x, y, z, t, b, c, d, e, f, l, m over Number Field in ii with defining polynomial xx^2 + 1,\n",
       "   Ideal (4*c + (ii)*d + (-ii)*e + (ii + 2)*f, 5*d^2 + (4*ii - 2)*d*e + (-4*ii - 3)*e^2 + (-8*ii - 6)*d*f + (-36*ii + 38)*e*f + (24*ii - 7)*f^2) of Multivariate Polynomial Ring in x, y, z, t, b, c, d, e, f, l, m over Number Field in ii with defining polynomial xx^2 + 1]],\n",
       " [('E1', 'G4', 'E3', 'F13', 'E6'), []],\n",
       " [('E1', 'G4', 'E3', 'F13', 'E5'), []],\n",
       " [('E1', 'G4', 'E3', 'F13', 'E2'), []],\n",
       " [('E1', 'G4', 'E3', 'G5', 'F46'), []],\n",
       " [('E1', 'G4', 'E3', 'G5', 'E5'), []],\n",
       " [('E1', 'G4', 'E3', 'G5', 'F24'),\n",
       "  [Ideal (4*c + (-ii)*d + (-ii + 2)*e + (ii)*f, 5*d^2 + (8*ii - 6)*d*e + (-24*ii - 7)*e^2 + (-4*ii - 2)*d*f + (36*ii + 38)*e*f + (4*ii - 3)*f^2) of Multivariate Polynomial Ring in x, y, z, t, b, c, d, e, f, l, m over Number Field in ii with defining polynomial xx^2 + 1,\n",
       "   Ideal (4*c + (ii)*d + (ii + 2)*e + (-ii)*f, 5*d^2 + (-8*ii - 6)*d*e + (24*ii - 7)*e^2 + (4*ii - 2)*d*f + (-36*ii + 38)*e*f + (-4*ii - 3)*f^2) of Multivariate Polynomial Ring in x, y, z, t, b, c, d, e, f, l, m over Number Field in ii with defining polynomial xx^2 + 1]],\n",
       " [('E1', 'G4', 'E3', 'G2', 'F46'), []],\n",
       " [('E1', 'G4', 'E3', 'G2', 'F45'), []],\n",
       " [('E1', 'G4', 'E3', 'G2', 'E2'), []]]"
      ]
     },
     "execution_count": 9,
     "metadata": {},
     "output_type": "execute_result"
    }
   ],
   "source": [
    "L_set_ideals"
   ]
  },
  {
   "cell_type": "code",
   "execution_count": 10,
   "id": "5d0515a2-08ea-4927-9df5-d1d73ec7e5cc",
   "metadata": {},
   "outputs": [
    {
     "name": "stdout",
     "output_type": "stream",
     "text": [
      "[0, 0]\n",
      "[0, 0]\n",
      "[0, 0]\n",
      "[0, 0]\n"
     ]
    }
   ],
   "source": [
    "ideales = [_ for i in range(len(all_ideals))]\n",
    "e_sosts = [_ for i in range(len(all_ideals))]\n",
    "d_sosts = [_ for i in range(len(all_ideals))]\n",
    "for i in range(len(all_ideals)):\n",
    "    ideales[i] = all_ideals[i]\n",
    "    poly_e = ideales[i].gens()[0]\n",
    "    e_sosts[i] = {e: -(poly_e-poly_e.coefficient(e)*e)/poly_e.coefficient(e)}\n",
    "    poly_d = [gen for gen in ideales[i].subs(e_sosts[i]).gens() if gen !=0][0]\n",
    "    d_sosts[i] = {d:-(poly_d-poly_d.coefficient(d)*d)/poly_d.coefficient(d)}\n",
    "    print([gen.subs(e_sosts[i]).subs(d_sosts[i]) for gen in ideales[i].gens()])"
   ]
  },
  {
   "cell_type": "code",
   "execution_count": 11,
   "id": "109ba5fe-c168-4bdd-9018-1d803ff36e68",
   "metadata": {},
   "outputs": [],
   "source": [
    "cubics = [SE1.subs(e_sosts[i]).subs(d_sosts[i]) for i in range(len(ideales))]\n",
    "main_cubic = cubics[0]\n",
    "L_sets = [SE1.L_set_base]\n",
    "for L_set in [get_permuted_L_set(perm) for perm in SE1.find_admissible_permutations()]:\n",
    "    if L_set not in L_sets:\n",
    "        L_sets.append(L_set)"
   ]
  },
  {
   "cell_type": "code",
   "execution_count": 12,
   "id": "a3ffc06d-6467-4265-9f6e-c807e8336071",
   "metadata": {},
   "outputs": [
    {
     "name": "stdout",
     "output_type": "stream",
     "text": [
      "('E1', 'G4', 'E2', 'G3', 'E3') {c: -c, f: -f}\n",
      "True\n",
      "('E1', 'G4', 'E2', 'G6', 'F34') {c: (-ii)*c - f, f: -c + (-ii)*f}\n",
      "True\n",
      "('E1', 'G4', 'E2', 'G3', 'E3') {c: (2*ii + 1)*c + (-2*ii - 1)*f, f: -5*c + (4*ii - 3)*f}\n",
      "True\n",
      "('E1', 'G4', 'E2', 'G6', 'F34') {c: (2*ii + 1)*c + f, f: -c + (2*ii - 1)*f}\n",
      "True\n",
      "CPU times: user 10.3 s, sys: 52.1 ms, total: 10.4 s\n",
      "Wall time: 10.4 s\n"
     ]
    }
   ],
   "source": [
    "%%time\n",
    "for cubic in cubics:\n",
    "    L_set, sost = main_cubic.find_projective_equivalence(cubic, L_sets, [c,f])\n",
    "    print(L_set, sost)\n",
    "    proj = cubic.find_projectivity(cubic.L_set_base, L_set)[0]\n",
    "    print(main_cubic == cubic.subs(change_coordinates(proj)).subs(sost))"
   ]
  },
  {
   "cell_type": "code",
   "execution_count": 13,
   "id": "d977d961-5d6c-41b5-bdb5-688ca3cb1173",
   "metadata": {},
   "outputs": [],
   "source": [
    "SE1_1 = main_cubic"
   ]
  },
  {
   "cell_type": "code",
   "execution_count": 14,
   "id": "043445dd-c397-4b60-acb6-97d53450aec8",
   "metadata": {},
   "outputs": [
    {
     "name": "stdout",
     "output_type": "stream",
     "text": [
      "CPU times: user 2.87 s, sys: 189 ms, total: 3.06 s\n",
      "Wall time: 20.9 s\n"
     ]
    },
    {
     "data": {
      "text/plain": [
       "576"
      ]
     },
     "execution_count": 14,
     "metadata": {},
     "output_type": "execute_result"
    }
   ],
   "source": [
    "%time adm_SE1_1 = SE1_1.find_admissible_projectivities()\n",
    "len(adm_SE1_1)"
   ]
  },
  {
   "cell_type": "code",
   "execution_count": 15,
   "id": "04df03fc-9a95-4ce6-9b1d-554da74dfc99",
   "metadata": {},
   "outputs": [
    {
     "name": "stdout",
     "output_type": "stream",
     "text": [
      "CPU times: user 1.53 s, sys: 188 ms, total: 1.72 s\n",
      "Wall time: 7.49 s\n"
     ]
    },
    {
     "data": {
      "text/plain": [
       "4"
      ]
     },
     "execution_count": 15,
     "metadata": {},
     "output_type": "execute_result"
    }
   ],
   "source": [
    "%time simm_SE1_1 = SE1_1.find_simmetries(adm_SE1_1)\n",
    "len(simm_SE1_1)"
   ]
  },
  {
   "cell_type": "code",
   "execution_count": 16,
   "id": "e8157c21-d101-43bb-ae94-b1b129cb9485",
   "metadata": {},
   "outputs": [
    {
     "data": {
      "text/plain": [
       "(4, 'C4')"
      ]
     },
     "execution_count": 16,
     "metadata": {},
     "output_type": "execute_result"
    }
   ],
   "source": [
    "lines_perms = [Permutation(SE1_1.apply_proj_to_lines(simm[0])).to_permutation_group_element() for simm in simm_SE1_1]\n",
    "lines_perms_group = PermutationGroup(lines_perms)\n",
    "lines_perms_group.order(), lines_perms_group.structure_description()"
   ]
  },
  {
   "cell_type": "code",
   "execution_count": 17,
   "id": "d7faecc5-0cd5-4262-867b-eeba22fef5d4",
   "metadata": {},
   "outputs": [
    {
     "data": {
      "text/plain": [
       "[(2,3,19,22)(4,21,7,23)(5,26,25,6)(8,16,13,11)(9,12,14,17)(18,24,27,20)]"
      ]
     },
     "execution_count": 17,
     "metadata": {},
     "output_type": "execute_result"
    }
   ],
   "source": [
    "lines_perms_group.gens_small()"
   ]
  },
  {
   "cell_type": "code",
   "execution_count": 18,
   "id": "7b618953-aed9-4b11-a553-3f3a35ee5d83",
   "metadata": {},
   "outputs": [
    {
     "data": {
      "text/plain": [
       "[('E1', 'G4', 'E3', 'G6', 'F24', 'F46')]"
      ]
     },
     "execution_count": 18,
     "metadata": {},
     "output_type": "execute_result"
    }
   ],
   "source": [
    "[get_permuted_extended_L_set(perm) for perm in lines_perms_group.gens_small()]"
   ]
  },
  {
   "cell_type": "code",
   "execution_count": 19,
   "id": "5efb70ff-4935-4372-b767-d8c69a464302",
   "metadata": {},
   "outputs": [
    {
     "data": {
      "text/plain": [
       "[('E1', 'G4', 'E3', 'G6', 'F24', 'F46'),\n",
       " ('E1', 'G4', 'F34', 'F16', 'E2', 'E6')]"
      ]
     },
     "execution_count": 19,
     "metadata": {},
     "output_type": "execute_result"
    }
   ],
   "source": [
    "[get_permuted_extended_L_set(perm) for perm in lines_perms_group.gens() if perm.order()==4]"
   ]
  },
  {
   "cell_type": "code",
   "execution_count": 20,
   "id": "0c60b809-9398-4a7e-af22-16edebac2dbc",
   "metadata": {},
   "outputs": [
    {
     "data": {
      "text/plain": [
       "[(),\n",
       " (2,3,19,22)(4,21,7,23)(5,26,25,6)(8,16,13,11)(9,12,14,17)(18,24,27,20),\n",
       " (2,19)(3,22)(4,7)(5,25)(6,26)(8,13)(9,14)(11,16)(12,17)(18,27)(20,24)(21,23),\n",
       " (2,22,19,3)(4,23,7,21)(5,6,25,26)(8,11,13,16)(9,17,14,12)(18,20,27,24)]"
      ]
     },
     "execution_count": 20,
     "metadata": {},
     "output_type": "execute_result"
    }
   ],
   "source": [
    "lines_perms_group.gens()"
   ]
  },
  {
   "cell_type": "code",
   "execution_count": null,
   "id": "fc408731-2dc9-4d2a-abac-927d47446c8e",
   "metadata": {},
   "outputs": [],
   "source": []
  }
 ],
 "metadata": {
  "kernelspec": {
   "display_name": "SageMath 9.4",
   "language": "sage",
   "name": "sagemath"
  },
  "language_info": {
   "codemirror_mode": {
    "name": "ipython",
    "version": 3
   },
   "file_extension": ".py",
   "mimetype": "text/x-python",
   "name": "python",
   "nbconvert_exporter": "python",
   "pygments_lexer": "ipython3",
   "version": "3.7.12"
  }
 },
 "nbformat": 4,
 "nbformat_minor": 5
}
