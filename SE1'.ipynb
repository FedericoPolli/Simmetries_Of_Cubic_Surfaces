{
 "cells": [
  {
   "cell_type": "code",
   "execution_count": 1,
   "id": "58320e02-53d1-4aa8-9435-b12c34877bd1",
   "metadata": {},
   "outputs": [],
   "source": [
    "load('Imports/Utility.sage', 'Imports/Point.sage', 'Imports/Line.sage', 'Imports/Tritangent_plane.sage', 'Imports/Group.sage', 'Imports/Cubic.sage')\n",
    "import multiprocessing as mp\n",
    "import pickle"
   ]
  },
  {
   "cell_type": "code",
   "execution_count": 2,
   "id": "21967230-0942-4b52-a41a-b865769ef5ce",
   "metadata": {},
   "outputs": [],
   "source": [
    "var('xx')\n",
    "Q.<i> = NumberField(xx^2+1)"
   ]
  },
  {
   "cell_type": "code",
   "execution_count": 3,
   "id": "5ed78749-98c1-4b4b-93a0-936bbe48e5c3",
   "metadata": {},
   "outputs": [],
   "source": [
    "P.<x,y,z,t,b,c,d,e,f,l,m> = PolynomialRing(Q)"
   ]
  },
  {
   "cell_type": "code",
   "execution_count": 4,
   "id": "3e2fe0b5-1ebd-4851-a5ef-2dd9d17b7dc6",
   "metadata": {},
   "outputs": [],
   "source": [
    "cubic_new = e*f*(2*x^2*y-2*x*y^2+x*z^2-x*z*t-y*t^2+y*z*t)+b*c*(x-t)*(x*z+y*t)+c*c*(z+t)*(y*t-x*z)+d*c*(y-z)*(x*z+y*t)+(e+f)*c*(x-y)*(y*t-x*z)"
   ]
  },
  {
   "cell_type": "code",
   "execution_count": 5,
   "id": "a41eb624-67cc-4e8e-a0da-c788de4b2d50",
   "metadata": {},
   "outputs": [],
   "source": [
    "sing_cubics = (-1) * (-c + f) * (-c + e) * c * (c + f) * (c + e) * (-e + f)^2 * (-c*d + c*f + e*f) * (-c*d + c*e + e*f) * (-c^2 - c*d + e*f) * (b*c - c*f + e*f) * (b*c - c*e + e*f) * (b*c - c*d + 2*e*f) * (b*c - c^2 + e*f) * (b*c^2 + c^2*d + b*c*f - 2*c^2*f - c*d*f + 2*e*f^2) * (b*c^2 + c^2*d + b*c*e - 2*c^2*e - c*d*e + 2*e^2*f) * (-b*c^3 - 2*b*c^2*d + c^3*d + b*c^2*e + c^2*d*e + b*c^2*f + c^2*d*f + 3*b*c*e*f - 4*c^2*e*f - 3*c*d*e*f + 4*e^2*f^2)"
   ]
  },
  {
   "cell_type": "code",
   "execution_count": 6,
   "id": "38181a6a-092f-4055-83a6-ed36cc76404a",
   "metadata": {},
   "outputs": [],
   "source": [
    "line = Line([y, z])"
   ]
  },
  {
   "cell_type": "code",
   "execution_count": 7,
   "id": "8766e87d-8662-4952-9be5-5725298d72c5",
   "metadata": {},
   "outputs": [],
   "source": [
    "general_cubic = Cubic(cubic_new, line, sing_cubics)"
   ]
  },
  {
   "cell_type": "code",
   "execution_count": 8,
   "id": "be0c1a4d-7f9c-4ded-ada9-44749d011496",
   "metadata": {},
   "outputs": [],
   "source": [
    "SE1 = general_cubic.subs({b:-(c*c+e*f)/c})"
   ]
  },
  {
   "cell_type": "code",
   "execution_count": 9,
   "id": "6c09bf33-861e-4f08-8a01-8f1cd46f35c2",
   "metadata": {},
   "outputs": [
    {
     "name": "stdout",
     "output_type": "stream",
     "text": [
      "CPU times: user 7.29 s, sys: 145 ms, total: 7.43 s\n",
      "Wall time: 16.4 s\n"
     ]
    }
   ],
   "source": [
    "%time adm_SE1 = SE1.find_admissible_projectivities()"
   ]
  },
  {
   "cell_type": "code",
   "execution_count": 10,
   "id": "20fadd59-de6b-4d4a-9dbf-39de94506580",
   "metadata": {},
   "outputs": [
    {
     "data": {
      "text/plain": [
       "576"
      ]
     },
     "execution_count": 10,
     "metadata": {},
     "output_type": "execute_result"
    }
   ],
   "source": [
    "len(adm_SE1)"
   ]
  },
  {
   "cell_type": "code",
   "execution_count": 11,
   "id": "39c972e1-420f-4a36-b908-f5ec1b6ddec8",
   "metadata": {},
   "outputs": [
    {
     "name": "stdout",
     "output_type": "stream",
     "text": [
      "CPU times: user 2.85 s, sys: 149 ms, total: 3 s\n",
      "Wall time: 21.7 s\n"
     ]
    }
   ],
   "source": [
    "%time simm_SE1 = SE1.find_simmetries(adm_SE1)"
   ]
  },
  {
   "cell_type": "code",
   "execution_count": 12,
   "id": "b2ad2377-f8b4-47e5-a65f-3f8b3834ca52",
   "metadata": {},
   "outputs": [
    {
     "data": {
      "text/plain": [
       "2"
      ]
     },
     "execution_count": 12,
     "metadata": {},
     "output_type": "execute_result"
    }
   ],
   "source": [
    "len(simm_SE1)"
   ]
  },
  {
   "cell_type": "code",
   "execution_count": 13,
   "id": "a5539864-0e72-45b7-820b-b70feb9ea293",
   "metadata": {},
   "outputs": [],
   "source": [
    "adm_perm = SE1.find_admissible_permutations()\n",
    "keys = list(SE1.cl_lines.keys())"
   ]
  },
  {
   "cell_type": "code",
   "execution_count": 14,
   "id": "9ffc168a-2a50-493f-a5bd-2d77bf9361f3",
   "metadata": {},
   "outputs": [
    {
     "data": {
      "text/plain": [
       "1152"
      ]
     },
     "execution_count": 14,
     "metadata": {},
     "output_type": "execute_result"
    }
   ],
   "source": [
    "len(adm_perm)"
   ]
  },
  {
   "cell_type": "code",
   "execution_count": 15,
   "id": "fe239150-a732-43b6-9511-e352138fa4a0",
   "metadata": {},
   "outputs": [
    {
     "name": "stdout",
     "output_type": "stream",
     "text": [
      "(2,19)(3,22)(4,7)(5,25)(6,26)(8,13)(9,14)(11,16)(12,17)(18,27)(20,24)(21,23)\n"
     ]
    }
   ],
   "source": [
    "M2 = [mat for mat in simm_SE1 if mat != matrix.identity(4)][0]\n",
    "M2_perm = Permutation(apply_proj_to_lines(M2, list(SE1.cl_lines.values()))).to_permutation_group_element()\n",
    "print(M2_perm)"
   ]
  },
  {
   "cell_type": "code",
   "execution_count": 16,
   "id": "1bc8369e-c990-4bad-ab5e-82eee248988d",
   "metadata": {},
   "outputs": [],
   "source": [
    "perms_lines = []\n",
    "for perm in adm_perm:\n",
    "    perms_lines.append(Permutation([perm.index(label)+1 for label in keys]).to_cycles())"
   ]
  },
  {
   "cell_type": "code",
   "execution_count": 17,
   "id": "e7867d65-d44f-481a-a007-aed7c2423bc2",
   "metadata": {},
   "outputs": [],
   "source": [
    "Gr = PermutationGroup(perms_lines)"
   ]
  },
  {
   "cell_type": "code",
   "execution_count": 18,
   "id": "9fc2a896-232f-4245-b9df-694886a6d9f3",
   "metadata": {},
   "outputs": [
    {
     "data": {
      "text/plain": [
       "1152"
      ]
     },
     "execution_count": 18,
     "metadata": {},
     "output_type": "execute_result"
    }
   ],
   "source": [
    "Gr.order()"
   ]
  },
  {
   "cell_type": "code",
   "execution_count": 19,
   "id": "c4c1598b-da41-40f5-87dd-be61665d64c0",
   "metadata": {},
   "outputs": [
    {
     "data": {
      "text/plain": [
       "2"
      ]
     },
     "execution_count": 19,
     "metadata": {},
     "output_type": "execute_result"
    }
   ],
   "source": [
    "M2_perm.order()"
   ]
  },
  {
   "cell_type": "code",
   "execution_count": 20,
   "id": "33a20c56-02b1-4fe4-9dc1-38723ce36d26",
   "metadata": {},
   "outputs": [],
   "source": [
    "el_order_4 = []\n",
    "for el in Gr.list():\n",
    "    iden = Gr.identity()\n",
    "    if el^2 == M2_perm and el^3 != iden and el^4 == iden:\n",
    "        el_order_4.append(el)"
   ]
  },
  {
   "cell_type": "code",
   "execution_count": 21,
   "id": "4d940a4b-7b5c-42be-a936-0f2ea4a7df4e",
   "metadata": {},
   "outputs": [
    {
     "data": {
      "text/plain": [
       "12"
      ]
     },
     "execution_count": 21,
     "metadata": {},
     "output_type": "execute_result"
    }
   ],
   "source": [
    "len(el_order_4)"
   ]
  },
  {
   "cell_type": "code",
   "execution_count": 22,
   "id": "af910142-f95d-456b-861e-f67b2a19aead",
   "metadata": {},
   "outputs": [
    {
     "name": "stdout",
     "output_type": "stream",
     "text": [
      "['E1', 'G4', 'E5', 'F15', 'E6', 'F24']\n",
      "['E1', 'G4', 'F45', 'G5', 'F46', 'E2']\n",
      "['E1', 'G4', 'E6', 'F16', 'E5', 'F34']\n",
      "['E1', 'G4', 'F46', 'G6', 'F45', 'E3']\n",
      "['E1', 'G4', 'E3', 'G6', 'F24', 'F46']\n",
      "['E1', 'G4', 'F34', 'F16', 'E2', 'E6']\n",
      "['E1', 'G4', 'E5', 'G2', 'F46', 'F24']\n",
      "['E1', 'G4', 'F45', 'F12', 'E6', 'E2']\n",
      "['E1', 'G4', 'E3', 'G5', 'F24', 'E6']\n",
      "['E1', 'G4', 'F34', 'F15', 'E2', 'F46']\n",
      "['E1', 'G4', 'E6', 'G2', 'F45', 'E3']\n",
      "['E1', 'G4', 'F46', 'F12', 'E5', 'F34']\n"
     ]
    }
   ],
   "source": [
    "labels_el_order_4 = [from_perm_to_labels(el) for el in el_order_4]\n",
    "for perm in labels_el_order_4:\n",
    "    print([perm[keys.index(label)] for label in ['E1', 'G4', 'E2', 'G3', 'E3', 'E5']])"
   ]
  },
  {
   "cell_type": "code",
   "execution_count": 23,
   "id": "ca903967-197a-4b07-b388-9ac9473c2cec",
   "metadata": {},
   "outputs": [],
   "source": [
    "projs = SE1.find_admissible_projectivities(labels_el_order_4)"
   ]
  },
  {
   "cell_type": "code",
   "execution_count": 24,
   "id": "5b2444b3-f0f2-437a-bd83-182ee66926a9",
   "metadata": {},
   "outputs": [
    {
     "data": {
      "text/plain": [
       "12"
      ]
     },
     "execution_count": 24,
     "metadata": {},
     "output_type": "execute_result"
    }
   ],
   "source": [
    "len(projs)"
   ]
  },
  {
   "cell_type": "code",
   "execution_count": 25,
   "id": "e077d9e6-d1a2-40a7-bde6-333230c1537a",
   "metadata": {},
   "outputs": [],
   "source": [
    "def find_conditions_for_subfamilies(cubic, projectivities, simmetries):\n",
    "    mon = ((x+y+z+t)^3).monomials()\n",
    "    conditions = []\n",
    "    sing_cubics_factored = cubic.sing_cubic\n",
    "    for M in [proj for proj in projectivities if proj not in simmetries]:\n",
    "        print(projectivities.index(M))\n",
    "        sost = change_coord(M)\n",
    "        new_cubic = remove_sing_factors(cubic.eqn.subs(sost), sing_cubics_factored)    \n",
    "        minor = list(set(matrix([[new_cubic.coefficient(mn) for mn in mon], [cubic.eqn.coefficient(mn) for mn in mon]]).minors(2)))\n",
    "        minor = [remove_sing_factors(el, sing_cubics_factored) for el in minor if el !=0]\n",
    "        ideale = cubic.P.ideal(minor)\n",
    "        new_ideals = get_valid_ideals(ideale, cubic, sing_cubics_factored)\n",
    "        for ideal in new_ideals:            \n",
    "            prim_deco2 = (ideale + ideal).radical().primary_decomposition()\n",
    "            for ideal2 in prim_deco2:\n",
    "                if is_ideal_valid(ideal2, cubic, sing_cubics_factored):\n",
    "                    conditions.append(ideal2.gens())                        \n",
    "    return list(set(conditions))\n",
    "\n",
    "\n",
    "def get_valid_ideals(ideale, cubic, sing_cubics_factored):\n",
    "    valid_ideals = []\n",
    "    vrs = [c,d,e,f]\n",
    "    for vr in vrs:\n",
    "        valid_ideals_var = []\n",
    "        del_ideale = ideale.elimination_ideal([vr])\n",
    "        prim_deco_del = del_ideale.radical().primary_decomposition()\n",
    "        for ideal in prim_deco_del:\n",
    "            if is_ideal_valid(ideal, cubic, sing_cubics_factored):\n",
    "                valid_ideals_var.append(ideal)\n",
    "        if valid_ideals_var == []:\n",
    "            return []\n",
    "        else:\n",
    "            valid_ideals.append(valid_ideals_var)\n",
    "    return [id1+id2+id3+id4 for id1 in valid_ideals[0] for id2 in valid_ideals[1] for id3 in valid_ideals[2] for id4 in valid_ideals[3]]           "
   ]
  },
  {
   "cell_type": "code",
   "execution_count": 26,
   "id": "e36533ab-3ad7-44da-a829-db4d1639129b",
   "metadata": {},
   "outputs": [
    {
     "name": "stdout",
     "output_type": "stream",
     "text": [
      "0\n",
      "1\n",
      "2\n",
      "3\n",
      "4\n",
      "5\n",
      "6\n",
      "7\n",
      "8\n",
      "9\n",
      "10\n",
      "11\n",
      "CPU times: user 4min 26s, sys: 3.59 s, total: 4min 30s\n",
      "Wall time: 4min 32s\n"
     ]
    }
   ],
   "source": [
    "%time conds = find_conditions_for_subfamilies(SE1, projs, simm_SE1)"
   ]
  },
  {
   "cell_type": "code",
   "execution_count": 27,
   "id": "eda8c4fb-2230-4d5f-af66-3ec58555bbbe",
   "metadata": {},
   "outputs": [
    {
     "data": {
      "text/plain": [
       "28"
      ]
     },
     "execution_count": 27,
     "metadata": {},
     "output_type": "execute_result"
    }
   ],
   "source": [
    "conds_linear = [cond for cond in conds if [el.degree() for el in cond] == [1,1,1]]\n",
    "len(conds_linear)"
   ]
  },
  {
   "cell_type": "code",
   "execution_count": 28,
   "id": "985d67bd-50f7-4658-96ef-741dd99b53f5",
   "metadata": {},
   "outputs": [
    {
     "data": {
      "text/plain": [
       "60"
      ]
     },
     "execution_count": 28,
     "metadata": {},
     "output_type": "execute_result"
    }
   ],
   "source": [
    "non_linear_conds = [cond for cond in conds if cond not in conds_linear]\n",
    "len(non_linear_conds)"
   ]
  },
  {
   "cell_type": "code",
   "execution_count": 29,
   "id": "0f33c959-ecc9-491b-9a9d-b967745a4363",
   "metadata": {},
   "outputs": [
    {
     "data": {
      "text/plain": [
       "[[2*c + (-i + 1)*d + (-3*i + 3)*e + (i + 1)*f, 193*e^2 + (-3*i + 50)*d*f + (-11*i + 119)*e*f + (65*i - 54)*f^2, 193*d*e + (41*i - 233)*d*f + (279*i - 597)*e*f + (-245*i + 159)*f^2, 193*d^2 + (83*i + 804)*d*f + (-725*i + 1983)*e*f + (775*i - 629)*f^2],\n",
       " [17*d + (4*i - 1)*e + (-2*i + 9)*f, 17*c + (-4*i + 1)*e + (2*i + 8)*f, e^2 + (12*i + 2)*e*f + (-4*i - 5)*f^2],\n",
       " [250*e^2 + (26*i + 268)*c*f + (27*i - 39)*d*f + (83*i + 19)*e*f + (-99*i - 107)*f^2, 50*d*e + (22*i + 16)*c*f + (19*i + 7)*d*f + (-29*i + 43)*e*f + (57*i + 11)*f^2, 10*c*e + (18*i - 6)*c*f + (i + 3)*d*f + (9*i + 7)*e*f + (3*i - 1)*f^2, 50*d^2 + (-78*i - 76)*c*f + (39*i + 13)*d*f + (39*i - 117)*e*f + (-39*i + 47)*f^2, 10*c*d + (-2*i - 4)*c*f + (i - 3)*d*f + (i - 3)*e*f + (-i - 7)*f^2, 2*c^2 + (-2*i - 4)*c*f + (i - 1)*d*f + (i - 3)*e*f + (-i - 1)*f^2],\n",
       " [327*d*e + (-6*i - 129)*e^2 + (-14*i + 26)*c*f + (48*i - 167)*d*f + (56*i - 104)*e*f + (-32*i + 75)*f^2, 654*c*e + (504*i + 372)*e^2 + (-23*i - 331)*c*f + (-108*i + 76)*d*f + (-562*i + 16)*e*f + (181*i - 87)*f^2, 654*d^2 + (24*i - 138)*e^2 + (56*i - 104)*c*f + (-192*i - 313)*d*f + (-224*i + 89)*e*f + (128*i + 27)*f^2, 654*c*d + (192*i + 204)*e^2 + (121*i - 69)*c*f + (208*i - 106)*d*f + (170*i - 378)*e*f + (-175*i + 107)*f^2, 654*c^2 + (-600*i + 180)*e^2 + (17*i + 311)*c*f + (4*i - 132)*d*f + (586*i - 590)*e*f + (-39*i + 197)*f^2, 1962*e^3 + (-219*i - 21549)*e^2*f + (-511*i + 949)*c*f^2 + (1752*i - 2008)*d*f^2 + (2044*i + 7322)*e*f^2 + (-1168*i + 1266)*f^3],\n",
       " [8*c*e + (-3*i - 1)*d*e + (-5*i + 5)*e^2 - 4*c*f + (3*i + 1)*d*f + (8*i)*e*f + (-3*i - 1)*f^2, 40*c*d + (-7*i - 1)*d*e + (-9*i + 13)*e^2 + (-8*i - 4)*c*f + (-9*i - 7)*d*f + (-8*i - 24)*e*f + (9*i + 7)*f^2, 8*c^2 + (i + 3)*d*e + (7*i + 1)*e^2 + 4*c*f + (-i - 3)*d*f + (-8*i - 8)*e*f + (i + 3)*f^2, 25*d^2*e + (48*i + 14)*d*e^2 + (-24*i - 7)*e^3 - 25*d^2*f + (-18*i - 74)*d*e*f + (34*i - 13)*e^2*f + (2*i + 36)*d*f^2 + (-8*i + 31)*e*f^2 + (-2*i - 11)*f^3],\n",
       " [d - e + 3*f, c + e - 2*f, e^2 + (i - 5)*e*f + (-i + 6)*f^2],\n",
       " [5*d + (-4*i - 3)*e + (6*i + 7)*f, 10*c + (4*i + 3)*e + (-6*i + 3)*f, 25*e^2 + (-28*i - 54)*e*f + (-12*i + 9)*f^2],\n",
       " [17*d + (-2*i + 9)*e + (4*i - 1)*f, 17*c + (2*i + 8)*e + (-4*i + 1)*f, 41*e^2 + (-52*i - 58)*e*f + (4*i - 5)*f^2],\n",
       " [4*c + (i)*d + (i + 2)*e + (-i)*f, 5*d^2 + (-8*i - 6)*d*e + (24*i - 7)*e^2 + (4*i - 2)*d*f + (-36*i + 38)*e*f + (-4*i - 3)*f^2],\n",
       " [d + 3*e - f, c - 2*e + f, 37*e^2 + (i - 31)*e*f + (i + 6)*f^2],\n",
       " [4*c*e + (-i + 3)*d*e + (5*i + 5)*e^2 + (-4*i + 4)*c*f + (-3*i + 1)*d*f + (-4*i + 8)*e*f + (-5*i - 5)*f^2, 4*c*d + (3*i - 1)*d*e + (i - 7)*e^2 + (4*i - 8)*c*f + (i + 1)*d*f + (4*i - 4)*e*f + (-i + 3)*f^2, 4*c^2 + (-5*i - 5)*d*e + (-15*i + 5)*e^2 + (-12*i - 8)*c*f + (i - 7)*d*f + (-12*i - 12)*e*f + (15*i - 5)*f^2, 5*d^2*e + (6*i + 8)*d*e^2 + (2*i + 11)*e^3 + (-4*i + 3)*d^2*f + (-6*i + 2)*d*e*f + (-28*i + 1)*e^2*f - 10*d*f^2 + (6*i - 27)*e*f^2 + (20*i + 15)*f^3],\n",
       " [4*c + (-i)*d + (-i + 2)*e + (i)*f, 5*d^2 + (8*i - 6)*d*e + (-24*i - 7)*e^2 + (-4*i - 2)*d*f + (36*i + 38)*e*f + (4*i - 3)*f^2],\n",
       " [1258*e^2 + (1166*i + 1366)*c*f + (675*i + 575)*d*f + (1753*i - 417)*e*f + (-697*i - 221)*f^2, 1258*d*e + (1730*i - 390)*c*f + (1651*i - 1063)*d*f + (-2731*i + 143)*e*f + (3111*i + 833)*f^2, 629*c*e + (154*i - 591)*c*f + (-77*i - 19)*d*f + (279*i + 28)*e*f + (-187*i - 136)*f^2, 6290*d^2 + (-56466*i + 542)*c*f + (-30893*i - 1529)*d*f + (-25087*i + 6259)*e*f + (-7633*i - 119)*f^2, 629*c*d + (632*i - 906)*c*f + (313*i - 176)*d*f + (565*i - 171)*e*f + (221*i - 697)*f^2, 629*c^2 + (-78*i + 912)*c*f + (39*i + 173)*d*f + (-223*i + 43)*e*f + (-85*i + 510)*f^2],\n",
       " [327*d*e + (6*i - 129)*e^2 + (14*i + 26)*c*f + (-48*i - 167)*d*f + (-56*i - 104)*e*f + (32*i + 75)*f^2, 654*c*e + (-504*i + 372)*e^2 + (23*i - 331)*c*f + (108*i + 76)*d*f + (562*i + 16)*e*f + (-181*i - 87)*f^2, 654*d^2 + (-24*i - 138)*e^2 + (-56*i - 104)*c*f + (192*i - 313)*d*f + (224*i + 89)*e*f + (-128*i + 27)*f^2, 654*c*d + (-192*i + 204)*e^2 + (-121*i - 69)*c*f + (-208*i - 106)*d*f + (-170*i - 378)*e*f + (175*i + 107)*f^2, 654*c^2 + (600*i + 180)*e^2 + (-17*i + 311)*c*f + (-4*i - 132)*d*f + (-586*i - 590)*e*f + (39*i + 197)*f^2, 1962*e^3 + (219*i - 21549)*e^2*f + (511*i + 949)*c*f^2 + (-1752*i - 2008)*d*f^2 + (-2044*i + 7322)*e*f^2 + (1168*i + 1266)*f^3],\n",
       " [500*e^2 + (206*i - 242)*c*f + (159*i - 63)*d*f + (503*i - 421)*e*f + (-183*i - 319)*f^2, 100*d*e + (22*i + 206)*c*f + (43*i + 29)*d*f + (-89*i + 103)*e*f + (129*i + 17)*f^2, 20*c*e + (6*i - 22)*c*f + (-i - 3)*d*f + (3*i - 1)*e*f + (-3*i + 1)*f^2, 100*d^2 + (38*i + 486)*c*f + (19*i + 213)*d*f + (19*i - 57)*e*f + (-19*i + 457)*f^2, 20*c*d + (14*i - 42)*c*f + (7*i - 11)*d*f + (7*i - 21)*e*f + (-7*i - 19)*f^2, 4*c^2 + (-2*i + 6)*c*f + (-i + 1)*d*f + (-i + 3)*e*f + (i + 1)*f^2],\n",
       " [2*c + (i + 1)*d + (3*i + 3)*e + (-i + 1)*f, 193*e^2 + (3*i + 50)*d*f + (11*i + 119)*e*f + (-65*i - 54)*f^2, 193*d*e + (-41*i - 233)*d*f + (-279*i - 597)*e*f + (245*i + 159)*f^2, 193*d^2 + (-83*i + 804)*d*f + (725*i + 1983)*e*f + (-775*i - 629)*f^2],\n",
       " [2*c + (2*i - 1)*d + (-i)*e + (-i + 2)*f, e^2 + (6*i + 7)*d*f + (-7*i - 8)*e*f + (i + 3)*f^2, 5*d*e + (11*i + 23)*d*f + (-18*i - 29)*e*f + (2*i + 11)*f^2, 125*d^2 + (-78*i + 321)*d*f + (-121*i - 478)*e*f + (-i + 182)*f^2],\n",
       " [4*c*e + (i + 2)*d*e + (5*i)*e^2 + (-2*i + 2)*c*f + (-i + 2)*d*f + (-2*i + 6)*e*f + (-5*i)*f^2, d^2 + 2*d*e - 11*e^2 + 4*d*f - 8*e*f + 3*f^2, 4*c*d + (3*i + 4)*d*e + (11*i - 2)*e^2 + (-2*i + 6)*c*f + (-3*i + 4)*d*f + (-2*i + 10)*e*f + (-11*i - 2)*f^2, 4*c^2 + (-5*i)*d*e + (-5*i + 10)*e^2 + (-10*i - 2)*c*f + (-3*i - 4)*d*f + (-10*i - 6)*e*f + (5*i - 10)*f^2, 8*e^3 + (2*i - 1)*d*e*f + (-2*i + 9)*e^2*f + 4*c*f^2 + (2*i + 1)*d*f^2 + (4*i + 12)*e*f^2 + (-2*i + 7)*f^3, 8*d*e^2 + (6*i + 7)*d*e*f + (-6*i + 1)*e^2*f + 12*c*f^2 + (6*i + 9)*d*f^2 + (12*i + 20)*e*f^2 + (-6*i + 23)*f^3],\n",
       " [2*c + (i + 1)*d + (-i + 1)*e + (3*i + 3)*f, 2*e^2 + (3*i - 2)*d*f + (i + 3)*e*f + (13*i - 11)*f^2, 2*d*e + (i - 6)*d*f + (5*i + 7)*e*f + (i - 21)*f^2, 2*d^2 + (-5*i + 6)*d*f + (5*i - 5)*e*f + (-15*i - 1)*f^2],\n",
       " [4*c + (-i)*d + (-i + 2)*e + (i)*f, 2*e^2 - 2*d*f + e*f - 4*f^2, 2*d*e - 7*d*f + 12*e*f - 11*f^2, 2*d^2 - 12*d*f + 31*e*f - 20*f^2],\n",
       " [d - e + f, 2*c + (i + 1)*e - f, 2*e^2 + (-4*i - 6)*e*f + (2*i + 3)*f^2],\n",
       " [4*c*e + (-i + 2)*d*e + (-5*i)*e^2 + (2*i + 2)*c*f + (i + 2)*d*f + (2*i + 6)*e*f + (5*i)*f^2, 4*c*d + (-3*i + 4)*d*e + (-11*i - 2)*e^2 + (2*i + 6)*c*f + (3*i + 4)*d*f + (2*i + 10)*e*f + (11*i - 2)*f^2, 4*c^2 + (5*i)*d*e + (5*i + 10)*e^2 + (10*i - 2)*c*f + (3*i - 4)*d*f + (10*i - 6)*e*f + (-5*i - 10)*f^2, 5*d^2*e + (-8*i - 6)*d*e^2 + (24*i - 7)*e^3 + (4*i + 3)*d^2*f + (-2*i + 6)*d*e*f + (-18*i - 21)*e^2*f + (10*i)*d*f^2 + (-16*i + 23)*e*f^2 + (10*i + 5)*f^3],\n",
       " [4*c + (i)*d + (-i)*e + (i + 2)*f, 5*d^2 + (4*i - 2)*d*e + (-4*i - 3)*e^2 + (-8*i - 6)*d*f + (-36*i + 38)*e*f + (24*i - 7)*f^2],\n",
       " [4*c + (i)*d + (i + 2)*e + (-i)*f, 2*e^2 - 2*d*f + e*f - 4*f^2, 2*d*e - 7*d*f + 12*e*f - 11*f^2, 2*d^2 - 12*d*f + 31*e*f - 20*f^2],\n",
       " [4*c*e + (i + 3)*d*e + (-5*i + 5)*e^2 + (4*i + 4)*c*f + (3*i + 1)*d*f + (4*i + 8)*e*f + (5*i - 5)*f^2, d^2 + 4*d*e + 3*e^2 + 2*d*f - 8*e*f - 11*f^2, 4*c*d + (-3*i - 1)*d*e + (-i - 7)*e^2 + (-4*i - 8)*c*f + (-i + 1)*d*f + (-4*i - 4)*e*f + (i + 3)*f^2, 4*c^2 + (5*i - 5)*d*e + (15*i + 5)*e^2 + (12*i - 8)*c*f + (-i - 7)*d*f + (12*i - 12)*e*f + (-15*i - 5)*f^2, 8*e^3 + (-3*i + 7)*d*e*f + (-9*i + 17)*e^2*f + (12*i + 12)*c*f^2 + (3*i + 5)*d*f^2 + 28*e*f^2 + (21*i - 9)*f^3, 8*d*e^2 + (i + 11)*d*e*f + (3*i - 27)*e^2*f + (-4*i - 4)*c*f^2 + (-i + 9)*d*f^2 - 44*e*f^2 + (-7*i - 29)*f^3],\n",
       " [5*d + (-6*i + 7)*e + (4*i - 3)*f, 10*c + (6*i + 3)*e + (-4*i + 3)*f, 3*e^2 + (12*i - 2)*e*f + (-4*i + 3)*f^2],\n",
       " [4*c + (i)*d + (-i)*e + (i + 2)*f, 6*e^2 + 4*d*f + 17*e*f - 14*f^2, 6*d*e - 8*d*f - 37*e*f + 22*f^2, 6*d^2 - 8*d*f + 41*e*f - 8*f^2],\n",
       " [4*c*e + (-i + 2)*d*e + (-5*i)*e^2 + (2*i + 2)*c*f + (i + 2)*d*f + (2*i + 6)*e*f + (5*i)*f^2, d^2 + 2*d*e - 11*e^2 + 4*d*f - 8*e*f + 3*f^2, 4*c*d + (-3*i + 4)*d*e + (-11*i - 2)*e^2 + (2*i + 6)*c*f + (3*i + 4)*d*f + (2*i + 10)*e*f + (11*i - 2)*f^2, 4*c^2 + (5*i)*d*e + (5*i + 10)*e^2 + (10*i - 2)*c*f + (3*i - 4)*d*f + (10*i - 6)*e*f + (-5*i - 10)*f^2, 8*e^3 + (-2*i - 1)*d*e*f + (2*i + 9)*e^2*f + 4*c*f^2 + (-2*i + 1)*d*f^2 + (-4*i + 12)*e*f^2 + (2*i + 7)*f^3, 8*d*e^2 + (-6*i + 7)*d*e*f + (6*i + 1)*e^2*f + 12*c*f^2 + (-6*i + 9)*d*f^2 + (-12*i + 20)*e*f^2 + (6*i + 23)*f^3],\n",
       " [4*c*e + (-3*i - 1)*d*e + (3*i + 1)*e^2 - 8*c*f + (3*i + 1)*d*f + (-8*i)*e*f + (5*i - 5)*f^2, 20*c*d + (-7*i - 1)*d*e + (7*i + 1)*e^2 + (-8*i - 4)*c*f + (-i - 3)*d*f + (-8*i - 4)*e*f + (-7*i - 1)*f^2, 4*c^2 + (i - 1)*d*e + (-i + 1)*e^2 + 4*c*f + (-i + 1)*d*f - 4*e*f + (i + 3)*f^2, 25*d^2*e + (-2*i - 36)*d*e^2 + (2*i + 11)*e^3 - 25*d^2*f + (18*i + 74)*d*e*f + (8*i - 31)*e^2*f + (-48*i - 14)*d*f^2 + (-34*i + 13)*e*f^2 + (24*i + 7)*f^3],\n",
       " [5*d - 5*e + (2*i + 9)*f, 5*c + 5*e + (-2*i - 4)*f, 25*e^2 + (5*i - 65)*e*f + (i + 32)*f^2],\n",
       " [4*c*e + (-i + 3)*d*e + (5*i + 5)*e^2 + (-4*i + 4)*c*f + (-3*i + 1)*d*f + (-4*i + 8)*e*f + (-5*i - 5)*f^2, d^2 + 4*d*e + 3*e^2 + 2*d*f - 8*e*f - 11*f^2, 4*c*d + (3*i - 1)*d*e + (i - 7)*e^2 + (4*i - 8)*c*f + (i + 1)*d*f + (4*i - 4)*e*f + (-i + 3)*f^2, 4*c^2 + (-5*i - 5)*d*e + (-15*i + 5)*e^2 + (-12*i - 8)*c*f + (i - 7)*d*f + (-12*i - 12)*e*f + (15*i - 5)*f^2, 8*e^3 + (3*i + 7)*d*e*f + (9*i + 17)*e^2*f + (-12*i + 12)*c*f^2 + (-3*i + 5)*d*f^2 + 28*e*f^2 + (-21*i - 9)*f^3, 8*d*e^2 + (-i + 11)*d*e*f + (-3*i - 27)*e^2*f + (4*i - 4)*c*f^2 + (i + 9)*d*f^2 - 44*e*f^2 + (7*i - 29)*f^3],\n",
       " [250*e^2 + (-26*i + 268)*c*f + (-27*i - 39)*d*f + (-83*i + 19)*e*f + (99*i - 107)*f^2, 50*d*e + (-22*i + 16)*c*f + (-19*i + 7)*d*f + (29*i + 43)*e*f + (-57*i + 11)*f^2, 10*c*e + (-18*i - 6)*c*f + (-i + 3)*d*f + (-9*i + 7)*e*f + (-3*i - 1)*f^2, 50*d^2 + (78*i - 76)*c*f + (-39*i + 13)*d*f + (-39*i - 117)*e*f + (39*i + 47)*f^2, 10*c*d + (2*i - 4)*c*f + (-i - 3)*d*f + (-i - 3)*e*f + (i - 7)*f^2, 2*c^2 + (2*i - 4)*c*f + (-i - 1)*d*f + (-i - 3)*e*f + (i - 1)*f^2],\n",
       " [5*d - 5*e + (-2*i + 9)*f, 5*c + 5*e + (2*i - 4)*f, 25*e^2 + (-5*i - 65)*e*f + (-i + 32)*f^2],\n",
       " [500*e^2 + (-206*i - 242)*c*f + (-159*i - 63)*d*f + (-503*i - 421)*e*f + (183*i - 319)*f^2, 100*d*e + (-22*i + 206)*c*f + (-43*i + 29)*d*f + (89*i + 103)*e*f + (-129*i + 17)*f^2, 20*c*e + (-6*i - 22)*c*f + (i - 3)*d*f + (-3*i - 1)*e*f + (3*i + 1)*f^2, 100*d^2 + (-38*i + 486)*c*f + (-19*i + 213)*d*f + (-19*i - 57)*e*f + (19*i + 457)*f^2, 20*c*d + (-14*i - 42)*c*f + (-7*i - 11)*d*f + (-7*i - 21)*e*f + (7*i - 19)*f^2, 4*c^2 + (2*i + 6)*c*f + (i + 1)*d*f + (i + 3)*e*f + (-i + 1)*f^2],\n",
       " [d + e - f, 2*c - e + (-i + 1)*f, 13*e^2 - 26*e*f + (4*i + 6)*f^2],\n",
       " [17*d + (-4*i - 1)*e + (2*i + 9)*f, 17*c + (4*i + 1)*e + (-2*i + 8)*f, e^2 + (-12*i + 2)*e*f + (4*i - 5)*f^2],\n",
       " [4*c + (-i)*d + (i)*e + (-i + 2)*f, 6*e^2 + 4*d*f + 17*e*f - 14*f^2, 6*d*e - 8*d*f - 37*e*f + 22*f^2, 6*d^2 - 8*d*f + 41*e*f - 8*f^2],\n",
       " [137*d*e + (2*i - 63)*e^2 + (-16*i - 44)*c*f + (56*i - 257)*d*f + (-12*i + 104)*e*f + (-2*i + 63)*f^2, 137*c*e + (56*i + 17)*e^2 + (-37*i - 273)*c*f + (-76*i - 72)*d*f + (-199*i + 35)*e*f + (218*i - 154)*f^2, 274*d^2 + (6*i - 52)*e^2 + (-48*i - 132)*c*f + (168*i - 223)*d*f + (-36*i + 175)*e*f + (-6*i - 85)*f^2, 137*c*d + (26*i + 3)*e^2 + (-71*i - 24)*c*f + (-94*i - 53)*d*f + (-19*i - 18)*e*f + (-26*i - 3)*f^2, 137*c^2 + (-18*i + 19)*e^2 + (7*i + 122)*c*f + (44*i - 16)*d*f + (-29*i - 114)*e*f + (18*i + 118)*f^2, 137*e^3 + (-19*i + 2037)*e^2*f + (152*i + 418)*c*f^2 + (-532*i - 2696)*d*f^2 + (114*i - 5509)*e*f^2 + (19*i + 2073)*f^3],\n",
       " [5*d + (-2*i + 9)*e - 5*f, 5*c + (2*i - 4)*e + 5*f, 41*e^2 + (-9*i - 83)*e*f + (i + 32)*f^2],\n",
       " [137*d*e + (-2*i - 63)*e^2 + (16*i - 44)*c*f + (-56*i - 257)*d*f + (12*i + 104)*e*f + (2*i + 63)*f^2, 137*c*e + (-56*i + 17)*e^2 + (37*i - 273)*c*f + (76*i - 72)*d*f + (199*i + 35)*e*f + (-218*i - 154)*f^2, 274*d^2 + (-6*i - 52)*e^2 + (48*i - 132)*c*f + (-168*i - 223)*d*f + (36*i + 175)*e*f + (6*i - 85)*f^2, 137*c*d + (-26*i + 3)*e^2 + (71*i - 24)*c*f + (94*i - 53)*d*f + (19*i - 18)*e*f + (26*i - 3)*f^2, 137*c^2 + (18*i + 19)*e^2 + (-7*i + 122)*c*f + (-44*i - 16)*d*f + (29*i - 114)*e*f + (-18*i + 118)*f^2, 137*e^3 + (19*i + 2037)*e^2*f + (-152*i + 418)*c*f^2 + (532*i - 2696)*d*f^2 + (-114*i - 5509)*e*f^2 + (-19*i + 2073)*f^3],\n",
       " [4*c*e + (3*i - 1)*d*e + (-3*i + 1)*e^2 - 8*c*f + (-3*i + 1)*d*f + (8*i)*e*f + (-5*i - 5)*f^2, 20*c*d + (7*i - 1)*d*e + (-7*i + 1)*e^2 + (8*i - 4)*c*f + (i - 3)*d*f + (8*i - 4)*e*f + (7*i - 1)*f^2, 4*c^2 + (-i - 1)*d*e + (i + 1)*e^2 + 4*c*f + (i + 1)*d*f - 4*e*f + (-i + 3)*f^2, 25*d^2*e + (2*i - 36)*d*e^2 + (-2*i + 11)*e^3 - 25*d^2*f + (-18*i + 74)*d*e*f + (-8*i - 31)*e^2*f + (48*i - 14)*d*f^2 + (34*i + 13)*e*f^2 + (-24*i + 7)*f^3],\n",
       " [1114*e^2 + (250*i - 536)*c*f + (-491*i + 567)*d*f + (-1037*i - 731)*e*f + (969*i - 157)*f^2, 1114*d*e + (-110*i + 1840)*c*f + (-1299*i - 1007)*d*f + (991*i + 589)*e*f + (-2387*i + 381)*f^2, 557*c*e + (-146*i - 39)*c*f + (-43*i + 61)*d*f + (-143*i + 164)*e*f + (-49*i + 212)*f^2, 5570*d^2 + (-13126*i + 408)*c*f + (10433*i - 2909)*d*f + (3167*i + 2269)*e*f + (-987*i - 8859)*f^2, 557*c*d + (-114*i + 84)*c*f + (-293*i + 40)*d*f + (-249*i - 139)*e*f + (-23*i - 71)*f^2, 557*c^2 + (-890*i + 304)*c*f + (-79*i - 147)*d*f + (-185*i + 107)*e*f + (-375*i - 310)*f^2],\n",
       " [4*c*e + (i + 2)*d*e + (5*i)*e^2 + (-2*i + 2)*c*f + (-i + 2)*d*f + (-2*i + 6)*e*f + (-5*i)*f^2, 4*c*d + (3*i + 4)*d*e + (11*i - 2)*e^2 + (-2*i + 6)*c*f + (-3*i + 4)*d*f + (-2*i + 10)*e*f + (-11*i - 2)*f^2, 4*c^2 + (-5*i)*d*e + (-5*i + 10)*e^2 + (-10*i - 2)*c*f + (-3*i - 4)*d*f + (-10*i - 6)*e*f + (5*i - 10)*f^2, 5*d^2*e + (8*i - 6)*d*e^2 + (-24*i - 7)*e^3 + (-4*i + 3)*d^2*f + (2*i + 6)*d*e*f + (18*i - 21)*e^2*f + (-10*i)*d*f^2 + (16*i + 23)*e*f^2 + (-10*i + 5)*f^3],\n",
       " [4*c*e + (i + 3)*d*e + (-5*i + 5)*e^2 + (4*i + 4)*c*f + (3*i + 1)*d*f + (4*i + 8)*e*f + (5*i - 5)*f^2, 4*c*d + (-3*i - 1)*d*e + (-i - 7)*e^2 + (-4*i - 8)*c*f + (-i + 1)*d*f + (-4*i - 4)*e*f + (i + 3)*f^2, 4*c^2 + (5*i - 5)*d*e + (15*i + 5)*e^2 + (12*i - 8)*c*f + (-i - 7)*d*f + (12*i - 12)*e*f + (-15*i - 5)*f^2, 5*d^2*e + (-6*i + 8)*d*e^2 + (-2*i + 11)*e^3 + (4*i + 3)*d^2*f + (6*i + 2)*d*e*f + (28*i + 1)*e^2*f - 10*d*f^2 + (-6*i - 27)*e*f^2 + (-20*i + 15)*f^3],\n",
       " [17*d + (2*i + 9)*e + (-4*i - 1)*f, 17*c + (-2*i + 8)*e + (4*i + 1)*f, 41*e^2 + (52*i - 58)*e*f + (-4*i - 5)*f^2],\n",
       " [d + 3*e - f, c - 2*e + f, 37*e^2 + (-i - 31)*e*f + (-i + 6)*f^2],\n",
       " [2*c + (2*i - 1)*d + (-i + 2)*e + (-i)*f, 125*e^2 + (-126*i + 193)*d*f + (-129*i - 228)*e*f + (95*i - 85)*f^2, 25*d*e + (13*i - 9)*d*f + (2*i - 11)*e*f + (-10*i + 5)*f^2, 25*d^2 + (-2*i - 41)*d*f + (i - 2)*e*f + (i + 18)*f^2],\n",
       " [2*c + (-i + 1)*d + (i + 1)*e + (-3*i + 3)*f, 2*e^2 + (-3*i - 2)*d*f + (-i + 3)*e*f + (-13*i - 11)*f^2, 2*d*e + (-i - 6)*d*f + (-5*i + 7)*e*f + (-i - 21)*f^2, 2*d^2 + (5*i + 6)*d*f + (-5*i - 5)*e*f + (15*i - 1)*f^2],\n",
       " [8*c*e + (3*i - 1)*d*e + (5*i + 5)*e^2 - 4*c*f + (-3*i + 1)*d*f + (-8*i)*e*f + (3*i - 1)*f^2, 40*c*d + (7*i - 1)*d*e + (9*i + 13)*e^2 + (8*i - 4)*c*f + (9*i - 7)*d*f + (8*i - 24)*e*f + (-9*i + 7)*f^2, 8*c^2 + (-i + 3)*d*e + (-7*i + 1)*e^2 + 4*c*f + (i - 3)*d*f + (8*i - 8)*e*f + (-i + 3)*f^2, 25*d^2*e + (-48*i + 14)*d*e^2 + (24*i - 7)*e^3 - 25*d^2*f + (18*i - 74)*d*e*f + (-34*i - 13)*e^2*f + (-2*i + 36)*d*f^2 + (8*i + 31)*e*f^2 + (2*i - 11)*f^3],\n",
       " [d - e + 3*f, c + e - 2*f, e^2 + (-i - 5)*e*f + (i + 6)*f^2],\n",
       " [1114*e^2 + (-250*i - 536)*c*f + (491*i + 567)*d*f + (1037*i - 731)*e*f + (-969*i - 157)*f^2, 1114*d*e + (110*i + 1840)*c*f + (1299*i - 1007)*d*f + (-991*i + 589)*e*f + (2387*i + 381)*f^2, 557*c*e + (146*i - 39)*c*f + (43*i + 61)*d*f + (143*i + 164)*e*f + (49*i + 212)*f^2, 5570*d^2 + (13126*i + 408)*c*f + (-10433*i - 2909)*d*f + (-3167*i + 2269)*e*f + (987*i - 8859)*f^2, 557*c*d + (114*i + 84)*c*f + (293*i + 40)*d*f + (249*i - 139)*e*f + (23*i - 71)*f^2, 557*c^2 + (890*i + 304)*c*f + (79*i - 147)*d*f + (185*i + 107)*e*f + (375*i - 310)*f^2],\n",
       " [d + e - f, 2*c - e + (i + 1)*f, 13*e^2 - 26*e*f + (-4*i + 6)*f^2],\n",
       " [5*d + (2*i + 9)*e - 5*f, 5*c + (-2*i - 4)*e + 5*f, 41*e^2 + (9*i - 83)*e*f + (-i + 32)*f^2],\n",
       " [4*c + (-i)*d + (i)*e + (-i + 2)*f, 5*d^2 + (-4*i - 2)*d*e + (4*i - 3)*e^2 + (8*i - 6)*d*f + (36*i + 38)*e*f + (-24*i - 7)*f^2],\n",
       " [2*c + (-2*i - 1)*d + (i + 2)*e + (i)*f, 125*e^2 + (126*i + 193)*d*f + (129*i - 228)*e*f + (-95*i - 85)*f^2, 25*d*e + (-13*i - 9)*d*f + (-2*i - 11)*e*f + (10*i + 5)*f^2, 25*d^2 + (2*i - 41)*d*f + (-i - 2)*e*f + (-i + 18)*f^2],\n",
       " [5*d + (4*i - 3)*e + (-6*i + 7)*f, 10*c + (-4*i + 3)*e + (6*i + 3)*f, 25*e^2 + (28*i - 54)*e*f + (12*i + 9)*f^2],\n",
       " [5*d + (6*i + 7)*e + (-4*i - 3)*f, 10*c + (-6*i + 3)*e + (4*i + 3)*f, 3*e^2 + (-12*i - 2)*e*f + (4*i + 3)*f^2],\n",
       " [2*c + (-2*i - 1)*d + (i)*e + (i + 2)*f, e^2 + (-6*i + 7)*d*f + (7*i - 8)*e*f + (-i + 3)*f^2, 5*d*e + (-11*i + 23)*d*f + (18*i - 29)*e*f + (-2*i + 11)*f^2, 125*d^2 + (78*i + 321)*d*f + (121*i - 478)*e*f + (i + 182)*f^2],\n",
       " [d - e + f, 2*c + (-i + 1)*e - f, 2*e^2 + (4*i - 6)*e*f + (-2*i + 3)*f^2],\n",
       " [1258*e^2 + (-1166*i + 1366)*c*f + (-675*i + 575)*d*f + (-1753*i - 417)*e*f + (697*i - 221)*f^2, 1258*d*e + (-1730*i - 390)*c*f + (-1651*i - 1063)*d*f + (2731*i + 143)*e*f + (-3111*i + 833)*f^2, 629*c*e + (-154*i - 591)*c*f + (77*i - 19)*d*f + (-279*i + 28)*e*f + (187*i - 136)*f^2, 6290*d^2 + (56466*i + 542)*c*f + (30893*i - 1529)*d*f + (25087*i + 6259)*e*f + (7633*i - 119)*f^2, 629*c*d + (-632*i - 906)*c*f + (-313*i - 176)*d*f + (-565*i - 171)*e*f + (-221*i - 697)*f^2, 629*c^2 + (78*i + 912)*c*f + (-39*i + 173)*d*f + (223*i + 43)*e*f + (85*i + 510)*f^2]]"
      ]
     },
     "execution_count": 29,
     "metadata": {},
     "output_type": "execute_result"
    }
   ],
   "source": [
    "non_linear_conds"
   ]
  },
  {
   "cell_type": "code",
   "execution_count": 30,
   "id": "af54feba-9245-4c76-b59a-12e5a75208ac",
   "metadata": {},
   "outputs": [
    {
     "data": {
      "text/plain": [
       "[(-169*i + 1352)*c, (169*i + 845)*c, 2197*c, (-338*i + 507)*c]"
      ]
     },
     "execution_count": 30,
     "metadata": {},
     "output_type": "execute_result"
    }
   ],
   "source": [
    "sost = solve_linear_system(conds_linear[0], [d,e,f], [c])\n",
    "sost"
   ]
  },
  {
   "cell_type": "code",
   "execution_count": 31,
   "id": "6715eca0-6ef7-4faa-a67d-b696e0bdc091",
   "metadata": {},
   "outputs": [],
   "source": [
    "var = [d,e,f,c]"
   ]
  },
  {
   "cell_type": "code",
   "execution_count": 32,
   "id": "6250a6b5-9705-470e-aa79-722ccfe43beb",
   "metadata": {},
   "outputs": [
    {
     "data": {
      "text/plain": [
       "(742586*i + 3712930)*x^2*y + (-742586*i - 3712930)*x*y^2 + (913952*i - 3598686)*x^2*z + (-1485172*i + 2227758)*x*y*z + (1256684*i + 1085318)*x*z^2 + (-971074*i - 399854)*x*y*t + (399854*i - 971074)*y^2*t + (571220*i + 1370928)*y*z*t + (-685464*i + 285610)*y*t^2"
      ]
     },
     "execution_count": 32,
     "metadata": {},
     "output_type": "execute_result"
    }
   ],
   "source": [
    "nc = SE1.subs({var[i]:sost[i] for i in range(4)})\n",
    "nc"
   ]
  },
  {
   "cell_type": "code",
   "execution_count": 33,
   "id": "d0e3228a-f13d-48a4-b183-64bd7d853fe2",
   "metadata": {},
   "outputs": [
    {
     "data": {
      "text/plain": [
       "[(0, 0, 0, 1)]"
      ]
     },
     "execution_count": 33,
     "metadata": {},
     "output_type": "execute_result"
    }
   ],
   "source": [
    "nc.eckardt_points"
   ]
  },
  {
   "cell_type": "code",
   "execution_count": 34,
   "id": "94e5b8a1-fccd-4dd5-9032-6d6d14b083fa",
   "metadata": {},
   "outputs": [
    {
     "name": "stdout",
     "output_type": "stream",
     "text": [
      "CPU times: user 971 ms, sys: 89.4 ms, total: 1.06 s\n",
      "Wall time: 9.99 s\n"
     ]
    }
   ],
   "source": [
    "%time nc_proj = nc.find_admissible_projectivities()"
   ]
  },
  {
   "cell_type": "code",
   "execution_count": 35,
   "id": "664bd9a1-be29-4da4-a737-c712004470a0",
   "metadata": {},
   "outputs": [
    {
     "data": {
      "text/plain": [
       "576"
      ]
     },
     "execution_count": 35,
     "metadata": {},
     "output_type": "execute_result"
    }
   ],
   "source": [
    "len(nc_proj)"
   ]
  },
  {
   "cell_type": "code",
   "execution_count": 37,
   "id": "fb67c2f9-7145-4a6f-94f9-78567243c236",
   "metadata": {},
   "outputs": [
    {
     "name": "stdout",
     "output_type": "stream",
     "text": [
      "CPU times: user 188 ms, sys: 110 ms, total: 297 ms\n",
      "Wall time: 1.23 s\n"
     ]
    }
   ],
   "source": [
    "%time nc_simm = nc.find_simmetries(nc_proj)"
   ]
  },
  {
   "cell_type": "code",
   "execution_count": 38,
   "id": "bea022a8-477c-4375-8f34-ab0595c8a860",
   "metadata": {},
   "outputs": [
    {
     "data": {
      "text/plain": [
       "4"
      ]
     },
     "execution_count": 38,
     "metadata": {},
     "output_type": "execute_result"
    }
   ],
   "source": [
    "len(nc_simm)"
   ]
  },
  {
   "cell_type": "code",
   "execution_count": 39,
   "id": "a776fdce-3f2e-4f43-8bcb-5550fdc63a24",
   "metadata": {},
   "outputs": [],
   "source": [
    "for i in range(len(nc_simm)-1):\n",
    "    mat1 = nc_simm[i]\n",
    "    for j in range(i+1, len(nc_simm)):\n",
    "        mat2 = nc_simm[j]\n",
    "        are_matrices_equal(mat1, mat2)"
   ]
  },
  {
   "cell_type": "code",
   "execution_count": 40,
   "id": "f870a672-d586-4f8b-84d9-3b45a5da3061",
   "metadata": {},
   "outputs": [],
   "source": [
    "Gnc = Group(nc_simm)"
   ]
  },
  {
   "cell_type": "code",
   "execution_count": 41,
   "id": "5794779f-59c2-469c-8d65-aafcdcef280d",
   "metadata": {},
   "outputs": [
    {
     "data": {
      "text/plain": [
       "[1, 2, 4]"
      ]
     },
     "execution_count": 41,
     "metadata": {},
     "output_type": "execute_result"
    }
   ],
   "source": [
    "Gnc.get_divisors_of_order()"
   ]
  },
  {
   "cell_type": "code",
   "execution_count": 42,
   "id": "ac11d299-9bb3-43e4-a67b-7a0a44cca500",
   "metadata": {},
   "outputs": [
    {
     "data": {
      "text/plain": [
       "[1, 4, 4, 2]"
      ]
     },
     "execution_count": 42,
     "metadata": {},
     "output_type": "execute_result"
    }
   ],
   "source": [
    "Gnc.get_order_of_elements()"
   ]
  },
  {
   "cell_type": "code",
   "execution_count": 43,
   "id": "cc70a1b4-f06e-4edc-b4a2-58a22f6fd54e",
   "metadata": {},
   "outputs": [
    {
     "data": {
      "text/plain": [
       "True"
      ]
     },
     "execution_count": 43,
     "metadata": {},
     "output_type": "execute_result"
    }
   ],
   "source": [
    "Gnc.is_group()"
   ]
  },
  {
   "cell_type": "code",
   "execution_count": null,
   "id": "44314d28-d0c5-4507-ba17-dd19caeb4cfe",
   "metadata": {},
   "outputs": [],
   "source": [
    "%%time\n",
    "for cond in conds_linear:\n",
    "    sost = solve_linear_system(cond, [d,e,f], [c])\n",
    "    nc = SE1.subs({var[i]:sost[i] for i in range(4)})\n",
    "    print(len(nc.find_simmetries()))"
   ]
  },
  {
   "cell_type": "code",
   "execution_count": null,
   "id": "9b519e4c-58ff-4bd2-a8fd-cc97108e340a",
   "metadata": {},
   "outputs": [],
   "source": []
  },
  {
   "cell_type": "code",
   "execution_count": null,
   "id": "6fc624b4-992b-4cb2-ab26-7842143bb7a4",
   "metadata": {},
   "outputs": [],
   "source": []
  },
  {
   "cell_type": "code",
   "execution_count": null,
   "id": "d89b39d7-9bdc-46c1-8249-0e271a122eb1",
   "metadata": {},
   "outputs": [],
   "source": []
  },
  {
   "cell_type": "code",
   "execution_count": null,
   "id": "e4083133-1e4c-4f41-8c57-349cf5aa385f",
   "metadata": {},
   "outputs": [],
   "source": []
  },
  {
   "cell_type": "code",
   "execution_count": null,
   "id": "1d02af7b-7a44-46d3-93cc-f4c432ebc325",
   "metadata": {},
   "outputs": [],
   "source": []
  },
  {
   "cell_type": "code",
   "execution_count": null,
   "id": "e5c423e2-2aef-4d86-a810-addfb942e86b",
   "metadata": {},
   "outputs": [],
   "source": []
  },
  {
   "cell_type": "code",
   "execution_count": null,
   "id": "f904a811-b671-4866-933a-da394a48991f",
   "metadata": {},
   "outputs": [],
   "source": []
  },
  {
   "cell_type": "code",
   "execution_count": null,
   "id": "4023da32-880b-4707-ae17-d2971c1b1bbe",
   "metadata": {},
   "outputs": [],
   "source": []
  },
  {
   "cell_type": "code",
   "execution_count": 45,
   "id": "15ea92c8-5cda-4446-b052-ed76d056c8b7",
   "metadata": {},
   "outputs": [],
   "source": [
    "with open('conditions.pickle', 'rb') as ff:\n",
    "    conditions = pickle.load(ff)"
   ]
  },
  {
   "cell_type": "code",
   "execution_count": null,
   "id": "872296bf-3a92-425c-ad13-3565be9b29a7",
   "metadata": {},
   "outputs": [],
   "source": []
  },
  {
   "cell_type": "code",
   "execution_count": null,
   "id": "46316ae0-8b44-44c9-a715-9b0db4837d1c",
   "metadata": {},
   "outputs": [],
   "source": []
  }
 ],
 "metadata": {
  "kernelspec": {
   "display_name": "SageMath 9.4",
   "language": "sage",
   "name": "sagemath"
  },
  "language_info": {
   "codemirror_mode": {
    "name": "ipython",
    "version": 3
   },
   "file_extension": ".py",
   "mimetype": "text/x-python",
   "name": "python",
   "nbconvert_exporter": "python",
   "pygments_lexer": "ipython3",
   "version": "3.7.12"
  }
 },
 "nbformat": 4,
 "nbformat_minor": 5
}
