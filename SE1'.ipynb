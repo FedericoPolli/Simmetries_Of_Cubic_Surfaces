{
 "cells": [
  {
   "cell_type": "code",
   "execution_count": 1,
   "id": "13dd6b6a-bc7d-4edd-af6c-99d471bc540e",
   "metadata": {},
   "outputs": [],
   "source": [
    "load('Imports/Utility.sage', 'Imports/Point.sage', 'Imports/Line.sage', 'Imports/TritangentPlane.sage', 'Imports/Group.sage', 'Imports/Cubic.sage')\n",
    "import multiprocessing as mp\n",
    "import pickle"
   ]
  },
  {
   "cell_type": "code",
   "execution_count": 2,
   "id": "21967230-0942-4b52-a41a-b865769ef5ce",
   "metadata": {},
   "outputs": [],
   "source": [
    "var('xx')\n",
    "Q.<i> = NumberField(xx^2 + 1)"
   ]
  },
  {
   "cell_type": "code",
   "execution_count": 3,
   "id": "0f2f5331-66e4-4296-a421-160427d90c45",
   "metadata": {},
   "outputs": [],
   "source": [
    "P.<x,y,z,t,b,c,d,e,f,l,m> = PolynomialRing(Q)\n",
    "cubic_new = e*f*(2*x^2*y-2*x*y^2+x*z^2-x*z*t-y*t^2+y*z*t)+b*c*(x-t)*(x*z+y*t)+c*c*(z+t)*(y*t-x*z)+d*c*(y-z)*(x*z+y*t)+(e+f)*c*(x-y)*(y*t-x*z)\n",
    "sing_cubics = (-1) * (-c + f) * (-c + e) * c * (c + f) * (c + e) * (-e + f)^2 * (-c*d + c*f + e*f) * (-c*d + c*e + e*f) * (-c^2 - c*d + e*f) * (b*c - c*f + e*f) * (b*c - c*e + e*f) * (b*c - c*d + 2*e*f) * (b*c - c^2 + e*f) * (b*c^2 + c^2*d + b*c*f - 2*c^2*f - c*d*f + 2*e*f^2) * (b*c^2 + c^2*d + b*c*e - 2*c^2*e - c*d*e + 2*e^2*f) * (-b*c^3 - 2*b*c^2*d + c^3*d + b*c^2*e + c^2*d*e + b*c^2*f + c^2*d*f + 3*b*c*e*f - 4*c^2*e*f - 3*c*d*e*f + 4*e^2*f^2)\n",
    "line = Line([y, z])\n",
    "general_cubic = Cubic(cubic_new, line, sing_cubics)\n",
    "SE1 = general_cubic.subs({b:-(c*c+e*f)/c})"
   ]
  },
  {
   "cell_type": "code",
   "execution_count": null,
   "id": "d0a536ee-9abe-4ed5-abec-b2a70f56a8e4",
   "metadata": {},
   "outputs": [],
   "source": [
    "%time adm_SE1 = SE1.find_admissible_projectivities()\n",
    "len(adm_SE1)"
   ]
  },
  {
   "cell_type": "code",
   "execution_count": null,
   "id": "d6b986ae-92c6-4023-98f7-cee825d2df8b",
   "metadata": {},
   "outputs": [],
   "source": [
    "%time simm_SE1 = SE1.find_simmetries(adm_SE1)\n",
    "len(simm_SE1)"
   ]
  },
  {
   "cell_type": "code",
   "execution_count": 5,
   "id": "8125990d-b6dd-45c8-a546-ae47d4fc33fd",
   "metadata": {},
   "outputs": [],
   "source": [
    "with open('all_L_sets.pickle', 'rb') as fil:\n",
    "    all_L_sets = pickle.load(fil)"
   ]
  },
  {
   "cell_type": "code",
   "execution_count": 6,
   "id": "775e4ab6-748d-490e-bebb-c0d1e62ec0bc",
   "metadata": {},
   "outputs": [],
   "source": [
    "L_set_base = ('E1', 'G4', 'E2', 'G3', 'E3')\n",
    "possible_L_sets = [L_set for L_set in all_L_sets if L_set[0:3] == ('E1', 'G4', 'E3')]\n",
    "possible_projs = [SE1.find_projectivity(L_set_base, L_set) for L_set in possible_L_sets]"
   ]
  },
  {
   "cell_type": "code",
   "execution_count": 8,
   "id": "d6a0772b-996a-4d2d-a800-bb589fdabd77",
   "metadata": {},
   "outputs": [
    {
     "name": "stdout",
     "output_type": "stream",
     "text": [
      "CPU times: user 45.8 s, sys: 79.9 ms, total: 45.8 s\n",
      "Wall time: 45.9 s\n"
     ]
    }
   ],
   "source": [
    "%%time \n",
    "L_set_ideals = []\n",
    "all_ideals = []\n",
    "for L_set in possible_L_sets:\n",
    "    proj = SE1.find_projectivity(L_set_base, L_set)\n",
    "    ideals = SE1.find_decomposed_conditions_on_cubic(proj)\n",
    "    ideals = [ide for ide in ideals if SE1.is_ideal_valid(ide)]\n",
    "    all_ideals += ideals\n",
    "    L_set_ideals.append([L_set, ideals])"
   ]
  },
  {
   "cell_type": "code",
   "execution_count": 9,
   "id": "02cf4b1e-7483-424e-9ae9-3a2cdbd48744",
   "metadata": {},
   "outputs": [
    {
     "data": {
      "text/plain": [
       "[[('E1', 'G4', 'E3', 'G6', 'E6'), []],\n",
       " [('E1', 'G4', 'E3', 'G6', 'F45'), []],\n",
       " [('E1', 'G4', 'E3', 'G6', 'F24'),\n",
       "  [Ideal (4*c + (i)*d + (-i)*e + (i + 2)*f, 5*d^2 + (4*i - 2)*d*e + (-4*i - 3)*e^2 + (-8*i - 6)*d*f + (-36*i + 38)*e*f + (24*i - 7)*f^2) of Multivariate Polynomial Ring in x, y, z, t, b, c, d, e, f, l, m over Number Field in i with defining polynomial xx^2 + 1,\n",
       "   Ideal (4*c + (-i)*d + (i)*e + (-i + 2)*f, 5*d^2 + (-4*i - 2)*d*e + (4*i - 3)*e^2 + (8*i - 6)*d*f + (36*i + 38)*e*f + (-24*i - 7)*f^2) of Multivariate Polynomial Ring in x, y, z, t, b, c, d, e, f, l, m over Number Field in i with defining polynomial xx^2 + 1]],\n",
       " [('E1', 'G4', 'E3', 'F13', 'E6'), []],\n",
       " [('E1', 'G4', 'E3', 'F13', 'E5'), []],\n",
       " [('E1', 'G4', 'E3', 'F13', 'E2'), []],\n",
       " [('E1', 'G4', 'E3', 'G5', 'F46'), []],\n",
       " [('E1', 'G4', 'E3', 'G5', 'E5'), []],\n",
       " [('E1', 'G4', 'E3', 'G5', 'F24'),\n",
       "  [Ideal (4*c + (-i)*d + (-i + 2)*e + (i)*f, 5*d^2 + (8*i - 6)*d*e + (-24*i - 7)*e^2 + (-4*i - 2)*d*f + (36*i + 38)*e*f + (4*i - 3)*f^2) of Multivariate Polynomial Ring in x, y, z, t, b, c, d, e, f, l, m over Number Field in i with defining polynomial xx^2 + 1,\n",
       "   Ideal (4*c + (i)*d + (i + 2)*e + (-i)*f, 5*d^2 + (-8*i - 6)*d*e + (24*i - 7)*e^2 + (4*i - 2)*d*f + (-36*i + 38)*e*f + (-4*i - 3)*f^2) of Multivariate Polynomial Ring in x, y, z, t, b, c, d, e, f, l, m over Number Field in i with defining polynomial xx^2 + 1]],\n",
       " [('E1', 'G4', 'E3', 'G2', 'F46'), []],\n",
       " [('E1', 'G4', 'E3', 'G2', 'F45'), []],\n",
       " [('E1', 'G4', 'E3', 'G2', 'E2'), []]]"
      ]
     },
     "execution_count": 9,
     "metadata": {},
     "output_type": "execute_result"
    }
   ],
   "source": [
    "L_set_ideals"
   ]
  },
  {
   "cell_type": "code",
   "execution_count": 143,
   "id": "5d0515a2-08ea-4927-9df5-d1d73ec7e5cc",
   "metadata": {},
   "outputs": [
    {
     "name": "stdout",
     "output_type": "stream",
     "text": [
      "[0, 0]\n",
      "[0, 0]\n",
      "[0, 0]\n",
      "[0, 0]\n"
     ]
    }
   ],
   "source": [
    "ideales = [_ for i in range(len(all_ideals))]\n",
    "poly_es = [_ for i in range(len(all_ideals))]\n",
    "e_sosts = [_ for i in range(len(all_ideals))]\n",
    "poly_ds = [_ for i in range(len(all_ideals))]\n",
    "d_sosts = [_ for i in range(len(all_ideals))]\n",
    "for i in range(len(all_ideals)):\n",
    "    ideales[i] = all_ideals[i]\n",
    "    poly_es[i] = ideales[i].gens()[0]\n",
    "    e_sosts[i] = {e: -(poly_es[i]-poly_es[i].coefficient(e)*e)/poly_es[i].coefficient(e)}\n",
    "    poly_ds[i] = [gen for gen in ideales[i].subs(e_sosts[i]).gens() if gen !=0][0]\n",
    "    d_sosts[i] = {d:-(poly_ds[i]-poly_ds[i].coefficient(d)*d)/poly_ds[i].coefficient(d)}\n",
    "    print([gen.subs(e_sosts[i]).subs(d_sosts[i]) for gen in ideales[i].gens()])"
   ]
  },
  {
   "cell_type": "code",
   "execution_count": 160,
   "id": "74d86c1d-30b7-43d0-b920-a91bafb4d298",
   "metadata": {},
   "outputs": [],
   "source": [
    "SE1_0 = SE1.subs(e_sosts[0]).subs(d_sosts[0])"
   ]
  },
  {
   "cell_type": "code",
   "execution_count": 161,
   "id": "976b7466-63bf-4ccf-86f1-b6c28cd7a209",
   "metadata": {},
   "outputs": [],
   "source": [
    "SE1_3 = SE1.subs(e_sosts[3]).subs(d_sosts[3]).subs({c:l, f:m})"
   ]
  },
  {
   "cell_type": "code",
   "execution_count": 170,
   "id": "5283e67e-e5bb-4690-a7d6-17392be5d86a",
   "metadata": {},
   "outputs": [
    {
     "data": {
      "text/plain": [
       "(5*c + (4*i + 3)*f, (-2*i + 1)*c + (2*i - 1)*f)"
      ]
     },
     "execution_count": 170,
     "metadata": {},
     "output_type": "execute_result"
    }
   ],
   "source": [
    "vrs = P.gens()[0:4]\n",
    "mon = (sum(vrs) ^ 3).monomials()\n",
    "current_conds = list(set(matrix([[SE1_0.coefficient(mn) for mn in mon], [SE1_3.coefficient(mn) for mn in mon]]).minors(2)))\n",
    "poly = P.ideal(current_conds).radical().primary_decomposition()[0].gens()[0]\n",
    "poly.coefficient(l), poly.coefficient(m)"
   ]
  },
  {
   "cell_type": "code",
   "execution_count": 171,
   "id": "968016bf-a4f4-4057-bbe5-cac49484a8db",
   "metadata": {},
   "outputs": [],
   "source": [
    "sost1 = {l: poly.coefficient(m), m: -poly.coefficient(l)}\n",
    "SE1_3_new = SE1_3.subs(sost1)"
   ]
  },
  {
   "cell_type": "code",
   "execution_count": 172,
   "id": "760375f7-764e-4917-aa50-403f2dc75297",
   "metadata": {},
   "outputs": [
    {
     "data": {
      "text/plain": [
       "True"
      ]
     },
     "execution_count": 172,
     "metadata": {},
     "output_type": "execute_result"
    }
   ],
   "source": [
    "SE1_0.are_cubics_same(SE1_3_new)"
   ]
  },
  {
   "cell_type": "code",
   "execution_count": 168,
   "id": "7ebfdf86-4e35-4920-844c-a0fa247caa40",
   "metadata": {},
   "outputs": [
    {
     "data": {
      "text/plain": [
       "x^2*z*c^2 + (i)*x*y*z*c^2 - x*z^2*c^2 + (i - 1)*x*y*t*c^2 + 2*y^2*t*c^2 + (-i - 1)*y*z*t*c^2 + (-i)*y*t^2*c^2 + (i - 2)*x^2*y*c*f + (-i + 2)*x*y^2*c*f + 2*x^2*z*c*f + (-i - 3)*x*y*z*c*f + x*z^2*c*f + (-2*i)*x*y*t*c*f + (i - 1)*y^2*t*c*f + (i + 1)*y*z*t*c*f + (i)*y*t^2*c*f + (-i - 2)*x^2*y*f^2 + (i + 2)*x*y^2*f^2 + x^2*z*f^2 - x*y*z*f^2 + (i + 1)*x*y*t*f^2 + (-i - 1)*y^2*t*f^2"
      ]
     },
     "execution_count": 168,
     "metadata": {},
     "output_type": "execute_result"
    }
   ],
   "source": [
    "SE1_0"
   ]
  },
  {
   "cell_type": "code",
   "execution_count": 175,
   "id": "150ab635-7897-45a7-9bb2-d494c8dac4bc",
   "metadata": {},
   "outputs": [
    {
     "data": {
      "text/plain": [
       "x^2*z*l^2 + (-i)*x*y*z*l^2 - x*z^2*l^2 + (-i - 1)*x*y*t*l^2 + 2*y^2*t*l^2 + (i - 1)*y*z*t*l^2 + (i)*y*t^2*l^2 + (-i - 2)*x^2*y*l*m + (i + 2)*x*y^2*l*m + 2*x^2*z*l*m + (i - 3)*x*y*z*l*m + x*z^2*l*m + (2*i)*x*y*t*l*m + (-i - 1)*y^2*t*l*m + (-i + 1)*y*z*t*l*m + (-i)*y*t^2*l*m + (i - 2)*x^2*y*m^2 + (-i + 2)*x*y^2*m^2 + x^2*z*m^2 - x*y*z*m^2 + (-i + 1)*x*y*t*m^2 + (i - 1)*y^2*t*m^2"
      ]
     },
     "execution_count": 175,
     "metadata": {},
     "output_type": "execute_result"
    }
   ],
   "source": [
    "SE1_1 = SE1.subs(e_sosts[1]).subs(d_sosts[1]).subs({c:l, f:m})\n",
    "SE1_1"
   ]
  },
  {
   "cell_type": "code",
   "execution_count": 235,
   "id": "b20532b6-e358-42c9-8d4c-90f74488615b",
   "metadata": {},
   "outputs": [
    {
     "name": "stdout",
     "output_type": "stream",
     "text": [
      "0\n",
      "10\n",
      "20\n",
      "30\n",
      "40\n",
      "50\n",
      "60\n",
      "70\n",
      "80\n",
      "90\n",
      "100\n",
      "110\n",
      "120\n",
      "130\n",
      "140\n",
      "150\n",
      "160\n",
      "170\n",
      "180\n",
      "190\n",
      "200\n",
      "210\n",
      "220\n",
      "230\n",
      "240\n",
      "250\n",
      "260\n",
      "270\n",
      "280\n",
      "290\n",
      "300\n",
      "310\n",
      "320\n",
      "330\n",
      "340\n",
      "350\n",
      "360\n",
      "370\n",
      "380\n",
      "390\n",
      "400\n",
      "410\n",
      "420\n",
      "430\n",
      "440\n",
      "450\n",
      "460\n",
      "470\n",
      "480\n",
      "490\n",
      "500\n",
      "510\n",
      "520\n",
      "530\n",
      "540\n",
      "550\n",
      "560\n",
      "570\n"
     ]
    },
    {
     "data": {
      "text/plain": [
       "[]"
      ]
     },
     "execution_count": 235,
     "metadata": {},
     "output_type": "execute_result"
    }
   ],
   "source": [
    "L_set_ideals = []\n",
    "L_sets = list(set([get_permuted_L_set(perm) for perm in SE1_1.find_admissible_permutations()]))\n",
    "vrs = P.gens()[0:4]\n",
    "mon = (sum(vrs) ^ 3).monomials()\n",
    "for L_set in L_sets:\n",
    "    if L_sets.index(L_set)%10 == 0:\n",
    "        print(L_sets.index(L_set))\n",
    "    proj = SE1_1.find_projectivity(SE1_1.L_set_base, L_set)\n",
    "    eqn = SE1_1.eqn.subs(change_coordinates(proj))\n",
    "    eqn = list(eqn.factor())[-1][0]\n",
    "    if eqn.degree(x) != 2:\n",
    "        print(\"error\")\n",
    "    current_conds = list(set(matrix([[SE1_0.coefficient(mn) for mn in mon], [eqn.coefficient(mn) for mn in mon]]).minors(2)))\n",
    "    prim_dec = P.ideal(current_conds).radical().primary_decomposition()\n",
    "    L_set_ideals += [(L_set,ideal) for ideal in prim_dec if ideal.gens()==1]\n",
    "L_set_ideals"
   ]
  },
  {
   "cell_type": "code",
   "execution_count": null,
   "id": "dbdafa47-d953-4983-806a-7cc7e9821d85",
   "metadata": {},
   "outputs": [],
   "source": []
  },
  {
   "cell_type": "code",
   "execution_count": 16,
   "id": "043445dd-c397-4b60-acb6-97d53450aec8",
   "metadata": {},
   "outputs": [
    {
     "name": "stdout",
     "output_type": "stream",
     "text": [
      "CPU times: user 3.28 s, sys: 301 ms, total: 3.58 s\n",
      "Wall time: 24.6 s\n"
     ]
    },
    {
     "data": {
      "text/plain": [
       "576"
      ]
     },
     "execution_count": 16,
     "metadata": {},
     "output_type": "execute_result"
    }
   ],
   "source": [
    "%time adm_SE1_1 = SE1_1.find_admissible_projectivities()\n",
    "len(adm_SE1_1)"
   ]
  },
  {
   "cell_type": "code",
   "execution_count": 17,
   "id": "04df03fc-9a95-4ce6-9b1d-554da74dfc99",
   "metadata": {},
   "outputs": [
    {
     "name": "stdout",
     "output_type": "stream",
     "text": [
      "CPU times: user 1.72 s, sys: 229 ms, total: 1.95 s\n",
      "Wall time: 8.91 s\n"
     ]
    },
    {
     "data": {
      "text/plain": [
       "4"
      ]
     },
     "execution_count": 17,
     "metadata": {},
     "output_type": "execute_result"
    }
   ],
   "source": [
    "%time simm_SE1_1 = SE1_1.find_simmetries(adm_SE1_1)\n",
    "len(simm_SE1_1)"
   ]
  },
  {
   "cell_type": "code",
   "execution_count": 18,
   "id": "e8157c21-d101-43bb-ae94-b1b129cb9485",
   "metadata": {},
   "outputs": [
    {
     "data": {
      "text/plain": [
       "(4, 'C4')"
      ]
     },
     "execution_count": 18,
     "metadata": {},
     "output_type": "execute_result"
    }
   ],
   "source": [
    "lines_perms = []\n",
    "for simm in simm_SE1_1:\n",
    "    lines_perms.append(Permutation(SE1_1.apply_proj_to_lines(simm)).to_permutation_group_element())\n",
    "lines_perms_group = PermutationGroup(lines_perms)\n",
    "lines_perms_group.order(), lines_perms_group.structure_description()"
   ]
  },
  {
   "cell_type": "code",
   "execution_count": 19,
   "id": "d7faecc5-0cd5-4262-867b-eeba22fef5d4",
   "metadata": {},
   "outputs": [
    {
     "data": {
      "text/plain": [
       "[(2,3,19,22)(4,21,7,23)(5,26,25,6)(8,16,13,11)(9,12,14,17)(18,24,27,20)]"
      ]
     },
     "execution_count": 19,
     "metadata": {},
     "output_type": "execute_result"
    }
   ],
   "source": [
    "lines_perms_group.gens_small()"
   ]
  },
  {
   "cell_type": "code",
   "execution_count": 20,
   "id": "7b618953-aed9-4b11-a553-3f3a35ee5d83",
   "metadata": {},
   "outputs": [
    {
     "data": {
      "text/plain": [
       "[('E1', 'G4', 'E3', 'G6', 'F24', 'F46')]"
      ]
     },
     "execution_count": 20,
     "metadata": {},
     "output_type": "execute_result"
    }
   ],
   "source": [
    "[get_permuted_extended_L_set(perm) for perm in lines_perms_group.gens_small()]"
   ]
  },
  {
   "cell_type": "code",
   "execution_count": 22,
   "id": "5efb70ff-4935-4372-b767-d8c69a464302",
   "metadata": {},
   "outputs": [
    {
     "data": {
      "text/plain": [
       "[('E1', 'G4', 'E3', 'G6', 'F24', 'F46'),\n",
       " ('E1', 'G4', 'F34', 'F16', 'E2', 'E6')]"
      ]
     },
     "execution_count": 22,
     "metadata": {},
     "output_type": "execute_result"
    }
   ],
   "source": [
    "[get_permuted_extended_L_set(perm) for perm in lines_perms_group.gens() if perm.order()==4]"
   ]
  },
  {
   "cell_type": "code",
   "execution_count": 28,
   "id": "0c60b809-9398-4a7e-af22-16edebac2dbc",
   "metadata": {},
   "outputs": [
    {
     "data": {
      "text/plain": [
       "[(),\n",
       " (2,3,19,22)(4,21,7,23)(5,26,25,6)(8,16,13,11)(9,12,14,17)(18,24,27,20),\n",
       " (2,19)(3,22)(4,7)(5,25)(6,26)(8,13)(9,14)(11,16)(12,17)(18,27)(20,24)(21,23),\n",
       " (2,22,19,3)(4,23,7,21)(5,6,25,26)(8,11,13,16)(9,17,14,12)(18,20,27,24)]"
      ]
     },
     "execution_count": 28,
     "metadata": {},
     "output_type": "execute_result"
    }
   ],
   "source": [
    "lines_perms_group.gens()"
   ]
  },
  {
   "cell_type": "code",
   "execution_count": null,
   "id": "fc408731-2dc9-4d2a-abac-927d47446c8e",
   "metadata": {},
   "outputs": [],
   "source": []
  }
 ],
 "metadata": {
  "kernelspec": {
   "display_name": "SageMath 9.4",
   "language": "sage",
   "name": "sagemath"
  },
  "language_info": {
   "codemirror_mode": {
    "name": "ipython",
    "version": 3
   },
   "file_extension": ".py",
   "mimetype": "text/x-python",
   "name": "python",
   "nbconvert_exporter": "python",
   "pygments_lexer": "ipython3",
   "version": "3.7.12"
  }
 },
 "nbformat": 4,
 "nbformat_minor": 5
}
