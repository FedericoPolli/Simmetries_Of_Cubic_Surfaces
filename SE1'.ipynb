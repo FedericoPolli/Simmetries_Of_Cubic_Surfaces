{
 "cells": [
  {
   "cell_type": "code",
   "execution_count": 1,
   "id": "58320e02-53d1-4aa8-9435-b12c34877bd1",
   "metadata": {},
   "outputs": [],
   "source": [
    "load('Imports/Utility.sage', 'Imports/Point.sage', 'Imports/Line.sage', 'Imports/TritangentPlane.sage', 'Imports/Group.sage', 'Imports/Cubic.sage')\n",
    "import multiprocessing as mp\n",
    "import pickle"
   ]
  },
  {
   "cell_type": "code",
   "execution_count": 2,
   "id": "21967230-0942-4b52-a41a-b865769ef5ce",
   "metadata": {},
   "outputs": [],
   "source": [
    "var('xx')\n",
    "Q.<i> = NumberField(xx^2+1)"
   ]
  },
  {
   "cell_type": "code",
   "execution_count": 3,
   "id": "5ed78749-98c1-4b4b-93a0-936bbe48e5c3",
   "metadata": {},
   "outputs": [],
   "source": [
    "P.<x,y,z,t,b,c,d,e,f,l,m> = PolynomialRing(Q)"
   ]
  },
  {
   "cell_type": "code",
   "execution_count": 4,
   "id": "3e2fe0b5-1ebd-4851-a5ef-2dd9d17b7dc6",
   "metadata": {},
   "outputs": [],
   "source": [
    "cubic_new = e*f*(2*x^2*y-2*x*y^2+x*z^2-x*z*t-y*t^2+y*z*t)+b*c*(x-t)*(x*z+y*t)+c*c*(z+t)*(y*t-x*z)+d*c*(y-z)*(x*z+y*t)+(e+f)*c*(x-y)*(y*t-x*z)"
   ]
  },
  {
   "cell_type": "code",
   "execution_count": 5,
   "id": "a41eb624-67cc-4e8e-a0da-c788de4b2d50",
   "metadata": {},
   "outputs": [],
   "source": [
    "sing_cubics = (-1) * (-c + f) * (-c + e) * c * (c + f) * (c + e) * (-e + f)^2 * (-c*d + c*f + e*f) * (-c*d + c*e + e*f) * (-c^2 - c*d + e*f) * (b*c - c*f + e*f) * (b*c - c*e + e*f) * (b*c - c*d + 2*e*f) * (b*c - c^2 + e*f) * (b*c^2 + c^2*d + b*c*f - 2*c^2*f - c*d*f + 2*e*f^2) * (b*c^2 + c^2*d + b*c*e - 2*c^2*e - c*d*e + 2*e^2*f) * (-b*c^3 - 2*b*c^2*d + c^3*d + b*c^2*e + c^2*d*e + b*c^2*f + c^2*d*f + 3*b*c*e*f - 4*c^2*e*f - 3*c*d*e*f + 4*e^2*f^2)"
   ]
  },
  {
   "cell_type": "code",
   "execution_count": 6,
   "id": "38181a6a-092f-4055-83a6-ed36cc76404a",
   "metadata": {},
   "outputs": [],
   "source": [
    "line = Line([y, z])"
   ]
  },
  {
   "cell_type": "code",
   "execution_count": 7,
   "id": "8766e87d-8662-4952-9be5-5725298d72c5",
   "metadata": {},
   "outputs": [],
   "source": [
    "general_cubic = Cubic(cubic_new, line, sing_cubics)"
   ]
  },
  {
   "cell_type": "code",
   "execution_count": 162,
   "id": "c96a5405-06a7-4ec3-8a7e-3d6e871b1ce0",
   "metadata": {},
   "outputs": [
    {
     "data": {
      "text/plain": [
       "x^2*z*b*c + x*y*t*b*c - x*z*t*b*c - y*t^2*b*c - x*z^2*c^2 - x*z*t*c^2 + y*z*t*c^2 + y*t^2*c^2 + x*y*z*c*d - x*z^2*c*d + y^2*t*c*d - y*z*t*c*d - x^2*z*c*e + x*y*z*c*e + x*y*t*c*e - y^2*t*c*e - x^2*z*c*f + x*y*z*c*f + x*y*t*c*f - y^2*t*c*f + 2*x^2*y*e*f - 2*x*y^2*e*f + x*z^2*e*f - x*z*t*e*f + y*z*t*e*f - y*t^2*e*f"
      ]
     },
     "execution_count": 162,
     "metadata": {},
     "output_type": "execute_result"
    }
   ],
   "source": [
    "general_cubic"
   ]
  },
  {
   "cell_type": "code",
   "execution_count": 8,
   "id": "be0c1a4d-7f9c-4ded-ada9-44749d011496",
   "metadata": {},
   "outputs": [],
   "source": [
    "SE1 = general_cubic.subs({b:-(c*c+e*f)/c})"
   ]
  },
  {
   "cell_type": "code",
   "execution_count": 9,
   "id": "6c09bf33-861e-4f08-8a01-8f1cd46f35c2",
   "metadata": {},
   "outputs": [
    {
     "name": "stdout",
     "output_type": "stream",
     "text": [
      "CPU times: user 12.5 s, sys: 274 ms, total: 12.7 s\n",
      "Wall time: 20.1 s\n"
     ]
    }
   ],
   "source": [
    "%time adm_SE1 = SE1.find_admissible_projectivities()"
   ]
  },
  {
   "cell_type": "code",
   "execution_count": 10,
   "id": "20fadd59-de6b-4d4a-9dbf-39de94506580",
   "metadata": {},
   "outputs": [
    {
     "data": {
      "text/plain": [
       "576"
      ]
     },
     "execution_count": 10,
     "metadata": {},
     "output_type": "execute_result"
    }
   ],
   "source": [
    "len(adm_SE1)"
   ]
  },
  {
   "cell_type": "code",
   "execution_count": 11,
   "id": "39c972e1-420f-4a36-b908-f5ec1b6ddec8",
   "metadata": {},
   "outputs": [
    {
     "name": "stdout",
     "output_type": "stream",
     "text": [
      "CPU times: user 8.89 s, sys: 385 ms, total: 9.27 s\n",
      "Wall time: 27.1 s\n"
     ]
    }
   ],
   "source": [
    "%time simm_SE1 = SE1.find_simmetries(adm_SE1)"
   ]
  },
  {
   "cell_type": "code",
   "execution_count": 12,
   "id": "b2ad2377-f8b4-47e5-a65f-3f8b3834ca52",
   "metadata": {},
   "outputs": [
    {
     "data": {
      "text/plain": [
       "2"
      ]
     },
     "execution_count": 12,
     "metadata": {},
     "output_type": "execute_result"
    }
   ],
   "source": [
    "len(simm_SE1)"
   ]
  },
  {
   "cell_type": "code",
   "execution_count": 13,
   "id": "a5539864-0e72-45b7-820b-b70feb9ea293",
   "metadata": {},
   "outputs": [],
   "source": [
    "adm_perm = SE1.find_admissible_permutations()\n",
    "keys = list(SE1.cl_lines.keys())"
   ]
  },
  {
   "cell_type": "code",
   "execution_count": 14,
   "id": "9ffc168a-2a50-493f-a5bd-2d77bf9361f3",
   "metadata": {},
   "outputs": [
    {
     "data": {
      "text/plain": [
       "1152"
      ]
     },
     "execution_count": 14,
     "metadata": {},
     "output_type": "execute_result"
    }
   ],
   "source": [
    "len(adm_perm)"
   ]
  },
  {
   "cell_type": "code",
   "execution_count": 22,
   "id": "2f208a30-c0ec-4dd6-947c-57b3b0380d72",
   "metadata": {},
   "outputs": [],
   "source": [
    "L_sets = [['E1', 'G4', 'E2', 'G3', 'E3'], ['E1', 'G4', 'E2', 'F12', 'E3'],\n",
    "          ['E1', 'G4', 'E2', 'G5', 'F34'], ['E1', 'G4', 'E2', 'G6', 'F34'], \n",
    "          ['E1', 'G4', 'F24', 'G2', 'F34'], ['E1', 'G4', 'F24', 'F13', 'F34'], \n",
    "          ['F14', 'G4', 'F24', 'F35', 'F34'], ['F14', 'G4', 'F24', 'F36', 'F34'], \n",
    "          ['E1', 'G4', 'E3', 'G2', 'E2'], ['E1', 'G4', 'E3', 'F13', 'E2'], \n",
    "          ['F14', 'G4', 'E3', 'F35', 'E2'], ['F14', 'G4', 'E3', 'F36', 'E2']]"
   ]
  },
  {
   "cell_type": "code",
   "execution_count": 23,
   "id": "cebbb20c-67aa-4f09-a84b-da6aeef09130",
   "metadata": {},
   "outputs": [
    {
     "data": {
      "text/plain": [
       "12"
      ]
     },
     "execution_count": 23,
     "metadata": {},
     "output_type": "execute_result"
    }
   ],
   "source": [
    "len(L_sets)"
   ]
  },
  {
   "cell_type": "code",
   "execution_count": 24,
   "id": "7e8ea003-7d1f-4b93-892b-3a4037850fe3",
   "metadata": {},
   "outputs": [],
   "source": [
    "M12 = SE1.find_all_proj_parallel(L_sets)"
   ]
  },
  {
   "cell_type": "code",
   "execution_count": 28,
   "id": "b44fbc90-ef9d-4479-a0e5-c13bfcd48600",
   "metadata": {},
   "outputs": [
    {
     "data": {
      "text/plain": [
       "12"
      ]
     },
     "execution_count": 28,
     "metadata": {},
     "output_type": "execute_result"
    }
   ],
   "source": [
    "len(M12)"
   ]
  },
  {
   "cell_type": "code",
   "execution_count": 29,
   "id": "b350298b-95c2-47fb-a12e-6a764fefb4d0",
   "metadata": {},
   "outputs": [
    {
     "data": {
      "text/plain": [
       "[\n",
       "[1 0 0 0]  [                        4*c^2                             0                             0 2*c^2 - 2*c*e - 2*c*f + 2*e*f]\n",
       "[0 1 0 0]  [                            0                         4*c^2                             0        -2*c*d + 2*c*e + 2*c*f]\n",
       "[0 0 1 0]  [                            0                             0                         4*c^2        -2*c^2 + 2*c*d - 2*e*f]\n",
       "[0 0 0 1], [                            0                             0                             0                        -4*c^2]\n",
       "]"
      ]
     },
     "execution_count": 29,
     "metadata": {},
     "output_type": "execute_result"
    }
   ],
   "source": [
    "SE1.find_simmetries(M12)"
   ]
  },
  {
   "cell_type": "code",
   "execution_count": 32,
   "id": "9da8f52b-a808-443e-bc46-f299eff277f8",
   "metadata": {},
   "outputs": [
    {
     "data": {
      "text/plain": [
       "[]"
      ]
     },
     "execution_count": 32,
     "metadata": {},
     "output_type": "execute_result"
    }
   ],
   "source": [
    "SE1.find_conditions_for_subfamilies(M12, simm_SE1)"
   ]
  },
  {
   "cell_type": "code",
   "execution_count": null,
   "id": "1136a420-40bd-425b-8592-e9d06420474c",
   "metadata": {},
   "outputs": [],
   "source": [
    "#verificare che se una delle matrici fissa cubica liscia, cubica ha punto di eckardt"
   ]
  },
  {
   "cell_type": "code",
   "execution_count": null,
   "id": "489d9116-010a-43de-8231-4e504880a5d1",
   "metadata": {},
   "outputs": [],
   "source": []
  },
  {
   "cell_type": "code",
   "execution_count": 33,
   "id": "fe239150-a732-43b6-9511-e352138fa4a0",
   "metadata": {},
   "outputs": [
    {
     "name": "stdout",
     "output_type": "stream",
     "text": [
      "(2,19)(3,22)(4,7)(5,25)(6,26)(8,13)(9,14)(11,16)(12,17)(18,27)(20,24)(21,23)\n"
     ]
    }
   ],
   "source": [
    "M2 = [mat for mat in simm_SE1 if mat != matrix.identity(4)][0]\n",
    "M2_perm = Permutation(apply_proj_to_lines(M2, list(SE1.cl_lines.values()))).to_permutation_group_element()\n",
    "print(M2_perm)"
   ]
  },
  {
   "cell_type": "code",
   "execution_count": 34,
   "id": "1bc8369e-c990-4bad-ab5e-82eee248988d",
   "metadata": {},
   "outputs": [],
   "source": [
    "perms_lines = []\n",
    "for perm in adm_perm:\n",
    "    perms_lines.append(Permutation([perm.index(label)+1 for label in keys]).to_cycles())"
   ]
  },
  {
   "cell_type": "code",
   "execution_count": 35,
   "id": "e7867d65-d44f-481a-a007-aed7c2423bc2",
   "metadata": {},
   "outputs": [],
   "source": [
    "Gr = PermutationGroup(perms_lines)"
   ]
  },
  {
   "cell_type": "code",
   "execution_count": 36,
   "id": "9fc2a896-232f-4245-b9df-694886a6d9f3",
   "metadata": {},
   "outputs": [
    {
     "data": {
      "text/plain": [
       "1152"
      ]
     },
     "execution_count": 36,
     "metadata": {},
     "output_type": "execute_result"
    }
   ],
   "source": [
    "Gr.order()"
   ]
  },
  {
   "cell_type": "code",
   "execution_count": 37,
   "id": "c4c1598b-da41-40f5-87dd-be61665d64c0",
   "metadata": {},
   "outputs": [
    {
     "data": {
      "text/plain": [
       "2"
      ]
     },
     "execution_count": 37,
     "metadata": {},
     "output_type": "execute_result"
    }
   ],
   "source": [
    "M2_perm.order()"
   ]
  },
  {
   "cell_type": "code",
   "execution_count": null,
   "id": "da0a4a9a-a8fd-4734-be01-1b3f4979e759",
   "metadata": {},
   "outputs": [],
   "source": [
    "for el in Gr:\n",
    "    print(el.order())"
   ]
  },
  {
   "cell_type": "code",
   "execution_count": 38,
   "id": "33a20c56-02b1-4fe4-9dc1-38723ce36d26",
   "metadata": {},
   "outputs": [],
   "source": [
    "el_order_4 = []\n",
    "for el in Gr.list():\n",
    "    iden = Gr.identity()\n",
    "    if el^2 == M2_perm and el^3 != iden and el^4 == iden:\n",
    "        el_order_4.append(el)"
   ]
  },
  {
   "cell_type": "code",
   "execution_count": 39,
   "id": "4d940a4b-7b5c-42be-a936-0f2ea4a7df4e",
   "metadata": {},
   "outputs": [
    {
     "data": {
      "text/plain": [
       "12"
      ]
     },
     "execution_count": 39,
     "metadata": {},
     "output_type": "execute_result"
    }
   ],
   "source": [
    "len(el_order_4)"
   ]
  },
  {
   "cell_type": "code",
   "execution_count": 71,
   "id": "af910142-f95d-456b-861e-f67b2a19aead",
   "metadata": {},
   "outputs": [
    {
     "name": "stdout",
     "output_type": "stream",
     "text": [
      "['E1', 'G4', 'E5', 'F15', 'E6', 'F24']\n",
      "['E1', 'G4', 'F45', 'G5', 'F46', 'E2']\n",
      "['E1', 'G4', 'E6', 'F16', 'E5', 'F34']\n",
      "['E1', 'G4', 'F46', 'G6', 'F45', 'E3']\n",
      "['E1', 'G4', 'E3', 'G6', 'F24', 'F46']\n",
      "['E1', 'G4', 'F34', 'F16', 'E2', 'E6']\n",
      "['E1', 'G4', 'E5', 'G2', 'F46', 'F24']\n",
      "['E1', 'G4', 'F45', 'F12', 'E6', 'E2']\n",
      "['E1', 'G4', 'E3', 'G5', 'F24', 'E6']\n",
      "['E1', 'G4', 'F34', 'F15', 'E2', 'F46']\n",
      "['E1', 'G4', 'E6', 'G2', 'F45', 'E3']\n",
      "['E1', 'G4', 'F46', 'F12', 'E5', 'F34']\n"
     ]
    }
   ],
   "source": [
    "labels_el_order_4 = [from_perm_to_labels(el) for el in el_order_4]\n",
    "for labels in labels_el_order_4:\n",
    "    print([labels[keys.index(label)] for label in ['E1', 'G4', 'E2', 'G3', 'E3', 'E5']])"
   ]
  },
  {
   "cell_type": "code",
   "execution_count": 41,
   "id": "ca903967-197a-4b07-b388-9ac9473c2cec",
   "metadata": {},
   "outputs": [],
   "source": [
    "projs = SE1.find_admissible_projectivities(labels_el_order_4)"
   ]
  },
  {
   "cell_type": "code",
   "execution_count": 73,
   "id": "5b2444b3-f0f2-437a-bd83-182ee66926a9",
   "metadata": {},
   "outputs": [
    {
     "data": {
      "text/plain": [
       "12"
      ]
     },
     "execution_count": 73,
     "metadata": {},
     "output_type": "execute_result"
    }
   ],
   "source": [
    "len(projs)"
   ]
  },
  {
   "cell_type": "code",
   "execution_count": 152,
   "id": "35a2855e-498c-490d-a7e4-f306ee50b54d",
   "metadata": {},
   "outputs": [],
   "source": [
    "mins = list(set(matrix([SE1.cl_lines['G3'].apply_proj(projs[1]).plucker, SE1.cl_lines['G5'].plucker]).minors(2)))"
   ]
  },
  {
   "cell_type": "code",
   "execution_count": 150,
   "id": "681970a4-e109-4962-8f15-c66e54a7d28a",
   "metadata": {},
   "outputs": [],
   "source": [
    "mins = [remove_sing_factors(el, SE1.sing_cubic) for el in mins if el !=0]"
   ]
  },
  {
   "cell_type": "code",
   "execution_count": 154,
   "id": "35ed5d76-3d83-42e5-a3a3-c96671d8f3f4",
   "metadata": {},
   "outputs": [
    {
     "data": {
      "text/plain": [
       "[]"
      ]
     },
     "execution_count": 157,
     "metadata": {},
     "output_type": "execute_result"
    }
   ],
   "source": [
    "[el.factor() for el in mins if el != 0]"
   ]
  },
  {
   "cell_type": "code",
   "execution_count": 143,
   "id": "e8ec9ab1-47d9-4d8d-800e-71382e450284",
   "metadata": {},
   "outputs": [
    {
     "data": {
      "text/plain": [
       "Polynomial Sequence with 72 Polynomials in 4 Variables"
      ]
     },
     "execution_count": 143,
     "metadata": {},
     "output_type": "execute_result"
    }
   ],
   "source": [
    "P.ideal(mins).groebner_basis()"
   ]
  },
  {
   "cell_type": "code",
   "execution_count": 97,
   "id": "e077d9e6-d1a2-40a7-bde6-333230c1537a",
   "metadata": {},
   "outputs": [],
   "source": [
    "def find_conditions_for_subfamilies(cubic, projectivities, simmetries):\n",
    "    mon = ((x+y+z+t)^3).monomials()\n",
    "    conditions = []\n",
    "    for M in [proj for proj in projectivities if proj not in simmetries]:\n",
    "        print(projectivities.index(M))\n",
    "        sost = change_coord(M)\n",
    "        new_cubic = remove_sing_factors(cubic.eqn.subs(sost), cubic.sing_cubic)    \n",
    "        minor = list(set(matrix([[new_cubic.coefficient(mn) for mn in mon], [cubic.eqn.coefficient(mn) for mn in mon]]).minors(2)))\n",
    "        minor = [remove_sing_factors(el, cubic.sing_cubic) for el in minor if el !=0]\n",
    "        ideale = cubic.P.ideal(minor)\n",
    "        print(ideale)\n",
    "        new_ideals = get_valid_ideals(ideale, cubic)\n",
    "        for ideal in new_ideals:            \n",
    "            prim_deco2 = (ideale + ideal).radical().primary_decomposition()\n",
    "            for ideal2 in prim_deco2:\n",
    "                if is_ideal_valid(cubic, ideal2):\n",
    "                    conditions.append(ideal2.gens())                        \n",
    "    return list(set(conditions))\n",
    "\n",
    "\n",
    "def get_valid_ideals(ideale, cubic):\n",
    "    valid_ideals = []\n",
    "    vrs = [c,d,e,f]\n",
    "    for vr in vrs:\n",
    "        valid_ideals_var = []\n",
    "        del_ideale = ideale.elimination_ideal([vr])\n",
    "        prim_deco_del = del_ideale.radical().primary_decomposition()\n",
    "        for ideal in prim_deco_del:\n",
    "            if is_ideal_valid(cubic, ideal):\n",
    "                valid_ideals_var.append(ideal)\n",
    "        if valid_ideals_var == []:\n",
    "            return []\n",
    "        else:\n",
    "            valid_ideals.append(valid_ideals_var)\n",
    "    return [id1+id2+id3+id4 for id1 in valid_ideals[0] for id2 in valid_ideals[1] for id3 in valid_ideals[2] for id4 in valid_ideals[3]] \n",
    "\n",
    "def is_ideal_valid(cubic, ideal):\n",
    "    if cubic.sing_cubic.value() in ideal:\n",
    "        return False\n",
    "    for poly in list(set([pl.conditions for pl in cubic.tritangent_planes if pl.conditions != 0])):\n",
    "        if poly in ideal:\n",
    "            return False\n",
    "    return True"
   ]
  },
  {
   "cell_type": "code",
   "execution_count": null,
   "id": "7ae64a94-94e5-4901-9fe0-63bc33ca2ed5",
   "metadata": {},
   "outputs": [],
   "source": [
    "find_conditions_for_subfamilies(SE1, [projs[1]], simm_SE1)"
   ]
  },
  {
   "cell_type": "code",
   "execution_count": 81,
   "id": "f1ba8633-504e-496b-a67a-35093158cadc",
   "metadata": {},
   "outputs": [],
   "source": [
    "Ide = Ideal(327*d*e + (6*i - 129)*e^2 + (14*i + 26)*c*f + (-48*i - 167)*d*f + (-56*i - 104)*e*f + (32*i + 75)*f^2, 654*c*e + (-504*i + 372)*e^2 + (23*i - 331)*c*f + (108*i + 76)*d*f + (562*i + 16)*e*f + (-181*i - 87)*f^2, 654*d^2 + (-24*i - 138)*e^2 + (-56*i - 104)*c*f + (192*i - 313)*d*f + (224*i + 89)*e*f + (-128*i + 27)*f^2, 654*c*d + (-192*i + 204)*e^2 + (-121*i - 69)*c*f + (-208*i - 106)*d*f + (-170*i - 378)*e*f + (175*i + 107)*f^2, 654*c^2 + (600*i + 180)*e^2 + (-17*i + 311)*c*f + (-4*i - 132)*d*f + (-586*i - 590)*e*f + (39*i + 197)*f^2, 1962*e^3 + (219*i - 21549)*e^2*f + (511*i + 949)*c*f^2 + (-1752*i - 2008)*d*f^2 + (-2044*i + 7322)*e*f^2 + (1168*i + 1266)*f^3)"
   ]
  },
  {
   "cell_type": "code",
   "execution_count": 96,
   "id": "808804f2-f803-43c1-8c14-4563f744bbde",
   "metadata": {},
   "outputs": [
    {
     "data": {
      "text/plain": [
       "2*c^5 + (-8*i + 6)*c^4*d + (-14*i - 3)*c^3*d^2 + (-8*i - 3)*c^2*d^3 + (-7*i - 11)*c*d^4 + (6*i - 6)*d^5"
      ]
     },
     "execution_count": 96,
     "metadata": {},
     "output_type": "execute_result"
    }
   ],
   "source": [
    "Ide.elimination_ideal([e,f]).gens()[0]"
   ]
  },
  {
   "cell_type": "code",
   "execution_count": null,
   "id": "e3405f58-0a1a-45b5-8e6b-2069451dbba8",
   "metadata": {},
   "outputs": [],
   "source": []
  },
  {
   "cell_type": "code",
   "execution_count": 55,
   "id": "e36533ab-3ad7-44da-a829-db4d1639129b",
   "metadata": {},
   "outputs": [
    {
     "name": "stdout",
     "output_type": "stream",
     "text": [
      "0\n",
      "1\n",
      "2\n",
      "3\n",
      "4\n",
      "5\n",
      "6\n",
      "7\n",
      "8\n",
      "9\n",
      "10\n",
      "11\n",
      "CPU times: user 4min 26s, sys: 4.27 s, total: 4min 30s\n",
      "Wall time: 4min 34s\n"
     ]
    }
   ],
   "source": [
    "%time conds = find_conditions_for_subfamilies(SE1, projs, simm_SE1)"
   ]
  },
  {
   "cell_type": "code",
   "execution_count": 56,
   "id": "eda8c4fb-2230-4d5f-af66-3ec58555bbbe",
   "metadata": {},
   "outputs": [
    {
     "data": {
      "text/plain": [
       "28"
      ]
     },
     "execution_count": 56,
     "metadata": {},
     "output_type": "execute_result"
    }
   ],
   "source": [
    "conds_linear = [cond for cond in conds if [el.degree() for el in cond] == [1,1,1]]\n",
    "len(conds_linear)"
   ]
  },
  {
   "cell_type": "code",
   "execution_count": 57,
   "id": "985d67bd-50f7-4658-96ef-741dd99b53f5",
   "metadata": {},
   "outputs": [
    {
     "data": {
      "text/plain": [
       "60"
      ]
     },
     "execution_count": 57,
     "metadata": {},
     "output_type": "execute_result"
    }
   ],
   "source": [
    "non_linear_conds = [cond for cond in conds if cond not in conds_linear]\n",
    "len(non_linear_conds)"
   ]
  },
  {
   "cell_type": "code",
   "execution_count": null,
   "id": "0f33c959-ecc9-491b-9a9d-b967745a4363",
   "metadata": {},
   "outputs": [],
   "source": [
    "non_linear_conds"
   ]
  },
  {
   "cell_type": "code",
   "execution_count": 59,
   "id": "af54feba-9245-4c76-b59a-12e5a75208ac",
   "metadata": {},
   "outputs": [
    {
     "data": {
      "text/plain": [
       "[(10*i + 55)*c, 0, 25*c, (20*i - 15)*c]"
      ]
     },
     "execution_count": 59,
     "metadata": {},
     "output_type": "execute_result"
    }
   ],
   "source": [
    "sost = solve_linear_system(conds_linear[0], [d,e,f], [c])\n",
    "sost"
   ]
  },
  {
   "cell_type": "code",
   "execution_count": 60,
   "id": "6715eca0-6ef7-4faa-a67d-b696e0bdc091",
   "metadata": {},
   "outputs": [],
   "source": [
    "var = [d,e,f,c]"
   ]
  },
  {
   "cell_type": "code",
   "execution_count": 61,
   "id": "6250a6b5-9705-470e-aa79-722ccfe43beb",
   "metadata": {},
   "outputs": [
    {
     "data": {
      "text/plain": [
       "(100*i + 550)*x^2*z + (1450*i - 1400)*x*y*z + (-350*i + 1200)*x*z^2 + (1100*i - 200)*x*y*t + (450*i - 650)*y^2*t + (-1550*i + 850)*y*z*t + (-1200*i - 350)*y*t^2"
      ]
     },
     "execution_count": 61,
     "metadata": {},
     "output_type": "execute_result"
    }
   ],
   "source": [
    "nc = SE1.subs({var[i]:sost[i] for i in range(4)})\n",
    "nc"
   ]
  },
  {
   "cell_type": "code",
   "execution_count": 62,
   "id": "d0e3228a-f13d-48a4-b183-64bd7d853fe2",
   "metadata": {},
   "outputs": [
    {
     "data": {
      "text/plain": [
       "[(0, 0, 0, 1)]"
      ]
     },
     "execution_count": 62,
     "metadata": {},
     "output_type": "execute_result"
    }
   ],
   "source": [
    "nc.eckardt_points"
   ]
  },
  {
   "cell_type": "code",
   "execution_count": 63,
   "id": "94e5b8a1-fccd-4dd5-9032-6d6d14b083fa",
   "metadata": {},
   "outputs": [
    {
     "name": "stdout",
     "output_type": "stream",
     "text": [
      "CPU times: user 2.61 s, sys: 301 ms, total: 2.91 s\n",
      "Wall time: 10.1 s\n"
     ]
    }
   ],
   "source": [
    "%time nc_proj = nc.find_admissible_projectivities()"
   ]
  },
  {
   "cell_type": "code",
   "execution_count": 64,
   "id": "664bd9a1-be29-4da4-a737-c712004470a0",
   "metadata": {},
   "outputs": [
    {
     "data": {
      "text/plain": [
       "576"
      ]
     },
     "execution_count": 64,
     "metadata": {},
     "output_type": "execute_result"
    }
   ],
   "source": [
    "len(nc_proj)"
   ]
  },
  {
   "cell_type": "code",
   "execution_count": 65,
   "id": "fb67c2f9-7145-4a6f-94f9-78567243c236",
   "metadata": {},
   "outputs": [
    {
     "name": "stdout",
     "output_type": "stream",
     "text": [
      "CPU times: user 1.9 s, sys: 207 ms, total: 2.1 s\n",
      "Wall time: 2.71 s\n"
     ]
    }
   ],
   "source": [
    "%time nc_simm = nc.find_simmetries(nc_proj)"
   ]
  },
  {
   "cell_type": "code",
   "execution_count": 66,
   "id": "bea022a8-477c-4375-8f34-ab0595c8a860",
   "metadata": {},
   "outputs": [
    {
     "data": {
      "text/plain": [
       "4"
      ]
     },
     "execution_count": 66,
     "metadata": {},
     "output_type": "execute_result"
    }
   ],
   "source": [
    "len(nc_simm)"
   ]
  },
  {
   "cell_type": "code",
   "execution_count": 39,
   "id": "a776fdce-3f2e-4f43-8bcb-5550fdc63a24",
   "metadata": {},
   "outputs": [],
   "source": [
    "for i in range(len(nc_simm)-1):\n",
    "    mat1 = nc_simm[i]\n",
    "    for j in range(i+1, len(nc_simm)):\n",
    "        mat2 = nc_simm[j]\n",
    "        are_matrices_equal(mat1, mat2)"
   ]
  },
  {
   "cell_type": "code",
   "execution_count": 67,
   "id": "f870a672-d586-4f8b-84d9-3b45a5da3061",
   "metadata": {},
   "outputs": [],
   "source": [
    "Gnc = Group(nc_simm)"
   ]
  },
  {
   "cell_type": "code",
   "execution_count": 68,
   "id": "ac11d299-9bb3-43e4-a67b-7a0a44cca500",
   "metadata": {},
   "outputs": [
    {
     "data": {
      "text/plain": [
       "[1, 4, 4, 2]"
      ]
     },
     "execution_count": 68,
     "metadata": {},
     "output_type": "execute_result"
    }
   ],
   "source": [
    "Gnc.get_order_of_elements()"
   ]
  },
  {
   "cell_type": "code",
   "execution_count": 69,
   "id": "cc70a1b4-f06e-4edc-b4a2-58a22f6fd54e",
   "metadata": {},
   "outputs": [
    {
     "data": {
      "text/plain": [
       "True"
      ]
     },
     "execution_count": 69,
     "metadata": {},
     "output_type": "execute_result"
    }
   ],
   "source": [
    "Gnc.is_group()"
   ]
  },
  {
   "cell_type": "code",
   "execution_count": null,
   "id": "44314d28-d0c5-4507-ba17-dd19caeb4cfe",
   "metadata": {},
   "outputs": [],
   "source": [
    "%%time\n",
    "for cond in conds_linear:\n",
    "    sost = solve_linear_system(cond, [d,e,f], [c])\n",
    "    nc = SE1.subs({var[i]:sost[i] for i in range(4)})\n",
    "    print(len(nc.find_simmetries()))"
   ]
  },
  {
   "cell_type": "code",
   "execution_count": null,
   "id": "9b519e4c-58ff-4bd2-a8fd-cc97108e340a",
   "metadata": {},
   "outputs": [],
   "source": []
  },
  {
   "cell_type": "code",
   "execution_count": null,
   "id": "6fc624b4-992b-4cb2-ab26-7842143bb7a4",
   "metadata": {},
   "outputs": [],
   "source": []
  },
  {
   "cell_type": "code",
   "execution_count": null,
   "id": "d89b39d7-9bdc-46c1-8249-0e271a122eb1",
   "metadata": {},
   "outputs": [],
   "source": []
  },
  {
   "cell_type": "code",
   "execution_count": null,
   "id": "e4083133-1e4c-4f41-8c57-349cf5aa385f",
   "metadata": {},
   "outputs": [],
   "source": []
  },
  {
   "cell_type": "code",
   "execution_count": null,
   "id": "1d02af7b-7a44-46d3-93cc-f4c432ebc325",
   "metadata": {},
   "outputs": [],
   "source": []
  },
  {
   "cell_type": "code",
   "execution_count": null,
   "id": "e5c423e2-2aef-4d86-a810-addfb942e86b",
   "metadata": {},
   "outputs": [],
   "source": []
  },
  {
   "cell_type": "code",
   "execution_count": null,
   "id": "f904a811-b671-4866-933a-da394a48991f",
   "metadata": {},
   "outputs": [],
   "source": []
  },
  {
   "cell_type": "code",
   "execution_count": null,
   "id": "4023da32-880b-4707-ae17-d2971c1b1bbe",
   "metadata": {},
   "outputs": [],
   "source": []
  },
  {
   "cell_type": "code",
   "execution_count": 45,
   "id": "15ea92c8-5cda-4446-b052-ed76d056c8b7",
   "metadata": {},
   "outputs": [],
   "source": [
    "with open('conditions.pickle', 'rb') as ff:\n",
    "    conditions = pickle.load(ff)"
   ]
  },
  {
   "cell_type": "code",
   "execution_count": null,
   "id": "872296bf-3a92-425c-ad13-3565be9b29a7",
   "metadata": {},
   "outputs": [],
   "source": []
  },
  {
   "cell_type": "code",
   "execution_count": null,
   "id": "46316ae0-8b44-44c9-a715-9b0db4837d1c",
   "metadata": {},
   "outputs": [],
   "source": []
  }
 ],
 "metadata": {
  "kernelspec": {
   "display_name": "SageMath 9.4",
   "language": "sage",
   "name": "sagemath"
  },
  "language_info": {
   "codemirror_mode": {
    "name": "ipython",
    "version": 3
   },
   "file_extension": ".py",
   "mimetype": "text/x-python",
   "name": "python",
   "nbconvert_exporter": "python",
   "pygments_lexer": "ipython3",
   "version": "3.7.12"
  }
 },
 "nbformat": 4,
 "nbformat_minor": 5
}
