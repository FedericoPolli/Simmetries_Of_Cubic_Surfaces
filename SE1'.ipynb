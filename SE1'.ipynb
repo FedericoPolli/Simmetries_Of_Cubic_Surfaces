{
 "cells": [
  {
   "cell_type": "code",
   "execution_count": 12,
   "id": "13dd6b6a-bc7d-4edd-af6c-99d471bc540e",
   "metadata": {},
   "outputs": [],
   "source": [
    "load('Imports/Utility.sage', 'Imports/Point.sage', 'Imports/Line.sage', 'Imports/TritangentPlane.sage', 'Imports/Group.sage', 'Imports/Cubic.sage')\n",
    "import multiprocessing as mp\n",
    "import pickle"
   ]
  },
  {
   "cell_type": "code",
   "execution_count": 13,
   "id": "21967230-0942-4b52-a41a-b865769ef5ce",
   "metadata": {},
   "outputs": [],
   "source": [
    "var('xx')\n",
    "Q.<i> = NumberField(xx^2 + 1)"
   ]
  },
  {
   "cell_type": "code",
   "execution_count": 14,
   "id": "0f2f5331-66e4-4296-a421-160427d90c45",
   "metadata": {},
   "outputs": [],
   "source": [
    "P.<x,y,z,t,b,c,d,e,f,l,m> = PolynomialRing(Q)\n",
    "cubic_new = e*f*(2*x^2*y-2*x*y^2+x*z^2-x*z*t-y*t^2+y*z*t)+b*c*(x-t)*(x*z+y*t)+c*c*(z+t)*(y*t-x*z)+d*c*(y-z)*(x*z+y*t)+(e+f)*c*(x-y)*(y*t-x*z)\n",
    "sing_cubics = (-1) * (-c + f) * (-c + e) * c * (c + f) * (c + e) * (-e + f)^2 * (-c*d + c*f + e*f) * (-c*d + c*e + e*f) * (-c^2 - c*d + e*f) * (b*c - c*f + e*f) * (b*c - c*e + e*f) * (b*c - c*d + 2*e*f) * (b*c - c^2 + e*f) * (b*c^2 + c^2*d + b*c*f - 2*c^2*f - c*d*f + 2*e*f^2) * (b*c^2 + c^2*d + b*c*e - 2*c^2*e - c*d*e + 2*e^2*f) * (-b*c^3 - 2*b*c^2*d + c^3*d + b*c^2*e + c^2*d*e + b*c^2*f + c^2*d*f + 3*b*c*e*f - 4*c^2*e*f - 3*c*d*e*f + 4*e^2*f^2)\n",
    "line = Line([y, z])\n",
    "general_cubic = Cubic(cubic_new, line, sing_cubics)\n",
    "SE1 = general_cubic.subs({b:-(c*c+e*f)/c})"
   ]
  },
  {
   "cell_type": "code",
   "execution_count": 15,
   "id": "d0a536ee-9abe-4ed5-abec-b2a70f56a8e4",
   "metadata": {},
   "outputs": [
    {
     "name": "stdout",
     "output_type": "stream",
     "text": [
      "CPU times: user 7.93 s, sys: 288 ms, total: 8.22 s\n",
      "Wall time: 19.2 s\n"
     ]
    },
    {
     "data": {
      "text/plain": [
       "576"
      ]
     },
     "execution_count": 15,
     "metadata": {},
     "output_type": "execute_result"
    }
   ],
   "source": [
    "%time adm_SE1 = SE1.find_admissible_projectivities()\n",
    "len(adm_SE1)"
   ]
  },
  {
   "cell_type": "code",
   "execution_count": 16,
   "id": "d6b986ae-92c6-4023-98f7-cee825d2df8b",
   "metadata": {},
   "outputs": [
    {
     "name": "stdout",
     "output_type": "stream",
     "text": [
      "CPU times: user 4.27 s, sys: 248 ms, total: 4.52 s\n",
      "Wall time: 26.1 s\n"
     ]
    },
    {
     "data": {
      "text/plain": [
       "2"
      ]
     },
     "execution_count": 16,
     "metadata": {},
     "output_type": "execute_result"
    }
   ],
   "source": [
    "%time simm_SE1 = SE1.find_simmetries(adm_SE1)\n",
    "len(simm_SE1)"
   ]
  },
  {
   "cell_type": "code",
   "execution_count": 22,
   "id": "8125990d-b6dd-45c8-a546-ae47d4fc33fd",
   "metadata": {},
   "outputs": [],
   "source": [
    "with open('all_L_sets.pickle', 'rb') as fil:\n",
    "    all_L_sets = pickle.load(fil)"
   ]
  },
  {
   "cell_type": "code",
   "execution_count": 23,
   "id": "775e4ab6-748d-490e-bebb-c0d1e62ec0bc",
   "metadata": {},
   "outputs": [],
   "source": [
    "possible_L_sets = [L_set for L_set in all_L_sets if L_set[0:3] == ('E1', 'G4', 'E3')]\n",
    "possible_projs = SE1.find_all_proj_parallel(possible_L_sets)"
   ]
  },
  {
   "cell_type": "code",
   "execution_count": 47,
   "id": "d6a0772b-996a-4d2d-a800-bb589fdabd77",
   "metadata": {},
   "outputs": [
    {
     "name": "stdout",
     "output_type": "stream",
     "text": [
      "CPU times: user 9.52 s, sys: 35.2 ms, total: 9.55 s\n",
      "Wall time: 9.59 s\n"
     ]
    },
    {
     "data": {
      "text/plain": [
       "[[4*c + (i)*d + (-i)*e + (i + 2)*f, 5*d^2 + (4*i - 2)*d*e + (-4*i - 3)*e^2 + (-8*i - 6)*d*f + (-36*i + 38)*e*f + (24*i - 7)*f^2],\n",
       " [4*c + (-i)*d + (i)*e + (-i + 2)*f, 5*d^2 + (-4*i - 2)*d*e + (4*i - 3)*e^2 + (8*i - 6)*d*f + (36*i + 38)*e*f + (-24*i - 7)*f^2],\n",
       " [4*c + (i)*d + (i + 2)*e + (-i)*f, 5*d^2 + (-8*i - 6)*d*e + (24*i - 7)*e^2 + (4*i - 2)*d*f + (-36*i + 38)*e*f + (-4*i - 3)*f^2],\n",
       " [4*c + (-i)*d + (-i + 2)*e + (i)*f, 5*d^2 + (8*i - 6)*d*e + (-24*i - 7)*e^2 + (-4*i - 2)*d*f + (36*i + 38)*e*f + (4*i - 3)*f^2]]"
      ]
     },
     "execution_count": 59,
     "metadata": {},
     "output_type": "execute_result"
    }
   ],
   "source": [
    "%time SE1.find_conditions_for_subfamilies(possible_projs)"
   ]
  },
  {
   "cell_type": "code",
   "execution_count": 27,
   "id": "bcf601b6-0474-4d7e-a6de-1f1745cbf47c",
   "metadata": {},
   "outputs": [
    {
     "name": "stdout",
     "output_type": "stream",
     "text": [
      "CPU times: user 9.04 s, sys: 19.2 ms, total: 9.06 s\n",
      "Wall time: 9.11 s\n"
     ]
    }
   ],
   "source": [
    "%%time\n",
    "mon = ((x+y+z+t)^3).monomials()\n",
    "primary_decs = []\n",
    "ideals = []\n",
    "for proj in possible_projs:\n",
    "    nc = remove_sing_factors(SE1.eqn.subs(change_coord(proj)), SE1.sing_locus)\n",
    "    conds = list(set(matrix([[SE1.coefficient(mn) for mn in mon], [nc.coefficient(mn) for mn in mon]]).minors(2)))\n",
    "    red_conds = [remove_sing_factors(cond, SE1.sing_locus) for cond in conds if cond !=0]\n",
    "    ideal = P.ideal(red_conds)\n",
    "    primary_dec = [ideal for ideal in ideal.radical().primary_decomposition() if SE1.is_ideal_valid(ideal)]\n",
    "    ideals += primary_dec\n",
    "    primary_decs.append(primary_dec)"
   ]
  },
  {
   "cell_type": "code",
   "execution_count": 28,
   "id": "02cf4b1e-7483-424e-9ae9-3a2cdbd48744",
   "metadata": {},
   "outputs": [
    {
     "name": "stdout",
     "output_type": "stream",
     "text": [
      "('E1', 'G4', 'E3', 'G6', 'F24')\n",
      "[Ideal (4*c + (i)*d + (-i)*e + (i + 2)*f, 5*d^2 + (4*i - 2)*d*e + (-4*i - 3)*e^2 + (-8*i - 6)*d*f + (-36*i + 38)*e*f + (24*i - 7)*f^2) of Multivariate Polynomial Ring in x, y, z, t, b, c, d, e, f, l, m over Number Field in i with defining polynomial xx^2 + 1, Ideal (4*c + (-i)*d + (i)*e + (-i + 2)*f, 5*d^2 + (-4*i - 2)*d*e + (4*i - 3)*e^2 + (8*i - 6)*d*f + (36*i + 38)*e*f + (-24*i - 7)*f^2) of Multivariate Polynomial Ring in x, y, z, t, b, c, d, e, f, l, m over Number Field in i with defining polynomial xx^2 + 1]\n",
      "('E1', 'G4', 'E3', 'G5', 'F24')\n",
      "[Ideal (4*c + (i)*d + (i + 2)*e + (-i)*f, 5*d^2 + (-8*i - 6)*d*e + (24*i - 7)*e^2 + (4*i - 2)*d*f + (-36*i + 38)*e*f + (-4*i - 3)*f^2) of Multivariate Polynomial Ring in x, y, z, t, b, c, d, e, f, l, m over Number Field in i with defining polynomial xx^2 + 1, Ideal (4*c + (-i)*d + (-i + 2)*e + (i)*f, 5*d^2 + (8*i - 6)*d*e + (-24*i - 7)*e^2 + (-4*i - 2)*d*f + (36*i + 38)*e*f + (4*i - 3)*f^2) of Multivariate Polynomial Ring in x, y, z, t, b, c, d, e, f, l, m over Number Field in i with defining polynomial xx^2 + 1]\n"
     ]
    }
   ],
   "source": [
    "for ii in range(len(possible_L_sets)):\n",
    "    if primary_decs[ii] != []:\n",
    "        print(possible_L_sets[ii])\n",
    "        print(primary_decs[ii])"
   ]
  },
  {
   "cell_type": "code",
   "execution_count": 36,
   "id": "2c552e8f-9d2e-4911-b2fd-a89f3ca3ffc4",
   "metadata": {},
   "outputs": [],
   "source": [
    "ideale = ideals[0]"
   ]
  },
  {
   "cell_type": "code",
   "execution_count": 40,
   "id": "b3d1740e-2497-4234-882e-f4d7e7ee409b",
   "metadata": {},
   "outputs": [],
   "source": [
    "poly_e = ideale.gens()[0]\n",
    "e_sost = {e: -(poly_e-poly_e.coefficient(e)*e)/poly_e.coefficient(e)}"
   ]
  },
  {
   "cell_type": "code",
   "execution_count": 41,
   "id": "acac30ea-02f5-4350-a688-0dfda31c2343",
   "metadata": {},
   "outputs": [],
   "source": [
    "poly_d = [gen for gen in ideale.subs(e_sost).gens() if gen !=0][0]\n",
    "d_sost = {d:-(poly_d-poly_d.coefficient(d)*d)/poly_d.coefficient(d)}"
   ]
  },
  {
   "cell_type": "code",
   "execution_count": 42,
   "id": "e8ef3e43-1bb4-4468-9337-bd6ed4135fde",
   "metadata": {},
   "outputs": [
    {
     "data": {
      "text/plain": [
       "[0, 0]"
      ]
     },
     "execution_count": 42,
     "metadata": {},
     "output_type": "execute_result"
    }
   ],
   "source": [
    "[gen.subs(e_sost).subs(d_sost) for gen in ideale.gens()]"
   ]
  },
  {
   "cell_type": "code",
   "execution_count": 43,
   "id": "74d86c1d-30b7-43d0-b920-a91bafb4d298",
   "metadata": {},
   "outputs": [],
   "source": [
    "SE1_1 = SE1.subs(e_sost).subs(d_sost)"
   ]
  },
  {
   "cell_type": "code",
   "execution_count": 45,
   "id": "043445dd-c397-4b60-acb6-97d53450aec8",
   "metadata": {},
   "outputs": [
    {
     "name": "stdout",
     "output_type": "stream",
     "text": [
      "CPU times: user 2.47 s, sys: 218 ms, total: 2.69 s\n",
      "Wall time: 21.6 s\n"
     ]
    },
    {
     "data": {
      "text/plain": [
       "576"
      ]
     },
     "execution_count": 45,
     "metadata": {},
     "output_type": "execute_result"
    }
   ],
   "source": [
    "%time adm_SE1_1 = SE1_1.find_admissible_projectivities()\n",
    "len(adm_SE1_1)"
   ]
  },
  {
   "cell_type": "code",
   "execution_count": 46,
   "id": "04df03fc-9a95-4ce6-9b1d-554da74dfc99",
   "metadata": {},
   "outputs": [
    {
     "name": "stdout",
     "output_type": "stream",
     "text": [
      "CPU times: user 1.62 s, sys: 182 ms, total: 1.81 s\n",
      "Wall time: 8.35 s\n"
     ]
    },
    {
     "data": {
      "text/plain": [
       "4"
      ]
     },
     "execution_count": 46,
     "metadata": {},
     "output_type": "execute_result"
    }
   ],
   "source": [
    "%time simm_SE1_1 = SE1_1.find_simmetries(adm_SE1_1)\n",
    "len(simm_SE1_1)"
   ]
  },
  {
   "cell_type": "code",
   "execution_count": 47,
   "id": "e8157c21-d101-43bb-ae94-b1b129cb9485",
   "metadata": {},
   "outputs": [
    {
     "data": {
      "text/plain": [
       "(4, 'C4')"
      ]
     },
     "execution_count": 47,
     "metadata": {},
     "output_type": "execute_result"
    }
   ],
   "source": [
    "lines_perms = []\n",
    "for simm in simm_SE1_1:\n",
    "    lines_perms.append(Permutation(SE1_1.apply_proj_to_lines(simm)).to_permutation_group_element())\n",
    "lines_perms_group = PermutationGroup(lines_perms)\n",
    "lines_perms_group.order(), lines_perms_group.structure_description()"
   ]
  },
  {
   "cell_type": "code",
   "execution_count": 48,
   "id": "d7faecc5-0cd5-4262-867b-eeba22fef5d4",
   "metadata": {},
   "outputs": [
    {
     "data": {
      "text/plain": [
       "[(2,3,19,22)(4,21,7,23)(5,26,25,6)(8,16,13,11)(9,12,14,17)(18,24,27,20)]"
      ]
     },
     "execution_count": 48,
     "metadata": {},
     "output_type": "execute_result"
    }
   ],
   "source": [
    "lines_perms_group.gens_small()"
   ]
  },
  {
   "cell_type": "code",
   "execution_count": 49,
   "id": "7b618953-aed9-4b11-a553-3f3a35ee5d83",
   "metadata": {},
   "outputs": [
    {
     "data": {
      "text/plain": [
       "[('E1', 'G4', 'E3', 'G6', 'F24', 'F46')]"
      ]
     },
     "execution_count": 49,
     "metadata": {},
     "output_type": "execute_result"
    }
   ],
   "source": [
    "[get_permuted_extended_L_set(perm) for perm in lines_perms_group.gens_small()]"
   ]
  },
  {
   "cell_type": "code",
   "execution_count": null,
   "id": "5efb70ff-4935-4372-b767-d8c69a464302",
   "metadata": {},
   "outputs": [],
   "source": []
  }
 ],
 "metadata": {
  "kernelspec": {
   "display_name": "SageMath 9.4",
   "language": "sage",
   "name": "sagemath"
  },
  "language_info": {
   "codemirror_mode": {
    "name": "ipython",
    "version": 3
   },
   "file_extension": ".py",
   "mimetype": "text/x-python",
   "name": "python",
   "nbconvert_exporter": "python",
   "pygments_lexer": "ipython3",
   "version": "3.7.12"
  }
 },
 "nbformat": 4,
 "nbformat_minor": 5
}
