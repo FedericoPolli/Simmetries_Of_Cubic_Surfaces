{
 "cells": [
  {
   "cell_type": "code",
   "execution_count": 1,
   "id": "58320e02-53d1-4aa8-9435-b12c34877bd1",
   "metadata": {},
   "outputs": [],
   "source": [
    "load('Imports/Utility.sage', 'Imports/Point.sage', 'Imports/Line.sage', 'Imports/TritangentPlane.sage', 'Imports/Group.sage', 'Imports/Cubic.sage')\n",
    "import multiprocessing as mp\n",
    "import pickle"
   ]
  },
  {
   "cell_type": "code",
   "execution_count": 2,
   "id": "a63d0122-d2f3-4361-84c1-0e6aa92f1ab7",
   "metadata": {},
   "outputs": [
    {
     "data": {
      "text/plain": [
       "x^4 - 2*x^2 + 9"
      ]
     },
     "execution_count": 2,
     "metadata": {},
     "output_type": "execute_result"
    }
   ],
   "source": [
    "(sqrt(2)-I).minpoly()"
   ]
  },
  {
   "cell_type": "code",
   "execution_count": 3,
   "id": "c101d389-4ae6-41ff-90d8-018ddc01b284",
   "metadata": {},
   "outputs": [
    {
     "data": {
      "text/plain": [
       "sqrt(2)"
      ]
     },
     "execution_count": 3,
     "metadata": {},
     "output_type": "execute_result"
    }
   ],
   "source": [
    "(-((sqrt(2)-I)^3-5*(sqrt(2)-I))/6).expand()"
   ]
  },
  {
   "cell_type": "code",
   "execution_count": 4,
   "id": "21967230-0942-4b52-a41a-b865769ef5ce",
   "metadata": {},
   "outputs": [],
   "source": [
    "var('xx')\n",
    "Q.<rad2_minus_i> = NumberField(xx^4 - 2*xx^2 + 9)"
   ]
  },
  {
   "cell_type": "code",
   "execution_count": 5,
   "id": "d689b9b5-0391-4e91-bcf8-1d945c0e8180",
   "metadata": {},
   "outputs": [],
   "source": [
    "i = -(rad2_minus_i^3+rad2_minus_i)/6"
   ]
  },
  {
   "cell_type": "code",
   "execution_count": 6,
   "id": "ac214131-5c15-4613-9890-c30129ac841f",
   "metadata": {},
   "outputs": [],
   "source": [
    "rad2 = -(rad2_minus_i^3-5*rad2_minus_i)/6"
   ]
  },
  {
   "cell_type": "code",
   "execution_count": 7,
   "id": "6d97908e-d58f-4510-bb36-6f043766708e",
   "metadata": {},
   "outputs": [],
   "source": [
    "P.<x,y,z,t,b,c,d,e,f,l,m> = PolynomialRing(Q)\n",
    "cubic_new = e*f*(2*x^2*y-2*x*y^2+x*z^2-x*z*t-y*t^2+y*z*t)+b*c*(x-t)*(x*z+y*t)+c*c*(z+t)*(y*t-x*z)+d*c*(y-z)*(x*z+y*t)+(e+f)*c*(x-y)*(y*t-x*z)\n",
    "sing_cubics = (-1) * (-c + f) * (-c + e) * c * (c + f) * (c + e) * (-e + f)^2 * (-c*d + c*f + e*f) * (-c*d + c*e + e*f) * (-c^2 - c*d + e*f) * (b*c - c*f + e*f) * (b*c - c*e + e*f) * (b*c - c*d + 2*e*f) * (b*c - c^2 + e*f) * (b*c^2 + c^2*d + b*c*f - 2*c^2*f - c*d*f + 2*e*f^2) * (b*c^2 + c^2*d + b*c*e - 2*c^2*e - c*d*e + 2*e^2*f) * (-b*c^3 - 2*b*c^2*d + c^3*d + b*c^2*e + c^2*d*e + b*c^2*f + c^2*d*f + 3*b*c*e*f - 4*c^2*e*f - 3*c*d*e*f + 4*e^2*f^2)\n",
    "line = Line([y, z])\n",
    "general_cubic = Cubic(cubic_new, line, sing_cubics)\n",
    "SE1 = general_cubic.subs({b:-(c*c+e*f)/c})"
   ]
  },
  {
   "cell_type": "code",
   "execution_count": 8,
   "id": "9b519e4c-58ff-4bd2-a8fd-cc97108e340a",
   "metadata": {},
   "outputs": [],
   "source": [
    "e_sost = {e:c*((1 - 2*i)*c + f)/((1 + 2*i)*c + f)}\n",
    "d_sost = {d:((1 + 2*i)*c^2 - (2 - 2*i)*c*f + f^2)*(c + f)/(((1 + 2*i)*c + f)*((-1 + 2*i)*c + f))}"
   ]
  },
  {
   "cell_type": "code",
   "execution_count": 18,
   "id": "489d9116-010a-43de-8231-4e504880a5d1",
   "metadata": {},
   "outputs": [
    {
     "data": {
      "text/plain": [
       "(2/387420489*rad2_minus_i^3 + 2/387420489*rad2_minus_i + 2/129140163)*x^2*z*c^3 + (-1/129140163*rad2_minus_i^3 - 1/129140163*rad2_minus_i + 4/129140163)*x*y*z*c^3 + (1/387420489*rad2_minus_i^3 + 1/387420489*rad2_minus_i + 4/129140163)*x*z^2*c^3 + (-2/387420489*rad2_minus_i^3 - 2/387420489*rad2_minus_i + 8/129140163)*x*y*t*c^3 + (1/387420489*rad2_minus_i^3 + 1/387420489*rad2_minus_i - 2/129140163)*y^2*t*c^3 + (1/387420489*rad2_minus_i^3 + 1/387420489*rad2_minus_i - 2/43046721)*y*z*t*c^3 - 10/129140163*y*t^2*c^3 + (-4/387420489*rad2_minus_i^3 - 4/387420489*rad2_minus_i + 2/43046721)*x^2*y*c^2*f + (4/387420489*rad2_minus_i^3 + 4/387420489*rad2_minus_i - 2/43046721)*x*y^2*c^2*f + (4/387420489*rad2_minus_i^3 + 4/387420489*rad2_minus_i + 2/129140163)*x^2*z*c^2*f + (-2/387420489*rad2_minus_i^3 - 2/387420489*rad2_minus_i - 2/43046721)*x*y*z*c^2*f + (2/387420489*rad2_minus_i^3 + 2/387420489*rad2_minus_i + 4/129140163)*x*z^2*c^2*f + (4/387420489*rad2_minus_i^3 + 4/387420489*rad2_minus_i - 8/129140163)*x*y*t*c^2*f + (-2/387420489*rad2_minus_i^3 - 2/387420489*rad2_minus_i + 4/129140163)*y^2*t*c^2*f + (-2/387420489*rad2_minus_i^3 - 2/387420489*rad2_minus_i + 4/129140163)*y*z*t*c^2*f + (-4/387420489*rad2_minus_i^3 - 4/387420489*rad2_minus_i)*y*t^2*c^2*f + (2/387420489*rad2_minus_i^3 + 2/387420489*rad2_minus_i - 2/129140163)*x^2*z*c*f^2 + (-1/129140163*rad2_minus_i^3 - 1/129140163*rad2_minus_i)*x*y*z*c*f^2 + (1/387420489*rad2_minus_i^3 + 1/387420489*rad2_minus_i)*x*z^2*c*f^2 + (-2/387420489*rad2_minus_i^3 - 2/387420489*rad2_minus_i)*x*y*t*c*f^2 + (1/387420489*rad2_minus_i^3 + 1/387420489*rad2_minus_i - 2/129140163)*y^2*t*c*f^2 + (1/387420489*rad2_minus_i^3 + 1/387420489*rad2_minus_i + 2/129140163)*y*z*t*c*f^2 + 2/129140163*y*t^2*c*f^2 + 2/129140163*x^2*y*f^3 - 2/129140163*x*y^2*f^3 - 2/129140163*x^2*z*f^3 + 2/129140163*x*y*z*f^3"
      ]
     },
     "execution_count": 18,
     "metadata": {},
     "output_type": "execute_result"
    }
   ],
   "source": [
    "SE1_1 = SE1.subs(e_sost).subs(d_sost)\n",
    "SE1_1"
   ]
  },
  {
   "cell_type": "code",
   "execution_count": 11,
   "id": "7dc3395d-dbc9-4433-b1f3-31c2cb09c5e5",
   "metadata": {},
   "outputs": [
    {
     "name": "stdout",
     "output_type": "stream",
     "text": [
      "CPU times: user 7.12 s, sys: 297 ms, total: 7.42 s\n",
      "Wall time: 44 s\n"
     ]
    },
    {
     "data": {
      "text/plain": [
       "576"
      ]
     },
     "execution_count": 11,
     "metadata": {},
     "output_type": "execute_result"
    }
   ],
   "source": [
    "%time adm_SE1_1 = SE1_1.find_admissible_projectivities()\n",
    "len(adm_SE1_1)"
   ]
  },
  {
   "cell_type": "code",
   "execution_count": 12,
   "id": "8520f9ea-ce0c-4fe4-bb4c-70d026771fc3",
   "metadata": {},
   "outputs": [
    {
     "name": "stdout",
     "output_type": "stream",
     "text": [
      "CPU times: user 8.21 s, sys: 384 ms, total: 8.59 s\n",
      "Wall time: 12.1 s\n"
     ]
    },
    {
     "data": {
      "text/plain": [
       "4"
      ]
     },
     "execution_count": 12,
     "metadata": {},
     "output_type": "execute_result"
    }
   ],
   "source": [
    "%time simm_SE1_1 = SE1_1.find_simmetries(adm_SE1_1)\n",
    "len(simm_SE1_1)"
   ]
  },
  {
   "cell_type": "code",
   "execution_count": 13,
   "id": "6ca77bba-a82c-4d14-b535-d24453dc604a",
   "metadata": {},
   "outputs": [
    {
     "name": "stdout",
     "output_type": "stream",
     "text": [
      "CPU times: user 3min 22s, sys: 403 ms, total: 3min 22s\n",
      "Wall time: 3min 23s\n"
     ]
    },
    {
     "data": {
      "text/plain": [
       "[[6*c + (rad2_minus_i^3 + rad2_minus_i^2 - rad2_minus_i - 3)*f],\n",
       " [9*c + (rad2_minus_i^3 - 2*rad2_minus_i)*f],\n",
       " [102*c + (7*rad2_minus_i^3 + 15*rad2_minus_i^2 - 11*rad2_minus_i - 9)*f],\n",
       " [6*c + (-rad2_minus_i^3 - 3*rad2_minus_i^2 - rad2_minus_i + 3)*f],\n",
       " [6*c + (rad2_minus_i^3 - rad2_minus_i^2 - rad2_minus_i + 3)*f],\n",
       " [102*c + (7*rad2_minus_i^3 - 15*rad2_minus_i^2 - 11*rad2_minus_i + 9)*f],\n",
       " [102*c + (rad2_minus_i^3 - 15*rad2_minus_i^2 + 19*rad2_minus_i + 21)*f],\n",
       " [6*c + (-rad2_minus_i^3 + 3*rad2_minus_i^2 - rad2_minus_i - 3)*f],\n",
       " [3*c + (rad2_minus_i)*f],\n",
       " [18*c + (rad2_minus_i^3 + 3*rad2_minus_i^2 + 7*rad2_minus_i + 3)*f],\n",
       " [102*c + (rad2_minus_i^3 + 15*rad2_minus_i^2 + 19*rad2_minus_i - 21)*f],\n",
       " [18*c + (rad2_minus_i^3 - 3*rad2_minus_i^2 + 7*rad2_minus_i - 3)*f]]"
      ]
     },
     "execution_count": 13,
     "metadata": {},
     "output_type": "execute_result"
    }
   ],
   "source": [
    "%time SE1_1.find_conditions_for_subfamilies(adm_SE1_1, simm_SE1_1)"
   ]
  },
  {
   "cell_type": "code",
   "execution_count": 14,
   "id": "d3cdf6c7-88e0-4dfd-acfc-27e63e9570d6",
   "metadata": {},
   "outputs": [
    {
     "data": {
      "text/plain": [
       "((-12*rad2_minus_i^3 + 18*rad2_minus_i^2 + 36*rad2_minus_i + 54)) * (x^2*y - x*y^2 + (1/34*rad2_minus_i^3 - 11/102*rad2_minus_i^2 + 23/102*rad2_minus_i - 13/34)*x^2*z + (-7/102*rad2_minus_i^3 + 10/51*rad2_minus_i^2 - 31/102*rad2_minus_i + 1/17)*x*y*z + (3/34*rad2_minus_i^3 - 8/51*rad2_minus_i^2 + 1/102*rad2_minus_i + 6/17)*x*z^2 + (1/51*rad2_minus_i^3 + 2/51*rad2_minus_i^2 - 5/17*rad2_minus_i - 10/17)*x*y*t + (-1/17*rad2_minus_i^3 + 5/102*rad2_minus_i^2 + 11/51*rad2_minus_i + 9/34)*y^2*t + (2/51*rad2_minus_i^3 - 3/34*rad2_minus_i^2 + 4/51*rad2_minus_i + 11/34)*y*z*t + (-5/102*rad2_minus_i^3 + 7/102*rad2_minus_i^2 + 7/102*rad2_minus_i - 1/34)*y*t^2)"
      ]
     },
     "execution_count": 14,
     "metadata": {},
     "output_type": "execute_result"
    }
   ],
   "source": [
    "SE1_2 = SE1_1.subs({c: -rad2_minus_i*f/3})\n",
    "SE1_2.factor()"
   ]
  },
  {
   "cell_type": "code",
   "execution_count": 15,
   "id": "1d28df50-73a9-4226-997b-bfdf6b3d2827",
   "metadata": {},
   "outputs": [
    {
     "name": "stdout",
     "output_type": "stream",
     "text": [
      "CPU times: user 3.06 s, sys: 189 ms, total: 3.25 s\n",
      "Wall time: 16.9 s\n"
     ]
    },
    {
     "data": {
      "text/plain": [
       "576"
      ]
     },
     "execution_count": 15,
     "metadata": {},
     "output_type": "execute_result"
    }
   ],
   "source": [
    "%time adm_SE1_2 = SE1_2.find_admissible_projectivities()\n",
    "len(adm_SE1_2)"
   ]
  },
  {
   "cell_type": "code",
   "execution_count": 16,
   "id": "a5e8e7c2-bcbf-4451-9cee-28e0df34cf73",
   "metadata": {},
   "outputs": [
    {
     "name": "stdout",
     "output_type": "stream",
     "text": [
      "CPU times: user 3.04 s, sys: 169 ms, total: 3.21 s\n",
      "Wall time: 3.53 s\n"
     ]
    },
    {
     "data": {
      "text/plain": [
       "8"
      ]
     },
     "execution_count": 16,
     "metadata": {},
     "output_type": "execute_result"
    }
   ],
   "source": [
    "%time simm_SE1_2 = SE1_2.find_simmetries(adm_SE1_2)\n",
    "len(simm_SE1_2)"
   ]
  },
  {
   "cell_type": "code",
   "execution_count": 17,
   "id": "c987b4ac-dd61-42b7-9978-f9077e994253",
   "metadata": {},
   "outputs": [
    {
     "name": "stdout",
     "output_type": "stream",
     "text": [
      "CPU times: user 2min 9s, sys: 367 ms, total: 2min 9s\n",
      "Wall time: 2min 9s\n"
     ]
    },
    {
     "data": {
      "text/plain": [
       "[]"
      ]
     },
     "execution_count": 17,
     "metadata": {},
     "output_type": "execute_result"
    }
   ],
   "source": [
    "%time SE1_2.find_conditions_for_subfamilies(adm_SE1_2, simm_SE1_2)"
   ]
  },
  {
   "cell_type": "code",
   "execution_count": null,
   "id": "4a87827a-36c1-4b32-aefc-1bae0ad340a5",
   "metadata": {},
   "outputs": [],
   "source": []
  },
  {
   "cell_type": "code",
   "execution_count": 4,
   "id": "0cc6b849-3683-40d8-a4a6-4537bdfb7170",
   "metadata": {},
   "outputs": [
    {
     "name": "stdout",
     "output_type": "stream",
     "text": [
      "CPU times: user 8.15 s, sys: 345 ms, total: 8.5 s\n",
      "Wall time: 21 s\n",
      "CPU times: user 4.83 s, sys: 265 ms, total: 5.1 s\n",
      "Wall time: 26.8 s\n"
     ]
    },
    {
     "data": {
      "text/plain": [
       "2"
      ]
     },
     "execution_count": 4,
     "metadata": {},
     "output_type": "execute_result"
    }
   ],
   "source": [
    "%time adm_SE1 = SE1.find_admissible_projectivities()\n",
    "len(adm_SE1)\n",
    "%time simm_SE1 = SE1.find_simmetries(adm_SE1)\n",
    "len(simm_SE1)"
   ]
  },
  {
   "cell_type": "code",
   "execution_count": 13,
   "id": "a5539864-0e72-45b7-820b-b70feb9ea293",
   "metadata": {},
   "outputs": [],
   "source": [
    "adm_perm = SE1.find_admissible_permutations()\n",
    "keys = list(SE1.cl_lines.keys())"
   ]
  },
  {
   "cell_type": "code",
   "execution_count": 14,
   "id": "9ffc168a-2a50-493f-a5bd-2d77bf9361f3",
   "metadata": {},
   "outputs": [
    {
     "data": {
      "text/plain": [
       "1152"
      ]
     },
     "execution_count": 14,
     "metadata": {},
     "output_type": "execute_result"
    }
   ],
   "source": [
    "len(adm_perm)"
   ]
  },
  {
   "cell_type": "code",
   "execution_count": 15,
   "id": "2f208a30-c0ec-4dd6-947c-57b3b0380d72",
   "metadata": {},
   "outputs": [],
   "source": [
    "L_sets = [['E1', 'G4', 'E2', 'G3', 'E3'], ['E1', 'G4', 'E2', 'F12', 'E3'],\n",
    "          ['E1', 'G4', 'E2', 'G5', 'F34'], ['E1', 'G4', 'E2', 'G6', 'F34'], \n",
    "          ['E1', 'G4', 'F24', 'G2', 'F34'], ['E1', 'G4', 'F24', 'F13', 'F34'], \n",
    "          ['F14', 'G4', 'F24', 'F35', 'F34'], ['F14', 'G4', 'F24', 'F36', 'F34'], \n",
    "          ['E1', 'G4', 'E3', 'G2', 'E2'], ['E1', 'G4', 'E3', 'F13', 'E2'], \n",
    "          ['F14', 'G4', 'E3', 'F35', 'E2'], ['F14', 'G4', 'E3', 'F36', 'E2']]"
   ]
  },
  {
   "cell_type": "code",
   "execution_count": 16,
   "id": "cebbb20c-67aa-4f09-a84b-da6aeef09130",
   "metadata": {},
   "outputs": [
    {
     "data": {
      "text/plain": [
       "12"
      ]
     },
     "execution_count": 16,
     "metadata": {},
     "output_type": "execute_result"
    }
   ],
   "source": [
    "len(L_sets)"
   ]
  },
  {
   "cell_type": "code",
   "execution_count": 17,
   "id": "7e8ea003-7d1f-4b93-892b-3a4037850fe3",
   "metadata": {},
   "outputs": [],
   "source": [
    "M12 = SE1.find_all_proj_parallel(L_sets)"
   ]
  },
  {
   "cell_type": "code",
   "execution_count": 18,
   "id": "b44fbc90-ef9d-4479-a0e5-c13bfcd48600",
   "metadata": {},
   "outputs": [
    {
     "data": {
      "text/plain": [
       "12"
      ]
     },
     "execution_count": 18,
     "metadata": {},
     "output_type": "execute_result"
    }
   ],
   "source": [
    "len(M12)"
   ]
  },
  {
   "cell_type": "code",
   "execution_count": 19,
   "id": "b350298b-95c2-47fb-a12e-6a764fefb4d0",
   "metadata": {},
   "outputs": [
    {
     "data": {
      "text/plain": [
       "[\n",
       "[1 0 0 0]  [                        4*c^2                             0                             0 2*c^2 - 2*c*e - 2*c*f + 2*e*f]\n",
       "[0 1 0 0]  [                            0                         4*c^2                             0        -2*c*d + 2*c*e + 2*c*f]\n",
       "[0 0 1 0]  [                            0                             0                         4*c^2        -2*c^2 + 2*c*d - 2*e*f]\n",
       "[0 0 0 1], [                            0                             0                             0                        -4*c^2]\n",
       "]"
      ]
     },
     "execution_count": 19,
     "metadata": {},
     "output_type": "execute_result"
    }
   ],
   "source": [
    "SE1.find_simmetries(M12)"
   ]
  },
  {
   "cell_type": "code",
   "execution_count": 20,
   "id": "9da8f52b-a808-443e-bc46-f299eff277f8",
   "metadata": {},
   "outputs": [
    {
     "data": {
      "text/plain": [
       "[]"
      ]
     },
     "execution_count": 20,
     "metadata": {},
     "output_type": "execute_result"
    }
   ],
   "source": [
    "SE1.find_conditions_for_subfamilies(M12, simm_SE1)"
   ]
  },
  {
   "cell_type": "code",
   "execution_count": 21,
   "id": "1136a420-40bd-425b-8592-e9d06420474c",
   "metadata": {},
   "outputs": [],
   "source": [
    "#verificare che se una delle matrici fissa cubica liscia, cubica ha punto di eckardt"
   ]
  },
  {
   "cell_type": "code",
   "execution_count": 22,
   "id": "fe239150-a732-43b6-9511-e352138fa4a0",
   "metadata": {},
   "outputs": [
    {
     "name": "stdout",
     "output_type": "stream",
     "text": [
      "(2,19)(3,22)(4,7)(5,25)(6,26)(8,13)(9,14)(11,16)(12,17)(18,27)(20,24)(21,23)\n"
     ]
    }
   ],
   "source": [
    "M2 = [mat for mat in simm_SE1 if mat != matrix.identity(4)][0]\n",
    "M2_perm = Permutation(SE1.apply_proj_to_lines(M2)).to_permutation_group_element()\n",
    "print(M2_perm)"
   ]
  },
  {
   "cell_type": "code",
   "execution_count": 23,
   "id": "1bc8369e-c990-4bad-ab5e-82eee248988d",
   "metadata": {},
   "outputs": [],
   "source": [
    "perms_lines = []\n",
    "for perm in adm_perm:\n",
    "    perms_lines.append(Permutation([perm.index(label)+1 for label in keys]).to_cycles())"
   ]
  },
  {
   "cell_type": "code",
   "execution_count": 24,
   "id": "e7867d65-d44f-481a-a007-aed7c2423bc2",
   "metadata": {},
   "outputs": [],
   "source": [
    "Gr = PermutationGroup(perms_lines)"
   ]
  },
  {
   "cell_type": "code",
   "execution_count": 25,
   "id": "9fc2a896-232f-4245-b9df-694886a6d9f3",
   "metadata": {},
   "outputs": [
    {
     "data": {
      "text/plain": [
       "1152"
      ]
     },
     "execution_count": 25,
     "metadata": {},
     "output_type": "execute_result"
    }
   ],
   "source": [
    "Gr.order()"
   ]
  },
  {
   "cell_type": "code",
   "execution_count": 26,
   "id": "c4c1598b-da41-40f5-87dd-be61665d64c0",
   "metadata": {},
   "outputs": [
    {
     "data": {
      "text/plain": [
       "2"
      ]
     },
     "execution_count": 26,
     "metadata": {},
     "output_type": "execute_result"
    }
   ],
   "source": [
    "M2_perm.order()"
   ]
  },
  {
   "cell_type": "code",
   "execution_count": 27,
   "id": "33a20c56-02b1-4fe4-9dc1-38723ce36d26",
   "metadata": {},
   "outputs": [],
   "source": [
    "el_order_4 = []\n",
    "for el in Gr.list():\n",
    "    iden = Gr.identity()\n",
    "    if el^2 == M2_perm and el^3 != iden and el^4 == iden:\n",
    "        el_order_4.append(el)"
   ]
  },
  {
   "cell_type": "code",
   "execution_count": 28,
   "id": "4d940a4b-7b5c-42be-a936-0f2ea4a7df4e",
   "metadata": {},
   "outputs": [
    {
     "data": {
      "text/plain": [
       "12"
      ]
     },
     "execution_count": 28,
     "metadata": {},
     "output_type": "execute_result"
    }
   ],
   "source": [
    "len(el_order_4)"
   ]
  },
  {
   "cell_type": "code",
   "execution_count": 29,
   "id": "af910142-f95d-456b-861e-f67b2a19aead",
   "metadata": {},
   "outputs": [
    {
     "name": "stdout",
     "output_type": "stream",
     "text": [
      "['E1', 'G4', 'E5', 'F15', 'E6', 'F24']\n",
      "['E1', 'G4', 'F45', 'G5', 'F46', 'E2']\n",
      "['E1', 'G4', 'E6', 'F16', 'E5', 'F34']\n",
      "['E1', 'G4', 'F46', 'G6', 'F45', 'E3']\n",
      "['E1', 'G4', 'E3', 'G6', 'F24', 'F46']\n",
      "['E1', 'G4', 'F34', 'F16', 'E2', 'E6']\n",
      "['E1', 'G4', 'E5', 'G2', 'F46', 'F24']\n",
      "['E1', 'G4', 'F45', 'F12', 'E6', 'E2']\n",
      "['E1', 'G4', 'E3', 'G5', 'F24', 'E6']\n",
      "['E1', 'G4', 'F34', 'F15', 'E2', 'F46']\n",
      "['E1', 'G4', 'E6', 'G2', 'F45', 'E3']\n",
      "['E1', 'G4', 'F46', 'F12', 'E5', 'F34']\n"
     ]
    }
   ],
   "source": [
    "labels_el_order_4 = [from_perm_to_labels(el) for el in el_order_4]\n",
    "for labels in labels_el_order_4:\n",
    "    print([labels[keys.index(label)] for label in ['E1', 'G4', 'E2', 'G3', 'E3', 'E5']])"
   ]
  },
  {
   "cell_type": "code",
   "execution_count": 30,
   "id": "ca903967-197a-4b07-b388-9ac9473c2cec",
   "metadata": {},
   "outputs": [],
   "source": [
    "projs = SE1.find_admissible_projectivities(labels_el_order_4)"
   ]
  },
  {
   "cell_type": "code",
   "execution_count": 31,
   "id": "5b2444b3-f0f2-437a-bd83-182ee66926a9",
   "metadata": {},
   "outputs": [
    {
     "data": {
      "text/plain": [
       "12"
      ]
     },
     "execution_count": 31,
     "metadata": {},
     "output_type": "execute_result"
    }
   ],
   "source": [
    "len(projs)"
   ]
  },
  {
   "cell_type": "code",
   "execution_count": 32,
   "id": "35a2855e-498c-490d-a7e4-f306ee50b54d",
   "metadata": {},
   "outputs": [],
   "source": [
    "mins = list(set(matrix([SE1.cl_lines['G3'].apply_proj(projs[1]).plucker, SE1.cl_lines['G5'].plucker]).minors(2)))"
   ]
  },
  {
   "cell_type": "code",
   "execution_count": 34,
   "id": "681970a4-e109-4962-8f15-c66e54a7d28a",
   "metadata": {},
   "outputs": [],
   "source": [
    "mins = [remove_sing_factors(el, SE1.sing_locus) for el in mins if el !=0]"
   ]
  },
  {
   "cell_type": "code",
   "execution_count": 36,
   "id": "e8ec9ab1-47d9-4d8d-800e-71382e450284",
   "metadata": {},
   "outputs": [
    {
     "data": {
      "text/plain": [
       "[1]"
      ]
     },
     "execution_count": 36,
     "metadata": {},
     "output_type": "execute_result"
    }
   ],
   "source": [
    "P.ideal(mins).groebner_basis()"
   ]
  },
  {
   "cell_type": "code",
   "execution_count": 48,
   "id": "e077d9e6-d1a2-40a7-bde6-333230c1537a",
   "metadata": {},
   "outputs": [],
   "source": [
    "def find_conditions_for_subfamilies(cubic, projectivities, simmetries):\n",
    "    mon = ((x+y+z+t)^3).monomials()\n",
    "    conditions = []\n",
    "    for M in [proj for proj in projectivities if proj not in simmetries]:\n",
    "        print(projectivities.index(M))\n",
    "        sost = change_coord(M)\n",
    "        new_cubic = remove_sing_factors(cubic.eqn.subs(sost), cubic.sing_locus)    \n",
    "        minor = list(set(matrix([[new_cubic.coefficient(mn) for mn in mon], [cubic.eqn.coefficient(mn) for mn in mon]]).minors(2)))\n",
    "        minor = [remove_sing_factors(el, cubic.sing_locus) for el in minor if el !=0]\n",
    "        ideale = cubic.P.ideal(minor)\n",
    "        new_ideals = get_valid_ideals(ideale, cubic)\n",
    "        for ideal in new_ideals:            \n",
    "            prim_deco2 = (ideale + ideal).radical().primary_decomposition()\n",
    "            for ideal2 in prim_deco2:\n",
    "                if is_ideal_valid(cubic, ideal2):\n",
    "                    conditions.append(ideal2.gens())                        \n",
    "    return list(set(conditions))\n",
    "\n",
    "\n",
    "def get_valid_ideals(ideale, cubic):\n",
    "    valid_ideals = []\n",
    "    vrs = [c,d,e,f]\n",
    "    for vr in vrs:\n",
    "        valid_ideals_var = []\n",
    "        del_ideale = ideale.elimination_ideal([vr])\n",
    "        prim_deco_del = del_ideale.radical().primary_decomposition()\n",
    "        for ideal in prim_deco_del:\n",
    "            if is_ideal_valid(cubic, ideal):\n",
    "                valid_ideals_var.append(ideal)\n",
    "        if valid_ideals_var == []:\n",
    "            return []\n",
    "        else:\n",
    "            valid_ideals.append(valid_ideals_var)\n",
    "    return [id1+id2+id3+id4 for id1 in valid_ideals[0] for id2 in valid_ideals[1] for id3 in valid_ideals[2] for id4 in valid_ideals[3]] \n",
    "\n",
    "def is_ideal_valid(cubic, ideal):\n",
    "    if cubic.sing_locus.value() in ideal:\n",
    "        return False\n",
    "    for poly in list(set([pl.conditions for pl in cubic.tritangent_planes if pl.conditions != 0])):\n",
    "        if poly in ideal:\n",
    "            return False\n",
    "    return True"
   ]
  },
  {
   "cell_type": "code",
   "execution_count": 49,
   "id": "7ae64a94-94e5-4901-9fe0-63bc33ca2ed5",
   "metadata": {},
   "outputs": [
    {
     "name": "stdout",
     "output_type": "stream",
     "text": [
      "0\n"
     ]
    },
    {
     "data": {
      "text/plain": [
       "[[2*c + (-2*i - 1)*d + (i + 2)*e + (i)*f, 125*e^2 + (126*i + 193)*d*f + (129*i - 228)*e*f + (-95*i - 85)*f^2, 25*d*e + (-13*i - 9)*d*f + (-2*i - 11)*e*f + (10*i + 5)*f^2, 25*d^2 + (2*i - 41)*d*f + (-i - 2)*e*f + (-i + 18)*f^2],\n",
       " [d + 3*e - f, c - 2*e + f, 37*e^2 + (i - 31)*e*f + (i + 6)*f^2],\n",
       " [5*d - 5*e + (-2*i + 9)*f, 5*c + 5*e + (2*i - 4)*f, 25*e^2 + (-5*i - 65)*e*f + (-i + 32)*f^2],\n",
       " [327*d*e + (-6*i - 129)*e^2 + (-14*i + 26)*c*f + (48*i - 167)*d*f + (56*i - 104)*e*f + (-32*i + 75)*f^2, 654*c*e + (504*i + 372)*e^2 + (-23*i - 331)*c*f + (-108*i + 76)*d*f + (-562*i + 16)*e*f + (181*i - 87)*f^2, 654*d^2 + (24*i - 138)*e^2 + (56*i - 104)*c*f + (-192*i - 313)*d*f + (-224*i + 89)*e*f + (128*i + 27)*f^2, 654*c*d + (192*i + 204)*e^2 + (121*i - 69)*c*f + (208*i - 106)*d*f + (170*i - 378)*e*f + (-175*i + 107)*f^2, 654*c^2 + (-600*i + 180)*e^2 + (17*i + 311)*c*f + (4*i - 132)*d*f + (586*i - 590)*e*f + (-39*i + 197)*f^2, 1962*e^3 + (-219*i - 21549)*e^2*f + (-511*i + 949)*c*f^2 + (1752*i - 2008)*d*f^2 + (2044*i + 7322)*e*f^2 + (-1168*i + 1266)*f^3],\n",
       " [13*e + (-i - 5)*f, 13*d + (i - 8)*f, 13*c + (2*i - 3)*f],\n",
       " [d - e + f, 2*c + (-i + 1)*e - f, 2*e^2 + (4*i - 6)*e*f + (-2*i + 3)*f^2],\n",
       " [8*c*e + (3*i - 1)*d*e + (5*i + 5)*e^2 - 4*c*f + (-3*i + 1)*d*f + (-8*i)*e*f + (3*i - 1)*f^2, 40*c*d + (7*i - 1)*d*e + (9*i + 13)*e^2 + (8*i - 4)*c*f + (9*i - 7)*d*f + (8*i - 24)*e*f + (-9*i + 7)*f^2, 8*c^2 + (-i + 3)*d*e + (-7*i + 1)*e^2 + 4*c*f + (i - 3)*d*f + (8*i - 8)*e*f + (-i + 3)*f^2, 25*d^2*e + (-48*i + 14)*d*e^2 + (24*i - 7)*e^3 - 25*d^2*f + (18*i - 74)*d*e*f + (-34*i - 13)*e^2*f + (-2*i + 36)*d*f^2 + (8*i + 31)*e*f^2 + (2*i - 11)*f^3],\n",
       " [e, 25*d + (-2*i - 11)*f, 5*c + (2*i + 1)*f],\n",
       " [327*d*e + (6*i - 129)*e^2 + (14*i + 26)*c*f + (-48*i - 167)*d*f + (-56*i - 104)*e*f + (32*i + 75)*f^2, 654*c*e + (-504*i + 372)*e^2 + (23*i - 331)*c*f + (108*i + 76)*d*f + (562*i + 16)*e*f + (-181*i - 87)*f^2, 654*d^2 + (-24*i - 138)*e^2 + (-56*i - 104)*c*f + (192*i - 313)*d*f + (224*i + 89)*e*f + (-128*i + 27)*f^2, 654*c*d + (-192*i + 204)*e^2 + (-121*i - 69)*c*f + (-208*i - 106)*d*f + (-170*i - 378)*e*f + (175*i + 107)*f^2, 654*c^2 + (600*i + 180)*e^2 + (-17*i + 311)*c*f + (-4*i - 132)*d*f + (-586*i - 590)*e*f + (39*i + 197)*f^2, 1962*e^3 + (219*i - 21549)*e^2*f + (511*i + 949)*c*f^2 + (-1752*i - 2008)*d*f^2 + (-2044*i + 7322)*e*f^2 + (1168*i + 1266)*f^3],\n",
       " [2*c + (i + 1)*d + (3*i + 3)*e + (-i + 1)*f, 193*e^2 + (3*i + 50)*d*f + (11*i + 119)*e*f + (-65*i - 54)*f^2, 193*d*e + (-41*i - 233)*d*f + (-279*i - 597)*e*f + (245*i + 159)*f^2, 193*d^2 + (-83*i + 804)*d*f + (725*i + 1983)*e*f + (-775*i - 629)*f^2],\n",
       " [2*c + (2*i - 1)*d + (-i + 2)*e + (-i)*f, 125*e^2 + (-126*i + 193)*d*f + (-129*i - 228)*e*f + (95*i - 85)*f^2, 25*d*e + (13*i - 9)*d*f + (2*i - 11)*e*f + (-10*i + 5)*f^2, 25*d^2 + (-2*i - 41)*d*f + (i - 2)*e*f + (i + 18)*f^2],\n",
       " [8*c*e + (-3*i - 1)*d*e + (-5*i + 5)*e^2 - 4*c*f + (3*i + 1)*d*f + (8*i)*e*f + (-3*i - 1)*f^2, 40*c*d + (-7*i - 1)*d*e + (-9*i + 13)*e^2 + (-8*i - 4)*c*f + (-9*i - 7)*d*f + (-8*i - 24)*e*f + (9*i + 7)*f^2, 8*c^2 + (i + 3)*d*e + (7*i + 1)*e^2 + 4*c*f + (-i - 3)*d*f + (-8*i - 8)*e*f + (i + 3)*f^2, 25*d^2*e + (48*i + 14)*d*e^2 + (-24*i - 7)*e^3 - 25*d^2*f + (-18*i - 74)*d*e*f + (34*i - 13)*e^2*f + (2*i + 36)*d*f^2 + (-8*i + 31)*e*f^2 + (-2*i - 11)*f^3],\n",
       " [5*d - 5*e + (2*i + 9)*f, 5*c + 5*e + (-2*i - 4)*f, 25*e^2 + (5*i - 65)*e*f + (i + 32)*f^2],\n",
       " [d - e + f, 2*c + (i + 1)*e - f, 2*e^2 + (-4*i - 6)*e*f + (2*i + 3)*f^2],\n",
       " [2*c + (-i + 1)*d + (-3*i + 3)*e + (i + 1)*f, 193*e^2 + (-3*i + 50)*d*f + (-11*i + 119)*e*f + (65*i - 54)*f^2, 193*d*e + (41*i - 233)*d*f + (279*i - 597)*e*f + (-245*i + 159)*f^2, 193*d^2 + (83*i + 804)*d*f + (-725*i + 1983)*e*f + (775*i - 629)*f^2],\n",
       " [f, 25*d + (2*i - 11)*e, 5*c + (4*i + 3)*e],\n",
       " [f, 25*d + (-2*i - 11)*e, 5*c + (-4*i + 3)*e],\n",
       " [13*e + (i - 5)*f, 13*d + (-i - 8)*f, 13*c + (-2*i - 3)*f],\n",
       " [d + 3*e - f, c - 2*e + f, 37*e^2 + (-i - 31)*e*f + (-i + 6)*f^2],\n",
       " [e, 25*d + (2*i - 11)*f, 5*c + (-2*i + 1)*f]]"
      ]
     },
     "execution_count": 49,
     "metadata": {},
     "output_type": "execute_result"
    }
   ],
   "source": [
    "find_conditions_for_subfamilies(SE1, [projs[1]], simm_SE1)"
   ]
  },
  {
   "cell_type": "code",
   "execution_count": 52,
   "id": "e36533ab-3ad7-44da-a829-db4d1639129b",
   "metadata": {},
   "outputs": [
    {
     "name": "stdout",
     "output_type": "stream",
     "text": [
      "0\n",
      "1\n",
      "2\n",
      "3\n",
      "4\n",
      "5\n",
      "6\n",
      "7\n",
      "8\n",
      "9\n",
      "10\n",
      "11\n",
      "CPU times: user 4min 34s, sys: 933 ms, total: 4min 35s\n",
      "Wall time: 4min 36s\n"
     ]
    }
   ],
   "source": [
    "%time conds = find_conditions_for_subfamilies(SE1, projs, simm_SE1)"
   ]
  },
  {
   "cell_type": "code",
   "execution_count": 53,
   "id": "eda8c4fb-2230-4d5f-af66-3ec58555bbbe",
   "metadata": {},
   "outputs": [
    {
     "data": {
      "text/plain": [
       "28"
      ]
     },
     "execution_count": 53,
     "metadata": {},
     "output_type": "execute_result"
    }
   ],
   "source": [
    "conds_linear = [cond for cond in conds if [el.degree() for el in cond] == [1,1,1]]\n",
    "len(conds_linear)"
   ]
  },
  {
   "cell_type": "code",
   "execution_count": 54,
   "id": "985d67bd-50f7-4658-96ef-741dd99b53f5",
   "metadata": {},
   "outputs": [
    {
     "data": {
      "text/plain": [
       "60"
      ]
     },
     "execution_count": 54,
     "metadata": {},
     "output_type": "execute_result"
    }
   ],
   "source": [
    "non_linear_conds = [cond for cond in conds if cond not in conds_linear]\n",
    "len(non_linear_conds)"
   ]
  },
  {
   "cell_type": "code",
   "execution_count": 56,
   "id": "af54feba-9245-4c76-b59a-12e5a75208ac",
   "metadata": {},
   "outputs": [
    {
     "data": {
      "text/plain": [
       "[(2*i - 11)*c, -5*c, 0, (-10*i + 5)*c]"
      ]
     },
     "execution_count": 56,
     "metadata": {},
     "output_type": "execute_result"
    }
   ],
   "source": [
    "sost = solve_linear_system(conds_linear[0], [d,e,f], [c])\n",
    "sost"
   ]
  },
  {
   "cell_type": "code",
   "execution_count": 57,
   "id": "6715eca0-6ef7-4faa-a67d-b696e0bdc091",
   "metadata": {},
   "outputs": [],
   "source": [
    "var = [d,e,f,c]"
   ]
  },
  {
   "cell_type": "code",
   "execution_count": 58,
   "id": "6250a6b5-9705-470e-aa79-722ccfe43beb",
   "metadata": {},
   "outputs": [
    {
     "data": {
      "text/plain": [
       "(50*i + 100)*x^2*z + (170*i - 60)*x*y*z + (-20*i + 110)*x*z^2 + (150*i + 50)*x*y*t + (70*i - 10)*y^2*t + (-220*i - 40)*y*z*t + (-200*i - 150)*y*t^2"
      ]
     },
     "execution_count": 58,
     "metadata": {},
     "output_type": "execute_result"
    }
   ],
   "source": [
    "nc = SE1.subs({var[i]:sost[i] for i in range(4)})\n",
    "nc"
   ]
  },
  {
   "cell_type": "code",
   "execution_count": 59,
   "id": "d0e3228a-f13d-48a4-b183-64bd7d853fe2",
   "metadata": {},
   "outputs": [
    {
     "data": {
      "text/plain": [
       "[(0, 0, 0, 1)]"
      ]
     },
     "execution_count": 59,
     "metadata": {},
     "output_type": "execute_result"
    }
   ],
   "source": [
    "nc.eckardt_points"
   ]
  },
  {
   "cell_type": "code",
   "execution_count": 60,
   "id": "94e5b8a1-fccd-4dd5-9032-6d6d14b083fa",
   "metadata": {},
   "outputs": [
    {
     "name": "stdout",
     "output_type": "stream",
     "text": [
      "CPU times: user 1.04 s, sys: 192 ms, total: 1.23 s\n",
      "Wall time: 11.9 s\n"
     ]
    }
   ],
   "source": [
    "%time nc_proj = nc.find_admissible_projectivities()"
   ]
  },
  {
   "cell_type": "code",
   "execution_count": 61,
   "id": "664bd9a1-be29-4da4-a737-c712004470a0",
   "metadata": {},
   "outputs": [
    {
     "data": {
      "text/plain": [
       "576"
      ]
     },
     "execution_count": 61,
     "metadata": {},
     "output_type": "execute_result"
    }
   ],
   "source": [
    "len(nc_proj)"
   ]
  },
  {
   "cell_type": "code",
   "execution_count": 62,
   "id": "fb67c2f9-7145-4a6f-94f9-78567243c236",
   "metadata": {},
   "outputs": [
    {
     "name": "stdout",
     "output_type": "stream",
     "text": [
      "CPU times: user 580 ms, sys: 196 ms, total: 776 ms\n",
      "Wall time: 1.9 s\n"
     ]
    }
   ],
   "source": [
    "%time nc_simm = nc.find_simmetries(nc_proj)"
   ]
  },
  {
   "cell_type": "code",
   "execution_count": 63,
   "id": "bea022a8-477c-4375-8f34-ab0595c8a860",
   "metadata": {},
   "outputs": [
    {
     "data": {
      "text/plain": [
       "4"
      ]
     },
     "execution_count": 63,
     "metadata": {},
     "output_type": "execute_result"
    }
   ],
   "source": [
    "len(nc_simm)"
   ]
  },
  {
   "cell_type": "code",
   "execution_count": 64,
   "id": "a776fdce-3f2e-4f43-8bcb-5550fdc63a24",
   "metadata": {},
   "outputs": [],
   "source": [
    "for i in range(len(nc_simm)-1):\n",
    "    mat1 = nc_simm[i]\n",
    "    for j in range(i+1, len(nc_simm)):\n",
    "        mat2 = nc_simm[j]\n",
    "        are_matrices_equal(mat1, mat2)"
   ]
  },
  {
   "cell_type": "code",
   "execution_count": 65,
   "id": "f870a672-d586-4f8b-84d9-3b45a5da3061",
   "metadata": {},
   "outputs": [],
   "source": [
    "Gnc = Group(nc_simm)"
   ]
  },
  {
   "cell_type": "code",
   "execution_count": 66,
   "id": "ac11d299-9bb3-43e4-a67b-7a0a44cca500",
   "metadata": {},
   "outputs": [
    {
     "data": {
      "text/plain": [
       "[1, 4, 4, 2]"
      ]
     },
     "execution_count": 66,
     "metadata": {},
     "output_type": "execute_result"
    }
   ],
   "source": [
    "Gnc.get_order_of_elements()"
   ]
  },
  {
   "cell_type": "code",
   "execution_count": 67,
   "id": "cc70a1b4-f06e-4edc-b4a2-58a22f6fd54e",
   "metadata": {},
   "outputs": [
    {
     "data": {
      "text/plain": [
       "True"
      ]
     },
     "execution_count": 67,
     "metadata": {},
     "output_type": "execute_result"
    }
   ],
   "source": [
    "Gnc.is_group()"
   ]
  },
  {
   "cell_type": "code",
   "execution_count": 68,
   "id": "44314d28-d0c5-4507-ba17-dd19caeb4cfe",
   "metadata": {},
   "outputs": [
    {
     "name": "stdout",
     "output_type": "stream",
     "text": [
      "4\n",
      "4\n",
      "4\n",
      "4\n",
      "4\n",
      "4\n",
      "4\n",
      "4\n",
      "4\n",
      "4\n",
      "4\n",
      "4\n",
      "4\n",
      "4\n",
      "4\n",
      "4\n",
      "4\n",
      "4\n",
      "4\n",
      "4\n",
      "4\n",
      "4\n",
      "4\n",
      "4\n",
      "4\n",
      "4\n",
      "4\n",
      "4\n",
      "CPU times: user 50 s, sys: 10.3 s, total: 1min\n",
      "Wall time: 6min\n"
     ]
    }
   ],
   "source": [
    "%%time\n",
    "for cond in conds_linear:\n",
    "    sost = solve_linear_system(cond, [d,e,f], [c])\n",
    "    nc = SE1.subs({var[i]:sost[i] for i in range(4)})\n",
    "    print(len(nc.find_simmetries()))"
   ]
  },
  {
   "cell_type": "code",
   "execution_count": null,
   "id": "b7a71c7e-389e-4ed6-8245-1e7bfaffa635",
   "metadata": {},
   "outputs": [],
   "source": []
  }
 ],
 "metadata": {
  "kernelspec": {
   "display_name": "SageMath 9.4",
   "language": "sage",
   "name": "sagemath"
  },
  "language_info": {
   "codemirror_mode": {
    "name": "ipython",
    "version": 3
   },
   "file_extension": ".py",
   "mimetype": "text/x-python",
   "name": "python",
   "nbconvert_exporter": "python",
   "pygments_lexer": "ipython3",
   "version": "3.7.12"
  }
 },
 "nbformat": 4,
 "nbformat_minor": 5
}
