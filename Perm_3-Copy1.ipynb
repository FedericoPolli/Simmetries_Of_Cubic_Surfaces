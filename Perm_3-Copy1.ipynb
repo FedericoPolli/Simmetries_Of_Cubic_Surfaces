{
 "cells": [
  {
   "cell_type": "code",
   "execution_count": 1,
   "id": "fa280c8d",
   "metadata": {},
   "outputs": [],
   "source": [
    "load('Imports/Utility.sage', 'Imports/Point.sage', 'Imports/Line.sage', 'Imports/TritangentPlane.sage', 'Imports/Group.sage', 'Imports/Cubic.sage')"
   ]
  },
  {
   "cell_type": "code",
   "execution_count": 2,
   "id": "2b95ca29",
   "metadata": {},
   "outputs": [],
   "source": [
    "with open('all_permutations.pickle', 'rb') as fil:\n",
    "    all_permutations = pickle.load(fil) "
   ]
  },
  {
   "cell_type": "code",
   "execution_count": 13,
   "id": "85fa313c",
   "metadata": {},
   "outputs": [],
   "source": [
    "keys = ['E1', 'E2', 'E3', 'E4', 'E5', 'E6', 'G1', 'G2', 'G3', 'G4', 'G5', 'G6', 'F12', 'F13', 'F14', 'F15', 'F16','F23', 'F24', 'F25', 'F26', 'F34', 'F35', 'F36', 'F45', 'F46', 'F56']"
   ]
  },
  {
   "cell_type": "code",
   "execution_count": 14,
   "id": "1e586b9b",
   "metadata": {},
   "outputs": [],
   "source": [
    "all_perms = [from_labels_to_perm(labels) for labels in all_permutations]"
   ]
  },
  {
   "cell_type": "code",
   "execution_count": 15,
   "id": "19576138",
   "metadata": {},
   "outputs": [],
   "source": [
    "Gr = PermutationGroup(all_perms)"
   ]
  },
  {
   "cell_type": "code",
   "execution_count": 16,
   "id": "7c213aa7",
   "metadata": {},
   "outputs": [],
   "source": [
    "order3_perm = []\n",
    "for perm in all_perms:\n",
    "    if perm.order() == 3:\n",
    "        order3_perm.append(perm)"
   ]
  },
  {
   "cell_type": "code",
   "execution_count": 17,
   "id": "a8d4bd38",
   "metadata": {},
   "outputs": [
    {
     "data": {
      "text/plain": [
       "800"
      ]
     },
     "execution_count": 17,
     "metadata": {},
     "output_type": "execute_result"
    }
   ],
   "source": [
    "len(order3_perm)"
   ]
  },
  {
   "cell_type": "code",
   "execution_count": 18,
   "id": "d419e42e",
   "metadata": {},
   "outputs": [],
   "source": [
    "labels_order3 = [from_perm_to_labels(perm) for perm in order3_perm]"
   ]
  },
  {
   "cell_type": "code",
   "execution_count": 19,
   "id": "fdb2c5db",
   "metadata": {},
   "outputs": [
    {
     "data": {
      "text/plain": [
       "240"
      ]
     },
     "execution_count": 19,
     "metadata": {},
     "output_type": "execute_result"
    }
   ],
   "source": [
    "len(Gr.conjugacy_class(order3_perm[0]))"
   ]
  },
  {
   "cell_type": "code",
   "execution_count": 20,
   "id": "faac557f",
   "metadata": {},
   "outputs": [],
   "source": [
    "all_fixed_lines3 = []\n",
    "for perm in order3_perm:\n",
    "    fixed_lines = []\n",
    "    for tup in perm.cycle_tuples(singletons=True):\n",
    "        if len(tup) ==1:\n",
    "            fixed_lines.append(tup[0])\n",
    "    if fixed_lines !=[]:\n",
    "        all_fixed_lines3.append(fixed_lines)"
   ]
  },
  {
   "cell_type": "code",
   "execution_count": 21,
   "id": "e5703ea8",
   "metadata": {},
   "outputs": [
    {
     "data": {
      "text/plain": [
       "[1, 2, 11, 12, 16, 17, 20, 21, 22]"
      ]
     },
     "execution_count": 21,
     "metadata": {},
     "output_type": "execute_result"
    }
   ],
   "source": [
    "all_fixed_lines3[0]"
   ]
  },
  {
   "cell_type": "code",
   "execution_count": 22,
   "id": "0080788c",
   "metadata": {},
   "outputs": [
    {
     "data": {
      "text/plain": [
       "['E1', 'E2', 'G5', 'G6', 'F15', 'F16', 'F25', 'F26', 'F34']"
      ]
     },
     "execution_count": 22,
     "metadata": {},
     "output_type": "execute_result"
    }
   ],
   "source": [
    "[keys[el-1] for el in all_fixed_lines3[0]]"
   ]
  },
  {
   "cell_type": "code",
   "execution_count": 23,
   "id": "b86d2149",
   "metadata": {},
   "outputs": [
    {
     "data": {
      "text/plain": [
       "240"
      ]
     },
     "execution_count": 23,
     "metadata": {},
     "output_type": "execute_result"
    }
   ],
   "source": [
    "len(all_fixed_lines3)"
   ]
  },
  {
   "cell_type": "code",
   "execution_count": 24,
   "id": "9f355fd0",
   "metadata": {},
   "outputs": [],
   "source": [
    "non_fixed_lines_perm = [perm for perm in order3_perm if len(perm.cycle_tuples())!=6 ]"
   ]
  },
  {
   "cell_type": "code",
   "execution_count": 25,
   "id": "d939564b",
   "metadata": {},
   "outputs": [
    {
     "data": {
      "text/plain": [
       "560"
      ]
     },
     "execution_count": 25,
     "metadata": {},
     "output_type": "execute_result"
    }
   ],
   "source": [
    "len(non_fixed_lines_perm)"
   ]
  },
  {
   "cell_type": "code",
   "execution_count": 26,
   "id": "2ce5b38f",
   "metadata": {},
   "outputs": [],
   "source": [
    "conj1 = Gr.conjugacy_class(non_fixed_lines_perm[0])"
   ]
  },
  {
   "cell_type": "code",
   "execution_count": 27,
   "id": "8f51d4b3",
   "metadata": {},
   "outputs": [
    {
     "data": {
      "text/plain": [
       "480"
      ]
     },
     "execution_count": 27,
     "metadata": {},
     "output_type": "execute_result"
    }
   ],
   "source": [
    "len(conj1)"
   ]
  },
  {
   "cell_type": "code",
   "execution_count": 28,
   "id": "4433c9d3",
   "metadata": {},
   "outputs": [
    {
     "name": "stdout",
     "output_type": "stream",
     "text": [
      "124\n"
     ]
    }
   ],
   "source": [
    "for perm in non_fixed_lines_perm:\n",
    "    if len(Gr.conjugacy_class(perm)) != 480:\n",
    "        print(non_fixed_lines_perm.index(perm))\n",
    "        break"
   ]
  },
  {
   "cell_type": "code",
   "execution_count": 29,
   "id": "0108c71a",
   "metadata": {},
   "outputs": [],
   "source": [
    "conj2 = Gr.conjugacy_class(non_fixed_lines_perm[124])"
   ]
  },
  {
   "cell_type": "code",
   "execution_count": 30,
   "id": "7180d3e6",
   "metadata": {},
   "outputs": [
    {
     "data": {
      "text/plain": [
       "80"
      ]
     },
     "execution_count": 30,
     "metadata": {},
     "output_type": "execute_result"
    }
   ],
   "source": [
    "len(conj2)"
   ]
  },
  {
   "cell_type": "code",
   "execution_count": 31,
   "id": "78603796",
   "metadata": {},
   "outputs": [],
   "source": [
    "#%time conj1.list()"
   ]
  },
  {
   "cell_type": "code",
   "execution_count": null,
   "id": "289ef0d2",
   "metadata": {},
   "outputs": [],
   "source": []
  },
  {
   "cell_type": "code",
   "execution_count": null,
   "id": "b092279f",
   "metadata": {},
   "outputs": [],
   "source": [
    "#E1, E2, E3, G3, G4, G5, G6, F13, F14, F15, F16, F23, F24, F25, F26, F34, F35, F36"
   ]
  },
  {
   "cell_type": "code",
   "execution_count": null,
   "id": "dec6e281",
   "metadata": {},
   "outputs": [],
   "source": []
  },
  {
   "cell_type": "code",
   "execution_count": 64,
   "id": "8df67130",
   "metadata": {},
   "outputs": [],
   "source": [
    "labels_order3_9cycles_conj1 = [from_perm_to_labels(perm) for perm in conj1.list()]"
   ]
  },
  {
   "cell_type": "code",
   "execution_count": 65,
   "id": "b59f815c",
   "metadata": {},
   "outputs": [],
   "source": [
    "labels_order3_9cycles_conj2 = [from_perm_to_labels(perm) for perm in conj2.list()]"
   ]
  },
  {
   "cell_type": "code",
   "execution_count": 100,
   "id": "5dcfc2d1",
   "metadata": {},
   "outputs": [
    {
     "name": "stdout",
     "output_type": "stream",
     "text": [
      "['E4', 'E1', 'E6', 'E2', 'E3', 'E5', 'G4', 'G1', 'G6', 'G2', 'G3', 'G5', 'F14', 'F46', 'F24', 'F34', 'F45', 'F16', 'F12', 'F13', 'F15', 'F26', 'F36', 'F56', 'F23', 'F25', 'F35']\n"
     ]
    }
   ],
   "source": [
    "print(labels_order3_9cycles_conj1[0])"
   ]
  },
  {
   "cell_type": "code",
   "execution_count": 188,
   "id": "c2c5a77a",
   "metadata": {},
   "outputs": [],
   "source": [
    "load('Imports/Cubic.sage')"
   ]
  },
  {
   "cell_type": "code",
   "execution_count": 36,
   "id": "0cb59621",
   "metadata": {},
   "outputs": [],
   "source": [
    "L_set_base = ['E1', 'G4', 'E2', 'G3', 'E3', 'E5']"
   ]
  },
  {
   "cell_type": "code",
   "execution_count": 106,
   "id": "4d6ae7c9",
   "metadata": {},
   "outputs": [],
   "source": [
    "index = 125"
   ]
  },
  {
   "cell_type": "code",
   "execution_count": 120,
   "id": "978f3e20",
   "metadata": {},
   "outputs": [
    {
     "data": {
      "text/plain": [
       "['E4', 'G2', 'E1', 'G6', 'E6', 'E3']"
      ]
     },
     "execution_count": 120,
     "metadata": {},
     "output_type": "execute_result"
    }
   ],
   "source": [
    "L_set_permuted = [[labels_order3_9cycles_conj1[j][keys.index(label)] for label in L_set_base] for j in range(len(labels_order3_9cycles_conj1))]\n",
    "L_set_permuted = [L_set for L_set in L_set_permuted if L_set[-1] in ['E1', 'G4', 'E2', 'G3', 'E3']][0]\n",
    "L_set_permuted"
   ]
  },
  {
   "cell_type": "code",
   "execution_count": 1,
   "id": "fce3bff8",
   "metadata": {},
   "outputs": [],
   "source": [
    "P.<x,y,z,t,b,c,d,e,f,l,m> = PolynomialRing(QQ)"
   ]
  },
  {
   "cell_type": "code",
   "execution_count": 2,
   "id": "146f48bf",
   "metadata": {},
   "outputs": [],
   "source": [
    "cubic_new = e*f*(2*x^2*y-2*x*y^2+x*z^2-x*z*t-y*t^2+y*z*t)+b*c*(x-t)*(x*z+y*t)+c*c*(z+t)*(y*t-x*z)+d*c*(y-z)*(x*z+y*t)+(e+f)*c*(x-y)*(y*t-x*z)"
   ]
  },
  {
   "cell_type": "code",
   "execution_count": 3,
   "id": "9153b166",
   "metadata": {},
   "outputs": [],
   "source": [
    "sing_cubics = (-1) * (-c + f) * (-c + e) * c * (c + f) * (c + e) * (-e + f)^2 * (-c*d + c*f + e*f) * (-c*d + c*e + e*f) * (-c^2 - c*d + e*f) * (b*c - c*f + e*f) * (b*c - c*e + e*f) * (b*c - c*d + 2*e*f) * (b*c - c^2 + e*f) * (b*c^2 + c^2*d + b*c*f - 2*c^2*f - c*d*f + 2*e*f^2) * (b*c^2 + c^2*d + b*c*e - 2*c^2*e - c*d*e + 2*e^2*f) * (-b*c^3 - 2*b*c^2*d + c^3*d + b*c^2*e + c^2*d*e + b*c^2*f + c^2*d*f + 3*b*c*e*f - 4*c^2*e*f - 3*c*d*e*f + 4*e^2*f^2)"
   ]
  },
  {
   "cell_type": "code",
   "execution_count": 6,
   "id": "d6998c0f",
   "metadata": {},
   "outputs": [],
   "source": [
    "line = Line([y, z])"
   ]
  },
  {
   "cell_type": "code",
   "execution_count": null,
   "id": "878bafbd",
   "metadata": {},
   "outputs": [],
   "source": [
    "general_cubic = Cubic(cubic_new, line, sing_cubics)"
   ]
  },
  {
   "cell_type": "code",
   "execution_count": 38,
   "id": "89637780",
   "metadata": {},
   "outputs": [],
   "source": [
    "base_five_points = get_five_points_in_general_position(general_cubic.get_L_set_in_plucker(L_set_base[0:5]))"
   ]
  },
  {
   "cell_type": "code",
   "execution_count": 121,
   "id": "eac93d08",
   "metadata": {},
   "outputs": [],
   "source": [
    "mat = find_projectivity(base_five_points, general_cubic.get_L_set_in_plucker(L_set_permuted[0:5]))"
   ]
  },
  {
   "cell_type": "code",
   "execution_count": 123,
   "id": "75e1c1ce",
   "metadata": {},
   "outputs": [],
   "source": [
    "cl = general_cubic.cl_lines"
   ]
  },
  {
   "cell_type": "code",
   "execution_count": 49,
   "id": "03b309ab",
   "metadata": {},
   "outputs": [
    {
     "data": {
      "text/plain": [
       "True"
      ]
     },
     "execution_count": 49,
     "metadata": {},
     "output_type": "execute_result"
    }
   ],
   "source": [
    "cl['E1'] == cl['F12'].apply_proj(mat)"
   ]
  },
  {
   "cell_type": "code",
   "execution_count": 50,
   "id": "f7292066",
   "metadata": {},
   "outputs": [
    {
     "data": {
      "text/plain": [
       "True"
      ]
     },
     "execution_count": 50,
     "metadata": {},
     "output_type": "execute_result"
    }
   ],
   "source": [
    "cl['G4'] == cl['E2'].apply_proj(mat)"
   ]
  },
  {
   "cell_type": "code",
   "execution_count": 51,
   "id": "5ea0f610",
   "metadata": {},
   "outputs": [
    {
     "data": {
      "text/plain": [
       "True"
      ]
     },
     "execution_count": 51,
     "metadata": {},
     "output_type": "execute_result"
    }
   ],
   "source": [
    "cl['E2'] == cl['F24'].apply_proj(mat)"
   ]
  },
  {
   "cell_type": "code",
   "execution_count": 52,
   "id": "1da3a230",
   "metadata": {},
   "outputs": [
    {
     "data": {
      "text/plain": [
       "True"
      ]
     },
     "execution_count": 52,
     "metadata": {},
     "output_type": "execute_result"
    }
   ],
   "source": [
    "cl['G3'] == cl['F36'].apply_proj(mat)"
   ]
  },
  {
   "cell_type": "code",
   "execution_count": 53,
   "id": "9c6b9c59",
   "metadata": {},
   "outputs": [
    {
     "data": {
      "text/plain": [
       "True"
      ]
     },
     "execution_count": 53,
     "metadata": {},
     "output_type": "execute_result"
    }
   ],
   "source": [
    "cl['E3'] == cl['G5'].apply_proj(mat)"
   ]
  },
  {
   "cell_type": "code",
   "execution_count": 87,
   "id": "8a581a97",
   "metadata": {},
   "outputs": [
    {
     "data": {
      "text/plain": [
       "False"
      ]
     },
     "execution_count": 87,
     "metadata": {},
     "output_type": "execute_result"
    }
   ],
   "source": [
    "cl['E5'] == cl['F34'].apply_proj(mat)"
   ]
  },
  {
   "cell_type": "code",
   "execution_count": 124,
   "id": "3b3676e9",
   "metadata": {},
   "outputs": [],
   "source": [
    "conds1 = list(set(matrix([cl['E5'].plucker, cl['E3'].apply_proj(mat).plucker]).minors(2)))"
   ]
  },
  {
   "cell_type": "code",
   "execution_count": 94,
   "id": "f6c7c88b",
   "metadata": {},
   "outputs": [],
   "source": [
    "#conds2 = list(set(matrix([cl['F56'].plucker, cl['E4'].apply_proj(mat).plucker]).minors(2)))"
   ]
  },
  {
   "cell_type": "code",
   "execution_count": 95,
   "id": "b0a74dcd",
   "metadata": {},
   "outputs": [],
   "source": [
    "#conds3 = list(set(matrix([cl['F46'].plucker, cl['F36'].apply_proj(mat).plucker]).minors(2)))"
   ]
  },
  {
   "cell_type": "code",
   "execution_count": 96,
   "id": "d26c3376",
   "metadata": {},
   "outputs": [],
   "source": [
    "#conds4 = list(set(matrix([cl['E5'].plucker, cl['F46'].apply_proj(mat).plucker]).minors(2)))"
   ]
  },
  {
   "cell_type": "code",
   "execution_count": 139,
   "id": "bf58575f",
   "metadata": {},
   "outputs": [],
   "source": [
    "gb = P.ideal(conds1).groebner_basis()"
   ]
  },
  {
   "cell_type": "code",
   "execution_count": 140,
   "id": "b97aafd3",
   "metadata": {},
   "outputs": [],
   "source": [
    "gb_red = [poly//gcd(gb) for poly in gb]"
   ]
  },
  {
   "cell_type": "code",
   "execution_count": 156,
   "id": "4f9b83eb",
   "metadata": {},
   "outputs": [],
   "source": [
    "ide = P.ideal(gcd(gb))"
   ]
  },
  {
   "cell_type": "code",
   "execution_count": 158,
   "id": "32980020",
   "metadata": {},
   "outputs": [],
   "source": [
    "poly = gcd(gb)"
   ]
  },
  {
   "cell_type": "code",
   "execution_count": 173,
   "id": "7a2dca12",
   "metadata": {},
   "outputs": [],
   "source": [
    "coef1 = poly.coefficient(b)"
   ]
  },
  {
   "cell_type": "code",
   "execution_count": 174,
   "id": "4998f0a3",
   "metadata": {},
   "outputs": [],
   "source": [
    "coef2 = poly.subs({b:0})"
   ]
  },
  {
   "cell_type": "code",
   "execution_count": 181,
   "id": "1e9f4a1f",
   "metadata": {},
   "outputs": [],
   "source": [
    "new_eq = P((general_cubic.eqn*coef2).subs({b:coef1}))"
   ]
  },
  {
   "cell_type": "code",
   "execution_count": 185,
   "id": "63444c6c",
   "metadata": {},
   "outputs": [
    {
     "data": {
      "text/plain": [
       "-x^2*z*c^5 - x*y*t*c^5 + x*z*t*c^5 + y*t^2*c^5 - x^2*z*c^4*d - x*y*t*c^4*d + x*z*t*c^4*d + y*t^2*c^4*d + x^2*z*c^4*e + x*y*t*c^4*e - x*z*t*c^4*e - y*t^2*c^4*e + x^2*z*c^3*d*f + x*y*t*c^3*d*f - x*z*t*c^3*d*f - y*t^2*c^3*d*f + 2*x^2*z*c^3*e*f + 2*x*y*t*c^3*e*f - 2*x*z*t*c^3*e*f - 2*y*t^2*c^3*e*f - x^2*z*c^3*f^2 - x*y*t*c^3*f^2 + x*z*t*c^3*f^2 + y*t^2*c^3*f^2 - x^2*z*c^2*e*f^2 - x*y*t*c^2*e*f^2 + x*z*t*c^2*e*f^2 + y*t^2*c^2*e*f^2 + x*z^2*c^2 + x*z*t*c^2 - y*z*t*c^2 - y*t^2*c^2 - x*y*z*c*d + x*z^2*c*d - y^2*t*c*d + y*z*t*c*d + x^2*z*c*e - x*y*z*c*e - x*y*t*c*e + y^2*t*c*e + x^2*z*c*f - x*y*z*c*f - x*y*t*c*f + y^2*t*c*f - 2*x^2*y*e*f + 2*x*y^2*e*f - x*z^2*e*f + x*z*t*e*f - y*z*t*e*f + y*t^2*e*f"
      ]
     },
     "execution_count": 185,
     "metadata": {},
     "output_type": "execute_result"
    }
   ],
   "source": [
    "new_eq.factor()[-1][0]"
   ]
  },
  {
   "cell_type": "code",
   "execution_count": 190,
   "id": "4631eaa1",
   "metadata": {},
   "outputs": [
    {
     "name": "stdout",
     "output_type": "stream",
     "text": [
      "0\n",
      "1\n",
      "2\n",
      "3\n",
      "4\n",
      "5\n",
      "6\n",
      "7\n",
      "8\n",
      "9\n",
      "10\n",
      "11\n",
      "12\n",
      "13\n",
      "14\n",
      "15\n",
      "16\n",
      "17\n",
      "18\n",
      "19\n",
      "20\n",
      "21\n",
      "22\n",
      "23\n",
      "24\n",
      "25\n",
      "26\n",
      "27\n",
      "28\n",
      "29\n",
      "30\n",
      "31\n",
      "32\n",
      "33\n",
      "34\n",
      "35\n",
      "36\n",
      "37\n",
      "38\n",
      "39\n",
      "40\n",
      "41\n",
      "42\n",
      "43\n",
      "44\n"
     ]
    }
   ],
   "source": [
    "nc = Cubic(new_eq.factor()[-1][0], line, sing_cubics)"
   ]
  },
  {
   "cell_type": "code",
   "execution_count": 192,
   "id": "5225a62a",
   "metadata": {},
   "outputs": [
    {
     "data": {
      "text/plain": [
       "[]"
      ]
     },
     "execution_count": 192,
     "metadata": {},
     "output_type": "execute_result"
    }
   ],
   "source": [
    "nc.eckardt_points"
   ]
  },
  {
   "cell_type": "code",
   "execution_count": 155,
   "id": "4942743a",
   "metadata": {},
   "outputs": [
    {
     "data": {
      "text/plain": [
       "[Ideal (c - f, b + e - f) of Multivariate Polynomial Ring in x, y, z, t, b, c, d, e, f, l, m over Rational Field,\n",
       " Ideal (c - e, b - e + f) of Multivariate Polynomial Ring in x, y, z, t, b, c, d, e, f, l, m over Rational Field,\n",
       " Ideal (b + d - 2*f, c*d - c*f - e*f) of Multivariate Polynomial Ring in x, y, z, t, b, c, d, e, f, l, m over Rational Field,\n",
       " Ideal (b + d - 2*e, c*d - c*e - e*f) of Multivariate Polynomial Ring in x, y, z, t, b, c, d, e, f, l, m over Rational Field,\n",
       " Ideal (d + e - f, c + f) of Multivariate Polynomial Ring in x, y, z, t, b, c, d, e, f, l, m over Rational Field]"
      ]
     },
     "execution_count": 155,
     "metadata": {},
     "output_type": "execute_result"
    }
   ],
   "source": [
    "ide.saturation(P.ideal([e*f]))[0].radical().primary_decomposition()"
   ]
  },
  {
   "cell_type": "code",
   "execution_count": 137,
   "id": "5e5d015a",
   "metadata": {},
   "outputs": [
    {
     "data": {
      "text/plain": [
       "(-1) * (-c + f) * (-c + e) * c * (c + f) * (c + e) * (-e + f)^2 * (-c*d + c*f + e*f) * (-c*d + c*e + e*f) * (-c^2 - c*d + e*f) * (b*c - c*f + e*f) * (b*c - c*e + e*f) * (b*c - c*d + 2*e*f) * (b*c - c^2 + e*f) * (b*c^2 + c^2*d + b*c*f - 2*c^2*f - c*d*f + 2*e*f^2) * (b*c^2 + c^2*d + b*c*e - 2*c^2*e - c*d*e + 2*e^2*f) * (-b*c^3 - 2*b*c^2*d + c^3*d + b*c^2*e + c^2*d*e + b*c^2*f + c^2*d*f + 3*b*c*e*f - 4*c^2*e*f - 3*c*d*e*f + 4*e^2*f^2)"
      ]
     },
     "execution_count": 137,
     "metadata": {},
     "output_type": "execute_result"
    }
   ],
   "source": [
    "general_cubic.sing_locus"
   ]
  },
  {
   "cell_type": "code",
   "execution_count": 62,
   "id": "ee52c3d0",
   "metadata": {},
   "outputs": [],
   "source": [
    "vrs = P.gens()[0:4]\n",
    "mon = (sum(vrs) ^ 3).monomials()\n",
    "change_coord = vector(vrs) * mat\n",
    "sost = {vrs[j]: change_coord[j] for j in range(4)}\n",
    "new_cubic = general_cubic.eqn.subs(sost)"
   ]
  },
  {
   "cell_type": "code",
   "execution_count": 39,
   "id": "96e53dd1",
   "metadata": {},
   "outputs": [],
   "source": [
    "coeffs = list(set(matrix([[general_cubic.eqn.coefficient(mn) for mn in mon], [new_cubic.coefficient(mn) for mn in mon]]).minors(2)))"
   ]
  },
  {
   "cell_type": "code",
   "execution_count": null,
   "id": "8671b3ef",
   "metadata": {},
   "outputs": [],
   "source": [
    "print(coeffs[1])"
   ]
  },
  {
   "cell_type": "code",
   "execution_count": 51,
   "id": "6d831018",
   "metadata": {},
   "outputs": [
    {
     "ename": "KeyboardInterrupt",
     "evalue": "",
     "output_type": "error",
     "traceback": [
      "\u001b[0;31m---------------------------------------------------------------------------\u001b[0m",
      "\u001b[0;31mKeyboardInterrupt\u001b[0m                         Traceback (most recent call last)",
      "\u001b[0;32m<ipython-input-51-bc9b9352c10c>\u001b[0m in \u001b[0;36m<module>\u001b[0;34m\u001b[0m\n\u001b[0;32m----> 1\u001b[0;31m \u001b[0mconds\u001b[0m \u001b[0;34m=\u001b[0m \u001b[0;34m[\u001b[0m\u001b[0mremove_sing_factors\u001b[0m\u001b[0;34m(\u001b[0m\u001b[0mel\u001b[0m\u001b[0;34m,\u001b[0m \u001b[0mgeneral_cubic\u001b[0m\u001b[0;34m.\u001b[0m\u001b[0msing_locus\u001b[0m\u001b[0;34m)\u001b[0m \u001b[0;32mfor\u001b[0m \u001b[0mel\u001b[0m \u001b[0;32min\u001b[0m \u001b[0mcoeffs\u001b[0m \u001b[0;32mif\u001b[0m \u001b[0mel\u001b[0m \u001b[0;34m!=\u001b[0m \u001b[0mInteger\u001b[0m\u001b[0;34m(\u001b[0m\u001b[0;36m0\u001b[0m\u001b[0;34m)\u001b[0m\u001b[0;34m]\u001b[0m\u001b[0;34m\u001b[0m\u001b[0;34m\u001b[0m\u001b[0m\n\u001b[0m",
      "\u001b[0;32m<ipython-input-51-bc9b9352c10c>\u001b[0m in \u001b[0;36m<listcomp>\u001b[0;34m(.0)\u001b[0m\n\u001b[0;32m----> 1\u001b[0;31m \u001b[0mconds\u001b[0m \u001b[0;34m=\u001b[0m \u001b[0;34m[\u001b[0m\u001b[0mremove_sing_factors\u001b[0m\u001b[0;34m(\u001b[0m\u001b[0mel\u001b[0m\u001b[0;34m,\u001b[0m \u001b[0mgeneral_cubic\u001b[0m\u001b[0;34m.\u001b[0m\u001b[0msing_locus\u001b[0m\u001b[0;34m)\u001b[0m \u001b[0;32mfor\u001b[0m \u001b[0mel\u001b[0m \u001b[0;32min\u001b[0m \u001b[0mcoeffs\u001b[0m \u001b[0;32mif\u001b[0m \u001b[0mel\u001b[0m \u001b[0;34m!=\u001b[0m \u001b[0mInteger\u001b[0m\u001b[0;34m(\u001b[0m\u001b[0;36m0\u001b[0m\u001b[0;34m)\u001b[0m\u001b[0;34m]\u001b[0m\u001b[0;34m\u001b[0m\u001b[0;34m\u001b[0m\u001b[0m\n\u001b[0m",
      "\u001b[0;32m<string>\u001b[0m in \u001b[0;36mremove_sing_factors\u001b[0;34m(poly, sing_locus)\u001b[0m\n",
      "\u001b[0;32m~/anaconda3/envs/sage/lib/python3.7/site-packages/sage/rings/polynomial/multi_polynomial_libsingular.pyx\u001b[0m in \u001b[0;36msage.rings.polynomial.multi_polynomial_libsingular.MPolynomial_libsingular.factor (build/cythonized/sage/rings/polynomial/multi_polynomial_libsingular.cpp:34773)\u001b[0;34m()\u001b[0m\n\u001b[1;32m   4465\u001b[0m         \u001b[0mptemp\u001b[0m \u001b[0;34m=\u001b[0m \u001b[0mp_Copy\u001b[0m\u001b[0;34m(\u001b[0m\u001b[0mself\u001b[0m\u001b[0;34m.\u001b[0m\u001b[0m_poly\u001b[0m\u001b[0;34m,\u001b[0m\u001b[0m_ring\u001b[0m\u001b[0;34m)\u001b[0m\u001b[0;34m\u001b[0m\u001b[0;34m\u001b[0m\u001b[0m\n\u001b[1;32m   4466\u001b[0m         \u001b[0miv\u001b[0m \u001b[0;34m=\u001b[0m \u001b[0mNULL\u001b[0m\u001b[0;34m\u001b[0m\u001b[0;34m\u001b[0m\u001b[0m\n\u001b[0;32m-> 4467\u001b[0;31m         \u001b[0msig_on\u001b[0m\u001b[0;34m(\u001b[0m\u001b[0;34m)\u001b[0m\u001b[0;34m\u001b[0m\u001b[0;34m\u001b[0m\u001b[0m\n\u001b[0m\u001b[1;32m   4468\u001b[0m         \u001b[0;32mif\u001b[0m \u001b[0m_ring\u001b[0m\u001b[0;34m!=\u001b[0m\u001b[0mcurrRing\u001b[0m\u001b[0;34m:\u001b[0m \u001b[0mrChangeCurrRing\u001b[0m\u001b[0;34m(\u001b[0m\u001b[0m_ring\u001b[0m\u001b[0;34m)\u001b[0m   \u001b[0;31m# singclap_factorize\u001b[0m\u001b[0;34m\u001b[0m\u001b[0;34m\u001b[0m\u001b[0m\n\u001b[1;32m   4469\u001b[0m         \u001b[0mI\u001b[0m \u001b[0;34m=\u001b[0m \u001b[0msingclap_factorize\u001b[0m \u001b[0;34m(\u001b[0m \u001b[0mptemp\u001b[0m\u001b[0;34m,\u001b[0m \u001b[0;34m&\u001b[0m\u001b[0miv\u001b[0m \u001b[0;34m,\u001b[0m \u001b[0;36m0\u001b[0m\u001b[0;34m,\u001b[0m \u001b[0m_ring\u001b[0m\u001b[0;34m)\u001b[0m\u001b[0;34m\u001b[0m\u001b[0;34m\u001b[0m\u001b[0m\n",
      "\u001b[0;31mKeyboardInterrupt\u001b[0m: "
     ]
    }
   ],
   "source": [
    "conds = [remove_sing_factors(el, general_cubic.sing_locus) for el in coeffs if el != 0]"
   ]
  },
  {
   "cell_type": "code",
   "execution_count": null,
   "id": "5e515442",
   "metadata": {},
   "outputs": [],
   "source": [
    "gb =P.ideal(conds).groebner_basis()"
   ]
  },
  {
   "cell_type": "code",
   "execution_count": null,
   "id": "ce815609",
   "metadata": {},
   "outputs": [],
   "source": []
  },
  {
   "cell_type": "code",
   "execution_count": null,
   "id": "18de11ec",
   "metadata": {},
   "outputs": [],
   "source": [
    "gb1 = P.ideal(conds).radical().primary_decomposition()\n",
    "gb1"
   ]
  },
  {
   "cell_type": "code",
   "execution_count": null,
   "id": "82e49829",
   "metadata": {},
   "outputs": [],
   "source": []
  },
  {
   "cell_type": "code",
   "execution_count": null,
   "id": "42f3bd20",
   "metadata": {},
   "outputs": [],
   "source": [
    "var = [b,d,e,f,c]"
   ]
  },
  {
   "cell_type": "code",
   "execution_count": 43,
   "id": "f83cd507",
   "metadata": {},
   "outputs": [
    {
     "name": "stdout",
     "output_type": "stream",
     "text": [
      "6\n",
      "7\n"
     ]
    },
    {
     "ename": "ValueError",
     "evalue": "must be a square matrix",
     "output_type": "error",
     "traceback": [
      "\u001b[0;31m---------------------------------------------------------------------------\u001b[0m",
      "\u001b[0;31mValueError\u001b[0m                                Traceback (most recent call last)",
      "\u001b[0;32m<ipython-input-43-347e3cdbf648>\u001b[0m in \u001b[0;36m<module>\u001b[0;34m\u001b[0m\n\u001b[1;32m      1\u001b[0m \u001b[0;32mfor\u001b[0m \u001b[0mideale\u001b[0m \u001b[0;32min\u001b[0m \u001b[0mgb1\u001b[0m\u001b[0;34m:\u001b[0m\u001b[0;34m\u001b[0m\u001b[0;34m\u001b[0m\u001b[0m\n\u001b[0;32m----> 2\u001b[0;31m     \u001b[0msost\u001b[0m \u001b[0;34m=\u001b[0m \u001b[0msolve_linear_system\u001b[0m\u001b[0;34m(\u001b[0m\u001b[0mideale\u001b[0m\u001b[0;34m.\u001b[0m\u001b[0mgens\u001b[0m\u001b[0;34m(\u001b[0m\u001b[0;34m)\u001b[0m\u001b[0;34m,\u001b[0m \u001b[0;34m[\u001b[0m\u001b[0mb\u001b[0m\u001b[0;34m,\u001b[0m\u001b[0md\u001b[0m\u001b[0;34m,\u001b[0m\u001b[0me\u001b[0m\u001b[0;34m,\u001b[0m\u001b[0mf\u001b[0m\u001b[0;34m]\u001b[0m\u001b[0;34m,\u001b[0m \u001b[0;34m[\u001b[0m\u001b[0mc\u001b[0m\u001b[0;34m]\u001b[0m\u001b[0;34m)\u001b[0m\u001b[0;34m\u001b[0m\u001b[0;34m\u001b[0m\u001b[0m\n\u001b[0m\u001b[1;32m      3\u001b[0m     \u001b[0;32mif\u001b[0m \u001b[0msing_cubics\u001b[0m\u001b[0;34m.\u001b[0m\u001b[0msubs\u001b[0m\u001b[0;34m(\u001b[0m\u001b[0;34m{\u001b[0m\u001b[0mvar\u001b[0m\u001b[0;34m[\u001b[0m\u001b[0mi\u001b[0m\u001b[0;34m]\u001b[0m\u001b[0;34m:\u001b[0m\u001b[0msost\u001b[0m\u001b[0;34m[\u001b[0m\u001b[0mi\u001b[0m\u001b[0;34m]\u001b[0m \u001b[0;32mfor\u001b[0m \u001b[0mi\u001b[0m \u001b[0;32min\u001b[0m \u001b[0mrange\u001b[0m\u001b[0;34m(\u001b[0m\u001b[0mlen\u001b[0m\u001b[0;34m(\u001b[0m\u001b[0msost\u001b[0m\u001b[0;34m)\u001b[0m\u001b[0;34m)\u001b[0m\u001b[0;34m}\u001b[0m\u001b[0;34m)\u001b[0m \u001b[0;34m!=\u001b[0m \u001b[0mInteger\u001b[0m\u001b[0;34m(\u001b[0m\u001b[0;36m0\u001b[0m\u001b[0;34m)\u001b[0m\u001b[0;34m:\u001b[0m\u001b[0;34m\u001b[0m\u001b[0;34m\u001b[0m\u001b[0m\n\u001b[1;32m      4\u001b[0m         \u001b[0mprint\u001b[0m\u001b[0;34m(\u001b[0m\u001b[0mgb1\u001b[0m\u001b[0;34m.\u001b[0m\u001b[0mindex\u001b[0m\u001b[0;34m(\u001b[0m\u001b[0mideale\u001b[0m\u001b[0;34m)\u001b[0m\u001b[0;34m)\u001b[0m\u001b[0;34m\u001b[0m\u001b[0;34m\u001b[0m\u001b[0m\n",
      "\u001b[0;32m<string>\u001b[0m in \u001b[0;36msolve_linear_system\u001b[0;34m(eqns, variables, param)\u001b[0m\n",
      "\u001b[0;32m~/anaconda3/envs/sage/lib/python3.7/site-packages/sage/matrix/matrix2.pyx\u001b[0m in \u001b[0;36msage.matrix.matrix2.Matrix.adjugate (build/cythonized/sage/matrix/matrix2.c:70172)\u001b[0;34m()\u001b[0m\n\u001b[1;32m   9782\u001b[0m \u001b[0;34m\u001b[0m\u001b[0m\n\u001b[1;32m   9783\u001b[0m         \u001b[0;32mif\u001b[0m \u001b[0mself\u001b[0m\u001b[0;34m.\u001b[0m\u001b[0m_nrows\u001b[0m \u001b[0;34m!=\u001b[0m \u001b[0mself\u001b[0m\u001b[0;34m.\u001b[0m\u001b[0m_ncols\u001b[0m\u001b[0;34m:\u001b[0m\u001b[0;34m\u001b[0m\u001b[0;34m\u001b[0m\u001b[0m\n\u001b[0;32m-> 9784\u001b[0;31m             \u001b[0;32mraise\u001b[0m \u001b[0mValueError\u001b[0m\u001b[0;34m(\u001b[0m\u001b[0;34m\"must be a square matrix\"\u001b[0m\u001b[0;34m)\u001b[0m\u001b[0;34m\u001b[0m\u001b[0;34m\u001b[0m\u001b[0m\n\u001b[0m\u001b[1;32m   9785\u001b[0m \u001b[0;34m\u001b[0m\u001b[0m\n\u001b[1;32m   9786\u001b[0m         \u001b[0mX\u001b[0m \u001b[0;34m=\u001b[0m \u001b[0mself\u001b[0m\u001b[0;34m.\u001b[0m\u001b[0mfetch\u001b[0m\u001b[0;34m(\u001b[0m\u001b[0;34m'adjugate'\u001b[0m\u001b[0;34m)\u001b[0m\u001b[0;34m\u001b[0m\u001b[0;34m\u001b[0m\u001b[0m\n",
      "\u001b[0;31mValueError\u001b[0m: must be a square matrix"
     ]
    }
   ],
   "source": [
    "for ideale in gb1:\n",
    "    sost = solve_linear_system(ideale.gens(), [b,d,e,f], [c])\n",
    "    if sing_cubics.subs({var[i]:sost[i] for i in range(len(sost))}) != 0:\n",
    "        print(gb1.index(ideale))"
   ]
  },
  {
   "cell_type": "code",
   "execution_count": 44,
   "id": "4797aa81",
   "metadata": {},
   "outputs": [],
   "source": [
    "sost = solve_linear_system(gb1[6].gens(), [b,d,e,f], [c])"
   ]
  },
  {
   "cell_type": "code",
   "execution_count": 45,
   "id": "d5677e78",
   "metadata": {},
   "outputs": [
    {
     "data": {
      "text/plain": [
       "[(6*i - 18)*c, (-6*i - 18)*c, 9*c, -9*c, (9*i)*c]"
      ]
     },
     "execution_count": 45,
     "metadata": {},
     "output_type": "execute_result"
    }
   ],
   "source": [
    "sost"
   ]
  },
  {
   "cell_type": "code",
   "execution_count": 46,
   "id": "70519bc1",
   "metadata": {},
   "outputs": [
    {
     "data": {
      "text/plain": [
       "-162*x^2*y + 162*x*y^2 + (-162*i - 162)*x^2*z + (-162*i + 162)*x*y*z + (162*i)*x*z^2 + (-162*i - 162)*x*y*t + (-162*i + 162)*y^2*t + (162*i + 486)*x*z*t + (162*i - 486)*y*z*t + (162*i)*y*t^2"
      ]
     },
     "execution_count": 46,
     "metadata": {},
     "output_type": "execute_result"
    }
   ],
   "source": [
    "nc = general_cubic.subs({var[i]:sost[i] for i in range(len(sost))})\n",
    "nc"
   ]
  },
  {
   "cell_type": "code",
   "execution_count": 47,
   "id": "49b561ff",
   "metadata": {},
   "outputs": [
    {
     "data": {
      "text/plain": [
       "18"
      ]
     },
     "execution_count": 47,
     "metadata": {},
     "output_type": "execute_result"
    }
   ],
   "source": [
    "len(nc.eckardt_points)"
   ]
  },
  {
   "cell_type": "code",
   "execution_count": null,
   "id": "f560b1e2",
   "metadata": {},
   "outputs": [],
   "source": []
  },
  {
   "cell_type": "code",
   "execution_count": null,
   "id": "273c143f",
   "metadata": {},
   "outputs": [],
   "source": []
  },
  {
   "cell_type": "code",
   "execution_count": 58,
   "id": "92ee3f40",
   "metadata": {},
   "outputs": [
    {
     "data": {
      "text/plain": [
       "False"
      ]
     },
     "execution_count": 58,
     "metadata": {},
     "output_type": "execute_result"
    }
   ],
   "source": [
    "cl['F56'] == cl['E4'].apply_proj(mat)"
   ]
  },
  {
   "cell_type": "code",
   "execution_count": 59,
   "id": "a7e80269",
   "metadata": {},
   "outputs": [
    {
     "data": {
      "text/plain": [
       "False"
      ]
     },
     "execution_count": 59,
     "metadata": {},
     "output_type": "execute_result"
    }
   ],
   "source": [
    "cl['F46'] == cl['F36'].apply_proj(mat)"
   ]
  },
  {
   "cell_type": "code",
   "execution_count": 60,
   "id": "7e05537e",
   "metadata": {},
   "outputs": [
    {
     "data": {
      "text/plain": [
       "False"
      ]
     },
     "execution_count": 60,
     "metadata": {},
     "output_type": "execute_result"
    }
   ],
   "source": [
    "cl['E5'] == cl['F46'].apply_proj(mat)"
   ]
  },
  {
   "cell_type": "code",
   "execution_count": null,
   "id": "ad424e79",
   "metadata": {},
   "outputs": [],
   "source": []
  },
  {
   "cell_type": "code",
   "execution_count": null,
   "id": "786200f9",
   "metadata": {},
   "outputs": [],
   "source": []
  },
  {
   "cell_type": "code",
   "execution_count": null,
   "id": "fed142f6",
   "metadata": {},
   "outputs": [],
   "source": []
  },
  {
   "cell_type": "code",
   "execution_count": null,
   "id": "a4cff57f",
   "metadata": {},
   "outputs": [],
   "source": []
  },
  {
   "cell_type": "code",
   "execution_count": null,
   "id": "4ecc2ed6",
   "metadata": {},
   "outputs": [],
   "source": []
  },
  {
   "cell_type": "code",
   "execution_count": null,
   "id": "76c3a9a3",
   "metadata": {},
   "outputs": [],
   "source": []
  },
  {
   "cell_type": "code",
   "execution_count": null,
   "id": "b2583332",
   "metadata": {},
   "outputs": [],
   "source": []
  },
  {
   "cell_type": "code",
   "execution_count": 13,
   "id": "9457eeb9",
   "metadata": {},
   "outputs": [],
   "source": [
    "order5_perm = []\n",
    "for perm in all_perms:\n",
    "    if perm.order() == 5:\n",
    "        order5_perm.append(perm)"
   ]
  },
  {
   "cell_type": "code",
   "execution_count": 14,
   "id": "48639fe9",
   "metadata": {},
   "outputs": [
    {
     "data": {
      "text/plain": [
       "5184"
      ]
     },
     "execution_count": 14,
     "metadata": {},
     "output_type": "execute_result"
    }
   ],
   "source": [
    "len(order5_perm)"
   ]
  },
  {
   "cell_type": "code",
   "execution_count": 15,
   "id": "ead2e58d",
   "metadata": {},
   "outputs": [],
   "source": [
    "all_fixed_lines5 = []\n",
    "for perm in order5_perm:\n",
    "    fixed_lines = []\n",
    "    for tup in perm.cycle_tuples(singletons=True):\n",
    "        if len(tup) ==1:\n",
    "            fixed_lines.append(tup[0])\n",
    "    if fixed_lines !=[]:\n",
    "        all_fixed_lines5.append(fixed_lines)"
   ]
  },
  {
   "cell_type": "code",
   "execution_count": 16,
   "id": "34fd6f06",
   "metadata": {},
   "outputs": [],
   "source": [
    "for lines in all_fixed_lines5:\n",
    "    if len(lines) !=2:\n",
    "        print(lines)"
   ]
  },
  {
   "cell_type": "code",
   "execution_count": null,
   "id": "716e3f5d",
   "metadata": {},
   "outputs": [],
   "source": []
  },
  {
   "cell_type": "code",
   "execution_count": 17,
   "id": "b9dcdd14",
   "metadata": {},
   "outputs": [
    {
     "data": {
      "text/plain": [
       "[(1,12,14,5,24,9,7,16)(2,26,8,10,23,11,15,27)(3,20)(4,25,17,22,19,13,6,18),\n",
       " (1,19,12,21,14,13,3,26,4,27)(2,24,10,17,20)(5,22)(6,23,18,8,16)(7,15,25,11,9)]"
      ]
     },
     "execution_count": 17,
     "metadata": {},
     "output_type": "execute_result"
    }
   ],
   "source": [
    "E6 = WeylGroup(['E', 6]).as_permutation_group()\n",
    "E6.gens_small()"
   ]
  },
  {
   "cell_type": "code",
   "execution_count": 31,
   "id": "55035658",
   "metadata": {},
   "outputs": [],
   "source": [
    "ord3 = []\n",
    "for el in E6:\n",
    "    if el.order() == 3:\n",
    "        ord3.append(el)"
   ]
  },
  {
   "cell_type": "code",
   "execution_count": 32,
   "id": "bfaaa783",
   "metadata": {},
   "outputs": [
    {
     "data": {
      "text/plain": [
       "800"
      ]
     },
     "execution_count": 32,
     "metadata": {},
     "output_type": "execute_result"
    }
   ],
   "source": [
    "len(ord3)"
   ]
  },
  {
   "cell_type": "code",
   "execution_count": 33,
   "id": "ee2b8de4",
   "metadata": {},
   "outputs": [],
   "source": [
    "ord5 = []\n",
    "for el in E6:\n",
    "    if el.order() == 5:\n",
    "        ord5.append(el)"
   ]
  },
  {
   "cell_type": "code",
   "execution_count": 34,
   "id": "27c2ef98",
   "metadata": {},
   "outputs": [
    {
     "data": {
      "text/plain": [
       "5184"
      ]
     },
     "execution_count": 34,
     "metadata": {},
     "output_type": "execute_result"
    }
   ],
   "source": [
    "len(ord5)"
   ]
  },
  {
   "cell_type": "code",
   "execution_count": null,
   "id": "319849fc",
   "metadata": {},
   "outputs": [],
   "source": []
  }
 ],
 "metadata": {
  "kernelspec": {
   "display_name": "SageMath 9.4",
   "language": "sage",
   "name": "sagemath"
  },
  "language_info": {
   "codemirror_mode": {
    "name": "ipython",
    "version": 3
   },
   "file_extension": ".py",
   "mimetype": "text/x-python",
   "name": "python",
   "nbconvert_exporter": "python",
   "pygments_lexer": "ipython3",
   "version": "3.7.12"
  }
 },
 "nbformat": 4,
 "nbformat_minor": 5
}
