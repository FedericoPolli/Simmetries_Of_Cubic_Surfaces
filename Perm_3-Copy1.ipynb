{
 "cells": [
  {
   "cell_type": "code",
   "execution_count": 1,
   "id": "fa280c8d",
   "metadata": {},
   "outputs": [],
   "source": [
    "load('Imports/Utility.sage', 'Imports/Point.sage', 'Imports/Line.sage', 'Imports/TritangentPlane.sage', 'Imports/Group.sage', 'Imports/Cubic.sage')"
   ]
  },
  {
   "cell_type": "code",
   "execution_count": 2,
   "id": "2b95ca29",
   "metadata": {},
   "outputs": [],
   "source": [
    "with open('all_permutations.pickle', 'rb') as fil:\n",
    "    all_permutations = pickle.load(fil) "
   ]
  },
  {
   "cell_type": "code",
   "execution_count": 13,
   "id": "85fa313c",
   "metadata": {},
   "outputs": [],
   "source": [
    "keys = ['E1', 'E2', 'E3', 'E4', 'E5', 'E6', 'G1', 'G2', 'G3', 'G4', 'G5', 'G6', 'F12', 'F13', 'F14', 'F15', 'F16','F23', 'F24', 'F25', 'F26', 'F34', 'F35', 'F36', 'F45', 'F46', 'F56']"
   ]
  },
  {
   "cell_type": "code",
   "execution_count": 14,
   "id": "1e586b9b",
   "metadata": {},
   "outputs": [],
   "source": [
    "all_perms = [from_labels_to_perm(labels) for labels in all_permutations]"
   ]
  },
  {
   "cell_type": "code",
   "execution_count": 15,
   "id": "19576138",
   "metadata": {},
   "outputs": [],
   "source": [
    "Gr = PermutationGroup(all_perms)"
   ]
  },
  {
   "cell_type": "code",
   "execution_count": 16,
   "id": "7c213aa7",
   "metadata": {},
   "outputs": [],
   "source": [
    "order3_perm = []\n",
    "for perm in all_perms:\n",
    "    if perm.order() == 3:\n",
    "        order3_perm.append(perm)"
   ]
  },
  {
   "cell_type": "code",
   "execution_count": 17,
   "id": "a8d4bd38",
   "metadata": {},
   "outputs": [
    {
     "data": {
      "text/plain": [
       "800"
      ]
     },
     "execution_count": 17,
     "metadata": {},
     "output_type": "execute_result"
    }
   ],
   "source": [
    "len(order3_perm)"
   ]
  },
  {
   "cell_type": "code",
   "execution_count": 18,
   "id": "d419e42e",
   "metadata": {},
   "outputs": [],
   "source": [
    "labels_order3 = [from_perm_to_labels(perm) for perm in order3_perm]"
   ]
  },
  {
   "cell_type": "code",
   "execution_count": 19,
   "id": "fdb2c5db",
   "metadata": {},
   "outputs": [
    {
     "data": {
      "text/plain": [
       "240"
      ]
     },
     "execution_count": 19,
     "metadata": {},
     "output_type": "execute_result"
    }
   ],
   "source": [
    "len(Gr.conjugacy_class(order3_perm[0]))"
   ]
  },
  {
   "cell_type": "code",
   "execution_count": 20,
   "id": "faac557f",
   "metadata": {},
   "outputs": [],
   "source": [
    "all_fixed_lines3 = []\n",
    "for perm in order3_perm:\n",
    "    fixed_lines = []\n",
    "    for tup in perm.cycle_tuples(singletons=True):\n",
    "        if len(tup) ==1:\n",
    "            fixed_lines.append(tup[0])\n",
    "    if fixed_lines !=[]:\n",
    "        all_fixed_lines3.append(fixed_lines)"
   ]
  },
  {
   "cell_type": "code",
   "execution_count": 21,
   "id": "e5703ea8",
   "metadata": {},
   "outputs": [
    {
     "data": {
      "text/plain": [
       "[1, 2, 11, 12, 16, 17, 20, 21, 22]"
      ]
     },
     "execution_count": 21,
     "metadata": {},
     "output_type": "execute_result"
    }
   ],
   "source": [
    "all_fixed_lines3[0]"
   ]
  },
  {
   "cell_type": "code",
   "execution_count": 22,
   "id": "0080788c",
   "metadata": {},
   "outputs": [
    {
     "data": {
      "text/plain": [
       "['E1', 'E2', 'G5', 'G6', 'F15', 'F16', 'F25', 'F26', 'F34']"
      ]
     },
     "execution_count": 22,
     "metadata": {},
     "output_type": "execute_result"
    }
   ],
   "source": [
    "[keys[el-1] for el in all_fixed_lines3[0]]"
   ]
  },
  {
   "cell_type": "code",
   "execution_count": 23,
   "id": "b86d2149",
   "metadata": {},
   "outputs": [
    {
     "data": {
      "text/plain": [
       "240"
      ]
     },
     "execution_count": 23,
     "metadata": {},
     "output_type": "execute_result"
    }
   ],
   "source": [
    "len(all_fixed_lines3)"
   ]
  },
  {
   "cell_type": "code",
   "execution_count": 24,
   "id": "9f355fd0",
   "metadata": {},
   "outputs": [],
   "source": [
    "non_fixed_lines_perm = [perm for perm in order3_perm if len(perm.cycle_tuples())!=6 ]"
   ]
  },
  {
   "cell_type": "code",
   "execution_count": 25,
   "id": "d939564b",
   "metadata": {},
   "outputs": [
    {
     "data": {
      "text/plain": [
       "560"
      ]
     },
     "execution_count": 25,
     "metadata": {},
     "output_type": "execute_result"
    }
   ],
   "source": [
    "len(non_fixed_lines_perm)"
   ]
  },
  {
   "cell_type": "code",
   "execution_count": 26,
   "id": "2ce5b38f",
   "metadata": {},
   "outputs": [],
   "source": [
    "conj1 = Gr.conjugacy_class(non_fixed_lines_perm[0])"
   ]
  },
  {
   "cell_type": "code",
   "execution_count": 27,
   "id": "8f51d4b3",
   "metadata": {},
   "outputs": [
    {
     "data": {
      "text/plain": [
       "480"
      ]
     },
     "execution_count": 27,
     "metadata": {},
     "output_type": "execute_result"
    }
   ],
   "source": [
    "len(conj1)"
   ]
  },
  {
   "cell_type": "code",
   "execution_count": 28,
   "id": "4433c9d3",
   "metadata": {},
   "outputs": [
    {
     "name": "stdout",
     "output_type": "stream",
     "text": [
      "124\n"
     ]
    }
   ],
   "source": [
    "for perm in non_fixed_lines_perm:\n",
    "    if len(Gr.conjugacy_class(perm)) != 480:\n",
    "        print(non_fixed_lines_perm.index(perm))\n",
    "        break"
   ]
  },
  {
   "cell_type": "code",
   "execution_count": 29,
   "id": "0108c71a",
   "metadata": {},
   "outputs": [],
   "source": [
    "conj2 = Gr.conjugacy_class(non_fixed_lines_perm[124])"
   ]
  },
  {
   "cell_type": "code",
   "execution_count": 30,
   "id": "7180d3e6",
   "metadata": {},
   "outputs": [
    {
     "data": {
      "text/plain": [
       "80"
      ]
     },
     "execution_count": 30,
     "metadata": {},
     "output_type": "execute_result"
    }
   ],
   "source": [
    "len(conj2)"
   ]
  },
  {
   "cell_type": "code",
   "execution_count": 31,
   "id": "78603796",
   "metadata": {},
   "outputs": [],
   "source": [
    "#%time conj1.list()"
   ]
  },
  {
   "cell_type": "code",
   "execution_count": null,
   "id": "289ef0d2",
   "metadata": {},
   "outputs": [],
   "source": []
  },
  {
   "cell_type": "code",
   "execution_count": null,
   "id": "b092279f",
   "metadata": {},
   "outputs": [],
   "source": [
    "#E1, E2, E3, G3, G4, G5, G6, F13, F14, F15, F16, F23, F24, F25, F26, F34, F35, F36"
   ]
  },
  {
   "cell_type": "code",
   "execution_count": null,
   "id": "dec6e281",
   "metadata": {},
   "outputs": [],
   "source": []
  },
  {
   "cell_type": "code",
   "execution_count": 64,
   "id": "8df67130",
   "metadata": {},
   "outputs": [],
   "source": [
    "labels_order3_9cycles_conj1 = [from_perm_to_labels(perm) for perm in conj1.list()]"
   ]
  },
  {
   "cell_type": "code",
   "execution_count": 65,
   "id": "b59f815c",
   "metadata": {},
   "outputs": [],
   "source": [
    "labels_order3_9cycles_conj2 = [from_perm_to_labels(perm) for perm in conj2.list()]"
   ]
  },
  {
   "cell_type": "code",
   "execution_count": 100,
   "id": "5dcfc2d1",
   "metadata": {},
   "outputs": [
    {
     "name": "stdout",
     "output_type": "stream",
     "text": [
      "['E4', 'E1', 'E6', 'E2', 'E3', 'E5', 'G4', 'G1', 'G6', 'G2', 'G3', 'G5', 'F14', 'F46', 'F24', 'F34', 'F45', 'F16', 'F12', 'F13', 'F15', 'F26', 'F36', 'F56', 'F23', 'F25', 'F35']\n"
     ]
    }
   ],
   "source": [
    "print(labels_order3_9cycles_conj1[0])"
   ]
  },
  {
   "cell_type": "code",
   "execution_count": 188,
   "id": "c2c5a77a",
   "metadata": {},
   "outputs": [],
   "source": [
    "load('Imports/Cubic.sage')"
   ]
  },
  {
   "cell_type": "code",
   "execution_count": 36,
   "id": "0cb59621",
   "metadata": {},
   "outputs": [],
   "source": [
    "L_set_base = ['E1', 'G4', 'E2', 'G3', 'E3', 'E5']"
   ]
  },
  {
   "cell_type": "code",
   "execution_count": 106,
   "id": "4d6ae7c9",
   "metadata": {},
   "outputs": [],
   "source": [
    "index = 125"
   ]
  },
  {
   "cell_type": "code",
   "execution_count": 120,
   "id": "978f3e20",
   "metadata": {},
   "outputs": [
    {
     "data": {
      "text/plain": [
       "['E4', 'G2', 'E1', 'G6', 'E6', 'E3']"
      ]
     },
     "execution_count": 120,
     "metadata": {},
     "output_type": "execute_result"
    }
   ],
   "source": [
    "L_set_permuted = [[labels_order3_9cycles_conj1[j][keys.index(label)] for label in L_set_base] for j in range(len(labels_order3_9cycles_conj1))]\n",
    "L_set_permuted = [L_set for L_set in L_set_permuted if L_set[-1] in ['E1', 'G4', 'E2', 'G3', 'E3']][0]\n",
    "L_set_permuted"
   ]
  },
  {
   "cell_type": "code",
   "execution_count": 1,
   "id": "fce3bff8",
   "metadata": {},
   "outputs": [],
   "source": [
    "P.<x,y,z,t,b,c,d,e,f,l,m> = PolynomialRing(QQ)"
   ]
  },
  {
   "cell_type": "code",
   "execution_count": 2,
   "id": "146f48bf",
   "metadata": {},
   "outputs": [],
   "source": [
    "cubic_new = e*f*(2*x^2*y-2*x*y^2+x*z^2-x*z*t-y*t^2+y*z*t)+b*c*(x-t)*(x*z+y*t)+c*c*(z+t)*(y*t-x*z)+d*c*(y-z)*(x*z+y*t)+(e+f)*c*(x-y)*(y*t-x*z)"
   ]
  },
  {
   "cell_type": "code",
   "execution_count": 3,
   "id": "9153b166",
   "metadata": {},
   "outputs": [],
   "source": [
    "sing_cubics = (-1) * (-c + f) * (-c + e) * c * (c + f) * (c + e) * (-e + f)^2 * (-c*d + c*f + e*f) * (-c*d + c*e + e*f) * (-c^2 - c*d + e*f) * (b*c - c*f + e*f) * (b*c - c*e + e*f) * (b*c - c*d + 2*e*f) * (b*c - c^2 + e*f) * (b*c^2 + c^2*d + b*c*f - 2*c^2*f - c*d*f + 2*e*f^2) * (b*c^2 + c^2*d + b*c*e - 2*c^2*e - c*d*e + 2*e^2*f) * (-b*c^3 - 2*b*c^2*d + c^3*d + b*c^2*e + c^2*d*e + b*c^2*f + c^2*d*f + 3*b*c*e*f - 4*c^2*e*f - 3*c*d*e*f + 4*e^2*f^2)"
   ]
  },
  {
   "cell_type": "code",
   "execution_count": 6,
   "id": "d6998c0f",
   "metadata": {},
   "outputs": [],
   "source": [
    "line = Line([y, z])"
   ]
  },
  {
   "cell_type": "code",
   "execution_count": null,
   "id": "878bafbd",
   "metadata": {},
   "outputs": [],
   "source": [
    "general_cubic = Cubic(cubic_new, line, sing_cubics)"
   ]
  },
  {
   "cell_type": "code",
   "execution_count": 38,
   "id": "89637780",
   "metadata": {},
   "outputs": [],
   "source": [
    "base_five_points = get_five_points_in_general_position(general_cubic.get_L_set_in_plucker(L_set_base[0:5]))"
   ]
  },
  {
   "cell_type": "code",
   "execution_count": 121,
   "id": "eac93d08",
   "metadata": {},
   "outputs": [],
   "source": [
    "mat = find_projectivity(base_five_points, general_cubic.get_L_set_in_plucker(L_set_permuted[0:5]))"
   ]
  },
  {
   "cell_type": "code",
   "execution_count": 123,
   "id": "75e1c1ce",
   "metadata": {},
   "outputs": [],
   "source": [
    "cl = general_cubic.cl_lines"
   ]
  },
  {
   "cell_type": "code",
   "execution_count": 49,
   "id": "03b309ab",
   "metadata": {},
   "outputs": [
    {
     "data": {
      "text/plain": [
       "True"
      ]
     },
     "execution_count": 49,
     "metadata": {},
     "output_type": "execute_result"
    }
   ],
   "source": [
    "cl['E1'] == cl['F12'].apply_proj(mat)"
   ]
  },
  {
   "cell_type": "code",
   "execution_count": 50,
   "id": "f7292066",
   "metadata": {},
   "outputs": [
    {
     "data": {
      "text/plain": [
       "True"
      ]
     },
     "execution_count": 50,
     "metadata": {},
     "output_type": "execute_result"
    }
   ],
   "source": [
    "cl['G4'] == cl['E2'].apply_proj(mat)"
   ]
  },
  {
   "cell_type": "code",
   "execution_count": 51,
   "id": "5ea0f610",
   "metadata": {},
   "outputs": [
    {
     "data": {
      "text/plain": [
       "True"
      ]
     },
     "execution_count": 51,
     "metadata": {},
     "output_type": "execute_result"
    }
   ],
   "source": [
    "cl['E2'] == cl['F24'].apply_proj(mat)"
   ]
  },
  {
   "cell_type": "code",
   "execution_count": 52,
   "id": "1da3a230",
   "metadata": {},
   "outputs": [
    {
     "data": {
      "text/plain": [
       "True"
      ]
     },
     "execution_count": 52,
     "metadata": {},
     "output_type": "execute_result"
    }
   ],
   "source": [
    "cl['G3'] == cl['F36'].apply_proj(mat)"
   ]
  },
  {
   "cell_type": "code",
   "execution_count": 53,
   "id": "9c6b9c59",
   "metadata": {},
   "outputs": [
    {
     "data": {
      "text/plain": [
       "True"
      ]
     },
     "execution_count": 53,
     "metadata": {},
     "output_type": "execute_result"
    }
   ],
   "source": [
    "cl['E3'] == cl['G5'].apply_proj(mat)"
   ]
  },
  {
   "cell_type": "code",
   "execution_count": 87,
   "id": "8a581a97",
   "metadata": {},
   "outputs": [
    {
     "data": {
      "text/plain": [
       "False"
      ]
     },
     "execution_count": 87,
     "metadata": {},
     "output_type": "execute_result"
    }
   ],
   "source": [
    "cl['E5'] == cl['F34'].apply_proj(mat)"
   ]
  },
  {
   "cell_type": "code",
   "execution_count": 124,
   "id": "3b3676e9",
   "metadata": {},
   "outputs": [],
   "source": [
    "conds1 = list(set(matrix([cl['E5'].plucker, cl['E3'].apply_proj(mat).plucker]).minors(2)))"
   ]
  },
  {
   "cell_type": "code",
   "execution_count": 94,
   "id": "f6c7c88b",
   "metadata": {},
   "outputs": [],
   "source": [
    "#conds2 = list(set(matrix([cl['F56'].plucker, cl['E4'].apply_proj(mat).plucker]).minors(2)))"
   ]
  },
  {
   "cell_type": "code",
   "execution_count": 95,
   "id": "b0a74dcd",
   "metadata": {},
   "outputs": [],
   "source": [
    "#conds3 = list(set(matrix([cl['F46'].plucker, cl['F36'].apply_proj(mat).plucker]).minors(2)))"
   ]
  },
  {
   "cell_type": "code",
   "execution_count": 96,
   "id": "d26c3376",
   "metadata": {},
   "outputs": [],
   "source": [
    "#conds4 = list(set(matrix([cl['E5'].plucker, cl['F46'].apply_proj(mat).plucker]).minors(2)))"
   ]
  },
  {
   "cell_type": "code",
   "execution_count": 139,
   "id": "bf58575f",
   "metadata": {},
   "outputs": [],
   "source": [
    "gb = P.ideal(conds1).groebner_basis()"
   ]
  },
  {
   "cell_type": "code",
   "execution_count": 140,
   "id": "b97aafd3",
   "metadata": {},
   "outputs": [],
   "source": [
    "gb_red = [poly//gcd(gb) for poly in gb]"
   ]
  },
  {
   "cell_type": "code",
   "execution_count": 156,
   "id": "4f9b83eb",
   "metadata": {},
   "outputs": [],
   "source": [
    "ide = P.ideal(gcd(gb))"
   ]
  },
  {
   "cell_type": "code",
   "execution_count": 158,
   "id": "32980020",
   "metadata": {},
   "outputs": [],
   "source": [
    "poly = gcd(gb)"
   ]
  },
  {
   "cell_type": "code",
   "execution_count": 173,
   "id": "7a2dca12",
   "metadata": {},
   "outputs": [],
   "source": [
    "coef1 = poly.coefficient(b)"
   ]
  },
  {
   "cell_type": "code",
   "execution_count": 174,
   "id": "4998f0a3",
   "metadata": {},
   "outputs": [],
   "source": [
    "coef2 = poly.subs({b:0})"
   ]
  },
  {
   "cell_type": "code",
   "execution_count": 181,
   "id": "1e9f4a1f",
   "metadata": {},
   "outputs": [],
   "source": [
    "new_eq = P((general_cubic.eqn*coef2).subs({b:coef1}))"
   ]
  },
  {
   "cell_type": "code",
   "execution_count": 185,
   "id": "63444c6c",
   "metadata": {},
   "outputs": [
    {
     "data": {
      "text/plain": [
       "-x^2*z*c^5 - x*y*t*c^5 + x*z*t*c^5 + y*t^2*c^5 - x^2*z*c^4*d - x*y*t*c^4*d + x*z*t*c^4*d + y*t^2*c^4*d + x^2*z*c^4*e + x*y*t*c^4*e - x*z*t*c^4*e - y*t^2*c^4*e + x^2*z*c^3*d*f + x*y*t*c^3*d*f - x*z*t*c^3*d*f - y*t^2*c^3*d*f + 2*x^2*z*c^3*e*f + 2*x*y*t*c^3*e*f - 2*x*z*t*c^3*e*f - 2*y*t^2*c^3*e*f - x^2*z*c^3*f^2 - x*y*t*c^3*f^2 + x*z*t*c^3*f^2 + y*t^2*c^3*f^2 - x^2*z*c^2*e*f^2 - x*y*t*c^2*e*f^2 + x*z*t*c^2*e*f^2 + y*t^2*c^2*e*f^2 + x*z^2*c^2 + x*z*t*c^2 - y*z*t*c^2 - y*t^2*c^2 - x*y*z*c*d + x*z^2*c*d - y^2*t*c*d + y*z*t*c*d + x^2*z*c*e - x*y*z*c*e - x*y*t*c*e + y^2*t*c*e + x^2*z*c*f - x*y*z*c*f - x*y*t*c*f + y^2*t*c*f - 2*x^2*y*e*f + 2*x*y^2*e*f - x*z^2*e*f + x*z*t*e*f - y*z*t*e*f + y*t^2*e*f"
      ]
     },
     "execution_count": 185,
     "metadata": {},
     "output_type": "execute_result"
    }
   ],
   "source": [
    "new_eq.factor()[-1][0]"
   ]
  },
  {
   "cell_type": "code",
   "execution_count": 190,
   "id": "4631eaa1",
   "metadata": {},
   "outputs": [
    {
     "name": "stdout",
     "output_type": "stream",
     "text": [
      "0\n",
      "1\n",
      "2\n",
      "3\n",
      "4\n",
      "5\n",
      "6\n",
      "7\n",
      "8\n",
      "9\n",
      "10\n",
      "11\n",
      "12\n",
      "13\n",
      "14\n",
      "15\n",
      "16\n",
      "17\n",
      "18\n",
      "19\n",
      "20\n",
      "21\n",
      "22\n",
      "23\n",
      "24\n",
      "25\n",
      "26\n",
      "27\n",
      "28\n",
      "29\n",
      "30\n",
      "31\n",
      "32\n",
      "33\n",
      "34\n",
      "35\n",
      "36\n",
      "37\n",
      "38\n",
      "39\n",
      "40\n",
      "41\n",
      "42\n",
      "43\n",
      "44\n"
     ]
    }
   ],
   "source": [
    "nc = Cubic(new_eq.factor()[-1][0], line, sing_cubics)"
   ]
  },
  {
   "cell_type": "code",
   "execution_count": 192,
   "id": "5225a62a",
   "metadata": {},
   "outputs": [
    {
     "data": {
      "text/plain": [
       "[]"
      ]
     },
     "execution_count": 192,
     "metadata": {},
     "output_type": "execute_result"
    }
   ],
   "source": [
    "nc.eckardt_points"
   ]
  },
  {
   "cell_type": "code",
   "execution_count": 155,
   "id": "4942743a",
   "metadata": {},
   "outputs": [
    {
     "data": {
      "text/plain": [
       "[Ideal (c - f, b + e - f) of Multivariate Polynomial Ring in x, y, z, t, b, c, d, e, f, l, m over Rational Field,\n",
       " Ideal (c - e, b - e + f) of Multivariate Polynomial Ring in x, y, z, t, b, c, d, e, f, l, m over Rational Field,\n",
       " Ideal (b + d - 2*f, c*d - c*f - e*f) of Multivariate Polynomial Ring in x, y, z, t, b, c, d, e, f, l, m over Rational Field,\n",
       " Ideal (b + d - 2*e, c*d - c*e - e*f) of Multivariate Polynomial Ring in x, y, z, t, b, c, d, e, f, l, m over Rational Field,\n",
       " Ideal (d + e - f, c + f) of Multivariate Polynomial Ring in x, y, z, t, b, c, d, e, f, l, m over Rational Field]"
      ]
     },
     "execution_count": 155,
     "metadata": {},
     "output_type": "execute_result"
    }
   ],
   "source": [
    "ide.saturation(P.ideal([e*f]))[0].radical().primary_decomposition()"
   ]
  },
  {
   "cell_type": "code",
   "execution_count": 137,
   "id": "5e5d015a",
   "metadata": {},
   "outputs": [
    {
     "data": {
      "text/plain": [
       "(-1) * (-c + f) * (-c + e) * c * (c + f) * (c + e) * (-e + f)^2 * (-c*d + c*f + e*f) * (-c*d + c*e + e*f) * (-c^2 - c*d + e*f) * (b*c - c*f + e*f) * (b*c - c*e + e*f) * (b*c - c*d + 2*e*f) * (b*c - c^2 + e*f) * (b*c^2 + c^2*d + b*c*f - 2*c^2*f - c*d*f + 2*e*f^2) * (b*c^2 + c^2*d + b*c*e - 2*c^2*e - c*d*e + 2*e^2*f) * (-b*c^3 - 2*b*c^2*d + c^3*d + b*c^2*e + c^2*d*e + b*c^2*f + c^2*d*f + 3*b*c*e*f - 4*c^2*e*f - 3*c*d*e*f + 4*e^2*f^2)"
      ]
     },
     "execution_count": 137,
     "metadata": {},
     "output_type": "execute_result"
    }
   ],
   "source": [
    "general_cubic.sing_locus"
   ]
  },
  {
   "cell_type": "code",
   "execution_count": 62,
   "id": "ee52c3d0",
   "metadata": {},
   "outputs": [],
   "source": [
    "vrs = P.gens()[0:4]\n",
    "mon = (sum(vrs) ^ 3).monomials()\n",
    "change_coord = vector(vrs) * mat\n",
    "sost = {vrs[j]: change_coord[j] for j in range(4)}\n",
    "new_cubic = general_cubic.eqn.subs(sost)"
   ]
  },
  {
   "cell_type": "code",
   "execution_count": 39,
   "id": "96e53dd1",
   "metadata": {},
   "outputs": [],
   "source": [
    "coeffs = list(set(matrix([[general_cubic.eqn.coefficient(mn) for mn in mon], [new_cubic.coefficient(mn) for mn in mon]]).minors(2)))"
   ]
  },
  {
   "cell_type": "code",
   "execution_count": 42,
   "id": "8671b3ef",
   "metadata": {},
   "outputs": [
    {
     "name": "stdout",
     "output_type": "stream",
     "text": [
      "-8*b^8*c^23*d^5*e + 8*b^7*c^24*d^5*e + 8*b^6*c^25*d^5*e - 8*b^5*c^26*d^5*e + 16*b^6*c^23*d^7*e - 16*b^5*c^24*d^7*e - 16*b^4*c^25*d^7*e + 16*b^3*c^26*d^7*e - 8*b^4*c^23*d^9*e + 8*b^3*c^24*d^9*e + 8*b^2*c^25*d^9*e - 8*b*c^26*d^9*e + 4*b^9*c^22*d^4*e^2 + 8*b^8*c^23*d^4*e^2 - 16*b^7*c^24*d^4*e^2 - 8*b^6*c^25*d^4*e^2 + 12*b^5*c^26*d^4*e^2 - 4*b^9*c^21*d^5*e^2 + 4*b^8*c^22*d^5*e^2 + 52*b^7*c^23*d^5*e^2 - 60*b^6*c^24*d^5*e^2 - 32*b^5*c^25*d^5*e^2 + 40*b^4*c^26*d^5*e^2 - 8*b^8*c^21*d^6*e^2 + 60*b^7*c^22*d^6*e^2 - 140*b^6*c^23*d^6*e^2 + 76*b^5*c^24*d^6*e^2 + 68*b^4*c^25*d^6*e^2 - 56*b^3*c^26*d^6*e^2 + 16*b^7*c^21*d^7*e^2 - 72*b^6*c^22*d^7*e^2 + 8*b^5*c^23*d^7*e^2 + 88*b^4*c^24*d^7*e^2 + 8*b^3*c^25*d^7*e^2 - 48*b^2*c^26*d^7*e^2 + 8*b^6*c^21*d^8*e^2 - 68*b^5*c^22*d^8*e^2 + 144*b^4*c^23*d^8*e^2 - 72*b^3*c^24*d^8*e^2 - 56*b^2*c^25*d^8*e^2 + 44*b*c^26*d^8*e^2 - 12*b^5*c^21*d^9*e^2 + 68*b^4*c^22*d^9*e^2 - 60*b^3*c^23*d^9*e^2 - 28*b^2*c^24*d^9*e^2 + 24*b*c^25*d^9*e^2 + 8*c^26*d^9*e^2 + 4*b^3*c^22*d^10*e^2 - 12*b^2*c^23*d^10*e^2 + 12*b*c^24*d^10*e^2 - 4*c^25*d^10*e^2 - 8*b^9*c^22*d^3*e^3 + 8*b^8*c^23*d^3*e^3 + 8*b^7*c^24*d^3*e^3 - 8*b^6*c^25*d^3*e^3 + 8*b^9*c^21*d^4*e^3 - 28*b^8*c^22*d^4*e^3 - 60*b^7*c^23*d^4*e^3 + 108*b^6*c^24*d^4*e^3 + 36*b^5*c^25*d^4*e^3 - 64*b^4*c^26*d^4*e^3 + 32*b^8*c^21*d^5*e^3 - 132*b^7*c^22*d^5*e^3 + 92*b^6*c^23*d^5*e^3 + 68*b^5*c^24*d^5*e^3 - 44*b^4*c^25*d^5*e^3 - 16*b^3*c^26*d^5*e^3 + 24*b^8*c^20*d^6*e^3 - 96*b^7*c^21*d^6*e^3 + 40*b^6*c^22*d^6*e^3 + 360*b^5*c^23*d^6*e^3 - 400*b^4*c^24*d^6*e^3 - 104*b^3*c^25*d^6*e^3 + 176*b^2*c^26*d^6*e^3 - 8*b^7*c^20*d^7*e^3 - 112*b^6*c^21*d^7*e^3 + 608*b^5*c^22*d^7*e^3 - 720*b^4*c^23*d^7*e^3 + 56*b^3*c^24*d^7*e^3 + 224*b^2*c^25*d^7*e^3 - 48*b*c^26*d^7*e^3 - 56*b^6*c^20*d^8*e^3 + 328*b^5*c^21*d^8*e^3 - 572*b^4*c^22*d^8*e^3 + 196*b^3*c^23*d^8*e^3 + 244*b^2*c^24*d^8*e^3 - 92*b*c^25*d^8*e^3 - 48*c^26*d^8*e^3 + 40*b^5*c^20*d^9*e^3 - 144*b^4*c^21*d^9*e^3 + 44*b^3*c^22*d^9*e^3 + 172*b^2*c^23*d^9*e^3 - 100*b*c^24*d^9*e^3 - 12*c^25*d^9*e^3 - 16*b^3*c^21*d^10*e^3 + 48*b^2*c^22*d^10*e^3 - 48*b*c^23*d^10*e^3 + 16*c^24*d^10*e^3 + 4*b^9*c^22*d^2*e^4 - 8*b^8*c^23*d^2*e^4 + 8*b^6*c^25*d^2*e^4 - 4*b^5*c^26*d^2*e^4 - 4*b^9*c^21*d^3*e^4 + 44*b^8*c^22*d^3*e^4 - 36*b^7*c^23*d^3*e^4 - 36*b^6*c^24*d^3*e^4 + 24*b^5*c^25*d^3*e^4 + 8*b^4*c^26*d^3*e^4 - 8*b^9*c^20*d^4*e^4 + 52*b^7*c^22*d^4*e^4 + 124*b^6*c^23*d^4*e^4 - 244*b^5*c^24*d^4*e^4 - 44*b^4*c^25*d^4*e^4 + 120*b^3*c^26*d^4*e^4 + 8*b^9*c^19*d^5*e^4 - 56*b^8*c^20*d^5*e^4 + 64*b^7*c^21*d^5*e^4 + 272*b^6*c^22*d^5*e^4 - 616*b^5*c^23*d^5*e^4 + 248*b^4*c^24*d^5*e^4 + 224*b^3*c^25*d^5*e^4 - 144*b^2*c^26*d^5*e^4 - 8*b^8*c^19*d^6*e^4 - 72*b^7*c^20*d^6*e^4 + 584*b^6*c^21*d^6*e^4 - 1308*b^5*c^22*d^6*e^4 + 704*b^4*c^23*d^6*e^4 + 504*b^3*c^24*d^6*e^4 - 320*b^2*c^25*d^6*e^4 - 84*b*c^26*d^6*e^4 - 56*b^7*c^19*d^7*e^4 + 496*b^6*c^20*d^7*e^4 - 1332*b^5*c^21*d^7*e^4 + 1052*b^4*c^22*d^7*e^4 + 372*b^3*c^23*d^7*e^4 - 612*b^2*c^24*d^7*e^4 - 24*b*c^25*d^7*e^4 + 104*c^26*d^7*e^4 + 104*b^6*c^19*d^8*e^4 - 488*b^5*c^20*d^8*e^4 + 608*b^4*c^21*d^8*e^4 + 252*b^3*c^22*d^8*e^4 - 764*b^2*c^23*d^8*e^4 + 156*b*c^24*d^8*e^4 + 132*c^25*d^8*e^4 - 48*b^5*c^19*d^9*e^4 + 104*b^4*c^20*d^9*e^4 + 152*b^3*c^21*d^9*e^4 - 440*b^2*c^22*d^9*e^4 + 248*b*c^23*d^9*e^4 - 16*c^24*d^9*e^4 + 24*b^3*c^20*d^10*e^4 - 72*b^2*c^21*d^10*e^4 + 72*b*c^22*d^10*e^4 - 24*c^23*d^10*e^4 - 20*b^8*c^22*d^2*e^5 + 44*b^7*c^23*d^2*e^5 - 12*b^6*c^24*d^2*e^5 - 28*b^5*c^25*d^2*e^5 + 16*b^4*c^26*d^2*e^5 + 16*b^9*c^20*d^3*e^5 - 64*b^8*c^21*d^3*e^5 + 52*b^7*c^22*d^3*e^5 - 44*b^6*c^23*d^3*e^5 + 60*b^5*c^24*d^3*e^5 + 28*b^4*c^25*d^3*e^5 - 48*b^3*c^26*d^3*e^5 - 16*b^9*c^19*d^4*e^5 + 56*b^8*c^20*d^4*e^5 + 8*b^7*c^21*d^4*e^5 - 240*b^6*c^22*d^4*e^5 + 80*b^5*c^23*d^4*e^5 + 296*b^4*c^24*d^4*e^5 - 136*b^3*c^25*d^4*e^5 - 48*b^2*c^26*d^4*e^5 + 8*b^8*c^19*d^5*e^5 + 112*b^7*c^20*d^5*e^5 - 512*b^6*c^21*d^5*e^5 + 488*b^5*c^22*d^5*e^5 + 432*b^4*c^23*d^5*e^5 - 712*b^3*c^24*d^5*e^5 + 8*b^2*c^25*d^5*e^5 + 176*b*c^26*d^5*e^5 - 24*b^8*c^18*d^6*e^5 + 240*b^7*c^19*d^6*e^5 - 864*b^6*c^20*d^6*e^5 + 1120*b^5*c^21*d^6*e^5 + 292*b^4*c^22*d^6*e^5 - 1316*b^3*c^23*d^6*e^5 + 228*b^2*c^24*d^6*e^5 + 420*b*c^25*d^6*e^5 - 96*c^26*d^6*e^5 + 72*b^7*c^18*d^7*e^5 - 480*b^6*c^19*d^7*e^5 + 944*b^5*c^20*d^7*e^5 - 64*b^4*c^21*d^7*e^5 - 1460*b^3*c^22*d^7*e^5 + 1012*b^2*c^23*d^7*e^5 + 268*b*c^24*d^7*e^5 - 292*c^25*d^7*e^5 - 72*b^6*c^18*d^8*e^5 + 272*b^5*c^19*d^8*e^5 - 72*b^4*c^20*d^8*e^5 - 888*b^3*c^21*d^8*e^5 + 1136*b^2*c^22*d^8*e^5 - 248*b*c^23*d^8*e^5 - 128*c^24*d^8*e^5 + 24*b^5*c^18*d^9*e^5 - 8*b^4*c^19*d^9*e^5 - 240*b^3*c^20*d^9*e^5 + 448*b^2*c^21*d^9*e^5 - 264*b*c^22*d^9*e^5 + 40*c^23*d^9*e^5 - 16*b^3*c^19*d^10*e^5 + 48*b^2*c^20*d^10*e^5 - 48*b*c^21*d^10*e^5 + 16*c^22*d^10*e^5 - 8*b^9*c^20*d^2*e^6 + 40*b^8*c^21*d^2*e^6 - 32*b^7*c^22*d^2*e^6 - 48*b^6*c^23*d^2*e^6 + 56*b^5*c^24*d^2*e^6 + 8*b^4*c^25*d^2*e^6 - 16*b^3*c^26*d^2*e^6 + 8*b^9*c^19*d^3*e^6 - 40*b^8*c^20*d^3*e^6 + 96*b^7*c^21*d^3*e^6 - 136*b^6*c^22*d^3*e^6 + 208*b^5*c^23*d^3*e^6 - 176*b^4*c^24*d^3*e^6 - 24*b^3*c^25*d^3*e^6 + 64*b^2*c^26*d^3*e^6 + 4*b^9*c^18*d^4*e^6 - 24*b^8*c^19*d^4*e^6 + 120*b^7*c^20*d^4*e^6 - 440*b^6*c^21*d^4*e^6 + 900*b^5*c^22*d^4*e^6 - 744*b^4*c^23*d^4*e^6 - 16*b^3*c^24*d^4*e^6 + 280*b^2*c^25*d^4*e^6 - 80*b*c^26*d^4*e^6 - 4*b^9*c^17*d^5*e^6 + 52*b^8*c^18*d^5*e^6 - 220*b^7*c^19*d^5*e^6 + 164*b^6*c^20*d^5*e^6 + 792*b^5*c^21*d^5*e^6 - 1736*b^4*c^22*d^5*e^6 + 800*b^3*c^23*d^5*e^6 + 640*b^2*c^24*d^5*e^6 - 520*b*c^25*d^5*e^6 + 32*c^26*d^5*e^6 + 16*b^8*c^17*d^6*e^6 - 180*b^7*c^18*d^6*e^6 + 532*b^6*c^19*d^6*e^6 - 204*b^5*c^20*d^6*e^6 - 1300*b^4*c^21*d^6*e^6 + 1592*b^3*c^22*d^6*e^6 + 96*b^2*c^23*d^6*e^6 - 808*b*c^24*d^6*e^6 + 256*c^25*d^6*e^6 - 24*b^7*c^17*d^7*e^6 + 184*b^6*c^18*d^7*e^6 - 272*b^5*c^19*d^7*e^6 - 464*b^4*c^20*d^7*e^6 + 1368*b^3*c^21*d^7*e^6 - 728*b^2*c^22*d^7*e^6 - 368*b*c^23*d^7*e^6 + 304*c^24*d^7*e^6 + 16*b^6*c^17*d^8*e^6 - 52*b^5*c^18*d^8*e^6 - 112*b^4*c^19*d^8*e^6 + 592*b^3*c^20*d^8*e^6 - 664*b^2*c^21*d^8*e^6 + 164*b*c^22*d^8*e^6 + 56*c^23*d^8*e^6 - 4*b^5*c^17*d^9*e^6 - 12*b^4*c^18*d^9*e^6 + 100*b^3*c^19*d^9*e^6 - 172*b^2*c^20*d^9*e^6 + 112*b*c^21*d^9*e^6 - 24*c^22*d^9*e^6 + 4*b^3*c^18*d^10*e^6 - 12*b^2*c^19*d^10*e^6 + 12*b*c^20*d^10*e^6 - 4*c^21*d^10*e^6 + 16*b^8*c^20*d^2*e^7 - 88*b^7*c^21*d^2*e^7 + 136*b^6*c^22*d^2*e^7 - 40*b^5*c^23*d^2*e^7 - 56*b^4*c^24*d^2*e^7 + 32*b^3*c^25*d^2*e^7 - 8*b^9*c^18*d^3*e^7 + 56*b^8*c^19*d^3*e^7 - 248*b^7*c^20*d^3*e^7 + 592*b^6*c^21*d^3*e^7 - 664*b^5*c^22*d^3*e^7 + 168*b^4*c^23*d^3*e^7 + 248*b^3*c^24*d^3*e^7 - 144*b^2*c^25*d^3*e^7 + 8*b^9*c^17*d^4*e^7 - 28*b^8*c^18*d^4*e^7 - 76*b^7*c^19*d^4*e^7 + 596*b^6*c^20*d^4*e^7 - 1212*b^5*c^21*d^4*e^7 + 848*b^4*c^22*d^4*e^7 + 240*b^3*c^23*d^4*e^7 - 568*b^2*c^24*d^4*e^7 + 192*b*c^25*d^4*e^7 - 32*b^8*c^17*d^5*e^7 + 140*b^7*c^18*d^5*e^7 - 36*b^6*c^19*d^5*e^7 - 644*b^5*c^20*d^5*e^7 + 1012*b^4*c^21*d^5*e^7 - 976*b^2*c^23*d^5*e^7 + 616*b*c^24*d^5*e^7 - 80*c^25*d^5*e^7 + 48*b^7*c^17*d^6*e^7 - 168*b^6*c^18*d^6*e^7 + 24*b^5*c^19*d^6*e^7 + 480*b^4*c^20*d^6*e^7 - 320*b^3*c^21*d^6*e^7 - 584*b^2*c^22*d^6*e^7 + 760*b*c^23*d^6*e^7 - 240*c^24*d^6*e^7 - 32*b^6*c^17*d^7*e^7 + 64*b^5*c^18*d^7*e^7 + 96*b^4*c^19*d^7*e^7 - 280*b^3*c^20*d^7*e^7 + 24*b^2*c^21*d^7*e^7 + 280*b*c^22*d^7*e^7 - 152*c^23*d^7*e^7 + 8*b^5*c^17*d^8*e^7 + 4*b^4*c^18*d^8*e^7 - 76*b^3*c^19*d^8*e^7 + 92*b^2*c^20*d^8*e^7 - 12*b*c^21*d^8*e^7 - 16*c^22*d^8*e^7 - 4*b^3*c^18*d^9*e^7 + 12*b^2*c^19*d^9*e^7 - 12*b*c^20*d^9*e^7 + 4*c^21*d^9*e^7 + 4*b^9*c^18*d^2*e^8 - 32*b^8*c^19*d^2*e^8 + 96*b^7*c^20*d^2*e^8 - 120*b^6*c^21*d^2*e^8 + 44*b^5*c^22*d^2*e^8 + 24*b^4*c^23*d^2*e^8 - 16*b^3*c^24*d^2*e^8 - 4*b^9*c^17*d^3*e^8 - 4*b^8*c^18*d^3*e^8 + 132*b^7*c^19*d^3*e^8 - 372*b^6*c^20*d^3*e^8 + 344*b^5*c^21*d^3*e^8 + 40*b^4*c^22*d^3*e^8 - 232*b^3*c^23*d^3*e^8 + 96*b^2*c^24*d^3*e^8 + 16*b^8*c^17*d^4*e^8 - 28*b^7*c^18*d^4*e^8 - 124*b^6*c^19*d^4*e^8 + 324*b^5*c^20*d^4*e^8 - 44*b^4*c^21*d^4*e^8 - 488*b^3*c^22*d^4*e^8 + 488*b^2*c^23*d^4*e^8 - 144*b*c^24*d^4*e^8 - 24*b^7*c^17*d^5*e^8 + 72*b^6*c^18*d^5*e^8 - 80*b^5*c^19*d^5*e^8 + 200*b^4*c^20*d^5*e^8 - 576*b^3*c^21*d^5*e^8 + 720*b^2*c^22*d^5*e^8 - 376*b*c^23*d^5*e^8 + 64*c^24*d^5*e^8 + 16*b^6*c^17*d^6*e^8 - 68*b^5*c^18*d^6*e^8 + 176*b^4*c^19*d^6*e^8 - 376*b^3*c^20*d^6*e^8 + 512*b^2*c^21*d^6*e^8 - 356*b*c^22*d^6*e^8 + 96*c^23*d^6*e^8 - 4*b^5*c^17*d^7*e^8 + 28*b^4*c^18*d^7*e^8 - 84*b^3*c^19*d^7*e^8 + 140*b^2*c^20*d^7*e^8 - 120*b*c^21*d^7*e^8 + 40*c^22*d^7*e^8 - 4*b^3*c^18*d^8*e^8 + 12*b^2*c^19*d^8*e^8 - 12*b*c^20*d^8*e^8 + 4*c^21*d^8*e^8 + 4*b^8*c^18*d^2*e^9 - 20*b^7*c^19*d^2*e^9 + 36*b^6*c^20*d^2*e^9 - 28*b^5*c^21*d^2*e^9 + 8*b^4*c^22*d^2*e^9 - 4*b^7*c^18*d^3*e^9 + 4*b^6*c^19*d^3*e^9 + 28*b^5*c^20*d^3*e^9 - 68*b^4*c^21*d^3*e^9 + 56*b^3*c^22*d^3*e^9 - 16*b^2*c^23*d^3*e^9 - 16*b^6*c^18*d^4*e^9 + 104*b^5*c^19*d^4*e^9 - 248*b^4*c^20*d^4*e^9 + 280*b^3*c^21*d^4*e^9 - 152*b^2*c^22*d^4*e^9 + 32*b*c^23*d^4*e^9 + 32*b^5*c^18*d^5*e^9 - 152*b^4*c^19*d^5*e^9 + 280*b^3*c^20*d^5*e^9 - 248*b^2*c^21*d^5*e^9 + 104*b*c^22*d^5*e^9 - 16*c^23*d^5*e^9 - 20*b^4*c^18*d^6*e^9 + 76*b^3*c^19*d^6*e^9 - 108*b^2*c^20*d^6*e^9 + 68*b*c^21*d^6*e^9 - 16*c^22*d^6*e^9 + 4*b^3*c^18*d^7*e^9 - 12*b^2*c^19*d^7*e^9 + 12*b*c^20*d^7*e^9 - 4*c^21*d^7*e^9 + 8*b^8*c^23*d^5*f - 8*b^7*c^24*d^5*f - 8*b^6*c^25*d^5*f + 8*b^5*c^26*d^5*f - 16*b^6*c^23*d^7*f + 16*b^5*c^24*d^7*f + 16*b^4*c^25*d^7*f - 16*b^3*c^26*d^7*f + 8*b^4*c^23*d^9*f - 8*b^3*c^24*d^9*f - 8*b^2*c^25*d^9*f + 8*b*c^26*d^9*f - 8*b^9*c^22*d^4*e*f + 24*b^8*c^23*d^4*e*f - 8*b^7*c^24*d^4*e*f - 24*b^6*c^25*d^4*e*f + 16*b^5*c^26*d^4*e*f + 8*b^9*c^21*d^5*e*f + 16*b^8*c^22*d^5*e*f - 88*b^7*c^23*d^5*e*f + 56*b^6*c^24*d^5*e*f + 48*b^5*c^25*d^5*e*f - 40*b^4*c^26*d^5*e*f + 16*b^8*c^21*d^6*e*f - 88*b^7*c^22*d^6*e*f + 136*b^6*c^23*d^6*e*f - 72*b^5*c^24*d^6*e*f + 8*b^4*c^25*d^6*e*f - 32*b^7*c^21*d^7*e*f + 64*b^6*c^22*d^7*e*f + 16*b^5*c^23*d^7*e*f - 48*b^4*c^24*d^7*e*f - 48*b^3*c^25*d^7*e*f + 48*b^2*c^26*d^7*e*f - 16*b^6*c^21*d^8*e*f + 104*b^5*c^22*d^8*e*f - 184*b^4*c^23*d^8*e*f + 104*b^3*c^24*d^8*e*f + 8*b^2*c^25*d^8*e*f - 16*b*c^26*d^8*e*f + 24*b^5*c^21*d^9*e*f - 80*b^4*c^22*d^9*e*f + 72*b^3*c^23*d^9*e*f - 8*b^2*c^24*d^9*e*f - 8*c^26*d^9*e*f - 8*b^3*c^22*d^10*e*f + 24*b^2*c^23*d^10*e*f - 24*b*c^24*d^10*e*f + 8*c^25*d^10*e*f + 8*b^9*c^22*d^3*e^2*f - 56*b^8*c^23*d^3*e^2*f + 40*b^7*c^24*d^3*e^2*f + 56*b^6*c^25*d^3*e^2*f - 48*b^5*c^26*d^3*e^2*f - 12*b^9*c^21*d^4*e^2*f + 40*b^8*c^22*d^4*e^2*f - 76*b^7*c^23*d^4*e^2*f + 12*b^6*c^24*d^4*e^2*f + 104*b^5*c^25*d^4*e^2*f - 68*b^4*c^26*d^4*e^2*f + 4*b^9*c^20*d^5*e^2*f - 36*b^8*c^21*d^5*e^2*f - 180*b^7*c^22*d^5*e^2*f + 436*b^6*c^23*d^5*e^2*f - 16*b^5*c^24*d^5*e^2*f - 432*b^4*c^25*d^5*e^2*f + 224*b^3*c^26*d^5*e^2*f - 40*b^8*c^20*d^6*e^2*f + 16*b^7*c^21*d^6*e^2*f + 312*b^6*c^22*d^6*e^2*f - 480*b^5*c^23*d^6*e^2*f + 136*b^4*c^24*d^6*e^2*f + 80*b^3*c^25*d^6*e^2*f - 24*b^2*c^26*d^6*e^2*f + 296*b^6*c^21*d^7*e^2*f - 608*b^5*c^22*d^7*e^2*f + 448*b^4*c^23*d^7*e^2*f - 304*b^3*c^24*d^7*e^2*f + 280*b^2*c^25*d^7*e^2*f - 112*b*c^26*d^7*e^2*f + 104*b^6*c^20*d^8*e^2*f - 412*b^5*c^21*d^8*e^2*f + 552*b^4*c^22*d^8*e^2*f - 284*b^3*c^23*d^8*e^2*f + 68*b^2*c^24*d^8*e^2*f - 56*b*c^25*d^8*e^2*f + 28*c^26*d^8*e^2*f - 68*b^5*c^20*d^9*e^2*f + 124*b^4*c^21*d^9*e^2*f - 52*b^3*c^22*d^9*e^2*f - 60*b^2*c^23*d^9*e^2*f + 88*b*c^24*d^9*e^2*f - 32*c^25*d^9*e^2*f + 24*b^3*c^21*d^10*e^2*f - 72*b^2*c^22*d^10*e^2*f + 72*b*c^23*d^10*e^2*f - 24*c^24*d^10*e^2*f + 8*b^9*c^22*d^2*e^3*f + 8*b^8*c^23*d^2*e^3*f - 24*b^7*c^24*d^2*e^3*f - 8*b^6*c^25*d^2*e^3*f + 16*b^5*c^26*d^2*e^3*f - 16*b^9*c^21*d^3*e^3*f - 40*b^8*c^22*d^3*e^3*f + 312*b^7*c^23*d^3*e^3*f - 216*b^6*c^24*d^3*e^3*f - 264*b^5*c^25*d^3*e^3*f + 224*b^4*c^26*d^3*e^3*f + 28*b^9*c^20*d^4*e^3*f - 60*b^8*c^21*d^4*e^3*f + 392*b^7*c^22*d^4*e^3*f - 512*b^6*c^23*d^4*e^3*f - 132*b^5*c^24*d^4*e^3*f + 428*b^4*c^25*d^4*e^3*f - 144*b^3*c^26*d^4*e^3*f - 16*b^9*c^19*d^5*e^3*f + 12*b^8*c^20*d^5*e^3*f + 124*b^7*c^21*d^5*e^3*f + 432*b^6*c^22*d^5*e^3*f - 1116*b^5*c^23*d^5*e^3*f + 204*b^4*c^24*d^5*e^3*f + 792*b^3*c^25*d^5*e^3*f - 432*b^2*c^26*d^5*e^3*f - 8*b^8*c^19*d^6*e^3*f + 88*b^7*c^20*d^6*e^3*f + 220*b^6*c^21*d^6*e^3*f - 1184*b^5*c^22*d^6*e^3*f + 780*b^4*c^23*d^6*e^3*f + 912*b^3*c^24*d^6*e^3*f - 1128*b^2*c^25*d^6*e^3*f + 320*b*c^26*d^6*e^3*f + 120*b^7*c^19*d^7*e^3*f - 552*b^6*c^20*d^7*e^3*f + 464*b^5*c^21*d^7*e^3*f - 568*b^4*c^22*d^7*e^3*f + 1176*b^3*c^23*d^7*e^3*f - 768*b^2*c^24*d^7*e^3*f + 112*b*c^25*d^7*e^3*f + 16*c^26*d^7*e^3*f - 152*b^6*c^19*d^8*e^3*f + 508*b^5*c^20*d^8*e^3*f - 924*b^4*c^21*d^8*e^3*f + 984*b^3*c^22*d^8*e^3*f - 336*b^2*c^23*d^8*e^3*f - 148*b*c^24*d^8*e^3*f + 68*c^25*d^8*e^3*f + 56*b^5*c^19*d^9*e^3*f - 68*b^4*c^20*d^9*e^3*f + 132*b^3*c^21*d^9*e^3*f + 48*b^2*c^22*d^9*e^3*f - 340*b*c^23*d^9*e^3*f + 172*c^24*d^9*e^3*f - 16*b^3*c^20*d^10*e^3*f + 60*b^2*c^21*d^10*e^3*f - 72*b*c^22*d^10*e^3*f + 28*c^23*d^10*e^3*f - 8*b^9*c^22*d*e^4*f + 16*b^8*c^23*d*e^4*f - 16*b^6*c^25*d*e^4*f + 8*b^5*c^26*d*e^4*f + 28*b^9*c^21*d^2*e^4*f - 72*b^8*c^22*d^2*e^4*f - 60*b^7*c^23*d^2*e^4*f + 140*b^6*c^24*d^2*e^4*f + 48*b^5*c^25*d^2*e^4*f - 84*b^4*c^26*d^2*e^4*f - 44*b^9*c^20*d^3*e^4*f + 156*b^8*c^21*d^3*e^4*f - 108*b^7*c^22*d^3*e^4*f - 484*b^6*c^23*d^3*e^4*f + 584*b^5*c^24*d^3*e^4*f + 168*b^4*c^25*d^3*e^4*f - 272*b^3*c^26*d^3*e^4*f + 24*b^9*c^19*d^4*e^4*f - 8*b^8*c^20*d^4*e^4*f - 68*b^7*c^21*d^4*e^4*f - 1336*b^6*c^22*d^4*e^4*f + 2300*b^5*c^23*d^4*e^4*f - 144*b^4*c^24*d^4*e^4*f - 1368*b^3*c^25*d^4*e^4*f + 600*b^2*c^26*d^4*e^4*f - 8*b^9*c^18*d^5*e^4*f - 96*b^8*c^19*d^5*e^4*f + 776*b^7*c^20*d^5*e^4*f - 2444*b^6*c^21*d^5*e^4*f + 2048*b^5*c^22*d^5*e^4*f + 1228*b^4*c^23*d^5*e^4*f - 2416*b^3*c^24*d^5*e^4*f + 1000*b^2*c^25*d^5*e^4*f - 88*b*c^26*d^5*e^4*f + 56*b^8*c^18*d^6*e^4*f + 48*b^7*c^19*d^6*e^4*f - 560*b^6*c^20*d^6*e^4*f - 372*b^5*c^21*d^6*e^4*f + 4016*b^4*c^22*d^6*e^4*f - 4676*b^3*c^23*d^6*e^4*f + 1388*b^2*c^24*d^6*e^4*f + 264*b*c^25*d^6*e^4*f - 164*c^26*d^6*e^4*f - 88*b^7*c^18*d^7*e^4*f + 480*b^6*c^19*d^7*e^4*f - 2140*b^5*c^20*d^7*e^4*f + 5900*b^4*c^21*d^7*e^4*f - 5604*b^3*c^22*d^7*e^4*f + 708*b^2*c^23*d^7*e^4*f + 840*b*c^24*d^7*e^4*f - 96*c^25*d^7*e^4*f + 40*b^6*c^18*d^8*e^4*f - 600*b^5*c^19*d^8*e^4*f + 2584*b^4*c^20*d^8*e^4*f - 3316*b^3*c^21*d^8*e^4*f + 368*b^2*c^22*d^8*e^4*f + 1316*b*c^23*d^8*e^4*f - 392*c^24*d^8*e^4*f + 160*b^4*c^19*d^9*e^4*f - 608*b^3*c^20*d^9*e^4*f + 68*b^2*c^21*d^9*e^4*f + 728*b*c^22*d^9*e^4*f - 348*c^23*d^9*e^4*f - 16*b^3*c^19*d^10*e^4*f + 48*b*c^21*d^10*e^4*f - 32*c^22*d^10*e^4*f - 8*b^9*c^21*d*e^5*f + 56*b^8*c^22*d*e^5*f - 88*b^7*c^23*d*e^5*f + 8*b^6*c^24*d*e^5*f + 64*b^5*c^25*d*e^5*f - 32*b^4*c^26*d*e^5*f - 4*b^9*c^20*d^2*e^5*f - 36*b^8*c^21*d^2*e^5*f + 8*b^7*c^22*d^2*e^5*f + 320*b^6*c^23*d^2*e^5*f - 324*b^5*c^24*d^2*e^5*f - 140*b^4*c^25*d^2*e^5*f + 176*b^3*c^26*d^2*e^5*f + 32*b^9*c^19*d^3*e^5*f - 68*b^8*c^20*d^3*e^5*f + 68*b^7*c^21*d^3*e^5*f + 192*b^6*c^22*d^3*e^5*f + 44*b^5*c^23*d^3*e^5*f - 676*b^4*c^24*d^3*e^5*f + 456*b^3*c^25*d^3*e^5*f - 48*b^2*c^26*d^3*e^5*f - 32*b^9*c^18*d^4*e^5*f + 192*b^8*c^19*d^4*e^5*f - 976*b^7*c^20*d^4*e^5*f + 1964*b^6*c^21*d^4*e^5*f + 816*b^5*c^22*d^4*e^5*f - 4180*b^4*c^23*d^4*e^5*f + 2344*b^3*c^24*d^4*e^5*f + 176*b^2*c^25*d^4*e^5*f - 304*b*c^26*d^4*e^5*f + 8*b^9*c^17*d^5*e^5*f + 72*b^8*c^18*d^5*e^5*f - 448*b^7*c^19*d^5*e^5*f + 128*b^6*c^20*d^5*e^5*f + 3920*b^5*c^21*d^5*e^5*f - 7016*b^4*c^22*d^5*e^5*f + 3344*b^3*c^23*d^5*e^5*f + 368*b^2*c^24*d^5*e^5*f - 584*b*c^25*d^5*e^5*f + 208*c^26*d^5*e^5*f - 8*b^8*c^17*d^6*e^5*f + 264*b^7*c^18*d^6*e^5*f - 2784*b^6*c^19*d^6*e^5*f + 9604*b^5*c^20*d^6*e^5*f - 13516*b^4*c^21*d^6*e^5*f + 5160*b^3*c^22*d^6*e^5*f + 2952*b^2*c^23*d^6*e^5*f - 1700*b*c^24*d^6*e^5*f + 28*c^25*d^6*e^5*f - 24*b^7*c^17*d^7*e^5*f - 976*b^6*c^18*d^7*e^5*f + 6176*b^5*c^19*d^7*e^5*f - 12372*b^4*c^20*d^7*e^5*f + 6612*b^3*c^21*d^7*e^5*f + 3712*b^2*c^22*d^7*e^5*f - 3108*b*c^23*d^7*e^5*f - 20*c^24*d^7*e^5*f + 40*b^6*c^17*d^8*e^5*f + 928*b^5*c^18*d^8*e^5*f - 3808*b^4*c^19*d^8*e^5*f + 3352*b^3*c^20*d^8*e^5*f + 2164*b^2*c^21*d^8*e^5*f - 3392*b*c^22*d^8*e^5*f + 716*c^23*d^8*e^5*f - 16*b^5*c^17*d^9*e^5*f - 280*b^4*c^18*d^9*e^5*f + 640*b^3*c^19*d^9*e^5*f + 408*b^2*c^20*d^9*e^5*f - 1216*b*c^21*d^9*e^5*f + 464*c^22*d^9*e^5*f + 24*b^3*c^18*d^10*e^5*f - 72*b*c^20*d^10*e^5*f + 48*c^21*d^10*e^5*f + 16*b^9*c^20*d*e^6*f - 40*b^8*c^21*d*e^6*f - 24*b^7*c^22*d*e^6*f + 120*b^6*c^23*d*e^6*f - 56*b^5*c^24*d*e^6*f - 48*b^4*c^25*d*e^6*f + 32*b^3*c^26*d*e^6*f - 56*b^9*c^19*d^2*e^6*f + 216*b^8*c^20*d^2*e^6*f - 348*b^7*c^21*d^2*e^6*f + 512*b^6*c^22*d^2*e^6*f - 732*b^5*c^23*d^2*e^6*f + 432*b^4*c^24*d^2*e^6*f + 120*b^3*c^25*d^2*e^6*f - 144*b^2*c^26*d^2*e^6*f + 64*b^9*c^18*d^3*e^6*f - 96*b^8*c^19*d^3*e^6*f - 312*b^7*c^20*d^3*e^6*f + 916*b^6*c^21*d^3*e^6*f - 1576*b^5*c^22*d^3*e^6*f + 1388*b^4*c^23*d^3*e^6*f - 152*b^3*c^24*d^3*e^6*f - 424*b^2*c^25*d^3*e^6*f + 192*b*c^26*d^3*e^6*f - 12*b^9*c^17*d^4*e^6*f - 248*b^8*c^18*d^4*e^6*f + 700*b^7*c^19*d^4*e^6*f + 580*b^6*c^20*d^4*e^6*f - 3408*b^5*c^21*d^4*e^6*f + 1564*b^4*c^22*d^4*e^6*f + 2344*b^3*c^23*d^4*e^6*f - 1736*b^2*c^24*d^4*e^6*f + 296*b*c^25*d^4*e^6*f - 80*c^26*d^4*e^6*f + 4*b^9*c^16*d^5*e^6*f + 124*b^8*c^17*d^5*e^6*f - 964*b^7*c^18*d^5*e^6*f + 4236*b^6*c^19*d^5*e^6*f - 8344*b^5*c^20*d^5*e^6*f + 3696*b^4*c^21*d^5*e^6*f + 5768*b^3*c^22*d^5*e^6*f - 5008*b^2*c^23*d^5*e^6*f + 432*b*c^24*d^5*e^6*f + 56*c^25*d^5*e^6*f - 16*b^8*c^16*d^6*e^6*f - 576*b^7*c^17*d^6*e^6*f + 4536*b^6*c^18*d^6*e^6*f - 11688*b^5*c^19*d^6*e^6*f + 9520*b^4*c^20*d^6*e^6*f + 5820*b^3*c^21*d^6*e^6*f - 10200*b^2*c^22*d^6*e^6*f + 1524*b*c^23*d^6*e^6*f + 1080*c^24*d^6*e^6*f + 24*b^7*c^16*d^7*e^6*f + 968*b^6*c^17*d^7*e^6*f - 5208*b^5*c^18*d^7*e^6*f + 7496*b^4*c^19*d^7*e^6*f + 2064*b^3*c^20*d^7*e^6*f - 10404*b^2*c^21*d^7*e^6*f + 4696*b*c^22*d^7*e^6*f + 364*c^23*d^7*e^6*f - 16*b^6*c^16*d^8*e^6*f - 652*b^5*c^17*d^8*e^6*f + 1944*b^4*c^18*d^8*e^6*f + 156*b^3*c^19*d^8*e^6*f - 4836*b^2*c^20*d^8*e^6*f + 4144*b*c^21*d^8*e^6*f - 740*c^22*d^8*e^6*f + 4*b^5*c^16*d^9*e^6*f + 156*b^4*c^17*d^9*e^6*f - 100*b^3*c^18*d^9*e^6*f - 820*b^2*c^19*d^9*e^6*f + 1136*b*c^20*d^9*e^6*f - 376*c^21*d^9*e^6*f - 8*b^3*c^17*d^10*e^6*f - 24*b^2*c^18*d^10*e^6*f + 72*b*c^19*d^10*e^6*f - 40*c^20*d^10*e^6*f + 16*b^9*c^19*d*e^7*f - 112*b^8*c^20*d*e^7*f + 240*b^7*c^21*d*e^7*f - 176*b^6*c^22*d*e^7*f - 32*b^5*c^23*d*e^7*f + 96*b^4*c^24*d*e^7*f - 32*b^3*c^25*d*e^7*f - 16*b^9*c^18*d^2*e^7*f - 24*b^8*c^19*d^2*e^7*f + 440*b^7*c^20*d^2*e^7*f - 904*b^6*c^21*d^2*e^7*f + 408*b^5*c^22*d^2*e^7*f + 448*b^4*c^23*d^2*e^7*f - 448*b^3*c^24*d^2*e^7*f + 96*b^2*c^25*d^2*e^7*f - 16*b^9*c^17*d^3*e^7*f + 208*b^8*c^18*d^3*e^7*f - 888*b^7*c^19*d^3*e^7*f + 1944*b^6*c^20*d^3*e^7*f - 2656*b^5*c^21*d^3*e^7*f + 2744*b^4*c^22*d^3*e^7*f - 1704*b^3*c^23*d^3*e^7*f + 400*b^2*c^24*d^3*e^7*f - 32*b*c^25*d^3*e^7*f + 12*b^9*c^16*d^4*e^7*f - 156*b^8*c^17*d^4*e^7*f + 600*b^7*c^18*d^4*e^7*f + 432*b^6*c^19*d^4*e^7*f - 6068*b^5*c^20*d^4*e^7*f + 12308*b^4*c^21*d^4*e^7*f - 8848*b^3*c^22*d^4*e^7*f + 568*b^2*c^23*d^4*e^7*f + 1184*b*c^24*d^4*e^7*f - 32*c^25*d^4*e^7*f - 100*b^8*c^16*d^5*e^7*f + 1308*b^7*c^17*d^5*e^7*f - 4448*b^6*c^18*d^5*e^7*f + 2812*b^5*c^19*d^5*e^7*f + 9932*b^4*c^20*d^5*e^7*f - 16792*b^3*c^21*d^5*e^7*f + 5792*b^2*c^22*d^5*e^7*f + 2728*b*c^23*d^5*e^7*f - 1232*c^24*d^5*e^7*f + 248*b^7*c^16*d^6*e^7*f - 2404*b^6*c^17*d^6*e^7*f + 5480*b^5*c^18*d^6*e^7*f + 156*b^4*c^19*d^6*e^7*f - 12464*b^3*c^20*d^6*e^7*f + 10424*b^2*c^21*d^6*e^7*f + 568*b*c^22*d^6*e^7*f - 2008*c^23*d^6*e^7*f - 264*b^6*c^16*d^7*e^7*f + 1536*b^5*c^17*d^7*e^7*f - 1136*b^4*c^18*d^7*e^7*f - 5000*b^3*c^19*d^7*e^7*f + 8352*b^2*c^20*d^7*e^7*f - 3000*b*c^21*d^7*e^7*f - 488*c^22*d^7*e^7*f + 124*b^5*c^16*d^8*e^7*f - 204*b^4*c^17*d^8*e^7*f - 1048*b^3*c^18*d^8*e^7*f + 2912*b^2*c^19*d^8*e^7*f - 2164*b*c^20*d^8*e^7*f + 380*c^21*d^8*e^7*f - 20*b^4*c^16*d^9*e^7*f - 76*b^3*c^17*d^9*e^7*f + 384*b^2*c^18*d^9*e^7*f - 428*b*c^19*d^9*e^7*f + 140*c^20*d^9*e^7*f + 12*b^2*c^17*d^10*e^7*f - 24*b*c^18*d^10*e^7*f + 12*c^19*d^10*e^7*f - 8*b^9*c^18*d*e^8*f + 32*b^8*c^19*d*e^8*f - 16*b^7*c^20*d*e^8*f - 32*b^6*c^21*d*e^8*f - 8*b^5*c^22*d*e^8*f + 64*b^4*c^23*d*e^8*f - 32*b^3*c^24*d*e^8*f + 28*b^9*c^17*d^2*e^8*f - 144*b^8*c^18*d^2*e^8*f + 620*b^7*c^19*d^2*e^8*f - 1812*b^6*c^20*d^2*e^8*f + 2472*b^5*c^21*d^2*e^8*f - 1148*b^4*c^22*d^2*e^8*f - 304*b^3*c^23*d^2*e^8*f + 288*b^2*c^24*d^2*e^8*f - 28*b^9*c^16*d^3*e^8*f - 4*b^8*c^17*d^3*e^8*f + 828*b^7*c^18*d^3*e^8*f - 4044*b^6*c^19*d^3*e^8*f + 8472*b^5*c^20*d^3*e^8*f - 8000*b^4*c^21*d^3*e^8*f + 2008*b^3*c^22*d^3*e^8*f + 1440*b^2*c^23*d^3*e^8*f - 672*b*c^24*d^3*e^8*f + 216*b^8*c^16*d^4*e^8*f - 812*b^7*c^17*d^4*e^8*f - 600*b^6*c^18*d^4*e^8*f + 7276*b^5*c^19*d^4*e^8*f - 12680*b^4*c^20*d^4*e^8*f + 6600*b^3*c^21*d^4*e^8*f + 2448*b^2*c^22*d^4*e^8*f - 2864*b*c^23*d^4*e^8*f + 416*c^24*d^4*e^8*f - 520*b^7*c^16*d^5*e^8*f + 1876*b^6*c^17*d^5*e^8*f - 160*b^5*c^18*d^5*e^8*f - 6628*b^4*c^19*d^5*e^8*f + 7600*b^3*c^20*d^5*e^8*f + 1048*b^2*c^21*d^5*e^8*f - 4880*b*c^22*d^5*e^8*f + 1664*c^23*d^5*e^8*f + 544*b^6*c^16*d^6*e^8*f - 1412*b^5*c^17*d^6*e^8*f - 584*b^4*c^18*d^6*e^8*f + 4068*b^3*c^19*d^6*e^8*f - 1748*b^2*c^20*d^6*e^8*f - 2448*b*c^21*d^6*e^8*f + 1580*c^22*d^6*e^8*f - 252*b^5*c^16*d^7*e^8*f + 284*b^4*c^17*d^7*e^8*f + 980*b^3*c^18*d^7*e^8*f - 1604*b^2*c^19*d^7*e^8*f + 232*b*c^20*d^7*e^8*f + 360*c^21*d^7*e^8*f + 40*b^4*c^16*d^8*e^8*f + 52*b^3*c^17*d^8*e^8*f - 336*b^2*c^18*d^8*e^8*f + 292*b*c^19*d^8*e^8*f - 48*c^20*d^8*e^8*f - 12*b^2*c^17*d^9*e^8*f + 24*b*c^18*d^9*e^8*f - 12*c^19*d^9*e^8*f - 8*b^9*c^17*d*e^9*f + 56*b^8*c^18*d*e^9*f - 152*b^7*c^19*d*e^9*f + 168*b^6*c^20*d*e^9*f - 32*b^5*c^21*d*e^9*f - 64*b^4*c^22*d*e^9*f + 32*b^3*c^23*d*e^9*f + 12*b^9*c^16*d^2*e^9*f + 52*b^8*c^17*d^2*e^9*f - 680*b^7*c^18*d^2*e^9*f + 1904*b^6*c^19*d^2*e^9*f - 2020*b^5*c^20*d^2*e^9*f + 428*b^4*c^21*d^2*e^9*f + 592*b^3*c^22*d^2*e^9*f - 288*b^2*c^23*d^2*e^9*f - 100*b^8*c^16*d^3*e^9*f + 60*b^7*c^17*d^3*e^9*f + 1600*b^6*c^18*d^3*e^9*f - 4164*b^5*c^19*d^3*e^9*f + 3020*b^4*c^20*d^3*e^9*f + 1056*b^3*c^21*d^3*e^9*f - 2144*b^2*c^22*d^3*e^9*f + 672*b*c^23*d^3*e^9*f + 248*b^7*c^16*d^4*e^9*f - 516*b^6*c^17*d^4*e^9*f - 648*b^5*c^18*d^4*e^9*f + 1492*b^4*c^19*d^4*e^9*f + 1464*b^3*c^20*d^4*e^9*f - 4136*b^2*c^21*d^4*e^9*f + 2512*b*c^22*d^4*e^9*f - 416*c^23*d^4*e^9*f - 264*b^6*c^16*d^5*e^9*f + 800*b^5*c^17*d^5*e^9*f - 1224*b^4*c^18*d^5*e^9*f + 2544*b^3*c^19*d^5*e^9*f - 4256*b^2*c^20*d^5*e^9*f + 3296*b*c^21*d^5*e^9*f - 896*c^22*d^5*e^9*f + 124*b^5*c^16*d^6*e^9*f - 516*b^4*c^17*d^6*e^9*f + 1208*b^3*c^18*d^6*e^9*f - 1976*b^2*c^19*d^6*e^9*f + 1772*b*c^20*d^6*e^9*f - 612*c^21*d^6*e^9*f - 20*b^4*c^16*d^7*e^9*f + 140*b^3*c^17*d^7*e^9*f - 336*b^2*c^18*d^7*e^9*f + 364*b*c^19*d^7*e^9*f - 148*c^20*d^7*e^9*f - 12*b^2*c^17*d^8*e^9*f + 24*b*c^18*d^8*e^9*f - 12*c^19*d^8*e^9*f - 8*b^8*c^17*d*e^10*f + 40*b^7*c^18*d*e^10*f - 72*b^6*c^19*d*e^10*f + 56*b^5*c^20*d*e^10*f - 16*b^4*c^21*d*e^10*f + 44*b^7*c^17*d^2*e^10*f - 152*b^6*c^18*d^2*e^10*f + 132*b^5*c^19*d^2*e^10*f + 64*b^4*c^20*d^2*e^10*f - 136*b^3*c^21*d^2*e^10*f + 48*b^2*c^22*d^2*e^10*f + 36*b^6*c^17*d^3*e^10*f - 392*b^5*c^18*d^3*e^10*f + 1132*b^4*c^19*d^3*e^10*f - 1392*b^3*c^20*d^3*e^10*f + 776*b^2*c^21*d^3*e^10*f - 160*b*c^22*d^3*e^10*f - 256*b^5*c^17*d^4*e^10*f + 1280*b^4*c^18*d^4*e^10*f - 2392*b^3*c^19*d^4*e^10*f + 2080*b^2*c^20*d^4*e^10*f - 824*b*c^21*d^4*e^10*f + 112*c^22*d^4*e^10*f + 280*b^4*c^17*d^5*e^10*f - 1064*b^3*c^18*d^5*e^10*f + 1488*b^2*c^19*d^5*e^10*f - 904*b*c^20*d^5*e^10*f + 200*c^21*d^5*e^10*f - 108*b^3*c^17*d^6*e^10*f + 312*b^2*c^18*d^6*e^10*f - 300*b*c^19*d^6*e^10*f + 96*c^20*d^6*e^10*f + 12*b^2*c^17*d^7*e^10*f - 24*b*c^18*d^7*e^10*f + 12*c^19*d^7*e^10*f + 4*b^9*c^22*d^4*f^2 - 32*b^8*c^23*d^4*f^2 + 24*b^7*c^24*d^4*f^2 + 32*b^6*c^25*d^4*f^2 - 28*b^5*c^26*d^4*f^2 - 4*b^9*c^21*d^5*f^2 - 20*b^8*c^22*d^5*f^2 + 36*b^7*c^23*d^5*f^2 + 4*b^6*c^24*d^5*f^2 - 16*b^5*c^25*d^5*f^2 - 8*b^8*c^21*d^6*f^2 + 28*b^7*c^22*d^6*f^2 + 4*b^6*c^23*d^6*f^2 - 4*b^5*c^24*d^6*f^2 - 76*b^4*c^25*d^6*f^2 + 56*b^3*c^26*d^6*f^2 + 16*b^7*c^21*d^7*f^2 + 8*b^6*c^22*d^7*f^2 - 24*b^5*c^23*d^7*f^2 - 40*b^4*c^24*d^7*f^2 + 40*b^3*c^25*d^7*f^2 + 8*b^6*c^21*d^8*f^2 - 36*b^5*c^22*d^8*f^2 + 40*b^4*c^23*d^8*f^2 - 32*b^3*c^24*d^8*f^2 + 48*b^2*c^25*d^8*f^2 - 28*b*c^26*d^8*f^2 - 12*b^5*c^21*d^9*f^2 + 12*b^4*c^22*d^9*f^2 - 12*b^3*c^23*d^9*f^2 + 36*b^2*c^24*d^9*f^2 - 24*b*c^25*d^9*f^2 + 4*b^3*c^22*d^10*f^2 - 12*b^2*c^23*d^10*f^2 + 12*b*c^24*d^10*f^2 - 4*c^25*d^10*f^2 + 8*b^9*c^22*d^3*e*f^2 + 8*b^8*c^23*d^3*e*f^2 - 24*b^7*c^24*d^3*e*f^2 - 8*b^6*c^25*d^3*e*f^2 + 16*b^5*c^26*d^3*e*f^2 - 76*b^8*c^22*d^4*e*f^2 + 212*b^7*c^23*d^4*e*f^2 - 68*b^6*c^24*d^4*e*f^2 - 196*b^5*c^25*d^4*e*f^2 + 128*b^4*c^26*d^4*e*f^2 - 8*b^9*c^20*d^5*e*f^2 - 32*b^8*c^21*d^5*e*f^2 + 388*b^7*c^22*d^5*e*f^2 - 516*b^6*c^23*d^5*e*f^2 - 76*b^5*c^24*d^5*e*f^2 + 388*b^4*c^25*d^5*e*f^2 - 144*b^3*c^26*d^5*e*f^2 + 8*b^8*c^20*d^6*e*f^2 + 128*b^7*c^21*d^6*e*f^2 - 296*b^6*c^22*d^6*e*f^2 + 24*b^5*c^23*d^6*e*f^2 + 144*b^4*c^24*d^6*e*f^2 + 136*b^3*c^25*d^6*e*f^2 - 144*b^2*c^26*d^6*e*f^2 + 24*b^7*c^20*d^7*e*f^2 - 144*b^6*c^21*d^7*e*f^2 - 128*b^5*c^22*d^7*e*f^2 + 336*b^4*c^23*d^7*e*f^2 + 232*b^3*c^24*d^7*e*f^2 - 448*b^2*c^25*d^7*e*f^2 + 128*b*c^26*d^7*e*f^2 - 40*b^6*c^20*d^8*e*f^2 + 32*b^5*c^21*d^8*e*f^2 + 52*b^4*c^22*d^8*e*f^2 + 84*b^3*c^23*d^8*e*f^2 - 236*b^2*c^24*d^8*e*f^2 + 92*b*c^25*d^8*e*f^2 + 16*c^26*d^8*e*f^2 + 16*b^5*c^20*d^9*e*f^2 + 16*b^4*c^21*d^9*e*f^2 + 52*b^3*c^22*d^9*e*f^2 - 148*b^2*c^23*d^9*e*f^2 + 28*b*c^24*d^9*e*f^2 + 36*c^25*d^9*e*f^2 - 24*b^9*c^22*d^2*e^2*f^2 + 72*b^8*c^23*d^2*e^2*f^2 - 24*b^7*c^24*d^2*e^2*f^2 - 72*b^6*c^25*d^2*e^2*f^2 + 48*b^5*c^26*d^2*e^2*f^2 + 48*b^9*c^21*d^3*e^2*f^2 - 40*b^8*c^22*d^3*e^2*f^2 - 152*b^7*c^23*d^3*e^2*f^2 + 152*b^6*c^24*d^3*e^2*f^2 + 72*b^5*c^25*d^3*e^2*f^2 - 80*b^4*c^26*d^3*e^2*f^2 - 40*b^9*c^20*d^4*e^2*f^2 - 20*b^8*c^21*d^4*e^2*f^2 + 400*b^7*c^22*d^4*e^2*f^2 - 464*b^6*c^23*d^4*e^2*f^2 - 168*b^5*c^24*d^4*e^2*f^2 + 500*b^4*c^25*d^4*e^2*f^2 - 208*b^3*c^26*d^4*e^2*f^2 + 8*b^9*c^19*d^5*e^2*f^2 + 80*b^8*c^20*d^5*e^2*f^2 + 452*b^7*c^21*d^5*e^2*f^2 - 2020*b^6*c^22*d^5*e^2*f^2 + 1972*b^5*c^23*d^5*e^2*f^2 + 180*b^4*c^24*d^5*e^2*f^2 - 1056*b^3*c^25*d^5*e^2*f^2 + 384*b^2*c^26*d^5*e^2*f^2 + 40*b^8*c^19*d^6*e^2*f^2 + 220*b^7*c^20*d^6*e^2*f^2 - 1716*b^6*c^21*d^6*e^2*f^2 + 2748*b^5*c^22*d^6*e^2*f^2 - 1124*b^4*c^23*d^6*e^2*f^2 - 600*b^3*c^24*d^6*e^2*f^2 + 496*b^2*c^25*d^6*e^2*f^2 - 64*b*c^26*d^6*e^2*f^2 - 72*b^7*c^19*d^7*e^2*f^2 - 256*b^6*c^20*d^7*e^2*f^2 + 776*b^5*c^21*d^7*e^2*f^2 + 384*b^4*c^22*d^7*e^2*f^2 - 1624*b^3*c^23*d^7*e^2*f^2 + 752*b^2*c^24*d^7*e^2*f^2 + 120*b*c^25*d^7*e^2*f^2 - 80*c^26*d^7*e^2*f^2 - 8*b^6*c^19*d^8*e^2*f^2 - 48*b^5*c^20*d^8*e^2*f^2 + 916*b^4*c^21*d^8*e^2*f^2 - 1944*b^3*c^22*d^8*e^2*f^2 + 1344*b^2*c^23*d^8*e^2*f^2 - 200*b*c^24*d^8*e^2*f^2 - 60*c^25*d^8*e^2*f^2 + 32*b^5*c^19*d^9*e^2*f^2 + 80*b^4*c^20*d^9*e^2*f^2 - 540*b^3*c^21*d^9*e^2*f^2 + 556*b^2*c^22*d^9*e^2*f^2 - 36*b*c^23*d^9*e^2*f^2 - 92*c^24*d^9*e^2*f^2 - 36*b^3*c^20*d^10*e^2*f^2 + 84*b^2*c^21*d^10*e^2*f^2 - 60*b*c^22*d^10*e^2*f^2 + 12*c^23*d^10*e^2*f^2 + 8*b^9*c^22*d*e^3*f^2 - 40*b^8*c^23*d*e^3*f^2 + 24*b^7*c^24*d*e^3*f^2 + 40*b^6*c^25*d*e^3*f^2 - 32*b^5*c^26*d*e^3*f^2 - 40*b^9*c^21*d^2*e^3*f^2 + 224*b^8*c^22*d^2*e^3*f^2 - 368*b^7*c^23*d^2*e^3*f^2 + 16*b^6*c^24*d^2*e^3*f^2 + 376*b^5*c^25*d^2*e^3*f^2 - 208*b^4*c^26*d^2*e^3*f^2 + 40*b^9*c^20*d^3*e^3*f^2 + 8*b^8*c^21*d^3*e^3*f^2 - 992*b^7*c^22*d^3*e^3*f^2 + 1384*b^6*c^23*d^3*e^3*f^2 + 200*b^5*c^24*d^3*e^3*f^2 - 1024*b^4*c^25*d^3*e^3*f^2 + 384*b^3*c^26*d^3*e^3*f^2 - 20*b^9*c^19*d^4*e^3*f^2 + 36*b^8*c^20*d^4*e^3*f^2 + 88*b^7*c^21*d^4*e^3*f^2 - 460*b^6*c^22*d^4*e^3*f^2 - 100*b^5*c^23*d^4*e^3*f^2 + 1072*b^4*c^24*d^4*e^3*f^2 - 712*b^3*c^25*d^4*e^3*f^2 + 96*b^2*c^26*d^4*e^3*f^2 + 16*b^9*c^18*d^5*e^3*f^2 + 244*b^8*c^19*d^5*e^3*f^2 - 1172*b^7*c^20*d^5*e^3*f^2 - 552*b^6*c^21*d^5*e^3*f^2 + 4124*b^5*c^22*d^5*e^3*f^2 - 2348*b^4*c^23*d^5*e^3*f^2 - 1608*b^3*c^24*d^5*e^3*f^2 + 1632*b^2*c^25*d^5*e^3*f^2 - 352*b*c^26*d^5*e^3*f^2 - 40*b^8*c^18*d^6*e^3*f^2 - 600*b^7*c^19*d^6*e^3*f^2 + 96*b^6*c^20*d^6*e^3*f^2 + 4512*b^5*c^21*d^6*e^3*f^2 - 7080*b^4*c^22*d^6*e^3*f^2 + 3848*b^3*c^23*d^6*e^3*f^2 - 736*b^2*c^24*d^6*e^3*f^2 - 112*b*c^25*d^6*e^3*f^2 + 112*c^26*d^6*e^3*f^2 - 40*b^7*c^18*d^7*e^3*f^2 - 120*b^6*c^19*d^7*e^3*f^2 + 3920*b^5*c^20*d^7*e^3*f^2 - 8496*b^4*c^21*d^7*e^3*f^2 + 6688*b^3*c^22*d^7*e^3*f^2 - 2464*b^2*c^23*d^7*e^3*f^2 + 744*b*c^24*d^7*e^3*f^2 - 200*c^25*d^7*e^3*f^2 + 136*b^6*c^18*d^8*e^3*f^2 + 844*b^5*c^19*d^8*e^3*f^2 - 3852*b^4*c^20*d^8*e^3*f^2 + 4928*b^3*c^21*d^8*e^3*f^2 - 2260*b^2*c^22*d^8*e^3*f^2 + 44*b*c^23*d^8*e^3*f^2 + 160*c^24*d^8*e^3*f^2 - 72*b^5*c^18*d^9*e^3*f^2 - 412*b^4*c^19*d^9*e^3*f^2 + 1052*b^3*c^20*d^9*e^3*f^2 - 624*b^2*c^21*d^9*e^3*f^2 - 132*b*c^22*d^9*e^3*f^2 + 172*c^23*d^9*e^3*f^2 + 64*b^3*c^19*d^10*e^3*f^2 - 120*b^2*c^20*d^10*e^3*f^2 + 48*b*c^21*d^10*e^3*f^2 + 8*c^22*d^10*e^3*f^2 + 4*b^9*c^22*e^4*f^2 - 8*b^8*c^23*e^4*f^2 + 8*b^6*c^25*e^4*f^2 - 4*b^5*c^26*e^4*f^2 - 12*b^9*c^21*d*e^4*f^2 - 52*b^8*c^22*d*e^4*f^2 + 228*b^7*c^23*d*e^4*f^2 - 108*b^6*c^24*d*e^4*f^2 - 200*b^5*c^25*d*e^4*f^2 + 144*b^4*c^26*d*e^4*f^2 + 64*b^9*c^20*d^2*e^4*f^2 - 76*b^8*c^21*d^2*e^4*f^2 - 12*b^7*c^22*d^2*e^4*f^2 + 220*b^6*c^23*d^2*e^4*f^2 - 188*b^5*c^24*d^2*e^4*f^2 - 144*b^4*c^25*d^2*e^4*f^2 + 136*b^3*c^26*d^2*e^4*f^2 - 104*b^9*c^19*d^3*e^4*f^2 + 32*b^8*c^20*d^3*e^4*f^2 - 908*b^7*c^21*d^3*e^4*f^2 + 4332*b^6*c^22*d^3*e^4*f^2 - 3436*b^5*c^23*d^3*e^4*f^2 - 2060*b^4*c^24*d^3*e^4*f^2 + 2816*b^3*c^25*d^3*e^4*f^2 - 672*b^2*c^26*d^3*e^4*f^2 + 68*b^9*c^18*d^4*e^4*f^2 + 36*b^8*c^19*d^4*e^4*f^2 - 964*b^7*c^20*d^4*e^4*f^2 + 4428*b^6*c^21*d^4*e^4*f^2 - 4780*b^5*c^22*d^4*e^4*f^2 - 304*b^4*c^23*d^4*e^4*f^2 + 2520*b^3*c^24*d^4*e^4*f^2 - 1352*b^2*c^25*d^4*e^4*f^2 + 380*b*c^26*d^4*e^4*f^2 - 4*b^9*c^17*d^5*e^4*f^2 - 148*b^8*c^18*d^5*e^4*f^2 - 316*b^7*c^19*d^5*e^4*f^2 + 3168*b^6*c^20*d^5*e^4*f^2 - 1336*b^5*c^21*d^5*e^4*f^2 - 4004*b^4*c^22*d^5*e^4*f^2 + 716*b^3*c^23*d^5*e^4*f^2 + 3644*b^2*c^24*d^5*e^4*f^2 - 1656*b*c^25*d^5*e^4*f^2 + 16*c^26*d^5*e^4*f^2 - 32*b^8*c^17*d^6*e^4*f^2 - 540*b^7*c^18*d^6*e^4*f^2 + 4772*b^6*c^19*d^6*e^4*f^2 - 7464*b^5*c^20*d^6*e^4*f^2 + 2212*b^4*c^21*d^6*e^4*f^2 - 1268*b^3*c^22*d^6*e^4*f^2 + 5212*b^2*c^23*d^6*e^4*f^2 - 3484*b*c^24*d^6*e^4*f^2 + 528*c^25*d^6*e^4*f^2 + 120*b^7*c^17*d^7*e^4*f^2 + 1576*b^6*c^18*d^7*e^4*f^2 - 7824*b^5*c^19*d^7*e^4*f^2 + 10032*b^4*c^20*d^7*e^4*f^2 - 7004*b^3*c^21*d^7*e^4*f^2 + 4804*b^2*c^22*d^7*e^4*f^2 - 2116*b*c^23*d^7*e^4*f^2 + 252*c^24*d^7*e^4*f^2 - 128*b^6*c^17*d^8*e^4*f^2 - 1316*b^5*c^18*d^8*e^4*f^2 + 3836*b^4*c^19*d^8*e^4*f^2 - 4564*b^3*c^20*d^8*e^4*f^2 + 2516*b^2*c^21*d^8*e^4*f^2 + 456*b*c^22*d^8*e^4*f^2 - 768*c^23*d^8*e^4*f^2 + 44*b^5*c^17*d^9*e^4*f^2 + 396*b^4*c^18*d^9*e^4*f^2 - 588*b^3*c^19*d^9*e^4*f^2 + 400*b^2*c^20*d^9*e^4*f^2 + 76*b*c^21*d^9*e^4*f^2 - 248*c^22*d^9*e^4*f^2 - 36*b^3*c^18*d^10*e^4*f^2 + 60*b^2*c^19*d^10*e^4*f^2 - 24*c^21*d^10*e^4*f^2 + 8*b^9*c^21*e^5*f^2 - 36*b^8*c^22*e^5*f^2 + 44*b^7*c^23*e^5*f^2 + 4*b^6*c^24*e^5*f^2 - 36*b^5*c^25*e^5*f^2 + 16*b^4*c^26*e^5*f^2 - 48*b^9*c^20*d*e^5*f^2 + 120*b^8*c^21*d*e^5*f^2 + 140*b^7*c^22*d*e^5*f^2 - 548*b^6*c^23*d*e^5*f^2 + 228*b^5*c^24*d*e^5*f^2 + 316*b^4*c^25*d*e^5*f^2 - 208*b^3*c^26*d*e^5*f^2 + 116*b^9*c^19*d^2*e^5*f^2 - 260*b^8*c^20*d^2*e^5*f^2 + 240*b^7*c^21*d^2*e^5*f^2 - 780*b^6*c^22*d^2*e^5*f^2 + 404*b^5*c^23*d^2*e^5*f^2 + 1032*b^4*c^24*d^2*e^5*f^2 - 992*b^3*c^25*d^2*e^5*f^2 + 240*b^2*c^26*d^2*e^5*f^2 - 104*b^9*c^18*d^3*e^5*f^2 - 356*b^8*c^19*d^3*e^5*f^2 + 3084*b^7*c^20*d^3*e^5*f^2 - 3168*b^6*c^21*d^3*e^5*f^2 - 4732*b^5*c^22*d^3*e^5*f^2 + 6772*b^4*c^23*d^3*e^5*f^2 - 232*b^3*c^24*d^3*e^5*f^2 - 1360*b^2*c^25*d^3*e^5*f^2 + 80*b*c^26*d^3*e^5*f^2 + 40*b^9*c^17*d^4*e^5*f^2 + 444*b^8*c^18*d^4*e^5*f^2 - 1044*b^7*c^19*d^4*e^5*f^2 + 1792*b^6*c^20*d^4*e^5*f^2 - 9592*b^5*c^21*d^4*e^5*f^2 + 10764*b^4*c^22*d^4*e^5*f^2 + 2276*b^3*c^23*d^4*e^5*f^2 - 6764*b^2*c^24*d^4*e^5*f^2 + 2052*b*c^25*d^4*e^5*f^2 - 128*c^26*d^4*e^5*f^2 - 8*b^9*c^16*d^5*e^5*f^2 - 344*b^8*c^17*d^5*e^5*f^2 + 252*b^7*c^18*d^5*e^5*f^2 + 3460*b^6*c^19*d^5*e^5*f^2 - 13000*b^5*c^20*d^5*e^5*f^2 + 8632*b^4*c^21*d^5*e^5*f^2 + 11844*b^3*c^22*d^5*e^5*f^2 - 15756*b^2*c^23*d^5*e^5*f^2 + 4772*b*c^24*d^5*e^5*f^2 + 20*c^25*d^5*e^5*f^2 + 32*b^8*c^16*d^6*e^5*f^2 + 896*b^7*c^17*d^6*e^5*f^2 - 3016*b^6*c^18*d^6*e^5*f^2 + 3308*b^5*c^19*d^6*e^5*f^2 - 8548*b^4*c^20*d^6*e^5*f^2 + 19960*b^3*c^21*d^6*e^5*f^2 - 16628*b^2*c^22*d^6*e^5*f^2 + 4380*b*c^23*d^6*e^5*f^2 - 64*c^24*d^6*e^5*f^2 - 48*b^7*c^16*d^7*e^5*f^2 - 800*b^6*c^17*d^7*e^5*f^2 + 4320*b^5*c^18*d^7*e^5*f^2 - 12460*b^4*c^19*d^7*e^5*f^2 + 22348*b^3*c^20*d^7*e^5*f^2 - 14344*b^2*c^21*d^7*e^5*f^2 - 692*b*c^22*d^7*e^5*f^2 + 1980*c^23*d^7*e^5*f^2 + 32*b^6*c^16*d^8*e^5*f^2 + 216*b^5*c^17*d^8*e^5*f^2 - 1956*b^4*c^18*d^8*e^5*f^2 + 7748*b^3*c^19*d^8*e^5*f^2 - 7608*b^2*c^20*d^8*e^5*f^2 - 632*b*c^21*d^8*e^5*f^2 + 2040*c^22*d^8*e^5*f^2 - 8*b^5*c^16*d^9*e^5*f^2 - 8*b^4*c^17*d^9*e^5*f^2 + 364*b^3*c^18*d^9*e^5*f^2 - 1396*b^2*c^19*d^9*e^5*f^2 + 576*b*c^20*d^9*e^5*f^2 + 312*c^21*d^9*e^5*f^2 - 48*b^2*c^18*d^10*e^5*f^2 + 48*b*c^19*d^10*e^5*f^2 - 4*b^9*c^20*e^6*f^2 - 8*b^8*c^21*e^6*f^2 + 56*b^7*c^22*e^6*f^2 - 64*b^6*c^23*e^6*f^2 - 4*b^5*c^24*e^6*f^2 + 40*b^4*c^25*e^6*f^2 - 16*b^3*c^26*e^6*f^2 + 12*b^9*c^19*d*e^6*f^2 + 12*b^8*c^20*d*e^6*f^2 + 188*b^7*c^21*d*e^6*f^2 - 884*b^6*c^22*d*e^6*f^2 + 1056*b^5*c^23*d*e^6*f^2 - 248*b^4*c^24*d*e^6*f^2 - 232*b^3*c^25*d*e^6*f^2 + 96*b^2*c^26*d*e^6*f^2 - 56*b^9*c^18*d^2*e^6*f^2 + 164*b^8*c^19*d^2*e^6*f^2 - 892*b^7*c^20*d^2*e^6*f^2 + 804*b^6*c^21*d^2*e^6*f^2 + 1828*b^5*c^22*d^2*e^6*f^2 - 1928*b^4*c^23*d^2*e^6*f^2 - 616*b^3*c^24*d^2*e^6*f^2 + 840*b^2*c^25*d^2*e^6*f^2 - 144*b*c^26*d^2*e^6*f^2 + 64*b^9*c^17*d^3*e^6*f^2 - 136*b^8*c^18*d^3*e^6*f^2 + 1400*b^7*c^19*d^3*e^6*f^2 - 5100*b^6*c^20*d^3*e^6*f^2 + 4396*b^5*c^21*d^3*e^6*f^2 + 6432*b^4*c^22*d^3*e^6*f^2 - 11048*b^3*c^23*d^3*e^6*f^2 + 4000*b^2*c^24*d^3*e^6*f^2 + 8*b*c^25*d^3*e^6*f^2 + 64*c^26*d^3*e^6*f^2 - 32*b^9*c^16*d^4*e^6*f^2 - 172*b^8*c^17*d^4*e^6*f^2 + 2072*b^7*c^18*d^4*e^6*f^2 - 10216*b^6*c^19*d^4*e^6*f^2 + 15648*b^5*c^20*d^4*e^6*f^2 + 5512*b^4*c^21*d^4*e^6*f^2 - 25712*b^3*c^22*d^4*e^6*f^2 + 14984*b^2*c^23*d^4*e^6*f^2 - 1108*b*c^24*d^4*e^6*f^2 - 656*c^25*d^4*e^6*f^2 + 88*b^8*c^16*d^5*e^6*f^2 - 580*b^7*c^17*d^5*e^6*f^2 + 2972*b^6*c^18*d^5*e^6*f^2 - 10064*b^5*c^19*d^5*e^6*f^2 + 27624*b^4*c^20*d^5*e^6*f^2 - 31492*b^3*c^21*d^5*e^6*f^2 + 11068*b^2*c^22*d^5*e^6*f^2 + 1512*b*c^23*d^5*e^6*f^2 - 1128*c^24*d^5*e^6*f^2 + 164*b^7*c^16*d^6*e^6*f^2 + 3172*b^6*c^17*d^6*e^6*f^2 - 23332*b^5*c^18*d^6*e^6*f^2 + 56776*b^4*c^19*d^6*e^6*f^2 - 54012*b^3*c^20*d^6*e^6*f^2 + 9116*b^2*c^21*d^6*e^6*f^2 + 10196*b*c^22*d^6*e^6*f^2 - 2720*c^23*d^6*e^6*f^2 - 560*b^6*c^16*d^7*e^6*f^2 - 4952*b^5*c^17*d^7*e^6*f^2 + 28432*b^4*c^18*d^7*e^6*f^2 - 43760*b^3*c^19*d^7*e^6*f^2 + 13924*b^2*c^20*d^7*e^6*f^2 + 12028*b*c^21*d^7*e^6*f^2 - 5352*c^22*d^7*e^6*f^2 + 440*b^5*c^16*d^8*e^6*f^2 + 3020*b^4*c^17*d^8*e^6*f^2 - 12128*b^3*c^18*d^8*e^6*f^2 + 8608*b^2*c^19*d^8*e^6*f^2 + 3740*b*c^20*d^8*e^6*f^2 - 3360*c^21*d^8*e^6*f^2 - 104*b^4*c^16*d^9*e^6*f^2 - 740*b^3*c^17*d^9*e^6*f^2 + 1788*b^2*c^18*d^9*e^6*f^2 - 228*b*c^19*d^9*e^6*f^2 - 556*c^20*d^9*e^6*f^2 + 4*b^3*c^16*d^10*e^6*f^2 + 60*b^2*c^17*d^10*e^6*f^2 - 60*b*c^18*d^10*e^6*f^2 - 4*c^19*d^10*e^6*f^2 - 16*b^9*c^19*e^7*f^2 + 76*b^8*c^20*e^7*f^2 - 108*b^7*c^21*e^7*f^2 + 28*b^6*c^22*e^7*f^2 + 44*b^5*c^23*e^7*f^2 - 24*b^4*c^24*e^7*f^2 + 72*b^9*c^18*d*e^7*f^2 - 120*b^8*c^19*d*e^7*f^2 - 172*b^7*c^20*d*e^7*f^2 - 44*b^6*c^21*d*e^7*f^2 + 1212*b^5*c^22*d*e^7*f^2 - 1292*b^4*c^23*d*e^7*f^2 + 200*b^3*c^24*d*e^7*f^2 + 144*b^2*c^25*d*e^7*f^2 - 112*b^9*c^17*d^2*e^7*f^2 - 176*b^8*c^18*d^2*e^7*f^2 + 1648*b^7*c^19*d^2*e^7*f^2 - 2900*b^6*c^20*d^2*e^7*f^2 + 5108*b^5*c^21*d^2*e^7*f^2 - 7840*b^4*c^22*d^2*e^7*f^2 + 4968*b^3*c^23*d^2*e^7*f^2 - 216*b^2*c^24*d^2*e^7*f^2 - 480*b*c^25*d^2*e^7*f^2 + 56*b^9*c^16*d^3*e^7*f^2 + 848*b^8*c^17*d^3*e^7*f^2 - 2960*b^7*c^18*d^3*e^7*f^2 + 1560*b^6*c^19*d^3*e^7*f^2 + 7020*b^5*c^20*d^3*e^7*f^2 - 14796*b^4*c^21*d^3*e^7*f^2 + 9824*b^3*c^22*d^3*e^7*f^2 - 376*b^2*c^23*d^3*e^7*f^2 - 1672*b*c^24*d^3*e^7*f^2 + 336*c^25*d^3*e^7*f^2 - 20*b^9*c^15*d^4*e^7*f^2 - 404*b^8*c^16*d^4*e^7*f^2 + 368*b^7*c^17*d^4*e^7*f^2 - 1140*b^6*c^18*d^4*e^7*f^2 + 10380*b^5*c^19*d^4*e^7*f^2 - 18052*b^4*c^20*d^4*e^7*f^2 + 3236*b^3*c^21*d^4*e^7*f^2 + 10180*b^2*c^22*d^4*e^7*f^2 - 6196*b*c^23*d^4*e^7*f^2 + 1328*c^24*d^4*e^7*f^2 + 132*b^8*c^15*d^5*e^7*f^2 + 1812*b^7*c^16*d^5*e^7*f^2 - 13856*b^6*c^17*d^5*e^7*f^2 + 39716*b^5*c^18*d^5*e^7*f^2 - 48348*b^4*c^19*d^5*e^7*f^2 + 4708*b^3*c^20*d^5*e^7*f^2 + 30628*b^2*c^21*d^5*e^7*f^2 - 15356*b*c^22*d^5*e^7*f^2 + 804*c^23*d^5*e^7*f^2 - 296*b^7*c^15*d^6*e^7*f^2 - 4528*b^6*c^16*d^6*e^7*f^2 + 29864*b^5*c^17*d^6*e^7*f^2 - 58632*b^4*c^18*d^6*e^7*f^2 + 28552*b^3*c^19*d^6*e^7*f^2 + 29724*b^2*c^20*d^6*e^7*f^2 - 27148*b*c^21*d^6*e^7*f^2 + 3104*c^22*d^6*e^7*f^2 + 296*b^6*c^15*d^7*e^7*f^2 + 5072*b^5*c^16*d^7*e^7*f^2 - 22248*b^4*c^17*d^7*e^7*f^2 + 23120*b^3*c^18*d^7*e^7*f^2 + 10224*b^2*c^19*d^7*e^7*f^2 - 22468*b*c^20*d^7*e^7*f^2 + 6004*c^21*d^7*e^7*f^2 - 132*b^5*c^15*d^8*e^7*f^2 - 2436*b^4*c^16*d^8*e^7*f^2 + 6040*b^3*c^17*d^8*e^7*f^2 + 180*b^2*c^18*d^8*e^7*f^2 - 7316*b*c^19*d^8*e^7*f^2 + 3344*c^20*d^8*e^7*f^2 + 20*b^4*c^15*d^9*e^7*f^2 + 452*b^3*c^16*d^9*e^7*f^2 - 456*b^2*c^17*d^9*e^7*f^2 - 716*b*c^18*d^9*e^7*f^2 + 620*c^19*d^9*e^7*f^2 - 24*b^2*c^16*d^10*e^7*f^2 + 24*c^18*d^10*e^7*f^2 - 4*b^9*c^18*e^8*f^2 + 40*b^8*c^19*e^8*f^2 - 112*b^7*c^20*e^8*f^2 + 104*b^6*c^21*e^8*f^2 + 20*b^5*c^22*e^8*f^2 - 80*b^4*c^23*e^8*f^2 + 32*b^3*c^24*e^8*f^2 + 12*b^9*c^17*d*e^8*f^2 + 132*b^8*c^18*d*e^8*f^2 - 1316*b^7*c^19*d*e^8*f^2 + 3404*b^6*c^20*d*e^8*f^2 - 3432*b^5*c^21*d*e^8*f^2 + 800*b^4*c^22*d*e^8*f^2 + 784*b^3*c^23*d*e^8*f^2 - 384*b^2*c^24*d*e^8*f^2 + 16*b^9*c^16*d^2*e^8*f^2 - 364*b^8*c^17*d^2*e^8*f^2 + 1020*b^7*c^18*d^2*e^8*f^2 + 868*b^6*c^19*d^2*e^8*f^2 - 5444*b^5*c^20*d^2*e^8*f^2 + 4632*b^4*c^21*d^2*e^8*f^2 + 1144*b^3*c^22*d^2*e^8*f^2 - 2736*b^2*c^23*d^2*e^8*f^2 + 864*b*c^24*d^2*e^8*f^2 - 8*b^9*c^15*d^3*e^8*f^2 + 144*b^8*c^16*d^3*e^8*f^2 + 236*b^7*c^17*d^3*e^8*f^2 - 5020*b^6*c^18*d^3*e^8*f^2 + 15532*b^5*c^19*d^3*e^8*f^2 - 23596*b^4*c^20*d^3*e^8*f^2 + 19976*b^3*c^21*d^3*e^8*f^2 - 8528*b^2*c^22*d^3*e^8*f^2 + 1872*b*c^23*d^3*e^8*f^2 - 448*c^24*d^3*e^8*f^2 + 188*b^8*c^15*d^4*e^8*f^2 - 3196*b^7*c^16*d^4*e^8*f^2 + 11412*b^6*c^17*d^4*e^8*f^2 - 5168*b^5*c^18*d^4*e^8*f^2 - 35504*b^4*c^19*d^4*e^8*f^2 + 64776*b^3*c^20*d^4*e^8*f^2 - 37072*b^2*c^21*d^4*e^8*f^2 + 3540*b*c^22*d^4*e^8*f^2 + 1184*c^23*d^4*e^8*f^2 - 872*b^7*c^15*d^5*e^8*f^2 + 10660*b^6*c^16*d^5*e^8*f^2 - 29520*b^5*c^17*d^5*e^8*f^2 + 12428*b^4*c^18*d^5*e^8*f^2 + 48708*b^3*c^19*d^5*e^8*f^2 - 58620*b^2*c^20*d^5*e^8*f^2 + 13504*b*c^21*d^5*e^8*f^2 + 3408*c^22*d^5*e^8*f^2 + 1512*b^6*c^15*d^6*e^8*f^2 - 12108*b^5*c^16*d^6*e^8*f^2 + 20328*b^4*c^17*d^6*e^8*f^2 + 9484*b^3*c^18*d^6*e^8*f^2 - 41836*b^2*c^19*d^6*e^8*f^2 + 22444*b*c^20*d^6*e^8*f^2 - 144*c^21*d^6*e^8*f^2 - 1160*b^5*c^15*d^7*e^8*f^2 + 4840*b^4*c^16*d^7*e^8*f^2 - 348*b^3*c^17*d^7*e^8*f^2 - 15508*b^2*c^18*d^7*e^8*f^2 + 15476*b*c^19*d^7*e^8*f^2 - 3172*c^20*d^7*e^8*f^2 + 380*b^4*c^15*d^8*e^8*f^2 - 212*b^3*c^16*d^8*e^8*f^2 - 2724*b^2*c^17*d^8*e^8*f^2 + 4300*b*c^18*d^8*e^8*f^2 - 1584*c^19*d^8*e^8*f^2 - 40*b^3*c^15*d^9*e^8*f^2 - 156*b^2*c^16*d^9*e^8*f^2 + 468*b*c^17*d^9*e^8*f^2 - 256*c^18*d^9*e^8*f^2 + 12*b*c^16*d^10*e^8*f^2 - 12*c^17*d^10*e^8*f^2 + 8*b^9*c^17*e^9*f^2 - 44*b^8*c^18*e^9*f^2 + 84*b^7*c^19*e^9*f^2 - 68*b^6*c^20*e^9*f^2 + 20*b^5*c^21*e^9*f^2 - 32*b^9*c^16*d*e^9*f^2 + 40*b^8*c^17*d*e^9*f^2 + 84*b^7*c^18*d*e^9*f^2 + 260*b^6*c^19*d*e^9*f^2 - 1060*b^5*c^20*d*e^9*f^2 + 900*b^4*c^21*d*e^9*f^2 - 96*b^3*c^22*d*e^9*f^2 - 96*b^2*c^23*d*e^9*f^2 + 36*b^9*c^15*d^2*e^9*f^2 + 212*b^8*c^16*d^2*e^9*f^2 - 1776*b^7*c^17*d^2*e^9*f^2 + 6892*b^6*c^18*d^2*e^9*f^2 - 15524*b^5*c^19*d^2*e^9*f^2 + 17760*b^4*c^20*d^2*e^9*f^2 - 8368*b^3*c^21*d^2*e^9*f^2 + 192*b^2*c^22*d^2*e^9*f^2 + 576*b*c^23*d^2*e^9*f^2 - 508*b^8*c^15*d^3*e^9*f^2 + 1212*b^7*c^16*d^3*e^9*f^2 + 4776*b^6*c^17*d^3*e^9*f^2 - 26932*b^5*c^18*d^3*e^9*f^2 + 48620*b^4*c^19*d^3*e^9*f^2 - 36608*b^3*c^20*d^3*e^9*f^2 + 6768*b^2*c^21*d^3*e^9*f^2 + 3264*b*c^22*d^3*e^9*f^2 - 672*c^23*d^3*e^9*f^2 + 2040*b^7*c^15*d^4*e^9*f^2 - 6844*b^6*c^16*d^4*e^9*f^2 - 2668*b^5*c^17*d^4*e^9*f^2 + 37124*b^4*c^18*d^4*e^9*f^2 - 51044*b^3*c^19*d^4*e^9*f^2 + 17620*b^2*c^20*d^4*e^9*f^2 + 7740*b*c^21*d^4*e^9*f^2 - 4000*c^22*d^4*e^9*f^2 - 3320*b^6*c^15*d^5*e^9*f^2 + 9364*b^5*c^16*d^5*e^9*f^2 + 2060*b^4*c^17*d^5*e^9*f^2 - 27204*b^3*c^18*d^5*e^9*f^2 + 20972*b^2*c^19*d^5*e^9*f^2 + 3940*b*c^20*d^5*e^9*f^2 - 5652*c^21*d^5*e^9*f^2 + 2452*b^5*c^15*d^6*e^9*f^2 - 4380*b^4*c^16*d^6*e^9*f^2 - 4688*b^3*c^17*d^6*e^9*f^2 + 12180*b^2*c^18*d^6*e^9*f^2 - 3532*b*c^19*d^6*e^9*f^2 - 1968*c^20*d^6*e^9*f^2 - 780*b^4*c^15*d^7*e^9*f^2 + 348*b^3*c^16*d^7*e^9*f^2 + 2808*b^2*c^17*d^7*e^9*f^2 - 2812*b*c^18*d^7*e^9*f^2 + 356*c^19*d^7*e^9*f^2 + 80*b^3*c^15*d^8*e^9*f^2 + 132*b^2*c^16*d^8*e^9*f^2 - 444*b*c^17*d^8*e^9*f^2 + 200*c^18*d^8*e^9*f^2 - 12*b*c^16*d^9*e^9*f^2 + 12*c^17*d^9*e^9*f^2 + 4*b^9*c^16*e^10*f^2 - 24*b^8*c^17*e^10*f^2 + 56*b^7*c^18*e^10*f^2 - 48*b^6*c^19*e^10*f^2 - 12*b^5*c^20*e^10*f^2 + 40*b^4*c^21*e^10*f^2 - 16*b^3*c^22*e^10*f^2 - 12*b^9*c^15*d*e^10*f^2 - 92*b^8*c^16*d*e^10*f^2 + 900*b^7*c^17*d*e^10*f^2 - 2412*b^6*c^18*d*e^10*f^2 + 2576*b^5*c^19*d*e^10*f^2 - 696*b^4*c^20*d*e^10*f^2 - 552*b^3*c^21*d*e^10*f^2 + 288*b^2*c^22*d*e^10*f^2 + 204*b^8*c^15*d^2*e^10*f^2 + 164*b^7*c^16*d^2*e^10*f^2 - 5148*b^6*c^17*d^2*e^10*f^2 + 13260*b^5*c^18*d^2*e^10*f^2 - 11936*b^4*c^19*d^2*e^10*f^2 + 1512*b^3*c^20*d^2*e^10*f^2 + 3048*b^2*c^21*d^2*e^10*f^2 - 1104*b*c^22*d^2*e^10*f^2 - 896*b^7*c^15*d^3*e^10*f^2 + 1092*b^6*c^16*d^3*e^10*f^2 + 7244*b^5*c^17*d^3*e^10*f^2 - 16728*b^4*c^18*d^3*e^10*f^2 + 7840*b^3*c^19*d^3*e^10*f^2 + 6416*b^2*c^20*d^3*e^10*f^2 - 5976*b*c^21*d^3*e^10*f^2 + 1024*c^22*d^3*e^10*f^2 + 1528*b^6*c^15*d^4*e^10*f^2 - 3328*b^5*c^16*d^4*e^10*f^2 + 100*b^4*c^17*d^4*e^10*f^2 - 352*b^3*c^18*d^4*e^10*f^2 + 9616*b^2*c^19*d^4*e^10*f^2 - 10748*b*c^20*d^4*e^10*f^2 + 3184*c^21*d^4*e^10*f^2 - 1164*b^5*c^15*d^5*e^10*f^2 + 3388*b^4*c^16*d^5*e^10*f^2 - 5356*b^3*c^17*d^5*e^10*f^2 + 8580*b^2*c^18*d^5*e^10*f^2 - 8752*b*c^19*d^5*e^10*f^2 + 3272*c^20*d^5*e^10*f^2 + 380*b^4*c^15*d^6*e^10*f^2 - 1468*b^3*c^16*d^6*e^10*f^2 + 2820*b^2*c^17*d^6*e^10*f^2 - 3076*b*c^18*d^6*e^10*f^2 + 1344*c^19*d^6*e^10*f^2 - 40*b^3*c^15*d^7*e^10*f^2 + 252*b^2*c^16*d^7*e^10*f^2 - 420*b*c^17*d^7*e^10*f^2 + 224*c^18*d^7*e^10*f^2 - 12*b*c^16*d^8*e^10*f^2 + 12*c^17*d^8*e^10*f^2 + 4*b^8*c^16*e^11*f^2 - 20*b^7*c^17*e^11*f^2 + 36*b^6*c^18*e^11*f^2 - 28*b^5*c^19*e^11*f^2 + 8*b^4*c^20*e^11*f^2 - 76*b^7*c^16*d*e^11*f^2 + 292*b^6*c^17*d*e^11*f^2 - 348*b^5*c^18*d*e^11*f^2 + 76*b^4*c^19*d*e^11*f^2 + 104*b^3*c^20*d*e^11*f^2 - 48*b^2*c^21*d*e^11*f^2 + 100*b^6*c^16*d^2*e^11*f^2 + 132*b^5*c^17*d^2*e^11*f^2 - 1368*b^4*c^18*d^2*e^11*f^2 + 2216*b^3*c^19*d^2*e^11*f^2 - 1368*b^2*c^20*d^2*e^11*f^2 + 288*b*c^21*d^2*e^11*f^2 + 620*b^5*c^16*d^3*e^11*f^2 - 3540*b^4*c^17*d^3*e^11*f^2 + 7048*b^3*c^18*d^3*e^11*f^2 - 6248*b^2*c^19*d^3*e^11*f^2 + 2424*b*c^20*d^3*e^11*f^2 - 304*c^21*d^3*e^11*f^2 - 1340*b^4*c^16*d^4*e^11*f^2 + 5220*b^3*c^17*d^4*e^11*f^2 - 7308*b^2*c^18*d^4*e^11*f^2 + 4340*b*c^19*d^4*e^11*f^2 - 912*c^20*d^4*e^11*f^2 + 884*b^3*c^16*d^5*e^11*f^2 - 2532*b^2*c^17*d^5*e^11*f^2 + 2388*b*c^18*d^5*e^11*f^2 - 740*c^19*d^5*e^11*f^2 - 204*b^2*c^16*d^6*e^11*f^2 + 396*b*c^17*d^6*e^11*f^2 - 192*c^18*d^6*e^11*f^2 + 12*b*c^16*d^7*e^11*f^2 - 12*c^17*d^7*e^11*f^2 - 8*b^9*c^22*d^3*f^3 + 40*b^8*c^23*d^3*f^3 - 24*b^7*c^24*d^3*f^3 - 40*b^6*c^25*d^3*f^3 + 32*b^5*c^26*d^3*f^3 + 4*b^9*c^21*d^4*f^3 + 64*b^8*c^22*d^4*f^3 - 76*b^7*c^23*d^4*f^3 - 52*b^6*c^24*d^4*f^3 + 56*b^5*c^25*d^4*f^3 + 4*b^4*c^26*d^4*f^3 + 4*b^9*c^20*d^5*f^3 + 36*b^8*c^21*d^5*f^3 - 76*b^7*c^22*d^5*f^3 - 12*b^6*c^23*d^5*f^3 + 24*b^5*c^24*d^5*f^3 + 88*b^4*c^25*d^5*f^3 - 64*b^3*c^26*d^5*f^3 + 8*b^8*c^20*d^6*f^3 - 48*b^7*c^21*d^6*f^3 - 56*b^6*c^22*d^6*f^3 + 96*b^5*c^23*d^6*f^3 + 120*b^4*c^24*d^6*f^3 - 112*b^3*c^25*d^6*f^3 - 8*b^2*c^26*d^6*f^3 - 16*b^7*c^20*d^7*f^3 - 40*b^6*c^21*d^7*f^3 + 128*b^5*c^22*d^7*f^3 - 64*b^4*c^23*d^7*f^3 + 16*b^3*c^24*d^7*f^3 - 56*b^2*c^25*d^7*f^3 + 32*b*c^26*d^7*f^3 - 8*b^6*c^20*d^8*f^3 + 52*b^5*c^21*d^8*f^3 - 32*b^4*c^22*d^8*f^3 + 4*b^3*c^23*d^8*f^3 - 76*b^2*c^24*d^8*f^3 + 56*b*c^25*d^8*f^3 + 4*c^26*d^8*f^3 + 12*b^5*c^20*d^9*f^3 + 4*b^4*c^21*d^9*f^3 - 44*b^3*c^22*d^9*f^3 + 36*b^2*c^23*d^9*f^3 - 16*b*c^24*d^9*f^3 + 8*c^25*d^9*f^3 - 8*b^3*c^21*d^10*f^3 + 24*b^2*c^22*d^10*f^3 - 24*b*c^23*d^10*f^3 + 8*c^24*d^10*f^3 + 8*b^9*c^22*d^2*e*f^3 - 56*b^8*c^23*d^2*e*f^3 + 40*b^7*c^24*d^2*e*f^3 + 56*b^6*c^25*d^2*e*f^3 - 48*b^5*c^26*d^2*e*f^3 - 32*b^9*c^21*d^3*e*f^3 + 104*b^8*c^22*d^3*e*f^3 - 168*b^7*c^23*d^3*e*f^3 + 8*b^6*c^24*d^3*e*f^3 + 232*b^5*c^25*d^3*e*f^3 - 144*b^4*c^26*d^3*e*f^3 + 28*b^9*c^20*d^4*e*f^3 + 140*b^8*c^21*d^4*e*f^3 - 904*b^7*c^22*d^4*e*f^3 + 728*b^6*c^23*d^4*e*f^3 + 668*b^5*c^24*d^4*e*f^3 - 868*b^4*c^25*d^4*e*f^3 + 208*b^3*c^26*d^4*e*f^3 - 12*b^8*c^20*d^5*e*f^3 - 684*b^7*c^21*d^5*e*f^3 + 1192*b^6*c^22*d^5*e*f^3 - 100*b^5*c^23*d^5*e*f^3 - 500*b^4*c^24*d^5*e*f^3 - 72*b^3*c^25*d^5*e*f^3 + 176*b^2*c^26*d^5*e*f^3 - 24*b^8*c^19*d^6*e*f^3 - 256*b^7*c^20*d^6*e*f^3 + 788*b^6*c^21*d^6*e*f^3 - 72*b^5*c^22*d^6*e*f^3 - 252*b^4*c^23*d^6*e*f^3 - 976*b^3*c^24*d^6*e*f^3 + 952*b^2*c^25*d^6*e*f^3 - 160*b*c^26*d^6*e*f^3 + 8*b^7*c^19*d^7*e*f^3 + 264*b^6*c^20*d^7*e*f^3 + 208*b^5*c^21*d^7*e*f^3 - 888*b^4*c^22*d^7*e*f^3 + 24*b^3*c^23*d^7*e*f^3 + 576*b^2*c^24*d^7*e*f^3 - 160*b*c^25*d^7*e*f^3 - 32*c^26*d^7*e*f^3 + 56*b^6*c^19*d^8*e*f^3 + 44*b^5*c^20*d^8*e*f^3 - 548*b^4*c^21*d^8*e*f^3 + 600*b^3*c^22*d^8*e*f^3 - 248*b^2*c^23*d^8*e*f^3 + 236*b*c^24*d^8*e*f^3 - 140*c^25*d^8*e*f^3 - 40*b^5*c^19*d^9*e*f^3 - 92*b^4*c^20*d^9*e*f^3 + 188*b^3*c^21*d^9*e*f^3 - 88*b^2*c^22*d^9*e*f^3 + 84*b*c^23*d^9*e*f^3 - 52*c^24*d^9*e*f^3 + 24*b^3*c^20*d^10*e*f^3 - 60*b^2*c^21*d^10*e*f^3 + 48*b*c^22*d^10*e*f^3 - 12*c^23*d^10*e*f^3 + 8*b^9*c^22*d*e^2*f^3 - 8*b^8*c^23*d*e^2*f^3 - 8*b^7*c^24*d*e^2*f^3 + 8*b^6*c^25*d*e^2*f^3 - 8*b^9*c^21*d^2*e^2*f^3 - 128*b^8*c^22*d^2*e^2*f^3 + 336*b^7*c^23*d^2*e^2*f^3 - 48*b^6*c^24*d^2*e^2*f^3 - 360*b^5*c^25*d^2*e^2*f^3 + 208*b^4*c^26*d^2*e^2*f^3 - 8*b^9*c^20*d^3*e^2*f^3 + 136*b^8*c^21*d^3*e^2*f^3 + 96*b^7*c^22*d^3*e^2*f^3 - 248*b^6*c^23*d^3*e^2*f^3 - 200*b^5*c^24*d^3*e^2*f^3 + 224*b^4*c^25*d^3*e^2*f^3 + 32*b^9*c^19*d^4*e^2*f^3 - 4*b^8*c^20*d^4*e^2*f^3 - 1448*b^7*c^21*d^4*e^2*f^3 + 3636*b^6*c^22*d^4*e^2*f^3 - 1560*b^5*c^23*d^4*e^2*f^3 - 2472*b^4*c^24*d^4*e^2*f^3 + 2344*b^3*c^25*d^4*e^2*f^3 - 528*b^2*c^26*d^4*e^2*f^3 - 8*b^9*c^18*d^5*e^2*f^3 - 192*b^8*c^19*d^5*e^2*f^3 - 524*b^7*c^20*d^5*e^2*f^3 + 4888*b^6*c^21*d^5*e^2*f^3 - 6116*b^5*c^22*d^5*e^2*f^3 - 520*b^4*c^23*d^5*e^2*f^3 + 4312*b^3*c^24*d^5*e^2*f^3 - 2048*b^2*c^25*d^5*e^2*f^3 + 224*b*c^26*d^5*e^2*f^3 + 8*b^8*c^18*d^6*e^2*f^3 + 96*b^7*c^19*d^6*e^2*f^3 + 1992*b^6*c^20*d^6*e^2*f^3 - 4144*b^5*c^21*d^6*e^2*f^3 + 576*b^4*c^22*d^6*e^2*f^3 + 1984*b^3*c^23*d^6*e^2*f^3 + 64*b^2*c^24*d^6*e^2*f^3 - 672*b*c^25*d^6*e^2*f^3 + 96*c^26*d^6*e^2*f^3 + 56*b^7*c^18*d^7*e^2*f^3 + 320*b^6*c^19*d^7*e^2*f^3 - 2064*b^5*c^20*d^7*e^2*f^3 + 720*b^4*c^21*d^7*e^2*f^3 + 1488*b^3*c^22*d^7*e^2*f^3 + 712*b^2*c^23*d^7*e^2*f^3 - 1768*b*c^24*d^7*e^2*f^3 + 504*c^25*d^7*e^2*f^3 - 104*b^6*c^18*d^8*e^2*f^3 - 336*b^5*c^19*d^8*e^2*f^3 + 556*b^4*c^20*d^8*e^2*f^3 - 80*b^3*c^21*d^8*e^2*f^3 + 700*b^2*c^22*d^8*e^2*f^3 - 984*b*c^23*d^8*e^2*f^3 + 248*c^24*d^8*e^2*f^3 + 48*b^5*c^18*d^9*e^2*f^3 + 96*b^4*c^19*d^9*e^2*f^3 + 4*b^3*c^20*d^9*e^2*f^3 + 112*b^2*c^21*d^9*e^2*f^3 - 404*b*c^22*d^9*e^2*f^3 + 160*c^23*d^9*e^2*f^3 - 16*b^3*c^19*d^10*e^2*f^3 + 48*b^2*c^20*d^10*e^2*f^3 - 48*b*c^21*d^10*e^2*f^3 + 16*c^22*d^10*e^2*f^3 - 8*b^9*c^22*e^3*f^3 + 24*b^8*c^23*e^3*f^3 - 8*b^7*c^24*e^3*f^3 - 24*b^6*c^25*e^3*f^3 + 16*b^5*c^26*e^3*f^3 + 48*b^9*c^21*d*e^3*f^3 - 120*b^8*c^22*d*e^3*f^3 + 40*b^7*c^23*d*e^3*f^3 + 88*b^6*c^24*d*e^3*f^3 - 56*b^5*c^25*d*e^3*f^3 - 104*b^9*c^20*d^2*e^3*f^3 - 144*b^8*c^21*d^2*e^3*f^3 + 1256*b^7*c^22*d^2*e^3*f^3 - 1184*b^6*c^23*d^2*e^3*f^3 - 496*b^5*c^24*d^2*e^3*f^3 + 960*b^4*c^25*d^2*e^3*f^3 - 288*b^3*c^26*d^2*e^3*f^3 + 112*b^9*c^19*d^3*e^3*f^3 + 184*b^8*c^20*d^3*e^3*f^3 + 64*b^7*c^21*d^3*e^3*f^3 - 1960*b^6*c^22*d^3*e^3*f^3 + 1520*b^5*c^23*d^3*e^3*f^3 + 1248*b^4*c^24*d^3*e^3*f^3 - 1552*b^3*c^25*d^3*e^3*f^3 + 384*b^2*c^26*d^3*e^3*f^3 - 56*b^9*c^18*d^4*e^3*f^3 - 532*b^8*c^19*d^4*e^3*f^3 + 560*b^7*c^20*d^4*e^3*f^3 + 3416*b^6*c^21*d^4*e^3*f^3 - 6584*b^5*c^22*d^4*e^3*f^3 + 2924*b^4*c^23*d^4*e^3*f^3 + 1064*b^3*c^24*d^4*e^3*f^3 - 792*b^2*c^25*d^4*e^3*f^3 + 16*b*c^26*d^4*e^3*f^3 - 120*b^8*c^18*d^5*e^3*f^3 + 940*b^7*c^19*d^5*e^3*f^3 + 4304*b^6*c^20*d^5*e^3*f^3 - 16916*b^5*c^21*d^5*e^3*f^3 + 16192*b^4*c^22*d^5*e^3*f^3 - 1472*b^3*c^23*d^5*e^3*f^3 - 4696*b^2*c^24*d^5*e^3*f^3 + 1864*b*c^25*d^5*e^3*f^3 - 128*c^26*d^5*e^3*f^3 + 24*b^8*c^17*d^6*e^3*f^3 + 848*b^7*c^18*d^6*e^3*f^3 + 164*b^6*c^19*d^6*e^3*f^3 - 10472*b^5*c^20*d^6*e^3*f^3 + 15364*b^4*c^21*d^6*e^3*f^3 - 2680*b^3*c^22*d^6*e^3*f^3 - 5968*b^2*c^23*d^6*e^3*f^3 + 3088*b*c^24*d^6*e^3*f^3 - 400*c^25*d^6*e^3*f^3 - 72*b^7*c^17*d^7*e^3*f^3 - 496*b^6*c^18*d^7*e^3*f^3 - 1280*b^5*c^19*d^7*e^3*f^3 + 3496*b^4*c^20*d^7*e^3*f^3 + 3568*b^3*c^21*d^7*e^3*f^3 - 9128*b^2*c^22*d^7*e^3*f^3 + 4392*b*c^23*d^7*e^3*f^3 - 416*c^24*d^7*e^3*f^3 + 72*b^6*c^17*d^8*e^3*f^3 - 424*b^5*c^18*d^8*e^3*f^3 + 940*b^4*c^19*d^8*e^3*f^3 + 2640*b^3*c^20*d^8*e^3*f^3 - 6376*b^2*c^21*d^8*e^3*f^3 + 3312*b*c^22*d^8*e^3*f^3 - 148*c^23*d^8*e^3*f^3 - 24*b^5*c^17*d^9*e^3*f^3 + 264*b^4*c^18*d^9*e^3*f^3 - 28*b^3*c^19*d^9*e^3*f^3 - 1520*b^2*c^20*d^9*e^3*f^3 + 1684*b*c^21*d^9*e^3*f^3 - 408*c^22*d^9*e^3*f^3 - 16*b^3*c^18*d^10*e^3*f^3 - 60*b^2*c^19*d^10*e^3*f^3 + 144*b*c^20*d^10*e^3*f^3 - 68*c^21*d^10*e^3*f^3 - 12*b^9*c^21*e^4*f^3 + 80*b^8*c^22*e^4*f^3 - 132*b^7*c^23*e^4*f^3 + 4*b^6*c^24*e^4*f^3 + 128*b^5*c^25*e^4*f^3 - 68*b^4*c^26*e^4*f^3 + 44*b^9*c^20*d*e^4*f^3 - 116*b^8*c^21*d*e^4*f^3 - 204*b^7*c^22*d*e^4*f^3 + 412*b^6*c^23*d*e^4*f^3 - 200*b^4*c^25*d*e^4*f^3 + 64*b^3*c^26*d*e^4*f^3 - 80*b^9*c^19*d^2*e^4*f^3 - 76*b^8*c^20*d^2*e^4*f^3 + 2612*b^7*c^21*d^2*e^4*f^3 - 5436*b^6*c^22*d^2*e^4*f^3 + 1900*b^5*c^23*d^2*e^4*f^3 + 2768*b^4*c^24*d^2*e^4*f^3 - 1824*b^3*c^25*d^2*e^4*f^3 + 136*b^2*c^26*d^2*e^4*f^3 + 80*b^9*c^18*d^3*e^4*f^3 + 256*b^8*c^19*d^3*e^4*f^3 - 52*b^7*c^20*d^3*e^4*f^3 - 7348*b^6*c^21*d^3*e^4*f^3 + 11980*b^5*c^22*d^3*e^4*f^3 - 3236*b^4*c^23*d^3*e^4*f^3 - 3472*b^3*c^24*d^3*e^4*f^3 + 1904*b^2*c^25*d^3*e^4*f^3 - 192*b*c^26*d^3*e^4*f^3 - 76*b^9*c^17*d^4*e^4*f^3 - 604*b^8*c^18*d^4*e^4*f^3 + 3552*b^7*c^19*d^4*e^4*f^3 - 5248*b^6*c^20*d^4*e^4*f^3 + 100*b^5*c^21*d^4*e^4*f^3 + 2376*b^4*c^22*d^4*e^4*f^3 + 1708*b^3*c^23*d^4*e^4*f^3 - 2508*b^2*c^24*d^4*e^4*f^3 + 544*b*c^25*d^4*e^4*f^3 + 60*c^26*d^4*e^4*f^3 + 4*b^9*c^16*d^5*e^4*f^3 + 420*b^8*c^17*d^5*e^4*f^3 + 2820*b^7*c^18*d^5*e^4*f^3 - 11536*b^6*c^19*d^5*e^4*f^3 + 1424*b^5*c^20*d^5*e^4*f^3 + 22860*b^4*c^21*d^5*e^4*f^3 - 21140*b^3*c^22*d^5*e^4*f^3 + 4172*b^2*c^23*d^5*e^4*f^3 + 1520*b*c^24*d^5*e^4*f^3 - 552*c^25*d^5*e^4*f^3 - 16*b^8*c^16*d^6*e^4*f^3 - 128*b^7*c^17*d^6*e^4*f^3 - 4640*b^6*c^18*d^6*e^4*f^3 - 856*b^5*c^19*d^6*e^4*f^3 + 29812*b^4*c^20*d^6*e^4*f^3 - 39908*b^3*c^21*d^6*e^4*f^3 + 19668*b^2*c^22*d^6*e^4*f^3 - 4532*b*c^23*d^6*e^4*f^3 + 728*c^24*d^6*e^4*f^3 + 24*b^7*c^16*d^7*e^4*f^3 - 1416*b^6*c^17*d^7*e^4*f^3 + 1160*b^5*c^18*d^7*e^4*f^3 + 19176*b^4*c^19*d^7*e^4*f^3 - 39396*b^3*c^20*d^7*e^4*f^3 + 26292*b^2*c^21*d^7*e^4*f^3 - 5612*b*c^22*d^7*e^4*f^3 - 36*c^23*d^7*e^4*f^3 - 16*b^6*c^16*d^8*e^4*f^3 + 1684*b^5*c^17*d^8*e^4*f^3 + 1668*b^4*c^18*d^8*e^4*f^3 - 13544*b^3*c^19*d^8*e^4*f^3 + 15672*b^2*c^20*d^8*e^4*f^3 - 5576*b*c^21*d^8*e^4*f^3 + 80*c^22*d^8*e^4*f^3 + 4*b^5*c^16*d^9*e^4*f^3 - 508*b^4*c^17*d^9*e^4*f^3 - 988*b^3*c^18*d^9*e^4*f^3 + 3400*b^2*c^19*d^9*e^4*f^3 - 2468*b*c^20*d^9*e^4*f^3 + 456*c^21*d^9*e^4*f^3 + 24*b^3*c^17*d^10*e^4*f^3 + 120*b^2*c^18*d^10*e^4*f^3 - 240*b*c^19*d^10*e^4*f^3 + 96*c^20*d^10*e^4*f^3 + 20*b^9*c^20*e^5*f^3 + 12*b^8*c^21*e^5*f^3 - 200*b^7*c^22*e^5*f^3 + 240*b^6*c^23*e^5*f^3 + 52*b^5*c^24*e^5*f^3 - 204*b^4*c^25*e^5*f^3 + 80*b^3*c^26*e^5*f^3 - 96*b^9*c^19*d*e^5*f^3 + 140*b^8*c^20*d*e^5*f^3 - 820*b^7*c^21*d*e^5*f^3 + 2304*b^6*c^22*d*e^5*f^3 - 1148*b^5*c^23*d*e^5*f^3 - 1316*b^4*c^24*d*e^5*f^3 + 1080*b^3*c^25*d*e^5*f^3 - 144*b^2*c^26*d*e^5*f^3 + 176*b^9*c^18*d^2*e^5*f^3 + 484*b^8*c^19*d^2*e^5*f^3 - 1576*b^7*c^20*d^2*e^5*f^3 - 948*b^6*c^21*d^2*e^5*f^3 + 4672*b^5*c^22*d^2*e^5*f^3 - 1504*b^4*c^23*d^2*e^5*f^3 - 2584*b^3*c^24*d^2*e^5*f^3 + 1280*b^2*c^25*d^2*e^5*f^3 + 48*b*c^26*d^2*e^5*f^3 - 128*b^9*c^17*d^3*e^5*f^3 - 464*b^8*c^18*d^3*e^5*f^3 - 20*b^7*c^19*d^3*e^5*f^3 - 6592*b^6*c^20*d^3*e^5*f^3 + 25996*b^5*c^21*d^3*e^5*f^3 - 20440*b^4*c^22*d^3*e^5*f^3 - 5888*b^3*c^23*d^3*e^5*f^3 + 10584*b^2*c^24*d^3*e^5*f^3 - 2744*b*c^25*d^3*e^5*f^3 + 16*c^26*d^3*e^5*f^3 + 28*b^9*c^16*d^4*e^5*f^3 + 644*b^8*c^17*d^4*e^5*f^3 - 576*b^7*c^18*d^4*e^5*f^3 - 7948*b^6*c^19*d^4*e^5*f^3 + 27808*b^5*c^20*d^4*e^5*f^3 - 26076*b^4*c^21*d^4*e^5*f^3 + 3960*b^3*c^22*d^4*e^5*f^3 + 3848*b^2*c^23*d^4*e^5*f^3 - 1948*b*c^24*d^4*e^5*f^3 + 588*c^25*d^4*e^5*f^3 + 132*b^8*c^16*d^5*e^5*f^3 - 84*b^7*c^17*d^5*e^5*f^3 - 11600*b^6*c^18*d^5*e^5*f^3 + 38384*b^5*c^19*d^5*e^5*f^3 - 33296*b^4*c^20*d^5*e^5*f^3 + 5156*b^3*c^21*d^5*e^5*f^3 - 4720*b^2*c^22*d^5*e^5*f^3 + 8412*b*c^23*d^5*e^5*f^3 - 2228*c^24*d^5*e^5*f^3 - 1104*b^7*c^16*d^6*e^5*f^3 - 3972*b^6*c^17*d^6*e^5*f^3 + 39504*b^5*c^18*d^6*e^5*f^3 - 65212*b^4*c^19*d^6*e^5*f^3 + 37832*b^3*c^20*d^6*e^5*f^3 - 13948*b^2*c^21*d^6*e^5*f^3 + 9936*b*c^22*d^6*e^5*f^3 - 3320*c^23*d^6*e^5*f^3 + 1960*b^6*c^16*d^7*e^5*f^3 + 6960*b^5*c^17*d^7*e^5*f^3 - 37152*b^4*c^18*d^7*e^5*f^3 + 45428*b^3*c^19*d^7*e^5*f^3 - 23824*b^2*c^20*d^7*e^5*f^3 + 5540*b*c^21*d^7*e^5*f^3 + 200*c^22*d^7*e^5*f^3 - 1284*b^5*c^16*d^8*e^5*f^3 - 4492*b^4*c^17*d^8*e^5*f^3 + 13232*b^3*c^18*d^8*e^5*f^3 - 12684*b^2*c^19*d^8*e^5*f^3 + 5292*b*c^20*d^8*e^5*f^3 - 160*c^21*d^8*e^5*f^3 + 276*b^4*c^16*d^9*e^5*f^3 + 1156*b^3*c^17*d^9*e^5*f^3 - 2176*b^2*c^18*d^9*e^5*f^3 + 1456*b*c^19*d^9*e^5*f^3 - 300*c^20*d^9*e^5*f^3 - 8*b^3*c^16*d^10*e^5*f^3 - 84*b^2*c^17*d^10*e^5*f^3 + 144*b*c^18*d^10*e^5*f^3 - 48*c^19*d^10*e^5*f^3 + 36*b^9*c^19*e^6*f^3 - 112*b^8*c^20*e^6*f^3 - 88*b^7*c^21*e^6*f^3 + 524*b^6*c^22*e^6*f^3 - 412*b^5*c^23*e^6*f^3 - 68*b^4*c^24*e^6*f^3 + 136*b^3*c^25*e^6*f^3 - 16*b^2*c^26*e^6*f^3 - 132*b^9*c^18*d*e^6*f^3 - 44*b^8*c^19*d*e^6*f^3 + 1196*b^7*c^20*d*e^6*f^3 + 224*b^6*c^21*d*e^6*f^3 - 3528*b^5*c^22*d*e^6*f^3 + 1388*b^4*c^23*d*e^6*f^3 + 2008*b^3*c^24*d*e^6*f^3 - 1144*b^2*c^25*d*e^6*f^3 + 32*b*c^26*d*e^6*f^3 + 184*b^9*c^17*d^2*e^6*f^3 + 964*b^8*c^18*d^2*e^6*f^3 - 6028*b^7*c^19*d^2*e^6*f^3 + 10604*b^6*c^20*d^2*e^6*f^3 - 6784*b^5*c^21*d^2*e^6*f^3 - 4180*b^4*c^22*d^2*e^6*f^3 + 8416*b^3*c^23*d^2*e^6*f^3 - 4080*b^2*c^24*d^2*e^6*f^3 + 728*b*c^25*d^2*e^6*f^3 - 16*c^26*d^2*e^6*f^3 - 104*b^9*c^16*d^3*e^6*f^3 - 1368*b^8*c^17*d^3*e^6*f^3 - 624*b^7*c^18*d^3*e^6*f^3 + 20276*b^6*c^19*d^3*e^6*f^3 - 23948*b^5*c^20*d^3*e^6*f^3 - 12152*b^4*c^21*d^3*e^6*f^3 + 21176*b^3*c^22*d^3*e^6*f^3 - 1584*b^2*c^23*d^3*e^6*f^3 - 2456*b*c^24*d^3*e^6*f^3 + 280*c^25*d^3*e^6*f^3 + 40*b^9*c^15*d^4*e^6*f^3 + 964*b^8*c^16*d^4*e^6*f^3 + 136*b^7*c^17*d^4*e^6*f^3 - 1404*b^6*c^18*d^4*e^6*f^3 + 7752*b^5*c^19*d^4*e^6*f^3 - 30288*b^4*c^20*d^4*e^6*f^3 + 14104*b^3*c^21*d^4*e^6*f^3 + 22828*b^2*c^22*d^4*e^6*f^3 - 16900*b*c^23*d^4*e^6*f^3 + 2036*c^24*d^4*e^6*f^3 - 264*b^8*c^15*d^5*e^6*f^3 - 3380*b^7*c^16*d^5*e^6*f^3 + 11944*b^6*c^17*d^5*e^6*f^3 - 7376*b^5*c^18*d^5*e^6*f^3 - 22096*b^4*c^19*d^5*e^6*f^3 + 8348*b^3*c^20*d^5*e^6*f^3 + 37504*b^2*c^21*d^5*e^6*f^3 - 31440*b*c^22*d^5*e^6*f^3 + 6020*c^23*d^5*e^6*f^3 + 592*b^7*c^15*d^6*e^6*f^3 + 4840*b^6*c^16*d^6*e^6*f^3 - 22112*b^5*c^17*d^6*e^6*f^3 + 31476*b^4*c^18*d^6*e^6*f^3 - 41316*b^3*c^19*d^6*e^6*f^3 + 45572*b^2*c^20*d^6*e^6*f^3 - 19264*b*c^21*d^6*e^6*f^3 + 764*c^22*d^6*e^6*f^3 - 592*b^6*c^15*d^7*e^6*f^3 - 2688*b^5*c^16*d^7*e^6*f^3 + 13760*b^4*c^17*d^7*e^6*f^3 - 33480*b^3*c^18*d^7*e^6*f^3 + 43116*b^2*c^19*d^7*e^6*f^3 - 15484*b*c^20*d^7*e^6*f^3 - 2856*c^21*d^7*e^6*f^3 + 264*b^5*c^15*d^8*e^6*f^3 + 532*b^4*c^16*d^8*e^6*f^3 - 3344*b^3*c^17*d^8*e^6*f^3 + 12708*b^2*c^18*d^8*e^6*f^3 - 10300*b*c^19*d^8*e^6*f^3 + 528*c^20*d^8*e^6*f^3 - 40*b^4*c^15*d^9*e^6*f^3 - 36*b^3*c^16*d^9*e^6*f^3 + 528*b^2*c^17*d^9*e^6*f^3 - 1524*b*c^18*d^9*e^6*f^3 + 540*c^19*d^9*e^6*f^3 - 48*b*c^17*d^10*e^6*f^3 + 32*c^18*d^10*e^6*f^3 - 12*b^9*c^18*e^7*f^3 - 52*b^8*c^19*e^7*f^3 + 72*b^7*c^20*e^7*f^3 + 472*b^6*c^21*e^7*f^3 - 1052*b^5*c^22*e^7*f^3 + 636*b^4*c^23*e^7*f^3 + 32*b^3*c^24*e^7*f^3 - 96*b^2*c^25*e^7*f^3 + 48*b^9*c^17*d*e^7*f^3 - 92*b^8*c^18*d*e^7*f^3 + 1380*b^7*c^19*d*e^7*f^3 - 2432*b^6*c^20*d*e^7*f^3 - 2516*b^5*c^21*d*e^7*f^3 + 7164*b^4*c^22*d*e^7*f^3 - 3664*b^3*c^23*d*e^7*f^3 - 272*b^2*c^24*d*e^7*f^3 + 384*b*c^25*d*e^7*f^3 - 72*b^9*c^16*d^2*e^7*f^3 - 192*b^8*c^17*d^2*e^7*f^3 + 536*b^7*c^18*d^2*e^7*f^3 - 3068*b^6*c^19*d^2*e^7*f^3 + 4400*b^5*c^20*d^2*e^7*f^3 - 1852*b^4*c^21*d^2*e^7*f^3 + 3368*b^3*c^22*d^2*e^7*f^3 - 3992*b^2*c^23*d^2*e^7*f^3 + 1408*b*c^24*d^2*e^7*f^3 - 288*c^25*d^2*e^7*f^3 + 48*b^9*c^15*d^3*e^7*f^3 + 248*b^8*c^16*d^3*e^7*f^3 - 1920*b^7*c^17*d^3*e^7*f^3 + 16584*b^6*c^18*d^3*e^7*f^3 - 42524*b^5*c^19*d^3*e^7*f^3 + 20584*b^4*c^20*d^3*e^7*f^3 + 42432*b^3*c^21*d^3*e^7*f^3 - 47128*b^2*c^22*d^3*e^7*f^3 + 12112*b*c^23*d^3*e^7*f^3 - 16*c^24*d^3*e^7*f^3 - 252*b^8*c^15*d^4*e^7*f^3 + 1264*b^7*c^16*d^4*e^7*f^3 + 1848*b^6*c^17*d^4*e^7*f^3 - 33892*b^5*c^18*d^4*e^7*f^3 + 46564*b^4*c^19*d^4*e^7*f^3 + 26840*b^3*c^20*d^4*e^7*f^3 - 67448*b^2*c^21*d^4*e^7*f^3 + 27796*b*c^22*d^4*e^7*f^3 - 1508*c^23*d^4*e^7*f^3 - 428*b^7*c^15*d^5*e^7*f^3 - 5904*b^6*c^16*d^5*e^7*f^3 + 35444*b^5*c^17*d^5*e^7*f^3 - 76892*b^4*c^18*d^5*e^7*f^3 + 100692*b^3*c^19*d^5*e^7*f^3 - 61360*b^2*c^20*d^5*e^7*f^3 + 6644*b*c^21*d^5*e^7*f^3 + 3580*c^22*d^5*e^7*f^3 + 2956*b^6*c^15*d^6*e^7*f^3 + 10968*b^5*c^16*d^6*e^7*f^3 - 85276*b^4*c^17*d^6*e^7*f^3 + 162304*b^3*c^18*d^6*e^7*f^3 - 102876*b^2*c^19*d^6*e^7*f^3 - 3120*b*c^20*d^6*e^7*f^3 + 14076*c^21*d^6*e^7*f^3 - 3840*b^5*c^15*d^7*e^7*f^3 - 10520*b^4*c^16*d^7*e^7*f^3 + 66256*b^3*c^17*d^7*e^7*f^3 - 78832*b^2*c^18*d^7*e^7*f^3 + 14724*b*c^19*d^7*e^7*f^3 + 9704*c^20*d^7*e^7*f^3 + 1796*b^4*c^15*d^8*e^7*f^3 + 4816*b^3*c^16*d^8*e^7*f^3 - 19800*b^2*c^17*d^8*e^7*f^3 + 11768*b*c^18*d^8*e^7*f^3 + 904*c^19*d^8*e^7*f^3 - 292*b^3*c^15*d^9*e^7*f^3 - 912*b^2*c^16*d^9*e^7*f^3 + 1964*b*c^17*d^9*e^7*f^3 - 448*c^18*d^9*e^7*f^3 + 12*b^2*c^15*d^10*e^7*f^3 + 48*b*c^16*d^10*e^7*f^3 - 36*c^17*d^10*e^7*f^3 - 36*b^9*c^17*e^8*f^3 - 16*b^8*c^18*e^8*f^3 + 608*b^7*c^19*e^8*f^3 - 1204*b^6*c^20*e^8*f^3 + 628*b^5*c^21*e^8*f^3 + 268*b^4*c^22*e^8*f^3 - 296*b^3*c^23*e^8*f^3 + 48*b^2*c^24*e^8*f^3 + 100*b^9*c^16*d*e^8*f^3 + 468*b^8*c^17*d*e^8*f^3 - 2004*b^7*c^18*d*e^8*f^3 + 1368*b^6*c^19*d*e^8*f^3 - 1952*b^5*c^20*d*e^8*f^3 + 7532*b^4*c^21*d*e^8*f^3 - 7760*b^3*c^22*d*e^8*f^3 + 2152*b^2*c^23*d*e^8*f^3 + 96*b*c^24*d*e^8*f^3 - 96*b^9*c^15*d^2*e^8*f^3 - 1308*b^8*c^16*d^2*e^8*f^3 + 2876*b^7*c^17*d^2*e^8*f^3 + 2108*b^6*c^18*d^2*e^8*f^3 - 13768*b^5*c^19*d^2*e^8*f^3 + 31808*b^4*c^20*d^2*e^8*f^3 - 37128*b^3*c^21*d^2*e^8*f^3 + 16888*b^2*c^22*d^2*e^8*f^3 - 1080*b*c^23*d^2*e^8*f^3 - 336*c^24*d^2*e^8*f^3 + 40*b^9*c^14*d^3*e^8*f^3 + 936*b^8*c^15*d^3*e^8*f^3 + 2780*b^7*c^16*d^3*e^8*f^3 - 15252*b^6*c^17*d^3*e^8*f^3 + 11220*b^5*c^18*d^3*e^8*f^3 + 28128*b^4*c^19*d^3*e^8*f^3 - 51576*b^3*c^20*d^3*e^8*f^3 + 24408*b^2*c^21*d^3*e^8*f^3 + 1520*b*c^22*d^3*e^8*f^3 - 2440*c^23*d^3*e^8*f^3 - 420*b^8*c^14*d^4*e^8*f^3 - 3700*b^7*c^15*d^4*e^8*f^3 + 17028*b^6*c^16*d^4*e^8*f^3 - 39636*b^5*c^17*d^4*e^8*f^3 + 64308*b^4*c^18*d^4*e^8*f^3 - 41552*b^3*c^19*d^4*e^8*f^3 - 18460*b^2*c^20*d^4*e^8*f^3 + 27508*b*c^21*d^4*e^8*f^3 - 6692*c^22*d^4*e^8*f^3 + 1416*b^7*c^14*d^5*e^8*f^3 + 10588*b^6*c^15*d^5*e^8*f^3 - 75680*b^5*c^16*d^5*e^8*f^3 + 166404*b^4*c^17*d^5*e^8*f^3 - 133756*b^3*c^18*d^5*e^8*f^3 - 21208*b^2*c^19*d^5*e^8*f^3 + 67064*b*c^20*d^5*e^8*f^3 - 16932*c^21*d^5*e^8*f^3 - 2072*b^6*c^14*d^6*e^8*f^3 - 17784*b^5*c^15*d^6*e^8*f^3 + 98412*b^4*c^16*d^6*e^8*f^3 - 146636*b^3*c^17*d^6*e^8*f^3 + 38916*b^2*c^18*d^6*e^8*f^3 + 54520*b*c^19*d^6*e^8*f^3 - 24016*c^20*d^6*e^8*f^3 + 1416*b^5*c^14*d^7*e^8*f^3 + 14152*b^4*c^15*d^7*e^8*f^3 - 50204*b^3*c^16*d^7*e^8*f^3 + 37732*b^2*c^17*d^7*e^8*f^3 + 13372*b*c^18*d^7*e^8*f^3 - 14048*c^19*d^7*e^8*f^3 - 420*b^4*c^14*d^8*e^8*f^3 - 4924*b^3*c^15*d^8*e^8*f^3 + 9956*b^2*c^16*d^8*e^8*f^3 - 1176*b*c^17*d^8*e^8*f^3 - 3108*c^18*d^8*e^8*f^3 + 40*b^3*c^14*d^9*e^8*f^3 + 660*b^2*c^15*d^9*e^8*f^3 - 644*b*c^16*d^9*e^8*f^3 - 136*c^17*d^9*e^8*f^3 - 24*b*c^15*d^10*e^8*f^3 + 8*c^16*d^10*e^8*f^3 - 4*b^9*c^16*e^9*f^3 - 28*b^8*c^17*e^9*f^3 + 488*b^7*c^18*e^9*f^3 - 1568*b^6*c^19*e^9*f^3 + 1884*b^5*c^20*e^9*f^3 - 660*b^4*c^21*e^9*f^3 - 304*b^3*c^22*e^9*f^3 + 192*b^2*c^23*e^9*f^3 + 244*b^8*c^16*d*e^9*f^3 - 204*b^7*c^17*d*e^9*f^3 - 5728*b^6*c^18*d*e^9*f^3 + 18204*b^5*c^19*d*e^9*f^3 - 19756*b^4*c^20*d*e^9*f^3 + 6264*b^3*c^21*d*e^9*f^3 + 2128*b^2*c^22*d*e^9*f^3 - 1152*b*c^23*d*e^9*f^3 - 8*b^9*c^14*d^2*e^9*f^3 - 92*b^8*c^15*d^2*e^9*f^3 - 1440*b^7*c^16*d^2*e^9*f^3 + 7644*b^6*c^17*d^2*e^9*f^3 - 6768*b^5*c^18*d^2*e^9*f^3 - 6960*b^4*c^19*d^2*e^9*f^3 + 7000*b^3*c^20*d^2*e^9*f^3 + 5008*b^2*c^21*d^2*e^9*f^3 - 5776*b*c^22*d^2*e^9*f^3 + 1216*c^23*d^2*e^9*f^3 - 72*b^8*c^14*d^3*e^9*f^3 + 3644*b^7*c^15*d^3*e^9*f^3 - 11400*b^6*c^16*d^3*e^9*f^3 - 6356*b^5*c^17*d^3*e^9*f^3 + 64264*b^4*c^18*d^3*e^9*f^3 - 101384*b^3*c^19*d^3*e^9*f^3 + 69496*b^2*c^20*d^3*e^9*f^3 - 20440*b*c^21*d^3*e^9*f^3 + 2352*c^22*d^3*e^9*f^3 + 1192*b^7*c^14*d^4*e^9*f^3 - 21788*b^6*c^15*d^4*e^9*f^3 + 67292*b^5*c^16*d^4*e^9*f^3 - 34512*b^4*c^17*d^4*e^9*f^3 - 112392*b^3*c^18*d^4*e^9*f^3 + 162720*b^2*c^19*d^4*e^9*f^3 - 64660*b*c^20*d^4*e^9*f^3 + 3684*c^21*d^4*e^9*f^3 - 3864*b^6*c^14*d^5*e^9*f^3 + 42068*b^5*c^15*d^5*e^9*f^3 - 92692*b^4*c^16*d^5*e^9*f^3 + 17332*b^3*c^17*d^5*e^9*f^3 + 115360*b^2*c^18*d^5*e^9*f^3 - 88532*b*c^19*d^5*e^9*f^3 + 11540*c^20*d^5*e^9*f^3 + 4872*b^5*c^14*d^6*e^9*f^3 - 30800*b^4*c^15*d^6*e^9*f^3 + 35304*b^3*c^16*d^6*e^9*f^3 + 31028*b^2*c^17*d^6*e^9*f^3 - 57520*b*c^18*d^6*e^9*f^3 + 15856*c^19*d^6*e^9*f^3 - 2680*b^4*c^14*d^7*e^9*f^3 + 7540*b^3*c^15*d^7*e^9*f^3 + 3472*b^2*c^16*d^7*e^9*f^3 - 18292*b*c^17*d^7*e^9*f^3 + 8632*c^18*d^7*e^9*f^3 + 600*b^3*c^14*d^8*e^9*f^3 + 68*b^2*c^15*d^8*e^9*f^3 - 2752*b*c^16*d^8*e^9*f^3 + 1980*c^17*d^8*e^9*f^3 - 40*b^2*c^14*d^9*e^9*f^3 - 132*b*c^15*d^9*e^9*f^3 + 184*c^16*d^9*e^9*f^3 + 4*c^15*d^10*e^9*f^3 + 12*b^9*c^15*e^10*f^3 + 48*b^8*c^16*e^10*f^3 - 424*b^7*c^17*e^10*f^3 + 820*b^6*c^18*e^10*f^3 - 532*b^5*c^19*e^10*f^3 - 60*b^4*c^20*e^10*f^3 + 184*b^3*c^21*e^10*f^3 - 48*b^2*c^22*e^10*f^3 - 20*b^9*c^14*d*e^10*f^3 - 300*b^8*c^15*d*e^10*f^3 + 1020*b^7*c^16*d*e^10*f^3 - 1768*b^6*c^17*d*e^10*f^3 + 4984*b^5*c^18*d*e^10*f^3 - 9052*b^4*c^19*d*e^10*f^3 + 7064*b^3*c^20*d*e^10*f^3 - 2024*b^2*c^21*d*e^10*f^3 + 96*b*c^22*d*e^10*f^3 + 548*b^8*c^14*d^2*e^10*f^3 - 52*b^7*c^15*d^2*e^10*f^3 - 9276*b^6*c^16*d^2*e^10*f^3 + 37096*b^5*c^17*d^2*e^10*f^3 - 69340*b^4*c^18*d^2*e^10*f^3 + 63536*b^3*c^19*d^2*e^10*f^3 - 24480*b^2*c^20*d^2*e^10*f^3 + 1896*b*c^21*d^2*e^10*f^3 + 208*c^22*d^2*e^10*f^3 - 3776*b^7*c^14*d^3*e^10*f^3 + 10100*b^6*c^15*d^3*e^10*f^3 + 16020*b^5*c^16*d^3*e^10*f^3 - 96936*b^4*c^17*d^3*e^10*f^3 + 142256*b^3*c^18*d^3*e^10*f^3 - 78896*b^2*c^19*d^3*e^10*f^3 + 8008*b*c^20*d^3*e^10*f^3 + 3208*c^21*d^3*e^10*f^3 + 9784*b^6*c^14*d^4*e^10*f^3 - 27000*b^5*c^15*d^4*e^10*f^3 - 11400*b^4*c^16*d^4*e^10*f^3 + 100896*b^3*c^17*d^4*e^10*f^3 - 99412*b^2*c^18*d^4*e^10*f^3 + 19012*b*c^19*d^4*e^10*f^3 + 7292*c^20*d^4*e^10*f^3 - 11156*b^5*c^14*d^5*e^10*f^3 + 23152*b^4*c^15*d^5*e^10*f^3 + 13532*b^3*c^16*d^5*e^10*f^3 - 54528*b^2*c^17*d^5*e^10*f^3 + 25976*b*c^18*d^5*e^10*f^3 + 2732*c^19*d^5*e^10*f^3 + 5780*b^4*c^14*d^6*e^10*f^3 - 6396*b^3*c^15*d^6*e^10*f^3 - 11412*b^2*c^16*d^6*e^10*f^3 + 15168*b*c^17*d^6*e^10*f^3 - 2468*c^18*d^6*e^10*f^3 - 1240*b^3*c^14*d^7*e^10*f^3 - 20*b^2*c^15*d^7*e^10*f^3 + 3060*b*c^16*d^7*e^10*f^3 - 1488*c^17*d^7*e^10*f^3 + 80*b^2*c^14*d^8*e^10*f^3 + 124*b*c^15*d^8*e^10*f^3 - 184*c^16*d^8*e^10*f^3 - 4*c^15*d^9*e^10*f^3 + 4*b^9*c^14*e^11*f^3 + 44*b^8*c^15*e^11*f^3 - 352*b^7*c^16*e^11*f^3 + 880*b^6*c^17*e^11*f^3 - 900*b^5*c^18*e^11*f^3 + 228*b^4*c^19*e^11*f^3 + 192*b^3*c^20*e^11*f^3 - 96*b^2*c^21*e^11*f^3 - 172*b^8*c^14*d*e^11*f^3 - 396*b^7*c^15*d*e^11*f^3 + 5768*b^6*c^16*d*e^11*f^3 - 14484*b^5*c^17*d*e^11*f^3 + 13908*b^4*c^18*d*e^11*f^3 - 3680*b^3*c^19*d*e^11*f^3 - 1712*b^2*c^20*d*e^11*f^3 + 768*b*c^21*d*e^11*f^3 + 1440*b^7*c^14*d^2*e^11*f^3 - 452*b^6*c^15*d^2*e^11*f^3 - 19424*b^5*c^16*d^2*e^11*f^3 + 44332*b^4*c^17*d^2*e^11*f^3 - 31624*b^3*c^18*d^2*e^11*f^3 + 776*b^2*c^19*d^2*e^11*f^3 + 6112*b*c^20*d^2*e^11*f^3 - 1184*c^21*d^2*e^11*f^3 - 4128*b^6*c^14*d^3*e^11*f^3 + 6028*b^5*c^15*d^3*e^11*f^3 + 15640*b^4*c^16*d^3*e^11*f^3 - 30312*b^3*c^17*d^3*e^11*f^3 + 4040*b^2*c^18*d^3*e^11*f^3 + 14144*b*c^19*d^3*e^11*f^3 - 5424*c^20*d^3*e^11*f^3 + 4996*b^5*c^14*d^4*e^11*f^3 - 10560*b^4*c^15*d^4*e^11*f^3 + 6080*b^3*c^16*d^4*e^11*f^3 - 9688*b^2*c^17*d^4*e^11*f^3 + 17484*b*c^18*d^4*e^11*f^3 - 8140*c^19*d^4*e^11*f^3 - 2700*b^4*c^14*d^5*e^11*f^3 + 7132*b^3*c^15*d^5*e^11*f^3 - 9944*b^2*c^16*d^5*e^11*f^3 + 10748*b*c^17*d^5*e^11*f^3 - 5212*c^18*d^5*e^11*f^3 + 600*b^3*c^14*d^6*e^11*f^3 - 1988*b^2*c^15*d^6*e^11*f^3 + 2720*b*c^16*d^6*e^11*f^3 - 1476*c^17*d^6*e^11*f^3 - 40*b^2*c^14*d^7*e^11*f^3 + 196*b*c^15*d^7*e^11*f^3 - 168*c^16*d^7*e^11*f^3 - 4*c^15*d^8*e^11*f^3 + 36*b^7*c^15*e^12*f^3 - 144*b^6*c^16*e^12*f^3 + 188*b^5*c^17*e^12*f^3 - 72*b^4*c^18*e^12*f^3 - 24*b^3*c^19*e^12*f^3 + 16*b^2*c^20*e^12*f^3 - 244*b^6*c^15*d*e^12*f^3 + 496*b^5*c^16*d*e^12*f^3 + 332*b^4*c^17*d*e^12*f^3 - 1376*b^3*c^18*d*e^12*f^3 + 1016*b^2*c^19*d*e^12*f^3 - 224*b*c^20*d*e^12*f^3 - 420*b^5*c^15*d^2*e^12*f^3 + 3760*b^4*c^16*d^2*e^12*f^3 - 8872*b^3*c^17*d^2*e^12*f^3 + 8464*b^2*c^18*d^2*e^12*f^3 - 3336*b*c^19*d^2*e^12*f^3 + 400*c^20*d^2*e^12*f^3 + 2820*b^4*c^15*d^3*e^12*f^3 - 11680*b^3*c^16*d^3*e^12*f^3 + 16792*b^2*c^17*d^3*e^12*f^3 - 9952*b*c^18*d^3*e^12*f^3 + 2024*c^19*d^3*e^12*f^3 - 3260*b^3*c^15*d^4*e^12*f^3 + 9440*b^2*c^16*d^4*e^12*f^3 - 8852*b*c^17*d^4*e^12*f^3 + 2680*c^18*d^4*e^12*f^3 + 1292*b^2*c^15*d^5*e^12*f^3 - 2480*b*c^16*d^5*e^12*f^3 + 1180*c^17*d^5*e^12*f^3 - 164*b*c^15*d^6*e^12*f^3 + 160*c^16*d^6*e^12*f^3 + 4*c^15*d^7*e^12*f^3 + 4*b^9*c^22*d^2*f^4 - 16*b^8*c^23*d^2*f^4 + 8*b^7*c^24*d^2*f^4 + 16*b^6*c^25*d^2*f^4 - 12*b^5*c^26*d^2*f^4 + 4*b^9*c^21*d^3*f^4 - 68*b^8*c^22*d^3*f^4 + 44*b^7*c^23*d^3*f^4 + 92*b^6*c^24*d^3*f^4 - 64*b^5*c^25*d^3*f^4 - 8*b^4*c^26*d^3*f^4 - 8*b^9*c^20*d^4*f^4 - 60*b^8*c^21*d^4*f^4 + 60*b^7*c^22*d^4*f^4 + 124*b^6*c^23*d^4*f^4 - 124*b^5*c^24*d^4*f^4 - 16*b^4*c^25*d^4*f^4 + 24*b^3*c^26*d^4*f^4 - 24*b^8*c^20*d^5*f^4 + 44*b^7*c^21*d^5*f^4 + 124*b^6*c^22*d^5*f^4 - 140*b^5*c^23*d^5*f^4 - 132*b^4*c^24*d^5*f^4 + 112*b^3*c^25*d^5*f^4 + 16*b^2*c^26*d^5*f^4 + 20*b^7*c^20*d^6*f^4 + 124*b^6*c^21*d^6*f^4 - 184*b^5*c^22*d^6*f^4 - 108*b^4*c^23*d^6*f^4 + 160*b^3*c^24*d^6*f^4 - 12*b*c^26*d^6*f^4 + 48*b^6*c^20*d^7*f^4 - 116*b^5*c^21*d^7*f^4 + 20*b^4*c^22*d^7*f^4 + 52*b^3*c^23*d^7*f^4 + 52*b^2*c^24*d^7*f^4 - 48*b*c^25*d^7*f^4 - 8*c^26*d^7*f^4 - 16*b^5*c^20*d^8*f^4 - 52*b^4*c^21*d^8*f^4 + 108*b^3*c^22*d^8*f^4 + 4*b^2*c^23*d^8*f^4 - 44*b*c^24*d^8*f^4 - 24*b^4*c^20*d^9*f^4 + 68*b^3*c^21*d^9*f^4 - 76*b^2*c^22*d^9*f^4 + 44*b*c^23*d^9*f^4 - 12*c^24*d^9*f^4 + 4*b^3*c^20*d^10*f^4 - 12*b^2*c^21*d^10*f^4 + 12*b*c^22*d^10*f^4 - 4*c^23*d^10*f^4 - 8*b^9*c^22*d*e*f^4 + 32*b^8*c^23*d*e*f^4 - 16*b^7*c^24*d*e*f^4 - 32*b^6*c^25*d*e*f^4 + 24*b^5*c^26*d*e*f^4 + 24*b^9*c^21*d^2*e*f^4 - 28*b^8*c^22*d^2*e*f^4 + 52*b^7*c^23*d^2*e*f^4 - 52*b^6*c^24*d^2*e*f^4 - 60*b^5*c^25*d^2*e*f^4 + 64*b^4*c^26*d^2*e*f^4 - 8*b^9*c^20*d^3*e*f^4 - 280*b^8*c^21*d^3*e*f^4 + 956*b^7*c^22*d^3*e*f^4 - 460*b^6*c^23*d^3*e*f^4 - 756*b^5*c^24*d^3*e*f^4 + 612*b^4*c^25*d^3*e*f^4 - 64*b^3*c^26*d^3*e*f^4 - 20*b^9*c^19*d^4*e*f^4 - 108*b^8*c^20*d^4*e*f^4 + 1424*b^7*c^21*d^4*e*f^4 - 1468*b^6*c^22*d^4*e*f^4 - 820*b^5*c^23*d^4*e*f^4 + 1184*b^4*c^24*d^4*e*f^4 - 80*b^3*c^25*d^4*e*f^4 - 112*b^2*c^26*d^4*e*f^4 + 36*b^8*c^19*d^5*e*f^4 + 804*b^7*c^20*d^5*e*f^4 - 1240*b^6*c^21*d^5*e*f^4 - 636*b^5*c^22*d^5*e*f^4 + 972*b^4*c^23*d^5*e*f^4 + 632*b^3*c^24*d^5*e*f^4 - 608*b^2*c^25*d^5*e*f^4 + 40*b*c^26*d^5*e*f^4 + 216*b^7*c^19*d^6*e*f^4 - 592*b^6*c^20*d^6*e*f^4 - 1200*b^5*c^21*d^6*e*f^4 + 2100*b^4*c^22*d^6*e*f^4 + 284*b^3*c^23*d^6*e*f^4 - 932*b^2*c^24*d^6*e*f^4 + 76*b*c^25*d^6*e*f^4 + 48*c^26*d^6*e*f^4 - 200*b^6*c^19*d^7*e*f^4 - 656*b^5*c^20*d^7*e*f^4 + 1856*b^4*c^21*d^7*e*f^4 - 1036*b^3*c^22*d^7*e*f^4 + 124*b^2*c^23*d^7*e*f^4 - 180*b*c^24*d^7*e*f^4 + 92*c^25*d^7*e*f^4 - 180*b^5*c^19*d^8*e*f^4 + 740*b^4*c^20*d^8*e*f^4 - 568*b^3*c^21*d^8*e*f^4 + 44*b^2*c^22*d^8*e*f^4 - 156*b*c^23*d^8*e*f^4 + 120*c^24*d^8*e*f^4 + 164*b^4*c^19*d^9*e*f^4 - 204*b^3*c^20*d^9*e*f^4 - 16*b^2*c^21*d^9*e*f^4 + 84*b*c^22*d^9*e*f^4 - 28*c^23*d^9*e*f^4 - 16*b^3*c^19*d^10*e*f^4 + 24*b^2*c^20*d^10*e*f^4 - 8*c^22*d^10*e*f^4 + 4*b^9*c^22*e^2*f^4 - 16*b^8*c^23*e^2*f^4 + 8*b^7*c^24*e^2*f^4 + 16*b^6*c^25*e^2*f^4 - 12*b^5*c^26*e^2*f^4 - 28*b^9*c^21*d*e^2*f^4 + 132*b^8*c^22*d*e^2*f^4 - 172*b^7*c^23*d*e^2*f^4 - 44*b^6*c^24*d*e^2*f^4 + 216*b^5*c^25*d*e^2*f^4 - 104*b^4*c^26*d*e^2*f^4 + 72*b^9*c^20*d^2*e^2*f^4 + 48*b^8*c^21*d^2*e^2*f^4 - 836*b^7*c^22*d^2*e^2*f^4 + 540*b^6*c^23*d^2*e^2*f^4 + 724*b^5*c^24*d^2*e^2*f^4 - 556*b^4*c^25*d^2*e^2*f^4 + 8*b^3*c^26*d^2*e^2*f^4 - 80*b^9*c^19*d^3*e^2*f^4 - 328*b^8*c^20*d^3*e^2*f^4 + 1832*b^7*c^21*d^3*e^2*f^4 - 2768*b^6*c^22*d^3*e^2*f^4 + 88*b^5*c^23*d^3*e^2*f^4 + 2776*b^4*c^24*d^3*e^2*f^4 - 1760*b^3*c^25*d^3*e^2*f^4 + 240*b^2*c^26*d^3*e^2*f^4 + 16*b^9*c^18*d^4*e^2*f^4 + 308*b^8*c^19*d^4*e^2*f^4 + 2272*b^7*c^20*d^4*e^2*f^4 - 9904*b^6*c^21*d^4*e^2*f^4 + 7580*b^5*c^22*d^4*e^2*f^4 + 4212*b^4*c^23*d^4*e^2*f^4 - 6112*b^3*c^24*d^4*e^2*f^4 + 1608*b^2*c^25*d^4*e^2*f^4 - 28*b*c^26*d^4*e^2*f^4 + 144*b^8*c^18*d^5*e^2*f^4 + 472*b^7*c^19*d^5*e^2*f^4 - 7924*b^6*c^20*d^5*e^2*f^4 + 11384*b^5*c^21*d^5*e^2*f^4 - 1796*b^4*c^22*d^5*e^2*f^4 - 2156*b^3*c^23*d^5*e^2*f^4 - 1004*b^2*c^24*d^5*e^2*f^4 + 936*b*c^25*d^5*e^2*f^4 - 104*c^26*d^5*e^2*f^4 - 392*b^7*c^18*d^6*e^2*f^4 - 2648*b^6*c^19*d^6*e^2*f^4 + 6716*b^5*c^20*d^6*e^2*f^4 - 588*b^4*c^21*d^6*e^2*f^4 - 2108*b^3*c^22*d^6*e^2*f^4 - 3692*b^2*c^23*d^6*e^2*f^4 + 3268*b*c^24*d^6*e^2*f^4 - 460*c^25*d^6*e^2*f^4 - 288*b^6*c^18*d^7*e^2*f^4 + 2624*b^5*c^19*d^7*e^2*f^4 + 272*b^4*c^20*d^7*e^2*f^4 - 4392*b^3*c^21*d^7*e^2*f^4 + 728*b^2*c^22*d^7*e^2*f^4 + 1216*b*c^23*d^7*e^2*f^4 - 64*c^24*d^7*e^2*f^4 + 864*b^5*c^18*d^8*e^2*f^4 - 796*b^4*c^19*d^8*e^2*f^4 - 1576*b^3*c^20*d^8*e^2*f^4 + 1544*b^2*c^21*d^8*e^2*f^4 - 192*b*c^22*d^8*e^2*f^4 + 108*c^23*d^8*e^2*f^4 - 368*b^4*c^18*d^9*e^2*f^4 - 8*b^3*c^19*d^9*e^2*f^4 + 620*b^2*c^20*d^9*e^2*f^4 - 444*b*c^21*d^9*e^2*f^4 + 152*c^22*d^9*e^2*f^4 + 24*b^3*c^18*d^10*e^2*f^4 - 60*b*c^20*d^10*e^2*f^4 + 36*c^21*d^10*e^2*f^4 - 36*b^8*c^22*e^3*f^4 + 76*b^7*c^23*e^3*f^4 + 4*b^6*c^24*e^3*f^4 - 92*b^5*c^25*e^3*f^4 + 48*b^4*c^26*e^3*f^4 + 208*b^8*c^21*d*e^3*f^4 - 404*b^7*c^22*d*e^3*f^4 + 116*b^6*c^23*d*e^3*f^4 + 260*b^5*c^24*d*e^3*f^4 - 260*b^4*c^25*d*e^3*f^4 + 80*b^3*c^26*d*e^3*f^4 + 24*b^9*c^19*d^2*e^3*f^4 - 144*b^8*c^20*d^2*e^3*f^4 - 1808*b^7*c^21*d^2*e^3*f^4 + 4024*b^6*c^22*d^2*e^3*f^4 - 96*b^5*c^23*d^2*e^3*f^4 - 4056*b^4*c^24*d^2*e^3*f^4 + 2264*b^3*c^25*d^2*e^3*f^4 - 208*b^2*c^26*d^2*e^3*f^4 - 64*b^9*c^18*d^3*e^3*f^4 + 112*b^8*c^19*d^3*e^3*f^4 + 1032*b^7*c^20*d^3*e^3*f^4 - 664*b^6*c^21*d^3*e^3*f^4 - 88*b^5*c^22*d^3*e^3*f^4 - 632*b^4*c^23*d^3*e^3*f^4 + 168*b^3*c^24*d^3*e^3*f^4 + 200*b^2*c^25*d^3*e^3*f^4 - 16*b*c^26*d^3*e^3*f^4 + 40*b^9*c^17*d^4*e^3*f^4 + 768*b^8*c^18*d^4*e^3*f^4 - 1068*b^7*c^19*d^4*e^3*f^4 - 10652*b^6*c^20*d^4*e^3*f^4 + 24776*b^5*c^21*d^4*e^3*f^4 - 8756*b^4*c^22*d^4*e^3*f^4 - 15180*b^3*c^23*d^4*e^3*f^4 + 12900*b^2*c^24*d^4*e^3*f^4 - 2812*b*c^25*d^4*e^3*f^4 + 96*c^26*d^4*e^3*f^4 - 168*b^8*c^17*d^5*e^3*f^4 - 1976*b^7*c^18*d^5*e^3*f^4 - 3492*b^6*c^19*d^5*e^3*f^4 + 28444*b^5*c^20*d^5*e^3*f^4 - 28232*b^4*c^21*d^5*e^3*f^4 - 6340*b^3*c^22*d^5*e^3*f^4 + 17596*b^2*c^23*d^5*e^3*f^4 - 6348*b*c^24*d^5*e^3*f^4 + 700*c^25*d^5*e^3*f^4 - 240*b^7*c^17*d^6*e^3*f^4 + 1088*b^6*c^18*d^6*e^3*f^4 + 12712*b^5*c^19*d^6*e^3*f^4 - 22296*b^4*c^20*d^6*e^3*f^4 + 720*b^3*c^21*d^6*e^3*f^4 + 9664*b^2*c^22*d^6*e^3*f^4 - 288*b*c^23*d^6*e^3*f^4 - 1520*c^24*d^6*e^3*f^4 + 1280*b^6*c^17*d^7*e^3*f^4 + 400*b^5*c^18*d^7*e^3*f^4 - 9424*b^4*c^19*d^7*e^3*f^4 + 5024*b^3*c^20*d^7*e^3*f^4 + 3208*b^2*c^21*d^7*e^3*f^4 + 848*b*c^22*d^7*e^3*f^4 - 1784*c^23*d^7*e^3*f^4 - 1256*b^5*c^17*d^8*e^3*f^4 - 288*b^4*c^18*d^8*e^3*f^4 + 1468*b^3*c^19*d^8*e^3*f^4 + 4*b^2*c^20*d^8*e^3*f^4 + 1336*b*c^21*d^8*e^3*f^4 - 1216*c^22*d^8*e^3*f^4 + 360*b^4*c^17*d^9*e^3*f^4 + 72*b^3*c^18*d^9*e^3*f^4 - 188*b^2*c^19*d^9*e^3*f^4 + 284*b*c^20*d^9*e^3*f^4 - 312*c^21*d^9*e^3*f^4 - 16*b^3*c^17*d^10*e^3*f^4 + 48*b*c^19*d^10*e^3*f^4 - 32*c^20*d^10*e^3*f^4 - 32*b^9*c^20*e^4*f^4 - 12*b^8*c^21*e^4*f^4 + 272*b^7*c^22*e^4*f^4 - 224*b^6*c^23*e^4*f^4 - 176*b^5*c^24*e^4*f^4 + 220*b^4*c^25*e^4*f^4 - 48*b^3*c^26*e^4*f^4 + 120*b^9*c^19*d*e^4*f^4 + 272*b^8*c^20*d*e^4*f^4 - 1492*b^7*c^21*d*e^4*f^4 + 1364*b^6*c^22*d*e^4*f^4 - 4*b^5*c^23*d*e^4*f^4 - 196*b^4*c^24*d*e^4*f^4 - 128*b^3*c^25*d*e^4*f^4 + 64*b^2*c^26*d*e^4*f^4 - 188*b^9*c^18*d^2*e^4*f^4 - 720*b^8*c^19*d^2*e^4*f^4 - 508*b^7*c^20*d^2*e^4*f^4 + 8716*b^6*c^21*d^2*e^4*f^4 - 9072*b^5*c^22*d^2*e^4*f^4 - 2316*b^4*c^23*d^2*e^4*f^4 + 5984*b^3*c^24*d^2*e^4*f^4 - 1864*b^2*c^25*d^2*e^4*f^4 + 16*b*c^26*d^2*e^4*f^4 + 148*b^9*c^17*d^3*e^4*f^4 + 1196*b^8*c^18*d^3*e^4*f^4 - 1604*b^7*c^19*d^3*e^4*f^4 + 2364*b^6*c^20*d^3*e^4*f^4 - 5088*b^5*c^21*d^3*e^4*f^4 - 2744*b^4*c^22*d^3*e^4*f^4 + 12472*b^3*c^23*d^3*e^4*f^4 - 8728*b^2*c^24*d^3*e^4*f^4 + 1952*b*c^25*d^3*e^4*f^4 - 32*c^26*d^3*e^4*f^4 - 8*b^9*c^16*d^4*e^4*f^4 - 148*b^8*c^17*d^4*e^4*f^4 - 4988*b^7*c^18*d^4*e^4*f^4 + 5340*b^6*c^19*d^4*e^4*f^4 + 21492*b^5*c^20*d^4*e^4*f^4 - 44564*b^4*c^21*d^4*e^4*f^4 + 27920*b^3*c^22*d^4*e^4*f^4 - 4184*b^2*c^23*d^4*e^4*f^4 - 688*b*c^24*d^4*e^4*f^4 - 180*c^25*d^4*e^4*f^4 - 120*b^8*c^16*d^5*e^4*f^4 - 2836*b^7*c^17*d^5*e^4*f^4 + 10648*b^6*c^18*d^5*e^4*f^4 + 17008*b^5*c^19*d^5*e^4*f^4 - 70428*b^4*c^20*d^5*e^4*f^4 + 57068*b^3*c^21*d^5*e^4*f^4 - 3180*b^2*c^22*d^5*e^4*f^4 - 11124*b*c^23*d^5*e^4*f^4 + 2844*c^24*d^5*e^4*f^4 + 692*b^7*c^16*d^6*e^4*f^4 + 4796*b^6*c^17*d^6*e^4*f^4 - 3284*b^5*c^18*d^6*e^4*f^4 - 33640*b^4*c^19*d^6*e^4*f^4 + 41244*b^3*c^20*d^6*e^4*f^4 + 2644*b^2*c^21*d^6*e^4*f^4 - 17968*b*c^22*d^6*e^4*f^4 + 5252*c^23*d^6*e^4*f^4 - 1136*b^6*c^16*d^7*e^4*f^4 + 572*b^5*c^17*d^7*e^4*f^4 - 8580*b^4*c^18*d^7*e^4*f^4 + 12284*b^3*c^19*d^7*e^4*f^4 + 9300*b^2*c^20*d^7*e^4*f^4 - 16184*b*c^21*d^7*e^4*f^4 + 4176*c^22*d^7*e^4*f^4 + 720*b^5*c^16*d^8*e^4*f^4 - 3020*b^4*c^17*d^8*e^4*f^4 + 5996*b^3*c^18*d^8*e^4*f^4 + 2796*b^2*c^19*d^8*e^4*f^4 - 9908*b*c^20*d^8*e^4*f^4 + 3648*c^21*d^8*e^4*f^4 - 152*b^4*c^16*d^9*e^4*f^4 + 932*b^3*c^17*d^9*e^4*f^4 - 800*b^2*c^18*d^9*e^4*f^4 - 1248*b*c^19*d^9*e^4*f^4 + 1020*c^20*d^9*e^4*f^4 + 4*b^3*c^16*d^10*e^4*f^4 - 60*b^2*c^17*d^10*e^4*f^4 + 48*c^19*d^10*e^4*f^4 - 28*b^9*c^19*e^5*f^4 + 20*b^8*c^20*e^5*f^4 + 664*b^7*c^21*e^5*f^4 - 1412*b^6*c^22*e^5*f^4 + 420*b^5*c^23*e^5*f^4 + 744*b^4*c^24*e^5*f^4 - 408*b^3*c^25*e^5*f^4 + 96*b^9*c^18*d*e^5*f^4 + 4*b^8*c^19*d*e^5*f^4 - 1540*b^7*c^20*d*e^5*f^4 + 1920*b^6*c^21*d*e^5*f^4 - 108*b^5*c^22*d*e^5*f^4 - 428*b^4*c^23*d*e^5*f^4 - 208*b^3*c^24*d*e^5*f^4 + 216*b^2*c^25*d*e^5*f^4 - 160*b^9*c^17*d^2*e^5*f^4 - 772*b^8*c^18*d^2*e^5*f^4 + 2048*b^7*c^19*d^2*e^5*f^4 + 13732*b^6*c^20*d^2*e^5*f^4 - 34704*b^5*c^21*d^2*e^5*f^4 + 20072*b^4*c^22*d^2*e^5*f^4 + 3808*b^3*c^23*d^2*e^5*f^4 - 4640*b^2*c^24*d^2*e^5*f^4 + 472*b*c^25*d^2*e^5*f^4 + 152*b^9*c^16*d^3*e^5*f^4 + 1248*b^8*c^17*d^3*e^5*f^4 - 3100*b^7*c^18*d^3*e^5*f^4 + 7664*b^6*c^19*d^3*e^5*f^4 - 34284*b^5*c^20*d^3*e^5*f^4 + 45816*b^4*c^21*d^3*e^5*f^4 - 17352*b^3*c^22*d^3*e^5*f^4 - 2608*b^2*c^23*d^3*e^5*f^4 + 2192*b*c^24*d^3*e^5*f^4 - 280*c^25*d^3*e^5*f^4 - 20*b^9*c^15*d^4*e^5*f^4 - 1500*b^8*c^16*d^4*e^5*f^4 - 5024*b^7*c^17*d^4*e^5*f^4 + 33592*b^6*c^18*d^4*e^5*f^4 - 46704*b^5*c^19*d^4*e^5*f^4 + 5068*b^4*c^20*d^4*e^5*f^4 + 28552*b^3*c^21*d^4*e^5*f^4 - 16628*b^2*c^22*d^4*e^5*f^4 + 1500*b*c^23*d^4*e^5*f^4 + 632*c^24*d^4*e^5*f^4 + 132*b^8*c^15*d^5*e^5*f^4 + 2596*b^7*c^16*d^5*e^5*f^4 + 18104*b^6*c^17*d^5*e^5*f^4 - 55424*b^5*c^18*d^5*e^5*f^4 + 3912*b^4*c^19*d^5*e^5*f^4 + 82420*b^3*c^20*d^5*e^5*f^4 - 72064*b^2*c^21*d^5*e^5*f^4 + 23444*b*c^22*d^5*e^5*f^4 - 3396*c^23*d^5*e^5*f^4 - 296*b^7*c^15*d^6*e^5*f^4 + 4096*b^6*c^16*d^6*e^5*f^4 - 28456*b^5*c^17*d^6*e^5*f^4 - 2196*b^4*c^18*d^6*e^5*f^4 + 100248*b^3*c^19*d^6*e^5*f^4 - 105092*b^2*c^20*d^6*e^5*f^4 + 35760*b*c^21*d^6*e^5*f^4 - 3664*c^22*d^6*e^5*f^4 + 296*b^6*c^15*d^7*e^5*f^4 - 11696*b^5*c^16*d^7*e^5*f^4 + 16008*b^4*c^17*d^7*e^5*f^4 + 43252*b^3*c^18*d^7*e^5*f^4 - 84312*b^2*c^19*d^7*e^5*f^4 + 42268*b*c^20*d^7*e^5*f^4 - 4856*c^21*d^7*e^5*f^4 - 132*b^5*c^15*d^8*e^5*f^4 + 7540*b^4*c^16*d^8*e^5*f^4 - 1672*b^3*c^17*d^8*e^5*f^4 - 22944*b^2*c^18*d^8*e^5*f^4 + 22868*b*c^19*d^8*e^5*f^4 - 5536*c^20*d^8*e^5*f^4 + 20*b^4*c^15*d^9*e^5*f^4 - 1516*b^3*c^16*d^9*e^5*f^4 - 544*b^2*c^17*d^9*e^5*f^4 + 3496*b*c^18*d^9*e^5*f^4 - 1668*c^19*d^9*e^5*f^4 + 72*b^2*c^16*d^10*e^5*f^4 + 48*b*c^17*d^10*e^5*f^4 - 96*c^18*d^10*e^5*f^4 + 48*b^9*c^18*e^6*f^4 + 112*b^8*c^19*e^6*f^4 - 40*b^7*c^20*e^6*f^4 - 1584*b^6*c^21*e^6*f^4 + 2272*b^5*c^22*e^6*f^4 - 72*b^4*c^23*e^6*f^4 - 1184*b^3*c^24*e^6*f^4 + 448*b^2*c^25*e^6*f^4 - 144*b^9*c^17*d*e^6*f^4 - 824*b^8*c^18*d*e^6*f^4 + 2708*b^7*c^19*d*e^6*f^4 - 6088*b^6*c^20*d*e^6*f^4 + 10064*b^5*c^21*d*e^6*f^4 - 5180*b^4*c^22*d*e^6*f^4 - 2248*b^3*c^23*d*e^6*f^4 + 2368*b^2*c^24*d*e^6*f^4 - 512*b*c^25*d*e^6*f^4 + 144*b^9*c^16*d^2*e^6*f^4 + 1088*b^8*c^17*d^2*e^6*f^4 + 3916*b^7*c^18*d^2*e^6*f^4 - 11908*b^6*c^19*d^2*e^6*f^4 - 7384*b^5*c^20*d^2*e^6*f^4 + 27632*b^4*c^21*d^2*e^6*f^4 - 7184*b^3*c^22*d^2*e^6*f^4 - 9976*b^2*c^23*d^2*e^6*f^4 + 3936*b*c^24*d^2*e^6*f^4 + 64*c^25*d^2*e^6*f^4 - 72*b^9*c^15*d^3*e^6*f^4 - 1088*b^8*c^16*d^3*e^6*f^4 + 1088*b^7*c^17*d^3*e^6*f^4 - 4492*b^6*c^18*d^3*e^6*f^4 - 28340*b^5*c^19*d^3*e^6*f^4 + 93832*b^4*c^20*d^3*e^6*f^4 - 68904*b^3*c^21*d^3*e^6*f^4 - 1304*b^2*c^22*d^3*e^6*f^4 + 13736*b*c^23*d^3*e^6*f^4 - 2880*c^24*d^3*e^6*f^4 - 100*b^8*c^15*d^4*e^6*f^4 + 2776*b^7*c^16*d^4*e^6*f^4 + 6872*b^6*c^17*d^4*e^6*f^4 - 60632*b^5*c^18*d^4*e^6*f^4 + 122792*b^4*c^19*d^4*e^6*f^4 - 91864*b^3*c^20*d^4*e^6*f^4 + 26472*b^2*c^21*d^4*e^6*f^4 - 5584*b*c^22*d^4*e^6*f^4 + 1376*c^23*d^4*e^6*f^4 + 3728*b^7*c^15*d^5*e^6*f^4 - 1396*b^6*c^16*d^5*e^6*f^4 - 81864*b^5*c^17*d^5*e^6*f^4 + 202408*b^4*c^18*d^5*e^6*f^4 - 158316*b^3*c^19*d^5*e^6*f^4 + 43560*b^2*c^20*d^5*e^6*f^4 - 14792*b*c^21*d^5*e^6*f^4 + 7892*c^22*d^5*e^6*f^4 - 11008*b^6*c^15*d^6*e^6*f^4 - 7596*b^5*c^16*d^6*e^6*f^4 + 142692*b^4*c^17*d^6*e^6*f^4 - 215556*b^3*c^18*d^6*e^6*f^4 + 111508*b^2*c^19*d^6*e^6*f^4 - 22568*b*c^20*d^6*e^6*f^4 + 3128*c^21*d^6*e^6*f^4 + 11704*b^5*c^15*d^7*e^6*f^4 + 13400*b^4*c^16*d^7*e^6*f^4 - 88560*b^3*c^17*d^7*e^6*f^4 + 94276*b^2*c^18*d^7*e^6*f^4 - 38580*b*c^19*d^7*e^6*f^4 + 5080*c^20*d^7*e^6*f^4 - 4964*b^4*c^15*d^8*e^6*f^4 - 7616*b^3*c^16*d^8*e^6*f^4 + 23456*b^2*c^17*d^8*e^6*f^4 - 17504*b*c^18*d^8*e^6*f^4 + 4504*c^19*d^8*e^6*f^4 + 736*b^3*c^15*d^9*e^6*f^4 + 1436*b^2*c^16*d^9*e^6*f^4 - 2584*b*c^17*d^9*e^6*f^4 + 1048*c^18*d^9*e^6*f^4 - 24*b^2*c^15*d^10*e^6*f^4 - 60*b*c^16*d^10*e^6*f^4 + 68*c^17*d^10*e^6*f^4 + 60*b^9*c^17*e^7*f^4 + 188*b^8*c^18*e^7*f^4 - 1552*b^7*c^19*e^7*f^4 + 1496*b^6*c^20*e^7*f^4 + 1616*b^5*c^21*e^7*f^4 - 2344*b^4*c^22*e^7*f^4 + 136*b^3*c^23*e^7*f^4 + 464*b^2*c^24*e^7*f^4 - 64*b*c^25*e^7*f^4 - 160*b^9*c^16*d*e^7*f^4 - 1036*b^8*c^17*d*e^7*f^4 + 3116*b^7*c^18*d*e^7*f^4 - 200*b^6*c^19*d*e^7*f^4 + 2424*b^5*c^20*d*e^7*f^4 - 7760*b^4*c^21*d*e^7*f^4 - 488*b^3*c^22*d*e^7*f^4 + 6120*b^2*c^23*d*e^7*f^4 - 2144*b*c^24*d*e^7*f^4 + 64*c^25*d*e^7*f^4 + 152*b^9*c^15*d^2*e^7*f^4 + 2208*b^8*c^16*d^2*e^7*f^4 + 2128*b^7*c^17*d^2*e^7*f^4 - 38372*b^6*c^18*d^2*e^7*f^4 + 72256*b^5*c^19*d^2*e^7*f^4 - 39080*b^4*c^20*d^2*e^7*f^4 - 16912*b^3*c^21*d^2*e^7*f^4 + 23352*b^2*c^22*d^2*e^7*f^4 - 6856*b*c^23*d^2*e^7*f^4 + 528*c^24*d^2*e^7*f^4 - 80*b^9*c^14*d^3*e^7*f^4 - 1760*b^8*c^15*d^3*e^7*f^4 - 3960*b^7*c^16*d^3*e^7*f^4 - 5944*b^6*c^17*d^3*e^7*f^4 + 78972*b^5*c^18*d^3*e^7*f^4 - 87400*b^4*c^19*d^3*e^7*f^4 + 280*b^3*c^20*d^3*e^7*f^4 + 14400*b^2*c^21*d^3*e^7*f^4 + 5928*b*c^22*d^3*e^7*f^4 - 2152*c^23*d^3*e^7*f^4 + 840*b^8*c^14*d^4*e^7*f^4 + 7252*b^7*c^15*d^4*e^7*f^4 - 21892*b^6*c^16*d^4*e^7*f^4 + 39300*b^5*c^17*d^4*e^7*f^4 - 10300*b^4*c^18*d^4*e^7*f^4 - 45168*b^3*c^19*d^4*e^7*f^4 - 6320*b^2*c^20*d^4*e^7*f^4 + 49504*b*c^21*d^4*e^7*f^4 - 16656*c^22*d^4*e^7*f^4 - 2832*b^7*c^14*d^5*e^7*f^4 - 13972*b^6*c^15*d^5*e^7*f^4 + 70596*b^5*c^16*d^5*e^7*f^4 - 86300*b^4*c^17*d^5*e^7*f^4 + 18172*b^3*c^18*d^5*e^7*f^4 - 16552*b^2*c^19*d^5*e^7*f^4 + 43856*b*c^20*d^5*e^7*f^4 - 16656*c^21*d^5*e^7*f^4 + 4144*b^6*c^14*d^6*e^7*f^4 + 12264*b^5*c^15*d^6*e^7*f^4 - 65464*b^4*c^16*d^6*e^7*f^4 + 91736*b^3*c^17*d^6*e^7*f^4 - 89604*b^2*c^18*d^6*e^7*f^4 + 51200*b*c^19*d^6*e^7*f^4 - 6368*c^20*d^6*e^7*f^4 - 2832*b^5*c^14*d^7*e^7*f^4 - 4688*b^4*c^15*d^7*e^7*f^4 + 22496*b^3*c^16*d^7*e^7*f^4 - 49168*b^2*c^17*d^7*e^7*f^4 + 47068*b*c^18*d^7*e^7*f^4 - 9896*c^19*d^7*e^7*f^4 + 840*b^4*c^14*d^8*e^7*f^4 + 812*b^3*c^15*d^8*e^7*f^4 - 3444*b^2*c^16*d^8*e^7*f^4 + 10712*b*c^17*d^8*e^7*f^4 - 5336*c^18*d^8*e^7*f^4 - 80*b^3*c^14*d^9*e^7*f^4 - 60*b^2*c^15*d^9*e^7*f^4 + 404*b*c^16*d^9*e^7*f^4 - 592*c^17*d^9*e^7*f^4 - 16*c^16*d^10*e^7*f^4 - 16*b^9*c^16*e^8*f^4 - 72*b^8*c^17*e^8*f^4 - 568*b^7*c^18*e^8*f^4 + 1680*b^6*c^19*e^8*f^4 + 1096*b^5*c^20*e^8*f^4 - 5464*b^4*c^21*e^8*f^4 + 4112*b^3*c^22*e^8*f^4 - 576*b^2*c^23*e^8*f^4 - 192*b*c^24*e^8*f^4 + 40*b^9*c^15*d*e^8*f^4 + 304*b^8*c^16*d*e^8*f^4 - 1060*b^7*c^17*d*e^8*f^4 + 9640*b^6*c^18*d*e^8*f^4 - 18984*b^5*c^19*d*e^8*f^4 + 2292*b^4*c^20*d*e^8*f^4 + 16064*b^3*c^21*d*e^8*f^4 - 9152*b^2*c^22*d*e^8*f^4 + 288*b*c^23*d*e^8*f^4 + 384*c^24*d*e^8*f^4 - 32*b^9*c^14*d^2*e^8*f^4 - 248*b^8*c^15*d^2*e^8*f^4 - 764*b^7*c^16*d^2*e^8*f^4 - 3020*b^6*c^17*d^2*e^8*f^4 + 6652*b^5*c^18*d^2*e^8*f^4 + 7632*b^4*c^19*d^2*e^8*f^4 - 33664*b^3*c^20*d^2*e^8*f^4 + 35568*b^2*c^21*d^2*e^8*f^4 - 12848*b*c^22*d^2*e^8*f^4 + 1056*c^23*d^2*e^8*f^4 + 288*b^8*c^14*d^3*e^8*f^4 - 2152*b^7*c^15*d^3*e^8*f^4 + 1832*b^6*c^16*d^3*e^8*f^4 + 61076*b^5*c^17*d^3*e^8*f^4 - 144016*b^4*c^18*d^3*e^8*f^4 + 41896*b^3*c^19*d^3*e^8*f^4 + 108120*b^2*c^20*d^3*e^8*f^4 - 77344*b*c^21*d^3*e^8*f^4 + 11232*c^22*d^3*e^8*f^4 + 776*b^7*c^14*d^4*e^8*f^4 + 10056*b^6*c^15*d^4*e^8*f^4 - 32336*b^5*c^16*d^4*e^8*f^4 - 23904*b^4*c^17*d^4*e^8*f^4 + 44800*b^3*c^18*d^4*e^8*f^4 + 60552*b^2*c^19*d^4*e^8*f^4 - 73064*b*c^20*d^4*e^8*f^4 + 15112*c^21*d^4*e^8*f^4 - 8300*b^6*c^14*d^5*e^8*f^4 - 12972*b^5*c^15*d^5*e^8*f^4 + 126120*b^4*c^16*d^5*e^8*f^4 - 233884*b^3*c^17*d^5*e^8*f^4 + 191560*b^2*c^18*d^5*e^8*f^4 - 47744*b*c^19*d^5*e^8*f^4 - 8620*c^20*d^5*e^8*f^4 + 16476*b^5*c^14*d^6*e^8*f^4 + 11140*b^4*c^15*d^6*e^8*f^4 - 165452*b^3*c^16*d^6*e^8*f^4 + 250036*b^2*c^17*d^6*e^8*f^4 - 100196*b*c^18*d^6*e^8*f^4 - 7528*c^19*d^6*e^8*f^4 - 12344*b^4*c^14*d^7*e^8*f^4 - 8880*b^3*c^15*d^7*e^8*f^4 + 84472*b^2*c^16*d^7*e^8*f^4 - 74068*b*c^17*d^7*e^8*f^4 + 8704*c^18*d^7*e^8*f^4 + 3728*b^3*c^14*d^8*e^8*f^4 + 3616*b^2*c^15*d^8*e^8*f^4 - 15576*b*c^16*d^8*e^8*f^4 + 5760*c^17*d^8*e^8*f^4 - 412*b^2*c^14*d^9*e^8*f^4 - 484*b*c^15*d^9*e^8*f^4 + 712*c^16*d^9*e^8*f^4 + 12*b*c^14*d^10*e^8*f^4 + 12*c^15*d^10*e^8*f^4 - 36*b^9*c^15*e^9*f^4 - 292*b^8*c^16*e^9*f^4 + 808*b^7*c^17*e^9*f^4 + 1352*b^6*c^18*e^9*f^4 - 4464*b^5*c^19*e^9*f^4 + 2416*b^4*c^20*e^9*f^4 + 1224*b^3*c^21*e^9*f^4 - 1200*b^2*c^22*e^9*f^4 + 192*b*c^23*e^9*f^4 + 72*b^9*c^14*d*e^9*f^4 + 1068*b^8*c^15*d*e^9*f^4 - 172*b^7*c^16*d*e^9*f^4 - 7712*b^6*c^17*d*e^9*f^4 + 11824*b^5*c^18*d*e^9*f^4 - 18392*b^4*c^19*d*e^9*f^4 + 30176*b^3*c^20*d*e^9*f^4 - 21224*b^2*c^21*d*e^9*f^4 + 4672*b*c^22*d*e^9*f^4 - 128*c^23*d*e^9*f^4 - 40*b^9*c^13*d^2*e^9*f^4 - 1264*b^8*c^14*d^2*e^9*f^4 - 5348*b^7*c^15*d^2*e^9*f^4 + 21632*b^6*c^16*d^2*e^9*f^4 - 13988*b^5*c^17*d^2*e^9*f^4 - 38728*b^4*c^18*d^2*e^9*f^4 + 98056*b^3*c^19*d^2*e^9*f^4 - 83168*b^2*c^20*d^2*e^9*f^4 + 23864*b*c^21*d^2*e^9*f^4 - 592*c^22*d^2*e^9*f^4 + 680*b^8*c^13*d^3*e^9*f^4 + 6032*b^7*c^14*d^3*e^9*f^4 - 5716*b^6*c^15*d^3*e^9*f^4 - 21808*b^5*c^16*d^3*e^9*f^4 + 11156*b^4*c^17*d^3*e^9*f^4 + 61688*b^3*c^18*d^3*e^9*f^4 - 71144*b^2*c^19*d^3*e^9*f^4 + 16256*b*c^20*d^3*e^9*f^4 + 3368*c^21*d^3*e^9*f^4 - 3480*b^7*c^13*d^4*e^9*f^4 - 16156*b^6*c^14*d^4*e^9*f^4 + 95788*b^5*c^15*d^4*e^9*f^4 - 192156*b^4*c^16*d^4*e^9*f^4 + 187656*b^3*c^17*d^4*e^9*f^4 - 34800*b^2*c^18*d^4*e^9*f^4 - 63768*b*c^19*d^4*e^9*f^4 + 27280*c^20*d^4*e^9*f^4 + 7448*b^6*c^13*d^5*e^9*f^4 + 33628*b^5*c^14*d^5*e^9*f^4 - 217340*b^4*c^15*d^5*e^9*f^4 + 370628*b^3*c^16*d^5*e^9*f^4 - 193216*b^2*c^17*d^5*e^9*f^4 - 57256*b*c^18*d^5*e^9*f^4 + 50112*c^19*d^5*e^9*f^4 - 7448*b^5*c^13*d^6*e^9*f^4 - 40880*b^4*c^14*d^6*e^9*f^4 + 184684*b^3*c^15*d^6*e^9*f^4 - 200888*b^2*c^16*d^6*e^9*f^4 + 27572*b*c^17*d^6*e^9*f^4 + 30640*c^18*d^6*e^9*f^4 + 3480*b^4*c^13*d^7*e^9*f^4 + 23320*b^3*c^14*d^7*e^9*f^4 - 63780*b^2*c^15*d^7*e^9*f^4 + 33144*b*c^16*d^7*e^9*f^4 + 4684*c^17*d^7*e^9*f^4 - 680*b^3*c^13*d^8*e^9*f^4 - 5596*b^2*c^14*d^8*e^9*f^4 + 8208*b*c^15*d^8*e^9*f^4 - 1128*c^16*d^8*e^9*f^4 + 40*b^2*c^13*d^9*e^9*f^4 + 468*b*c^14*d^9*e^9*f^4 - 280*c^15*d^9*e^9*f^4 - 8*c^14*d^10*e^9*f^4 - 4*b^9*c^14*e^10*f^4 - 64*b^8*c^15*e^10*f^4 + 128*b^7*c^16*e^10*f^4 + 2208*b^6*c^17*e^10*f^4 - 8244*b^5*c^18*e^10*f^4 + 10264*b^4*c^19*e^10*f^4 - 4480*b^3*c^20*e^10*f^4 - 192*b^2*c^21*e^10*f^4 + 384*b*c^22*e^10*f^4 + 12*b^9*c^13*d*e^10*f^4 + 116*b^8*c^14*d*e^10*f^4 + 1080*b^7*c^15*d*e^10*f^4 - 4204*b^6*c^16*d*e^10*f^4 - 10952*b^5*c^17*d*e^10*f^4 + 47236*b^4*c^18*d*e^10*f^4 - 49000*b^3*c^19*d*e^10*f^4 + 14016*b^2*c^20*d*e^10*f^4 + 2752*b*c^21*d*e^10*f^4 - 1024*c^22*d*e^10*f^4 - 152*b^8*c^13*d^2*e^10*f^4 - 2456*b^7*c^14*d^2*e^10*f^4 + 4328*b^6*c^15*d^2*e^10*f^4 + 18260*b^5*c^16*d^2*e^10*f^4 - 41108*b^4*c^17*d^2*e^10*f^4 + 29496*b^3*c^18*d^2*e^10*f^4 - 19256*b^2*c^19*d^2*e^10*f^4 + 14976*b*c^20*d^2*e^10*f^4 - 4608*c^21*d^2*e^10*f^4 - 168*b^7*c^13*d^3*e^10*f^4 + 23452*b^6*c^14*d^3*e^10*f^4 - 75492*b^5*c^15*d^3*e^10*f^4 + 25248*b^4*c^16*d^3*e^10*f^4 + 154680*b^3*c^17*d^3*e^10*f^4 - 220936*b^2*c^18*d^3*e^10*f^4 + 107496*b*c^19*d^3*e^10*f^4 - 16192*c^20*d^3*e^10*f^4 + 4088*b^6*c^13*d^4*e^10*f^4 - 75692*b^5*c^14*d^4*e^10*f^4 + 194900*b^4*c^15*d^4*e^10*f^4 - 77928*b^3*c^16*d^4*e^10*f^4 - 201312*b^2*c^17*d^4*e^10*f^4 + 196444*b*c^18*d^4*e^10*f^4 - 41312*c^19*d^4*e^10*f^4 - 10024*b^5*c^13*d^5*e^10*f^4 + 92756*b^4*c^14*d^5*e^10*f^4 - 155736*b^3*c^15*d^5*e^10*f^4 - 3036*b^2*c^16*d^5*e^10*f^4 + 128912*b*c^17*d^5*e^10*f^4 - 48604*c^18*d^5*e^10*f^4 + 9240*b^4*c^13*d^6*e^10*f^4 - 43760*b^3*c^14*d^6*e^10*f^4 + 30344*b^2*c^15*d^6*e^10*f^4 + 35668*b*c^16*d^6*e^10*f^4 - 26988*c^17*d^6*e^10*f^4 - 3560*b^3*c^13*d^7*e^10*f^4 + 6180*b^2*c^14*d^7*e^10*f^4 + 4804*b*c^15*d^7*e^10*f^4 - 7320*c^16*d^7*e^10*f^4 + 520*b^2*c^13*d^8*e^10*f^4 + 216*b*c^14*d^8*e^10*f^4 - 964*c^15*d^8*e^10*f^4 - 20*b*c^13*d^9*e^10*f^4 - 40*c^14*d^9*e^10*f^4 + 4*b^9*c^13*e^11*f^4 + 120*b^8*c^14*e^11*f^4 + 4*b^7*c^15*e^11*f^4 - 1564*b^6*c^16*e^11*f^4 + 2860*b^5*c^17*e^11*f^4 - 1016*b^4*c^18*e^11*f^4 - 1224*b^3*c^19*e^11*f^4 + 1008*b^2*c^20*e^11*f^4 - 192*b*c^21*e^11*f^4 - 276*b^8*c^13*d*e^11*f^4 - 984*b^7*c^14*d*e^11*f^4 + 5908*b^6*c^15*d*e^11*f^4 - 14268*b^5*c^16*d*e^11*f^4 + 28100*b^4*c^17*d*e^11*f^4 - 34328*b^3*c^18*d*e^11*f^4 + 20152*b^2*c^19*d*e^11*f^4 - 4704*b*c^20*d*e^11*f^4 + 320*c^21*d*e^11*f^4 + 3568*b^7*c^13*d^2*e^11*f^4 - 5252*b^6*c^14*d^2*e^11*f^4 - 28208*b^5*c^15*d^2*e^11*f^4 + 114224*b^4*c^16*d^2*e^11*f^4 - 173304*b^3*c^17*d^2*e^11*f^4 + 118856*b^2*c^18*d^2*e^11*f^4 - 31224*b*c^19*d^2*e^11*f^4 + 1392*c^20*d^2*e^11*f^4 - 15360*b^6*c^13*d^3*e^11*f^4 + 36972*b^5*c^14*d^3*e^11*f^4 + 38640*b^4*c^15*d^3*e^11*f^4 - 205424*b^3*c^16*d^3*e^11*f^4 + 224328*b^2*c^17*d^3*e^11*f^4 - 80008*b*c^18*d^3*e^11*f^4 + 2440*c^19*d^3*e^11*f^4 + 27372*b^5*c^13*d^4*e^11*f^4 - 58080*b^4*c^14*d^4*e^11*f^4 - 34180*b^3*c^15*d^4*e^11*f^4 + 152444*b^2*c^16*d^4*e^11*f^4 - 94932*b*c^17*d^4*e^11*f^4 + 7824*c^18*d^4*e^11*f^4 - 21940*b^4*c^13*d^5*e^11*f^4 + 31000*b^3*c^14*d^5*e^11*f^4 + 28940*b^2*c^15*d^5*e^11*f^4 - 52500*b*c^16*d^5*e^11*f^4 + 12180*c^17*d^5*e^11*f^4 + 7800*b^3*c^13*d^6*e^11*f^4 - 4508*b^2*c^14*d^6*e^11*f^4 - 11216*b*c^15*d^6*e^11*f^4 + 6576*c^16*d^6*e^11*f^4 - 1080*b^2*c^13*d^7*e^11*f^4 - 268*b*c^14*d^7*e^11*f^4 + 1136*c^15*d^7*e^11*f^4 + 40*b*c^13*d^8*e^11*f^4 + 40*c^14*d^8*e^11*f^4 + 52*b^8*c^13*e^12*f^4 + 200*b^7*c^14*e^12*f^4 - 2096*b^6*c^15*e^12*f^4 + 5064*b^5*c^16*e^12*f^4 - 4948*b^4*c^17*e^12*f^4 + 1600*b^3*c^18*e^12*f^4 + 320*b^2*c^19*e^12*f^4 - 192*b*c^20*e^12*f^4 - 1064*b^7*c^13*d*e^12*f^4 - 668*b^6*c^14*d*e^12*f^4 + 19660*b^5*c^15*d*e^12*f^4 - 44048*b^4*c^16*d*e^12*f^4 + 35312*b^3*c^17*d*e^12*f^4 - 7296*b^2*c^18*d*e^12*f^4 - 2528*b*c^19*d*e^12*f^4 + 640*c^20*d*e^12*f^4 + 5616*b^6*c^13*d^2*e^12*f^4 - 4368*b^5*c^14*d^2*e^12*f^4 - 41140*b^4*c^15*d^2*e^12*f^4 + 78928*b^3*c^16*d^2*e^12*f^4 - 39416*b^2*c^17*d^2*e^12*f^4 - 4032*b*c^18*d^2*e^12*f^4 + 4512*c^19*d^2*e^12*f^4 - 11188*b^5*c^13*d^3*e^12*f^4 + 16720*b^4*c^14*d^3*e^12*f^4 + 16240*b^3*c^15*d^3*e^12*f^4 - 24368*b^2*c^16*d^3*e^12*f^4 - 7440*b*c^17*d^3*e^12*f^4 + 9664*c^18*d^3*e^12*f^4 + 9620*b^4*c^13*d^4*e^12*f^4 - 18440*b^3*c^14*d^4*e^12*f^4 + 13440*b^2*c^15*d^4*e^12*f^4 - 14392*b*c^16*d^4*e^12*f^4 + 9516*c^17*d^4*e^12*f^4 - 3600*b^3*c^13*d^5*e^12*f^4 + 7988*b^2*c^14*d^5*e^12*f^4 - 8316*b*c^15*d^5*e^12*f^4 + 4512*c^16*d^5*e^12*f^4 + 520*b^2*c^13*d^6*e^12*f^4 - 1296*b*c^14*d^6*e^12*f^4 + 932*c^15*d^6*e^12*f^4 - 20*b*c^13*d^7*e^12*f^4 + 56*c^14*d^7*e^12*f^4 + 124*b^6*c^14*e^13*f^4 - 340*b^5*c^15*e^13*f^4 + 152*b^4*c^16*e^13*f^4 + 272*b^3*c^17*e^13*f^4 - 272*b^2*c^18*e^13*f^4 + 64*b*c^19*e^13*f^4 - 156*b^5*c^14*d*e^13*f^4 - 1260*b^4*c^15*d*e^13*f^4 + 4768*b^3*c^16*d*e^13*f^4 - 5264*b^2*c^17*d*e^13*f^4 + 2176*b*c^18*d*e^13*f^4 - 256*c^19*d*e^13*f^4 - 2640*b^4*c^14*d^2*e^13*f^4 + 12520*b^3*c^15*d^2*e^13*f^4 - 19248*b^2*c^16*d^2*e^13*f^4 + 11696*b*c^17*d^2*e^13*f^4 - 2352*c^18*d^2*e^13*f^4 + 6080*b^3*c^14*d^3*e^13*f^4 - 18200*b^2*c^15*d^3*e^13*f^4 + 17248*b*c^16*d^3*e^13*f^4 - 5168*c^17*d^3*e^13*f^4 - 4060*b^2*c^14*d^4*e^13*f^4 + 7820*b*c^15*d^4*e^13*f^4 - 3688*c^16*d^4*e^13*f^4 + 892*b*c^14*d^5*e^13*f^4 - 860*c^15*d^5*e^13*f^4 - 48*c^14*d^6*e^13*f^4 - 4*b^9*c^21*d^2*f^5 + 24*b^8*c^22*d^2*f^5 - 4*b^7*c^23*d^2*f^5 - 44*b^6*c^24*d^2*f^5 + 24*b^5*c^25*d^2*f^5 + 4*b^4*c^26*d^2*f^5 + 4*b^9*c^20*d^3*f^5 + 44*b^8*c^21*d^3*f^5 - 4*b^7*c^22*d^3*f^5 - 148*b^6*c^23*d^3*f^5 + 112*b^5*c^24*d^3*f^5 - 8*b^4*c^25*d^3*f^5 + 28*b^8*c^20*d^4*f^5 - 4*b^7*c^21*d^4*f^5 - 132*b^6*c^22*d^4*f^5 + 100*b^5*c^23*d^4*f^5 + 64*b^4*c^24*d^4*f^5 - 48*b^3*c^25*d^4*f^5 - 8*b^2*c^26*d^4*f^5 + 4*b^7*c^20*d^5*f^5 - 140*b^6*c^21*d^5*f^5 + 92*b^5*c^22*d^5*f^5 + 236*b^4*c^23*d^5*f^5 - 208*b^3*c^24*d^5*f^5 + 16*b^2*c^25*d^5*f^5 - 72*b^6*c^20*d^6*f^5 + 84*b^5*c^21*d^6*f^5 + 96*b^4*c^22*d^6*f^5 - 124*b^3*c^23*d^6*f^5 - 12*b^2*c^24*d^6*f^5 + 24*b*c^25*d^6*f^5 + 4*c^26*d^6*f^5 - 4*b^5*c^20*d^7*f^5 + 84*b^4*c^21*d^7*f^5 - 76*b^3*c^22*d^7*f^5 - 92*b^2*c^23*d^7*f^5 + 96*b*c^24*d^7*f^5 - 8*c^25*d^7*f^5 + 44*b^4*c^20*d^8*f^5 - 76*b^3*c^21*d^8*f^5 + 12*b^2*c^22*d^8*f^5 + 28*b*c^23*d^8*f^5 - 8*c^24*d^8*f^5 - 4*b^3*c^20*d^9*f^5 + 12*b^2*c^21*d^9*f^5 - 12*b*c^22*d^9*f^5 + 4*c^23*d^9*f^5 - 16*b^8*c^22*d*e*f^5 - 8*b^7*c^23*d*e*f^5 + 56*b^6*c^24*d*e*f^5 - 24*b^5*c^25*d*e*f^5 - 8*b^4*c^26*d*e*f^5 - 20*b^9*c^20*d^2*e*f^5 + 180*b^8*c^21*d^2*e*f^5 - 376*b^7*c^22*d^2*e*f^5 + 104*b^6*c^23*d^2*e*f^5 + 252*b^5*c^24*d^2*e*f^5 - 124*b^4*c^25*d^2*e*f^5 - 16*b^3*c^26*d^2*e*f^5 + 32*b^9*c^19*d^3*e*f^5 + 236*b^8*c^20*d^3*e*f^5 - 1140*b^7*c^21*d^3*e*f^5 + 264*b^6*c^22*d^3*e*f^5 + 1620*b^5*c^23*d^3*e*f^5 - 1100*b^4*c^24*d^3*e*f^5 + 56*b^3*c^25*d^3*e*f^5 + 32*b^2*c^26*d^3*e*f^5 + 20*b^8*c^19*d^4*e*f^5 - 1008*b^7*c^20*d^4*e*f^5 + 508*b^6*c^21*d^4*e*f^5 + 2032*b^5*c^22*d^4*e*f^5 - 1768*b^4*c^23*d^4*e*f^5 + 120*b^3*c^24*d^4*e*f^5 + 80*b^2*c^25*d^4*e*f^5 + 16*b*c^26*d^4*e*f^5 - 428*b^7*c^19*d^5*e*f^5 + 128*b^6*c^20*d^5*e*f^5 + 2124*b^5*c^21*d^5*e*f^5 - 1456*b^4*c^22*d^5*e*f^5 - 1368*b^3*c^23*d^5*e*f^5 + 1056*b^2*c^24*d^5*e*f^5 - 32*b*c^25*d^5*e*f^5 - 24*c^26*d^5*e*f^5 - 36*b^6*c^19*d^6*e*f^5 + 1812*b^5*c^20*d^6*e*f^5 - 2144*b^4*c^21*d^6*e*f^5 - 680*b^3*c^22*d^6*e*f^5 + 1312*b^2*c^23*d^6*e*f^5 - 308*b*c^24*d^6*e*f^5 + 44*c^25*d^6*e*f^5 + 576*b^5*c^19*d^7*e*f^5 - 948*b^4*c^20*d^7*e*f^5 - 132*b^3*c^21*d^7*e*f^5 + 504*b^2*c^22*d^7*e*f^5 + 76*b*c^23*d^7*e*f^5 - 76*c^24*d^7*e*f^5 - 60*b^4*c^19*d^8*e*f^5 - 440*b^3*c^20*d^8*e*f^5 + 804*b^2*c^21*d^8*e*f^5 - 336*b*c^22*d^8*e*f^5 + 32*c^23*d^8*e*f^5 - 116*b^3*c^19*d^9*e*f^5 + 264*b^2*c^20*d^9*e*f^5 - 212*b*c^21*d^9*e*f^5 + 64*c^22*d^9*e*f^5 + 12*b^2*c^19*d^10*e*f^5 - 24*b*c^20*d^10*e*f^5 + 12*c^21*d^10*e*f^5 + 4*b^9*c^21*e^2*f^5 - 8*b^8*c^22*e^2*f^5 + 12*b^7*c^23*e^2*f^5 - 12*b^6*c^24*e^2*f^5 + 4*b^4*c^26*e^2*f^5 - 20*b^9*c^20*d*e^2*f^5 - 148*b^8*c^21*d*e^2*f^5 + 468*b^7*c^22*d*e^2*f^5 - 92*b^6*c^23*d*e^2*f^5 - 432*b^5*c^24*d*e^2*f^5 + 192*b^4*c^25*d*e^2*f^5 + 32*b^3*c^26*d*e^2*f^5 + 8*b^9*c^19*d^2*e^2*f^5 + 384*b^8*c^20*d^2*e^2*f^5 - 908*b^7*c^21*d^2*e^2*f^5 + 1264*b^6*c^22*d^2*e^2*f^5 - 684*b^5*c^23*d^2*e^2*f^5 - 432*b^4*c^24*d^2*e^2*f^5 + 392*b^3*c^25*d^2*e^2*f^5 - 24*b^2*c^26*d^2*e^2*f^5 + 32*b^9*c^18*d^3*e^2*f^5 + 96*b^8*c^19*d^3*e^2*f^5 - 4000*b^7*c^20*d^3*e^2*f^5 + 9212*b^6*c^21*d^3*e^2*f^5 - 2976*b^5*c^22*d^3*e^2*f^5 - 5620*b^4*c^23*d^3*e^2*f^5 + 3552*b^3*c^24*d^3*e^2*f^5 - 184*b^2*c^25*d^3*e^2*f^5 - 64*b*c^26*d^3*e^2*f^5 - 332*b^8*c^18*d^4*e^2*f^5 - 2348*b^7*c^19*d^4*e^2*f^5 + 12444*b^6*c^20*d^4*e^2*f^5 - 8932*b^5*c^21*d^4*e^2*f^5 - 7148*b^4*c^22*d^4*e^2*f^5 + 7564*b^3*c^23*d^4*e^2*f^5 - 860*b^2*c^24*d^4*e^2*f^5 - 296*b*c^25*d^4*e^2*f^5 + 52*c^26*d^4*e^2*f^5 - 272*b^7*c^18*d^5*e^2*f^5 + 6996*b^6*c^19*d^5*e^2*f^5 - 6392*b^5*c^20*d^5*e^2*f^5 - 8092*b^4*c^21*d^5*e^2*f^5 + 7524*b^3*c^22*d^5*e^2*f^5 + 1556*b^2*c^23*d^5*e^2*f^5 - 1264*b*c^24*d^5*e^2*f^5 - 104*c^25*d^5*e^2*f^5 + 2200*b^6*c^18*d^6*e^2*f^5 - 3008*b^5*c^19*d^6*e^2*f^5 - 8944*b^4*c^20*d^6*e^2*f^5 + 12292*b^3*c^21*d^6*e^2*f^5 - 984*b^2*c^22*d^6*e^2*f^5 - 1868*b*c^23*d^6*e^2*f^5 + 24*c^24*d^6*e^2*f^5 - 736*b^5*c^18*d^7*e^2*f^5 - 4592*b^4*c^19*d^7*e^2*f^5 + 9248*b^3*c^20*d^7*e^2*f^5 - 4068*b^2*c^21*d^7*e^2*f^5 + 584*b*c^22*d^7*e^2*f^5 - 484*c^23*d^7*e^2*f^5 - 1372*b^4*c^18*d^8*e^2*f^5 + 4028*b^3*c^19*d^8*e^2*f^5 - 2964*b^2*c^20*d^8*e^2*f^5 + 584*b*c^21*d^8*e^2*f^5 - 132*c^22*d^8*e^2*f^5 + 656*b^3*c^18*d^9*e^2*f^5 - 996*b^2*c^19*d^9*e^2*f^5 + 460*b*c^20*d^9*e^2*f^5 - 72*c^21*d^9*e^2*f^5 - 48*b^2*c^18*d^10*e^2*f^5 + 72*b*c^19*d^10*e^2*f^5 - 24*c^20*d^10*e^2*f^5 + 20*b^9*c^20*e^3*f^5 - 12*b^8*c^21*e^3*f^5 - 120*b^7*c^22*e^3*f^5 + 72*b^6*c^23*e^3*f^5 + 116*b^5*c^24*e^3*f^5 - 60*b^4*c^25*e^3*f^5 - 16*b^3*c^26*e^3*f^5 - 80*b^9*c^19*d*e^3*f^5 - 236*b^8*c^20*d*e^3*f^5 + 1788*b^7*c^21*d*e^3*f^5 - 2128*b^6*c^22*d*e^3*f^5 - 572*b^5*c^23*d*e^3*f^5 + 1924*b^4*c^24*d*e^3*f^5 - 680*b^3*c^25*d*e^3*f^5 - 16*b^2*c^26*d*e^3*f^5 + 128*b^9*c^18*d^2*e^3*f^5 + 488*b^8*c^19*d^2*e^3*f^5 + 80*b^7*c^20*d^2*e^3*f^5 - 4252*b^6*c^21*d^2*e^3*f^5 + 2264*b^5*c^22*d^2*e^3*f^5 + 2932*b^4*c^23*d^2*e^3*f^5 - 1544*b^3*c^24*d^2*e^3*f^5 - 256*b^2*c^25*d^2*e^3*f^5 + 80*b*c^26*d^2*e^3*f^5 - 64*b^9*c^17*d^3*e^3*f^5 - 992*b^8*c^18*d^3*e^3*f^5 - 2008*b^7*c^19*d^3*e^3*f^5 + 15664*b^6*c^20*d^3*e^3*f^5 - 21696*b^5*c^21*d^3*e^3*f^5 + 1872*b^4*c^22*d^3*e^3*f^5 + 13576*b^3*c^23*d^3*e^3*f^5 - 7368*b^2*c^24*d^3*e^3*f^5 + 872*b*c^25*d^3*e^3*f^5 - 48*c^26*d^3*e^3*f^5 - 184*b^8*c^17*d^4*e^3*f^5 + 1704*b^7*c^18*d^4*e^3*f^5 + 18928*b^6*c^19*d^4*e^3*f^5 - 57732*b^5*c^20*d^4*e^3*f^5 + 37660*b^4*c^21*d^4*e^3*f^5 + 12472*b^3*c^22*d^4*e^3*f^5 - 16336*b^2*c^23*d^4*e^3*f^5 + 2836*b*c^24*d^4*e^3*f^5 + 124*c^25*d^4*e^3*f^5 + 2216*b^7*c^17*d^5*e^3*f^5 + 4672*b^6*c^18*d^5*e^3*f^5 - 44820*b^5*c^19*d^5*e^3*f^5 + 49948*b^4*c^20*d^5*e^3*f^5 - 4972*b^3*c^21*d^5*e^3*f^5 - 4880*b^2*c^22*d^5*e^3*f^5 - 4332*b*c^23*d^5*e^3*f^5 + 1860*c^24*d^5*e^3*f^5 - 1608*b^6*c^17*d^6*e^3*f^5 - 16392*b^5*c^18*d^6*e^3*f^5 + 31004*b^4*c^19*d^6*e^3*f^5 - 3160*b^3*c^20*d^6*e^3*f^5 - 6396*b^2*c^21*d^6*e^3*f^5 - 5528*b*c^22*d^6*e^3*f^5 + 2996*c^23*d^6*e^3*f^5 - 4112*b^5*c^17*d^7*e^3*f^5 + 15728*b^4*c^18*d^7*e^3*f^5 - 5728*b^3*c^19*d^7*e^3*f^5 - 6392*b^2*c^20*d^7*e^3*f^5 - 432*b*c^21*d^7*e^3*f^5 + 1744*c^22*d^7*e^3*f^5 + 4696*b^4*c^17*d^8*e^3*f^5 - 5976*b^3*c^18*d^8*e^3*f^5 - 600*b^2*c^19*d^8*e^3*f^5 + 1720*b*c^20*d^8*e^3*f^5 - 152*c^21*d^8*e^3*f^5 - 1272*b^3*c^17*d^9*e^3*f^5 + 1008*b^2*c^18*d^9*e^3*f^5 + 124*b*c^19*d^9*e^3*f^5 - 168*c^20*d^9*e^3*f^5 + 72*b^2*c^17*d^10*e^3*f^5 - 72*b*c^18*d^10*e^3*f^5 + 4*c^19*d^10*e^3*f^5 + 8*b^9*c^19*e^4*f^5 - 84*b^8*c^20*e^4*f^5 - 216*b^7*c^21*e^4*f^5 + 636*b^6*c^22*e^4*f^5 + 16*b^5*c^23*e^4*f^5 - 656*b^4*c^24*e^4*f^5 + 280*b^3*c^25*e^4*f^5 + 16*b^2*c^26*e^4*f^5 - 32*b^9*c^18*d*e^4*f^5 + 184*b^8*c^19*d*e^4*f^5 + 1820*b^7*c^20*d*e^4*f^5 - 4168*b^6*c^21*d*e^4*f^5 + 1044*b^5*c^22*d*e^4*f^5 + 3368*b^4*c^23*d*e^4*f^5 - 2832*b^3*c^24*d*e^4*f^5 + 664*b^2*c^25*d*e^4*f^5 - 32*b*c^26*d*e^4*f^5 + 76*b^9*c^17*d^2*e^4*f^5 + 80*b^8*c^18*d^2*e^4*f^5 - 844*b^7*c^19*d^2*e^4*f^5 - 10428*b^6*c^20*d^2*e^4*f^5 + 19576*b^5*c^21*d^2*e^4*f^5 + 1292*b^4*c^22*d^2*e^4*f^5 - 17024*b^3*c^23*d^2*e^4*f^5 + 8256*b^2*c^24*d^2*e^4*f^5 - 888*b*c^25*d^2*e^4*f^5 + 16*c^26*d^2*e^4*f^5 - 76*b^9*c^16*d^3*e^4*f^5 - 1444*b^8*c^17*d^3*e^4*f^5 + 4468*b^7*c^18*d^3*e^4*f^5 + 2108*b^6*c^19*d^3*e^4*f^5 - 9936*b^5*c^20*d^3*e^4*f^5 + 6504*b^4*c^21*d^3*e^4*f^5 + 3768*b^3*c^22*d^3*e^4*f^5 - 7408*b^2*c^23*d^3*e^4*f^5 + 2672*b*c^24*d^3*e^4*f^5 - 56*c^25*d^3*e^4*f^5 + 724*b^8*c^16*d^4*e^4*f^5 + 6948*b^7*c^17*d^4*e^4*f^5 - 11984*b^6*c^18*d^4*e^4*f^5 - 41444*b^5*c^19*d^4*e^4*f^5 + 86956*b^4*c^20*d^4*e^4*f^5 - 19136*b^3*c^21*d^4*e^4*f^5 - 45276*b^2*c^22*d^4*e^4*f^5 + 28304*b*c^23*d^4*e^4*f^5 - 4560*c^24*d^4*e^4*f^5 - 508*b^7*c^16*d^5*e^4*f^5 - 12612*b^6*c^17*d^5*e^4*f^5 - 13256*b^5*c^18*d^5*e^4*f^5 + 93324*b^4*c^19*d^5*e^4*f^5 - 62404*b^3*c^20*d^5*e^4*f^5 - 29232*b^2*c^21*d^5*e^4*f^5 + 29972*b*c^22*d^5*e^4*f^5 - 4312*c^23*d^5*e^4*f^5 - 4952*b^6*c^16*d^6*e^4*f^5 + 11652*b^5*c^17*d^6*e^4*f^5 + 37488*b^4*c^18*d^6*e^4*f^5 - 56916*b^3*c^19*d^6*e^4*f^5 - 5332*b^2*c^20*d^6*e^4*f^5 + 19776*b*c^21*d^6*e^4*f^5 - 1484*c^22*d^6*e^4*f^5 + 9564*b^5*c^16*d^7*e^4*f^5 - 7788*b^4*c^17*d^7*e^4*f^5 - 15660*b^3*c^18*d^7*e^4*f^5 + 6612*b^2*c^19*d^7*e^4*f^5 + 4600*b*c^20*d^7*e^4*f^5 + 560*c^21*d^7*e^4*f^5 - 5676*b^4*c^16*d^8*e^4*f^5 + 3164*b^3*c^17*d^8*e^4*f^5 + 656*b^2*c^18*d^8*e^4*f^5 + 476*b*c^19*d^8*e^4*f^5 + 632*c^20*d^8*e^4*f^5 + 1100*b^3*c^16*d^9*e^4*f^5 - 620*b^2*c^17*d^9*e^4*f^5 + 96*b*c^18*d^9*e^4*f^5 + 76*c^19*d^9*e^4*f^5 - 48*b^2*c^16*d^10*e^4*f^5 + 48*b*c^17*d^10*e^4*f^5 - 56*b^9*c^18*e^5*f^5 - 220*b^8*c^19*e^5*f^5 + 432*b^7*c^20*e^5*f^5 + 808*b^6*c^21*e^5*f^5 - 880*b^5*c^22*e^5*f^5 - 980*b^4*c^23*e^5*f^5 + 1232*b^3*c^24*e^5*f^5 - 320*b^2*c^25*e^5*f^5 + 168*b^9*c^17*d*e^5*f^5 + 992*b^8*c^18*d*e^5*f^5 + 108*b^7*c^19*d*e^5*f^5 - 8136*b^6*c^20*d*e^5*f^5 + 10084*b^5*c^21*d*e^5*f^5 - 2504*b^4*c^22*d*e^5*f^5 - 664*b^3*c^23*d*e^5*f^5 - 400*b^2*c^24*d*e^5*f^5 + 320*b*c^25*d*e^5*f^5 - 196*b^9*c^16*d^2*e^5*f^5 - 1652*b^8*c^17*d^2*e^5*f^5 - 1384*b^7*c^18*d^2*e^5*f^5 - 2100*b^6*c^19*d^2*e^5*f^5 + 28828*b^5*c^20*d^2*e^5*f^5 - 22976*b^4*c^21*d^2*e^5*f^5 - 15328*b^3*c^22*d^2*e^5*f^5 + 20224*b^2*c^23*d^2*e^5*f^5 - 5072*b*c^24*d^2*e^5*f^5 + 32*b^9*c^15*d^3*e^5*f^5 + 1036*b^8*c^16*d^3*e^5*f^5 + 8004*b^7*c^17*d^3*e^5*f^5 - 15968*b^6*c^18*d^3*e^5*f^5 + 5388*b^5*c^19*d^3*e^5*f^5 + 20164*b^4*c^20*d^3*e^5*f^5 - 50192*b^3*c^21*d^3*e^5*f^5 + 47536*b^2*c^22*d^3*e^5*f^5 - 19240*b*c^23*d^3*e^5*f^5 + 2960*c^24*d^3*e^5*f^5 + 164*b^8*c^15*d^4*e^5*f^5 + 3440*b^7*c^16*d^4*e^5*f^5 - 35684*b^6*c^17*d^4*e^5*f^5 + 28944*b^5*c^18*d^4*e^5*f^5 + 87604*b^4*c^19*d^4*e^5*f^5 - 153432*b^3*c^20*d^4*e^5*f^5 + 79952*b^2*c^21*d^4*e^5*f^5 - 10160*b*c^22*d^4*e^5*f^5 - 1004*c^23*d^4*e^5*f^5 - 2428*b^7*c^15*d^5*e^5*f^5 - 15600*b^6*c^16*d^5*e^5*f^5 + 53544*b^5*c^17*d^5*e^5*f^5 + 38536*b^4*c^18*d^5*e^5*f^5 - 170428*b^3*c^19*d^5*e^5*f^5 + 103808*b^2*c^20*d^5*e^5*f^5 + 4364*b*c^21*d^5*e^5*f^5 - 11624*c^22*d^5*e^5*f^5 + 6540*b^6*c^15*d^6*e^5*f^5 + 6980*b^5*c^16*d^6*e^5*f^5 - 444*b^4*c^17*d^6*e^5*f^5 - 76872*b^3*c^18*d^6*e^5*f^5 + 65476*b^2*c^19*d^6*e^5*f^5 + 9100*b*c^20*d^6*e^5*f^5 - 13208*c^21*d^6*e^5*f^5 - 6704*b^5*c^15*d^7*e^5*f^5 + 12092*b^4*c^16*d^7*e^5*f^5 - 34020*b^3*c^17*d^7*e^5*f^5 + 28880*b^2*c^18*d^7*e^5*f^5 + 12196*b*c^19*d^7*e^5*f^5 - 12092*c^20*d^7*e^5*f^5 + 2788*b^4*c^15*d^8*e^5*f^5 - 9000*b^3*c^16*d^8*e^5*f^5 + 14172*b^2*c^17*d^8*e^5*f^5 - 1384*b*c^18*d^8*e^5*f^5 - 4424*c^19*d^8*e^5*f^5 - 404*b^3*c^15*d^9*e^5*f^5 + 1640*b^2*c^16*d^9*e^5*f^5 - 1424*b*c^17*d^9*e^5*f^5 - 152*c^18*d^9*e^5*f^5 + 12*b^2*c^15*d^10*e^5*f^5 - 72*b*c^16*d^10*e^5*f^5 + 24*c^17*d^10*e^5*f^5 - 48*b^9*c^17*e^6*f^5 - 72*b^8*c^18*e^6*f^5 + 656*b^7*c^19*e^6*f^5 + 1784*b^6*c^20*e^6*f^5 - 5324*b^5*c^21*e^6*f^5 + 2196*b^4*c^22*e^6*f^5 + 1688*b^3*c^23*e^6*f^5 - 912*b^2*c^24*e^6*f^5 + 144*b^9*c^16*d*e^6*f^5 + 936*b^8*c^17*d*e^6*f^5 - 3244*b^7*c^18*d*e^6*f^5 - 6568*b^6*c^19*d*e^6*f^5 + 20880*b^5*c^20*d*e^6*f^5 - 16620*b^4*c^21*d*e^6*f^5 + 4520*b^3*c^22*d*e^6*f^5 - 616*b^2*c^23*d*e^6*f^5 + 288*b*c^24*d*e^6*f^5 - 160*b^9*c^15*d^2*e^6*f^5 - 1984*b^8*c^16*d^2*e^6*f^5 - 412*b^7*c^17*d^2*e^6*f^5 + 7916*b^6*c^18*d^2*e^6*f^5 + 49360*b^5*c^19*d^2*e^6*f^5 - 120168*b^4*c^20*d^2*e^6*f^5 + 77008*b^3*c^21*d^2*e^6*f^5 - 9712*b^2*c^22*d^2*e^6*f^5 - 2680*b*c^23*d^2*e^6*f^5 + 304*c^24*d^2*e^6*f^5 + 40*b^9*c^14*d^3*e^6*f^5 + 2664*b^8*c^15*d^3*e^6*f^5 + 6504*b^7*c^16*d^3*e^6*f^5 - 37164*b^6*c^17*d^3*e^6*f^5 + 72996*b^5*c^18*d^3*e^6*f^5 - 111192*b^4*c^19*d^3*e^6*f^5 + 84600*b^3*c^20*d^3*e^6*f^5 - 17776*b^2*c^21*d^3*e^6*f^5 - 2856*b*c^22*d^3*e^6*f^5 - 56*c^23*d^3*e^6*f^5 - 420*b^8*c^14*d^4*e^6*f^5 - 9764*b^7*c^15*d^4*e^6*f^5 - 24804*b^6*c^16*d^4*e^6*f^5 + 149560*b^5*c^17*d^4*e^6*f^5 - 170224*b^4*c^18*d^4*e^6*f^5 + 2880*b^3*c^19*d^4*e^6*f^5 + 96416*b^2*c^20*d^4*e^6*f^5 - 55364*b*c^21*d^4*e^6*f^5 + 10012*c^22*d^4*e^6*f^5 + 1416*b^7*c^14*d^5*e^6*f^5 + 684*b^6*c^15*d^5*e^6*f^5 + 86424*b^5*c^16*d^5*e^6*f^5 - 164728*b^4*c^17*d^5*e^6*f^5 - 17212*b^3*c^18*d^5*e^6*f^5 + 176440*b^2*c^19*d^5*e^6*f^5 - 104424*b*c^20*d^5*e^6*f^5 + 19356*c^21*d^5*e^6*f^5 - 2072*b^6*c^14*d^6*e^6*f^5 + 35128*b^5*c^15*d^6*e^6*f^5 - 116736*b^4*c^16*d^6*e^6*f^5 + 15980*b^3*c^17*d^6*e^6*f^5 + 176132*b^2*c^18*d^6*e^6*f^5 - 132960*b*c^19*d^6*e^6*f^5 + 23920*c^20*d^6*e^6*f^5 + 1416*b^5*c^14*d^7*e^6*f^5 - 42632*b^4*c^15*d^7*e^6*f^5 + 59192*b^3*c^16*d^7*e^6*f^5 + 46908*b^2*c^17*d^7*e^6*f^5 - 88412*b*c^18*d^7*e^6*f^5 + 26568*c^19*d^7*e^6*f^5 - 420*b^4*c^14*d^8*e^6*f^5 + 16804*b^3*c^15*d^8*e^6*f^5 - 10580*b^2*c^16*d^8*e^6*f^5 - 16024*b*c^17*d^8*e^6*f^5 + 10664*c^18*d^8*e^6*f^5 + 40*b^3*c^14*d^9*e^6*f^5 - 2220*b^2*c^15*d^9*e^6*f^5 + 568*b*c^16*d^9*e^6*f^5 + 1024*c^17*d^9*e^6*f^5 + 72*b*c^15*d^10*e^6*f^5 - 8*c^16*d^10*e^6*f^5 + 48*b^9*c^16*e^7*f^5 + 412*b^8*c^17*e^7*f^5 - 168*b^7*c^18*e^7*f^5 + 544*b^6*c^19*e^7*f^5 - 7176*b^5*c^20*e^7*f^5 + 9612*b^4*c^21*e^7*f^5 - 1696*b^3*c^22*e^7*f^5 - 2432*b^2*c^23*e^7*f^5 + 832*b*c^24*e^7*f^5 - 96*b^9*c^15*d*e^7*f^5 - 1040*b^8*c^16*d*e^7*f^5 - 4884*b^7*c^17*d*e^7*f^5 + 18752*b^6*c^18*d*e^7*f^5 - 25704*b^5*c^19*d*e^7*f^5 + 22760*b^4*c^20*d*e^7*f^5 - 11312*b^3*c^21*d*e^7*f^5 + 1616*b^2*c^22*d*e^7*f^5 + 928*b*c^23*d*e^7*f^5 - 448*c^24*d*e^7*f^5 + 88*b^9*c^14*d^2*e^7*f^5 + 1096*b^8*c^15*d^2*e^7*f^5 + 968*b^7*c^16*d^2*e^7*f^5 + 26716*b^6*c^17*d^2*e^7*f^5 - 50272*b^5*c^18*d^2*e^7*f^5 - 33984*b^4*c^19*d^2*e^7*f^5 + 89568*b^3*c^20*d^2*e^7*f^5 - 24952*b^2*c^21*d^2*e^7*f^5 - 12864*b*c^22*d^2*e^7*f^5 + 3936*c^23*d^2*e^7*f^5 - 280*b^8*c^14*d^3*e^7*f^5 - 4424*b^7*c^15*d^3*e^7*f^5 + 6088*b^6*c^16*d^3*e^7*f^5 - 3948*b^5*c^17*d^3*e^7*f^5 - 101432*b^4*c^18*d^3*e^7*f^5 + 223544*b^3*c^19*d^3*e^7*f^5 - 140784*b^2*c^20*d^3*e^7*f^5 + 20656*b*c^21*d^3*e^7*f^5 + 2960*c^22*d^3*e^7*f^5 - 5928*b^7*c^14*d^4*e^7*f^5 + 16512*b^6*c^15*d^4*e^7*f^5 + 68436*b^5*c^16*d^4*e^7*f^5 - 277604*b^4*c^17*d^4*e^7*f^5 + 351304*b^3*c^18*d^4*e^7*f^5 - 183832*b^2*c^19*d^4*e^7*f^5 + 48008*b*c^20*d^4*e^7*f^5 - 10836*c^21*d^4*e^7*f^5 + 30768*b^6*c^14*d^5*e^7*f^5 - 30124*b^5*c^15*d^5*e^7*f^5 - 259100*b^4*c^16*d^5*e^7*f^5 + 536620*b^3*c^17*d^5*e^7*f^5 - 334544*b^2*c^18*d^5*e^7*f^5 + 66832*b*c^19*d^5*e^7*f^5 - 6616*c^20*d^5*e^7*f^5 - 51152*b^5*c^14*d^6*e^7*f^5 + 12732*b^4*c^15*d^6*e^7*f^5 + 274672*b^3*c^16*d^6*e^7*f^5 - 355300*b^2*c^17*d^6*e^7*f^5 + 143392*b*c^18*d^6*e^7*f^5 - 17320*c^19*d^6*e^7*f^5 + 35016*b^4*c^14*d^7*e^7*f^5 + 9008*b^3*c^15*d^7*e^7*f^5 - 114608*b^2*c^16*d^7*e^7*f^5 + 94228*b*c^17*d^7*e^7*f^5 - 22936*c^18*d^7*e^7*f^5 - 9864*b^3*c^14*d^8*e^7*f^5 - 5912*b^2*c^15*d^8*e^7*f^5 + 19204*b*c^16*d^8*e^7*f^5 - 8240*c^17*d^8*e^7*f^5 + 992*b^2*c^14*d^9*e^7*f^5 + 708*b*c^15*d^9*e^7*f^5 - 940*c^16*d^9*e^7*f^5 - 24*b*c^14*d^10*e^7*f^5 - 12*c^15*d^10*e^7*f^5 + 56*b^9*c^15*e^8*f^5 + 480*b^8*c^16*e^8*f^5 - 216*b^7*c^17*e^8*f^5 - 6200*b^6*c^18*e^8*f^5 + 8656*b^5*c^19*e^8*f^5 + 972*b^4*c^20*e^8*f^5 - 4360*b^3*c^21*e^8*f^5 + 16*b^2*c^22*e^8*f^5 + 736*b*c^23*e^8*f^5 - 64*c^24*e^8*f^5 - 112*b^9*c^14*d*e^8*f^5 - 1832*b^8*c^15*d*e^8*f^5 - 1860*b^7*c^16*d*e^8*f^5 + 20928*b^6*c^17*d*e^8*f^5 - 29736*b^5*c^18*d*e^8*f^5 + 25008*b^4*c^19*d*e^8*f^5 - 9936*b^3*c^20*d*e^8*f^5 - 9816*b^2*c^21*d*e^8*f^5 + 8960*b*c^22*d*e^8*f^5 - 1376*c^23*d*e^8*f^5 + 80*b^9*c^13*d^2*e^8*f^5 + 2096*b^8*c^14*d^2*e^8*f^5 + 8800*b^7*c^15*d^2*e^8*f^5 + 2392*b^6*c^16*d^2*e^8*f^5 - 133880*b^5*c^17*d^2*e^8*f^5 + 233836*b^4*c^18*d^2*e^8*f^5 - 118544*b^3*c^19*d^2*e^8*f^5 - 12392*b^2*c^20*d^2*e^8*f^5 + 21096*b*c^21*d^2*e^8*f^5 - 3536*c^22*d^2*e^8*f^5 - 1360*b^8*c^13*d^3*e^8*f^5 - 10976*b^7*c^14*d^3*e^8*f^5 + 14536*b^6*c^15*d^3*e^8*f^5 - 69364*b^5*c^16*d^3*e^8*f^5 + 218304*b^4*c^17*d^3*e^8*f^5 - 177400*b^3*c^18*d^3*e^8*f^5 + 35392*b^2*c^19*d^3*e^8*f^5 - 19984*b*c^20*d^3*e^8*f^5 + 12536*c^21*d^3*e^8*f^5 + 6960*b^7*c^13*d^4*e^8*f^5 + 25092*b^6*c^14*d^4*e^8*f^5 - 126088*b^5*c^15*d^4*e^8*f^5 + 218536*b^4*c^16*d^4*e^8*f^5 - 113592*b^3*c^17*d^4*e^8*f^5 - 21240*b^2*c^18*d^4*e^8*f^5 - 22240*b*c^19*d^4*e^8*f^5 + 28604*c^20*d^4*e^8*f^5 - 14896*b^6*c^13*d^5*e^8*f^5 - 28732*b^5*c^14*d^5*e^8*f^5 + 191360*b^4*c^15*d^5*e^8*f^5 - 239884*b^3*c^16*d^5*e^8*f^5 + 110432*b^2*c^17*d^5*e^8*f^5 - 44512*b*c^18*d^5*e^8*f^5 + 18480*c^19*d^5*e^8*f^5 + 14896*b^5*c^13*d^6*e^8*f^5 + 16552*b^4*c^14*d^6*e^8*f^5 - 102672*b^3*c^15*d^6*e^8*f^5 + 131448*b^2*c^16*d^6*e^8*f^5 - 99704*b*c^17*d^6*e^8*f^5 + 28868*c^18*d^6*e^8*f^5 - 6960*b^4*c^13*d^7*e^8*f^5 - 5000*b^3*c^14*d^7*e^8*f^5 + 20808*b^2*c^15*d^7*e^8*f^5 - 37180*b*c^16*d^7*e^8*f^5 + 20640*c^17*d^7*e^8*f^5 + 1360*b^3*c^13*d^8*e^8*f^5 + 804*b^2*c^14*d^8*e^8*f^5 - 2016*b*c^15*d^8*e^8*f^5 + 3496*c^16*d^8*e^8*f^5 - 80*b^2*c^13*d^9*e^8*f^5 - 44*b*c^14*d^9*e^8*f^5 + 120*c^15*d^9*e^8*f^5 - 8*b^9*c^14*e^9*f^5 - 116*b^8*c^15*e^9*f^5 - 184*b^7*c^16*e^9*f^5 - 3328*b^6*c^17*e^9*f^5 + 9776*b^5*c^18*e^9*f^5 - 1292*b^4*c^19*e^9*f^5 - 12656*b^3*c^20*e^9*f^5 + 9344*b^2*c^21*e^9*f^5 - 1408*b*c^22*e^9*f^5 - 128*c^23*e^9*f^5 + 8*b^9*c^13*d*e^9*f^5 + 128*b^8*c^14*d*e^9*f^5 + 1692*b^7*c^15*d*e^9*f^5 - 4312*b^6*c^16*d*e^9*f^5 + 28736*b^5*c^17*d*e^9*f^5 - 56056*b^4*c^18*d*e^9*f^5 + 26328*b^3*c^19*d*e^9*f^5 + 8464*b^2*c^20*d*e^9*f^5 - 6208*b*c^21*d*e^9*f^5 + 320*c^22*d*e^9*f^5 - 112*b^8*c^13*d^2*e^9*f^5 + 2112*b^7*c^14*d^2*e^9*f^5 - 13012*b^6*c^15*d^2*e^9*f^5 - 12372*b^5*c^16*d^2*e^9*f^5 + 57828*b^4*c^17*d^2*e^9*f^5 - 2624*b^3*c^18*d^2*e^9*f^5 - 88416*b^2*c^19*d^2*e^9*f^5 + 67056*b*c^20*d^2*e^9*f^5 - 12288*c^21*d^2*e^9*f^5 - 1264*b^7*c^13*d^3*e^9*f^5 - 15336*b^6*c^14*d^3*e^9*f^5 + 51120*b^5*c^15*d^3*e^9*f^5 + 88252*b^4*c^16*d^3*e^9*f^5 - 239888*b^3*c^17*d^3*e^9*f^5 + 37888*b^2*c^18*d^3*e^9*f^5 + 119240*b*c^19*d^3*e^9*f^5 - 43088*c^20*d^3*e^9*f^5 + 14520*b^6*c^13*d^4*e^9*f^5 + 17320*b^5*c^14*d^4*e^9*f^5 - 131772*b^4*c^15*d^4*e^9*f^5 + 98368*b^3*c^16*d^4*e^9*f^5 - 41800*b^2*c^17*d^4*e^9*f^5 + 61296*b*c^18*d^4*e^9*f^5 - 23092*c^19*d^4*e^9*f^5 - 41204*b^5*c^13*d^5*e^9*f^5 + 10528*b^4*c^14*d^5*e^9*f^5 + 222532*b^3*c^15*d^5*e^9*f^5 - 361792*b^2*c^16*d^5*e^9*f^5 + 189520*b*c^17*d^5*e^9*f^5 - 14504*c^18*d^5*e^9*f^5 + 45796*b^4*c^13*d^6*e^9*f^5 - 14896*b^3*c^14*d^6*e^9*f^5 - 179060*b^2*c^15*d^6*e^9*f^5 + 203084*b*c^16*d^6*e^9*f^5 - 43100*c^17*d^6*e^9*f^5 - 21672*b^3*c^13*d^7*e^9*f^5 + 1432*b^2*c^14*d^7*e^9*f^5 + 54992*b*c^15*d^7*e^9*f^5 - 27620*c^16*d^7*e^9*f^5 + 4208*b^2*c^13*d^8*e^9*f^5 + 848*b*c^14*d^8*e^9*f^5 - 4584*c^15*d^8*e^9*f^5 - 284*b*c^13*d^9*e^9*f^5 - 80*c^14*d^9*e^9*f^5 + 4*c^13*d^10*e^9*f^5 - 20*b^9*c^13*e^10*f^5 - 368*b^8*c^14*e^10*f^5 - 732*b^7*c^15*e^10*f^5 + 4564*b^6*c^16*e^10*f^5 - 1224*b^5*c^17*e^10*f^5 - 6016*b^4*c^18*e^10*f^5 + 1704*b^3*c^19*e^10*f^5 + 3856*b^2*c^20*e^10*f^5 - 2016*b*c^21*e^10*f^5 + 192*c^22*e^10*f^5 + 20*b^9*c^12*d*e^10*f^5 + 860*b^8*c^13*d*e^10*f^5 + 4472*b^7*c^14*d*e^10*f^5 - 9308*b^6*c^15*d*e^10*f^5 - 9984*b^5*c^16*d*e^10*f^5 + 36168*b^4*c^17*d*e^10*f^5 - 62104*b^3*c^18*d*e^10*f^5 + 64328*b^2*c^19*d*e^10*f^5 - 27488*b*c^20*d*e^10*f^5 + 3104*c^21*d*e^10*f^5 - 600*b^8*c^12*d^2*e^10*f^5 - 6888*b^7*c^13*d^2*e^10*f^5 - 6828*b^6*c^14*d^2*e^10*f^5 + 60396*b^5*c^15*d^2*e^10*f^5 - 53032*b^4*c^16*d^2*e^10*f^5 - 68216*b^3*c^17*d^2*e^10*f^5 + 148792*b^2*c^18*d^2*e^10*f^5 - 82568*b*c^19*d^2*e^10*f^5 + 11536*c^20*d^2*e^10*f^5 + 4840*b^7*c^12*d^3*e^10*f^5 + 20352*b^6*c^13*d^3*e^10*f^5 - 61284*b^5*c^14*d^3*e^10*f^5 + 46972*b^4*c^15*d^3*e^10*f^5 - 49928*b^3*c^16*d^3*e^10*f^5 + 73016*b^2*c^17*d^3*e^10*f^5 - 26696*b*c^18*d^3*e^10*f^5 - 4904*c^19*d^3*e^10*f^5 - 15400*b^6*c^12*d^4*e^10*f^5 - 40652*b^5*c^13*d^4*e^10*f^5 + 262572*b^4*c^14*d^4*e^10*f^5 - 438668*b^3*c^15*d^4*e^10*f^5 + 283980*b^2*c^16*d^4*e^10*f^5 + 6912*b*c^17*d^4*e^10*f^5 - 50776*c^18*d^4*e^10*f^5 + 22344*b^5*c^12*d^5*e^10*f^5 + 65628*b^4*c^13*d^5*e^10*f^5 - 364600*b^3*c^14*d^5*e^10*f^5 + 461300*b^2*c^15*d^5*e^10*f^5 - 145112*b*c^16*d^5*e^10*f^5 - 34176*c^17*d^5*e^10*f^5 - 15400*b^4*c^12*d^6*e^10*f^5 - 58320*b^3*c^13*d^6*e^10*f^5 + 201908*b^2*c^14*d^6*e^10*f^5 - 145828*b*c^15*d^6*e^10*f^5 + 9704*c^16*d^6*e^10*f^5 + 4840*b^3*c^12*d^7*e^10*f^5 + 22760*b^2*c^13*d^7*e^10*f^5 - 42780*b*c^14*d^7*e^10*f^5 + 11980*c^15*d^7*e^10*f^5 - 600*b^2*c^12*d^8*e^10*f^5 - 3336*b*c^13*d^8*e^10*f^5 + 2620*c^14*d^8*e^10*f^5 + 20*b*c^12*d^9*e^10*f^5 + 128*c^13*d^9*e^10*f^5 - 4*b^9*c^12*e^11*f^5 - 64*b^8*c^13*e^11*f^5 - 256*b^7*c^14*e^11*f^5 + 1432*b^6*c^15*e^11*f^5 + 4916*b^5*c^16*e^11*f^5 - 22032*b^4*c^17*e^11*f^5 + 25552*b^3*c^18*e^11*f^5 - 10112*b^2*c^19*e^11*f^5 + 320*b*c^20*e^11*f^5 + 256*c^21*e^11*f^5 + 172*b^8*c^12*d*e^11*f^5 + 1304*b^7*c^13*d*e^11*f^5 - 496*b^6*c^14*d*e^11*f^5 - 12892*b^5*c^15*d*e^11*f^5 - 5580*b^4*c^16*d*e^11*f^5 + 60904*b^3*c^17*d*e^11*f^5 - 55040*b^2*c^18*d*e^11*f^5 + 10400*b*c^19*d*e^11*f^5 + 1728*c^20*d*e^11*f^5 - 1144*b^7*c^12*d^2*e^11*f^5 - 14816*b^6*c^13*d^2*e^11*f^5 + 45496*b^5*c^14*d^2*e^11*f^5 + 5164*b^4*c^15*d^2*e^11*f^5 - 100056*b^3*c^16*d^2*e^11*f^5 + 107944*b^2*c^17*d^2*e^11*f^5 - 55408*b*c^18*d^2*e^11*f^5 + 13024*c^19*d^2*e^11*f^5 + 392*b^6*c^12*d^3*e^11*f^5 + 76060*b^5*c^13*d^3*e^11*f^5 - 218120*b^4*c^14*d^3*e^11*f^5 + 92880*b^3*c^15*d^3*e^11*f^5 + 223256*b^2*c^16*d^3*e^11*f^5 - 237384*b*c^17*d^3*e^11*f^5 + 61024*c^18*d^3*e^11*f^5 + 8456*b^5*c^12*d^4*e^11*f^5 - 152264*b^4*c^13*d^4*e^11*f^5 + 312576*b^3*c^14*d^4*e^11*f^5 - 77640*b^2*c^15*d^4*e^11*f^5 - 188156*b*c^16*d^4*e^11*f^5 + 91016*c^17*d^4*e^11*f^5 - 16184*b^4*c^12*d^5*e^11*f^5 + 120592*b^3*c^13*d^5*e^11*f^5 - 143904*b^2*c^14*d^5*e^11*f^5 - 21684*b*c^15*d^5*e^11*f^5 + 53204*c^16*d^5*e^11*f^5 + 10696*b^3*c^12*d^6*e^11*f^5 - 35280*b^2*c^13*d^6*e^11*f^5 + 11880*b*c^14*d^6*e^11*f^5 + 13764*c^15*d^6*e^11*f^5 - 2744*b^2*c^12*d^7*e^11*f^5 + 2524*b*c^13*d^7*e^11*f^5 + 1848*c^14*d^7*e^11*f^5 + 236*b*c^12*d^8*e^11*f^5 + 88*c^13*d^8*e^11*f^5 - 4*c^12*d^9*e^11*f^5 + 52*b^8*c^12*e^12*f^5 + 496*b^7*c^13*e^12*f^5 - 772*b^6*c^14*e^12*f^5 - 2304*b^5*c^15*e^12*f^5 + 3588*b^4*c^16*e^12*f^5 + 1520*b^3*c^17*e^12*f^5 - 4192*b^2*c^18*e^12*f^5 + 1824*b*c^19*e^12*f^5 - 192*c^20*e^12*f^5 - 1656*b^7*c^12*d*e^12*f^5 - 792*b^6*c^13*d*e^12*f^5 + 18228*b^5*c^14*d*e^12*f^5 - 49016*b^4*c^15*d*e^12*f^5 + 76336*b^3*c^16*d*e^12*f^5 - 65120*b^2*c^17*d*e^12*f^5 + 25056*b*c^18*d*e^12*f^5 - 3104*c^19*d*e^12*f^5 + 13088*b^6*c^12*d^2*e^12*f^5 - 22440*b^5*c^13*d^2*e^12*f^5 - 57596*b^4*c^14*d^2*e^12*f^5 + 212912*b^3*c^15*d^2*e^12*f^5 - 243784*b^2*c^16*d^2*e^12*f^5 + 110480*b*c^17*d^2*e^12*f^5 - 14272*c^18*d^2*e^12*f^5 - 38092*b^5*c^12*d^3*e^12*f^5 + 74288*b^4*c^13*d^3*e^12*f^5 + 69232*b^3*c^14*d^3*e^12*f^5 - 256336*b^2*c^15*d^3*e^12*f^5 + 182192*b*c^16*d^3*e^12*f^5 - 31328*c^17*d^3*e^12*f^5 + 47388*b^4*c^12*d^4*e^12*f^5 - 71704*b^3*c^13*d^4*e^12*f^5 - 55348*b^2*c^14*d^4*e^12*f^5 + 119824*b*c^15*d^4*e^12*f^5 - 35740*c^16*d^4*e^12*f^5 - 26192*b^3*c^12*d^5*e^12*f^5 + 22528*b^2*c^13*d^5*e^12*f^5 + 26108*b*c^14*d^5*e^12*f^5 - 19192*c^15*d^5*e^12*f^5 + 6088*b^2*c^12*d^6*e^12*f^5 - 1296*b*c^13*d^6*e^12*f^5 - 3884*c^14*d^6*e^12*f^5 - 492*b*c^12*d^7*e^12*f^5 - 120*c^13*d^7*e^12*f^5 + 8*c^12*d^8*e^12*f^5 + 296*b^7*c^12*e^13*f^5 + 472*b^6*c^13*e^13*f^5 - 6752*b^5*c^14*e^13*f^5 + 14752*b^4*c^15*e^13*f^5 - 12416*b^3*c^16*e^13*f^5 + 3520*b^2*c^17*e^13*f^5 + 256*b*c^18*e^13*f^5 - 128*c^19*e^13*f^5 - 3736*b^6*c^12*d*e^13*f^5 + 372*b^5*c^13*d*e^13*f^5 + 39464*b^4*c^14*d*e^13*f^5 - 74576*b^3*c^15*d*e^13*f^5 + 45376*b^2*c^16*d*e^13*f^5 - 5440*b*c^17*d*e^13*f^5 - 1600*c^18*d*e^13*f^5 + 13452*b^5*c^12*d^2*e^13*f^5 - 12744*b^4*c^13*d^2*e^13*f^5 - 50768*b^3*c^14*d^2*e^13*f^5 + 75888*b^2*c^15*d^2*e^13*f^5 - 21184*b*c^16*d^2*e^13*f^5 - 4160*c^17*d^2*e^13*f^5 - 18884*b^4*c^12*d^3*e^13*f^5 + 26200*b^3*c^13*d^3*e^13*f^5 + 5840*b^2*c^14*d^3*e^13*f^5 - 5872*b*c^15*d^3*e^13*f^5 - 6400*c^16*d^3*e^13*f^5 + 11296*b^3*c^12*d^4*e^13*f^5 - 18088*b^2*c^13*d^4*e^13*f^5 + 11536*b*c^14*d^4*e^13*f^5 - 6224*c^15*d^4*e^13*f^5 - 2784*b^2*c^12*d^5*e^13*f^5 + 4564*b*c^13*d^5*e^13*f^5 - 2584*c^14*d^5*e^13*f^5 + 236*b*c^12*d^6*e^13*f^5 - 328*c^13*d^6*e^13*f^5 - 4*c^12*d^7*e^13*f^5 + 180*b^5*c^13*e^14*f^5 - 88*b^4*c^14*e^14*f^5 - 832*b^3*c^15*e^14*f^5 + 1216*b^2*c^16*e^14*f^5 - 544*b*c^17*e^14*f^5 + 64*c^18*e^14*f^5 + 900*b^4*c^13*d*e^14*f^5 - 6016*b^3*c^14*d*e^14*f^5 + 10560*b^2*c^15*d*e^14*f^5 - 6784*b*c^16*d*e^14*f^5 + 1376*c^17*d*e^14*f^5 - 5760*b^3*c^13*d^2*e^14*f^5 + 18432*b^2*c^14*d^2*e^14*f^5 - 18048*b*c^15*d^2*e^14*f^5 + 5440*c^16*d^2*e^14*f^5 + 6896*b^2*c^13*d^3*e^14*f^5 - 13536*b*c^14*d^3*e^14*f^5 + 6400*c^15*d^3*e^14*f^5 - 2516*b*c^13*d^4*e^14*f^5 + 2424*c^14*d^4*e^14*f^5 + 236*c^13*d^5*e^14*f^5 - 12*b^8*c^21*d^2*f^6 - 8*b^7*c^22*d^2*f^6 + 48*b^6*c^23*d^2*f^6 - 24*b^5*c^24*d^2*f^6 - 4*b^4*c^25*d^2*f^6 - 16*b^8*c^20*d^3*f^6 - 12*b^7*c^21*d^3*f^6 + 76*b^6*c^22*d^3*f^6 - 44*b^5*c^23*d^3*f^6 - 12*b^4*c^24*d^3*f^6 + 8*b^3*c^25*d^3*f^6 - 4*b^7*c^20*d^4*f^6 + 28*b^6*c^21*d^4*f^6 + 36*b^5*c^22*d^4*f^6 - 140*b^4*c^23*d^4*f^6 + 80*b^3*c^24*d^4*f^6 + 32*b^6*c^20*d^5*f^6 + 32*b^5*c^21*d^5*f^6 - 184*b^4*c^22*d^5*f^6 + 136*b^3*c^23*d^5*f^6 - 8*b^2*c^24*d^5*f^6 - 8*b*c^25*d^5*f^6 + 8*b^5*c^20*d^6*f^6 - 28*b^4*c^21*d^6*f^6 - 16*b^3*c^22*d^6*f^6 + 88*b^2*c^23*d^6*f^6 - 56*b*c^24*d^6*f^6 + 4*c^25*d^6*f^6 - 16*b^4*c^20*d^7*f^6 - 20*b^3*c^21*d^7*f^6 + 108*b^2*c^22*d^7*f^6 - 92*b*c^23*d^7*f^6 + 20*c^24*d^7*f^6 - 4*b^3*c^20*d^8*f^6 + 12*b^2*c^21*d^8*f^6 - 12*b*c^22*d^8*f^6 + 4*c^23*d^8*f^6 + 8*b^9*c^20*d*e*f^6 - 24*b^8*c^21*d*e*f^6 + 24*b^7*c^22*d*e*f^6 - 8*b^6*c^23*d*e*f^6 - 12*b^9*c^19*d^2*e*f^6 - 140*b^8*c^20*d^2*e*f^6 + 296*b^7*c^21*d^2*e*f^6 + 300*b^6*c^22*d^2*e*f^6 - 764*b^5*c^23*d^2*e*f^6 + 312*b^4*c^24*d^2*e*f^6 + 8*b^3*c^25*d^2*e*f^6 - 68*b^8*c^19*d^3*e*f^6 + 500*b^7*c^20*d^3*e*f^6 + 440*b^6*c^21*d^3*e*f^6 - 1908*b^5*c^22*d^3*e*f^6 + 1132*b^4*c^23*d^3*e*f^6 - 104*b^3*c^24*d^3*e*f^6 + 8*b^2*c^25*d^3*e*f^6 + 284*b^7*c^19*d^4*e*f^6 + 488*b^6*c^20*d^4*e*f^6 - 1692*b^5*c^21*d^4*e*f^6 + 264*b^4*c^22*d^4*e*f^6 + 1104*b^3*c^23*d^4*e*f^6 - 472*b^2*c^24*d^4*e*f^6 + 24*b*c^25*d^4*e*f^6 + 372*b^6*c^19*d^5*e*f^6 - 1488*b^5*c^20*d^5*e*f^6 + 132*b^4*c^21*d^5*e*f^6 + 2320*b^3*c^22*d^5*e*f^6 - 1560*b^2*c^23*d^5*e*f^6 + 264*b*c^24*d^5*e*f^6 - 40*c^25*d^5*e*f^6 - 492*b^5*c^19*d^6*e*f^6 - 20*b^4*c^20*d^6*e*f^6 + 1400*b^3*c^21*d^6*e*f^6 - 868*b^2*c^22*d^6*e*f^6 - 20*b*c^23*d^6*e*f^6 - 292*b^4*c^19*d^7*e*f^6 + 988*b^3*c^20*d^7*e*f^6 - 696*b^2*c^21*d^7*e*f^6 - 116*b*c^22*d^7*e*f^6 + 116*c^23*d^7*e*f^6 + 220*b^3*c^19*d^8*e*f^6 - 360*b^2*c^20*d^8*e*f^6 + 156*b*c^21*d^8*e*f^6 - 16*c^22*d^8*e*f^6 - 12*b^2*c^19*d^9*e*f^6 + 24*b*c^20*d^9*e*f^6 - 12*c^21*d^9*e*f^6 - 4*b^9*c^20*e^2*f^6 + 20*b^8*c^21*e^2*f^6 - 8*b^7*c^22*e^2*f^6 - 24*b^6*c^23*e^2*f^6 + 12*b^5*c^24*e^2*f^6 + 4*b^4*c^25*e^2*f^6 + 28*b^9*c^19*d*e^2*f^6 - 92*b^8*c^20*d*e^2*f^6 + 88*b^7*c^21*d*e^2*f^6 - 424*b^6*c^22*d*e^2*f^6 + 676*b^5*c^23*d*e^2*f^6 - 268*b^4*c^24*d*e^2*f^6 - 8*b^3*c^25*d*e^2*f^6 - 48*b^9*c^18*d^2*e^2*f^6 - 404*b^8*c^19*d^2*e^2*f^6 + 2416*b^7*c^20*d^2*e^2*f^6 - 2920*b^6*c^21*d^2*e^2*f^6 - 776*b^5*c^22*d^2*e^2*f^6 + 2572*b^4*c^23*d^2*e^2*f^6 - 760*b^3*c^24*d^2*e^2*f^6 - 96*b^2*c^25*d^2*e^2*f^6 + 192*b^8*c^18*d^3*e^2*f^6 + 3112*b^7*c^19*d^3*e^2*f^6 - 7692*b^6*c^20*d^3*e^2*f^6 - 1812*b^5*c^21*d^3*e^2*f^6 + 12064*b^4*c^22*d^3*e^2*f^6 - 6952*b^3*c^23*d^3*e^2*f^6 + 1000*b^2*c^24*d^3*e^2*f^6 - 56*b*c^25*d^3*e^2*f^6 + 1216*b^7*c^18*d^4*e^2*f^6 - 6248*b^6*c^19*d^4*e^2*f^6 - 1464*b^5*c^20*d^4*e^2*f^6 + 13984*b^4*c^21*d^4*e^2*f^6 - 7720*b^3*c^22*d^4*e^2*f^6 + 80*b^2*c^23*d^4*e^2*f^6 - 116*b*c^24*d^4*e^2*f^6 + 156*c^25*d^4*e^2*f^6 - 2316*b^6*c^18*d^5*e^2*f^6 - 3376*b^5*c^19*d^5*e^2*f^6 + 15540*b^4*c^20*d^5*e^2*f^6 - 7272*b^3*c^21*d^5*e^2*f^6 - 5256*b^2*c^22*d^5*e^2*f^6 + 3140*b*c^23*d^5*e^2*f^6 - 188*c^24*d^5*e^2*f^6 - 1908*b^5*c^18*d^6*e^2*f^6 + 10576*b^4*c^19*d^6*e^2*f^6 - 8944*b^3*c^20*d^6*e^2*f^6 - 1840*b^2*c^21*d^6*e^2*f^6 + 2520*b*c^22*d^6*e^2*f^6 - 132*c^23*d^6*e^2*f^6 + 2680*b^4*c^18*d^7*e^2*f^6 - 3096*b^3*c^19*d^7*e^2*f^6 - 1380*b^2*c^20*d^7*e^2*f^6 + 1892*b*c^21*d^7*e^2*f^6 - 208*c^22*d^7*e^2*f^6 - 72*b^3*c^18*d^8*e^2*f^6 - 1032*b^2*c^19*d^8*e^2*f^6 + 1308*b*c^20*d^8*e^2*f^6 - 348*c^21*d^8*e^2*f^6 - 204*b^2*c^18*d^9*e^2*f^6 + 324*b*c^19*d^9*e^2*f^6 - 136*c^20*d^9*e^2*f^6 + 12*b*c^18*d^10*e^2*f^6 - 12*c^19*d^10*e^2*f^6 + 4*b^9*c^19*e^3*f^6 + 96*b^8*c^20*e^3*f^6 - 236*b^7*c^21*e^3*f^6 + 192*b^6*c^22*e^3*f^6 - 56*b^5*c^23*e^3*f^6 + 8*b^4*c^24*e^3*f^6 - 8*b^3*c^25*e^3*f^6 - 8*b^9*c^18*d*e^3*f^6 - 204*b^8*c^19*d*e^3*f^6 - 896*b^7*c^20*d*e^3*f^6 + 1980*b^6*c^21*d*e^3*f^6 + 1112*b^5*c^22*d*e^3*f^6 - 2944*b^4*c^23*d*e^3*f^6 + 872*b^3*c^24*d*e^3*f^6 + 120*b^2*c^25*d*e^3*f^6 - 16*b^9*c^17*d^2*e^3*f^6 + 16*b^8*c^18*d^2*e^3*f^6 + 3880*b^7*c^19*d^2*e^3*f^6 - 10068*b^6*c^20*d^2*e^3*f^6 + 10324*b^5*c^21*d^2*e^3*f^6 - 3096*b^4*c^22*d^2*e^3*f^6 - 1424*b^3*c^23*d^2*e^3*f^6 + 392*b^2*c^24*d^2*e^3*f^6 + 168*b*c^25*d^2*e^3*f^6 + 720*b^8*c^17*d^3*e^3*f^6 + 2320*b^7*c^18*d^3*e^3*f^6 - 29024*b^6*c^19*d^3*e^3*f^6 + 46748*b^5*c^20*d^3*e^3*f^6 - 7268*b^4*c^21*d^3*e^3*f^6 - 23200*b^3*c^22*d^3*e^3*f^6 + 10496*b^2*c^23*d^3*e^3*f^6 - 40*b*c^24*d^3*e^3*f^6 - 280*c^25*d^3*e^3*f^6 - 1616*b^7*c^17*d^4*e^3*f^6 - 18980*b^6*c^18*d^4*e^3*f^6 + 57468*b^5*c^19*d^4*e^3*f^6 - 23288*b^4*c^20*d^4*e^3*f^6 - 31020*b^3*c^21*d^4*e^3*f^6 + 20624*b^2*c^22*d^4*e^3*f^6 - 2136*b*c^23*d^4*e^3*f^6 + 48*c^24*d^4*e^3*f^6 - 5456*b^6*c^17*d^5*e^3*f^6 + 33892*b^5*c^18*d^5*e^3*f^6 - 15324*b^4*c^19*d^5*e^3*f^6 - 36880*b^3*c^20*d^5*e^3*f^6 + 22828*b^2*c^21*d^5*e^3*f^6 + 2344*b*c^22*d^5*e^3*f^6 - 1312*c^23*d^5*e^3*f^6 + 10464*b^5*c^17*d^6*e^3*f^6 - 6832*b^4*c^18*d^6*e^3*f^6 - 31472*b^3*c^19*d^6*e^3*f^6 + 30596*b^2*c^20*d^6*e^3*f^6 - 4124*b*c^21*d^6*e^3*f^6 - 408*c^22*d^6*e^3*f^6 - 16*b^4*c^17*d^7*e^3*f^6 - 16888*b^3*c^18*d^7*e^3*f^6 + 22904*b^2*c^19*d^7*e^3*f^6 - 7372*b*c^20*d^7*e^3*f^6 + 604*c^21*d^7*e^3*f^6 - 4240*b^3*c^17*d^8*e^3*f^6 + 9340*b^2*c^18*d^8*e^3*f^6 - 5528*b*c^19*d^8*e^3*f^6 + 936*c^20*d^8*e^3*f^6 + 1104*b^2*c^17*d^9*e^3*f^6 - 1364*b*c^18*d^9*e^3*f^6 + 432*c^19*d^9*e^3*f^6 - 48*b*c^17*d^10*e^3*f^6 + 40*c^18*d^10*e^3*f^6 + 36*b^9*c^18*e^4*f^6 + 148*b^8*c^19*e^4*f^6 - 496*b^7*c^20*e^4*f^6 + 72*b^6*c^21*e^4*f^6 + 76*b^5*c^22*e^4*f^6 + 308*b^4*c^23*e^4*f^6 - 128*b^3*c^24*e^4*f^6 - 32*b^2*c^25*e^4*f^6 - 108*b^9*c^17*d*e^4*f^6 - 580*b^8*c^18*d*e^4*f^6 - 1324*b^7*c^19*d*e^4*f^6 + 10544*b^6*c^20*d*e^4*f^6 - 10796*b^5*c^21*d*e^4*f^6 - 2648*b^4*c^22*d*e^4*f^6 + 6432*b^3*c^23*d*e^4*f^6 - 1376*b^2*c^24*d*e^4*f^6 - 192*b*c^25*d*e^4*f^6 + 96*b^9*c^16*d^2*e^4*f^6 + 1516*b^8*c^17*d^2*e^4*f^6 + 220*b^7*c^18*d^2*e^4*f^6 - 1396*b^6*c^19*d^2*e^4*f^6 - 5784*b^5*c^20*d^2*e^4*f^6 + 972*b^4*c^21*d^2*e^4*f^6 + 4392*b^3*c^22*d^2*e^4*f^6 + 168*b^2*c^23*d^2*e^4*f^6 - 1152*b*c^24*d^2*e^4*f^6 + 224*c^25*d^2*e^4*f^6 - 240*b^8*c^16*d^3*e^4*f^6 - 6732*b^7*c^17*d^3*e^4*f^6 - 10900*b^6*c^18*d^3*e^4*f^6 + 78524*b^5*c^19*d^3*e^4*f^6 - 91132*b^4*c^20*d^3*e^4*f^6 + 9464*b^3*c^21*d^3*e^4*f^6 + 31632*b^2*c^22*d^3*e^4*f^6 - 12288*b*c^23*d^3*e^4*f^6 + 736*c^24*d^3*e^4*f^6 - 4532*b^7*c^16*d^4*e^4*f^6 + 7916*b^6*c^17*d^4*e^4*f^6 + 87564*b^5*c^18*d^4*e^4*f^6 - 193072*b^4*c^19*d^4*e^4*f^6 + 93824*b^3*c^20*d^4*e^4*f^6 + 23728*b^2*c^21*d^4*e^4*f^6 - 17972*b*c^22*d^4*e^4*f^6 + 516*c^23*d^4*e^4*f^6 + 12504*b^6*c^16*d^5*e^4*f^6 + 25272*b^5*c^17*d^5*e^4*f^6 - 148044*b^4*c^18*d^5*e^4*f^6 + 120108*b^3*c^19*d^5*e^4*f^6 - 2840*b^2*c^20*d^5*e^4*f^6 - 6348*b*c^21*d^5*e^4*f^6 - 4280*c^22*d^5*e^4*f^6 + 1632*b^5*c^16*d^6*e^4*f^6 - 66244*b^4*c^17*d^6*e^4*f^6 + 88132*b^3*c^18*d^6*e^4*f^6 - 13380*b^2*c^19*d^6*e^4*f^6 - 3192*b*c^20*d^6*e^4*f^6 - 5636*c^21*d^6*e^4*f^6 - 19792*b^4*c^16*d^7*e^4*f^6 + 50428*b^3*c^17*d^7*e^4*f^6 - 23132*b^2*c^18*d^7*e^4*f^6 - 2268*b*c^19*d^7*e^4*f^6 - 796*c^20*d^7*e^4*f^6 + 12012*b^3*c^16*d^8*e^4*f^6 - 15076*b^2*c^17*d^8*e^4*f^6 + 3760*b*c^18*d^8*e^4*f^6 - 12*c^19*d^8*e^4*f^6 - 2008*b^2*c^16*d^9*e^4*f^6 + 1732*b*c^17*d^9*e^4*f^6 - 320*c^18*d^9*e^4*f^6 + 72*b*c^16*d^10*e^4*f^6 - 48*c^17*d^10*e^4*f^6 + 16*b^9*c^17*e^5*f^6 - 28*b^8*c^18*e^5*f^6 - 696*b^7*c^19*e^5*f^6 - 240*b^6*c^20*e^5*f^6 + 2420*b^5*c^21*e^5*f^6 - 696*b^4*c^22*e^5*f^6 - 1288*b^3*c^23*e^5*f^6 + 464*b^2*c^24*e^5*f^6 + 64*b*c^25*e^5*f^6 - 48*b^9*c^16*d*e^5*f^6 - 352*b^8*c^17*d*e^5*f^6 + 2100*b^7*c^18*d*e^5*f^6 + 8176*b^6*c^19*d*e^5*f^6 - 19816*b^5*c^20*d*e^5*f^6 + 3332*b^4*c^21*d*e^5*f^6 + 15200*b^3*c^22*d*e^5*f^6 - 10200*b^2*c^23*d*e^5*f^6 + 1824*b*c^24*d*e^5*f^6 - 64*c^25*d*e^5*f^6 + 68*b^9*c^15*d^2*e^5*f^6 + 1516*b^8*c^16*d^2*e^5*f^6 - 3472*b^7*c^17*d^2*e^5*f^6 + 1300*b^6*c^18*d^2*e^5*f^6 - 32492*b^5*c^19*d^2*e^5*f^6 + 47632*b^4*c^20*d^2*e^5*f^6 + 5376*b^3*c^21*d^2*e^5*f^6 - 29360*b^2*c^22*d^2*e^5*f^6 + 10568*b*c^23*d^2*e^5*f^6 - 1008*c^24*d^2*e^5*f^6 - 1332*b^8*c^15*d^3*e^5*f^6 - 11508*b^7*c^16*d^3*e^5*f^6 + 37584*b^6*c^17*d^3*e^5*f^6 - 9340*b^5*c^18*d^3*e^5*f^6 - 44548*b^4*c^19*d^3*e^5*f^6 + 30496*b^3*c^20*d^3*e^5*f^6 + 19056*b^2*c^21*d^3*e^5*f^6 - 23904*b*c^22*d^3*e^5*f^6 + 5656*c^23*d^3*e^5*f^6 + 4172*b^7*c^15*d^4*e^5*f^6 + 35752*b^6*c^16*d^4*e^5*f^6 - 56264*b^5*c^17*d^4*e^5*f^6 - 100844*b^4*c^18*d^4*e^5*f^6 + 170752*b^3*c^19*d^4*e^5*f^6 - 7184*b^2*c^20*d^4*e^5*f^6 - 63956*b*c^21*d^4*e^5*f^6 + 18856*c^22*d^4*e^5*f^6 + 6020*b^6*c^15*d^5*e^5*f^6 - 60160*b^5*c^16*d^5*e^5*f^6 - 21656*b^4*c^17*d^5*e^5*f^6 + 179180*b^3*c^18*d^5*e^5*f^6 - 64712*b^2*c^19*d^5*e^5*f^6 - 57112*b*c^20*d^5*e^5*f^6 + 22188*c^21*d^5*e^5*f^6 - 32060*b^5*c^15*d^6*e^5*f^6 + 62516*b^4*c^16*d^6*e^5*f^6 + 44472*b^3*c^17*d^6*e^5*f^6 - 66820*b^2*c^18*d^6*e^5*f^6 - 15708*b*c^19*d^6*e^5*f^6 + 13648*c^20*d^6*e^5*f^6 + 33948*b^4*c^15*d^7*e^5*f^6 - 36412*b^3*c^16*d^7*e^5*f^6 - 4776*b^2*c^17*d^7*e^5*f^6 + 284*b*c^18*d^7*e^5*f^6 + 3164*c^19*d^7*e^5*f^6 - 12772*b^3*c^15*d^8*e^5*f^6 + 10104*b^2*c^16*d^8*e^5*f^6 - 2672*b*c^17*d^8*e^5*f^6 + 888*c^18*d^8*e^5*f^6 + 1620*b^2*c^15*d^9*e^5*f^6 - 1152*b*c^16*d^9*e^5*f^6 + 272*c^17*d^9*e^5*f^6 - 48*b*c^15*d^10*e^5*f^6 + 32*c^16*d^10*e^5*f^6 - 60*b^9*c^16*e^6*f^6 - 480*b^8*c^17*e^6*f^6 - 424*b^7*c^18*e^6*f^6 + 2920*b^6*c^19*e^6*f^6 - 412*b^5*c^20*e^6*f^6 - 704*b^4*c^21*e^6*f^6 - 2976*b^3*c^22*e^6*f^6 + 2976*b^2*c^23*e^6*f^6 - 704*b*c^24*e^6*f^6 + 132*b^9*c^15*d*e^6*f^6 + 1412*b^8*c^16*d*e^6*f^6 + 3652*b^7*c^17*d*e^6*f^6 - 3000*b^6*c^18*d*e^6*f^6 - 24868*b^5*c^19*d*e^6*f^6 + 31584*b^4*c^20*d*e^6*f^6 - 5048*b^3*c^21*d*e^6*f^6 - 5312*b^2*c^22*d*e^6*f^6 + 768*b*c^23*d*e^6*f^6 + 384*c^24*d*e^6*f^6 - 48*b^9*c^14*d^2*e^6*f^6 - 1700*b^8*c^15*d^2*e^6*f^6 - 7348*b^7*c^16*d^2*e^6*f^6 + 2732*b^6*c^17*d^2*e^6*f^6 - 3592*b^5*c^18*d^2*e^6*f^6 + 40252*b^4*c^19*d^2*e^6*f^6 - 5400*b^3*c^20*d^2*e^6*f^6 - 52088*b^2*c^21*d^2*e^6*f^6 + 34080*b*c^22*d^2*e^6*f^6 - 5408*c^23*d^2*e^6*f^6 + 64*b^8*c^14*d^3*e^6*f^6 + 408*b^7*c^15*d^3*e^6*f^6 + 45220*b^6*c^16*d^3*e^6*f^6 - 70100*b^5*c^17*d^3*e^6*f^6 - 21240*b^4*c^18*d^3*e^6*f^6 + 138160*b^3*c^19*d^3*e^6*f^6 - 150416*b^2*c^20*d^3*e^6*f^6 + 71448*b*c^21*d^3*e^6*f^6 - 12928*c^22*d^3*e^6*f^6 + 3960*b^7*c^14*d^4*e^6*f^6 + 22920*b^6*c^15*d^4*e^6*f^6 - 147168*b^5*c^16*d^4*e^6*f^6 + 89248*b^4*c^17*d^4*e^6*f^6 + 224136*b^3*c^18*d^4*e^6*f^6 - 289032*b^2*c^19*d^4*e^6*f^6 + 97588*b*c^20*d^4*e^6*f^6 - 3688*c^21*d^4*e^6*f^6 - 18604*b^6*c^14*d^5*e^6*f^6 - 30056*b^5*c^15*d^5*e^6*f^6 + 120280*b^4*c^16*d^5*e^6*f^6 + 78596*b^3*c^17*d^5*e^6*f^6 - 252808*b^2*c^18*d^5*e^6*f^6 + 103636*b*c^19*d^5*e^6*f^6 + 3248*c^20*d^5*e^6*f^6 + 29804*b^5*c^14*d^6*e^6*f^6 - 20560*b^4*c^15*d^6*e^6*f^6 + 45644*b^3*c^16*d^6*e^6*f^6 - 125228*b^2*c^17*d^6*e^6*f^6 + 55528*b*c^18*d^6*e^6*f^6 + 9220*c^19*d^6*e^6*f^6 - 19992*b^4*c^14*d^7*e^6*f^6 + 38120*b^3*c^15*d^7*e^6*f^6 - 65372*b^2*c^16*d^7*e^6*f^6 + 37068*b*c^17*d^7*e^6*f^6 + 3704*c^18*d^7*e^6*f^6 + 5536*b^3*c^14*d^8*e^6*f^6 - 13432*b^2*c^15*d^8*e^6*f^6 + 14692*b*c^16*d^8*e^6*f^6 - 2496*c^17*d^8*e^6*f^6 - 540*b^2*c^14*d^9*e^6*f^6 + 1380*b*c^15*d^9*e^6*f^6 - 708*c^16*d^9*e^6*f^6 + 12*b*c^14*d^10*e^6*f^6 - 28*c^15*d^10*e^6*f^6 - 48*b^9*c^15*e^7*f^6 - 460*b^8*c^16*e^7*f^6 + 1144*b^7*c^17*e^7*f^6 + 2312*b^6*c^18*e^7*f^6 - 232*b^5*c^19*e^7*f^6 - 7072*b^4*c^20*e^7*f^6 + 2840*b^3*c^21*e^7*f^6 + 2320*b^2*c^22*e^7*f^6 - 928*b*c^23*e^7*f^6 + 88*b^9*c^14*d*e^7*f^6 + 1688*b^8*c^15*d*e^7*f^6 + 2508*b^7*c^16*d*e^7*f^6 - 17568*b^6*c^17*d*e^7*f^6 - 18440*b^5*c^18*d*e^7*f^6 + 82312*b^4*c^19*d*e^7*f^6 - 72072*b^3*c^20*d*e^7*f^6 + 23992*b^2*c^21*d*e^7*f^6 - 3424*b*c^22*d*e^7*f^6 + 224*c^23*d*e^7*f^6 - 40*b^9*c^13*d^2*e^7*f^6 - 2592*b^8*c^14*d^2*e^7*f^6 - 8720*b^7*c^15*d^2*e^7*f^6 + 19484*b^6*c^16*d^2*e^7*f^6 - 17648*b^5*c^17*d^2*e^7*f^6 + 143304*b^4*c^18*d^2*e^7*f^6 - 242144*b^3*c^19*d^2*e^7*f^6 + 130216*b^2*c^20*d^2*e^7*f^6 - 22744*b*c^21*d^2*e^7*f^6 + 1744*c^22*d^2*e^7*f^6 + 680*b^8*c^13*d^3*e^7*f^6 + 17280*b^7*c^14*d^3*e^7*f^6 + 17672*b^6*c^15*d^3*e^7*f^6 - 166196*b^5*c^16*d^3*e^7*f^6 + 280648*b^4*c^17*d^3*e^7*f^6 - 235816*b^3*c^18*d^3*e^7*f^6 + 71120*b^2*c^19*d^3*e^7*f^6 + 18952*b*c^20*d^3*e^7*f^6 - 9144*c^21*d^3*e^7*f^6 - 3480*b^7*c^13*d^4*e^7*f^6 - 25212*b^6*c^14*d^4*e^7*f^6 - 101836*b^5*c^15*d^4*e^7*f^6 + 399236*b^4*c^16*d^4*e^7*f^6 - 324056*b^3*c^17*d^4*e^7*f^6 - 36704*b^2*c^18*d^4*e^7*f^6 + 129640*b*c^19*d^4*e^7*f^6 - 39240*c^20*d^4*e^7*f^6 + 7448*b^6*c^13*d^5*e^7*f^6 - 44228*b^5*c^14*d^5*e^7*f^6 + 285836*b^4*c^15*d^5*e^7*f^6 - 331428*b^3*c^16*d^5*e^7*f^6 - 65008*b^2*c^17*d^5*e^7*f^6 + 200464*b*c^18*d^5*e^7*f^6 - 57464*c^19*d^5*e^7*f^6 - 7448*b^5*c^13*d^6*e^7*f^6 + 120416*b^4*c^14*d^6*e^7*f^6 - 276744*b^3*c^15*d^6*e^7*f^6 + 63132*b^2*c^16*d^6*e^7*f^6 + 157776*b*c^17*d^6*e^7*f^6 - 67792*c^18*d^6*e^7*f^6 + 3480*b^4*c^13*d^7*e^7*f^6 - 82136*b^3*c^14*d^7*e^7*f^6 + 100448*b^2*c^15*d^7*e^7*f^6 + 16844*b*c^16*d^7*e^7*f^6 - 33400*c^17*d^7*e^7*f^6 - 680*b^3*c^13*d^8*e^7*f^6 + 19972*b^2*c^14*d^8*e^7*f^6 - 13068*b*c^15*d^8*e^7*f^6 - 3184*c^16*d^8*e^7*f^6 + 40*b^2*c^13*d^9*e^7*f^6 - 1564*b*c^14*d^9*e^7*f^6 + 468*c^15*d^9*e^7*f^6 + 24*c^14*d^10*e^7*f^6 + 28*b^9*c^14*e^8*f^6 + 384*b^8*c^15*e^8*f^6 + 1944*b^7*c^16*e^8*f^6 - 3952*b^6*c^17*e^8*f^6 + 5952*b^5*c^18*e^8*f^6 - 19768*b^4*c^19*e^8*f^6 + 21872*b^3*c^20*e^8*f^6 - 5536*b^2*c^21*e^8*f^6 - 1728*b*c^22*e^8*f^6 + 512*c^23*e^8*f^6 - 52*b^9*c^13*d*e^8*f^6 - 716*b^8*c^14*d*e^8*f^6 - 2364*b^7*c^15*d*e^8*f^6 - 25032*b^6*c^16*d*e^8*f^6 + 74520*b^5*c^17*d*e^8*f^6 - 63472*b^4*c^18*d*e^8*f^6 + 20096*b^3*c^19*d*e^8*f^6 - 7136*b^2*c^20*d*e^8*f^6 + 5984*b*c^21*d*e^8*f^6 - 1280*c^22*d*e^8*f^6 + 600*b^8*c^13*d^2*e^8*f^6 + 3516*b^7*c^14*d^2*e^8*f^6 - 6932*b^6*c^15*d^2*e^8*f^6 + 94672*b^5*c^16*d^2*e^8*f^6 - 115940*b^4*c^17*d^2*e^8*f^6 - 97744*b^3*c^18*d^2*e^8*f^6 + 167952*b^2*c^19*d^2*e^8*f^6 - 45264*b*c^20*d^2*e^8*f^6 - 3008*c^21*d^2*e^8*f^6 + 4312*b^7*c^13*d^3*e^8*f^6 - 21704*b^6*c^14*d^3*e^8*f^6 - 6952*b^5*c^15*d^3*e^8*f^6 + 90780*b^4*c^16*d^3*e^8*f^6 - 277744*b^3*c^17*d^3*e^8*f^6 + 333920*b^2*c^18*d^3*e^8*f^6 - 149536*b*c^19*d^3*e^8*f^6 + 21184*c^20*d^3*e^8*f^6 - 47464*b^6*c^13*d^4*e^8*f^6 + 94696*b^5*c^14*d^4*e^8*f^6 + 222596*b^4*c^15*d^4*e^8*f^6 - 689496*b^3*c^16*d^4*e^8*f^6 + 589128*b^2*c^17*d^4*e^8*f^6 - 186576*b*c^18*d^4*e^8*f^6 + 23048*c^19*d^4*e^8*f^6 + 124800*b^5*c^13*d^5*e^8*f^6 - 143812*b^4*c^14*d^5*e^8*f^6 - 439740*b^3*c^15*d^5*e^8*f^6 + 763776*b^2*c^16*d^5*e^8*f^6 - 346152*b*c^17*d^5*e^8*f^6 + 40560*c^18*d^5*e^8*f^6 - 130624*b^4*c^13*d^6*e^8*f^6 + 72060*b^3*c^14*d^6*e^8*f^6 + 294180*b^2*c^15*d^6*e^8*f^6 - 292272*b*c^16*d^6*e^8*f^6 + 68812*c^17*d^6*e^8*f^6 + 58696*b^3*c^13*d^7*e^8*f^6 - 6912*b^2*c^14*d^7*e^8*f^6 - 74432*b*c^15*d^7*e^8*f^6 + 35212*c^16*d^7*e^8*f^6 - 10728*b^2*c^13*d^8*e^8*f^6 - 1276*b*c^14*d^8*e^8*f^6 + 5644*c^15*d^8*e^8*f^6 + 660*b*c^13*d^9*e^8*f^6 + 88*c^14*d^9*e^8*f^6 - 8*c^13*d^10*e^8*f^6 + 32*b^9*c^13*e^9*f^6 + 620*b^8*c^14*e^9*f^6 + 1040*b^7*c^15*e^9*f^6 - 3592*b^6*c^16*e^9*f^6 - 9808*b^5*c^17*e^9*f^6 + 17232*b^4*c^18*e^9*f^6 - 2120*b^3*c^19*e^9*f^6 - 2768*b^2*c^20*e^9*f^6 - 864*b*c^21*e^9*f^6 + 448*c^22*e^9*f^6 - 40*b^9*c^12*d*e^9*f^6 - 1384*b^8*c^13*d*e^9*f^6 - 8108*b^7*c^14*d*e^9*f^6 + 4416*b^6*c^15*d*e^9*f^6 + 67400*b^5*c^16*d*e^9*f^6 - 123104*b^4*c^17*d*e^9*f^6 + 87264*b^3*c^18*d*e^9*f^6 - 16600*b^2*c^19*d*e^9*f^6 - 12416*b*c^20*d*e^9*f^6 + 4704*c^21*d*e^9*f^6 + 1200*b^8*c^12*d^2*e^9*f^6 + 11624*b^7*c^13*d^2*e^9*f^6 + 7328*b^6*c^14*d^2*e^9*f^6 + 30916*b^5*c^15*d^2*e^9*f^6 - 308592*b^4*c^16*d^2*e^9*f^6 + 423448*b^3*c^17*d^2*e^9*f^6 - 180352*b^2*c^18*d^2*e^9*f^6 + 12552*b*c^19*d^2*e^9*f^6 + 2192*c^20*d^2*e^9*f^6 - 9680*b^7*c^12*d^3*e^9*f^6 - 33928*b^6*c^13*d^3*e^9*f^6 + 119696*b^5*c^14*d^3*e^9*f^6 - 297804*b^4*c^15*d^3*e^9*f^6 + 426192*b^3*c^16*d^3*e^9*f^6 - 212984*b^2*c^17*d^3*e^9*f^6 + 40576*b*c^18*d^3*e^9*f^6 - 18728*c^19*d^3*e^9*f^6 + 30800*b^6*c^12*d^4*e^9*f^6 + 44204*b^5*c^13*d^4*e^9*f^6 - 329836*b^4*c^14*d^4*e^9*f^6 + 505536*b^3*c^15*d^4*e^9*f^6 - 251176*b^2*c^16*d^4*e^9*f^6 + 24952*b*c^17*d^4*e^9*f^6 - 12720*c^18*d^4*e^9*f^6 - 44688*b^5*c^12*d^5*e^9*f^6 - 30036*b^4*c^13*d^5*e^9*f^6 + 286356*b^3*c^14*d^5*e^9*f^6 - 318464*b^2*c^15*d^5*e^9*f^6 + 143304*b*c^16*d^5*e^9*f^6 - 34472*c^17*d^5*e^9*f^6 + 30800*b^4*c^12*d^6*e^9*f^6 + 12704*b^3*c^13*d^6*e^9*f^6 - 91112*b^2*c^14*d^6*e^9*f^6 + 93356*b*c^15*d^6*e^9*f^6 - 42496*c^16*d^6*e^9*f^6 - 9680*b^3*c^12*d^7*e^9*f^6 - 3600*b^2*c^13*d^7*e^9*f^6 + 10504*b*c^14*d^7*e^9*f^6 - 11060*c^15*d^7*e^9*f^6 + 1200*b^2*c^12*d^8*e^9*f^6 + 460*b*c^13*d^8*e^9*f^6 - 504*c^14*d^8*e^9*f^6 - 40*b*c^12*d^9*e^9*f^6 - 12*c^13*d^9*e^9*f^6 - 20*b^8*c^13*e^10*f^6 - 592*b^7*c^14*e^10*f^6 - 56*b^6*c^15*e^10*f^6 - 10468*b^5*c^16*e^10*f^6 + 27380*b^4*c^17*e^10*f^6 - 10160*b^3*c^18*e^10*f^6 - 13600*b^2*c^19*e^10*f^6 + 8704*b*c^20*e^10*f^6 - 896*c^21*e^10*f^6 - 24*b^8*c^12*d*e^10*f^6 - 1116*b^7*c^13*d*e^10*f^6 + 11648*b^6*c^14*d*e^10*f^6 - 15204*b^5*c^15*d*e^10*f^6 + 43748*b^4*c^16*d*e^10*f^6 - 83336*b^3*c^17*d*e^10*f^6 + 55040*b^2*c^18*d*e^10*f^6 - 12608*b*c^19*d*e^10*f^6 + 896*c^20*d*e^10*f^6 + 1460*b^7*c^12*d^2*e^10*f^6 + 15164*b^6*c^13*d^2*e^10*f^6 - 74896*b^5*c^14*d^2*e^10*f^6 + 5340*b^4*c^15*d^2*e^10*f^6 + 126680*b^3*c^16*d^2*e^10*f^6 - 21120*b^2*c^17*d^2*e^10*f^6 - 94000*b*c^18*d^2*e^10*f^6 + 38752*c^19*d^2*e^10*f^6 - 16840*b^6*c^12*d^3*e^10*f^6 - 32024*b^5*c^13*d^3*e^10*f^6 + 174120*b^4*c^14*d^3*e^10*f^6 + 3552*b^3*c^15*d^3*e^10*f^6 - 184248*b^2*c^16*d^3*e^10*f^6 + 6120*b*c^17*d^3*e^10*f^6 + 46304*c^18*d^3*e^10*f^6 + 65280*b^5*c^12*d^4*e^10*f^6 - 24352*b^4*c^13*d^4*e^10*f^6 - 224608*b^3*c^14*d^4*e^10*f^6 + 249640*b^2*c^15*d^4*e^10*f^6 - 116148*b*c^16*d^4*e^10*f^6 + 27628*c^17*d^4*e^10*f^6 - 103556*b^4*c^12*d^5*e^10*f^6 + 82676*b^3*c^13*d^5*e^10*f^6 + 212784*b^2*c^14*d^5*e^10*f^6 - 286812*b*c^15*d^5*e^10*f^6 + 79380*c^16*d^5*e^10*f^6 + 71860*b^3*c^12*d^6*e^10*f^6 - 45172*b^2*c^13*d^6*e^10*f^6 - 100896*b*c^14*d^6*e^10*f^6 + 67092*c^15*d^6*e^10*f^6 - 21456*b^2*c^12*d^7*e^10*f^6 + 6720*b*c^13*d^7*e^10*f^6 + 14024*c^14*d^7*e^10*f^6 + 2456*b*c^12*d^8*e^10*f^6 - 148*c^13*d^8*e^10*f^6 - 76*c^12*d^9*e^10*f^6 - 4*b^9*c^11*e^11*f^6 - 228*b^8*c^12*e^11*f^6 - 1548*b^7*c^13*e^11*f^6 + 248*b^6*c^14*e^11*f^6 + 10912*b^5*c^15*e^11*f^6 - 10504*b^4*c^16*e^11*f^6 + 1856*b^3*c^17*e^11*f^6 - 5456*b^2*c^18*e^11*f^6 + 5792*b*c^19*e^11*f^6 - 1216*c^20*e^11*f^6 + 276*b^8*c^11*d*e^11*f^6 + 4372*b^7*c^12*d*e^11*f^6 + 8676*b^6*c^13*d*e^11*f^6 - 33424*b^5*c^14*d*e^11*f^6 + 4568*b^4*c^15*d*e^11*f^6 + 59816*b^3*c^16*d*e^11*f^6 - 98160*b^2*c^17*d*e^11*f^6 + 64736*b*c^18*d*e^11*f^6 - 13280*c^19*d*e^11*f^6 - 3864*b^7*c^11*d^2*e^11*f^6 - 20392*b^6*c^12*d^2*e^11*f^6 + 15292*b^5*c^13*d^2*e^11*f^6 + 73632*b^4*c^14*d^2*e^11*f^6 - 63728*b^3*c^15*d^2*e^11*f^6 - 78040*b^2*c^16*d^2*e^11*f^6 + 105984*b*c^17*d^2*e^11*f^6 - 27920*c^18*d^2*e^11*f^6 + 19096*b^6*c^11*d^3*e^11*f^6 + 40440*b^5*c^12*d^3*e^11*f^6 - 180580*b^4*c^13*d^3*e^11*f^6 + 212344*b^3*c^14*d^3*e^11*f^6 - 143568*b^2*c^15*d^3*e^11*f^6 + 41720*b*c^16*d^3*e^11*f^6 + 9648*c^17*d^3*e^11*f^6 - 40824*b^5*c^11*d^4*e^11*f^6 - 64828*b^4*c^12*d^4*e^11*f^6 + 415012*b^3*c^13*d^4*e^11*f^6 - 539616*b^2*c^14*d^4*e^11*f^6 + 219408*b*c^15*d^4*e^11*f^6 + 14016*c^16*d^4*e^11*f^6 + 40824*b^4*c^11*d^5*e^11*f^6 + 82468*b^3*c^12*d^5*e^11*f^6 - 362044*b^2*c^13*d^5*e^11*f^6 + 305240*b*c^14*d^5*e^11*f^6 - 46088*c^15*d^5*e^11*f^6 - 19096*b^3*c^11*d^6*e^11*f^6 - 51024*b^2*c^12*d^6*e^11*f^6 + 119628*b*c^13*d^6*e^11*f^6 - 43768*c^14*d^6*e^11*f^6 + 3864*b^2*c^11*d^7*e^11*f^6 + 12112*b*c^12*d^7*e^11*f^6 - 11684*c^13*d^7*e^11*f^6 - 276*b*c^11*d^8*e^11*f^6 - 808*c^12*d^8*e^11*f^6 + 4*c^11*d^9*e^11*f^6 - 52*b^8*c^11*e^12*f^6 - 424*b^7*c^12*e^12*f^6 + 72*b^6*c^13*e^12*f^6 + 4276*b^5*c^14*e^12*f^6 + 5796*b^4*c^15*e^12*f^6 - 32752*b^3*c^16*e^12*f^6 + 32064*b^2*c^17*e^12*f^6 - 9408*b*c^18*e^12*f^6 + 256*c^19*e^12*f^6 + 1064*b^7*c^11*d*e^12*f^6 + 6264*b^6*c^12*d*e^12*f^6 - 16108*b^5*c^13*d*e^12*f^6 - 12472*b^4*c^14*d*e^12*f^6 + 13696*b^3*c^15*d*e^12*f^6 + 29888*b^2*c^16*d*e^12*f^6 - 22240*b*c^17*d*e^12*f^6 + 1024*c^18*d*e^12*f^6 - 4648*b^6*c^11*d^2*e^12*f^6 - 45120*b^5*c^12*d^2*e^12*f^6 + 139020*b^4*c^13*d^2*e^12*f^6 - 46552*b^3*c^14*d^2*e^12*f^6 - 133528*b^2*c^15*d^2*e^12*f^6 + 130704*b*c^16*d^2*e^12*f^6 - 36448*c^17*d^2*e^12*f^6 + 2968*b^5*c^11*d^3*e^12*f^6 + 144028*b^4*c^12*d^3*e^12*f^6 - 343264*b^3*c^13*d^3*e^12*f^6 + 118768*b^2*c^14*d^3*e^12*f^6 + 178496*b*c^15*d^3*e^12*f^6 - 99552*c^16*d^3*e^12*f^6 + 11032*b^4*c^11*d^4*e^12*f^6 - 185080*b^3*c^12*d^4*e^12*f^6 + 283256*b^2*c^13*d^4*e^12*f^6 - 31868*b*c^14*d^4*e^12*f^6 - 69388*c^15*d^4*e^12*f^6 - 16520*b^3*c^11*d^5*e^12*f^6 + 92032*b^2*c^12*d^5*e^12*f^6 - 68916*b*c^13*d^5*e^12*f^6 - 11096*c^14*d^5*e^12*f^6 + 7448*b^2*c^11*d^6*e^12*f^6 - 15104*b*c^12*d^6*e^12*f^6 + 1460*c^13*d^6*e^12*f^6 - 1144*b*c^11*d^7*e^12*f^6 + 396*c^12*d^7*e^12*f^6 + 44*c^11*d^8*e^12*f^6 + 296*b^7*c^11*e^13*f^6 + 1080*b^6*c^12*e^13*f^6 - 3236*b^5*c^13*e^13*f^6 + 1032*b^4*c^14*e^13*f^6 - 2224*b^3*c^15*e^13*f^6 + 7616*b^2*c^16*e^13*f^6 - 5600*b*c^17*e^13*f^6 + 1088*c^18*e^13*f^6 - 5672*b^6*c^11*d*e^13*f^6 + 3168*b^5*c^12*d*e^13*f^6 + 35836*b^4*c^13*d*e^13*f^6 - 93600*b^3*c^14*d*e^13*f^6 + 110000*b^2*c^15*d*e^13*f^6 - 60256*b*c^16*d*e^13*f^6 + 11360*c^17*d*e^13*f^6 + 29892*b^5*c^11*d^2*e^13*f^6 - 46056*b^4*c^12*d^2*e^13*f^6 - 82624*b^3*c^13*d^2*e^13*f^6 + 237968*b^2*c^14*d^2*e^13*f^6 - 180496*b*c^15*d^2*e^13*f^6 + 40416*c^16*d^2*e^13*f^6 - 60188*b^4*c^11*d^3*e^13*f^6 + 86984*b^3*c^12*d^3*e^13*f^6 + 81664*b^2*c^13*d^3*e^13*f^6 - 173440*b*c^14*d^3*e^13*f^6 + 59856*c^15*d^3*e^13*f^6 + 51536*b^3*c^11*d^4*e^13*f^6 - 50240*b^2*c^12*d^4*e^13*f^6 - 43484*b*c^13*d^4*e^13*f^6 + 37832*c^14*d^4*e^13*f^6 - 18720*b^2*c^11*d^5*e^13*f^6 + 8120*b*c^12*d^5*e^13*f^6 + 8516*c^13*d^5*e^13*f^6 + 2564*b*c^11*d^6*e^13*f^6 - 48*c^12*d^6*e^13*f^6 - 92*c^11*d^7*e^13*f^6 + 968*b^6*c^11*e^14*f^6 + 564*b^5*c^12*e^14*f^6 - 13016*b^4*c^13*e^14*f^6 + 24144*b^3*c^14*e^14*f^6 - 15872*b^2*c^15*e^14*f^6 + 3136*b*c^16*e^14*f^6 + 128*c^17*e^14*f^6 - 8220*b^5*c^11*d*e^14*f^6 + 3528*b^4*c^12*d*e^14*f^6 + 48168*b^3*c^13*d*e^14*f^6 - 71104*b^2*c^14*d*e^14*f^6 + 28288*b*c^15*d*e^14*f^6 - 1024*c^16*d*e^14*f^6 + 20652*b^4*c^11*d^2*e^14*f^6 - 19528*b^3*c^12*d^2*e^14*f^6 - 35784*b^2*c^13*d^2*e^14*f^6 + 36688*b*c^14*d^2*e^14*f^6 - 3328*c^15*d^2*e^14*f^6 - 20120*b^3*c^11*d^3*e^14*f^6 + 23552*b^2*c^12*d^3*e^14*f^6 - 2024*b*c^13*d^3*e^14*f^6 + 1120*c^14*d^3*e^14*f^6 + 7968*b^2*c^11*d^4*e^14*f^6 - 9356*b*c^12*d^4*e^14*f^6 + 3552*c^13*d^4*e^14*f^6 - 1164*b*c^11*d^5*e^14*f^6 + 1048*c^12*d^5*e^14*f^6 + 44*c^11*d^6*e^14*f^6 + 944*b^3*c^13*e^15*f^6 - 2176*b^2*c^14*e^15*f^6 + 1536*b*c^15*e^15*f^6 - 320*c^16*e^15*f^6 + 2520*b^3*c^12*d*e^15*f^6 - 9152*b^2*c^13*d*e^15*f^6 + 9536*b*c^14*d*e^15*f^6 - 2944*c^15*d*e^15*f^6 - 6328*b^2*c^12*d^2*e^15*f^6 + 12912*b*c^13*d^2*e^15*f^6 - 6208*c^14*d^2*e^15*f^6 + 3976*b*c^12*d^3*e^15*f^6 - 3872*c^13*d^3*e^15*f^6 - 616*c^12*d^4*e^15*f^6 + 4*b^8*c^20*d^2*f^7 + 4*b^7*c^21*d^2*f^7 - 20*b^6*c^22*d^2*f^7 + 12*b^5*c^23*d^2*f^7 - 4*b^7*c^20*d^3*f^7 + 20*b^6*c^21*d^3*f^7 - 36*b^5*c^22*d^3*f^7 + 28*b^4*c^23*d^3*f^7 - 8*b^3*c^24*d^3*f^7 - 40*b^5*c^21*d^4*f^7 + 88*b^4*c^22*d^4*f^7 - 56*b^3*c^23*d^4*f^7 + 8*b^2*c^24*d^4*f^7 - 8*b^4*c^21*d^5*f^7 + 24*b^3*c^22*d^5*f^7 - 24*b^2*c^23*d^5*f^7 + 8*b*c^24*d^5*f^7 - 4*b^4*c^20*d^6*f^7 + 36*b^3*c^21*d^6*f^7 - 68*b^2*c^22*d^6*f^7 + 44*b*c^23*d^6*f^7 - 8*c^24*d^6*f^7 + 4*b^3*c^20*d^7*f^7 - 12*b^2*c^21*d^7*f^7 + 12*b*c^22*d^7*f^7 - 4*c^23*d^7*f^7 + 16*b^8*c^20*d*e*f^7 + 8*b^7*c^21*d*e*f^7 - 56*b^6*c^22*d*e*f^7 + 24*b^5*c^23*d*e*f^7 + 8*b^4*c^24*d*e*f^7 + 44*b^8*c^19*d^2*e*f^7 - 56*b^7*c^20*d^2*e*f^7 - 376*b^6*c^21*d^2*e*f^7 + 632*b^5*c^22*d^2*e*f^7 - 228*b^4*c^23*d^2*e*f^7 - 16*b^3*c^24*d^2*e*f^7 - 124*b^7*c^19*d^3*e*f^7 - 216*b^6*c^20*d^3*e*f^7 + 516*b^5*c^21*d^3*e*f^7 + 32*b^4*c^22*d^3*e*f^7 - 224*b^3*c^23*d^3*e*f^7 + 16*b^2*c^24*d^3*e*f^7 - 164*b^6*c^19*d^4*e*f^7 - 8*b^5*c^20*d^4*e*f^7 + 1220*b^4*c^21*d^4*e*f^7 - 1584*b^3*c^22*d^4*e*f^7 + 552*b^2*c^23*d^4*e*f^7 - 16*b*c^24*d^4*e*f^7 + 136*b^5*c^19*d^5*e*f^7 + 480*b^4*c^20*d^5*e*f^7 - 1120*b^3*c^21*d^5*e*f^7 + 456*b^2*c^22*d^5*e*f^7 + 40*b*c^23*d^5*e*f^7 + 8*c^24*d^5*e*f^7 + 164*b^4*c^19*d^6*e*f^7 - 120*b^3*c^20*d^6*e*f^7 - 512*b^2*c^21*d^6*e*f^7 + 632*b*c^22*d^6*e*f^7 - 164*c^23*d^6*e*f^7 - 44*b^3*c^19*d^7*e*f^7 - 120*b^2*c^20*d^7*e*f^7 + 276*b*c^21*d^7*e*f^7 - 112*c^22*d^7*e*f^7 - 12*b^2*c^19*d^8*e*f^7 + 24*b*c^20*d^8*e*f^7 - 12*c^21*d^8*e*f^7 - 4*b^9*c^19*e^2*f^7 + 4*b^8*c^20*e^2*f^7 - 16*b^7*c^21*e^2*f^7 + 32*b^6*c^22*e^2*f^7 - 12*b^5*c^23*e^2*f^7 - 4*b^4*c^24*e^2*f^7 + 12*b^9*c^18*d*e^2*f^7 + 156*b^8*c^19*d*e^2*f^7 - 384*b^7*c^20*d*e^2*f^7 + 80*b^6*c^21*d*e^2*f^7 + 300*b^5*c^22*d*e^2*f^7 - 156*b^4*c^23*d*e^2*f^7 - 8*b^3*c^24*d*e^2*f^7 + 28*b^8*c^18*d^2*e^2*f^7 - 1348*b^7*c^19*d^2*e^2*f^7 + 868*b^6*c^20*d^2*e^2*f^7 + 4048*b^5*c^21*d^2*e^2*f^7 - 5084*b^4*c^22*d^2*e^2*f^7 + 1536*b^3*c^23*d^2*e^2*f^7 - 928*b^7*c^18*d^3*e^2*f^7 + 1484*b^6*c^19*d^3*e^2*f^7 + 5620*b^5*c^20*d^3*e^2*f^7 - 9504*b^4*c^21*d^3*e^2*f^7 + 3384*b^3*c^22*d^3*e^2*f^7 + 112*b^2*c^23*d^3*e^2*f^7 - 24*b*c^24*d^3*e^2*f^7 + 532*b^6*c^18*d^4*e^2*f^7 + 5168*b^5*c^19*d^4*e^2*f^7 - 7308*b^4*c^20*d^4*e^2*f^7 - 2848*b^3*c^21*d^4*e^2*f^7 + 6024*b^2*c^22*d^4*e^2*f^7 - 1716*b*c^23*d^4*e^2*f^7 + 100*c^24*d^4*e^2*f^7 + 2576*b^5*c^18*d^5*e^2*f^7 - 4712*b^4*c^19*d^5*e^2*f^7 - 3824*b^3*c^20*d^5*e^2*f^7 + 9056*b^2*c^21*d^5*e^2*f^7 - 3876*b*c^22*d^5*e^2*f^7 + 492*c^23*d^5*e^2*f^7 - 700*b^4*c^18*d^6*e^2*f^7 - 3196*b^3*c^19*d^6*e^2*f^7 + 6196*b^2*c^20*d^6*e^2*f^7 - 2400*b*c^21*d^6*e^2*f^7 + 52*c^22*d^6*e^2*f^7 - 1328*b^3*c^18*d^7*e^2*f^7 + 3060*b^2*c^19*d^7*e^2*f^7 - 1764*b*c^20*d^7*e^2*f^7 + 176*c^21*d^7*e^2*f^7 + 396*b^2*c^18*d^8*e^2*f^7 - 492*b*c^19*d^8*e^2*f^7 + 144*c^20*d^8*e^2*f^7 - 12*b*c^18*d^9*e^2*f^7 + 12*c^19*d^9*e^2*f^7 - 12*b^9*c^18*e^3*f^7 - 24*b^8*c^19*e^3*f^7 + 144*b^7*c^20*e^3*f^7 + 120*b^6*c^21*e^3*f^7 - 436*b^5*c^22*e^3*f^7 + 192*b^4*c^23*e^3*f^7 + 16*b^3*c^24*e^3*f^7 + 32*b^9*c^17*d*e^3*f^7 + 356*b^8*c^18*d*e^3*f^7 - 1488*b^7*c^19*d*e^3*f^7 + 2072*b^6*c^20*d*e^3*f^7 - 2480*b^5*c^21*d*e^3*f^7 + 2060*b^4*c^22*d*e^3*f^7 - 680*b^3*c^23*d*e^3*f^7 + 64*b^2*c^24*d*e^3*f^7 - 448*b^8*c^17*d^2*e^3*f^7 - 3992*b^7*c^18*d^2*e^3*f^7 + 15528*b^6*c^19*d^2*e^3*f^7 - 10112*b^5*c^20*d^2*e^3*f^7 - 11360*b^4*c^21*d^2*e^3*f^7 + 13640*b^3*c^22*d^2*e^3*f^7 - 3400*b^2*c^23*d^2*e^3*f^7 + 16*b*c^24*d^2*e^3*f^7 - 736*b^7*c^17*d^3*e^3*f^7 + 18392*b^6*c^18*d^3*e^3*f^7 - 23756*b^5*c^19*d^3*e^3*f^7 - 21992*b^4*c^20*d^3*e^3*f^7 + 42864*b^3*c^21*d^3*e^3*f^7 - 18296*b^2*c^22*d^3*e^3*f^7 + 2984*b*c^23*d^3*e^3*f^7 - 352*c^24*d^3*e^3*f^7 + 8152*b^6*c^17*d^4*e^3*f^7 - 15428*b^5*c^18*d^4*e^3*f^7 - 28236*b^4*c^19*d^4*e^3*f^7 + 51712*b^3*c^20*d^4*e^3*f^7 - 16024*b^2*c^21*d^4*e^3*f^7 - 1556*b*c^22*d^4*e^3*f^7 + 8*c^23*d^4*e^3*f^7 - 3676*b^5*c^17*d^5*e^3*f^7 - 27004*b^4*c^18*d^5*e^3*f^7 + 54624*b^3*c^19*d^5*e^3*f^7 - 18552*b^2*c^20*d^5*e^3*f^7 - 6368*b*c^21*d^5*e^3*f^7 + 1644*c^22*d^5*e^3*f^7 - 10540*b^4*c^17*d^6*e^3*f^7 + 30752*b^3*c^18*d^6*e^3*f^7 - 16808*b^2*c^19*d^6*e^3*f^7 - 3376*b*c^20*d^6*e^3*f^7 + 1824*c^21*d^6*e^3*f^7 + 6104*b^3*c^17*d^7*e^3*f^7 - 5312*b^2*c^18*d^7*e^3*f^7 - 1732*b*c^19*d^7*e^3*f^7 + 1256*c^20*d^7*e^3*f^7 - 16*b^2*c^17*d^8*e^3*f^7 - 952*b*c^18*d^8*e^3*f^7 + 612*c^19*d^8*e^3*f^7 - 156*b*c^17*d^9*e^3*f^7 + 128*c^18*d^9*e^3*f^7 + 4*c^17*d^10*e^3*f^7 + 4*b^9*c^17*e^4*f^7 + 28*b^8*c^18*e^4*f^7 + 772*b^7*c^19*e^4*f^7 - 1544*b^6*c^20*e^4*f^7 + 396*b^5*c^21*e^4*f^7 + 664*b^4*c^22*e^4*f^7 - 240*b^3*c^23*e^4*f^7 - 64*b^2*c^24*e^4*f^7 - 4*b^9*c^16*d*e^4*f^7 - 84*b^8*c^17*d*e^4*f^7 - 1292*b^7*c^18*d*e^4*f^7 - 1140*b^6*c^19*d*e^4*f^7 + 1028*b^5*c^20*d*e^4*f^7 + 9172*b^4*c^21*d*e^4*f^7 - 10080*b^3*c^22*d*e^4*f^7 + 2656*b^2*c^23*d*e^4*f^7 - 64*b*c^24*d*e^4*f^7 - 644*b^8*c^16*d^2*e^4*f^7 - 364*b^7*c^17*d^2*e^4*f^7 + 25308*b^6*c^18*d^2*e^4*f^7 - 55576*b^5*c^19*d^2*e^4*f^7 + 40008*b^4*c^20*d^2*e^4*f^7 - 2776*b^3*c^21*d^2*e^4*f^7 - 5184*b^2*c^22*d^2*e^4*f^7 - 400*b*c^23*d^2*e^4*f^7 + 512*c^24*d^2*e^4*f^7 + 4972*b^7*c^16*d^3*e^4*f^7 + 19532*b^6*c^17*d^3*e^4*f^7 - 123484*b^5*c^18*d^3*e^4*f^7 + 138208*b^4*c^19*d^3*e^4*f^7 - 2712*b^3*c^20*d^3*e^4*f^7 - 49928*b^2*c^21*d^3*e^4*f^7 + 14848*b*c^22*d^3*e^4*f^7 - 352*c^23*d^3*e^4*f^7 + 760*b^6*c^16*d^4*e^4*f^7 - 87732*b^5*c^17*d^4*e^4*f^7 + 159816*b^4*c^18*d^4*e^4*f^7 - 23404*b^3*c^19*d^4*e^4*f^7 - 67272*b^2*c^20*d^4*e^4*f^7 + 22188*b*c^21*d^4*e^4*f^7 + 392*c^22*d^4*e^4*f^7 - 30544*b^5*c^16*d^5*e^4*f^7 + 97332*b^4*c^17*d^5*e^4*f^7 - 15748*b^3*c^18*d^5*e^4*f^7 - 77860*b^2*c^19*d^5*e^4*f^7 + 31124*b*c^20*d^5*e^4*f^7 + 724*c^21*d^5*e^4*f^7 + 25652*b^4*c^16*d^6*e^4*f^7 - 1940*b^3*c^17*d^6*e^4*f^7 - 60868*b^2*c^18*d^6*e^4*f^7 + 36416*b*c^19*d^6*e^4*f^7 - 3000*c^20*d^6*e^4*f^7 + 4580*b^3*c^16*d^7*e^4*f^7 - 31244*b^2*c^17*d^7*e^4*f^7 + 27020*b*c^18*d^7*e^4*f^7 - 5000*c^19*d^7*e^4*f^7 - 6168*b^2*c^16*d^8*e^4*f^7 + 9296*b*c^17*d^8*e^4*f^7 - 3100*c^18*d^8*e^4*f^7 + 836*b*c^16*d^9*e^4*f^7 - 576*c^17*d^9*e^4*f^7 - 16*c^16*d^10*e^4*f^7 + 36*b^9*c^16*e^5*f^7 + 308*b^8*c^17*e^5*f^7 + 512*b^7*c^18*e^5*f^7 - 3456*b^6*c^19*e^5*f^7 + 3036*b^5*c^20*e^5*f^7 - 596*b^4*c^21*e^5*f^7 + 112*b^3*c^22*e^5*f^7 - 160*b^2*c^23*e^5*f^7 + 64*b*c^24*e^5*f^7 - 64*b^9*c^15*d*e^5*f^7 - 1188*b^8*c^16*d*e^5*f^7 - 652*b^7*c^17*d*e^5*f^7 - 6616*b^6*c^18*d*e^5*f^7 + 33832*b^5*c^19*d*e^5*f^7 - 27500*b^4*c^20*d*e^5*f^7 - 6552*b^3*c^21*d*e^5*f^7 + 10128*b^2*c^22*d*e^5*f^7 - 928*b*c^23*d*e^5*f^7 - 320*c^24*d*e^5*f^7 + 740*b^8*c^15*d^2*e^5*f^7 + 9464*b^7*c^16*d^2*e^5*f^7 - 8284*b^6*c^17*d^2*e^5*f^7 - 14088*b^5*c^18*d^2*e^5*f^7 + 21684*b^4*c^19*d^2*e^5*f^7 - 14872*b^3*c^20*d^2*e^5*f^7 - 576*b^2*c^21*d^2*e^5*f^7 + 5200*b*c^22*d^2*e^5*f^7 - 1088*c^23*d^2*e^5*f^7 + 3420*b^7*c^15*d^3*e^5*f^7 - 33264*b^6*c^16*d^3*e^5*f^7 - 43812*b^5*c^17*d^3*e^5*f^7 + 238528*b^4*c^18*d^3*e^5*f^7 - 209464*b^3*c^19*d^3*e^5*f^7 + 12952*b^2*c^20*d^3*e^5*f^7 + 36696*b*c^21*d^3*e^5*f^7 - 6992*c^22*d^3*e^5*f^7 - 29228*b^6*c^15*d^4*e^5*f^7 + 24360*b^5*c^16*d^4*e^5*f^7 + 247212*b^4*c^17*d^4*e^5*f^7 - 386672*b^3*c^18*d^4*e^5*f^7 + 121984*b^2*c^19*d^4*e^5*f^7 + 28988*b*c^20*d^4*e^5*f^7 - 7788*c^21*d^4*e^5*f^7 + 32248*b^5*c^15*d^5*e^5*f^7 + 94520*b^4*c^16*d^5*e^5*f^7 - 308132*b^3*c^17*d^5*e^5*f^7 + 171272*b^2*c^18*d^5*e^5*f^7 - 3792*b*c^19*d^5*e^5*f^7 + 724*c^20*d^5*e^5*f^7 + 27108*b^4*c^15*d^6*e^5*f^7 - 163528*b^3*c^16*d^6*e^5*f^7 + 148828*b^2*c^17*d^6*e^5*f^7 - 21704*b*c^18*d^6*e^5*f^7 + 428*c^19*d^6*e^5*f^7 - 45748*b^3*c^15*d^7*e^5*f^7 + 84512*b^2*c^16*d^7*e^5*f^7 - 33964*b*c^17*d^7*e^5*f^7 + 2256*c^18*d^7*e^5*f^7 + 15660*b^2*c^15*d^8*e^5*f^7 - 15580*b*c^16*d^8*e^5*f^7 + 3296*c^17*d^8*e^5*f^7 - 1472*b*c^15*d^9*e^5*f^7 + 796*c^16*d^9*e^5*f^7 + 24*c^15*d^10*e^5*f^7 + 12*b^9*c^15*e^6*f^7 + 200*b^8*c^16*e^6*f^7 - 904*b^7*c^17*e^6*f^7 - 2288*b^6*c^18*e^6*f^7 + 1716*b^5*c^19*e^6*f^7 + 4980*b^4*c^20*e^6*f^7 - 3896*b^3*c^21*e^6*f^7 + 112*b^2*c^22*e^6*f^7 + 32*b*c^23*e^6*f^7 + 64*c^24*e^6*f^7 - 28*b^9*c^14*d*e^6*f^7 - 852*b^8*c^15*d*e^6*f^7 - 396*b^7*c^16*d*e^6*f^7 + 8624*b^6*c^17*d*e^6*f^7 + 21524*b^5*c^18*d*e^6*f^7 - 50140*b^4*c^19*d*e^6*f^7 + 5096*b^3*c^20*d*e^6*f^7 + 29032*b^2*c^21*d*e^6*f^7 - 14048*b*c^22*d*e^6*f^7 + 1632*c^23*d*e^6*f^7 + 1212*b^8*c^14*d^2*e^6*f^7 + 10692*b^7*c^15*d^2*e^6*f^7 - 33044*b^6*c^16*d^2*e^6*f^7 + 28400*b^5*c^17*d^2*e^6*f^7 - 58164*b^4*c^18*d^2*e^6*f^7 + 52576*b^3*c^19*d^2*e^6*f^7 + 12208*b^2*c^20*d^2*e^6*f^7 - 18728*b*c^21*d^2*e^6*f^7 + 2352*c^22*d^2*e^6*f^7 - 8560*b^7*c^14*d^3*e^6*f^7 - 50188*b^6*c^15*d^3*e^6*f^7 + 151124*b^5*c^16*d^3*e^6*f^7 - 53832*b^4*c^17*d^3*e^6*f^7 - 100160*b^3*c^18*d^3*e^6*f^7 + 52800*b^2*c^19*d^3*e^6*f^7 + 28888*b*c^20*d^3*e^6*f^7 - 16776*c^21*d^3*e^6*f^7 + 6492*b^6*c^14*d^4*e^6*f^7 + 128584*b^5*c^15*d^4*e^6*f^7 - 155416*b^4*c^16*d^4*e^6*f^7 - 159816*b^3*c^17*d^4*e^6*f^7 + 183008*b^2*c^18*d^4*e^6*f^7 + 35372*b*c^19*d^4*e^6*f^7 - 40548*c^20*d^4*e^6*f^7 + 50488*b^5*c^14*d^5*e^6*f^7 - 198944*b^4*c^15*d^5*e^6*f^7 + 16996*b^3*c^16*d^5*e^6*f^7 + 187424*b^2*c^17*d^5*e^6*f^7 - 20340*b*c^18*d^5*e^6*f^7 - 37668*c^19*d^5*e^6*f^7 - 101868*b^4*c^14*d^6*e^6*f^7 + 167084*b^3*c^15*d^6*e^6*f^7 - 1388*b^2*c^16*d^6*e^6*f^7 - 30048*b*c^17*d^6*e^6*f^7 - 11292*c^18*d^6*e^6*f^7 + 65056*b^3*c^14*d^7*e^6*f^7 - 66596*b^2*c^15*d^7*e^6*f^7 + 12980*b*c^16*d^7*e^6*f^7 - 3400*c^17*d^7*e^6*f^7 - 15260*b^2*c^14*d^8*e^6*f^7 + 11004*b*c^15*d^8*e^6*f^7 - 2384*c^16*d^8*e^6*f^7 + 1140*b*c^14*d^9*e^6*f^7 - 540*c^15*d^9*e^6*f^7 - 16*c^14*d^10*e^6*f^7 - 36*b^9*c^14*e^7*f^7 - 524*b^8*c^15*e^7*f^7 - 1784*b^7*c^16*e^7*f^7 + 336*b^6*c^17*e^7*f^7 + 9652*b^5*c^18*e^7*f^7 - 7516*b^4*c^19*e^7*f^7 + 1824*b^3*c^20*e^7*f^7 - 3776*b^2*c^21*e^7*f^7 + 2880*b*c^22*e^7*f^7 - 512*c^23*e^7*f^7 + 32*b^9*c^13*d*e^7*f^7 + 1244*b^8*c^14*d*e^7*f^7 + 5084*b^7*c^15*d*e^7*f^7 + 8704*b^6*c^16*d*e^7*f^7 - 12600*b^5*c^17*d*e^7*f^7 - 44700*b^4*c^18*d*e^7*f^7 + 48448*b^3*c^19*d*e^7*f^7 + 3408*b^2*c^20*d*e^7*f^7 - 12832*b*c^21*d*e^7*f^7 + 2112*c^22*d*e^7*f^7 - 336*b^8*c^13*d^2*e^7*f^7 - 5064*b^7*c^14*d^2*e^7*f^7 - 28324*b^6*c^15*d^2*e^7*f^7 + 23888*b^5*c^16*d^2*e^7*f^7 + 15776*b^4*c^17*d^2*e^7*f^7 - 19976*b^3*c^18*d^2*e^7*f^7 + 69384*b^2*c^19*d^2*e^7*f^7 - 73600*b*c^20*d^2*e^7*f^7 + 20192*c^21*d^2*e^7*f^7 - 2880*b^7*c^13*d^3*e^7*f^7 - 12952*b^6*c^14*d^3*e^7*f^7 + 169876*b^5*c^15*d^3*e^7*f^7 - 183032*b^4*c^16*d^3*e^7*f^7 - 128168*b^3*c^17*d^3*e^7*f^7 + 316744*b^2*c^18*d^3*e^7*f^7 - 188864*b*c^19*d^3*e^7*f^7 + 37136*c^20*d^3*e^7*f^7 + 28856*b^6*c^13*d^4*e^7*f^7 + 49916*b^5*c^14*d^4*e^7*f^7 - 329940*b^4*c^15*d^4*e^7*f^7 + 135352*b^3*c^16*d^4*e^7*f^7 + 349272*b^2*c^17*d^4*e^7*f^7 - 290956*b*c^18*d^4*e^7*f^7 + 50196*c^19*d^4*e^7*f^7 - 73572*b^5*c^13*d^5*e^7*f^7 + 9732*b^4*c^14*d^5*e^7*f^7 + 105852*b^3*c^15*d^5*e^7*f^7 + 140656*b^2*c^16*d^5*e^7*f^7 - 207296*b*c^17*d^5*e^7*f^7 + 39476*c^18*d^5*e^7*f^7 + 75588*b^4*c^13*d^6*e^7*f^7 - 88768*b^3*c^14*d^6*e^7*f^7 + 116700*b^2*c^15*d^6*e^7*f^7 - 121072*b*c^16*d^6*e^7*f^7 + 22744*c^17*d^6*e^7*f^7 - 33464*b^3*c^13*d^7*e^7*f^7 + 54464*b^2*c^14*d^7*e^7*f^7 - 58924*b*c^15*d^7*e^7*f^7 + 18024*c^16*d^7*e^7*f^7 + 6000*b^2*c^13*d^8*e^7*f^7 - 9872*b*c^14*d^8*e^7*f^7 + 5544*c^15*d^8*e^7*f^7 - 356*b*c^13*d^9*e^7*f^7 + 440*c^14*d^9*e^7*f^7 + 4*c^13*d^10*e^7*f^7 - 20*b^9*c^13*e^8*f^7 - 552*b^8*c^14*e^8*f^7 - 1568*b^7*c^15*e^8*f^7 + 7656*b^6*c^16*e^8*f^7 + 2768*b^5*c^17*e^8*f^7 - 12328*b^4*c^18*e^8*f^7 + 4936*b^3*c^19*e^8*f^7 - 2992*b^2*c^20*e^8*f^7 + 2592*b*c^21*e^8*f^7 - 384*c^22*e^8*f^7 + 20*b^9*c^12*d*e^8*f^7 + 1332*b^8*c^13*d*e^8*f^7 + 7604*b^7*c^14*d*e^8*f^7 - 3816*b^6*c^15*d*e^8*f^7 - 31704*b^5*c^16*d*e^8*f^7 - 53792*b^4*c^17*d*e^8*f^7 + 175488*b^3*c^18*d*e^8*f^7 - 128840*b^2*c^19*d*e^8*f^7 + 35648*b*c^20*d*e^8*f^7 - 3872*c^21*d*e^8*f^7 - 600*b^8*c^12*d^2*e^8*f^7 - 16456*b^7*c^13*d^2*e^8*f^7 - 16416*b^6*c^14*d^2*e^8*f^7 + 101788*b^5*c^15*d^2*e^8*f^7 - 163928*b^4*c^16*d^2*e^8*f^7 + 306256*b^3*c^17*d^2*e^8*f^7 - 290000*b^2*c^18*d^2*e^8*f^7 + 96280*b*c^19*d^2*e^8*f^7 - 8400*c^20*d^2*e^8*f^7 + 4840*b^7*c^12*d^3*e^8*f^7 + 54480*b^6*c^13*d^3*e^8*f^7 + 46616*b^5*c^14*d^3*e^8*f^7 - 423436*b^4*c^15*d^3*e^8*f^7 + 564608*b^3*c^16*d^3*e^8*f^7 - 292736*b^2*c^17*d^3*e^8*f^7 + 19040*b*c^18*d^3*e^8*f^7 + 21992*c^19*d^3*e^8*f^7 - 15400*b^6*c^12*d^4*e^8*f^7 - 5900*b^5*c^13*d^4*e^8*f^7 - 316888*b^4*c^14*d^4*e^8*f^7 + 693272*b^3*c^15*d^4*e^8*f^7 - 337960*b^2*c^16*d^4*e^8*f^7 - 81856*b*c^17*d^4*e^8*f^7 + 64856*c^18*d^4*e^8*f^7 + 22344*b^5*c^12*d^5*e^8*f^7 - 177780*b^4*c^13*d^5*e^8*f^7 + 582868*b^3*c^14*d^5*e^8*f^7 - 430288*b^2*c^15*d^5*e^8*f^7 - 77096*b*c^16*d^5*e^8*f^7 + 94272*c^17*d^5*e^8*f^7 - 15400*b^4*c^12*d^6*e^8*f^7 + 216784*b^3*c^13*d^6*e^8*f^7 - 364320*b^2*c^14*d^6*e^8*f^7 + 83692*b*c^15*d^6*e^8*f^7 + 52696*c^16*d^6*e^8*f^7 + 4840*b^3*c^12*d^7*e^8*f^7 - 87176*b^2*c^13*d^7*e^8*f^7 + 80832*b*c^14*d^7*e^8*f^7 - 2364*c^15*d^7*e^8*f^7 - 600*b^2*c^12*d^8*e^8*f^7 + 12088*b*c^13*d^8*e^8*f^7 - 5088*c^14*d^8*e^8*f^7 + 20*b*c^12*d^9*e^8*f^7 - 424*c^13*d^9*e^8*f^7 + 12*b^9*c^12*e^9*f^7 + 220*b^8*c^13*e^9*f^7 + 1160*b^7*c^14*e^9*f^7 + 7664*b^6*c^15*e^9*f^7 - 19536*b^5*c^16*e^9*f^7 + 21600*b^4*c^17*e^9*f^7 - 31616*b^3*c^18*e^9*f^7 + 26272*b^2*c^19*e^9*f^7 - 6720*b*c^20*e^9*f^7 - 64*c^21*e^9*f^7 - 428*b^8*c^12*d*e^9*f^7 - 2044*b^7*c^13*d*e^9*f^7 + 216*b^6*c^14*d*e^9*f^7 - 85216*b^5*c^15*d*e^9*f^7 + 181064*b^4*c^16*d*e^9*f^7 - 91840*b^3*c^17*d*e^9*f^7 - 13440*b^2*c^18*d*e^9*f^7 + 9408*b*c^19*d*e^9*f^7 + 2176*c^20*d*e^9*f^7 - 608*b^7*c^12*d^2*e^9*f^7 + 12084*b^6*c^13*d^2*e^9*f^7 - 21144*b^5*c^14*d^2*e^9*f^7 + 162876*b^4*c^15*d^2*e^9*f^7 - 124800*b^3*c^16*d^2*e^9*f^7 - 161664*b^2*c^17*d^2*e^9*f^7 + 160960*b*c^18*d^2*e^9*f^7 - 28064*c^19*d^2*e^9*f^7 + 40904*b^6*c^12*d^3*e^9*f^7 - 105216*b^5*c^13*d^3*e^9*f^7 - 65800*b^4*c^14*d^3*e^9*f^7 + 359320*b^3*c^15*d^3*e^9*f^7 - 471728*b^2*c^16*d^3*e^9*f^7 + 278048*b*c^17*d^3*e^9*f^7 - 58880*c^18*d^3*e^9*f^7 - 180568*b^5*c^12*d^4*e^9*f^7 + 309472*b^4*c^13*d^4*e^9*f^7 + 360504*b^3*c^14*d^4*e^9*f^7 - 936096*b^2*c^15*d^4*e^9*f^7 + 527760*b*c^16*d^4*e^9*f^7 - 81600*c^17*d^4*e^9*f^7 + 288032*b^4*c^12*d^5*e^9*f^7 - 314892*b^3*c^13*d^5*e^9*f^7 - 415256*b^2*c^14*d^5*e^9*f^7 + 558952*b*c^15*d^5*e^9*f^7 - 140696*c^16*d^5*e^9*f^7 - 195296*b^3*c^12*d^6*e^9*f^7 + 115316*b^2*c^13*d^6*e^9*f^7 + 162520*b*c^14*d^6*e^9*f^7 - 93932*c^15*d^6*e^9*f^7 + 56152*b^2*c^12*d^7*e^9*f^7 - 13432*b*c^13*d^7*e^9*f^7 - 18488*c^14*d^7*e^9*f^7 - 6068*b*c^12*d^8*e^9*f^7 + 348*c^13*d^8*e^9*f^7 + 172*c^12*d^9*e^9*f^7 + 8*b^9*c^11*e^10*f^7 + 372*b^8*c^12*e^10*f^7 + 2840*b^7*c^13*e^10*f^7 - 1464*b^6*c^14*e^10*f^7 - 10924*b^5*c^15*e^10*f^7 + 28*b^4*c^16*e^10*f^7 + 10912*b^3*c^17*e^10*f^7 - 1472*b^2*c^18*e^10*f^7 - 32*b*c^19*e^10*f^7 - 768*c^20*e^10*f^7 - 552*b^8*c^11*d*e^10*f^7 - 7188*b^7*c^12*d*e^10*f^7 - 16128*b^6*c^13*d*e^10*f^7 + 16516*b^5*c^14*d*e^10*f^7 + 139300*b^4*c^15*d*e^10*f^7 - 239624*b^3*c^16*d*e^10*f^7 + 136800*b^2*c^17*d*e^10*f^7 - 21440*b*c^18*d*e^10*f^7 - 3360*c^19*d*e^10*f^7 + 7728*b^7*c^11*d^2*e^10*f^7 + 34032*b^6*c^12*d^2*e^10*f^7 - 48000*b^5*c^13*d^2*e^10*f^7 + 164620*b^4*c^14*d^2*e^10*f^7 - 494608*b^3*c^15*d^2*e^10*f^7 + 447104*b^2*c^16*d^2*e^10*f^7 - 130784*b*c^17*d^2*e^10*f^7 + 11712*c^18*d^2*e^10*f^7 - 38192*b^6*c^11*d^3*e^10*f^7 - 56264*b^5*c^12*d^3*e^10*f^7 + 329832*b^4*c^13*d^3*e^10*f^7 - 627488*b^3*c^14*d^3*e^10*f^7 + 533232*b^2*c^15*d^3*e^10*f^7 - 151416*b*c^16*d^3*e^10*f^7 + 15008*c^17*d^3*e^10*f^7 + 81648*b^5*c^11*d^4*e^10*f^7 + 37028*b^4*c^12*d^4*e^10*f^7 - 481400*b^3*c^13*d^4*e^10*f^7 + 603896*b^2*c^14*d^4*e^10*f^7 - 241764*b*c^15*d^4*e^10*f^7 + 29540*c^16*d^4*e^10*f^7 - 81648*b^4*c^11*d^5*e^10*f^7 - 13508*b^3*c^12*d^5*e^10*f^7 + 246528*b^2*c^13*d^5*e^10*f^7 - 208836*b*c^14*d^5*e^10*f^7 + 61388*c^15*d^5*e^10*f^7 + 38192*b^3*c^11*d^6*e^10*f^7 + 6088*b^2*c^12*d^6*e^10*f^7 - 43744*b*c^13*d^6*e^10*f^7 + 25940*c^14*d^6*e^10*f^7 - 7728*b^2*c^11*d^7*e^10*f^7 - 1696*b*c^12*d^7*e^10*f^7 + 2264*c^13*d^7*e^10*f^7 + 552*b*c^11*d^8*e^10*f^7 + 112*c^12*d^8*e^10*f^7 - 8*c^11*d^9*e^10*f^7 + 20*b^8*c^11*e^11*f^7 + 264*b^7*c^12*e^11*f^7 - 3112*b^6*c^13*e^11*f^7 + 2156*b^5*c^14*e^11*f^7 - 19072*b^4*c^15*e^11*f^7 + 41744*b^3*c^16*e^11*f^7 - 18048*b^2*c^17*e^11*f^7 - 5504*b*c^18*e^11*f^7 + 2624*c^19*e^11*f^7 - 908*b^7*c^11*d*e^11*f^7 - 8056*b^6*c^12*d*e^11*f^7 + 49640*b^5*c^13*d*e^11*f^7 - 47284*b^4*c^14*d*e^11*f^7 + 35448*b^3*c^15*d*e^11*f^7 - 63552*b^2*c^16*d*e^11*f^7 + 48800*b*c^17*d*e^11*f^7 - 11904*c^18*d*e^11*f^7 + 12700*b^6*c^11*d^2*e^11*f^7 + 37648*b^5*c^12*d^2*e^11*f^7 - 200768*b^4*c^13*d^2*e^11*f^7 + 85368*b^3*c^14*d^2*e^11*f^7 + 117784*b^2*c^15*d^2*e^11*f^7 - 17328*b*c^16*d^2*e^11*f^7 - 36128*c^17*d^2*e^11*f^7 - 67496*b^5*c^11*d^3*e^11*f^7 - 6336*b^4*c^12*d^3*e^11*f^7 + 275752*b^3*c^13*d^3*e^11*f^7 - 136376*b^2*c^14*d^3*e^11*f^7 - 30488*b*c^15*d^3*e^11*f^7 - 10336*c^16*d^3*e^11*f^7 + 150992*b^4*c^11*d^4*e^11*f^7 - 125432*b^3*c^12*d^4*e^11*f^7 - 195696*b^2*c^13*d^4*e^11*f^7 + 229884*b*c^14*d^4*e^11*f^7 - 66296*c^15*d^4*e^11*f^7 - 149452*b^3*c^11*d^5*e^11*f^7 + 131304*b^2*c^12*d^5*e^11*f^7 + 104240*b*c^13*d^5*e^11*f^7 - 91636*c^14*d^5*e^11*f^7 + 64892*b^2*c^11*d^6*e^11*f^7 - 38816*b*c^12*d^6*e^11*f^7 - 22632*c^13*d^6*e^11*f^7 - 11264*b*c^11*d^7*e^11*f^7 + 2896*c^12*d^7*e^11*f^7 + 580*c^11*d^8*e^11*f^7 - 52*b^8*c^10*e^12*f^7 - 1124*b^7*c^11*e^12*f^7 - 3360*b^6*c^12*e^12*f^7 + 4772*b^5*c^13*e^12*f^7 + 13712*b^4*c^14*e^12*f^7 - 20208*b^3*c^15*e^12*f^7 + 13504*b^2*c^16*e^12*f^7 - 9824*b*c^17*e^12*f^7 + 3072*c^18*e^12*f^7 + 1656*b^7*c^10*d*e^12*f^7 + 12380*b^6*c^11*d*e^12*f^7 + 4564*b^5*c^12*d*e^12*f^7 - 54452*b^4*c^13*d*e^12*f^7 + 21760*b^3*c^14*d*e^12*f^7 + 60896*b^2*c^15*d*e^12*f^7 - 74912*b*c^16*d*e^12*f^7 + 24160*c^17*d*e^12*f^7 - 14056*b^6*c^10*d^2*e^12*f^7 - 36048*b^5*c^11*d^2*e^12*f^7 + 71216*b^4*c^12*d^2*e^12*f^7 + 11240*b^3*c^13*d^2*e^12*f^7 - 9680*b^2*c^14*d^2*e^12*f^7 - 53968*b*c^15*d^2*e^12*f^7 + 27360*c^16*d^2*e^12*f^7 + 46312*b^5*c^10*d^3*e^12*f^7 + 50192*b^4*c^11*d^3*e^12*f^7 - 283152*b^3*c^12*d^3*e^12*f^7 + 313224*b^2*c^13*d^3*e^12*f^7 - 141888*b*c^14*d^3*e^12*f^7 + 9504*c^15*d^3*e^12*f^7 - 68040*b^4*c^10*d^4*e^12*f^7 - 68756*b^3*c^11*d^4*e^12*f^7 + 388344*b^2*c^12*d^4*e^12*f^7 - 347148*b*c^13*d^4*e^12*f^7 + 69312*c^14*d^4*e^12*f^7 + 46312*b^3*c^10*d^5*e^12*f^7 + 65676*b^2*c^11*d^5*e^12*f^7 - 197572*b*c^12*d^5*e^12*f^7 + 83756*c^13*d^5*e^12*f^7 - 14056*b^2*c^10*d^6*e^12*f^7 - 25016*b*c^11*d^6*e^12*f^7 + 29560*c^12*d^6*e^12*f^7 + 1656*b*c^10*d^7*e^12*f^7 + 2696*c^11*d^7*e^12*f^7 - 52*c^10*d^8*e^12*f^7 - 296*b^7*c^10*e^13*f^7 - 1552*b^6*c^11*e^13*f^7 + 3124*b^5*c^12*e^13*f^7 + 5236*b^4*c^13*e^13*f^7 + 3408*b^3*c^14*e^13*f^7 - 26816*b^2*c^15*e^13*f^7 + 19328*b*c^16*e^13*f^7 - 3008*c^17*e^13*f^7 + 3736*b^6*c^10*d*e^13*f^7 + 16800*b^5*c^11*d*e^13*f^7 - 51876*b^4*c^12*d*e^13*f^7 + 8760*b^3*c^13*d*e^13*f^7 + 28272*b^2*c^14*d*e^13*f^7 - 8800*b*c^15*d*e^13*f^7 + 1216*c^16*d*e^13*f^7 - 11448*b^5*c^10*d^2*e^13*f^7 - 80844*b^4*c^11*d^2*e^13*f^7 + 219304*b^3*c^12*d^2*e^13*f^7 - 79904*b^2*c^13*d^2*e^13*f^7 - 97488*b*c^14*d^2*e^13*f^7 + 55904*c^15*d^2*e^13*f^7 + 7112*b^4*c^10*d^3*e^13*f^7 + 166416*b^3*c^11*d^3*e^13*f^7 - 305560*b^2*c^12*d^3*e^13*f^7 + 67432*b*c^13*d^3*e^13*f^7 + 59344*c^14*d^3*e^13*f^7 + 9128*b^3*c^10*d^4*e^13*f^7 - 134360*b^2*c^11*d^4*e^13*f^7 + 136004*b*c^12*d^4*e^13*f^7 - 3124*c^13*d^4*e^13*f^7 - 10392*b^2*c^10*d^5*e^13*f^7 + 38192*b*c^11*d^5*e^13*f^7 - 13348*c^12*d^5*e^13*f^7 + 2872*b*c^10*d^6*e^13*f^7 - 2668*c^11*d^6*e^13*f^7 - 200*c^10*d^7*e^13*f^7 + 968*b^6*c^10*e^14*f^7 + 1284*b^5*c^11*e^14*f^7 - 7052*b^4*c^12*e^14*f^7 + 8856*b^3*c^13*e^14*f^7 - 10800*b^2*c^14*e^14*f^7 + 9216*b*c^15*e^14*f^7 - 2624*c^16*e^14*f^7 - 12228*b^5*c^10*d*e^14*f^7 + 10068*b^4*c^11*d*e^14*f^7 + 47368*b^3*c^12*d*e^14*f^7 - 103432*b^2*c^13*d*e^14*f^7 + 81120*b*c^14*d*e^14*f^7 - 21696*c^15*d*e^14*f^7 + 44196*b^4*c^10*d^2*e^14*f^7 - 53296*b^3*c^11*d^2*e^14*f^7 - 79184*b^2*c^12*d^2*e^14*f^7 + 146440*b*c^13*d^2*e^14*f^7 - 54704*c^14*d^2*e^14*f^7 - 60968*b^3*c^10*d^3*e^14*f^7 + 58720*b^2*c^11*d^3*e^14*f^7 + 53400*b*c^12*d^3*e^14*f^7 - 48728*c^13*d^3*e^14*f^7 + 34320*b^2*c^10*d^4*e^14*f^7 - 18292*b*c^11*d^4*e^14*f^7 - 13060*c^12*d^4*e^14*f^7 - 7380*b*c^10*d^5*e^14*f^7 + 1068*c^11*d^5*e^14*f^7 + 452*c^10*d^6*e^14*f^7 + 2004*b^5*c^10*e^15*f^7 + 156*b^4*c^11*e^15*f^7 - 15488*b^3*c^12*e^15*f^7 + 22528*b^2*c^13*e^15*f^7 - 10048*b*c^14*e^15*f^7 + 960*c^15*e^15*f^7 - 11772*b^4*c^10*d*e^15*f^7 + 6416*b^3*c^11*d*e^15*f^7 + 35120*b^2*c^12*d*e^15*f^7 - 35648*b*c^13*d*e^15*f^7 + 6720*c^14*d*e^15*f^7 + 20424*b^3*c^10*d^2*e^15*f^7 - 16888*b^2*c^11*d^2*e^15*f^7 - 13088*b*c^12*d^2*e^15*f^7 + 6848*c^13*d^2*e^15*f^7 - 13176*b^2*c^10*d^3*e^15*f^7 + 11344*b*c^11*d^3*e^15*f^7 - 1488*c^12*d^3*e^15*f^7 + 3108*b*c^10*d^4*e^15*f^7 - 1988*c^11*d^4*e^15*f^7 - 204*c^10*d^5*e^15*f^7 - 360*b^3*c^11*e^16*f^7 + 1712*b^2*c^12*e^16*f^7 - 1984*b*c^13*e^16*f^7 + 640*c^14*e^16*f^7 + 2888*b^2*c^11*d*e^16*f^7 - 6304*b*c^12*d*e^16*f^7 + 3136*c^13*d*e^16*f^7 - 3512*b*c^11*d^2*e^16*f^7 + 3504*c^12*d^2*e^16*f^7 + 920*c^11*d^3*e^16*f^7 - 8*b^8*c^19*d*e*f^8 - 8*b^7*c^20*d*e*f^8 + 40*b^6*c^21*d*e*f^8 - 24*b^5*c^22*d*e*f^8 + 44*b^7*c^19*d^2*e*f^8 - 32*b^6*c^20*d^2*e*f^8 - 12*b^5*c^21*d^2*e*f^8 - 24*b^4*c^22*d^2*e*f^8 + 24*b^3*c^23*d^2*e*f^8 - 28*b^6*c^19*d^3*e*f^8 + 280*b^5*c^20*d^3*e*f^8 - 532*b^4*c^21*d^3*e*f^8 + 336*b^3*c^22*d^3*e*f^8 - 56*b^2*c^23*d^3*e*f^8 - 160*b^4*c^20*d^4*e*f^8 + 232*b^3*c^21*d^4*e*f^8 - 48*b^2*c^22*d^4*e*f^8 - 24*b*c^23*d^4*e*f^8 + 24*b^4*c^19*d^5*e*f^8 - 248*b^3*c^20*d^5*e*f^8 + 480*b^2*c^21*d^5*e*f^8 - 312*b*c^22*d^5*e*f^8 + 56*c^23*d^5*e*f^8 - 44*b^3*c^19*d^6*e*f^8 + 192*b^2*c^20*d^6*e*f^8 - 220*b*c^21*d^6*e*f^8 + 72*c^22*d^6*e*f^8 + 12*b^2*c^19*d^7*e*f^8 - 24*b*c^20*d^7*e*f^8 + 12*c^21*d^7*e*f^8 - 4*b^8*c^19*e^2*f^8 + 8*b^6*c^21*e^2*f^8 - 4*b^4*c^23*e^2*f^8 - 40*b^8*c^18*d*e^2*f^8 + 84*b^7*c^19*d*e^2*f^8 + 468*b^6*c^20*d*e^2*f^8 - 892*b^5*c^21*d*e^2*f^8 + 372*b^4*c^22*d*e^2*f^8 + 8*b^3*c^23*d*e^2*f^8 + 364*b^7*c^18*d^2*e^2*f^8 + 172*b^6*c^19*d^2*e^2*f^8 - 2484*b^5*c^20*d^2*e^2*f^8 + 2524*b^4*c^21*d^2*e^2*f^8 - 624*b^3*c^22*d^2*e^2*f^8 - 196*b^6*c^18*d^3*e^2*f^8 - 660*b^5*c^19*d^3*e^2*f^8 - 880*b^4*c^20*d^3*e^2*f^8 + 3304*b^3*c^21*d^3*e^2*f^8 - 1768*b^2*c^22*d^3*e^2*f^8 + 152*b*c^23*d^3*e^2*f^8 - 740*b^5*c^18*d^4*e^2*f^8 - 1640*b^4*c^19*d^4*e^2*f^8 + 6680*b^3*c^20*d^4*e^2*f^8 - 5472*b^2*c^21*d^4*e^2*f^8 + 1424*b*c^22*d^4*e^2*f^8 - 156*c^23*d^4*e^2*f^8 - 208*b^4*c^18*d^5*e^2*f^8 + 2068*b^3*c^19*d^5*e^2*f^8 - 1740*b^2*c^20*d^5*e^2*f^8 - 300*b*c^21*d^5*e^2*f^8 + 276*c^22*d^5*e^2*f^8 + 548*b^3*c^18*d^6*e^2*f^8 - 108*b^2*c^19*d^6*e^2*f^8 - 1060*b*c^20*d^6*e^2*f^8 + 572*c^21*d^6*e^2*f^8 - 36*b^2*c^18*d^7*e^2*f^8 - 180*b*c^19*d^7*e^2*f^8 + 168*c^20*d^7*e^2*f^8 - 12*b*c^18*d^8*e^2*f^8 + 12*c^19*d^8*e^2*f^8 - 4*b^9*c^17*e^3*f^8 - 60*b^8*c^18*e^3*f^8 + 124*b^7*c^19*e^3*f^8 - 204*b^6*c^20*e^3*f^8 + 232*b^5*c^21*e^3*f^8 - 88*b^4*c^22*e^3*f^8 + 36*b^8*c^17*d*e^3*f^8 + 1276*b^7*c^18*d*e^3*f^8 - 1828*b^6*c^19*d*e^3*f^8 - 1692*b^5*c^20*d*e^3*f^8 + 3496*b^4*c^21*d*e^3*f^8 - 1272*b^3*c^22*d*e^3*f^8 - 16*b^2*c^23*d*e^3*f^8 + 976*b^7*c^17*d^2*e^3*f^8 - 5196*b^6*c^18*d^2*e^3*f^8 - 3872*b^5*c^19*d^2*e^3*f^8 + 21208*b^4*c^20*d^2*e^3*f^8 - 16512*b^3*c^21*d^2*e^3*f^8 + 3656*b^2*c^22*d^2*e^3*f^8 - 128*b*c^23*d^2*e^3*f^8 - 3568*b^6*c^17*d^3*e^3*f^8 - 2956*b^5*c^18*d^3*e^3*f^8 + 26032*b^4*c^19*d^3*e^3*f^8 - 21560*b^3*c^20*d^3*e^3*f^8 + 1696*b^2*c^21*d^3*e^3*f^8 + 1368*b*c^22*d^3*e^3*f^8 + 16*c^23*d^3*e^3*f^8 - 2304*b^5*c^17*d^4*e^3*f^8 + 18900*b^4*c^18*d^4*e^3*f^8 - 10372*b^3*c^19*d^4*e^3*f^8 - 16028*b^2*c^20*d^4*e^3*f^8 + 12472*b*c^21*d^4*e^3*f^8 - 1872*c^22*d^4*e^3*f^8 + 6608*b^4*c^17*d^5*e^3*f^8 - 2548*b^3*c^18*d^5*e^3*f^8 - 17620*b^2*c^19*d^5*e^3*f^8 + 15316*b*c^20*d^5*e^3*f^8 - 2856*c^21*d^5*e^3*f^8 + 1184*b^3*c^17*d^6*e^3*f^8 - 10140*b^2*c^18*d^6*e^3*f^8 + 10088*b*c^19*d^6*e^3*f^8 - 2160*c^20*d^6*e^3*f^8 - 2272*b^2*c^17*d^7*e^3*f^8 + 3492*b*c^18*d^7*e^3*f^8 - 1144*c^19*d^7*e^3*f^8 + 308*b*c^17*d^8*e^3*f^8 - 208*c^18*d^8*e^3*f^8 - 4*c^17*d^9*e^3*f^8 - 8*b^9*c^16*e^4*f^8 - 128*b^8*c^17*e^4*f^8 + 120*b^7*c^18*e^4*f^8 + 96*b^6*c^19*e^4*f^8 + 1280*b^5*c^20*e^4*f^8 - 2096*b^4*c^21*e^4*f^8 + 768*b^3*c^22*e^4*f^8 + 360*b^8*c^16*d*e^4*f^8 + 2588*b^7*c^17*d*e^4*f^8 - 10604*b^6*c^18*d*e^4*f^8 + 11836*b^5*c^19*d*e^4*f^8 - 4700*b^4*c^20*d*e^4*f^8 - 224*b^3*c^21*d*e^4*f^8 + 352*b^2*c^22*d*e^4*f^8 + 96*b*c^23*d*e^4*f^8 - 1044*b^7*c^16*d^2*e^4*f^8 - 21780*b^6*c^17*d^2*e^4*f^8 + 53688*b^5*c^18*d^2*e^4*f^8 - 12188*b^4*c^19*d^2*e^4*f^8 - 45456*b^3*c^20*d^2*e^4*f^8 + 33024*b^2*c^21*d^2*e^4*f^8 - 6464*b*c^22*d^2*e^4*f^8 + 288*c^23*d^2*e^4*f^8 - 9568*b^6*c^16*d^3*e^4*f^8 + 55604*b^5*c^17*d^3*e^4*f^8 - 20976*b^4*c^18*d^3*e^4*f^8 - 88952*b^3*c^19*d^3*e^4*f^8 + 80936*b^2*c^20*d^3*e^4*f^8 - 20448*b*c^21*d^3*e^4*f^8 + 1888*c^22*d^3*e^4*f^8 + 22744*b^5*c^16*d^4*e^4*f^8 + 100*b^4*c^17*d^4*e^4*f^8 - 113384*b^3*c^18*d^4*e^4*f^8 + 104312*b^2*c^19*d^4*e^4*f^8 - 19760*b*c^20*d^4*e^4*f^8 - 400*c^21*d^4*e^4*f^8 + 7484*b^4*c^16*d^5*e^4*f^8 - 83596*b^3*c^17*d^5*e^4*f^8 + 96852*b^2*c^18*d^5*e^4*f^8 - 20708*b*c^19*d^5*e^4*f^8 - 2956*c^20*d^5*e^4*f^8 - 25172*b^3*c^16*d^6*e^4*f^8 + 47076*b^2*c^17*d^6*e^4*f^8 - 16456*b*c^18*d^6*e^4*f^8 - 1436*c^19*d^6*e^4*f^8 + 7272*b^2*c^16*d^7*e^4*f^8 - 4548*b*c^17*d^7*e^4*f^8 - 504*c^18*d^7*e^4*f^8 + 24*b*c^16*d^8*e^4*f^8 - 308*c^17*d^8*e^4*f^8 - 44*c^16*d^9*e^4*f^8 + 4*b^9*c^15*e^5*f^8 + 44*b^8*c^16*e^5*f^8 + 3196*b^6*c^18*e^5*f^8 - 4568*b^5*c^19*e^5*f^8 - 1368*b^4*c^20*e^5*f^8 + 3992*b^3*c^21*e^5*f^8 - 1216*b^2*c^22*e^5*f^8 - 32*b*c^23*e^5*f^8 + 228*b^8*c^15*d*e^5*f^8 - 700*b^7*c^16*d*e^5*f^8 - 7400*b^6*c^17*d*e^5*f^8 + 11220*b^5*c^18*d*e^5*f^8 - 15800*b^4*c^19*d*e^5*f^8 + 24832*b^3*c^20*d*e^5*f^8 - 15672*b^2*c^21*d*e^5*f^8 + 3552*b*c^22*d*e^5*f^8 - 352*c^23*d*e^5*f^8 - 5372*b^7*c^15*d^2*e^5*f^8 - 5936*b^6*c^16*d^2*e^5*f^8 + 105860*b^5*c^17*d^2*e^5*f^8 - 176752*b^4*c^18*d^2*e^5*f^8 + 86744*b^3*c^19*d^2*e^5*f^8 + 6832*b^2*c^20*d^2*e^5*f^8 - 9816*b*c^21*d^2*e^5*f^8 + 160*c^22*d^2*e^5*f^8 + 13596*b^6*c^15*d^3*e^5*f^8 + 94376*b^5*c^16*d^3*e^5*f^8 - 330620*b^4*c^17*d^3*e^5*f^8 + 246216*b^3*c^18*d^3*e^5*f^8 + 16264*b^2*c^19*d^3*e^5*f^8 - 47616*b*c^20*d^3*e^5*f^8 + 5112*c^21*d^3*e^5*f^8 + 30552*b^5*c^15*d^4*e^5*f^8 - 246340*b^4*c^16*d^4*e^5*f^8 + 274712*b^3*c^17*d^4*e^5*f^8 + 8444*b^2*c^18*d^4*e^5*f^8 - 72032*b*c^19*d^4*e^5*f^8 + 8552*c^20*d^4*e^5*f^8 - 84064*b^4*c^15*d^5*e^5*f^8 + 162084*b^3*c^16*d^5*e^5*f^8 + 6832*b^2*c^17*d^5*e^5*f^8 - 79484*b*c^18*d^5*e^5*f^8 + 14736*c^19*d^5*e^5*f^8 + 34044*b^3*c^15*d^6*e^5*f^8 + 15400*b^2*c^16*d^6*e^5*f^8 - 59868*b*c^17*d^6*e^5*f^8 + 16920*c^18*d^6*e^5*f^8 + 9140*b^2*c^15*d^7*e^5*f^8 - 27152*b*c^16*d^7*e^5*f^8 + 11636*c^17*d^7*e^5*f^8 - 4252*b*c^15*d^8*e^5*f^8 + 3296*c^16*d^8*e^5*f^8 + 236*c^15*d^9*e^5*f^8 + 16*b^9*c^14*e^6*f^8 + 376*b^8*c^15*e^6*f^8 + 888*b^7*c^16*e^6*f^8 + 1784*b^6*c^17*e^6*f^8 - 12500*b^5*c^18*e^6*f^8 + 11680*b^4*c^19*e^6*f^8 - 1824*b^3*c^20*e^6*f^8 - 960*b^2*c^21*e^6*f^8 - 64*b*c^22*e^6*f^8 + 128*c^23*e^6*f^8 - 600*b^8*c^14*d*e^6*f^8 - 6548*b^7*c^15*d*e^6*f^8 + 7832*b^6*c^16*d*e^6*f^8 - 23916*b^5*c^17*d*e^6*f^8 + 63380*b^4*c^18*d*e^6*f^8 - 36952*b^3*c^19*d*e^6*f^8 - 8480*b^2*c^20*d*e^6*f^8 + 6976*b*c^21*d*e^6*f^8 - 128*c^22*d*e^6*f^8 + 452*b^7*c^14*d^2*e^6*f^8 + 41684*b^6*c^15*d^2*e^6*f^8 - 39360*b^5*c^16*d^2*e^6*f^8 - 58656*b^4*c^17*d^2*e^6*f^8 + 94136*b^3*c^18*d^2*e^6*f^8 - 32568*b^2*c^19*d^2*e^6*f^8 - 10144*b*c^20*d^2*e^6*f^8 + 5056*c^21*d^2*e^6*f^8 + 30668*b^6*c^14*d^3*e^6*f^8 - 110884*b^5*c^15*d^3*e^6*f^8 - 119624*b^4*c^16*d^3*e^6*f^8 + 448312*b^3*c^17*d^3*e^6*f^8 - 266712*b^2*c^18*d^3*e^6*f^8 - 1928*b*c^19*d^3*e^6*f^8 + 18848*c^20*d^3*e^6*f^8 - 91236*b^5*c^14*d^4*e^6*f^8 + 28280*b^4*c^15*d^4*e^6*f^8 + 449752*b^3*c^16*d^4*e^6*f^8 - 467480*b^2*c^17*d^4*e^6*f^8 + 86684*b*c^18*d^4*e^6*f^8 + 11064*c^19*d^4*e^6*f^8 + 33496*b^4*c^14*d^5*e^6*f^8 + 224716*b^3*c^15*d^5*e^6*f^8 - 399832*b^2*c^16*d^5*e^6*f^8 + 135444*b*c^17*d^5*e^6*f^8 - 2236*c^18*d^5*e^6*f^8 + 74764*b^3*c^14*d^6*e^6*f^8 - 229780*b^2*c^15*d^6*e^6*f^8 + 135536*b*c^16*d^6*e^6*f^8 - 13408*c^17*d^6*e^6*f^8 - 55124*b^2*c^14*d^7*e^6*f^8 + 69004*b*c^15*d^7*e^6*f^8 - 16632*c^16*d^7*e^6*f^8 + 10084*b*c^14*d^8*e^6*f^8 - 5648*c^15*d^8*e^6*f^8 - 408*c^14*d^9*e^6*f^8 + 4*b^9*c^13*e^7*f^8 + 196*b^8*c^14*e^7*f^8 + 896*b^7*c^15*e^7*f^8 - 5256*b^6*c^16*e^7*f^8 - 3020*b^5*c^17*e^7*f^8 + 6800*b^4*c^18*e^7*f^8 + 5800*b^3*c^19*e^7*f^8 - 7696*b^2*c^20*e^7*f^8 + 2272*b*c^21*e^7*f^8 - 320*c^22*e^7*f^8 - 532*b^8*c^13*d*e^7*f^8 - 5452*b^7*c^14*d*e^7*f^8 + 7592*b^6*c^15*d*e^7*f^8 + 13944*b^5*c^16*d*e^7*f^8 + 33868*b^4*c^17*d*e^7*f^8 - 65320*b^3*c^18*d*e^7*f^8 - 1080*b^2*c^19*d*e^7*f^8 + 24928*b*c^20*d*e^7*f^8 - 5792*c^21*d*e^7*f^8 + 8152*b^7*c^13*d^2*e^7*f^8 + 40420*b^6*c^14*d^2*e^7*f^8 - 133272*b^5*c^15*d^2*e^7*f^8 + 110592*b^4*c^16*d^2*e^7*f^8 - 59432*b^3*c^17*d^2*e^7*f^8 + 9608*b^2*c^18*d^2*e^7*f^8 + 17432*b*c^19*d^2*e^7*f^8 - 4176*c^20*d^2*e^7*f^8 - 25544*b^6*c^13*d^3*e^7*f^8 - 148124*b^5*c^14*d^3*e^7*f^8 + 357136*b^4*c^15*d^3*e^7*f^8 - 110800*b^3*c^16*d^3*e^7*f^8 - 117176*b^2*c^17*d^3*e^7*f^8 + 25128*b*c^18*d^3*e^7*f^8 + 21048*c^19*d^3*e^7*f^8 - 25024*b^5*c^13*d^4*e^7*f^8 + 332956*b^4*c^14*d^4*e^7*f^8 - 289088*b^3*c^15*d^4*e^7*f^8 - 149448*b^2*c^16*d^4*e^7*f^8 + 92788*b*c^17*d^4*e^7*f^8 + 34600*c^18*d^4*e^7*f^8 + 164128*b^4*c^13*d^5*e^7*f^8 - 407420*b^3*c^14*d^5*e^7*f^8 + 104520*b^2*c^15*d^5*e^7*f^8 + 91480*b*c^16*d^5*e^7*f^8 + 5356*c^17*d^5*e^7*f^8 - 178968*b^3*c^13*d^6*e^7*f^8 + 233860*b^2*c^14*d^6*e^7*f^8 - 44456*b*c^15*d^6*e^7*f^8 + 208*c^16*d^6*e^7*f^8 + 69096*b^2*c^13*d^7*e^7*f^8 - 55356*b*c^14*d^7*e^7*f^8 + 9600*c^15*d^7*e^7*f^8 - 9252*b*c^13*d^8*e^7*f^8 + 4056*c^14*d^8*e^7*f^8 + 308*c^13*d^9*e^7*f^8 - 8*b^9*c^12*e^8*f^8 - 352*b^8*c^13*e^8*f^8 - 1912*b^7*c^14*e^8*f^8 - 4048*b^6*c^15*e^8*f^8 + 2624*b^5*c^16*e^8*f^8 + 20500*b^4*c^17*e^8*f^8 - 19232*b^3*c^18*e^8*f^8 + 4192*b^2*c^19*e^8*f^8 - 1280*b*c^20*e^8*f^8 + 704*c^21*e^8*f^8 + 280*b^8*c^12*d*e^8*f^8 + 4740*b^7*c^13*d*e^8*f^8 + 12008*b^6*c^14*d*e^8*f^8 + 15928*b^5*c^15*d*e^8*f^8 - 33408*b^4*c^16*d*e^8*f^8 - 38480*b^3*c^17*d*e^8*f^8 + 31328*b^2*c^18*d*e^8*f^8 + 14560*b*c^19*d*e^8*f^8 - 8384*c^20*d*e^8*f^8 + 292*b^7*c^12*d^2*e^8*f^8 - 4860*b^6*c^13*d^2*e^8*f^8 - 91980*b^5*c^14*d^2*e^8*f^8 + 71976*b^4*c^15*d^2*e^8*f^8 + 89824*b^3*c^16*d^2*e^8*f^8 - 152712*b^2*c^17*d^2*e^8*f^8 + 118112*b*c^18*d^2*e^8*f^8 - 37312*c^19*d^2*e^8*f^8 - 24456*b^6*c^12*d^3*e^8*f^8 - 35876*b^5*c^13*d^3*e^8*f^8 + 374912*b^4*c^14*d^3*e^8*f^8 - 278944*b^3*c^15*d^3*e^8*f^8 - 261472*b^2*c^16*d^3*e^8*f^8 + 340368*b*c^17*d^3*e^8*f^8 - 93472*c^18*d^3*e^8*f^8 + 106832*b^5*c^12*d^4*e^8*f^8 + 13540*b^4*c^13*d^4*e^8*f^8 - 393344*b^3*c^14*d^4*e^8*f^8 + 73520*b^2*c^15*d^4*e^8*f^8 + 293472*b*c^16*d^4*e^8*f^8 - 115980*c^17*d^4*e^8*f^8 - 168292*b^4*c^12*d^5*e^8*f^8 + 125628*b^3*c^13*d^5*e^8*f^8 - 19352*b^2*c^14*d^5*e^8*f^8 + 147720*b*c^15*d^5*e^8*f^8 - 74400*c^16*d^5*e^8*f^8 + 112740*b^3*c^12*d^6*e^8*f^8 - 129908*b^2*c^13*d^6*e^8*f^8 + 112196*b*c^14*d^6*e^8*f^8 - 48424*c^15*d^6*e^8*f^8 - 31952*b^2*c^12*d^7*e^8*f^8 + 37604*b*c^13*d^7*e^8*f^8 - 20048*c^14*d^7*e^8*f^8 + 3376*b*c^12*d^8*e^8*f^8 - 2836*c^13*d^8*e^8*f^8 - 92*c^12*d^9*e^8*f^8 - 4*b^9*c^11*e^9*f^8 - 284*b^8*c^12*e^9*f^8 - 2584*b^7*c^13*e^9*f^8 - 1400*b^6*c^14*e^9*f^8 + 19216*b^5*c^15*e^9*f^8 + 2320*b^4*c^16*e^9*f^8 - 32800*b^3*c^17*e^9*f^8 + 24048*b^2*c^18*e^9*f^8 - 8608*b*c^19*e^9*f^8 + 1600*c^20*e^9*f^8 + 276*b^8*c^11*d*e^9*f^8 + 8196*b^7*c^12*d*e^9*f^8 + 16472*b^6*c^13*d*e^9*f^8 - 38592*b^5*c^14*d*e^9*f^8 + 10672*b^4*c^15*d*e^9*f^8 - 133728*b^3*c^16*d*e^9*f^8 + 219872*b^2*c^17*d*e^9*f^8 - 106240*b*c^18*d*e^9*f^8 + 15776*c^19*d*e^9*f^8 - 3864*b^7*c^11*d^2*e^9*f^8 - 54520*b^6*c^12*d^2*e^9*f^8 - 12280*b^5*c^13*d^2*e^9*f^8 + 260056*b^4*c^14*d^2*e^9*f^8 - 409656*b^3*c^15*d^2*e^9*f^8 + 407104*b^2*c^16*d^2*e^9*f^8 - 197408*b*c^17*d^2*e^9*f^8 + 26832*c^18*d^2*e^9*f^8 + 19096*b^6*c^11*d^3*e^9*f^8 + 84984*b^5*c^12*d^3*e^9*f^8 + 146032*b^4*c^13*d^3*e^9*f^8 - 684832*b^3*c^14*d^3*e^9*f^8 + 628408*b^2*c^15*d^3*e^9*f^8 - 181056*b*c^16*d^3*e^9*f^8 - 5344*c^17*d^3*e^9*f^8 - 40824*b^5*c^11*d^4*e^9*f^8 + 110372*b^4*c^12*d^4*e^9*f^8 - 624696*b^3*c^13*d^4*e^9*f^8 + 768344*b^2*c^14*d^4*e^9*f^8 - 181208*b*c^15*d^4*e^9*f^8 - 52016*c^16*d^4*e^9*f^8 + 40824*b^4*c^11*d^5*e^9*f^8 - 325804*b^3*c^12*d^5*e^9*f^8 + 686696*b^2*c^13*d^5*e^9*f^8 - 319296*b*c^14*d^5*e^9*f^8 - 27432*c^15*d^5*e^9*f^8 - 19096*b^3*c^11*d^6*e^9*f^8 + 216128*b^2*c^12*d^6*e^9*f^8 - 247032*b*c^13*d^6*e^9*f^8 + 37800*c^14*d^6*e^9*f^8 + 3864*b^2*c^11*d^7*e^9*f^8 - 48208*b*c^12*d^7*e^9*f^8 + 24848*c^13*d^7*e^9*f^8 - 276*b*c^11*d^8*e^9*f^8 + 2928*c^12*d^8*e^9*f^8 + 4*c^11*d^9*e^9*f^8 + 108*b^8*c^11*e^10*f^8 + 680*b^7*c^12*e^10*f^8 + 1352*b^6*c^13*e^10*f^8 + 23640*b^5*c^14*e^10*f^8 - 52500*b^4*c^15*e^10*f^8 + 40960*b^3*c^16*e^10*f^8 - 27392*b^2*c^17*e^10*f^8 + 14528*b*c^18*e^10*f^8 - 2560*c^19*e^10*f^8 - 864*b^7*c^11*d*e^10*f^8 - 4108*b^6*c^12*d*e^10*f^8 + 10604*b^5*c^13*d*e^10*f^8 - 171708*b^4*c^14*d*e^10*f^8 + 264200*b^3*c^15*d*e^10*f^8 - 74688*b^2*c^16*d*e^10*f^8 - 35200*b*c^17*d*e^10*f^8 + 9920*c^18*d*e^10*f^8 - 18064*b^6*c^11*d^2*e^10*f^8 + 53676*b^5*c^12*d^2*e^10*f^8 - 24172*b^4*c^13*d^2*e^10*f^8 + 102608*b^3*c^14*d^2*e^10*f^8 - 9952*b^2*c^15*d^2*e^10*f^8 - 141504*b*c^16*d^2*e^10*f^8 + 58752*c^17*d^2*e^10*f^8 + 155880*b^5*c^11*d^3*e^10*f^8 - 311896*b^4*c^12*d^3*e^10*f^8 - 124256*b^3*c^13*d^3*e^10*f^8 + 578424*b^2*c^14*d^3*e^10*f^8 - 426824*b*c^15*d^3*e^10*f^8 + 101696*c^16*d^3*e^10*f^8 - 392088*b^4*c^11*d^4*e^10*f^8 + 562368*b^3*c^12*d^4*e^10*f^8 + 313720*b^2*c^13*d^4*e^10*f^8 - 656616*b*c^14*d^4*e^10*f^8 + 192756*c^15*d^4*e^10*f^8 + 397744*b^3*c^11*d^5*e^10*f^8 - 363324*b^2*c^12*d^5*e^10*f^8 - 202604*b*c^13*d^5*e^10*f^8 + 163716*c^14*d^5*e^10*f^8 - 170832*b^2*c^11*d^6*e^10*f^8 + 83244*b*c^12*d^6*e^10*f^8 + 35148*c^13*d^6*e^10*f^8 + 28680*b*c^11*d^7*e^10*f^8 - 5408*c^12*d^7*e^10*f^8 - 1396*c^11*d^8*e^10*f^8 + 104*b^8*c^10*e^11*f^8 + 1860*b^7*c^11*e^11*f^8 + 6804*b^6*c^12*e^11*f^8 - 10256*b^5*c^13*e^11*f^8 - 18408*b^4*c^14*e^11*f^8 + 22688*b^3*c^15*e^11*f^8 - 7808*b^2*c^16*e^11*f^8 + 2272*b*c^17*e^11*f^8 + 192*c^18*e^11*f^8 - 3312*b^7*c^10*d*e^11*f^8 - 20548*b^6*c^11*d*e^11*f^8 - 6300*b^5*c^12*d*e^11*f^8 - 1584*b^4*c^13*d*e^11*f^8 + 204392*b^3*c^14*d*e^11*f^8 - 257520*b^2*c^15*d*e^11*f^8 + 100096*b*c^16*d*e^11*f^8 - 9632*c^17*d*e^11*f^8 + 28112*b^6*c^10*d^2*e^11*f^8 + 57328*b^5*c^11*d^2*e^11*f^8 - 176976*b^4*c^12*d^2*e^11*f^8 + 377280*b^3*c^13*d^2*e^11*f^8 - 524664*b^2*c^14*d^2*e^11*f^8 + 264224*b*c^15*d^2*e^11*f^8 - 36608*c^16*d^2*e^11*f^8 - 92624*b^5*c^10*d^3*e^11*f^8 - 47416*b^4*c^11*d^3*e^11*f^8 + 486976*b^3*c^12*d^3*e^11*f^8 - 709168*b^2*c^13*d^3*e^11*f^8 + 373976*b*c^14*d^3*e^11*f^8 - 52880*c^15*d^3*e^11*f^8 + 136080*b^4*c^10*d^4*e^11*f^8 + 5780*b^3*c^11*d^4*e^11*f^8 - 407572*b^2*c^12*d^4*e^11*f^8 + 366736*b*c^13*d^4*e^11*f^8 - 87008*c^14*d^4*e^11*f^8 - 92624*b^3*c^10*d^5*e^11*f^8 + 316*b^2*c^11*d^5*e^11*f^8 + 115580*b*c^12*d^5*e^11*f^8 - 54048*c^13*d^5*e^11*f^8 + 28112*b^2*c^10*d^6*e^11*f^8 + 2168*b*c^11*d^6*e^11*f^8 - 8912*c^12*d^6*e^11*f^8 - 3312*b*c^10*d^7*e^11*f^8 - 384*c^11*d^7*e^11*f^8 + 104*c^10*d^8*e^11*f^8 + 224*b^7*c^10*e^12*f^8 + 1776*b^6*c^11*e^12*f^8 - 11552*b^5*c^12*e^12*f^8 + 10008*b^4*c^13*e^12*f^8 - 21216*b^3*c^14*e^12*f^8 + 34880*b^2*c^15*e^12*f^8 - 13760*b*c^16*e^12*f^8 - 5596*b^6*c^10*d*e^12*f^8 - 21780*b^5*c^11*d*e^12*f^8 + 118524*b^4*c^12*d*e^12*f^8 - 96000*b^3*c^13*d*e^12*f^8 + 18080*b^2*c^14*d*e^12*f^8 - 22944*b*c^15*d*e^12*f^8 + 16192*c^16*d*e^12*f^8 + 44604*b^5*c^10*d^2*e^12*f^8 + 39628*b^4*c^11*d^2*e^12*f^8 - 292608*b^3*c^12*d^2*e^12*f^8 + 156848*b^2*c^13*d^2*e^12*f^8 + 35488*b*c^14*d^2*e^12*f^8 - 928*c^15*d^2*e^12*f^8 - 144128*b^4*c^10*d^3*e^12*f^8 + 74672*b^3*c^11*d^3*e^12*f^8 + 230520*b^2*c^12*d^3*e^12*f^8 - 150240*b*c^13*d^3*e^12*f^8 + 22752*c^14*d^3*e^12*f^8 + 203320*b^3*c^10*d^4*e^12*f^8 - 178624*b^2*c^11*d^4*e^12*f^8 - 83776*b*c^12*d^4*e^12*f^8 + 77528*c^13*d^4*e^12*f^8 - 125724*b^2*c^10*d^5*e^12*f^8 + 90692*b*c^11*d^5*e^12*f^8 + 19948*c^12*d^5*e^12*f^8 + 31532*b*c^10*d^6*e^12*f^8 - 11612*c^11*d^6*e^12*f^8 - 2440*c^10*d^7*e^12*f^8 - 296*b^7*c^9*e^13*f^8 - 3140*b^6*c^10*e^13*f^8 - 3608*b^5*c^11*e^13*f^8 + 10024*b^4*c^12*e^13*f^8 + 9864*b^3*c^13*e^13*f^8 - 20160*b^2*c^14*e^13*f^8 + 13568*b*c^15*e^13*f^8 - 4544*c^16*e^13*f^8 + 5672*b^6*c^9*d*e^13*f^8 + 21444*b^5*c^10*d*e^13*f^8 - 13432*b^4*c^11*d*e^13*f^8 - 41920*b^3*c^12*d*e^13*f^8 + 13464*b^2*c^13*d*e^13*f^8 + 37984*b*c^14*d*e^13*f^8 - 22464*c^15*d*e^13*f^8 - 31896*b^5*c^9*d^2*e^13*f^8 - 39288*b^4*c^10*d^2*e^13*f^8 + 120296*b^3*c^11*d^2*e^13*f^8 - 67792*b^2*c^12*d^2*e^13*f^8 + 34424*b*c^13*d^2*e^13*f^8 - 17248*c^14*d^2*e^13*f^8 + 71960*b^4*c^9*d^3*e^13*f^8 + 40400*b^3*c^10*d^3*e^13*f^8 - 257336*b^2*c^11*d^3*e^13*f^8 + 215840*b*c^12*d^3*e^13*f^8 - 50392*c^13*d^3*e^13*f^8 - 71960*b^3*c^9*d^4*e^13*f^8 - 48300*b^2*c^10*d^4*e^13*f^8 + 200752*b*c^11*d^4*e^13*f^8 - 91896*c^12*d^4*e^13*f^8 + 31896*b^2*c^9*d^5*e^13*f^8 + 30156*b*c^10*d^5*e^13*f^8 - 45584*c^11*d^5*e^13*f^8 - 5672*b*c^9*d^6*e^13*f^8 - 5240*c^10*d^6*e^13*f^8 + 296*c^9*d^7*e^13*f^8 - 968*b^6*c^9*e^14*f^8 - 3492*b^5*c^10*e^14*f^8 + 9688*b^4*c^11*e^14*f^8 + 992*b^3*c^12*e^14*f^8 + 448*b^2*c^13*e^14*f^8 - 10624*b*c^14*e^14*f^8 + 4224*c^15*e^14*f^8 + 8220*b^5*c^9*d*e^14*f^8 + 27540*b^4*c^10*d*e^14*f^8 - 81560*b^3*c^11*d*e^14*f^8 + 27616*b^2*c^12*d*e^14*f^8 + 22464*b*c^13*d*e^14*f^8 - 10304*c^14*d*e^14*f^8 - 17928*b^4*c^9*d^2*e^14*f^8 - 89032*b^3*c^10*d^2*e^14*f^8 + 193208*b^2*c^11*d^2*e^14*f^8 - 52192*b*c^12*d^2*e^14*f^8 - 30144*c^13*d^2*e^14*f^8 + 9128*b^3*c^9*d^3*e^14*f^8 + 115816*b^2*c^10*d^3*e^14*f^8 - 144808*b*c^11*d^3*e^14*f^8 + 14112*c^12*d^3*e^14*f^8 + 4632*b^2*c^9*d^4*e^14*f^8 - 53716*b*c^10*d^4*e^14*f^8 + 26928*c^11*d^4*e^14*f^8 - 3684*b*c^9*d^5*e^14*f^8 + 6660*c^10*d^5*e^14*f^8 + 472*c^9*d^6*e^14*f^8 + 2004*b^5*c^9*e^15*f^8 + 720*b^4*c^10*e^15*f^8 - 9544*b^3*c^11*e^15*f^8 + 13328*b^2*c^12*e^15*f^8 - 10688*b*c^13*e^15*f^8 + 3712*c^14*e^15*f^8 - 17220*b^4*c^9*d*e^15*f^8 + 13016*b^3*c^10*d*e^15*f^8 + 40952*b^2*c^11*d*e^15*f^8 - 61920*b*c^12*d*e^15*f^8 + 24128*c^13*d*e^15*f^8 + 42408*b^3*c^9*d^2*e^15*f^8 - 35192*b^2*c^10*d^2*e^15*f^8 - 44216*b*c^11*d^2*e^15*f^8 + 37968*c^12*d^2*e^15*f^8 - 38376*b^2*c^9*d^3*e^15*f^8 + 20936*b*c^10*d^3*e^15*f^8 + 14344*c^11*d^3*e^15*f^8 + 12804*b*c^9*d^4*e^15*f^8 - 2616*c^10*d^4*e^15*f^8 - 1236*c^9*d^5*e^15*f^8 + 2724*b^4*c^9*e^16*f^8 - 448*b^3*c^10*e^16*f^8 - 11168*b^2*c^11*e^16*f^8 + 11200*b*c^12*e^16*f^8 - 2496*c^13*e^16*f^8 - 10992*b^3*c^9*d*e^16*f^8 + 5792*b^2*c^10*d*e^16*f^8 + 14048*b*c^11*d*e^16*f^8 - 7296*c^12*d*e^16*f^8 + 12600*b^2*c^9*d^2*e^16*f^8 - 7808*b*c^10*d^2*e^16*f^8 - 1856*c^11*d^2*e^16*f^8 - 4848*b*c^9*d^3*e^16*f^8 + 2272*c^10*d^3*e^16*f^8 + 516*c^9*d^4*e^16*f^8 - 496*b^2*c^10*e^17*f^8 + 1216*b*c^11*e^17*f^8 - 640*c^12*e^17*f^8 + 1600*b*c^10*d*e^17*f^8 - 1664*c^11*d*e^17*f^8 - 784*c^10*d^2*e^17*f^8 + 4*b^8*c^18*e^2*f^9 + 4*b^7*c^19*e^2*f^9 - 20*b^6*c^20*e^2*f^9 + 12*b^5*c^21*e^2*f^9 - 76*b^7*c^18*d*e^2*f^9 + 4*b^6*c^19*d*e^2*f^9 + 132*b^5*c^20*d*e^2*f^9 - 36*b^4*c^21*d*e^2*f^9 - 24*b^3*c^22*d*e^2*f^9 + 196*b^6*c^18*d^2*e^2*f^9 - 516*b^5*c^19*d^2*e^2*f^9 + 768*b^4*c^20*d^2*e^2*f^9 - 552*b^3*c^21*d^2*e^2*f^9 + 120*b^2*c^22*d^2*e^2*f^9 - 84*b^5*c^18*d^3*e^2*f^9 + 1020*b^4*c^19*d^3*e^2*f^9 - 1528*b^3*c^20*d^3*e^2*f^9 + 600*b^2*c^21*d^3*e^2*f^9 - 8*b*c^22*d^3*e^2*f^9 - 60*b^4*c^18*d^4*e^2*f^9 + 300*b^3*c^19*d^4*e^2*f^9 - 852*b^2*c^20*d^4*e^2*f^9 + 732*b*c^21*d^4*e^2*f^9 - 152*c^22*d^4*e^2*f^9 + 180*b^3*c^18*d^5*e^2*f^9 - 948*b^2*c^19*d^5*e^2*f^9 + 1140*b*c^20*d^5*e^2*f^9 - 372*c^21*d^5*e^2*f^9 - 108*b^2*c^18*d^6*e^2*f^9 + 276*b*c^19*d^6*e^2*f^9 - 152*c^20*d^6*e^2*f^9 + 12*b*c^18*d^7*e^2*f^9 - 12*c^19*d^7*e^2*f^9 + 12*b^8*c^17*e^3*f^9 - 16*b^7*c^18*e^3*f^9 - 168*b^6*c^19*e^3*f^9 + 304*b^5*c^20*e^3*f^9 - 132*b^4*c^21*e^3*f^9 - 340*b^7*c^17*d*e^3*f^9 - 32*b^6*c^18*d*e^3*f^9 + 3108*b^5*c^19*d*e^3*f^9 - 3984*b^4*c^20*d*e^3*f^9 + 1360*b^3*c^21*d*e^3*f^9 - 48*b^2*c^22*d*e^3*f^9 + 1140*b^6*c^17*d^2*e^3*f^9 + 1120*b^5*c^18*d^2*e^3*f^9 - 4500*b^4*c^19*d^2*e^3*f^9 + 1312*b^3*c^20*d^2*e^3*f^9 + 968*b^2*c^21*d^2*e^3*f^9 - 224*b*c^22*d^2*e^3*f^9 + 292*b^5*c^17*d^3*e^3*f^9 + 1600*b^4*c^18*d^3*e^3*f^9 - 11640*b^3*c^19*d^3*e^3*f^9 + 13280*b^2*c^20*d^3*e^3*f^9 - 4592*b*c^21*d^3*e^3*f^9 + 464*c^22*d^3*e^3*f^9 - 640*b^4*c^17*d^4*e^3*f^9 - 7440*b^3*c^18*d^4*e^3*f^9 + 13680*b^2*c^19*d^4*e^3*f^9 - 6352*b*c^20*d^4*e^3*f^9 + 732*c^21*d^4*e^3*f^9 - 1580*b^3*c^17*d^5*e^3*f^9 + 3728*b^2*c^18*d^5*e^3*f^9 - 940*b*c^19*d^5*e^3*f^9 - 592*c^20*d^5*e^3*f^9 + 740*b^2*c^17*d^6*e^3*f^9 + 32*b*c^18*d^6*e^3*f^9 - 564*c^19*d^6*e^3*f^9 - 4*b*c^17*d^7*e^3*f^9 - 80*c^18*d^7*e^3*f^9 - 4*c^17*d^8*e^3*f^9 - 24*b^8*c^16*e^4*f^9 - 424*b^7*c^17*e^4*f^9 + 764*b^6*c^18*e^4*f^9 - 464*b^5*c^19*e^4*f^9 + 92*b^4*c^20*e^4*f^9 + 8*b^3*c^21*e^4*f^9 + 16*b^2*c^22*e^4*f^9 - 324*b^7*c^16*d*e^4*f^9 + 4912*b^6*c^17*d*e^4*f^9 - 1380*b^5*c^18*d*e^4*f^9 - 13720*b^4*c^19*d*e^4*f^9 + 14416*b^3*c^20*d*e^4*f^9 - 4136*b^2*c^21*d*e^4*f^9 + 192*b*c^22*d*e^4*f^9 + 4648*b^6*c^16*d^2*e^4*f^9 - 6448*b^5*c^17*d^2*e^4*f^9 - 30908*b^4*c^18*d^2*e^4*f^9 + 55008*b^3*c^19*d^2*e^4*f^9 - 26696*b^2*c^20*d^2*e^4*f^9 + 4056*b*c^21*d^2*e^4*f^9 - 336*c^22*d^2*e^4*f^9 - 4772*b^5*c^16*d^3*e^4*f^9 - 25120*b^4*c^17*d^3*e^4*f^9 + 55208*b^3*c^18*d^3*e^4*f^9 - 18896*b^2*c^19*d^3*e^4*f^9 - 6352*b*c^20*d^3*e^4*f^9 + 1800*c^21*d^3*e^4*f^9 - 11120*b^4*c^16*d^4*e^4*f^9 + 29360*b^3*c^17*d^4*e^4*f^9 + 6132*b^2*c^18*d^4*e^4*f^9 - 27856*b*c^19*d^4*e^4*f^9 + 8108*c^20*d^4*e^4*f^9 + 7188*b^3*c^16*d^5*e^4*f^9 + 10200*b^2*c^17*d^5*e^4*f^9 - 26052*b*c^18*d^5*e^4*f^9 + 9128*c^19*d^5*e^4*f^9 + 3912*b^2*c^16*d^6*e^4*f^9 - 11192*b*c^17*d^6*e^4*f^9 + 5196*c^18*d^6*e^4*f^9 - 1708*b*c^16*d^7*e^4*f^9 + 1336*c^17*d^7*e^4*f^9 + 88*c^16*d^8*e^4*f^9 - 100*b^8*c^15*e^5*f^9 - 744*b^7*c^16*e^5*f^9 + 2024*b^6*c^17*e^5*f^9 - 2560*b^5*c^18*e^5*f^9 + 4836*b^4*c^19*e^5*f^9 - 4336*b^3*c^20*e^5*f^9 + 1184*b^2*c^21*e^5*f^9 - 64*b*c^22*e^5*f^9 + 1452*b^7*c^15*d*e^5*f^9 + 12440*b^6*c^16*d*e^5*f^9 - 40468*b^5*c^17*d*e^5*f^9 + 32304*b^4*c^18*d*e^5*f^9 + 840*b^3*c^19*d*e^5*f^9 - 9520*b^2*c^20*d*e^5*f^9 + 2464*b*c^21*d*e^5*f^9 + 2708*b^6*c^15*d^2*e^5*f^9 - 67524*b^5*c^16*d^2*e^5*f^9 + 97808*b^4*c^17*d^2*e^5*f^9 + 24176*b^3*c^18*d^2*e^5*f^9 - 87824*b^2*c^19*d^2*e^5*f^9 + 35888*b*c^20*d^2*e^5*f^9 - 3584*c^21*d^2*e^5*f^9 - 33696*b^5*c^15*d^3*e^5*f^9 + 82356*b^4*c^16*d^3*e^5*f^9 + 61760*b^3*c^17*d^3*e^5*f^9 - 177264*b^2*c^18*d^3*e^5*f^9 + 81912*b*c^19*d^3*e^5*f^9 - 9488*c^20*d^3*e^5*f^9 + 26496*b^4*c^15*d^4*e^5*f^9 + 76032*b^3*c^16*d^4*e^5*f^9 - 204720*b^2*c^17*d^4*e^5*f^9 + 103184*b*c^18*d^4*e^5*f^9 - 9300*c^19*d^4*e^5*f^9 + 35244*b^3*c^15*d^5*e^5*f^9 - 127216*b^2*c^16*d^5*e^5*f^9 + 85812*b*c^17*d^5*e^5*f^9 - 9344*c^18*d^5*e^5*f^9 - 30396*b^2*c^15*d^6*e^5*f^9 + 35884*b*c^16*d^6*e^5*f^9 - 6632*c^17*d^6*e^5*f^9 + 4360*b*c^15*d^7*e^5*f^9 - 1500*c^16*d^7*e^5*f^9 + 12*c^15*d^8*e^5*f^9 - 16*b^8*c^14*e^6*f^9 + 336*b^7*c^15*e^6*f^9 - 256*b^6*c^16*e^6*f^9 + 6856*b^5*c^17*e^6*f^9 - 6224*b^4*c^18*e^6*f^9 - 6440*b^3*c^19*e^6*f^9 + 7600*b^2*c^20*e^6*f^9 - 1728*b*c^21*e^6*f^9 + 64*c^22*e^6*f^9 + 2468*b^7*c^14*d*e^6*f^9 - 2400*b^6*c^15*d*e^6*f^9 - 33660*b^5*c^16*d*e^6*f^9 + 63512*b^4*c^17*d*e^6*f^9 - 56296*b^3*c^18*d*e^6*f^9 + 32728*b^2*c^19*d*e^6*f^9 - 9888*b*c^20*d*e^6*f^9 + 1152*c^21*d*e^6*f^9 - 19252*b^6*c^14*d^2*e^6*f^9 - 40596*b^5*c^15*d^2*e^6*f^9 + 285584*b^4*c^16*d^2*e^6*f^9 - 338888*b^3*c^17*d^2*e^6*f^9 + 109960*b^2*c^18*d^2*e^6*f^9 + 10120*b*c^19*d^2*e^6*f^9 - 4112*c^20*d^2*e^6*f^9 + 6124*b^5*c^14*d^3*e^6*f^9 + 273052*b^4*c^15*d^3*e^6*f^9 - 559608*b^3*c^16*d^3*e^6*f^9 + 257304*b^2*c^17*d^3*e^6*f^9 + 27944*b*c^18*d^3*e^6*f^9 - 16568*c^19*d^3*e^6*f^9 + 109276*b^4*c^14*d^4*e^6*f^9 - 415224*b^3*c^15*d^4*e^6*f^9 + 276896*b^2*c^16*d^4*e^6*f^9 + 34400*b*c^17*d^4*e^6*f^9 - 29368*c^18*d^4*e^6*f^9 - 128204*b^3*c^14*d^5*e^6*f^9 + 150520*b^2*c^15*d^5*e^6*f^9 + 26260*b*c^16*d^5*e^6*f^9 - 31568*c^17*d^5*e^6*f^9 + 24172*b^2*c^14*d^6*e^6*f^9 + 21116*b*c^15*d^6*e^6*f^9 - 22672*c^16*d^6*e^6*f^9 + 7068*b*c^14*d^7*e^6*f^9 - 8820*c^15*d^7*e^6*f^9 - 1124*c^14*d^8*e^6*f^9 + 164*b^8*c^13*e^7*f^9 + 1880*b^7*c^14*e^7*f^9 - 224*b^6*c^15*e^7*f^9 + 7212*b^5*c^16*e^7*f^9 - 27920*b^4*c^17*e^7*f^9 + 21584*b^3*c^18*e^7*f^9 - 2144*b^2*c^19*e^7*f^9 - 1536*b*c^20*e^7*f^9 + 64*c^21*e^7*f^9 - 1820*b^7*c^13*d*e^7*f^9 - 24848*b^6*c^14*d*e^7*f^9 + 42424*b^5*c^15*d*e^7*f^9 - 54452*b^4*c^16*d*e^7*f^9 + 70280*b^3*c^17*d*e^7*f^9 - 27136*b^2*c^18*d*e^7*f^9 - 3360*b*c^19*d*e^7*f^9 + 1024*c^20*d*e^7*f^9 - 13188*b^6*c^13*d^2*e^7*f^9 + 128088*b^5*c^14*d^2*e^7*f^9 - 88160*b^4*c^15*d^2*e^7*f^9 - 135832*b^3*c^16*d^2*e^7*f^9 + 147944*b^2*c^17*d^2*e^7*f^9 - 20912*b*c^18*d^2*e^7*f^9 - 9856*c^19*d^2*e^7*f^9 + 108244*b^5*c^13*d^3*e^7*f^9 - 225344*b^4*c^14*d^3*e^7*f^9 - 223952*b^3*c^15*d^3*e^7*f^9 + 516904*b^2*c^16*d^3*e^7*f^9 - 183240*b*c^17*d^3*e^7*f^9 - 5408*c^18*d^3*e^7*f^9 - 156016*b^4*c^13*d^4*e^7*f^9 - 36104*b^3*c^14*d^4*e^7*f^9 + 521152*b^2*c^15*d^4*e^7*f^9 - 315220*b*c^16*d^4*e^7*f^9 + 25256*c^17*d^4*e^7*f^9 - 10404*b^3*c^13*d^5*e^7*f^9 + 307248*b^2*c^14*d^5*e^7*f^9 - 293736*b*c^15*d^5*e^7*f^9 + 47052*c^16*d^5*e^7*f^9 + 94524*b^2*c^13*d^6*e^7*f^9 - 166152*b*c^14*d^6*e^7*f^9 + 49792*c^15*d^6*e^7*f^9 - 33396*b*c^13*d^7*e^7*f^9 + 21568*c^14*d^7*e^7*f^9 + 2548*c^13*d^8*e^7*f^9 + 88*b^8*c^12*e^8*f^9 + 1176*b^7*c^13*e^8*f^9 + 1608*b^6*c^14*e^8*f^9 - 14864*b^5*c^15*e^8*f^9 + 1636*b^4*c^16*e^8*f^9 + 8864*b^3*c^17*e^8*f^9 + 5216*b^2*c^18*e^8*f^9 - 6816*b*c^19*e^8*f^9 + 1344*c^20*e^8*f^9 - 3724*b^7*c^12*d*e^8*f^9 - 18448*b^6*c^13*d*e^8*f^9 + 41728*b^5*c^14*d*e^8*f^9 - 3856*b^4*c^15*d*e^8*f^9 + 31696*b^3*c^16*d*e^8*f^9 - 35344*b^2*c^17*d*e^8*f^9 - 12320*b*c^18*d*e^8*f^9 + 9248*c^19*d*e^8*f^9 + 27792*b^6*c^12*d^2*e^8*f^9 + 100344*b^5*c^13*d^2*e^8*f^9 - 305972*b^4*c^14*d^2*e^8*f^9 + 211968*b^3*c^15*d^2*e^8*f^9 - 35464*b^2*c^16*d^2*e^8*f^9 - 18080*b*c^17*d^2*e^8*f^9 + 6272*c^18*d^2*e^8*f^9 - 31068*b^5*c^12*d^3*e^8*f^9 - 320296*b^4*c^13*d^3*e^8*f^9 + 540384*b^3*c^14*d^3*e^8*f^9 - 121632*b^2*c^15*d^3*e^8*f^9 - 65104*b*c^16*d^3*e^8*f^9 - 5616*c^17*d^3*e^8*f^9 - 129960*b^4*c^12*d^4*e^8*f^9 + 576496*b^3*c^13*d^4*e^8*f^9 - 352960*b^2*c^14*d^4*e^8*f^9 - 67632*b*c^15*d^4*e^8*f^9 + 15076*c^16*d^4*e^8*f^9 + 283036*b^3*c^12*d^5*e^8*f^9 - 483304*b^2*c^13*d^5*e^8*f^9 + 126048*b*c^14*d^5*e^8*f^9 + 11888*c^15*d^5*e^8*f^9 - 177280*b^2*c^12*d^6*e^8*f^9 + 164192*b*c^13*d^6*e^8*f^9 - 25236*c^14*d^6*e^8*f^9 + 38284*b*c^12*d^7*e^8*f^9 - 17280*c^13*d^7*e^8*f^9 - 2240*c^12*d^8*e^8*f^9 - 76*b^8*c^11*e^9*f^9 - 1464*b^7*c^12*e^9*f^9 - 3872*b^6*c^13*e^9*f^9 - 7056*b^5*c^14*e^9*f^9 + 5824*b^4*c^15*e^9*f^9 + 27840*b^3*c^16*e^9*f^9 - 23712*b^2*c^17*e^9*f^9 + 3328*b*c^18*e^9*f^9 + 320*c^19*e^9*f^9 + 708*b^7*c^11*d*e^9*f^9 + 9656*b^6*c^12*d*e^9*f^9 + 25096*b^5*c^13*d*e^9*f^9 + 22336*b^4*c^14*d*e^9*f^9 - 68704*b^3*c^15*d*e^9*f^9 + 10304*b^2*c^16*d*e^9*f^9 - 4928*b*c^17*d*e^9*f^9 + 9408*c^18*d*e^9*f^9 + 10012*b^6*c^11*d^2*e^9*f^9 + 1244*b^5*c^12*d^2*e^9*f^9 - 197828*b^4*c^13*d^2*e^9*f^9 + 117408*b^3*c^14*d^2*e^9*f^9 + 176096*b^2*c^15*d^2*e^9*f^9 - 199744*b*c^16*d^2*e^9*f^9 + 63904*c^17*d^2*e^9*f^9 - 91352*b^5*c^11*d^3*e^9*f^9 - 14092*b^4*c^12*d^3*e^9*f^9 + 471160*b^3*c^13*d^3*e^9*f^9 - 227040*b^2*c^14*d^3*e^9*f^9 - 241792*b*c^15*d^3*e^9*f^9 + 138624*c^16*d^3*e^9*f^9 + 230064*b^4*c^11*d^4*e^9*f^9 - 115680*b^3*c^12*d^4*e^9*f^9 - 221888*b^2*c^13*d^4*e^9*f^9 - 26384*b*c^14*d^4*e^9*f^9 + 103104*c^15*d^4*e^9*f^9 - 231772*b^3*c^11*d^5*e^9*f^9 + 197536*b^2*c^12*d^5*e^9*f^9 - 86496*b*c^13*d^5*e^9*f^9 + 60768*c^14*d^5*e^9*f^9 + 98492*b^2*c^11*d^6*e^9*f^9 - 87492*b*c^12*d^6*e^9*f^9 + 38340*c^13*d^6*e^9*f^9 - 16272*b*c^11*d^7*e^9*f^9 + 10164*c^12*d^7*e^9*f^9 + 772*c^11*d^8*e^9*f^9 - 52*b^8*c^10*e^10*f^9 - 1684*b^7*c^11*e^10*f^9 - 6372*b^6*c^12*e^10*f^9 + 5484*b^5*c^13*e^10*f^9 + 19944*b^4*c^14*e^10*f^9 + 10976*b^3*c^15*e^10*f^9 - 44352*b^2*c^16*e^10*f^9 + 24608*b*c^17*e^10*f^9 - 4480*c^18*e^10*f^9 + 1656*b^7*c^10*d*e^10*f^9 + 27276*b^6*c^11*d*e^10*f^9 + 16468*b^5*c^12*d*e^10*f^9 - 105476*b^4*c^13*d*e^10*f^9 + 126056*b^3*c^14*d*e^10*f^9 - 200992*b^2*c^15*d*e^10*f^9 + 155392*b*c^16*d*e^10*f^9 - 34528*c^17*d*e^10*f^9 - 14056*b^6*c^10*d^2*e^10*f^9 - 103136*b^5*c^11*d^2*e^10*f^9 - 12408*b^4*c^12*d^2*e^10*f^9 + 402784*b^3*c^13*d^2*e^10*f^9 - 501224*b^2*c^14*d^2*e^10*f^9 + 286560*b*c^15*d^2*e^10*f^9 - 58560*c^16*d^2*e^10*f^9 + 46312*b^5*c^10*d^3*e^10*f^9 + 40992*b^4*c^11*d^3*e^10*f^9 + 319760*b^3*c^12*d^3*e^10*f^9 - 701024*b^2*c^13*d^3*e^10*f^9 + 367224*b*c^14*d^3*e^10*f^9 - 38240*c^15*d^3*e^10*f^9 - 68040*b^4*c^10*d^4*e^10*f^9 + 261436*b^3*c^11*d^4*e^10*f^9 - 713580*b^2*c^12*d^4*e^10*f^9 + 490324*b*c^13*d^4*e^10*f^9 - 41568*c^14*d^4*e^10*f^9 + 46312*b^3*c^10*d^5*e^10*f^9 - 319940*b^2*c^11*d^5*e^10*f^9 + 426812*b*c^12*d^5*e^10*f^9 - 100732*c^13*d^5*e^10*f^9 - 14056*b^2*c^10*d^6*e^10*f^9 + 113080*b*c^11*d^6*e^10*f^9 - 67096*c^12*d^6*e^10*f^9 + 1656*b*c^10*d^7*e^10*f^9 - 10856*c^11*d^7*e^10*f^9 - 52*c^10*d^8*e^10*f^9 + 344*b^7*c^10*e^11*f^9 + 1160*b^6*c^11*e^11*f^9 - 808*b^5*c^12*e^11*f^9 + 48388*b^4*c^13*e^11*f^9 - 83552*b^3*c^14*e^11*f^9 + 44096*b^2*c^15*e^11*f^9 - 11392*b*c^16*e^11*f^9 + 2496*c^17*e^11*f^9 + 2784*b^6*c^10*d*e^11*f^9 - 12988*b^5*c^11*d*e^11*f^9 + 22344*b^4*c^12*d*e^11*f^9 - 196448*b^3*c^13*d*e^11*f^9 + 215856*b^2*c^14*d*e^11*f^9 - 28416*b*c^15*d*e^11*f^9 - 16256*c^16*d*e^11*f^9 - 76368*b^5*c^10*d^2*e^11*f^9 + 158804*b^4*c^11*d^2*e^11*f^9 - 12672*b^3*c^12*d^2*e^11*f^9 - 61528*b^2*c^13*d^2*e^11*f^9 + 89792*b*c^14*d^2*e^11*f^9 - 52672*c^15*d^2*e^11*f^9 + 329752*b^4*c^10*d^3*e^11*f^9 - 529312*b^3*c^11*d^3*e^11*f^9 - 106288*b^2*c^12*d^3*e^11*f^9 + 438048*b*c^13*d^3*e^11*f^9 - 155152*c^14*d^3*e^11*f^9 - 513096*b^3*c^10*d^4*e^11*f^9 + 574280*b^2*c^11*d^4*e^11*f^9 + 137416*b*c^12*d^4*e^11*f^9 - 185324*c^13*d^4*e^11*f^9 + 325968*b^2*c^10*d^5*e^11*f^9 - 215428*b*c^11*d^5*e^11*f^9 - 38584*c^12*d^5*e^11*f^9 - 81088*b*c^10*d^6*e^11*f^9 + 23100*c^11*d^6*e^11*f^9 + 6072*c^10*d^7*e^11*f^9 + 592*b^7*c^9*e^12*f^9 + 5244*b^6*c^10*e^12*f^9 + 8448*b^5*c^11*e^12*f^9 - 17636*b^4*c^12*e^12*f^9 - 22824*b^3*c^13*e^12*f^9 + 34480*b^2*c^14*e^12*f^9 - 13440*b*c^15*e^12*f^9 + 1728*c^16*e^12*f^9 - 11344*b^6*c^9*d*e^12*f^9 - 35516*b^5*c^10*d*e^12*f^9 + 36104*b^4*c^11*d*e^12*f^9 - 68656*b^3*c^12*d*e^12*f^9 + 206120*b^2*c^13*d*e^12*f^9 - 150016*b*c^14*d*e^12*f^9 + 28032*c^15*d*e^12*f^9 + 63792*b^5*c^9*d^2*e^12*f^9 + 56000*b^4*c^10*d^2*e^12*f^9 - 283088*b^3*c^11*d^2*e^12*f^9 + 441560*b^2*c^12*d^2*e^12*f^9 - 323320*b*c^13*d^2*e^12*f^9 + 69968*c^14*d^2*e^12*f^9 - 143920*b^4*c^9*d^3*e^12*f^9 - 12032*b^3*c^10*d^3*e^12*f^9 + 413264*b^2*c^11*d^3*e^12*f^9 - 413680*b*c^12*d^3*e^12*f^9 + 109688*c^13*d^3*e^12*f^9 + 143920*b^3*c^9*d^4*e^12*f^9 - 12428*b^2*c^10*d^4*e^12*f^9 - 188816*b*c^11*d^4*e^12*f^9 + 89516*c^12*d^4*e^12*f^9 - 63792*b^2*c^9*d^5*e^12*f^9 + 1820*b*c^10*d^5*e^12*f^9 + 23048*c^11*d^5*e^12*f^9 + 11344*b*c^9*d^6*e^12*f^9 + 496*c^10*d^6*e^12*f^9 - 592*c^9*d^7*e^12*f^9 + 1080*b^6*c^9*e^13*f^9 + 4912*b^5*c^10*e^13*f^9 - 25956*b^4*c^11*e^13*f^9 + 21360*b^3*c^12*e^13*f^9 - 15008*b^2*c^13*e^13*f^9 + 14784*b*c^14*e^13*f^9 - 3904*c^15*e^13*f^9 - 17172*b^5*c^9*d*e^13*f^9 - 30320*b^4*c^10*d*e^13*f^9 + 164376*b^3*c^11*d*e^13*f^9 - 112208*b^2*c^12*d*e^13*f^9 + 10912*b*c^13*d*e^13*f^9 - 3584*c^14*d*e^13*f^9 + 87732*b^4*c^9*d^2*e^13*f^9 + 2672*b^3*c^10*d^2*e^13*f^9 - 239696*b^2*c^11*d^2*e^13*f^9 + 121744*b*c^12*d^2*e^13*f^9 - 5440*c^13*d^2*e^13*f^9 - 182160*b^3*c^9*d^3*e^13*f^9 + 122432*b^2*c^10*d^3*e^13*f^9 + 97288*b*c^11*d^3*e^13*f^9 - 52464*c^12*d^3*e^13*f^9 + 161208*b^2*c^9*d^4*e^13*f^9 - 114560*b*c^10*d^4*e^13*f^9 - 13228*c^11*d^4*e^13*f^9 - 57468*b*c^9*d^5*e^13*f^9 + 23824*c^10*d^5*e^13*f^9 + 6396*c^9*d^6*e^13*f^9 - 968*b^6*c^8*e^14*f^9 - 5472*b^5*c^9*e^14*f^9 - 536*b^4*c^10*e^14*f^9 + 9416*b^3*c^11*e^14*f^9 + 5136*b^2*c^12*e^14*f^9 - 11328*b*c^13*e^14*f^9 + 4608*c^14*e^14*f^9 + 12228*b^5*c^8*d*e^14*f^9 + 23472*b^4*c^9*d*e^14*f^9 - 31336*b^3*c^10*d*e^14*f^9 - 7160*b^2*c^11*d*e^14*f^9 - 4064*b*c^12*d*e^14*f^9 + 11264*c^13*d*e^14*f^9 - 46920*b^4*c^8*d^2*e^14*f^9 - 26304*b^3*c^9*d^2*e^14*f^9 + 109672*b^2*c^10*d^2*e^14*f^9 - 68456*b*c^11*d^2*e^14*f^9 + 18896*c^12*d^2*e^14*f^9 + 71960*b^3*c^8*d^3*e^14*f^9 + 21648*b^2*c^9*d^3*e^14*f^9 - 128664*b*c^10*d^3*e^14*f^9 + 58584*c^11*d^3*e^14*f^9 - 46920*b^2*c^8*d^4*e^14*f^9 - 20544*b*c^9*d^4*e^14*f^9 + 44208*c^10*d^4*e^14*f^9 + 12228*b*c^8*d^5*e^14*f^9 + 6048*c^9*d^5*e^14*f^9 - 968*c^8*d^6*e^14*f^9 - 2004*b^5*c^8*e^15*f^9 - 5040*b^4*c^9*e^15*f^9 + 14672*b^3*c^10*e^15*f^9 - 3808*b^2*c^11*e^15*f^9 - 640*b*c^12*e^15*f^9 - 1280*c^13*e^15*f^9 + 11772*b^4*c^8*d*e^15*f^9 + 28296*b^3*c^9*d*e^15*f^9 - 70784*b^2*c^10*d*e^15*f^9 + 20640*b*c^11*d*e^15*f^9 + 7040*c^12*d*e^15*f^9 - 17992*b^3*c^8*d^2*e^15*f^9 - 59416*b^2*c^9*d^2*e^15*f^9 + 90384*b*c^10*d^2*e^15*f^9 - 12352*c^11*d^2*e^15*f^9 + 6712*b^2*c^8*d^3*e^15*f^9 + 44696*b*c^9*d^3*e^15*f^9 - 28448*c^10*d^3*e^15*f^9 + 1308*b*c^8*d^4*e^15*f^9 - 9112*c^9*d^4*e^15*f^9 - 564*c^8*d^5*e^15*f^9 + 2724*b^4*c^8*e^16*f^9 - 8096*b^2*c^10*e^16*f^9 + 8992*b*c^11*e^16*f^9 - 3584*c^12*e^16*f^9 - 15856*b^3*c^8*d*e^16*f^9 + 8784*b^2*c^9*d*e^16*f^9 + 20704*b*c^10*d*e^16*f^9 - 15520*c^11*d*e^16*f^9 + 25528*b^2*c^8*d^2*e^16*f^9 - 12224*b*c^9*d^2*e^16*f^9 - 10624*c^10*d^2*e^16*f^9 - 13680*b*c^8*d^3*e^16*f^9 + 2992*c^9*d^3*e^16*f^9 + 2052*c^8*d^4*e^16*f^9 + 2432*b^3*c^8*e^17*f^9 - 608*b^2*c^9*e^17*f^9 - 4480*b*c^10*e^17*f^9 + 2304*c^11*e^17*f^9 - 6464*b^2*c^8*d*e^17*f^9 + 2688*b*c^9*d*e^17*f^9 + 2368*c^10*d*e^17*f^9 + 4416*b*c^8*d^2*e^17*f^9 - 1504*c^9*d^2*e^17*f^9 - 768*c^8*d^3*e^17*f^9 - 288*b*c^9*e^18*f^9 + 320*c^10*e^18*f^9 + 352*c^9*d*e^18*f^9 + 36*b^7*c^17*e^3*f^10 + 8*b^6*c^18*e^3*f^10 - 84*b^5*c^19*e^3*f^10 + 32*b^4*c^20*e^3*f^10 + 8*b^3*c^21*e^3*f^10 - 308*b^6*c^17*d*e^3*f^10 + 352*b^5*c^18*d*e^3*f^10 - 292*b^4*c^19*d*e^3*f^10 + 320*b^3*c^20*d*e^3*f^10 - 104*b^2*c^21*d*e^3*f^10 + 476*b^5*c^17*d^2*e^3*f^10 - 1880*b^4*c^18*d^2*e^3*f^10 + 2552*b^3*c^19*d^2*e^3*f^10 - 1152*b^2*c^20*d^2*e^3*f^10 + 88*b*c^21*d^2*e^3*f^10 - 60*b^4*c^17*d^3*e^3*f^10 + 960*b^3*c^18*d^3*e^3*f^10 - 392*b^2*c^19*d^3*e^3*f^10 - 576*b*c^20*d^3*e^3*f^10 + 200*c^21*d^3*e^3*f^10 - 380*b^3*c^17*d^4*e^3*f^10 + 1880*b^2*c^18*d^4*e^3*f^10 - 2468*b*c^19*d^4*e^3*f^10 + 864*c^20*d^4*e^3*f^10 + 396*b^2*c^17*d^5*e^3*f^10 - 1184*b*c^18*d^5*e^3*f^10 + 684*c^19*d^5*e^3*f^10 - 100*b*c^17*d^6*e^3*f^10 + 120*c^18*d^6*e^3*f^10 + 4*c^17*d^7*e^3*f^10 + 104*b^7*c^16*e^4*f^10 + 48*b^6*c^17*e^4*f^10 - 1176*b^5*c^18*e^4*f^10 + 1568*b^4*c^19*e^4*f^10 - 592*b^3*c^20*e^4*f^10 + 32*b^2*c^21*e^4*f^10 - 1196*b^6*c^16*d*e^4*f^10 - 836*b^5*c^17*d*e^4*f^10 + 7400*b^4*c^18*d*e^4*f^10 - 6080*b^3*c^19*d*e^4*f^10 + 960*b^2*c^20*d*e^4*f^10 + 96*b*c^21*d*e^4*f^10 + 1860*b^5*c^16*d^2*e^4*f^10 - 40*b^4*c^17*d^2*e^4*f^10 + 4160*b^3*c^18*d^2*e^4*f^10 - 10048*b^2*c^19*d^2*e^4*f^10 + 4976*b*c^20*d^2*e^4*f^10 - 576*c^21*d^2*e^4*f^10 + 380*b^4*c^16*d^3*e^4*f^10 + 11360*b^3*c^17*d^3*e^4*f^10 - 27680*b^2*c^18*d^3*e^4*f^10 + 17536*b*c^19*d^3*e^4*f^10 - 2976*c^20*d^3*e^4*f^10 + 1840*b^3*c^16*d^4*e^4*f^10 - 13400*b^2*c^17*d^4*e^4*f^10 + 12440*b*c^18*d^4*e^4*f^10 - 2464*c^19*d^4*e^4*f^10 - 2612*b^2*c^16*d^5*e^4*f^10 + 3012*b*c^17*d^5*e^4*f^10 - 136*c^18*d^5*e^4*f^10 + 452*b*c^16*d^6*e^4*f^10 + 48*c^17*d^6*e^4*f^10 + 4*c^16*d^7*e^4*f^10 - 12*b^7*c^15*e^5*f^10 - 1548*b^6*c^16*e^5*f^10 + 1456*b^5*c^17*e^5*f^10 + 1656*b^4*c^18*e^5*f^10 - 2584*b^3*c^19*e^5*f^10 + 944*b^2*c^20*e^5*f^10 - 64*b*c^21*e^5*f^10 - 2148*b^6*c^15*d*e^5*f^10 + 8476*b^5*c^16*d*e^5*f^10 + 13536*b^4*c^17*d*e^5*f^10 - 41760*b^3*c^18*d*e^5*f^10 + 27480*b^2*c^19*d*e^5*f^10 - 5760*b*c^20*d*e^5*f^10 + 384*c^21*d*e^5*f^10 + 9396*b^5*c^15*d^2*e^5*f^10 + 10752*b^4*c^16*d^2*e^5*f^10 - 78392*b^3*c^17*d^2*e^5*f^10 + 72464*b^2*c^18*d^2*e^5*f^10 - 19112*b*c^19*d^2*e^5*f^10 + 1296*c^20*d^2*e^5*f^10 + 2620*b^4*c^15*d^3*e^5*f^10 - 53680*b^3*c^16*d^3*e^5*f^10 + 52616*b^2*c^17*d^3*e^5*f^10 + 1696*b*c^18*d^3*e^5*f^10 - 6296*c^19*d^3*e^5*f^10 - 18388*b^3*c^15*d^4*e^5*f^10 + 16604*b^2*c^16*d^4*e^5*f^10 + 24168*b*c^17*d^4*e^5*f^10 - 15624*c^18*d^4*e^5*f^10 + 2180*b^2*c^15*d^5*e^5*f^10 + 15796*b*c^16*d^5*e^5*f^10 - 12296*c^17*d^5*e^5*f^10 + 3500*b*c^15*d^6*e^5*f^10 - 4144*c^16*d^6*e^5*f^10 - 476*c^15*d^7*e^5*f^10 - 480*b^7*c^14*e^6*f^10 - 3056*b^6*c^15*e^6*f^10 + 9836*b^5*c^16*e^6*f^10 - 11524*b^4*c^17*e^6*f^10 + 9360*b^3*c^18*e^6*f^10 - 4224*b^2*c^19*e^6*f^10 + 704*b*c^20*e^6*f^10 - 64*c^21*e^6*f^10 + 2140*b^6*c^14*d*e^6*f^10 + 37664*b^5*c^15*d*e^6*f^10 - 86372*b^4*c^16*d*e^6*f^10 + 41864*b^3*c^17*d*e^6*f^10 + 16608*b^2*c^18*d*e^6*f^10 - 14016*b*c^19*d*e^6*f^10 + 1600*c^20*d*e^6*f^10 + 18804*b^5*c^14*d^2*e^6*f^10 - 118432*b^4*c^15*d^2*e^6*f^10 + 73688*b^3*c^16*d^2*e^6*f^10 + 96800*b^2*c^17*d^2*e^6*f^10 - 87024*b*c^18*d^2*e^6*f^10 + 15296*c^19*d^2*e^6*f^10 - 56488*b^4*c^14*d^3*e^6*f^10 + 32976*b^3*c^15*d^3*e^6*f^10 + 180200*b^2*c^16*d^3*e^6*f^10 - 169800*b*c^17*d^3*e^6*f^10 + 33088*c^18*d^3*e^6*f^10 - 584*b^3*c^14*d^4*e^6*f^10 + 151648*b^2*c^15*d^4*e^6*f^10 - 176484*b*c^16*d^4*e^6*f^10 + 39908*c^17*d^4*e^6*f^10 + 50492*b^2*c^14*d^5*e^6*f^10 - 94320*b*c^15*d^5*e^6*f^10 + 30044*c^16*d^5*e^6*f^10 - 18252*b*c^14*d^6*e^6*f^10 + 10672*c^15*d^6*e^6*f^10 + 1040*c^14*d^7*e^6*f^10 - 380*b^7*c^13*e^7*f^10 + 1420*b^6*c^14*e^7*f^10 + 832*b^5*c^15*e^7*f^10 + 4432*b^4*c^16*e^7*f^10 - 16*b^3*c^17*e^7*f^10 - 10448*b^2*c^18*e^7*f^10 + 5920*b*c^19*e^7*f^10 - 640*c^20*e^7*f^10 + 10220*b^6*c^13*d*e^7*f^10 + 860*b^5*c^14*d*e^7*f^10 - 101360*b^4*c^15*d*e^7*f^10 + 153208*b^3*c^16*d*e^7*f^10 - 89600*b^2*c^17*d*e^7*f^10 + 23584*b*c^18*d*e^7*f^10 - 2400*c^19*d*e^7*f^10 - 32916*b^5*c^13*d^2*e^7*f^10 - 139720*b^4*c^14*d^2*e^7*f^10 + 487680*b^3*c^15*d^2*e^7*f^10 - 383512*b^2*c^16*d^2*e^7*f^10 + 74256*b*c^17*d^2*e^7*f^10 + 3376*c^18*d^2*e^7*f^10 - 49276*b^4*c^13*d^3*e^7*f^10 + 469608*b^3*c^14*d^3*e^7*f^10 - 571360*b^2*c^15*d^3*e^7*f^10 + 142024*b*c^16*d^3*e^7*f^10 + 13888*c^17*d^3*e^7*f^10 + 186292*b^3*c^13*d^4*e^7*f^10 - 405972*b^2*c^14*d^4*e^7*f^10 + 146368*b*c^15*d^4*e^7*f^10 + 18440*c^16*d^4*e^7*f^10 - 110404*b^2*c^13*d^5*e^7*f^10 + 71292*b*c^14*d^5*e^7*f^10 + 13776*c^15*d^5*e^7*f^10 + 8252*b*c^13*d^6*e^7*f^10 + 8144*c^14*d^6*e^7*f^10 + 1972*c^13*d^7*e^7*f^10 + 648*b^7*c^12*e^8*f^10 + 6216*b^6*c^13*e^8*f^10 - 8436*b^5*c^14*e^8*f^10 + 20540*b^4*c^15*e^8*f^10 - 40304*b^3*c^16*e^8*f^10 + 22560*b^2*c^17*e^8*f^10 - 1600*b*c^18*e^8*f^10 - 576*c^19*e^8*f^10 - 20*b^6*c^12*d*e^8*f^10 - 68032*b^5*c^13*d*e^8*f^10 + 103696*b^4*c^14*d*e^8*f^10 - 72288*b^3*c^15*d*e^8*f^10 + 42720*b^2*c^16*d*e^8*f^10 - 12448*b*c^17*d*e^8*f^10 + 1664*c^18*d*e^8*f^10 - 60900*b^5*c^12*d^2*e^8*f^10 + 255920*b^4*c^13*d^2*e^8*f^10 - 102664*b^3*c^14*d^2*e^8*f^10 - 184712*b^2*c^15*d^2*e^8*f^10 + 113424*b*c^16*d^2*e^8*f^10 - 3328*c^17*d^2*e^8*f^10 + 207180*b^4*c^12*d^3*e^8*f^10 - 260096*b^3*c^13*d^3*e^8*f^10 - 275568*b^2*c^14*d^3*e^8*f^10 + 334784*b*c^15*d^3*e^8*f^10 - 52160*c^16*d^3*e^8*f^10 - 147472*b^3*c^12*d^4*e^8*f^10 - 130424*b^2*c^13*d^4*e^8*f^10 + 348284*b*c^14*d^4*e^8*f^10 - 91860*c^15*d^4*e^8*f^10 - 54764*b^2*c^12*d^5*e^8*f^10 + 216736*b*c^13*d^5*e^8*f^10 - 91552*c^14*d^5*e^8*f^10 + 57932*b*c^12*d^6*e^8*f^10 - 47648*c^13*d^6*e^8*f^10 - 8044*c^12*d^7*e^8*f^10 + 652*b^7*c^11*e^9*f^10 + 3708*b^6*c^12*e^9*f^10 - 516*b^5*c^13*e^9*f^10 - 23280*b^4*c^14*e^9*f^10 + 10528*b^3*c^15*e^9*f^10 + 2112*b^2*c^16*e^9*f^10 + 5088*b*c^17*e^9*f^10 - 2624*c^18*e^9*f^10 - 13436*b^6*c^11*d*e^9*f^10 - 39572*b^5*c^12*d*e^9*f^10 + 105500*b^4*c^13*d*e^9*f^10 - 48992*b^3*c^14*d*e^9*f^10 + 19072*b^2*c^15*d*e^9*f^10 + 32*b*c^16*d*e^9*f^10 - 7904*c^17*d*e^9*f^10 + 51964*b^5*c^11*d^2*e^9*f^10 + 183064*b^4*c^12*d^2*e^9*f^10 - 438480*b^3*c^13*d^2*e^9*f^10 + 225952*b^2*c^14*d^2*e^9*f^10 - 14048*b*c^15*d^2*e^9*f^10 - 6304*c^16*d^2*e^9*f^10 + 16420*b^4*c^11*d^3*e^9*f^10 - 487688*b^3*c^12*d^3*e^9*f^10 + 524512*b^2*c^13*d^3*e^9*f^10 - 73952*b*c^14*d^3*e^9*f^10 - 13376*c^15*d^3*e^9*f^10 - 249996*b^3*c^11*d^4*e^9*f^10 + 611068*b^2*c^12*d^4*e^9*f^10 - 247660*b*c^13*d^4*e^9*f^10 - 7920*c^14*d^4*e^9*f^10 + 272668*b^2*c^11*d^5*e^9*f^10 - 302628*b*c^12*d^5*e^9*f^10 + 49924*c^13*d^5*e^9*f^10 - 92796*b*c^11*d^6*e^9*f^10 + 45552*c^12*d^6*e^9*f^10 + 8636*c^11*d^7*e^9*f^10 - 272*b^7*c^10*e^10*f^10 - 3456*b^6*c^11*e^10*f^10 - 5004*b^5*c^12*e^10*f^10 - 10736*b^4*c^13*e^10*f^10 + 10512*b^3*c^14*e^10*f^10 + 20512*b^2*c^15*e^10*f^10 - 13760*b*c^16*e^10*f^10 + 896*c^17*e^10*f^10 - 924*b^6*c^10*d*e^10*f^10 + 12976*b^5*c^11*d*e^10*f^10 + 44912*b^4*c^12*d*e^10*f^10 + 22776*b^3*c^13*d*e^10*f^10 - 94432*b^2*c^14*d*e^10*f^10 + 47104*b*c^15*d*e^10*f^10 - 12416*c^16*d*e^10*f^10 + 43212*b^5*c^10*d^2*e^10*f^10 - 8328*b^4*c^11*d^2*e^10*f^10 - 253192*b^3*c^12*d^2*e^10*f^10 + 101976*b^2*c^13*d^2*e^10*f^10 + 155920*b*c^14*d^2*e^10*f^10 - 86304*c^15*d^2*e^10*f^10 - 192736*b^4*c^10*d^3*e^10*f^10 + 77416*b^3*c^11*d^3*e^10*f^10 + 320192*b^2*c^12*d^3*e^10*f^10 - 78616*b*c^13*d^3*e^10*f^10 - 86208*c^14*d^3*e^10*f^10 + 300648*b^3*c^10*d^4*e^10*f^10 - 199560*b^2*c^11*d^4*e^10*f^10 - 29740*b*c^12*d^4*e^10*f^10 - 29960*c^13*d^4*e^10*f^10 - 189852*b^2*c^10*d^5*e^10*f^10 + 132616*b*c^11*d^5*e^10*f^10 - 37808*c^12*d^5*e^10*f^10 + 46684*b*c^10*d^6*e^10*f^10 - 22800*c^11*d^6*e^10*f^10 - 3432*c^10*d^7*e^10*f^10 - 296*b^7*c^9*e^11*f^10 - 5524*b^6*c^10*e^11*f^10 - 8872*b^5*c^11*e^11*f^10 + 20312*b^4*c^12*e^11*f^10 - 2472*b^3*c^13*e^11*f^10 + 26496*b^2*c^14*e^11*f^10 - 32768*b*c^15*e^11*f^10 + 8768*c^16*e^11*f^10 + 5672*b^6*c^9*d*e^11*f^10 + 54340*b^5*c^10*d*e^11*f^10 + 3760*b^4*c^11*d*e^11*f^10 - 159096*b^3*c^12*d*e^11*f^10 + 195864*b^2*c^13*d*e^11*f^10 - 153856*b*c^14*d*e^11*f^10 + 47616*c^15*d*e^11*f^10 - 31896*b^5*c^9*d^2*e^11*f^10 - 111208*b^4*c^10*d^2*e^11*f^10 - 52096*b^3*c^11*d^2*e^11*f^10 + 388392*b^2*c^12*d^2*e^11*f^10 - 308632*b*c^13*d^2*e^11*f^10 + 79616*c^14*d^2*e^11*f^10 + 71960*b^4*c^9*d^3*e^11*f^10 - 64960*b^3*c^10*d^3*e^11*f^10 + 390944*b^2*c^11*d^3*e^11*f^10 - 413512*b*c^12*d^3*e^11*f^10 + 89704*c^13*d^3*e^11*f^10 - 71960*b^3*c^9*d^4*e^11*f^10 + 275476*b^2*c^10*d^4*e^11*f^10 - 429752*b*c^11*d^4*e^11*f^10 + 135488*c^12*d^4*e^11*f^10 + 31896*b^2*c^9*d^5*e^11*f^10 - 163300*b*c^10*d^5*e^11*f^10 + 108048*c^11*d^5*e^11*f^10 - 5672*b*c^9*d^6*e^11*f^10 + 24264*c^10*d^6*e^11*f^10 + 296*c^9*d^7*e^11*f^10 + 248*b^6*c^9*e^12*f^10 + 1852*b^5*c^10*e^12*f^10 - 4616*b^4*c^11*e^12*f^10 + 60720*b^3*c^12*e^12*f^10 - 76896*b^2*c^13*e^12*f^10 + 25344*b*c^14*e^12*f^10 - 1664*c^15*e^12*f^10 + 18228*b^5*c^9*d*e^12*f^10 - 38568*b^4*c^10*d*e^12*f^10 + 24320*b^3*c^11*d*e^12*f^10 - 116160*b^2*c^12*d*e^12*f^10 + 83168*b*c^13*d*e^12*f^10 - 1792*c^14*d*e^12*f^10 - 163968*b^4*c^9*d^2*e^12*f^10 + 267848*b^3*c^10*d^2*e^12*f^10 - 4048*b^2*c^11*d^2*e^12*f^10 - 117840*b*c^12*d^2*e^12*f^10 + 51520*c^13*d^2*e^12*f^10 + 418024*b^3*c^9*d^3*e^12*f^10 - 511072*b^2*c^10*d^3*e^12*f^10 - 41248*b*c^11*d^3*e^12*f^10 + 128352*c^12*d^3*e^12*f^10 - 401160*b^2*c^9*d^4*e^12*f^10 + 310044*b*c^10*d^4*e^12*f^10 + 22584*c^11*d^4*e^12*f^10 + 146436*b*c^9*d^5*e^12*f^10 - 51864*c^10*d^5*e^12*f^10 - 16144*c^9*d^6*e^12*f^10 + 1936*b^6*c^8*e^13*f^10 + 9188*b^5*c^9*e^13*f^10 + 3016*b^4*c^10*e^13*f^10 - 11272*b^3*c^11*e^13*f^10 - 22448*b^2*c^12*e^13*f^10 + 22976*b*c^13*e^13*f^10 - 4864*c^14*e^13*f^10 - 24456*b^5*c^8*d*e^13*f^10 - 38364*b^4*c^9*d*e^13*f^10 + 80144*b^3*c^10*d*e^13*f^10 - 113080*b^2*c^11*d*e^13*f^10 + 123712*b*c^12*d*e^13*f^10 - 37760*c^13*d*e^13*f^10 + 93840*b^4*c^8*d^2*e^13*f^10 + 29496*b^3*c^9*d^2*e^13*f^10 - 248256*b^2*c^10*d^2*e^13*f^10 + 261256*b*c^11*d^2*e^13*f^10 - 85712*c^12*d^2*e^13*f^10 - 143920*b^3*c^8*d^3*e^13*f^10 + 9720*b^2*c^9*d^3*e^13*f^10 + 191376*b*c^10*d^3*e^13*f^10 - 97928*c^11*d^3*e^13*f^10 + 93840*b^2*c^8*d^4*e^13*f^10 - 7964*b*c^9*d^4*e^13*f^10 - 37288*c^10*d^4*e^13*f^10 - 24456*b*c^8*d^5*e^13*f^10 + 228*c^9*d^5*e^13*f^10 + 1936*c^8*d^6*e^13*f^10 + 2928*b^5*c^8*e^14*f^10 + 7492*b^4*c^9*e^14*f^10 - 35008*b^3*c^10*e^14*f^10 + 24320*b^2*c^11*e^14*f^10 - 6848*b*c^12*e^14*f^10 + 2496*c^13*e^14*f^10 - 31068*b^4*c^8*d*e^14*f^10 - 21584*b^3*c^9*d*e^14*f^10 + 132480*b^2*c^10*d*e^14*f^10 - 69184*b*c^11*d*e^14*f^10 + 5184*c^12*d*e^14*f^10 + 104240*b^3*c^8*d^2*e^14*f^10 - 32136*b^2*c^9*d^2*e^14*f^10 - 103808*b*c^10*d^2*e^14*f^10 + 35904*c^11*d^2*e^14*f^10 - 136952*b^2*c^8*d^3*e^14*f^10 + 80080*b*c^9*d^3*e^14*f^10 + 15936*c^10*d^3*e^14*f^10 + 69984*b*c^8*d^4*e^14*f^10 - 28348*c^9*d^4*e^14*f^10 - 11052*c^8*d^5*e^14*f^10 - 2004*b^5*c^7*e^15*f^10 - 6168*b^4*c^8*e^15*f^10 + 3376*b^3*c^9*e^15*f^10 + 3536*b^2*c^10*e^15*f^10 + 2784*b*c^11*e^15*f^10 - 2944*c^12*e^15*f^10 + 17220*b^4*c^7*d*e^15*f^10 + 16176*b^3*c^8*d*e^15*f^10 - 30416*b^2*c^9*d*e^15*f^10 + 9312*b*c^10*d*e^15*f^10 - 4512*c^11*d*e^15*f^10 - 44840*b^3*c^7*d^2*e^15*f^10 - 10496*b^2*c^8*d^2*e^15*f^10 + 53872*b*c^9*d^2*e^15*f^10 - 21296*c^10*d^2*e^15*f^10 + 44840*b^2*c^7*d^3*e^15*f^10 + 7536*b*c^8*d^3*e^15*f^10 - 27472*c^9*d^3*e^15*f^10 - 17220*b*c^7*d^4*e^15*f^10 - 3976*c^8*d^4*e^15*f^10 + 2004*c^7*d^5*e^15*f^10 - 2724*b^4*c^7*e^16*f^10 - 4688*b^3*c^8*e^16*f^10 + 12320*b^2*c^9*e^16*f^10 - 3520*b*c^10*e^16*f^10 - 320*c^11*e^16*f^10 + 10992*b^3*c^7*d*e^16*f^10 + 17824*b^2*c^8*d*e^16*f^10 - 32544*b*c^9*d*e^16*f^10 + 5248*c^10*d*e^16*f^10 - 11224*b^2*c^7*d^2*e^16*f^10 - 22096*b*c^8*d^2*e^16*f^10 + 17536*c^9*d^2*e^16*f^10 + 2672*b*c^7*d^3*e^16*f^10 + 7360*c^8*d^3*e^16*f^10 + 156*c^7*d^4*e^16*f^10 + 2432*b^3*c^7*e^17*f^10 - 192*b^2*c^8*e^17*f^10 - 3936*b*c^9*e^17*f^10 + 2368*c^10*e^17*f^10 - 9216*b^2*c^7*d*e^17*f^10 + 2976*b*c^8*d*e^17*f^10 + 4576*c^9*d*e^17*f^10 + 8768*b*c^7*d^2*e^17*f^10 - 1696*c^8*d^2*e^17*f^10 - 2112*c^7*d^3*e^17*f^10 + 1376*b^2*c^7*e^18*f^10 - 320*b*c^8*e^18*f^10 - 768*c^9*e^18*f^10 - 2176*b*c^7*d*e^18*f^10 + 512*c^8*d*e^18*f^10 + 672*c^7*d^2*e^18*f^10 - 64*c^8*e^19*f^10 + 140*b^6*c^16*e^4*f^11 - 76*b^5*c^17*e^4*f^11 - 32*b^4*c^18*e^4*f^11 - 48*b^3*c^19*e^4*f^11 + 32*b^2*c^20*e^4*f^11 - 700*b^5*c^16*d*e^4*f^11 + 1380*b^4*c^17*d*e^4*f^11 - 1568*b^3*c^18*d*e^4*f^11 + 816*b^2*c^19*d*e^4*f^11 - 96*b*c^20*d*e^4*f^11 + 640*b^4*c^16*d^2*e^4*f^11 - 2600*b^3*c^17*d^2*e^4*f^11 + 2208*b^2*c^18*d^2*e^4*f^11 - 144*b*c^19*d^2*e^4*f^11 - 128*c^20*d^2*e^4*f^11 + 320*b^3*c^16*d^3*e^4*f^11 - 1160*b^2*c^17*d^3*e^4*f^11 + 2272*b*c^18*d^3*e^4*f^11 - 1008*c^19*d^3*e^4*f^11 - 780*b^2*c^16*d^4*e^4*f^11 + 2420*b*c^17*d^4*e^4*f^11 - 1472*c^18*d^4*e^4*f^11 + 348*b*c^16*d^5*e^4*f^11 - 476*c^17*d^5*e^4*f^11 - 32*c^16*d^6*e^4*f^11 + 384*b^6*c^15*e^5*f^11 + 352*b^5*c^16*e^5*f^11 - 3056*b^4*c^17*e^5*f^11 + 2912*b^3*c^18*e^5*f^11 - 704*b^2*c^19*e^5*f^11 - 2364*b^5*c^15*d*e^5*f^11 - 952*b^4*c^16*d*e^5*f^11 + 5296*b^3*c^17*d*e^5*f^11 - 64*b^2*c^18*d*e^5*f^11 - 1856*b*c^19*d*e^5*f^11 + 320*c^20*d*e^5*f^11 + 2376*b^4*c^15*d^2*e^5*f^11 - 8432*b^3*c^16*d^2*e^5*f^11 + 22224*b^2*c^17*d^2*e^5*f^11 - 17696*b*c^18*d^2*e^5*f^11 + 3648*c^19*d^2*e^5*f^11 - 2072*b^3*c^15*d^3*e^5*f^11 + 21456*b^2*c^16*d^3*e^5*f^11 - 26672*b*c^17*d^3*e^5*f^11 + 7680*c^18*d^3*e^5*f^11 + 4336*b^2*c^15*d^4*e^5*f^11 - 10832*b*c^16*d^4*e^5*f^11 + 4256*c^17*d^4*e^5*f^11 - 1804*b*c^15*d^5*e^5*f^11 + 904*c^16*d^5*e^5*f^11 + 104*c^15*d^6*e^5*f^11 + 236*b^6*c^14*e^6*f^11 - 2836*b^5*c^15*e^6*f^11 - 1300*b^4*c^16*e^6*f^11 + 9104*b^3*c^17*e^6*f^11 - 7232*b^2*c^18*e^6*f^11 + 1824*b*c^19*e^6*f^11 - 128*c^20*e^6*f^11 - 5160*b^5*c^14*d*e^6*f^11 + 1908*b^4*c^15*d*e^6*f^11 + 45384*b^3*c^16*d*e^6*f^11 - 61360*b^2*c^17*d*e^6*f^11 + 24064*b*c^18*d*e^6*f^11 - 2656*c^19*d*e^6*f^11 + 7620*b^4*c^14*d^2*e^6*f^11 + 42592*b^3*c^15*d^2*e^6*f^11 - 93296*b^2*c^16*d^2*e^6*f^11 + 44336*b*c^17*d^2*e^6*f^11 - 4224*c^18*d^2*e^6*f^11 + 14672*b^3*c^14*d^3*e^6*f^11 - 51360*b^2*c^15*d^3*e^6*f^11 + 16792*b*c^16*d^3*e^6*f^11 + 7280*c^17*d^3*e^6*f^11 - 14284*b^2*c^14*d^4*e^6*f^11 - 2156*b*c^15*d^4*e^6*f^11 + 13412*c^16*d^4*e^6*f^11 - 1448*b*c^14*d^5*e^6*f^11 + 6412*c^15*d^5*e^6*f^11 + 1052*c^14*d^6*e^6*f^11 - 1128*b^6*c^13*e^7*f^11 - 8636*b^5*c^14*e^7*f^11 + 24080*b^4*c^15*e^7*f^11 - 21712*b^3*c^16*e^7*f^11 + 9248*b^2*c^17*e^7*f^11 - 1664*b*c^18*e^7*f^11 + 128*c^19*e^7*f^11 - 1572*b^5*c^13*d*e^7*f^11 + 69132*b^4*c^14*d*e^7*f^11 - 100392*b^3*c^15*d*e^7*f^11 + 15232*b^2*c^16*d*e^7*f^11 + 24672*b*c^17*d*e^7*f^11 - 6656*c^18*d*e^7*f^11 + 40572*b^4*c^13*d^2*e^7*f^11 - 108968*b^3*c^14*d^2*e^7*f^11 - 23880*b^2*c^15*d^2*e^7*f^11 + 111024*b*c^16*d^2*e^7*f^11 - 34176*c^17*d^2*e^7*f^11 - 45496*b^3*c^13*d^3*e^7*f^11 - 59256*b^2*c^14*d^3*e^7*f^11 + 174376*b*c^15*d^3*e^7*f^11 - 62560*c^16*d^3*e^7*f^11 - 30880*b^2*c^13*d^4*e^7*f^11 + 121828*b*c^14*d^4*e^7*f^11 - 58824*c^15*d^4*e^7*f^11 + 32476*b*c^13*d^5*e^7*f^11 - 27156*c^14*d^5*e^7*f^11 - 4340*c^13*d^6*e^7*f^11 - 1860*b^6*c^12*e^8*f^11 + 2812*b^5*c^13*e^8*f^11 + 8464*b^4*c^14*e^8*f^11 - 11232*b^3*c^15*e^8*f^11 + 11456*b^2*c^16*e^8*f^11 - 8480*b*c^17*e^8*f^11 + 1728*c^18*e^8*f^11 + 21672*b^5*c^12*d*e^8*f^11 + 25044*b^4*c^13*d*e^8*f^11 - 187328*b^3*c^14*d*e^8*f^11 + 195952*b^2*c^15*d*e^8*f^11 - 70048*b*c^16*d*e^8*f^11 + 7584*c^17*d*e^8*f^11 - 18840*b^4*c^12*d^2*e^8*f^11 - 262536*b^3*c^13*d^2*e^8*f^11 + 501872*b^2*c^14*d^2*e^8*f^11 - 233376*b*c^15*d^2*e^8*f^11 + 19936*c^16*d^2*e^8*f^11 - 122880*b^3*c^12*d^3*e^8*f^11 + 467240*b^2*c^13*d^3*e^8*f^11 - 317472*b*c^14*d^3*e^8*f^11 + 31248*c^15*d^3*e^8*f^11 + 171980*b^2*c^12*d^4*e^8*f^11 - 211316*b*c^13*d^4*e^8*f^11 + 30752*c^14*d^4*e^8*f^11 - 50312*b*c^12*d^5*e^8*f^11 + 13188*c^13*d^5*e^8*f^11 + 944*c^12*d^6*e^8*f^11 + 1104*b^6*c^11*e^9*f^11 + 14932*b^5*c^12*e^9*f^11 - 25260*b^4*c^13*e^9*f^11 + 34288*b^3*c^14*e^9*f^11 - 36384*b^2*c^15*e^9*f^11 + 13312*b*c^16*e^9*f^11 - 832*c^17*e^9*f^11 + 13212*b^5*c^11*d*e^9*f^11 - 127524*b^4*c^12*d*e^9*f^11 + 142248*b^3*c^13*d*e^9*f^11 - 49168*b^2*c^14*d*e^9*f^11 + 9120*b*c^15*d*e^9*f^11 - 3264*c^16*d*e^9*f^11 - 129912*b^4*c^11*d^2*e^9*f^11 + 315288*b^3*c^12*d^2*e^9*f^11 - 49328*b^2*c^13*d^2*e^9*f^11 - 136048*b*c^14*d^2*e^9*f^11 + 34880*c^15*d^2*e^9*f^11 + 230928*b^3*c^11*d^3*e^9*f^11 - 151736*b^2*c^12*d^3*e^9*f^11 - 195240*b*c^13*d^3*e^9*f^11 + 93200*c^14*d^3*e^9*f^11 - 69704*b^2*c^11*d^4*e^9*f^11 - 123436*b*c^12*d^4*e^9*f^11 + 100444*c^13*d^4*e^9*f^11 - 44908*b*c^11*d^5*e^9*f^11 + 60764*c^12*d^5*e^9*f^11 + 13936*c^11*d^6*e^9*f^11 + 2452*b^6*c^10*e^10*f^11 + 7196*b^5*c^11*e^10*f^11 - 7948*b^4*c^12*e^10*f^11 - 19480*b^3*c^13*e^10*f^11 + 13200*b^2*c^14*e^10*f^11 - 3776*b*c^15*e^10*f^11 + 2496*c^16*e^10*f^11 - 28040*b^5*c^10*d*e^10*f^11 - 60924*b^4*c^11*d*e^10*f^11 + 156536*b^3*c^12*d*e^10*f^11 - 76024*b^2*c^13*d*e^10*f^11 + 8864*b*c^14*d*e^10*f^11 + 4096*c^15*d*e^10*f^11 + 50300*b^4*c^10*d^2*e^10*f^11 + 246048*b^3*c^11*d^2*e^10*f^11 - 394496*b^2*c^12*d^2*e^10*f^11 + 129208*b*c^13*d^2*e^10*f^11 - 3120*c^14*d^2*e^10*f^11 + 97560*b^3*c^10*d^3*e^10*f^11 - 475312*b^2*c^11*d^3*e^10*f^11 + 298056*b*c^12*d^3*e^10*f^11 - 20520*c^13*d^3*e^10*f^11 - 249068*b^2*c^10*d^4*e^10*f^11 + 353284*b*c^11*d^4*e^10*f^11 - 73716*c^12*d^4*e^10*f^11 + 138704*b*c^10*d^5*e^10*f^11 - 77140*c^11*d^5*e^10*f^11 - 19972*c^10*d^6*e^10*f^11 - 360*b^6*c^9*e^11*f^11 - 5364*b^5*c^10*e^11*f^11 - 4612*b^4*c^11*e^11*f^11 - 13280*b^3*c^12*e^11*f^11 + 14496*b^2*c^13*e^11*f^11 + 5056*b*c^14*e^11*f^11 - 2496*c^15*e^11*f^11 - 9276*b^5*c^9*d*e^11*f^11 + 16612*b^4*c^10*d*e^11*f^11 + 54864*b^3*c^11*d*e^11*f^11 + 17072*b^2*c^12*d*e^11*f^11 - 70912*b*c^13*d*e^11*f^11 + 25024*c^14*d*e^11*f^11 + 94164*b^4*c^9*d^2*e^11*f^11 - 45400*b^3*c^10*d^2*e^11*f^11 - 181528*b^2*c^11*d^2*e^11*f^11 + 40256*b*c^12*d^2*e^11*f^11 + 52704*c^13*d^2*e^11*f^11 - 244992*b^3*c^9*d^3*e^11*f^11 + 137640*b^2*c^10*d^3*e^11*f^11 + 100592*b*c^11*d^3*e^11*f^11 - 3216*c^12*d^3*e^11*f^11 + 235320*b^2*c^9*d^4*e^11*f^11 - 134740*b*c^10*d^4*e^11*f^11 + 12764*c^11*d^4*e^11*f^11 - 85284*b*c^9*d^5*e^11*f^11 + 33812*c^10*d^5*e^11*f^11 + 9276*c^9*d^6*e^11*f^11 - 968*b^6*c^8*e^12*f^11 - 11104*b^5*c^9*e^12*f^11 - 6860*b^4*c^10*e^12*f^11 + 31976*b^3*c^11*e^12*f^11 - 25072*b^2*c^12*e^12*f^11 + 25216*b*c^13*e^12*f^11 - 10368*c^14*e^12*f^11 + 12228*b^5*c^8*d*e^12*f^11 + 67032*b^4*c^9*d*e^12*f^11 - 3008*b^3*c^10*d*e^12*f^11 - 144296*b^2*c^11*d*e^12*f^11 + 131968*b*c^12*d*e^12*f^11 - 45952*c^13*d*e^12*f^11 - 46920*b^4*c^8*d^2*e^12*f^11 - 59616*b^3*c^9*d^2*e^12*f^11 - 92328*b^2*c^10*d^2*e^12*f^11 + 215224*b*c^11*d^2*e^12*f^11 - 77200*c^12*d^2*e^12*f^11 + 71960*b^3*c^8*d^3*e^12*f^11 - 114432*b^2*c^9*d^3*e^12*f^11 + 243424*b*c^10*d^3*e^12*f^11 - 106232*c^11*d^3*e^12*f^11 - 46920*b^2*c^8*d^4*e^12*f^11 + 143392*b*c^9*d^4*e^12*f^11 - 105452*c^10*d^4*e^12*f^11 + 12228*b*c^8*d^5*e^12*f^11 - 34104*c^9*d^5*e^12*f^11 - 968*c^8*d^6*e^12*f^11 - 1284*b^5*c^8*e^13*f^11 + 3964*b^4*c^9*e^13*f^11 - 6448*b^3*c^10*e^13*f^11 + 43968*b^2*c^11*e^13*f^11 - 36992*b*c^12*e^13*f^11 + 5888*c^13*e^13*f^11 + 42732*b^4*c^8*d*e^13*f^11 - 67304*b^3*c^9*d*e^13*f^11 + 15824*b^2*c^10*d*e^13*f^11 - 25088*b*c^11*d*e^13*f^11 + 8640*c^12*d*e^13*f^11 - 206056*b^3*c^8*d^2*e^13*f^11 + 254768*b^2*c^9*d^2*e^13*f^11 - 2512*b*c^10*d^2*e^13*f^11 - 45056*c^11*d^2*e^13*f^11 + 316600*b^2*c^8*d^3*e^13*f^11 - 262520*b*c^9*d^3*e^13*f^11 - 5008*c^10*d^3*e^13*f^11 - 172884*b*c^8*d^4*e^13*f^11 + 69044*c^9*d^4*e^13*f^11 + 27804*c^8*d^5*e^13*f^11 + 4008*b^5*c^7*e^14*f^11 + 10400*b^4*c^8*e^14*f^11 - 5816*b^3*c^9*e^14*f^11 + 2064*b^2*c^10*e^14*f^11 - 14368*b*c^11*e^14*f^11 + 6144*c^12*e^14*f^11 - 34440*b^4*c^7*d*e^14*f^11 - 25872*b^3*c^8*d*e^14*f^11 + 78152*b^2*c^9*d*e^14*f^11 - 76704*b*c^10*d*e^14*f^11 + 32224*c^11*d*e^14*f^11 + 89680*b^3*c^7*d^2*e^14*f^11 + 6176*b^2*c^8*d^2*e^14*f^11 - 116776*b*c^9*d^2*e^14*f^11 + 62160*c^10*d^2*e^14*f^11 - 89680*b^2*c^7*d^3*e^14*f^11 + 7312*b*c^8*d^3*e^14*f^11 + 37720*c^9*d^3*e^14*f^11 + 34440*b*c^7*d^4*e^14*f^11 - 1344*c^8*d^4*e^14*f^11 - 4008*c^7*d^5*e^14*f^11 + 4884*b^4*c^7*e^15*f^11 + 6672*b^3*c^8*e^15*f^11 - 27904*b^2*c^9*e^15*f^11 + 14336*b*c^10*e^15*f^11 - 1664*c^11*e^15*f^11 - 34712*b^3*c^7*d*e^15*f^11 - 5360*b^2*c^8*d*e^15*f^11 + 57760*b*c^9*d*e^15*f^11 - 17536*c^10*d*e^15*f^11 + 74512*b^2*c^7*d^2*e^15*f^11 - 27152*b*c^8*d^2*e^15*f^11 - 18464*c^9*d^2*e^15*f^11 - 56776*b*c^7*d^3*e^15*f^11 + 19632*c^8*d^3*e^15*f^11 + 12860*c^7*d^4*e^15*f^11 - 2724*b^4*c^6*e^16*f^11 - 4504*b^3*c^7*e^16*f^11 + 4176*b^2*c^8*e^16*f^11 - 352*b*c^9*e^16*f^11 + 960*c^10*e^16*f^11 + 15856*b^3*c^6*d*e^16*f^11 + 6760*b^2*c^7*d*e^16*f^11 - 14976*b*c^8*d*e^16*f^11 + 4320*c^9*d*e^16*f^11 - 26904*b^2*c^6*d^2*e^16*f^11 - 2376*b*c^7*d^2*e^16*f^11 + 11248*c^8*d^2*e^16*f^11 + 15856*b*c^6*d^3*e^16*f^11 + 1336*c^7*d^3*e^16*f^11 - 2724*c^6*d^4*e^16*f^11 - 2432*b^3*c^6*e^17*f^11 - 2720*b^2*c^7*e^17*f^11 + 5504*b*c^8*e^17*f^11 - 960*c^9*e^17*f^11 + 6464*b^2*c^6*d*e^17*f^11 + 6304*b*c^7*d*e^17*f^11 - 6208*c^8*d*e^17*f^11 - 3968*b*c^6*d^2*e^17*f^11 - 3520*c^7*d^2*e^17*f^11 + 448*c^6*d^3*e^17*f^11 + 1376*b^2*c^6*e^18*f^11 - 64*b*c^7*e^18*f^11 - 832*c^8*e^18*f^11 - 3072*b*c^6*d*e^18*f^11 + 384*c^7*d*e^18*f^11 + 1312*c^6*d^2*e^18*f^11 + 448*b*c^6*e^19*f^11 - 64*c^7*e^19*f^11 - 320*c^6*d*e^19*f^11 + 308*b^5*c^15*e^5*f^12 - 352*b^4*c^16*e^5*f^12 + 288*b^3*c^17*e^5*f^12 - 192*b^2*c^18*e^5*f^12 + 32*b*c^19*e^5*f^12 - 956*b^4*c^15*d*e^5*f^12 + 2144*b^3*c^16*d*e^5*f^12 - 1824*b^2*c^17*d*e^5*f^12 + 384*b*c^18*d*e^5*f^12 + 32*c^19*d*e^5*f^12 + 320*b^3*c^15*d^2*e^5*f^12 - 864*b^2*c^16*d^2*e^5*f^12 - 480*b*c^17*d^2*e^5*f^12 + 576*c^18*d^2*e^5*f^12 + 816*b^2*c^15*d^3*e^5*f^12 - 2400*b*c^16*d^3*e^5*f^12 + 1632*c^17*d^3*e^5*f^12 - 660*b*c^15*d^4*e^5*f^12 + 960*c^16*d^4*e^5*f^12 + 108*c^15*d^5*e^5*f^12 + 808*b^5*c^14*e^6*f^12 + 580*b^4*c^15*e^6*f^12 - 3360*b^3*c^16*e^6*f^12 + 1760*b^2*c^17*e^6*f^12 + 64*b*c^18*e^6*f^12 - 64*c^19*e^6*f^12 - 3164*b^4*c^14*d*e^6*f^12 + 2616*b^3*c^15*d*e^6*f^12 - 5280*b^2*c^16*d*e^6*f^12 + 6784*b*c^17*d*e^6*f^12 - 1856*c^18*d*e^6*f^12 + 3568*b^3*c^14*d^2*e^6*f^12 - 17696*b^2*c^15*d^2*e^6*f^12 + 24608*b*c^16*d^2*e^6*f^12 - 8416*c^17*d^2*e^6*f^12 - 4792*b^2*c^14*d^3*e^6*f^12 + 17320*b*c^15*d^3*e^6*f^12 - 9312*c^16*d^3*e^6*f^12 + 3336*b*c^14*d^4*e^6*f^12 - 3268*c^15*d^4*e^6*f^12 - 460*c^14*d^5*e^6*f^12 + 760*b^5*c^13*e^7*f^12 - 1792*b^4*c^14*e^7*f^12 - 9104*b^3*c^15*e^7*f^12 + 15808*b^2*c^16*e^7*f^12 - 7392*b*c^17*e^7*f^12 + 960*c^18*e^7*f^12 - 5768*b^4*c^13*d*e^7*f^12 - 15528*b^3*c^14*d*e^7*f^12 + 60672*b^2*c^15*d*e^7*f^12 - 43072*b*c^16*d*e^7*f^12 + 7712*c^17*d*e^7*f^12 - 1904*b^3*c^13*d^2*e^7*f^12 + 51592*b^2*c^14*d^2*e^7*f^12 - 51760*b*c^15*d^2*e^7*f^12 + 9216*c^16*d^2*e^7*f^12 + 16656*b^2*c^13*d^3*e^7*f^12 - 21624*b*c^14*d^3*e^7*f^12 - 1472*c^15*d^3*e^7*f^12 - 4936*b*c^13*d^4*e^7*f^12 - 3624*c^14*d^4*e^7*f^12 - 840*c^13*d^5*e^7*f^12 - 1256*b^5*c^12*e^8*f^12 - 15728*b^4*c^13*e^8*f^12 + 32448*b^3*c^14*e^8*f^12 - 19616*b^2*c^15*e^8*f^12 + 3648*b*c^16*e^8*f^12 - 9908*b^4*c^12*d*e^8*f^12 + 73824*b^3*c^13*d*e^8*f^12 - 54656*b^2*c^14*d*e^8*f^12 - 14560*b*c^15*d*e^8*f^12 + 11584*c^16*d*e^8*f^12 + 43408*b^3*c^12*d^2*e^8*f^12 - 36640*b^2*c^13*d^2*e^8*f^12 - 69824*b*c^14*d^2*e^8*f^12 + 43520*c^15*d^2*e^8*f^12 - 10680*b^2*c^12*d^3*e^8*f^12 - 75616*b*c^13*d^3*e^8*f^12 + 59776*c^14*d^3*e^8*f^12 - 27112*b*c^12*d^4*e^8*f^12 + 35984*c^13*d^4*e^8*f^12 + 7980*c^12*d^5*e^8*f^12 - 4448*b^5*c^11*e^9*f^12 + 1312*b^4*c^12*e^9*f^12 + 22680*b^3*c^13*e^9*f^12 - 26688*b^2*c^14*e^9*f^12 + 13376*b*c^15*e^9*f^12 - 2880*c^16*e^9*f^12 + 24424*b^4*c^11*d*e^9*f^12 + 65376*b^3*c^12*d*e^9*f^12 - 202488*b^2*c^13*d*e^9*f^12 + 128608*b*c^14*d*e^9*f^12 - 21376*c^15*d*e^9*f^12 + 22136*b^3*c^11*d^2*e^9*f^12 - 274240*b^2*c^12*d^2*e^9*f^12 + 281512*b*c^13*d^2*e^9*f^12 - 58464*c^14*d^2*e^9*f^12 - 130280*b^2*c^11*d^3*e^9*f^12 + 247776*b*c^12*d^3*e^9*f^12 - 73288*c^13*d^3*e^9*f^12 + 82824*b*c^11*d^4*e^9*f^12 - 45216*c^12*d^4*e^9*f^12 - 9440*c^11*d^5*e^9*f^12 + 88*b^5*c^10*e^10*f^12 + 25552*b^4*c^11*e^10*f^12 - 37824*b^3*c^12*e^10*f^12 + 31904*b^2*c^13*e^10*f^12 - 18176*b*c^14*e^10*f^12 + 3456*c^15*e^10*f^12 + 36508*b^4*c^10*d*e^10*f^12 - 154088*b^3*c^11*d*e^10*f^12 + 109568*b^2*c^12*d*e^10*f^12 - 11328*b*c^13*d*e^10*f^12 - 1600*c^14*d*e^10*f^12 - 156512*b^3*c^10*d^2*e^10*f^12 + 225848*b^2*c^11*d^2*e^10*f^12 + 6528*b*c^12*d^2*e^10*f^12 - 41504*c^13*d^2*e^10*f^12 + 148360*b^2*c^10*d^3*e^10*f^12 - 29816*b*c^11*d^3*e^10*f^12 - 58624*c^12*d^3*e^10*f^12 - 10136*b*c^10*d^4*e^10*f^12 - 39528*c^11*d^4*e^10*f^12 - 12228*c^10*d^5*e^10*f^12 + 5384*b^5*c^9*e^11*f^12 + 9608*b^4*c^10*e^11*f^12 - 16408*b^3*c^11*e^11*f^12 - 6256*b^2*c^12*e^11*f^12 + 6912*b*c^13*e^11*f^12 - 2048*c^14*e^11*f^12 - 34920*b^4*c^9*d*e^11*f^12 - 70888*b^3*c^10*d*e^11*f^12 + 141320*b^2*c^11*d*e^11*f^12 - 51744*b*c^12*d*e^11*f^12 + 2432*c^13*d*e^11*f^12 + 14016*b^3*c^9*d^2*e^11*f^12 + 222392*b^2*c^10*d^2*e^11*f^12 - 205288*b*c^11*d^2*e^11*f^12 + 31248*c^12*d^2*e^11*f^12 + 121440*b^2*c^9*d^3*e^11*f^12 - 259672*b*c^10*d^3*e^11*f^12 + 74680*c^11*d^3*e^11*f^12 - 127688*b*c^9*d^4*e^11*f^12 + 84800*c^10*d^4*e^11*f^12 + 29064*c^9*d^5*e^11*f^12 + 360*b^5*c^8*e^12*f^12 - 6240*b^4*c^9*e^12*f^12 - 3120*b^3*c^10*e^12*f^12 - 11392*b^2*c^11*e^12*f^12 + 11200*b*c^12*e^12*f^12 - 960*c^13*e^12*f^12 - 23436*b^4*c^8*d*e^12*f^12 + 22672*b^3*c^9*d*e^12*f^12 + 39104*b^2*c^10*d*e^12*f^12 + 9248*b*c^11*d*e^12*f^12 - 21632*c^12*d*e^12*f^12 + 119808*b^3*c^8*d^2*e^12*f^12 - 66800*b^2*c^9*d^2*e^12*f^12 - 64816*b*c^10*d^2*e^12*f^12 + 4064*c^11*d^2*e^12*f^12 - 186360*b^2*c^8*d^3*e^12*f^12 + 92432*b*c^9*d^3*e^12*f^12 + 8224*c^10*d^3*e^12*f^12 + 101592*b*c^8*d^4*e^12*f^12 - 33872*c^9*d^4*e^12*f^12 - 16188*c^8*d^5*e^12*f^12 - 2004*b^5*c^7*e^13*f^12 - 14224*b^4*c^8*e^13*f^12 - 2680*b^3*c^9*e^13*f^12 + 28240*b^2*c^10*e^13*f^12 - 21472*b*c^11*e^13*f^12 + 8448*c^12*e^13*f^12 + 17220*b^4*c^7*d*e^13*f^12 + 50608*b^3*c^8*d*e^13*f^12 + 3704*b^2*c^9*d*e^13*f^12 - 74304*b*c^10*d*e^13*f^12 + 34272*c^11*d*e^13*f^12 - 44840*b^3*c^7*d^2*e^13*f^12 - 3920*b^2*c^8*d^2*e^13*f^12 - 68488*b*c^9*d^2*e^13*f^12 + 52144*c^10*d^2*e^13*f^12 + 44840*b^2*c^7*d^3*e^13*f^12 - 69072*b*c^8*d^3*e^13*f^12 + 60488*c^9*d^3*e^13*f^12 - 17220*b*c^7*d^4*e^13*f^12 + 29952*c^8*d^4*e^13*f^12 + 2004*c^7*d^5*e^13*f^12 - 4164*b^4*c^7*e^14*f^12 + 6720*b^3*c^8*e^14*f^12 - 4640*b^2*c^9*e^14*f^12 + 16320*b*c^10*e^14*f^12 - 6976*c^11*e^14*f^12 + 54976*b^3*c^7*d*e^14*f^12 - 65120*b^2*c^8*d*e^14*f^12 + 5888*b*c^9*d*e^14*f^12 + 1984*c^10*d*e^14*f^12 - 153480*b^2*c^7*d^2*e^14*f^12 + 128192*b*c^8*d^2*e^14*f^12 - 1120*c^9*d^2*e^14*f^12 + 132384*b*c^7*d^3*e^14*f^12 - 55840*c^8*d^3*e^14*f^12 - 31636*c^7*d^4*e^14*f^12 + 5448*b^4*c^6*e^15*f^12 + 7656*b^3*c^7*e^15*f^12 - 8848*b^2*c^8*e^15*f^12 + 5920*b*c^9*e^15*f^12 - 4032*c^10*e^15*f^12 - 31712*b^3*c^6*d*e^15*f^12 - 10600*b^2*c^7*d*e^15*f^12 + 38560*b*c^8*d*e^15*f^12 - 19552*c^9*d*e^15*f^12 + 53808*b^2*c^6*d^2*e^15*f^12 - 552*b*c^7*d^2*e^15*f^12 - 23184*c^8*d^2*e^15*f^12 - 31712*b*c^6*d^3*e^15*f^12 + 1320*c^7*d^3*e^15*f^12 + 5448*c^6*d^4*e^15*f^12 + 5136*b^3*c^6*e^16*f^12 + 3360*b^2*c^7*e^16*f^12 - 12160*b*c^8*e^16*f^12 + 3456*c^9*e^16*f^12 - 23616*b^2*c^6*d*e^16*f^12 + 1792*b*c^7*d*e^16*f^12 + 10560*c^8*d*e^16*f^12 + 29584*b*c^6*d^2*e^16*f^12 - 7200*c^7*d^2*e^16*f^12 - 10016*c^6*d^3*e^16*f^12 - 2432*b^3*c^5*e^17*f^12 - 2064*b^2*c^6*e^17*f^12 + 2176*b*c^7*e^17*f^12 - 448*c^8*e^17*f^12 + 9216*b^2*c^5*d*e^17*f^12 + 1568*b*c^6*d*e^17*f^12 - 3072*c^7*d*e^17*f^12 - 9216*b*c^5*d^2*e^17*f^12 - 272*c^6*d^2*e^17*f^12 + 2432*c^5*d^3*e^17*f^12 - 1376*b^2*c^5*e^18*f^12 - 896*b*c^6*e^18*f^12 + 1024*c^7*e^18*f^12 + 2176*b*c^5*d*e^18*f^12 + 960*c^6*d*e^18*f^12 - 608*c^5*d^2*e^18*f^12 + 448*b*c^5*e^19*f^12 - 448*c^5*d*e^19*f^12 + 64*c^5*e^20*f^12 + 416*b^4*c^14*e^6*f^13 - 592*b^3*c^15*e^6*f^13 + 448*b^2*c^16*e^6*f^13 - 128*b*c^17*e^6*f^13 - 744*b^3*c^14*d*e^6*f^13 + 1360*b^2*c^15*d*e^6*f^13 - 448*b*c^16*d*e^6*f^13 - 128*c^17*d*e^6*f^13 - 248*b^2*c^14*d^2*e^6*f^13 + 912*b*c^15*d^2*e^6*f^13 - 896*c^16*d^2*e^6*f^13 + 712*b*c^14*d^3*e^6*f^13 - 1040*c^15*d^3*e^6*f^13 - 200*c^14*d^4*e^6*f^13 + 1108*b^4*c^13*e^7*f^13 - 32*b^3*c^14*e^7*f^13 - 800*b^2*c^15*e^7*f^13 - 512*b*c^16*e^7*f^13 + 320*c^17*e^7*f^13 - 3328*b^3*c^13*d*e^7*f^13 + 7152*b^2*c^14*d*e^7*f^13 - 9792*b*c^15*d*e^7*f^13 + 3968*c^16*d*e^7*f^13 + 4360*b^2*c^13*d^2*e^7*f^13 - 14528*b*c^14*d^2*e^7*f^13 + 8928*c^15*d^2*e^7*f^13 - 3744*b*c^13*d^3*e^7*f^13 + 5168*c^14*d^3*e^7*f^13 + 900*c^13*d^4*e^7*f^13 + 988*b^4*c^12*e^8*f^13 + 2088*b^3*c^13*e^8*f^13 - 13904*b^2*c^14*e^8*f^13 + 12096*b*c^15*e^8*f^13 - 2624*c^16*e^8*f^13 - 2128*b^3*c^12*d*e^8*f^13 - 24104*b^2*c^13*d*e^8*f^13 + 37632*b*c^14*d*e^8*f^13 - 11456*c^15*d*e^8*f^13 - 7912*b^2*c^12*d^2*e^8*f^13 + 27832*b*c^13*d^2*e^8*f^13 - 10416*c^14*d^2*e^8*f^13 + 8144*b*c^12*d^3*e^8*f^13 - 2808*c^13*d^3*e^8*f^13 - 500*c^12*d^4*e^8*f^13 - 212*b^4*c^11*e^9*f^13 - 17552*b^3*c^12*e^9*f^13 + 23552*b^2*c^13*e^9*f^13 - 7488*b*c^14*e^9*f^13 + 64*c^15*e^9*f^13 - 14328*b^3*c^11*d*e^9*f^13 + 41712*b^2*c^12*d*e^9*f^13 - 4832*b*c^13*d*e^9*f^13 - 10496*c^14*d*e^9*f^13 + 23104*b^2*c^11*d^2*e^9*f^13 + 11728*b*c^12*d^2*e^9*f^13 - 29664*c^13*d^2*e^9*f^13 + 6648*b*c^11*d^3*e^9*f^13 - 25648*c^12*d^3*e^9*f^13 - 7532*c^11*d^4*e^9*f^13 - 5948*b^4*c^10*e^10*f^13 - 4296*b^3*c^11*e^10*f^13 + 28944*b^2*c^12*e^10*f^13 - 21760*b*c^13*e^10*f^13 + 4864*c^14*e^10*f^13 + 12072*b^3*c^10*d*e^10*f^13 + 77912*b^2*c^11*d*e^10*f^13 - 117024*b*c^12*d*e^10*f^13 + 33984*c^13*d*e^10*f^13 + 43712*b^2*c^10*d^2*e^10*f^13 - 149784*b*c^11*d^2*e^10*f^13 + 65808*c^12*d^2*e^10*f^13 - 67400*b*c^10*d^3*e^10*f^13 + 54152*c^11*d^3*e^10*f^13 + 16348*c^10*d^4*e^10*f^13 - 2900*b^4*c^9*e^11*f^13 + 29344*b^3*c^10*e^11*f^13 - 31424*b^2*c^11*e^11*f^13 + 15104*b*c^12*e^11*f^13 - 3712*c^13*e^11*f^13 + 48912*b^3*c^9*d*e^11*f^13 - 112624*b^2*c^10*d*e^11*f^13 + 42464*b*c^11*d*e^11*f^13 + 1664*c^12*d*e^11*f^13 - 109016*b^2*c^9*d^2*e^11*f^13 + 83904*b*c^10*d^2*e^11*f^13 + 10080*c^11*d^2*e^11*f^13 + 50160*b*c^9*d^3*e^11*f^13 + 3728*c^10*d^3*e^11*f^13 + 1772*c^9*d^4*e^11*f^13 + 7268*b^4*c^8*e^12*f^13 + 9560*b^3*c^9*e^12*f^13 - 17136*b^2*c^10*e^12*f^13 + 1632*b*c^11*e^12*f^13 + 1280*c^12*e^12*f^13 - 25056*b^3*c^8*d*e^12*f^13 - 58616*b^2*c^9*d*e^12*f^13 + 72320*b*c^10*d*e^12*f^13 - 13664*c^11*d*e^12*f^13 - 17288*b^2*c^8*d^2*e^12*f^13 + 116296*b*c^9*d^2*e^12*f^13 - 47056*c^10*d^2*e^12*f^13 + 67904*b*c^8*d^3*e^12*f^13 - 59816*c^9*d^3*e^12*f^13 - 26684*c^8*d^4*e^12*f^13 + 2004*b^4*c^7*e^13*f^13 - 5904*b^3*c^8*e^13*f^13 - 1280*b^2*c^9*e^13*f^13 - 5760*b*c^10*e^13*f^13 + 3456*c^11*e^13*f^13 - 31256*b^3*c^7*d*e^13*f^13 + 22736*b^2*c^8*d*e^13*f^13 + 14016*b*c^9*d*e^13*f^13 + 2624*c^10*d*e^13*f^13 + 90192*b^2*c^7*d^2*e^13*f^13 - 42480*b*c^8*d^2*e^13*f^13 - 8192*c^9*d^2*e^13*f^13 - 78280*b*c^7*d^3*e^13*f^13 + 22896*c^8*d^3*e^13*f^13 + 18620*c^7*d^4*e^13*f^13 - 2724*b^4*c^6*e^14*f^13 - 11624*b^3*c^7*e^14*f^13 - 560*b^2*c^8*e^14*f^13 + 13728*b*c^9*e^14*f^13 - 6080*c^10*e^14*f^13 + 15856*b^3*c^6*d*e^14*f^13 + 21880*b^2*c^7*d*e^14*f^13 + 6944*b*c^8*d*e^14*f^13 - 16736*c^9*d*e^14*f^13 - 26904*b^2*c^6*d^2*e^14*f^13 + 10632*b*c^7*d^2*e^14*f^13 - 18608*c^8*d^2*e^14*f^13 + 15856*b*c^6*d^3*e^14*f^13 - 15320*c^7*d^3*e^14*f^13 - 2724*c^6*d^4*e^14*f^13 - 5856*b^3*c^6*e^15*f^13 + 6624*b^2*c^7*e^15*f^13 - 1728*b*c^8*e^15*f^13 + 2240*c^9*e^15*f^13 + 41024*b^2*c^6*d*e^15*f^13 - 32864*b*c^7*d*e^15*f^13 + 960*c^8*d*e^15*f^13 - 62944*b*c^6*d^2*e^15*f^13 + 26624*c^7*d^2*e^15*f^13 + 23552*c^6*d^3*e^15*f^13 + 4864*b^3*c^5*e^16*f^13 + 3584*b^2*c^6*e^16*f^13 - 5024*b*c^7*e^16*f^13 + 2048*c^8*e^16*f^13 - 18432*b^2*c^5*d*e^16*f^13 - 2496*b*c^6*d*e^16*f^13 + 7840*c^7*d*e^16*f^13 + 18432*b*c^5*d^2*e^16*f^13 - 256*c^6*d^2*e^16*f^13 - 4864*c^5*d^3*e^16*f^13 + 3328*b^2*c^5*e^17*f^13 + 832*b*c^6*e^17*f^13 - 2240*c^7*e^17*f^13 - 8992*b*c^5*d*e^17*f^13 + 960*c^6*d*e^17*f^13 + 5024*c^5*d^2*e^17*f^13 - 1376*b^2*c^4*e^18*f^13 - 544*b*c^5*e^18*f^13 + 448*c^6*e^18*f^13 + 3072*b*c^4*d*e^18*f^13 + 160*c^5*d*e^18*f^13 - 1376*c^4*d^2*e^18*f^13 - 448*b*c^4*e^19*f^13 - 128*c^5*e^19*f^13 + 320*c^4*d*e^19*f^13 + 64*c^4*e^20*f^13 + 344*b^3*c^13*e^7*f^14 - 448*b^2*c^14*e^7*f^14 + 192*b*c^15*e^7*f^14 - 248*b^2*c^13*d*e^7*f^14 + 128*b*c^14*d*e^7*f^14 + 192*c^15*d*e^7*f^14 - 376*b*c^13*d^2*e^7*f^14 + 576*c^14*d^2*e^7*f^14 + 216*c^13*d^3*e^7*f^14 + 1072*b^3*c^12*e^8*f^14 - 1024*b^2*c^13*e^8*f^14 + 1152*b*c^14*e^8*f^14 - 640*c^15*e^8*f^14 - 2720*b^2*c^12*d*e^8*f^14 + 6176*b*c^13*d*e^8*f^14 - 3968*c^14*d*e^8*f^14 + 2864*b*c^12*d^2*e^8*f^14 - 4320*c^13*d^2*e^8*f^14 - 1024*c^12*d^3*e^8*f^14 + 488*b^3*c^11*e^9*f^14 + 4496*b^2*c^12*e^9*f^14 - 9216*b*c^13*e^9*f^14 + 3456*c^14*e^9*f^14 + 1464*b^2*c^11*d*e^9*f^14 - 14656*b*c^12*d*e^9*f^14 + 8896*c^13*d*e^9*f^14 - 5224*b*c^11*d^2*e^9*f^14 + 5616*c^12*d^2*e^9*f^14 + 1480*c^11*d^3*e^9*f^14 + 1008*b^3*c^10*e^10*f^14 - 11232*b^2*c^11*e^10*f^14 + 8000*b*c^12*e^10*f^14 - 576*c^13*e^10*f^14 - 9792*b^2*c^10*d*e^10*f^14 + 9280*b*c^11*d*e^10*f^14 + 4544*c^12*d*e^10*f^14 + 4656*b*c^10*d^2*e^10*f^14 + 8480*c^11*d^2*e^10*f^14 + 3296*c^10*d^3*e^10*f^14 - 4440*b^3*c^9*e^11*f^14 - 7984*b^2*c^10*e^11*f^14 + 18208*b*c^11*e^11*f^14 - 6400*c^12*e^11*f^14 - 1608*b^2*c^9*d*e^11*f^14 + 45472*b*c^10*d*e^11*f^14 - 27872*c^11*d*e^11*f^14 + 27320*b*c^9*d^2*e^11*f^14 - 33392*c^10*d^2*e^11*f^14 - 13912*c^9*d^3*e^11*f^14 - 5232*b^3*c^8*e^12*f^14 + 21024*b^2*c^9*e^12*f^14 - 13632*b*c^10*e^12*f^14 + 2752*c^11*e^12*f^14 + 36384*b^2*c^8*d*e^12*f^14 - 44704*b*c^9*d*e^12*f^14 + 5888*c^10*d*e^12*f^14 - 40880*b*c^8*d^2*e^12*f^14 + 11904*c^9*d^2*e^12*f^14 + 6720*c^8*d^3*e^12*f^14 + 6040*b^3*c^7*e^13*f^14 + 7024*b^2*c^8*e^13*f^14 - 9440*b*c^9*e^13*f^14 + 1216*c^10*e^13*f^14 - 8824*b^2*c^7*d*e^13*f^14 - 29312*b*c^8*d*e^13*f^14 + 16096*c^9*d*e^13*f^14 - 16472*b*c^7*d^2*e^13*f^14 + 26064*c^8*d^2*e^13*f^14 + 14776*c^7*d^3*e^13*f^14 + 3152*b^3*c^6*e^14*f^14 - 4256*b^2*c^7*e^14*f^14 - 128*b*c^8*e^14*f^14 - 1280*c^9*e^14*f^14 - 23872*b^2*c^6*d*e^14*f^14 + 12544*b*c^7*d*e^14*f^14 + 1792*c^8*d*e^14*f^14 + 37328*b*c^6*d^2*e^14*f^14 - 10208*c^7*d^2*e^14*f^14 - 13984*c^6*d^3*e^14*f^14 - 2432*b^3*c^5*e^15*f^14 - 5840*b^2*c^6*e^15*f^14 - 288*b*c^7*e^15*f^14 + 2880*c^8*e^15*f^14 + 9216*b^2*c^5*d*e^15*f^14 + 4512*b*c^6*d*e^15*f^14 + 2528*c^7*d*e^15*f^14 - 9216*b*c^5*d^2*e^15*f^14 + 3504*c^6*d^2*e^15*f^14 + 2432*c^5*d^3*e^15*f^14 - 4512*b^2*c^5*e^16*f^14 + 3392*b*c^6*e^16*f^14 - 256*c^7*e^16*f^14 + 16704*b*c^5*d*e^16*f^14 - 6784*c^6*d*e^16*f^14 - 10976*c^5*d^2*e^16*f^14 + 2752*b^2*c^4*e^17*f^14 + 992*b*c^5*e^17*f^14 - 1088*c^6*e^17*f^14 - 6144*b*c^4*d*e^17*f^14 - 288*c^5*d*e^17*f^14 + 2752*c^4*d^2*e^17*f^14 + 1216*b*c^4*e^18*f^14 + 64*c^5*e^18*f^14 - 1472*c^4*d*e^18*f^14 - 448*b*c^3*e^19*f^14 - 64*c^4*e^19*f^14 + 448*c^3*d*e^19*f^14 - 64*c^3*e^20*f^14 + 160*b^2*c^12*e^8*f^15 - 128*b*c^13*e^8*f^15 + 32*b*c^12*d*e^8*f^15 - 128*c^13*d*e^8*f^15 - 128*c^12*d^2*e^8*f^15 + 736*b^2*c^11*e^9*f^15 - 1024*b*c^12*e^9*f^15 + 640*c^13*e^9*f^15 - 1408*b*c^11*d*e^9*f^15 + 1856*c^12*d*e^9*f^15 + 736*c^11*d^2*e^9*f^15 - 128*b^2*c^10*e^10*f^15 + 2976*b*c^11*e^10*f^15 - 2304*c^12*e^10*f^15 + 1600*b*c^10*d*e^10*f^15 - 3296*c^11*d*e^10*f^15 - 1152*c^10*d^2*e^10*f^15 + 1088*b^2*c^9*e^11*f^15 - 3584*b*c^10*e^11*f^15 + 768*c^11*e^11*f^15 - 3104*b*c^9*d*e^11*f^15 - 256*c^10*d*e^11*f^15 - 160*c^9*d^2*e^11*f^15 - 1600*b^2*c^8*e^12*f^15 - 5408*b*c^9*e^12*f^15 + 4544*c^10*e^12*f^15 - 4192*b*c^8*d*e^12*f^15 + 10528*c^9*d*e^12*f^15 + 6176*c^8*d^2*e^12*f^15 - 4384*b^2*c^7*e^13*f^15 + 8384*b*c^8*e^13*f^15 - 2368*c^9*e^13*f^15 + 14400*b*c^7*d*e^13*f^15 - 7296*c^8*d*e^13*f^15 - 6368*c^7*d^2*e^13*f^15 + 2944*b^2*c^6*e^14*f^15 + 3296*b*c^7*e^14*f^15 - 2176*c^8*e^14*f^15 - 512*b*c^6*d*e^14*f^15 - 6432*c^7*d*e^14*f^15 - 4288*c^6*d^2*e^14*f^15 + 2560*b^2*c^5*e^15*f^15 - 1920*b*c^6*e^15*f^15 + 64*c^7*e^15*f^15 - 9888*b*c^5*d*e^15*f^15 + 2816*c^6*d*e^15*f^15 + 6560*c^5*d^2*e^15*f^15 - 1376*b^2*c^4*e^16*f^15 - 1632*b*c^5*e^16*f^15 - 128*c^6*e^16*f^15 + 3072*b*c^4*d*e^16*f^15 + 224*c^5*d*e^16*f^15 - 1376*c^4*d^2*e^16*f^15 - 1856*b*c^4*e^17*f^15 + 704*c^5*e^17*f^15 + 2880*c^4*d*e^17*f^15 + 896*b*c^3*e^18*f^15 + 128*c^4*e^18*f^15 - 896*c^3*d*e^18*f^15 + 192*c^3*e^19*f^15 - 64*c^2*e^20*f^15 + 32*b*c^11*e^9*f^16 + 32*c^11*d*e^9*f^16 + 320*b*c^10*e^10*f^16 - 320*c^11*e^10*f^16 - 320*c^10*d*e^10*f^16 - 224*b*c^9*e^11*f^16 + 704*c^10*e^11*f^16 + 416*c^9*d*e^11*f^16 + 448*b*c^8*e^12*f^16 - 384*c^9*e^12*f^16 - 320*c^8*d*e^12*f^16 - 96*b*c^7*e^13*f^16 - 1344*c^8*e^13*f^16 - 1248*c^7*d*e^13*f^16 - 1856*b*c^6*e^14*f^16 + 1408*c^7*e^14*f^16 + 2368*c^6*d*e^14*f^16 + 736*b*c^5*e^15*f^16 + 704*c^6*e^15*f^16 + 352*c^5*d*e^15*f^16 + 1088*b*c^4*e^16*f^16 - 384*c^5*e^16*f^16 - 1728*c^4*d*e^16*f^16 - 448*b*c^3*e^17*f^16 - 192*c^4*e^17*f^16 + 448*c^3*d*e^17*f^16 - 320*c^3*e^18*f^16 + 128*c^2*e^19*f^16 + 64*c^9*e^11*f^17 - 64*c^8*e^12*f^17 + 64*c^7*e^13*f^17 + 64*c^6*e^14*f^17 - 320*c^5*e^15*f^17 + 64*c^4*e^16*f^17 + 192*c^3*e^17*f^17 - 64*c^2*e^18*f^17\n"
     ]
    }
   ],
   "source": [
    "print(coeffs[1])"
   ]
  },
  {
   "cell_type": "code",
   "execution_count": 51,
   "id": "6d831018",
   "metadata": {},
   "outputs": [
    {
     "ename": "KeyboardInterrupt",
     "evalue": "",
     "output_type": "error",
     "traceback": [
      "\u001b[0;31m---------------------------------------------------------------------------\u001b[0m",
      "\u001b[0;31mKeyboardInterrupt\u001b[0m                         Traceback (most recent call last)",
      "\u001b[0;32m<ipython-input-51-bc9b9352c10c>\u001b[0m in \u001b[0;36m<module>\u001b[0;34m\u001b[0m\n\u001b[0;32m----> 1\u001b[0;31m \u001b[0mconds\u001b[0m \u001b[0;34m=\u001b[0m \u001b[0;34m[\u001b[0m\u001b[0mremove_sing_factors\u001b[0m\u001b[0;34m(\u001b[0m\u001b[0mel\u001b[0m\u001b[0;34m,\u001b[0m \u001b[0mgeneral_cubic\u001b[0m\u001b[0;34m.\u001b[0m\u001b[0msing_locus\u001b[0m\u001b[0;34m)\u001b[0m \u001b[0;32mfor\u001b[0m \u001b[0mel\u001b[0m \u001b[0;32min\u001b[0m \u001b[0mcoeffs\u001b[0m \u001b[0;32mif\u001b[0m \u001b[0mel\u001b[0m \u001b[0;34m!=\u001b[0m \u001b[0mInteger\u001b[0m\u001b[0;34m(\u001b[0m\u001b[0;36m0\u001b[0m\u001b[0;34m)\u001b[0m\u001b[0;34m]\u001b[0m\u001b[0;34m\u001b[0m\u001b[0;34m\u001b[0m\u001b[0m\n\u001b[0m",
      "\u001b[0;32m<ipython-input-51-bc9b9352c10c>\u001b[0m in \u001b[0;36m<listcomp>\u001b[0;34m(.0)\u001b[0m\n\u001b[0;32m----> 1\u001b[0;31m \u001b[0mconds\u001b[0m \u001b[0;34m=\u001b[0m \u001b[0;34m[\u001b[0m\u001b[0mremove_sing_factors\u001b[0m\u001b[0;34m(\u001b[0m\u001b[0mel\u001b[0m\u001b[0;34m,\u001b[0m \u001b[0mgeneral_cubic\u001b[0m\u001b[0;34m.\u001b[0m\u001b[0msing_locus\u001b[0m\u001b[0;34m)\u001b[0m \u001b[0;32mfor\u001b[0m \u001b[0mel\u001b[0m \u001b[0;32min\u001b[0m \u001b[0mcoeffs\u001b[0m \u001b[0;32mif\u001b[0m \u001b[0mel\u001b[0m \u001b[0;34m!=\u001b[0m \u001b[0mInteger\u001b[0m\u001b[0;34m(\u001b[0m\u001b[0;36m0\u001b[0m\u001b[0;34m)\u001b[0m\u001b[0;34m]\u001b[0m\u001b[0;34m\u001b[0m\u001b[0;34m\u001b[0m\u001b[0m\n\u001b[0m",
      "\u001b[0;32m<string>\u001b[0m in \u001b[0;36mremove_sing_factors\u001b[0;34m(poly, sing_locus)\u001b[0m\n",
      "\u001b[0;32m~/anaconda3/envs/sage/lib/python3.7/site-packages/sage/rings/polynomial/multi_polynomial_libsingular.pyx\u001b[0m in \u001b[0;36msage.rings.polynomial.multi_polynomial_libsingular.MPolynomial_libsingular.factor (build/cythonized/sage/rings/polynomial/multi_polynomial_libsingular.cpp:34773)\u001b[0;34m()\u001b[0m\n\u001b[1;32m   4465\u001b[0m         \u001b[0mptemp\u001b[0m \u001b[0;34m=\u001b[0m \u001b[0mp_Copy\u001b[0m\u001b[0;34m(\u001b[0m\u001b[0mself\u001b[0m\u001b[0;34m.\u001b[0m\u001b[0m_poly\u001b[0m\u001b[0;34m,\u001b[0m\u001b[0m_ring\u001b[0m\u001b[0;34m)\u001b[0m\u001b[0;34m\u001b[0m\u001b[0;34m\u001b[0m\u001b[0m\n\u001b[1;32m   4466\u001b[0m         \u001b[0miv\u001b[0m \u001b[0;34m=\u001b[0m \u001b[0mNULL\u001b[0m\u001b[0;34m\u001b[0m\u001b[0;34m\u001b[0m\u001b[0m\n\u001b[0;32m-> 4467\u001b[0;31m         \u001b[0msig_on\u001b[0m\u001b[0;34m(\u001b[0m\u001b[0;34m)\u001b[0m\u001b[0;34m\u001b[0m\u001b[0;34m\u001b[0m\u001b[0m\n\u001b[0m\u001b[1;32m   4468\u001b[0m         \u001b[0;32mif\u001b[0m \u001b[0m_ring\u001b[0m\u001b[0;34m!=\u001b[0m\u001b[0mcurrRing\u001b[0m\u001b[0;34m:\u001b[0m \u001b[0mrChangeCurrRing\u001b[0m\u001b[0;34m(\u001b[0m\u001b[0m_ring\u001b[0m\u001b[0;34m)\u001b[0m   \u001b[0;31m# singclap_factorize\u001b[0m\u001b[0;34m\u001b[0m\u001b[0;34m\u001b[0m\u001b[0m\n\u001b[1;32m   4469\u001b[0m         \u001b[0mI\u001b[0m \u001b[0;34m=\u001b[0m \u001b[0msingclap_factorize\u001b[0m \u001b[0;34m(\u001b[0m \u001b[0mptemp\u001b[0m\u001b[0;34m,\u001b[0m \u001b[0;34m&\u001b[0m\u001b[0miv\u001b[0m \u001b[0;34m,\u001b[0m \u001b[0;36m0\u001b[0m\u001b[0;34m,\u001b[0m \u001b[0m_ring\u001b[0m\u001b[0;34m)\u001b[0m\u001b[0;34m\u001b[0m\u001b[0;34m\u001b[0m\u001b[0m\n",
      "\u001b[0;31mKeyboardInterrupt\u001b[0m: "
     ]
    }
   ],
   "source": [
    "conds = [remove_sing_factors(el, general_cubic.sing_locus) for el in coeffs if el != 0]"
   ]
  },
  {
   "cell_type": "code",
   "execution_count": null,
   "id": "5e515442",
   "metadata": {},
   "outputs": [],
   "source": [
    "gb =P.ideal(conds).groebner_basis()"
   ]
  },
  {
   "cell_type": "code",
   "execution_count": null,
   "id": "ce815609",
   "metadata": {},
   "outputs": [],
   "source": []
  },
  {
   "cell_type": "code",
   "execution_count": null,
   "id": "18de11ec",
   "metadata": {},
   "outputs": [],
   "source": [
    "gb1 = P.ideal(conds).radical().primary_decomposition()\n",
    "gb1"
   ]
  },
  {
   "cell_type": "code",
   "execution_count": null,
   "id": "82e49829",
   "metadata": {},
   "outputs": [],
   "source": []
  },
  {
   "cell_type": "code",
   "execution_count": null,
   "id": "42f3bd20",
   "metadata": {},
   "outputs": [],
   "source": [
    "var = [b,d,e,f,c]"
   ]
  },
  {
   "cell_type": "code",
   "execution_count": 43,
   "id": "f83cd507",
   "metadata": {},
   "outputs": [
    {
     "name": "stdout",
     "output_type": "stream",
     "text": [
      "6\n",
      "7\n"
     ]
    },
    {
     "ename": "ValueError",
     "evalue": "must be a square matrix",
     "output_type": "error",
     "traceback": [
      "\u001b[0;31m---------------------------------------------------------------------------\u001b[0m",
      "\u001b[0;31mValueError\u001b[0m                                Traceback (most recent call last)",
      "\u001b[0;32m<ipython-input-43-347e3cdbf648>\u001b[0m in \u001b[0;36m<module>\u001b[0;34m\u001b[0m\n\u001b[1;32m      1\u001b[0m \u001b[0;32mfor\u001b[0m \u001b[0mideale\u001b[0m \u001b[0;32min\u001b[0m \u001b[0mgb1\u001b[0m\u001b[0;34m:\u001b[0m\u001b[0;34m\u001b[0m\u001b[0;34m\u001b[0m\u001b[0m\n\u001b[0;32m----> 2\u001b[0;31m     \u001b[0msost\u001b[0m \u001b[0;34m=\u001b[0m \u001b[0msolve_linear_system\u001b[0m\u001b[0;34m(\u001b[0m\u001b[0mideale\u001b[0m\u001b[0;34m.\u001b[0m\u001b[0mgens\u001b[0m\u001b[0;34m(\u001b[0m\u001b[0;34m)\u001b[0m\u001b[0;34m,\u001b[0m \u001b[0;34m[\u001b[0m\u001b[0mb\u001b[0m\u001b[0;34m,\u001b[0m\u001b[0md\u001b[0m\u001b[0;34m,\u001b[0m\u001b[0me\u001b[0m\u001b[0;34m,\u001b[0m\u001b[0mf\u001b[0m\u001b[0;34m]\u001b[0m\u001b[0;34m,\u001b[0m \u001b[0;34m[\u001b[0m\u001b[0mc\u001b[0m\u001b[0;34m]\u001b[0m\u001b[0;34m)\u001b[0m\u001b[0;34m\u001b[0m\u001b[0;34m\u001b[0m\u001b[0m\n\u001b[0m\u001b[1;32m      3\u001b[0m     \u001b[0;32mif\u001b[0m \u001b[0msing_cubics\u001b[0m\u001b[0;34m.\u001b[0m\u001b[0msubs\u001b[0m\u001b[0;34m(\u001b[0m\u001b[0;34m{\u001b[0m\u001b[0mvar\u001b[0m\u001b[0;34m[\u001b[0m\u001b[0mi\u001b[0m\u001b[0;34m]\u001b[0m\u001b[0;34m:\u001b[0m\u001b[0msost\u001b[0m\u001b[0;34m[\u001b[0m\u001b[0mi\u001b[0m\u001b[0;34m]\u001b[0m \u001b[0;32mfor\u001b[0m \u001b[0mi\u001b[0m \u001b[0;32min\u001b[0m \u001b[0mrange\u001b[0m\u001b[0;34m(\u001b[0m\u001b[0mlen\u001b[0m\u001b[0;34m(\u001b[0m\u001b[0msost\u001b[0m\u001b[0;34m)\u001b[0m\u001b[0;34m)\u001b[0m\u001b[0;34m}\u001b[0m\u001b[0;34m)\u001b[0m \u001b[0;34m!=\u001b[0m \u001b[0mInteger\u001b[0m\u001b[0;34m(\u001b[0m\u001b[0;36m0\u001b[0m\u001b[0;34m)\u001b[0m\u001b[0;34m:\u001b[0m\u001b[0;34m\u001b[0m\u001b[0;34m\u001b[0m\u001b[0m\n\u001b[1;32m      4\u001b[0m         \u001b[0mprint\u001b[0m\u001b[0;34m(\u001b[0m\u001b[0mgb1\u001b[0m\u001b[0;34m.\u001b[0m\u001b[0mindex\u001b[0m\u001b[0;34m(\u001b[0m\u001b[0mideale\u001b[0m\u001b[0;34m)\u001b[0m\u001b[0;34m)\u001b[0m\u001b[0;34m\u001b[0m\u001b[0;34m\u001b[0m\u001b[0m\n",
      "\u001b[0;32m<string>\u001b[0m in \u001b[0;36msolve_linear_system\u001b[0;34m(eqns, variables, param)\u001b[0m\n",
      "\u001b[0;32m~/anaconda3/envs/sage/lib/python3.7/site-packages/sage/matrix/matrix2.pyx\u001b[0m in \u001b[0;36msage.matrix.matrix2.Matrix.adjugate (build/cythonized/sage/matrix/matrix2.c:70172)\u001b[0;34m()\u001b[0m\n\u001b[1;32m   9782\u001b[0m \u001b[0;34m\u001b[0m\u001b[0m\n\u001b[1;32m   9783\u001b[0m         \u001b[0;32mif\u001b[0m \u001b[0mself\u001b[0m\u001b[0;34m.\u001b[0m\u001b[0m_nrows\u001b[0m \u001b[0;34m!=\u001b[0m \u001b[0mself\u001b[0m\u001b[0;34m.\u001b[0m\u001b[0m_ncols\u001b[0m\u001b[0;34m:\u001b[0m\u001b[0;34m\u001b[0m\u001b[0;34m\u001b[0m\u001b[0m\n\u001b[0;32m-> 9784\u001b[0;31m             \u001b[0;32mraise\u001b[0m \u001b[0mValueError\u001b[0m\u001b[0;34m(\u001b[0m\u001b[0;34m\"must be a square matrix\"\u001b[0m\u001b[0;34m)\u001b[0m\u001b[0;34m\u001b[0m\u001b[0;34m\u001b[0m\u001b[0m\n\u001b[0m\u001b[1;32m   9785\u001b[0m \u001b[0;34m\u001b[0m\u001b[0m\n\u001b[1;32m   9786\u001b[0m         \u001b[0mX\u001b[0m \u001b[0;34m=\u001b[0m \u001b[0mself\u001b[0m\u001b[0;34m.\u001b[0m\u001b[0mfetch\u001b[0m\u001b[0;34m(\u001b[0m\u001b[0;34m'adjugate'\u001b[0m\u001b[0;34m)\u001b[0m\u001b[0;34m\u001b[0m\u001b[0;34m\u001b[0m\u001b[0m\n",
      "\u001b[0;31mValueError\u001b[0m: must be a square matrix"
     ]
    }
   ],
   "source": [
    "for ideale in gb1:\n",
    "    sost = solve_linear_system(ideale.gens(), [b,d,e,f], [c])\n",
    "    if sing_cubics.subs({var[i]:sost[i] for i in range(len(sost))}) != 0:\n",
    "        print(gb1.index(ideale))"
   ]
  },
  {
   "cell_type": "code",
   "execution_count": 44,
   "id": "4797aa81",
   "metadata": {},
   "outputs": [],
   "source": [
    "sost = solve_linear_system(gb1[6].gens(), [b,d,e,f], [c])"
   ]
  },
  {
   "cell_type": "code",
   "execution_count": 45,
   "id": "d5677e78",
   "metadata": {},
   "outputs": [
    {
     "data": {
      "text/plain": [
       "[(6*i - 18)*c, (-6*i - 18)*c, 9*c, -9*c, (9*i)*c]"
      ]
     },
     "execution_count": 45,
     "metadata": {},
     "output_type": "execute_result"
    }
   ],
   "source": [
    "sost"
   ]
  },
  {
   "cell_type": "code",
   "execution_count": 46,
   "id": "70519bc1",
   "metadata": {},
   "outputs": [
    {
     "data": {
      "text/plain": [
       "-162*x^2*y + 162*x*y^2 + (-162*i - 162)*x^2*z + (-162*i + 162)*x*y*z + (162*i)*x*z^2 + (-162*i - 162)*x*y*t + (-162*i + 162)*y^2*t + (162*i + 486)*x*z*t + (162*i - 486)*y*z*t + (162*i)*y*t^2"
      ]
     },
     "execution_count": 46,
     "metadata": {},
     "output_type": "execute_result"
    }
   ],
   "source": [
    "nc = general_cubic.subs({var[i]:sost[i] for i in range(len(sost))})\n",
    "nc"
   ]
  },
  {
   "cell_type": "code",
   "execution_count": 47,
   "id": "49b561ff",
   "metadata": {},
   "outputs": [
    {
     "data": {
      "text/plain": [
       "18"
      ]
     },
     "execution_count": 47,
     "metadata": {},
     "output_type": "execute_result"
    }
   ],
   "source": [
    "len(nc.eckardt_points)"
   ]
  },
  {
   "cell_type": "code",
   "execution_count": null,
   "id": "f560b1e2",
   "metadata": {},
   "outputs": [],
   "source": []
  },
  {
   "cell_type": "code",
   "execution_count": null,
   "id": "273c143f",
   "metadata": {},
   "outputs": [],
   "source": []
  },
  {
   "cell_type": "code",
   "execution_count": 58,
   "id": "92ee3f40",
   "metadata": {},
   "outputs": [
    {
     "data": {
      "text/plain": [
       "False"
      ]
     },
     "execution_count": 58,
     "metadata": {},
     "output_type": "execute_result"
    }
   ],
   "source": [
    "cl['F56'] == cl['E4'].apply_proj(mat)"
   ]
  },
  {
   "cell_type": "code",
   "execution_count": 59,
   "id": "a7e80269",
   "metadata": {},
   "outputs": [
    {
     "data": {
      "text/plain": [
       "False"
      ]
     },
     "execution_count": 59,
     "metadata": {},
     "output_type": "execute_result"
    }
   ],
   "source": [
    "cl['F46'] == cl['F36'].apply_proj(mat)"
   ]
  },
  {
   "cell_type": "code",
   "execution_count": 60,
   "id": "7e05537e",
   "metadata": {},
   "outputs": [
    {
     "data": {
      "text/plain": [
       "False"
      ]
     },
     "execution_count": 60,
     "metadata": {},
     "output_type": "execute_result"
    }
   ],
   "source": [
    "cl['E5'] == cl['F46'].apply_proj(mat)"
   ]
  },
  {
   "cell_type": "code",
   "execution_count": null,
   "id": "ad424e79",
   "metadata": {},
   "outputs": [],
   "source": []
  },
  {
   "cell_type": "code",
   "execution_count": null,
   "id": "786200f9",
   "metadata": {},
   "outputs": [],
   "source": []
  },
  {
   "cell_type": "code",
   "execution_count": null,
   "id": "fed142f6",
   "metadata": {},
   "outputs": [],
   "source": []
  },
  {
   "cell_type": "code",
   "execution_count": null,
   "id": "a4cff57f",
   "metadata": {},
   "outputs": [],
   "source": []
  },
  {
   "cell_type": "code",
   "execution_count": null,
   "id": "4ecc2ed6",
   "metadata": {},
   "outputs": [],
   "source": []
  },
  {
   "cell_type": "code",
   "execution_count": null,
   "id": "76c3a9a3",
   "metadata": {},
   "outputs": [],
   "source": []
  },
  {
   "cell_type": "code",
   "execution_count": null,
   "id": "b2583332",
   "metadata": {},
   "outputs": [],
   "source": []
  },
  {
   "cell_type": "code",
   "execution_count": 13,
   "id": "9457eeb9",
   "metadata": {},
   "outputs": [],
   "source": [
    "order5_perm = []\n",
    "for perm in all_perms:\n",
    "    if perm.order() == 5:\n",
    "        order5_perm.append(perm)"
   ]
  },
  {
   "cell_type": "code",
   "execution_count": 14,
   "id": "48639fe9",
   "metadata": {},
   "outputs": [
    {
     "data": {
      "text/plain": [
       "5184"
      ]
     },
     "execution_count": 14,
     "metadata": {},
     "output_type": "execute_result"
    }
   ],
   "source": [
    "len(order5_perm)"
   ]
  },
  {
   "cell_type": "code",
   "execution_count": 15,
   "id": "ead2e58d",
   "metadata": {},
   "outputs": [],
   "source": [
    "all_fixed_lines5 = []\n",
    "for perm in order5_perm:\n",
    "    fixed_lines = []\n",
    "    for tup in perm.cycle_tuples(singletons=True):\n",
    "        if len(tup) ==1:\n",
    "            fixed_lines.append(tup[0])\n",
    "    if fixed_lines !=[]:\n",
    "        all_fixed_lines5.append(fixed_lines)"
   ]
  },
  {
   "cell_type": "code",
   "execution_count": 16,
   "id": "34fd6f06",
   "metadata": {},
   "outputs": [],
   "source": [
    "for lines in all_fixed_lines5:\n",
    "    if len(lines) !=2:\n",
    "        print(lines)"
   ]
  },
  {
   "cell_type": "code",
   "execution_count": null,
   "id": "716e3f5d",
   "metadata": {},
   "outputs": [],
   "source": []
  },
  {
   "cell_type": "code",
   "execution_count": 17,
   "id": "b9dcdd14",
   "metadata": {},
   "outputs": [
    {
     "data": {
      "text/plain": [
       "[(1,12,14,5,24,9,7,16)(2,26,8,10,23,11,15,27)(3,20)(4,25,17,22,19,13,6,18),\n",
       " (1,19,12,21,14,13,3,26,4,27)(2,24,10,17,20)(5,22)(6,23,18,8,16)(7,15,25,11,9)]"
      ]
     },
     "execution_count": 17,
     "metadata": {},
     "output_type": "execute_result"
    }
   ],
   "source": [
    "E6 = WeylGroup(['E', 6]).as_permutation_group()\n",
    "E6.gens_small()"
   ]
  },
  {
   "cell_type": "code",
   "execution_count": 31,
   "id": "55035658",
   "metadata": {},
   "outputs": [],
   "source": [
    "ord3 = []\n",
    "for el in E6:\n",
    "    if el.order() == 3:\n",
    "        ord3.append(el)"
   ]
  },
  {
   "cell_type": "code",
   "execution_count": 32,
   "id": "bfaaa783",
   "metadata": {},
   "outputs": [
    {
     "data": {
      "text/plain": [
       "800"
      ]
     },
     "execution_count": 32,
     "metadata": {},
     "output_type": "execute_result"
    }
   ],
   "source": [
    "len(ord3)"
   ]
  },
  {
   "cell_type": "code",
   "execution_count": 33,
   "id": "ee2b8de4",
   "metadata": {},
   "outputs": [],
   "source": [
    "ord5 = []\n",
    "for el in E6:\n",
    "    if el.order() == 5:\n",
    "        ord5.append(el)"
   ]
  },
  {
   "cell_type": "code",
   "execution_count": 34,
   "id": "27c2ef98",
   "metadata": {},
   "outputs": [
    {
     "data": {
      "text/plain": [
       "5184"
      ]
     },
     "execution_count": 34,
     "metadata": {},
     "output_type": "execute_result"
    }
   ],
   "source": [
    "len(ord5)"
   ]
  },
  {
   "cell_type": "code",
   "execution_count": null,
   "id": "319849fc",
   "metadata": {},
   "outputs": [],
   "source": []
  }
 ],
 "metadata": {
  "kernelspec": {
   "display_name": "SageMath 9.4",
   "language": "sage",
   "name": "sagemath"
  },
  "language_info": {
   "codemirror_mode": {
    "name": "ipython",
    "version": 3
   },
   "file_extension": ".py",
   "mimetype": "text/x-python",
   "name": "python",
   "nbconvert_exporter": "python",
   "pygments_lexer": "ipython3",
   "version": "3.7.12"
  }
 },
 "nbformat": 4,
 "nbformat_minor": 5
}
