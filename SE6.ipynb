{
 "cells": [
  {
   "cell_type": "code",
   "execution_count": 1,
   "id": "c1b14ef4-0cc5-4cc7-9792-e2ce6fcd97f9",
   "metadata": {},
   "outputs": [],
   "source": [
    "load('Imports/Utility.sage', 'Imports/Point.sage', 'Imports/Line.sage', 'Imports/Tritangent_plane.sage', 'Imports/Group.sage', 'Imports/Cubic.sage')\n",
    "import multiprocessing as mp\n",
    "import pickle"
   ]
  },
  {
   "cell_type": "code",
   "execution_count": 2,
   "id": "0c2876bb-4f51-41e1-a5fe-708cedd3086c",
   "metadata": {},
   "outputs": [],
   "source": [
    "P.<x,y,z,t,b,c,d,e,f,l,m> = PolynomialRing(QQ)"
   ]
  },
  {
   "cell_type": "code",
   "execution_count": 3,
   "id": "8ee3af57-dd0c-42a2-b421-5bb580be7468",
   "metadata": {},
   "outputs": [],
   "source": [
    "cubic_new = e*f*(2*x^2*y-2*x*y^2+x*z^2-x*z*t-y*t^2+y*z*t)+b*c*(x-t)*(x*z+y*t)+c*c*(z+t)*(y*t-x*z)+d*c*(y-z)*(x*z+y*t)+(e+f)*c*(x-y)*(y*t-x*z)"
   ]
  },
  {
   "cell_type": "code",
   "execution_count": 4,
   "id": "ec09ef9e-36e1-41e7-9a1f-29d225fc71c7",
   "metadata": {},
   "outputs": [],
   "source": [
    "sing_cubics = (-1) * (-c + f) * (-c + e) * c * (c + f) * (c + e) * (-e + f)^2 * (-c*d + c*f + e*f) * (-c*d + c*e + e*f) * (-c^2 - c*d + e*f) * (b*c - c*f + e*f) * (b*c - c*e + e*f) * (b*c - c*d + 2*e*f) * (b*c - c^2 + e*f) * (b*c^2 + c^2*d + b*c*f - 2*c^2*f - c*d*f + 2*e*f^2) * (b*c^2 + c^2*d + b*c*e - 2*c^2*e - c*d*e + 2*e^2*f) * (-b*c^3 - 2*b*c^2*d + c^3*d + b*c^2*e + c^2*d*e + b*c^2*f + c^2*d*f + 3*b*c*e*f - 4*c^2*e*f - 3*c*d*e*f + 4*e^2*f^2)"
   ]
  },
  {
   "cell_type": "code",
   "execution_count": 5,
   "id": "dedaa196-6d5f-483b-9fe1-0dd060ed4366",
   "metadata": {},
   "outputs": [],
   "source": [
    "line = Line([y, z])"
   ]
  },
  {
   "cell_type": "code",
   "execution_count": 6,
   "id": "69422729-9931-4b33-811b-62e0070045c8",
   "metadata": {},
   "outputs": [],
   "source": [
    "eqn_SE1 = P(cubic_new.subs({b:-(c*c+e*f)/c }) )\n",
    "sing_cubics_SE1 = P(sing_cubics.subs({b:-(c*c+e*f)/c }))"
   ]
  },
  {
   "cell_type": "code",
   "execution_count": 7,
   "id": "d7fb4e21-a049-40c3-913c-60a74a62decd",
   "metadata": {},
   "outputs": [],
   "source": [
    "eqn_SE3 = P(2*eqn_SE1.subs({d:(3*e*f - c^2 + c*f + c*e)/(2*c)}) )\n",
    "sing_cubics_SE3 = P(sing_cubics_SE1.subs({d:(3*e*f - c^2 + c*f + c*e)/(2*c)}))"
   ]
  },
  {
   "cell_type": "code",
   "execution_count": 8,
   "id": "33197f65-ba86-4d6c-aae6-7de6649d347e",
   "metadata": {},
   "outputs": [],
   "source": [
    "eqn_SE6 = P((c+e)*eqn_SE3.subs({f: -c*(5*c+e)/(c+e)})/(4*c))\n",
    "sing_cubics_SE6 = P((c+e)^6*sing_cubics_SE3.subs({f: -c*(5*c+e)/(c+e)}))"
   ]
  },
  {
   "cell_type": "code",
   "execution_count": 9,
   "id": "dc50bec0-d8e7-4b38-a239-2a15df2956fb",
   "metadata": {},
   "outputs": [],
   "source": [
    "SE6 = Cubic(eqn_SE6, line, sing_cubics_SE6.factor())"
   ]
  },
  {
   "cell_type": "code",
   "execution_count": 10,
   "id": "ecbebc88-10f1-4738-b457-2e4bb5f2b1e4",
   "metadata": {},
   "outputs": [
    {
     "data": {
      "text/plain": [
       "[(0, 0, 0, 1),\n",
       " (0, -c^2 - c*e, 2*c^2 - 3*c*e - e^2, 0),\n",
       " (0, 1, 1, 0),\n",
       " (0, 0, 1, -1),\n",
       " (0, c^2 + c*e, -2*c^2 + 3*c*e + e^2, 3*c^2 - 2*c*e - e^2),\n",
       " (0, c^2 + c*e, c^2 + c*e, -3*c^2 + 2*c*e + e^2)]"
      ]
     },
     "execution_count": 10,
     "metadata": {},
     "output_type": "execute_result"
    }
   ],
   "source": [
    "SE6.eckardt_points"
   ]
  },
  {
   "cell_type": "code",
   "execution_count": 11,
   "id": "cc12de7d-a2e6-455e-95b2-3cb910897509",
   "metadata": {},
   "outputs": [
    {
     "name": "stdout",
     "output_type": "stream",
     "text": [
      "CPU times: user 430 ms, sys: 112 ms, total: 542 ms\n",
      "Wall time: 1.37 s\n"
     ]
    }
   ],
   "source": [
    "%time adm_SE6 = SE6.find_admissible_projectivities()"
   ]
  },
  {
   "cell_type": "code",
   "execution_count": 12,
   "id": "e6052ba9-4d9a-4776-a8a0-ab7cc0d1b52c",
   "metadata": {},
   "outputs": [
    {
     "data": {
      "text/plain": [
       "48"
      ]
     },
     "execution_count": 12,
     "metadata": {},
     "output_type": "execute_result"
    }
   ],
   "source": [
    "len(adm_SE6)"
   ]
  },
  {
   "cell_type": "code",
   "execution_count": 13,
   "id": "0158c5ef-2303-4d73-8d17-d5354d4646a2",
   "metadata": {},
   "outputs": [
    {
     "name": "stdout",
     "output_type": "stream",
     "text": [
      "CPU times: user 43.4 ms, sys: 60.6 ms, total: 104 ms\n",
      "Wall time: 153 ms\n"
     ]
    }
   ],
   "source": [
    "%time simm_SE6 = SE6.find_simmetries(adm_SE6)"
   ]
  },
  {
   "cell_type": "code",
   "execution_count": 14,
   "id": "3b2de368-2b74-4c39-81bd-99bd5bbdae1f",
   "metadata": {},
   "outputs": [
    {
     "data": {
      "text/plain": [
       "24"
      ]
     },
     "execution_count": 14,
     "metadata": {},
     "output_type": "execute_result"
    }
   ],
   "source": [
    "len(simm_SE6)"
   ]
  },
  {
   "cell_type": "code",
   "execution_count": 15,
   "id": "7cca8403-313c-4568-b58d-3004dbcb4a9f",
   "metadata": {},
   "outputs": [],
   "source": [
    "G_SE6 = Group(simm_SE6)"
   ]
  },
  {
   "cell_type": "code",
   "execution_count": 16,
   "id": "b12c9b18-eacf-43af-97c1-d43425d5630c",
   "metadata": {},
   "outputs": [
    {
     "data": {
      "text/plain": [
       "True"
      ]
     },
     "execution_count": 16,
     "metadata": {},
     "output_type": "execute_result"
    }
   ],
   "source": [
    "G_SE6.is_group()"
   ]
  },
  {
   "cell_type": "code",
   "execution_count": 17,
   "id": "5e04ede8-c4d7-42dd-908a-658b0bd980d9",
   "metadata": {},
   "outputs": [
    {
     "data": {
      "text/plain": [
       "24"
      ]
     },
     "execution_count": 17,
     "metadata": {},
     "output_type": "execute_result"
    }
   ],
   "source": [
    "G_SE6.get_order()"
   ]
  },
  {
   "cell_type": "code",
   "execution_count": 18,
   "id": "1a42f291-d628-4642-bc28-962430177d4b",
   "metadata": {},
   "outputs": [
    {
     "data": {
      "text/plain": [
       "False"
      ]
     },
     "execution_count": 18,
     "metadata": {},
     "output_type": "execute_result"
    }
   ],
   "source": [
    "G_SE6.is_abelian()"
   ]
  },
  {
   "cell_type": "code",
   "execution_count": 19,
   "id": "facb4671-141e-4b05-ab43-772809f33d54",
   "metadata": {},
   "outputs": [
    {
     "data": {
      "text/plain": [
       "[1, 2, 3, 4, 6, 8, 12, 24]"
      ]
     },
     "execution_count": 19,
     "metadata": {},
     "output_type": "execute_result"
    }
   ],
   "source": [
    "G_SE6.get_divisors_of_order()"
   ]
  },
  {
   "cell_type": "code",
   "execution_count": 20,
   "id": "0d7e9f01-6a0d-4e45-a0c8-a636db4a418c",
   "metadata": {},
   "outputs": [
    {
     "data": {
      "text/plain": [
       "[1, 2, 2, 4, 4, 3, 4, 3, 2, 3, 2, 3, 2, 3, 2, 3, 2, 2, 4, 3, 2, 4, 4, 3]"
      ]
     },
     "execution_count": 20,
     "metadata": {},
     "output_type": "execute_result"
    }
   ],
   "source": [
    "G_SE6.get_order_of_elements()"
   ]
  },
  {
   "cell_type": "code",
   "execution_count": 22,
   "id": "0faf5d08-60ba-4530-9f11-f243ff903c64",
   "metadata": {},
   "outputs": [
    {
     "data": {
      "text/plain": [
       "[]"
      ]
     },
     "execution_count": 22,
     "metadata": {},
     "output_type": "execute_result"
    }
   ],
   "source": [
    "find_conditions_for_subfamilies(SE6, sing_cubics_SE6, adm_SE6, simm_SE6)"
   ]
  },
  {
   "cell_type": "code",
   "execution_count": null,
   "id": "feaa6c96-21dd-44b6-9e9a-393642e51e9e",
   "metadata": {},
   "outputs": [],
   "source": []
  }
 ],
 "metadata": {
  "kernelspec": {
   "display_name": "SageMath 9.3",
   "language": "sage",
   "name": "sagemath"
  },
  "language_info": {
   "codemirror_mode": {
    "name": "ipython",
    "version": 3
   },
   "file_extension": ".py",
   "mimetype": "text/x-python",
   "name": "python",
   "nbconvert_exporter": "python",
   "pygments_lexer": "ipython3",
   "version": "3.7.10"
  }
 },
 "nbformat": 4,
 "nbformat_minor": 5
}
