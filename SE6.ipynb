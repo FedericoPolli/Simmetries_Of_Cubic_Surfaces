{
 "cells": [
  {
   "cell_type": "code",
   "execution_count": 5,
   "id": "c1b14ef4-0cc5-4cc7-9792-e2ce6fcd97f9",
   "metadata": {},
   "outputs": [],
   "source": [
    "load('Imports/Utility.sage', 'Imports/Point.sage', 'Imports/Line.sage', 'Imports/Tritangent_plane.sage', 'Imports/Group.sage', 'Imports/Cubic.sage')\n",
    "import multiprocessing as mp\n",
    "import pickle"
   ]
  },
  {
   "cell_type": "code",
   "execution_count": 6,
   "id": "0c2876bb-4f51-41e1-a5fe-708cedd3086c",
   "metadata": {},
   "outputs": [],
   "source": [
    "P.<x,y,z,t,b,c,d,e,f,l,m> = PolynomialRing(QQ)"
   ]
  },
  {
   "cell_type": "code",
   "execution_count": 7,
   "id": "8ee3af57-dd0c-42a2-b421-5bb580be7468",
   "metadata": {},
   "outputs": [],
   "source": [
    "cubic_new = e*f*(2*x^2*y-2*x*y^2+x*z^2-x*z*t-y*t^2+y*z*t)+b*c*(x-t)*(x*z+y*t)+c*c*(z+t)*(y*t-x*z)+d*c*(y-z)*(x*z+y*t)+(e+f)*c*(x-y)*(y*t-x*z)"
   ]
  },
  {
   "cell_type": "code",
   "execution_count": 8,
   "id": "ec09ef9e-36e1-41e7-9a1f-29d225fc71c7",
   "metadata": {},
   "outputs": [],
   "source": [
    "sing_cubics = (-1) * (-c + f) * (-c + e) * c * (c + f) * (c + e) * (-e + f)^2 * (-c*d + c*f + e*f) * (-c*d + c*e + e*f) * (-c^2 - c*d + e*f) * (b*c - c*f + e*f) * (b*c - c*e + e*f) * (b*c - c*d + 2*e*f) * (b*c - c^2 + e*f) * (b*c^2 + c^2*d + b*c*f - 2*c^2*f - c*d*f + 2*e*f^2) * (b*c^2 + c^2*d + b*c*e - 2*c^2*e - c*d*e + 2*e^2*f) * (-b*c^3 - 2*b*c^2*d + c^3*d + b*c^2*e + c^2*d*e + b*c^2*f + c^2*d*f + 3*b*c*e*f - 4*c^2*e*f - 3*c*d*e*f + 4*e^2*f^2)"
   ]
  },
  {
   "cell_type": "code",
   "execution_count": 9,
   "id": "dedaa196-6d5f-483b-9fe1-0dd060ed4366",
   "metadata": {},
   "outputs": [],
   "source": [
    "line = Line([y, z])"
   ]
  },
  {
   "cell_type": "code",
   "execution_count": 10,
   "id": "95dc17c9-a062-4a8a-9549-2ba6e8983bb3",
   "metadata": {},
   "outputs": [],
   "source": [
    "general_cubic = Cubic(cubic_new, line, sing_cubics)"
   ]
  },
  {
   "cell_type": "code",
   "execution_count": 12,
   "id": "db020829-f64e-4776-92bf-5c182258aea2",
   "metadata": {},
   "outputs": [],
   "source": [
    "SE6 = general_cubic.subs({b:-(c*c+e*f)/c, d:(3*e*f - c^2 + c*f + c*e)/(2*c)}).subs({f: -c*(5*c+e)/(c+e)})"
   ]
  },
  {
   "cell_type": "code",
   "execution_count": 13,
   "id": "cc12de7d-a2e6-455e-95b2-3cb910897509",
   "metadata": {},
   "outputs": [
    {
     "name": "stdout",
     "output_type": "stream",
     "text": [
      "CPU times: user 332 ms, sys: 60.5 ms, total: 393 ms\n",
      "Wall time: 899 ms\n"
     ]
    }
   ],
   "source": [
    "%time adm_SE6 = SE6.find_admissible_projectivities()"
   ]
  },
  {
   "cell_type": "code",
   "execution_count": 14,
   "id": "e6052ba9-4d9a-4776-a8a0-ab7cc0d1b52c",
   "metadata": {},
   "outputs": [
    {
     "data": {
      "text/plain": [
       "48"
      ]
     },
     "execution_count": 14,
     "metadata": {},
     "output_type": "execute_result"
    }
   ],
   "source": [
    "len(adm_SE6)"
   ]
  },
  {
   "cell_type": "code",
   "execution_count": 15,
   "id": "0158c5ef-2303-4d73-8d17-d5354d4646a2",
   "metadata": {},
   "outputs": [
    {
     "name": "stdout",
     "output_type": "stream",
     "text": [
      "CPU times: user 34.8 ms, sys: 45 ms, total: 79.8 ms\n",
      "Wall time: 105 ms\n"
     ]
    }
   ],
   "source": [
    "%time simm_SE6 = SE6.find_simmetries(adm_SE6)"
   ]
  },
  {
   "cell_type": "code",
   "execution_count": 16,
   "id": "3b2de368-2b74-4c39-81bd-99bd5bbdae1f",
   "metadata": {},
   "outputs": [
    {
     "data": {
      "text/plain": [
       "24"
      ]
     },
     "execution_count": 16,
     "metadata": {},
     "output_type": "execute_result"
    }
   ],
   "source": [
    "len(simm_SE6)"
   ]
  },
  {
   "cell_type": "code",
   "execution_count": 17,
   "id": "7cca8403-313c-4568-b58d-3004dbcb4a9f",
   "metadata": {},
   "outputs": [],
   "source": [
    "G_SE6 = Group(simm_SE6)"
   ]
  },
  {
   "cell_type": "code",
   "execution_count": 18,
   "id": "b12c9b18-eacf-43af-97c1-d43425d5630c",
   "metadata": {},
   "outputs": [
    {
     "data": {
      "text/plain": [
       "True"
      ]
     },
     "execution_count": 18,
     "metadata": {},
     "output_type": "execute_result"
    }
   ],
   "source": [
    "G_SE6.is_group()"
   ]
  },
  {
   "cell_type": "code",
   "execution_count": 19,
   "id": "5e04ede8-c4d7-42dd-908a-658b0bd980d9",
   "metadata": {},
   "outputs": [
    {
     "data": {
      "text/plain": [
       "24"
      ]
     },
     "execution_count": 19,
     "metadata": {},
     "output_type": "execute_result"
    }
   ],
   "source": [
    "G_SE6.get_order()"
   ]
  },
  {
   "cell_type": "code",
   "execution_count": 20,
   "id": "1a42f291-d628-4642-bc28-962430177d4b",
   "metadata": {},
   "outputs": [
    {
     "data": {
      "text/plain": [
       "False"
      ]
     },
     "execution_count": 20,
     "metadata": {},
     "output_type": "execute_result"
    }
   ],
   "source": [
    "G_SE6.is_abelian()"
   ]
  },
  {
   "cell_type": "code",
   "execution_count": 21,
   "id": "facb4671-141e-4b05-ab43-772809f33d54",
   "metadata": {},
   "outputs": [
    {
     "data": {
      "text/plain": [
       "[1, 2, 3, 4, 6, 8, 12, 24]"
      ]
     },
     "execution_count": 21,
     "metadata": {},
     "output_type": "execute_result"
    }
   ],
   "source": [
    "G_SE6.get_divisors_of_order()"
   ]
  },
  {
   "cell_type": "code",
   "execution_count": 22,
   "id": "0d7e9f01-6a0d-4e45-a0c8-a636db4a418c",
   "metadata": {},
   "outputs": [
    {
     "data": {
      "text/plain": [
       "[1, 2, 2, 4, 4, 3, 4, 3, 2, 3, 2, 3, 2, 3, 2, 3, 2, 2, 4, 3, 2, 4, 4, 3]"
      ]
     },
     "execution_count": 22,
     "metadata": {},
     "output_type": "execute_result"
    }
   ],
   "source": [
    "G_SE6.get_order_of_elements()"
   ]
  },
  {
   "cell_type": "code",
   "execution_count": 24,
   "id": "0faf5d08-60ba-4530-9f11-f243ff903c64",
   "metadata": {},
   "outputs": [
    {
     "data": {
      "text/plain": [
       "[]"
      ]
     },
     "execution_count": 24,
     "metadata": {},
     "output_type": "execute_result"
    }
   ],
   "source": [
    "find_conditions_for_subfamilies(SE6, adm_SE6, simm_SE6)"
   ]
  },
  {
   "cell_type": "code",
   "execution_count": 25,
   "id": "9c327455-e174-4343-8e33-313ec7f5c1d5",
   "metadata": {},
   "outputs": [],
   "source": [
    "def apply_proj_to_eck(proj, eck):\n",
    "    new_indices = []\n",
    "    for i in range(len(eck)):\n",
    "        new_indices.append(eck.index(eck[i]*proj)+1)\n",
    "    return new_indices"
   ]
  },
  {
   "cell_type": "code",
   "execution_count": 26,
   "id": "821ab7ad-58dc-4623-8cf9-f9aa7f73af18",
   "metadata": {},
   "outputs": [],
   "source": [
    "perms = []\n",
    "for el in G_SE6:\n",
    "    perms.append(Permutation(apply_proj_to_eck(el, SE6.eckardt_points)).to_cycles())"
   ]
  },
  {
   "cell_type": "code",
   "execution_count": 27,
   "id": "0d7e21dd-7097-4f27-af7c-03dfb418ec2e",
   "metadata": {},
   "outputs": [
    {
     "data": {
      "text/plain": [
       "[[(1,), (2,), (3,), (4,), (5,), (6,)],\n",
       " [(1,), (2, 5), (3, 6), (4,)],\n",
       " [(1, 4), (2,), (3,), (5, 6)],\n",
       " [(1, 4), (2, 6, 3, 5)],\n",
       " [(1, 5, 4, 6), (2, 3)],\n",
       " [(1, 5, 3), (2, 4, 6)],\n",
       " [(1, 2, 4, 3), (5, 6)],\n",
       " [(1, 2, 6), (3, 5, 4)],\n",
       " [(1, 5), (2,), (3,), (4, 6)],\n",
       " [(1, 5, 2), (3, 4, 6)],\n",
       " [(1, 3), (2, 4), (5,), (6,)],\n",
       " [(1, 3, 6), (2, 5, 4)],\n",
       " [(1, 2), (3, 4), (5,), (6,)],\n",
       " [(1, 2, 5), (3, 6, 4)],\n",
       " [(1, 6), (2,), (3,), (4, 5)],\n",
       " [(1, 6, 3), (2, 4, 5)],\n",
       " [(1,), (2, 3), (4,), (5, 6)],\n",
       " [(1,), (2, 6), (3, 5), (4,)],\n",
       " [(1, 3, 4, 2), (5, 6)],\n",
       " [(1, 3, 5), (2, 6, 4)],\n",
       " [(1, 4), (2, 3), (5,), (6,)],\n",
       " [(1, 4), (2, 5, 3, 6)],\n",
       " [(1, 6, 4, 5), (2, 3)],\n",
       " [(1, 6, 2), (3, 4, 5)]]"
      ]
     },
     "execution_count": 27,
     "metadata": {},
     "output_type": "execute_result"
    }
   ],
   "source": [
    "perms"
   ]
  },
  {
   "cell_type": "code",
   "execution_count": 31,
   "id": "143cf288-34a9-487c-a36b-cb3f6a6e3b41",
   "metadata": {},
   "outputs": [
    {
     "data": {
      "text/plain": [
       "'S4'"
      ]
     },
     "execution_count": 31,
     "metadata": {},
     "output_type": "execute_result"
    }
   ],
   "source": [
    "PermutationGroup(perms).structure_description()"
   ]
  },
  {
   "cell_type": "code",
   "execution_count": null,
   "id": "08186694-3c9a-4c5d-bcba-c9f2224507e1",
   "metadata": {},
   "outputs": [],
   "source": []
  }
 ],
 "metadata": {
  "kernelspec": {
   "display_name": "SageMath 9.3",
   "language": "sage",
   "name": "sagemath"
  },
  "language_info": {
   "codemirror_mode": {
    "name": "ipython",
    "version": 3
   },
   "file_extension": ".py",
   "mimetype": "text/x-python",
   "name": "python",
   "nbconvert_exporter": "python",
   "pygments_lexer": "ipython3",
   "version": "3.7.10"
  }
 },
 "nbformat": 4,
 "nbformat_minor": 5
}
