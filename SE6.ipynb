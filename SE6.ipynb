{
 "cells": [
  {
   "cell_type": "code",
   "execution_count": 1,
   "id": "c1b14ef4-0cc5-4cc7-9792-e2ce6fcd97f9",
   "metadata": {},
   "outputs": [],
   "source": [
    "load('Imports/Utility.sage', 'Imports/Point.sage', 'Imports/Line.sage', 'Imports/Tritangent_plane.sage', 'Imports/Group.sage', 'Imports/Cubic.sage')\n",
    "import multiprocessing as mp\n",
    "import pickle"
   ]
  },
  {
   "cell_type": "code",
   "execution_count": 2,
   "id": "0c2876bb-4f51-41e1-a5fe-708cedd3086c",
   "metadata": {},
   "outputs": [],
   "source": [
    "P.<x,y,z,t,b,c,d,e,f,l,m> = PolynomialRing(QQ)"
   ]
  },
  {
   "cell_type": "code",
   "execution_count": 3,
   "id": "8ee3af57-dd0c-42a2-b421-5bb580be7468",
   "metadata": {},
   "outputs": [],
   "source": [
    "cubic_new = e*f*(2*x^2*y-2*x*y^2+x*z^2-x*z*t-y*t^2+y*z*t)+b*c*(x-t)*(x*z+y*t)+c*c*(z+t)*(y*t-x*z)+d*c*(y-z)*(x*z+y*t)+(e+f)*c*(x-y)*(y*t-x*z)"
   ]
  },
  {
   "cell_type": "code",
   "execution_count": 4,
   "id": "ec09ef9e-36e1-41e7-9a1f-29d225fc71c7",
   "metadata": {},
   "outputs": [],
   "source": [
    "sing_cubics = (-1) * (-c + f) * (-c + e) * c * (c + f) * (c + e) * (-e + f)^2 * (-c*d + c*f + e*f) * (-c*d + c*e + e*f) * (-c^2 - c*d + e*f) * (b*c - c*f + e*f) * (b*c - c*e + e*f) * (b*c - c*d + 2*e*f) * (b*c - c^2 + e*f) * (b*c^2 + c^2*d + b*c*f - 2*c^2*f - c*d*f + 2*e*f^2) * (b*c^2 + c^2*d + b*c*e - 2*c^2*e - c*d*e + 2*e^2*f) * (-b*c^3 - 2*b*c^2*d + c^3*d + b*c^2*e + c^2*d*e + b*c^2*f + c^2*d*f + 3*b*c*e*f - 4*c^2*e*f - 3*c*d*e*f + 4*e^2*f^2)"
   ]
  },
  {
   "cell_type": "code",
   "execution_count": 5,
   "id": "dedaa196-6d5f-483b-9fe1-0dd060ed4366",
   "metadata": {},
   "outputs": [],
   "source": [
    "line = Line([y, z])"
   ]
  },
  {
   "cell_type": "code",
   "execution_count": 6,
   "id": "95dc17c9-a062-4a8a-9549-2ba6e8983bb3",
   "metadata": {},
   "outputs": [],
   "source": [
    "general_cubic = Cubic(cubic_new, line, sing_cubics)"
   ]
  },
  {
   "cell_type": "code",
   "execution_count": 7,
   "id": "db020829-f64e-4776-92bf-5c182258aea2",
   "metadata": {},
   "outputs": [],
   "source": [
    "SE6 = general_cubic.subs({b:-(c*c+e*f)/c, d:(3*e*f - c^2 + c*f + c*e)/(2*c)}).subs({f: -c*(5*c+e)/(c+e)})"
   ]
  },
  {
   "cell_type": "code",
   "execution_count": 8,
   "id": "cc12de7d-a2e6-455e-95b2-3cb910897509",
   "metadata": {},
   "outputs": [
    {
     "name": "stdout",
     "output_type": "stream",
     "text": [
      "CPU times: user 329 ms, sys: 114 ms, total: 443 ms\n",
      "Wall time: 1.08 s\n"
     ]
    }
   ],
   "source": [
    "%time adm_SE6 = SE6.find_admissible_projectivities()"
   ]
  },
  {
   "cell_type": "code",
   "execution_count": 9,
   "id": "e6052ba9-4d9a-4776-a8a0-ab7cc0d1b52c",
   "metadata": {},
   "outputs": [
    {
     "data": {
      "text/plain": [
       "48"
      ]
     },
     "execution_count": 9,
     "metadata": {},
     "output_type": "execute_result"
    }
   ],
   "source": [
    "len(adm_SE6)"
   ]
  },
  {
   "cell_type": "code",
   "execution_count": 10,
   "id": "0158c5ef-2303-4d73-8d17-d5354d4646a2",
   "metadata": {},
   "outputs": [
    {
     "name": "stdout",
     "output_type": "stream",
     "text": [
      "CPU times: user 32.1 ms, sys: 52.7 ms, total: 84.7 ms\n",
      "Wall time: 119 ms\n"
     ]
    }
   ],
   "source": [
    "%time simm_SE6 = SE6.find_simmetries(adm_SE6)"
   ]
  },
  {
   "cell_type": "code",
   "execution_count": 11,
   "id": "3b2de368-2b74-4c39-81bd-99bd5bbdae1f",
   "metadata": {},
   "outputs": [
    {
     "data": {
      "text/plain": [
       "24"
      ]
     },
     "execution_count": 11,
     "metadata": {},
     "output_type": "execute_result"
    }
   ],
   "source": [
    "len(simm_SE6)"
   ]
  },
  {
   "cell_type": "code",
   "execution_count": 12,
   "id": "7cca8403-313c-4568-b58d-3004dbcb4a9f",
   "metadata": {},
   "outputs": [],
   "source": [
    "G_SE6 = Group(simm_SE6)"
   ]
  },
  {
   "cell_type": "code",
   "execution_count": 13,
   "id": "b12c9b18-eacf-43af-97c1-d43425d5630c",
   "metadata": {},
   "outputs": [
    {
     "data": {
      "text/plain": [
       "True"
      ]
     },
     "execution_count": 13,
     "metadata": {},
     "output_type": "execute_result"
    }
   ],
   "source": [
    "G_SE6.is_group()"
   ]
  },
  {
   "cell_type": "code",
   "execution_count": 14,
   "id": "5e04ede8-c4d7-42dd-908a-658b0bd980d9",
   "metadata": {},
   "outputs": [
    {
     "data": {
      "text/plain": [
       "24"
      ]
     },
     "execution_count": 14,
     "metadata": {},
     "output_type": "execute_result"
    }
   ],
   "source": [
    "G_SE6.get_order()"
   ]
  },
  {
   "cell_type": "code",
   "execution_count": 15,
   "id": "1a42f291-d628-4642-bc28-962430177d4b",
   "metadata": {},
   "outputs": [
    {
     "data": {
      "text/plain": [
       "False"
      ]
     },
     "execution_count": 15,
     "metadata": {},
     "output_type": "execute_result"
    }
   ],
   "source": [
    "G_SE6.is_abelian()"
   ]
  },
  {
   "cell_type": "code",
   "execution_count": 16,
   "id": "facb4671-141e-4b05-ab43-772809f33d54",
   "metadata": {},
   "outputs": [
    {
     "data": {
      "text/plain": [
       "[1, 2, 3, 4, 6, 8, 12, 24]"
      ]
     },
     "execution_count": 16,
     "metadata": {},
     "output_type": "execute_result"
    }
   ],
   "source": [
    "G_SE6.get_divisors_of_order()"
   ]
  },
  {
   "cell_type": "code",
   "execution_count": 17,
   "id": "0d7e9f01-6a0d-4e45-a0c8-a636db4a418c",
   "metadata": {},
   "outputs": [
    {
     "data": {
      "text/plain": [
       "[1, 2, 2, 4, 4, 3, 4, 3, 2, 3, 2, 3, 2, 3, 2, 3, 2, 2, 4, 3, 2, 4, 4, 3]"
      ]
     },
     "execution_count": 17,
     "metadata": {},
     "output_type": "execute_result"
    }
   ],
   "source": [
    "G_SE6.get_order_of_elements()"
   ]
  },
  {
   "cell_type": "code",
   "execution_count": 18,
   "id": "0faf5d08-60ba-4530-9f11-f243ff903c64",
   "metadata": {},
   "outputs": [
    {
     "data": {
      "text/plain": [
       "[]"
      ]
     },
     "execution_count": 18,
     "metadata": {},
     "output_type": "execute_result"
    }
   ],
   "source": [
    "find_conditions_for_subfamilies(SE6, adm_SE6, simm_SE6)"
   ]
  },
  {
   "cell_type": "code",
   "execution_count": 19,
   "id": "821ab7ad-58dc-4623-8cf9-f9aa7f73af18",
   "metadata": {},
   "outputs": [],
   "source": [
    "perms = []\n",
    "for el in G_SE6:\n",
    "    perms.append(Permutation(apply_proj_to_eck(el, SE6.eckardt_points)).to_cycles())"
   ]
  },
  {
   "cell_type": "code",
   "execution_count": 22,
   "id": "d05888f2-4970-4874-890b-78275df34f89",
   "metadata": {},
   "outputs": [],
   "source": [
    "gp = PermutationGroup(perms)"
   ]
  },
  {
   "cell_type": "code",
   "execution_count": 23,
   "id": "2f801bfc-7829-4562-96fb-76fed740e7ad",
   "metadata": {},
   "outputs": [
    {
     "data": {
      "text/plain": [
       "24"
      ]
     },
     "execution_count": 23,
     "metadata": {},
     "output_type": "execute_result"
    }
   ],
   "source": [
    "gp.order()"
   ]
  },
  {
   "cell_type": "code",
   "execution_count": 24,
   "id": "143cf288-34a9-487c-a36b-cb3f6a6e3b41",
   "metadata": {},
   "outputs": [
    {
     "data": {
      "text/plain": [
       "'S4'"
      ]
     },
     "execution_count": 24,
     "metadata": {},
     "output_type": "execute_result"
    }
   ],
   "source": [
    "gp.structure_description()"
   ]
  },
  {
   "cell_type": "code",
   "execution_count": 48,
   "id": "55b95fba-f524-4abd-abbe-b2bd8addc6b0",
   "metadata": {},
   "outputs": [],
   "source": [
    "nperms = [[cycle for cycle in perm if len(cycle)>1] for perm in perms]"
   ]
  },
  {
   "cell_type": "code",
   "execution_count": 51,
   "id": "08186694-3c9a-4c5d-bcba-c9f2224507e1",
   "metadata": {},
   "outputs": [
    {
     "name": "stdout",
     "output_type": "stream",
     "text": [
      "13\n",
      "(1,2,5)(3,6,4)\n",
      "14\n",
      "(1,6)(4,5)\n"
     ]
    }
   ],
   "source": [
    "for gen in gp.minimal_generating_set():\n",
    "    print(nperms.index(gen.cycle_tuples()))\n",
    "    print(gen)"
   ]
  },
  {
   "cell_type": "code",
   "execution_count": 58,
   "id": "b57a25d8-fda5-4f10-99d2-e8e15b9d9201",
   "metadata": {},
   "outputs": [],
   "source": [
    "gen1 = G_SE6[13]\n",
    "gen2 = G_SE6[14]"
   ]
  },
  {
   "cell_type": "code",
   "execution_count": 66,
   "id": "80819041-942f-406d-93f0-5d96e448a4c3",
   "metadata": {},
   "outputs": [
    {
     "data": {
      "text/plain": [
       "[['E1', 'G4', 'F14'],\n",
       " ['E2', 'G1', 'F12'],\n",
       " ['E2', 'G3', 'F23'],\n",
       " ['E3', 'G4', 'F34'],\n",
       " ['E4', 'G2', 'F24'],\n",
       " ['F13', 'F24', 'F56']]"
      ]
     },
     "execution_count": 66,
     "metadata": {},
     "output_type": "execute_result"
    }
   ],
   "source": [
    "[pl.labels for pl in SE6.tritangent_planes if pl.conditions == 0]"
   ]
  },
  {
   "cell_type": "code",
   "execution_count": 70,
   "id": "ec4493a1-0a46-425f-9414-a358f56ae7a0",
   "metadata": {},
   "outputs": [
    {
     "data": {
      "text/plain": [
       "[(0, 0, 0, 1),\n",
       " (0, -c^2 - c*e, 2*c^2 - 3*c*e - e^2, 0),\n",
       " (0, 1, 1, 0),\n",
       " (0, 0, 1, -1),\n",
       " (0, -c^2 - c*e, 2*c^2 - 3*c*e - e^2, -3*c^2 + 2*c*e + e^2),\n",
       " (0, c^2 + c*e, c^2 + c*e, -3*c^2 + 2*c*e + e^2)]"
      ]
     },
     "execution_count": 70,
     "metadata": {},
     "output_type": "execute_result"
    }
   ],
   "source": [
    "eck = SE6.eckardt_points\n",
    "eck"
   ]
  },
  {
   "cell_type": "code",
   "execution_count": 120,
   "id": "5d932465-503b-411a-bb12-6d4e94d715cc",
   "metadata": {},
   "outputs": [],
   "source": [
    "def get_dual_coordinates(pl):\n",
    "    d = list(pl[0:3])\n",
    "    m = [pl[5], -pl[4], pl[3]]\n",
    "    return m+d"
   ]
  },
  {
   "cell_type": "code",
   "execution_count": 129,
   "id": "cb91a069-e246-4430-b7f5-0e975f62dde6",
   "metadata": {},
   "outputs": [],
   "source": [
    "def get_planes(pl):\n",
    "    #p01, p02, p03, p23, p31, p12\n",
    "    dpl = get_dual_coordinates(pl)\n",
    "    vrs = vector([x,y,z,t])\n",
    "    eqns = [vector([0, -dpl[0], -dpl[1], -dpl[2]]), \n",
    "            vector([dpl[0], 0, dpl[5], -dpl[4]]), \n",
    "            vector([dpl[1], dpl[5], 0, -dpl[3]]), \n",
    "            vector([dpl[2], -dpl[4], dpl[3], 0])]\n",
    "    planes = [eqn.dot_product(vrs) for eqn in eqns]\n",
    "    return list(set([plane for plane in planes if plane != 0]))[0:2] "
   ]
  },
  {
   "cell_type": "code",
   "execution_count": 123,
   "id": "09fd4e6b-7a42-4022-83f3-2c1f450151c8",
   "metadata": {},
   "outputs": [],
   "source": [
    "new_lines = []\n",
    "lines_plucker = [line.plucker for line in SE6.lines]\n",
    "for i in range(len(eck)):\n",
    "    point1 = eck[i]\n",
    "    for j in range(i+1, len(eck)):\n",
    "        point2 = eck[j]\n",
    "        new_line_plucker = Point(matrix([point1, point2]).minors(2))\n",
    "        if new_line_plucker not in lines_plucker and new_line_plucker not in [line.plucker for line in new_lines]:\n",
    "            planes = get_planes(new_line_plucker)\n",
    "            new_lines.append(Line(planes, [point1, point2], new_line_plucker))"
   ]
  },
  {
   "cell_type": "code",
   "execution_count": 124,
   "id": "6d797e14-d05f-4c59-8392-5a04fcdf3398",
   "metadata": {},
   "outputs": [
    {
     "data": {
      "text/plain": [
       "[(0, 0, 0, 0, c^2 + c*e, -2*c^2 + 3*c*e + e^2) [-x*c^2 - x*c*e, 2*y*c^2 + z*c^2 - 3*y*c*e + z*c*e - y*e^2],\n",
       " (0, 0, 0, 0, 1, 1) [-y + z, x],\n",
       " (0, 0, 0, -c^2 - c*e, c^2 + c*e, -2*c^2 + 3*c*e + e^2) [-x*c^2 - x*c*e, 2*y*c^2 + z*c^2 + t*c^2 - 3*y*c*e + z*c*e + t*c*e - y*e^2],\n",
       " (0, 0, 0, 1, -1, -1) [y - z - t, x]]"
      ]
     },
     "execution_count": 124,
     "metadata": {},
     "output_type": "execute_result"
    }
   ],
   "source": [
    "new_lines"
   ]
  },
  {
   "cell_type": "code",
   "execution_count": 130,
   "id": "613ef86e-175b-4a81-924f-c6c823a100b6",
   "metadata": {},
   "outputs": [
    {
     "name": "stdout",
     "output_type": "stream",
     "text": [
      "True True\n",
      "True True\n",
      "True True\n",
      "True True\n"
     ]
    }
   ],
   "source": [
    "for line in new_lines:\n",
    "    print(line.apply_proj(gen1) in new_lines, line.apply_proj(gen2) in new_lines)"
   ]
  },
  {
   "cell_type": "code",
   "execution_count": null,
   "id": "5c20dcb9-d76c-4888-bf2f-647272951615",
   "metadata": {},
   "outputs": [],
   "source": []
  },
  {
   "cell_type": "code",
   "execution_count": null,
   "id": "b83cecc1-486a-40e3-9427-1f1b20661b2e",
   "metadata": {},
   "outputs": [],
   "source": []
  },
  {
   "cell_type": "code",
   "execution_count": null,
   "id": "98be10ea-0ffc-4bca-8fff-ce171394ed1d",
   "metadata": {},
   "outputs": [],
   "source": []
  },
  {
   "cell_type": "code",
   "execution_count": null,
   "id": "ef478756-fe6e-4eb4-88b3-a2cf3ccbfc57",
   "metadata": {},
   "outputs": [],
   "source": []
  },
  {
   "cell_type": "code",
   "execution_count": null,
   "id": "4b02ebd2-60b9-4440-bdf0-a8c4e2fc9465",
   "metadata": {},
   "outputs": [],
   "source": []
  },
  {
   "cell_type": "code",
   "execution_count": 81,
   "id": "7697480d-ef49-4338-b520-43a700adb54a",
   "metadata": {},
   "outputs": [
    {
     "ename": "TypeError",
     "evalue": "unsupported operand parent(s) for *: 'Full MatrixSpace of 4 by 4 dense matrices over Multivariate Polynomial Ring in x, y, z, t, b, c, d, e, f, l, m over Rational Field' and 'Ambient free module of rank 6 over the integral domain Multivariate Polynomial Ring in x, y, z, t, b, c, d, e, f, l, m over Rational Field'",
     "output_type": "error",
     "traceback": [
      "\u001b[0;31m---------------------------------------------------------------------------\u001b[0m",
      "\u001b[0;31mTypeError\u001b[0m                                 Traceback (most recent call last)",
      "\u001b[0;32m<ipython-input-81-c999d5e9f97f>\u001b[0m in \u001b[0;36m<module>\u001b[0;34m\u001b[0m\n\u001b[1;32m      1\u001b[0m \u001b[0;32mfor\u001b[0m \u001b[0mpl\u001b[0m \u001b[0;32min\u001b[0m \u001b[0mnew_lines\u001b[0m\u001b[0;34m:\u001b[0m\u001b[0;34m\u001b[0m\u001b[0;34m\u001b[0m\u001b[0m\n\u001b[0;32m----> 2\u001b[0;31m     \u001b[0mprint\u001b[0m\u001b[0;34m(\u001b[0m\u001b[0mgen1\u001b[0m\u001b[0;34m*\u001b[0m\u001b[0mpl\u001b[0m\u001b[0;34m)\u001b[0m\u001b[0;34m\u001b[0m\u001b[0;34m\u001b[0m\u001b[0m\n\u001b[0m",
      "\u001b[0;32m<string>\u001b[0m in \u001b[0;36m__rmul__\u001b[0;34m(self, other)\u001b[0m\n",
      "\u001b[0;32m~/anaconda3/envs/sage/lib/python3.7/site-packages/sage/structure/element.pyx\u001b[0m in \u001b[0;36msage.structure.element.Matrix.__mul__ (build/cythonized/sage/structure/element.c:23956)\u001b[0;34m()\u001b[0m\n\u001b[1;32m   3813\u001b[0m \u001b[0;34m\u001b[0m\u001b[0m\n\u001b[1;32m   3814\u001b[0m         \u001b[0;32mif\u001b[0m \u001b[0mBOTH_ARE_ELEMENT\u001b[0m\u001b[0;34m(\u001b[0m\u001b[0mcl\u001b[0m\u001b[0;34m)\u001b[0m\u001b[0;34m:\u001b[0m\u001b[0;34m\u001b[0m\u001b[0;34m\u001b[0m\u001b[0m\n\u001b[0;32m-> 3815\u001b[0;31m             \u001b[0;32mreturn\u001b[0m \u001b[0mcoercion_model\u001b[0m\u001b[0;34m.\u001b[0m\u001b[0mbin_op\u001b[0m\u001b[0;34m(\u001b[0m\u001b[0mleft\u001b[0m\u001b[0;34m,\u001b[0m \u001b[0mright\u001b[0m\u001b[0;34m,\u001b[0m \u001b[0mmul\u001b[0m\u001b[0;34m)\u001b[0m\u001b[0;34m\u001b[0m\u001b[0;34m\u001b[0m\u001b[0m\n\u001b[0m\u001b[1;32m   3816\u001b[0m \u001b[0;34m\u001b[0m\u001b[0m\n\u001b[1;32m   3817\u001b[0m         \u001b[0mcdef\u001b[0m \u001b[0mlong\u001b[0m \u001b[0mvalue\u001b[0m\u001b[0;34m\u001b[0m\u001b[0;34m\u001b[0m\u001b[0m\n",
      "\u001b[0;32m~/anaconda3/envs/sage/lib/python3.7/site-packages/sage/structure/coerce.pyx\u001b[0m in \u001b[0;36msage.structure.coerce.CoercionModel.bin_op (build/cythonized/sage/structure/coerce.c:11709)\u001b[0;34m()\u001b[0m\n\u001b[1;32m   1246\u001b[0m         \u001b[0;31m# We should really include the underlying error.\u001b[0m\u001b[0;34m\u001b[0m\u001b[0;34m\u001b[0m\u001b[0;34m\u001b[0m\u001b[0m\n\u001b[1;32m   1247\u001b[0m         \u001b[0;31m# This causes so much headache.\u001b[0m\u001b[0;34m\u001b[0m\u001b[0;34m\u001b[0m\u001b[0;34m\u001b[0m\u001b[0m\n\u001b[0;32m-> 1248\u001b[0;31m         \u001b[0;32mraise\u001b[0m \u001b[0mbin_op_exception\u001b[0m\u001b[0;34m(\u001b[0m\u001b[0mop\u001b[0m\u001b[0;34m,\u001b[0m \u001b[0mx\u001b[0m\u001b[0;34m,\u001b[0m \u001b[0my\u001b[0m\u001b[0;34m)\u001b[0m\u001b[0;34m\u001b[0m\u001b[0;34m\u001b[0m\u001b[0m\n\u001b[0m\u001b[1;32m   1249\u001b[0m \u001b[0;34m\u001b[0m\u001b[0m\n\u001b[1;32m   1250\u001b[0m     \u001b[0mcpdef\u001b[0m \u001b[0mcanonical_coercion\u001b[0m\u001b[0;34m(\u001b[0m\u001b[0mself\u001b[0m\u001b[0;34m,\u001b[0m \u001b[0mx\u001b[0m\u001b[0;34m,\u001b[0m \u001b[0my\u001b[0m\u001b[0;34m)\u001b[0m\u001b[0;34m:\u001b[0m\u001b[0;34m\u001b[0m\u001b[0;34m\u001b[0m\u001b[0m\n",
      "\u001b[0;31mTypeError\u001b[0m: unsupported operand parent(s) for *: 'Full MatrixSpace of 4 by 4 dense matrices over Multivariate Polynomial Ring in x, y, z, t, b, c, d, e, f, l, m over Rational Field' and 'Ambient free module of rank 6 over the integral domain Multivariate Polynomial Ring in x, y, z, t, b, c, d, e, f, l, m over Rational Field'"
     ]
    }
   ],
   "source": [
    "for pl in new_lines:\n",
    "    print(gen1*pl)"
   ]
  },
  {
   "cell_type": "code",
   "execution_count": null,
   "id": "b701fd93-d35c-409c-aa27-38cd48dcbb5b",
   "metadata": {},
   "outputs": [],
   "source": []
  },
  {
   "cell_type": "code",
   "execution_count": null,
   "id": "598d1a3f-589b-43a0-9c89-85616fbb7c6d",
   "metadata": {},
   "outputs": [],
   "source": []
  },
  {
   "cell_type": "code",
   "execution_count": null,
   "id": "1b8527eb-762d-473d-8a4a-db710aac7af9",
   "metadata": {},
   "outputs": [],
   "source": []
  },
  {
   "cell_type": "code",
   "execution_count": null,
   "id": "26ed4a3f-5ad9-4ac0-aa28-e2387e497b3d",
   "metadata": {},
   "outputs": [],
   "source": []
  },
  {
   "cell_type": "code",
   "execution_count": null,
   "id": "5c5e78a8-4062-4b6b-8d03-6784c6d139d0",
   "metadata": {},
   "outputs": [],
   "source": []
  },
  {
   "cell_type": "code",
   "execution_count": null,
   "id": "8a9c1c4d-d5e1-4671-9357-4b7e23e25c94",
   "metadata": {},
   "outputs": [],
   "source": []
  },
  {
   "cell_type": "code",
   "execution_count": null,
   "id": "52132d33-1bb9-4c70-a038-c613c16ce11f",
   "metadata": {},
   "outputs": [],
   "source": []
  },
  {
   "cell_type": "code",
   "execution_count": null,
   "id": "8b672495-8d7d-490a-a73f-184c1284b9b1",
   "metadata": {},
   "outputs": [],
   "source": []
  },
  {
   "cell_type": "code",
   "execution_count": null,
   "id": "2ffc5976-122a-414d-a367-7263dae182d4",
   "metadata": {},
   "outputs": [],
   "source": []
  },
  {
   "cell_type": "code",
   "execution_count": null,
   "id": "a8eef33d-4feb-4899-b602-5e4d5183248b",
   "metadata": {},
   "outputs": [],
   "source": []
  },
  {
   "cell_type": "code",
   "execution_count": null,
   "id": "e6220cf0-371d-42d6-ae71-21ec1a37c562",
   "metadata": {},
   "outputs": [],
   "source": []
  },
  {
   "cell_type": "code",
   "execution_count": null,
   "id": "a950c84f-b96e-44a8-aacc-df459077328c",
   "metadata": {},
   "outputs": [],
   "source": []
  },
  {
   "cell_type": "code",
   "execution_count": null,
   "id": "87af925e-6559-4eab-82c6-86b1d82992ac",
   "metadata": {},
   "outputs": [],
   "source": []
  },
  {
   "cell_type": "code",
   "execution_count": null,
   "id": "10c58811-168e-4dd2-a3fc-a4e1862fd755",
   "metadata": {},
   "outputs": [],
   "source": []
  },
  {
   "cell_type": "code",
   "execution_count": null,
   "id": "7b147181-0660-46b3-92fa-4d3ffa102169",
   "metadata": {},
   "outputs": [],
   "source": []
  },
  {
   "cell_type": "code",
   "execution_count": null,
   "id": "7eadc19e-9e79-4fd8-83a4-14572d374f29",
   "metadata": {},
   "outputs": [],
   "source": []
  },
  {
   "cell_type": "code",
   "execution_count": null,
   "id": "877c5bbb-0036-406b-a3ae-80fc36825008",
   "metadata": {},
   "outputs": [],
   "source": [
    "permutation = []\n",
    "for line in SE6.cl_lines.values():\n",
    "    new_line = line.apply_proj(gen2)\n",
    "    for key in SE6.cl_lines.keys():\n",
    "        if SE6.cl_lines[key] == new_line:\n",
    "            permutation.append(key)\n",
    "            break"
   ]
  },
  {
   "cell_type": "code",
   "execution_count": null,
   "id": "ca379a59-6586-4ed3-8e95-7082d033ed94",
   "metadata": {},
   "outputs": [
    {
     "data": {
      "text/plain": [
       "['F13',\n",
       " 'E2',\n",
       " 'G2',\n",
       " 'F34',\n",
       " 'F35',\n",
       " 'F36',\n",
       " 'F12',\n",
       " 'E3',\n",
       " 'G3',\n",
       " 'F24',\n",
       " 'F25',\n",
       " 'F26',\n",
       " 'G1',\n",
       " 'E1',\n",
       " 'F56',\n",
       " 'F46',\n",
       " 'F45',\n",
       " 'F23',\n",
       " 'G4',\n",
       " 'G5',\n",
       " 'G6',\n",
       " 'E4',\n",
       " 'E5',\n",
       " 'E6',\n",
       " 'F16',\n",
       " 'F15',\n",
       " 'F14']"
      ]
     },
     "execution_count": 68,
     "metadata": {},
     "output_type": "execute_result"
    }
   ],
   "source": [
    "permutation"
   ]
  },
  {
   "cell_type": "code",
   "execution_count": null,
   "id": "d2fabac0-427e-4564-be37-5f46b965f598",
   "metadata": {},
   "outputs": [],
   "source": []
  }
 ],
 "metadata": {
  "kernelspec": {
   "display_name": "SageMath 9.3",
   "language": "sage",
   "name": "sagemath"
  },
  "language_info": {
   "codemirror_mode": {
    "name": "ipython",
    "version": 3
   },
   "file_extension": ".py",
   "mimetype": "text/x-python",
   "name": "python",
   "nbconvert_exporter": "python",
   "pygments_lexer": "ipython3",
   "version": "3.7.10"
  }
 },
 "nbformat": 4,
 "nbformat_minor": 5
}
