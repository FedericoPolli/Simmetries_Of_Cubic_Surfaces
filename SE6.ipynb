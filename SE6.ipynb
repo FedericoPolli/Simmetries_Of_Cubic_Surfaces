{
 "cells": [
  {
   "cell_type": "code",
   "execution_count": 1,
   "id": "3a4e6584",
   "metadata": {},
   "outputs": [],
   "source": [
    "load('Imports/Utility.sage', 'Imports/Point.sage', 'Imports/Line.sage', 'Imports/TritangentPlane.sage', 'Imports/Group.sage', 'Imports/Cubic.sage')\n",
    "import multiprocessing as mp\n",
    "import pickle"
   ]
  },
  {
   "cell_type": "code",
   "execution_count": 2,
   "id": "9557a8e3-3e81-4abd-a8fc-c8f7127b00e0",
   "metadata": {},
   "outputs": [],
   "source": [
    "P.<x,y,z,t,b,c,d,e,f,l,m> = PolynomialRing(QQ)\n",
    "cubic_new = e*f*(2*x^2*y-2*x*y^2+x*z^2-x*z*t-y*t^2+y*z*t)+b*c*(x-t)*(x*z+y*t)+c*c*(z+t)*(y*t-x*z)+d*c*(y-z)*(x*z+y*t)+(e+f)*c*(x-y)*(y*t-x*z)\n",
    "sing_cubics = (-1) * (-c + f) * (-c + e) * c * (c + f) * (c + e) * (-e + f)^2 * (-c*d + c*f + e*f) * (-c*d + c*e + e*f) * (-c^2 - c*d + e*f) * (b*c - c*f + e*f) * (b*c - c*e + e*f) * (b*c - c*d + 2*e*f) * (b*c - c^2 + e*f) * (b*c^2 + c^2*d + b*c*f - 2*c^2*f - c*d*f + 2*e*f^2) * (b*c^2 + c^2*d + b*c*e - 2*c^2*e - c*d*e + 2*e^2*f) * (-b*c^3 - 2*b*c^2*d + c^3*d + b*c^2*e + c^2*d*e + b*c^2*f + c^2*d*f + 3*b*c*e*f - 4*c^2*e*f - 3*c*d*e*f + 4*e^2*f^2)"
   ]
  },
  {
   "cell_type": "code",
   "execution_count": null,
   "id": "dca8d398-931f-4def-8dd2-23eca7814fb3",
   "metadata": {},
   "outputs": [],
   "source": [
    "# Define cubic SE6, find and classify the lines and compute the 45 tritangent planes"
   ]
  },
  {
   "cell_type": "code",
   "execution_count": 3,
   "id": "6611472f-cfae-48c1-91c8-8b98eaaa008d",
   "metadata": {},
   "outputs": [],
   "source": [
    "line = Line([y, z])\n",
    "general_cubic = Cubic(cubic_new, line, sing_cubics)\n",
    "SE6 = general_cubic.subs({b:-(c*c+e*f)/c, d:(3*e*f - c^2 + c*f + c*e)/(2*c)}).subs({f: -c*(5*c+e)/(c+e)})"
   ]
  },
  {
   "cell_type": "code",
   "execution_count": null,
   "id": "60560a53-54c0-46f7-a666-7ae01d0ca994",
   "metadata": {},
   "outputs": [],
   "source": [
    "# Find simmetries"
   ]
  },
  {
   "cell_type": "code",
   "execution_count": 4,
   "id": "47630c42-3112-4bd5-8c7a-8840b4b146a3",
   "metadata": {},
   "outputs": [
    {
     "name": "stdout",
     "output_type": "stream",
     "text": [
      "CPU times: user 374 ms, sys: 87.3 ms, total: 461 ms\n",
      "Wall time: 1.1 s\n"
     ]
    },
    {
     "data": {
      "text/plain": [
       "48"
      ]
     },
     "execution_count": 4,
     "metadata": {},
     "output_type": "execute_result"
    }
   ],
   "source": [
    "%time adm_SE6 = SE6.find_admissible_projectivities()\n",
    "len(adm_SE6)"
   ]
  },
  {
   "cell_type": "code",
   "execution_count": 5,
   "id": "fee3cd6a-7bae-47d9-b4de-6b4e567f4076",
   "metadata": {},
   "outputs": [
    {
     "name": "stdout",
     "output_type": "stream",
     "text": [
      "CPU times: user 180 ms, sys: 52.3 ms, total: 232 ms\n",
      "Wall time: 285 ms\n"
     ]
    },
    {
     "data": {
      "text/plain": [
       "24"
      ]
     },
     "execution_count": 5,
     "metadata": {},
     "output_type": "execute_result"
    }
   ],
   "source": [
    "%time simm_SE6 = SE6.find_simmetries(adm_SE6)\n",
    "len(simm_SE6)"
   ]
  },
  {
   "cell_type": "code",
   "execution_count": null,
   "id": "b92cde76-984b-4cd9-8861-447608d3e2a2",
   "metadata": {},
   "outputs": [],
   "source": [
    "# Study how the simmetries permute the Eckardt points"
   ]
  },
  {
   "cell_type": "code",
   "execution_count": 6,
   "id": "b8a24ace-332f-40ba-9654-ad18d5504cc7",
   "metadata": {},
   "outputs": [
    {
     "data": {
      "text/plain": [
       "(24, 'S4')"
      ]
     },
     "execution_count": 6,
     "metadata": {},
     "output_type": "execute_result"
    }
   ],
   "source": [
    "Eck_points_perms = []\n",
    "for proj in simm_SE6:\n",
    "    Eck_points_perms.append(Permutation(SE6.apply_proj_to_eck(proj)).to_permutation_group_element())\n",
    "Eck_points_perms_group = PermutationGroup(Eck_points_perms)\n",
    "Eck_points_perms_group.order(), Eck_points_perms_group.structure_description()"
   ]
  },
  {
   "cell_type": "code",
   "execution_count": null,
   "id": "34b19d15-9173-4fd8-a830-3db13a7151e5",
   "metadata": {},
   "outputs": [],
   "source": [
    "# We want to find what elements are permuted by the group S4\n",
    "# These are the lines through 2 Eckardt points that are not contained in SE6"
   ]
  },
  {
   "cell_type": "code",
   "execution_count": 7,
   "id": "82a856ff-3d5e-4410-a955-c7382ebecd38",
   "metadata": {},
   "outputs": [],
   "source": [
    "indices = []\n",
    "for gen in Eck_points_perms_group.minimal_generating_set():\n",
    "    indices.append(Eck_points_perms.index(gen))\n",
    "gen1 = simm_SE6[indices[0]]\n",
    "gen2 = simm_SE6[indices[1]]"
   ]
  },
  {
   "cell_type": "code",
   "execution_count": 9,
   "id": "b4ba45e6",
   "metadata": {},
   "outputs": [],
   "source": [
    "lines_through_2_Eck_points = []\n",
    "lines_plucker = [line.plucker for line in SE6.lines]\n",
    "for i in range(len(eck)):\n",
    "    point1 = eck[i]\n",
    "    for j in range(i+1, len(eck)):\n",
    "        point2 = eck[j]\n",
    "        new_line_plucker = Point(matrix([point1, point2]).minors(2))\n",
    "        #check that we get a new line that does not belong to SE6\n",
    "        if new_line_plucker not in lines_plucker and new_line_plucker not in [line.plucker for line in lines_through_2_Eck_points]:\n",
    "            planes = get_two_planes_containing_line(new_line_plucker)\n",
    "            lines_through_2_Eck_points.append(Line(planes, [point1, point2], new_line_plucker))"
   ]
  },
  {
   "cell_type": "code",
   "execution_count": 10,
   "id": "dbefecd3",
   "metadata": {},
   "outputs": [
    {
     "name": "stdout",
     "output_type": "stream",
     "text": [
      "[True, True]\n",
      "[True, True]\n",
      "[True, True]\n",
      "[True, True]\n"
     ]
    }
   ],
   "source": [
    "#check that the 4 lines are actually permuted by the simmetry group\n",
    "for line in lines_through_2_Eck_points:\n",
    "    print([line.apply_proj(gen1) in lines_through_2_Eck_points, line.apply_proj(gen2) in lines_through_2_Eck_points])"
   ]
  },
  {
   "cell_type": "code",
   "execution_count": null,
   "id": "afc984e4",
   "metadata": {},
   "outputs": [],
   "source": [
    "# Study how the simmetries permute the 27 lines"
   ]
  },
  {
   "cell_type": "code",
   "execution_count": 11,
   "id": "10c88cfd-8744-442f-b9c2-98919bb6f6fb",
   "metadata": {},
   "outputs": [
    {
     "data": {
      "text/plain": [
       "(24, 'S4')"
      ]
     },
     "execution_count": 11,
     "metadata": {},
     "output_type": "execute_result"
    }
   ],
   "source": [
    "lines_perms = []\n",
    "for simm in simm_SE6:\n",
    "    lines_perms.append(Permutation(SE6.apply_proj_to_lines(simm)).to_permutation_group_element())\n",
    "lines_perms_group = PermutationGroup(lines_perms)\n",
    "lines_perms_group.order(), lines_perms_group.structure_description()"
   ]
  },
  {
   "cell_type": "code",
   "execution_count": 13,
   "id": "63048cef",
   "metadata": {},
   "outputs": [
    {
     "data": {
      "text/plain": [
       "[24, 12, 4, 1]"
      ]
     },
     "execution_count": 13,
     "metadata": {},
     "output_type": "execute_result"
    }
   ],
   "source": [
    "[el.order() for el in lines_perms_group.normal_subgroups()]"
   ]
  },
  {
   "cell_type": "code",
   "execution_count": null,
   "id": "d134f53c-31b0-48ac-bc87-f8010e8bd277",
   "metadata": {},
   "outputs": [],
   "source": [
    "# Find possible conditions to obtain a subfamily with a larger simmetry group"
   ]
  },
  {
   "cell_type": "code",
   "execution_count": 14,
   "id": "c2011103",
   "metadata": {},
   "outputs": [
    {
     "name": "stdout",
     "output_type": "stream",
     "text": [
      "CPU times: user 473 ms, sys: 8.19 ms, total: 481 ms\n",
      "Wall time: 503 ms\n"
     ]
    },
    {
     "data": {
      "text/plain": [
       "[]"
      ]
     },
     "execution_count": 14,
     "metadata": {},
     "output_type": "execute_result"
    }
   ],
   "source": [
    "%time SE6.find_conditions_for_subfamilies(adm_SE6, simm_SE6)"
   ]
  },
  {
   "cell_type": "code",
   "execution_count": null,
   "id": "936f8ea3",
   "metadata": {},
   "outputs": [],
   "source": []
  },
  {
   "cell_type": "code",
   "execution_count": null,
   "id": "0beabcd4",
   "metadata": {},
   "outputs": [],
   "source": []
  },
  {
   "cell_type": "code",
   "execution_count": 8,
   "id": "4ecabd52-35df-46d7-a9c1-16dc8e2815f9",
   "metadata": {},
   "outputs": [
    {
     "name": "stdout",
     "output_type": "stream",
     "text": [
      "['E1', 'G4', 'F14'] ['E2', 'G1', 'F12'] ['E4', 'G2', 'F24']\n",
      "['E1', 'G4', 'F14'] ['E2', 'G3', 'F23'] ['F13', 'F24', 'F56']\n",
      "['E2', 'G1', 'F12'] ['E3', 'G4', 'F34'] ['F13', 'F24', 'F56']\n",
      "['E2', 'G3', 'F23'] ['E3', 'G4', 'F34'] ['E4', 'G2', 'F24']\n"
     ]
    }
   ],
   "source": [
    "eck_labels = SE6.eckardt_points_labels\n",
    "eck = SE6.eckardt_points\n",
    "for i in range(4):\n",
    "    for j in range(i+1, 5):\n",
    "        for k in range(j+1, 6):\n",
    "            if matrix([eck[i], eck[j], eck[k]]).minors(3) == [0,0,0,0]:\n",
    "                print(eck_labels[i], eck_labels[j], eck_labels[k])"
   ]
  }
 ],
 "metadata": {
  "kernelspec": {
   "display_name": "SageMath 9.4",
   "language": "sage",
   "name": "sagemath"
  },
  "language_info": {
   "codemirror_mode": {
    "name": "ipython",
    "version": 3
   },
   "file_extension": ".py",
   "mimetype": "text/x-python",
   "name": "python",
   "nbconvert_exporter": "python",
   "pygments_lexer": "ipython3",
   "version": "3.7.12"
  }
 },
 "nbformat": 4,
 "nbformat_minor": 5
}
