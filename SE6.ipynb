{
 "cells": [
  {
   "cell_type": "code",
   "execution_count": 1,
   "id": "3a4e6584",
   "metadata": {},
   "outputs": [],
   "source": [
    "load('Imports/Utility.sage', 'Imports/Point.sage', 'Imports/Line.sage', 'Imports/TritangentPlane.sage', 'Imports/Group.sage', 'Imports/Cubic.sage')\n",
    "import multiprocessing as mp\n",
    "import pickle"
   ]
  },
  {
   "cell_type": "code",
   "execution_count": 2,
   "id": "9557a8e3-3e81-4abd-a8fc-c8f7127b00e0",
   "metadata": {},
   "outputs": [],
   "source": [
    "P.<x,y,z,t,b,c,d,e,f,l,m> = PolynomialRing(QQ)\n",
    "cubic_new = e*f*(2*x^2*y-2*x*y^2+x*z^2-x*z*t-y*t^2+y*z*t)+b*c*(x-t)*(x*z+y*t)+c*c*(z+t)*(y*t-x*z)+d*c*(y-z)*(x*z+y*t)+(e+f)*c*(x-y)*(y*t-x*z)\n",
    "sing_cubics = (-1) * (-c + f) * (-c + e) * c * (c + f) * (c + e) * (-e + f) * (-c*d + c*f + e*f) * (-c*d + c*e + e*f) * (-c^2 - c*d + e*f) * (b*c - c*f + e*f) * (b*c - c*e + e*f) * (b*c - c*d + 2*e*f) * (b*c - c^2 + e*f) * (b*c^2 + c^2*d + b*c*f - 2*c^2*f - c*d*f + 2*e*f^2) * (b*c^2 + c^2*d + b*c*e - 2*c^2*e - c*d*e + 2*e^2*f) * (-b*c^3 - 2*b*c^2*d + c^3*d + b*c^2*e + c^2*d*e + b*c^2*f + c^2*d*f + 3*b*c*e*f - 4*c^2*e*f - 3*c*d*e*f + 4*e^2*f^2)"
   ]
  },
  {
   "cell_type": "code",
   "execution_count": 3,
   "id": "dca8d398-931f-4def-8dd2-23eca7814fb3",
   "metadata": {},
   "outputs": [],
   "source": [
    "# Define cubic SE6, find and classify the lines and compute the 45 tritangent planes"
   ]
  },
  {
   "cell_type": "code",
   "execution_count": 4,
   "id": "6611472f-cfae-48c1-91c8-8b98eaaa008d",
   "metadata": {},
   "outputs": [],
   "source": [
    "line = Line([y, z])\n",
    "general_cubic = Cubic(cubic_new, line, sing_cubics)\n",
    "Lambda3 = {b:-(c*c+e*f)/c, d:(3*e*f - c^2 + c*f + c*e)/(2*c)}\n",
    "sost_SE6 = {f: -c*(5*c+e)/(c+e)}\n",
    "SE6 = general_cubic.subs(Lambda3).subs(sost_SE6)"
   ]
  },
  {
   "cell_type": "code",
   "execution_count": 5,
   "id": "60560a53-54c0-46f7-a666-7ae01d0ca994",
   "metadata": {},
   "outputs": [],
   "source": [
    "# Find simmetries"
   ]
  },
  {
   "cell_type": "code",
   "execution_count": 6,
   "id": "47630c42-3112-4bd5-8c7a-8840b4b146a3",
   "metadata": {},
   "outputs": [
    {
     "name": "stdout",
     "output_type": "stream",
     "text": [
      "CPU times: user 470 ms, sys: 82 ms, total: 552 ms\n",
      "Wall time: 1.32 s\n"
     ]
    },
    {
     "data": {
      "text/plain": [
       "48"
      ]
     },
     "execution_count": 6,
     "metadata": {},
     "output_type": "execute_result"
    }
   ],
   "source": [
    "%time adm_SE6 = SE6.find_admissible_projectivities()\n",
    "len(adm_SE6)"
   ]
  },
  {
   "cell_type": "code",
   "execution_count": 7,
   "id": "fee3cd6a-7bae-47d9-b4de-6b4e567f4076",
   "metadata": {},
   "outputs": [
    {
     "name": "stdout",
     "output_type": "stream",
     "text": [
      "CPU times: user 232 ms, sys: 44.2 ms, total: 276 ms\n",
      "Wall time: 357 ms\n"
     ]
    },
    {
     "data": {
      "text/plain": [
       "24"
      ]
     },
     "execution_count": 7,
     "metadata": {},
     "output_type": "execute_result"
    }
   ],
   "source": [
    "%time simm_SE6 = SE6.find_simmetries(adm_SE6)\n",
    "len(simm_SE6)"
   ]
  },
  {
   "cell_type": "code",
   "execution_count": 8,
   "id": "b92cde76-984b-4cd9-8861-447608d3e2a2",
   "metadata": {},
   "outputs": [],
   "source": [
    "# Study how the simmetries permute the Eckardt points"
   ]
  },
  {
   "cell_type": "code",
   "execution_count": 9,
   "id": "b8a24ace-332f-40ba-9654-ad18d5504cc7",
   "metadata": {},
   "outputs": [
    {
     "data": {
      "text/plain": [
       "(24, 'S4')"
      ]
     },
     "execution_count": 9,
     "metadata": {},
     "output_type": "execute_result"
    }
   ],
   "source": [
    "Eck_perms = [Permutation(SE6.apply_proj_to_eck(proj)).to_permutation_group_element() for proj in simm_SE6]\n",
    "Eck_perms_group = PermutationGroup(Eck_perms)\n",
    "Eck_perms_group.order(), Eck_perms_group.structure_description()"
   ]
  },
  {
   "cell_type": "code",
   "execution_count": 10,
   "id": "34b19d15-9173-4fd8-a830-3db13a7151e5",
   "metadata": {},
   "outputs": [],
   "source": [
    "# We want to find what elements are permuted by the group S4\n",
    "# These are the lines through 2 Eckardt points that are not contained in SE6"
   ]
  },
  {
   "cell_type": "code",
   "execution_count": 11,
   "id": "b4ba45e6",
   "metadata": {},
   "outputs": [
    {
     "data": {
      "text/plain": [
       "[[['E1', 'G4', 'F14'], ['E2', 'G1', 'F12']],\n",
       " [['E1', 'G4', 'F14'], ['E2', 'G3', 'F23']],\n",
       " [['E2', 'G1', 'F12'], ['E3', 'G4', 'F34']],\n",
       " [['E2', 'G3', 'F23'], ['E3', 'G4', 'F34']]]"
      ]
     },
     "execution_count": 11,
     "metadata": {},
     "output_type": "execute_result"
    }
   ],
   "source": [
    "lines_through_2_Eck_points = []\n",
    "lines_through_2_Eck_points_labels = []\n",
    "lines_plucker = [line.plucker for line in SE6.lines]\n",
    "eck = SE6.eckardt_points\n",
    "for i in range(len(eck)):\n",
    "    point1 = eck[i]\n",
    "    for j in range(i+1, len(eck)):\n",
    "        point2 = eck[j]\n",
    "        new_line_plucker = Point(matrix([point1, point2]).minors(2))\n",
    "        #check that we get a new line that does not belong to SE6\n",
    "        if new_line_plucker not in lines_plucker and new_line_plucker not in [line.plucker for line in lines_through_2_Eck_points]:\n",
    "            planes = get_two_planes_containing_line([point1, point2])\n",
    "            lines_through_2_Eck_points_labels.append([SE6.eckardt_points_labels[i],SE6.eckardt_points_labels[j]])\n",
    "            lines_through_2_Eck_points.append(Line(planes, [point1, point2], new_line_plucker))\n",
    "lines_through_2_Eck_points_labels"
   ]
  },
  {
   "cell_type": "code",
   "execution_count": 13,
   "id": "6ce011ed-ab7a-456c-8bd1-70b88016a7ba",
   "metadata": {},
   "outputs": [
    {
     "data": {
      "text/plain": [
       "[(1,5,4,6)(2,3), (1,2)(3,4)]"
      ]
     },
     "execution_count": 13,
     "metadata": {},
     "output_type": "execute_result"
    }
   ],
   "source": [
    "f = SymmetricGroup(4).isomorphism_to(Eck_perms_group)\n",
    "gens = [f(gen) for gen in SymmetricGroup(4).gens_small()]\n",
    "gens"
   ]
  },
  {
   "cell_type": "code",
   "execution_count": 14,
   "id": "82a856ff-3d5e-4410-a955-c7382ebecd38",
   "metadata": {},
   "outputs": [],
   "source": [
    "indices = [Eck_perms.index(gen) for gen in gens]\n",
    "M4 = simm_SE6[indices[0]]\n",
    "M2 = simm_SE6[indices[1]]"
   ]
  },
  {
   "cell_type": "code",
   "execution_count": 15,
   "id": "50c21512-b09d-44c9-b5e9-c2be66ecc989",
   "metadata": {},
   "outputs": [
    {
     "data": {
      "text/plain": [
       "[(1,2,3,4), (2,3)]"
      ]
     },
     "execution_count": 15,
     "metadata": {},
     "output_type": "execute_result"
    }
   ],
   "source": [
    "four_lines_perms = []\n",
    "for proj in [M4, M2]:\n",
    "    perm_indices = [lines_through_2_Eck_points.index(\n",
    "        line.apply_proj(proj))+1 \n",
    "                    for line in lines_through_2_Eck_points]\n",
    "    perm = Permutation(perm_indices).to_permutation_group_element()\n",
    "    four_lines_perms.append(perm)\n",
    "four_lines_perms"
   ]
  },
  {
   "cell_type": "code",
   "execution_count": 16,
   "id": "dbefecd3",
   "metadata": {},
   "outputs": [
    {
     "name": "stdout",
     "output_type": "stream",
     "text": [
      "[True, True]\n",
      "[True, True]\n",
      "[True, True]\n",
      "[True, True]\n"
     ]
    }
   ],
   "source": [
    "#check that the 4 lines are actually permuted by the simmetry group\n",
    "for line in lines_through_2_Eck_points:\n",
    "    print([line.apply_proj(M4) in lines_through_2_Eck_points, line.apply_proj(M2) in lines_through_2_Eck_points])"
   ]
  },
  {
   "cell_type": "code",
   "execution_count": 17,
   "id": "afc984e4",
   "metadata": {},
   "outputs": [],
   "source": [
    "# Study how the simmetries permute the 27 lines"
   ]
  },
  {
   "cell_type": "code",
   "execution_count": 18,
   "id": "10c88cfd-8744-442f-b9c2-98919bb6f6fb",
   "metadata": {},
   "outputs": [
    {
     "data": {
      "text/plain": [
       "(24, 'S4')"
      ]
     },
     "execution_count": 18,
     "metadata": {},
     "output_type": "execute_result"
    }
   ],
   "source": [
    "lines_perms = [Permutation(SE6.apply_proj_to_lines(simm)).to_permutation_group_element() for simm in simm_SE6]\n",
    "lines_perms_group = PermutationGroup(lines_perms)\n",
    "lines_perms_group.order(), lines_perms_group.structure_description()"
   ]
  },
  {
   "cell_type": "code",
   "execution_count": 19,
   "id": "646d6644-169c-4454-896d-d77fa946b37a",
   "metadata": {},
   "outputs": [
    {
     "data": {
      "text/plain": [
       "([('F56', 'F24', 'E2', 'F12', 'E4', 'F35'),\n",
       "  ('F12', 'E2', 'G4', 'F34', 'F23', 'F25')],\n",
       " [(1,27,3,4)(5,23,26,16)(6,24,25,17)(7,9,13,18)(8,15,14,22)(10,19)(11,12)(20,21),\n",
       "  (1,13)(2,10)(3,18)(5,20)(6,21)(7,15)(9,22)(11,25)(12,26)(14,27)(16,24)(17,23)])"
      ]
     },
     "execution_count": 19,
     "metadata": {},
     "output_type": "execute_result"
    }
   ],
   "source": [
    "gens_lines = [lines_perms[index] for index in indices]\n",
    "[get_permuted_extended_L_set(perm) for perm in gens_lines], gens_lines"
   ]
  },
  {
   "cell_type": "code",
   "execution_count": 20,
   "id": "60562626-2dbc-41d6-a61e-2848e7162c7a",
   "metadata": {},
   "outputs": [
    {
     "data": {
      "text/plain": [
       "True"
      ]
     },
     "execution_count": 20,
     "metadata": {},
     "output_type": "execute_result"
    }
   ],
   "source": [
    "PermutationGroup(gens_lines).is_isomorphic(Eck_perms_group)"
   ]
  },
  {
   "cell_type": "code",
   "execution_count": 21,
   "id": "d134f53c-31b0-48ac-bc87-f8010e8bd277",
   "metadata": {},
   "outputs": [],
   "source": [
    "# Find possible conditions to obtain a subfamily with a larger simmetry group"
   ]
  },
  {
   "cell_type": "code",
   "execution_count": 22,
   "id": "c2011103",
   "metadata": {},
   "outputs": [
    {
     "name": "stdout",
     "output_type": "stream",
     "text": [
      "CPU times: user 145 ms, sys: 64.9 ms, total: 210 ms\n",
      "Wall time: 312 ms\n"
     ]
    },
    {
     "data": {
      "text/plain": [
       "[]"
      ]
     },
     "execution_count": 22,
     "metadata": {},
     "output_type": "execute_result"
    }
   ],
   "source": [
    "%time SE6.find_conditions_for_subfamilies(adm_SE6, simm_SE6)"
   ]
  },
  {
   "cell_type": "code",
   "execution_count": null,
   "id": "cd06787f-75bd-43c0-be09-5dd4f1cc1889",
   "metadata": {},
   "outputs": [],
   "source": []
  }
 ],
 "metadata": {
  "kernelspec": {
   "display_name": "SageMath 9.4",
   "language": "sage",
   "name": "sagemath"
  },
  "language_info": {
   "codemirror_mode": {
    "name": "ipython",
    "version": 3
   },
   "file_extension": ".py",
   "mimetype": "text/x-python",
   "name": "python",
   "nbconvert_exporter": "python",
   "pygments_lexer": "ipython3",
   "version": "3.7.12"
  }
 },
 "nbformat": 4,
 "nbformat_minor": 5
}
