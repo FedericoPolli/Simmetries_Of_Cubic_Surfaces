{
 "cells": [
  {
   "cell_type": "code",
   "execution_count": 1,
   "id": "c1b14ef4-0cc5-4cc7-9792-e2ce6fcd97f9",
   "metadata": {},
   "outputs": [],
   "source": [
    "load('Imports/Utility.sage', 'Imports/Point.sage', 'Imports/Line.sage', 'Imports/Tritangent_plane.sage', 'Imports/Group.sage', 'Imports/Cubic.sage')\n",
    "import multiprocessing as mp\n",
    "import pickle"
   ]
  },
  {
   "cell_type": "code",
   "execution_count": 3,
   "id": "0c2876bb-4f51-41e1-a5fe-708cedd3086c",
   "metadata": {},
   "outputs": [],
   "source": [
    "P.<x,y,z,t,b,c,d,e,f,l,m> = PolynomialRing(QQ)"
   ]
  },
  {
   "cell_type": "code",
   "execution_count": 4,
   "id": "8ee3af57-dd0c-42a2-b421-5bb580be7468",
   "metadata": {},
   "outputs": [],
   "source": [
    "cubic_new = e*f*(2*x^2*y-2*x*y^2+x*z^2-x*z*t-y*t^2+y*z*t)+b*c*(x-t)*(x*z+y*t)+c*c*(z+t)*(y*t-x*z)+d*c*(y-z)*(x*z+y*t)+(e+f)*c*(x-y)*(y*t-x*z)"
   ]
  },
  {
   "cell_type": "code",
   "execution_count": 5,
   "id": "ec09ef9e-36e1-41e7-9a1f-29d225fc71c7",
   "metadata": {},
   "outputs": [],
   "source": [
    "sing_cubics = (-1) * (-c + f) * (-c + e) * c * (c + f) * (c + e) * (-e + f)^2 * (-c*d + c*f + e*f) * (-c*d + c*e + e*f) * (-c^2 - c*d + e*f) * (b*c - c*f + e*f) * (b*c - c*e + e*f) * (b*c - c*d + 2*e*f) * (b*c - c^2 + e*f) * (b*c^2 + c^2*d + b*c*f - 2*c^2*f - c*d*f + 2*e*f^2) * (b*c^2 + c^2*d + b*c*e - 2*c^2*e - c*d*e + 2*e^2*f) * (-b*c^3 - 2*b*c^2*d + c^3*d + b*c^2*e + c^2*d*e + b*c^2*f + c^2*d*f + 3*b*c*e*f - 4*c^2*e*f - 3*c*d*e*f + 4*e^2*f^2)"
   ]
  },
  {
   "cell_type": "code",
   "execution_count": 6,
   "id": "dedaa196-6d5f-483b-9fe1-0dd060ed4366",
   "metadata": {},
   "outputs": [],
   "source": [
    "line = Line([y, z])"
   ]
  },
  {
   "cell_type": "code",
   "execution_count": 7,
   "id": "95dc17c9-a062-4a8a-9549-2ba6e8983bb3",
   "metadata": {},
   "outputs": [],
   "source": [
    "general_cubic = Cubic(cubic_new, line, sing_cubics)"
   ]
  },
  {
   "cell_type": "code",
   "execution_count": 8,
   "id": "db020829-f64e-4776-92bf-5c182258aea2",
   "metadata": {},
   "outputs": [],
   "source": [
    "SE6 = general_cubic.subs({b:-(c*c+e*f)/c, d:(3*e*f - c^2 + c*f + c*e)/(2*c)}).subs({f: -c*(5*c+e)/(c+e)})"
   ]
  },
  {
   "cell_type": "code",
   "execution_count": 9,
   "id": "cc12de7d-a2e6-455e-95b2-3cb910897509",
   "metadata": {},
   "outputs": [
    {
     "name": "stdout",
     "output_type": "stream",
     "text": [
      "CPU times: user 1.24 s, sys: 95.7 ms, total: 1.34 s\n",
      "Wall time: 1.54 s\n"
     ]
    }
   ],
   "source": [
    "%time adm_SE6 = SE6.find_admissible_projectivities()"
   ]
  },
  {
   "cell_type": "code",
   "execution_count": 10,
   "id": "e6052ba9-4d9a-4776-a8a0-ab7cc0d1b52c",
   "metadata": {},
   "outputs": [
    {
     "data": {
      "text/plain": [
       "48"
      ]
     },
     "execution_count": 10,
     "metadata": {},
     "output_type": "execute_result"
    }
   ],
   "source": [
    "len(adm_SE6)"
   ]
  },
  {
   "cell_type": "code",
   "execution_count": 11,
   "id": "0158c5ef-2303-4d73-8d17-d5354d4646a2",
   "metadata": {},
   "outputs": [
    {
     "name": "stdout",
     "output_type": "stream",
     "text": [
      "CPU times: user 993 ms, sys: 102 ms, total: 1.1 s\n",
      "Wall time: 1.19 s\n"
     ]
    }
   ],
   "source": [
    "%time simm_SE6 = SE6.find_simmetries(adm_SE6)"
   ]
  },
  {
   "cell_type": "code",
   "execution_count": 11,
   "id": "3b2de368-2b74-4c39-81bd-99bd5bbdae1f",
   "metadata": {},
   "outputs": [
    {
     "data": {
      "text/plain": [
       "24"
      ]
     },
     "execution_count": 11,
     "metadata": {},
     "output_type": "execute_result"
    }
   ],
   "source": [
    "len(simm_SE6)"
   ]
  },
  {
   "cell_type": "code",
   "execution_count": 12,
   "id": "7cca8403-313c-4568-b58d-3004dbcb4a9f",
   "metadata": {},
   "outputs": [],
   "source": [
    "G_SE6 = Group(simm_SE6)"
   ]
  },
  {
   "cell_type": "code",
   "execution_count": 13,
   "id": "b12c9b18-eacf-43af-97c1-d43425d5630c",
   "metadata": {},
   "outputs": [
    {
     "data": {
      "text/plain": [
       "True"
      ]
     },
     "execution_count": 13,
     "metadata": {},
     "output_type": "execute_result"
    }
   ],
   "source": [
    "G_SE6.is_group()"
   ]
  },
  {
   "cell_type": "code",
   "execution_count": 14,
   "id": "5e04ede8-c4d7-42dd-908a-658b0bd980d9",
   "metadata": {},
   "outputs": [
    {
     "data": {
      "text/plain": [
       "24"
      ]
     },
     "execution_count": 14,
     "metadata": {},
     "output_type": "execute_result"
    }
   ],
   "source": [
    "G_SE6.get_order()"
   ]
  },
  {
   "cell_type": "code",
   "execution_count": 15,
   "id": "1a42f291-d628-4642-bc28-962430177d4b",
   "metadata": {},
   "outputs": [
    {
     "data": {
      "text/plain": [
       "False"
      ]
     },
     "execution_count": 15,
     "metadata": {},
     "output_type": "execute_result"
    }
   ],
   "source": [
    "G_SE6.is_abelian()"
   ]
  },
  {
   "cell_type": "code",
   "execution_count": 16,
   "id": "facb4671-141e-4b05-ab43-772809f33d54",
   "metadata": {},
   "outputs": [
    {
     "data": {
      "text/plain": [
       "[1, 2, 3, 4, 6, 8, 12, 24]"
      ]
     },
     "execution_count": 16,
     "metadata": {},
     "output_type": "execute_result"
    }
   ],
   "source": [
    "G_SE6.get_divisors_of_order()"
   ]
  },
  {
   "cell_type": "code",
   "execution_count": 17,
   "id": "0d7e9f01-6a0d-4e45-a0c8-a636db4a418c",
   "metadata": {},
   "outputs": [
    {
     "data": {
      "text/plain": [
       "[1, 2, 2, 4, 4, 3, 4, 3, 2, 3, 2, 3, 2, 3, 2, 3, 2, 2, 4, 3, 2, 4, 4, 3]"
      ]
     },
     "execution_count": 17,
     "metadata": {},
     "output_type": "execute_result"
    }
   ],
   "source": [
    "G_SE6.get_order_of_elements()"
   ]
  },
  {
   "cell_type": "code",
   "execution_count": 18,
   "id": "0faf5d08-60ba-4530-9f11-f243ff903c64",
   "metadata": {},
   "outputs": [
    {
     "data": {
      "text/plain": [
       "[]"
      ]
     },
     "execution_count": 18,
     "metadata": {},
     "output_type": "execute_result"
    }
   ],
   "source": [
    "find_conditions_for_subfamilies(SE6, adm_SE6, simm_SE6)"
   ]
  },
  {
   "cell_type": "code",
   "execution_count": 19,
   "id": "821ab7ad-58dc-4623-8cf9-f9aa7f73af18",
   "metadata": {},
   "outputs": [],
   "source": [
    "perms = []\n",
    "for el in G_SE6:\n",
    "    perms.append(Permutation(apply_proj_to_eck(el, SE6.eckardt_points)).to_cycles())"
   ]
  },
  {
   "cell_type": "code",
   "execution_count": 20,
   "id": "d05888f2-4970-4874-890b-78275df34f89",
   "metadata": {},
   "outputs": [],
   "source": [
    "gp = PermutationGroup(perms)"
   ]
  },
  {
   "cell_type": "code",
   "execution_count": 21,
   "id": "2f801bfc-7829-4562-96fb-76fed740e7ad",
   "metadata": {},
   "outputs": [
    {
     "data": {
      "text/plain": [
       "24"
      ]
     },
     "execution_count": 21,
     "metadata": {},
     "output_type": "execute_result"
    }
   ],
   "source": [
    "gp.order()"
   ]
  },
  {
   "cell_type": "code",
   "execution_count": 22,
   "id": "143cf288-34a9-487c-a36b-cb3f6a6e3b41",
   "metadata": {},
   "outputs": [
    {
     "data": {
      "text/plain": [
       "'S4'"
      ]
     },
     "execution_count": 22,
     "metadata": {},
     "output_type": "execute_result"
    }
   ],
   "source": [
    "gp.structure_description()"
   ]
  },
  {
   "cell_type": "code",
   "execution_count": 23,
   "id": "55b95fba-f524-4abd-abbe-b2bd8addc6b0",
   "metadata": {},
   "outputs": [],
   "source": [
    "nperms = [[cycle for cycle in perm if len(cycle)>1] for perm in perms]"
   ]
  },
  {
   "cell_type": "code",
   "execution_count": 24,
   "id": "08186694-3c9a-4c5d-bcba-c9f2224507e1",
   "metadata": {},
   "outputs": [
    {
     "name": "stdout",
     "output_type": "stream",
     "text": [
      "13\n",
      "(1,2,5)(3,6,4)\n",
      "14\n",
      "(1,6)(4,5)\n"
     ]
    }
   ],
   "source": [
    "for gen in gp.minimal_generating_set():\n",
    "    print(nperms.index(gen.cycle_tuples()))\n",
    "    print(gen)"
   ]
  },
  {
   "cell_type": "code",
   "execution_count": 25,
   "id": "b57a25d8-fda5-4f10-99d2-e8e15b9d9201",
   "metadata": {},
   "outputs": [],
   "source": [
    "gen1 = G_SE6[13]\n",
    "gen2 = G_SE6[14]"
   ]
  },
  {
   "cell_type": "code",
   "execution_count": 26,
   "id": "80819041-942f-406d-93f0-5d96e448a4c3",
   "metadata": {},
   "outputs": [
    {
     "data": {
      "text/plain": [
       "[['E1', 'G4', 'F14'],\n",
       " ['E2', 'G1', 'F12'],\n",
       " ['E2', 'G3', 'F23'],\n",
       " ['E3', 'G4', 'F34'],\n",
       " ['E4', 'G2', 'F24'],\n",
       " ['F13', 'F24', 'F56']]"
      ]
     },
     "execution_count": 26,
     "metadata": {},
     "output_type": "execute_result"
    }
   ],
   "source": [
    "eck_labels = SE6.eckardt_points_labels\n",
    "eck_labels"
   ]
  },
  {
   "cell_type": "code",
   "execution_count": 27,
   "id": "ec4493a1-0a46-425f-9414-a358f56ae7a0",
   "metadata": {},
   "outputs": [
    {
     "data": {
      "text/plain": [
       "[(0, 0, 0, 1),\n",
       " (0, -c^2 - c*e, 2*c^2 - 3*c*e - e^2, 0),\n",
       " (0, 1, 1, 0),\n",
       " (0, 0, 1, -1),\n",
       " (0, -c^2 - c*e, 2*c^2 - 3*c*e - e^2, -3*c^2 + 2*c*e + e^2),\n",
       " (0, c^2 + c*e, c^2 + c*e, -3*c^2 + 2*c*e + e^2)]"
      ]
     },
     "execution_count": 27,
     "metadata": {},
     "output_type": "execute_result"
    }
   ],
   "source": [
    "eck = SE6.eckardt_points\n",
    "eck"
   ]
  },
  {
   "cell_type": "code",
   "execution_count": 28,
   "id": "1814f12b-4928-4f4b-80c0-01a50bfbbb76",
   "metadata": {},
   "outputs": [
    {
     "name": "stdout",
     "output_type": "stream",
     "text": [
      "['E1', 'G4', 'F14'] ['E2', 'G1', 'F12'] ['E4', 'G2', 'F24']\n",
      "['E1', 'G4', 'F14'] ['E2', 'G3', 'F23'] ['F13', 'F24', 'F56']\n",
      "['E2', 'G1', 'F12'] ['E3', 'G4', 'F34'] ['F13', 'F24', 'F56']\n",
      "['E2', 'G3', 'F23'] ['E3', 'G4', 'F34'] ['E4', 'G2', 'F24']\n"
     ]
    }
   ],
   "source": [
    "for i in range(4):\n",
    "    for j in range(i+1, 5):\n",
    "        for k in range(j+1, 6):\n",
    "            point1 = eck[i]\n",
    "            point2 = eck[j]\n",
    "            point3 = eck[k]\n",
    "            if matrix([point1, point2, point3]).minors(3) == [0,0,0,0]:\n",
    "                print(eck_labels[i], eck_labels[j], eck_labels[k])"
   ]
  },
  {
   "cell_type": "code",
   "execution_count": 29,
   "id": "09fd4e6b-7a42-4022-83f3-2c1f450151c8",
   "metadata": {},
   "outputs": [],
   "source": [
    "new_lines = []\n",
    "lines_plucker = [line.plucker for line in SE6.lines]\n",
    "for i in range(len(eck)):\n",
    "    point1 = eck[i]\n",
    "    for j in range(i+1, len(eck)):\n",
    "        point2 = eck[j]\n",
    "        new_line_plucker = Point(matrix([point1, point2]).minors(2))\n",
    "        if new_line_plucker not in lines_plucker and new_line_plucker not in [line.plucker for line in new_lines]:\n",
    "            planes = get_planes(new_line_plucker)\n",
    "            new_lines.append(Line(planes, [point1, point2], new_line_plucker))"
   ]
  },
  {
   "cell_type": "code",
   "execution_count": 30,
   "id": "6d797e14-d05f-4c59-8392-5a04fcdf3398",
   "metadata": {},
   "outputs": [
    {
     "data": {
      "text/plain": [
       "[(0, 0, 0, 0, c^2 + c*e, -2*c^2 + 3*c*e + e^2) [2*y*c^2 + z*c^2 - 3*y*c*e + z*c*e - y*e^2, -2*x*c^2 + 3*x*c*e + x*e^2],\n",
       " (0, 0, 0, 0, 1, 1) [-y + z, x],\n",
       " (0, 0, 0, -c^2 - c*e, c^2 + c*e, -2*c^2 + 3*c*e + e^2) [2*y*c^2 + z*c^2 + t*c^2 - 3*y*c*e + z*c*e + t*c*e - y*e^2, -2*x*c^2 + 3*x*c*e + x*e^2],\n",
       " (0, 0, 0, 1, -1, -1) [y - z - t, -x]]"
      ]
     },
     "execution_count": 30,
     "metadata": {},
     "output_type": "execute_result"
    }
   ],
   "source": [
    "new_lines"
   ]
  },
  {
   "cell_type": "code",
   "execution_count": 31,
   "id": "613ef86e-175b-4a81-924f-c6c823a100b6",
   "metadata": {},
   "outputs": [
    {
     "name": "stdout",
     "output_type": "stream",
     "text": [
      "True True\n",
      "True True\n",
      "True True\n",
      "True True\n"
     ]
    }
   ],
   "source": [
    "for line in new_lines:\n",
    "    print(line.apply_proj(gen1) in new_lines, line.apply_proj(gen2) in new_lines)"
   ]
  },
  {
   "cell_type": "code",
   "execution_count": null,
   "id": "c9f84409-0372-4e95-aef0-12ccccfb329f",
   "metadata": {},
   "outputs": [],
   "source": []
  },
  {
   "cell_type": "code",
   "execution_count": 32,
   "id": "ec8ed3ee-af62-49e6-8e0c-7649704a4d54",
   "metadata": {},
   "outputs": [],
   "source": [
    "adm_perm = SE6.find_admissible_permutations()\n",
    "keys = list(SE6.cl_lines.keys())"
   ]
  },
  {
   "cell_type": "code",
   "execution_count": 33,
   "id": "cad09dd2-1a8b-4bd7-882c-ed6cd42f1a82",
   "metadata": {},
   "outputs": [
    {
     "data": {
      "text/plain": [
       "96"
      ]
     },
     "execution_count": 33,
     "metadata": {},
     "output_type": "execute_result"
    }
   ],
   "source": [
    "len(adm_perm)"
   ]
  },
  {
   "cell_type": "code",
   "execution_count": 34,
   "id": "99e87fa8-7f19-44d9-8e66-0d75ba1e8275",
   "metadata": {},
   "outputs": [],
   "source": [
    "perms_lines = []\n",
    "for simm in simm_SE6:\n",
    "    perms_lines.append(Permutation(apply_proj_to_lines(simm, list(SE6.cl_lines.values()))).to_cycles())"
   ]
  },
  {
   "cell_type": "code",
   "execution_count": 35,
   "id": "c40f70d6-307d-49cf-88ec-7e2aa962843c",
   "metadata": {},
   "outputs": [],
   "source": [
    "Gr = PermutationGroup(perms_lines)"
   ]
  },
  {
   "cell_type": "code",
   "execution_count": 36,
   "id": "7dd314c6-0c12-4388-b153-2eee95e17207",
   "metadata": {},
   "outputs": [
    {
     "data": {
      "text/plain": [
       "24"
      ]
     },
     "execution_count": 36,
     "metadata": {},
     "output_type": "execute_result"
    }
   ],
   "source": [
    "Gr.order()"
   ]
  },
  {
   "cell_type": "code",
   "execution_count": 37,
   "id": "ec16cd1f-9846-45c0-bb9b-3fcf5e00bf52",
   "metadata": {},
   "outputs": [
    {
     "data": {
      "text/plain": [
       "'S4'"
      ]
     },
     "execution_count": 37,
     "metadata": {},
     "output_type": "execute_result"
    }
   ],
   "source": [
    "Gr.structure_description()"
   ]
  },
  {
   "cell_type": "code",
   "execution_count": 38,
   "id": "20fa9287-58b7-4598-b7fe-0f9d3b5b48c5",
   "metadata": {},
   "outputs": [
    {
     "data": {
      "text/plain": [
       "[(1,8,13)(2,10,19)(3,27,9)(4,7,15)(5,24,11)(6,23,12)(14,18,22)(16,20,25)(17,21,26),\n",
       " (1,3,15,22)(2,19)(4,13,14,18)(5,6)(7,27,9,8)(11,23,21,16)(12,24,20,17)(25,26)]"
      ]
     },
     "execution_count": 38,
     "metadata": {},
     "output_type": "execute_result"
    }
   ],
   "source": [
    "Gr.minimal_generating_set()"
   ]
  },
  {
   "cell_type": "code",
   "execution_count": 39,
   "id": "97e83f79-4edc-4145-a443-309b02d8c404",
   "metadata": {},
   "outputs": [
    {
     "data": {
      "text/plain": [
       "[24, 12, 4, 1]"
      ]
     },
     "execution_count": 39,
     "metadata": {},
     "output_type": "execute_result"
    }
   ],
   "source": [
    "[el.order() for el in Gr.normal_subgroups()]"
   ]
  },
  {
   "cell_type": "code",
   "execution_count": null,
   "id": "3f8e4244-ec2d-421a-8127-d151e7a614b5",
   "metadata": {},
   "outputs": [],
   "source": []
  },
  {
   "cell_type": "code",
   "execution_count": null,
   "id": "2a361914-7a03-4152-ad48-1ea4f5a531b9",
   "metadata": {},
   "outputs": [],
   "source": []
  },
  {
   "cell_type": "code",
   "execution_count": null,
   "id": "b2e1b8f4-0134-4135-9904-a136fa25c0c8",
   "metadata": {},
   "outputs": [],
   "source": []
  },
  {
   "cell_type": "code",
   "execution_count": null,
   "id": "3f933c42-f0f2-4df1-815b-4a2330ab055d",
   "metadata": {},
   "outputs": [],
   "source": []
  },
  {
   "cell_type": "code",
   "execution_count": null,
   "id": "152f5a97-4bf7-456a-b3db-97c79fb90bd0",
   "metadata": {},
   "outputs": [],
   "source": []
  },
  {
   "cell_type": "code",
   "execution_count": null,
   "id": "7549381c-b475-48a3-ac7a-e07980238adc",
   "metadata": {},
   "outputs": [],
   "source": []
  },
  {
   "cell_type": "code",
   "execution_count": null,
   "id": "a89358c5-0d8c-4715-823a-af583a9bd12f",
   "metadata": {},
   "outputs": [],
   "source": []
  },
  {
   "cell_type": "code",
   "execution_count": null,
   "id": "45ee4345-31b8-4198-9de5-e7865cad2f34",
   "metadata": {},
   "outputs": [],
   "source": []
  },
  {
   "cell_type": "code",
   "execution_count": 40,
   "id": "24b33a87-b572-4e10-8a32-55f69228c87a",
   "metadata": {},
   "outputs": [],
   "source": [
    "perms_lines = []\n",
    "for simm in simm_SE6:\n",
    "    perm = adm_perm[adm_SE6.index(simm)]\n",
    "    perms_lines.append(Permutation([perm.index(label)+1 for label in keys]).to_cycles())"
   ]
  },
  {
   "cell_type": "code",
   "execution_count": 41,
   "id": "e7d225f7-8f10-47a8-b211-5cca0e937cd4",
   "metadata": {},
   "outputs": [],
   "source": [
    "Gr = PermutationGroup(perms_lines)"
   ]
  },
  {
   "cell_type": "code",
   "execution_count": 42,
   "id": "9f475a96-9d42-43d2-bb8e-2ffdc1e7cd66",
   "metadata": {},
   "outputs": [
    {
     "data": {
      "text/plain": [
       "96"
      ]
     },
     "execution_count": 42,
     "metadata": {},
     "output_type": "execute_result"
    }
   ],
   "source": [
    "Gr.order()"
   ]
  },
  {
   "cell_type": "code",
   "execution_count": 43,
   "id": "5e9d248d-b502-4454-ae4f-df2414d4fdd1",
   "metadata": {},
   "outputs": [
    {
     "data": {
      "text/plain": [
       "[(5,6)(11,12)(16,17)(20,21)(23,24)(25,26),\n",
       " (1,15)(2,19)(4,13)(7,8)(9,27)(11,24)(12,23)(14,18)(16,20)(17,21),\n",
       " (1,8,18,15,4,9)(2,10,19)(3,27,7,22,14,13)(5,16,21,25,24,12)(6,17,20,26,23,11)]"
      ]
     },
     "execution_count": 43,
     "metadata": {},
     "output_type": "execute_result"
    }
   ],
   "source": [
    "Gr.minimal_generating_set()"
   ]
  },
  {
   "cell_type": "code",
   "execution_count": 44,
   "id": "7b147181-0660-46b3-92fa-4d3ffa102169",
   "metadata": {},
   "outputs": [],
   "source": [
    "nor_sub = [el for el in Gr.normal_subgroups() if el.order()==4][0]"
   ]
  },
  {
   "cell_type": "code",
   "execution_count": 45,
   "id": "7eadc19e-9e79-4fd8-83a4-14572d374f29",
   "metadata": {},
   "outputs": [
    {
     "data": {
      "text/plain": [
       "True"
      ]
     },
     "execution_count": 45,
     "metadata": {},
     "output_type": "execute_result"
    }
   ],
   "source": [
    "Gr.quotient(nor_sub).is_isomorphic(SymmetricGroup(4))"
   ]
  },
  {
   "cell_type": "code",
   "execution_count": 46,
   "id": "152c1c01-1b93-4866-ba12-6d186b6025c6",
   "metadata": {},
   "outputs": [],
   "source": [
    "keys = list(SE6.cl_lines.keys())"
   ]
  },
  {
   "cell_type": "code",
   "execution_count": 47,
   "id": "19b57689-2355-469d-aba2-57cab65d3a8b",
   "metadata": {},
   "outputs": [
    {
     "name": "stdout",
     "output_type": "stream",
     "text": [
      "['E1', 'E2', 'E3', 'E4', 'E5', 'E6', 'G1', 'G2', 'G3', 'G4', 'G5', 'G6', 'F12', 'F13', 'F14', 'F15', 'F16', 'F23', 'F24', 'F25', 'F26', 'F34', 'F35', 'F36', 'F45', 'F46', 'F56']\n"
     ]
    }
   ],
   "source": [
    "print(keys)"
   ]
  },
  {
   "cell_type": "code",
   "execution_count": 48,
   "id": "c8f975ef-91f3-4456-903b-8025a4a978d3",
   "metadata": {},
   "outputs": [
    {
     "data": {
      "text/plain": [
       "24"
      ]
     },
     "execution_count": 48,
     "metadata": {},
     "output_type": "execute_result"
    }
   ],
   "source": [
    "len(Gr.cosets(nor_sub))"
   ]
  },
  {
   "cell_type": "code",
   "execution_count": 49,
   "id": "ad339cdf-fdb3-40eb-bada-ac78c451e881",
   "metadata": {},
   "outputs": [],
   "source": [
    "gens = nor_sub.minimal_generating_set()"
   ]
  },
  {
   "cell_type": "code",
   "execution_count": 50,
   "id": "54de8855-561f-4453-acdd-5afa2b712db4",
   "metadata": {},
   "outputs": [],
   "source": [
    "permutations = []\n",
    "for gen in gens:\n",
    "    permutations.append([keys[gen.dict()[key]-1] for key in gen.dict()])"
   ]
  },
  {
   "cell_type": "code",
   "execution_count": 51,
   "id": "d495f450-5974-46fa-9771-5e9b5425a91e",
   "metadata": {},
   "outputs": [
    {
     "name": "stdout",
     "output_type": "stream",
     "text": [
      "[['F14', 'E2', 'F34', 'G2', 'F45', 'F46', 'F12', 'E4', 'F23', 'G4', 'F25', 'F26', 'G1', 'F56', 'E1', 'F36', 'F35', 'G3', 'F24', 'G5', 'G6', 'E3', 'F16', 'F15', 'E5', 'E6', 'F13'], ['E1', 'E2', 'E3', 'E4', 'E6', 'E5', 'G1', 'G2', 'G3', 'G4', 'G6', 'G5', 'F12', 'F13', 'F14', 'F16', 'F15', 'F23', 'F24', 'F26', 'F25', 'F34', 'F36', 'F35', 'F46', 'F45', 'F56']]\n"
     ]
    }
   ],
   "source": [
    "print(permutations)"
   ]
  },
  {
   "cell_type": "code",
   "execution_count": 52,
   "id": "59067c34-b510-4f69-981c-e075cfe1d8d9",
   "metadata": {},
   "outputs": [
    {
     "data": {
      "text/plain": [
       "4"
      ]
     },
     "execution_count": 52,
     "metadata": {},
     "output_type": "execute_result"
    }
   ],
   "source": [
    "nor_sub.order()"
   ]
  },
  {
   "cell_type": "code",
   "execution_count": 53,
   "id": "b2cdc848-3937-41cd-bbe6-aa13c0dab83d",
   "metadata": {},
   "outputs": [
    {
     "data": {
      "text/plain": [
       "[(1,15)(3,22)(4,8)(5,25)(6,26)(7,13)(9,18)(11,20)(12,21)(14,27)(16,24)(17,23),\n",
       " (5,6)(11,12)(16,17)(20,21)(23,24)(25,26)]"
      ]
     },
     "execution_count": 53,
     "metadata": {},
     "output_type": "execute_result"
    }
   ],
   "source": [
    "nor_sub.minimal_generating_set()"
   ]
  },
  {
   "cell_type": "code",
   "execution_count": 54,
   "id": "bd611ea2-0151-44d2-86aa-ca58c76ef703",
   "metadata": {},
   "outputs": [
    {
     "data": {
      "text/plain": [
       "Finitely presented group < a, b | a^2, b^2, (b*a)^2 >"
      ]
     },
     "execution_count": 54,
     "metadata": {},
     "output_type": "execute_result"
    }
   ],
   "source": [
    "nor_sub.as_finitely_presented_group()"
   ]
  },
  {
   "cell_type": "code",
   "execution_count": null,
   "id": "0d14e76d-6217-4b3f-a50e-e3747780cb96",
   "metadata": {},
   "outputs": [],
   "source": []
  },
  {
   "cell_type": "code",
   "execution_count": null,
   "id": "ff7f8b11-1ac3-4dc4-b3b6-5ba354d27123",
   "metadata": {},
   "outputs": [],
   "source": []
  },
  {
   "cell_type": "code",
   "execution_count": null,
   "id": "6239d62c-1b46-4f0e-b907-5b3d49e523eb",
   "metadata": {},
   "outputs": [],
   "source": []
  },
  {
   "cell_type": "code",
   "execution_count": null,
   "id": "6002a58e-542f-4ba6-93ae-3528a7870670",
   "metadata": {},
   "outputs": [],
   "source": []
  },
  {
   "cell_type": "code",
   "execution_count": null,
   "id": "d2fabac0-427e-4564-be37-5f46b965f598",
   "metadata": {},
   "outputs": [],
   "source": []
  }
 ],
 "metadata": {
  "kernelspec": {
   "display_name": "SageMath 9.4",
   "language": "sage",
   "name": "sagemath"
  },
  "language_info": {
   "codemirror_mode": {
    "name": "ipython",
    "version": 3
   },
   "file_extension": ".py",
   "mimetype": "text/x-python",
   "name": "python",
   "nbconvert_exporter": "python",
   "pygments_lexer": "ipython3",
   "version": "3.7.12"
  }
 },
 "nbformat": 4,
 "nbformat_minor": 5
}
