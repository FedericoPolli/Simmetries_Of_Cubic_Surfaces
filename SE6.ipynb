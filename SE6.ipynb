{
 "cells": [
  {
   "cell_type": "code",
   "execution_count": 1,
   "id": "c1b14ef4-0cc5-4cc7-9792-e2ce6fcd97f9",
   "metadata": {},
   "outputs": [],
   "source": [
    "load('Imports/Utility.sage', 'Imports/Point.sage', 'Imports/Line.sage', 'Imports/TritangentPlane.sage', 'Imports/Group.sage', 'Imports/Cubic.sage')\n",
    "import multiprocessing as mp\n",
    "import pickle"
   ]
  },
  {
   "cell_type": "code",
   "execution_count": 2,
   "id": "0c2876bb-4f51-41e1-a5fe-708cedd3086c",
   "metadata": {},
   "outputs": [],
   "source": [
    "P.<x,y,z,t,b,c,d,e,f,l,m> = PolynomialRing(QQ)"
   ]
  },
  {
   "cell_type": "code",
   "execution_count": 3,
   "id": "8ee3af57-dd0c-42a2-b421-5bb580be7468",
   "metadata": {},
   "outputs": [],
   "source": [
    "cubic_new = e*f*(2*x^2*y-2*x*y^2+x*z^2-x*z*t-y*t^2+y*z*t)+b*c*(x-t)*(x*z+y*t)+c*c*(z+t)*(y*t-x*z)+d*c*(y-z)*(x*z+y*t)+(e+f)*c*(x-y)*(y*t-x*z)"
   ]
  },
  {
   "cell_type": "code",
   "execution_count": 4,
   "id": "ec09ef9e-36e1-41e7-9a1f-29d225fc71c7",
   "metadata": {},
   "outputs": [],
   "source": [
    "sing_cubics = (-1) * (-c + f) * (-c + e) * c * (c + f) * (c + e) * (-e + f)^2 * (-c*d + c*f + e*f) * (-c*d + c*e + e*f) * (-c^2 - c*d + e*f) * (b*c - c*f + e*f) * (b*c - c*e + e*f) * (b*c - c*d + 2*e*f) * (b*c - c^2 + e*f) * (b*c^2 + c^2*d + b*c*f - 2*c^2*f - c*d*f + 2*e*f^2) * (b*c^2 + c^2*d + b*c*e - 2*c^2*e - c*d*e + 2*e^2*f) * (-b*c^3 - 2*b*c^2*d + c^3*d + b*c^2*e + c^2*d*e + b*c^2*f + c^2*d*f + 3*b*c*e*f - 4*c^2*e*f - 3*c*d*e*f + 4*e^2*f^2)"
   ]
  },
  {
   "cell_type": "code",
   "execution_count": 5,
   "id": "dedaa196-6d5f-483b-9fe1-0dd060ed4366",
   "metadata": {},
   "outputs": [],
   "source": [
    "line = Line([y, z])"
   ]
  },
  {
   "cell_type": "code",
   "execution_count": 6,
   "id": "95dc17c9-a062-4a8a-9549-2ba6e8983bb3",
   "metadata": {},
   "outputs": [],
   "source": [
    "general_cubic = Cubic(cubic_new, line, sing_cubics)"
   ]
  },
  {
   "cell_type": "code",
   "execution_count": 7,
   "id": "db020829-f64e-4776-92bf-5c182258aea2",
   "metadata": {},
   "outputs": [],
   "source": [
    "SE6 = general_cubic.subs({b:-(c*c+e*f)/c, d:(3*e*f - c^2 + c*f + c*e)/(2*c)}).subs({f: -c*(5*c+e)/(c+e)})"
   ]
  },
  {
   "cell_type": "code",
   "execution_count": 8,
   "id": "4c67073c-a9de-4882-b83e-369c9020e9a0",
   "metadata": {},
   "outputs": [
    {
     "name": "stdout",
     "output_type": "stream",
     "text": [
      "CPU times: user 410 ms, sys: 137 ms, total: 547 ms\n",
      "Wall time: 1.1 s\n"
     ]
    }
   ],
   "source": [
    "%time adm_SE6 = SE6.find_admissible_projectivities()"
   ]
  },
  {
   "cell_type": "code",
   "execution_count": 9,
   "id": "dc403396-2fd1-4eaa-9302-d9855aa4ce6a",
   "metadata": {},
   "outputs": [
    {
     "data": {
      "text/plain": [
       "48"
      ]
     },
     "execution_count": 9,
     "metadata": {},
     "output_type": "execute_result"
    }
   ],
   "source": [
    "len(adm_SE6)"
   ]
  },
  {
   "cell_type": "code",
   "execution_count": 10,
   "id": "0158c5ef-2303-4d73-8d17-d5354d4646a2",
   "metadata": {},
   "outputs": [
    {
     "name": "stdout",
     "output_type": "stream",
     "text": [
      "CPU times: user 305 ms, sys: 73 ms, total: 378 ms\n",
      "Wall time: 442 ms\n"
     ]
    }
   ],
   "source": [
    "%time simm_SE6 = SE6.find_simmetries(adm_SE6)"
   ]
  },
  {
   "cell_type": "code",
   "execution_count": 11,
   "id": "3b2de368-2b74-4c39-81bd-99bd5bbdae1f",
   "metadata": {},
   "outputs": [
    {
     "data": {
      "text/plain": [
       "24"
      ]
     },
     "execution_count": 11,
     "metadata": {},
     "output_type": "execute_result"
    }
   ],
   "source": [
    "len(simm_SE6)"
   ]
  },
  {
   "cell_type": "code",
   "execution_count": 12,
   "id": "997d544f-afea-4050-95af-dfa504eb3489",
   "metadata": {},
   "outputs": [
    {
     "data": {
      "text/plain": [
       "[]"
      ]
     },
     "execution_count": 12,
     "metadata": {},
     "output_type": "execute_result"
    }
   ],
   "source": [
    "SE6.find_conditions_for_subfamilies(adm_SE6, simm_SE6)"
   ]
  },
  {
   "cell_type": "code",
   "execution_count": 13,
   "id": "821ab7ad-58dc-4623-8cf9-f9aa7f73af18",
   "metadata": {},
   "outputs": [],
   "source": [
    "perms = []\n",
    "for el in simm_SE6:\n",
    "    perms.append(Permutation(SE6.apply_proj_to_eck(el)).to_cycles())"
   ]
  },
  {
   "cell_type": "code",
   "execution_count": 14,
   "id": "d05888f2-4970-4874-890b-78275df34f89",
   "metadata": {},
   "outputs": [],
   "source": [
    "gp = PermutationGroup(perms)"
   ]
  },
  {
   "cell_type": "code",
   "execution_count": 15,
   "id": "2f801bfc-7829-4562-96fb-76fed740e7ad",
   "metadata": {},
   "outputs": [
    {
     "data": {
      "text/plain": [
       "24"
      ]
     },
     "execution_count": 15,
     "metadata": {},
     "output_type": "execute_result"
    }
   ],
   "source": [
    "gp.order()"
   ]
  },
  {
   "cell_type": "code",
   "execution_count": 16,
   "id": "143cf288-34a9-487c-a36b-cb3f6a6e3b41",
   "metadata": {},
   "outputs": [
    {
     "data": {
      "text/plain": [
       "'S4'"
      ]
     },
     "execution_count": 16,
     "metadata": {},
     "output_type": "execute_result"
    }
   ],
   "source": [
    "gp.structure_description()"
   ]
  },
  {
   "cell_type": "code",
   "execution_count": 17,
   "id": "55b95fba-f524-4abd-abbe-b2bd8addc6b0",
   "metadata": {},
   "outputs": [],
   "source": [
    "nperms = [[cycle for cycle in perm if len(cycle)>1] for perm in perms]"
   ]
  },
  {
   "cell_type": "code",
   "execution_count": 18,
   "id": "08186694-3c9a-4c5d-bcba-c9f2224507e1",
   "metadata": {},
   "outputs": [
    {
     "name": "stdout",
     "output_type": "stream",
     "text": [
      "13\n",
      "14\n"
     ]
    }
   ],
   "source": [
    "for gen in gp.minimal_generating_set():\n",
    "    print(nperms.index(gen.cycle_tuples()))"
   ]
  },
  {
   "cell_type": "code",
   "execution_count": 20,
   "id": "b57a25d8-fda5-4f10-99d2-e8e15b9d9201",
   "metadata": {},
   "outputs": [],
   "source": [
    "gen1 = simm_SE6[13]\n",
    "gen2 = simm_SE6[14]"
   ]
  },
  {
   "cell_type": "code",
   "execution_count": 21,
   "id": "80819041-942f-406d-93f0-5d96e448a4c3",
   "metadata": {},
   "outputs": [],
   "source": [
    "eck_labels = SE6.eckardt_points_labels"
   ]
  },
  {
   "cell_type": "code",
   "execution_count": 22,
   "id": "ec4493a1-0a46-425f-9414-a358f56ae7a0",
   "metadata": {},
   "outputs": [],
   "source": [
    "eck = SE6.eckardt_points"
   ]
  },
  {
   "cell_type": "code",
   "execution_count": 23,
   "id": "1814f12b-4928-4f4b-80c0-01a50bfbbb76",
   "metadata": {},
   "outputs": [
    {
     "name": "stdout",
     "output_type": "stream",
     "text": [
      "['E1', 'G4', 'F14'] ['E2', 'G1', 'F12'] ['E4', 'G2', 'F24']\n",
      "['E1', 'G4', 'F14'] ['E2', 'G3', 'F23'] ['F13', 'F24', 'F56']\n",
      "['E2', 'G1', 'F12'] ['E3', 'G4', 'F34'] ['F13', 'F24', 'F56']\n",
      "['E2', 'G3', 'F23'] ['E3', 'G4', 'F34'] ['E4', 'G2', 'F24']\n"
     ]
    }
   ],
   "source": [
    "for i in range(4):\n",
    "    for j in range(i+1, 5):\n",
    "        for k in range(j+1, 6):\n",
    "            point1 = eck[i]\n",
    "            point2 = eck[j]\n",
    "            point3 = eck[k]\n",
    "            if matrix([point1, point2, point3]).minors(3) == [0,0,0,0]:\n",
    "                print(eck_labels[i], eck_labels[j], eck_labels[k])"
   ]
  },
  {
   "cell_type": "code",
   "execution_count": 24,
   "id": "09fd4e6b-7a42-4022-83f3-2c1f450151c8",
   "metadata": {},
   "outputs": [],
   "source": [
    "new_lines = []\n",
    "lines_plucker = [line.plucker for line in SE6.lines]\n",
    "for i in range(len(eck)):\n",
    "    point1 = eck[i]\n",
    "    for j in range(i+1, len(eck)):\n",
    "        point2 = eck[j]\n",
    "        new_line_plucker = Point(matrix([point1, point2]).minors(2))\n",
    "        if new_line_plucker not in lines_plucker and new_line_plucker not in [line.plucker for line in new_lines]:\n",
    "            planes = get_planes(new_line_plucker)\n",
    "            new_lines.append(Line(planes, [point1, point2], new_line_plucker))"
   ]
  },
  {
   "cell_type": "code",
   "execution_count": 25,
   "id": "613ef86e-175b-4a81-924f-c6c823a100b6",
   "metadata": {},
   "outputs": [
    {
     "name": "stdout",
     "output_type": "stream",
     "text": [
      "True True\n",
      "True True\n",
      "True True\n",
      "True True\n"
     ]
    }
   ],
   "source": [
    "for line in new_lines:\n",
    "    print(line.apply_proj(gen1) in new_lines, line.apply_proj(gen2) in new_lines)"
   ]
  },
  {
   "cell_type": "code",
   "execution_count": null,
   "id": "80f408a3-3e67-4fc5-a6dc-8d663aab7397",
   "metadata": {},
   "outputs": [],
   "source": []
  },
  {
   "cell_type": "code",
   "execution_count": 26,
   "id": "c9f84409-0372-4e95-aef0-12ccccfb329f",
   "metadata": {},
   "outputs": [],
   "source": [
    "keys = list(SE6.cl_lines.keys())"
   ]
  },
  {
   "cell_type": "code",
   "execution_count": 27,
   "id": "99e87fa8-7f19-44d9-8e66-0d75ba1e8275",
   "metadata": {},
   "outputs": [],
   "source": [
    "perms_lines = []\n",
    "for simm in simm_SE6:\n",
    "    perms_lines.append(Permutation(SE6.apply_proj_to_lines(simm)).to_cycles())"
   ]
  },
  {
   "cell_type": "code",
   "execution_count": 28,
   "id": "c40f70d6-307d-49cf-88ec-7e2aa962843c",
   "metadata": {},
   "outputs": [],
   "source": [
    "Gr = PermutationGroup(perms_lines)"
   ]
  },
  {
   "cell_type": "code",
   "execution_count": 29,
   "id": "7dd314c6-0c12-4388-b153-2eee95e17207",
   "metadata": {},
   "outputs": [
    {
     "data": {
      "text/plain": [
       "24"
      ]
     },
     "execution_count": 29,
     "metadata": {},
     "output_type": "execute_result"
    }
   ],
   "source": [
    "Gr.order()"
   ]
  },
  {
   "cell_type": "code",
   "execution_count": 30,
   "id": "ec16cd1f-9846-45c0-bb9b-3fcf5e00bf52",
   "metadata": {},
   "outputs": [
    {
     "data": {
      "text/plain": [
       "'S4'"
      ]
     },
     "execution_count": 30,
     "metadata": {},
     "output_type": "execute_result"
    }
   ],
   "source": [
    "Gr.structure_description()"
   ]
  },
  {
   "cell_type": "code",
   "execution_count": 31,
   "id": "20fa9287-58b7-4598-b7fe-0f9d3b5b48c5",
   "metadata": {},
   "outputs": [
    {
     "data": {
      "text/plain": [
       "[(1,8,13)(2,10,19)(3,27,9)(4,7,15)(5,24,11)(6,23,12)(14,18,22)(16,20,25)(17,21,26),\n",
       " (1,3,15,22)(2,19)(4,13,14,18)(5,6)(7,27,9,8)(11,23,21,16)(12,24,20,17)(25,26)]"
      ]
     },
     "execution_count": 31,
     "metadata": {},
     "output_type": "execute_result"
    }
   ],
   "source": [
    "Gr.minimal_generating_set()"
   ]
  },
  {
   "cell_type": "code",
   "execution_count": 32,
   "id": "97e83f79-4edc-4145-a443-309b02d8c404",
   "metadata": {},
   "outputs": [
    {
     "data": {
      "text/plain": [
       "[24, 12, 4, 1]"
      ]
     },
     "execution_count": 32,
     "metadata": {},
     "output_type": "execute_result"
    }
   ],
   "source": [
    "[el.order() for el in Gr.normal_subgroups()]"
   ]
  },
  {
   "cell_type": "code",
   "execution_count": null,
   "id": "b2e1b8f4-0134-4135-9904-a136fa25c0c8",
   "metadata": {},
   "outputs": [],
   "source": []
  },
  {
   "cell_type": "code",
   "execution_count": null,
   "id": "3f933c42-f0f2-4df1-815b-4a2330ab055d",
   "metadata": {},
   "outputs": [],
   "source": []
  }
 ],
 "metadata": {
  "kernelspec": {
   "display_name": "SageMath 9.4",
   "language": "sage",
   "name": "sagemath"
  },
  "language_info": {
   "codemirror_mode": {
    "name": "ipython",
    "version": 3
   },
   "file_extension": ".py",
   "mimetype": "text/x-python",
   "name": "python",
   "nbconvert_exporter": "python",
   "pygments_lexer": "ipython3",
   "version": "3.7.12"
  }
 },
 "nbformat": 4,
 "nbformat_minor": 5
}
