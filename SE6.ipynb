{
 "cells": [
  {
   "cell_type": "code",
   "execution_count": 2,
   "id": "c1b14ef4-0cc5-4cc7-9792-e2ce6fcd97f9",
   "metadata": {},
   "outputs": [],
   "source": [
    "load('Imports/Utility.sage', 'Imports/Point.sage', 'Imports/Line.sage', 'Imports/Tritangent_plane.sage', 'Imports/Group.sage', 'Imports/Cubic.sage')\n",
    "import multiprocessing as mp\n",
    "import pickle"
   ]
  },
  {
   "cell_type": "code",
   "execution_count": 3,
   "id": "0c2876bb-4f51-41e1-a5fe-708cedd3086c",
   "metadata": {},
   "outputs": [],
   "source": [
    "P.<x,y,z,t,b,c,d,e,f,l,m> = PolynomialRing(QQ)"
   ]
  },
  {
   "cell_type": "code",
   "execution_count": 4,
   "id": "8ee3af57-dd0c-42a2-b421-5bb580be7468",
   "metadata": {},
   "outputs": [],
   "source": [
    "cubic_new = e*f*(2*x^2*y-2*x*y^2+x*z^2-x*z*t-y*t^2+y*z*t)+b*c*(x-t)*(x*z+y*t)+c*c*(z+t)*(y*t-x*z)+d*c*(y-z)*(x*z+y*t)+(e+f)*c*(x-y)*(y*t-x*z)"
   ]
  },
  {
   "cell_type": "code",
   "execution_count": 5,
   "id": "ec09ef9e-36e1-41e7-9a1f-29d225fc71c7",
   "metadata": {},
   "outputs": [],
   "source": [
    "sing_cubics = (-1) * (-c + f) * (-c + e) * c * (c + f) * (c + e) * (-e + f)^2 * (-c*d + c*f + e*f) * (-c*d + c*e + e*f) * (-c^2 - c*d + e*f) * (b*c - c*f + e*f) * (b*c - c*e + e*f) * (b*c - c*d + 2*e*f) * (b*c - c^2 + e*f) * (b*c^2 + c^2*d + b*c*f - 2*c^2*f - c*d*f + 2*e*f^2) * (b*c^2 + c^2*d + b*c*e - 2*c^2*e - c*d*e + 2*e^2*f) * (-b*c^3 - 2*b*c^2*d + c^3*d + b*c^2*e + c^2*d*e + b*c^2*f + c^2*d*f + 3*b*c*e*f - 4*c^2*e*f - 3*c*d*e*f + 4*e^2*f^2)"
   ]
  },
  {
   "cell_type": "code",
   "execution_count": 6,
   "id": "dedaa196-6d5f-483b-9fe1-0dd060ed4366",
   "metadata": {},
   "outputs": [],
   "source": [
    "line = Line([y, z])"
   ]
  },
  {
   "cell_type": "code",
   "execution_count": 7,
   "id": "69422729-9931-4b33-811b-62e0070045c8",
   "metadata": {},
   "outputs": [],
   "source": [
    "eqn_SE1 = P(cubic_new.subs({b:-(c*c+e*f)/c }) )\n",
    "sing_cubics_SE1 = P(sing_cubics.subs({b:-(c*c+e*f)/c }))"
   ]
  },
  {
   "cell_type": "code",
   "execution_count": 8,
   "id": "d7fb4e21-a049-40c3-913c-60a74a62decd",
   "metadata": {},
   "outputs": [],
   "source": [
    "eqn_SE3 = P(2*eqn_SE1.subs({d:(3*e*f - c^2 + c*f + c*e)/(2*c)}) )\n",
    "sing_cubics_SE3 = P(sing_cubics_SE1.subs({d:(3*e*f - c^2 + c*f + c*e)/(2*c)}))"
   ]
  },
  {
   "cell_type": "code",
   "execution_count": 9,
   "id": "33197f65-ba86-4d6c-aae6-7de6649d347e",
   "metadata": {},
   "outputs": [],
   "source": [
    "eqn_SE6 = P((c+e)*eqn_SE3.subs({f: -c*(5*c+e)/(c+e)})/(4*c))\n",
    "sing_cubics_SE6 = P((c+e)^6*sing_cubics_SE3.subs({f: -c*(5*c+e)/(c+e)}))"
   ]
  },
  {
   "cell_type": "code",
   "execution_count": 10,
   "id": "dc50bec0-d8e7-4b38-a239-2a15df2956fb",
   "metadata": {},
   "outputs": [],
   "source": [
    "SE6 = Cubic(eqn_SE6, line, sing_cubics_SE6.factor())"
   ]
  },
  {
   "cell_type": "code",
   "execution_count": 11,
   "id": "ecbebc88-10f1-4738-b457-2e4bb5f2b1e4",
   "metadata": {},
   "outputs": [
    {
     "data": {
      "text/plain": [
       "[(0, 0, 0, 1),\n",
       " (0, -c^2 - c*e, 2*c^2 - 3*c*e - e^2, 0),\n",
       " (0, 1, 1, 0),\n",
       " (0, 0, 1, -1),\n",
       " (0, c^2 + c*e, -2*c^2 + 3*c*e + e^2, 3*c^2 - 2*c*e - e^2),\n",
       " (0, c^2 + c*e, c^2 + c*e, -3*c^2 + 2*c*e + e^2)]"
      ]
     },
     "execution_count": 11,
     "metadata": {},
     "output_type": "execute_result"
    }
   ],
   "source": [
    "SE6.eckardt_points"
   ]
  },
  {
   "cell_type": "code",
   "execution_count": 12,
   "id": "cc12de7d-a2e6-455e-95b2-3cb910897509",
   "metadata": {},
   "outputs": [
    {
     "name": "stdout",
     "output_type": "stream",
     "text": [
      "CPU times: user 715 ms, sys: 191 ms, total: 907 ms\n",
      "Wall time: 1.87 s\n"
     ]
    }
   ],
   "source": [
    "%time adm_SE6 = SE6.find_admissible_projectivities()"
   ]
  },
  {
   "cell_type": "code",
   "execution_count": 13,
   "id": "e6052ba9-4d9a-4776-a8a0-ab7cc0d1b52c",
   "metadata": {},
   "outputs": [
    {
     "data": {
      "text/plain": [
       "48"
      ]
     },
     "execution_count": 13,
     "metadata": {},
     "output_type": "execute_result"
    }
   ],
   "source": [
    "len(adm_SE6)"
   ]
  },
  {
   "cell_type": "code",
   "execution_count": 14,
   "id": "0158c5ef-2303-4d73-8d17-d5354d4646a2",
   "metadata": {},
   "outputs": [
    {
     "name": "stdout",
     "output_type": "stream",
     "text": [
      "CPU times: user 39.6 ms, sys: 61.6 ms, total: 101 ms\n",
      "Wall time: 155 ms\n"
     ]
    }
   ],
   "source": [
    "%time simm_SE6 = SE6.find_simmetries(adm_SE6)"
   ]
  },
  {
   "cell_type": "code",
   "execution_count": 15,
   "id": "3b2de368-2b74-4c39-81bd-99bd5bbdae1f",
   "metadata": {},
   "outputs": [
    {
     "data": {
      "text/plain": [
       "24"
      ]
     },
     "execution_count": 15,
     "metadata": {},
     "output_type": "execute_result"
    }
   ],
   "source": [
    "len(simm_SE6)"
   ]
  },
  {
   "cell_type": "code",
   "execution_count": 16,
   "id": "7cca8403-313c-4568-b58d-3004dbcb4a9f",
   "metadata": {},
   "outputs": [],
   "source": [
    "G_SE6 = Group(simm_SE6)"
   ]
  },
  {
   "cell_type": "code",
   "execution_count": 17,
   "id": "b12c9b18-eacf-43af-97c1-d43425d5630c",
   "metadata": {},
   "outputs": [
    {
     "data": {
      "text/plain": [
       "True"
      ]
     },
     "execution_count": 17,
     "metadata": {},
     "output_type": "execute_result"
    }
   ],
   "source": [
    "G_SE6.is_group()"
   ]
  },
  {
   "cell_type": "code",
   "execution_count": 18,
   "id": "5e04ede8-c4d7-42dd-908a-658b0bd980d9",
   "metadata": {},
   "outputs": [
    {
     "data": {
      "text/plain": [
       "24"
      ]
     },
     "execution_count": 18,
     "metadata": {},
     "output_type": "execute_result"
    }
   ],
   "source": [
    "G_SE6.get_order()"
   ]
  },
  {
   "cell_type": "code",
   "execution_count": 19,
   "id": "1a42f291-d628-4642-bc28-962430177d4b",
   "metadata": {},
   "outputs": [
    {
     "data": {
      "text/plain": [
       "False"
      ]
     },
     "execution_count": 19,
     "metadata": {},
     "output_type": "execute_result"
    }
   ],
   "source": [
    "G_SE6.is_abelian()"
   ]
  },
  {
   "cell_type": "code",
   "execution_count": 20,
   "id": "facb4671-141e-4b05-ab43-772809f33d54",
   "metadata": {},
   "outputs": [
    {
     "data": {
      "text/plain": [
       "[1, 2, 3, 4, 6, 8, 12, 24]"
      ]
     },
     "execution_count": 20,
     "metadata": {},
     "output_type": "execute_result"
    }
   ],
   "source": [
    "G_SE6.get_divisors_of_order()"
   ]
  },
  {
   "cell_type": "code",
   "execution_count": 21,
   "id": "0d7e9f01-6a0d-4e45-a0c8-a636db4a418c",
   "metadata": {},
   "outputs": [
    {
     "data": {
      "text/plain": [
       "[1, 2, 2, 4, 4, 3, 4, 3, 2, 3, 2, 3, 2, 3, 2, 3, 2, 2, 4, 3, 2, 4, 4, 3]"
      ]
     },
     "execution_count": 21,
     "metadata": {},
     "output_type": "execute_result"
    }
   ],
   "source": [
    "G_SE6.get_order_of_elements()"
   ]
  },
  {
   "cell_type": "code",
   "execution_count": 22,
   "id": "0faf5d08-60ba-4530-9f11-f243ff903c64",
   "metadata": {},
   "outputs": [
    {
     "data": {
      "text/plain": [
       "[]"
      ]
     },
     "execution_count": 22,
     "metadata": {},
     "output_type": "execute_result"
    }
   ],
   "source": [
    "find_conditions_for_subfamilies(SE6, sing_cubics_SE6, adm_SE6, simm_SE6)"
   ]
  },
  {
   "cell_type": "code",
   "execution_count": 23,
   "id": "9c327455-e174-4343-8e33-313ec7f5c1d5",
   "metadata": {},
   "outputs": [],
   "source": [
    "def apply_proj_to_eck(proj, eck):\n",
    "    new_indices = []\n",
    "    for i in range(len(eck)):\n",
    "        new_indices.append(eck.index(eck[i]*proj)+1)\n",
    "    return new_indices"
   ]
  },
  {
   "cell_type": "code",
   "execution_count": 25,
   "id": "821ab7ad-58dc-4623-8cf9-f9aa7f73af18",
   "metadata": {},
   "outputs": [],
   "source": [
    "perms = []\n",
    "for el in G_SE6:\n",
    "    perms.append(Permutation(apply_proj_to_eck(el, SE6.eckardt_points)).to_cycles())"
   ]
  },
  {
   "cell_type": "code",
   "execution_count": 26,
   "id": "0d7e21dd-7097-4f27-af7c-03dfb418ec2e",
   "metadata": {},
   "outputs": [
    {
     "data": {
      "text/plain": [
       "[[(1,), (2,), (3,), (4,), (5,), (6,)],\n",
       " [(1,), (2, 5), (3, 6), (4,)],\n",
       " [(1, 4), (2,), (3,), (5, 6)],\n",
       " [(1, 4), (2, 6, 3, 5)],\n",
       " [(1, 5, 4, 6), (2, 3)],\n",
       " [(1, 5, 3), (2, 4, 6)],\n",
       " [(1, 2, 4, 3), (5, 6)],\n",
       " [(1, 2, 6), (3, 5, 4)],\n",
       " [(1, 5), (2,), (3,), (4, 6)],\n",
       " [(1, 5, 2), (3, 4, 6)],\n",
       " [(1, 3), (2, 4), (5,), (6,)],\n",
       " [(1, 3, 6), (2, 5, 4)],\n",
       " [(1, 2), (3, 4), (5,), (6,)],\n",
       " [(1, 2, 5), (3, 6, 4)],\n",
       " [(1, 6), (2,), (3,), (4, 5)],\n",
       " [(1, 6, 3), (2, 4, 5)],\n",
       " [(1,), (2, 3), (4,), (5, 6)],\n",
       " [(1,), (2, 6), (3, 5), (4,)],\n",
       " [(1, 3, 4, 2), (5, 6)],\n",
       " [(1, 3, 5), (2, 6, 4)],\n",
       " [(1, 4), (2, 3), (5,), (6,)],\n",
       " [(1, 4), (2, 5, 3, 6)],\n",
       " [(1, 6, 4, 5), (2, 3)],\n",
       " [(1, 6, 2), (3, 4, 5)]]"
      ]
     },
     "execution_count": 26,
     "metadata": {},
     "output_type": "execute_result"
    }
   ],
   "source": [
    "perms"
   ]
  },
  {
   "cell_type": "code",
   "execution_count": 27,
   "id": "143cf288-34a9-487c-a36b-cb3f6a6e3b41",
   "metadata": {},
   "outputs": [
    {
     "data": {
      "text/plain": [
       "24"
      ]
     },
     "execution_count": 27,
     "metadata": {},
     "output_type": "execute_result"
    }
   ],
   "source": [
    "PermutationGroup(perms).order()"
   ]
  },
  {
   "cell_type": "code",
   "execution_count": 28,
   "id": "feaa6c96-21dd-44b6-9e9a-393642e51e9e",
   "metadata": {},
   "outputs": [
    {
     "data": {
      "text/plain": [
       "[['E1', 'G4', 'F14'],\n",
       " ['E2', 'G1', 'F12'],\n",
       " ['E2', 'G3', 'F23'],\n",
       " ['E3', 'G4', 'F34'],\n",
       " ['E4', 'G2', 'F24'],\n",
       " ['F13', 'F24', 'F56']]"
      ]
     },
     "execution_count": 28,
     "metadata": {},
     "output_type": "execute_result"
    }
   ],
   "source": [
    "[pl.labels for pl in SE6.tritangent_planes if pl.conditions == 0]"
   ]
  },
  {
   "cell_type": "code",
   "execution_count": 32,
   "id": "f5c32dd2-5655-43c6-b4c9-40f8464ae773",
   "metadata": {},
   "outputs": [],
   "source": [
    "projs = SE6.find_admissible_projectivities()"
   ]
  },
  {
   "cell_type": "code",
   "execution_count": 34,
   "id": "d70691c5-52f3-41ef-8cf1-ebf694329c09",
   "metadata": {},
   "outputs": [
    {
     "data": {
      "text/plain": [
       "47"
      ]
     },
     "execution_count": 34,
     "metadata": {},
     "output_type": "execute_result"
    }
   ],
   "source": [
    "projs.index(simm_SE6[-1])"
   ]
  },
  {
   "cell_type": "code",
   "execution_count": 39,
   "id": "edab2c22-beef-43db-b490-49d015347f04",
   "metadata": {},
   "outputs": [],
   "source": [
    "adm_perm = SE6.find_admissible_permutations()[0]"
   ]
  },
  {
   "cell_type": "code",
   "execution_count": 49,
   "id": "092df1c6-7cf4-4b80-8fd2-d0b37c9b84a7",
   "metadata": {},
   "outputs": [],
   "source": [
    "simm_perm = []\n",
    "for i in range(len(simm_SE6)):\n",
    "    simm_perm.append(adm_perm[projs.index(simm_SE6[i])])"
   ]
  },
  {
   "cell_type": "code",
   "execution_count": 50,
   "id": "dc1b3e39-3d1c-426d-baba-0beb0773b8d8",
   "metadata": {},
   "outputs": [
    {
     "data": {
      "text/plain": [
       "24"
      ]
     },
     "execution_count": 50,
     "metadata": {},
     "output_type": "execute_result"
    }
   ],
   "source": [
    "len(simm_perm)"
   ]
  },
  {
   "cell_type": "code",
   "execution_count": 51,
   "id": "d845dd1b-b3f4-419a-b840-691443d01522",
   "metadata": {},
   "outputs": [
    {
     "data": {
      "text/plain": [
       "[1 0 0 0]\n",
       "[0 1 0 0]\n",
       "[0 0 1 0]\n",
       "[0 0 0 1]"
      ]
     },
     "execution_count": 51,
     "metadata": {},
     "output_type": "execute_result"
    }
   ],
   "source": [
    "simm_SE6[0]"
   ]
  },
  {
   "cell_type": "code",
   "execution_count": null,
   "id": "08186694-3c9a-4c5d-bcba-c9f2224507e1",
   "metadata": {},
   "outputs": [],
   "source": []
  }
 ],
 "metadata": {
  "kernelspec": {
   "display_name": "SageMath 9.3",
   "language": "sage",
   "name": "sagemath"
  },
  "language_info": {
   "codemirror_mode": {
    "name": "ipython",
    "version": 3
   },
   "file_extension": ".py",
   "mimetype": "text/x-python",
   "name": "python",
   "nbconvert_exporter": "python",
   "pygments_lexer": "ipython3",
   "version": "3.7.10"
  }
 },
 "nbformat": 4,
 "nbformat_minor": 5
}
