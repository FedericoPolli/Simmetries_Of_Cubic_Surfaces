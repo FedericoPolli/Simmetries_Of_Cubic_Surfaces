{
 "cells": [
  {
   "cell_type": "code",
   "execution_count": 1,
   "id": "27d36904-76d4-4925-afb3-5120334c333d",
   "metadata": {},
   "outputs": [],
   "source": [
    "load('Imports/Utility.sage', 'Imports/Point.sage', 'Imports/Line.sage', 'Imports/TritangentPlane.sage', 'Imports/Group.sage', 'Imports/Cubic.sage')\n",
    "import multiprocessing as mp\n",
    "import pickle"
   ]
  },
  {
   "cell_type": "code",
   "execution_count": 2,
   "id": "3944e48d-08c7-487d-821e-ae82f4f3806b",
   "metadata": {},
   "outputs": [],
   "source": [
    "var('xx')\n",
    "Q.<i> = NumberField(xx^2 + 1)\n",
    "P.<x,y,z,t,b,c,d,e,f,l,m> = PolynomialRing(Q)"
   ]
  },
  {
   "cell_type": "code",
   "execution_count": 3,
   "id": "16353e0d-ab39-4fc9-ac3e-6253dbc82cac",
   "metadata": {},
   "outputs": [
    {
     "name": "stdout",
     "output_type": "stream",
     "text": [
      "CPU times: user 2.56 ms, sys: 417 µs, total: 2.98 ms\n",
      "Wall time: 2.8 ms\n"
     ]
    }
   ],
   "source": [
    "%%time \n",
    "eqn = (-4*i - 2)*z*c^4*f + (-2*i - 1)*t*c^4*f + (-2*i - 1)*x*c^3*f^2 + (4*i + 2)*y*c^3*f^2 + (4*i)*z*c^3*f^2 - t*c^3*f^2 - x*c^2*f^3 + (-4*i)*y*c^2*f^3 + 2*z*c^2*f^3 + (2*i + 1)*t*c^2*f^3 + (2*i + 1)*x*c*f^4 - 2*y*c*f^4 + t*c*f^4 + x*f^5"
   ]
  },
  {
   "cell_type": "code",
   "execution_count": 5,
   "id": "4957535b-f3b5-4171-93d5-000bd68a81ac",
   "metadata": {},
   "outputs": [
    {
     "ename": "KeyboardInterrupt",
     "evalue": "",
     "output_type": "error",
     "traceback": [
      "\u001b[0;31m---------------------------------------------------------------------------\u001b[0m",
      "\u001b[0;31mKeyboardInterrupt\u001b[0m                         Traceback (most recent call last)",
      "\u001b[0;32m<ipython-input-5-9b9c84282f04>\u001b[0m in \u001b[0;36m<module>\u001b[0;34m\u001b[0m\n\u001b[0;32m----> 1\u001b[0;31m \u001b[0meqn\u001b[0m\u001b[0;34m.\u001b[0m\u001b[0mfactor\u001b[0m\u001b[0;34m(\u001b[0m\u001b[0;34m)\u001b[0m\u001b[0;34m\u001b[0m\u001b[0;34m\u001b[0m\u001b[0m\n\u001b[0m",
      "\u001b[0;32m~/anaconda3/envs/sage/lib/python3.7/site-packages/sage/rings/polynomial/multi_polynomial_libsingular.pyx\u001b[0m in \u001b[0;36msage.rings.polynomial.multi_polynomial_libsingular.MPolynomial_libsingular.factor (build/cythonized/sage/rings/polynomial/multi_polynomial_libsingular.cpp:34773)\u001b[0;34m()\u001b[0m\n\u001b[1;32m   4465\u001b[0m         \u001b[0mptemp\u001b[0m \u001b[0;34m=\u001b[0m \u001b[0mp_Copy\u001b[0m\u001b[0;34m(\u001b[0m\u001b[0mself\u001b[0m\u001b[0;34m.\u001b[0m\u001b[0m_poly\u001b[0m\u001b[0;34m,\u001b[0m\u001b[0m_ring\u001b[0m\u001b[0;34m)\u001b[0m\u001b[0;34m\u001b[0m\u001b[0;34m\u001b[0m\u001b[0m\n\u001b[1;32m   4466\u001b[0m         \u001b[0miv\u001b[0m \u001b[0;34m=\u001b[0m \u001b[0mNULL\u001b[0m\u001b[0;34m\u001b[0m\u001b[0;34m\u001b[0m\u001b[0m\n\u001b[0;32m-> 4467\u001b[0;31m         \u001b[0msig_on\u001b[0m\u001b[0;34m(\u001b[0m\u001b[0;34m)\u001b[0m\u001b[0;34m\u001b[0m\u001b[0;34m\u001b[0m\u001b[0m\n\u001b[0m\u001b[1;32m   4468\u001b[0m         \u001b[0;32mif\u001b[0m \u001b[0m_ring\u001b[0m\u001b[0;34m!=\u001b[0m\u001b[0mcurrRing\u001b[0m\u001b[0;34m:\u001b[0m \u001b[0mrChangeCurrRing\u001b[0m\u001b[0;34m(\u001b[0m\u001b[0m_ring\u001b[0m\u001b[0;34m)\u001b[0m   \u001b[0;31m# singclap_factorize\u001b[0m\u001b[0;34m\u001b[0m\u001b[0;34m\u001b[0m\u001b[0m\n\u001b[1;32m   4469\u001b[0m         \u001b[0mI\u001b[0m \u001b[0;34m=\u001b[0m \u001b[0msingclap_factorize\u001b[0m \u001b[0;34m(\u001b[0m \u001b[0mptemp\u001b[0m\u001b[0;34m,\u001b[0m \u001b[0;34m&\u001b[0m\u001b[0miv\u001b[0m \u001b[0;34m,\u001b[0m \u001b[0;36m0\u001b[0m\u001b[0;34m,\u001b[0m \u001b[0m_ring\u001b[0m\u001b[0;34m)\u001b[0m\u001b[0;34m\u001b[0m\u001b[0;34m\u001b[0m\u001b[0m\n",
      "\u001b[0;31mKeyboardInterrupt\u001b[0m: "
     ]
    }
   ],
   "source": [
    "eqn.factor()"
   ]
  },
  {
   "cell_type": "code",
   "execution_count": 7,
   "id": "33f2134f-4eeb-4001-b4e6-c9a3d50d62f6",
   "metadata": {},
   "outputs": [
    {
     "data": {
      "text/plain": [
       "((-4/5*i - 2/5)) * f * (c - f) * (z*c^2 + 1/2*t*c^2 + 1/2*x*c*f - y*c*f + 1/2*t*c*f + 1/2*x*f^2)"
      ]
     },
     "execution_count": 7,
     "metadata": {},
     "output_type": "execute_result"
    }
   ],
   "source": [
    "(eqn // (5*c + (-2*i + 1)*f)).factor()"
   ]
  },
  {
   "cell_type": "code",
   "execution_count": 6,
   "id": "3c0cfbae-c30d-4870-ac0a-40d33f76c6dd",
   "metadata": {},
   "outputs": [
    {
     "data": {
      "text/plain": [
       "[Ideal (5*c + (-2*i + 1)*f) of Multivariate Polynomial Ring in x, y, z, t, b, c, d, e, f, l, m over Number Field in i with defining polynomial xx^2 + 1,\n",
       " Ideal (c - f) of Multivariate Polynomial Ring in x, y, z, t, b, c, d, e, f, l, m over Number Field in i with defining polynomial xx^2 + 1,\n",
       " Ideal (f) of Multivariate Polynomial Ring in x, y, z, t, b, c, d, e, f, l, m over Number Field in i with defining polynomial xx^2 + 1,\n",
       " Ideal (2*z*c^2 + t*c^2 + x*c*f - 2*y*c*f + t*c*f + x*f^2) of Multivariate Polynomial Ring in x, y, z, t, b, c, d, e, f, l, m over Number Field in i with defining polynomial xx^2 + 1]"
      ]
     },
     "execution_count": 6,
     "metadata": {},
     "output_type": "execute_result"
    }
   ],
   "source": [
    "P.ideal(eqn).radical().primary_decomposition()"
   ]
  },
  {
   "cell_type": "code",
   "execution_count": 6,
   "id": "44a5671c-a9f5-47ff-a105-4889100db062",
   "metadata": {},
   "outputs": [],
   "source": [
    "eqn2 = prod([ideale.gens()[0] for ideale in P.ideal(eqn).radical().primary_decomposition()])"
   ]
  },
  {
   "cell_type": "code",
   "execution_count": 7,
   "id": "3c47177c-0339-4445-add5-7d7e6bdaad69",
   "metadata": {},
   "outputs": [
    {
     "data": {
      "text/plain": [
       "1"
      ]
     },
     "execution_count": 7,
     "metadata": {},
     "output_type": "execute_result"
    }
   ],
   "source": [
    "matrix([eqn.coefficients(), eqn2.coefficients()]).rank()"
   ]
  },
  {
   "cell_type": "code",
   "execution_count": null,
   "id": "2f8aa5f2-6062-4e61-a327-47ddc95c4854",
   "metadata": {},
   "outputs": [],
   "source": []
  }
 ],
 "metadata": {
  "kernelspec": {
   "display_name": "SageMath 9.4",
   "language": "sage",
   "name": "sagemath"
  },
  "language_info": {
   "codemirror_mode": {
    "name": "ipython",
    "version": 3
   },
   "file_extension": ".py",
   "mimetype": "text/x-python",
   "name": "python",
   "nbconvert_exporter": "python",
   "pygments_lexer": "ipython3",
   "version": "3.7.12"
  }
 },
 "nbformat": 4,
 "nbformat_minor": 5
}
