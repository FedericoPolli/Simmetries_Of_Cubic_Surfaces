{
 "cells": [
  {
   "cell_type": "code",
   "execution_count": 1,
   "id": "eecc30d7-cc73-4eb2-b927-2d49b06e7564",
   "metadata": {},
   "outputs": [],
   "source": [
    "load('Imports/Utility.sage', 'Imports/Point.sage', 'Imports/Line.sage', 'Imports/Tritangent_plane.sage', 'Imports/Group.sage', 'Imports/Cubic.sage')\n",
    "import multiprocessing as mp"
   ]
  },
  {
   "cell_type": "code",
   "execution_count": 2,
   "id": "089b83bd-c184-4b9f-9bfa-901b8d35bc19",
   "metadata": {},
   "outputs": [],
   "source": [
    "class Point():  \n",
    "    def __init__(self, components):\n",
    "        self.P = components[0].parent()\n",
    "        mcd = gcd(components)\n",
    "        temp = vector([comp//mcd for comp in components])\n",
    "        #temp = temp/gcd([gcd(el.coefficients()) for el in temp])\n",
    "        if temp[temp.nonzero_positions()[0]] < 0:\n",
    "            self.components = -temp\n",
    "        else:\n",
    "            self.components = temp\n",
    "    \n",
    "    def subs(self, sost):\n",
    "        components = vector([comp.subs(sost)for comp in self.components])\n",
    "        return Point([self.P(el) for el in components*components.denominator()])\n",
    "    \n",
    "    def __str__(self):\n",
    "        return self.components.__str__()\n",
    "        \n",
    "    def __repr__(self):\n",
    "        return self.components.__repr__()\n",
    "        \n",
    "    def __repr_html__(self):\n",
    "        return self.components.__repr_html__()\n",
    "     \n",
    "    def __iter__(self):\n",
    "        return (el for el in self.components)\n",
    "        \n",
    "    def __len__(self):\n",
    "        return len(self.components)\n",
    "        \n",
    "    def __getitem__(self, item):\n",
    "        return self.components.__getitem__(item)\n",
    "    \n",
    "    def __eq__(self, other_point):\n",
    "        if isinstance(other_point, Point):\n",
    "            return are_vectors_proportional(self.components, other_point.components)\n",
    "        return False\n",
    "        \n",
    "    def __mul__(self, other):\n",
    "        return Point(self.components * other)\n",
    "        \n",
    "    def __rmul__(self, other):\n",
    "        return Point(other * self.components)\n",
    "        \n",
    "    def parent(self):\n",
    "        return self.P"
   ]
  },
  {
   "cell_type": "code",
   "execution_count": 3,
   "id": "be70679e-3788-4be3-a1ad-9f3a1b706919",
   "metadata": {},
   "outputs": [],
   "source": [
    "P.<x,y,z,t,bb,cc,dd,ee,ff,l,m> = PolynomialRing(QQ)"
   ]
  },
  {
   "cell_type": "code",
   "execution_count": 4,
   "id": "3e2fe0b5-1ebd-4851-a5ef-2dd9d17b7dc6",
   "metadata": {},
   "outputs": [],
   "source": [
    "cubic_new = ee*ff*(2*x^2*y-2*x*y^2+x*z^2-x*z*t-y*t^2+y*z*t)+bb*cc*(x-t)*(x*z+y*t)+cc*cc*(z+t)*(y*t-x*z)+dd*cc*(y-z)*(x*z+y*t)+(ee+ff)*cc*(x-y)*(y*t-x*z)"
   ]
  },
  {
   "cell_type": "code",
   "execution_count": 5,
   "id": "a41eb624-67cc-4e8e-a0da-c788de4b2d50",
   "metadata": {},
   "outputs": [],
   "source": [
    "sing_cubics = (-1) * (-cc + ff) * (-cc + ee) * cc * (cc + ff) * (cc + ee) * (-ee + ff)^2 * (-cc*dd + cc*ff + ee*ff) * (-cc*dd + cc*ee + ee*ff) * (-cc^2 - cc*dd + ee*ff) * (bb*cc - cc*ff + ee*ff) * (bb*cc - cc*ee + ee*ff) * (bb*cc - cc*dd + 2*ee*ff) * (bb*cc - cc^2 + ee*ff) * (bb*cc^2 + cc^2*dd + bb*cc*ff - 2*cc^2*ff - cc*dd*ff + 2*ee*ff^2) * (bb*cc^2 + cc^2*dd + bb*cc*ee - 2*cc^2*ee - cc*dd*ee + 2*ee^2*ff) * (-bb*cc^3 - 2*bb*cc^2*dd + cc^3*dd + bb*cc^2*ee + cc^2*dd*ee + bb*cc^2*ff + cc^2*dd*ff + 3*bb*cc*ee*ff - 4*cc^2*ee*ff - 3*cc*dd*ee*ff + 4*ee^2*ff^2)"
   ]
  },
  {
   "cell_type": "code",
   "execution_count": 6,
   "id": "2d54ea67-be32-45df-afb8-d39da8197c50",
   "metadata": {},
   "outputs": [],
   "source": [
    "sing_factored = Factorization([((-cc + ff),1),  ((-cc + ee),1), (cc,1), ((cc + ff),1), ((cc + ee),1), ((-ee + ff),2), ((-cc*dd + cc*ff + ee*ff),1), ((-cc*dd + cc*ee + ee*ff),1), ((-cc^2 - cc*dd + ee*ff),1), ((bb*cc - cc*ff + ee*ff),1), ((bb*cc - cc*ee + ee*ff),1), ((bb*cc - cc*dd + 2*ee*ff),1), ((bb*cc - cc^2 + ee*ff),1), ((bb*cc^2 + cc^2*dd + bb*cc*ff - 2*cc^2*ff - cc*dd*ff + 2*ee*ff^2),1), ((bb*cc^2 + cc^2*dd + bb*cc*ee - 2*cc^2*ee - cc*dd*ee + 2*ee^2*ff),1), ((-bb*cc^3 - 2*bb*cc^2*dd + cc^3*dd + bb*cc^2*ee + cc^2*dd*ee + bb*cc^2*ff + cc^2*dd*ff + 3*bb*cc*ee*ff - 4*cc^2*ee*ff - 3*cc*dd*ee*ff + 4*ee^2*ff^2),1)])"
   ]
  },
  {
   "cell_type": "code",
   "execution_count": 7,
   "id": "38181a6a-092f-4055-83a6-ed36cc76404a",
   "metadata": {},
   "outputs": [],
   "source": [
    "line = Line([y, z])"
   ]
  },
  {
   "cell_type": "code",
   "execution_count": 8,
   "id": "8cc21551-4632-4911-9622-7ed4fbcda538",
   "metadata": {},
   "outputs": [
    {
     "data": {
      "text/plain": [
       "Multivariate Polynomial Ring in x, y, z, t, bb, cc, dd, ee, ff, l, m over Rational Field"
      ]
     },
     "execution_count": 8,
     "metadata": {},
     "output_type": "execute_result"
    }
   ],
   "source": [
    "cubic_new.change_ring(QQ).parent()"
   ]
  },
  {
   "cell_type": "code",
   "execution_count": 9,
   "id": "8766e87d-8662-4952-9be5-5725298d72c5",
   "metadata": {},
   "outputs": [
    {
     "name": "stdout",
     "output_type": "stream",
     "text": [
      "CPU times: user 1.2 s, sys: 0 ns, total: 1.2 s\n",
      "Wall time: 1.21 s\n"
     ]
    }
   ],
   "source": [
    "%time general_cubic = Cubic(cubic_new, line, sing_factored)"
   ]
  },
  {
   "cell_type": "code",
   "execution_count": 10,
   "id": "be0c1a4d-7f9c-4ded-ada9-44749d011496",
   "metadata": {},
   "outputs": [
    {
     "name": "stdout",
     "output_type": "stream",
     "text": [
      "CPU times: user 2.8 s, sys: 20.9 ms, total: 2.82 s\n",
      "Wall time: 2.84 s\n"
     ]
    }
   ],
   "source": [
    "%time SE1 = general_cubic.subs({bb:-(cc*cc+ee*ff)/cc})"
   ]
  },
  {
   "cell_type": "code",
   "execution_count": 11,
   "id": "6c09bf33-861e-4f08-8a01-8f1cd46f35c2",
   "metadata": {},
   "outputs": [
    {
     "name": "stdout",
     "output_type": "stream",
     "text": [
      "CPU times: user 1.24 s, sys: 156 ms, total: 1.4 s\n",
      "Wall time: 9.2 s\n"
     ]
    }
   ],
   "source": [
    "%time adm_SE1 = SE1.find_admissible_projectivities()"
   ]
  },
  {
   "cell_type": "code",
   "execution_count": 12,
   "id": "20fadd59-de6b-4d4a-9dbf-39de94506580",
   "metadata": {},
   "outputs": [
    {
     "data": {
      "text/plain": [
       "576"
      ]
     },
     "execution_count": 12,
     "metadata": {},
     "output_type": "execute_result"
    }
   ],
   "source": [
    "len(adm_SE1)"
   ]
  },
  {
   "cell_type": "code",
   "execution_count": 13,
   "id": "39c972e1-420f-4a36-b908-f5ec1b6ddec8",
   "metadata": {},
   "outputs": [
    {
     "name": "stdout",
     "output_type": "stream",
     "text": [
      "CPU times: user 1.13 s, sys: 106 ms, total: 1.24 s\n",
      "Wall time: 6.18 s\n"
     ]
    }
   ],
   "source": [
    "%time simm_SE1 = SE1.find_simmetries(adm_SE1)"
   ]
  },
  {
   "cell_type": "code",
   "execution_count": 14,
   "id": "b2ad2377-f8b4-47e5-a65f-3f8b3834ca52",
   "metadata": {},
   "outputs": [
    {
     "data": {
      "text/plain": [
       "2"
      ]
     },
     "execution_count": 14,
     "metadata": {},
     "output_type": "execute_result"
    }
   ],
   "source": [
    "len(simm_SE1)"
   ]
  },
  {
   "cell_type": "code",
   "execution_count": 15,
   "id": "a5539864-0e72-45b7-820b-b70feb9ea293",
   "metadata": {},
   "outputs": [],
   "source": [
    "adm_perm = SE1.find_admissible_permutations()\n",
    "keys = list(SE1.cl_lines.keys())"
   ]
  },
  {
   "cell_type": "code",
   "execution_count": 16,
   "id": "9ffc168a-2a50-493f-a5bd-2d77bf9361f3",
   "metadata": {},
   "outputs": [
    {
     "data": {
      "text/plain": [
       "1152"
      ]
     },
     "execution_count": 16,
     "metadata": {},
     "output_type": "execute_result"
    }
   ],
   "source": [
    "len(adm_perm)"
   ]
  },
  {
   "cell_type": "code",
   "execution_count": 17,
   "id": "fe239150-a732-43b6-9511-e352138fa4a0",
   "metadata": {},
   "outputs": [
    {
     "name": "stdout",
     "output_type": "stream",
     "text": [
      "(2,19)(3,22)(4,7)(5,25)(6,26)(8,13)(9,14)(11,16)(12,17)(18,27)(20,24)(21,23)\n"
     ]
    }
   ],
   "source": [
    "M2 = [mat for mat in simm_SE1 if mat != matrix.identity(4)][0]\n",
    "M2_perm = Permutation(apply_proj_to_lines(M2, list(SE1.cl_lines.values()))).to_permutation_group_element()\n",
    "print(M2_perm)"
   ]
  },
  {
   "cell_type": "code",
   "execution_count": 18,
   "id": "1bc8369e-c990-4bad-ab5e-82eee248988d",
   "metadata": {},
   "outputs": [],
   "source": [
    "perms_lines = []\n",
    "for perm in adm_perm:\n",
    "    perms_lines.append(Permutation([perm.index(label)+1 for label in keys]).to_cycles())"
   ]
  },
  {
   "cell_type": "code",
   "execution_count": 19,
   "id": "e7867d65-d44f-481a-a007-aed7c2423bc2",
   "metadata": {},
   "outputs": [],
   "source": [
    "Gr = PermutationGroup(perms_lines)"
   ]
  },
  {
   "cell_type": "code",
   "execution_count": 20,
   "id": "9fc2a896-232f-4245-b9df-694886a6d9f3",
   "metadata": {},
   "outputs": [
    {
     "data": {
      "text/plain": [
       "1152"
      ]
     },
     "execution_count": 20,
     "metadata": {},
     "output_type": "execute_result"
    }
   ],
   "source": [
    "Gr.order()"
   ]
  },
  {
   "cell_type": "code",
   "execution_count": 21,
   "id": "c4c1598b-da41-40f5-87dd-be61665d64c0",
   "metadata": {},
   "outputs": [
    {
     "data": {
      "text/plain": [
       "2"
      ]
     },
     "execution_count": 21,
     "metadata": {},
     "output_type": "execute_result"
    }
   ],
   "source": [
    "M2_perm.order()"
   ]
  },
  {
   "cell_type": "code",
   "execution_count": 22,
   "id": "33a20c56-02b1-4fe4-9dc1-38723ce36d26",
   "metadata": {},
   "outputs": [],
   "source": [
    "el_order_4 = []\n",
    "for el in Gr.list():\n",
    "    iden = Gr.identity()\n",
    "    if el^2 == M2_perm and el^3 != iden and el^4 == iden:\n",
    "        el_order_4.append(el)"
   ]
  },
  {
   "cell_type": "code",
   "execution_count": 23,
   "id": "4d940a4b-7b5c-42be-a936-0f2ea4a7df4e",
   "metadata": {},
   "outputs": [
    {
     "data": {
      "text/plain": [
       "12"
      ]
     },
     "execution_count": 23,
     "metadata": {},
     "output_type": "execute_result"
    }
   ],
   "source": [
    "len(el_order_4)"
   ]
  },
  {
   "cell_type": "code",
   "execution_count": 24,
   "id": "af910142-f95d-456b-861e-f67b2a19aead",
   "metadata": {},
   "outputs": [
    {
     "name": "stdout",
     "output_type": "stream",
     "text": [
      "['E1', 'G4', 'E5', 'F15', 'E6', 'F24']\n",
      "['E1', 'G4', 'F45', 'G5', 'F46', 'E2']\n",
      "['E1', 'G4', 'E6', 'F16', 'E5', 'F34']\n",
      "['E1', 'G4', 'F46', 'G6', 'F45', 'E3']\n",
      "['E1', 'G4', 'E3', 'G6', 'F24', 'F46']\n",
      "['E1', 'G4', 'F34', 'F16', 'E2', 'E6']\n",
      "['E1', 'G4', 'E5', 'G2', 'F46', 'F24']\n",
      "['E1', 'G4', 'F45', 'F12', 'E6', 'E2']\n",
      "['E1', 'G4', 'E3', 'G5', 'F24', 'E6']\n",
      "['E1', 'G4', 'F34', 'F15', 'E2', 'F46']\n",
      "['E1', 'G4', 'E6', 'G2', 'F45', 'E3']\n",
      "['E1', 'G4', 'F46', 'F12', 'E5', 'F34']\n"
     ]
    }
   ],
   "source": [
    "labels_el_order_4 = [from_perm_to_labels(el) for el in el_order_4]\n",
    "for perm in labels_el_order_4:\n",
    "    print([perm[keys.index(label)] for label in ['E1', 'G4', 'E2', 'G3', 'E3', 'E5']])"
   ]
  },
  {
   "cell_type": "code",
   "execution_count": 25,
   "id": "ca903967-197a-4b07-b388-9ac9473c2cec",
   "metadata": {},
   "outputs": [],
   "source": [
    "projs = SE1.find_admissible_projectivities(labels_el_order_4)"
   ]
  },
  {
   "cell_type": "code",
   "execution_count": 94,
   "id": "e077d9e6-d1a2-40a7-bde6-333230c1537a",
   "metadata": {},
   "outputs": [],
   "source": [
    "def find_conditions_for_subfamilies(cubic, projectivities, simmetries):\n",
    "    mon = ((x+y+z+t)^3).monomials()\n",
    "    conditions = []\n",
    "    sing_cubics_factored = cubic.sing_cubic\n",
    "    for M in [proj for proj in projectivities if proj not in simmetries]:\n",
    "        print(projectivities.index(M))\n",
    "        sost = change_coord(M)\n",
    "        new_cubic = remove_sing_factors(cubic.eqn.subs(sost), sing_cubics_factored)    \n",
    "        minor = list(set(matrix([[new_cubic.coefficient(mn) for mn in mon], [cubic.eqn.coefficient(mn) for mn in mon]]).minors(2)))\n",
    "        minor = [remove_sing_factors(el, sing_cubics_factored) for el in minor if el !=0]\n",
    "        ideale = cubic.P.ideal(minor)\n",
    "        new_ideals = get_valid_ideals(ideale, cubic, sing_cubics_factored)\n",
    "        for ideal in new_ideals:            \n",
    "            prim_deco2 = (ideale + ideal).radical().primary_decomposition()\n",
    "            for ideal2 in prim_deco2:\n",
    "                if is_ideal_valid(ideal2, cubic, sing_cubics_factored):\n",
    "                    conditions.append(ideal2.gens())                        \n",
    "    return list(set(conditions))\n",
    "\n",
    "\n",
    "def get_valid_ideals(ideale, cubic, sing_cubics_factored):\n",
    "    valid_ideals = []\n",
    "    vrs = [cc,dd,ee,ff]\n",
    "    for vr in vrs:\n",
    "        valid_ideals_var = []\n",
    "        del_ideale = ideale.elimination_ideal([vr])\n",
    "        prim_deco_del = del_ideale.radical().primary_decomposition()\n",
    "        for ideal in prim_deco_del:\n",
    "            if is_ideal_valid(ideal, cubic, sing_cubics_factored):\n",
    "                valid_ideals_var.append(ideal)\n",
    "        if valid_ideals_var == []:\n",
    "            return []\n",
    "        else:\n",
    "            valid_ideals.append(valid_ideals_var)\n",
    "    return [id1+id2+id3+id4 for id1 in valid_ideals[0] for id2 in valid_ideals[1] for id3 in valid_ideals[2] for id4 in valid_ideals[3]]           "
   ]
  },
  {
   "cell_type": "code",
   "execution_count": 95,
   "id": "e36533ab-3ad7-44da-a829-db4d1639129b",
   "metadata": {},
   "outputs": [
    {
     "name": "stdout",
     "output_type": "stream",
     "text": [
      "0\n",
      "1\n",
      "2\n",
      "3\n",
      "4\n",
      "5\n",
      "6\n",
      "7\n",
      "8\n",
      "9\n",
      "10\n",
      "11\n",
      "CPU times: user 58.2 s, sys: 678 ms, total: 58.9 s\n",
      "Wall time: 59.6 s\n"
     ]
    }
   ],
   "source": [
    "%time conds = find_conditions_for_subfamilies(SE1, projs, simm_SE1)"
   ]
  },
  {
   "cell_type": "code",
   "execution_count": 96,
   "id": "ae7e4a8c-6fad-4348-b87a-fa3657915c57",
   "metadata": {},
   "outputs": [
    {
     "data": {
      "text/plain": [
       "26"
      ]
     },
     "execution_count": 96,
     "metadata": {},
     "output_type": "execute_result"
    }
   ],
   "source": [
    "len(conds)"
   ]
  },
  {
   "cell_type": "code",
   "execution_count": 127,
   "id": "2aa0400e-63b9-4c9d-b081-2b1e0f6a20fd",
   "metadata": {},
   "outputs": [],
   "source": [
    "new_conds = []\n",
    "for cond in conds:\n",
    "    new_conds.append([con.change_ring(QQbar) for con in cond])"
   ]
  },
  {
   "cell_type": "code",
   "execution_count": 148,
   "id": "75e75fa2-cde6-463c-9de5-36a897a33b6d",
   "metadata": {},
   "outputs": [],
   "source": [
    "ss = [[el.factor() for el in cond] for cond in new_conds]"
   ]
  },
  {
   "cell_type": "code",
   "execution_count": 158,
   "id": "62370d96-96fc-4457-9d08-e1511d39f0ea",
   "metadata": {},
   "outputs": [
    {
     "data": {
      "text/plain": [
       "[[ff,\n",
       "  (2) * (cc + 1/2*dd + 1/2*ee),\n",
       "  (5) * (dd + (0.6000000000000000? - 0.8000000000000000?*I)*ee) * (dd + (0.6000000000000000? + 0.8000000000000000?*I)*ee)],\n",
       " [ff,\n",
       "  (2) * (cc + 5/2*dd + 5/2*ee),\n",
       "  (5) * (dd + (0.6000000000000000? - 0.8000000000000000?*I)*ee) * (dd + (0.6000000000000000? + 0.8000000000000000?*I)*ee)],\n",
       " [ee,\n",
       "  (2) * (cc + 1/2*dd + 1/2*ff),\n",
       "  (5) * (dd + (0.6000000000000000? - 0.8000000000000000?*I)*ff) * (dd + (0.6000000000000000? + 0.8000000000000000?*I)*ff)],\n",
       " [ee,\n",
       "  (2) * (cc + 5/2*dd + 5/2*ff),\n",
       "  (5) * (dd + (0.6000000000000000? - 0.8000000000000000?*I)*ff) * (dd + (0.6000000000000000? + 0.8000000000000000?*I)*ff)],\n",
       " [ee,\n",
       "  cc + 5*dd + (-10)*ff,\n",
       "  (5) * (dd + (-2.200000000000000? - 0.4000000000000000?*I)*ff) * (dd + (-2.200000000000000? + 0.4000000000000000?*I)*ff)],\n",
       " [cc + dd + ee,\n",
       "  dd*ee + (-11)*ee^2 + 5*dd*ff + 34*ee*ff + (-15)*ff^2,\n",
       "  dd^2 + 43*ee^2 + (-20)*dd*ff + (-126)*ee*ff + 55*ff^2,\n",
       "  (41) * (ee^3 + (-371/41)*ee^2*ff + 115/41*dd*ff^2 + 824/41*ee*ff^2 + (-340/41)*ff^3)],\n",
       " [(12) * (cc^2*ee + 4/3*cc*dd*ee + 5/12*dd^2*ee + (-1/3)*cc*ee^2 + (-5/6)*dd*ee^2 + 5/12*ee^3 + (-7/3)*cc^2*ff + (-8/3)*cc*dd*ff + (-5/12)*dd^2*ff + 4/3*cc*ee*ff + 7/3*dd*ee*ff + (-35/12)*ee^2*ff + (-5/3)*cc*ff^2 + (-5/6)*dd*ff^2 + 21/4*ee*ff^2 + (-25/12)*ff^3),\n",
       "  (12) * (cc^2*dd + 5/3*cc*dd*ee + 1/12*dd^2*ee + (-2/3)*cc*ee^2 + (-1/6)*dd*ee^2 + 1/12*ee^3 + (-2/3)*cc^2*ff + (-7/3)*cc*dd*ff + (-1/12)*dd^2*ff + 2/3*cc*ee*ff + 2/3*dd*ee*ff + (-19/12)*ee^2*ff + 2/3*cc*ff^2 + (-1/6)*dd*ff^2 + 13/4*ee*ff^2 + (-5/12)*ff^3),\n",
       "  cc^3 + (-2)*cc*dd*ee + cc*ee^2 + cc^2*ff + 2*cc*dd*ff + (-2)*cc*ee*ff + ee^2*ff + (-2)*ee*ff^2,\n",
       "  (132) * (cc*dd*ee^2 + (-5/44)*dd^2*ee^2 + (-5/11)*cc*ee^3 + 5/22*dd*ee^3 + (-5/44)*ee^4 + (-115/33)*cc*dd*ee*ff + 5/66*dd^2*ee*ff + 52/33*cc*ee^2*ff + (-19/66)*dd*ee^2*ff + (-1/3)*ee^3*ff + (-2/33)*cc^2*ff^2 + 98/33*cc*dd*ff^2 + 5/132*dd^2*ff^2 + (-25/33)*cc*ee*ff^2 + (-17/66)*dd*ee*ff^2 + 175/66*ee^2*ff^2 + (-40/33)*cc*ff^3 + 5/66*dd*ff^3 + (-35/11)*ee*ff^3 + 25/132*ff^4),\n",
       "  (825) * (dd^3*ee + (-667/275)*dd^2*ee^2 + 16/275*cc*ee^3 + 509/275*dd*ee^3 + (-117/275)*ee^4 + (-16/5)*cc*dd^2*ff - dd^3*ff + 1864/825*cc*dd*ee*ff + 4568/825*dd^2*ee*ff + 344/825*cc*ee^2*ff + (-5617/825)*dd*ee^2*ff + 166/75*ee^3*ff + 464/825*cc^2*ff^2 + (-2672/825)*cc*dd*ff^2 + (-1247/825)*dd^2*ff^2 + (-424/165)*cc*ee*ff^2 + 6361/825*dd*ee*ff^2 + (-2216/825)*ee^2*ff^2 + 2416/825*cc*ff^3 + (-3319/825)*dd*ff^3 + (-14/11)*ee*ff^3 + 403/165*ff^4),\n",
       "  (30) * (cc*dd^2*ee + (-1/10)*dd^2*ee^2 + (-1/5)*cc*ee^3 + 1/5*dd*ee^3 + (-1/10)*ee^4 - cc*dd^2*ff + (-14/15)*cc*dd*ee*ff + 2/15*dd^2*ee*ff + 11/15*cc*ee^2*ff + (-13/15)*dd*ee^2*ff + (-1/15)*ee^3*ff + (-4/15)*cc^2*ff^2 + 22/15*cc*dd*ff^2 + (-1/30)*dd^2*ff^2 + (-1/3)*cc*ee*ff^2 + 19/15*dd*ee*ff^2 + 16/15*ee^2*ff^2 + (-11/15)*cc*ff^3 + (-1/15)*dd*ff^3 - ee*ff^3 + (-1/6)*ff^4)],\n",
       " [dd + ee - ff,\n",
       "  cc + 2*ee - ff,\n",
       "  (13) * (ee + (-0.3846153846153846? - 0.07692307692307692?*I)*ff) * (ee + (-0.3846153846153846? + 0.07692307692307692?*I)*ff)],\n",
       " [ff,\n",
       "  cc + (-10)*dd + 5*ee,\n",
       "  (25) * (dd + (-0.4400000000000000? - 0.0800000000000000?*I)*ee) * (dd + (-0.4400000000000000? + 0.0800000000000000?*I)*ee)],\n",
       " [ff,\n",
       "  cc + (-2)*dd + 5*ee,\n",
       "  (5) * (dd + (-2.200000000000000? - 0.4000000000000000?*I)*ee) * (dd + (-2.200000000000000? + 0.4000000000000000?*I)*ee)],\n",
       " [ff,\n",
       "  cc + 5*dd + (-2)*ee,\n",
       "  (25) * (dd + (-0.4400000000000000? - 0.0800000000000000?*I)*ee) * (dd + (-0.4400000000000000? + 0.0800000000000000?*I)*ee)],\n",
       " [cc + dd + ff,\n",
       "  (5) * (dd*ee + (-3)*ee^2 + 1/5*dd*ff + 34/5*ee*ff + (-11/5)*ff^2),\n",
       "  (dd + (-2.236067977499790?)*ee + 4.236067977499789?*ff) * (dd + 2.236067977499790?*ee + (-0.2360679774997897?)*ff),\n",
       "  (25) * (ee^3 + (-27/5)*ee^2*ff + 23/25*dd*ff^2 + 192/25*ee*ff^2 + (-48/25)*ff^3)],\n",
       " [dd + 3*ee - ff,\n",
       "  cc + (-2)*ee + ff,\n",
       "  (37) * (ee + (-0.5827615628781370? - 0.1305439734843836?*I)*ff) * (ee + (-0.5827615628781370? + 0.1305439734843836?*I)*ff) * (ee + (-0.2550762749597008? - 0.1035169464573566?*I)*ff) * (ee + (-0.2550762749597008? + 0.1035169464573566?*I)*ff)],\n",
       " [ff,\n",
       "  cc + 5*dd + (-10)*ee,\n",
       "  (5) * (dd + (-2.200000000000000? - 0.4000000000000000?*I)*ee) * (dd + (-2.200000000000000? + 0.4000000000000000?*I)*ee)],\n",
       " [ee,\n",
       "  cc + 5*dd + (-2)*ff,\n",
       "  (25) * (dd + (-0.4400000000000000? - 0.0800000000000000?*I)*ff) * (dd + (-0.4400000000000000? + 0.0800000000000000?*I)*ff)],\n",
       " [(28) * (cc^2*ee + 8/7*cc*dd*ee + 5/28*dd^2*ee + 5/7*cc*ee^2 + 5/14*dd*ee^2 + 25/28*ee^3 + (-3/7)*cc^2*ff + (-4/7)*cc*dd*ff + (-5/28)*dd^2*ff + (-4/7)*cc*ee*ff - dd*ee*ff + (-9/4)*ee^2*ff + 1/7*cc*ff^2 + 5/14*dd*ff^2 + 5/4*ee*ff^2 + (-5/28)*ff^3),\n",
       "  (28) * (cc^2*dd + (-11/7)*cc*dd*ee + 1/28*dd^2*ee + 8/7*cc*ee^2 + 1/14*dd*ee^2 + 5/28*ee^3 + (-2/7)*cc^2*ff + 9/7*cc*dd*ff + (-1/28)*dd^2*ff + 2/7*cc*ee*ff + 7/4*ee^2*ff + (-4/7)*cc*ff^2 + 1/14*dd*ff^2 + (-3/4)*ee*ff^2 + (-1/28)*ff^3),\n",
       "  (28) * (cc^3 + 6/7*cc*dd*ee + (-5/28)*dd^2*ee + (-5/7)*cc*ee^2 + (-5/14)*dd*ee^2 + (-25/28)*ee^3 + 3/7*cc^2*ff + (-10/7)*cc*dd*ff + 5/28*dd^2*ff + (-10/7)*cc*ee*ff + dd*ee*ff + 1/4*ee^2*ff + 6/7*cc*ff^2 + (-5/14)*dd*ff^2 + (-1/4)*ee*ff^2 + 5/28*ff^3),\n",
       "  (2184) * (cc*dd*ee^2 + 5/312*dd^2*ee^2 + (-5/13)*cc*ee^3 + 5/156*dd*ee^3 + 25/312*ee^4 + (-209/182)*cc*dd*ee*ff + 25/1092*dd^2*ee*ff + (-139/546)*cc*ee^2*ff + (-37/364)*dd*ee^2*ff + (-296/273)*ee^3*ff + (-1/273)*cc^2*ff^2 + 59/182*cc*dd*ff^2 + (-85/2184)*dd^2*ff^2 + 47/91*cc*ee*ff^2 + (-5/52)*dd*ee*ff^2 + 137/156*ee^2*ff^2 + (-27/182)*cc*ff^3 + 85/1092*dd*ff^3 + (-4/39)*ee*ff^3 + (-85/2184)*ff^4),\n",
       "  (2275) * (dd^3*ee + 489/325*dd^2*ee^2 + (-192/325)*cc*ee^3 + 1303/325*dd*ee^3 + (-161/65)*ee^4 + 16/5*cc*dd^2*ff - dd^3*ff + 12752/2275*cc*dd*ee*ff + (-12452/2275)*dd^2*ee*ff + 8096/2275*cc*ee^2*ff + (-8839/2275)*dd*ee^2*ff + 13158/2275*ee^3*ff + (-512/2275)*cc^2*ff^2 + (-7832/2275)*cc*dd*ff^2 + 5389/2275*dd^2*ff^2 + (-1432/455)*cc*ee*ff^2 + 1577/325*dd*ee*ff^2 + (-612/325)*ee^2*ff^2 + 1832/2275*cc*ff^3 + (-3953/2275)*dd*ff^3 + (-306/325)*ee*ff^3 + 839/2275*ff^4),\n",
       "  (5460) * (cc*dd^2*ee + 11/780*dd^2*ee^2 + (-9/65)*cc*ee^3 + 11/390*dd*ee^3 + 11/156*ee^4 - cc*dd^2*ff + (-491/455)*cc*dd*ee*ff + (-179/2730)*dd^2*ee*ff + (-64/1365)*cc*ee^2*ff + (-1111/910)*dd*ee^2*ff + (-577/1365)*ee^3*ff + 58/1365*cc^2*ff^2 + 291/455*cc*dd*ff^2 + 281/5460*dd^2*ff^2 + 19/91*cc*ee*ff^2 + 93/130*dd*ee*ff^2 + 161/390*ee^2*ff^2 + (-36/455)*cc*ff^3 + (-281/2730)*dd*ff^3 + (-41/195)*ee*ff^3 + 281/5460*ff^4)],\n",
       " [(16) * (cc + (-0.25000000000000000?*I)*dd + (0.50000000000000000? - 0.25000000000000000?*I)*ee + 0.25000000000000000?*I*ff) * (cc + 0.25000000000000000?*I*dd + (0.50000000000000000? + 0.25000000000000000?*I)*ee + (-0.25000000000000000?*I)*ff),\n",
       "  (32) * (cc*dd*ee + 1/32*dd^2*ee + (-2)*cc*ee^2 + 1/16*dd*ee^2 + 5/32*ee^3 + (-3/2)*cc*dd*ff + 3/16*dd^2*ff + 5*cc*ee*ff + (-3/16)*dd*ee*ff + (-9/8)*ee^2*ff + (-3/2)*cc*ff^2 + (-3/8)*dd*ff^2 + 101/32*ee*ff^2 + 3/16*ff^3),\n",
       "  (5) * (dd^3 + (-2/5)*dd^2*ee + (-32/5)*cc*ee^2 + 1/5*dd*ee^2 + (-12)*ee^3 + 32/5*cc*dd*ff + (-13/5)*dd^2*ff + (-16/5)*cc*ee*ff + 8*dd*ee*ff + 153/5*ee^2*ff + 64/5*cc*ff^2 + 11/5*dd*ff^2 + (-134/5)*ee*ff^2 + (-3/5)*ff^3),\n",
       "  (80) * (cc*dd^2 + 11/80*dd^2*ee + (-19/5)*cc*ee^2 + 11/40*dd*ee^2 + 11/16*ee^3 + (-11/5)*cc*dd*ff + 17/40*dd^2*ff + 68/5*cc*ee*ff + (-13/8)*dd*ee*ff + (-11/20)*ee^2*ff + (-12/5)*cc*ff^2 + (-17/20)*dd*ff^2 + 407/80*ee*ff^2 + 17/40*ff^3)],\n",
       " [(3) * (cc^2*dd + (-7/3)*cc^2*ee + 1/3*cc*dd*ee + (-5/3)*cc*ee^2 + 1/3*cc^2*ff + 1/3*cc*dd*ff + (-2/3)*cc*ee*ff + (-1/3)*dd*ee*ff - ee^2*ff + (-5/3)*cc*ff^2 - ee*ff^2),\n",
       "  (12) * (cc^3 + 1/2*cc*dd^2 + 5/3*cc^2*ee + (-2/3)*cc*dd*ee + (-1/4)*dd^2*ee + 17/6*cc*ee^2 + (-1/2)*dd*ee^2 + (-5/4)*ee^3 + 4/3*cc^2*ff + (-2/3)*cc*dd*ff + (-1/4)*dd^2*ff + (-11/3)*cc*ee*ff + (-1/3)*dd*ee*ff + 9/4*ee^2*ff + 23/6*cc*ff^2 + (-1/2)*dd*ff^2 + 5/4*ee*ff^2 + (-5/4)*ff^3),\n",
       "  (64) * (cc*dd*ee^2 + (-5/64)*dd^2*ee^2 + (-5/2)*cc*ee^3 + (-5/32)*dd*ee^3 + (-25/64)*ee^4 + (-3/8)*cc*dd^2*ff + (-1/2)*cc^2*ee*ff + 3/16*cc*dd*ee*ff + 3/32*dd^2*ee*ff + 19/16*cc*ee^2*ff + (-9/32)*dd*ee^2*ff - ee^3*ff + (-1/8)*cc^2*ff^2 + (-15/16)*cc*dd*ff^2 + 7/64*dd^2*ff^2 + 3/4*cc*ee*ff^2 + 15/32*dd*ee*ff^2 + (-25/32)*ee^2*ff^2 + (-11/16)*cc*ff^3 + 7/32*dd*ff^3 + ee*ff^3 + 35/64*ff^4),\n",
       "  (64) * (cc^2*ee^2 + 25/64*dd^2*ee^2 + 5/2*cc*ee^3 + 25/32*dd*ee^3 + 125/64*ee^4 + 3/8*cc*dd^2*ff + 3/2*cc^2*ee*ff + 17/16*cc*dd*ee*ff + 9/32*dd^2*ee*ff + 9/16*cc*ee^2*ff + 29/32*dd*ee^2*ff + (-1/4)*ee^3*ff + 5/8*cc^2*ff^2 + 27/16*cc*dd*ff^2 + 13/64*dd^2*ff^2 + 5/4*cc*ee*ff^2 + 21/32*dd*ee*ff^2 + 5/32*ee^2*ff^2 + 31/16*cc*ff^3 + 13/32*dd*ff^3 + 1/4*ee*ff^3 + 65/64*ff^4),\n",
       "  (96) * (cc*dd^2*ee + (-11/32)*dd^2*ee^2 + (-6)*cc*ee^3 + (-11/16)*dd*ee^3 + (-55/32)*ee^4 + (-1/4)*cc*dd^2*ff + (-5/3)*cc^2*ee*ff + 7/24*cc*dd*ee*ff + (-3/16)*dd^2*ee*ff + (-17/24)*cc*ee^2*ff + (-39/16)*dd*ee^2*ff - ee^3*ff + (-13/12)*cc^2*ff^2 + (-83/24)*cc*dd*ff^2 + 9/32*dd^2*ff^2 + 25/6*cc*ee*ff^2 + (-29/48)*dd*ee*ff^2 + (-39/16)*ee^2*ff^2 + (-71/24)*cc*ff^3 + 9/16*dd*ff^3 + ee*ff^3 + 45/32*ff^4),\n",
       "  (192) * (cc*dd^3 + (-1/2)*dd^3*ee + (-75/64)*dd^2*ee^2 + (-31/2)*cc*ee^3 + (-91/32)*dd*ee^3 + (-55/64)*ee^4 + 3/8*cc*dd^2*ff + (-1/2)*dd^3*ff + (-29/6)*cc^2*ee*ff + (-377/48)*cc*dd*ee*ff + (-51/32)*dd^2*ee*ff + 631/48*cc*ee^2*ff + (-55/32)*dd*ee^2*ff + (-4)*ee^3*ff + (-13/24)*cc^2*ff^2 + (-83/48)*cc*dd*ff^2 + (-87/64)*dd^2*ff^2 + (-65/12)*cc*ee*ff^2 + (-173/96)*dd*ee*ff^2 + (-87/32)*ee^2*ff^2 + (-143/48)*cc*ff^3 + (-103/32)*dd*ff^3 + 4*ee*ff^3 + (-115/64)*ff^4),\n",
       "  (160) * (dd^3*ee^2 + 1/10*dd^2*ee^3 + 16/5*cc*ee^4 + 6/5*dd*ee^4 + (-19/2)*ee^5 + 6/5*dd^3*ee*ff + 119/160*dd^2*ee^2*ff + 17/5*cc*ee^3*ff + (-153/80)*dd*ee^3*ff + 1267/160*ee^4*ff + 17/20*cc*dd^2*ff^2 + dd^3*ff^2 + 7/5*cc^2*ee*ff^2 + 111/40*cc*dd*ee*ff^2 + 167/80*dd^2*ee*ff^2 + (-177/40)*cc*ee^2*ff^2 + (-77/80)*dd*ee^2*ff^2 + 43/5*ee^3*ff^2 + 11/20*cc^2*ff^3 + 33/8*cc*dd*ff^3 + 339/160*dd^2*ff^3 + (-21/10)*cc*ee*ff^3 + 267/80*dd*ee*ff^3 + 51/80*ee^2*ff^3 + 153/40*cc*ff^4 + 419/80*dd*ff^4 + (-63/10)*ee*ff^4 + 19/32*ff^5)],\n",
       " [dd - ee + ff,\n",
       "  (8) * (cc*ee + 5/4*ee^2 + (-15/4)*ee*ff + 13/8*ff^2),\n",
       "  (8) * (cc^2 + (-3/4)*ee^2 - cc*ff + 13/4*ee*ff + (-11/8)*ff^2),\n",
       "  (2) * (ee^3 + (-6)*ee^2*ff + (-2)*cc*ff^2 + 27/2*ee*ff^2 + (-11/2)*ff^3)],\n",
       " [dd - ee + 3*ff,\n",
       "  cc + ee + (-2)*ff,\n",
       "  (ee + (-3.366025403784439? - 1.366025403784439?*I)*ff) * (ee + (-3.366025403784439? + 1.366025403784439?*I)*ff) * (ee + (-1.633974596215562? - 0.3660254037844386?*I)*ff) * (ee + (-1.633974596215562? + 0.3660254037844386?*I)*ff)],\n",
       " [(16) * (cc + (0.?e-58 - 0.2500000000000000?*I)*dd + (0.?e-58 + 0.2500000000000000?*I)*ee + (0.500000000000000? - 0.2500000000000000?*I)*ff) * (cc + (0.?e-58 + 0.2500000000000000?*I)*dd + (0.?e-58 - 0.2500000000000000?*I)*ee + (0.500000000000000? + 0.2500000000000000?*I)*ff),\n",
       "  (48) * (cc*dd*ee + (-1/8)*dd^2*ee + cc*ee^2 + 1/4*dd*ee^2 + (-1/8)*ee^3 + (-2/3)*cc*dd*ff + (-1/48)*dd^2*ff + (-10/3)*cc*ee*ff + 1/8*dd*ee*ff + (-101/48)*ee^2*ff + 4/3*cc*ff^2 + (-1/24)*dd*ff^2 + 3/4*ee*ff^2 + (-5/48)*ff^3),\n",
       "  (15) * (dd^3 + (-9/5)*dd^2*ee + 32/5*cc*ee^2 + 3/5*dd*ee^2 + 1/5*ee^3 + 64/15*cc*dd*ff + (-4/15)*dd^2*ff + 272/15*cc*ee*ff + 36/5*dd*ee*ff + (-40/3)*ee^2*ff + (-224/15)*cc*ff^2 + 7/15*dd*ff^2 + 129/5*ee*ff^2 + (-34/3)*ff^3),\n",
       "  (120) * (cc*dd^2 + 3/20*dd^2*ee + (-1/5)*cc*ee^2 + (-3/10)*dd*ee^2 + 3/20*ee^3 + (-22/15)*cc*dd*ff + 11/120*dd^2*ff + 94/15*cc*ee*ff + (-27/20)*dd*ee*ff + 11/24*ee^2*ff + (-13/15)*cc*ff^2 + 11/60*dd*ff^2 + 11/10*ee*ff^2 + 11/24*ff^3)],\n",
       " [ee,\n",
       "  cc + (-2)*dd + 5*ff,\n",
       "  (5) * (dd + (-2.200000000000000? - 0.4000000000000000?*I)*ff) * (dd + (-2.200000000000000? + 0.4000000000000000?*I)*ff)],\n",
       " [(3) * (cc^2*dd + 1/3*cc^2*ee + 1/3*cc*dd*ee + (-5/3)*cc*ee^2 + (-7/3)*cc^2*ff + 1/3*cc*dd*ff + (-2/3)*cc*ee*ff + (-1/3)*dd*ee*ff - ee^2*ff + (-5/3)*cc*ff^2 - ee*ff^2),\n",
       "  (12) * (cc^3 + 1/2*cc*dd^2 + 4/3*cc^2*ee + (-2/3)*cc*dd*ee + (-1/4)*dd^2*ee + 23/6*cc*ee^2 + (-1/2)*dd*ee^2 + (-5/4)*ee^3 + 5/3*cc^2*ff + (-2/3)*cc*dd*ff + (-1/4)*dd^2*ff + (-11/3)*cc*ee*ff + (-1/3)*dd*ee*ff + 5/4*ee^2*ff + 17/6*cc*ff^2 + (-1/2)*dd*ff^2 + 9/4*ee*ff^2 + (-5/4)*ff^3),\n",
       "  (8) * (cc*dd*ee^2 + (-5/8)*dd^2*ee^2 + (-5/4)*dd*ee^3 + (-25/8)*ee^4 + (-3/4)*cc*dd^2*ff + (-1/2)*cc^2*ee*ff + (-2)*cc*dd*ee*ff + (-3/8)*dd^2*ee*ff + (-23/4)*cc*ee^2*ff - dd*ee^2*ff + (-17/8)*ee^3*ff + (-3/2)*cc^2*ff^2 - cc*dd*ff^2 + (-1/4)*dd^2*ff^2 + (-3/2)*cc*ee*ff^2 + 3/4*dd*ee*ff^2 + 19/8*ee^2*ff^2 + 13/4*cc*ff^3 + (-1/2)*dd*ff^3 + 17/8*ee*ff^3 + (-5/4)*ff^4),\n",
       "  (16) * (cc^2*ee^2 + 25/16*dd^2*ee^2 + 5/2*cc*ee^3 + 25/8*dd*ee^3 + 125/16*ee^4 + 9/8*cc*dd^2*ff + 11/4*cc^2*ee*ff + 11/2*cc*dd*ee*ff + 21/16*dd^2*ee*ff + 101/8*cc*ee^2*ff + 15/4*dd*ee^2*ff + 91/16*ee^3*ff + 17/4*cc^2*ff^2 + 7/2*cc*dd*ff^2 + dd^2*ff^2 + 23/4*cc*ee*ff^2 + 1/8*dd*ee*ff^2 + (-77/16)*ee^2*ff^2 + (-39/8)*cc*ff^3 + 2*dd*ff^3 + (-91/16)*ee*ff^3 + 5*ff^4),\n",
       "  (12) * (cc*dd^2*ee + 3/4*dd^2*ee^2 + cc*ee^3 + 3/2*dd*ee^3 + 15/4*ee^4 + 3/2*cc*dd^2*ff + 5/3*cc^2*ee*ff + 8/3*cc*dd*ee*ff + 1/4*dd^2*ee*ff + 49/6*cc*ee^2*ff + 3/4*ee^3*ff + 7/3*cc^2*ff^2 + (-4/3)*cc*dd*ff^2 + 1/2*dd^2*ff^2 + (-4/3)*cc*ee*ff^2 + (-7/6)*dd*ee*ff^2 + (-9/4)*ee^2*ff^2 + 1/6*cc*ff^3 + dd*ff^3 + (-3/4)*ee*ff^3 + 5/2*ff^4),\n",
       "  (24) * (cc*dd^3 + (-1/2)*dd^3*ee + (-15/8)*dd^2*ee^2 + (-2)*cc*ee^3 + (-17/4)*dd*ee^3 + (-35/8)*ee^4 + (-5/4)*cc*dd^2*ff + (-1/2)*dd^3*ff + (-29/6)*cc^2*ee*ff + (-28/3)*cc*dd*ee*ff + (-13/8)*dd^2*ee*ff + (-139/12)*cc*ee^2*ff + (-3/2)*dd*ee^2*ff + 25/8*ee^3*ff + (-7/6)*cc^2*ff^2 + 2/3*cc*dd*ff^2 + (-5/4)*dd^2*ff^2 + 85/6*cc*ee*ff^2 + 1/12*dd*ee*ff^2 + (-3/8)*ee^2*ff^2 + (-151/12)*cc*ff^3 + (-3)*dd*ff^3 + (-25/8)*ee*ff^3 + (-5/4)*ff^4),\n",
       "  (60) * (dd^3*ee^2 + 16/5*dd^2*ee^3 + 8/5*cc*ee^4 + 37/5*dd*ee^4 + 6*ee^5 + 6/5*dd^3*ee*ff + 91/20*dd^2*ee^2*ff + 26/5*cc*ee^3*ff + 91/10*dd*ee^3*ff + 159/20*ee^4*ff + 19/10*cc*dd^2*ff^2 + dd^3*ff^2 + 19/15*cc^2*ee*ff^2 + 26/3*cc*dd*ee*ff^2 + 39/20*dd^2*ee*ff^2 + 97/6*cc*ee^2*ff^2 + 3/5*dd*ee^2*ff^2 + 73/20*ee^3*ff^2 + 53/15*cc^2*ff^3 + 82/15*cc*dd*ff^3 + 2/5*dd^2*ff^3 + (-1/3)*cc*ee*ff^3 + (-143/30)*dd*ee*ff^3 + (-19/4)*ee^2*ff^3 + (-391/30)*cc*ff^4 + 9/5*dd*ff^4 + (-1/20)*ee*ff^4 + (-8)*ff^5)],\n",
       " [dd - ee + ff,\n",
       "  cc - ee + 2*ff,\n",
       "  (2) * (ee + (-2.500000000000000? - 0.500000000000000?*I)*ff) * (ee + (-2.500000000000000? + 0.500000000000000?*I)*ff)],\n",
       " [ee,\n",
       "  cc + (-10)*dd + 5*ff,\n",
       "  (25) * (dd + (-0.4400000000000000? - 0.0800000000000000?*I)*ff) * (dd + (-0.4400000000000000? + 0.0800000000000000?*I)*ff)],\n",
       " [dd + ee - ff,\n",
       "  (13) * (ee^2 + 8/13*cc*ff + (-30/13)*ee*ff + 10/13*ff^2),\n",
       "  (13) * (cc^2 - cc*ee + 11/13*cc*ff + 1/13*ee*ff + 4/13*ff^2)]]"
      ]
     },
     "execution_count": 158,
     "metadata": {},
     "output_type": "execute_result"
    }
   ],
   "source": [
    "ss"
   ]
  },
  {
   "cell_type": "code",
   "execution_count": null,
   "id": "9d0deddc-48bd-4b04-b5d0-210d0476ea59",
   "metadata": {},
   "outputs": [],
   "source": []
  }
 ],
 "metadata": {
  "kernelspec": {
   "display_name": "SageMath 9.4",
   "language": "sage",
   "name": "sagemath"
  },
  "language_info": {
   "codemirror_mode": {
    "name": "ipython",
    "version": 3
   },
   "file_extension": ".py",
   "mimetype": "text/x-python",
   "name": "python",
   "nbconvert_exporter": "python",
   "pygments_lexer": "ipython3",
   "version": "3.7.12"
  }
 },
 "nbformat": 4,
 "nbformat_minor": 5
}
