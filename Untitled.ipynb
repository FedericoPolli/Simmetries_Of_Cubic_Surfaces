{
 "cells": [
  {
   "cell_type": "code",
   "execution_count": 2,
   "id": "4b1a48d8-8483-4470-8a9d-3364d0522399",
   "metadata": {},
   "outputs": [
    {
     "data": {
      "text/plain": [
       "(b, c, d, e, f)"
      ]
     },
     "execution_count": 2,
     "metadata": {},
     "output_type": "execute_result"
    }
   ],
   "source": [
    "var('b,c,d,e,f')"
   ]
  },
  {
   "cell_type": "code",
   "execution_count": 4,
   "id": "5048abed-2d04-4e3e-92e5-37a1dd3480ad",
   "metadata": {},
   "outputs": [
    {
     "data": {
      "text/plain": [
       "[[e == r3, f == (1/13*I + 5/13)*r3], [e == r4, f == -(1/13*I - 5/13)*r4]]"
      ]
     },
     "execution_count": 4,
     "metadata": {},
     "output_type": "execute_result"
    }
   ],
   "source": [
    "solve(2*e^2 - 10*e*f + 13*f^2, [e,f])"
   ]
  },
  {
   "cell_type": "code",
   "execution_count": null,
   "id": "d8d0d91f-0981-4f14-92f1-25c74858a258",
   "metadata": {},
   "outputs": [],
   "source": []
  }
 ],
 "metadata": {
  "kernelspec": {
   "display_name": "SageMath 9.3",
   "language": "sage",
   "name": "sagemath"
  },
  "language_info": {
   "codemirror_mode": {
    "name": "ipython",
    "version": 3
   },
   "file_extension": ".py",
   "mimetype": "text/x-python",
   "name": "python",
   "nbconvert_exporter": "python",
   "pygments_lexer": "ipython3",
   "version": "3.7.10"
  }
 },
 "nbformat": 4,
 "nbformat_minor": 5
}
