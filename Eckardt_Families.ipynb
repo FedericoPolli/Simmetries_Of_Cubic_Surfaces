{
 "cells": [
  {
   "cell_type": "code",
   "execution_count": 2,
   "id": "3a994404",
   "metadata": {},
   "outputs": [],
   "source": [
    "load('Imports/Utility.sage', 'Imports/Point.sage', 'Imports/Line.sage', 'Imports/TritangentPlane.sage', 'Imports/Group.sage', 'Imports/Cubic.sage')\n",
    "import multiprocessing as mp\n",
    "import pickle"
   ]
  },
  {
   "cell_type": "code",
   "execution_count": 3,
   "id": "65d9f9eb",
   "metadata": {},
   "outputs": [],
   "source": [
    "def get_unique_conditions(cubic):\n",
    "    ideals = []\n",
    "    gb = []\n",
    "    table = []\n",
    "    for pl in cubic.tritangent_planes:\n",
    "        if pl.labels in [plane.labels for plane in cubic.tritangent_planes if plane.conditions==0]:\n",
    "            continue\n",
    "        poly = pl.conditions\n",
    "        flag = True\n",
    "        for ideal in ideals:\n",
    "            if poly in ideal:\n",
    "                table.append([pl.labels, gb.index(ideal.groebner_basis()[0])+1])\n",
    "                flag = False\n",
    "                break\n",
    "        if flag == True:\n",
    "            ideals.append(P.ideal(poly))\n",
    "            gb.append(P.ideal(poly).groebner_basis()[0])\n",
    "            table.append([pl.labels, gb.index(P.ideal(poly).groebner_basis()[0])+1])\n",
    "    return [poly*poly.denominator() for poly in gb], table"
   ]
  },
  {
   "cell_type": "code",
   "execution_count": 4,
   "id": "9ac005b6-9c5e-440f-86e6-a658286828c3",
   "metadata": {},
   "outputs": [],
   "source": [
    "xx = QQ['xx'].0\n",
    "Q.<i_rad3_minus_rad5> = NumberField(xx^4 - 4*xx^2 + 64)"
   ]
  },
  {
   "cell_type": "code",
   "execution_count": 5,
   "id": "aa1e412a",
   "metadata": {},
   "outputs": [],
   "source": [
    "i_rad3 = 1/16*i_rad3_minus_rad5^3 + 1/4*i_rad3_minus_rad5\n",
    "rad5 = 1/16*i_rad3_minus_rad5^3 - 3/4*i_rad3_minus_rad5"
   ]
  },
  {
   "cell_type": "code",
   "execution_count": 6,
   "id": "21c71100-3207-4c93-a238-cdc215bb1e25",
   "metadata": {},
   "outputs": [],
   "source": [
    "P.<x,y,z,t,b,c,d,e,f,l,m> = PolynomialRing(Q)\n",
    "mon=((x+y+z+t)^3).monomials()\n",
    "L_set_base = ('E1', 'G4', 'E2', 'G3', 'E3')"
   ]
  },
  {
   "cell_type": "code",
   "execution_count": 7,
   "id": "cc1bbe8a-8343-42d2-80f6-01ac5d210593",
   "metadata": {},
   "outputs": [],
   "source": [
    "# Define general cubic"
   ]
  },
  {
   "cell_type": "code",
   "execution_count": 8,
   "id": "9007dd29-0213-41c6-8118-5d2e95590dbe",
   "metadata": {},
   "outputs": [],
   "source": [
    "cubic_new = e*f*(2*x^2*y-2*x*y^2+x*z^2-x*z*t-y*t^2+y*z*t)+b*c*(x-t)*(x*z+y*t)+c*c*(z+t)*(y*t-x*z)+d*c*(y-z)*(x*z+y*t)+(e+f)*c*(x-y)*(y*t-x*z)\n",
    "sing_cubics = (-1) * (-c + f) * (-c + e) * c * (c + f) * (c + e) * (-e + f) * (-c*d + c*f + e*f) * (-c*d + c*e + e*f) * (-c^2 - c*d + e*f) * (b*c - c*f + e*f) * (b*c - c*e + e*f) * (b*c - c*d + 2*e*f) * (b*c - c^2 + e*f) * (b*c^2 + c^2*d + b*c*f - 2*c^2*f - c*d*f + 2*e*f^2) * (b*c^2 + c^2*d + b*c*e - 2*c^2*e - c*d*e + 2*e^2*f) * (-b*c^3 - 2*b*c^2*d + c^3*d + b*c^2*e + c^2*d*e + b*c^2*f + c^2*d*f + 3*b*c*e*f - 4*c^2*e*f - 3*c*d*e*f + 4*e^2*f^2)"
   ]
  },
  {
   "cell_type": "code",
   "execution_count": 9,
   "id": "c28e8082-18e0-44b0-af00-7900dee38681",
   "metadata": {},
   "outputs": [],
   "source": [
    "line = Line([y, z])\n",
    "general_cubic = Cubic(cubic_new, line, sing_cubics)"
   ]
  },
  {
   "cell_type": "code",
   "execution_count": 10,
   "id": "7bf3d354-6e4f-4501-8795-e04f9f681273",
   "metadata": {},
   "outputs": [],
   "source": [
    "# Cubic surfaces with one Eckardt point"
   ]
  },
  {
   "cell_type": "code",
   "execution_count": 11,
   "id": "48c28964-77e8-4e46-aa74-0cbd150418bb",
   "metadata": {},
   "outputs": [
    {
     "data": {
      "text/html": [
       "<html>\\[\\newcommand{\\Bold}[1]{\\mathbf{#1}}b c + c^{2} + e f\\]</html>"
      ],
      "text/latex": [
       "$$\\newcommand{\\Bold}[1]{\\mathbf{#1}}b c + c^{2} + e f$$"
      ],
      "text/plain": [
       "b*c + c^2 + e*f"
      ]
     },
     "metadata": {},
     "output_type": "display_data"
    }
   ],
   "source": [
    "show([plane.conditions for plane in general_cubic.tritangent_planes if plane.labels == ['E1', 'G4', 'F14']][0])"
   ]
  },
  {
   "cell_type": "code",
   "execution_count": 12,
   "id": "71389293-9ff4-4f1d-a9d6-2d5fb78c1c8d",
   "metadata": {},
   "outputs": [
    {
     "data": {
      "text/plain": [
       "[['E1', 'G4', 'F14']]"
      ]
     },
     "execution_count": 12,
     "metadata": {},
     "output_type": "execute_result"
    }
   ],
   "source": [
    "SE1 = general_cubic.subs({b:-(c*c+e*f)/c})\n",
    "SE1.eckardt_points_labels"
   ]
  },
  {
   "cell_type": "code",
   "execution_count": 13,
   "id": "9410a6c9-3605-41c9-910a-56b4702bd4eb",
   "metadata": {},
   "outputs": [],
   "source": [
    "# Cubic surfaces with two Eckardt points"
   ]
  },
  {
   "cell_type": "code",
   "execution_count": 14,
   "id": "f85947e9-ab14-42f3-8e5e-967a57c4f527",
   "metadata": {},
   "outputs": [
    {
     "data": {
      "text/html": [
       "<html>\\[\\newcommand{\\Bold}[1]{\\mathbf{#1}}c^{2} - c d + e f\\]</html>"
      ],
      "text/latex": [
       "$$\\newcommand{\\Bold}[1]{\\mathbf{#1}}c^{2} - c d + e f$$"
      ],
      "text/plain": [
       "c^2 - c*d + e*f"
      ]
     },
     "metadata": {},
     "output_type": "display_data"
    }
   ],
   "source": [
    "show([plane.conditions for plane in SE1.tritangent_planes if plane.labels == ['E2', 'G4', 'F24']][0])"
   ]
  },
  {
   "cell_type": "code",
   "execution_count": 15,
   "id": "b41ac9cc-454c-41b1-9c5f-18faadd7f393",
   "metadata": {},
   "outputs": [
    {
     "data": {
      "text/plain": [
       "[['E1', 'G4', 'F14'], ['E2', 'G4', 'F24']]"
      ]
     },
     "execution_count": 15,
     "metadata": {},
     "output_type": "execute_result"
    }
   ],
   "source": [
    "SE2 = SE1.subs({d:(c*c+e*f)/c})\n",
    "SE2.eckardt_points_labels"
   ]
  },
  {
   "cell_type": "code",
   "execution_count": 16,
   "id": "00099f54-394f-4df2-8bc9-b7b9d9c14a5b",
   "metadata": {},
   "outputs": [],
   "source": [
    "Q2, table2 = get_unique_conditions(SE2)"
   ]
  },
  {
   "cell_type": "code",
   "execution_count": 17,
   "id": "272901e3-b505-433d-8a02-5cbf3ac5919b",
   "metadata": {},
   "outputs": [
    {
     "name": "stdout",
     "output_type": "stream",
     "text": [
      "Q_1 = c^2 - c*e - c*f - 3*e*f, Eckardt points = 4\n",
      "Q_2 = 3*c^2 + c*e + c*f - e*f, Eckardt points = 4\n",
      "Q_3 = c^2 + 3*c*e - c*f + e*f, Eckardt points = 4\n",
      "Q_4 = c^2 - c*e + 3*c*f + e*f, Eckardt points = 4\n",
      "Q_5 = c^2 + c*e + c*f - 3*e*f, Eckardt points = 4\n",
      "Q_6 = 3*c^2 - c*e - c*f - e*f, Eckardt points = 4\n",
      "Q_7 = c^2 - 3*c*e + c*f + e*f, Eckardt points = 4\n",
      "Q_8 = c^2 + c*e - 3*c*f + e*f, Eckardt points = 4\n",
      "Q_9 = c^2 + e*f, Eckardt points = 6\n",
      "Q_10 = 1, Eckardt points = 25\n"
     ]
    }
   ],
   "source": [
    "for i in range(1,len(Q2)+1):\n",
    "    print(\"Q_\"+str(i)+\" = \"+str(Q2[i-1])+\", Eckardt points = \"+str(len([el[0] for el in table2 if el[1]==i])+2))"
   ]
  },
  {
   "cell_type": "code",
   "execution_count": null,
   "id": "5a27671e-7280-4da2-8099-d41ca053a01e",
   "metadata": {},
   "outputs": [],
   "source": [
    "# Cubic surfaces with three Eckardt points"
   ]
  },
  {
   "cell_type": "code",
   "execution_count": 18,
   "id": "80871e27-340d-468d-a271-5b8443902c97",
   "metadata": {},
   "outputs": [
    {
     "data": {
      "text/html": [
       "<html>\\[\\newcommand{\\Bold}[1]{\\mathbf{#1}}-c^{2} - 2 c d + c e + c f + 3 e f\\]</html>"
      ],
      "text/latex": [
       "$$\\newcommand{\\Bold}[1]{\\mathbf{#1}}-c^{2} - 2 c d + c e + c f + 3 e f$$"
      ],
      "text/plain": [
       "-c^2 - 2*c*d + c*e + c*f + 3*e*f"
      ]
     },
     "metadata": {},
     "output_type": "display_data"
    }
   ],
   "source": [
    "show([plane.conditions for plane in SE1.tritangent_planes if plane.labels == ['E2', 'G3', 'F23']][0])"
   ]
  },
  {
   "cell_type": "code",
   "execution_count": 20,
   "id": "d47fe34e-d978-48f7-a34d-56d6ea415d93",
   "metadata": {},
   "outputs": [
    {
     "data": {
      "text/plain": [
       "[['E1', 'G4', 'F14'], ['E2', 'G3', 'F23'], ['F13', 'F24', 'F56']]"
      ]
     },
     "execution_count": 20,
     "metadata": {},
     "output_type": "execute_result"
    }
   ],
   "source": [
    "SE3 = SE1.subs({d:(3*e*f - c^2 + c*f + c*e)/(2*c)})\n",
    "SE3.eckardt_points_labels"
   ]
  },
  {
   "cell_type": "code",
   "execution_count": 14,
   "id": "8cbf5d69",
   "metadata": {},
   "outputs": [],
   "source": [
    "SE6 = SE3.subs({f: -c*(5*c+e)/(c+e)})\n",
    "SE9 = SE3.subs({e : i_rad3*c})\n",
    "SE10 = SE4.subs({e : (2-rad5)*c})\n",
    "SE18 = SE4.subs({e : i_rad3*c})"
   ]
  },
  {
   "cell_type": "code",
   "execution_count": 18,
   "id": "8e67465c",
   "metadata": {},
   "outputs": [],
   "source": [
    "# STUDY SUBFAMILIES"
   ]
  },
  {
   "cell_type": "code",
   "execution_count": 20,
   "id": "65968370",
   "metadata": {},
   "outputs": [],
   "source": [
    "# CONDITIONS FOR SE3"
   ]
  },
  {
   "cell_type": "code",
   "execution_count": 24,
   "id": "b5e0f5f8",
   "metadata": {},
   "outputs": [],
   "source": [
    "Q3, table3 = get_unique_conditions(SE3)"
   ]
  },
  {
   "cell_type": "code",
   "execution_count": 27,
   "id": "62655ba5",
   "metadata": {},
   "outputs": [
    {
     "name": "stdout",
     "output_type": "stream",
     "text": [
      "Q_1 = 5*c^2 - c*e - c*f + e*f, Eckardt points = 6\n",
      "Q_2 = 3*c^2 + c*e + c*f - e*f, Eckardt points = 4\n",
      "Q_3 = c^2 + 3*c*e - c*f + e*f, Eckardt points = 6\n",
      "Q_4 = c^2 - c*e + 3*c*f + e*f, Eckardt points = 6\n",
      "Q_5 = 5*c^2 + c*e + c*f + e*f, Eckardt points = 6\n",
      "Q_6 = 3*c^2 - c*e - c*f - e*f, Eckardt points = 4\n",
      "Q_7 = c^2 + c*e - 3*c*f + e*f, Eckardt points = 6\n",
      "Q_8 = c^2 - 3*c*e + c*f + e*f, Eckardt points = 6\n",
      "Q_9 = c^2 + e*f, Eckardt points = 6\n",
      "Q_10 = 3*c^2 + e^2, Eckardt points = 9\n",
      "Q_11 = 3*c^2 + f^2, Eckardt points = 9\n",
      "Q_12 = 2*c - e + f, Eckardt points = 6\n",
      "Q_13 = 2*c + e - f, Eckardt points = 6\n",
      "Q_14 = e + f, Eckardt points = 4\n"
     ]
    }
   ],
   "source": [
    "for i in range(1,len(Q3)+1):\n",
    "    print(\"Q_\"+str(i)+\" = \"+str(Q3[i-1])+\", Eckardt points = \"+str(len([el[0] for el in table3 if el[1]==i])+3))"
   ]
  },
  {
   "cell_type": "code",
   "execution_count": 23,
   "id": "8176cad8",
   "metadata": {},
   "outputs": [],
   "source": [
    "# SUBFAMILIES OF SE3 WITH 4 ECKARDT POINTS"
   ]
  },
  {
   "cell_type": "code",
   "execution_count": 28,
   "id": "490a71d7",
   "metadata": {},
   "outputs": [
    {
     "data": {
      "text/plain": [
       "[['E1', 'G4', 'F14'],\n",
       " ['E2', 'G3', 'F23'],\n",
       " ['F13', 'F24', 'F56'],\n",
       " ['F14', 'F23', 'F56']]"
      ]
     },
     "execution_count": 28,
     "metadata": {},
     "output_type": "execute_result"
    }
   ],
   "source": [
    "k3 = SE3.subs({f:-e})\n",
    "k3.eckardt_points_labels"
   ]
  },
  {
   "cell_type": "code",
   "execution_count": 29,
   "id": "b5b318cf",
   "metadata": {},
   "outputs": [
    {
     "data": {
      "text/plain": [
       "[['E1', 'G3', 'F13'],\n",
       " ['E1', 'G4', 'F14'],\n",
       " ['E2', 'G3', 'F23'],\n",
       " ['F13', 'F24', 'F56']]"
      ]
     },
     "execution_count": 29,
     "metadata": {},
     "output_type": "execute_result"
    }
   ],
   "source": [
    "k1 = SE3.subs({f:c*(3*c+e)/(e-c)})\n",
    "k1.eckardt_points_labels"
   ]
  },
  {
   "cell_type": "code",
   "execution_count": 30,
   "id": "6bf2db07",
   "metadata": {
    "scrolled": true
   },
   "outputs": [
    {
     "data": {
      "text/plain": [
       "[['E1', 'G4', 'F14'],\n",
       " ['E2', 'G3', 'F23'],\n",
       " ['E2', 'G4', 'F24'],\n",
       " ['F13', 'F24', 'F56']]"
      ]
     },
     "execution_count": 30,
     "metadata": {},
     "output_type": "execute_result"
    }
   ],
   "source": [
    "k2 = SE3.subs({f:c*(3*c-e)/(c+e)})\n",
    "k2.eckardt_points_labels"
   ]
  },
  {
   "cell_type": "code",
   "execution_count": 31,
   "id": "1f566843",
   "metadata": {},
   "outputs": [],
   "source": [
    "L_set_k3 = ('E1', 'F14', 'F23', 'G3', 'G1')\n",
    "L_set_k1 = ('G4', 'E1', 'G3', 'E2', 'G2')"
   ]
  },
  {
   "cell_type": "code",
   "execution_count": 32,
   "id": "80f26909-2cd8-4a23-b58b-b3160955547e",
   "metadata": {},
   "outputs": [],
   "source": [
    "# Want to prove that the three families are projectively equivalent\n",
    "# i.e. for any cubic S1 in k1, S2 in k2, S3 in k3\n",
    "# there exist c1, e1, c3, e3 such that M^-1(S2) = S1(c1, e1) = S3(c3, e3)"
   ]
  },
  {
   "cell_type": "code",
   "execution_count": 34,
   "id": "1b338ed0",
   "metadata": {},
   "outputs": [],
   "source": [
    "proj_k3_SE4 = find_projectivity(k3.get_L_set_in_plucker(L_set_k3), k2.get_L_set_in_plucker(L_set_base))\n",
    "proj_k1_SE4 = find_projectivity(k1.get_L_set_in_plucker(L_set_k1), k2.get_L_set_in_plucker(L_set_base))"
   ]
  },
  {
   "cell_type": "code",
   "execution_count": 35,
   "id": "b6a5f346-03dc-477c-aca1-e40815b939a3",
   "metadata": {},
   "outputs": [],
   "source": [
    "SE4=k2"
   ]
  },
  {
   "cell_type": "code",
   "execution_count": 32,
   "id": "742e8204",
   "metadata": {},
   "outputs": [],
   "source": [
    "# SUBFAMILIES OF SE3 WITH 9 ECKARDT POINTS"
   ]
  },
  {
   "cell_type": "code",
   "execution_count": 74,
   "id": "f6c4193f",
   "metadata": {},
   "outputs": [],
   "source": [
    "u1 = SE3.subs({e : i_rad3*c})\n",
    "u2 = SE3.subs({e : -i_rad3*c})\n",
    "L_set_u1 = ('F46', 'G6', 'F26', 'F15', 'E3')\n",
    "proj_u1 = find_projectivity(u1.get_L_set_in_plucker(L_set_u1), u1.get_L_set_in_plucker(L_set_base))"
   ]
  },
  {
   "cell_type": "code",
   "execution_count": 70,
   "id": "3cede442-d7cb-447c-ab5a-32043c13d8a8",
   "metadata": {},
   "outputs": [],
   "source": [
    "proj_u1 = find_projectivity(u1.get_L_set_in_plucker(L_set_u1), u1.get_L_set_in_plucker(L_set_base))\n",
    "proj_u1 = proj_u1/(proj_u1.list()[0].coefficients()[0])\n",
    "proj_u1 = proj_u1*proj_u1.denominator()\n",
    "proj_u1_inv = proj_u1.inverse()\n",
    "proj_u1_inv = (proj_u1_inv*proj_u1_inv.denominator()).change_ring(P)"
   ]
  },
  {
   "cell_type": "code",
   "execution_count": 71,
   "id": "e03a3ce0-1a64-472b-9939-8d8c4c92ab9a",
   "metadata": {},
   "outputs": [],
   "source": [
    "new_u2 = u2.subs({c:f-c, f: -c+2*i_rad3*c-f})\n",
    "inverse_u1 = u1.subs(change_coord(proj_u1_inv))"
   ]
  },
  {
   "cell_type": "code",
   "execution_count": 72,
   "id": "ca400b59-62fe-44fe-b10b-300e4cffca5a",
   "metadata": {},
   "outputs": [
    {
     "data": {
      "text/plain": [
       "True"
      ]
     },
     "execution_count": 72,
     "metadata": {},
     "output_type": "execute_result"
    }
   ],
   "source": [
    "are_cubics_same(new_u2, inverse_u1)"
   ]
  },
  {
   "cell_type": "code",
   "execution_count": 73,
   "id": "704f89f6-7f38-4733-9f90-44c42151a7eb",
   "metadata": {},
   "outputs": [
    {
     "data": {
      "text/plain": [
       "True"
      ]
     },
     "execution_count": 73,
     "metadata": {},
     "output_type": "execute_result"
    }
   ],
   "source": [
    "are_cubics_same(new_u2.subs(change_coord(proj_u1)), u1)"
   ]
  },
  {
   "cell_type": "code",
   "execution_count": 38,
   "id": "2cf15a7f",
   "metadata": {},
   "outputs": [],
   "source": [
    "# CONDITIONS FOR SE4"
   ]
  },
  {
   "cell_type": "code",
   "execution_count": 39,
   "id": "7808d474",
   "metadata": {},
   "outputs": [],
   "source": [
    "Q4, table4 = get_unique_conditions(SE4)"
   ]
  },
  {
   "cell_type": "code",
   "execution_count": 40,
   "id": "4a5c5cc4",
   "metadata": {},
   "outputs": [
    {
     "name": "stdout",
     "output_type": "stream",
     "text": [
      "(c + (1/16*i_rad3_minus_rad5^3 - 3/4*i_rad3_minus_rad5 + 2)*e) * (c + (-1/16*i_rad3_minus_rad5^3 + 3/4*i_rad3_minus_rad5 + 2)*e)   10\n",
      "\n",
      "(3) * (c + (1/48*i_rad3_minus_rad5^3 + 1/12*i_rad3_minus_rad5)*e) * (c + (-1/48*i_rad3_minus_rad5^3 - 1/12*i_rad3_minus_rad5)*e)   18\n",
      "\n",
      "(c + (1/16*i_rad3_minus_rad5^3 - 3/4*i_rad3_minus_rad5 - 2)*e) * (c + (-1/16*i_rad3_minus_rad5^3 + 3/4*i_rad3_minus_rad5 - 2)*e)   10\n",
      "\n",
      "(5) * (c + (1/80*i_rad3_minus_rad5^3 - 3/20*i_rad3_minus_rad5)*e) * (c + (-1/80*i_rad3_minus_rad5^3 + 3/20*i_rad3_minus_rad5)*e)   10\n",
      "\n",
      "1   13\n",
      "\n"
     ]
    }
   ],
   "source": [
    "for i in range(1,len(Q4)+1):\n",
    "    print(Q4[i-1].factor(), \" \", len([el[0] for el in table4 if el[1]==i])+4)\n",
    "    print()"
   ]
  },
  {
   "cell_type": "code",
   "execution_count": 41,
   "id": "266909cc-5e1d-4c12-a78c-697aa9897f08",
   "metadata": {},
   "outputs": [
    {
     "data": {
      "text/plain": [
       "[[[(-1/16*i_rad3_minus_rad5^3 + 3/4*i_rad3_minus_rad5 + 2)*c],\n",
       "  [(1/16*i_rad3_minus_rad5^3 - 3/4*i_rad3_minus_rad5 + 2)*c]],\n",
       " [[(1/16*i_rad3_minus_rad5^3 + 1/4*i_rad3_minus_rad5)*c],\n",
       "  [(-1/16*i_rad3_minus_rad5^3 - 1/4*i_rad3_minus_rad5)*c]],\n",
       " [[(-1/16*i_rad3_minus_rad5^3 + 3/4*i_rad3_minus_rad5 - 2)*c],\n",
       "  [(1/16*i_rad3_minus_rad5^3 - 3/4*i_rad3_minus_rad5 - 2)*c]],\n",
       " [[(-1/16*i_rad3_minus_rad5^3 + 3/4*i_rad3_minus_rad5)*c],\n",
       "  [(1/16*i_rad3_minus_rad5^3 - 3/4*i_rad3_minus_rad5)*c]]]"
      ]
     },
     "execution_count": 41,
     "metadata": {},
     "output_type": "execute_result"
    }
   ],
   "source": [
    "[[solve_linear_system_in_fraction_field([q[0]], [e], [c]) for q in Q4[i].factor()] for i in range(4)]"
   ]
  },
  {
   "cell_type": "code",
   "execution_count": 42,
   "id": "431e204e-8e72-4e3f-9511-7589d28f9566",
   "metadata": {},
   "outputs": [
    {
     "data": {
      "text/plain": [
       "(1/16*i_rad3_minus_rad5^3 + 1/4*i_rad3_minus_rad5,\n",
       " 1/16*i_rad3_minus_rad5^3 - 3/4*i_rad3_minus_rad5)"
      ]
     },
     "execution_count": 42,
     "metadata": {},
     "output_type": "execute_result"
    }
   ],
   "source": [
    "i_rad3, rad5"
   ]
  },
  {
   "cell_type": "code",
   "execution_count": 43,
   "id": "86fe28df",
   "metadata": {},
   "outputs": [],
   "source": [
    "# SUBFAMILIES OF SE4 WITH 10 ECKARDT POINTS"
   ]
  },
  {
   "cell_type": "code",
   "execution_count": null,
   "id": "a80bc2c5-cef8-4832-95c1-4a6cb3018b31",
   "metadata": {},
   "outputs": [],
   "source": []
  },
  {
   "cell_type": "code",
   "execution_count": 44,
   "id": "7b4c7dae",
   "metadata": {},
   "outputs": [],
   "source": [
    "# CONDITIONS FOR SE6"
   ]
  },
  {
   "cell_type": "code",
   "execution_count": 45,
   "id": "0c0e5029",
   "metadata": {},
   "outputs": [],
   "source": [
    "Q6, table6 = get_unique_conditions(SE6)"
   ]
  },
  {
   "cell_type": "code",
   "execution_count": 46,
   "id": "e286d0c2",
   "metadata": {},
   "outputs": [
    {
     "name": "stdout",
     "output_type": "stream",
     "text": [
      "(5) * (c + (1/80*i_rad3_minus_rad5^3 - 3/20*i_rad3_minus_rad5)*e) * (c + (-1/80*i_rad3_minus_rad5^3 + 3/20*i_rad3_minus_rad5)*e)   10\n",
      "(c + (1/16*i_rad3_minus_rad5^3 - 3/4*i_rad3_minus_rad5 - 2)*e) * (c + (-1/16*i_rad3_minus_rad5^3 + 3/4*i_rad3_minus_rad5 - 2)*e)   10\n",
      "(3) * (c + (1/48*i_rad3_minus_rad5^3 + 1/12*i_rad3_minus_rad5)*e) * (c + (-1/48*i_rad3_minus_rad5^3 - 1/12*i_rad3_minus_rad5)*e)   18\n",
      "(7) * (c + (1/112*i_rad3_minus_rad5^3 + 1/28*i_rad3_minus_rad5 + 2/7)*e) * (c + (-1/112*i_rad3_minus_rad5^3 - 1/28*i_rad3_minus_rad5 + 2/7)*e)   18\n",
      "1   13\n"
     ]
    }
   ],
   "source": [
    "for i in range(1,len(Q6)+1):\n",
    "    print(Q6[i-1].factor(), \" \", len([el[0] for el in table6 if el[1]==i])+6)"
   ]
  },
  {
   "cell_type": "code",
   "execution_count": 47,
   "id": "dd12c3a7-cbf8-4990-af08-df12219b678f",
   "metadata": {},
   "outputs": [
    {
     "data": {
      "text/plain": [
       "[[[(-1/16*i_rad3_minus_rad5^3 + 3/4*i_rad3_minus_rad5)*c],\n",
       "  [(1/16*i_rad3_minus_rad5^3 - 3/4*i_rad3_minus_rad5)*c]],\n",
       " [[(-1/16*i_rad3_minus_rad5^3 + 3/4*i_rad3_minus_rad5 - 2)*c],\n",
       "  [(1/16*i_rad3_minus_rad5^3 - 3/4*i_rad3_minus_rad5 - 2)*c]],\n",
       " [[(1/16*i_rad3_minus_rad5^3 + 1/4*i_rad3_minus_rad5)*c],\n",
       "  [(-1/16*i_rad3_minus_rad5^3 - 1/4*i_rad3_minus_rad5)*c]],\n",
       " [[(1/16*i_rad3_minus_rad5^3 + 1/4*i_rad3_minus_rad5 - 2)*c],\n",
       "  [(-1/16*i_rad3_minus_rad5^3 - 1/4*i_rad3_minus_rad5 - 2)*c]]]"
      ]
     },
     "execution_count": 47,
     "metadata": {},
     "output_type": "execute_result"
    }
   ],
   "source": [
    "[[solve_linear_system_in_fraction_field([q[0]], [e], [c]) for q in Q6[i].factor()] for i in range(4)]"
   ]
  },
  {
   "cell_type": "code",
   "execution_count": 48,
   "id": "8193aa21-adfc-468a-8878-b513d588d69a",
   "metadata": {},
   "outputs": [
    {
     "data": {
      "text/plain": [
       "(1/16*i_rad3_minus_rad5^3 + 1/4*i_rad3_minus_rad5,\n",
       " 1/16*i_rad3_minus_rad5^3 - 3/4*i_rad3_minus_rad5)"
      ]
     },
     "execution_count": 48,
     "metadata": {},
     "output_type": "execute_result"
    }
   ],
   "source": [
    "i_rad3, rad5"
   ]
  },
  {
   "cell_type": "code",
   "execution_count": 49,
   "id": "2d0f174d",
   "metadata": {},
   "outputs": [],
   "source": [
    "# SUBFAMILIES OF SE6 WITH 10 ECKARDT POINTS"
   ]
  },
  {
   "cell_type": "code",
   "execution_count": null,
   "id": "1bf435ca",
   "metadata": {},
   "outputs": [],
   "source": []
  },
  {
   "cell_type": "code",
   "execution_count": 50,
   "id": "872e7fdc",
   "metadata": {},
   "outputs": [],
   "source": [
    "# SUBFAMILIES OF SE6 WITH 18 ECKARDT POINTS"
   ]
  },
  {
   "cell_type": "code",
   "execution_count": null,
   "id": "f4bf5e19",
   "metadata": {},
   "outputs": [],
   "source": []
  },
  {
   "cell_type": "code",
   "execution_count": 51,
   "id": "136b603c",
   "metadata": {},
   "outputs": [],
   "source": [
    "# CONDITIONS FOR SE9"
   ]
  },
  {
   "cell_type": "code",
   "execution_count": 52,
   "id": "2d2b6863",
   "metadata": {},
   "outputs": [],
   "source": [
    "Q9, table9 = get_unique_conditions(SE9)"
   ]
  },
  {
   "cell_type": "code",
   "execution_count": 53,
   "id": "2489edf0",
   "metadata": {},
   "outputs": [
    {
     "name": "stdout",
     "output_type": "stream",
     "text": [
      "(112) * (c + (1/112*i_rad3_minus_rad5^3 + 1/28*i_rad3_minus_rad5 - 2/7)*f)   18\n",
      "(48) * (c + (-1/48*i_rad3_minus_rad5^3 - 1/12*i_rad3_minus_rad5)*f)   18\n",
      "(112) * (c + (1/112*i_rad3_minus_rad5^3 + 1/28*i_rad3_minus_rad5 + 2/7)*f)   18\n",
      "(16) * (c + (1/16*i_rad3_minus_rad5^3 + 1/4*i_rad3_minus_rad5)*f)   18\n"
     ]
    }
   ],
   "source": [
    "for i in range(1,len(Q9)+1):\n",
    "    print(Q9[i-1].factor(), \" \", len([el[0] for el in table9 if el[1]==i])+9)"
   ]
  },
  {
   "cell_type": "code",
   "execution_count": 54,
   "id": "7e1a5895",
   "metadata": {},
   "outputs": [
    {
     "data": {
      "text/plain": [
       "[[(1/16*i_rad3_minus_rad5^3 + 1/4*i_rad3_minus_rad5 + 2)*c],\n",
       " [(-1/16*i_rad3_minus_rad5^3 - 1/4*i_rad3_minus_rad5)*c],\n",
       " [(1/16*i_rad3_minus_rad5^3 + 1/4*i_rad3_minus_rad5 - 2)*c],\n",
       " [(1/48*i_rad3_minus_rad5^3 + 1/12*i_rad3_minus_rad5)*c]]"
      ]
     },
     "execution_count": 54,
     "metadata": {},
     "output_type": "execute_result"
    }
   ],
   "source": [
    "[solve_linear_system_in_fraction_field([poly], [f], [c]) for poly in Q9]"
   ]
  },
  {
   "cell_type": "code",
   "execution_count": 55,
   "id": "56a947ac",
   "metadata": {},
   "outputs": [],
   "source": [
    "# SUBFAMILIES OF SE9 WITH 18 ECKARDT POINTS"
   ]
  },
  {
   "cell_type": "code",
   "execution_count": 56,
   "id": "c24c8a00",
   "metadata": {},
   "outputs": [
    {
     "data": {
      "text/plain": [
       "1/16*i_rad3_minus_rad5^3 + 1/4*i_rad3_minus_rad5"
      ]
     },
     "execution_count": 56,
     "metadata": {},
     "output_type": "execute_result"
    }
   ],
   "source": [
    "i_rad3"
   ]
  },
  {
   "cell_type": "code",
   "execution_count": 57,
   "id": "e0f17af4",
   "metadata": {},
   "outputs": [
    {
     "data": {
      "text/plain": [
       "1/16*i_rad3_minus_rad5^3 - 3/4*i_rad3_minus_rad5"
      ]
     },
     "execution_count": 57,
     "metadata": {},
     "output_type": "execute_result"
    }
   ],
   "source": [
    "rad5"
   ]
  },
  {
   "cell_type": "code",
   "execution_count": null,
   "id": "81995456-a3f1-471a-bc7d-5c2fa2fc1482",
   "metadata": {},
   "outputs": [],
   "source": []
  }
 ],
 "metadata": {
  "kernelspec": {
   "display_name": "SageMath 9.4",
   "language": "sage",
   "name": "sagemath"
  },
  "language_info": {
   "codemirror_mode": {
    "name": "ipython",
    "version": 3
   },
   "file_extension": ".py",
   "mimetype": "text/x-python",
   "name": "python",
   "nbconvert_exporter": "python",
   "pygments_lexer": "ipython3",
   "version": "3.7.12"
  }
 },
 "nbformat": 4,
 "nbformat_minor": 5
}
