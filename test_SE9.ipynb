{
 "cells": [
  {
   "cell_type": "code",
   "execution_count": 47,
   "id": "ddd9130c-c54b-44ad-9cec-2eeb96b6d313",
   "metadata": {},
   "outputs": [],
   "source": [
    "load('Imports/Utility.sage', 'Imports/Point.sage', 'Imports/Line.sage', 'Imports/Tritangent_plane.sage', 'Imports/Group.sage', 'Imports/Cubic.sage')\n",
    "import multiprocessing as mp\n",
    "import pickle"
   ]
  },
  {
   "cell_type": "code",
   "execution_count": 48,
   "id": "eb45b4f1-97a4-4118-9bbc-efd76b6d1752",
   "metadata": {},
   "outputs": [],
   "source": [
    "xx = QQ['xx'].0"
   ]
  },
  {
   "cell_type": "code",
   "execution_count": 49,
   "id": "26a049dc-fae1-4169-b745-df6be2ae79a1",
   "metadata": {},
   "outputs": [],
   "source": [
    "Q.<alpha> = NumberField(xx^2+3)"
   ]
  },
  {
   "cell_type": "code",
   "execution_count": 50,
   "id": "b50bf90c-f6eb-4fe9-ad9d-dd70112ad02d",
   "metadata": {},
   "outputs": [],
   "source": [
    "P.<x,y,z,t,b,c,d,e,f,l,m> = PolynomialRing(Q)"
   ]
  },
  {
   "cell_type": "code",
   "execution_count": 51,
   "id": "64a02f0d-6a1a-43c0-a4d0-383689878ed2",
   "metadata": {},
   "outputs": [],
   "source": [
    "cubic_new = e*f*(2*x^2*y-2*x*y^2+x*z^2-x*z*t-y*t^2+y*z*t)+b*c*(x-t)*(x*z+y*t)+c*c*(z+t)*(y*t-x*z)+d*c*(y-z)*(x*z+y*t)+(e+f)*c*(x-y)*(y*t-x*z)"
   ]
  },
  {
   "cell_type": "code",
   "execution_count": 52,
   "id": "4e9104d0-05ae-43d1-9892-6df3f085a4df",
   "metadata": {},
   "outputs": [],
   "source": [
    "sing_cubics = (-1) * (-c + f) * (-c + e) * c * (c + f) * (c + e) * (-e + f)^2 * (-c*d + c*f + e*f) * (-c*d + c*e + e*f) * (-c^2 - c*d + e*f) * (b*c - c*f + e*f) * (b*c - c*e + e*f) * (b*c - c*d + 2*e*f) * (b*c - c^2 + e*f) * (b*c^2 + c^2*d + b*c*f - 2*c^2*f - c*d*f + 2*e*f^2) * (b*c^2 + c^2*d + b*c*e - 2*c^2*e - c*d*e + 2*e^2*f) * (-b*c^3 - 2*b*c^2*d + c^3*d + b*c^2*e + c^2*d*e + b*c^2*f + c^2*d*f + 3*b*c*e*f - 4*c^2*e*f - 3*c*d*e*f + 4*e^2*f^2)"
   ]
  },
  {
   "cell_type": "code",
   "execution_count": 53,
   "id": "9fba8ab5-1702-4514-895f-a5e37fd1a65b",
   "metadata": {},
   "outputs": [],
   "source": [
    "line = Line([y, z])"
   ]
  },
  {
   "cell_type": "code",
   "execution_count": 54,
   "id": "faf57ead-5511-4072-bce2-f61f2a63f2fb",
   "metadata": {},
   "outputs": [],
   "source": [
    "eqn_SE1 = P(cubic_new.subs({b:-(c*c+e*f)/c }) )\n",
    "sing_cubics_SE1 = P(sing_cubics.subs({b:-(c*c+e*f)/c }))"
   ]
  },
  {
   "cell_type": "code",
   "execution_count": 55,
   "id": "1e2098b4-84b6-46e7-8cd9-c2c05c5c1afb",
   "metadata": {},
   "outputs": [],
   "source": [
    "eqn_SE3 = P(2*eqn_SE1.subs({d:(3*e*f - c^2 + c*f + c*e)/(2*c)}) )\n",
    "sing_cubics_SE3 = P(sing_cubics_SE1.subs({d:(3*e*f - c^2 + c*f + c*e)/(2*c)}))"
   ]
  },
  {
   "cell_type": "code",
   "execution_count": 56,
   "id": "138cba6f-2ea2-4567-b7d2-d1916fe046f2",
   "metadata": {},
   "outputs": [],
   "source": [
    "eqn_SE9 = P(eqn_SE3.subs({e : alpha*c}) /c)\n",
    "sing_cubics_SE9 = P(sing_cubics_SE3.subs({e : alpha*c}))"
   ]
  },
  {
   "cell_type": "code",
   "execution_count": 57,
   "id": "54467e2a-5f6c-410c-be49-1d59b15e32f3",
   "metadata": {},
   "outputs": [],
   "source": [
    "SE9 = Cubic(eqn_SE9, line, sing_cubics_SE9.factor())"
   ]
  },
  {
   "cell_type": "code",
   "execution_count": 58,
   "id": "33792fbd-d3a1-491d-9c31-876715b66867",
   "metadata": {},
   "outputs": [],
   "source": [
    "def apply_proj_to_eck(proj, eck):\n",
    "    new_indices = []\n",
    "    for i in range(len(eck)):\n",
    "        new_indices.append(eck.index(eck[i]*proj)+1)\n",
    "    return new_indices"
   ]
  },
  {
   "cell_type": "code",
   "execution_count": 60,
   "id": "2a4ccc56-332c-4487-841f-376ac63f5b5a",
   "metadata": {},
   "outputs": [
    {
     "data": {
      "text/plain": [
       "[['E1', 'G4', 'F14'],\n",
       " ['E2', 'G3', 'F23'],\n",
       " ['E3', 'G5', 'F35'],\n",
       " ['E4', 'G6', 'F46'],\n",
       " ['E5', 'G2', 'F25'],\n",
       " ['E6', 'G1', 'F16'],\n",
       " ['F12', 'F36', 'F45'],\n",
       " ['F13', 'F24', 'F56'],\n",
       " ['F15', 'F26', 'F34']]"
      ]
     },
     "execution_count": 60,
     "metadata": {},
     "output_type": "execute_result"
    }
   ],
   "source": [
    "[pl.labels for pl in SE9.tritangent_planes if pl.conditions == 0]"
   ]
  },
  {
   "cell_type": "code",
   "execution_count": 61,
   "id": "4a1d3715-fe2c-4acc-a410-3a34854c838a",
   "metadata": {},
   "outputs": [
    {
     "data": {
      "text/plain": [
       "[['E1', 'F14', 'G4'],\n",
       " ['E2', 'F23', 'G3'],\n",
       " ['E3', 'F35', 'G5'],\n",
       " ['E4', 'F46', 'G6'],\n",
       " ['E5', 'F25', 'G2'],\n",
       " ['E6', 'F16', 'G1'],\n",
       " ['F12', 'F36', 'F45'],\n",
       " ['F13', 'F24', 'F56'],\n",
       " ['F15', 'F26', 'F34']]"
      ]
     },
     "execution_count": 61,
     "metadata": {},
     "output_type": "execute_result"
    }
   ],
   "source": [
    "labels = [sorted(pl.labels) for pl in SE9.tritangent_planes if pl.conditions == 0]\n",
    "keys = list(SE9.cl_lines.keys())\n",
    "labels"
   ]
  },
  {
   "cell_type": "code",
   "execution_count": 62,
   "id": "23694316-2874-4d23-8362-c437ef8c7aea",
   "metadata": {},
   "outputs": [],
   "source": [
    "adm_perm = SE9.find_admissible_permutations()"
   ]
  },
  {
   "cell_type": "code",
   "execution_count": 85,
   "id": "dfdc80e0-1b22-4c97-87b7-30e10054c53d",
   "metadata": {},
   "outputs": [
    {
     "name": "stdout",
     "output_type": "stream",
     "text": [
      "CPU times: user 5.6 s, sys: 216 ms, total: 5.81 s\n",
      "Wall time: 49.5 s\n"
     ]
    }
   ],
   "source": [
    "%time adm_proj = SE9.find_admissible_projectivities()"
   ]
  },
  {
   "cell_type": "code",
   "execution_count": 86,
   "id": "6fa826f0-d3ef-4b20-8b9d-f02b650f1b44",
   "metadata": {},
   "outputs": [],
   "source": [
    "simm_SE9 = SE9.find_simmetries(adm_proj)"
   ]
  },
  {
   "cell_type": "code",
   "execution_count": 87,
   "id": "7b7729b5-5afc-4e9b-bb0f-e26b2235b12e",
   "metadata": {},
   "outputs": [
    {
     "data": {
      "text/plain": [
       "54"
      ]
     },
     "execution_count": 87,
     "metadata": {},
     "output_type": "execute_result"
    }
   ],
   "source": [
    "len(simm_SE9)"
   ]
  },
  {
   "cell_type": "code",
   "execution_count": 89,
   "id": "d025f554-d37d-4ec7-9c3c-0659af1fb04a",
   "metadata": {},
   "outputs": [],
   "source": [
    "perms = []\n",
    "for simm in simm_SE9:\n",
    "    perm = adm_perm[adm_proj.index(simm)]\n",
    "    perms.append(Permutation([perm.index(label)+1 for label in keys]).to_cycles())"
   ]
  },
  {
   "cell_type": "code",
   "execution_count": 103,
   "id": "09a72323-dd6f-43f0-9cad-694f09cc4c34",
   "metadata": {},
   "outputs": [],
   "source": [
    "Gr = PermutationGroup(perms)"
   ]
  },
  {
   "cell_type": "code",
   "execution_count": 138,
   "id": "db8ba48b-bc43-4355-8cfd-14f0bcd5670f",
   "metadata": {},
   "outputs": [
    {
     "data": {
      "text/plain": [
       "'((C_{3} \\\\times C_{3}) \\\\rtimes C_{3}) \\\\rtimes C_{2}'"
      ]
     },
     "execution_count": 138,
     "metadata": {},
     "output_type": "execute_result"
    }
   ],
   "source": [
    "Gr.structure_description(latex=True)"
   ]
  },
  {
   "cell_type": "code",
   "execution_count": 136,
   "id": "50045430-f978-45f5-875d-a39e2de319b9",
   "metadata": {},
   "outputs": [
    {
     "ename": "ValueError",
     "evalue": "['E1', 'E2', 'E3', 'E4', 'E6', 'E5', 'G1', 'G2', 'G3', 'G4', 'G6', 'G5', 'F12', 'F13', 'F14', 'F16', 'F15', 'F23', 'F24', 'F26', 'F25', 'F34', 'F36', 'F35', 'F46', 'F45', 'F56'] is not in list",
     "output_type": "error",
     "traceback": [
      "\u001b[0;31m---------------------------------------------------------------------------\u001b[0m",
      "\u001b[0;31mValueError\u001b[0m                                Traceback (most recent call last)",
      "\u001b[0;32m<ipython-input-136-1471af4cf909>\u001b[0m in \u001b[0;36m<module>\u001b[0;34m\u001b[0m\n\u001b[0;32m----> 1\u001b[0;31m \u001b[0madm_perm\u001b[0m\u001b[0;34m.\u001b[0m\u001b[0mindex\u001b[0m\u001b[0;34m(\u001b[0m\u001b[0;34m[\u001b[0m\u001b[0;34m'E1'\u001b[0m\u001b[0;34m,\u001b[0m \u001b[0;34m'E2'\u001b[0m\u001b[0;34m,\u001b[0m \u001b[0;34m'E3'\u001b[0m\u001b[0;34m,\u001b[0m \u001b[0;34m'E4'\u001b[0m\u001b[0;34m,\u001b[0m \u001b[0;34m'E6'\u001b[0m\u001b[0;34m,\u001b[0m \u001b[0;34m'E5'\u001b[0m\u001b[0;34m,\u001b[0m \u001b[0;34m'G1'\u001b[0m\u001b[0;34m,\u001b[0m \u001b[0;34m'G2'\u001b[0m\u001b[0;34m,\u001b[0m \u001b[0;34m'G3'\u001b[0m\u001b[0;34m,\u001b[0m \u001b[0;34m'G4'\u001b[0m\u001b[0;34m,\u001b[0m \u001b[0;34m'G6'\u001b[0m\u001b[0;34m,\u001b[0m \u001b[0;34m'G5'\u001b[0m\u001b[0;34m,\u001b[0m \u001b[0;34m'F12'\u001b[0m\u001b[0;34m,\u001b[0m \u001b[0;34m'F13'\u001b[0m\u001b[0;34m,\u001b[0m \u001b[0;34m'F14'\u001b[0m\u001b[0;34m,\u001b[0m \u001b[0;34m'F16'\u001b[0m\u001b[0;34m,\u001b[0m \u001b[0;34m'F15'\u001b[0m\u001b[0;34m,\u001b[0m \u001b[0;34m'F23'\u001b[0m\u001b[0;34m,\u001b[0m \u001b[0;34m'F24'\u001b[0m\u001b[0;34m,\u001b[0m \u001b[0;34m'F26'\u001b[0m\u001b[0;34m,\u001b[0m \u001b[0;34m'F25'\u001b[0m\u001b[0;34m,\u001b[0m \u001b[0;34m'F34'\u001b[0m\u001b[0;34m,\u001b[0m \u001b[0;34m'F36'\u001b[0m\u001b[0;34m,\u001b[0m \u001b[0;34m'F35'\u001b[0m\u001b[0;34m,\u001b[0m \u001b[0;34m'F46'\u001b[0m\u001b[0;34m,\u001b[0m \u001b[0;34m'F45'\u001b[0m\u001b[0;34m,\u001b[0m \u001b[0;34m'F56'\u001b[0m\u001b[0;34m]\u001b[0m\u001b[0;34m)\u001b[0m\u001b[0;34m\u001b[0m\u001b[0;34m\u001b[0m\u001b[0m\n\u001b[0m",
      "\u001b[0;31mValueError\u001b[0m: ['E1', 'E2', 'E3', 'E4', 'E6', 'E5', 'G1', 'G2', 'G3', 'G4', 'G6', 'G5', 'F12', 'F13', 'F14', 'F16', 'F15', 'F23', 'F24', 'F26', 'F25', 'F34', 'F36', 'F35', 'F46', 'F45', 'F56'] is not in list"
     ]
    }
   ],
   "source": [
    "adm_perm.index(['E1', 'E2', 'E3', 'E4', 'E6', 'E5', 'G1', 'G2', 'G3', 'G4', 'G6', 'G5', 'F12', 'F13', 'F14', 'F16', 'F15', 'F23', 'F24', 'F26', 'F25', 'F34', 'F36', 'F35', 'F46', 'F45', 'F56'])"
   ]
  },
  {
   "cell_type": "code",
   "execution_count": 64,
   "id": "72808fda-5338-46db-a15f-d1f4106e7215",
   "metadata": {},
   "outputs": [
    {
     "name": "stdout",
     "output_type": "stream",
     "text": [
      "['E5', 'G2', 'F25']\n",
      "['F14', 'E1', 'G4']\n",
      "['F16', 'E6', 'G1']\n",
      "['E3', 'G5', 'F35']\n",
      "['F46', 'E4', 'G6']\n",
      "['E2', 'G3', 'F23']\n",
      "['F56', 'F24', 'F13']\n",
      "['F45', 'F36', 'F12']\n",
      "['F15', 'F26', 'F34']\n"
     ]
    }
   ],
   "source": [
    "for triple in labels:\n",
    "    print([adm_perm[200][keys.index(label)] for label in triple])"
   ]
  },
  {
   "cell_type": "code",
   "execution_count": 65,
   "id": "506a627a-7b51-4a5a-be6d-17f7c353d558",
   "metadata": {},
   "outputs": [],
   "source": [
    "for perm in adm_perm:\n",
    "    for triple in labels:\n",
    "        new_triple = []\n",
    "        for label in triple:\n",
    "            new_triple.append(perm[keys.index(label)])\n",
    "        if sorted(new_triple) not in labels:\n",
    "            print(False)"
   ]
  },
  {
   "cell_type": "code",
   "execution_count": 81,
   "id": "30561dfc-f66b-4257-9828-130b934fc4ec",
   "metadata": {},
   "outputs": [],
   "source": [
    "resulting_L_sets = []\n",
    "for perm in adm_perm:\n",
    "    perm_L_set = [perm[list(SE9.cl_lines.keys()).index(label)] for label in ['E1', 'G4', 'E2', 'G3', 'E3']]\n",
    "    if perm_L_set not in resulting_L_sets:\n",
    "        resulting_L_sets.append(perm_L_set)\n",
    "    else:\n",
    "        print(adm_perm.index(perm))"
   ]
  },
  {
   "cell_type": "code",
   "execution_count": 67,
   "id": "80b690e5-a1ab-454c-b410-fe92208df1f0",
   "metadata": {},
   "outputs": [
    {
     "data": {
      "text/plain": [
       "1296"
      ]
     },
     "execution_count": 67,
     "metadata": {},
     "output_type": "execute_result"
    }
   ],
   "source": [
    "len(resulting_L_sets)"
   ]
  },
  {
   "cell_type": "code",
   "execution_count": 69,
   "id": "676be2f1-64ad-4b29-a0c0-44a67fd0d85e",
   "metadata": {},
   "outputs": [
    {
     "data": {
      "text/plain": [
       "(0, -2*c + 2*f, (-alpha + 1)*c + (alpha - 1)*f, (alpha + 1)*c + (alpha + 1)*f, -2*c - 2*f, -4*f)"
      ]
     },
     "execution_count": 69,
     "metadata": {},
     "output_type": "execute_result"
    }
   ],
   "source": [
    "SE9.cl_lines['E5'].plucker"
   ]
  },
  {
   "cell_type": "code",
   "execution_count": null,
   "id": "bbbd9137-c08a-4221-9089-b376e89a4590",
   "metadata": {},
   "outputs": [],
   "source": []
  }
 ],
 "metadata": {
  "kernelspec": {
   "display_name": "SageMath 9.3",
   "language": "sage",
   "name": "sagemath"
  },
  "language_info": {
   "codemirror_mode": {
    "name": "ipython",
    "version": 3
   },
   "file_extension": ".py",
   "mimetype": "text/x-python",
   "name": "python",
   "nbconvert_exporter": "python",
   "pygments_lexer": "ipython3",
   "version": "3.7.10"
  }
 },
 "nbformat": 4,
 "nbformat_minor": 5
}
