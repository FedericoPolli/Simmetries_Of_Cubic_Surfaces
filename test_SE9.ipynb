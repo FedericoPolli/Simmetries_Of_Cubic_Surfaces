{
 "cells": [
  {
   "cell_type": "code",
   "execution_count": 1,
   "id": "ddd9130c-c54b-44ad-9cec-2eeb96b6d313",
   "metadata": {},
   "outputs": [],
   "source": [
    "load('Imports/Utility.sage', 'Imports/Point.sage', 'Imports/Line.sage', 'Imports/Tritangent_plane.sage', 'Imports/Group.sage', 'Imports/Cubic.sage')\n",
    "import multiprocessing as mp\n",
    "import pickle"
   ]
  },
  {
   "cell_type": "code",
   "execution_count": 2,
   "id": "eb45b4f1-97a4-4118-9bbc-efd76b6d1752",
   "metadata": {},
   "outputs": [],
   "source": [
    "xx = QQ['xx'].0"
   ]
  },
  {
   "cell_type": "code",
   "execution_count": 3,
   "id": "26a049dc-fae1-4169-b745-df6be2ae79a1",
   "metadata": {},
   "outputs": [],
   "source": [
    "Q.<alpha> = NumberField(xx^2+3)"
   ]
  },
  {
   "cell_type": "code",
   "execution_count": 4,
   "id": "b50bf90c-f6eb-4fe9-ad9d-dd70112ad02d",
   "metadata": {},
   "outputs": [],
   "source": [
    "P.<x,y,z,t,b,c,d,e,f,l,m> = PolynomialRing(Q)"
   ]
  },
  {
   "cell_type": "code",
   "execution_count": 5,
   "id": "64a02f0d-6a1a-43c0-a4d0-383689878ed2",
   "metadata": {},
   "outputs": [],
   "source": [
    "cubic_new = e*f*(2*x^2*y-2*x*y^2+x*z^2-x*z*t-y*t^2+y*z*t)+b*c*(x-t)*(x*z+y*t)+c*c*(z+t)*(y*t-x*z)+d*c*(y-z)*(x*z+y*t)+(e+f)*c*(x-y)*(y*t-x*z)"
   ]
  },
  {
   "cell_type": "code",
   "execution_count": 6,
   "id": "4e9104d0-05ae-43d1-9892-6df3f085a4df",
   "metadata": {},
   "outputs": [],
   "source": [
    "sing_cubics = (-1) * (-c + f) * (-c + e) * c * (c + f) * (c + e) * (-e + f)^2 * (-c*d + c*f + e*f) * (-c*d + c*e + e*f) * (-c^2 - c*d + e*f) * (b*c - c*f + e*f) * (b*c - c*e + e*f) * (b*c - c*d + 2*e*f) * (b*c - c^2 + e*f) * (b*c^2 + c^2*d + b*c*f - 2*c^2*f - c*d*f + 2*e*f^2) * (b*c^2 + c^2*d + b*c*e - 2*c^2*e - c*d*e + 2*e^2*f) * (-b*c^3 - 2*b*c^2*d + c^3*d + b*c^2*e + c^2*d*e + b*c^2*f + c^2*d*f + 3*b*c*e*f - 4*c^2*e*f - 3*c*d*e*f + 4*e^2*f^2)"
   ]
  },
  {
   "cell_type": "code",
   "execution_count": 7,
   "id": "9fba8ab5-1702-4514-895f-a5e37fd1a65b",
   "metadata": {},
   "outputs": [],
   "source": [
    "line = Line([y, z])"
   ]
  },
  {
   "cell_type": "code",
   "execution_count": 8,
   "id": "d99f3f0b-be96-4faa-86fa-4d1fd5dbcf13",
   "metadata": {},
   "outputs": [],
   "source": [
    "general_cubic = Cubic(cubic_new, line, sing_cubics)"
   ]
  },
  {
   "cell_type": "code",
   "execution_count": 9,
   "id": "b024515f-2a12-4c3d-ad85-125a6ca585f8",
   "metadata": {},
   "outputs": [],
   "source": [
    "SE9 = general_cubic.subs({b:-(c*c+e*f)/c, d:(3*e*f - c^2 + c*f + c*e)/(2*c)}).subs({e : alpha*c})"
   ]
  },
  {
   "cell_type": "code",
   "execution_count": 10,
   "id": "2a4ccc56-332c-4487-841f-376ac63f5b5a",
   "metadata": {},
   "outputs": [
    {
     "data": {
      "text/plain": [
       "[['E1', 'G4', 'F14'],\n",
       " ['E2', 'G3', 'F23'],\n",
       " ['E3', 'G5', 'F35'],\n",
       " ['E4', 'G6', 'F46'],\n",
       " ['E5', 'G2', 'F25'],\n",
       " ['E6', 'G1', 'F16'],\n",
       " ['F12', 'F36', 'F45'],\n",
       " ['F13', 'F24', 'F56'],\n",
       " ['F15', 'F26', 'F34']]"
      ]
     },
     "execution_count": 10,
     "metadata": {},
     "output_type": "execute_result"
    }
   ],
   "source": [
    "[pl.labels for pl in SE9.tritangent_planes if pl.conditions == 0]"
   ]
  },
  {
   "cell_type": "code",
   "execution_count": 11,
   "id": "4a1d3715-fe2c-4acc-a410-3a34854c838a",
   "metadata": {},
   "outputs": [
    {
     "data": {
      "text/plain": [
       "[['E1', 'F14', 'G4'],\n",
       " ['E2', 'F23', 'G3'],\n",
       " ['E3', 'F35', 'G5'],\n",
       " ['E4', 'F46', 'G6'],\n",
       " ['E5', 'F25', 'G2'],\n",
       " ['E6', 'F16', 'G1'],\n",
       " ['F12', 'F36', 'F45'],\n",
       " ['F13', 'F24', 'F56'],\n",
       " ['F15', 'F26', 'F34']]"
      ]
     },
     "execution_count": 11,
     "metadata": {},
     "output_type": "execute_result"
    }
   ],
   "source": [
    "labels = [sorted(pl.labels) for pl in SE9.tritangent_planes if pl.conditions == 0]\n",
    "keys = list(SE9.cl_lines.keys())\n",
    "labels"
   ]
  },
  {
   "cell_type": "code",
   "execution_count": 12,
   "id": "23694316-2874-4d23-8362-c437ef8c7aea",
   "metadata": {},
   "outputs": [],
   "source": [
    "adm_perm = SE9.find_admissible_permutations()"
   ]
  },
  {
   "cell_type": "code",
   "execution_count": 13,
   "id": "dfdc80e0-1b22-4c97-87b7-30e10054c53d",
   "metadata": {},
   "outputs": [
    {
     "name": "stdout",
     "output_type": "stream",
     "text": [
      "CPU times: user 6.37 s, sys: 207 ms, total: 6.58 s\n",
      "Wall time: 2min 54s\n"
     ]
    }
   ],
   "source": [
    "%time adm_proj = SE9.find_admissible_projectivities()"
   ]
  },
  {
   "cell_type": "code",
   "execution_count": 14,
   "id": "6fa826f0-d3ef-4b20-8b9d-f02b650f1b44",
   "metadata": {},
   "outputs": [],
   "source": [
    "simm_SE9 = SE9.find_simmetries(adm_proj)"
   ]
  },
  {
   "cell_type": "code",
   "execution_count": 15,
   "id": "7b7729b5-5afc-4e9b-bb0f-e26b2235b12e",
   "metadata": {},
   "outputs": [
    {
     "data": {
      "text/plain": [
       "54"
      ]
     },
     "execution_count": 15,
     "metadata": {},
     "output_type": "execute_result"
    }
   ],
   "source": [
    "len(simm_SE9)"
   ]
  },
  {
   "cell_type": "code",
   "execution_count": 16,
   "id": "d025f554-d37d-4ec7-9c3c-0659af1fb04a",
   "metadata": {},
   "outputs": [],
   "source": [
    "perms = []\n",
    "for simm in simm_SE9:\n",
    "    perm = adm_perm[adm_proj.index(simm)]\n",
    "    perms.append(Permutation([perm.index(label)+1 for label in keys]).to_cycles())"
   ]
  },
  {
   "cell_type": "code",
   "execution_count": 17,
   "id": "09a72323-dd6f-43f0-9cad-694f09cc4c34",
   "metadata": {},
   "outputs": [],
   "source": [
    "Gr = PermutationGroup(perms)"
   ]
  },
  {
   "cell_type": "code",
   "execution_count": 18,
   "id": "a1d0e5ec-44b9-4644-99fd-2593df10f495",
   "metadata": {},
   "outputs": [
    {
     "data": {
      "text/plain": [
       "54"
      ]
     },
     "execution_count": 18,
     "metadata": {},
     "output_type": "execute_result"
    }
   ],
   "source": [
    "Gr.order()"
   ]
  },
  {
   "cell_type": "code",
   "execution_count": 19,
   "id": "db8ba48b-bc43-4355-8cfd-14f0bcd5670f",
   "metadata": {},
   "outputs": [
    {
     "data": {
      "text/plain": [
       "'((C3 x C3) : C3) : C2'"
      ]
     },
     "execution_count": 19,
     "metadata": {},
     "output_type": "execute_result"
    }
   ],
   "source": [
    "Gr.structure_description()"
   ]
  },
  {
   "cell_type": "code",
   "execution_count": 25,
   "id": "47491b5d-88fb-4cfe-a233-bc0bf49fc88f",
   "metadata": {},
   "outputs": [
    {
     "name": "stdout",
     "output_type": "stream",
     "text": [
      "['E1', 'E2', 'E3', 'E4', 'E5', 'E6', 'G1', 'G2', 'G3', 'G4', 'G5', 'G6', 'F12', 'F13', 'F14', 'F15', 'F16', 'F23', 'F24', 'F25', 'F26', 'F34', 'F35', 'F36', 'F45', 'F46', 'F56']\n"
     ]
    }
   ],
   "source": [
    "print(list(SE9.cl_lines.keys()))"
   ]
  },
  {
   "cell_type": "code",
   "execution_count": 20,
   "id": "e21d08ed-df87-4b9f-aeb0-288101698488",
   "metadata": {},
   "outputs": [
    {
     "data": {
      "text/plain": [
       "0"
      ]
     },
     "execution_count": 20,
     "metadata": {},
     "output_type": "execute_result"
    }
   ],
   "source": [
    "adm_perm.index(list(SE9.cl_lines.keys()))"
   ]
  },
  {
   "cell_type": "code",
   "execution_count": 21,
   "id": "50045430-f978-45f5-875d-a39e2de319b9",
   "metadata": {},
   "outputs": [
    {
     "ename": "ValueError",
     "evalue": "['E1', 'E2', 'E3', 'E4', 'E6', 'E5', 'G1', 'G2', 'G3', 'G4', 'G6', 'G5', 'F12', 'F13', 'F14', 'F16', 'F15', 'F23', 'F24', 'F26', 'F25', 'F34', 'F36', 'F35', 'F46', 'F45', 'F56'] is not in list",
     "output_type": "error",
     "traceback": [
      "\u001b[0;31m---------------------------------------------------------------------------\u001b[0m",
      "\u001b[0;31mValueError\u001b[0m                                Traceback (most recent call last)",
      "\u001b[0;32m<ipython-input-21-1471af4cf909>\u001b[0m in \u001b[0;36m<module>\u001b[0;34m\u001b[0m\n\u001b[0;32m----> 1\u001b[0;31m \u001b[0madm_perm\u001b[0m\u001b[0;34m.\u001b[0m\u001b[0mindex\u001b[0m\u001b[0;34m(\u001b[0m\u001b[0;34m[\u001b[0m\u001b[0;34m'E1'\u001b[0m\u001b[0;34m,\u001b[0m \u001b[0;34m'E2'\u001b[0m\u001b[0;34m,\u001b[0m \u001b[0;34m'E3'\u001b[0m\u001b[0;34m,\u001b[0m \u001b[0;34m'E4'\u001b[0m\u001b[0;34m,\u001b[0m \u001b[0;34m'E6'\u001b[0m\u001b[0;34m,\u001b[0m \u001b[0;34m'E5'\u001b[0m\u001b[0;34m,\u001b[0m \u001b[0;34m'G1'\u001b[0m\u001b[0;34m,\u001b[0m \u001b[0;34m'G2'\u001b[0m\u001b[0;34m,\u001b[0m \u001b[0;34m'G3'\u001b[0m\u001b[0;34m,\u001b[0m \u001b[0;34m'G4'\u001b[0m\u001b[0;34m,\u001b[0m \u001b[0;34m'G6'\u001b[0m\u001b[0;34m,\u001b[0m \u001b[0;34m'G5'\u001b[0m\u001b[0;34m,\u001b[0m \u001b[0;34m'F12'\u001b[0m\u001b[0;34m,\u001b[0m \u001b[0;34m'F13'\u001b[0m\u001b[0;34m,\u001b[0m \u001b[0;34m'F14'\u001b[0m\u001b[0;34m,\u001b[0m \u001b[0;34m'F16'\u001b[0m\u001b[0;34m,\u001b[0m \u001b[0;34m'F15'\u001b[0m\u001b[0;34m,\u001b[0m \u001b[0;34m'F23'\u001b[0m\u001b[0;34m,\u001b[0m \u001b[0;34m'F24'\u001b[0m\u001b[0;34m,\u001b[0m \u001b[0;34m'F26'\u001b[0m\u001b[0;34m,\u001b[0m \u001b[0;34m'F25'\u001b[0m\u001b[0;34m,\u001b[0m \u001b[0;34m'F34'\u001b[0m\u001b[0;34m,\u001b[0m \u001b[0;34m'F36'\u001b[0m\u001b[0;34m,\u001b[0m \u001b[0;34m'F35'\u001b[0m\u001b[0;34m,\u001b[0m \u001b[0;34m'F46'\u001b[0m\u001b[0;34m,\u001b[0m \u001b[0;34m'F45'\u001b[0m\u001b[0;34m,\u001b[0m \u001b[0;34m'F56'\u001b[0m\u001b[0;34m]\u001b[0m\u001b[0;34m)\u001b[0m\u001b[0;34m\u001b[0m\u001b[0;34m\u001b[0m\u001b[0m\n\u001b[0m",
      "\u001b[0;31mValueError\u001b[0m: ['E1', 'E2', 'E3', 'E4', 'E6', 'E5', 'G1', 'G2', 'G3', 'G4', 'G6', 'G5', 'F12', 'F13', 'F14', 'F16', 'F15', 'F23', 'F24', 'F26', 'F25', 'F34', 'F36', 'F35', 'F46', 'F45', 'F56'] is not in list"
     ]
    }
   ],
   "source": [
    "adm_perm.index(['E1', 'E2', 'E3', 'E4', 'E6', 'E5', 'G1', 'G2', 'G3', 'G4', 'G6', 'G5', 'F12', 'F13', 'F14', 'F16', 'F15', 'F23', 'F24', 'F26', 'F25', 'F34', 'F36', 'F35', 'F46', 'F45', 'F56'])"
   ]
  },
  {
   "cell_type": "code",
   "execution_count": 22,
   "id": "30561dfc-f66b-4257-9828-130b934fc4ec",
   "metadata": {},
   "outputs": [],
   "source": [
    "resulting_L_sets = []\n",
    "for perm in adm_perm:\n",
    "    perm_L_set = [perm[list(SE9.cl_lines.keys()).index(label)] for label in ['E1', 'G4', 'E2', 'G3', 'E3']]\n",
    "    if perm_L_set not in resulting_L_sets:\n",
    "        resulting_L_sets.append(perm_L_set)\n",
    "    else:\n",
    "        print(adm_perm.index(perm))"
   ]
  },
  {
   "cell_type": "code",
   "execution_count": 23,
   "id": "80b690e5-a1ab-454c-b410-fe92208df1f0",
   "metadata": {},
   "outputs": [
    {
     "data": {
      "text/plain": [
       "1296"
      ]
     },
     "execution_count": 23,
     "metadata": {},
     "output_type": "execute_result"
    }
   ],
   "source": [
    "len(resulting_L_sets)"
   ]
  },
  {
   "cell_type": "code",
   "execution_count": null,
   "id": "bbbd9137-c08a-4221-9089-b376e89a4590",
   "metadata": {},
   "outputs": [],
   "source": []
  }
 ],
 "metadata": {
  "kernelspec": {
   "display_name": "SageMath 9.3",
   "language": "sage",
   "name": "sagemath"
  },
  "language_info": {
   "codemirror_mode": {
    "name": "ipython",
    "version": 3
   },
   "file_extension": ".py",
   "mimetype": "text/x-python",
   "name": "python",
   "nbconvert_exporter": "python",
   "pygments_lexer": "ipython3",
   "version": "3.7.10"
  }
 },
 "nbformat": 4,
 "nbformat_minor": 5
}
