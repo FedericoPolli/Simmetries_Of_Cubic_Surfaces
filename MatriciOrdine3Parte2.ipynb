{
 "cells": [
  {
   "cell_type": "code",
   "execution_count": 1,
   "id": "95b5619b-8efd-4f4a-b0c2-132dcdde5215",
   "metadata": {},
   "outputs": [],
   "source": [
    "load('Imports/Utility.sage', 'Imports/Point.sage', 'Imports/Line.sage', 'Imports/TritangentPlane.sage', 'Imports/Group.sage', 'Imports/Cubic.sage')"
   ]
  },
  {
   "cell_type": "code",
   "execution_count": 2,
   "id": "bae94698-1bee-49ad-a385-212a979a6b4d",
   "metadata": {},
   "outputs": [],
   "source": [
    "P.<x,y,z,t,b,c,d,e,f,l,m> = PolynomialRing(QQ)\n",
    "cubic_new = e*f*(2*x^2*y-2*x*y^2+x*z^2-x*z*t-y*t^2+y*z*t)+b*c*(x-t)*(x*z+y*t)+c*c*(z+t)*(y*t-x*z)+d*c*(y-z)*(x*z+y*t)+(e+f)*c*(x-y)*(y*t-x*z)\n",
    "sing_cubics = (-1) * (-c + f) * (-c + e) * c * (c + f) * (c + e) * (-e + f)^2 * (-c*d + c*f + e*f) * (-c*d + c*e + e*f) * (-c^2 - c*d + e*f) * (b*c - c*f + e*f) * (b*c - c*e + e*f) * (b*c - c*d + 2*e*f) * (b*c - c^2 + e*f) * (b*c^2 + c^2*d + b*c*f - 2*c^2*f - c*d*f + 2*e*f^2) * (b*c^2 + c^2*d + b*c*e - 2*c^2*e - c*d*e + 2*e^2*f) * (-b*c^3 - 2*b*c^2*d + c^3*d + b*c^2*e + c^2*d*e + b*c^2*f + c^2*d*f + 3*b*c*e*f - 4*c^2*e*f - 3*c*d*e*f + 4*e^2*f^2)\n",
    "line = Line([y, z])\n",
    "general_cubic = Cubic(cubic_new, line, sing_cubics)"
   ]
  },
  {
   "cell_type": "code",
   "execution_count": 3,
   "id": "cdbda662-c122-44b0-bf83-3197c8b638dc",
   "metadata": {},
   "outputs": [],
   "source": [
    "L_set_base = general_cubic.get_L_set_in_plucker(['E1', 'G4', 'E2', 'G3', 'E3'])"
   ]
  },
  {
   "cell_type": "code",
   "execution_count": 4,
   "id": "39e79ea0-f32a-43cb-ba4f-9e6e90f695c4",
   "metadata": {},
   "outputs": [],
   "source": [
    "# First two are from when a line is fixed, other three when no line fixed. Excluded identity\n",
    "possible_L_sets = [ ('E1', 'G4', 'E2', 'G3', 'F45'),\\\n",
    " ('E1', 'G4', 'E2', 'G3', 'F46'),\\\n",
    " ('F14', 'E1', 'G3', 'F23', 'G5'),\\\n",
    " ('F14', 'E1', 'G3', 'F23', 'G6'),\\\n",
    " ('F14', 'E1', 'G3', 'F23', 'F12')]"
   ]
  },
  {
   "cell_type": "code",
   "execution_count": 5,
   "id": "e6562731-7084-4af9-b0fc-715575055c55",
   "metadata": {},
   "outputs": [
    {
     "name": "stdout",
     "output_type": "stream",
     "text": [
      "CPU times: user 11.7 s, sys: 59.4 ms, total: 11.8 s\n",
      "Wall time: 11.9 s\n"
     ]
    }
   ],
   "source": [
    "%%time \n",
    "# this takes approximately 20 seconds \n",
    "projs = [find_projectivity(L_set_base, general_cubic.get_L_set_in_plucker(L_set_2)) for L_set_2 in possible_L_sets]\n",
    "projs_ideals = []\n",
    "coeffs = []\n",
    "sing_cubics_factored = sing_cubics.factor()\n",
    "for proj in projs:\n",
    "    #change coordinates, obtain new cubic and find conditions on the parameters\n",
    "    sost = change_coord(proj)\n",
    "    new_cubic = general_cubic.eqn.subs(sost)\n",
    "    mon = (sum(P.gens()[0:4]) ^ 3).monomials()\n",
    "    current_conds = list(set(matrix([[general_cubic.eqn.coefficient(mn) for mn in mon], [new_cubic.coefficient(mn) for mn in mon]]).minors(2)))\n",
    "    no_sing_conds = [remove_sing_factors(el, sing_cubics_factored) for el in current_conds if el !=0]\n",
    "    \n",
    "    #two branches: assume e*f is zero and add to groebner basis, otherwise saturate with respect to e*f\n",
    "    ideals = []\n",
    "    gb = [remove_sing_factors(el, sing_cubics_factored) for el in P.ideal(no_sing_conds).groebner_basis()] \n",
    "    ideals += P.ideal(gb+[e*f]).radical().primary_decomposition('gtz')\n",
    "    \n",
    "    idealb = P.ideal(gb).saturation(P.ideal(f*e))[0]\n",
    "    ideals += idealb.radical().primary_decomposition('gtz')\n",
    "    \n",
    "    #remove duplicates and singular ideals\n",
    "    ideals = list(set(ideals))\n",
    "    ideals = [ideal for ideal in ideals if sing_cubics not in ideal]\n",
    "    \n",
    "    # we obtain a list where, for each projectivity, there are the possible associated nonsingular ideals\n",
    "    projs_ideals.append([proj, ideals])"
   ]
  },
  {
   "cell_type": "code",
   "execution_count": 6,
   "id": "32f9c84d-0884-4f1e-be9f-76f175782175",
   "metadata": {},
   "outputs": [
    {
     "data": {
      "text/plain": [
       "[1, 1, 2, 2, 3]"
      ]
     },
     "execution_count": 6,
     "metadata": {},
     "output_type": "execute_result"
    }
   ],
   "source": [
    "#number of ideals for each projectivity\n",
    "[len(el[1]) for el in projs_ideals]"
   ]
  },
  {
   "cell_type": "code",
   "execution_count": 7,
   "id": "9813ea64-118d-4304-ac5e-f7a54fd13a45",
   "metadata": {},
   "outputs": [],
   "source": [
    "# here we obtain the matrices with the sostitutions obtained from the various ideals\n",
    "matrices_from_ideals = []\n",
    "all_matrices = []\n",
    "for matrix_ideals in projs_ideals:\n",
    "    proj = matrix_ideals[0]\n",
    "    ideals = matrix_ideals[1]\n",
    "    \n",
    "    # matrices_from_ideals remembers from which ideals the matrices where generated\n",
    "    matrices_from_ideals += [[matrix(4,4, [ideal.reduce(el) for el in proj.list()]), ideal] for ideal in ideals]"
   ]
  },
  {
   "cell_type": "code",
   "execution_count": 8,
   "id": "22191f44-f14d-45e1-9db0-742f340c8ba3",
   "metadata": {},
   "outputs": [],
   "source": [
    "matrices_from_ideals_cubed = [[el[0]^3, el[1]] for el in matrices_from_ideals]\n",
    "identity_list = [0 for _ in range(16)]\n",
    "for i in {0,5,10,15}:\n",
    "    identity_list[i]=1\n",
    "id_mat = matrix(4,4,identity_list)"
   ]
  },
  {
   "cell_type": "code",
   "execution_count": 80,
   "id": "ebab4783-531e-484f-b689-1c8782dc7834",
   "metadata": {},
   "outputs": [],
   "source": [
    "final_matrices = []\n",
    "final_ideals = []\n",
    "for mat_id in matrices_from_ideals_cubed:\n",
    "    final_matrices.append(matrix(4,4, [mat_id[1].reduce(el) for el in mat_id[0].list()]))\n",
    "    final_ideals.append(mat_id[1])"
   ]
  },
  {
   "cell_type": "code",
   "execution_count": 79,
   "id": "75913ba3-5eb6-4268-8648-6af9c984c11f",
   "metadata": {},
   "outputs": [
    {
     "name": "stdout",
     "output_type": "stream",
     "text": [
      "True\n",
      "True\n",
      "True\n",
      "True\n",
      "True\n",
      "True\n",
      "True\n",
      "True\n",
      "True\n"
     ]
    }
   ],
   "source": [
    "for mat_id in matrices_from_ideals_cubed:\n",
    "    print(are_matrices_equal(matrix(4,4,[mat_id[1].reduce(el) for el in mat_id[0].list()]), id_mat))"
   ]
  },
  {
   "cell_type": "code",
   "execution_count": 82,
   "id": "d46bc160-3efb-4f82-b1bd-6dcc15646e94",
   "metadata": {},
   "outputs": [],
   "source": [
    "cubics = [general_cubic.reduce(ideal) for ideal in final_ideals]"
   ]
  },
  {
   "cell_type": "code",
   "execution_count": 83,
   "id": "fe6ae964-7b2c-426a-a299-537c94d28536",
   "metadata": {},
   "outputs": [
    {
     "data": {
      "text/plain": [
       "[18, 18, 9, 9, 9, 9, 3, 3, 3]"
      ]
     },
     "execution_count": 83,
     "metadata": {},
     "output_type": "execute_result"
    }
   ],
   "source": [
    "[len(cubic.eckardt_points_labels) for cubic in cubics]"
   ]
  },
  {
   "cell_type": "code",
   "execution_count": 53,
   "id": "f2dc6f3c-66a8-4484-a482-4ace6c47a886",
   "metadata": {},
   "outputs": [
    {
     "data": {
      "text/plain": [
       "Ideal (e + f, 4*c - d, b + d, 3*d^2 + 16*f^2) of Multivariate Polynomial Ring in x, y, z, t, b, c, d, e, f, l, m over Rational Field"
      ]
     },
     "execution_count": 53,
     "metadata": {},
     "output_type": "execute_result"
    }
   ],
   "source": [
    "ide = final_ideals[0]\n",
    "ide"
   ]
  },
  {
   "cell_type": "code",
   "execution_count": 16,
   "id": "686fb9ab-8692-40ce-a5f3-2c21fa1bda1a",
   "metadata": {},
   "outputs": [
    {
     "data": {
      "text/plain": [
       "(4*f, 4*f, 3*d, 3*d)"
      ]
     },
     "execution_count": 16,
     "metadata": {},
     "output_type": "execute_result"
    }
   ],
   "source": [
    "(general_cubic.cl_lines['F15'].intersection_point(general_cubic.cl_lines['F26'])).reduce(ide)"
   ]
  },
  {
   "cell_type": "code",
   "execution_count": 17,
   "id": "6c46eb56-73bb-4e0f-8188-defc44e4a94b",
   "metadata": {},
   "outputs": [
    {
     "ename": "ValueError",
     "evalue": "Lines are not incident!",
     "output_type": "error",
     "traceback": [
      "\u001b[0;31m---------------------------------------------------------------------------\u001b[0m",
      "\u001b[0;31mValueError\u001b[0m                                Traceback (most recent call last)",
      "\u001b[0;32m<ipython-input-17-7c5ac1c20f02>\u001b[0m in \u001b[0;36m<module>\u001b[0;34m\u001b[0m\n\u001b[0;32m----> 1\u001b[0;31m \u001b[0mgeneral_cubic\u001b[0m\u001b[0;34m.\u001b[0m\u001b[0mcl_lines\u001b[0m\u001b[0;34m[\u001b[0m\u001b[0;34m'F15'\u001b[0m\u001b[0;34m]\u001b[0m\u001b[0;34m.\u001b[0m\u001b[0mreduce\u001b[0m\u001b[0;34m(\u001b[0m\u001b[0mide\u001b[0m\u001b[0;34m)\u001b[0m\u001b[0;34m.\u001b[0m\u001b[0mintersection_point\u001b[0m\u001b[0;34m(\u001b[0m\u001b[0mgeneral_cubic\u001b[0m\u001b[0;34m.\u001b[0m\u001b[0mcl_lines\u001b[0m\u001b[0;34m[\u001b[0m\u001b[0;34m'F26'\u001b[0m\u001b[0;34m]\u001b[0m\u001b[0;34m.\u001b[0m\u001b[0mreduce\u001b[0m\u001b[0;34m(\u001b[0m\u001b[0mide\u001b[0m\u001b[0;34m)\u001b[0m\u001b[0;34m)\u001b[0m\u001b[0;34m\u001b[0m\u001b[0;34m\u001b[0m\u001b[0m\n\u001b[0m",
      "\u001b[0;32m<string>\u001b[0m in \u001b[0;36mintersection_point\u001b[0;34m(self, other_line)\u001b[0m\n",
      "\u001b[0;31mValueError\u001b[0m: Lines are not incident!"
     ]
    }
   ],
   "source": [
    "general_cubic.cl_lines['F15'].reduce(ide).intersection_point(general_cubic.cl_lines['F26'].reduce(ide))"
   ]
  },
  {
   "cell_type": "code",
   "execution_count": 56,
   "id": "d5d3c89d-8b77-4a36-b919-570110518e59",
   "metadata": {},
   "outputs": [
    {
     "data": {
      "text/plain": [
       "((b*c^2 - c^3 + c*e*f, b*c*e - c^2*e + e^2*f, c^2*d - c*d*e - c^2*f + e^2*f, 0, -b*c^2 + c^2*e - c^2*f, -b*c*e + c*e^2 - c*e*f),\n",
       " (-c^3 - c^2*d + c*e*f, -c^2*d - c^2*e + c^2*f, 0, b*c^2 - c^2*e + b*c*f + e*f^2, -c^2*f - c*d*f + e*f^2, -c*d*f - c*e*f + c*f^2))"
      ]
     },
     "execution_count": 56,
     "metadata": {},
     "output_type": "execute_result"
    }
   ],
   "source": [
    "general_cubic.cl_lines['F15'].plucker, general_cubic.cl_lines['F26'].plucker"
   ]
  },
  {
   "cell_type": "code",
   "execution_count": 69,
   "id": "f3d7982e-fc1b-4f68-ab0f-b31aafb658e8",
   "metadata": {},
   "outputs": [
    {
     "data": {
      "text/plain": [
       "True"
      ]
     },
     "execution_count": 69,
     "metadata": {},
     "output_type": "execute_result"
    }
   ],
   "source": [
    "general_cubic.cl_lines['F15'].are_incident(general_cubic.cl_lines['F26'])"
   ]
  },
  {
   "cell_type": "code",
   "execution_count": 60,
   "id": "c480ad8a-34b0-4f56-9ad7-4210aeba8307",
   "metadata": {},
   "outputs": [
    {
     "data": {
      "text/plain": [
       "(4*f, 4*f, 3*d, 3*d)"
      ]
     },
     "execution_count": 60,
     "metadata": {},
     "output_type": "execute_result"
    }
   ],
   "source": [
    "Point([ide.reduce(el) for el in general_cubic.cl_lines['F15'].intersection_point( general_cubic.cl_lines['F26'])])"
   ]
  },
  {
   "cell_type": "code",
   "execution_count": 68,
   "id": "4b234052-4b29-440f-af1a-1a0db9365180",
   "metadata": {},
   "outputs": [
    {
     "data": {
      "text/plain": [
       "((d, -4*f, -2*d, 0, -2*d + 4*f, 3*d + 8*f),\n",
       " (d, 2*d - 4*f, 0, 2*d, 4*f, 3*d + 8*f))"
      ]
     },
     "execution_count": 68,
     "metadata": {},
     "output_type": "execute_result"
    }
   ],
   "source": [
    "general_cubic.cl_lines['F15'].reduce(ide).plucker, general_cubic.cl_lines['F26'].reduce(ide).plucker"
   ]
  },
  {
   "cell_type": "code",
   "execution_count": 71,
   "id": "f7639e48-973e-4c53-ac84-1f9c25a1eaee",
   "metadata": {},
   "outputs": [],
   "source": [
    "r1 = general_cubic.cl_lines['F15'].reduce(ide)\n",
    "r2 = general_cubic.cl_lines['F26'].reduce(ide)"
   ]
  },
  {
   "cell_type": "code",
   "execution_count": 75,
   "id": "f63213e4-0ddd-48c3-9572-bc0fb4c7df4a",
   "metadata": {},
   "outputs": [
    {
     "data": {
      "text/plain": [
       "0"
      ]
     },
     "execution_count": 75,
     "metadata": {},
     "output_type": "execute_result"
    }
   ],
   "source": [
    "d = [r1.plucker[i] * r2.plucker[5 - i] for i in range(6)]\n",
    "poly = d[0] - d[1] + d[2] + d[3] - d[4] + d[5]\n",
    "ide.reduce(poly)"
   ]
  },
  {
   "cell_type": "code",
   "execution_count": 76,
   "id": "0c7a66fa-aecd-4c73-81d3-6de8d451091a",
   "metadata": {},
   "outputs": [
    {
     "data": {
      "text/plain": [
       "Ideal (e + f, 4*c - d, b + d, 3*d^2 + 16*f^2) of Multivariate Polynomial Ring in x, y, z, t, b, c, d, e, f, l, m over Rational Field"
      ]
     },
     "execution_count": 76,
     "metadata": {},
     "output_type": "execute_result"
    }
   ],
   "source": [
    "ide"
   ]
  },
  {
   "cell_type": "code",
   "execution_count": null,
   "id": "007cb64a-f0d9-43c8-a5ed-00d7ae5ef603",
   "metadata": {},
   "outputs": [],
   "source": []
  }
 ],
 "metadata": {
  "kernelspec": {
   "display_name": "SageMath 9.4",
   "language": "sage",
   "name": "sagemath"
  },
  "language_info": {
   "codemirror_mode": {
    "name": "ipython",
    "version": 3
   },
   "file_extension": ".py",
   "mimetype": "text/x-python",
   "name": "python",
   "nbconvert_exporter": "python",
   "pygments_lexer": "ipython3",
   "version": "3.7.12"
  }
 },
 "nbformat": 4,
 "nbformat_minor": 5
}
