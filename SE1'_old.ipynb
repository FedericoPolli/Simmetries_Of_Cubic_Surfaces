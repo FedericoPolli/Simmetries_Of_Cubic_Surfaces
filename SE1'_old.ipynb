{
 "cells": [
  {
   "cell_type": "code",
   "execution_count": 1,
   "id": "58320e02-53d1-4aa8-9435-b12c34877bd1",
   "metadata": {},
   "outputs": [],
   "source": [
    "load('Imports/Utility.sage', 'Imports/Point.sage', 'Imports/Line.sage', 'Imports/TritangentPlane.sage', 'Imports/Group.sage', 'Imports/Cubic.sage')\n",
    "import multiprocessing as mp\n",
    "import pickle"
   ]
  },
  {
   "cell_type": "code",
   "execution_count": 2,
   "id": "a63d0122-d2f3-4361-84c1-0e6aa92f1ab7",
   "metadata": {},
   "outputs": [
    {
     "data": {
      "text/plain": [
       "xx^4 - 2*xx^2 + 9"
      ]
     },
     "execution_count": 2,
     "metadata": {},
     "output_type": "execute_result"
    }
   ],
   "source": [
    "(sqrt(2)-I).minpoly('xx')"
   ]
  },
  {
   "cell_type": "code",
   "execution_count": 3,
   "id": "21967230-0942-4b52-a41a-b865769ef5ce",
   "metadata": {},
   "outputs": [],
   "source": [
    "var('xx')\n",
    "Q.<i> = NumberField(xx^ 2+ 1)"
   ]
  },
  {
   "cell_type": "code",
   "execution_count": 4,
   "id": "b13ee883-97aa-4c16-8cf2-28c3c44fc9e2",
   "metadata": {},
   "outputs": [],
   "source": [
    "#i = ((rad2_i)^3+rad2_i)/(-6)"
   ]
  },
  {
   "cell_type": "code",
   "execution_count": 5,
   "id": "6d97908e-d58f-4510-bb36-6f043766708e",
   "metadata": {},
   "outputs": [],
   "source": [
    "P.<x,y,z,t,b,c,d,e,f,l,m> = PolynomialRing(Q)\n",
    "cubic_new = e*f*(2*x^2*y-2*x*y^2+x*z^2-x*z*t-y*t^2+y*z*t)+b*c*(x-t)*(x*z+y*t)+c*c*(z+t)*(y*t-x*z)+d*c*(y-z)*(x*z+y*t)+(e+f)*c*(x-y)*(y*t-x*z)\n",
    "sing_cubics = (-1) * (-c + f) * (-c + e) * c * (c + f) * (c + e) * (-e + f)^2 * (-c*d + c*f + e*f) * (-c*d + c*e + e*f) * (-c^2 - c*d + e*f) * (b*c - c*f + e*f) * (b*c - c*e + e*f) * (b*c - c*d + 2*e*f) * (b*c - c^2 + e*f) * (b*c^2 + c^2*d + b*c*f - 2*c^2*f - c*d*f + 2*e*f^2) * (b*c^2 + c^2*d + b*c*e - 2*c^2*e - c*d*e + 2*e^2*f) * (-b*c^3 - 2*b*c^2*d + c^3*d + b*c^2*e + c^2*d*e + b*c^2*f + c^2*d*f + 3*b*c*e*f - 4*c^2*e*f - 3*c*d*e*f + 4*e^2*f^2)\n",
    "line = Line([y, z])\n",
    "general_cubic = Cubic(cubic_new, line, sing_cubics)\n",
    "SE1 = general_cubic.subs({b:-(c*c+e*f)/c})"
   ]
  },
  {
   "cell_type": "code",
   "execution_count": 6,
   "id": "7ac10d08-f9cc-4ce6-9ca5-73398f4bacae",
   "metadata": {},
   "outputs": [
    {
     "name": "stdout",
     "output_type": "stream",
     "text": [
      "CPU times: user 5.49 s, sys: 216 ms, total: 5.71 s\n",
      "Wall time: 13.5 s\n"
     ]
    },
    {
     "data": {
      "text/plain": [
       "576"
      ]
     },
     "execution_count": 6,
     "metadata": {},
     "output_type": "execute_result"
    }
   ],
   "source": [
    "%time adm_SE1 = SE1.find_admissible_projectivities()\n",
    "len(adm_SE1)"
   ]
  },
  {
   "cell_type": "code",
   "execution_count": 7,
   "id": "91e952ee-0c1e-4aae-ad08-5f671384cc90",
   "metadata": {},
   "outputs": [
    {
     "name": "stdout",
     "output_type": "stream",
     "text": [
      "CPU times: user 3.55 s, sys: 107 ms, total: 3.65 s\n",
      "Wall time: 18.1 s\n"
     ]
    },
    {
     "data": {
      "text/plain": [
       "2"
      ]
     },
     "execution_count": 7,
     "metadata": {},
     "output_type": "execute_result"
    }
   ],
   "source": [
    "%time simm_SE1 = SE1.find_simmetries(adm_SE1)\n",
    "len(simm_SE1)"
   ]
  },
  {
   "cell_type": "code",
   "execution_count": 8,
   "id": "e8157c21-d101-43bb-ae94-b1b129cb9485",
   "metadata": {},
   "outputs": [
    {
     "data": {
      "text/plain": [
       "(2, 'C2')"
      ]
     },
     "execution_count": 8,
     "metadata": {},
     "output_type": "execute_result"
    }
   ],
   "source": [
    "lines_perms = []\n",
    "for simm in simm_SE1:\n",
    "    lines_perms.append(Permutation(SE1.apply_proj_to_lines(simm)).to_permutation_group_element())\n",
    "lines_perms_group = PermutationGroup(lines_perms)\n",
    "lines_perms_group.order(), lines_perms_group.structure_description()"
   ]
  },
  {
   "cell_type": "code",
   "execution_count": 9,
   "id": "a8f44793-5f1f-443e-84d8-bdaae18a9e36",
   "metadata": {},
   "outputs": [],
   "source": [
    "adm_perms = [from_labels_to_perm(label) for label in SE1.find_admissible_permutations()]\n",
    "M2_perm = lines_perms_group.gens_small()[0]"
   ]
  },
  {
   "cell_type": "code",
   "execution_count": 10,
   "id": "edffe6a8-f0e0-4bde-8b04-c8b7d311506e",
   "metadata": {},
   "outputs": [],
   "source": [
    "adm_perms_group = PermutationGroup(adm_perms)"
   ]
  },
  {
   "cell_type": "code",
   "execution_count": 11,
   "id": "2a4eb42f-c84b-4544-b11b-e9eac485b2a5",
   "metadata": {},
   "outputs": [
    {
     "data": {
      "text/plain": [
       "12"
      ]
     },
     "execution_count": 11,
     "metadata": {},
     "output_type": "execute_result"
    }
   ],
   "source": [
    "# find permutation of order 4 whose square is M2_perm\n",
    "possible_perms = []\n",
    "for perm in adm_perms_group:\n",
    "    if perm^2 == M2_perm and perm.order() == 4:\n",
    "        possible_perms.append(perm)\n",
    "len(possible_perms)"
   ]
  },
  {
   "cell_type": "code",
   "execution_count": 12,
   "id": "dfa2e2a4-3775-452c-a331-2f427497aad2",
   "metadata": {},
   "outputs": [],
   "source": [
    "possible_L_sets = [get_permuted_L_set(perm) for perm in possible_perms]\n",
    "L_set_base = ['E1', 'G4', 'E2', 'G3', 'E3']"
   ]
  },
  {
   "cell_type": "code",
   "execution_count": 13,
   "id": "9798b513-fab6-40f6-b9e4-390020fc9d3c",
   "metadata": {},
   "outputs": [],
   "source": [
    "possible_projs = [find_projectivity(SE1.get_L_set_in_plucker(L_set_base), SE1.get_L_set_in_plucker(L_set)) for L_set in possible_L_sets]\n",
    "M2 = [mat for mat in simm_SE1 if mat[0][0]!=1][0]\n",
    "identity_list = [0 for _ in range(16)]\n",
    "for i in {0,5,10,15}:\n",
    "    identity_list[i]=1\n",
    "possible_projs_squared = [proj^2 for proj in possible_projs]    "
   ]
  },
  {
   "cell_type": "code",
   "execution_count": 14,
   "id": "e077d9e6-d1a2-40a7-bde6-333230c1537a",
   "metadata": {},
   "outputs": [],
   "source": [
    "def find_conditions_for_subfamilies(cubic, projectivities):\n",
    "    mon = ((x+y+z+t)^3).monomials()\n",
    "    ideals = []\n",
    "    for M in projectivities:\n",
    "        print(projectivities.index(M))\n",
    "        sost = change_coord(M)\n",
    "        new_cubic = remove_sing_factors(cubic.eqn.subs(sost), cubic.sing_locus)    \n",
    "        conds_cubic = list(set(matrix([[new_cubic.coefficient(mn) for mn in mon], [cubic.eqn.coefficient(mn) for mn in mon]]).minors(2)))\n",
    "        conds_cubic = [remove_sing_factors(el, cubic.sing_locus) for el in conds_cubic if el !=0]\n",
    "        #conds_square = list(set(matrix([(M^2).list(), M2.list()]).minors(2)))\n",
    "        #conds_square = [remove_sing_factors(el, SE1.sing_locus) for el in conds_square if el !=0]\n",
    "        conds = list(set(conds_cubic))\n",
    "        ideale = cubic.P.ideal(conds)\n",
    "        new_ideals = get_valid_ideals(ideale, cubic)\n",
    "        for ideal in new_ideals:         \n",
    "            prim_deco2 = (ideale + ideal).radical().primary_decomposition()\n",
    "            for ideal2 in prim_deco2:\n",
    "                if is_ideal_valid(cubic, ideal2):\n",
    "                    ideals.append(ideal2)                        \n",
    "    return list(set(ideals))\n",
    "\n",
    "\n",
    "def get_valid_ideals(ideale, cubic):\n",
    "    valid_ideals = []\n",
    "    vrs = [c,d,e,f]\n",
    "    for vr in vrs:\n",
    "        valid_ideals_var = []\n",
    "        del_ideale = ideale.elimination_ideal([vr])\n",
    "        prim_deco_del = del_ideale.radical().primary_decomposition()\n",
    "        for ideal in prim_deco_del:\n",
    "            if is_ideal_valid(cubic, ideal):\n",
    "                valid_ideals_var.append(ideal)\n",
    "        if valid_ideals_var == []:\n",
    "            return []\n",
    "        else:\n",
    "            valid_ideals.append(valid_ideals_var)\n",
    "    return [id1+id2+id3+id4 for id1 in valid_ideals[0] for id2 in valid_ideals[1] for id3 in valid_ideals[2] for id4 in valid_ideals[3]] \n",
    "\n",
    "def is_ideal_valid(cubic, ideal):\n",
    "    if cubic.sing_locus.value() in ideal:\n",
    "        return False\n",
    "    for poly in list(set([pl.conditions for pl in cubic.tritangent_planes if pl.conditions != 0])):\n",
    "        if poly in ideal:\n",
    "            return False\n",
    "    return True"
   ]
  },
  {
   "cell_type": "code",
   "execution_count": 15,
   "id": "e36533ab-3ad7-44da-a829-db4d1639129b",
   "metadata": {},
   "outputs": [
    {
     "name": "stdout",
     "output_type": "stream",
     "text": [
      "0\n",
      "1\n",
      "2\n",
      "3\n",
      "4\n",
      "5\n",
      "6\n",
      "7\n",
      "8\n",
      "9\n",
      "10\n",
      "11\n",
      "CPU times: user 2min 55s, sys: 524 ms, total: 2min 55s\n",
      "Wall time: 2min 57s\n"
     ]
    }
   ],
   "source": [
    "%time ideals = find_conditions_for_subfamilies(SE1, possible_projs)"
   ]
  },
  {
   "cell_type": "code",
   "execution_count": 16,
   "id": "29d92210-a76d-4b24-aa39-64ba7e9e8169",
   "metadata": {},
   "outputs": [],
   "source": [
    "e_sost = {e:c*((1 - 2*i)*c + f)/((1 + 2*i)*c + f)}\n",
    "d_sost = {d:((1 + 2*i)*c^2 - (2 - 2*i)*c*f + f^2)*(c + f)/(((1 + 2*i)*c + f)*((-1 + 2*i)*c + f))}"
   ]
  },
  {
   "cell_type": "code",
   "execution_count": 17,
   "id": "1e7f346c-93da-478c-863f-63ee031377f6",
   "metadata": {},
   "outputs": [],
   "source": [
    "cubics = [SE1.reduce(ideal) for ideal in ideals]"
   ]
  },
  {
   "cell_type": "code",
   "execution_count": 26,
   "id": "5265adbc-603e-4878-bb57-47eb2214fdf1",
   "metadata": {},
   "outputs": [
    {
     "data": {
      "text/plain": [
       "[(x, y, z, t),\n",
       " (x, y, z, t),\n",
       " (x, y, z, t, d, e, f),\n",
       " (x, y, z, t, e, f),\n",
       " (x, y, z, t, e, f),\n",
       " (x, y, z, t, c, d, e, f),\n",
       " (x, y, z, t, e, f),\n",
       " (x, y, z, t, d, e, f),\n",
       " (x, y, z, t, e, f),\n",
       " (x, y, z, t, c, d, e, f),\n",
       " (x, y, z, t, c, d, e, f),\n",
       " (x, y, z, t, d, e, f),\n",
       " (x, y, z, t, c, d, e, f),\n",
       " (x, y, z, t, d, e, f),\n",
       " (x, y, z, t, e, f),\n",
       " (x, y, z, t, e, f),\n",
       " (x, y, z, t, c, d, e, f),\n",
       " (x, y, z, t, c, d, e, f),\n",
       " (x, y, z, t, d, e, f),\n",
       " (x, y, z, t, c, d, e, f),\n",
       " (x, y, z, t, e, f),\n",
       " (x, y, z, t, d, e, f),\n",
       " (x, y, z, t, e, f),\n",
       " (x, y, z, t, d, e, f),\n",
       " (x, y, z, t, e, f),\n",
       " (x, y, z, t, e, f),\n",
       " (x, y, z, t, e, f),\n",
       " (x, y, z, t, e, f),\n",
       " (x, y, z, t, d, e, f),\n",
       " (x, y, z, t),\n",
       " (x, y, z, t),\n",
       " (x, y, z, t),\n",
       " (x, y, z, t),\n",
       " (x, y, z, t, c, d, e, f),\n",
       " (x, y, z, t, c, d, e, f),\n",
       " (x, y, z, t, c, d, e, f),\n",
       " (x, y, z, t),\n",
       " (x, y, z, t),\n",
       " (x, y, z, t),\n",
       " (x, y, z, t),\n",
       " (x, y, z, t),\n",
       " (x, y, z, t),\n",
       " (x, y, z, t, e, f),\n",
       " (x, y, z, t, e, f),\n",
       " (x, y, z, t, d, e, f),\n",
       " (x, y, z, t, c, d, e, f),\n",
       " (x, y, z, t),\n",
       " (x, y, z, t),\n",
       " (x, y, z, t, e, f),\n",
       " (x, y, z, t, d, e, f),\n",
       " (x, y, z, t),\n",
       " (x, y, z, t),\n",
       " (x, y, z, t),\n",
       " (x, y, z, t),\n",
       " (x, y, z, t, c, d, e, f),\n",
       " (x, y, z, t, e, f),\n",
       " (x, y, z, t, d, e, f),\n",
       " (x, y, z, t, d, e, f),\n",
       " (x, y, z, t, e, f),\n",
       " (x, y, z, t),\n",
       " (x, y, z, t),\n",
       " (x, y, z, t),\n",
       " (x, y, z, t),\n",
       " (x, y, z, t, d, e, f),\n",
       " (x, y, z, t, e, f),\n",
       " (x, y, z, t, e, f),\n",
       " (x, y, z, t, d, e, f),\n",
       " (x, y, z, t, d, e, f),\n",
       " (x, y, z, t, c, d, e, f),\n",
       " (x, y, z, t, c, d, e, f),\n",
       " (x, y, z, t, c, d, e, f),\n",
       " (x, y, z, t, c, d, e, f),\n",
       " (x, y, z, t, c, d, e, f),\n",
       " (x, y, z, t, c, d, e, f),\n",
       " (x, y, z, t, c, d, e, f),\n",
       " (x, y, z, t, c, d, e, f),\n",
       " (x, y, z, t),\n",
       " (x, y, z, t),\n",
       " (x, y, z, t, c, d, e, f),\n",
       " (x, y, z, t, c, d, e, f),\n",
       " (x, y, z, t, c, d, e, f),\n",
       " (x, y, z, t, c, d, e, f),\n",
       " (x, y, z, t),\n",
       " (x, y, z, t),\n",
       " (x, y, z, t),\n",
       " (x, y, z, t),\n",
       " (x, y, z, t, d, e, f),\n",
       " (x, y, z, t, e, f)]"
      ]
     },
     "execution_count": 26,
     "metadata": {},
     "output_type": "execute_result"
    }
   ],
   "source": [
    "[cubic.eqn.variables() for cubic in cubics]"
   ]
  },
  {
   "cell_type": "code",
   "execution_count": null,
   "id": "241d9db8-7d7c-4868-870e-946c8268bbf4",
   "metadata": {},
   "outputs": [],
   "source": []
  },
  {
   "cell_type": "code",
   "execution_count": null,
   "id": "18b8c9d7-7cca-4547-9080-09debbf1bc71",
   "metadata": {},
   "outputs": [],
   "source": []
  }
 ],
 "metadata": {
  "kernelspec": {
   "display_name": "SageMath 9.4",
   "language": "sage",
   "name": "sagemath"
  },
  "language_info": {
   "codemirror_mode": {
    "name": "ipython",
    "version": 3
   },
   "file_extension": ".py",
   "mimetype": "text/x-python",
   "name": "python",
   "nbconvert_exporter": "python",
   "pygments_lexer": "ipython3",
   "version": "3.7.12"
  }
 },
 "nbformat": 4,
 "nbformat_minor": 5
}
