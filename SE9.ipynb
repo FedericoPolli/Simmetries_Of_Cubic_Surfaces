{
 "cells": [
  {
   "cell_type": "code",
   "execution_count": 7,
   "id": "f50d9932",
   "metadata": {},
   "outputs": [],
   "source": [
    "load('Imports/Utility.sage', 'Imports/Point.sage', 'Imports/Line.sage', 'Imports/TritangentPlane.sage', 'Imports/Group.sage', 'Imports/Cubic.sage')\n",
    "import multiprocessing as mp\n",
    "import pickle"
   ]
  },
  {
   "cell_type": "code",
   "execution_count": 8,
   "id": "1425cd61-e478-4bb3-b4aa-ef3ff5dc6324",
   "metadata": {},
   "outputs": [],
   "source": [
    "xx = QQ['xx'].0\n",
    "Q.<i_rad3> = NumberField(xx^2+3)"
   ]
  },
  {
   "cell_type": "code",
   "execution_count": 9,
   "id": "8d3ce3bb-21ff-4f2d-9f29-4e153808e026",
   "metadata": {},
   "outputs": [],
   "source": [
    "# Define cubic SE9, find and classify the lines and compute the 45 tritangent planes"
   ]
  },
  {
   "cell_type": "code",
   "execution_count": 13,
   "id": "5414dfc9-b788-42e0-99e5-f351fc682a0b",
   "metadata": {},
   "outputs": [],
   "source": [
    "Poly_Ring.<x,y,z,t,b,c,d,e,f,l,m> = PolynomialRing(Q)\n",
    "cubic_new = e*f*(2*x^2*y-2*x*y^2+x*z^2-x*z*t-y*t^2+y*z*t)+b*c*(x-t)*(x*z+y*t)+c*c*(z+t)*(y*t-x*z)+d*c*(y-z)*(x*z+y*t)+(e+f)*c*(x-y)*(y*t-x*z)\n",
    "sing_cubics = (-1) * (-c + f) * (-c + e) * c * (c + f) * (c + e) * (-e + f) * (-c*d + c*f + e*f) * (-c*d + c*e + e*f) * (-c^2 - c*d + e*f) * (b*c - c*f + e*f) * (b*c - c*e + e*f) * (b*c - c*d + 2*e*f) * (b*c - c^2 + e*f) * (b*c^2 + c^2*d + b*c*f - 2*c^2*f - c*d*f + 2*e*f^2) * (b*c^2 + c^2*d + b*c*e - 2*c^2*e - c*d*e + 2*e^2*f) * (-b*c^3 - 2*b*c^2*d + c^3*d + b*c^2*e + c^2*d*e + b*c^2*f + c^2*d*f + 3*b*c*e*f - 4*c^2*e*f - 3*c*d*e*f + 4*e^2*f^2)"
   ]
  },
  {
   "cell_type": "code",
   "execution_count": 14,
   "id": "188ea15e-ba9f-43d6-af81-914d344b3bf4",
   "metadata": {},
   "outputs": [
    {
     "name": "stdout",
     "output_type": "stream",
     "text": [
      "CPU times: user 3.84 s, sys: 19.4 ms, total: 3.86 s\n",
      "Wall time: 3.87 s\n"
     ]
    }
   ],
   "source": [
    "line = Line([y, z])\n",
    "general_cubic = Cubic(cubic_new, line, sing_cubics)\n",
    "%time SE9 = general_cubic.subs({b:-(c*c+e*f)/c, d:(3*e*f - c^2 + c*f + c*e)/(2*c)}).subs({e : i_rad3*c})"
   ]
  },
  {
   "cell_type": "code",
   "execution_count": 6,
   "id": "38938e7a-f0af-4e33-91f8-a4dcb3ce9d73",
   "metadata": {},
   "outputs": [],
   "source": [
    "# Find simmetries"
   ]
  },
  {
   "cell_type": "code",
   "execution_count": 7,
   "id": "b4db1869-5115-4967-8f38-ffd20e8662fe",
   "metadata": {},
   "outputs": [
    {
     "name": "stdout",
     "output_type": "stream",
     "text": [
      "CPU times: user 4.38 s, sys: 234 ms, total: 4.62 s\n",
      "Wall time: 53.8 s\n"
     ]
    },
    {
     "data": {
      "text/plain": [
       "1296"
      ]
     },
     "execution_count": 7,
     "metadata": {},
     "output_type": "execute_result"
    }
   ],
   "source": [
    "%time adm_SE9 = SE9.find_admissible_projectivities()\n",
    "len(adm_SE9)"
   ]
  },
  {
   "cell_type": "code",
   "execution_count": 8,
   "id": "0f9f0564-de9f-4df7-becf-2aeb86ec53d9",
   "metadata": {},
   "outputs": [
    {
     "name": "stdout",
     "output_type": "stream",
     "text": [
      "CPU times: user 2.1 s, sys: 173 ms, total: 2.27 s\n",
      "Wall time: 7.18 s\n"
     ]
    },
    {
     "data": {
      "text/plain": [
       "54"
      ]
     },
     "execution_count": 8,
     "metadata": {},
     "output_type": "execute_result"
    }
   ],
   "source": [
    "%time simm_SE9 = SE9.find_simmetries(adm_SE9)\n",
    "len(simm_SE9)"
   ]
  },
  {
   "cell_type": "code",
   "execution_count": 9,
   "id": "c6646df7-2fa0-47fb-917c-983193603a89",
   "metadata": {},
   "outputs": [],
   "source": [
    "# Study how the simmetries permute the Eckardt points"
   ]
  },
  {
   "cell_type": "code",
   "execution_count": 10,
   "id": "b8a24ace-332f-40ba-9654-ad18d5504cc7",
   "metadata": {},
   "outputs": [
    {
     "data": {
      "text/plain": [
       "(18, '(C3 x C3) : C2')"
      ]
     },
     "execution_count": 10,
     "metadata": {},
     "output_type": "execute_result"
    }
   ],
   "source": [
    "Eck_points_perms = []\n",
    "for proj in simm_SE9:\n",
    "    Eck_points_perms.append(Permutation(SE9.apply_proj_to_eck(proj)).to_permutation_group_element())\n",
    "Eck_points_perms_group = PermutationGroup(Eck_points_perms)\n",
    "Eck_points_perms_group.order(), Eck_points_perms_group.structure_description()"
   ]
  },
  {
   "cell_type": "code",
   "execution_count": 11,
   "id": "f08438a3-19d7-4444-8d7e-ef848d67d7ea",
   "metadata": {},
   "outputs": [],
   "source": [
    "# Study how the simmetries permute the 27 lines"
   ]
  },
  {
   "cell_type": "code",
   "execution_count": 12,
   "id": "817f6d5e-6f75-46fe-ad32-0d9d812a05c3",
   "metadata": {},
   "outputs": [
    {
     "data": {
      "text/plain": [
       "(54, '((C3 x C3) : C3) : C2')"
      ]
     },
     "execution_count": 12,
     "metadata": {},
     "output_type": "execute_result"
    }
   ],
   "source": [
    "lines_perms = []\n",
    "for simm in simm_SE9:\n",
    "    lines_perms.append(Permutation(SE9.apply_proj_to_lines(simm)).to_permutation_group_element())\n",
    "lines_perms_group = PermutationGroup(lines_perms)\n",
    "lines_perms_group.order(), lines_perms_group.structure_description()"
   ]
  },
  {
   "cell_type": "code",
   "execution_count": 13,
   "id": "a06e906e-69e9-457c-a138-49fafcb6a116",
   "metadata": {},
   "outputs": [],
   "source": [
    "all_subgroups = lines_perms_group.subgroups()"
   ]
  },
  {
   "cell_type": "code",
   "execution_count": 14,
   "id": "ffc26059-4268-44a9-813e-cd1bf35c1e4f",
   "metadata": {},
   "outputs": [
    {
     "data": {
      "text/plain": [
       "(True, '(C3 x C3) : C3')"
      ]
     },
     "execution_count": 14,
     "metadata": {},
     "output_type": "execute_result"
    }
   ],
   "source": [
    "# H is the subgroup of elements of order 3\n",
    "H = [el for el in lines_perms_group.normal_subgroups() if el.order()==27][0]\n",
    "list(set([el.order() for el in H if el.cycle_tuples() != []])) == [3], H.structure_description()"
   ]
  },
  {
   "cell_type": "code",
   "execution_count": 15,
   "id": "b2b1047c-b070-4f2b-9b51-296e9062dfbb",
   "metadata": {},
   "outputs": [
    {
     "data": {
      "text/plain": [
       "('C3',\n",
       " (1,10,15)(2,18,9)(3,23,11)(4,12,26)(5,20,8)(6,7,17)(13,25,24)(14,19,27)(16,22,21))"
      ]
     },
     "execution_count": 15,
     "metadata": {},
     "output_type": "execute_result"
    }
   ],
   "source": [
    "# The center is C3\n",
    "Z_H = H.center()\n",
    "M = Z_H.gens_small()[0]\n",
    "Z_H.structure_description(), M"
   ]
  },
  {
   "cell_type": "code",
   "execution_count": 16,
   "id": "406b0852-f670-41ea-956b-deadb0885287",
   "metadata": {},
   "outputs": [
    {
     "data": {
      "text/plain": [
       "4"
      ]
     },
     "execution_count": 16,
     "metadata": {},
     "output_type": "execute_result"
    }
   ],
   "source": [
    "len([el for el in all_subgroups if el.is_isomorphic(H.quotient(Z_H))])"
   ]
  },
  {
   "cell_type": "code",
   "execution_count": 17,
   "id": "12d28df8-e51b-4012-a797-04e94edae7f4",
   "metadata": {},
   "outputs": [
    {
     "data": {
      "text/plain": [
       "Permutation Group with generators [(1,2,4)(3,5,7)(6,8,9), (1,3,6)(2,5,8)(4,7,9)]"
      ]
     },
     "execution_count": 17,
     "metadata": {},
     "output_type": "execute_result"
    }
   ],
   "source": [
    "H.quotient(Z_H)"
   ]
  },
  {
   "cell_type": "code",
   "execution_count": 18,
   "id": "53d7d5da-7812-4cf9-9bb0-a1f5e6581a30",
   "metadata": {},
   "outputs": [
    {
     "data": {
      "text/plain": [
       "'C3 x C3'"
      ]
     },
     "execution_count": 18,
     "metadata": {},
     "output_type": "execute_result"
    }
   ],
   "source": [
    "H_over_Z_H = [el for el in all_subgroups if el.is_isomorphic(H.quotient(Z_H))][0]\n",
    "[N, P] = H_over_Z_H.gens_small()\n",
    "H_over_Z_H.structure_description()"
   ]
  },
  {
   "cell_type": "code",
   "execution_count": 19,
   "id": "d61224e4-6e44-49c3-98ad-aa503daeb08a",
   "metadata": {},
   "outputs": [
    {
     "data": {
      "text/plain": [
       "'(C3 x C3) : C3'"
      ]
     },
     "execution_count": 19,
     "metadata": {},
     "output_type": "execute_result"
    }
   ],
   "source": [
    "H.structure_description()"
   ]
  },
  {
   "cell_type": "code",
   "execution_count": 20,
   "id": "7f5cd631-8801-48a5-9ab8-80537448bb87",
   "metadata": {},
   "outputs": [
    {
     "data": {
      "text/plain": [
       "[(1,9,14)(2,19,10)(3,13,4)(5,21,17)(6,20,16)(7,8,22)(11,24,26)(12,23,25)(15,18,27),\n",
       " (1,8,13)(2,16,4)(3,27,17)(5,25,10)(6,23,14)(7,11,19)(9,21,26)(12,18,22)(15,20,24)]"
      ]
     },
     "execution_count": 20,
     "metadata": {},
     "output_type": "execute_result"
    }
   ],
   "source": [
    "H.minimal_generating_set()"
   ]
  },
  {
   "cell_type": "code",
   "execution_count": 21,
   "id": "6494a68d-b2c0-494c-9653-21a83ec75de1",
   "metadata": {},
   "outputs": [],
   "source": [
    "P1 = [el for el in H if el not in PermutationGroup([M,N])][0]"
   ]
  },
  {
   "cell_type": "code",
   "execution_count": 22,
   "id": "55e5befe-0ade-4834-8d50-310276794f7e",
   "metadata": {},
   "outputs": [
    {
     "data": {
      "text/plain": [
       "27"
      ]
     },
     "execution_count": 22,
     "metadata": {},
     "output_type": "execute_result"
    }
   ],
   "source": [
    "PermutationGroup([M,N, P1]).order()"
   ]
  },
  {
   "cell_type": "code",
   "execution_count": 23,
   "id": "2e1338c3-a66d-4444-9545-f2e60151f62d",
   "metadata": {},
   "outputs": [
    {
     "data": {
      "text/plain": [
       "True"
      ]
     },
     "execution_count": 23,
     "metadata": {},
     "output_type": "execute_result"
    }
   ],
   "source": [
    "PermutationGroup([M,N,P1]).is_isomorphic(H)"
   ]
  },
  {
   "cell_type": "code",
   "execution_count": 24,
   "id": "ce989fd0-7843-4df5-9e85-179533f824c4",
   "metadata": {},
   "outputs": [],
   "source": [
    "C2 = [el for el in all_subgroups if el.is_isomorphic(lines_perms_group.quotient(H))][0]\n",
    "A = C2.gens_small()[0]"
   ]
  },
  {
   "cell_type": "code",
   "execution_count": 25,
   "id": "d2d9f0b7-cb32-453d-9000-d6e16d7755fa",
   "metadata": {},
   "outputs": [
    {
     "data": {
      "text/plain": [
       "[27, 9, 9, 9, 9, 3, 1]"
      ]
     },
     "execution_count": 25,
     "metadata": {},
     "output_type": "execute_result"
    }
   ],
   "source": [
    "[el.order() for el in H.normal_subgroups()]"
   ]
  },
  {
   "cell_type": "code",
   "execution_count": 26,
   "id": "42bc9f6e-61f6-4b9f-859c-7e13bb9f0797",
   "metadata": {},
   "outputs": [],
   "source": [
    "gens = H.gens()+[A]\n",
    "gens_indices = [lines_perms.index(gen) for gen in gens]\n",
    "matrix_gens = [simm_SE9[index] for index in gens_indices]"
   ]
  },
  {
   "cell_type": "code",
   "execution_count": 27,
   "id": "85ef30c0-77bc-4f24-a3b9-735eefeeccad",
   "metadata": {},
   "outputs": [],
   "source": [
    "# There are twelve lines through 3 Eckardt points, and they are all coplanar"
   ]
  },
  {
   "cell_type": "code",
   "execution_count": 29,
   "id": "21b9d219",
   "metadata": {},
   "outputs": [
    {
     "name": "stdout",
     "output_type": "stream",
     "text": [
      "[[1, 2, 8], [1, 3, 9], [1, 4, 6], [1, 5, 7], [2, 3, 5], [2, 4, 9], [2, 6, 7], [3, 4, 7], [3, 6, 8], [4, 5, 8], [5, 6, 9], [7, 8, 9]]\n"
     ]
    }
   ],
   "source": [
    "lines_three_eck = []\n",
    "lines_labels = []\n",
    "for i in range(7):\n",
    "    for j in range(i+1, 8):\n",
    "        for k in range(j+1, 9):\n",
    "            point1 = SE9.eckardt_points[i]\n",
    "            point2 = SE9.eckardt_points[j]\n",
    "            point3 = SE9.eckardt_points[k]   \n",
    "            line12_pl = Point(matrix([point1, point2]).minors(2))\n",
    "            line23_pl = Point(matrix([point2, point3]).minors(2))\n",
    "            if line12_pl == line23_pl and line12_pl not in [line.plucker for line in lines_three_eck]:\n",
    "                lines_labels.append([i+1,j+1,k+1])\n",
    "                points = [point1, point2]\n",
    "                planes = get_two_planes_containing_line(points)\n",
    "                lines_three_eck.append(Line(planes, points, line12_pl))\n",
    "print(lines_labels)"
   ]
  },
  {
   "cell_type": "code",
   "execution_count": 30,
   "id": "057aab7c",
   "metadata": {},
   "outputs": [
    {
     "data": {
      "text/plain": [
       "False"
      ]
     },
     "execution_count": 30,
     "metadata": {},
     "output_type": "execute_result"
    }
   ],
   "source": [
    "False in [[line1.are_incident(line2) for line2 in lines_three_eck] for line1 in lines_three_eck]"
   ]
  },
  {
   "cell_type": "code",
   "execution_count": 31,
   "id": "a3f0ee56",
   "metadata": {},
   "outputs": [
    {
     "data": {
      "text/plain": [
       "x + (-1/4*i_rad3 - 1/4)*y + (1/4*i_rad3 + 1/4)*z"
      ]
     },
     "execution_count": 31,
     "metadata": {},
     "output_type": "execute_result"
    }
   ],
   "source": [
    "lines_three_eck[9].get_plane_containing_another_incident_line(lines_three_eck[6])"
   ]
  },
  {
   "cell_type": "code",
   "execution_count": 32,
   "id": "5bfb2ca9-18ec-4002-b79b-b73f7d4d9465",
   "metadata": {},
   "outputs": [],
   "source": [
    "# Study how the 12 lines are permuted"
   ]
  },
  {
   "cell_type": "code",
   "execution_count": 33,
   "id": "e427b2aa-da33-43d8-a46b-d7cc3da2b73a",
   "metadata": {},
   "outputs": [
    {
     "name": "stdout",
     "output_type": "stream",
     "text": [
      "(1,11,8)(2,10,7)(3,5,12)\n",
      "(2,7,10)(3,5,12)(4,6,9)\n",
      "()\n",
      "(5,12)(6,9)(7,10)(8,11)\n"
     ]
    }
   ],
   "source": [
    "for gen in matrix_gens:\n",
    "    print(Permutation([lines_three_eck.index(line.apply_proj(gen))+1 for line in lines_three_eck]).to_permutation_group_element())"
   ]
  },
  {
   "cell_type": "code",
   "execution_count": 34,
   "id": "318aaaa4-a767-4b10-8c0f-aec377877720",
   "metadata": {},
   "outputs": [
    {
     "data": {
      "text/plain": [
       "[(1,7,5)(2,4,9)(3,6,8), (1,8,2)(3,4,7)(5,6,9), (), (2,8)(3,9)(4,6)(5,7)]"
      ]
     },
     "execution_count": 34,
     "metadata": {},
     "output_type": "execute_result"
    }
   ],
   "source": [
    "[Eck_points_perms[gen_index] for gen_index in gens_indices]"
   ]
  },
  {
   "cell_type": "code",
   "execution_count": 35,
   "id": "122dd086-173c-409e-a839-37349206a52a",
   "metadata": {},
   "outputs": [
    {
     "name": "stdout",
     "output_type": "stream",
     "text": [
      "[['E1', 'G4', 'F14'], ['E2', 'G3', 'F23'], ['E3', 'G5', 'F35'], ['E4', 'G6', 'F46'], ['E5', 'G2', 'F25'], ['E6', 'G1', 'F16'], ['F12', 'F36', 'F45'], ['F13', 'F24', 'F56'], ['F15', 'F26', 'F34']]\n",
      "\n",
      "[['F12', 'F45', 'F36'], ['E4', 'F46', 'G6'], ['F16', 'G1', 'E6'], ['F15', 'F34', 'F26'], ['G4', 'E1', 'F14'], ['F13', 'F24', 'F56'], ['G2', 'F25', 'E5'], ['F35', 'G5', 'E3'], ['E2', 'G3', 'F23']]\n",
      "\n",
      "[['F13', 'F24', 'F56'], ['G4', 'E1', 'F14'], ['E4', 'F46', 'G6'], ['F12', 'F45', 'F36'], ['F16', 'G1', 'E6'], ['F15', 'F34', 'F26'], ['E3', 'G5', 'F35'], ['G3', 'E2', 'F23'], ['F25', 'E5', 'G2']]\n",
      "\n",
      "[['F14', 'E1', 'G4'], ['G3', 'F23', 'E2'], ['G5', 'F35', 'E3'], ['F46', 'E4', 'G6'], ['G2', 'F25', 'E5'], ['F16', 'E6', 'G1'], ['F36', 'F45', 'F12'], ['F56', 'F13', 'F24'], ['F26', 'F34', 'F15']]\n",
      "\n",
      "[['E1', 'G4', 'F14'], ['F24', 'F13', 'F56'], ['F34', 'F15', 'F26'], ['G1', 'F16', 'E6'], ['F45', 'F12', 'F36'], ['F46', 'E4', 'G6'], ['G2', 'F25', 'E5'], ['G3', 'E2', 'F23'], ['G5', 'F35', 'E3']]\n",
      "\n"
     ]
    }
   ],
   "source": [
    "keys = list(SE9.cl_lines.keys())\n",
    "print(SE9.eckardt_points_labels)\n",
    "print()\n",
    "for gen in gens:\n",
    "    labels = from_perm_to_labels(gen)\n",
    "    print([[keys[labels.index(label)] for label in Eck_label] for Eck_label in SE9.eckardt_points_labels])\n",
    "    print()"
   ]
  },
  {
   "cell_type": "code",
   "execution_count": 36,
   "id": "646d6644-169c-4454-896d-d77fa946b37a",
   "metadata": {},
   "outputs": [
    {
     "data": {
      "text/plain": [
       "([('G2', 'E5', 'F15', 'F26', 'F56', 'F45'),\n",
       "  ('G3', 'E2', 'F24', 'F13', 'F12', 'F26'),\n",
       "  ('G4', 'F14', 'F23', 'E2', 'F35', 'F25'),\n",
       "  ('E1', 'G4', 'F24', 'F13', 'F34', 'F45')],\n",
       " [(1,8,13)(2,16,4)(3,27,17)(5,25,10)(6,23,14)(7,11,19)(9,21,26)(12,18,22)(15,20,24),\n",
       "  (1,9,14)(2,19,10)(3,13,4)(5,21,17)(6,20,16)(7,8,22)(11,24,26)(12,23,25)(15,18,27),\n",
       "  (1,10,15)(2,18,9)(3,23,11)(4,12,26)(5,20,8)(6,7,17)(13,25,24)(14,19,27)(16,22,21),\n",
       "  (2,19)(3,22)(4,7)(5,25)(6,26)(8,13)(9,14)(11,16)(12,17)(18,27)(20,24)(21,23)])"
      ]
     },
     "execution_count": 36,
     "metadata": {},
     "output_type": "execute_result"
    }
   ],
   "source": [
    "gens_lines = [lines_perms[index] for index in gens_indices]\n",
    "[get_permuted_extended_L_set(perm) for perm in gens_lines], gens_lines"
   ]
  },
  {
   "cell_type": "code",
   "execution_count": null,
   "id": "cd52d67a-41fc-41c0-b64d-b7d2b732753b",
   "metadata": {},
   "outputs": [],
   "source": []
  }
 ],
 "metadata": {
  "kernelspec": {
   "display_name": "SageMath 9.4",
   "language": "sage",
   "name": "sagemath"
  },
  "language_info": {
   "codemirror_mode": {
    "name": "ipython",
    "version": 3
   },
   "file_extension": ".py",
   "mimetype": "text/x-python",
   "name": "python",
   "nbconvert_exporter": "python",
   "pygments_lexer": "ipython3",
   "version": "3.7.12"
  }
 },
 "nbformat": 4,
 "nbformat_minor": 5
}
