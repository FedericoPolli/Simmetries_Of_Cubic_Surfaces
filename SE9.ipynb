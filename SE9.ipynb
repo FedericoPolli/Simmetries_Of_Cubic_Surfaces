{
 "cells": [
  {
   "cell_type": "code",
   "execution_count": 53,
   "id": "f498846a-cb2d-4da5-9a41-6155889570d8",
   "metadata": {},
   "outputs": [],
   "source": [
    "load('Imports/Utility.sage', 'Imports/Point.sage', 'Imports/Line.sage', 'Imports/Tritangent_plane.sage', 'Imports/Group.sage', 'Imports/Cubic.sage')\n",
    "import multiprocessing as mp\n",
    "import pickle"
   ]
  },
  {
   "cell_type": "code",
   "execution_count": 3,
   "id": "d62c83d5",
   "metadata": {},
   "outputs": [],
   "source": [
    "xx = QQ['xx'].0"
   ]
  },
  {
   "cell_type": "code",
   "execution_count": 4,
   "id": "fc1fc08d",
   "metadata": {},
   "outputs": [],
   "source": [
    "Q.<alpha> = NumberField(xx^2+3)"
   ]
  },
  {
   "cell_type": "code",
   "execution_count": 5,
   "id": "9975092c",
   "metadata": {},
   "outputs": [],
   "source": [
    "P.<x,y,z,t,b,c,d,e,f,l,m> = PolynomialRing(Q)"
   ]
  },
  {
   "cell_type": "code",
   "execution_count": 6,
   "id": "e552b1d2",
   "metadata": {},
   "outputs": [],
   "source": [
    "cubic_new = e*f*(2*x^2*y-2*x*y^2+x*z^2-x*z*t-y*t^2+y*z*t)+b*c*(x-t)*(x*z+y*t)+c*c*(z+t)*(y*t-x*z)+d*c*(y-z)*(x*z+y*t)+(e+f)*c*(x-y)*(y*t-x*z)"
   ]
  },
  {
   "cell_type": "code",
   "execution_count": 7,
   "id": "eb448b59-eb18-4b69-870b-7707b13ba9d9",
   "metadata": {},
   "outputs": [],
   "source": [
    "sing_cubics = (-1) * (-c + f) * (-c + e) * c * (c + f) * (c + e) * (-e + f)^2 * (-c*d + c*f + e*f) * (-c*d + c*e + e*f) * (-c^2 - c*d + e*f) * (b*c - c*f + e*f) * (b*c - c*e + e*f) * (b*c - c*d + 2*e*f) * (b*c - c^2 + e*f) * (b*c^2 + c^2*d + b*c*f - 2*c^2*f - c*d*f + 2*e*f^2) * (b*c^2 + c^2*d + b*c*e - 2*c^2*e - c*d*e + 2*e^2*f) * (-b*c^3 - 2*b*c^2*d + c^3*d + b*c^2*e + c^2*d*e + b*c^2*f + c^2*d*f + 3*b*c*e*f - 4*c^2*e*f - 3*c*d*e*f + 4*e^2*f^2)"
   ]
  },
  {
   "cell_type": "code",
   "execution_count": 8,
   "id": "1ddcc9c2",
   "metadata": {},
   "outputs": [],
   "source": [
    "line = Line([y, z])"
   ]
  },
  {
   "cell_type": "code",
   "execution_count": 9,
   "id": "b03bd8ce",
   "metadata": {},
   "outputs": [],
   "source": [
    "eqn_SE1 = P(cubic_new.subs({b:-(c*c+e*f)/c }) )\n",
    "sing_cubics_SE1 = P(sing_cubics.subs({b:-(c*c+e*f)/c }))"
   ]
  },
  {
   "cell_type": "code",
   "execution_count": 10,
   "id": "9f693749",
   "metadata": {},
   "outputs": [],
   "source": [
    "eqn_SE3 = P(2*eqn_SE1.subs({d:(3*e*f - c^2 + c*f + c*e)/(2*c)}) )\n",
    "sing_cubics_SE3 = P(sing_cubics_SE1.subs({d:(3*e*f - c^2 + c*f + c*e)/(2*c)}))"
   ]
  },
  {
   "cell_type": "code",
   "execution_count": 11,
   "id": "601531db-de5f-469d-bdaa-7d0762265897",
   "metadata": {},
   "outputs": [],
   "source": [
    "eqn_SE9 = P(eqn_SE3.subs({e : alpha*c}) /c)\n",
    "sing_cubics_SE9 = P(sing_cubics_SE3.subs({e : alpha*c}))"
   ]
  },
  {
   "cell_type": "code",
   "execution_count": 12,
   "id": "008bb3ae",
   "metadata": {},
   "outputs": [],
   "source": [
    "SE9 = Cubic(eqn_SE9, line, sing_cubics_SE9.factor())"
   ]
  },
  {
   "cell_type": "code",
   "execution_count": 13,
   "id": "c1c6e58d-a719-4040-b62e-a70b2c692cfa",
   "metadata": {},
   "outputs": [
    {
     "data": {
      "text/plain": [
       "[(0, 0, 0, 1),\n",
       " (0, 1, 1, 0),\n",
       " ((-1/3*alpha), (-1/3*alpha), 1, -1),\n",
       " ((1/4*alpha + 1/4)*c^2 + (-1/4*alpha - 1/4)*c*f, c^2, c*f, (-1/4*alpha - 1/4)*c*f + (1/4*alpha + 1/4)*f^2),\n",
       " ((1/6*alpha)*c^2 + (-1/6*alpha)*c*f, (1/6*alpha + 1/2)*c^2, (1/6*alpha + 1/2)*c*f, (1/4*alpha + 1/4)*c^2 + (-1/3*alpha - 1/2)*c*f + (1/12*alpha + 1/4)*f^2),\n",
       " ((-5/42*alpha - 1/14)*c + (5/42*alpha + 1/14)*f, (2/21*alpha - 1/7)*c + (2/21*alpha - 1/7)*f, (1/7*alpha + 2/7)*c + (1/21*alpha - 4/7)*f, (1/14*alpha - 5/14)*c + (-1/14*alpha + 5/14)*f),\n",
       " ((-1/4*alpha + 1/4)*c^2 + (1/4*alpha - 1/4)*c*f, -1/2*c^2 - 1/2*c*f, (1/2*alpha)*c^2 + (-1/2*alpha - 1)*c*f, (-1/2*alpha)*c^2 + (3/4*alpha + 1/4)*c*f + (-1/4*alpha - 1/4)*f^2),\n",
       " (0, (1/2*alpha - 1/2)*c, (1/2*alpha - 1/2)*c, (-1/2*alpha - 1/2)*c + (1/2*alpha + 1/2)*f),\n",
       " (1/2*c, 1/2*c, (1/2*alpha)*c, -1/2*f)]"
      ]
     },
     "execution_count": 13,
     "metadata": {},
     "output_type": "execute_result"
    }
   ],
   "source": [
    "SE9.eckardt_points"
   ]
  },
  {
   "cell_type": "code",
   "execution_count": 14,
   "id": "2299473e-4191-459a-8406-2eadd75e2c2a",
   "metadata": {},
   "outputs": [
    {
     "name": "stdout",
     "output_type": "stream",
     "text": [
      "CPU times: user 5.87 s, sys: 346 ms, total: 6.22 s\n",
      "Wall time: 50.7 s\n"
     ]
    }
   ],
   "source": [
    "%time adm_SE9 = SE9.find_admissible_projectivities()"
   ]
  },
  {
   "cell_type": "code",
   "execution_count": 15,
   "id": "468e1aaf-0bbd-4a9d-ba52-8340bd9ecaba",
   "metadata": {},
   "outputs": [
    {
     "data": {
      "text/plain": [
       "1296"
      ]
     },
     "execution_count": 15,
     "metadata": {},
     "output_type": "execute_result"
    }
   ],
   "source": [
    "len(adm_SE9)"
   ]
  },
  {
   "cell_type": "code",
   "execution_count": 16,
   "id": "8505d503-e796-4b6a-9e06-5e7c3a444e48",
   "metadata": {},
   "outputs": [
    {
     "name": "stdout",
     "output_type": "stream",
     "text": [
      "CPU times: user 1.61 s, sys: 174 ms, total: 1.78 s\n",
      "Wall time: 3.29 s\n"
     ]
    }
   ],
   "source": [
    "%time simm_SE9 = SE9.find_simmetries(adm_SE9)"
   ]
  },
  {
   "cell_type": "code",
   "execution_count": 17,
   "id": "1e878449-ad1e-4f7e-9013-d728660aea68",
   "metadata": {},
   "outputs": [
    {
     "data": {
      "text/plain": [
       "54"
      ]
     },
     "execution_count": 17,
     "metadata": {},
     "output_type": "execute_result"
    }
   ],
   "source": [
    "len(simm_SE9)"
   ]
  },
  {
   "cell_type": "code",
   "execution_count": 19,
   "id": "00e230e1-153b-413b-aa7c-acb3b58fa033",
   "metadata": {},
   "outputs": [
    {
     "data": {
      "text/plain": [
       "((-288*alpha - 288)) * (c - f)^3 * (c + (1/3*alpha)*f)^4 * (c + f)^7 * c^17"
      ]
     },
     "execution_count": 19,
     "metadata": {},
     "output_type": "execute_result"
    }
   ],
   "source": [
    "sing_cubics_SE9.factor()"
   ]
  },
  {
   "cell_type": "code",
   "execution_count": 54,
   "id": "a9518cef-8b02-4f5b-b15c-16435e65169b",
   "metadata": {},
   "outputs": [
    {
     "name": "stdout",
     "output_type": "stream",
     "text": [
      "CPU times: user 4min 17s, sys: 4.5 s, total: 4min 22s\n",
      "Wall time: 4min 26s\n"
     ]
    },
    {
     "data": {
      "text/plain": [
       "[(c^2 + (-2*alpha)*c*f + f^2,),\n",
       " (13*c^2 + (4*alpha + 2)*c*f + (-2*alpha - 1)*f^2,),\n",
       " (13*c^2 + (4*alpha - 2)*c*f + (2*alpha - 1)*f^2,)]"
      ]
     },
     "execution_count": 54,
     "metadata": {},
     "output_type": "execute_result"
    }
   ],
   "source": [
    "%time find_conditions_for_subfamilies(SE9, sing_cubics_SE9, adm_SE9, simm_SE9)"
   ]
  },
  {
   "cell_type": "code",
   "execution_count": 57,
   "id": "0390c9f3-7a5c-4036-9f2b-346ba70c640e",
   "metadata": {},
   "outputs": [
    {
     "data": {
      "text/plain": [
       "[c^2 + (-2*alpha)*c*f + f^2,\n",
       " ((2*alpha)) * (c + (-1/6*alpha)*f) * (c^2 + (-2*alpha)*c*f + f^2)]"
      ]
     },
     "execution_count": 57,
     "metadata": {},
     "output_type": "execute_result"
    }
   ],
   "source": [
    "[el.subs({e:alpha*c}).factor() for el in [c^2 - 2*e*f + f^2, 2*c^2*e + 13*c^2*f + f^3]]"
   ]
  },
  {
   "cell_type": "code",
   "execution_count": 44,
   "id": "12c4ce2b-c847-4ffd-9bd4-e25ff4af3cf4",
   "metadata": {},
   "outputs": [
    {
     "data": {
      "text/plain": [
       "((-2*alpha + 1)) * (c^2 + (4/13*alpha + 2/13)*c*f + (-2/13*alpha - 1/13)*f^2)"
      ]
     },
     "execution_count": 44,
     "metadata": {},
     "output_type": "execute_result"
    }
   ],
   "source": [
    "(c^2 - 2*c*e + 2*c*f - f^2).subs({e:alpha*c}).factor()"
   ]
  },
  {
   "cell_type": "code",
   "execution_count": 18,
   "id": "d093deed-bb43-4acf-9374-c6e31aa32d27",
   "metadata": {},
   "outputs": [],
   "source": [
    "G_SE9 = Group(simm_SE9)"
   ]
  },
  {
   "cell_type": "raw",
   "id": "3c03f638-fa52-4fb7-a2c7-d81f8eee0eb6",
   "metadata": {},
   "source": [
    "%time G_SE9.is_group()"
   ]
  },
  {
   "cell_type": "code",
   "execution_count": 19,
   "id": "0ff50c99-8035-4118-a098-9a3649c0de59",
   "metadata": {},
   "outputs": [
    {
     "data": {
      "text/plain": [
       "54"
      ]
     },
     "execution_count": 19,
     "metadata": {},
     "output_type": "execute_result"
    }
   ],
   "source": [
    "G_SE9.get_order()"
   ]
  },
  {
   "cell_type": "code",
   "execution_count": 20,
   "id": "6cac926c-f20d-49f3-9245-b0fa8264b951",
   "metadata": {},
   "outputs": [
    {
     "data": {
      "text/plain": [
       "False"
      ]
     },
     "execution_count": 20,
     "metadata": {},
     "output_type": "execute_result"
    }
   ],
   "source": [
    "G_SE9.is_abelian()"
   ]
  },
  {
   "cell_type": "code",
   "execution_count": 21,
   "id": "ed16551e-588f-42c3-989f-29d5bf8264f9",
   "metadata": {},
   "outputs": [
    {
     "data": {
      "text/plain": [
       "[1, 2, 3, 6, 9, 18, 27, 54]"
      ]
     },
     "execution_count": 21,
     "metadata": {},
     "output_type": "execute_result"
    }
   ],
   "source": [
    "G_SE9.get_divisors_of_order()"
   ]
  },
  {
   "cell_type": "code",
   "execution_count": null,
   "id": "5d92bfa0-6f73-4261-a2d0-1e38613d640b",
   "metadata": {},
   "outputs": [],
   "source": [
    "G_SE9.get_order_of_elements()"
   ]
  },
  {
   "cell_type": "code",
   "execution_count": null,
   "id": "7562f8ce-6ea2-489d-992e-d88377fc15ad",
   "metadata": {},
   "outputs": [],
   "source": [
    "[G_SE9.apply_to(p) for p in eckardt_points]"
   ]
  },
  {
   "cell_type": "code",
   "execution_count": null,
   "id": "34f0053e-206a-4f14-8402-69773f4d0df1",
   "metadata": {},
   "outputs": [],
   "source": []
  }
 ],
 "metadata": {
  "kernelspec": {
   "display_name": "SageMath 9.3",
   "language": "sage",
   "name": "sagemath"
  },
  "language_info": {
   "codemirror_mode": {
    "name": "ipython",
    "version": 3
   },
   "file_extension": ".py",
   "mimetype": "text/x-python",
   "name": "python",
   "nbconvert_exporter": "python",
   "pygments_lexer": "ipython3",
   "version": "3.7.10"
  }
 },
 "nbformat": 4,
 "nbformat_minor": 5
}
