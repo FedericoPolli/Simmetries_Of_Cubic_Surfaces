{
 "cells": [
  {
   "cell_type": "code",
   "execution_count": 1,
   "id": "f498846a-cb2d-4da5-9a41-6155889570d8",
   "metadata": {},
   "outputs": [],
   "source": [
    "load('Imports/Utility.sage', 'Imports/Point.sage', 'Imports/Line.sage', 'Imports/Tritangent_plane.sage', 'Imports/Group.sage', 'Imports/Cubic.sage')\n",
    "import multiprocessing as mp\n",
    "import pickle"
   ]
  },
  {
   "cell_type": "code",
   "execution_count": 2,
   "id": "d62c83d5",
   "metadata": {},
   "outputs": [],
   "source": [
    "xx = QQ['xx'].0"
   ]
  },
  {
   "cell_type": "code",
   "execution_count": 3,
   "id": "fc1fc08d",
   "metadata": {},
   "outputs": [],
   "source": [
    "Q.<alpha> = NumberField(xx^2+3)"
   ]
  },
  {
   "cell_type": "code",
   "execution_count": 4,
   "id": "9975092c",
   "metadata": {},
   "outputs": [],
   "source": [
    "P.<x,y,z,t,b,c,d,e,f,l,m> = PolynomialRing(Q)"
   ]
  },
  {
   "cell_type": "code",
   "execution_count": 5,
   "id": "e552b1d2",
   "metadata": {},
   "outputs": [],
   "source": [
    "cubic_new = e*f*(2*x^2*y-2*x*y^2+x*z^2-x*z*t-y*t^2+y*z*t)+b*c*(x-t)*(x*z+y*t)+c*c*(z+t)*(y*t-x*z)+d*c*(y-z)*(x*z+y*t)+(e+f)*c*(x-y)*(y*t-x*z)"
   ]
  },
  {
   "cell_type": "code",
   "execution_count": 6,
   "id": "eb448b59-eb18-4b69-870b-7707b13ba9d9",
   "metadata": {},
   "outputs": [],
   "source": [
    "sing_cubics = (-1) * (-c + f) * (-c + e) * c * (c + f) * (c + e) * (-e + f)^2 * (-c*d + c*f + e*f) * (-c*d + c*e + e*f) * (-c^2 - c*d + e*f) * (b*c - c*f + e*f) * (b*c - c*e + e*f) * (b*c - c*d + 2*e*f) * (b*c - c^2 + e*f) * (b*c^2 + c^2*d + b*c*f - 2*c^2*f - c*d*f + 2*e*f^2) * (b*c^2 + c^2*d + b*c*e - 2*c^2*e - c*d*e + 2*e^2*f) * (-b*c^3 - 2*b*c^2*d + c^3*d + b*c^2*e + c^2*d*e + b*c^2*f + c^2*d*f + 3*b*c*e*f - 4*c^2*e*f - 3*c*d*e*f + 4*e^2*f^2)"
   ]
  },
  {
   "cell_type": "code",
   "execution_count": 7,
   "id": "1ddcc9c2",
   "metadata": {},
   "outputs": [],
   "source": [
    "line = Line([y, z])"
   ]
  },
  {
   "cell_type": "code",
   "execution_count": 8,
   "id": "3836c739-8d69-4a8a-a53e-ff15af0d3acb",
   "metadata": {},
   "outputs": [],
   "source": [
    "general_cubic = Cubic(cubic_new, line, sing_cubics)"
   ]
  },
  {
   "cell_type": "code",
   "execution_count": 9,
   "id": "732c9ee9-aa6c-4c07-a1ab-6bda7ce9b954",
   "metadata": {},
   "outputs": [],
   "source": [
    "SE9 = general_cubic.subs({b:-(c*c+e*f)/c, d:(3*e*f - c^2 + c*f + c*e)/(2*c)}).subs({e : alpha*c})"
   ]
  },
  {
   "cell_type": "code",
   "execution_count": 10,
   "id": "c10121b6-1aa3-48cd-9825-752aae01c390",
   "metadata": {},
   "outputs": [
    {
     "data": {
      "text/plain": [
       "[['E1', 'G4', 'F14'],\n",
       " ['E2', 'G3', 'F23'],\n",
       " ['E3', 'G5', 'F35'],\n",
       " ['E4', 'G6', 'F46'],\n",
       " ['E5', 'G2', 'F25'],\n",
       " ['E6', 'G1', 'F16'],\n",
       " ['F12', 'F36', 'F45'],\n",
       " ['F13', 'F24', 'F56'],\n",
       " ['F15', 'F26', 'F34']]"
      ]
     },
     "execution_count": 10,
     "metadata": {},
     "output_type": "execute_result"
    }
   ],
   "source": [
    "SE9.eckardt_points_labels"
   ]
  },
  {
   "cell_type": "code",
   "execution_count": 11,
   "id": "2299473e-4191-459a-8406-2eadd75e2c2a",
   "metadata": {},
   "outputs": [
    {
     "name": "stdout",
     "output_type": "stream",
     "text": [
      "CPU times: user 5.92 s, sys: 381 ms, total: 6.3 s\n",
      "Wall time: 53.2 s\n"
     ]
    }
   ],
   "source": [
    "%time adm_SE9 = SE9.find_admissible_projectivities()"
   ]
  },
  {
   "cell_type": "code",
   "execution_count": 12,
   "id": "468e1aaf-0bbd-4a9d-ba52-8340bd9ecaba",
   "metadata": {},
   "outputs": [
    {
     "data": {
      "text/plain": [
       "1296"
      ]
     },
     "execution_count": 12,
     "metadata": {},
     "output_type": "execute_result"
    }
   ],
   "source": [
    "len(adm_SE9)"
   ]
  },
  {
   "cell_type": "code",
   "execution_count": 13,
   "id": "8505d503-e796-4b6a-9e06-5e7c3a444e48",
   "metadata": {},
   "outputs": [
    {
     "name": "stdout",
     "output_type": "stream",
     "text": [
      "CPU times: user 1.62 s, sys: 202 ms, total: 1.82 s\n",
      "Wall time: 4.5 s\n"
     ]
    }
   ],
   "source": [
    "%time simm_SE9 = SE9.find_simmetries(adm_SE9)"
   ]
  },
  {
   "cell_type": "code",
   "execution_count": 14,
   "id": "1e878449-ad1e-4f7e-9013-d728660aea68",
   "metadata": {},
   "outputs": [
    {
     "data": {
      "text/plain": [
       "54"
      ]
     },
     "execution_count": 14,
     "metadata": {},
     "output_type": "execute_result"
    }
   ],
   "source": [
    "len(simm_SE9)"
   ]
  },
  {
   "cell_type": "code",
   "execution_count": 15,
   "id": "d093deed-bb43-4acf-9374-c6e31aa32d27",
   "metadata": {},
   "outputs": [],
   "source": [
    "G_SE9 = Group(simm_SE9)"
   ]
  },
  {
   "cell_type": "raw",
   "id": "3c03f638-fa52-4fb7-a2c7-d81f8eee0eb6",
   "metadata": {},
   "source": [
    "%time G_SE9.is_group()"
   ]
  },
  {
   "cell_type": "code",
   "execution_count": 16,
   "id": "0ff50c99-8035-4118-a098-9a3649c0de59",
   "metadata": {},
   "outputs": [
    {
     "data": {
      "text/plain": [
       "54"
      ]
     },
     "execution_count": 16,
     "metadata": {},
     "output_type": "execute_result"
    }
   ],
   "source": [
    "G_SE9.get_order()"
   ]
  },
  {
   "cell_type": "code",
   "execution_count": 17,
   "id": "6cac926c-f20d-49f3-9245-b0fa8264b951",
   "metadata": {},
   "outputs": [
    {
     "data": {
      "text/plain": [
       "False"
      ]
     },
     "execution_count": 17,
     "metadata": {},
     "output_type": "execute_result"
    }
   ],
   "source": [
    "G_SE9.is_abelian()"
   ]
  },
  {
   "cell_type": "code",
   "execution_count": 18,
   "id": "ed16551e-588f-42c3-989f-29d5bf8264f9",
   "metadata": {},
   "outputs": [
    {
     "data": {
      "text/plain": [
       "[1, 2, 3, 6, 9, 18, 27, 54]"
      ]
     },
     "execution_count": 18,
     "metadata": {},
     "output_type": "execute_result"
    }
   ],
   "source": [
    "G_SE9.get_divisors_of_order()"
   ]
  },
  {
   "cell_type": "code",
   "execution_count": 19,
   "id": "5d92bfa0-6f73-4261-a2d0-1e38613d640b",
   "metadata": {},
   "outputs": [],
   "source": [
    "#G_SE9.get_order_of_elements()"
   ]
  },
  {
   "cell_type": "code",
   "execution_count": 20,
   "id": "7562f8ce-6ea2-489d-992e-d88377fc15ad",
   "metadata": {},
   "outputs": [],
   "source": [
    "#[G_SE9.apply_to(p) for p in SE9.eckardt_points]"
   ]
  },
  {
   "cell_type": "code",
   "execution_count": 21,
   "id": "8d500d9b-3ae2-4a36-b925-1d2b9ba9692b",
   "metadata": {},
   "outputs": [],
   "source": [
    "#Eckardt points"
   ]
  },
  {
   "cell_type": "code",
   "execution_count": 22,
   "id": "859eb460-a617-426d-9f8a-b125621e26ca",
   "metadata": {},
   "outputs": [],
   "source": [
    "perms = []\n",
    "for el in G_SE9:\n",
    "    perms.append(Permutation(apply_proj_to_eck(el, SE9.eckardt_points)).to_cycles())"
   ]
  },
  {
   "cell_type": "code",
   "execution_count": 23,
   "id": "0cc42b7a-6032-4f69-872a-82f677a094d4",
   "metadata": {},
   "outputs": [
    {
     "data": {
      "text/plain": [
       "18"
      ]
     },
     "execution_count": 23,
     "metadata": {},
     "output_type": "execute_result"
    }
   ],
   "source": [
    "PermutationGroup(perms).order()"
   ]
  },
  {
   "cell_type": "code",
   "execution_count": 24,
   "id": "14153171-aa61-43cb-8ef0-11491265348e",
   "metadata": {},
   "outputs": [
    {
     "data": {
      "text/plain": [
       "'(C3 x C3) : C2'"
      ]
     },
     "execution_count": 24,
     "metadata": {},
     "output_type": "execute_result"
    }
   ],
   "source": [
    "PermutationGroup(perms).structure_description()"
   ]
  },
  {
   "cell_type": "code",
   "execution_count": 25,
   "id": "8d8a7567-73c2-46a4-8aaf-d6e055fce591",
   "metadata": {},
   "outputs": [],
   "source": [
    "#lines"
   ]
  },
  {
   "cell_type": "code",
   "execution_count": 26,
   "id": "34f0053e-206a-4f14-8402-69773f4d0df1",
   "metadata": {},
   "outputs": [],
   "source": [
    "adm_perm = SE9.find_admissible_permutations()\n",
    "keys = list(SE9.cl_lines.keys())"
   ]
  },
  {
   "cell_type": "code",
   "execution_count": 41,
   "id": "e663c042-86db-4d7c-bc8d-65d13e97b1d5",
   "metadata": {},
   "outputs": [],
   "source": [
    "perms_lines = []\n",
    "for simm in simm_SE9:\n",
    "    perms_lines.append(Permutation(apply_proj_to_lines(simm, list(SE9.cl_lines.values()))).to_cycles())"
   ]
  },
  {
   "cell_type": "code",
   "execution_count": 32,
   "id": "d7a299be-4c60-4dc4-bc0d-cbcfc9085761",
   "metadata": {},
   "outputs": [],
   "source": [
    "Gr = PermutationGroup(perms_lines)"
   ]
  },
  {
   "cell_type": "code",
   "execution_count": 33,
   "id": "f797ead4-7c04-4681-9d33-16bdf620511c",
   "metadata": {},
   "outputs": [
    {
     "data": {
      "text/plain": [
       "54"
      ]
     },
     "execution_count": 33,
     "metadata": {},
     "output_type": "execute_result"
    }
   ],
   "source": [
    "Gr.order()"
   ]
  },
  {
   "cell_type": "code",
   "execution_count": 34,
   "id": "185aa991-4f7f-4c45-9584-cc748d7d0c8f",
   "metadata": {},
   "outputs": [
    {
     "data": {
      "text/plain": [
       "'((C3 x C3) : C3) : C2'"
      ]
     },
     "execution_count": 34,
     "metadata": {},
     "output_type": "execute_result"
    }
   ],
   "source": [
    "Gr.structure_description()"
   ]
  },
  {
   "cell_type": "code",
   "execution_count": 35,
   "id": "4cb1fbb4-4b80-4b69-a51a-eabac7449555",
   "metadata": {},
   "outputs": [
    {
     "data": {
      "text/plain": [
       "[(2,19)(3,22)(4,7)(5,25)(6,26)(8,13)(9,14)(11,16)(12,17)(18,27)(20,24)(21,23),\n",
       " (1,9,14)(2,19,10)(3,13,4)(5,21,17)(6,20,16)(7,8,22)(11,24,26)(12,23,25)(15,18,27),\n",
       " (1,21,3)(2,7,13)(4,27,20)(5,26,19)(6,24,9)(8,12,14)(10,16,23)(11,15,22)(17,25,18)]"
      ]
     },
     "execution_count": 35,
     "metadata": {},
     "output_type": "execute_result"
    }
   ],
   "source": [
    "Gr.minimal_generating_set()"
   ]
  },
  {
   "cell_type": "code",
   "execution_count": 36,
   "id": "fe31845c-e5f5-443a-9c45-7cfe79e93dbe",
   "metadata": {},
   "outputs": [
    {
     "data": {
      "text/plain": [
       "[54, 27, 9, 9, 9, 9, 3, 1]"
      ]
     },
     "execution_count": 36,
     "metadata": {},
     "output_type": "execute_result"
    }
   ],
   "source": [
    "nor_sub = Gr.normal_subgroups()\n",
    "[el.order() for el in nor_sub]"
   ]
  },
  {
   "cell_type": "code",
   "execution_count": 37,
   "id": "a6673037-3dea-484a-af04-7f189ab20eb3",
   "metadata": {},
   "outputs": [
    {
     "data": {
      "text/plain": [
       "[27, 9, 9, 9, 9, 3, 1]"
      ]
     },
     "execution_count": 37,
     "metadata": {},
     "output_type": "execute_result"
    }
   ],
   "source": [
    "nor_sub_sub = nor_sub[1].normal_subgroups()\n",
    "[el.order() for el in nor_sub_sub]"
   ]
  },
  {
   "cell_type": "code",
   "execution_count": null,
   "id": "dfba4e78-19ac-4dfa-bdf6-d1e139c29ef0",
   "metadata": {},
   "outputs": [],
   "source": []
  },
  {
   "cell_type": "code",
   "execution_count": null,
   "id": "cb9338e6-86b2-49e6-ab05-80a9a794e065",
   "metadata": {},
   "outputs": [],
   "source": []
  },
  {
   "cell_type": "code",
   "execution_count": 38,
   "id": "f4954fff-8662-40e3-922f-e9061b3faba3",
   "metadata": {},
   "outputs": [],
   "source": [
    "lines_three_eck = []\n",
    "for i in range(7):\n",
    "    for j in range(i+1, 8):\n",
    "        for k in range(j+1, 9):\n",
    "            point1 = SE9.eckardt_points[i]\n",
    "            point2 = SE9.eckardt_points[j]\n",
    "            point3 = SE9.eckardt_points[k]   \n",
    "            line12_pl = Point(matrix([point1, point2]).minors(2))\n",
    "            line23_pl = Point(matrix([point2, point3]).minors(2))\n",
    "            if line12_pl == line23_pl and line12_pl not in [line.plucker for line in lines_three_eck]:\n",
    "                planes = get_planes(line12_pl)\n",
    "                lines_three_eck.append(Line(planes,[point1, point2], line12_pl))"
   ]
  },
  {
   "cell_type": "code",
   "execution_count": 39,
   "id": "534b3c7c-9cf8-4bbd-924b-11a79daef317",
   "metadata": {},
   "outputs": [
    {
     "data": {
      "text/plain": [
       "[[True, True, True, True, True, True, True, True, True, True, True, True],\n",
       " [True, True, True, True, True, True, True, True, True, True, True, True],\n",
       " [True, True, True, True, True, True, True, True, True, True, True, True],\n",
       " [True, True, True, True, True, True, True, True, True, True, True, True],\n",
       " [True, True, True, True, True, True, True, True, True, True, True, True],\n",
       " [True, True, True, True, True, True, True, True, True, True, True, True],\n",
       " [True, True, True, True, True, True, True, True, True, True, True, True],\n",
       " [True, True, True, True, True, True, True, True, True, True, True, True],\n",
       " [True, True, True, True, True, True, True, True, True, True, True, True],\n",
       " [True, True, True, True, True, True, True, True, True, True, True, True],\n",
       " [True, True, True, True, True, True, True, True, True, True, True, True],\n",
       " [True, True, True, True, True, True, True, True, True, True, True, True]]"
      ]
     },
     "execution_count": 39,
     "metadata": {},
     "output_type": "execute_result"
    }
   ],
   "source": [
    "[[line1.are_incident(line2) for line2 in lines_three_eck] for line1 in lines_three_eck]"
   ]
  },
  {
   "cell_type": "code",
   "execution_count": 40,
   "id": "f890e1c9-a930-4fed-8ae5-5babda0f58ec",
   "metadata": {},
   "outputs": [
    {
     "data": {
      "text/plain": [
       "x + (-1/4*alpha - 1/4)*y + (1/4*alpha + 1/4)*z"
      ]
     },
     "execution_count": 40,
     "metadata": {},
     "output_type": "execute_result"
    }
   ],
   "source": [
    "get_plane_containing_two_incident_lines(lines_three_eck[0], lines_three_eck[1])"
   ]
  },
  {
   "cell_type": "code",
   "execution_count": null,
   "id": "795d1e30-5698-47c5-adb7-287b724853cc",
   "metadata": {},
   "outputs": [],
   "source": []
  }
 ],
 "metadata": {
  "kernelspec": {
   "display_name": "SageMath 9.3",
   "language": "sage",
   "name": "sagemath"
  },
  "language_info": {
   "codemirror_mode": {
    "name": "ipython",
    "version": 3
   },
   "file_extension": ".py",
   "mimetype": "text/x-python",
   "name": "python",
   "nbconvert_exporter": "python",
   "pygments_lexer": "ipython3",
   "version": "3.7.10"
  }
 },
 "nbformat": 4,
 "nbformat_minor": 5
}
