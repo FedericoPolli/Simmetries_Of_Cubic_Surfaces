{
 "cells": [
  {
   "cell_type": "code",
   "execution_count": 1,
   "id": "f50d9932",
   "metadata": {},
   "outputs": [],
   "source": [
    "load('Imports/Utility.sage', 'Imports/Point.sage', 'Imports/Line.sage', 'Imports/TritangentPlane.sage', 'Imports/Group.sage', 'Imports/Cubic.sage')\n",
    "import multiprocessing as mp\n",
    "import pickle"
   ]
  },
  {
   "cell_type": "code",
   "execution_count": 8,
   "id": "1425cd61-e478-4bb3-b4aa-ef3ff5dc6324",
   "metadata": {},
   "outputs": [],
   "source": [
    "xx = QQ['xx'].0\n",
    "Q.<i_rad3> = NumberField(xx^2+3)"
   ]
  },
  {
   "cell_type": "code",
   "execution_count": 9,
   "id": "8d3ce3bb-21ff-4f2d-9f29-4e153808e026",
   "metadata": {},
   "outputs": [],
   "source": [
    "# Define cubic SE9, find and classify the lines and compute the 45 tritangent planes"
   ]
  },
  {
   "cell_type": "code",
   "execution_count": 10,
   "id": "5414dfc9-b788-42e0-99e5-f351fc682a0b",
   "metadata": {},
   "outputs": [],
   "source": [
    "Poly_Ring.<x,y,z,t,b,c,d,e,f,l,m> = PolynomialRing(Q)\n",
    "cubic_new = e*f*(2*x^2*y-2*x*y^2+x*z^2-x*z*t-y*t^2+y*z*t)+b*c*(x-t)*(x*z+y*t)+c*c*(z+t)*(y*t-x*z)+d*c*(y-z)*(x*z+y*t)+(e+f)*c*(x-y)*(y*t-x*z)\n",
    "sing_cubics = (-1) * (-c + f) * (-c + e) * c * (c + f) * (c + e) * (-e + f)^2 * (-c*d + c*f + e*f) * (-c*d + c*e + e*f) * (-c^2 - c*d + e*f) * (b*c - c*f + e*f) * (b*c - c*e + e*f) * (b*c - c*d + 2*e*f) * (b*c - c^2 + e*f) * (b*c^2 + c^2*d + b*c*f - 2*c^2*f - c*d*f + 2*e*f^2) * (b*c^2 + c^2*d + b*c*e - 2*c^2*e - c*d*e + 2*e^2*f) * (-b*c^3 - 2*b*c^2*d + c^3*d + b*c^2*e + c^2*d*e + b*c^2*f + c^2*d*f + 3*b*c*e*f - 4*c^2*e*f - 3*c*d*e*f + 4*e^2*f^2)"
   ]
  },
  {
   "cell_type": "code",
   "execution_count": 5,
   "id": "188ea15e-ba9f-43d6-af81-914d344b3bf4",
   "metadata": {},
   "outputs": [
    {
     "ename": "NameError",
     "evalue": "name 'i_rad3' is not defined",
     "output_type": "error",
     "traceback": [
      "\u001b[0;31m---------------------------------------------------------------------------\u001b[0m",
      "\u001b[0;31mNameError\u001b[0m                                 Traceback (most recent call last)",
      "\u001b[0;32m<timed exec>\u001b[0m in \u001b[0;36m<module>\u001b[0;34m\u001b[0m\n",
      "\u001b[0;31mNameError\u001b[0m: name 'i_rad3' is not defined"
     ]
    }
   ],
   "source": [
    "line = Line([y, z])\n",
    "general_cubic = Cubic(cubic_new, line, sing_cubics)\n",
    "%time SE9 = general_cubic.subs({b:-(c*c+e*f)/c, d:(3*e*f - c^2 + c*f + c*e)/(2*c)}).subs({e : i_rad3*c})"
   ]
  },
  {
   "cell_type": "code",
   "execution_count": 6,
   "id": "38938e7a-f0af-4e33-91f8-a4dcb3ce9d73",
   "metadata": {},
   "outputs": [],
   "source": [
    "# Find simmetries"
   ]
  },
  {
   "cell_type": "code",
   "execution_count": 7,
   "id": "b4db1869-5115-4967-8f38-ffd20e8662fe",
   "metadata": {},
   "outputs": [
    {
     "ename": "NameError",
     "evalue": "name 'SE9' is not defined",
     "output_type": "error",
     "traceback": [
      "\u001b[0;31m---------------------------------------------------------------------------\u001b[0m",
      "\u001b[0;31mNameError\u001b[0m                                 Traceback (most recent call last)",
      "\u001b[0;32m<timed exec>\u001b[0m in \u001b[0;36m<module>\u001b[0;34m\u001b[0m\n",
      "\u001b[0;31mNameError\u001b[0m: name 'SE9' is not defined"
     ]
    },
    {
     "ename": "NameError",
     "evalue": "name 'adm_SE9' is not defined",
     "output_type": "error",
     "traceback": [
      "\u001b[0;31m---------------------------------------------------------------------------\u001b[0m",
      "\u001b[0;31mNameError\u001b[0m                                 Traceback (most recent call last)",
      "\u001b[0;32m<ipython-input-7-c9d6cac02439>\u001b[0m in \u001b[0;36m<module>\u001b[0;34m\u001b[0m\n\u001b[1;32m      1\u001b[0m \u001b[0mget_ipython\u001b[0m\u001b[0;34m(\u001b[0m\u001b[0;34m)\u001b[0m\u001b[0;34m.\u001b[0m\u001b[0mrun_line_magic\u001b[0m\u001b[0;34m(\u001b[0m\u001b[0;34m'time'\u001b[0m\u001b[0;34m,\u001b[0m \u001b[0;34m'adm_SE9 = SE9.find_admissible_projectivities()'\u001b[0m\u001b[0;34m)\u001b[0m\u001b[0;34m\u001b[0m\u001b[0;34m\u001b[0m\u001b[0m\n\u001b[0;32m----> 2\u001b[0;31m \u001b[0mlen\u001b[0m\u001b[0;34m(\u001b[0m\u001b[0madm_SE9\u001b[0m\u001b[0;34m)\u001b[0m\u001b[0;34m\u001b[0m\u001b[0;34m\u001b[0m\u001b[0m\n\u001b[0m",
      "\u001b[0;31mNameError\u001b[0m: name 'adm_SE9' is not defined"
     ]
    }
   ],
   "source": [
    "%time adm_SE9 = SE9.find_admissible_projectivities()\n",
    "len(adm_SE9)"
   ]
  },
  {
   "cell_type": "code",
   "execution_count": null,
   "id": "0f9f0564-de9f-4df7-becf-2aeb86ec53d9",
   "metadata": {},
   "outputs": [],
   "source": [
    "%time simm_SE9 = SE9.find_simmetries(adm_SE9)\n",
    "len(simm_SE9)"
   ]
  },
  {
   "cell_type": "code",
   "execution_count": null,
   "id": "c6646df7-2fa0-47fb-917c-983193603a89",
   "metadata": {},
   "outputs": [],
   "source": [
    "# Study how the simmetries permute the Eckardt points"
   ]
  },
  {
   "cell_type": "code",
   "execution_count": null,
   "id": "b8a24ace-332f-40ba-9654-ad18d5504cc7",
   "metadata": {},
   "outputs": [],
   "source": [
    "Eck_points_perms = []\n",
    "for proj in simm_SE9:\n",
    "    Eck_points_perms.append(Permutation(SE9.apply_proj_to_eck(proj)).to_permutation_group_element())\n",
    "Eck_points_perms_group = PermutationGroup(Eck_points_perms)\n",
    "Eck_points_perms_group.order(), Eck_points_perms_group.structure_description()"
   ]
  },
  {
   "cell_type": "code",
   "execution_count": null,
   "id": "f08438a3-19d7-4444-8d7e-ef848d67d7ea",
   "metadata": {},
   "outputs": [],
   "source": [
    "# Study how the simmetries permute the 27 lines"
   ]
  },
  {
   "cell_type": "code",
   "execution_count": null,
   "id": "817f6d5e-6f75-46fe-ad32-0d9d812a05c3",
   "metadata": {},
   "outputs": [],
   "source": [
    "lines_perms = []\n",
    "for simm in simm_SE9:\n",
    "    lines_perms.append(Permutation(SE9.apply_proj_to_lines(simm)).to_permutation_group_element())\n",
    "lines_perms_group = PermutationGroup(lines_perms)\n",
    "lines_perms_group.order(), lines_perms_group.structure_description()"
   ]
  },
  {
   "cell_type": "code",
   "execution_count": null,
   "id": "a06e906e-69e9-457c-a138-49fafcb6a116",
   "metadata": {},
   "outputs": [],
   "source": [
    "all_subgroups = lines_perms_group.subgroups()"
   ]
  },
  {
   "cell_type": "code",
   "execution_count": null,
   "id": "ffc26059-4268-44a9-813e-cd1bf35c1e4f",
   "metadata": {},
   "outputs": [],
   "source": [
    "# H is the subgroup of elements of order 3\n",
    "H = [el for el in lines_perms_group.normal_subgroups() if el.order()==27][0]\n",
    "list(set([el.order() for el in H if el.cycle_tuples() != []])) == [3]"
   ]
  },
  {
   "cell_type": "code",
   "execution_count": null,
   "id": "b2b1047c-b070-4f2b-9b51-296e9062dfbb",
   "metadata": {},
   "outputs": [],
   "source": [
    "# The center is C3\n",
    "Z_H = H.center()\n",
    "M = Z_H.gens_small()[0]\n",
    "Z_H.structure_description()"
   ]
  },
  {
   "cell_type": "code",
   "execution_count": null,
   "id": "53d7d5da-7812-4cf9-9bb0-a1f5e6581a30",
   "metadata": {},
   "outputs": [],
   "source": [
    "H_over_Z_H = [el for el in all_subgroups if el.is_isomorphic(H.quotient(Z_H))][0]\n",
    "[N, P] = H_over_Z_H.gens_small()\n",
    "H_over_Z_H.structure_description()"
   ]
  },
  {
   "cell_type": "code",
   "execution_count": null,
   "id": "ace786fa-131d-4e02-a515-d56ba31e9f83",
   "metadata": {},
   "outputs": [],
   "source": [
    "H.quotient(PermutationGroup([M, N])).is_isomorphic(PermutationGroup([P]))"
   ]
  },
  {
   "cell_type": "code",
   "execution_count": null,
   "id": "ce989fd0-7843-4df5-9e85-179533f824c4",
   "metadata": {},
   "outputs": [],
   "source": [
    "C2 = [el for el in all_subgroups if el.is_isomorphic(lines_perms_group.quotient(H))][0]\n",
    "A = C2.gens_small()[0]"
   ]
  },
  {
   "cell_type": "code",
   "execution_count": null,
   "id": "42bc9f6e-61f6-4b9f-859c-7e13bb9f0797",
   "metadata": {},
   "outputs": [],
   "source": [
    "gens = [M, N, P, A]\n",
    "gens_indices = [lines_perms.index(gen) for gen in gens]\n",
    "matrix_gens = [simm_SE9[index] for index in gens_indices]"
   ]
  },
  {
   "cell_type": "code",
   "execution_count": null,
   "id": "85ef30c0-77bc-4f24-a3b9-735eefeeccad",
   "metadata": {},
   "outputs": [],
   "source": [
    "# There are twelve lines through 3 Eckardt points, and they are all coplanar"
   ]
  },
  {
   "cell_type": "code",
   "execution_count": null,
   "id": "21b9d219",
   "metadata": {},
   "outputs": [],
   "source": [
    "lines_three_eck = []\n",
    "lines_labels = []\n",
    "for i in range(7):\n",
    "    for j in range(i+1, 8):\n",
    "        for k in range(j+1, 9):\n",
    "            point1 = SE9.eckardt_points[i]\n",
    "            point2 = SE9.eckardt_points[j]\n",
    "            point3 = SE9.eckardt_points[k]   \n",
    "            line12_pl = Point(matrix([point1, point2]).minors(2))\n",
    "            line23_pl = Point(matrix([point2, point3]).minors(2))\n",
    "            if line12_pl == line23_pl and line12_pl not in [line.plucker for line in lines_three_eck]:\n",
    "                lines_labels.append([i+1,j+1,k+1])\n",
    "                planes = get_two_planes_containing_line(point1, point2)\n",
    "                lines_three_eck.append(Line(planes, [point1, point2], line12_pl))\n",
    "print(lines_labels)"
   ]
  },
  {
   "cell_type": "code",
   "execution_count": null,
   "id": "057aab7c",
   "metadata": {},
   "outputs": [],
   "source": [
    "bool([[line1.are_incident(line2) for line2 in lines_three_eck] for line1 in lines_three_eck])"
   ]
  },
  {
   "cell_type": "code",
   "execution_count": null,
   "id": "a3f0ee56",
   "metadata": {},
   "outputs": [],
   "source": [
    "lines_three_eck[0].get_plane_containing_another_incident_line(lines_three_eck[1])"
   ]
  },
  {
   "cell_type": "code",
   "execution_count": null,
   "id": "5bfb2ca9-18ec-4002-b79b-b73f7d4d9465",
   "metadata": {},
   "outputs": [],
   "source": [
    "# To do, study how the 12 lines are permuted"
   ]
  },
  {
   "cell_type": "code",
   "execution_count": null,
   "id": "e427b2aa-da33-43d8-a46b-d7cc3da2b73a",
   "metadata": {},
   "outputs": [],
   "source": [
    "for gen in matrix_gens:\n",
    "    print([lines_three_eck.index(line.apply_proj(gen)) for line in lines_three_eck])"
   ]
  },
  {
   "cell_type": "code",
   "execution_count": null,
   "id": "318aaaa4-a767-4b10-8c0f-aec377877720",
   "metadata": {},
   "outputs": [],
   "source": [
    "[Eck_points_perms[gen_index] for gen_index in gens_indices]"
   ]
  },
  {
   "cell_type": "code",
   "execution_count": null,
   "id": "30c73523-712a-42fb-9292-e0d8873902ff",
   "metadata": {},
   "outputs": [],
   "source": [
    "[Eck_points_perms[lines_perms.index(el)] for el in H_over_Z_H]"
   ]
  },
  {
   "cell_type": "code",
   "execution_count": null,
   "id": "122dd086-173c-409e-a839-37349206a52a",
   "metadata": {},
   "outputs": [],
   "source": [
    "keys = list(SE9.cl_lines.keys())\n",
    "print(SE9.eckardt_points_labels)\n",
    "print()\n",
    "for gen in gens:\n",
    "    labels = from_perm_to_labels(gen)\n",
    "    print([[keys[labels.index(label)] for label in Eck_label] for Eck_label in SE9.eckardt_points_labels])\n",
    "    print()"
   ]
  },
  {
   "cell_type": "code",
   "execution_count": null,
   "id": "3df07b9d-7a4d-4eeb-bbb0-3294a662ec24",
   "metadata": {},
   "outputs": [],
   "source": []
  }
 ],
 "metadata": {
  "kernelspec": {
   "display_name": "SageMath 9.4",
   "language": "sage",
   "name": "sagemath"
  },
  "language_info": {
   "codemirror_mode": {
    "name": "ipython",
    "version": 3
   },
   "file_extension": ".py",
   "mimetype": "text/x-python",
   "name": "python",
   "nbconvert_exporter": "python",
   "pygments_lexer": "ipython3",
   "version": "3.7.12"
  }
 },
 "nbformat": 4,
 "nbformat_minor": 5
}
