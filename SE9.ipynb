{
 "cells": [
  {
   "cell_type": "code",
   "execution_count": 1,
   "id": "f498846a-cb2d-4da5-9a41-6155889570d8",
   "metadata": {},
   "outputs": [],
   "source": [
    "load('Imports/Utility.sage', 'Imports/Point.sage', 'Imports/Line.sage', 'Imports/TritangentPlane.sage', 'Imports/Group.sage', 'Imports/Cubic.sage')\n",
    "import multiprocessing as mp\n",
    "import pickle"
   ]
  },
  {
   "cell_type": "code",
   "execution_count": 2,
   "id": "d62c83d5",
   "metadata": {},
   "outputs": [],
   "source": [
    "xx = QQ['xx'].0"
   ]
  },
  {
   "cell_type": "code",
   "execution_count": 3,
   "id": "fc1fc08d",
   "metadata": {},
   "outputs": [],
   "source": [
    "Q.<alpha> = NumberField(xx^2+3)"
   ]
  },
  {
   "cell_type": "code",
   "execution_count": 4,
   "id": "9975092c",
   "metadata": {},
   "outputs": [],
   "source": [
    "P.<x,y,z,t,b,c,d,e,f,l,m> = PolynomialRing(Q)"
   ]
  },
  {
   "cell_type": "code",
   "execution_count": 5,
   "id": "e552b1d2",
   "metadata": {},
   "outputs": [],
   "source": [
    "cubic_new = e*f*(2*x^2*y-2*x*y^2+x*z^2-x*z*t-y*t^2+y*z*t)+b*c*(x-t)*(x*z+y*t)+c*c*(z+t)*(y*t-x*z)+d*c*(y-z)*(x*z+y*t)+(e+f)*c*(x-y)*(y*t-x*z)"
   ]
  },
  {
   "cell_type": "code",
   "execution_count": 6,
   "id": "eb448b59-eb18-4b69-870b-7707b13ba9d9",
   "metadata": {},
   "outputs": [],
   "source": [
    "sing_cubics = (-1) * (-c + f) * (-c + e) * c * (c + f) * (c + e) * (-e + f)^2 * (-c*d + c*f + e*f) * (-c*d + c*e + e*f) * (-c^2 - c*d + e*f) * (b*c - c*f + e*f) * (b*c - c*e + e*f) * (b*c - c*d + 2*e*f) * (b*c - c^2 + e*f) * (b*c^2 + c^2*d + b*c*f - 2*c^2*f - c*d*f + 2*e*f^2) * (b*c^2 + c^2*d + b*c*e - 2*c^2*e - c*d*e + 2*e^2*f) * (-b*c^3 - 2*b*c^2*d + c^3*d + b*c^2*e + c^2*d*e + b*c^2*f + c^2*d*f + 3*b*c*e*f - 4*c^2*e*f - 3*c*d*e*f + 4*e^2*f^2)"
   ]
  },
  {
   "cell_type": "code",
   "execution_count": 7,
   "id": "1ddcc9c2",
   "metadata": {},
   "outputs": [],
   "source": [
    "line = Line([y, z])"
   ]
  },
  {
   "cell_type": "code",
   "execution_count": 8,
   "id": "3836c739-8d69-4a8a-a53e-ff15af0d3acb",
   "metadata": {},
   "outputs": [],
   "source": [
    "general_cubic = Cubic(cubic_new, line, sing_cubics)"
   ]
  },
  {
   "cell_type": "code",
   "execution_count": 9,
   "id": "732c9ee9-aa6c-4c07-a1ab-6bda7ce9b954",
   "metadata": {},
   "outputs": [
    {
     "name": "stdout",
     "output_type": "stream",
     "text": [
      "CPU times: user 5.12 s, sys: 41.9 ms, total: 5.16 s\n",
      "Wall time: 5.17 s\n"
     ]
    }
   ],
   "source": [
    "%time SE9 = general_cubic.subs({b:-(c*c+e*f)/c, d:(3*e*f - c^2 + c*f + c*e)/(2*c)}).subs({e : alpha*c})"
   ]
  },
  {
   "cell_type": "code",
   "execution_count": 10,
   "id": "2299473e-4191-459a-8406-2eadd75e2c2a",
   "metadata": {},
   "outputs": [
    {
     "name": "stdout",
     "output_type": "stream",
     "text": [
      "CPU times: user 3.97 s, sys: 294 ms, total: 4.26 s\n",
      "Wall time: 53.7 s\n"
     ]
    }
   ],
   "source": [
    "%time adm_SE9 = SE9.find_admissible_projectivities()"
   ]
  },
  {
   "cell_type": "code",
   "execution_count": 11,
   "id": "468e1aaf-0bbd-4a9d-ba52-8340bd9ecaba",
   "metadata": {},
   "outputs": [
    {
     "data": {
      "text/plain": [
       "1296"
      ]
     },
     "execution_count": 11,
     "metadata": {},
     "output_type": "execute_result"
    }
   ],
   "source": [
    "len(adm_SE9)"
   ]
  },
  {
   "cell_type": "code",
   "execution_count": 12,
   "id": "8505d503-e796-4b6a-9e06-5e7c3a444e48",
   "metadata": {},
   "outputs": [
    {
     "name": "stdout",
     "output_type": "stream",
     "text": [
      "CPU times: user 2.34 s, sys: 132 ms, total: 2.48 s\n",
      "Wall time: 9.6 s\n"
     ]
    }
   ],
   "source": [
    "%time simm_SE9 = SE9.find_simmetries(adm_SE9)"
   ]
  },
  {
   "cell_type": "code",
   "execution_count": 13,
   "id": "1e878449-ad1e-4f7e-9013-d728660aea68",
   "metadata": {},
   "outputs": [
    {
     "data": {
      "text/plain": [
       "54"
      ]
     },
     "execution_count": 13,
     "metadata": {},
     "output_type": "execute_result"
    }
   ],
   "source": [
    "len(simm_SE9)"
   ]
  },
  {
   "cell_type": "code",
   "execution_count": 16,
   "id": "859eb460-a617-426d-9f8a-b125621e26ca",
   "metadata": {},
   "outputs": [],
   "source": [
    "perms = []\n",
    "for el in simm_SE9:\n",
    "    perms.append(Permutation(SE9.apply_proj_to_eck(el)).to_cycles())"
   ]
  },
  {
   "cell_type": "code",
   "execution_count": 17,
   "id": "0cc42b7a-6032-4f69-872a-82f677a094d4",
   "metadata": {},
   "outputs": [
    {
     "data": {
      "text/plain": [
       "18"
      ]
     },
     "execution_count": 17,
     "metadata": {},
     "output_type": "execute_result"
    }
   ],
   "source": [
    "PermutationGroup(perms).order()"
   ]
  },
  {
   "cell_type": "code",
   "execution_count": 18,
   "id": "14153171-aa61-43cb-8ef0-11491265348e",
   "metadata": {},
   "outputs": [
    {
     "data": {
      "text/plain": [
       "'(C3 x C3) : C2'"
      ]
     },
     "execution_count": 18,
     "metadata": {},
     "output_type": "execute_result"
    }
   ],
   "source": [
    "PermutationGroup(perms).structure_description()"
   ]
  },
  {
   "cell_type": "code",
   "execution_count": 19,
   "id": "8d8a7567-73c2-46a4-8aaf-d6e055fce591",
   "metadata": {},
   "outputs": [],
   "source": [
    "#lines"
   ]
  },
  {
   "cell_type": "code",
   "execution_count": 20,
   "id": "34f0053e-206a-4f14-8402-69773f4d0df1",
   "metadata": {},
   "outputs": [],
   "source": [
    "keys = list(SE9.cl_lines.keys())"
   ]
  },
  {
   "cell_type": "code",
   "execution_count": 22,
   "id": "e663c042-86db-4d7c-bc8d-65d13e97b1d5",
   "metadata": {},
   "outputs": [],
   "source": [
    "perms_lines = []\n",
    "for simm in simm_SE9:\n",
    "    perms_lines.append(Permutation(SE9.apply_proj_to_lines(simm)).to_cycles())"
   ]
  },
  {
   "cell_type": "code",
   "execution_count": 23,
   "id": "d7a299be-4c60-4dc4-bc0d-cbcfc9085761",
   "metadata": {},
   "outputs": [],
   "source": [
    "Gr = PermutationGroup(perms_lines)"
   ]
  },
  {
   "cell_type": "code",
   "execution_count": 24,
   "id": "f797ead4-7c04-4681-9d33-16bdf620511c",
   "metadata": {},
   "outputs": [
    {
     "data": {
      "text/plain": [
       "54"
      ]
     },
     "execution_count": 24,
     "metadata": {},
     "output_type": "execute_result"
    }
   ],
   "source": [
    "Gr.order()"
   ]
  },
  {
   "cell_type": "code",
   "execution_count": 25,
   "id": "185aa991-4f7f-4c45-9584-cc748d7d0c8f",
   "metadata": {},
   "outputs": [
    {
     "data": {
      "text/plain": [
       "'((C3 x C3) : C3) : C2'"
      ]
     },
     "execution_count": 25,
     "metadata": {},
     "output_type": "execute_result"
    }
   ],
   "source": [
    "Gr.structure_description()"
   ]
  },
  {
   "cell_type": "code",
   "execution_count": 26,
   "id": "f4954fff-8662-40e3-922f-e9061b3faba3",
   "metadata": {},
   "outputs": [
    {
     "name": "stdout",
     "output_type": "stream",
     "text": [
      "['E1', 'G4', 'F14'] ['E2', 'G3', 'F23'] ['F13', 'F24', 'F56']\n",
      "['E1', 'G4', 'F14'] ['E3', 'G5', 'F35'] ['F15', 'F26', 'F34']\n",
      "['E1', 'G4', 'F14'] ['E4', 'G6', 'F46'] ['E6', 'G1', 'F16']\n",
      "['E1', 'G4', 'F14'] ['E5', 'G2', 'F25'] ['F12', 'F36', 'F45']\n",
      "['E2', 'G3', 'F23'] ['E3', 'G5', 'F35'] ['E5', 'G2', 'F25']\n",
      "['E2', 'G3', 'F23'] ['E4', 'G6', 'F46'] ['F15', 'F26', 'F34']\n",
      "['E2', 'G3', 'F23'] ['E6', 'G1', 'F16'] ['F12', 'F36', 'F45']\n",
      "['E3', 'G5', 'F35'] ['E4', 'G6', 'F46'] ['F12', 'F36', 'F45']\n",
      "['E3', 'G5', 'F35'] ['E6', 'G1', 'F16'] ['F13', 'F24', 'F56']\n",
      "['E4', 'G6', 'F46'] ['E5', 'G2', 'F25'] ['F13', 'F24', 'F56']\n",
      "['E5', 'G2', 'F25'] ['E6', 'G1', 'F16'] ['F15', 'F26', 'F34']\n",
      "['F12', 'F36', 'F45'] ['F13', 'F24', 'F56'] ['F15', 'F26', 'F34']\n"
     ]
    }
   ],
   "source": [
    "eck_labels = SE9.eckardt_points_labels\n",
    "lines_three_eck = []\n",
    "for i in range(7):\n",
    "    for j in range(i+1, 8):\n",
    "        for k in range(j+1, 9):\n",
    "            point1 = SE9.eckardt_points[i]\n",
    "            point2 = SE9.eckardt_points[j]\n",
    "            point3 = SE9.eckardt_points[k]   \n",
    "            if matrix([point1, point2, point3]).minors(3) == [0,0,0,0]:\n",
    "                print(eck_labels[i], eck_labels[j], eck_labels[k])\n",
    "            line12_pl = Point(matrix([point1, point2]).minors(2))\n",
    "            line23_pl = Point(matrix([point2, point3]).minors(2))\n",
    "            if line12_pl == line23_pl and line12_pl not in [line.plucker for line in lines_three_eck]:\n",
    "                planes = get_two_planes_containing_line(line12_pl)\n",
    "                lines_three_eck.append(Line(planes,[point1, point2], line12_pl))"
   ]
  },
  {
   "cell_type": "code",
   "execution_count": 27,
   "id": "534b3c7c-9cf8-4bbd-924b-11a79daef317",
   "metadata": {},
   "outputs": [
    {
     "data": {
      "text/plain": [
       "[[True, True, True, True, True, True, True, True, True, True, True, True],\n",
       " [True, True, True, True, True, True, True, True, True, True, True, True],\n",
       " [True, True, True, True, True, True, True, True, True, True, True, True],\n",
       " [True, True, True, True, True, True, True, True, True, True, True, True],\n",
       " [True, True, True, True, True, True, True, True, True, True, True, True],\n",
       " [True, True, True, True, True, True, True, True, True, True, True, True],\n",
       " [True, True, True, True, True, True, True, True, True, True, True, True],\n",
       " [True, True, True, True, True, True, True, True, True, True, True, True],\n",
       " [True, True, True, True, True, True, True, True, True, True, True, True],\n",
       " [True, True, True, True, True, True, True, True, True, True, True, True],\n",
       " [True, True, True, True, True, True, True, True, True, True, True, True],\n",
       " [True, True, True, True, True, True, True, True, True, True, True, True]]"
      ]
     },
     "execution_count": 27,
     "metadata": {},
     "output_type": "execute_result"
    }
   ],
   "source": [
    "[[line1.are_incident(line2) for line2 in lines_three_eck] for line1 in lines_three_eck]"
   ]
  },
  {
   "cell_type": "code",
   "execution_count": 28,
   "id": "f890e1c9-a930-4fed-8ae5-5babda0f58ec",
   "metadata": {},
   "outputs": [
    {
     "data": {
      "text/plain": [
       "x + (-1/4*alpha - 1/4)*y + (1/4*alpha + 1/4)*z"
      ]
     },
     "execution_count": 28,
     "metadata": {},
     "output_type": "execute_result"
    }
   ],
   "source": [
    "lines_three_eck[0].get_plane_containing_another_incident_line(lines_three_eck[1])"
   ]
  },
  {
   "cell_type": "code",
   "execution_count": null,
   "id": "795d1e30-5698-47c5-adb7-287b724853cc",
   "metadata": {},
   "outputs": [],
   "source": []
  }
 ],
 "metadata": {
  "kernelspec": {
   "display_name": "SageMath 9.4",
   "language": "sage",
   "name": "sagemath"
  },
  "language_info": {
   "codemirror_mode": {
    "name": "ipython",
    "version": 3
   },
   "file_extension": ".py",
   "mimetype": "text/x-python",
   "name": "python",
   "nbconvert_exporter": "python",
   "pygments_lexer": "ipython3",
   "version": "3.7.12"
  }
 },
 "nbformat": 4,
 "nbformat_minor": 5
}
