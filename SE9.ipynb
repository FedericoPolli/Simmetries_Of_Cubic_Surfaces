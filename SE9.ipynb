{
 "cells": [
  {
   "cell_type": "code",
   "execution_count": 1,
   "id": "f50d9932",
   "metadata": {},
   "outputs": [],
   "source": [
    "load('Imports/Utility.sage', 'Imports/Point.sage', 'Imports/Line.sage', 'Imports/TritangentPlane.sage', 'Imports/Group.sage', 'Imports/Cubic.sage')\n",
    "import multiprocessing as mp\n",
    "import pickle"
   ]
  },
  {
   "cell_type": "code",
   "execution_count": 2,
   "id": "1425cd61-e478-4bb3-b4aa-ef3ff5dc6324",
   "metadata": {},
   "outputs": [],
   "source": [
    "xx = QQ['xx'].0\n",
    "Q.<i_rad3> = NumberField(xx^2+3)"
   ]
  },
  {
   "cell_type": "code",
   "execution_count": null,
   "id": "8d3ce3bb-21ff-4f2d-9f29-4e153808e026",
   "metadata": {},
   "outputs": [],
   "source": [
    "# Define cubic SE9, find and classify the lines and compute the 45 tritangent planes"
   ]
  },
  {
   "cell_type": "code",
   "execution_count": 3,
   "id": "5414dfc9-b788-42e0-99e5-f351fc682a0b",
   "metadata": {},
   "outputs": [],
   "source": [
    "P.<x,y,z,t,b,c,d,e,f,l,m> = PolynomialRing(Q)\n",
    "cubic_new = e*f*(2*x^2*y-2*x*y^2+x*z^2-x*z*t-y*t^2+y*z*t)+b*c*(x-t)*(x*z+y*t)+c*c*(z+t)*(y*t-x*z)+d*c*(y-z)*(x*z+y*t)+(e+f)*c*(x-y)*(y*t-x*z)\n",
    "sing_cubics = (-1) * (-c + f) * (-c + e) * c * (c + f) * (c + e) * (-e + f)^2 * (-c*d + c*f + e*f) * (-c*d + c*e + e*f) * (-c^2 - c*d + e*f) * (b*c - c*f + e*f) * (b*c - c*e + e*f) * (b*c - c*d + 2*e*f) * (b*c - c^2 + e*f) * (b*c^2 + c^2*d + b*c*f - 2*c^2*f - c*d*f + 2*e*f^2) * (b*c^2 + c^2*d + b*c*e - 2*c^2*e - c*d*e + 2*e^2*f) * (-b*c^3 - 2*b*c^2*d + c^3*d + b*c^2*e + c^2*d*e + b*c^2*f + c^2*d*f + 3*b*c*e*f - 4*c^2*e*f - 3*c*d*e*f + 4*e^2*f^2)"
   ]
  },
  {
   "cell_type": "code",
   "execution_count": 4,
   "id": "188ea15e-ba9f-43d6-af81-914d344b3bf4",
   "metadata": {},
   "outputs": [
    {
     "name": "stdout",
     "output_type": "stream",
     "text": [
      "CPU times: user 5.09 s, sys: 4.52 ms, total: 5.09 s\n",
      "Wall time: 5.1 s\n"
     ]
    }
   ],
   "source": [
    "line = Line([y, z])\n",
    "general_cubic = Cubic(cubic_new, line, sing_cubics)\n",
    "%time SE9 = general_cubic.subs({b:-(c*c+e*f)/c, d:(3*e*f - c^2 + c*f + c*e)/(2*c)}).subs({e : i_rad3*c})"
   ]
  },
  {
   "cell_type": "code",
   "execution_count": null,
   "id": "38938e7a-f0af-4e33-91f8-a4dcb3ce9d73",
   "metadata": {},
   "outputs": [],
   "source": [
    "# Find simmetries"
   ]
  },
  {
   "cell_type": "code",
   "execution_count": 5,
   "id": "b4db1869-5115-4967-8f38-ffd20e8662fe",
   "metadata": {},
   "outputs": [
    {
     "name": "stdout",
     "output_type": "stream",
     "text": [
      "CPU times: user 3.9 s, sys: 152 ms, total: 4.05 s\n",
      "Wall time: 51.7 s\n"
     ]
    },
    {
     "data": {
      "text/plain": [
       "1296"
      ]
     },
     "execution_count": 5,
     "metadata": {},
     "output_type": "execute_result"
    }
   ],
   "source": [
    "%time adm_SE9 = SE9.find_admissible_projectivities()\n",
    "len(adm_SE9)"
   ]
  },
  {
   "cell_type": "code",
   "execution_count": 6,
   "id": "0f9f0564-de9f-4df7-becf-2aeb86ec53d9",
   "metadata": {},
   "outputs": [
    {
     "name": "stdout",
     "output_type": "stream",
     "text": [
      "CPU times: user 2.16 s, sys: 179 ms, total: 2.34 s\n",
      "Wall time: 6.76 s\n"
     ]
    },
    {
     "data": {
      "text/plain": [
       "54"
      ]
     },
     "execution_count": 6,
     "metadata": {},
     "output_type": "execute_result"
    }
   ],
   "source": [
    "%time simm_SE9 = SE9.find_simmetries(adm_SE9)\n",
    "len(simm_SE9)"
   ]
  },
  {
   "cell_type": "code",
   "execution_count": null,
   "id": "c6646df7-2fa0-47fb-917c-983193603a89",
   "metadata": {},
   "outputs": [],
   "source": [
    "# Study how the simmetries permute the Eckardt points"
   ]
  },
  {
   "cell_type": "code",
   "execution_count": 7,
   "id": "b8a24ace-332f-40ba-9654-ad18d5504cc7",
   "metadata": {},
   "outputs": [
    {
     "data": {
      "text/plain": [
       "(18, '(C3 x C3) : C2')"
      ]
     },
     "execution_count": 7,
     "metadata": {},
     "output_type": "execute_result"
    }
   ],
   "source": [
    "Eck_points_perms = []\n",
    "for proj in simm_SE9:\n",
    "    Eck_points_perms.append(Permutation(SE9.apply_proj_to_eck(proj)).to_permutation_group_element())\n",
    "Eck_points_perms_group = PermutationGroup(Eck_points_perms)\n",
    "Eck_points_perms_group.order(), Eck_points_perms_group.structure_description()"
   ]
  },
  {
   "cell_type": "code",
   "execution_count": null,
   "id": "f08438a3-19d7-4444-8d7e-ef848d67d7ea",
   "metadata": {},
   "outputs": [],
   "source": [
    "# Study how the simmetries permute the 27 lines"
   ]
  },
  {
   "cell_type": "code",
   "execution_count": 8,
   "id": "817f6d5e-6f75-46fe-ad32-0d9d812a05c3",
   "metadata": {},
   "outputs": [
    {
     "data": {
      "text/plain": [
       "(54, '((C3 x C3) : C3) : C2')"
      ]
     },
     "execution_count": 8,
     "metadata": {},
     "output_type": "execute_result"
    }
   ],
   "source": [
    "lines_perms = []\n",
    "for simm in simm_SE9:\n",
    "    lines_perms.append(Permutation(SE9.apply_proj_to_lines(simm)).to_permutation_group_element())\n",
    "lines_perms_group = PermutationGroup(lines_perms)\n",
    "lines_perms_group.order(), lines_perms_group.structure_description()"
   ]
  },
  {
   "cell_type": "code",
   "execution_count": null,
   "id": "85ef30c0-77bc-4f24-a3b9-735eefeeccad",
   "metadata": {},
   "outputs": [],
   "source": [
    "# There are twelve lines through 3 Eckardt points, and they are all coplanar"
   ]
  },
  {
   "cell_type": "code",
   "execution_count": null,
   "id": "21b9d219",
   "metadata": {},
   "outputs": [],
   "source": [
    "lines_three_eck = []\n",
    "for i in range(7):\n",
    "    for j in range(i+1, 8):\n",
    "        for k in range(j+1, 9):\n",
    "            point1 = SE9.eckardt_points[i]\n",
    "            point2 = SE9.eckardt_points[j]\n",
    "            point3 = SE9.eckardt_points[k]   \n",
    "            #if matrix([point1, point2, point3]).minors(3) == [0,0,0,0]:\n",
    "                #print(SE9.eckardt_points_labels[i], SE9.eckardt_points_labels[j], SE9.eckardt_points_labels[k])\n",
    "            line12_pl = Point(matrix([point1, point2]).minors(2))\n",
    "            line23_pl = Point(matrix([point2, point3]).minors(2))\n",
    "            if line12_pl == line23_pl and line12_pl not in [line.plucker for line in lines_three_eck]:\n",
    "                planes = get_two_planes_containing_line(line12_pl)\n",
    "                lines_three_eck.append(Line(planes,[point1, point2], line12_pl))"
   ]
  },
  {
   "cell_type": "code",
   "execution_count": 12,
   "id": "057aab7c",
   "metadata": {},
   "outputs": [
    {
     "data": {
      "text/plain": [
       "True"
      ]
     },
     "execution_count": 12,
     "metadata": {},
     "output_type": "execute_result"
    }
   ],
   "source": [
    "bool([[line1.are_incident(line2) for line2 in lines_three_eck] for line1 in lines_three_eck])"
   ]
  },
  {
   "cell_type": "code",
   "execution_count": 11,
   "id": "a3f0ee56",
   "metadata": {},
   "outputs": [
    {
     "data": {
      "text/plain": [
       "x + (-1/4*alpha - 1/4)*y + (1/4*alpha + 1/4)*z"
      ]
     },
     "execution_count": 11,
     "metadata": {},
     "output_type": "execute_result"
    }
   ],
   "source": [
    "lines_three_eck[0].get_plane_containing_another_incident_line(lines_three_eck[1])"
   ]
  },
  {
   "cell_type": "code",
   "execution_count": null,
   "id": "5bfb2ca9-18ec-4002-b79b-b73f7d4d9465",
   "metadata": {},
   "outputs": [],
   "source": [
    "# To do, study how the 12 lines are permuted"
   ]
  },
  {
   "cell_type": "code",
   "execution_count": null,
   "id": "99c65d9b",
   "metadata": {},
   "outputs": [],
   "source": []
  }
 ],
 "metadata": {
  "kernelspec": {
   "display_name": "SageMath 9.4",
   "language": "sage",
   "name": "sagemath"
  },
  "language_info": {
   "codemirror_mode": {
    "name": "ipython",
    "version": 3
   },
   "file_extension": ".py",
   "mimetype": "text/x-python",
   "name": "python",
   "nbconvert_exporter": "python",
   "pygments_lexer": "ipython3",
   "version": "3.7.12"
  }
 },
 "nbformat": 4,
 "nbformat_minor": 5
}
