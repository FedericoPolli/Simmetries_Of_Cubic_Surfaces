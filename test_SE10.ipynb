{
 "cells": [
  {
   "cell_type": "code",
   "execution_count": 1,
   "id": "e5c8d24b-0a5d-4d8c-a90a-218289e00c59",
   "metadata": {},
   "outputs": [],
   "source": [
    "load('Imports/Utility.sage', 'Imports/Point.sage', 'Imports/Line.sage', 'Imports/Tritangent_plane.sage', 'Imports/Group.sage', 'Imports/Cubic.sage')\n",
    "import multiprocessing as mp\n",
    "import pickle"
   ]
  },
  {
   "cell_type": "code",
   "execution_count": 2,
   "id": "b393271b-076e-41b6-bf16-00f3b8501ea3",
   "metadata": {},
   "outputs": [],
   "source": [
    "xx = QQ['xx'].0"
   ]
  },
  {
   "cell_type": "code",
   "execution_count": 3,
   "id": "8853c244-4c0c-46b9-b4a9-3943f63db4f7",
   "metadata": {},
   "outputs": [],
   "source": [
    "Q.<alpha> = NumberField(xx^2-5)"
   ]
  },
  {
   "cell_type": "code",
   "execution_count": 4,
   "id": "38d16ef8-4df4-46dc-88f7-3aa5370a273b",
   "metadata": {},
   "outputs": [
    {
     "data": {
      "text/plain": [
       "Multivariate Polynomial Ring in x, y, z, t, b, c, d, e, f, l, m over Number Field in alpha with defining polynomial xx^2 - 5"
      ]
     },
     "execution_count": 4,
     "metadata": {},
     "output_type": "execute_result"
    }
   ],
   "source": [
    "P.<x,y,z,t,b,c,d,e,f,l,m> = PolynomialRing(Q)\n",
    "P"
   ]
  },
  {
   "cell_type": "code",
   "execution_count": 5,
   "id": "ae56d069-36c2-455f-af8e-74e082a5925e",
   "metadata": {},
   "outputs": [],
   "source": [
    "cubic_new = e*f*(2*x^2*y-2*x*y^2+x*z^2-x*z*t-y*t^2+y*z*t)+b*c*(x-t)*(x*z+y*t)+c*c*(z+t)*(y*t-x*z)+d*c*(y-z)*(x*z+y*t)+(e+f)*c*(x-y)*(y*t-x*z)"
   ]
  },
  {
   "cell_type": "code",
   "execution_count": 6,
   "id": "a709922a-34b8-4459-a7fb-d79c44887103",
   "metadata": {},
   "outputs": [],
   "source": [
    "sing_cubics = (-1) * (-c + f) * (-c + e) * c * (c + f) * (c + e) * (-e + f)^2 * (-c*d + c*f + e*f) * (-c*d + c*e + e*f) * (-c^2 - c*d + e*f) * (b*c - c*f + e*f) * (b*c - c*e + e*f) * (b*c - c*d + 2*e*f) * (b*c - c^2 + e*f) * (b*c^2 + c^2*d + b*c*f - 2*c^2*f - c*d*f + 2*e*f^2) * (b*c^2 + c^2*d + b*c*e - 2*c^2*e - c*d*e + 2*e^2*f) * (-b*c^3 - 2*b*c^2*d + c^3*d + b*c^2*e + c^2*d*e + b*c^2*f + c^2*d*f + 3*b*c*e*f - 4*c^2*e*f - 3*c*d*e*f + 4*e^2*f^2)"
   ]
  },
  {
   "cell_type": "code",
   "execution_count": 7,
   "id": "a0905493-9d8d-437f-8cd0-323d2e2712ba",
   "metadata": {},
   "outputs": [],
   "source": [
    "line = Line([y, z])"
   ]
  },
  {
   "cell_type": "code",
   "execution_count": 8,
   "id": "922368cf-c072-4ddb-b721-f35bdf4f8c84",
   "metadata": {},
   "outputs": [],
   "source": [
    "general_cubic = Cubic(cubic_new, line, sing_cubics)"
   ]
  },
  {
   "cell_type": "code",
   "execution_count": 9,
   "id": "769d04af-775d-4c46-bb55-6ad12b7cc700",
   "metadata": {},
   "outputs": [],
   "source": [
    "SE10 = general_cubic.subs({b:-(c*c+e*f)/c, d:(3*e*f - c^2 + c*f + c*e)/(2*c)}).subs({f:c*(3*c-e)/(c+e)}).subs({e : (2-alpha)*c})"
   ]
  },
  {
   "cell_type": "code",
   "execution_count": 10,
   "id": "7e7246f1-3f85-4985-bdff-8ddfe9221c3b",
   "metadata": {},
   "outputs": [
    {
     "data": {
      "text/plain": [
       "[['E1', 'F12', 'G2'],\n",
       " ['E1', 'F14', 'G4'],\n",
       " ['E2', 'F23', 'G3'],\n",
       " ['E2', 'F24', 'G4'],\n",
       " ['E3', 'F13', 'G1'],\n",
       " ['E3', 'F23', 'G2'],\n",
       " ['E4', 'F14', 'G1'],\n",
       " ['E4', 'F34', 'G3'],\n",
       " ['F12', 'F34', 'F56'],\n",
       " ['F13', 'F24', 'F56']]"
      ]
     },
     "execution_count": 10,
     "metadata": {},
     "output_type": "execute_result"
    }
   ],
   "source": [
    "labels = [sorted(pl.labels) for pl in SE10.tritangent_planes if pl.conditions == 0]\n",
    "keys = list(SE10.cl_lines.keys())\n",
    "labels"
   ]
  },
  {
   "cell_type": "code",
   "execution_count": 11,
   "id": "812772a7-f5d1-40a5-a84b-1135ab631a57",
   "metadata": {},
   "outputs": [],
   "source": [
    "adm_perm = SE10.find_admissible_permutations()"
   ]
  },
  {
   "cell_type": "code",
   "execution_count": 12,
   "id": "7d7b9040-8e57-4ed3-ad93-669931d9652b",
   "metadata": {},
   "outputs": [
    {
     "data": {
      "text/plain": [
       "240"
      ]
     },
     "execution_count": 12,
     "metadata": {},
     "output_type": "execute_result"
    }
   ],
   "source": [
    "len(adm_perm)"
   ]
  },
  {
   "cell_type": "code",
   "execution_count": 13,
   "id": "357b2a5d-7e1b-45c3-9e2c-2b31a8d9c1c6",
   "metadata": {},
   "outputs": [
    {
     "data": {
      "text/plain": [
       "0"
      ]
     },
     "execution_count": 13,
     "metadata": {},
     "output_type": "execute_result"
    }
   ],
   "source": [
    "adm_perm.index(['E1', 'E2', 'E3', 'E4', 'E6', 'E5', 'G1', 'G2', 'G3', 'G4', 'G6', 'G5', 'F12', 'F13', 'F14', 'F16', 'F15', 'F23', 'F24', 'F26', 'F25', 'F34', 'F36', 'F35', 'F46', 'F45', 'F56'])"
   ]
  },
  {
   "cell_type": "code",
   "execution_count": 24,
   "id": "f9d2f3ec-da72-4c85-8714-a5ea80bc8003",
   "metadata": {},
   "outputs": [
    {
     "data": {
      "text/plain": [
       "1"
      ]
     },
     "execution_count": 24,
     "metadata": {},
     "output_type": "execute_result"
    }
   ],
   "source": [
    "adm_perm.index(list(SE10.cl_lines.keys()))"
   ]
  },
  {
   "cell_type": "code",
   "execution_count": 14,
   "id": "bbb4532c-98a3-481a-846e-ad6d85ea0ff3",
   "metadata": {},
   "outputs": [],
   "source": [
    "resulting_L_sets = []\n",
    "conjugate_perm = []\n",
    "for perm in adm_perm:\n",
    "    perm_L_set = [perm[list(SE10.cl_lines.keys()).index(label)] for label in ['E1', 'G4', 'E2', 'G3', 'E3']]\n",
    "    if perm_L_set not in resulting_L_sets:\n",
    "        resulting_L_sets.append(perm_L_set)\n",
    "    else:\n",
    "        conjugate_perm.append(perm)"
   ]
  },
  {
   "cell_type": "code",
   "execution_count": 15,
   "id": "c9c51266-d53a-4c22-977a-415296371c3f",
   "metadata": {},
   "outputs": [
    {
     "data": {
      "text/plain": [
       "120"
      ]
     },
     "execution_count": 15,
     "metadata": {},
     "output_type": "execute_result"
    }
   ],
   "source": [
    "len(conjugate_perm)"
   ]
  },
  {
   "cell_type": "code",
   "execution_count": 16,
   "id": "8e20e925-4a37-4b53-8f63-a2afdbf3a004",
   "metadata": {},
   "outputs": [],
   "source": [
    "adm_proj = SE10.find_admissible_projectivities()"
   ]
  },
  {
   "cell_type": "code",
   "execution_count": 17,
   "id": "f500ea0c-9668-4efc-8f52-435d871706c2",
   "metadata": {},
   "outputs": [],
   "source": [
    "simm_SE10 = SE10.find_simmetries(adm_proj)"
   ]
  },
  {
   "cell_type": "code",
   "execution_count": 18,
   "id": "e4dafe99-867f-4c22-b908-e49f0a7e24b7",
   "metadata": {},
   "outputs": [
    {
     "data": {
      "text/plain": [
       "120"
      ]
     },
     "execution_count": 18,
     "metadata": {},
     "output_type": "execute_result"
    }
   ],
   "source": [
    "len(adm_proj)"
   ]
  },
  {
   "cell_type": "code",
   "execution_count": 19,
   "id": "801f0beb-a42e-4d64-9b99-2b2219e0f4aa",
   "metadata": {},
   "outputs": [
    {
     "name": "stdout",
     "output_type": "stream",
     "text": [
      "120\n"
     ]
    }
   ],
   "source": [
    "perms = []\n",
    "normal_perm = [perm for perm in adm_perm if perm not in conjugate_perm]\n",
    "print(len(normal_perm))\n",
    "for simm in simm_SE10:\n",
    "    perm = normal_perm[adm_proj.index(simm)]\n",
    "    perms.append(Permutation([perm.index(label)+1 for label in keys]).to_cycles())\n",
    "    #perm = conjugate_perm[adm_proj.index(simm)]\n",
    "    #perms.append(Permutation([perm.index(label)+1 for label in keys]).to_cycles())"
   ]
  },
  {
   "cell_type": "code",
   "execution_count": 20,
   "id": "060ae9cd-0a16-4d65-913e-517e7ae1552c",
   "metadata": {},
   "outputs": [
    {
     "data": {
      "text/plain": [
       "120"
      ]
     },
     "execution_count": 20,
     "metadata": {},
     "output_type": "execute_result"
    }
   ],
   "source": [
    "len(perms)"
   ]
  },
  {
   "cell_type": "code",
   "execution_count": 23,
   "id": "ab180756-10ef-4ce2-9ae3-5c251b8aba14",
   "metadata": {},
   "outputs": [
    {
     "data": {
      "text/plain": [
       "240"
      ]
     },
     "execution_count": 23,
     "metadata": {},
     "output_type": "execute_result"
    }
   ],
   "source": [
    "Gr = PermutationGroup(perms)\n",
    "Gr.order()"
   ]
  },
  {
   "cell_type": "code",
   "execution_count": 22,
   "id": "e0814314-e62b-4af3-822f-5c2d789e1340",
   "metadata": {},
   "outputs": [
    {
     "data": {
      "text/plain": [
       "'C2 x S5'"
      ]
     },
     "execution_count": 22,
     "metadata": {},
     "output_type": "execute_result"
    }
   ],
   "source": [
    "Gr.structure_description()"
   ]
  },
  {
   "cell_type": "code",
   "execution_count": null,
   "id": "049f2091-833d-4119-9bff-a511f81b0209",
   "metadata": {},
   "outputs": [],
   "source": []
  }
 ],
 "metadata": {
  "kernelspec": {
   "display_name": "SageMath 9.3",
   "language": "sage",
   "name": "sagemath"
  },
  "language_info": {
   "codemirror_mode": {
    "name": "ipython",
    "version": 3
   },
   "file_extension": ".py",
   "mimetype": "text/x-python",
   "name": "python",
   "nbconvert_exporter": "python",
   "pygments_lexer": "ipython3",
   "version": "3.7.10"
  }
 },
 "nbformat": 4,
 "nbformat_minor": 5
}
