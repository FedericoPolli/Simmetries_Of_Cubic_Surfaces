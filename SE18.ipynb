{
 "cells": [
  {
   "cell_type": "code",
   "execution_count": 16,
   "id": "48b684a4-4981-40f7-9bac-3a2ba7666f34",
   "metadata": {},
   "outputs": [],
   "source": [
    "load('Imports/Utility.sage', 'Imports/Point.sage', 'Imports/Line.sage', 'Imports/TritangentPlane.sage', 'Imports/Group.sage', 'Imports/Cubic.sage')\n",
    "import multiprocessing as mp\n",
    "import pickle"
   ]
  },
  {
   "cell_type": "code",
   "execution_count": 17,
   "id": "e7202a79-c433-40bd-b512-57673085473d",
   "metadata": {},
   "outputs": [],
   "source": [
    "xx = QQ['xx'].0"
   ]
  },
  {
   "cell_type": "code",
   "execution_count": 18,
   "id": "e6d2b6be-d28d-47f2-ac85-83d37e13cc13",
   "metadata": {},
   "outputs": [],
   "source": [
    "Q.<alpha> = NumberField(xx^2+3)"
   ]
  },
  {
   "cell_type": "code",
   "execution_count": 19,
   "id": "07efe905-bfb6-4396-a28b-bfa071b334d4",
   "metadata": {},
   "outputs": [],
   "source": [
    "P.<x,y,z,t,b,c,d,e,f,l,m> = PolynomialRing(Q)"
   ]
  },
  {
   "cell_type": "code",
   "execution_count": 20,
   "id": "d3dafdce-309d-4146-b03f-557350ffaf21",
   "metadata": {},
   "outputs": [],
   "source": [
    "cubic_new = e*f*(2*x^2*y-2*x*y^2+x*z^2-x*z*t-y*t^2+y*z*t)+b*c*(x-t)*(x*z+y*t)+c*c*(z+t)*(y*t-x*z)+d*c*(y-z)*(x*z+y*t)+(e+f)*c*(x-y)*(y*t-x*z)"
   ]
  },
  {
   "cell_type": "code",
   "execution_count": 21,
   "id": "fe4d5cac-b773-4f66-b066-0f0ae04a54a4",
   "metadata": {},
   "outputs": [],
   "source": [
    "sing_cubics = (-1) * (-c + f) * (-c + e) * c * (c + f) * (c + e) * (-e + f)^2 * (-c*d + c*f + e*f) * (-c*d + c*e + e*f) * (-c^2 - c*d + e*f) * (b*c - c*f + e*f) * (b*c - c*e + e*f) * (b*c - c*d + 2*e*f) * (b*c - c^2 + e*f) * (b*c^2 + c^2*d + b*c*f - 2*c^2*f - c*d*f + 2*e*f^2) * (b*c^2 + c^2*d + b*c*e - 2*c^2*e - c*d*e + 2*e^2*f) * (-b*c^3 - 2*b*c^2*d + c^3*d + b*c^2*e + c^2*d*e + b*c^2*f + c^2*d*f + 3*b*c*e*f - 4*c^2*e*f - 3*c*d*e*f + 4*e^2*f^2)"
   ]
  },
  {
   "cell_type": "code",
   "execution_count": 22,
   "id": "f5d67b07-1f4e-4c44-85f5-e89dc5ce55b5",
   "metadata": {},
   "outputs": [],
   "source": [
    "line = Line([y, z])"
   ]
  },
  {
   "cell_type": "code",
   "execution_count": 23,
   "id": "61477c21-cf15-4148-8cc4-428b359c6bd0",
   "metadata": {},
   "outputs": [],
   "source": [
    "general_cubic = Cubic(cubic_new, line, sing_cubics)"
   ]
  },
  {
   "cell_type": "code",
   "execution_count": 24,
   "id": "bb8ad015-5e66-4d45-aba7-2df8c7d05daf",
   "metadata": {},
   "outputs": [],
   "source": [
    "SE18 = general_cubic.subs({b:-(c*c+e*f)/c, d:(3*e*f - c^2 + c*f + c*e)/(2*c)}).subs({f:c*(3*c-e)/(c+e)}).subs({e : alpha*c})"
   ]
  },
  {
   "cell_type": "code",
   "execution_count": 25,
   "id": "66ef1618-ce5e-4caa-a96f-426df45c8d1c",
   "metadata": {},
   "outputs": [
    {
     "data": {
      "text/plain": [
       "1296"
      ]
     },
     "execution_count": 25,
     "metadata": {},
     "output_type": "execute_result"
    }
   ],
   "source": [
    "len(SE18.find_admissible_permutations())"
   ]
  },
  {
   "cell_type": "code",
   "execution_count": 26,
   "id": "82a3206d-e3ce-4887-b34b-a7a0d9f6d32c",
   "metadata": {},
   "outputs": [
    {
     "name": "stdout",
     "output_type": "stream",
     "text": [
      "CPU times: user 1.1 s, sys: 130 ms, total: 1.23 s\n",
      "Wall time: 10.9 s\n"
     ]
    }
   ],
   "source": [
    "%time adm_SE18 = SE18.find_admissible_projectivities()"
   ]
  },
  {
   "cell_type": "code",
   "execution_count": 27,
   "id": "5b90812c-a74b-46e8-81f8-3b7003de2793",
   "metadata": {},
   "outputs": [
    {
     "data": {
      "text/plain": [
       "648"
      ]
     },
     "execution_count": 27,
     "metadata": {},
     "output_type": "execute_result"
    }
   ],
   "source": [
    "len(adm_SE18)"
   ]
  },
  {
   "cell_type": "code",
   "execution_count": 28,
   "id": "cc6d9daf-e51f-4abd-990f-a3e46ea2d768",
   "metadata": {},
   "outputs": [
    {
     "name": "stdout",
     "output_type": "stream",
     "text": [
      "CPU times: user 912 ms, sys: 113 ms, total: 1.02 s\n",
      "Wall time: 1.51 s\n"
     ]
    }
   ],
   "source": [
    "%time simm_SE18 = SE18.find_simmetries(adm_SE18)"
   ]
  },
  {
   "cell_type": "code",
   "execution_count": 29,
   "id": "3f8b6945-16c2-4191-bd0c-da03027eaeb6",
   "metadata": {},
   "outputs": [
    {
     "data": {
      "text/plain": [
       "648"
      ]
     },
     "execution_count": 29,
     "metadata": {},
     "output_type": "execute_result"
    }
   ],
   "source": [
    "len(simm_SE18)"
   ]
  },
  {
   "cell_type": "code",
   "execution_count": 15,
   "id": "90b3309a-0648-4fbe-ab7a-f62f151ba198",
   "metadata": {},
   "outputs": [],
   "source": [
    "G_SE18 = Group(simm_SE18)"
   ]
  },
  {
   "cell_type": "raw",
   "id": "dce4a498-acf5-4676-83a8-ec16ea63840f",
   "metadata": {},
   "source": [
    "%%time\n",
    "for i in [0]:\n",
    "    g1 = G_SE18[i]\n",
    "    for g2 in G_SE18:\n",
    "        G_SE18.is_in_group(g1*g2)"
   ]
  },
  {
   "cell_type": "code",
   "execution_count": 16,
   "id": "b741a02d-2445-46c9-b801-1c748b3cc242",
   "metadata": {},
   "outputs": [],
   "source": [
    "#%time G_SE18.is_group()"
   ]
  },
  {
   "cell_type": "code",
   "execution_count": 17,
   "id": "2b85844e-b196-4d0f-82df-05ff22e8e19c",
   "metadata": {},
   "outputs": [
    {
     "data": {
      "text/plain": [
       "Non abelian group of order 648"
      ]
     },
     "execution_count": 17,
     "metadata": {},
     "output_type": "execute_result"
    }
   ],
   "source": [
    "G_SE18"
   ]
  },
  {
   "cell_type": "code",
   "execution_count": 18,
   "id": "23a69ec3-33f1-4ef5-bb25-08b5f3c3e2c3",
   "metadata": {},
   "outputs": [
    {
     "data": {
      "text/plain": [
       "648"
      ]
     },
     "execution_count": 18,
     "metadata": {},
     "output_type": "execute_result"
    }
   ],
   "source": [
    "G_SE18.get_order()"
   ]
  },
  {
   "cell_type": "code",
   "execution_count": 19,
   "id": "ff29bbf3-21ee-4b55-9b13-d7064b3da34e",
   "metadata": {},
   "outputs": [
    {
     "data": {
      "text/plain": [
       "False"
      ]
     },
     "execution_count": 19,
     "metadata": {},
     "output_type": "execute_result"
    }
   ],
   "source": [
    "G_SE18.is_abelian()"
   ]
  },
  {
   "cell_type": "code",
   "execution_count": 20,
   "id": "17ea6b30-25a0-429e-9d92-1043db058c2d",
   "metadata": {},
   "outputs": [
    {
     "data": {
      "text/plain": [
       "[1, 2, 3, 4, 6, 8, 9, 12, 18, 24, 27, 36, 54, 72, 81, 108, 162, 216, 324, 648]"
      ]
     },
     "execution_count": 20,
     "metadata": {},
     "output_type": "execute_result"
    }
   ],
   "source": [
    "G_SE18.get_divisors_of_order()"
   ]
  },
  {
   "cell_type": "code",
   "execution_count": 21,
   "id": "d2ba508a-a6d8-49e4-80ad-21706a1301cd",
   "metadata": {},
   "outputs": [],
   "source": [
    "perms = []\n",
    "for el in G_SE18:\n",
    "    perms.append(Permutation(apply_proj_to_eck(el, SE18.eckardt_points)).to_cycles())"
   ]
  },
  {
   "cell_type": "code",
   "execution_count": 22,
   "id": "a5e43547-603e-496c-8d64-039f7b97e764",
   "metadata": {},
   "outputs": [],
   "source": [
    "gp = PermutationGroup(perms)"
   ]
  },
  {
   "cell_type": "code",
   "execution_count": 23,
   "id": "cb4211d3-5f30-48fc-8c02-42db7743fc67",
   "metadata": {},
   "outputs": [
    {
     "data": {
      "text/plain": [
       "648"
      ]
     },
     "execution_count": 23,
     "metadata": {},
     "output_type": "execute_result"
    }
   ],
   "source": [
    "gp.order()"
   ]
  },
  {
   "cell_type": "code",
   "execution_count": 24,
   "id": "86e55d38-8c69-431b-aa9e-ee6786e13ac4",
   "metadata": {},
   "outputs": [
    {
     "data": {
      "text/plain": [
       "(6*alpha + 6)*x^2*y + (-6*alpha - 6)*x*y^2 + (-4*alpha - 4)*x^2*z + (4*alpha + 4)*x*y*z + (-2*alpha - 2)*x*z^2 + (-4*alpha - 4)*x*y*t + (4*alpha + 4)*y^2*t + (2*alpha + 2)*y*t^2"
      ]
     },
     "execution_count": 24,
     "metadata": {},
     "output_type": "execute_result"
    }
   ],
   "source": [
    "SE18"
   ]
  },
  {
   "cell_type": "code",
   "execution_count": 25,
   "id": "f8e650c6-9b71-4d29-8a04-e45267057a41",
   "metadata": {},
   "outputs": [
    {
     "data": {
      "text/plain": [
       "'(((C3 x C3 x C3) : (C2 x C2)) : C3) : C2'"
      ]
     },
     "execution_count": 25,
     "metadata": {},
     "output_type": "execute_result"
    }
   ],
   "source": [
    "gp.structure_description()"
   ]
  },
  {
   "cell_type": "code",
   "execution_count": 26,
   "id": "29dfeef2-0a5f-43ed-829c-8292dfec92bb",
   "metadata": {},
   "outputs": [],
   "source": [
    "nor_subs = gp.normal_subgroups()"
   ]
  },
  {
   "cell_type": "code",
   "execution_count": 27,
   "id": "22700c34-c21d-4568-b4c2-aec8f83e548b",
   "metadata": {},
   "outputs": [],
   "source": [
    "nor_sub = [el for el in nor_subs if el.order()==27][0]"
   ]
  },
  {
   "cell_type": "code",
   "execution_count": 28,
   "id": "7088c1b9-0157-45b8-bbfb-8873967d7e9a",
   "metadata": {},
   "outputs": [
    {
     "data": {
      "text/plain": [
       "True"
      ]
     },
     "execution_count": 28,
     "metadata": {},
     "output_type": "execute_result"
    }
   ],
   "source": [
    "gp.quotient(nor_sub).is_isomorphic(SymmetricGroup(4))"
   ]
  },
  {
   "cell_type": "code",
   "execution_count": 29,
   "id": "a9c377bd-d2f2-497b-819f-8068d158e675",
   "metadata": {},
   "outputs": [
    {
     "data": {
      "text/plain": [
       "[(1,9,3)(2,13,6)(4,18,19)(5,23,10)(7,21,22)(8,24,14)(11,12,17)(15,16,20),\n",
       " (1,8,4,16)(2,5,7,12)(3,21,10,24)(6,18,14,23)(9,15,17,22)(11,20,19,13)]"
      ]
     },
     "execution_count": 29,
     "metadata": {},
     "output_type": "execute_result"
    }
   ],
   "source": [
    "gp.quotient(nor_sub).minimal_generating_set()"
   ]
  },
  {
   "cell_type": "code",
   "execution_count": 30,
   "id": "8ea2f0df-ff34-4d74-924b-065ad0473402",
   "metadata": {},
   "outputs": [
    {
     "data": {
      "text/plain": [
       "'C3 x C3 x C3'"
      ]
     },
     "execution_count": 30,
     "metadata": {},
     "output_type": "execute_result"
    }
   ],
   "source": [
    "nor_sub.structure_description()"
   ]
  },
  {
   "cell_type": "code",
   "execution_count": 31,
   "id": "f3f09f32-b7b0-48b2-a881-f3db63fe77f1",
   "metadata": {},
   "outputs": [
    {
     "data": {
      "text/plain": [
       "[['E1', 'G3', 'F13'],\n",
       " ['E1', 'G4', 'F14'],\n",
       " ['E2', 'G3', 'F23'],\n",
       " ['E2', 'G4', 'F24'],\n",
       " ['E3', 'G5', 'F35'],\n",
       " ['E3', 'G6', 'F36'],\n",
       " ['E4', 'G5', 'F45'],\n",
       " ['E4', 'G6', 'F46'],\n",
       " ['E5', 'G1', 'F15'],\n",
       " ['E5', 'G2', 'F25'],\n",
       " ['E6', 'G1', 'F16'],\n",
       " ['E6', 'G2', 'F26'],\n",
       " ['F12', 'F35', 'F46'],\n",
       " ['F12', 'F36', 'F45'],\n",
       " ['F13', 'F24', 'F56'],\n",
       " ['F14', 'F23', 'F56'],\n",
       " ['F15', 'F26', 'F34'],\n",
       " ['F16', 'F25', 'F34']]"
      ]
     },
     "execution_count": 31,
     "metadata": {},
     "output_type": "execute_result"
    }
   ],
   "source": [
    "SE18.eckardt_points_labels"
   ]
  },
  {
   "cell_type": "code",
   "execution_count": 32,
   "id": "348f92ff-2e6a-49d5-9d4d-5ef5e2cb3352",
   "metadata": {},
   "outputs": [],
   "source": [
    "lines_three_eck = []\n",
    "for i in range(16):\n",
    "    for j in range(i+1, 17):\n",
    "        for k in range(j+1, 18):\n",
    "            point1 = SE18.eckardt_points[i]\n",
    "            point2 = SE18.eckardt_points[j]\n",
    "            point3 = SE18.eckardt_points[k]   \n",
    "            line12_pl = Point(matrix([point1, point2]).minors(2))\n",
    "            line23_pl = Point(matrix([point2, point3]).minors(2))\n",
    "            if line12_pl == line23_pl and line12_pl not in [line.plucker for line in lines_three_eck]:\n",
    "                planes = get_planes(line12_pl)\n",
    "                lines_three_eck.append(Line(planes,[point1, point2], line12_pl))"
   ]
  },
  {
   "cell_type": "code",
   "execution_count": 33,
   "id": "2e38fbcd-e018-4b17-98eb-7c096401492c",
   "metadata": {},
   "outputs": [
    {
     "data": {
      "text/plain": [
       "42"
      ]
     },
     "execution_count": 33,
     "metadata": {},
     "output_type": "execute_result"
    }
   ],
   "source": [
    "len(lines_three_eck)"
   ]
  },
  {
   "cell_type": "code",
   "execution_count": 34,
   "id": "aab91589-5a6e-4912-bfd1-e72e8f00d1b3",
   "metadata": {},
   "outputs": [],
   "source": [
    "def get_all_lines_incident_to_line(line, lines):\n",
    "    return [other_line for other_line in lines if line.are_incident(other_line)]"
   ]
  },
  {
   "cell_type": "code",
   "execution_count": null,
   "id": "cc757692-c9c2-4437-8372-63bda5f86f7c",
   "metadata": {},
   "outputs": [],
   "source": []
  },
  {
   "cell_type": "code",
   "execution_count": null,
   "id": "b41e45d1-0936-44ce-ba3d-7dd27afbf724",
   "metadata": {},
   "outputs": [],
   "source": []
  },
  {
   "cell_type": "code",
   "execution_count": null,
   "id": "273e77be-7d9f-481c-8408-da65c1004873",
   "metadata": {},
   "outputs": [],
   "source": []
  },
  {
   "cell_type": "code",
   "execution_count": null,
   "id": "df925814-f0ac-4ba6-9e48-0af072962f56",
   "metadata": {},
   "outputs": [],
   "source": []
  },
  {
   "cell_type": "code",
   "execution_count": null,
   "id": "37cb1c40-43df-44f7-9454-fa03213dad31",
   "metadata": {},
   "outputs": [],
   "source": []
  },
  {
   "cell_type": "code",
   "execution_count": 34,
   "id": "7777341d-cfc4-4895-9425-90e4d7fa0e77",
   "metadata": {},
   "outputs": [],
   "source": [
    "A = matrix([[line1.are_incident(line2) for line2 in lines_three_eck] for line1 in lines_three_eck])"
   ]
  },
  {
   "cell_type": "code",
   "execution_count": 35,
   "id": "febb2049-52e1-485d-a587-c53fe3d0690d",
   "metadata": {},
   "outputs": [],
   "source": [
    "for i in range(42-12):\n",
    "    for j in range(42-12):\n",
    "        if 0 not in A.submatrix(i,j, 12, 12).list():\n",
    "            print(i,j)"
   ]
  },
  {
   "cell_type": "code",
   "execution_count": 36,
   "id": "77778377-bcb9-4915-b42b-8ac883b0d56d",
   "metadata": {},
   "outputs": [
    {
     "data": {
      "text/plain": [
       "(23, 21, 21, 21, 21, 21, 21, 23, 21, 21, 21, 21, 21, 21, 21, 21, 21, 21, 21, 21, 21, 21, 21, 21, 21, 21, 23, 21, 21, 23, 21, 21, 21, 21, 21, 21, 23, 23, 21, 21, 21, 21)"
      ]
     },
     "execution_count": 36,
     "metadata": {},
     "output_type": "execute_result"
    }
   ],
   "source": [
    "sum([A.row(i) for i in range(42)])"
   ]
  },
  {
   "cell_type": "code",
   "execution_count": null,
   "id": "abcf5262-90b3-4247-beed-d75e8ccbf899",
   "metadata": {},
   "outputs": [],
   "source": []
  },
  {
   "cell_type": "code",
   "execution_count": null,
   "id": "6046dc22-680b-4b7b-9970-8cdbdf1965eb",
   "metadata": {},
   "outputs": [],
   "source": []
  },
  {
   "cell_type": "code",
   "execution_count": null,
   "id": "f70eb186-70e1-4338-8b84-153cb9514bfa",
   "metadata": {},
   "outputs": [],
   "source": []
  },
  {
   "cell_type": "code",
   "execution_count": null,
   "id": "38b0d71e-1292-4b2b-ba5f-2cd14a7a04d5",
   "metadata": {},
   "outputs": [],
   "source": []
  }
 ],
 "metadata": {
  "kernelspec": {
   "display_name": "SageMath 9.4",
   "language": "sage",
   "name": "sagemath"
  },
  "language_info": {
   "codemirror_mode": {
    "name": "ipython",
    "version": 3
   },
   "file_extension": ".py",
   "mimetype": "text/x-python",
   "name": "python",
   "nbconvert_exporter": "python",
   "pygments_lexer": "ipython3",
   "version": "3.7.12"
  }
 },
 "nbformat": 4,
 "nbformat_minor": 5
}
