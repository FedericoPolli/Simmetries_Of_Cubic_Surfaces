{
 "cells": [
  {
   "cell_type": "code",
   "execution_count": 1,
   "id": "ee309c7b",
   "metadata": {},
   "outputs": [],
   "source": [
    "load('Imports/Utility.sage', 'Imports/Point.sage', 'Imports/Line.sage', 'Imports/TritangentPlane.sage', 'Imports/Group.sage', 'Imports/Cubic.sage')\n",
    "import multiprocessing as mp\n",
    "import pickle"
   ]
  },
  {
   "cell_type": "code",
   "execution_count": 2,
   "id": "ddaa1f4d-9357-4397-8d9e-23774786999b",
   "metadata": {},
   "outputs": [],
   "source": [
    "xx = QQ['xx'].0\n",
    "Q.<alpha> = NumberField(xx^2+3)"
   ]
  },
  {
   "cell_type": "code",
   "execution_count": 3,
   "id": "6bc7eb63-f964-49eb-a2a2-4f76bd0e26b5",
   "metadata": {},
   "outputs": [],
   "source": [
    "P.<x,y,z,t,b,c,d,e,f,l,m> = PolynomialRing(Q)\n",
    "cubic_new = e*f*(2*x^2*y-2*x*y^2+x*z^2-x*z*t-y*t^2+y*z*t)+b*c*(x-t)*(x*z+y*t)+c*c*(z+t)*(y*t-x*z)+d*c*(y-z)*(x*z+y*t)+(e+f)*c*(x-y)*(y*t-x*z)\n",
    "sing_cubics = (-1) * (-c + f) * (-c + e) * c * (c + f) * (c + e) * (-e + f)^2 * (-c*d + c*f + e*f) * (-c*d + c*e + e*f) * (-c^2 - c*d + e*f) * (b*c - c*f + e*f) * (b*c - c*e + e*f) * (b*c - c*d + 2*e*f) * (b*c - c^2 + e*f) * (b*c^2 + c^2*d + b*c*f - 2*c^2*f - c*d*f + 2*e*f^2) * (b*c^2 + c^2*d + b*c*e - 2*c^2*e - c*d*e + 2*e^2*f) * (-b*c^3 - 2*b*c^2*d + c^3*d + b*c^2*e + c^2*d*e + b*c^2*f + c^2*d*f + 3*b*c*e*f - 4*c^2*e*f - 3*c*d*e*f + 4*e^2*f^2)"
   ]
  },
  {
   "cell_type": "code",
   "execution_count": 4,
   "id": "cc700c3b-886c-4379-9032-3c0e04975c46",
   "metadata": {},
   "outputs": [
    {
     "name": "stdout",
     "output_type": "stream",
     "text": [
      "CPU times: user 5.28 s, sys: 31.7 ms, total: 5.31 s\n",
      "Wall time: 5.32 s\n"
     ]
    }
   ],
   "source": [
    "line = Line([y, z])\n",
    "general_cubic = Cubic(cubic_new, line, sing_cubics)\n",
    "%time SE18 = general_cubic.subs({b:-(c*c+e*f)/c, d:(3*e*f - c^2 + c*f + c*e)/(2*c)}).subs({f:c*(3*c-e)/(c+e)}).subs({e : alpha*c})"
   ]
  },
  {
   "cell_type": "code",
   "execution_count": 5,
   "id": "a77edc3d-1f77-49df-9795-acd4c5930b85",
   "metadata": {},
   "outputs": [
    {
     "name": "stdout",
     "output_type": "stream",
     "text": [
      "CPU times: user 1.22 s, sys: 77 ms, total: 1.3 s\n",
      "Wall time: 13.2 s\n"
     ]
    },
    {
     "data": {
      "text/plain": [
       "648"
      ]
     },
     "execution_count": 5,
     "metadata": {},
     "output_type": "execute_result"
    }
   ],
   "source": [
    "%time adm_SE18 = SE18.find_admissible_projectivities()\n",
    "len(adm_SE18)"
   ]
  },
  {
   "cell_type": "code",
   "execution_count": 6,
   "id": "8f3162fe-3b2f-4b0d-ba5d-52026be9f3d0",
   "metadata": {},
   "outputs": [
    {
     "name": "stdout",
     "output_type": "stream",
     "text": [
      "CPU times: user 1.23 s, sys: 141 ms, total: 1.37 s\n",
      "Wall time: 1.82 s\n"
     ]
    },
    {
     "data": {
      "text/plain": [
       "648"
      ]
     },
     "execution_count": 6,
     "metadata": {},
     "output_type": "execute_result"
    }
   ],
   "source": [
    "%time simm_SE18 = SE18.find_simmetries(adm_SE18)\n",
    "len(simm_SE18)"
   ]
  },
  {
   "cell_type": "code",
   "execution_count": 29,
   "id": "b8a24ace-332f-40ba-9654-ad18d5504cc7",
   "metadata": {},
   "outputs": [
    {
     "name": "stdout",
     "output_type": "stream",
     "text": [
      "CPU times: user 12.4 s, sys: 40 ms, total: 12.5 s\n",
      "Wall time: 13.7 s\n"
     ]
    },
    {
     "data": {
      "text/plain": [
       "(648, '(((C3 x C3 x C3) : (C2 x C2)) : C3) : C2')"
      ]
     },
     "execution_count": 29,
     "metadata": {},
     "output_type": "execute_result"
    }
   ],
   "source": [
    "%%time\n",
    "Eck_points_perms = []\n",
    "for proj in simm_SE18:\n",
    "    Eck_points_perms.append(Permutation(SE18.apply_proj_to_eck(proj)).to_permutation_group_element())\n",
    "Eck_points_perms_group = PermutationGroup(Eck_points_perms)\n",
    "Eck_points_perms_group.order(), Eck_points_perms_group.structure_description()"
   ]
  },
  {
   "cell_type": "code",
   "execution_count": 8,
   "id": "e9d2d1bc",
   "metadata": {},
   "outputs": [],
   "source": [
    "nor_subs = Eck_points_perms_group.normal_subgroups()"
   ]
  },
  {
   "cell_type": "code",
   "execution_count": 9,
   "id": "b610ddae",
   "metadata": {},
   "outputs": [],
   "source": [
    "nor_sub = [el for el in nor_subs if el.order()==27][0]"
   ]
  },
  {
   "cell_type": "code",
   "execution_count": 10,
   "id": "ca6467c9",
   "metadata": {},
   "outputs": [
    {
     "data": {
      "text/plain": [
       "'C3 x C3 x C3'"
      ]
     },
     "execution_count": 10,
     "metadata": {},
     "output_type": "execute_result"
    }
   ],
   "source": [
    "nor_sub.structure_description()"
   ]
  },
  {
   "cell_type": "code",
   "execution_count": 11,
   "id": "e16831f7",
   "metadata": {},
   "outputs": [],
   "source": [
    "S4 = Eck_points_perms_group.quotient(nor_sub)"
   ]
  },
  {
   "cell_type": "code",
   "execution_count": 12,
   "id": "235aa0c0",
   "metadata": {},
   "outputs": [
    {
     "data": {
      "text/plain": [
       "True"
      ]
     },
     "execution_count": 12,
     "metadata": {},
     "output_type": "execute_result"
    }
   ],
   "source": [
    "S4.is_isomorphic(SymmetricGroup(4))"
   ]
  },
  {
   "cell_type": "code",
   "execution_count": 13,
   "id": "3e27e0c1",
   "metadata": {},
   "outputs": [
    {
     "name": "stdout",
     "output_type": "stream",
     "text": [
      "CPU times: user 1min 19s, sys: 79.9 ms, total: 1min 19s\n",
      "Wall time: 1min 19s\n"
     ]
    }
   ],
   "source": [
    "%time sub = Eck_points_perms_group.subgroups()"
   ]
  },
  {
   "cell_type": "code",
   "execution_count": 14,
   "id": "dc5ce751",
   "metadata": {},
   "outputs": [
    {
     "data": {
      "text/plain": [
       "928"
      ]
     },
     "execution_count": 14,
     "metadata": {},
     "output_type": "execute_result"
    }
   ],
   "source": [
    "len(sub)"
   ]
  },
  {
   "cell_type": "code",
   "execution_count": 15,
   "id": "bc8035f2",
   "metadata": {},
   "outputs": [],
   "source": [
    "subS4 = [el for el in sub if el.is_isomorphic(S4)][0]"
   ]
  },
  {
   "cell_type": "code",
   "execution_count": 16,
   "id": "2b9df720",
   "metadata": {},
   "outputs": [
    {
     "data": {
      "text/plain": [
       "[(1,5,9)(2,7,17)(3,13,10)(4,8,12)(6,11,15)(14,18,16),\n",
       " (1,2)(3,4,15,16)(5,17,7,9)(6,12,8,10)(11,13,18,14)]"
      ]
     },
     "execution_count": 16,
     "metadata": {},
     "output_type": "execute_result"
    }
   ],
   "source": [
    "subS4.gens_small()"
   ]
  },
  {
   "cell_type": "code",
   "execution_count": 19,
   "id": "d878dd4b",
   "metadata": {},
   "outputs": [],
   "source": [
    "gens_indices = [Eck_points_perms.index(gen) for gen in subS4.minimal_generating_set()]"
   ]
  },
  {
   "cell_type": "code",
   "execution_count": 20,
   "id": "154911a1",
   "metadata": {},
   "outputs": [],
   "source": [
    "eck_labels = SE18.eckardt_points_labels\n",
    "lines_three_eck = []\n",
    "for i in range(16):\n",
    "    for j in range(i+1, 17):\n",
    "        for k in range(j+1, 18):\n",
    "            point1 = SE18.eckardt_points[i]\n",
    "            point2 = SE18.eckardt_points[j]\n",
    "            point3 = SE18.eckardt_points[k]   \n",
    "            line12_pl = Point(matrix([point1, point2]).minors(2))\n",
    "            line23_pl = Point(matrix([point2, point3]).minors(2))\n",
    "            if line12_pl == line23_pl and line12_pl not in [line.plucker for line in lines_three_eck]:\n",
    "                planes = get_two_planes_containing_line(line12_pl)\n",
    "                lines_three_eck.append(Line(planes,[point1, point2], line12_pl))"
   ]
  },
  {
   "cell_type": "code",
   "execution_count": 21,
   "id": "24bc7979",
   "metadata": {},
   "outputs": [
    {
     "data": {
      "text/plain": [
       "42"
      ]
     },
     "execution_count": 21,
     "metadata": {},
     "output_type": "execute_result"
    }
   ],
   "source": [
    "len(lines_three_eck)"
   ]
  },
  {
   "cell_type": "code",
   "execution_count": 22,
   "id": "6e2e1c62",
   "metadata": {},
   "outputs": [],
   "source": [
    "planes = []\n",
    "for line in lines_three_eck:\n",
    "    for line2 in line.get_all_lines_incident_to_self(lines_three_eck):\n",
    "        planes.append(line.get_plane_containing_another_incident_line(line2))\n",
    "planes = list(set(planes))"
   ]
  },
  {
   "cell_type": "code",
   "execution_count": 23,
   "id": "b2bd220a",
   "metadata": {},
   "outputs": [
    {
     "data": {
      "text/plain": [
       "31"
      ]
     },
     "execution_count": 23,
     "metadata": {},
     "output_type": "execute_result"
    }
   ],
   "source": [
    "len(planes)"
   ]
  },
  {
   "cell_type": "code",
   "execution_count": 24,
   "id": "3e8bfa80",
   "metadata": {},
   "outputs": [],
   "source": [
    "c9_planes = [plane for plane in planes if [line.is_on_plane(plane) for line in lines_three_eck].count(True) == 12]"
   ]
  },
  {
   "cell_type": "code",
   "execution_count": 25,
   "id": "96d4bfc6",
   "metadata": {},
   "outputs": [
    {
     "data": {
      "text/plain": [
       "[x + (alpha - 1)*y - t,\n",
       " x + (-alpha - 1)*y - t,\n",
       " x + (1/4*alpha - 1/4)*y + (-1/4*alpha + 1/4)*z,\n",
       " x + (-1/4*alpha - 1/4)*y + (1/4*alpha + 1/4)*z]"
      ]
     },
     "execution_count": 25,
     "metadata": {},
     "output_type": "execute_result"
    }
   ],
   "source": [
    "c9_planes"
   ]
  },
  {
   "cell_type": "code",
   "execution_count": 26,
   "id": "dfb8d2db",
   "metadata": {},
   "outputs": [],
   "source": [
    "simms = [simm_SE18[index] for index in gens_indices]"
   ]
  },
  {
   "cell_type": "code",
   "execution_count": 27,
   "id": "2655eac4",
   "metadata": {},
   "outputs": [
    {
     "name": "stdout",
     "output_type": "stream",
     "text": [
      "True\n",
      "True\n",
      "True\n",
      "True\n",
      "True\n",
      "True\n",
      "True\n",
      "True\n"
     ]
    }
   ],
   "source": [
    "for simm in simms:\n",
    "    coord_change = change_coord(simm)\n",
    "    new_planes = [plane.subs(coord_change) for plane in c9_planes]\n",
    "    for new_plane in new_planes:\n",
    "        print(bool([matrix([plane_coefficients(old_plane), plane_coefficients(new_plane)]).minors(2) == [0,0,0,0,0,0] for old_plane in c9_planes]))"
   ]
  },
  {
   "cell_type": "code",
   "execution_count": null,
   "id": "e78f5e6c",
   "metadata": {},
   "outputs": [],
   "source": []
  },
  {
   "cell_type": "code",
   "execution_count": 28,
   "id": "e7101e1d-de7d-4cd8-8ba1-31e0fc504f87",
   "metadata": {},
   "outputs": [
    {
     "name": "stdout",
     "output_type": "stream",
     "text": [
      "CPU times: user 1min 34s, sys: 529 ms, total: 1min 35s\n",
      "Wall time: 1min 36s\n"
     ]
    },
    {
     "data": {
      "text/plain": [
       "(648, '(((C3 x C3 x C3) : (C2 x C2)) : C3) : C2')"
      ]
     },
     "execution_count": 28,
     "metadata": {},
     "output_type": "execute_result"
    }
   ],
   "source": [
    "%%time\n",
    "lines_perms = []\n",
    "for simm in simm_SE18:\n",
    "    lines_perms.append(Permutation(SE18.apply_proj_to_lines(simm)).to_permutation_group_element())\n",
    "lines_perms_group = PermutationGroup(lines_perms)\n",
    "lines_perms_group.order(), lines_perms_group.structure_description()"
   ]
  },
  {
   "cell_type": "code",
   "execution_count": null,
   "id": "c3cba5d9",
   "metadata": {},
   "outputs": [],
   "source": []
  }
 ],
 "metadata": {
  "kernelspec": {
   "display_name": "SageMath 9.4",
   "language": "sage",
   "name": "sagemath"
  },
  "language_info": {
   "codemirror_mode": {
    "name": "ipython",
    "version": 3
   },
   "file_extension": ".py",
   "mimetype": "text/x-python",
   "name": "python",
   "nbconvert_exporter": "python",
   "pygments_lexer": "ipython3",
   "version": "3.7.12"
  }
 },
 "nbformat": 4,
 "nbformat_minor": 5
}
