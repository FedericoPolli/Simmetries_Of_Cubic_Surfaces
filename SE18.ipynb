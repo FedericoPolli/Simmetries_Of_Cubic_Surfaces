{
 "cells": [
  {
   "cell_type": "code",
   "execution_count": 1,
   "id": "48b684a4-4981-40f7-9bac-3a2ba7666f34",
   "metadata": {},
   "outputs": [],
   "source": [
    "load('Imports/Utility.sage', 'Imports/Point.sage', 'Imports/Line.sage', 'Imports/Tritangent_plane.sage', 'Imports/Group.sage', 'Imports/Cubic.sage')\n",
    "import multiprocessing as mp\n",
    "import pickle"
   ]
  },
  {
   "cell_type": "code",
   "execution_count": 2,
   "id": "e7202a79-c433-40bd-b512-57673085473d",
   "metadata": {},
   "outputs": [],
   "source": [
    "xx = QQ['xx'].0"
   ]
  },
  {
   "cell_type": "code",
   "execution_count": 3,
   "id": "e6d2b6be-d28d-47f2-ac85-83d37e13cc13",
   "metadata": {},
   "outputs": [],
   "source": [
    "Q.<alpha> = NumberField(xx^2+3)"
   ]
  },
  {
   "cell_type": "code",
   "execution_count": 4,
   "id": "07efe905-bfb6-4396-a28b-bfa071b334d4",
   "metadata": {},
   "outputs": [],
   "source": [
    "P.<x,y,z,t,b,c,d,e,f,l,m> = PolynomialRing(Q)"
   ]
  },
  {
   "cell_type": "code",
   "execution_count": 5,
   "id": "d3dafdce-309d-4146-b03f-557350ffaf21",
   "metadata": {},
   "outputs": [],
   "source": [
    "cubic_new = e*f*(2*x^2*y-2*x*y^2+x*z^2-x*z*t-y*t^2+y*z*t)+b*c*(x-t)*(x*z+y*t)+c*c*(z+t)*(y*t-x*z)+d*c*(y-z)*(x*z+y*t)+(e+f)*c*(x-y)*(y*t-x*z)"
   ]
  },
  {
   "cell_type": "code",
   "execution_count": 6,
   "id": "fe4d5cac-b773-4f66-b066-0f0ae04a54a4",
   "metadata": {},
   "outputs": [],
   "source": [
    "sing_cubics = (-1) * (-c + f) * (-c + e) * c * (c + f) * (c + e) * (-e + f)^2 * (-c*d + c*f + e*f) * (-c*d + c*e + e*f) * (-c^2 - c*d + e*f) * (b*c - c*f + e*f) * (b*c - c*e + e*f) * (b*c - c*d + 2*e*f) * (b*c - c^2 + e*f) * (b*c^2 + c^2*d + b*c*f - 2*c^2*f - c*d*f + 2*e*f^2) * (b*c^2 + c^2*d + b*c*e - 2*c^2*e - c*d*e + 2*e^2*f) * (-b*c^3 - 2*b*c^2*d + c^3*d + b*c^2*e + c^2*d*e + b*c^2*f + c^2*d*f + 3*b*c*e*f - 4*c^2*e*f - 3*c*d*e*f + 4*e^2*f^2)"
   ]
  },
  {
   "cell_type": "code",
   "execution_count": 7,
   "id": "f5d67b07-1f4e-4c44-85f5-e89dc5ce55b5",
   "metadata": {},
   "outputs": [],
   "source": [
    "line = Line([y, z])"
   ]
  },
  {
   "cell_type": "code",
   "execution_count": 8,
   "id": "61477c21-cf15-4148-8cc4-428b359c6bd0",
   "metadata": {},
   "outputs": [],
   "source": [
    "general_cubic = Cubic(cubic_new, line, sing_cubics)"
   ]
  },
  {
   "cell_type": "code",
   "execution_count": 9,
   "id": "bb8ad015-5e66-4d45-aba7-2df8c7d05daf",
   "metadata": {},
   "outputs": [],
   "source": [
    "SE18 = general_cubic.subs({b:-(c*c+e*f)/c, d:(3*e*f - c^2 + c*f + c*e)/(2*c)}).subs({f:c*(3*c-e)/(c+e)}).subs({e : alpha*c})"
   ]
  },
  {
   "cell_type": "code",
   "execution_count": 10,
   "id": "66ef1618-ce5e-4caa-a96f-426df45c8d1c",
   "metadata": {},
   "outputs": [
    {
     "data": {
      "text/plain": [
       "1296"
      ]
     },
     "execution_count": 10,
     "metadata": {},
     "output_type": "execute_result"
    }
   ],
   "source": [
    "len(SE18.find_admissible_permutations())"
   ]
  },
  {
   "cell_type": "code",
   "execution_count": 11,
   "id": "82a3206d-e3ce-4887-b34b-a7a0d9f6d32c",
   "metadata": {},
   "outputs": [
    {
     "name": "stdout",
     "output_type": "stream",
     "text": [
      "CPU times: user 1.51 s, sys: 113 ms, total: 1.62 s\n",
      "Wall time: 12.3 s\n"
     ]
    }
   ],
   "source": [
    "%time adm_SE18 = SE18.find_admissible_projectivities()"
   ]
  },
  {
   "cell_type": "code",
   "execution_count": 12,
   "id": "5b90812c-a74b-46e8-81f8-3b7003de2793",
   "metadata": {},
   "outputs": [
    {
     "data": {
      "text/plain": [
       "648"
      ]
     },
     "execution_count": 12,
     "metadata": {},
     "output_type": "execute_result"
    }
   ],
   "source": [
    "len(adm_SE18)"
   ]
  },
  {
   "cell_type": "code",
   "execution_count": 13,
   "id": "cc6d9daf-e51f-4abd-990f-a3e46ea2d768",
   "metadata": {},
   "outputs": [
    {
     "name": "stdout",
     "output_type": "stream",
     "text": [
      "CPU times: user 1.3 s, sys: 85.6 ms, total: 1.39 s\n",
      "Wall time: 1.45 s\n"
     ]
    }
   ],
   "source": [
    "%time simm_SE18 = SE18.find_simmetries(adm_SE18)"
   ]
  },
  {
   "cell_type": "code",
   "execution_count": 14,
   "id": "3f8b6945-16c2-4191-bd0c-da03027eaeb6",
   "metadata": {},
   "outputs": [
    {
     "data": {
      "text/plain": [
       "648"
      ]
     },
     "execution_count": 14,
     "metadata": {},
     "output_type": "execute_result"
    }
   ],
   "source": [
    "len(simm_SE18)"
   ]
  },
  {
   "cell_type": "code",
   "execution_count": 18,
   "id": "90b3309a-0648-4fbe-ab7a-f62f151ba198",
   "metadata": {},
   "outputs": [],
   "source": [
    "G_SE18 = Group(simm_SE18)"
   ]
  },
  {
   "cell_type": "code",
   "execution_count": 19,
   "id": "910902f4-d67b-46d7-893a-73955275968a",
   "metadata": {},
   "outputs": [
    {
     "name": "stdout",
     "output_type": "stream",
     "text": [
      "CPU times: user 2min 4s, sys: 1 s, total: 2min 5s\n",
      "Wall time: 2min 6s\n"
     ]
    }
   ],
   "source": [
    "%%time\n",
    "for i in [0]:\n",
    "    g1 = G_SE18[i]\n",
    "    for g2 in G_SE18:\n",
    "        G_SE18.is_in_group(g1*g2)"
   ]
  },
  {
   "cell_type": "code",
   "execution_count": 21,
   "id": "b741a02d-2445-46c9-b801-1c748b3cc242",
   "metadata": {},
   "outputs": [],
   "source": [
    "#%time G_SE18.is_group()"
   ]
  },
  {
   "cell_type": "code",
   "execution_count": 22,
   "id": "2b85844e-b196-4d0f-82df-05ff22e8e19c",
   "metadata": {},
   "outputs": [
    {
     "data": {
      "text/plain": [
       "Non abelian group of order 648"
      ]
     },
     "execution_count": 22,
     "metadata": {},
     "output_type": "execute_result"
    }
   ],
   "source": [
    "G_SE18"
   ]
  },
  {
   "cell_type": "code",
   "execution_count": 23,
   "id": "23a69ec3-33f1-4ef5-bb25-08b5f3c3e2c3",
   "metadata": {},
   "outputs": [
    {
     "data": {
      "text/plain": [
       "648"
      ]
     },
     "execution_count": 23,
     "metadata": {},
     "output_type": "execute_result"
    }
   ],
   "source": [
    "G_SE18.get_order()"
   ]
  },
  {
   "cell_type": "code",
   "execution_count": 24,
   "id": "ff29bbf3-21ee-4b55-9b13-d7064b3da34e",
   "metadata": {},
   "outputs": [
    {
     "data": {
      "text/plain": [
       "False"
      ]
     },
     "execution_count": 24,
     "metadata": {},
     "output_type": "execute_result"
    }
   ],
   "source": [
    "G_SE18.is_abelian()"
   ]
  },
  {
   "cell_type": "code",
   "execution_count": 25,
   "id": "17ea6b30-25a0-429e-9d92-1043db058c2d",
   "metadata": {},
   "outputs": [
    {
     "data": {
      "text/plain": [
       "[1, 2, 3, 4, 6, 8, 9, 12, 18, 24, 27, 36, 54, 72, 81, 108, 162, 216, 324, 648]"
      ]
     },
     "execution_count": 25,
     "metadata": {},
     "output_type": "execute_result"
    }
   ],
   "source": [
    "G_SE18.get_divisors_of_order()"
   ]
  }
 ],
 "metadata": {
  "kernelspec": {
   "display_name": "SageMath 9.3",
   "language": "sage",
   "name": "sagemath"
  },
  "language_info": {
   "codemirror_mode": {
    "name": "ipython",
    "version": 3
   },
   "file_extension": ".py",
   "mimetype": "text/x-python",
   "name": "python",
   "nbconvert_exporter": "python",
   "pygments_lexer": "ipython3",
   "version": "3.7.10"
  }
 },
 "nbformat": 4,
 "nbformat_minor": 5
}
