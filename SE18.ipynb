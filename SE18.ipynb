{
 "cells": [
  {
   "cell_type": "code",
   "execution_count": 1,
   "id": "ee309c7b",
   "metadata": {},
   "outputs": [],
   "source": [
    "load('Imports/Utility.sage', 'Imports/Point.sage', 'Imports/Line.sage', 'Imports/TritangentPlane.sage', 'Imports/Group.sage', 'Imports/Cubic.sage')\n",
    "import multiprocessing as mp\n",
    "import pickle"
   ]
  },
  {
   "cell_type": "code",
   "execution_count": 2,
   "id": "ddaa1f4d-9357-4397-8d9e-23774786999b",
   "metadata": {},
   "outputs": [],
   "source": [
    "xx = QQ['xx'].0\n",
    "Q.<i_rad3> = NumberField(xx^2+3)"
   ]
  },
  {
   "cell_type": "code",
   "execution_count": 3,
   "id": "6bc7eb63-f964-49eb-a2a2-4f76bd0e26b5",
   "metadata": {},
   "outputs": [],
   "source": [
    "P.<x,y,z,t,b,c,d,e,f,l,m> = PolynomialRing(Q)\n",
    "cubic_new = e*f*(2*x^2*y-2*x*y^2+x*z^2-x*z*t-y*t^2+y*z*t)+b*c*(x-t)*(x*z+y*t)+c*c*(z+t)*(y*t-x*z)+d*c*(y-z)*(x*z+y*t)+(e+f)*c*(x-y)*(y*t-x*z)\n",
    "sing_cubics = (-1) * (-c + f) * (-c + e) * c * (c + f) * (c + e) * (-e + f)^2 * (-c*d + c*f + e*f) * (-c*d + c*e + e*f) * (-c^2 - c*d + e*f) * (b*c - c*f + e*f) * (b*c - c*e + e*f) * (b*c - c*d + 2*e*f) * (b*c - c^2 + e*f) * (b*c^2 + c^2*d + b*c*f - 2*c^2*f - c*d*f + 2*e*f^2) * (b*c^2 + c^2*d + b*c*e - 2*c^2*e - c*d*e + 2*e^2*f) * (-b*c^3 - 2*b*c^2*d + c^3*d + b*c^2*e + c^2*d*e + b*c^2*f + c^2*d*f + 3*b*c*e*f - 4*c^2*e*f - 3*c*d*e*f + 4*e^2*f^2)"
   ]
  },
  {
   "cell_type": "code",
   "execution_count": 4,
   "id": "b790f050-9ce7-4d1e-8b60-f50e8b1ac06b",
   "metadata": {},
   "outputs": [],
   "source": [
    "# Define cubic SE18, find and classify the lines and compute the 45 tritangent planes"
   ]
  },
  {
   "cell_type": "code",
   "execution_count": 5,
   "id": "cc700c3b-886c-4379-9032-3c0e04975c46",
   "metadata": {},
   "outputs": [
    {
     "name": "stdout",
     "output_type": "stream",
     "text": [
      "CPU times: user 3.12 s, sys: 3.47 ms, total: 3.12 s\n",
      "Wall time: 3.12 s\n"
     ]
    }
   ],
   "source": [
    "line = Line([y, z])\n",
    "general_cubic = Cubic(cubic_new, line, sing_cubics)\n",
    "%time SE18 = general_cubic.subs({b:-(c*c+e*f)/c, d:(3*e*f - c^2 + c*f + c*e)/(2*c)}).subs({f:c*(3*c-e)/(c+e)}).subs({e : i_rad3*c})"
   ]
  },
  {
   "cell_type": "code",
   "execution_count": 6,
   "id": "a5ec7cab-8b2f-485f-b5dd-1d1fee987912",
   "metadata": {},
   "outputs": [],
   "source": [
    "# Find simmetries"
   ]
  },
  {
   "cell_type": "code",
   "execution_count": 7,
   "id": "a77edc3d-1f77-49df-9795-acd4c5930b85",
   "metadata": {},
   "outputs": [
    {
     "name": "stdout",
     "output_type": "stream",
     "text": [
      "CPU times: user 801 ms, sys: 60.3 ms, total: 862 ms\n",
      "Wall time: 9.51 s\n"
     ]
    },
    {
     "data": {
      "text/plain": [
       "648"
      ]
     },
     "execution_count": 7,
     "metadata": {},
     "output_type": "execute_result"
    }
   ],
   "source": [
    "%time adm_SE18 = SE18.find_admissible_projectivities()\n",
    "len(adm_SE18)"
   ]
  },
  {
   "cell_type": "code",
   "execution_count": 8,
   "id": "8f3162fe-3b2f-4b0d-ba5d-52026be9f3d0",
   "metadata": {},
   "outputs": [
    {
     "name": "stdout",
     "output_type": "stream",
     "text": [
      "CPU times: user 848 ms, sys: 96.6 ms, total: 945 ms\n",
      "Wall time: 1.23 s\n"
     ]
    },
    {
     "data": {
      "text/plain": [
       "648"
      ]
     },
     "execution_count": 8,
     "metadata": {},
     "output_type": "execute_result"
    }
   ],
   "source": [
    "%time simm_SE18 = SE18.find_simmetries(adm_SE18)\n",
    "len(simm_SE18)"
   ]
  },
  {
   "cell_type": "code",
   "execution_count": 9,
   "id": "12755a70-bf01-4ab6-8e48-2c146ecf0ea2",
   "metadata": {},
   "outputs": [],
   "source": [
    "# Study how the simmetries permute the Eckardt points"
   ]
  },
  {
   "cell_type": "code",
   "execution_count": 10,
   "id": "b8a24ace-332f-40ba-9654-ad18d5504cc7",
   "metadata": {},
   "outputs": [
    {
     "name": "stdout",
     "output_type": "stream",
     "text": [
      "CPU times: user 7.36 s, sys: 83.6 ms, total: 7.45 s\n",
      "Wall time: 8.35 s\n"
     ]
    },
    {
     "data": {
      "text/plain": [
       "(648, '(((C3 x C3 x C3) : (C2 x C2)) : C3) : C2')"
      ]
     },
     "execution_count": 10,
     "metadata": {},
     "output_type": "execute_result"
    }
   ],
   "source": [
    "%%time\n",
    "Eck_points_perms = []\n",
    "for proj in simm_SE18:\n",
    "    Eck_points_perms.append(Permutation(SE18.apply_proj_to_eck(proj)).to_permutation_group_element())\n",
    "Eck_points_perms_group = PermutationGroup(Eck_points_perms)\n",
    "Eck_points_perms_group.order(), Eck_points_perms_group.structure_description()"
   ]
  },
  {
   "cell_type": "code",
   "execution_count": 11,
   "id": "ecaf28f2-58fd-47ea-bf6d-0f058f6ce053",
   "metadata": {},
   "outputs": [],
   "source": [
    "# Sage's description is not too helpful, but we actually know that the group \n",
    "# is isomorphic to (C3 X C3 X C3) : S4\n",
    "# What is this S4? It is the group of permutations of the four planes containing a C9 configuration\n",
    "# i.e. 12 coplanar lines passing through 9 Eckardt points"
   ]
  },
  {
   "cell_type": "code",
   "execution_count": 18,
   "id": "154911a1",
   "metadata": {},
   "outputs": [
    {
     "data": {
      "text/plain": [
       "42"
      ]
     },
     "execution_count": 18,
     "metadata": {},
     "output_type": "execute_result"
    }
   ],
   "source": [
    "# Build all the lines through three Eckardt points that are not contained is SE18\n",
    "lines_three_eck = []\n",
    "for i in range(16):\n",
    "    for j in range(i+1, 17):\n",
    "        for k in range(j+1, 18):\n",
    "            point1 = SE18.eckardt_points[i]\n",
    "            point2 = SE18.eckardt_points[j]\n",
    "            point3 = SE18.eckardt_points[k]   \n",
    "            line12_pl = Point(matrix([point1, point2]).minors(2))\n",
    "            line23_pl = Point(matrix([point2, point3]).minors(2))\n",
    "            if line12_pl == line23_pl and line12_pl not in [line.plucker for line in lines_three_eck]:\n",
    "                planes = get_two_planes_containing_line(point1, point2)\n",
    "                lines_three_eck.append(Line(planes,[point1, point2], line12_pl))\n",
    "len(lines_three_eck)"
   ]
  },
  {
   "cell_type": "code",
   "execution_count": 19,
   "id": "6e2e1c62",
   "metadata": {},
   "outputs": [
    {
     "data": {
      "text/plain": [
       "31"
      ]
     },
     "execution_count": 19,
     "metadata": {},
     "output_type": "execute_result"
    }
   ],
   "source": [
    "# Find all planes containing the lines through three Eckardt points\n",
    "planes = []\n",
    "for line in lines_three_eck:\n",
    "    for line2 in line.get_all_lines_incident_to_self(lines_three_eck):\n",
    "        planes.append(line.get_plane_containing_another_incident_line(line2))\n",
    "planes = list(set(planes))\n",
    "len(planes)"
   ]
  },
  {
   "cell_type": "code",
   "execution_count": 20,
   "id": "3e8bfa80",
   "metadata": {},
   "outputs": [
    {
     "data": {
      "text/plain": [
       "[x + (-alpha - 1)*y - t,\n",
       " x + (-1/4*alpha - 1/4)*y + (1/4*alpha + 1/4)*z,\n",
       " x + (alpha - 1)*y - t,\n",
       " x + (1/4*alpha - 1/4)*y + (-1/4*alpha + 1/4)*z]"
      ]
     },
     "execution_count": 20,
     "metadata": {},
     "output_type": "execute_result"
    }
   ],
   "source": [
    "# The four planes we are looking for are those containing exactly 12 lines on them\n",
    "c9_planes = [plane for plane in planes if [line.is_on_plane(plane) for line in lines_three_eck].count(True) == 12]\n",
    "c9_planes"
   ]
  },
  {
   "cell_type": "code",
   "execution_count": 12,
   "id": "e9d2d1bc",
   "metadata": {},
   "outputs": [],
   "source": [
    "nor_subs = Eck_points_perms_group.normal_subgroups()"
   ]
  },
  {
   "cell_type": "code",
   "execution_count": 13,
   "id": "b610ddae",
   "metadata": {},
   "outputs": [
    {
     "data": {
      "text/plain": [
       "('C3 x C3 x C3', True)"
      ]
     },
     "execution_count": 13,
     "metadata": {},
     "output_type": "execute_result"
    }
   ],
   "source": [
    "# all elements of H have order 3\n",
    "H = [el for el in nor_subs if el.order()==27][0]\n",
    "H.structure_description(), list(set([el.order() for el in H if el.cycle_tuples() != []])) == [3]"
   ]
  },
  {
   "cell_type": "code",
   "execution_count": 14,
   "id": "e16831f7",
   "metadata": {},
   "outputs": [
    {
     "data": {
      "text/plain": [
       "True"
      ]
     },
     "execution_count": 14,
     "metadata": {},
     "output_type": "execute_result"
    }
   ],
   "source": [
    "S4 = Eck_points_perms_group.quotient(H)\n",
    "S4.is_isomorphic(SymmetricGroup(4))"
   ]
  },
  {
   "cell_type": "code",
   "execution_count": 15,
   "id": "bd644125-1281-4f19-ba72-d6c201abcb36",
   "metadata": {},
   "outputs": [],
   "source": [
    "# We now want explicitly a subgroup isomorphic to S4"
   ]
  },
  {
   "cell_type": "code",
   "execution_count": 16,
   "id": "3e27e0c1",
   "metadata": {},
   "outputs": [
    {
     "name": "stdout",
     "output_type": "stream",
     "text": [
      "CPU times: user 50.4 s, sys: 120 ms, total: 50.5 s\n",
      "Wall time: 50.6 s\n"
     ]
    }
   ],
   "source": [
    "%time all_subgroups = Eck_points_perms_group.subgroups()"
   ]
  },
  {
   "cell_type": "code",
   "execution_count": 17,
   "id": "bc8035f2",
   "metadata": {},
   "outputs": [],
   "source": [
    "subS4 = [el for el in all_subgroups if el.is_isomorphic(S4)][0]\n",
    "gens_indices = [Eck_points_perms.index(gen) for gen in subS4.minimal_generating_set()]"
   ]
  },
  {
   "cell_type": "code",
   "execution_count": 21,
   "id": "1d29874c-bea2-40b9-8adb-b3b0387186ad",
   "metadata": {},
   "outputs": [],
   "source": [
    "# We see that the generators of S4 permute these four planes"
   ]
  },
  {
   "cell_type": "code",
   "execution_count": 22,
   "id": "dfb8d2db",
   "metadata": {},
   "outputs": [],
   "source": [
    "simms = [simm_SE18[index] for index in gens_indices]"
   ]
  },
  {
   "cell_type": "code",
   "execution_count": 23,
   "id": "2655eac4",
   "metadata": {},
   "outputs": [
    {
     "name": "stdout",
     "output_type": "stream",
     "text": [
      "True\n",
      "True\n",
      "True\n",
      "True\n",
      "True\n",
      "True\n",
      "True\n",
      "True\n"
     ]
    }
   ],
   "source": [
    "for simm in simms:\n",
    "    coord_change = change_coord(simm)\n",
    "    new_planes = [plane.subs(coord_change) for plane in c9_planes]\n",
    "    for new_plane in new_planes:\n",
    "        print(bool([matrix([plane_coefficients(old_plane), plane_coefficients(new_plane)]).minors(2) == [0,0,0,0,0,0] for old_plane in c9_planes]))"
   ]
  },
  {
   "cell_type": "code",
   "execution_count": 24,
   "id": "afc984e4",
   "metadata": {},
   "outputs": [],
   "source": [
    "# Study how the simmetries permute the 27 lines"
   ]
  },
  {
   "cell_type": "code",
   "execution_count": 25,
   "id": "e7101e1d-de7d-4cd8-8ba1-31e0fc504f87",
   "metadata": {},
   "outputs": [
    {
     "name": "stdout",
     "output_type": "stream",
     "text": [
      "CPU times: user 56 s, sys: 312 ms, total: 56.3 s\n",
      "Wall time: 57.2 s\n"
     ]
    },
    {
     "data": {
      "text/plain": [
       "(648, '(((C3 x C3 x C3) : (C2 x C2)) : C3) : C2')"
      ]
     },
     "execution_count": 25,
     "metadata": {},
     "output_type": "execute_result"
    }
   ],
   "source": [
    "%%time\n",
    "lines_perms = []\n",
    "for simm in simm_SE18:\n",
    "    lines_perms.append(Permutation(SE18.apply_proj_to_lines(simm)).to_permutation_group_element())\n",
    "lines_perms_group = PermutationGroup(lines_perms)\n",
    "lines_perms_group.order(), lines_perms_group.structure_description()"
   ]
  },
  {
   "cell_type": "code",
   "execution_count": null,
   "id": "a8c9d4f2-e9bb-4fd9-af21-fce76b261dfe",
   "metadata": {},
   "outputs": [],
   "source": []
  }
 ],
 "metadata": {
  "kernelspec": {
   "display_name": "SageMath 9.4",
   "language": "sage",
   "name": "sagemath"
  },
  "language_info": {
   "codemirror_mode": {
    "name": "ipython",
    "version": 3
   },
   "file_extension": ".py",
   "mimetype": "text/x-python",
   "name": "python",
   "nbconvert_exporter": "python",
   "pygments_lexer": "ipython3",
   "version": "3.7.12"
  }
 },
 "nbformat": 4,
 "nbformat_minor": 5
}
