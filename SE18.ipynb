{
 "cells": [
  {
   "cell_type": "code",
   "execution_count": 1,
   "id": "48b684a4-4981-40f7-9bac-3a2ba7666f34",
   "metadata": {},
   "outputs": [],
   "source": [
    "load('Imports/Utility.sage', 'Imports/Point.sage', 'Imports/Line.sage', 'Imports/TritangentPlane.sage', 'Imports/Group.sage', 'Imports/Cubic.sage')\n",
    "import multiprocessing as mp\n",
    "import pickle"
   ]
  },
  {
   "cell_type": "code",
   "execution_count": 2,
   "id": "e7202a79-c433-40bd-b512-57673085473d",
   "metadata": {},
   "outputs": [],
   "source": [
    "xx = QQ['xx'].0"
   ]
  },
  {
   "cell_type": "code",
   "execution_count": 3,
   "id": "e6d2b6be-d28d-47f2-ac85-83d37e13cc13",
   "metadata": {},
   "outputs": [],
   "source": [
    "Q.<alpha> = NumberField(xx^2+3)"
   ]
  },
  {
   "cell_type": "code",
   "execution_count": 4,
   "id": "07efe905-bfb6-4396-a28b-bfa071b334d4",
   "metadata": {},
   "outputs": [],
   "source": [
    "P.<x,y,z,t,b,c,d,e,f,l,m> = PolynomialRing(Q)"
   ]
  },
  {
   "cell_type": "code",
   "execution_count": 5,
   "id": "d3dafdce-309d-4146-b03f-557350ffaf21",
   "metadata": {},
   "outputs": [],
   "source": [
    "cubic_new = e*f*(2*x^2*y-2*x*y^2+x*z^2-x*z*t-y*t^2+y*z*t)+b*c*(x-t)*(x*z+y*t)+c*c*(z+t)*(y*t-x*z)+d*c*(y-z)*(x*z+y*t)+(e+f)*c*(x-y)*(y*t-x*z)"
   ]
  },
  {
   "cell_type": "code",
   "execution_count": 6,
   "id": "fe4d5cac-b773-4f66-b066-0f0ae04a54a4",
   "metadata": {},
   "outputs": [],
   "source": [
    "sing_cubics = (-1) * (-c + f) * (-c + e) * c * (c + f) * (c + e) * (-e + f)^2 * (-c*d + c*f + e*f) * (-c*d + c*e + e*f) * (-c^2 - c*d + e*f) * (b*c - c*f + e*f) * (b*c - c*e + e*f) * (b*c - c*d + 2*e*f) * (b*c - c^2 + e*f) * (b*c^2 + c^2*d + b*c*f - 2*c^2*f - c*d*f + 2*e*f^2) * (b*c^2 + c^2*d + b*c*e - 2*c^2*e - c*d*e + 2*e^2*f) * (-b*c^3 - 2*b*c^2*d + c^3*d + b*c^2*e + c^2*d*e + b*c^2*f + c^2*d*f + 3*b*c*e*f - 4*c^2*e*f - 3*c*d*e*f + 4*e^2*f^2)"
   ]
  },
  {
   "cell_type": "code",
   "execution_count": 7,
   "id": "f5d67b07-1f4e-4c44-85f5-e89dc5ce55b5",
   "metadata": {},
   "outputs": [],
   "source": [
    "line = Line([y, z])"
   ]
  },
  {
   "cell_type": "code",
   "execution_count": 8,
   "id": "61477c21-cf15-4148-8cc4-428b359c6bd0",
   "metadata": {},
   "outputs": [],
   "source": [
    "general_cubic = Cubic(cubic_new, line, sing_cubics)"
   ]
  },
  {
   "cell_type": "code",
   "execution_count": 9,
   "id": "bb8ad015-5e66-4d45-aba7-2df8c7d05daf",
   "metadata": {},
   "outputs": [
    {
     "name": "stdout",
     "output_type": "stream",
     "text": [
      "CPU times: user 5.71 s, sys: 4.59 ms, total: 5.72 s\n",
      "Wall time: 5.73 s\n"
     ]
    }
   ],
   "source": [
    "%time SE18 = general_cubic.subs({b:-(c*c+e*f)/c, d:(3*e*f - c^2 + c*f + c*e)/(2*c)}).subs({f:c*(3*c-e)/(c+e)}).subs({e : alpha*c})"
   ]
  },
  {
   "cell_type": "code",
   "execution_count": 10,
   "id": "66ef1618-ce5e-4caa-a96f-426df45c8d1c",
   "metadata": {},
   "outputs": [
    {
     "data": {
      "text/plain": [
       "1296"
      ]
     },
     "execution_count": 10,
     "metadata": {},
     "output_type": "execute_result"
    }
   ],
   "source": [
    "len(SE18.find_admissible_permutations())"
   ]
  },
  {
   "cell_type": "code",
   "execution_count": 11,
   "id": "82a3206d-e3ce-4887-b34b-a7a0d9f6d32c",
   "metadata": {},
   "outputs": [
    {
     "name": "stdout",
     "output_type": "stream",
     "text": [
      "CPU times: user 1.35 s, sys: 87.9 ms, total: 1.43 s\n",
      "Wall time: 12.5 s\n"
     ]
    }
   ],
   "source": [
    "%time adm_SE18 = SE18.find_admissible_projectivities()"
   ]
  },
  {
   "cell_type": "code",
   "execution_count": 12,
   "id": "5b90812c-a74b-46e8-81f8-3b7003de2793",
   "metadata": {},
   "outputs": [
    {
     "data": {
      "text/plain": [
       "648"
      ]
     },
     "execution_count": 12,
     "metadata": {},
     "output_type": "execute_result"
    }
   ],
   "source": [
    "len(adm_SE18)"
   ]
  },
  {
   "cell_type": "code",
   "execution_count": 13,
   "id": "cc6d9daf-e51f-4abd-990f-a3e46ea2d768",
   "metadata": {},
   "outputs": [
    {
     "name": "stdout",
     "output_type": "stream",
     "text": [
      "CPU times: user 1.4 s, sys: 168 ms, total: 1.57 s\n",
      "Wall time: 2.27 s\n"
     ]
    }
   ],
   "source": [
    "%time simm_SE18 = SE18.find_simmetries(adm_SE18)"
   ]
  },
  {
   "cell_type": "code",
   "execution_count": 14,
   "id": "3f8b6945-16c2-4191-bd0c-da03027eaeb6",
   "metadata": {},
   "outputs": [
    {
     "data": {
      "text/plain": [
       "648"
      ]
     },
     "execution_count": 14,
     "metadata": {},
     "output_type": "execute_result"
    }
   ],
   "source": [
    "len(simm_SE18)"
   ]
  },
  {
   "cell_type": "code",
   "execution_count": 44,
   "id": "d2ba508a-a6d8-49e4-80ad-21706a1301cd",
   "metadata": {},
   "outputs": [
    {
     "name": "stdout",
     "output_type": "stream",
     "text": [
      "CPU times: user 12.8 s, sys: 108 ms, total: 12.9 s\n",
      "Wall time: 12.9 s\n"
     ]
    }
   ],
   "source": [
    "%%time\n",
    "perms = []\n",
    "for el in simm_SE18:\n",
    "    perms.append(Permutation(SE18.apply_proj_to_eck(el)).to_permutation_group_element())"
   ]
  },
  {
   "cell_type": "code",
   "execution_count": 17,
   "id": "a5e43547-603e-496c-8d64-039f7b97e764",
   "metadata": {},
   "outputs": [],
   "source": [
    "gp = PermutationGroup(perms)"
   ]
  },
  {
   "cell_type": "code",
   "execution_count": 18,
   "id": "cb4211d3-5f30-48fc-8c02-42db7743fc67",
   "metadata": {},
   "outputs": [
    {
     "data": {
      "text/plain": [
       "648"
      ]
     },
     "execution_count": 18,
     "metadata": {},
     "output_type": "execute_result"
    }
   ],
   "source": [
    "gp.order()"
   ]
  },
  {
   "cell_type": "code",
   "execution_count": 19,
   "id": "f8e650c6-9b71-4d29-8a04-e45267057a41",
   "metadata": {},
   "outputs": [
    {
     "data": {
      "text/plain": [
       "'(((C3 x C3 x C3) : (C2 x C2)) : C3) : C2'"
      ]
     },
     "execution_count": 19,
     "metadata": {},
     "output_type": "execute_result"
    }
   ],
   "source": [
    "gp.structure_description()"
   ]
  },
  {
   "cell_type": "code",
   "execution_count": 20,
   "id": "29dfeef2-0a5f-43ed-829c-8292dfec92bb",
   "metadata": {},
   "outputs": [],
   "source": [
    "nor_subs = gp.normal_subgroups()"
   ]
  },
  {
   "cell_type": "code",
   "execution_count": 21,
   "id": "22700c34-c21d-4568-b4c2-aec8f83e548b",
   "metadata": {},
   "outputs": [],
   "source": [
    "nor_sub = [el for el in nor_subs if el.order()==27][0]"
   ]
  },
  {
   "cell_type": "code",
   "execution_count": 22,
   "id": "8ea2f0df-ff34-4d74-924b-065ad0473402",
   "metadata": {},
   "outputs": [
    {
     "data": {
      "text/plain": [
       "'C3 x C3 x C3'"
      ]
     },
     "execution_count": 22,
     "metadata": {},
     "output_type": "execute_result"
    }
   ],
   "source": [
    "nor_sub.structure_description()"
   ]
  },
  {
   "cell_type": "code",
   "execution_count": 23,
   "id": "cdf70823-8c2b-452f-a453-18cef2da8dff",
   "metadata": {},
   "outputs": [],
   "source": [
    "S4 = gp.quotient(nor_sub)"
   ]
  },
  {
   "cell_type": "code",
   "execution_count": 24,
   "id": "7088c1b9-0157-45b8-bbfb-8873967d7e9a",
   "metadata": {},
   "outputs": [
    {
     "data": {
      "text/plain": [
       "True"
      ]
     },
     "execution_count": 24,
     "metadata": {},
     "output_type": "execute_result"
    }
   ],
   "source": [
    "S4.is_isomorphic(SymmetricGroup(4))"
   ]
  },
  {
   "cell_type": "code",
   "execution_count": 45,
   "id": "7e9c0f1f-c684-4fad-9e34-004d28ed61a2",
   "metadata": {},
   "outputs": [
    {
     "name": "stdout",
     "output_type": "stream",
     "text": [
      "CPU times: user 1min 23s, sys: 73.7 ms, total: 1min 23s\n",
      "Wall time: 1min 23s\n"
     ]
    }
   ],
   "source": [
    "%time sub = gp.subgroups()"
   ]
  },
  {
   "cell_type": "code",
   "execution_count": 26,
   "id": "ab6571fa-5f72-46c4-880c-9981f0c6be85",
   "metadata": {},
   "outputs": [
    {
     "data": {
      "text/plain": [
       "928"
      ]
     },
     "execution_count": 26,
     "metadata": {},
     "output_type": "execute_result"
    }
   ],
   "source": [
    "len(sub)"
   ]
  },
  {
   "cell_type": "code",
   "execution_count": 27,
   "id": "635c3bb1-aaaf-4124-ad83-263815fd8d0b",
   "metadata": {},
   "outputs": [],
   "source": [
    "subS4 = [el for el in sub if el.is_isomorphic(S4)][0]"
   ]
  },
  {
   "cell_type": "code",
   "execution_count": 28,
   "id": "9333a647-9599-45a2-8d52-aecd6c7bf7c2",
   "metadata": {},
   "outputs": [
    {
     "data": {
      "text/plain": [
       "[(1,5,9)(2,7,17)(3,13,10)(4,8,12)(6,11,15)(14,18,16),\n",
       " (1,2)(3,4,15,16)(5,17,7,9)(6,12,8,10)(11,13,18,14)]"
      ]
     },
     "execution_count": 28,
     "metadata": {},
     "output_type": "execute_result"
    }
   ],
   "source": [
    "subS4.gens_small()"
   ]
  },
  {
   "cell_type": "code",
   "execution_count": 29,
   "id": "a9c377bd-d2f2-497b-819f-8068d158e675",
   "metadata": {},
   "outputs": [],
   "source": [
    "gens_indices = [perms.index(gen) for gen in subS4.minimal_generating_set()]"
   ]
  },
  {
   "cell_type": "code",
   "execution_count": 30,
   "id": "348f92ff-2e6a-49d5-9d4d-5ef5e2cb3352",
   "metadata": {},
   "outputs": [],
   "source": [
    "eck_labels = SE18.eckardt_points_labels\n",
    "lines_three_eck = []\n",
    "for i in range(16):\n",
    "    for j in range(i+1, 17):\n",
    "        for k in range(j+1, 18):\n",
    "            point1 = SE18.eckardt_points[i]\n",
    "            point2 = SE18.eckardt_points[j]\n",
    "            point3 = SE18.eckardt_points[k]   \n",
    "            line12_pl = Point(matrix([point1, point2]).minors(2))\n",
    "            line23_pl = Point(matrix([point2, point3]).minors(2))\n",
    "            if line12_pl == line23_pl and line12_pl not in [line.plucker for line in lines_three_eck]:\n",
    "                planes = get_planes(line12_pl)\n",
    "                lines_three_eck.append(Line(planes,[point1, point2], line12_pl))"
   ]
  },
  {
   "cell_type": "code",
   "execution_count": 31,
   "id": "2e38fbcd-e018-4b17-98eb-7c096401492c",
   "metadata": {},
   "outputs": [
    {
     "data": {
      "text/plain": [
       "42"
      ]
     },
     "execution_count": 31,
     "metadata": {},
     "output_type": "execute_result"
    }
   ],
   "source": [
    "len(lines_three_eck)"
   ]
  },
  {
   "cell_type": "code",
   "execution_count": 32,
   "id": "cc757692-c9c2-4437-8372-63bda5f86f7c",
   "metadata": {},
   "outputs": [],
   "source": [
    "planes = []\n",
    "for line in lines_three_eck:\n",
    "    for line2 in line.get_all_lines_incident_to_self(lines_three_eck):\n",
    "        planes.append(get_plane_containing_two_incident_lines(line, line2))\n",
    "planes = list(set(planes))"
   ]
  },
  {
   "cell_type": "code",
   "execution_count": 33,
   "id": "b41e45d1-0936-44ce-ba3d-7dd27afbf724",
   "metadata": {},
   "outputs": [
    {
     "data": {
      "text/plain": [
       "31"
      ]
     },
     "execution_count": 33,
     "metadata": {},
     "output_type": "execute_result"
    }
   ],
   "source": [
    "len(planes)"
   ]
  },
  {
   "cell_type": "code",
   "execution_count": 34,
   "id": "4a2157d3-29b3-4555-b5bb-0b8e666f5eb4",
   "metadata": {},
   "outputs": [],
   "source": [
    "c9_planes = [plane for plane in planes if [line.is_on_plane(plane) for line in lines_three_eck].count(True) == 12]"
   ]
  },
  {
   "cell_type": "code",
   "execution_count": 35,
   "id": "df925814-f0ac-4ba6-9e48-0af072962f56",
   "metadata": {},
   "outputs": [
    {
     "data": {
      "text/plain": [
       "[x + (alpha - 1)*y - t,\n",
       " x + (-1/4*alpha - 1/4)*y + (1/4*alpha + 1/4)*z,\n",
       " x + (-alpha - 1)*y - t,\n",
       " x + (1/4*alpha - 1/4)*y + (-1/4*alpha + 1/4)*z]"
      ]
     },
     "execution_count": 35,
     "metadata": {},
     "output_type": "execute_result"
    }
   ],
   "source": [
    "c9_planes"
   ]
  },
  {
   "cell_type": "code",
   "execution_count": 36,
   "id": "38b0d71e-1292-4b2b-ba5f-2cd14a7a04d5",
   "metadata": {},
   "outputs": [],
   "source": [
    "simms = [simm_SE18[index] for index in gens_indices]"
   ]
  },
  {
   "cell_type": "code",
   "execution_count": 37,
   "id": "d787f223-4037-4f01-bdcc-f68ccfa2cd02",
   "metadata": {},
   "outputs": [
    {
     "name": "stdout",
     "output_type": "stream",
     "text": [
      "True\n",
      "True\n",
      "True\n",
      "True\n",
      "True\n",
      "True\n",
      "True\n",
      "True\n"
     ]
    }
   ],
   "source": [
    "for simm in simms:\n",
    "    coord_change = change_coord(simm)\n",
    "    new_planes = [plane.subs(coord_change) for plane in c9_planes]\n",
    "    for new_plane in new_planes:\n",
    "        print(bool([matrix([plane_coefficients(old_plane), plane_coefficients(new_plane)]).minors(2) == [0,0,0,0,0,0] for old_plane in c9_planes]))"
   ]
  },
  {
   "cell_type": "code",
   "execution_count": null,
   "id": "56610b3a-6059-4588-b06b-abbd719d843e",
   "metadata": {},
   "outputs": [],
   "source": []
  },
  {
   "cell_type": "code",
   "execution_count": 39,
   "id": "3502b7f8-7f18-4fd3-b65f-ab7deb702c53",
   "metadata": {},
   "outputs": [],
   "source": [
    "keys = list(SE18.cl_lines.keys())"
   ]
  },
  {
   "cell_type": "code",
   "execution_count": 40,
   "id": "60ed5e2f-8166-4596-a52e-7d756df87d53",
   "metadata": {},
   "outputs": [
    {
     "name": "stdout",
     "output_type": "stream",
     "text": [
      "CPU times: user 1min 36s, sys: 992 ms, total: 1min 37s\n",
      "Wall time: 1min 38s\n"
     ]
    }
   ],
   "source": [
    "%%time \n",
    "perms_lines = []\n",
    "for simm in simm_SE18:\n",
    "    perms_lines.append(Permutation(SE18.apply_proj_to_lines(simm)).to_cycles())"
   ]
  },
  {
   "cell_type": "code",
   "execution_count": 41,
   "id": "f31961f8-8e78-46ea-9209-3a0874f1cf39",
   "metadata": {},
   "outputs": [],
   "source": [
    "Gr = PermutationGroup(perms_lines)"
   ]
  },
  {
   "cell_type": "code",
   "execution_count": 42,
   "id": "574cf137-fcf7-4274-8794-391717db8690",
   "metadata": {},
   "outputs": [
    {
     "data": {
      "text/plain": [
       "648"
      ]
     },
     "execution_count": 42,
     "metadata": {},
     "output_type": "execute_result"
    }
   ],
   "source": [
    "Gr.order()"
   ]
  },
  {
   "cell_type": "code",
   "execution_count": 43,
   "id": "9d3a73fc-7e5f-4d71-a0fb-cf3ab8d47a84",
   "metadata": {},
   "outputs": [
    {
     "data": {
      "text/plain": [
       "'(((C3 x C3 x C3) : (C2 x C2)) : C3) : C2'"
      ]
     },
     "execution_count": 43,
     "metadata": {},
     "output_type": "execute_result"
    }
   ],
   "source": [
    "Gr.structure_description()"
   ]
  },
  {
   "cell_type": "code",
   "execution_count": null,
   "id": "a2aafdfe-a364-4831-828f-af9da8274b63",
   "metadata": {},
   "outputs": [],
   "source": []
  }
 ],
 "metadata": {
  "kernelspec": {
   "display_name": "SageMath 9.4",
   "language": "sage",
   "name": "sagemath"
  },
  "language_info": {
   "codemirror_mode": {
    "name": "ipython",
    "version": 3
   },
   "file_extension": ".py",
   "mimetype": "text/x-python",
   "name": "python",
   "nbconvert_exporter": "python",
   "pygments_lexer": "ipython3",
   "version": "3.7.12"
  }
 },
 "nbformat": 4,
 "nbformat_minor": 5
}
